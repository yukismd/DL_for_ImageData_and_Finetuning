{
 "cells": [
  {
   "cell_type": "code",
   "execution_count": null,
   "id": "77f83b0e",
   "metadata": {},
   "outputs": [],
   "source": []
  },
  {
   "cell_type": "code",
   "execution_count": 8,
   "id": "f04ddf07",
   "metadata": {},
   "outputs": [],
   "source": [
    "import os\n",
    "import glob\n",
    "\n",
    "import pandas as pd\n",
    "import cv2"
   ]
  },
  {
   "cell_type": "code",
   "execution_count": 2,
   "id": "52a742ec",
   "metadata": {},
   "outputs": [
    {
     "name": "stdout",
     "output_type": "stream",
     "text": [
      "\u001b[34m_tmp\u001b[m\u001b[m                         cifar10_sample_DAI_train.zip\r\n",
      "archive.zip                  \u001b[34mcifar10_sample_HT\u001b[m\u001b[m\r\n",
      "\u001b[34mcifar10_sample_DAI_test\u001b[m\u001b[m      cifar10_sample_HT.zip\r\n",
      "cifar10_sample_DAI_test.zip  \u001b[34mimages\u001b[m\u001b[m\r\n",
      "\u001b[34mcifar10_sample_DAI_train\u001b[m\u001b[m     train_v2.csv\r\n"
     ]
    }
   ],
   "source": [
    "!ls tmp"
   ]
  },
  {
   "cell_type": "code",
   "execution_count": 3,
   "id": "d2b591ea",
   "metadata": {},
   "outputs": [
    {
     "name": "stdout",
     "output_type": "stream",
     "text": [
      "   50000   50000  488894\r\n"
     ]
    }
   ],
   "source": [
    "!ls tmp/images | wc"
   ]
  },
  {
   "cell_type": "code",
   "execution_count": 5,
   "id": "2947239d",
   "metadata": {},
   "outputs": [
    {
     "name": "stdout",
     "output_type": "stream",
     "text": [
      "\u001b[34mimages\u001b[m\u001b[m    test.csv  train.csv\r\n"
     ]
    }
   ],
   "source": [
    "!ls tmp/cifar10_sample_HT"
   ]
  },
  {
   "cell_type": "code",
   "execution_count": 6,
   "id": "dbf78b0b",
   "metadata": {},
   "outputs": [
    {
     "name": "stdout",
     "output_type": "stream",
     "text": [
      "   12000   12000  117332\r\n"
     ]
    }
   ],
   "source": [
    "!ls tmp/cifar10_sample_HT/images | wc"
   ]
  },
  {
   "cell_type": "code",
   "execution_count": 12,
   "id": "b055b2ea",
   "metadata": {},
   "outputs": [
    {
     "name": "stdout",
     "output_type": "stream",
     "text": [
      "12000\n"
     ]
    },
    {
     "data": {
      "text/plain": [
       "['tmp/cifar10_sample_HT/images/20037.png',\n",
       " 'tmp/cifar10_sample_HT/images/38678.png',\n",
       " 'tmp/cifar10_sample_HT/images/8820.png',\n",
       " 'tmp/cifar10_sample_HT/images/34042.png',\n",
       " 'tmp/cifar10_sample_HT/images/348.png',\n",
       " 'tmp/cifar10_sample_HT/images/15932.png',\n",
       " 'tmp/cifar10_sample_HT/images/25629.png',\n",
       " 'tmp/cifar10_sample_HT/images/36133.png',\n",
       " 'tmp/cifar10_sample_HT/images/31884.png',\n",
       " 'tmp/cifar10_sample_HT/images/36127.png']"
      ]
     },
     "execution_count": 12,
     "metadata": {},
     "output_type": "execute_result"
    }
   ],
   "source": [
    "files = glob.glob(\"tmp/cifar10_sample_HT/images/*\")\n",
    "print(len(files))\n",
    "files[:10]"
   ]
  },
  {
   "cell_type": "code",
   "execution_count": 13,
   "id": "bae2351c",
   "metadata": {},
   "outputs": [
    {
     "data": {
      "text/plain": [
       "(12000, 6)"
      ]
     },
     "execution_count": 13,
     "metadata": {},
     "output_type": "execute_result"
    }
   ],
   "source": [
    "H, W, C = [], [], []\n",
    "v_mean, v_min, v_max = [], [], []\n",
    "im_pathes = []\n",
    "for f in files:\n",
    "    #im_path = os.path.join('tmp', 'additional', f)\n",
    "    #im_pathes.append(im_path)\n",
    "    im = cv2.imread(f)\n",
    "    H.append(im.shape[0])\n",
    "    W.append(im.shape[1])\n",
    "    C.append(im.shape[2])\n",
    "    v_mean.append(im.mean())\n",
    "    v_min.append(im.min()*1.0)\n",
    "    v_max.append(im.max()*1.0)\n",
    "df_shape = pd.DataFrame({'H':H, 'W':W, 'C':C, 'val_mean':v_mean, 'val_min':v_min, 'val_max':v_max})\n",
    "df_shape.shape"
   ]
  },
  {
   "cell_type": "code",
   "execution_count": 14,
   "id": "6508190b",
   "metadata": {},
   "outputs": [
    {
     "data": {
      "text/html": [
       "<div>\n",
       "<style scoped>\n",
       "    .dataframe tbody tr th:only-of-type {\n",
       "        vertical-align: middle;\n",
       "    }\n",
       "\n",
       "    .dataframe tbody tr th {\n",
       "        vertical-align: top;\n",
       "    }\n",
       "\n",
       "    .dataframe thead th {\n",
       "        text-align: right;\n",
       "    }\n",
       "</style>\n",
       "<table border=\"1\" class=\"dataframe\">\n",
       "  <thead>\n",
       "    <tr style=\"text-align: right;\">\n",
       "      <th></th>\n",
       "      <th>H</th>\n",
       "      <th>W</th>\n",
       "      <th>C</th>\n",
       "      <th>val_mean</th>\n",
       "      <th>val_min</th>\n",
       "      <th>val_max</th>\n",
       "    </tr>\n",
       "  </thead>\n",
       "  <tbody>\n",
       "    <tr>\n",
       "      <th>0</th>\n",
       "      <td>32</td>\n",
       "      <td>32</td>\n",
       "      <td>3</td>\n",
       "      <td>128.983724</td>\n",
       "      <td>8.0</td>\n",
       "      <td>248.0</td>\n",
       "    </tr>\n",
       "    <tr>\n",
       "      <th>1</th>\n",
       "      <td>32</td>\n",
       "      <td>32</td>\n",
       "      <td>3</td>\n",
       "      <td>214.869792</td>\n",
       "      <td>30.0</td>\n",
       "      <td>255.0</td>\n",
       "    </tr>\n",
       "    <tr>\n",
       "      <th>2</th>\n",
       "      <td>32</td>\n",
       "      <td>32</td>\n",
       "      <td>3</td>\n",
       "      <td>137.117513</td>\n",
       "      <td>13.0</td>\n",
       "      <td>233.0</td>\n",
       "    </tr>\n",
       "    <tr>\n",
       "      <th>3</th>\n",
       "      <td>32</td>\n",
       "      <td>32</td>\n",
       "      <td>3</td>\n",
       "      <td>115.668620</td>\n",
       "      <td>19.0</td>\n",
       "      <td>241.0</td>\n",
       "    </tr>\n",
       "    <tr>\n",
       "      <th>4</th>\n",
       "      <td>32</td>\n",
       "      <td>32</td>\n",
       "      <td>3</td>\n",
       "      <td>93.056315</td>\n",
       "      <td>8.0</td>\n",
       "      <td>192.0</td>\n",
       "    </tr>\n",
       "    <tr>\n",
       "      <th>...</th>\n",
       "      <td>...</td>\n",
       "      <td>...</td>\n",
       "      <td>...</td>\n",
       "      <td>...</td>\n",
       "      <td>...</td>\n",
       "      <td>...</td>\n",
       "    </tr>\n",
       "    <tr>\n",
       "      <th>11995</th>\n",
       "      <td>32</td>\n",
       "      <td>32</td>\n",
       "      <td>3</td>\n",
       "      <td>87.563151</td>\n",
       "      <td>14.0</td>\n",
       "      <td>243.0</td>\n",
       "    </tr>\n",
       "    <tr>\n",
       "      <th>11996</th>\n",
       "      <td>32</td>\n",
       "      <td>32</td>\n",
       "      <td>3</td>\n",
       "      <td>104.201823</td>\n",
       "      <td>6.0</td>\n",
       "      <td>255.0</td>\n",
       "    </tr>\n",
       "    <tr>\n",
       "      <th>11997</th>\n",
       "      <td>32</td>\n",
       "      <td>32</td>\n",
       "      <td>3</td>\n",
       "      <td>125.151042</td>\n",
       "      <td>0.0</td>\n",
       "      <td>250.0</td>\n",
       "    </tr>\n",
       "    <tr>\n",
       "      <th>11998</th>\n",
       "      <td>32</td>\n",
       "      <td>32</td>\n",
       "      <td>3</td>\n",
       "      <td>102.120768</td>\n",
       "      <td>4.0</td>\n",
       "      <td>248.0</td>\n",
       "    </tr>\n",
       "    <tr>\n",
       "      <th>11999</th>\n",
       "      <td>32</td>\n",
       "      <td>32</td>\n",
       "      <td>3</td>\n",
       "      <td>85.591471</td>\n",
       "      <td>0.0</td>\n",
       "      <td>253.0</td>\n",
       "    </tr>\n",
       "  </tbody>\n",
       "</table>\n",
       "<p>12000 rows × 6 columns</p>\n",
       "</div>"
      ],
      "text/plain": [
       "        H   W  C    val_mean  val_min  val_max\n",
       "0      32  32  3  128.983724      8.0    248.0\n",
       "1      32  32  3  214.869792     30.0    255.0\n",
       "2      32  32  3  137.117513     13.0    233.0\n",
       "3      32  32  3  115.668620     19.0    241.0\n",
       "4      32  32  3   93.056315      8.0    192.0\n",
       "...    ..  .. ..         ...      ...      ...\n",
       "11995  32  32  3   87.563151     14.0    243.0\n",
       "11996  32  32  3  104.201823      6.0    255.0\n",
       "11997  32  32  3  125.151042      0.0    250.0\n",
       "11998  32  32  3  102.120768      4.0    248.0\n",
       "11999  32  32  3   85.591471      0.0    253.0\n",
       "\n",
       "[12000 rows x 6 columns]"
      ]
     },
     "execution_count": 14,
     "metadata": {},
     "output_type": "execute_result"
    }
   ],
   "source": [
    "df_shape"
   ]
  },
  {
   "cell_type": "code",
   "execution_count": 15,
   "id": "b260282b",
   "metadata": {},
   "outputs": [
    {
     "data": {
      "text/html": [
       "<div>\n",
       "<style scoped>\n",
       "    .dataframe tbody tr th:only-of-type {\n",
       "        vertical-align: middle;\n",
       "    }\n",
       "\n",
       "    .dataframe tbody tr th {\n",
       "        vertical-align: top;\n",
       "    }\n",
       "\n",
       "    .dataframe thead th {\n",
       "        text-align: right;\n",
       "    }\n",
       "</style>\n",
       "<table border=\"1\" class=\"dataframe\">\n",
       "  <thead>\n",
       "    <tr style=\"text-align: right;\">\n",
       "      <th></th>\n",
       "      <th>H</th>\n",
       "      <th>W</th>\n",
       "      <th>C</th>\n",
       "      <th>val_mean</th>\n",
       "      <th>val_min</th>\n",
       "      <th>val_max</th>\n",
       "    </tr>\n",
       "  </thead>\n",
       "  <tbody>\n",
       "    <tr>\n",
       "      <th>count</th>\n",
       "      <td>12000.0</td>\n",
       "      <td>12000.0</td>\n",
       "      <td>12000.0</td>\n",
       "      <td>12000.000000</td>\n",
       "      <td>12000.000000</td>\n",
       "      <td>12000.000000</td>\n",
       "    </tr>\n",
       "    <tr>\n",
       "      <th>mean</th>\n",
       "      <td>32.0</td>\n",
       "      <td>32.0</td>\n",
       "      <td>3.0</td>\n",
       "      <td>121.208114</td>\n",
       "      <td>11.655583</td>\n",
       "      <td>240.114833</td>\n",
       "    </tr>\n",
       "    <tr>\n",
       "      <th>std</th>\n",
       "      <td>0.0</td>\n",
       "      <td>0.0</td>\n",
       "      <td>0.0</td>\n",
       "      <td>32.176731</td>\n",
       "      <td>14.398301</td>\n",
       "      <td>20.174371</td>\n",
       "    </tr>\n",
       "    <tr>\n",
       "      <th>min</th>\n",
       "      <td>32.0</td>\n",
       "      <td>32.0</td>\n",
       "      <td>3.0</td>\n",
       "      <td>21.643229</td>\n",
       "      <td>0.000000</td>\n",
       "      <td>102.000000</td>\n",
       "    </tr>\n",
       "    <tr>\n",
       "      <th>25%</th>\n",
       "      <td>32.0</td>\n",
       "      <td>32.0</td>\n",
       "      <td>3.0</td>\n",
       "      <td>99.732585</td>\n",
       "      <td>0.000000</td>\n",
       "      <td>232.000000</td>\n",
       "    </tr>\n",
       "    <tr>\n",
       "      <th>50%</th>\n",
       "      <td>32.0</td>\n",
       "      <td>32.0</td>\n",
       "      <td>3.0</td>\n",
       "      <td>119.626139</td>\n",
       "      <td>7.000000</td>\n",
       "      <td>249.000000</td>\n",
       "    </tr>\n",
       "    <tr>\n",
       "      <th>75%</th>\n",
       "      <td>32.0</td>\n",
       "      <td>32.0</td>\n",
       "      <td>3.0</td>\n",
       "      <td>140.648031</td>\n",
       "      <td>18.000000</td>\n",
       "      <td>255.000000</td>\n",
       "    </tr>\n",
       "    <tr>\n",
       "      <th>max</th>\n",
       "      <td>32.0</td>\n",
       "      <td>32.0</td>\n",
       "      <td>3.0</td>\n",
       "      <td>238.089518</td>\n",
       "      <td>117.000000</td>\n",
       "      <td>255.000000</td>\n",
       "    </tr>\n",
       "  </tbody>\n",
       "</table>\n",
       "</div>"
      ],
      "text/plain": [
       "             H        W        C      val_mean       val_min       val_max\n",
       "count  12000.0  12000.0  12000.0  12000.000000  12000.000000  12000.000000\n",
       "mean      32.0     32.0      3.0    121.208114     11.655583    240.114833\n",
       "std        0.0      0.0      0.0     32.176731     14.398301     20.174371\n",
       "min       32.0     32.0      3.0     21.643229      0.000000    102.000000\n",
       "25%       32.0     32.0      3.0     99.732585      0.000000    232.000000\n",
       "50%       32.0     32.0      3.0    119.626139      7.000000    249.000000\n",
       "75%       32.0     32.0      3.0    140.648031     18.000000    255.000000\n",
       "max       32.0     32.0      3.0    238.089518    117.000000    255.000000"
      ]
     },
     "execution_count": 15,
     "metadata": {},
     "output_type": "execute_result"
    }
   ],
   "source": [
    "df_shape.describe()"
   ]
  },
  {
   "cell_type": "markdown",
   "id": "a30b8d5c",
   "metadata": {},
   "source": [
    "画像サイズはすべて32*32"
   ]
  },
  {
   "cell_type": "code",
   "execution_count": null,
   "id": "8ace6df6",
   "metadata": {},
   "outputs": [],
   "source": []
  }
 ],
 "metadata": {
  "kernelspec": {
   "display_name": "Python 3 (ipykernel)",
   "language": "python",
   "name": "python3"
  },
  "language_info": {
   "codemirror_mode": {
    "name": "ipython",
    "version": 3
   },
   "file_extension": ".py",
   "mimetype": "text/x-python",
   "name": "python",
   "nbconvert_exporter": "python",
   "pygments_lexer": "ipython3",
   "version": "3.8.13"
  }
 },
 "nbformat": 4,
 "nbformat_minor": 5
}
