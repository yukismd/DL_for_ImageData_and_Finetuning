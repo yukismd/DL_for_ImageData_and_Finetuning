{
 "cells": [
  {
   "cell_type": "markdown",
   "id": "fd5da711",
   "metadata": {},
   "source": [
    "HTとDAI用データセットの作成"
   ]
  },
  {
   "cell_type": "markdown",
   "id": "850cf6f5",
   "metadata": {},
   "source": [
    "Original Data DL: https://sample-data-open.s3.ap-northeast-1.amazonaws.com/productdefect_classification_6classes/Product_defect_classification.zip"
   ]
  },
  {
   "cell_type": "code",
   "execution_count": 61,
   "id": "824f6a92",
   "metadata": {},
   "outputs": [],
   "source": [
    "import os\n",
    "import shutil\n",
    "\n",
    "import pandas as pd\n",
    "import numpy as np"
   ]
  },
  {
   "cell_type": "code",
   "execution_count": 4,
   "id": "88ea1983",
   "metadata": {},
   "outputs": [
    {
     "name": "stdout",
     "output_type": "stream",
     "text": [
      "normal_defect_dataset.csv      normal_defect_dataset_test.csv\r\n",
      "normal_defect_dataset2.csv     \u001b[34mnormaldefect_image\u001b[m\u001b[m\r\n"
     ]
    }
   ],
   "source": [
    "!ls tmp/normal_defect"
   ]
  },
  {
   "cell_type": "code",
   "execution_count": 8,
   "id": "9167de65",
   "metadata": {},
   "outputs": [
    {
     "name": "stdout",
     "output_type": "stream",
     "text": [
      "    2101\r\n"
     ]
    }
   ],
   "source": [
    "!ls -l tmp/normal_defect/normaldefect_image | wc -l"
   ]
  },
  {
   "cell_type": "code",
   "execution_count": 74,
   "id": "7a17d2b4",
   "metadata": {},
   "outputs": [
    {
     "name": "stdout",
     "output_type": "stream",
     "text": [
      "(1680, 3)\n"
     ]
    },
    {
     "data": {
      "text/html": [
       "<div>\n",
       "<style scoped>\n",
       "    .dataframe tbody tr th:only-of-type {\n",
       "        vertical-align: middle;\n",
       "    }\n",
       "\n",
       "    .dataframe tbody tr th {\n",
       "        vertical-align: top;\n",
       "    }\n",
       "\n",
       "    .dataframe thead th {\n",
       "        text-align: right;\n",
       "    }\n",
       "</style>\n",
       "<table border=\"1\" class=\"dataframe\">\n",
       "  <thead>\n",
       "    <tr style=\"text-align: right;\">\n",
       "      <th></th>\n",
       "      <th>Unnamed: 0</th>\n",
       "      <th>images</th>\n",
       "      <th>label</th>\n",
       "    </tr>\n",
       "  </thead>\n",
       "  <tbody>\n",
       "    <tr>\n",
       "      <th>0</th>\n",
       "      <td>0</td>\n",
       "      <td>1.jpg</td>\n",
       "      <td>crazing</td>\n",
       "    </tr>\n",
       "    <tr>\n",
       "      <th>1</th>\n",
       "      <td>1</td>\n",
       "      <td>2.jpg</td>\n",
       "      <td>crazing</td>\n",
       "    </tr>\n",
       "    <tr>\n",
       "      <th>2</th>\n",
       "      <td>2</td>\n",
       "      <td>3.jpg</td>\n",
       "      <td>crazing</td>\n",
       "    </tr>\n",
       "    <tr>\n",
       "      <th>3</th>\n",
       "      <td>3</td>\n",
       "      <td>4.jpg</td>\n",
       "      <td>crazing</td>\n",
       "    </tr>\n",
       "    <tr>\n",
       "      <th>4</th>\n",
       "      <td>4</td>\n",
       "      <td>5.jpg</td>\n",
       "      <td>crazing</td>\n",
       "    </tr>\n",
       "  </tbody>\n",
       "</table>\n",
       "</div>"
      ],
      "text/plain": [
       "   Unnamed: 0 images    label\n",
       "0           0  1.jpg  crazing\n",
       "1           1  2.jpg  crazing\n",
       "2           2  3.jpg  crazing\n",
       "3           3  4.jpg  crazing\n",
       "4           4  5.jpg  crazing"
      ]
     },
     "metadata": {},
     "output_type": "display_data"
    },
    {
     "data": {
      "text/html": [
       "<div>\n",
       "<style scoped>\n",
       "    .dataframe tbody tr th:only-of-type {\n",
       "        vertical-align: middle;\n",
       "    }\n",
       "\n",
       "    .dataframe tbody tr th {\n",
       "        vertical-align: top;\n",
       "    }\n",
       "\n",
       "    .dataframe thead th {\n",
       "        text-align: right;\n",
       "    }\n",
       "</style>\n",
       "<table border=\"1\" class=\"dataframe\">\n",
       "  <thead>\n",
       "    <tr style=\"text-align: right;\">\n",
       "      <th></th>\n",
       "      <th>Unnamed: 0</th>\n",
       "      <th>images</th>\n",
       "      <th>label</th>\n",
       "    </tr>\n",
       "  </thead>\n",
       "  <tbody>\n",
       "    <tr>\n",
       "      <th>1675</th>\n",
       "      <td>1675</td>\n",
       "      <td>2036.jpg</td>\n",
       "      <td>normal</td>\n",
       "    </tr>\n",
       "    <tr>\n",
       "      <th>1676</th>\n",
       "      <td>1676</td>\n",
       "      <td>2037.jpg</td>\n",
       "      <td>normal</td>\n",
       "    </tr>\n",
       "    <tr>\n",
       "      <th>1677</th>\n",
       "      <td>1677</td>\n",
       "      <td>2038.jpg</td>\n",
       "      <td>normal</td>\n",
       "    </tr>\n",
       "    <tr>\n",
       "      <th>1678</th>\n",
       "      <td>1678</td>\n",
       "      <td>2039.jpg</td>\n",
       "      <td>normal</td>\n",
       "    </tr>\n",
       "    <tr>\n",
       "      <th>1679</th>\n",
       "      <td>1679</td>\n",
       "      <td>2040.jpg</td>\n",
       "      <td>normal</td>\n",
       "    </tr>\n",
       "  </tbody>\n",
       "</table>\n",
       "</div>"
      ],
      "text/plain": [
       "      Unnamed: 0    images   label\n",
       "1675        1675  2036.jpg  normal\n",
       "1676        1676  2037.jpg  normal\n",
       "1677        1677  2038.jpg  normal\n",
       "1678        1678  2039.jpg  normal\n",
       "1679        1679  2040.jpg  normal"
      ]
     },
     "metadata": {},
     "output_type": "display_data"
    },
    {
     "name": "stdout",
     "output_type": "stream",
     "text": [
      "(420, 3)\n"
     ]
    },
    {
     "data": {
      "text/html": [
       "<div>\n",
       "<style scoped>\n",
       "    .dataframe tbody tr th:only-of-type {\n",
       "        vertical-align: middle;\n",
       "    }\n",
       "\n",
       "    .dataframe tbody tr th {\n",
       "        vertical-align: top;\n",
       "    }\n",
       "\n",
       "    .dataframe thead th {\n",
       "        text-align: right;\n",
       "    }\n",
       "</style>\n",
       "<table border=\"1\" class=\"dataframe\">\n",
       "  <thead>\n",
       "    <tr style=\"text-align: right;\">\n",
       "      <th></th>\n",
       "      <th>Unnamed: 0</th>\n",
       "      <th>images</th>\n",
       "      <th>label</th>\n",
       "    </tr>\n",
       "  </thead>\n",
       "  <tbody>\n",
       "    <tr>\n",
       "      <th>0</th>\n",
       "      <td>0</td>\n",
       "      <td>1441.jpg</td>\n",
       "      <td>crazing</td>\n",
       "    </tr>\n",
       "    <tr>\n",
       "      <th>1</th>\n",
       "      <td>1</td>\n",
       "      <td>1442.jpg</td>\n",
       "      <td>crazing</td>\n",
       "    </tr>\n",
       "    <tr>\n",
       "      <th>2</th>\n",
       "      <td>2</td>\n",
       "      <td>1443.jpg</td>\n",
       "      <td>crazing</td>\n",
       "    </tr>\n",
       "    <tr>\n",
       "      <th>3</th>\n",
       "      <td>3</td>\n",
       "      <td>1444.jpg</td>\n",
       "      <td>crazing</td>\n",
       "    </tr>\n",
       "    <tr>\n",
       "      <th>4</th>\n",
       "      <td>4</td>\n",
       "      <td>1445.jpg</td>\n",
       "      <td>crazing</td>\n",
       "    </tr>\n",
       "  </tbody>\n",
       "</table>\n",
       "</div>"
      ],
      "text/plain": [
       "   Unnamed: 0    images    label\n",
       "0           0  1441.jpg  crazing\n",
       "1           1  1442.jpg  crazing\n",
       "2           2  1443.jpg  crazing\n",
       "3           3  1444.jpg  crazing\n",
       "4           4  1445.jpg  crazing"
      ]
     },
     "metadata": {},
     "output_type": "display_data"
    },
    {
     "data": {
      "text/html": [
       "<div>\n",
       "<style scoped>\n",
       "    .dataframe tbody tr th:only-of-type {\n",
       "        vertical-align: middle;\n",
       "    }\n",
       "\n",
       "    .dataframe tbody tr th {\n",
       "        vertical-align: top;\n",
       "    }\n",
       "\n",
       "    .dataframe thead th {\n",
       "        text-align: right;\n",
       "    }\n",
       "</style>\n",
       "<table border=\"1\" class=\"dataframe\">\n",
       "  <thead>\n",
       "    <tr style=\"text-align: right;\">\n",
       "      <th></th>\n",
       "      <th>Unnamed: 0</th>\n",
       "      <th>images</th>\n",
       "      <th>label</th>\n",
       "    </tr>\n",
       "  </thead>\n",
       "  <tbody>\n",
       "    <tr>\n",
       "      <th>415</th>\n",
       "      <td>415</td>\n",
       "      <td>2096.jpg</td>\n",
       "      <td>normal</td>\n",
       "    </tr>\n",
       "    <tr>\n",
       "      <th>416</th>\n",
       "      <td>416</td>\n",
       "      <td>2097.jpg</td>\n",
       "      <td>normal</td>\n",
       "    </tr>\n",
       "    <tr>\n",
       "      <th>417</th>\n",
       "      <td>417</td>\n",
       "      <td>2098.jpg</td>\n",
       "      <td>normal</td>\n",
       "    </tr>\n",
       "    <tr>\n",
       "      <th>418</th>\n",
       "      <td>418</td>\n",
       "      <td>2099.jpg</td>\n",
       "      <td>normal</td>\n",
       "    </tr>\n",
       "    <tr>\n",
       "      <th>419</th>\n",
       "      <td>419</td>\n",
       "      <td>2100.jpg</td>\n",
       "      <td>normal</td>\n",
       "    </tr>\n",
       "  </tbody>\n",
       "</table>\n",
       "</div>"
      ],
      "text/plain": [
       "     Unnamed: 0    images   label\n",
       "415         415  2096.jpg  normal\n",
       "416         416  2097.jpg  normal\n",
       "417         417  2098.jpg  normal\n",
       "418         418  2099.jpg  normal\n",
       "419         419  2100.jpg  normal"
      ]
     },
     "metadata": {},
     "output_type": "display_data"
    },
    {
     "name": "stdout",
     "output_type": "stream",
     "text": [
      "(420, 2)\n"
     ]
    },
    {
     "data": {
      "text/html": [
       "<div>\n",
       "<style scoped>\n",
       "    .dataframe tbody tr th:only-of-type {\n",
       "        vertical-align: middle;\n",
       "    }\n",
       "\n",
       "    .dataframe tbody tr th {\n",
       "        vertical-align: top;\n",
       "    }\n",
       "\n",
       "    .dataframe thead th {\n",
       "        text-align: right;\n",
       "    }\n",
       "</style>\n",
       "<table border=\"1\" class=\"dataframe\">\n",
       "  <thead>\n",
       "    <tr style=\"text-align: right;\">\n",
       "      <th></th>\n",
       "      <th>Unnamed: 0</th>\n",
       "      <th>images</th>\n",
       "    </tr>\n",
       "  </thead>\n",
       "  <tbody>\n",
       "    <tr>\n",
       "      <th>0</th>\n",
       "      <td>0</td>\n",
       "      <td>1441.jpg</td>\n",
       "    </tr>\n",
       "    <tr>\n",
       "      <th>1</th>\n",
       "      <td>1</td>\n",
       "      <td>1442.jpg</td>\n",
       "    </tr>\n",
       "    <tr>\n",
       "      <th>2</th>\n",
       "      <td>2</td>\n",
       "      <td>1443.jpg</td>\n",
       "    </tr>\n",
       "    <tr>\n",
       "      <th>3</th>\n",
       "      <td>3</td>\n",
       "      <td>1444.jpg</td>\n",
       "    </tr>\n",
       "    <tr>\n",
       "      <th>4</th>\n",
       "      <td>4</td>\n",
       "      <td>1445.jpg</td>\n",
       "    </tr>\n",
       "  </tbody>\n",
       "</table>\n",
       "</div>"
      ],
      "text/plain": [
       "   Unnamed: 0    images\n",
       "0           0  1441.jpg\n",
       "1           1  1442.jpg\n",
       "2           2  1443.jpg\n",
       "3           3  1444.jpg\n",
       "4           4  1445.jpg"
      ]
     },
     "metadata": {},
     "output_type": "display_data"
    }
   ],
   "source": [
    "d1 = pd.read_csv('tmp/normal_defect/normal_defect_dataset.csv')\n",
    "d2 = pd.read_csv('tmp/normal_defect/normal_defect_dataset2.csv')\n",
    "d3 = pd.read_csv('tmp/normal_defect/normal_defect_dataset_test.csv')\n",
    "\n",
    "print(d1.shape)\n",
    "display(d1.head())\n",
    "display(d1.tail())\n",
    "\n",
    "print(d2.shape)\n",
    "display(d2.head())\n",
    "display(d2.tail())\n",
    "\n",
    "print(d3.shape)\n",
    "display(d3.head())"
   ]
  },
  {
   "cell_type": "code",
   "execution_count": 11,
   "id": "178cc4df",
   "metadata": {},
   "outputs": [
    {
     "data": {
      "text/plain": [
       "2100"
      ]
     },
     "execution_count": 11,
     "metadata": {},
     "output_type": "execute_result"
    }
   ],
   "source": [
    "d1.shape[0] + d2.shape[0]"
   ]
  },
  {
   "cell_type": "code",
   "execution_count": 18,
   "id": "5dd96544",
   "metadata": {},
   "outputs": [],
   "source": [
    "d_train = d1\n",
    "d_test = d2"
   ]
  },
  {
   "cell_type": "code",
   "execution_count": 23,
   "id": "d7d2daa5",
   "metadata": {},
   "outputs": [],
   "source": [
    "d_train = d_train.drop('Unnamed: 0', axis=1)\n",
    "d_test = d_test.drop('Unnamed: 0', axis=1)"
   ]
  },
  {
   "cell_type": "code",
   "execution_count": 27,
   "id": "a424120d",
   "metadata": {},
   "outputs": [
    {
     "data": {
      "text/plain": [
       "crazing           240\n",
       "inclusion         240\n",
       "patches           240\n",
       "pitted_surface    240\n",
       "rolledin_scale    240\n",
       "scratches         240\n",
       "normal            240\n",
       "Name: label, dtype: int64"
      ]
     },
     "execution_count": 27,
     "metadata": {},
     "output_type": "execute_result"
    }
   ],
   "source": [
    "d_train['label'].value_counts()"
   ]
  },
  {
   "cell_type": "code",
   "execution_count": 29,
   "id": "046f29ff",
   "metadata": {},
   "outputs": [
    {
     "data": {
      "text/plain": [
       "1680"
      ]
     },
     "execution_count": 29,
     "metadata": {},
     "output_type": "execute_result"
    }
   ],
   "source": [
    "d_train['images'].nunique()"
   ]
  },
  {
   "cell_type": "code",
   "execution_count": 28,
   "id": "6a1fe3e4",
   "metadata": {},
   "outputs": [
    {
     "data": {
      "text/plain": [
       "crazing           60\n",
       "inclusion         60\n",
       "patches           60\n",
       "pitted_surface    60\n",
       "rolledin_scale    60\n",
       "scratches         60\n",
       "normal            60\n",
       "Name: label, dtype: int64"
      ]
     },
     "execution_count": 28,
     "metadata": {},
     "output_type": "execute_result"
    }
   ],
   "source": [
    "d_test['label'].value_counts()"
   ]
  },
  {
   "cell_type": "code",
   "execution_count": 30,
   "id": "6c15c94f",
   "metadata": {},
   "outputs": [
    {
     "data": {
      "text/plain": [
       "420"
      ]
     },
     "execution_count": 30,
     "metadata": {},
     "output_type": "execute_result"
    }
   ],
   "source": [
    "d_test['images'].nunique()"
   ]
  },
  {
   "cell_type": "markdown",
   "id": "90784247",
   "metadata": {},
   "source": [
    "### HT Dataset"
   ]
  },
  {
   "cell_type": "code",
   "execution_count": 25,
   "id": "f0aca3d9",
   "metadata": {},
   "outputs": [],
   "source": [
    "d_train.to_csv('tmp/prodDefect_classification_6classes_HT/train.csv', index=False)\n",
    "d_test.to_csv('tmp/prodDefect_classification_6classes_HT/test.csv', index=False)"
   ]
  },
  {
   "cell_type": "code",
   "execution_count": 40,
   "id": "79c97838",
   "metadata": {},
   "outputs": [],
   "source": [
    "!cp -r tmp/normal_defect/normaldefect_image tmp/prodDefect_classification_6classes_HT"
   ]
  },
  {
   "cell_type": "markdown",
   "id": "73c03635",
   "metadata": {},
   "source": [
    "### DAI Dataset"
   ]
  },
  {
   "cell_type": "code",
   "execution_count": 32,
   "id": "c02e6026",
   "metadata": {},
   "outputs": [],
   "source": [
    "d_train.to_csv('tmp/prodDefect_classification_6classes_DAI/prodDefect_classification_6classes_DAI_Train/train.csv', index=False)\n",
    "d_test.to_csv('tmp/prodDefect_classification_6classes_DAI/prodDefect_classification_6classes_DAI_Test/test.csv', index=False)"
   ]
  },
  {
   "cell_type": "code",
   "execution_count": 54,
   "id": "4531d3cc",
   "metadata": {},
   "outputs": [],
   "source": [
    "# Train image copy\n",
    "for im in d_train['images']:\n",
    "    from_dir = os.path.join('tmp', 'normal_defect', 'normaldefect_image', im)\n",
    "    #print(from_dir)\n",
    "    to_dir = os.path.join('tmp', 'prodDefect_classification_6classes_DAI', 'prodDefect_classification_6classes_DAI_Train', 'images', im)\n",
    "    #print(to_dir)\n",
    "    shutil.copy(from_dir, to_dir)"
   ]
  },
  {
   "cell_type": "code",
   "execution_count": 55,
   "id": "a6a8bb3c",
   "metadata": {},
   "outputs": [
    {
     "name": "stdout",
     "output_type": "stream",
     "text": [
      "    2101\r\n"
     ]
    }
   ],
   "source": [
    "! ls -l tmp/prodDefect_classification_6classes_DAI/prodDefect_classification_6classes_DAI_Train/images | wc -l"
   ]
  },
  {
   "cell_type": "code",
   "execution_count": 56,
   "id": "c3414027",
   "metadata": {},
   "outputs": [],
   "source": [
    "# Test image copy\n",
    "for im in d_test['images']:\n",
    "    from_dir = os.path.join('tmp', 'normal_defect', 'normaldefect_image', im)\n",
    "    #print(from_dir)\n",
    "    to_dir = os.path.join('tmp', 'prodDefect_classification_6classes_DAI', 'prodDefect_classification_6classes_DAI_Test', 'images', im)\n",
    "    #print(to_dir)\n",
    "    shutil.copy(from_dir, to_dir)"
   ]
  },
  {
   "cell_type": "code",
   "execution_count": 57,
   "id": "4cfd6a5b",
   "metadata": {},
   "outputs": [
    {
     "name": "stdout",
     "output_type": "stream",
     "text": [
      "     421\r\n"
     ]
    }
   ],
   "source": [
    "! ls -l tmp/prodDefect_classification_6classes_DAI/prodDefect_classification_6classes_DAI_Test/images | wc -l"
   ]
  },
  {
   "cell_type": "code",
   "execution_count": null,
   "id": "226fa220",
   "metadata": {},
   "outputs": [],
   "source": []
  }
 ],
 "metadata": {
  "kernelspec": {
   "display_name": "Python 3 (ipykernel)",
   "language": "python",
   "name": "python3"
  },
  "language_info": {
   "codemirror_mode": {
    "name": "ipython",
    "version": 3
   },
   "file_extension": ".py",
   "mimetype": "text/x-python",
   "name": "python",
   "nbconvert_exporter": "python",
   "pygments_lexer": "ipython3",
   "version": "3.8.13"
  }
 },
 "nbformat": 4,
 "nbformat_minor": 5
}
