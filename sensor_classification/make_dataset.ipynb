{
 "cells": [
  {
   "cell_type": "markdown",
   "id": "9aeb7d68",
   "metadata": {},
   "source": [
    "元データを整形して'./tmp/transformed'へ保存"
   ]
  },
  {
   "cell_type": "markdown",
   "id": "fbca4740",
   "metadata": {},
   "source": [
    "Data: https://archive.ics.uci.edu/dataset/447/condition+monitoring+of+hydraulic+systems"
   ]
  },
  {
   "cell_type": "markdown",
   "id": "697106d2",
   "metadata": {},
   "source": [
    "***"
   ]
  },
  {
   "cell_type": "markdown",
   "id": "5ced6835",
   "metadata": {},
   "source": [
    "- 2205個のオブザベーション\n",
    "- 17種類のセンサー（PS1,..,SE）\n",
    "- 元データにおいて、各センサー値は（2205オブザベーション × 時系列）で格納されている"
   ]
  },
  {
   "cell_type": "markdown",
   "id": "55d7bd56",
   "metadata": {},
   "source": [
    "***"
   ]
  },
  {
   "cell_type": "code",
   "execution_count": 8,
   "id": "f4800314",
   "metadata": {},
   "outputs": [],
   "source": [
    "import pandas as pd\n",
    "from sklearn.model_selection import train_test_split\n",
    "\n",
    "import pickle"
   ]
  },
  {
   "cell_type": "code",
   "execution_count": 2,
   "id": "23bc218a",
   "metadata": {},
   "outputs": [
    {
     "name": "stdout",
     "output_type": "stream",
     "text": [
      "\u001b[31mCE.txt\u001b[m\u001b[m            \u001b[31mPS1.txt\u001b[m\u001b[m           \u001b[31mPS6.txt\u001b[m\u001b[m           \u001b[31mTS4.txt\u001b[m\u001b[m\r\n",
      "\u001b[31mCP.txt\u001b[m\u001b[m            \u001b[31mPS2.txt\u001b[m\u001b[m           \u001b[31mSE.txt\u001b[m\u001b[m            \u001b[31mVS1.txt\u001b[m\u001b[m\r\n",
      "\u001b[31mEPS1.txt\u001b[m\u001b[m          \u001b[31mPS3.txt\u001b[m\u001b[m           \u001b[31mTS1.txt\u001b[m\u001b[m           \u001b[31mdescription.txt\u001b[m\u001b[m\r\n",
      "\u001b[31mFS1.txt\u001b[m\u001b[m           \u001b[31mPS4.txt\u001b[m\u001b[m           \u001b[31mTS2.txt\u001b[m\u001b[m           \u001b[31mdocumentation.txt\u001b[m\u001b[m\r\n",
      "\u001b[31mFS2.txt\u001b[m\u001b[m           \u001b[31mPS5.txt\u001b[m\u001b[m           \u001b[31mTS3.txt\u001b[m\u001b[m           \u001b[31mprofile.txt\u001b[m\u001b[m\r\n"
     ]
    }
   ],
   "source": [
    "!ls tmp/archive"
   ]
  },
  {
   "cell_type": "code",
   "execution_count": 3,
   "id": "a2fd3ab7",
   "metadata": {},
   "outputs": [],
   "source": [
    "read_dir = 'tmp/archive/'\n",
    "write_dir = 'tmp/transformed/'"
   ]
  },
  {
   "cell_type": "markdown",
   "id": "0ce6959f",
   "metadata": {},
   "source": [
    "### Target\n",
    "profile.txt"
   ]
  },
  {
   "cell_type": "code",
   "execution_count": 4,
   "id": "b36a7418",
   "metadata": {
    "scrolled": true
   },
   "outputs": [
    {
     "name": "stdout",
     "output_type": "stream",
     "text": [
      "(2205, 5)\n"
     ]
    },
    {
     "data": {
      "text/html": [
       "<div>\n",
       "<style scoped>\n",
       "    .dataframe tbody tr th:only-of-type {\n",
       "        vertical-align: middle;\n",
       "    }\n",
       "\n",
       "    .dataframe tbody tr th {\n",
       "        vertical-align: top;\n",
       "    }\n",
       "\n",
       "    .dataframe thead th {\n",
       "        text-align: right;\n",
       "    }\n",
       "</style>\n",
       "<table border=\"1\" class=\"dataframe\">\n",
       "  <thead>\n",
       "    <tr style=\"text-align: right;\">\n",
       "      <th></th>\n",
       "      <th>Cooler_Condition_pct</th>\n",
       "      <th>Valve_Condition_pct</th>\n",
       "      <th>Internal_Pump_Leakage</th>\n",
       "      <th>Hydraulic_Accumulato</th>\n",
       "      <th>Stable_flag</th>\n",
       "    </tr>\n",
       "  </thead>\n",
       "  <tbody>\n",
       "    <tr>\n",
       "      <th>0</th>\n",
       "      <td>3</td>\n",
       "      <td>100</td>\n",
       "      <td>0</td>\n",
       "      <td>130</td>\n",
       "      <td>1</td>\n",
       "    </tr>\n",
       "    <tr>\n",
       "      <th>1</th>\n",
       "      <td>3</td>\n",
       "      <td>100</td>\n",
       "      <td>0</td>\n",
       "      <td>130</td>\n",
       "      <td>1</td>\n",
       "    </tr>\n",
       "    <tr>\n",
       "      <th>2</th>\n",
       "      <td>3</td>\n",
       "      <td>100</td>\n",
       "      <td>0</td>\n",
       "      <td>130</td>\n",
       "      <td>1</td>\n",
       "    </tr>\n",
       "    <tr>\n",
       "      <th>3</th>\n",
       "      <td>3</td>\n",
       "      <td>100</td>\n",
       "      <td>0</td>\n",
       "      <td>130</td>\n",
       "      <td>1</td>\n",
       "    </tr>\n",
       "    <tr>\n",
       "      <th>4</th>\n",
       "      <td>3</td>\n",
       "      <td>100</td>\n",
       "      <td>0</td>\n",
       "      <td>130</td>\n",
       "      <td>1</td>\n",
       "    </tr>\n",
       "  </tbody>\n",
       "</table>\n",
       "</div>"
      ],
      "text/plain": [
       "   Cooler_Condition_pct  Valve_Condition_pct  Internal_Pump_Leakage  \\\n",
       "0                     3                  100                      0   \n",
       "1                     3                  100                      0   \n",
       "2                     3                  100                      0   \n",
       "3                     3                  100                      0   \n",
       "4                     3                  100                      0   \n",
       "\n",
       "   Hydraulic_Accumulato  Stable_flag  \n",
       "0                   130            1  \n",
       "1                   130            1  \n",
       "2                   130            1  \n",
       "3                   130            1  \n",
       "4                   130            1  "
      ]
     },
     "execution_count": 4,
     "metadata": {},
     "output_type": "execute_result"
    }
   ],
   "source": [
    "target_cols = ['Cooler_Condition_pct', 'Valve_Condition_pct', 'Internal_Pump_Leakage', 'Hydraulic_Accumulato', 'Stable_flag']\n",
    "\n",
    "df_profile = pd.read_csv(read_dir+'profile.txt', sep='\\t', header=None, names=target_cols)\n",
    "print(df_profile.shape)\n",
    "df_profile.head()"
   ]
  },
  {
   "cell_type": "code",
   "execution_count": 5,
   "id": "fe4242bc",
   "metadata": {},
   "outputs": [
    {
     "name": "stdout",
     "output_type": "stream",
     "text": [
      ">>>  Cooler_Condition_pct\n",
      "100    741\n",
      "3      732\n",
      "20     732\n",
      "Name: Cooler_Condition_pct, dtype: int64\n",
      ">>>  Valve_Condition_pct\n",
      "100    1125\n",
      "73      360\n",
      "80      360\n",
      "90      360\n",
      "Name: Valve_Condition_pct, dtype: int64\n",
      ">>>  Internal_Pump_Leakage\n",
      "0    1221\n",
      "2     492\n",
      "1     492\n",
      "Name: Internal_Pump_Leakage, dtype: int64\n",
      ">>>  Hydraulic_Accumulato\n",
      "90     808\n",
      "130    599\n",
      "115    399\n",
      "100    399\n",
      "Name: Hydraulic_Accumulato, dtype: int64\n",
      ">>>  Stable_flag\n",
      "0    1449\n",
      "1     756\n",
      "Name: Stable_flag, dtype: int64\n"
     ]
    }
   ],
   "source": [
    "for c in target_cols:\n",
    "    print('>>> ', c)\n",
    "    print(df_profile[c].value_counts())"
   ]
  },
  {
   "cell_type": "code",
   "execution_count": 6,
   "id": "b475e7ec",
   "metadata": {},
   "outputs": [],
   "source": [
    "df_profile = df_profile.reset_index(names=['id'])"
   ]
  },
  {
   "cell_type": "code",
   "execution_count": 7,
   "id": "39ecd0bb",
   "metadata": {},
   "outputs": [],
   "source": [
    "df_profile.to_csv(write_dir+'profile.csv', index=False)"
   ]
  },
  {
   "cell_type": "code",
   "execution_count": null,
   "id": "c5be642f",
   "metadata": {},
   "outputs": [],
   "source": []
  },
  {
   "cell_type": "code",
   "execution_count": 19,
   "id": "714ab875",
   "metadata": {},
   "outputs": [
    {
     "data": {
      "text/plain": [
       "((1905, 6), (300, 6))"
      ]
     },
     "execution_count": 19,
     "metadata": {},
     "output_type": "execute_result"
    }
   ],
   "source": [
    "train, test = train_test_split(df_profile, test_size=300, stratify=df_profile['Stable_flag'],  random_state=123)\n",
    "train.shape, test.shape"
   ]
  },
  {
   "cell_type": "code",
   "execution_count": 22,
   "id": "74fcac22",
   "metadata": {},
   "outputs": [
    {
     "name": "stderr",
     "output_type": "stream",
     "text": [
      "/var/folders/50/glkvvhjx03g22fwy2r0tgylr0000gn/T/ipykernel_96020/3630869361.py:1: SettingWithCopyWarning: \n",
      "A value is trying to be set on a copy of a slice from a DataFrame.\n",
      "Try using .loc[row_indexer,col_indexer] = value instead\n",
      "\n",
      "See the caveats in the documentation: https://pandas.pydata.org/pandas-docs/stable/user_guide/indexing.html#returning-a-view-versus-a-copy\n",
      "  train['test_flg'] = 0\n",
      "/var/folders/50/glkvvhjx03g22fwy2r0tgylr0000gn/T/ipykernel_96020/3630869361.py:2: SettingWithCopyWarning: \n",
      "A value is trying to be set on a copy of a slice from a DataFrame.\n",
      "Try using .loc[row_indexer,col_indexer] = value instead\n",
      "\n",
      "See the caveats in the documentation: https://pandas.pydata.org/pandas-docs/stable/user_guide/indexing.html#returning-a-view-versus-a-copy\n",
      "  test['test_flg'] = 1\n"
     ]
    }
   ],
   "source": [
    "train['test_flg'] = 0\n",
    "test['test_flg'] = 1"
   ]
  },
  {
   "cell_type": "code",
   "execution_count": 26,
   "id": "279b044e",
   "metadata": {},
   "outputs": [
    {
     "data": {
      "text/plain": [
       "(2205, 7)"
      ]
     },
     "execution_count": 26,
     "metadata": {},
     "output_type": "execute_result"
    }
   ],
   "source": [
    "df_profile_tf = pd.concat([train, test])\n",
    "df_profile_tf = df_profile_tf.sort_values('id')\n",
    "df_profile_tf.shape"
   ]
  },
  {
   "cell_type": "code",
   "execution_count": 27,
   "id": "7e80f032",
   "metadata": {},
   "outputs": [],
   "source": [
    "df_profile_tf.to_csv(write_dir+'profile_with_testflag.csv', index=False)"
   ]
  },
  {
   "cell_type": "code",
   "execution_count": null,
   "id": "3f01cbdd",
   "metadata": {},
   "outputs": [],
   "source": []
  },
  {
   "cell_type": "markdown",
   "id": "2a80a38d",
   "metadata": {},
   "source": [
    "### Features"
   ]
  },
  {
   "cell_type": "markdown",
   "id": "5ce7b2ca",
   "metadata": {},
   "source": [
    "縦持ちデータへの変換"
   ]
  },
  {
   "cell_type": "code",
   "execution_count": 48,
   "id": "651ee5ca",
   "metadata": {},
   "outputs": [
    {
     "name": "stdout",
     "output_type": "stream",
     "text": [
      "PS1\n",
      "(2205, 6000) (13230000, 3)\n",
      "PS2\n",
      "(2205, 6000) (13230000, 3)\n",
      "PS3\n",
      "(2205, 6000) (13230000, 3)\n",
      "PS4\n",
      "(2205, 6000) (13230000, 3)\n",
      "PS5\n",
      "(2205, 6000) (13230000, 3)\n",
      "PS6\n",
      "(2205, 6000) (13230000, 3)\n",
      "EPS1\n",
      "(2205, 6000) (13230000, 3)\n",
      "FS1\n",
      "(2205, 600) (1323000, 3)\n",
      "FS2\n",
      "(2205, 600) (1323000, 3)\n",
      "TS1\n",
      "(2205, 60) (132300, 3)\n",
      "TS2\n",
      "(2205, 60) (132300, 3)\n",
      "TS3\n",
      "(2205, 60) (132300, 3)\n",
      "TS4\n",
      "(2205, 60) (132300, 3)\n",
      "VS1\n",
      "(2205, 60) (132300, 3)\n",
      "CE\n",
      "(2205, 60) (132300, 3)\n",
      "CP\n",
      "(2205, 60) (132300, 3)\n",
      "SE\n",
      "(2205, 60) (132300, 3)\n"
     ]
    }
   ],
   "source": [
    "feature_sets = ['PS1','PS2','PS3','PS4','PS5','PS6','EPS1',   # 100 Hz\n",
    "                'FS1','FS2',                                                                    # 10 Hz\n",
    "                'TS1','TS2','TS3','TS4','VS1','CE','CP','SE']             # 1 Hz\n",
    "feature_dfs = {}\n",
    "\n",
    "for d in feature_sets:\n",
    "    print(d)\n",
    "    tmp = pd.read_csv(read_dir+d+'.txt', sep='\\t', header=None)\n",
    "    tmp2 = tmp.stack().reset_index()  # 縦持ち変換\n",
    "    tmp2.columns = ['id', 'time', d]\n",
    "    print(tmp.shape, tmp2.shape)\n",
    "    feature_dfs[d] = tmp2"
   ]
  },
  {
   "cell_type": "code",
   "execution_count": 53,
   "id": "4e71ff7d",
   "metadata": {},
   "outputs": [
    {
     "data": {
      "text/plain": [
       "17"
      ]
     },
     "execution_count": 53,
     "metadata": {},
     "output_type": "execute_result"
    }
   ],
   "source": [
    "len(feature_dfs)"
   ]
  },
  {
   "cell_type": "code",
   "execution_count": 70,
   "id": "7ef58489",
   "metadata": {},
   "outputs": [
    {
     "name": "stdout",
     "output_type": "stream",
     "text": [
      "PS1\n",
      "N of null id      0\n",
      "time    0\n",
      "PS1     0\n",
      "dtype: int64\n",
      "PS2\n",
      "N of null id      0\n",
      "time    0\n",
      "PS2     0\n",
      "dtype: int64\n",
      "PS3\n",
      "N of null id      0\n",
      "time    0\n",
      "PS3     0\n",
      "dtype: int64\n",
      "PS4\n",
      "N of null id      0\n",
      "time    0\n",
      "PS4     0\n",
      "dtype: int64\n",
      "PS5\n",
      "N of null id      0\n",
      "time    0\n",
      "PS5     0\n",
      "dtype: int64\n",
      "PS6\n",
      "N of null id      0\n",
      "time    0\n",
      "PS6     0\n",
      "dtype: int64\n",
      "EPS1\n",
      "N of null id      0\n",
      "time    0\n",
      "EPS1    0\n",
      "dtype: int64\n",
      "FS1\n",
      "N of null id      0\n",
      "time    0\n",
      "FS1     0\n",
      "dtype: int64\n",
      "FS2\n",
      "N of null id      0\n",
      "time    0\n",
      "FS2     0\n",
      "dtype: int64\n",
      "TS1\n",
      "N of null id      0\n",
      "time    0\n",
      "TS1     0\n",
      "dtype: int64\n",
      "TS2\n",
      "N of null id      0\n",
      "time    0\n",
      "TS2     0\n",
      "dtype: int64\n",
      "TS3\n",
      "N of null id      0\n",
      "time    0\n",
      "TS3     0\n",
      "dtype: int64\n",
      "TS4\n",
      "N of null id      0\n",
      "time    0\n",
      "TS4     0\n",
      "dtype: int64\n",
      "VS1\n",
      "N of null id      0\n",
      "time    0\n",
      "VS1     0\n",
      "dtype: int64\n",
      "CE\n",
      "N of null id      0\n",
      "time    0\n",
      "CE      0\n",
      "dtype: int64\n",
      "CP\n",
      "N of null id      0\n",
      "time    0\n",
      "CP      0\n",
      "dtype: int64\n",
      "SE\n",
      "N of null id      0\n",
      "time    0\n",
      "SE      0\n",
      "dtype: int64\n"
     ]
    }
   ],
   "source": [
    "for k in feature_sets:\n",
    "    print(k)\n",
    "    print('N of null', feature_dfs[k].isna().sum())"
   ]
  },
  {
   "cell_type": "code",
   "execution_count": null,
   "id": "ec69db1b",
   "metadata": {},
   "outputs": [],
   "source": []
  },
  {
   "cell_type": "code",
   "execution_count": 61,
   "id": "dc0ae396",
   "metadata": {},
   "outputs": [],
   "source": [
    "# to write\n",
    "with open(write_dir+'features.pickle', mode='wb') as fo:\n",
    "    pickle.dump(feature_dfs, fo)"
   ]
  },
  {
   "cell_type": "code",
   "execution_count": null,
   "id": "2d6fd347",
   "metadata": {},
   "outputs": [],
   "source": []
  },
  {
   "cell_type": "code",
   "execution_count": 62,
   "id": "67c6577e",
   "metadata": {},
   "outputs": [],
   "source": [
    "# to read\n",
    "with open(write_dir+'features.pickle', mode='br') as fi:\n",
    "    read_data = pickle.load(fi)"
   ]
  },
  {
   "cell_type": "code",
   "execution_count": 63,
   "id": "86e9249e",
   "metadata": {},
   "outputs": [
    {
     "data": {
      "text/plain": [
       "17"
      ]
     },
     "execution_count": 63,
     "metadata": {},
     "output_type": "execute_result"
    }
   ],
   "source": [
    "len(read_data)"
   ]
  },
  {
   "cell_type": "code",
   "execution_count": 65,
   "id": "1498f962",
   "metadata": {},
   "outputs": [
    {
     "data": {
      "text/plain": [
       "dict_keys(['PS1', 'PS2', 'PS3', 'PS4', 'PS5', 'PS6', 'EPS1', 'FS1', 'FS2', 'TS1', 'TS2', 'TS3', 'TS4', 'VS1', 'CE', 'CP', 'SE'])"
      ]
     },
     "execution_count": 65,
     "metadata": {},
     "output_type": "execute_result"
    }
   ],
   "source": [
    "read_data.keys()"
   ]
  },
  {
   "cell_type": "code",
   "execution_count": null,
   "id": "53eb47a3",
   "metadata": {},
   "outputs": [],
   "source": []
  }
 ],
 "metadata": {
  "kernelspec": {
   "display_name": "Python 3 (ipykernel)",
   "language": "python",
   "name": "python3"
  },
  "language_info": {
   "codemirror_mode": {
    "name": "ipython",
    "version": 3
   },
   "file_extension": ".py",
   "mimetype": "text/x-python",
   "name": "python",
   "nbconvert_exporter": "python",
   "pygments_lexer": "ipython3",
   "version": "3.8.13"
  }
 },
 "nbformat": 4,
 "nbformat_minor": 5
}
