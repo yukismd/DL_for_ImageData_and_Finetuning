{
 "cells": [
  {
   "cell_type": "code",
   "execution_count": null,
   "id": "f590ca99-4d70-426a-9692-86a2c58348b2",
   "metadata": {},
   "outputs": [],
   "source": []
  },
  {
   "cell_type": "code",
   "execution_count": 1,
   "id": "c14389f7-d8d7-4e30-82d0-59418a90cc2f",
   "metadata": {},
   "outputs": [],
   "source": [
    "import os\n",
    "from dotenv import load_dotenv\n",
    "\n",
    "import pandas as pd\n",
    "\n",
    "from h2ogpte import H2OGPTE"
   ]
  },
  {
   "cell_type": "code",
   "execution_count": 2,
   "id": "adaf8511-f1a4-434b-8f8e-39a768d81b1d",
   "metadata": {},
   "outputs": [],
   "source": [
    "#!cat .env\n",
    "\n",
    "# CBM_default\n",
    "# CBM_structured\n",
    "# CBM_structured_lChunk"
   ]
  },
  {
   "cell_type": "code",
   "execution_count": 3,
   "id": "877a9453-749a-4e35-a9cf-d716553b9795",
   "metadata": {},
   "outputs": [
    {
     "name": "stdout",
     "output_type": "stream",
     "text": [
      "key is set.\n"
     ]
    }
   ],
   "source": [
    "load_dotenv(dotenv_path='.env')\n",
    "heogpteKey_CBM_default = os.getenv('CBM_default')\n",
    "if heogpteKey_CBM_default: print('key is set.')"
   ]
  },
  {
   "cell_type": "code",
   "execution_count": 4,
   "id": "c85c7295-a7a4-4c34-9ced-f44dd97462b3",
   "metadata": {},
   "outputs": [
    {
     "data": {
      "text/plain": [
       "<h2ogpte.h2ogpte.H2OGPTE at 0x127440ac0>"
      ]
     },
     "execution_count": 4,
     "metadata": {},
     "output_type": "execute_result"
    }
   ],
   "source": [
    "client = H2OGPTE(\n",
    "    address='https://h2ogpte.dev.h2o.ai',\n",
    "    api_key=heogpteKey_CBM_default,\n",
    ")\n",
    "client"
   ]
  },
  {
   "cell_type": "code",
   "execution_count": 5,
   "id": "c55dc938-724b-4998-b24c-a666f33cc9ad",
   "metadata": {},
   "outputs": [
    {
     "data": {
      "text/plain": [
       "['meta-llama/Meta-Llama-3.1-8B-Instruct',\n",
       " 'h2oai/h2o-danube3-4b-chat',\n",
       " 'Qwen/Qwen2-VL-7B-Instruct',\n",
       " 'meta-llama/Meta-Llama-3.1-70B-Instruct',\n",
       " 'meta-llama/Meta-Llama-3.1-405B-Instruct-FP8',\n",
       " 'Qwen/Qwen2.5-72B-Instruct',\n",
       " 'Qwen/Qwen2-VL-72B-Instruct',\n",
       " 'h2oai/h2ovl-mississippi-2b',\n",
       " 'mistralai/Pixtral-12B-2409',\n",
       " 'mistralai/Mixtral-8x7B-Instruct-v0.1',\n",
       " 'meta-llama/Meta-Llama-3.1-70B-Instruct-Turbo',\n",
       " 'meta-llama/Meta-Llama-3.1-8B-Instruct-Turbo',\n",
       " 'upstage/SOLAR-10.7B-Instruct-v1.0',\n",
       " 'mistralai/Mistral-7B-Instruct-v0.3',\n",
       " 'meta-llama/Llama-3.2-90B-Vision-Instruct-Turbo',\n",
       " 'meta-llama/Llama-3.2-11B-Vision-Instruct-Turbo',\n",
       " 'meta-llama/Llama-3.2-3B-Instruct-Turbo',\n",
       " 'claude-3-haiku-20240307',\n",
       " 'claude-3-5-haiku-20241022',\n",
       " 'claude-3-5-sonnet-20241022',\n",
       " 'claude-3-5-sonnet-20241022-bedrock',\n",
       " 'gpt-4o',\n",
       " 'gpt-4o-mini',\n",
       " 'mistral-tiny',\n",
       " 'mistral-small-latest',\n",
       " 'mistral-medium-latest',\n",
       " 'mistral-large-latest',\n",
       " 'gemini-1.5-pro-latest',\n",
       " 'gemini-1.5-flash-latest']"
      ]
     },
     "execution_count": 5,
     "metadata": {},
     "output_type": "execute_result"
    }
   ],
   "source": [
    "# 利用可能なLLM\n",
    "client.get_llm_names()"
   ]
  },
  {
   "cell_type": "code",
   "execution_count": 34,
   "id": "da456e12-32dc-48b8-968a-b64692acde94",
   "metadata": {},
   "outputs": [],
   "source": [
    "#client.get_default_collection()"
   ]
  },
  {
   "cell_type": "code",
   "execution_count": 35,
   "id": "83e7d250-0dec-4b6f-8ec0-de89e3f1a9e5",
   "metadata": {
    "scrolled": true
   },
   "outputs": [],
   "source": [
    "#client.get_prompt_template()"
   ]
  },
  {
   "cell_type": "code",
   "execution_count": 18,
   "id": "59e815ef-b9c7-4030-85b6-6ff89cd4dd06",
   "metadata": {},
   "outputs": [
    {
     "data": {
      "text/plain": [
       "28"
      ]
     },
     "execution_count": 18,
     "metadata": {},
     "output_type": "execute_result"
    }
   ],
   "source": [
    "client.count_prompt_templates()"
   ]
  },
  {
   "cell_type": "code",
   "execution_count": 33,
   "id": "8973e1d3-1ca5-4ca5-b4cb-195203b59502",
   "metadata": {
    "scrolled": true
   },
   "outputs": [],
   "source": [
    "#client.list_recent_prompt_templates(offset=0, limit=100)"
   ]
  },
  {
   "cell_type": "code",
   "execution_count": 42,
   "id": "68066034-5968-4030-a170-e74c3bd07816",
   "metadata": {
    "scrolled": true
   },
   "outputs": [
    {
     "data": {
      "text/plain": [
       "PromptTemplate(is_default=True, id='4d3a78f7-798f-44d9-b577-5304bc07f255', name='デフォルト', description='デフォルトの h2oGPTe プロンプト テンプレート', lang='ja', system_prompt='あなたは H2O.ai によって作成された専門家の質問を消費する AI システムである h2oGPTe です。', pre_prompt_query='以下の情報に注意して覚えておいてください。最後に質問や命令に答えるためには、チャット履歴、指定された画像、または文書テキストのみを使用する必要があります。', prompt_query='チャット履歴の情報のみに従って、与えられた画像、または上記のコンテキスト内で提供されているドキュメントテキストは、次のように明確に構成された応答（「従い」から始まる）を示します。', hyde_no_rag_llm_prompt_extension='回答は簡潔にして、最後に最も関連性の高いキーワードを 5 つ挙げてください。', pre_prompt_summary='簡潔な 1 段落または箇条書きの要約を作成するには、チャット履歴、指定された画像、または次のテキストに注意してください。', prompt_summary='チャット履歴、指定された画像、または上記のテキストのみを使用して、重要な結果の凝\\u200b\\u200b縮された簡潔な適切に構造化されたマークダウンの概要を記述します。', system_prompt_reflection='あなたは裁判官を務めています。公平かつ公平であり、細部に注意を払わなければなりません。', pre_prompt_reflection='', prompt_reflection='以下で説明する加法的な 5 ポイント スコアリング システムを使用して、ユーザーの質問と対応する応答を確認します。ポイントは、各基準の満足度に基づいて蓄積されます。\\n\\n- 回答が不完全であったり無関係な内容が含まれていたとしても、回答が関連性があり、ユーザーの問い合わせに関連する情報を提供している場合は 1 ポイントを追加します。\\n- 回答がユーザーの質問のかなりの部分に対応しているものの、質問を完全に解決したり、直接的な回答を提供したりしない場合は、別のポイントを追加します。\\n- AI アシスタントによって書かれたものであるかどうか、ブログや検索結果でよく見られる要素が含まれているかどうかに関係なく、回答がユーザーの質問の基本要素に有益な方法で回答している場合に 3 番目のポイントを与えます。\\n- 回答が AI アシスタントの観点から明確に書かれており、ユーザーの質問に直接的かつ包括的に対処しており、明瞭さ、簡潔さ、焦点の点で改善の余地がわずかにあるとしても、よく整理されていて役立つ場合には 4 番目のポイントを与えます。\\n- AI アシスタントがユーザーの質問に完璧に対応し、無関係な情報を含まず、専門知識を反映し、高品質で魅力的で洞察力に富んだ回答を示した応答に対して 5 ポイントを与えます。\\n\\n<ユーザー>\\n%s\\n</ユーザー>\\n\\n<応答>\\n%s\\n</応答>\\n\\nユーザーの指示と応答を調べた後、次のようになります。\\n\\n- 合計スコアを 100 単語以内で簡潔に説明してください。\\n- 「スコア: <合計ポイント> / 5」の形式を使用してスコアで終了します。\\n\\n必要に応じて Web 検索の知識を活用して、AI アシスタントの観点から評価することを忘れないでください。この加法的なスコアリング モデルに沿って応答を評価するために、概要を示した基準に基づいて体系的にポイントを属性付けします。', auto_gen_description_prompt='読者にこれが何についてであるかを明確にすることを目的として、上記の文脈から短い 1 文の要約を作成します。', auto_gen_document_summary_pre_prompt_summary='簡潔な 1 段落の要約を作成するには、次のテキストに注意してください。', auto_gen_document_summary_prompt_summary='上記のテキストのみを使用して、主要な結果の凝縮された簡潔な要約を作成します (できれば 1 つの段落として)。', auto_gen_document_sample_questions_prompt='興味深い質問を 10 個作成し、その答えは上記の情報に含まれています。次のように JSON で応答します: {{\"q1\": \"Question 1?\", \"q2\": \"Question 2?\", ..., \"q10\": \"Question 10?\"}}', default_sample_questions=['良い質問を 5 つ作成する', '一文で要約する', 'これを5歳児に説明してください', '何か面白いことを教えてください'], created_at=datetime.datetime(2024, 12, 5, 6, 43, 31, 951183, tzinfo=TzInfo(UTC)), user_id=None, username=None, user_count=-1, image_batch_image_prompt='\\n<応答_説明書>\\n- 細部に鋭い目を持つ熱心なオブザーバーとして行動します。\\n- 画像内のコンテンツを分析します。\\n- 観察に基づいて洞察を提供します。\\n- 事実を作ることは避けてください。\\n- システムプロンプトに従うことを忘れないでください。\\n</応答_説明書>\\n\\n', image_batch_final_prompt='\\n<応答_説明書>\\n- すでに<image> xmlタグで既に与えられている回答が役立つかどうかを確認してください。\\n- 画像の答えは、画像内のテキストや画像を読むことができるビジョンモデルから来ました。\\n- 画像の回答が役立つ場合は、画像の回答が提供するすべての詳細を保存し、それらを使用して、十分に構造化された回答を構築します。\\n- 単一のバッチの画像が関連しない可能性があるため、有用なコンテンツがない画像の回答を無視します。関連性があり便利な画像回答からのすべての詳細に焦点を当てます。\\n- ドキュメントテキストが質問に答えることができるかどうかを確認します。\\n- チャット履歴が質問に答えることができるかどうかを確認してください。\\n- 数字のキャプションが質問に答えることができるかどうかを確認してください。\\n- 回答がテキスト、チャット履歴、および図のキャプションの間の競合の場合、この競合に応答を集中しないでください。\\n- 矛盾する答えを処理する際に、論理的推論とサポート証拠を使用して、各回答の妥当性を評価します。\\n- 矛盾する答えを処理する際に、最も一貫した答えを選択します。つまり、紛争（自己整合性推論）または十分に確立された事実と一致するものの間の最も一般的な答えを選択します。\\n- 競合する回答を処理する際には、別のデータソースよりも1つのデータソースを選択できます。つまり、テキストがテキストから回答できる場合、テキストはおそらく画像よりも信頼性が高く、フローチャート、写真などのテキストよりも画像は信頼性が高くなります。\\n- システムプロンプトに従うことを忘れないでください。\\n- 最後に、チャットの履歴によれば、上記のドキュメント、フィギュアキャプション、または指定された画像は、十分に構造化された応答を構築します。\\n</応答_説明書>\\n\\n')"
      ]
     },
     "execution_count": 42,
     "metadata": {},
     "output_type": "execute_result"
    }
   ],
   "source": [
    "client.get_prompt_template('4d3a78f7-798f-44d9-b577-5304bc07f255')"
   ]
  },
  {
   "cell_type": "code",
   "execution_count": null,
   "id": "8badbcd8-a827-4014-a638-add22971b1d4",
   "metadata": {},
   "outputs": [],
   "source": []
  },
  {
   "cell_type": "code",
   "execution_count": 7,
   "id": "4a11c3c0-8218-4c6b-9a59-a6b876060611",
   "metadata": {},
   "outputs": [
    {
     "data": {
      "text/plain": [
       "'a72f9a5a-0c25-4ed7-92fa-fdc686d730c0'"
      ]
     },
     "execution_count": 7,
     "metadata": {},
     "output_type": "execute_result"
    }
   ],
   "source": [
    "chat_session_id = client.create_chat_session_on_default_collection()\n",
    "chat_session_id"
   ]
  },
  {
   "cell_type": "code",
   "execution_count": 41,
   "id": "35b5918c-d08c-4259-8017-c66f7d00ccc7",
   "metadata": {},
   "outputs": [],
   "source": [
    "#client.get_chat_session_prompt_template('a72f9a5a-0c25-4ed7-92fa-fdc686d730c0')"
   ]
  },
  {
   "cell_type": "code",
   "execution_count": 43,
   "id": "67254600-7e55-4a96-9c70-d7a7149a06b9",
   "metadata": {},
   "outputs": [
    {
     "name": "stdout",
     "output_type": "stream",
     "text": [
      ">>>>> Prompt\n",
      "パイントグラスに2段階で注ぎ、泡がわずかに盛り上がったら注ぎが完了するビールは？\n",
      ">>>>> LLM Reply\n",
      "従い、パイントグラスに2段階で注ぎ、泡がわずかに盛り上がったら注ぎが完了するビールは「NITRO BEER」です。\n",
      "CPU times: user 19.7 ms, sys: 4.44 ms, total: 24.1 ms\n",
      "Wall time: 12.1 s\n"
     ]
    }
   ],
   "source": [
    "%%time\n",
    "\n",
    "#LlmModel = 'Qwen/Qwen2.5-72B-Instruct'\n",
    "#LlmModel = 'meta-llama/Meta-Llama-3.1-8B-Instruct'\n",
    "#LlmModel = 'gpt-4o-mini'\n",
    "LlmModel = 'gpt-4o'\n",
    "\n",
    "system_prompt = '''\n",
    "あなたは質問に対し、与えられたドキュメントから回答を実施する優秀なRAGチャットアシスタントです。\n",
    "必ず日本語で回答します。\n",
    "長くても70トークン以内で簡潔に回答を作成してください。回答を得た理由を述べる必要はないです。\n",
    "'''\n",
    "pre_prompt_query='以下の情報に注意して覚えておいてください。最後に質問や命令に答えるためには、チャット履歴、指定された画像、または文書テキストのみを使用する必要があります。'\n",
    "prompt_query='チャット履歴の情報のみに従って、与えられた画像、または上記のコンテキスト内で提供されているドキュメントテキストは、次のように明確に構成された応答（「従い」から始まる）を示します。'\n",
    "\n",
    "message = 'パイントグラスに2段階で注ぎ、泡がわずかに盛り上がったら注ぎが完了するビールは？'\n",
    "\n",
    "print('>>>>> Prompt')\n",
    "print(Message)\n",
    "\n",
    "print('>>>>> LLM Reply')\n",
    "with client.connect(chat_session_id) as session:\n",
    "    reply = session.query(\n",
    "        message = message,\n",
    "        system_prompt=system_prompt,\n",
    "        pre_prompt_query=pre_prompt_query,\n",
    "        prompt_query=prompt_query,\n",
    "        llm=LlmModel,\n",
    "        rag_config={\"rag_type\": \"rag\"},   # (Normal) RAG \n",
    "    )\n",
    "    print(reply.content)"
   ]
  },
  {
   "cell_type": "code",
   "execution_count": 44,
   "id": "31d73860-0fde-41fa-8cba-3225e23510fa",
   "metadata": {},
   "outputs": [
    {
     "name": "stdout",
     "output_type": "stream",
     "text": [
      "QandA.xlsx     Untitled.ipynb test.ipynb     test2.ipynb\n"
     ]
    }
   ],
   "source": [
    "!ls"
   ]
  },
  {
   "cell_type": "code",
   "execution_count": 45,
   "id": "53590b9f-0511-4d00-93bf-a9f7892cf779",
   "metadata": {},
   "outputs": [
    {
     "data": {
      "text/plain": [
       "(25, 5)"
      ]
     },
     "execution_count": 45,
     "metadata": {},
     "output_type": "execute_result"
    }
   ],
   "source": [
    "df = pd.read_excel('QandA.xlsx')\n",
    "df.shape"
   ]
  },
  {
   "cell_type": "code",
   "execution_count": 46,
   "id": "535397b8-3cf3-49e1-943a-9bf05e63587c",
   "metadata": {},
   "outputs": [
    {
     "data": {
      "text/html": [
       "<div>\n",
       "<style scoped>\n",
       "    .dataframe tbody tr th:only-of-type {\n",
       "        vertical-align: middle;\n",
       "    }\n",
       "\n",
       "    .dataframe tbody tr th {\n",
       "        vertical-align: top;\n",
       "    }\n",
       "\n",
       "    .dataframe thead th {\n",
       "        text-align: right;\n",
       "    }\n",
       "</style>\n",
       "<table border=\"1\" class=\"dataframe\">\n",
       "  <thead>\n",
       "    <tr style=\"text-align: right;\">\n",
       "      <th></th>\n",
       "      <th>No</th>\n",
       "      <th>Question</th>\n",
       "      <th>Answer</th>\n",
       "      <th>ページ</th>\n",
       "      <th>コメント</th>\n",
       "    </tr>\n",
       "  </thead>\n",
       "  <tbody>\n",
       "    <tr>\n",
       "      <th>0</th>\n",
       "      <td>1</td>\n",
       "      <td>ビールの主な原材料を全て教えてください？</td>\n",
       "      <td>麦芽、ホップ、酵母、水、副原料</td>\n",
       "      <td>4</td>\n",
       "      <td>NaN</td>\n",
       "    </tr>\n",
       "    <tr>\n",
       "      <th>1</th>\n",
       "      <td>2</td>\n",
       "      <td>ビールの製造工程の3番目の工程は？</td>\n",
       "      <td>煮沸</td>\n",
       "      <td>5</td>\n",
       "      <td>NaN</td>\n",
       "    </tr>\n",
       "    <tr>\n",
       "      <th>2</th>\n",
       "      <td>3</td>\n",
       "      <td>Craft Beer Marketでは何種類のビールを提供していますか？</td>\n",
       "      <td>9種類</td>\n",
       "      <td>6,7</td>\n",
       "      <td>NaN</td>\n",
       "    </tr>\n",
       "    <tr>\n",
       "      <th>3</th>\n",
       "      <td>4</td>\n",
       "      <td>Craft Beer Marketが提供するビールの中で、アルコール度数の最も高いと考えられ...</td>\n",
       "      <td>SPECIAL BEER</td>\n",
       "      <td>7</td>\n",
       "      <td>NaN</td>\n",
       "    </tr>\n",
       "    <tr>\n",
       "      <th>4</th>\n",
       "      <td>5</td>\n",
       "      <td>代表的なエールスタイルのビールを３つ教えてください？</td>\n",
       "      <td>「アメリカン・ペールエール」「イングリッシュ・ペールエー\\nル」「アンバーエール」「レッドエ...</td>\n",
       "      <td>6</td>\n",
       "      <td>NaN</td>\n",
       "    </tr>\n",
       "  </tbody>\n",
       "</table>\n",
       "</div>"
      ],
      "text/plain": [
       "   No                                           Question  \\\n",
       "0   1                               ビールの主な原材料を全て教えてください？   \n",
       "1   2                                  ビールの製造工程の3番目の工程は？   \n",
       "2   3               Craft Beer Marketでは何種類のビールを提供していますか？   \n",
       "3   4  Craft Beer Marketが提供するビールの中で、アルコール度数の最も高いと考えられ...   \n",
       "4   5                         代表的なエールスタイルのビールを３つ教えてください？   \n",
       "\n",
       "                                              Answer  ページ コメント  \n",
       "0                                    麦芽、ホップ、酵母、水、副原料    4  NaN  \n",
       "1                                                 煮沸    5  NaN  \n",
       "2                                                9種類  6,7  NaN  \n",
       "3                                       SPECIAL BEER    7  NaN  \n",
       "4  「アメリカン・ペールエール」「イングリッシュ・ペールエー\\nル」「アンバーエール」「レッドエ...    6  NaN  "
      ]
     },
     "execution_count": 46,
     "metadata": {},
     "output_type": "execute_result"
    }
   ],
   "source": [
    "df.head()"
   ]
  },
  {
   "cell_type": "code",
   "execution_count": 55,
   "id": "6a4f555e-e908-471a-b94c-356e3e380c43",
   "metadata": {},
   "outputs": [
    {
     "name": "stdout",
     "output_type": "stream",
     "text": [
      "Question >  ビールの主な原材料を全て教えてください？\n",
      "Answer >  与えられた情報によると、ビールの主な原材料は以下の通りです：\n",
      "\n",
      "1. 麦芽（主に二条大麦）\n",
      "2. ホップ\n",
      "3. 酵母\n",
      "4. 水\n",
      "5. 副原料（麦、米、糖類、コーンスターチ、こうりやん、ばれいしょ、着色料など）\n",
      "Question >  ビールの製造工程の3番目の工程は？\n",
      "Answer >  与えられた情報によると、ビールの製造工程の3番目の工程は「煮沸」です。\n",
      "Question >  Craft Beer Marketでは何種類のビールを提供していますか？\n",
      "Answer >  与えられた情報によると、Craft Beer Marketでは以下の種類のビールを提供しています：\n",
      "\n",
      "1. KANPAI! STANDARD BEER\n",
      "2. LAGER BEER / PILSNER\n",
      "3. ALE BEER\n",
      "4. WHITE BEER / WEIZEN\n",
      "5. FRUIT/HERB BEER\n",
      "6. BLACK BEER\n",
      "7. IPA – INDIA PALE ALE\n",
      "8. REAL ALE\n",
      "9. SPECIAL BEER\n",
      "\n",
      "合計で9種類のビールを提供しています。\n",
      "3\n"
     ]
    }
   ],
   "source": [
    "LlmModel = 'gpt-4o'\n",
    "\n",
    "res = []\n",
    "\n",
    "system_prompt = '''\n",
    "あなたは質問に対し、与えられたドキュメントから回答を実施する優秀なRAGチャットアシスタントです。\n",
    "必ず日本語で回答します。\n",
    "長くても70トークン以内で簡潔に回答を作成してください。回答を得た理由を述べる必要はないです。\n",
    "'''\n",
    "pre_prompt_query='以下の情報に注意して覚えておいてください。最後に質問や命令に答えるためには、チャット履歴、指定された画像、または文書テキストのみを使用する必要があります。'\n",
    "prompt_query='チャット履歴の情報のみに従って、与えられた画像、または上記のコンテキスト内で提供されているドキュメントテキストは、次のように明確に構成された応答（「与えられた情報によると、」から始まる）を示します。'\n",
    "\n",
    "#message = 'パイントグラスに2段階で注ぎ、泡がわずかに盛り上がったら注ぎが完了するビールは？'\n",
    "\n",
    "for q in df['Question'][:3]:\n",
    "    print('Question > ', q)\n",
    "\n",
    "    with client.connect(chat_session_id) as session:\n",
    "        reply = session.query(\n",
    "            message = q,\n",
    "            system_prompt=system_prompt,\n",
    "            pre_prompt_query=pre_prompt_query,\n",
    "            prompt_query=prompt_query,\n",
    "            llm=LlmModel,\n",
    "            rag_config={\"rag_type\": \"rag\"},   # (Normal) RAG \n",
    "        )\n",
    "        print('Answer > ', reply.content)\n",
    "        res.append(reply.content)\n",
    "\n",
    "print(len(res))"
   ]
  },
  {
   "cell_type": "code",
   "execution_count": 56,
   "id": "d4001309-4eb2-41b9-8b9f-d84ca3b165f0",
   "metadata": {},
   "outputs": [
    {
     "data": {
      "text/plain": [
       "['与えられた情報によると、ビールの主な原材料は以下の通りです：\\n\\n1. 麦芽（主に二条大麦）\\n2. ホップ\\n3. 酵母\\n4. 水\\n5. 副原料（麦、米、糖類、コーンスターチ、こうりやん、ばれいしょ、着色料など）',\n",
       " '与えられた情報によると、ビールの製造工程の3番目の工程は「煮沸」です。',\n",
       " '与えられた情報によると、Craft Beer Marketでは以下の種類のビールを提供しています：\\n\\n1. KANPAI! STANDARD BEER\\n2. LAGER BEER / PILSNER\\n3. ALE BEER\\n4. WHITE BEER / WEIZEN\\n5. FRUIT/HERB BEER\\n6. BLACK BEER\\n7. IPA – INDIA PALE ALE\\n8. REAL ALE\\n9. SPECIAL BEER\\n\\n合計で9種類のビールを提供しています。']"
      ]
     },
     "execution_count": 56,
     "metadata": {},
     "output_type": "execute_result"
    }
   ],
   "source": [
    "res"
   ]
  },
  {
   "cell_type": "code",
   "execution_count": null,
   "id": "0b69fec3-61f8-4fe2-be67-5feb95565b01",
   "metadata": {},
   "outputs": [],
   "source": []
  }
 ],
 "metadata": {
  "kernelspec": {
   "display_name": "Python [conda env:llm] *",
   "language": "python",
   "name": "conda-env-llm-py"
  },
  "language_info": {
   "codemirror_mode": {
    "name": "ipython",
    "version": 3
   },
   "file_extension": ".py",
   "mimetype": "text/x-python",
   "name": "python",
   "nbconvert_exporter": "python",
   "pygments_lexer": "ipython3",
   "version": "3.10.16"
  }
 },
 "nbformat": 4,
 "nbformat_minor": 5
}
