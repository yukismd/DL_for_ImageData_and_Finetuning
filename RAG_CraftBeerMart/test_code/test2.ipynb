{
 "cells": [
  {
   "cell_type": "code",
   "execution_count": null,
   "id": "30b09878-2139-40db-bb92-1a72af67dea6",
   "metadata": {},
   "outputs": [],
   "source": []
  },
  {
   "cell_type": "code",
   "execution_count": 1,
   "id": "7c125569-13e5-473e-9879-2c8559139a8a",
   "metadata": {},
   "outputs": [],
   "source": [
    "import os\n",
    "from dotenv import load_dotenv\n",
    "\n",
    "import pandas as pd\n",
    "\n",
    "from h2ogpte import H2OGPTE"
   ]
  },
  {
   "cell_type": "code",
   "execution_count": 3,
   "id": "618b40f8-49eb-4558-9f90-4236480234ef",
   "metadata": {},
   "outputs": [],
   "source": [
    "#!cat .env\n",
    "\n",
    "# H2OGPTE_GLOBAL_KEY"
   ]
  },
  {
   "cell_type": "code",
   "execution_count": 4,
   "id": "d670647c-e8d5-4631-86a6-456e5bbe8eaa",
   "metadata": {},
   "outputs": [
    {
     "name": "stdout",
     "output_type": "stream",
     "text": [
      "key is set.\n"
     ]
    }
   ],
   "source": [
    "load_dotenv(dotenv_path='.env')\n",
    "heogpteKey = os.getenv('H2OGPTE_GLOBAL_KEY')\n",
    "if heogpteKey: print('key is set.')"
   ]
  },
  {
   "cell_type": "code",
   "execution_count": 5,
   "id": "cddbb435-61a4-47ca-8f31-11e1544adc9e",
   "metadata": {},
   "outputs": [
    {
     "data": {
      "text/plain": [
       "<h2ogpte.h2ogpte.H2OGPTE at 0x12ca1a920>"
      ]
     },
     "execution_count": 5,
     "metadata": {},
     "output_type": "execute_result"
    }
   ],
   "source": [
    "client = H2OGPTE(\n",
    "    address='https://h2ogpte.dev.h2o.ai',\n",
    "    api_key=heogpteKey,\n",
    ")\n",
    "client"
   ]
  },
  {
   "cell_type": "code",
   "execution_count": 7,
   "id": "738584e6-0efa-444e-9ab6-e7f184bc4d92",
   "metadata": {},
   "outputs": [],
   "source": [
    "#client.list_recent_collections(offset=0, limit=10)"
   ]
  },
  {
   "cell_type": "code",
   "execution_count": 8,
   "id": "393adcf3-c22a-4521-95b3-cea521694f1d",
   "metadata": {},
   "outputs": [
    {
     "name": "stdout",
     "output_type": "stream",
     "text": [
      ">> Create Collection\n",
      "Warning: The embedding model only supports the following languages: ['en'], but the prompt template specifies the following language: ja. Retrieval performance may not be ideal.\n",
      "collection_id: 8cada4c0-e819-4254-8c9b-2bb95381b51d\n"
     ]
    }
   ],
   "source": [
    "# Create Collection\n",
    "print('>> Create Collection')\n",
    "collection_id = client.create_collection(\n",
    "    name=\"CBM_default\",\n",
    "    description=\"Craft Beer Market. Use original PDF.\",\n",
    "    embedding_model='BAAI/bge-m3',\n",
    "    prompt_template_id='458ee1cc-6ea2-4d5d-a10c-9ea501ae032a',   # デフォルト_v2 (Japanese)\n",
    "    collection_settings=dict(max_tokens_per_chunk=320, chunk_overlap_tokens=0),\n",
    ")\n",
    "print('collection_id: {}'.format(collection_id))"
   ]
  },
  {
   "cell_type": "code",
   "execution_count": null,
   "id": "361c27c1-c2fe-493b-9357-b40579460693",
   "metadata": {},
   "outputs": [],
   "source": []
  }
 ],
 "metadata": {
  "kernelspec": {
   "display_name": "Python [conda env:llm] *",
   "language": "python",
   "name": "conda-env-llm-py"
  },
  "language_info": {
   "codemirror_mode": {
    "name": "ipython",
    "version": 3
   },
   "file_extension": ".py",
   "mimetype": "text/x-python",
   "name": "python",
   "nbconvert_exporter": "python",
   "pygments_lexer": "ipython3",
   "version": "3.10.16"
  }
 },
 "nbformat": 4,
 "nbformat_minor": 5
}
