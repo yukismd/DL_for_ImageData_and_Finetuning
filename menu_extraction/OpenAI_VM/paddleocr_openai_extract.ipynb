{
 "cells": [
  {
   "cell_type": "markdown",
   "id": "9fadf532-2568-438e-9e3b-df0fe788aed4",
   "metadata": {},
   "source": [
    "## OCR (PaddleOCR) + OpenAI (GPT-4o-mini)"
   ]
  },
  {
   "cell_type": "code",
   "execution_count": null,
   "id": "ab1d5383-b136-48cb-86c0-00d820e8f8f6",
   "metadata": {},
   "outputs": [],
   "source": []
  },
  {
   "cell_type": "markdown",
   "id": "65906499-954a-4805-bac8-273e75590afa",
   "metadata": {},
   "source": [
    "https://paddlepaddle.github.io/PaddleOCR/latest/en/ppocr/quick_start.html"
   ]
  },
  {
   "cell_type": "code",
   "execution_count": null,
   "id": "215c4326-5efd-4228-80ba-8f659daef637",
   "metadata": {},
   "outputs": [],
   "source": []
  }
 ],
 "metadata": {
  "kernelspec": {
   "display_name": "Python 3 (ipykernel)",
   "language": "python",
   "name": "python3"
  },
  "language_info": {
   "codemirror_mode": {
    "name": "ipython",
    "version": 3
   },
   "file_extension": ".py",
   "mimetype": "text/x-python",
   "name": "python",
   "nbconvert_exporter": "python",
   "pygments_lexer": "ipython3",
   "version": "3.8.19"
  }
 },
 "nbformat": 4,
 "nbformat_minor": 5
}
