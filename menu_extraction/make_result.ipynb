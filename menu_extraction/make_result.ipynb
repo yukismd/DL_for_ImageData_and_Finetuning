{
 "cells": [
  {
   "cell_type": "code",
   "execution_count": null,
   "id": "a29c8527-280e-489a-8012-213e42d2af5a",
   "metadata": {},
   "outputs": [],
   "source": []
  },
  {
   "cell_type": "code",
   "execution_count": 1,
   "id": "d8cdac98-2c46-4ea8-b6da-67e422d26e9a",
   "metadata": {},
   "outputs": [],
   "source": [
    "import os\n",
    "import re\n",
    "import json\n",
    "\n",
    "import pandas as pd"
   ]
  },
  {
   "cell_type": "code",
   "execution_count": 2,
   "id": "aafbf62f-ed36-4812-aa74-f6b336ad6ea8",
   "metadata": {},
   "outputs": [
    {
     "name": "stdout",
     "output_type": "stream",
     "text": [
      "\u001b[34mmenu1\u001b[m\u001b[m \u001b[34mmenu2\u001b[m\u001b[m \u001b[34mmenu3\u001b[m\u001b[m \u001b[34mmenu4\u001b[m\u001b[m\n"
     ]
    }
   ],
   "source": [
    "!ls results"
   ]
  },
  {
   "cell_type": "code",
   "execution_count": 3,
   "id": "19c71c53-abfc-4b27-9ae2-39f29d116302",
   "metadata": {},
   "outputs": [
    {
     "name": "stdout",
     "output_type": "stream",
     "text": [
      "prompt_raw_LLM.txt      reply_LLM.txt\n",
      "prompt_raw_LLMandVM.txt reply_LLMandVM.txt\n"
     ]
    }
   ],
   "source": [
    "!ls results/menu1"
   ]
  },
  {
   "cell_type": "code",
   "execution_count": 4,
   "id": "fbd49ce7-9332-4cdc-81aa-f8d9c3a1e612",
   "metadata": {},
   "outputs": [
    {
     "name": "stdout",
     "output_type": "stream",
     "text": [
      "['results/menu1/reply_LLM.txt', 'results/menu1/reply_LLMandVM.txt', 'results/menu2/reply_LLM.txt', 'results/menu2/reply_LLMandVM.txt', 'results/menu3/reply_LLM.txt', 'results/menu3/reply_LLMandVM.txt', 'results/menu4/reply_LLM.txt', 'results/menu4/reply_LLMandVM.txt']\n",
      "['results/menu1/prompt_raw_LLMandVM.txt', 'results/menu2/prompt_raw_LLMandVM.txt', 'results/menu3/prompt_raw_LLMandVM.txt', 'results/menu4/prompt_raw_LLMandVM.txt']\n"
     ]
    }
   ],
   "source": [
    "files_reply = ['reply_LLM.txt', 'reply_LLMandVM.txt']\n",
    "#files_prompt = ['prompt_raw_LLM.txt', 'prompt_raw_LLMandVM.txt']\n",
    "files_prompt = ['prompt_raw_LLMandVM.txt']\n",
    "\n",
    "directories = ['menu1', 'menu2', 'menu3', 'menu4']\n",
    "\n",
    "replys = [os.path.join('results', i, j) for i in directories for j in  files_reply]\n",
    "print(replys)\n",
    "\n",
    "prompts = [os.path.join('results', i, j) for i in directories for j in  files_prompt]\n",
    "print(prompts)"
   ]
  },
  {
   "cell_type": "code",
   "execution_count": 5,
   "id": "1c53f5f0-fe02-4d58-bb70-bbc95468fd66",
   "metadata": {},
   "outputs": [
    {
     "name": "stdout",
     "output_type": "stream",
     "text": [
      "results/menu1/reply_LLM.txt\n",
      "(9, 3)\n",
      "results/menu1/reply_LLMandVM.txt\n",
      "(10, 3)\n",
      "results/menu2/reply_LLM.txt\n",
      "(68, 3)\n",
      "results/menu2/reply_LLMandVM.txt\n",
      "Expected object or value\n",
      "results/menu3/reply_LLM.txt\n",
      "(40, 3)\n",
      "results/menu3/reply_LLMandVM.txt\n",
      "(22, 3)\n",
      "results/menu4/reply_LLM.txt\n",
      "(9, 3)\n",
      "results/menu4/reply_LLMandVM.txt\n",
      "(9, 3)\n"
     ]
    }
   ],
   "source": [
    "dfs = {}\n",
    "for r in replys:\n",
    "    print(r)\n",
    "    try:\n",
    "        dfs[r] = pd.read_json(r)\n",
    "        print(dfs[r].shape)\n",
    "    except ValueError as e:\n",
    "        # エラーをキャッチして処理\n",
    "        print(e)"
   ]
  },
  {
   "cell_type": "code",
   "execution_count": 6,
   "id": "46532fa0-da9c-4f51-8bbd-78e94f133c59",
   "metadata": {},
   "outputs": [],
   "source": [
    "#df = pd.read_json('results/menu1/reply_LLM.txt')#, orient='records', lines=True)\n",
    "#df"
   ]
  },
  {
   "cell_type": "code",
   "execution_count": 7,
   "id": "214511db-2d09-4f6d-99e1-07ad888cda58",
   "metadata": {},
   "outputs": [
    {
     "data": {
      "text/plain": [
       "dict_keys(['results/menu1/reply_LLM.txt', 'results/menu1/reply_LLMandVM.txt', 'results/menu2/reply_LLM.txt', 'results/menu3/reply_LLM.txt', 'results/menu3/reply_LLMandVM.txt', 'results/menu4/reply_LLM.txt', 'results/menu4/reply_LLMandVM.txt'])"
      ]
     },
     "execution_count": 7,
     "metadata": {},
     "output_type": "execute_result"
    }
   ],
   "source": [
    "dfs.keys()"
   ]
  },
  {
   "cell_type": "code",
   "execution_count": null,
   "id": "369b559a-bc05-4a45-bb3d-e332ca8eff3a",
   "metadata": {},
   "outputs": [],
   "source": []
  },
  {
   "cell_type": "code",
   "execution_count": 8,
   "id": "476b4a87-94f3-43a7-8285-3dd142be18be",
   "metadata": {},
   "outputs": [
    {
     "data": {
      "text/plain": [
       "['results/menu1/prompt_raw_LLMandVM.txt',\n",
       " 'results/menu2/prompt_raw_LLMandVM.txt',\n",
       " 'results/menu3/prompt_raw_LLMandVM.txt',\n",
       " 'results/menu4/prompt_raw_LLMandVM.txt']"
      ]
     },
     "execution_count": 8,
     "metadata": {},
     "output_type": "execute_result"
    }
   ],
   "source": [
    "prompts"
   ]
  },
  {
   "cell_type": "code",
   "execution_count": 49,
   "id": "4bd2a062-0006-499e-bb8e-708c82155867",
   "metadata": {},
   "outputs": [
    {
     "name": "stdout",
     "output_type": "stream",
     "text": [
      "results/menu1/prompt_raw_LLMandVM.txt\n",
      "results/menu2/prompt_raw_LLMandVM.txt\n",
      "results/menu3/prompt_raw_LLMandVM.txt\n",
      "results/menu4/prompt_raw_LLMandVM.txt\n"
     ]
    }
   ],
   "source": [
    "ocr_outs = {}\n",
    "vm_outs = {}\n",
    "for p in prompts:\n",
    "    print(p)\n",
    "    with open(p, \"r\", encoding=\"utf-8\") as file:\n",
    "        content = file.read()\n",
    "    # <text>と</text>の間の文字列を取得\n",
    "    ocr = re.findall(r\"<text>(.*?)</text>\", content, re.DOTALL)\n",
    "    ocr_outs[p] = ocr[0]\n",
    "    # </batch_name>と</text>の間の文字列を取得\n",
    "    vm = re.findall(r\"</batch_name>(.*?)</images>\", content, re.DOTALL)\n",
    "    ## [と]の間の文字列を取得\n",
    "    #vm = re.search(r\"\\[(.*?)\\]\", vm[0], re.DOTALL)\n",
    "    vm_outs[p] = vm[0]"
   ]
  },
  {
   "cell_type": "code",
   "execution_count": 53,
   "id": "676e68b6-39c2-4feb-b990-3119ce621962",
   "metadata": {},
   "outputs": [
    {
     "data": {
      "text/plain": [
       "'\\n\\n\\n申し訳ありませんが、全メニューを抽出すると非常に長くなりますが、フォーマットに従って全て出力させていただきます：\\n\\n[\\n{\\n\"メニュー名\": \"本日のカルパッチョ\",\\n\"内容説明\": \"null\",\\n\"価格\": \"638円\"\\n},\\n{\\n\"メニュー名\": \"サーモンとアボカドのクリーミーわさびソース\",\\n\"内容説明\": \"null\",\\n\"価格\": \"693円\"\\n},\\n{\\n\"メニュー名\": \"マグロとイカのタルタル\",\\n\"内容説明\": \"null\",\\n\"価格\": \"693円\"\\n},\\n{\\n\"メニュー名\": \"パリパリチキンの香ソースがけ\",\\n\"内容説明\": \"null\",\\n\"価格\": \"627円\"\\n},\\n{\\n\"メニュー名\": \"ザンギ\",\\n\"内容説明\": \"null\",\\n\"価格\": \"693円\"\\n},\\n{\\n\"メニュー名\": \"ラムの鉄板焼き\",\\n\"内容説明\": \"null\",\\n\"価格\": \"693円\"\\n},\\n{\\n\"メニュー名\": \"焼豚マスタードソース\",\\n\"内容説明\": \"null\",\\n\"価格\": \"594円\"\\n},\\n{\\n\"メニュー名\": \"ポテトフライ\",\\n\"内容説明\": \"null\",\\n\"価格\": \"440円\"\\n},\\n{\\n\"メニュー名\": \"アンチョビポテト\",\\n\"内容説明\": \"null\",\\n\"価格\": \"506円\"\\n},\\n{\\n\"メニュー名\": \"ポテマヨキムチ\",\\n\"内容説明\": \"null\",\\n\"価格\": \"484円\"\\n},\\n{\\n\"メニュー名\": \"生ハムのブルスケッタ\",\\n\"内容説明\": \"null\",\\n\"価格\": \"638円\"\\n},\\n{\\n\"メニュー名\": \"エビのマヨネーズ炒め\",\\n\"内容説明\": \"null\",\\n\"価格\": \"627円\"\\n},\\n{\\n\"メニュー名\": \"エビチリ\",\\n\"内容説明\": \"null\",\\n\"価格\": \"693円\"\\n},\\n{\\n\"メニュー名\": \"ふわふわタマゴのカニあんかけ\",\\n\"内容説明\": \"null\",\\n\"価格\": \"605円\"\\n},\\n{\\n\"メニュー名\": \"中華豆腐\",\\n\"内容説明\": \"null\",\\n\"価格\": \"385円\"\\n},\\n{\\n\"メニュー名\": \"麻婆豆腐\",\\n\"内容説明\": \"null\",\\n\"価格\": \"594円\"\\n},\\n{\\n\"メニュー名\": \"春巻 3本\",\\n\"内容説明\": \"null\",\\n\"価格\": \"429円\"\\n},\\n{\\n\"メニュー名\": \"ギョーザ 6コ\",\\n\"内容説明\": \"null\",\\n\"価格\": \"440円\"\\n},\\n{\\n\"メニュー名\": \"わかさぎのフリッター揚げ\",\\n\"内容説明\": \"null\",\\n\"価格\": \"407円\"\\n},\\n{\\n\"メニュー名\": \"鳥刺し\",\\n\"内容説明\": \"null\",\\n\"価格\": \"858円\"\\n},\\n{\\n\"メニュー名\": \"ほうれん草のおひたし\",\\n\"内容説明\": \"null\",\\n\"価格\": \"594円\"\\n},\\n{\\n\"メニュー名\": \"丸ごと揚げニンニク\",\\n\"内容説明\": \"null\",\\n\"価格\": \"517円\"\\n},\\n{\\n\"メニュー名\": \"若鶏の半身揚げ\",\\n\"内容説明\": \"null\",\\n\"価格\": \"858円\"\\n},\\n{\\n\"メニュー名\": \"チーズの味噌漬け\",\\n\"内容説明\": \"null\",\\n\"価格\": \"539円\"\\n},\\n{\\n\"メニュー名\": \"チーズ刺し（山わさびのせ）\",\\n\"内容説明\": \"null\",\\n\"価格\": \"539円\"\\n},\\n{\\n\"メニュー名\": \"枝豆との唐揚げ（わさび塩添）\",\\n\"内容説明\": \"null\",\\n\"価格\": \"484円\"\\n},\\n{\\n\"メニュー名\": \"わさび枝豆\",\\n\"内容説明\": \"null\",\\n\"価格\": \"385円\"\\n},\\n{\\n\"メニュー名\": \"山わさびたっぷりお漬物\",\\n\"内容説明\": \"null\",\\n\"価格\": \"385円\"\\n},\\n{\\n\"メニュー名\": \"牛タン塩辛ギャザーガーリック\",\\n\"内容説明\": \"null\",\\n\"価格\": \"825円\"\\n},\\n{\\n\"メニュー名\": \"ガーリックトースト\",\\n\"内容説明\": \"null\",\\n\"価格\": \"484円\"\\n},\\n{\\n\"メニュー名\": \"ゴーヤの唐揚げ\",\\n\"内容説明\": \"null\",\\n\"価格\": \"462円\"\\n},\\n{\\n\"メニュー名\": \"ゴーヤチャンプル\",\\n\"内容説明\": \"null\",\\n\"価格\": \"627円\"\\n},\\n{\\n\"メニュー名\": \"シーフードのフライ盛合わせ\",\\n\"内容説明\": \"null\",\\n\"価格\": \"858円\"\\n},\\n{\\n\"メニュー名\": \"白身魚のソテーマスタードソース\",\\n\"内容説明\": \"null\",\\n\"価格\": \"858円\"\\n},\\n{\\n\"メニュー名\": \"モッツァレラチーズと蒸し鶏の和風サラダ\",\\n\"内容説明\": \"null\",\\n\"価格\": \"693円\"\\n},\\n{\\n\"メニュー名\": \"シーザースサラダ\",\\n\"内容説明\": \"null\",\\n\"価格\": \"638円\"\\n},\\n{\\n\"メニュー名\": \"イタリアンサラダ\",\\n\"内容説明\": \"null\",\\n\"価格\": \"748円\"\\n},\\n{\\n\"メニュー名\": \"スモークサラダ\",\\n\"内容説明\": \"null\",\\n\"価格\": \"748円\"\\n},\\n{\\n\"メニュー名\": \"水菜とジャコのサラダ\",\\n\"内容説明\": \"null\",\\n\"価格\": \"594円\"\\n},\\n{\\n\"メニュー名\": \"豚肉の冷しゃぶサラダ\",\\n\"内容説明\": \"null\",\\n\"価格\": \"594円\"\\n},\\n{\\n\"メニュー名\": \"ハンバーグステーキ 200g\",\\n\"内容説明\": \"null\",\\n\"価格\": \"935円\"\\n},\\n{\\n\"メニュー名\": \"ハンバーグステーキ 300g\",\\n\"内容説明\": \"null\",\\n\"価格\": \"1375円\"\\n},\\n{\\n\"メニュー名\": \"チーズハンバーグステーキ 200g\",\\n\"内容説明\": \"null\",\\n\"価格\": \"1045円\"\\n},\\n{\\n\"メニュー名\": \"チーズハンバーグステーキ 300g\",\\n\"内容説明\": \"null\",\\n\"価格\": \"1485円\"\\n},\\n{\\n\"メニュー名\": \"和風ハンバーグステーキ 200g\",\\n\"内容説明\": \"null\",\\n\"価格\": \"935円\"\\n},\\n{\\n\"メニュー名\": \"和風ハンバーグステーキ 300g\",\\n\"内容説明\": \"null\",\\n\"価格\": \"1375円\"\\n},\\n{\\n\"メニュー名\": \"ポークステーキ（デミグラスソース）\",\\n\"内容説明\": \"null\",\\n\"価格\": \"990円\"\\n},\\n{\\n\"メニュー名\": \"ポークステーキ（ガーリックソース）\",\\n\"内容説明\": \"null\",\\n\"価格\": \"990円\"\\n},\\n{\\n\"メニュー名\": \"チーズポークステーキ（デミグラスソース）\",\\n\"内容説明\": \"null\",\\n\"価格\": \"1045円\"\\n},\\n{\\n\"メニュー名\": \"チキンソテー（デミグラスソース）\",\\n\"内容説明\": \"null\",\\n\"価格\": \"935円\"\\n},\\n{\\n\"メニュー名\": \"チキンソテー（ガーリックソース）\",\\n\"内容説明\": \"null\",\\n\"価格\": \"935円\"\\n},\\n{\\n\"メニュー名\": \"チーズチキンソテー（レモンソース）\",\\n\"内容説明\": \"null\",\\n\"価格\": \"1045円\"\\n},\\n{\\n\"メニュー名\": \"カルボナーラ\",\\n\"内容説明\": \"null\",\\n\"価格\": \"902円\"\\n},\\n{\\n\"メニュー名\": \"たらこスパゲッティ\",\\n\"内容説明\": \"null\",\\n\"価格\": \"935円\"\\n},\\n{\\n\"メニュー名\": \"めんたいこスパゲッティ\",\\n\"内容説明\": \"null\",\\n\"価格\": \"935円\"\\n},\\n{\\n\"メニュー名\": \"スパゲッティジェノベーゼ（バジル）\",\\n\"内容説明\": \"null\",\\n\"価格\": \"902円\"\\n},\\n{\\n\"メニュー名\": \"キノコたっぷりペペロンチーノ\",\\n\"内容説明\": \"null\",\\n\"価格\": \"880円\"\\n},\\n{\\n\"メニュー名\": \"ピッツァ マルゲリータ\",\\n\"内容説明\": \"null\",\\n\"価格\": \"1089円\"\\n},\\n{\\n\"メニュー名\": \"五目やきそば\",\\n\"内容説明\": \"null\",\\n\"価格\": \"792円\"\\n},\\n{\\n\"メニュー名\": \"五目あんかけやきソバ\",\\n\"内容説明\": \"null\",\\n\"価格\": \"792円\"\\n},\\n{\\n\"メニュー名\": \"豚肉細切りあんかけチャーハン\",\\n\"内容説明\": \"null\",\\n\"価格\": \"792円\"\\n},\\n{\\n\"メニュー名\": \"チャーハン\",\\n\"内容説明\": \"null\",\\n\"価格\": \"660円\"\\n},\\n{\\n\"メニュー名\": \"ザーサイとレタスのチャーハン\",\\n\"内容説明\": \"null\",\\n\"価格\": \"748円\"\\n},\\n{\\n\"メニュー名\": \"オムライス\",\\n\"内容説明\": \"null\",\\n\"価格\": \"770円\"\\n},\\n{\\n\"メニュー名\": \"デミオムライス\",\\n\"内容説明\": \"null\",\\n\"価格\": \"770円\"\\n},\\n{\\n\"メニュー名\": \"あずま牛ステーキ弁当\",\\n\"内容説明\": \"null\",\\n\"価格\": \"2800円\"\\n},\\n{\\n\"メニュー名\": \"ハンバーグとエビフライのMIX弁当\",\\n\"内容説明\": \"null\",\\n\"価格\": \"1200円\"\\n},\\n{\\n\"メニュー名\": \"ハンバーグ弁当\",\\n\"内容説明\": \"null\",\\n\"価格\": \"1000円\"\\n},\\n{\\n\"メニュー名\": \"MEGAハンバーグ弁当\",\\n\"内容説明\": \"null\",\\n\"価格\": \"1400円\"\\n},\\n{\\n\"メニュー名\": \"ポークステーキ弁当\",\\n\"内容説明\": \"null\",\\n\"価格\": \"1100円\"\\n},\\n{\\n\"メニュー名\": \"チキンステーキ弁当\",\\n\"内容説明\": \"null\",\\n\"価格\": \"950円\"\\n},\\n{\\n\"メニュー名\": \"唐揚げ弁当\",\\n\"内容説明\": \"null\",\\n\"価格\": \"750円\"\\n},\\n{\\n\"メニュー名\": \"エビチリ弁当\",\\n\"内容説明\": \"null\",\\n\"価格\": \"850円\"\\n},\\n{\\n\"メニュー名\": \"エビマヨ弁当\",\\n\"内容説明\": \"null\",\\n\"価格\": \"850円\"\\n},\\n{\\n\"メニュー名\": \"チキン南蛮弁当\",\\n\"内容説明\": \"null\",\\n\"価格\": \"850円\"\\n},\\n{\\n\"メニュー名\": \"チキンカツおろしポン酢弁当\",\\n\"内容説明\": \"null\",\\n\"価格\": \"850円\"\\n}\\n]\\n\\n'"
      ]
     },
     "execution_count": 53,
     "metadata": {},
     "output_type": "execute_result"
    }
   ],
   "source": [
    "vm_outs['results/menu2/prompt_raw_LLMandVM.txt']"
   ]
  },
  {
   "cell_type": "code",
   "execution_count": 65,
   "id": "0802f88b-6f68-4254-8f5d-5019ad64835c",
   "metadata": {},
   "outputs": [],
   "source": [
    "# 「\\n\\n\\n申し訳ありませんが、全メニューを抽出すると非常に長くなりますが、フォーマットに従って全て出力させていただきます：」 の削除\n",
    "vm_outs['results/menu2/prompt_raw_LLMandVM.txt'] = vm_outs['results/menu2/prompt_raw_LLMandVM.txt'].replace('\\n\\n\\n申し訳ありませんが、全メニューを抽出すると非常に長くなりますが、フォーマットに従って全て出力させていただきます：', '')\n",
    "\n",
    "# 「※ドリンクメニューも記載されていますが、長くなるため省略しました。必要であれば追加で出力可能です。\\n\\n」 の削除\n",
    "vm_outs['results/menu3/prompt_raw_LLMandVM.txt'] = vm_outs['results/menu3/prompt_raw_LLMandVM.txt'].replace('※ドリンクメニューも記載されていますが、長くなるため省略しました。必要であれば追加で出力可能です。\\n\\n', '')"
   ]
  },
  {
   "cell_type": "code",
   "execution_count": 66,
   "id": "95bf1a39-3997-4f70-9a4e-42b2a74780c2",
   "metadata": {},
   "outputs": [
    {
     "name": "stdout",
     "output_type": "stream",
     "text": [
      "results/menu1/prompt_raw_LLMandVM.txt\n",
      "results/menu2/prompt_raw_LLMandVM.txt\n",
      "results/menu3/prompt_raw_LLMandVM.txt\n",
      "results/menu4/prompt_raw_LLMandVM.txt\n"
     ]
    }
   ],
   "source": [
    "dfs_vm = {}\n",
    "for p in prompts:\n",
    "    print(p)\n",
    "    data = vm_outs[p]\n",
    "    # ステップ 1: JSON形式の文字列を整形\n",
    "    #json_data = data[0].strip()  # リストの最初の要素を取得して整形\n",
    "    # ステップ 2: JSON文字列をPythonオブジェクトに変換\n",
    "    #menu_list = json.loads(json_data)\n",
    "    menu_list = json.loads(data)\n",
    "    # ステップ 3: Pandas DataFrameに変換\n",
    "    df = pd.DataFrame(menu_list)\n",
    "    dfs_vm[p] = df"
   ]
  },
  {
   "cell_type": "code",
   "execution_count": 69,
   "id": "bee16e73-d9ed-461d-a27d-7f6c3f19f0a3",
   "metadata": {},
   "outputs": [
    {
     "name": "stdout",
     "output_type": "stream",
     "text": [
      "results/menu1/prompt_raw_LLMandVM.txt\n"
     ]
    },
    {
     "data": {
      "text/html": [
       "<div>\n",
       "<style scoped>\n",
       "    .dataframe tbody tr th:only-of-type {\n",
       "        vertical-align: middle;\n",
       "    }\n",
       "\n",
       "    .dataframe tbody tr th {\n",
       "        vertical-align: top;\n",
       "    }\n",
       "\n",
       "    .dataframe thead th {\n",
       "        text-align: right;\n",
       "    }\n",
       "</style>\n",
       "<table border=\"1\" class=\"dataframe\">\n",
       "  <thead>\n",
       "    <tr style=\"text-align: right;\">\n",
       "      <th></th>\n",
       "      <th>メニュー名</th>\n",
       "      <th>内容説明</th>\n",
       "      <th>価格</th>\n",
       "    </tr>\n",
       "  </thead>\n",
       "  <tbody>\n",
       "    <tr>\n",
       "      <th>0</th>\n",
       "      <td>ダイナソー1ポンドステーキ</td>\n",
       "      <td>大迫力!!1ポンド(450g)のステーキ。焼き加減[レア・ミディアム・ウェルダン]、[おろし...</td>\n",
       "      <td>3769円</td>\n",
       "    </tr>\n",
       "    <tr>\n",
       "      <th>1</th>\n",
       "      <td>2ポンドステーキ</td>\n",
       "      <td>null</td>\n",
       "      <td>6932円</td>\n",
       "    </tr>\n",
       "    <tr>\n",
       "      <th>2</th>\n",
       "      <td>ダイナソーカットステーキ</td>\n",
       "      <td>1/2ポンド(225g)のカットステーキ。焼き加減[レア・ミディアム・ウェルダン]、[おろし...</td>\n",
       "      <td>2213円</td>\n",
       "    </tr>\n",
       "    <tr>\n",
       "      <th>3</th>\n",
       "      <td>ダイナソー1ポンドハンバーグ</td>\n",
       "      <td>オリジナルハンバーグを豪快に3枚！1ポンド(450g)の迫力ハンバーグ。[おろし・ガーリック...</td>\n",
       "      <td>2504円</td>\n",
       "    </tr>\n",
       "    <tr>\n",
       "      <th>4</th>\n",
       "      <td>2ポンドハンバーグ</td>\n",
       "      <td>null</td>\n",
       "      <td>4528円</td>\n",
       "    </tr>\n",
       "    <tr>\n",
       "      <th>5</th>\n",
       "      <td>ダイナソーBBQグリル</td>\n",
       "      <td>スペアリブをトロトロになるまで煮込んで焼き上げました！700g(骨込)（じっくり焼き上げるた...</td>\n",
       "      <td>3769円</td>\n",
       "    </tr>\n",
       "    <tr>\n",
       "      <th>6</th>\n",
       "      <td>太古の骨付き肉（要予約）</td>\n",
       "      <td>現代人が驚愕するほどの骨付き肉！豪快にかぶりつけ！1kg（ローストビーフに同じ焼き加減はでき...</td>\n",
       "      <td>7564円</td>\n",
       "    </tr>\n",
       "    <tr>\n",
       "      <th>7</th>\n",
       "      <td>テンダーロインステーキ</td>\n",
       "      <td>やわらかなヒレ肉のステーキ 200g 焼き加減[レア・ミディアム・ウェルダン]、[おろし・ガ...</td>\n",
       "      <td>3769円</td>\n",
       "    </tr>\n",
       "    <tr>\n",
       "      <th>8</th>\n",
       "      <td>ライス M</td>\n",
       "      <td>200g</td>\n",
       "      <td>240円</td>\n",
       "    </tr>\n",
       "    <tr>\n",
       "      <th>9</th>\n",
       "      <td>ライス L</td>\n",
       "      <td>300g</td>\n",
       "      <td>366円</td>\n",
       "    </tr>\n",
       "  </tbody>\n",
       "</table>\n",
       "</div>"
      ],
      "text/plain": [
       "            メニュー名                                               内容説明     価格\n",
       "0   ダイナソー1ポンドステーキ  大迫力!!1ポンド(450g)のステーキ。焼き加減[レア・ミディアム・ウェルダン]、[おろし...  3769円\n",
       "1        2ポンドステーキ                                               null  6932円\n",
       "2    ダイナソーカットステーキ  1/2ポンド(225g)のカットステーキ。焼き加減[レア・ミディアム・ウェルダン]、[おろし...  2213円\n",
       "3  ダイナソー1ポンドハンバーグ  オリジナルハンバーグを豪快に3枚！1ポンド(450g)の迫力ハンバーグ。[おろし・ガーリック...  2504円\n",
       "4       2ポンドハンバーグ                                               null  4528円\n",
       "5     ダイナソーBBQグリル  スペアリブをトロトロになるまで煮込んで焼き上げました！700g(骨込)（じっくり焼き上げるた...  3769円\n",
       "6    太古の骨付き肉（要予約）  現代人が驚愕するほどの骨付き肉！豪快にかぶりつけ！1kg（ローストビーフに同じ焼き加減はでき...  7564円\n",
       "7     テンダーロインステーキ  やわらかなヒレ肉のステーキ 200g 焼き加減[レア・ミディアム・ウェルダン]、[おろし・ガ...  3769円\n",
       "8           ライス M                                               200g   240円\n",
       "9           ライス L                                               300g   366円"
      ]
     },
     "metadata": {},
     "output_type": "display_data"
    },
    {
     "name": "stdout",
     "output_type": "stream",
     "text": [
      "results/menu2/prompt_raw_LLMandVM.txt\n"
     ]
    },
    {
     "data": {
      "text/html": [
       "<div>\n",
       "<style scoped>\n",
       "    .dataframe tbody tr th:only-of-type {\n",
       "        vertical-align: middle;\n",
       "    }\n",
       "\n",
       "    .dataframe tbody tr th {\n",
       "        vertical-align: top;\n",
       "    }\n",
       "\n",
       "    .dataframe thead th {\n",
       "        text-align: right;\n",
       "    }\n",
       "</style>\n",
       "<table border=\"1\" class=\"dataframe\">\n",
       "  <thead>\n",
       "    <tr style=\"text-align: right;\">\n",
       "      <th></th>\n",
       "      <th>メニュー名</th>\n",
       "      <th>内容説明</th>\n",
       "      <th>価格</th>\n",
       "    </tr>\n",
       "  </thead>\n",
       "  <tbody>\n",
       "    <tr>\n",
       "      <th>0</th>\n",
       "      <td>本日のカルパッチョ</td>\n",
       "      <td>null</td>\n",
       "      <td>638円</td>\n",
       "    </tr>\n",
       "    <tr>\n",
       "      <th>1</th>\n",
       "      <td>サーモンとアボカドのクリーミーわさびソース</td>\n",
       "      <td>null</td>\n",
       "      <td>693円</td>\n",
       "    </tr>\n",
       "    <tr>\n",
       "      <th>2</th>\n",
       "      <td>マグロとイカのタルタル</td>\n",
       "      <td>null</td>\n",
       "      <td>693円</td>\n",
       "    </tr>\n",
       "    <tr>\n",
       "      <th>3</th>\n",
       "      <td>パリパリチキンの香ソースがけ</td>\n",
       "      <td>null</td>\n",
       "      <td>627円</td>\n",
       "    </tr>\n",
       "    <tr>\n",
       "      <th>4</th>\n",
       "      <td>ザンギ</td>\n",
       "      <td>null</td>\n",
       "      <td>693円</td>\n",
       "    </tr>\n",
       "    <tr>\n",
       "      <th>...</th>\n",
       "      <td>...</td>\n",
       "      <td>...</td>\n",
       "      <td>...</td>\n",
       "    </tr>\n",
       "    <tr>\n",
       "      <th>71</th>\n",
       "      <td>唐揚げ弁当</td>\n",
       "      <td>null</td>\n",
       "      <td>750円</td>\n",
       "    </tr>\n",
       "    <tr>\n",
       "      <th>72</th>\n",
       "      <td>エビチリ弁当</td>\n",
       "      <td>null</td>\n",
       "      <td>850円</td>\n",
       "    </tr>\n",
       "    <tr>\n",
       "      <th>73</th>\n",
       "      <td>エビマヨ弁当</td>\n",
       "      <td>null</td>\n",
       "      <td>850円</td>\n",
       "    </tr>\n",
       "    <tr>\n",
       "      <th>74</th>\n",
       "      <td>チキン南蛮弁当</td>\n",
       "      <td>null</td>\n",
       "      <td>850円</td>\n",
       "    </tr>\n",
       "    <tr>\n",
       "      <th>75</th>\n",
       "      <td>チキンカツおろしポン酢弁当</td>\n",
       "      <td>null</td>\n",
       "      <td>850円</td>\n",
       "    </tr>\n",
       "  </tbody>\n",
       "</table>\n",
       "<p>76 rows × 3 columns</p>\n",
       "</div>"
      ],
      "text/plain": [
       "                    メニュー名  内容説明    価格\n",
       "0               本日のカルパッチョ  null  638円\n",
       "1   サーモンとアボカドのクリーミーわさびソース  null  693円\n",
       "2             マグロとイカのタルタル  null  693円\n",
       "3          パリパリチキンの香ソースがけ  null  627円\n",
       "4                     ザンギ  null  693円\n",
       "..                    ...   ...   ...\n",
       "71                  唐揚げ弁当  null  750円\n",
       "72                 エビチリ弁当  null  850円\n",
       "73                 エビマヨ弁当  null  850円\n",
       "74                チキン南蛮弁当  null  850円\n",
       "75          チキンカツおろしポン酢弁当  null  850円\n",
       "\n",
       "[76 rows x 3 columns]"
      ]
     },
     "metadata": {},
     "output_type": "display_data"
    },
    {
     "name": "stdout",
     "output_type": "stream",
     "text": [
      "results/menu3/prompt_raw_LLMandVM.txt\n"
     ]
    },
    {
     "data": {
      "text/html": [
       "<div>\n",
       "<style scoped>\n",
       "    .dataframe tbody tr th:only-of-type {\n",
       "        vertical-align: middle;\n",
       "    }\n",
       "\n",
       "    .dataframe tbody tr th {\n",
       "        vertical-align: top;\n",
       "    }\n",
       "\n",
       "    .dataframe thead th {\n",
       "        text-align: right;\n",
       "    }\n",
       "</style>\n",
       "<table border=\"1\" class=\"dataframe\">\n",
       "  <thead>\n",
       "    <tr style=\"text-align: right;\">\n",
       "      <th></th>\n",
       "      <th>メニュー名</th>\n",
       "      <th>内容説明</th>\n",
       "      <th>価格</th>\n",
       "    </tr>\n",
       "  </thead>\n",
       "  <tbody>\n",
       "    <tr>\n",
       "      <th>0</th>\n",
       "      <td>オムライス</td>\n",
       "      <td>fried rice with a filling of ketchup-seasoned</td>\n",
       "      <td>¥900</td>\n",
       "    </tr>\n",
       "    <tr>\n",
       "      <th>1</th>\n",
       "      <td>大盛オムライス</td>\n",
       "      <td>fried rice and omelet with a filling of beef</td>\n",
       "      <td>¥1300</td>\n",
       "    </tr>\n",
       "    <tr>\n",
       "      <th>2</th>\n",
       "      <td>エビフライ</td>\n",
       "      <td>fried prawns</td>\n",
       "      <td>¥1100</td>\n",
       "    </tr>\n",
       "    <tr>\n",
       "      <th>3</th>\n",
       "      <td>ポークカツ</td>\n",
       "      <td>pork cutlet</td>\n",
       "      <td>¥1100</td>\n",
       "    </tr>\n",
       "    <tr>\n",
       "      <th>4</th>\n",
       "      <td>コーンスープ</td>\n",
       "      <td>corn soup</td>\n",
       "      <td>¥400</td>\n",
       "    </tr>\n",
       "    <tr>\n",
       "      <th>5</th>\n",
       "      <td>チキンナゲット</td>\n",
       "      <td>chicken nugget</td>\n",
       "      <td>¥400</td>\n",
       "    </tr>\n",
       "    <tr>\n",
       "      <th>6</th>\n",
       "      <td>たこ焼き</td>\n",
       "      <td>takoyaki(octopus ball)</td>\n",
       "      <td>¥400</td>\n",
       "    </tr>\n",
       "    <tr>\n",
       "      <th>7</th>\n",
       "      <td>フライドポテト</td>\n",
       "      <td>french fries</td>\n",
       "      <td>¥350</td>\n",
       "    </tr>\n",
       "    <tr>\n",
       "      <th>8</th>\n",
       "      <td>チーズ＆クラッカー</td>\n",
       "      <td>cheese &amp; cracker</td>\n",
       "      <td>¥350</td>\n",
       "    </tr>\n",
       "    <tr>\n",
       "      <th>9</th>\n",
       "      <td>サラダ</td>\n",
       "      <td>salad</td>\n",
       "      <td>¥200</td>\n",
       "    </tr>\n",
       "    <tr>\n",
       "      <th>10</th>\n",
       "      <td>ライス</td>\n",
       "      <td>rice</td>\n",
       "      <td>¥200</td>\n",
       "    </tr>\n",
       "    <tr>\n",
       "      <th>11</th>\n",
       "      <td>パン</td>\n",
       "      <td>bread</td>\n",
       "      <td>¥200</td>\n",
       "    </tr>\n",
       "    <tr>\n",
       "      <th>12</th>\n",
       "      <td>野菜盛り</td>\n",
       "      <td>None</td>\n",
       "      <td>¥300</td>\n",
       "    </tr>\n",
       "    <tr>\n",
       "      <th>13</th>\n",
       "      <td>ケーキ</td>\n",
       "      <td>cake</td>\n",
       "      <td>¥450</td>\n",
       "    </tr>\n",
       "    <tr>\n",
       "      <th>14</th>\n",
       "      <td>ケーキセット</td>\n",
       "      <td>cake set with coffee or tea</td>\n",
       "      <td>¥550</td>\n",
       "    </tr>\n",
       "    <tr>\n",
       "      <th>15</th>\n",
       "      <td>ホットケーキ</td>\n",
       "      <td>pancake</td>\n",
       "      <td>¥350</td>\n",
       "    </tr>\n",
       "    <tr>\n",
       "      <th>16</th>\n",
       "      <td>ホットケーキセット</td>\n",
       "      <td>pancake set with coffee or tea or ice cream</td>\n",
       "      <td>¥550</td>\n",
       "    </tr>\n",
       "    <tr>\n",
       "      <th>17</th>\n",
       "      <td>ソフトクリーム</td>\n",
       "      <td>ice cream: vanilla, green tea or chocolate</td>\n",
       "      <td>¥350</td>\n",
       "    </tr>\n",
       "  </tbody>\n",
       "</table>\n",
       "</div>"
      ],
      "text/plain": [
       "        メニュー名                                           内容説明     価格\n",
       "0       オムライス  fried rice with a filling of ketchup-seasoned   ¥900\n",
       "1     大盛オムライス   fried rice and omelet with a filling of beef  ¥1300\n",
       "2       エビフライ                                   fried prawns  ¥1100\n",
       "3       ポークカツ                                    pork cutlet  ¥1100\n",
       "4      コーンスープ                                      corn soup   ¥400\n",
       "5     チキンナゲット                                 chicken nugget   ¥400\n",
       "6        たこ焼き                         takoyaki(octopus ball)   ¥400\n",
       "7     フライドポテト                                   french fries   ¥350\n",
       "8   チーズ＆クラッカー                               cheese & cracker   ¥350\n",
       "9         サラダ                                          salad   ¥200\n",
       "10        ライス                                           rice   ¥200\n",
       "11         パン                                          bread   ¥200\n",
       "12       野菜盛り                                           None   ¥300\n",
       "13        ケーキ                                           cake   ¥450\n",
       "14     ケーキセット                    cake set with coffee or tea   ¥550\n",
       "15     ホットケーキ                                        pancake   ¥350\n",
       "16  ホットケーキセット    pancake set with coffee or tea or ice cream   ¥550\n",
       "17    ソフトクリーム     ice cream: vanilla, green tea or chocolate   ¥350"
      ]
     },
     "metadata": {},
     "output_type": "display_data"
    },
    {
     "name": "stdout",
     "output_type": "stream",
     "text": [
      "results/menu4/prompt_raw_LLMandVM.txt\n"
     ]
    },
    {
     "data": {
      "text/html": [
       "<div>\n",
       "<style scoped>\n",
       "    .dataframe tbody tr th:only-of-type {\n",
       "        vertical-align: middle;\n",
       "    }\n",
       "\n",
       "    .dataframe tbody tr th {\n",
       "        vertical-align: top;\n",
       "    }\n",
       "\n",
       "    .dataframe thead th {\n",
       "        text-align: right;\n",
       "    }\n",
       "</style>\n",
       "<table border=\"1\" class=\"dataframe\">\n",
       "  <thead>\n",
       "    <tr style=\"text-align: right;\">\n",
       "      <th></th>\n",
       "      <th>メニュー名</th>\n",
       "      <th>内容説明</th>\n",
       "      <th>価格</th>\n",
       "    </tr>\n",
       "  </thead>\n",
       "  <tbody>\n",
       "    <tr>\n",
       "      <th>0</th>\n",
       "      <td>原生芋と蒸しソラマメのソイマスカルポーネサラダ</td>\n",
       "      <td>長野県産ほうれん草とマッシュルームを使用してソイマスカルポーネを作りました。メープルカシュー...</td>\n",
       "      <td>¥1851（ラージサイズ）/ ¥1501（ハーフサイズ）</td>\n",
       "    </tr>\n",
       "    <tr>\n",
       "      <th>1</th>\n",
       "      <td>ローストチキンのチキンラップサラダ</td>\n",
       "      <td>りんごと胡麻のドレッシングとローストチキン</td>\n",
       "      <td>¥1901（ラージサイズ）/ ¥1551（ハーフサイズ）</td>\n",
       "    </tr>\n",
       "    <tr>\n",
       "      <th>2</th>\n",
       "      <td>きのことかぼちゃのクリームパスタ</td>\n",
       "      <td>きのことかぼちゃのクリームソース</td>\n",
       "      <td>¥1851</td>\n",
       "    </tr>\n",
       "    <tr>\n",
       "      <th>3</th>\n",
       "      <td>有機野菜の濃厚ポタージュ</td>\n",
       "      <td>有機野菜使用、濃厚クリームスープ仕立て</td>\n",
       "      <td>¥401</td>\n",
       "    </tr>\n",
       "    <tr>\n",
       "      <th>4</th>\n",
       "      <td>キッズプレート</td>\n",
       "      <td>大豆ミートの唐揚げ、有機野菜のまぜごはん、フライドポテト、ひとくちデザート、ジュース（りんご...</td>\n",
       "      <td>¥651</td>\n",
       "    </tr>\n",
       "    <tr>\n",
       "      <th>5</th>\n",
       "      <td>平飼い鶏と季節野菜のサフラン煮込み</td>\n",
       "      <td>平飼い鶏のモモ肉をサフラン風味でじっくり煮込みました。アーモンドのコク深い香りを楽しめる一品です</td>\n",
       "      <td>¥1851/単品¥1601</td>\n",
       "    </tr>\n",
       "    <tr>\n",
       "      <th>6</th>\n",
       "      <td>自家製ひしおのジューシー唐揚げ</td>\n",
       "      <td>国産大豆で作った自家製ひしおに漬け込んだジューシーな唐揚げ</td>\n",
       "      <td>¥1601</td>\n",
       "    </tr>\n",
       "    <tr>\n",
       "      <th>7</th>\n",
       "      <td>豆とトマトのVEGANカレー</td>\n",
       "      <td>有機野菜をたっぷり使用した自家製カレー</td>\n",
       "      <td>¥1751/単品¥1501</td>\n",
       "    </tr>\n",
       "    <tr>\n",
       "      <th>8</th>\n",
       "      <td>大豆ミート麻婆げ油淋鶏風</td>\n",
       "      <td>大豆ミート唐揚げと野菜を特製油淋鶏ソースで</td>\n",
       "      <td>¥1501</td>\n",
       "    </tr>\n",
       "  </tbody>\n",
       "</table>\n",
       "</div>"
      ],
      "text/plain": [
       "                     メニュー名                                               内容説明  \\\n",
       "0  原生芋と蒸しソラマメのソイマスカルポーネサラダ  長野県産ほうれん草とマッシュルームを使用してソイマスカルポーネを作りました。メープルカシュー...   \n",
       "1        ローストチキンのチキンラップサラダ                              りんごと胡麻のドレッシングとローストチキン   \n",
       "2         きのことかぼちゃのクリームパスタ                                   きのことかぼちゃのクリームソース   \n",
       "3             有機野菜の濃厚ポタージュ                                有機野菜使用、濃厚クリームスープ仕立て   \n",
       "4                  キッズプレート  大豆ミートの唐揚げ、有機野菜のまぜごはん、フライドポテト、ひとくちデザート、ジュース（りんご...   \n",
       "5        平飼い鶏と季節野菜のサフラン煮込み   平飼い鶏のモモ肉をサフラン風味でじっくり煮込みました。アーモンドのコク深い香りを楽しめる一品です   \n",
       "6          自家製ひしおのジューシー唐揚げ                      国産大豆で作った自家製ひしおに漬け込んだジューシーな唐揚げ   \n",
       "7           豆とトマトのVEGANカレー                                有機野菜をたっぷり使用した自家製カレー   \n",
       "8             大豆ミート麻婆げ油淋鶏風                              大豆ミート唐揚げと野菜を特製油淋鶏ソースで   \n",
       "\n",
       "                             価格  \n",
       "0  ¥1851（ラージサイズ）/ ¥1501（ハーフサイズ）  \n",
       "1  ¥1901（ラージサイズ）/ ¥1551（ハーフサイズ）  \n",
       "2                         ¥1851  \n",
       "3                          ¥401  \n",
       "4                          ¥651  \n",
       "5                 ¥1851/単品¥1601  \n",
       "6                         ¥1601  \n",
       "7                 ¥1751/単品¥1501  \n",
       "8                         ¥1501  "
      ]
     },
     "metadata": {},
     "output_type": "display_data"
    }
   ],
   "source": [
    "for k in dfs_vm.keys():\n",
    "    print(k)\n",
    "    display(dfs_vm[k])"
   ]
  },
  {
   "cell_type": "code",
   "execution_count": 80,
   "id": "baec85ee-acbe-4190-9d10-cbbceab195a0",
   "metadata": {},
   "outputs": [
    {
     "name": "stdout",
     "output_type": "stream",
     "text": [
      "results/menu1/reply_VL.csv\n",
      "results/menu2/reply_VL.csv\n",
      "results/menu3/reply_VL.csv\n",
      "results/menu4/reply_VL.csv\n"
     ]
    }
   ],
   "source": [
    "# 保存 - VM\n",
    "for k in dfs_vm.keys():\n",
    "    csv_name = k.replace('prompt_raw_LLMandVM.txt', 'reply_VL.csv')\n",
    "    print(csv_name)\n",
    "    dfs_vm[k].to_csv(csv_name, index=False)"
   ]
  },
  {
   "cell_type": "code",
   "execution_count": 77,
   "id": "d943404d-1227-485a-8ec9-c84043aa2cb9",
   "metadata": {},
   "outputs": [
    {
     "name": "stdout",
     "output_type": "stream",
     "text": [
      "results/menu1/reply_LLM.csv\n",
      "results/menu1/reply_LLMandVM.csv\n",
      "results/menu2/reply_LLM.csv\n",
      "results/menu3/reply_LLM.csv\n",
      "results/menu3/reply_LLMandVM.csv\n",
      "results/menu4/reply_LLM.csv\n",
      "results/menu4/reply_LLMandVM.csv\n"
     ]
    }
   ],
   "source": [
    "# 保存 - LLM、LLM&VM\n",
    "for k in dfs.keys():\n",
    "    csv_name = k.replace('txt', 'csv')\n",
    "    print(csv_name)\n",
    "    dfs[k].to_csv(csv_name, index=False)#, encoding='SJIS')"
   ]
  },
  {
   "cell_type": "code",
   "execution_count": null,
   "id": "6c3b29cb-aca9-48e1-96be-94f326668fbb",
   "metadata": {},
   "outputs": [],
   "source": []
  },
  {
   "cell_type": "code",
   "execution_count": null,
   "id": "d05c361f-9697-4281-bb31-92ee275948e9",
   "metadata": {},
   "outputs": [],
   "source": []
  }
 ],
 "metadata": {
  "kernelspec": {
   "display_name": "Python 3 (ipykernel)",
   "language": "python",
   "name": "python3"
  },
  "language_info": {
   "codemirror_mode": {
    "name": "ipython",
    "version": 3
   },
   "file_extension": ".py",
   "mimetype": "text/x-python",
   "name": "python",
   "nbconvert_exporter": "python",
   "pygments_lexer": "ipython3",
   "version": "3.10.14"
  }
 },
 "nbformat": 4,
 "nbformat_minor": 5
}
