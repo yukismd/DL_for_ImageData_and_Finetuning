{
 "cells": [
  {
   "cell_type": "code",
   "execution_count": null,
   "id": "e9020bdf-684a-44d2-a50b-f36c3c5640ac",
   "metadata": {},
   "outputs": [],
   "source": []
  },
  {
   "cell_type": "code",
   "execution_count": 1,
   "id": "be2b51fe-632f-4f5a-aca7-cab22f3f421d",
   "metadata": {},
   "outputs": [],
   "source": [
    "import pandas as pd"
   ]
  },
  {
   "cell_type": "code",
   "execution_count": 3,
   "id": "b82687bb-612d-450e-9c4e-9b18acc11fea",
   "metadata": {},
   "outputs": [
    {
     "name": "stdout",
     "output_type": "stream",
     "text": [
      "check_result_aio.ipynb \u001b[34mflexeval_aio_yukismd\u001b[m\u001b[m\n",
      "\u001b[34mflexeval_aio\u001b[m\u001b[m           readme.md\n"
     ]
    }
   ],
   "source": [
    "!ls"
   ]
  },
  {
   "cell_type": "code",
   "execution_count": 4,
   "id": "286980dd-48ab-48bb-9e9b-82497095c177",
   "metadata": {},
   "outputs": [
    {
     "name": "stdout",
     "output_type": "stream",
     "text": [
      "(1000, 6)\n"
     ]
    },
    {
     "data": {
      "text/html": [
       "<div>\n",
       "<style scoped>\n",
       "    .dataframe tbody tr th:only-of-type {\n",
       "        vertical-align: middle;\n",
       "    }\n",
       "\n",
       "    .dataframe tbody tr th {\n",
       "        vertical-align: top;\n",
       "    }\n",
       "\n",
       "    .dataframe thead th {\n",
       "        text-align: right;\n",
       "    }\n",
       "</style>\n",
       "<table border=\"1\" class=\"dataframe\">\n",
       "  <thead>\n",
       "    <tr style=\"text-align: right;\">\n",
       "      <th></th>\n",
       "      <th>lm_prompt</th>\n",
       "      <th>lm_output</th>\n",
       "      <th>task_inputs</th>\n",
       "      <th>references</th>\n",
       "      <th>char_f1</th>\n",
       "      <th>exact_match</th>\n",
       "    </tr>\n",
       "  </thead>\n",
       "  <tbody>\n",
       "    <tr>\n",
       "      <th>0</th>\n",
       "      <td>映画『ウエスト・サイド物語』に登場する2つの少年グループといえば、シャーク団と何団?答えは「</td>\n",
       "      <td>シャーク団</td>\n",
       "      <td>{'qid': 'AIO02-0001', 'competition': '第2回AI王',...</td>\n",
       "      <td>[ジェット団]</td>\n",
       "      <td>0.20</td>\n",
       "      <td>False</td>\n",
       "    </tr>\n",
       "    <tr>\n",
       "      <th>1</th>\n",
       "      <td>氷った海に穴を開けて漁をすることから、漢字で「氷の下の魚」と書くタラ科の魚は何?答えは「</td>\n",
       "      <td>鱈</td>\n",
       "      <td>{'qid': 'AIO02-0002', 'competition': '第2回AI王',...</td>\n",
       "      <td>[コマイ]</td>\n",
       "      <td>0.00</td>\n",
       "      <td>False</td>\n",
       "    </tr>\n",
       "    <tr>\n",
       "      <th>2</th>\n",
       "      <td>アメリカとロシア間で結ばれた「戦略兵器削減条約」のことをアルファベット5文字の略称で何という...</td>\n",
       "      <td>AUMF</td>\n",
       "      <td>{'qid': 'AIO02-0003', 'competition': '第2回AI王',...</td>\n",
       "      <td>[START, 新START]</td>\n",
       "      <td>0.22</td>\n",
       "      <td>False</td>\n",
       "    </tr>\n",
       "    <tr>\n",
       "      <th>3</th>\n",
       "      <td>リンゴが木から落ちる様子を見て「万有引力」を発見したといわれる、17世紀のイギリスの科学者は...</td>\n",
       "      <td>アレックス・ベリング</td>\n",
       "      <td>{'qid': 'AIO02-0004', 'competition': '第2回AI王',...</td>\n",
       "      <td>[ニュートン, アイザック・ニュートン]</td>\n",
       "      <td>0.42</td>\n",
       "      <td>False</td>\n",
       "    </tr>\n",
       "    <tr>\n",
       "      <th>4</th>\n",
       "      <td>聖武天皇の時代に栄えた、東大寺正倉院や唐招提寺金堂など、中国・唐の影響を強く受けた貴族文化を...</td>\n",
       "      <td>唐代</td>\n",
       "      <td>{'qid': 'AIO02-0005', 'competition': '第2回AI王',...</td>\n",
       "      <td>[天平文化]</td>\n",
       "      <td>0.00</td>\n",
       "      <td>False</td>\n",
       "    </tr>\n",
       "  </tbody>\n",
       "</table>\n",
       "</div>"
      ],
      "text/plain": [
       "                                           lm_prompt   lm_output  \\\n",
       "0     映画『ウエスト・サイド物語』に登場する2つの少年グループといえば、シャーク団と何団?答えは「       シャーク団   \n",
       "1       氷った海に穴を開けて漁をすることから、漢字で「氷の下の魚」と書くタラ科の魚は何?答えは「           鱈   \n",
       "2  アメリカとロシア間で結ばれた「戦略兵器削減条約」のことをアルファベット5文字の略称で何という...        AUMF   \n",
       "3  リンゴが木から落ちる様子を見て「万有引力」を発見したといわれる、17世紀のイギリスの科学者は...  アレックス・ベリング   \n",
       "4  聖武天皇の時代に栄えた、東大寺正倉院や唐招提寺金堂など、中国・唐の影響を強く受けた貴族文化を...          唐代   \n",
       "\n",
       "                                         task_inputs            references  \\\n",
       "0  {'qid': 'AIO02-0001', 'competition': '第2回AI王',...               [ジェット団]   \n",
       "1  {'qid': 'AIO02-0002', 'competition': '第2回AI王',...                 [コマイ]   \n",
       "2  {'qid': 'AIO02-0003', 'competition': '第2回AI王',...       [START, 新START]   \n",
       "3  {'qid': 'AIO02-0004', 'competition': '第2回AI王',...  [ニュートン, アイザック・ニュートン]   \n",
       "4  {'qid': 'AIO02-0005', 'competition': '第2回AI王',...                [天平文化]   \n",
       "\n",
       "   char_f1  exact_match  \n",
       "0     0.20        False  \n",
       "1     0.00        False  \n",
       "2     0.22        False  \n",
       "3     0.42        False  \n",
       "4     0.00        False  "
      ]
     },
     "execution_count": 4,
     "metadata": {},
     "output_type": "execute_result"
    }
   ],
   "source": [
    "df_res_original = pd.read_json('flexeval_aio/outputs.jsonl', orient='records', lines=True)\n",
    "print(df_res_original.shape)\n",
    "df_res_original.head()"
   ]
  },
  {
   "cell_type": "code",
   "execution_count": 5,
   "id": "04670fcf-18c8-4eee-9352-84bb3b0e1f10",
   "metadata": {},
   "outputs": [
    {
     "name": "stdout",
     "output_type": "stream",
     "text": [
      "(1000, 6)\n"
     ]
    },
    {
     "data": {
      "text/html": [
       "<div>\n",
       "<style scoped>\n",
       "    .dataframe tbody tr th:only-of-type {\n",
       "        vertical-align: middle;\n",
       "    }\n",
       "\n",
       "    .dataframe tbody tr th {\n",
       "        vertical-align: top;\n",
       "    }\n",
       "\n",
       "    .dataframe thead th {\n",
       "        text-align: right;\n",
       "    }\n",
       "</style>\n",
       "<table border=\"1\" class=\"dataframe\">\n",
       "  <thead>\n",
       "    <tr style=\"text-align: right;\">\n",
       "      <th></th>\n",
       "      <th>lm_prompt</th>\n",
       "      <th>lm_output</th>\n",
       "      <th>task_inputs</th>\n",
       "      <th>references</th>\n",
       "      <th>char_f1</th>\n",
       "      <th>exact_match</th>\n",
       "    </tr>\n",
       "  </thead>\n",
       "  <tbody>\n",
       "    <tr>\n",
       "      <th>0</th>\n",
       "      <td>映画『ウエスト・サイド物語』に登場する2つの少年グループといえば、シャーク団と何団?答えは「</td>\n",
       "      <td>シャーク団</td>\n",
       "      <td>{'qid': 'AIO02-0001', 'competition': '第2回AI王',...</td>\n",
       "      <td>[ジェット団]</td>\n",
       "      <td>0.20</td>\n",
       "      <td>False</td>\n",
       "    </tr>\n",
       "    <tr>\n",
       "      <th>1</th>\n",
       "      <td>氷った海に穴を開けて漁をすることから、漢字で「氷の下の魚」と書くタラ科の魚は何?答えは「</td>\n",
       "      <td>魚</td>\n",
       "      <td>{'qid': 'AIO02-0002', 'competition': '第2回AI王',...</td>\n",
       "      <td>[コマイ]</td>\n",
       "      <td>0.00</td>\n",
       "      <td>False</td>\n",
       "    </tr>\n",
       "    <tr>\n",
       "      <th>2</th>\n",
       "      <td>アメリカとロシア間で結ばれた「戦略兵器削減条約」のことをアルファベット5文字の略称で何という...</td>\n",
       "      <td>核戦争の防止条約</td>\n",
       "      <td>{'qid': 'AIO02-0003', 'competition': '第2回AI王',...</td>\n",
       "      <td>[START, 新START]</td>\n",
       "      <td>0.00</td>\n",
       "      <td>False</td>\n",
       "    </tr>\n",
       "    <tr>\n",
       "      <th>3</th>\n",
       "      <td>リンゴが木から落ちる様子を見て「万有引力」を発見したといわれる、17世紀のイギリスの科学者は...</td>\n",
       "      <td>ジョン・ディクソン</td>\n",
       "      <td>{'qid': 'AIO02-0004', 'competition': '第2回AI王',...</td>\n",
       "      <td>[ニュートン, アイザック・ニュートン]</td>\n",
       "      <td>0.22</td>\n",
       "      <td>False</td>\n",
       "    </tr>\n",
       "    <tr>\n",
       "      <th>4</th>\n",
       "      <td>聖武天皇の時代に栄えた、東大寺正倉院や唐招提寺金堂など、中国・唐の影響を強く受けた貴族文化を...</td>\n",
       "      <td>唐人社会</td>\n",
       "      <td>{'qid': 'AIO02-0005', 'competition': '第2回AI王',...</td>\n",
       "      <td>[天平文化]</td>\n",
       "      <td>0.00</td>\n",
       "      <td>False</td>\n",
       "    </tr>\n",
       "  </tbody>\n",
       "</table>\n",
       "</div>"
      ],
      "text/plain": [
       "                                           lm_prompt  lm_output  \\\n",
       "0     映画『ウエスト・サイド物語』に登場する2つの少年グループといえば、シャーク団と何団?答えは「      シャーク団   \n",
       "1       氷った海に穴を開けて漁をすることから、漢字で「氷の下の魚」と書くタラ科の魚は何?答えは「          魚   \n",
       "2  アメリカとロシア間で結ばれた「戦略兵器削減条約」のことをアルファベット5文字の略称で何という...   核戦争の防止条約   \n",
       "3  リンゴが木から落ちる様子を見て「万有引力」を発見したといわれる、17世紀のイギリスの科学者は...  ジョン・ディクソン   \n",
       "4  聖武天皇の時代に栄えた、東大寺正倉院や唐招提寺金堂など、中国・唐の影響を強く受けた貴族文化を...       唐人社会   \n",
       "\n",
       "                                         task_inputs            references  \\\n",
       "0  {'qid': 'AIO02-0001', 'competition': '第2回AI王',...               [ジェット団]   \n",
       "1  {'qid': 'AIO02-0002', 'competition': '第2回AI王',...                 [コマイ]   \n",
       "2  {'qid': 'AIO02-0003', 'competition': '第2回AI王',...       [START, 新START]   \n",
       "3  {'qid': 'AIO02-0004', 'competition': '第2回AI王',...  [ニュートン, アイザック・ニュートン]   \n",
       "4  {'qid': 'AIO02-0005', 'competition': '第2回AI王',...                [天平文化]   \n",
       "\n",
       "   char_f1  exact_match  \n",
       "0     0.20        False  \n",
       "1     0.00        False  \n",
       "2     0.00        False  \n",
       "3     0.22        False  \n",
       "4     0.00        False  "
      ]
     },
     "execution_count": 5,
     "metadata": {},
     "output_type": "execute_result"
    }
   ],
   "source": [
    "df_res_ft = pd.read_json('flexeval_aio_yukismd/outputs.jsonl', orient='records', lines=True)\n",
    "print(df_res_ft.shape)\n",
    "df_res_ft.head()"
   ]
  },
  {
   "cell_type": "code",
   "execution_count": null,
   "id": "37004800-6d35-47b2-b380-05457d28f32b",
   "metadata": {},
   "outputs": [],
   "source": []
  },
  {
   "cell_type": "code",
   "execution_count": 8,
   "id": "e34595b1-d916-411c-83a6-538f203e682d",
   "metadata": {},
   "outputs": [
    {
     "name": "stdout",
     "output_type": "stream",
     "text": [
      "映画『ウエスト・サイド物語』に登場する2つの少年グループといえば、シャーク団と何団?答えは「\n"
     ]
    }
   ],
   "source": [
    "print(df_res_original['lm_prompt'][0])"
   ]
  },
  {
   "cell_type": "code",
   "execution_count": 9,
   "id": "42da3018-a09c-4895-b599-83ff3a04565c",
   "metadata": {},
   "outputs": [
    {
     "name": "stdout",
     "output_type": "stream",
     "text": [
      "氷った海に穴を開けて漁をすることから、漢字で「氷の下の魚」と書くタラ科の魚は何?答えは「\n"
     ]
    }
   ],
   "source": [
    "print(df_res_original['lm_prompt'][1])"
   ]
  },
  {
   "cell_type": "code",
   "execution_count": null,
   "id": "51bf77e8-d698-4ee0-8b94-383a5c758414",
   "metadata": {},
   "outputs": [],
   "source": []
  },
  {
   "cell_type": "code",
   "execution_count": 10,
   "id": "8b6f43f5-67b2-44e5-bd62-66a45c7aa61c",
   "metadata": {},
   "outputs": [
    {
     "data": {
      "text/plain": [
       "{'qid': 'AIO02-0001',\n",
       " 'competition': '第2回AI王',\n",
       " 'timestamp': '2021/01/29',\n",
       " 'section': '開発データ問題',\n",
       " 'number': 1,\n",
       " 'original_question': '映画『ウエスト・サイド物語』に登場する2つの少年グループといえば、シャーク団と何団？',\n",
       " 'original_answer': 'ジェット団',\n",
       " 'original_additional_info': '',\n",
       " 'question': '映画『ウエスト・サイド物語』に登場する2つの少年グループといえば、シャーク団と何団?',\n",
       " 'answers': ['ジェット団']}"
      ]
     },
     "execution_count": 10,
     "metadata": {},
     "output_type": "execute_result"
    }
   ],
   "source": [
    "df_res_original['task_inputs'][0]"
   ]
  },
  {
   "cell_type": "code",
   "execution_count": null,
   "id": "6bb0ddbe-e21f-46f5-8d4b-3443c90decb6",
   "metadata": {},
   "outputs": [],
   "source": []
  },
  {
   "cell_type": "code",
   "execution_count": 11,
   "id": "d11163bd-d5b5-4cae-82dc-390b8634d80a",
   "metadata": {},
   "outputs": [
    {
     "name": "stdout",
     "output_type": "stream",
     "text": [
      "(1000, 8)\n"
     ]
    },
    {
     "data": {
      "text/html": [
       "<div>\n",
       "<style scoped>\n",
       "    .dataframe tbody tr th:only-of-type {\n",
       "        vertical-align: middle;\n",
       "    }\n",
       "\n",
       "    .dataframe tbody tr th {\n",
       "        vertical-align: top;\n",
       "    }\n",
       "\n",
       "    .dataframe thead th {\n",
       "        text-align: right;\n",
       "    }\n",
       "</style>\n",
       "<table border=\"1\" class=\"dataframe\">\n",
       "  <thead>\n",
       "    <tr style=\"text-align: right;\">\n",
       "      <th></th>\n",
       "      <th>lm_prompt</th>\n",
       "      <th>references</th>\n",
       "      <th>lm_output_original</th>\n",
       "      <th>char_f1_original</th>\n",
       "      <th>exact_match_original</th>\n",
       "      <th>lm_output_finetuned</th>\n",
       "      <th>char_f1_finetuned</th>\n",
       "      <th>exact_match_finetuned</th>\n",
       "    </tr>\n",
       "  </thead>\n",
       "  <tbody>\n",
       "    <tr>\n",
       "      <th>0</th>\n",
       "      <td>映画『ウエスト・サイド物語』に登場する2つの少年グループといえば、シャーク団と何団?答えは「</td>\n",
       "      <td>[ジェット団]</td>\n",
       "      <td>シャーク団</td>\n",
       "      <td>0.20</td>\n",
       "      <td>False</td>\n",
       "      <td>シャーク団</td>\n",
       "      <td>0.20</td>\n",
       "      <td>False</td>\n",
       "    </tr>\n",
       "    <tr>\n",
       "      <th>1</th>\n",
       "      <td>氷った海に穴を開けて漁をすることから、漢字で「氷の下の魚」と書くタラ科の魚は何?答えは「</td>\n",
       "      <td>[コマイ]</td>\n",
       "      <td>鱈</td>\n",
       "      <td>0.00</td>\n",
       "      <td>False</td>\n",
       "      <td>魚</td>\n",
       "      <td>0.00</td>\n",
       "      <td>False</td>\n",
       "    </tr>\n",
       "    <tr>\n",
       "      <th>2</th>\n",
       "      <td>アメリカとロシア間で結ばれた「戦略兵器削減条約」のことをアルファベット5文字の略称で何という...</td>\n",
       "      <td>[START, 新START]</td>\n",
       "      <td>AUMF</td>\n",
       "      <td>0.22</td>\n",
       "      <td>False</td>\n",
       "      <td>核戦争の防止条約</td>\n",
       "      <td>0.00</td>\n",
       "      <td>False</td>\n",
       "    </tr>\n",
       "    <tr>\n",
       "      <th>3</th>\n",
       "      <td>リンゴが木から落ちる様子を見て「万有引力」を発見したといわれる、17世紀のイギリスの科学者は...</td>\n",
       "      <td>[ニュートン, アイザック・ニュートン]</td>\n",
       "      <td>アレックス・ベリング</td>\n",
       "      <td>0.42</td>\n",
       "      <td>False</td>\n",
       "      <td>ジョン・ディクソン</td>\n",
       "      <td>0.22</td>\n",
       "      <td>False</td>\n",
       "    </tr>\n",
       "    <tr>\n",
       "      <th>4</th>\n",
       "      <td>聖武天皇の時代に栄えた、東大寺正倉院や唐招提寺金堂など、中国・唐の影響を強く受けた貴族文化を...</td>\n",
       "      <td>[天平文化]</td>\n",
       "      <td>唐代</td>\n",
       "      <td>0.00</td>\n",
       "      <td>False</td>\n",
       "      <td>唐人社会</td>\n",
       "      <td>0.00</td>\n",
       "      <td>False</td>\n",
       "    </tr>\n",
       "  </tbody>\n",
       "</table>\n",
       "</div>"
      ],
      "text/plain": [
       "                                           lm_prompt            references  \\\n",
       "0     映画『ウエスト・サイド物語』に登場する2つの少年グループといえば、シャーク団と何団?答えは「               [ジェット団]   \n",
       "1       氷った海に穴を開けて漁をすることから、漢字で「氷の下の魚」と書くタラ科の魚は何?答えは「                 [コマイ]   \n",
       "2  アメリカとロシア間で結ばれた「戦略兵器削減条約」のことをアルファベット5文字の略称で何という...       [START, 新START]   \n",
       "3  リンゴが木から落ちる様子を見て「万有引力」を発見したといわれる、17世紀のイギリスの科学者は...  [ニュートン, アイザック・ニュートン]   \n",
       "4  聖武天皇の時代に栄えた、東大寺正倉院や唐招提寺金堂など、中国・唐の影響を強く受けた貴族文化を...                [天平文化]   \n",
       "\n",
       "  lm_output_original  char_f1_original  exact_match_original  \\\n",
       "0              シャーク団              0.20                 False   \n",
       "1                  鱈              0.00                 False   \n",
       "2               AUMF              0.22                 False   \n",
       "3         アレックス・ベリング              0.42                 False   \n",
       "4                 唐代              0.00                 False   \n",
       "\n",
       "  lm_output_finetuned  char_f1_finetuned  exact_match_finetuned  \n",
       "0               シャーク団               0.20                  False  \n",
       "1                   魚               0.00                  False  \n",
       "2            核戦争の防止条約               0.00                  False  \n",
       "3           ジョン・ディクソン               0.22                  False  \n",
       "4                唐人社会               0.00                  False  "
      ]
     },
     "execution_count": 11,
     "metadata": {},
     "output_type": "execute_result"
    }
   ],
   "source": [
    "df_res = pd.DataFrame({'lm_prompt':df_res_original['lm_prompt'],\n",
    "                      'references':df_res_original['references'],\n",
    "                      'lm_output_original':df_res_original['lm_output'],\n",
    "                      'char_f1_original':df_res_original['char_f1'],\n",
    "                      'exact_match_original':df_res_original['exact_match'],\n",
    "                      'lm_output_finetuned':df_res_ft['lm_output'],\n",
    "                      'char_f1_finetuned':df_res_ft['char_f1'],\n",
    "                      'exact_match_finetuned':df_res_ft['exact_match']})\n",
    "print(df_res.shape)\n",
    "df_res.head()"
   ]
  },
  {
   "cell_type": "code",
   "execution_count": 15,
   "id": "307b99fb-e801-4300-99fd-678bb71293e4",
   "metadata": {},
   "outputs": [],
   "source": [
    "df_res.to_csv('results_aio.csv', index=False)\n",
    "#df_res.to_csv('results_aio_SJIS.csv', index=False, encoding='sjis', errors='ignore')"
   ]
  },
  {
   "cell_type": "code",
   "execution_count": null,
   "id": "f6144979-f636-4240-aa31-2b5e0a106efa",
   "metadata": {},
   "outputs": [],
   "source": []
  },
  {
   "cell_type": "code",
   "execution_count": 18,
   "id": "0cfd30a2-b62f-493f-8b81-1b9961a71062",
   "metadata": {},
   "outputs": [
    {
     "data": {
      "text/html": [
       "<div>\n",
       "<style scoped>\n",
       "    .dataframe tbody tr th:only-of-type {\n",
       "        vertical-align: middle;\n",
       "    }\n",
       "\n",
       "    .dataframe tbody tr th {\n",
       "        vertical-align: top;\n",
       "    }\n",
       "\n",
       "    .dataframe thead th {\n",
       "        text-align: right;\n",
       "    }\n",
       "</style>\n",
       "<table border=\"1\" class=\"dataframe\">\n",
       "  <thead>\n",
       "    <tr style=\"text-align: right;\">\n",
       "      <th></th>\n",
       "      <th>char_f1_original</th>\n",
       "      <th>char_f1_finetuned</th>\n",
       "    </tr>\n",
       "  </thead>\n",
       "  <tbody>\n",
       "    <tr>\n",
       "      <th>count</th>\n",
       "      <td>1000.000000</td>\n",
       "      <td>1000.000000</td>\n",
       "    </tr>\n",
       "    <tr>\n",
       "      <th>mean</th>\n",
       "      <td>0.159300</td>\n",
       "      <td>0.152740</td>\n",
       "    </tr>\n",
       "    <tr>\n",
       "      <th>std</th>\n",
       "      <td>0.241498</td>\n",
       "      <td>0.230079</td>\n",
       "    </tr>\n",
       "    <tr>\n",
       "      <th>min</th>\n",
       "      <td>0.000000</td>\n",
       "      <td>0.000000</td>\n",
       "    </tr>\n",
       "    <tr>\n",
       "      <th>25%</th>\n",
       "      <td>0.000000</td>\n",
       "      <td>0.000000</td>\n",
       "    </tr>\n",
       "    <tr>\n",
       "      <th>50%</th>\n",
       "      <td>0.000000</td>\n",
       "      <td>0.000000</td>\n",
       "    </tr>\n",
       "    <tr>\n",
       "      <th>75%</th>\n",
       "      <td>0.250000</td>\n",
       "      <td>0.250000</td>\n",
       "    </tr>\n",
       "    <tr>\n",
       "      <th>max</th>\n",
       "      <td>1.000000</td>\n",
       "      <td>1.000000</td>\n",
       "    </tr>\n",
       "  </tbody>\n",
       "</table>\n",
       "</div>"
      ],
      "text/plain": [
       "       char_f1_original  char_f1_finetuned\n",
       "count       1000.000000        1000.000000\n",
       "mean           0.159300           0.152740\n",
       "std            0.241498           0.230079\n",
       "min            0.000000           0.000000\n",
       "25%            0.000000           0.000000\n",
       "50%            0.000000           0.000000\n",
       "75%            0.250000           0.250000\n",
       "max            1.000000           1.000000"
      ]
     },
     "execution_count": 18,
     "metadata": {},
     "output_type": "execute_result"
    }
   ],
   "source": [
    "df_res[['char_f1_original', 'char_f1_finetuned']].describe()"
   ]
  },
  {
   "cell_type": "code",
   "execution_count": 19,
   "id": "03c87cb6-4296-4e8a-9843-b67b907bdc72",
   "metadata": {},
   "outputs": [
    {
     "data": {
      "text/plain": [
       "exact_match_original\n",
       "False                   0.974\n",
       "True                    0.026\n",
       "dtype: float64"
      ]
     },
     "execution_count": 19,
     "metadata": {},
     "output_type": "execute_result"
    }
   ],
   "source": [
    "df_res[['exact_match_original']].value_counts(normalize=True)"
   ]
  },
  {
   "cell_type": "code",
   "execution_count": 20,
   "id": "3075fa46-a9a7-482e-833e-883e158de9bd",
   "metadata": {},
   "outputs": [
    {
     "data": {
      "text/plain": [
       "exact_match_finetuned\n",
       "False                    0.98\n",
       "True                     0.02\n",
       "dtype: float64"
      ]
     },
     "execution_count": 20,
     "metadata": {},
     "output_type": "execute_result"
    }
   ],
   "source": [
    "df_res[['exact_match_finetuned']].value_counts(normalize=True)"
   ]
  },
  {
   "cell_type": "code",
   "execution_count": null,
   "id": "e2e1ab2f-1780-4272-a841-23ae4db4d390",
   "metadata": {},
   "outputs": [],
   "source": []
  }
 ],
 "metadata": {
  "kernelspec": {
   "display_name": "Python 3 (ipykernel)",
   "language": "python",
   "name": "python3"
  },
  "language_info": {
   "codemirror_mode": {
    "name": "ipython",
    "version": 3
   },
   "file_extension": ".py",
   "mimetype": "text/x-python",
   "name": "python",
   "nbconvert_exporter": "python",
   "pygments_lexer": "ipython3",
   "version": "3.10.14"
  }
 },
 "nbformat": 4,
 "nbformat_minor": 5
}
