{
 "cells": [
  {
   "cell_type": "code",
   "execution_count": null,
   "id": "967d9dab-1a2c-40d9-ae6f-ae8f93ddbbd1",
   "metadata": {},
   "outputs": [],
   "source": []
  },
  {
   "cell_type": "code",
   "execution_count": 1,
   "id": "32fbaae1-e2e9-4551-8699-2b72086253b1",
   "metadata": {},
   "outputs": [],
   "source": [
    "import json\n",
    "\n",
    "import pandas as pd"
   ]
  },
  {
   "cell_type": "code",
   "execution_count": 2,
   "id": "8dcbe185-7c5e-4a7c-810e-b57d302c6926",
   "metadata": {},
   "outputs": [
    {
     "name": "stdout",
     "output_type": "stream",
     "text": [
      "\u001b[31mconfig.json\u001b[m\u001b[m   \u001b[31mmetrics.json\u001b[m\u001b[m  \u001b[31moutputs.jsonl\u001b[m\u001b[m\n"
     ]
    }
   ],
   "source": [
    "!ls judge_pair2"
   ]
  },
  {
   "cell_type": "code",
   "execution_count": 4,
   "id": "27bbc7e3-4809-4eb7-b846-431af8566aab",
   "metadata": {},
   "outputs": [
    {
     "name": "stdout",
     "output_type": "stream",
     "text": [
      "(160, 6)\n"
     ]
    },
    {
     "data": {
      "text/html": [
       "<div>\n",
       "<style scoped>\n",
       "    .dataframe tbody tr th:only-of-type {\n",
       "        vertical-align: middle;\n",
       "    }\n",
       "\n",
       "    .dataframe tbody tr th {\n",
       "        vertical-align: top;\n",
       "    }\n",
       "\n",
       "    .dataframe thead th {\n",
       "        text-align: right;\n",
       "    }\n",
       "</style>\n",
       "<table border=\"1\" class=\"dataframe\">\n",
       "  <thead>\n",
       "    <tr style=\"text-align: right;\">\n",
       "      <th></th>\n",
       "      <th>model1</th>\n",
       "      <th>model1_item</th>\n",
       "      <th>model2</th>\n",
       "      <th>model2_item</th>\n",
       "      <th>winner</th>\n",
       "      <th>rationale</th>\n",
       "    </tr>\n",
       "  </thead>\n",
       "  <tbody>\n",
       "    <tr>\n",
       "      <th>0</th>\n",
       "      <td>h2o_danube3</td>\n",
       "      <td>{'lm_output': '時間管理能力を向上させるには、いくつかの方法があります。以下は...</td>\n",
       "      <td>h2o_danube3_ja</td>\n",
       "      <td>{'lm_output': '時間管理能力を向上させるために、次のことをお勧めします。\n",
       "\n",
       "1...</td>\n",
       "      <td>model2</td>\n",
       "      <td>アシスタント1とアシスタント2の回答の評価において、どちらも推奨する手法に問題がありますが、...</td>\n",
       "    </tr>\n",
       "    <tr>\n",
       "      <th>1</th>\n",
       "      <td>h2o_danube3</td>\n",
       "      <td>{'lm_output': 'ストレスを上手に付き合うには、多くの方法があります。以下は、一...</td>\n",
       "      <td>h2o_danube3_ja</td>\n",
       "      <td>{'lm_output': 'ストレスを抑えるために、いくつかの方法があります。1つの方法は...</td>\n",
       "      <td>model1</td>\n",
       "      <td>両方のAIアシスタントの回答には問題があります。両方ともテキストの繰り返しによるエラーが発生...</td>\n",
       "    </tr>\n",
       "    <tr>\n",
       "      <th>2</th>\n",
       "      <td>h2o_danube3</td>\n",
       "      <td>{'lm_output': 'PythonとJavaScriptは両方が高価値のプログラミン...</td>\n",
       "      <td>h2o_danube3_ja</td>\n",
       "      <td>{'lm_output': 'PythonとJavaScriptは両方とも、Webアプリケー...</td>\n",
       "      <td>model1</td>\n",
       "      <td>両方のAIアシスタントの回答は品質に問題があり、ユーザーの質問に適切に回答していませんが、ア...</td>\n",
       "    </tr>\n",
       "    <tr>\n",
       "      <th>3</th>\n",
       "      <td>h2o_danube3</td>\n",
       "      <td>{'lm_output': '宅勤務で生産性を上げるには、多くの方法がありますが、以下の点を...</td>\n",
       "      <td>h2o_danube3_ja</td>\n",
       "      <td>{'lm_output': '宅勤務で生産性を上げるためのいくつかのヒントがあります。\n",
       "\n",
       "1...</td>\n",
       "      <td>model2</td>\n",
       "      <td>分析すると、両方のアシスタントの回答は、品質において非常に問題があります。アシスタント1とア...</td>\n",
       "    </tr>\n",
       "    <tr>\n",
       "      <th>4</th>\n",
       "      <td>h2o_danube3</td>\n",
       "      <td>{'lm_output': '量子コンピュータとは、現在のコンピュータとは異なる原理を使って...</td>\n",
       "      <td>h2o_danube3_ja</td>\n",
       "      <td>{'lm_output': '量子コンピュータは、量子力学の基本的な原則を使用してコンピュー...</td>\n",
       "      <td>model1</td>\n",
       "      <td>比較の結果、どちらのアシスタントも回答品質基準を十分に満たしていないが、アシスタント1の回答...</td>\n",
       "    </tr>\n",
       "  </tbody>\n",
       "</table>\n",
       "</div>"
      ],
      "text/plain": [
       "        model1                                        model1_item  \\\n",
       "0  h2o_danube3  {'lm_output': '時間管理能力を向上させるには、いくつかの方法があります。以下は...   \n",
       "1  h2o_danube3  {'lm_output': 'ストレスを上手に付き合うには、多くの方法があります。以下は、一...   \n",
       "2  h2o_danube3  {'lm_output': 'PythonとJavaScriptは両方が高価値のプログラミン...   \n",
       "3  h2o_danube3  {'lm_output': '宅勤務で生産性を上げるには、多くの方法がありますが、以下の点を...   \n",
       "4  h2o_danube3  {'lm_output': '量子コンピュータとは、現在のコンピュータとは異なる原理を使って...   \n",
       "\n",
       "           model2                                        model2_item  winner  \\\n",
       "0  h2o_danube3_ja  {'lm_output': '時間管理能力を向上させるために、次のことをお勧めします。\n",
       "\n",
       "1...  model2   \n",
       "1  h2o_danube3_ja  {'lm_output': 'ストレスを抑えるために、いくつかの方法があります。1つの方法は...  model1   \n",
       "2  h2o_danube3_ja  {'lm_output': 'PythonとJavaScriptは両方とも、Webアプリケー...  model1   \n",
       "3  h2o_danube3_ja  {'lm_output': '宅勤務で生産性を上げるためのいくつかのヒントがあります。\n",
       "\n",
       "1...  model2   \n",
       "4  h2o_danube3_ja  {'lm_output': '量子コンピュータは、量子力学の基本的な原則を使用してコンピュー...  model1   \n",
       "\n",
       "                                           rationale  \n",
       "0  アシスタント1とアシスタント2の回答の評価において、どちらも推奨する手法に問題がありますが、...  \n",
       "1  両方のAIアシスタントの回答には問題があります。両方ともテキストの繰り返しによるエラーが発生...  \n",
       "2  両方のAIアシスタントの回答は品質に問題があり、ユーザーの質問に適切に回答していませんが、ア...  \n",
       "3  分析すると、両方のアシスタントの回答は、品質において非常に問題があります。アシスタント1とア...  \n",
       "4  比較の結果、どちらのアシスタントも回答品質基準を十分に満たしていないが、アシスタント1の回答...  "
      ]
     },
     "execution_count": 4,
     "metadata": {},
     "output_type": "execute_result"
    }
   ],
   "source": [
    "df_res_judge = pd.read_json('judge_pair2/outputs.jsonl', orient='records', lines=True)\n",
    "print(df_res_judge.shape)\n",
    "df_res_judge.head()"
   ]
  },
  {
   "cell_type": "code",
   "execution_count": 5,
   "id": "7aad3131-5325-438b-b444-2a5c00da58b4",
   "metadata": {},
   "outputs": [
    {
     "data": {
      "text/plain": [
       "{'lm_output': '時間管理能力を向上させるには、いくつかの方法があります。以下は一般的な方法ですが、個人的な要因や経済的な状況によっては、一部が適用できず、一部が適用できる場合もあります。\\n\\n1. 時間計画を行います。時間計画には、日曜日や祝日を除き、週末までの日曜日や祝日を含めた日曜日や祝日の時間を分けて、仕事や家庭事務を予定します。\\n\\n2. 時間計画を実行します。時間計画を実行するためには、時間計画を確認し、時間計画を実行するために必要な時間を確保します。\\n\\n3. 時間計画を確実に実行します。時間計画を確実に実行するためには、時間計画を確実に実行するために必要な時間を確保します。\\n\\n4. 時間計画を確実に実行します。時間計画を確実に実行するためには、時間計画を確実に実行するために必要な時間を確保します。\\n\\n5. 時間計画を確実に実行します。時間計画を確実に実行するためには、時間計画を確実に実行するために必要な時間を確保します。\\n\\n6. 時間計画を確実に実行します。時間計画を確実に実行するためには、時間計画を確実に実行するために必要な時間を確保します。\\n\\n7. 時間計画を確実に実行します。時間計画を確実に実行するためには、時間計画を確実に実行するために必要な時間を確保します。\\n\\n8. 時間計画を確実に実行します。時間計画を確実に実行するためには、時間計画を確実に実行するために必要な時間を確保します。\\n\\n9. 時間計画を確実に実行します。時間計画を確実に実行するためには、時間計画を確実に実行するために必要な時間を確保します。\\n\\n10. 時間計画を確実に実行します。時間計画を確実に実行するためには、時間計画を確実に実行するために必要な時間を確保します。\\n\\n11. 時間計画を確実に実行します。時間計画を確実に実行するためには、時間計画を確実に実行するために必要な時間を確保します。\\n\\n12. 時間計画を確実に実行します。時間計画を確実に実行するためには、時間計画を確実に実行するために必要な時間を確保します。\\n\\n13. 時間計画を確実に実行します。時間計画を確実に実行するためには、時間計画を確実に実行するために必要な時間を確保します。\\n\\n14. 時間計画を確実に実行します。時間計画を確実に実行するためには、時間計画を確実に実行するために必要な時間を確保します。\\n\\n15. 時間計画を確実に',\n",
       " 'task_inputs': {'messages': [{'role': 'user',\n",
       "    'content': '時間管理能力を向上させるにはどうしたらいいですか？'}],\n",
       "  'category': 'generic'},\n",
       " 'references': [],\n",
       " 'output_length': 998}"
      ]
     },
     "execution_count": 5,
     "metadata": {},
     "output_type": "execute_result"
    }
   ],
   "source": [
    "df_res_judge['model1_item'][0]"
   ]
  },
  {
   "cell_type": "code",
   "execution_count": 6,
   "id": "6bc176f0-9fb1-45fa-a54c-290567bc8b65",
   "metadata": {},
   "outputs": [
    {
     "data": {
      "text/plain": [
       "dict_keys(['lm_output', 'task_inputs', 'references', 'output_length'])"
      ]
     },
     "execution_count": 6,
     "metadata": {},
     "output_type": "execute_result"
    }
   ],
   "source": [
    "df_res_judge['model1_item'][0].keys()"
   ]
  },
  {
   "cell_type": "code",
   "execution_count": 16,
   "id": "c490952a-0717-4d0b-aa0c-f2928594c7c1",
   "metadata": {},
   "outputs": [
    {
     "name": "stdout",
     "output_type": "stream",
     "text": [
      "時間管理能力を向上させるには、いくつかの方法があります。以下は一般的な方法ですが、個人的な要因や経済的な状況によっては、一部が適用できず、一部が適用できる場合もあります。\n",
      "\n",
      "1. 時間計画を行います。時間計画には、日曜日や祝日を除き、週末までの日曜日や祝日を含めた日曜日や祝日の時間を分けて、仕事や家庭事務を予定します。\n",
      "\n",
      "2. 時間計画を実行します。時間計画を実行するためには、時間計画を確認し、時間計画を実行するために必要な時間を確保します。\n",
      "\n",
      "3. 時間計画を確実に実行します。時間計画を確実に実行するためには、時間計画を確実に実行するために必要な時間を確保します。\n",
      "\n",
      "4. 時間計画を確実に実行します。時間計画を確実に実行するためには、時間計画を確実に実行するために必要な時間を確保します。\n",
      "\n",
      "5. 時間計画を確実に実行します。時間計画を確実に実行するためには、時間計画を確実に実行するために必要な時間を確保します。\n",
      "\n",
      "6. 時間計画を確実に実行します。時間計画を確実に実行するためには、時間計画を確実に実行するために必要な時間を確保します。\n",
      "\n",
      "7. 時間計画を確実に実行します。時間計画を確実に実行するためには、時間計画を確実に実行するために必要な時間を確保します。\n",
      "\n",
      "8. 時間計画を確実に実行します。時間計画を確実に実行するためには、時間計画を確実に実行するために必要な時間を確保します。\n",
      "\n",
      "9. 時間計画を確実に実行します。時間計画を確実に実行するためには、時間計画を確実に実行するために必要な時間を確保します。\n",
      "\n",
      "10. 時間計画を確実に実行します。時間計画を確実に実行するためには、時間計画を確実に実行するために必要な時間を確保します。\n",
      "\n",
      "11. 時間計画を確実に実行します。時間計画を確実に実行するためには、時間計画を確実に実行するために必要な時間を確保します。\n",
      "\n",
      "12. 時間計画を確実に実行します。時間計画を確実に実行するためには、時間計画を確実に実行するために必要な時間を確保します。\n",
      "\n",
      "13. 時間計画を確実に実行します。時間計画を確実に実行するためには、時間計画を確実に実行するために必要な時間を確保します。\n",
      "\n",
      "14. 時間計画を確実に実行します。時間計画を確実に実行するためには、時間計画を確実に実行するために必要な時間を確保します。\n",
      "\n",
      "15. 時間計画を確実に\n"
     ]
    }
   ],
   "source": [
    "print(df_res_judge['model1_item'][0]['lm_output'])"
   ]
  },
  {
   "cell_type": "code",
   "execution_count": 17,
   "id": "de3d52ef-e32e-473b-93fc-edc98c3f31b6",
   "metadata": {},
   "outputs": [
    {
     "name": "stdout",
     "output_type": "stream",
     "text": [
      "時間管理能力を向上させるために、次のことをお勧めします。\n",
      "\n",
      "1.時間計画を行う。\n",
      "\n",
      "2.時間計画を実行して、目標を達成します。\n",
      "\n",
      "3.時間計画を維持して、目標を達成します。\n",
      "\n",
      "4.時間計画を維持して、目標を達成します。\n",
      "\n",
      "5.時間計画を維持して、目標を達成します。\n",
      "\n",
      "6.時間計画を維持して、目標を達成します。\n",
      "\n",
      "7.時間計画を維持して、目標を達成します。\n",
      "\n",
      "8.時間計画を維持して、目標を達成します。\n",
      "\n",
      "9.時間計画を維持して、目標を達成します。\n",
      "\n",
      "10.時間計画を維持して、目標を達成します。\n",
      "\n",
      "11.時間計画を維持して、目標を達成します。\n",
      "\n",
      "12.時間計画を維持して、目標を達成します。\n",
      "\n",
      "13.時間計画を維持して、目標を達成します。\n",
      "\n",
      "14.時間計画を維持して、目標を達成します。\n",
      "\n",
      "15.時間計画を維持して、目標を達成します。\n",
      "\n",
      "16.時間計画を維持して、目標を達成します。\n",
      "\n",
      "17.時間計画を維持して、目標を達成します。\n",
      "\n",
      "18.時間計画を維持して、目標を達成します。\n",
      "\n",
      "19.時間計画を維持して、目標を達成します。\n",
      "\n",
      "20.時間計画を維持して、目標を達成します。\n",
      "\n",
      "21.時間計画を維持して、目標を達成します。\n",
      "\n",
      "22.時間計画を維持して、目標を達成します。\n",
      "\n",
      "23.時間計画を維持して、目標を達成します。\n",
      "\n",
      "24.時間計画を維持して、目標を達成します。\n",
      "\n",
      "25.時間計画を維持して、目標を達成します。\n",
      "\n",
      "26.時間計画を維持して、目標を達成します。\n",
      "\n",
      "27.時間計画を維持して、目標を達成します。\n",
      "\n",
      "28.時間計画を維持して、目標を達成します。\n",
      "\n",
      "29.時間計画を維持して、目標を達成します。\n",
      "\n",
      "30.時間計画を維持して、目標を達成します。\n",
      "\n",
      "31.時間計画を維持して、目標を達成します。\n",
      "\n",
      "32.時間計画を維持して、目標を達成します。\n",
      "\n",
      "33.時間計画を維持して、目標を達成します。\n",
      "\n",
      "34.時間計画を維持して、目標を達成します。\n",
      "\n",
      "35.時間計画を維持して、目標を達成します。\n",
      "\n",
      "36.時間計画を維持して、目標を達成します。\n",
      "\n",
      "37.時間計画を維持して、目標を達成します。\n",
      "\n",
      "38.時間計画を維持して、目標を達成します。\n",
      "\n",
      "39.時間計画を維持して、目標を達成します。\n",
      "\n",
      "40\n"
     ]
    }
   ],
   "source": [
    "print(df_res_judge['model2_item'][0]['lm_output'])"
   ]
  },
  {
   "cell_type": "code",
   "execution_count": null,
   "id": "6b2dd8e8-acd0-487f-90ae-f67f06b9f306",
   "metadata": {},
   "outputs": [],
   "source": []
  },
  {
   "cell_type": "code",
   "execution_count": 8,
   "id": "b6f00952-b866-46d9-9d82-17044f3fd325",
   "metadata": {},
   "outputs": [],
   "source": [
    "with open('judge_pair2/config.json') as f:\n",
    "    d = json.load(f)"
   ]
  },
  {
   "cell_type": "code",
   "execution_count": 9,
   "id": "26e36ae2-b4a0-4b05-b095-a79c55626b98",
   "metadata": {},
   "outputs": [
    {
     "data": {
      "text/plain": [
       "dict_keys(['lm_output_paths', 'judge', 'match_maker', 'scorers', 'batch_size', 'previous_outputs_path', 'save_dir', 'force', 'result_recorder', 'config', 'metadata'])"
      ]
     },
     "execution_count": 9,
     "metadata": {},
     "output_type": "execute_result"
    }
   ],
   "source": [
    "d.keys()"
   ]
  },
  {
   "cell_type": "code",
   "execution_count": 11,
   "id": "13025b32-516b-4291-84ff-7028ac3c349e",
   "metadata": {},
   "outputs": [
    {
     "data": {
      "text/plain": [
       "{'class_path': 'flexeval.ChatLLMPairwiseJudge',\n",
       " 'init_args': {'language_model': {'class_path': 'flexeval.OpenAIChatAPI',\n",
       "   'init_args': {'model': 'gpt-4-turbo-2024-04-09',\n",
       "    'api_headers': None,\n",
       "    'default_gen_kwargs': None}},\n",
       "  'prompt_template': {'class_path': 'flexeval.Jinja2PromptTemplate',\n",
       "   'init_args': {'template': '{% set question = model1_item[\"task_inputs\"][\"messages\"][0][\"content\"] -%}\\n{% set model1_messages = model1_item[\"task_inputs\"][\"messages\"] -%}\\n{% set model2_messages = model2_item[\"task_inputs\"][\"messages\"] -%}\\n\\n[ユーザの質問]\\n{{ question }}\\n\\n{% if references|length > 0 -%}\\n[参考回答の開始]\\n{{ references[0] }}\\n[参考回答の終了]\\n{% endif -%}\\n[アシスタント1の回答開始]\\n{% if model1_messages|length == 1 %}{{ model1_item[\"lm_output\"] }}{% else %}{{ model1_messages[1][\"content\"] }}{% endif %}\\n[アシスタント1の回答終了]\\n[アシスタント2の回答開始]\\n{% if model2_messages|length == 1 %}{{ model2_item[\"lm_output\"] }}{% else %}{{ model2_messages[1][\"content\"] }}{% endif %}\\n[アシスタント2の回答終了]',\n",
       "    'template_path': None}},\n",
       "  'system_message': {'class_path': 'flexeval.Jinja2PromptTemplate',\n",
       "   'init_args': {'template': '{% if references|length > 0 -%}\\nあなたは、回答の質をチェックするための審判員です。以下に示されるユーザーの質問に対する2つのAIアシスタントの応答の品質を評価してください。回答の内容がユーザーの指示に従っており、ユーザーの質問によりよく答えているアシスタントを選んでください。参照回答、アシスタント1の回答、アシスタント2の回答が与えられるので、どちらのアシスタントの回答が優れているかを評価してください。評価の際には、まずそれぞれのアシスタントの回答を参照回答と比較し、回答の誤りを見つけて修正してください。立場が偏らないようにし、回答の提示順があなたの判断に影響しないようにしてください。回答の長さが評価に影響しないこと、特定のアシスタントの名前を好まないこと、できるだけ客観的であること、に気をつけてください。説明の後に、最終的な判断を以下の形式に従って出力してください：アシスタント1が優れていれば[[1]]、アシスタント2が優れていれば[[2]]、同点の場合は[[3]]\\n{%- else -%}\\nあなたは、回答の質をチェックするための審判員です。以下に示されるユーザーの質問に対する2つのAIアシスタントの応答の品質を評価してください。回答の内容がユーザーの指示に従っており、ユーザーの質問によりよく答えているアシスタントを選んでください。具体的には、回答の有用性、関連性、正確性、深さ、創造性、詳細レベルなどの要素を考慮する必要があります。評価の際には、まず2つの回答を比較し、簡単な説明をしてください。立場が偏らないようにし、回答の提示順があなたの判断に影響しないようにしてください。回答の長さが評価に影響しないこと、特定のアシスタントの名前を好まないこと、できるだけ客観的であること、に気をつけてください。説明の後に、最終的な判断を以下の形式に従って出力してください：アシスタント1が優れていれば[[1]]、アシスタント2が優れていれば[[2]]、同点の場合は[[3]]\\n{%- endif %}',\n",
       "    'template_path': None}}}}"
      ]
     },
     "execution_count": 11,
     "metadata": {},
     "output_type": "execute_result"
    }
   ],
   "source": [
    "d['judge']"
   ]
  },
  {
   "cell_type": "code",
   "execution_count": 12,
   "id": "635d6ecd-27be-4ea3-9ad2-e2394893cd77",
   "metadata": {},
   "outputs": [
    {
     "data": {
      "text/plain": [
       "{'class_path': 'flexeval.OpenAIChatAPI',\n",
       " 'init_args': {'model': 'gpt-4-turbo-2024-04-09',\n",
       "  'api_headers': None,\n",
       "  'default_gen_kwargs': None}}"
      ]
     },
     "execution_count": 12,
     "metadata": {},
     "output_type": "execute_result"
    }
   ],
   "source": [
    "d['judge']['init_args']['language_model']"
   ]
  },
  {
   "cell_type": "code",
   "execution_count": 13,
   "id": "b3ecf0ad-6d38-4185-b2d7-cc9b159cac4f",
   "metadata": {},
   "outputs": [
    {
     "name": "stdout",
     "output_type": "stream",
     "text": [
      "{% set question = model1_item[\"task_inputs\"][\"messages\"][0][\"content\"] -%}\n",
      "{% set model1_messages = model1_item[\"task_inputs\"][\"messages\"] -%}\n",
      "{% set model2_messages = model2_item[\"task_inputs\"][\"messages\"] -%}\n",
      "\n",
      "[ユーザの質問]\n",
      "{{ question }}\n",
      "\n",
      "{% if references|length > 0 -%}\n",
      "[参考回答の開始]\n",
      "{{ references[0] }}\n",
      "[参考回答の終了]\n",
      "{% endif -%}\n",
      "[アシスタント1の回答開始]\n",
      "{% if model1_messages|length == 1 %}{{ model1_item[\"lm_output\"] }}{% else %}{{ model1_messages[1][\"content\"] }}{% endif %}\n",
      "[アシスタント1の回答終了]\n",
      "[アシスタント2の回答開始]\n",
      "{% if model2_messages|length == 1 %}{{ model2_item[\"lm_output\"] }}{% else %}{{ model2_messages[1][\"content\"] }}{% endif %}\n",
      "[アシスタント2の回答終了]\n"
     ]
    }
   ],
   "source": [
    "print(d['judge']['init_args']['prompt_template']['init_args']['template'])"
   ]
  },
  {
   "cell_type": "code",
   "execution_count": 14,
   "id": "02790de0-e59f-45ea-b3a3-6e4ef20ce5ad",
   "metadata": {},
   "outputs": [
    {
     "name": "stdout",
     "output_type": "stream",
     "text": [
      "{% if references|length > 0 -%}\n",
      "あなたは、回答の質をチェックするための審判員です。以下に示されるユーザーの質問に対する2つのAIアシスタントの応答の品質を評価してください。回答の内容がユーザーの指示に従っており、ユーザーの質問によりよく答えているアシスタントを選んでください。参照回答、アシスタント1の回答、アシスタント2の回答が与えられるので、どちらのアシスタントの回答が優れているかを評価してください。評価の際には、まずそれぞれのアシスタントの回答を参照回答と比較し、回答の誤りを見つけて修正してください。立場が偏らないようにし、回答の提示順があなたの判断に影響しないようにしてください。回答の長さが評価に影響しないこと、特定のアシスタントの名前を好まないこと、できるだけ客観的であること、に気をつけてください。説明の後に、最終的な判断を以下の形式に従って出力してください：アシスタント1が優れていれば[[1]]、アシスタント2が優れていれば[[2]]、同点の場合は[[3]]\n",
      "{%- else -%}\n",
      "あなたは、回答の質をチェックするための審判員です。以下に示されるユーザーの質問に対する2つのAIアシスタントの応答の品質を評価してください。回答の内容がユーザーの指示に従っており、ユーザーの質問によりよく答えているアシスタントを選んでください。具体的には、回答の有用性、関連性、正確性、深さ、創造性、詳細レベルなどの要素を考慮する必要があります。評価の際には、まず2つの回答を比較し、簡単な説明をしてください。立場が偏らないようにし、回答の提示順があなたの判断に影響しないようにしてください。回答の長さが評価に影響しないこと、特定のアシスタントの名前を好まないこと、できるだけ客観的であること、に気をつけてください。説明の後に、最終的な判断を以下の形式に従って出力してください：アシスタント1が優れていれば[[1]]、アシスタント2が優れていれば[[2]]、同点の場合は[[3]]\n",
      "{%- endif %}\n"
     ]
    }
   ],
   "source": [
    "print(d['judge']['init_args']['system_message']['init_args']['template'])"
   ]
  },
  {
   "cell_type": "code",
   "execution_count": 18,
   "id": "e55bde4c-ba00-40bb-8320-f577b82da1c9",
   "metadata": {},
   "outputs": [],
   "source": [
    "# 今回はreferencesなし"
   ]
  },
  {
   "cell_type": "code",
   "execution_count": null,
   "id": "c0967ae5-e4f6-4442-8bc5-a12d78fb8b30",
   "metadata": {},
   "outputs": [],
   "source": []
  }
 ],
 "metadata": {
  "kernelspec": {
   "display_name": "Python 3 (ipykernel)",
   "language": "python",
   "name": "python3"
  },
  "language_info": {
   "codemirror_mode": {
    "name": "ipython",
    "version": 3
   },
   "file_extension": ".py",
   "mimetype": "text/x-python",
   "name": "python",
   "nbconvert_exporter": "python",
   "pygments_lexer": "ipython3",
   "version": "3.10.14"
  }
 },
 "nbformat": 4,
 "nbformat_minor": 5
}
