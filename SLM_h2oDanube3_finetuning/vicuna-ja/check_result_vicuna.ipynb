{
 "cells": [
  {
   "cell_type": "code",
   "execution_count": null,
   "id": "06d7d5b0-d34f-4aa1-ba8a-ce3c174a4953",
   "metadata": {},
   "outputs": [],
   "source": []
  },
  {
   "cell_type": "code",
   "execution_count": 1,
   "id": "e3c345e6-5d6b-4261-8a70-63410efcb3b7",
   "metadata": {},
   "outputs": [],
   "source": [
    "import pandas as pd"
   ]
  },
  {
   "cell_type": "code",
   "execution_count": 2,
   "id": "ef33ce01-506b-4229-9e51-f878a6ad1838",
   "metadata": {},
   "outputs": [
    {
     "name": "stdout",
     "output_type": "stream",
     "text": [
      "\u001b[31mconfig.json\u001b[m\u001b[m   \u001b[31mmetrics.json\u001b[m\u001b[m  \u001b[31moutputs.jsonl\u001b[m\u001b[m\n"
     ]
    }
   ],
   "source": [
    "!ls flexeval_vicuna_ja"
   ]
  },
  {
   "cell_type": "code",
   "execution_count": 3,
   "id": "7f4de91f-900e-4f13-92c8-40b4f3c5172f",
   "metadata": {},
   "outputs": [
    {
     "name": "stdout",
     "output_type": "stream",
     "text": [
      "\u001b[31mconfig.json\u001b[m\u001b[m   \u001b[31mmetrics.json\u001b[m\u001b[m  \u001b[31moutputs.jsonl\u001b[m\u001b[m\n"
     ]
    }
   ],
   "source": [
    "!ls flexeval_vicuna_ja_yukismd"
   ]
  },
  {
   "cell_type": "code",
   "execution_count": null,
   "id": "d360e61e-c730-4daa-9746-c7e04e6d344a",
   "metadata": {},
   "outputs": [],
   "source": []
  },
  {
   "cell_type": "code",
   "execution_count": 4,
   "id": "5fecb571-a999-42ef-8fb9-4fc9cf697218",
   "metadata": {},
   "outputs": [
    {
     "name": "stdout",
     "output_type": "stream",
     "text": [
      "(80, 4)\n"
     ]
    },
    {
     "data": {
      "text/html": [
       "<div>\n",
       "<style scoped>\n",
       "    .dataframe tbody tr th:only-of-type {\n",
       "        vertical-align: middle;\n",
       "    }\n",
       "\n",
       "    .dataframe tbody tr th {\n",
       "        vertical-align: top;\n",
       "    }\n",
       "\n",
       "    .dataframe thead th {\n",
       "        text-align: right;\n",
       "    }\n",
       "</style>\n",
       "<table border=\"1\" class=\"dataframe\">\n",
       "  <thead>\n",
       "    <tr style=\"text-align: right;\">\n",
       "      <th></th>\n",
       "      <th>lm_output</th>\n",
       "      <th>task_inputs</th>\n",
       "      <th>references</th>\n",
       "      <th>output_length</th>\n",
       "    </tr>\n",
       "  </thead>\n",
       "  <tbody>\n",
       "    <tr>\n",
       "      <th>0</th>\n",
       "      <td>時間管理能力を向上させるには、いくつかの方法があります。以下は一般的な方法ですが、個人的な要...</td>\n",
       "      <td>{'messages': [{'role': 'user', 'content': '時間管...</td>\n",
       "      <td>[]</td>\n",
       "      <td>998</td>\n",
       "    </tr>\n",
       "    <tr>\n",
       "      <th>1</th>\n",
       "      <td>ストレスを上手に付き合うには、多くの方法があります。以下は、一般的な方法と例えることができま...</td>\n",
       "      <td>{'messages': [{'role': 'user', 'content': 'ストレ...</td>\n",
       "      <td>[]</td>\n",
       "      <td>978</td>\n",
       "    </tr>\n",
       "    <tr>\n",
       "      <th>2</th>\n",
       "      <td>PythonとJavaScriptは両方が高価値のプログラミング言語であり、しかし、それらの...</td>\n",
       "      <td>{'messages': [{'role': 'user', 'content': 'プログ...</td>\n",
       "      <td>[]</td>\n",
       "      <td>1105</td>\n",
       "    </tr>\n",
       "    <tr>\n",
       "      <th>3</th>\n",
       "      <td>宅勤務で生産性を上げるには、多くの方法がありますが、以下の点を考慮することが大事です。\\n\\...</td>\n",
       "      <td>{'messages': [{'role': 'user', 'content': '在宅勤...</td>\n",
       "      <td>[]</td>\n",
       "      <td>918</td>\n",
       "    </tr>\n",
       "    <tr>\n",
       "      <th>4</th>\n",
       "      <td>量子コンピュータとは、現在のコンピュータとは異なる原理を使って計算を行うコンピュータです。こ...</td>\n",
       "      <td>{'messages': [{'role': 'user', 'content': '量子コ...</td>\n",
       "      <td>[]</td>\n",
       "      <td>1012</td>\n",
       "    </tr>\n",
       "  </tbody>\n",
       "</table>\n",
       "</div>"
      ],
      "text/plain": [
       "                                           lm_output  \\\n",
       "0  時間管理能力を向上させるには、いくつかの方法があります。以下は一般的な方法ですが、個人的な要...   \n",
       "1  ストレスを上手に付き合うには、多くの方法があります。以下は、一般的な方法と例えることができま...   \n",
       "2  PythonとJavaScriptは両方が高価値のプログラミング言語であり、しかし、それらの...   \n",
       "3  宅勤務で生産性を上げるには、多くの方法がありますが、以下の点を考慮することが大事です。\\n\\...   \n",
       "4  量子コンピュータとは、現在のコンピュータとは異なる原理を使って計算を行うコンピュータです。こ...   \n",
       "\n",
       "                                         task_inputs references  output_length  \n",
       "0  {'messages': [{'role': 'user', 'content': '時間管...         []            998  \n",
       "1  {'messages': [{'role': 'user', 'content': 'ストレ...         []            978  \n",
       "2  {'messages': [{'role': 'user', 'content': 'プログ...         []           1105  \n",
       "3  {'messages': [{'role': 'user', 'content': '在宅勤...         []            918  \n",
       "4  {'messages': [{'role': 'user', 'content': '量子コ...         []           1012  "
      ]
     },
     "execution_count": 4,
     "metadata": {},
     "output_type": "execute_result"
    }
   ],
   "source": [
    "df_res_original = pd.read_json('flexeval_vicuna_ja/outputs.jsonl', orient='records', lines=True)\n",
    "print(df_res_original.shape)\n",
    "df_res_original.head()"
   ]
  },
  {
   "cell_type": "code",
   "execution_count": 5,
   "id": "3a9e48ca-d76e-4e7c-b313-e71513be99cc",
   "metadata": {},
   "outputs": [
    {
     "name": "stdout",
     "output_type": "stream",
     "text": [
      "{'messages': [{'role': 'user', 'content': '時間管理能力を向上させるにはどうしたらいいですか？'}], 'category': 'generic'}\n"
     ]
    }
   ],
   "source": [
    "print(df_res_original['task_inputs'][0])"
   ]
  },
  {
   "cell_type": "code",
   "execution_count": 6,
   "id": "9a18afb8-4c5b-4c57-83d1-0afe668112b0",
   "metadata": {},
   "outputs": [
    {
     "data": {
      "text/plain": [
       "(80, 80, 80)"
      ]
     },
     "execution_count": 6,
     "metadata": {},
     "output_type": "execute_result"
    }
   ],
   "source": [
    "role = []\n",
    "content = []\n",
    "category = []\n",
    "\n",
    "for d in df_res_original['task_inputs']:\n",
    "    role.append(d['messages'][0]['role'])\n",
    "    content.append(d['messages'][0]['content'])\n",
    "    category.append(d['category'])\n",
    "\n",
    "len(role), len(content), len(category)"
   ]
  },
  {
   "cell_type": "code",
   "execution_count": 7,
   "id": "f5de0853-1110-48df-9421-93ab7f9b498c",
   "metadata": {
    "scrolled": true
   },
   "outputs": [],
   "source": [
    "#role"
   ]
  },
  {
   "cell_type": "code",
   "execution_count": 8,
   "id": "bb19825b-7e59-4442-a601-f55d18cdde1e",
   "metadata": {},
   "outputs": [],
   "source": [
    "#content    # プロンプト（質問）"
   ]
  },
  {
   "cell_type": "code",
   "execution_count": 9,
   "id": "7f0ef1b5-9542-4d3a-94b0-ae895bc998db",
   "metadata": {
    "scrolled": true
   },
   "outputs": [],
   "source": [
    "#category   # 質問カテゴリ"
   ]
  },
  {
   "cell_type": "code",
   "execution_count": 10,
   "id": "a59f1961-d90c-4161-bc3c-f391239d6616",
   "metadata": {},
   "outputs": [
    {
     "name": "stdout",
     "output_type": "stream",
     "text": [
      "時間管理能力を向上させるには、いくつかの方法があります。以下は一般的な方法ですが、個人的な要因や経済的な状況によっては、一部が適用できず、一部が適用できる場合もあります。\n",
      "\n",
      "1. 時間計画を行います。時間計画には、日曜日や祝日を除き、週末までの日曜日や祝日を含めた日曜日や祝日の時間を分けて、仕事や家庭事務を予定します。\n",
      "\n",
      "2. 時間計画を実行します。時間計画を実行するためには、時間計画を確認し、時間計画を実行するために必要な時間を確保します。\n",
      "\n",
      "3. 時間計画を確実に実行します。時間計画を確実に実行するためには、時間計画を確実に実行するために必要な時間を確保します。\n",
      "\n",
      "4. 時間計画を確実に実行します。時間計画を確実に実行するためには、時間計画を確実に実行するために必要な時間を確保します。\n",
      "\n",
      "5. 時間計画を確実に実行します。時間計画を確実に実行するためには、時間計画を確実に実行するために必要な時間を確保します。\n",
      "\n",
      "6. 時間計画を確実に実行します。時間計画を確実に実行するためには、時間計画を確実に実行するために必要な時間を確保します。\n",
      "\n",
      "7. 時間計画を確実に実行します。時間計画を確実に実行するためには、時間計画を確実に実行するために必要な時間を確保します。\n",
      "\n",
      "8. 時間計画を確実に実行します。時間計画を確実に実行するためには、時間計画を確実に実行するために必要な時間を確保します。\n",
      "\n",
      "9. 時間計画を確実に実行します。時間計画を確実に実行するためには、時間計画を確実に実行するために必要な時間を確保します。\n",
      "\n",
      "10. 時間計画を確実に実行します。時間計画を確実に実行するためには、時間計画を確実に実行するために必要な時間を確保します。\n",
      "\n",
      "11. 時間計画を確実に実行します。時間計画を確実に実行するためには、時間計画を確実に実行するために必要な時間を確保します。\n",
      "\n",
      "12. 時間計画を確実に実行します。時間計画を確実に実行するためには、時間計画を確実に実行するために必要な時間を確保します。\n",
      "\n",
      "13. 時間計画を確実に実行します。時間計画を確実に実行するためには、時間計画を確実に実行するために必要な時間を確保します。\n",
      "\n",
      "14. 時間計画を確実に実行します。時間計画を確実に実行するためには、時間計画を確実に実行するために必要な時間を確保します。\n",
      "\n",
      "15. 時間計画を確実に\n"
     ]
    }
   ],
   "source": [
    "print(df_res_original['lm_output'][0])"
   ]
  },
  {
   "cell_type": "code",
   "execution_count": 11,
   "id": "3132a217-f0ec-4341-9d77-0513f9ce646a",
   "metadata": {},
   "outputs": [
    {
     "name": "stdout",
     "output_type": "stream",
     "text": [
      "(80, 4)\n"
     ]
    },
    {
     "data": {
      "text/html": [
       "<div>\n",
       "<style scoped>\n",
       "    .dataframe tbody tr th:only-of-type {\n",
       "        vertical-align: middle;\n",
       "    }\n",
       "\n",
       "    .dataframe tbody tr th {\n",
       "        vertical-align: top;\n",
       "    }\n",
       "\n",
       "    .dataframe thead th {\n",
       "        text-align: right;\n",
       "    }\n",
       "</style>\n",
       "<table border=\"1\" class=\"dataframe\">\n",
       "  <thead>\n",
       "    <tr style=\"text-align: right;\">\n",
       "      <th></th>\n",
       "      <th>lm_output</th>\n",
       "      <th>task_inputs</th>\n",
       "      <th>references</th>\n",
       "      <th>output_length</th>\n",
       "    </tr>\n",
       "  </thead>\n",
       "  <tbody>\n",
       "    <tr>\n",
       "      <th>0</th>\n",
       "      <td>時間管理能力を向上させるために、次のことをお勧めします。\\n\\n1.時間計画を行う。\\n\\n...</td>\n",
       "      <td>{'messages': [{'role': 'user', 'content': '時間管...</td>\n",
       "      <td>[]</td>\n",
       "      <td>948</td>\n",
       "    </tr>\n",
       "    <tr>\n",
       "      <th>1</th>\n",
       "      <td>ストレスを抑えるために、いくつかの方法があります。1つの方法は、ストレスを抑えるために、スト...</td>\n",
       "      <td>{'messages': [{'role': 'user', 'content': 'ストレ...</td>\n",
       "      <td>[]</td>\n",
       "      <td>880</td>\n",
       "    </tr>\n",
       "    <tr>\n",
       "      <th>2</th>\n",
       "      <td>PythonとJavaScriptは両方とも、Webアプリケーションを開発するために使用され...</td>\n",
       "      <td>{'messages': [{'role': 'user', 'content': 'プログ...</td>\n",
       "      <td>[]</td>\n",
       "      <td>1050</td>\n",
       "    </tr>\n",
       "    <tr>\n",
       "      <th>3</th>\n",
       "      <td>宅勤務で生産性を上げるためのいくつかのヒントがあります。\\n\\n1.定期的に休憩して、精神的...</td>\n",
       "      <td>{'messages': [{'role': 'user', 'content': '在宅勤...</td>\n",
       "      <td>[]</td>\n",
       "      <td>886</td>\n",
       "    </tr>\n",
       "    <tr>\n",
       "      <th>4</th>\n",
       "      <td>量子コンピュータは、量子力学の基本的な原則を使用してコンピューティングを行うコンピュータです...</td>\n",
       "      <td>{'messages': [{'role': 'user', 'content': '量子コ...</td>\n",
       "      <td>[]</td>\n",
       "      <td>1024</td>\n",
       "    </tr>\n",
       "  </tbody>\n",
       "</table>\n",
       "</div>"
      ],
      "text/plain": [
       "                                           lm_output  \\\n",
       "0  時間管理能力を向上させるために、次のことをお勧めします。\\n\\n1.時間計画を行う。\\n\\n...   \n",
       "1  ストレスを抑えるために、いくつかの方法があります。1つの方法は、ストレスを抑えるために、スト...   \n",
       "2  PythonとJavaScriptは両方とも、Webアプリケーションを開発するために使用され...   \n",
       "3  宅勤務で生産性を上げるためのいくつかのヒントがあります。\\n\\n1.定期的に休憩して、精神的...   \n",
       "4  量子コンピュータは、量子力学の基本的な原則を使用してコンピューティングを行うコンピュータです...   \n",
       "\n",
       "                                         task_inputs references  output_length  \n",
       "0  {'messages': [{'role': 'user', 'content': '時間管...         []            948  \n",
       "1  {'messages': [{'role': 'user', 'content': 'ストレ...         []            880  \n",
       "2  {'messages': [{'role': 'user', 'content': 'プログ...         []           1050  \n",
       "3  {'messages': [{'role': 'user', 'content': '在宅勤...         []            886  \n",
       "4  {'messages': [{'role': 'user', 'content': '量子コ...         []           1024  "
      ]
     },
     "execution_count": 11,
     "metadata": {},
     "output_type": "execute_result"
    }
   ],
   "source": [
    "df_res_ft = pd.read_json('flexeval_vicuna_ja_yukismd/outputs.jsonl', orient='records', lines=True)\n",
    "print(df_res_ft.shape)\n",
    "df_res_ft.head()"
   ]
  },
  {
   "cell_type": "code",
   "execution_count": null,
   "id": "052fa942-fb78-4cdb-ac4e-fa5e3b59edb1",
   "metadata": {},
   "outputs": [],
   "source": []
  },
  {
   "cell_type": "code",
   "execution_count": 12,
   "id": "c5d7be1b-0860-4e11-a0bb-471decfd6bab",
   "metadata": {},
   "outputs": [
    {
     "name": "stdout",
     "output_type": "stream",
     "text": [
      "\u001b[31mconfig.json\u001b[m\u001b[m   \u001b[31mmetrics.json\u001b[m\u001b[m  \u001b[31moutputs.jsonl\u001b[m\u001b[m\n"
     ]
    }
   ],
   "source": [
    "!ls judge_pair2"
   ]
  },
  {
   "cell_type": "code",
   "execution_count": 13,
   "id": "e3f155ff-76f7-417a-8d05-2ec42be3f8a8",
   "metadata": {},
   "outputs": [
    {
     "name": "stdout",
     "output_type": "stream",
     "text": [
      "(160, 6)\n"
     ]
    },
    {
     "data": {
      "text/html": [
       "<div>\n",
       "<style scoped>\n",
       "    .dataframe tbody tr th:only-of-type {\n",
       "        vertical-align: middle;\n",
       "    }\n",
       "\n",
       "    .dataframe tbody tr th {\n",
       "        vertical-align: top;\n",
       "    }\n",
       "\n",
       "    .dataframe thead th {\n",
       "        text-align: right;\n",
       "    }\n",
       "</style>\n",
       "<table border=\"1\" class=\"dataframe\">\n",
       "  <thead>\n",
       "    <tr style=\"text-align: right;\">\n",
       "      <th></th>\n",
       "      <th>model1</th>\n",
       "      <th>model1_item</th>\n",
       "      <th>model2</th>\n",
       "      <th>model2_item</th>\n",
       "      <th>winner</th>\n",
       "      <th>rationale</th>\n",
       "    </tr>\n",
       "  </thead>\n",
       "  <tbody>\n",
       "    <tr>\n",
       "      <th>0</th>\n",
       "      <td>h2o_danube3</td>\n",
       "      <td>{'lm_output': '時間管理能力を向上させるには、いくつかの方法があります。以下は...</td>\n",
       "      <td>h2o_danube3_ja</td>\n",
       "      <td>{'lm_output': '時間管理能力を向上させるために、次のことをお勧めします。\n",
       "\n",
       "1...</td>\n",
       "      <td>model2</td>\n",
       "      <td>アシスタント1とアシスタント2の回答の評価において、どちらも推奨する手法に問題がありますが、...</td>\n",
       "    </tr>\n",
       "    <tr>\n",
       "      <th>1</th>\n",
       "      <td>h2o_danube3</td>\n",
       "      <td>{'lm_output': 'ストレスを上手に付き合うには、多くの方法があります。以下は、一...</td>\n",
       "      <td>h2o_danube3_ja</td>\n",
       "      <td>{'lm_output': 'ストレスを抑えるために、いくつかの方法があります。1つの方法は...</td>\n",
       "      <td>model1</td>\n",
       "      <td>両方のAIアシスタントの回答には問題があります。両方ともテキストの繰り返しによるエラーが発生...</td>\n",
       "    </tr>\n",
       "    <tr>\n",
       "      <th>2</th>\n",
       "      <td>h2o_danube3</td>\n",
       "      <td>{'lm_output': 'PythonとJavaScriptは両方が高価値のプログラミン...</td>\n",
       "      <td>h2o_danube3_ja</td>\n",
       "      <td>{'lm_output': 'PythonとJavaScriptは両方とも、Webアプリケー...</td>\n",
       "      <td>model1</td>\n",
       "      <td>両方のAIアシスタントの回答は品質に問題があり、ユーザーの質問に適切に回答していませんが、ア...</td>\n",
       "    </tr>\n",
       "    <tr>\n",
       "      <th>3</th>\n",
       "      <td>h2o_danube3</td>\n",
       "      <td>{'lm_output': '宅勤務で生産性を上げるには、多くの方法がありますが、以下の点を...</td>\n",
       "      <td>h2o_danube3_ja</td>\n",
       "      <td>{'lm_output': '宅勤務で生産性を上げるためのいくつかのヒントがあります。\n",
       "\n",
       "1...</td>\n",
       "      <td>model2</td>\n",
       "      <td>分析すると、両方のアシスタントの回答は、品質において非常に問題があります。アシスタント1とア...</td>\n",
       "    </tr>\n",
       "    <tr>\n",
       "      <th>4</th>\n",
       "      <td>h2o_danube3</td>\n",
       "      <td>{'lm_output': '量子コンピュータとは、現在のコンピュータとは異なる原理を使って...</td>\n",
       "      <td>h2o_danube3_ja</td>\n",
       "      <td>{'lm_output': '量子コンピュータは、量子力学の基本的な原則を使用してコンピュー...</td>\n",
       "      <td>model1</td>\n",
       "      <td>比較の結果、どちらのアシスタントも回答品質基準を十分に満たしていないが、アシスタント1の回答...</td>\n",
       "    </tr>\n",
       "  </tbody>\n",
       "</table>\n",
       "</div>"
      ],
      "text/plain": [
       "        model1                                        model1_item  \\\n",
       "0  h2o_danube3  {'lm_output': '時間管理能力を向上させるには、いくつかの方法があります。以下は...   \n",
       "1  h2o_danube3  {'lm_output': 'ストレスを上手に付き合うには、多くの方法があります。以下は、一...   \n",
       "2  h2o_danube3  {'lm_output': 'PythonとJavaScriptは両方が高価値のプログラミン...   \n",
       "3  h2o_danube3  {'lm_output': '宅勤務で生産性を上げるには、多くの方法がありますが、以下の点を...   \n",
       "4  h2o_danube3  {'lm_output': '量子コンピュータとは、現在のコンピュータとは異なる原理を使って...   \n",
       "\n",
       "           model2                                        model2_item  winner  \\\n",
       "0  h2o_danube3_ja  {'lm_output': '時間管理能力を向上させるために、次のことをお勧めします。\n",
       "\n",
       "1...  model2   \n",
       "1  h2o_danube3_ja  {'lm_output': 'ストレスを抑えるために、いくつかの方法があります。1つの方法は...  model1   \n",
       "2  h2o_danube3_ja  {'lm_output': 'PythonとJavaScriptは両方とも、Webアプリケー...  model1   \n",
       "3  h2o_danube3_ja  {'lm_output': '宅勤務で生産性を上げるためのいくつかのヒントがあります。\n",
       "\n",
       "1...  model2   \n",
       "4  h2o_danube3_ja  {'lm_output': '量子コンピュータは、量子力学の基本的な原則を使用してコンピュー...  model1   \n",
       "\n",
       "                                           rationale  \n",
       "0  アシスタント1とアシスタント2の回答の評価において、どちらも推奨する手法に問題がありますが、...  \n",
       "1  両方のAIアシスタントの回答には問題があります。両方ともテキストの繰り返しによるエラーが発生...  \n",
       "2  両方のAIアシスタントの回答は品質に問題があり、ユーザーの質問に適切に回答していませんが、ア...  \n",
       "3  分析すると、両方のアシスタントの回答は、品質において非常に問題があります。アシスタント1とア...  \n",
       "4  比較の結果、どちらのアシスタントも回答品質基準を十分に満たしていないが、アシスタント1の回答...  "
      ]
     },
     "execution_count": 13,
     "metadata": {},
     "output_type": "execute_result"
    }
   ],
   "source": [
    "df_res_judge = pd.read_json('judge_pair2/outputs.jsonl', orient='records', lines=True)\n",
    "print(df_res_judge.shape)\n",
    "df_res_judge.head()"
   ]
  },
  {
   "cell_type": "code",
   "execution_count": 14,
   "id": "d395dd64-0b13-4831-817d-18a683f113dc",
   "metadata": {},
   "outputs": [
    {
     "data": {
      "text/html": [
       "<div>\n",
       "<style scoped>\n",
       "    .dataframe tbody tr th:only-of-type {\n",
       "        vertical-align: middle;\n",
       "    }\n",
       "\n",
       "    .dataframe tbody tr th {\n",
       "        vertical-align: top;\n",
       "    }\n",
       "\n",
       "    .dataframe thead th {\n",
       "        text-align: right;\n",
       "    }\n",
       "</style>\n",
       "<table border=\"1\" class=\"dataframe\">\n",
       "  <thead>\n",
       "    <tr style=\"text-align: right;\">\n",
       "      <th></th>\n",
       "      <th>model1</th>\n",
       "      <th>model1_item</th>\n",
       "      <th>model2</th>\n",
       "      <th>model2_item</th>\n",
       "      <th>winner</th>\n",
       "      <th>rationale</th>\n",
       "    </tr>\n",
       "  </thead>\n",
       "  <tbody>\n",
       "    <tr>\n",
       "      <th>155</th>\n",
       "      <td>h2o_danube3_ja</td>\n",
       "      <td>{'lm_output': '確かに、ここにあなたが考えるかもしれないいくつかのアイデアがあ...</td>\n",
       "      <td>h2o_danube3</td>\n",
       "      <td>{'lm_output': '「ジャズの歴史と文化的意義」のYouTube動画を作る際に、以...</td>\n",
       "      <td>model2</td>\n",
       "      <td>アシスタント1の回答は非常に冗長で、一つのポイントを繰り返すだけで実際には有益な情報が提供さ...</td>\n",
       "    </tr>\n",
       "    <tr>\n",
       "      <th>156</th>\n",
       "      <td>h2o_danube3_ja</td>\n",
       "      <td>{'lm_output': '確かに、私は素晴らしい旅行記事を書くことができます。私はあなた...</td>\n",
       "      <td>h2o_danube3</td>\n",
       "      <td>{'lm_output': 'ハワイの旅行に行く前に、一番必要とされる情報を紹介します。ハワ...</td>\n",
       "      <td>draw</td>\n",
       "      <td>評価の結果、どちらのアシスタントもユーザーの要求に完全に応えることはできていません。アシスタ...</td>\n",
       "    </tr>\n",
       "    <tr>\n",
       "      <th>157</th>\n",
       "      <td>h2o_danube3_ja</td>\n",
       "      <td>{'lm_output': '確かに、ここにいくつかの例があります：\n",
       "\n",
       "「スターウォーズ：エ...</td>\n",
       "      <td>h2o_danube3</td>\n",
       "      <td>{'lm_output': '最近公開されたSF映画の一つは、「クローバー・オブ・ザ・スター...</td>\n",
       "      <td>model2</td>\n",
       "      <td>両方のアシスタントの回答は質問に適切に答えていませんが、その理由の詳細は以下の通りです。\\n...</td>\n",
       "    </tr>\n",
       "    <tr>\n",
       "      <th>158</th>\n",
       "      <td>h2o_danube3_ja</td>\n",
       "      <td>{'lm_output': '確かに、ここにあなたがそれを使用するためのいくつかのアイデアが...</td>\n",
       "      <td>h2o_danube3</td>\n",
       "      <td>{'lm_output': '「音楽の未来を語る：楽曲ストリーミングサービスの影響」\n",
       "\n",
       "この...</td>\n",
       "      <td>model2</td>\n",
       "      <td>アシスタント1とアシスタント2の回答を比較すると、アシスタント2の方が圧倒的に優れた内容を提...</td>\n",
       "    </tr>\n",
       "    <tr>\n",
       "      <th>159</th>\n",
       "      <td>h2o_danube3_ja</td>\n",
       "      <td>{'lm_output': 'これは、オーケストラの演奏と全体的な参加の感想を書くことができ...</td>\n",
       "      <td>h2o_danube3</td>\n",
       "      <td>{'lm_output': '私は、交響曲のコンサートに参加した際のオーケストラの演奏と全体...</td>\n",
       "      <td>model2</td>\n",
       "      <td>両方のAIアシスタントが質問に答える際に、回答の品質が問題ありました。しかし、アシスタント1...</td>\n",
       "    </tr>\n",
       "  </tbody>\n",
       "</table>\n",
       "</div>"
      ],
      "text/plain": [
       "             model1                                        model1_item  \\\n",
       "155  h2o_danube3_ja  {'lm_output': '確かに、ここにあなたが考えるかもしれないいくつかのアイデアがあ...   \n",
       "156  h2o_danube3_ja  {'lm_output': '確かに、私は素晴らしい旅行記事を書くことができます。私はあなた...   \n",
       "157  h2o_danube3_ja  {'lm_output': '確かに、ここにいくつかの例があります：\n",
       "\n",
       "「スターウォーズ：エ...   \n",
       "158  h2o_danube3_ja  {'lm_output': '確かに、ここにあなたがそれを使用するためのいくつかのアイデアが...   \n",
       "159  h2o_danube3_ja  {'lm_output': 'これは、オーケストラの演奏と全体的な参加の感想を書くことができ...   \n",
       "\n",
       "          model2                                        model2_item  winner  \\\n",
       "155  h2o_danube3  {'lm_output': '「ジャズの歴史と文化的意義」のYouTube動画を作る際に、以...  model2   \n",
       "156  h2o_danube3  {'lm_output': 'ハワイの旅行に行く前に、一番必要とされる情報を紹介します。ハワ...    draw   \n",
       "157  h2o_danube3  {'lm_output': '最近公開されたSF映画の一つは、「クローバー・オブ・ザ・スター...  model2   \n",
       "158  h2o_danube3  {'lm_output': '「音楽の未来を語る：楽曲ストリーミングサービスの影響」\n",
       "\n",
       "この...  model2   \n",
       "159  h2o_danube3  {'lm_output': '私は、交響曲のコンサートに参加した際のオーケストラの演奏と全体...  model2   \n",
       "\n",
       "                                             rationale  \n",
       "155  アシスタント1の回答は非常に冗長で、一つのポイントを繰り返すだけで実際には有益な情報が提供さ...  \n",
       "156  評価の結果、どちらのアシスタントもユーザーの要求に完全に応えることはできていません。アシスタ...  \n",
       "157  両方のアシスタントの回答は質問に適切に答えていませんが、その理由の詳細は以下の通りです。\\n...  \n",
       "158  アシスタント1とアシスタント2の回答を比較すると、アシスタント2の方が圧倒的に優れた内容を提...  \n",
       "159  両方のAIアシスタントが質問に答える際に、回答の品質が問題ありました。しかし、アシスタント1...  "
      ]
     },
     "execution_count": 14,
     "metadata": {},
     "output_type": "execute_result"
    }
   ],
   "source": [
    "df_res_judge.tail()"
   ]
  },
  {
   "cell_type": "code",
   "execution_count": 15,
   "id": "c8b180bb-0dd6-44ad-9071-735cabfc104a",
   "metadata": {},
   "outputs": [
    {
     "data": {
      "text/plain": [
       "dict_keys(['lm_output', 'task_inputs', 'references', 'output_length'])"
      ]
     },
     "execution_count": 15,
     "metadata": {},
     "output_type": "execute_result"
    }
   ],
   "source": [
    "df_res_judge['model1_item'][0].keys()"
   ]
  },
  {
   "cell_type": "code",
   "execution_count": 16,
   "id": "12161142-5df7-4ca8-b8fb-f6a5484e0f78",
   "metadata": {},
   "outputs": [
    {
     "data": {
      "text/plain": [
       "'時間管理能力を向上させるには、いくつかの方法があります。以下は一般的な方法ですが、個人的な要因や経済的な状況によっては、一部が適用できず、一部が適用できる場合もあります。\\n\\n1. 時間計画を行います。時間計画には、日曜日や祝日を除き、週末までの日曜日や祝日を含めた日曜日や祝日の時間を分けて、仕事や家庭事務を予定します。\\n\\n2. 時間計画を実行します。時間計画を実行するためには、時間計画を確認し、時間計画を実行するために必要な時間を確保します。\\n\\n3. 時間計画を確実に実行します。時間計画を確実に実行するためには、時間計画を確実に実行するために必要な時間を確保します。\\n\\n4. 時間計画を確実に実行します。時間計画を確実に実行するためには、時間計画を確実に実行するために必要な時間を確保します。\\n\\n5. 時間計画を確実に実行します。時間計画を確実に実行するためには、時間計画を確実に実行するために必要な時間を確保します。\\n\\n6. 時間計画を確実に実行します。時間計画を確実に実行するためには、時間計画を確実に実行するために必要な時間を確保します。\\n\\n7. 時間計画を確実に実行します。時間計画を確実に実行するためには、時間計画を確実に実行するために必要な時間を確保します。\\n\\n8. 時間計画を確実に実行します。時間計画を確実に実行するためには、時間計画を確実に実行するために必要な時間を確保します。\\n\\n9. 時間計画を確実に実行します。時間計画を確実に実行するためには、時間計画を確実に実行するために必要な時間を確保します。\\n\\n10. 時間計画を確実に実行します。時間計画を確実に実行するためには、時間計画を確実に実行するために必要な時間を確保します。\\n\\n11. 時間計画を確実に実行します。時間計画を確実に実行するためには、時間計画を確実に実行するために必要な時間を確保します。\\n\\n12. 時間計画を確実に実行します。時間計画を確実に実行するためには、時間計画を確実に実行するために必要な時間を確保します。\\n\\n13. 時間計画を確実に実行します。時間計画を確実に実行するためには、時間計画を確実に実行するために必要な時間を確保します。\\n\\n14. 時間計画を確実に実行します。時間計画を確実に実行するためには、時間計画を確実に実行するために必要な時間を確保します。\\n\\n15. 時間計画を確実に'"
      ]
     },
     "execution_count": 16,
     "metadata": {},
     "output_type": "execute_result"
    }
   ],
   "source": [
    "df_res_judge['model1_item'][0]['lm_output']"
   ]
  },
  {
   "cell_type": "code",
   "execution_count": 17,
   "id": "d3dbb709-d7f4-4a9f-9ea6-fc4eddb9b553",
   "metadata": {},
   "outputs": [
    {
     "data": {
      "text/plain": [
       "{'messages': [{'role': 'user', 'content': '時間管理能力を向上させるにはどうしたらいいですか？'}],\n",
       " 'category': 'generic'}"
      ]
     },
     "execution_count": 17,
     "metadata": {},
     "output_type": "execute_result"
    }
   ],
   "source": [
    "df_res_judge['model1_item'][0]['task_inputs']"
   ]
  },
  {
   "cell_type": "code",
   "execution_count": 18,
   "id": "004b1a72-03e9-4419-b17a-5a991b40870c",
   "metadata": {},
   "outputs": [
    {
     "data": {
      "text/plain": [
       "[]"
      ]
     },
     "execution_count": 18,
     "metadata": {},
     "output_type": "execute_result"
    }
   ],
   "source": [
    "df_res_judge['model1_item'][0]['references']"
   ]
  },
  {
   "cell_type": "code",
   "execution_count": 19,
   "id": "476e4a76-7a9e-4ee8-a01e-f7d9340fd7dc",
   "metadata": {},
   "outputs": [
    {
     "data": {
      "text/plain": [
       "998"
      ]
     },
     "execution_count": 19,
     "metadata": {},
     "output_type": "execute_result"
    }
   ],
   "source": [
    "df_res_judge['model1_item'][0]['output_length']"
   ]
  },
  {
   "cell_type": "code",
   "execution_count": 20,
   "id": "e75a52ab-d0d8-4838-aed7-6848c1b59953",
   "metadata": {},
   "outputs": [
    {
     "data": {
      "text/plain": [
       "model2    67\n",
       "model1    52\n",
       "draw      41\n",
       "Name: winner, dtype: int64"
      ]
     },
     "execution_count": 20,
     "metadata": {},
     "output_type": "execute_result"
    }
   ],
   "source": [
    "df_res_judge['winner'].value_counts()"
   ]
  },
  {
   "cell_type": "code",
   "execution_count": 21,
   "id": "c596861e-06ff-4971-a25c-3c72fc7eaed4",
   "metadata": {},
   "outputs": [
    {
     "data": {
      "text/plain": [
       "model1    0.6125\n",
       "draw      0.3000\n",
       "model2    0.0875\n",
       "Name: winner, dtype: float64"
      ]
     },
     "execution_count": 21,
     "metadata": {},
     "output_type": "execute_result"
    }
   ],
   "source": [
    "df_res_judge['winner'][:80].value_counts(normalize=True)\n",
    "# model1: h2o_danube3\n",
    "# model2: h2o_danube3_jp"
   ]
  },
  {
   "cell_type": "code",
   "execution_count": 22,
   "id": "2046d239-9137-4666-a926-071d15dc1eeb",
   "metadata": {},
   "outputs": [
    {
     "data": {
      "text/plain": [
       "model2    0.7500\n",
       "draw      0.2125\n",
       "model1    0.0375\n",
       "Name: winner, dtype: float64"
      ]
     },
     "execution_count": 22,
     "metadata": {},
     "output_type": "execute_result"
    }
   ],
   "source": [
    "df_res_judge['winner'][80:].value_counts(normalize=True)\n",
    "# model1: h2o_danube3_jp\n",
    "# model2: h2o_danube3"
   ]
  },
  {
   "cell_type": "code",
   "execution_count": 23,
   "id": "bf837031-76d0-4fca-8112-bd6f1fd52f10",
   "metadata": {},
   "outputs": [
    {
     "data": {
      "text/plain": [
       "0.68125"
      ]
     },
     "execution_count": 23,
     "metadata": {},
     "output_type": "execute_result"
    }
   ],
   "source": [
    "(0.6125+0.7500) / 2"
   ]
  },
  {
   "cell_type": "code",
   "execution_count": 24,
   "id": "cd0fa2a3-e200-427f-99f7-d71570f594cc",
   "metadata": {},
   "outputs": [
    {
     "name": "stdout",
     "output_type": "stream",
     "text": [
      "アシスタント1とアシスタント2の回答の評価において、どちらも推奨する手法に問題がありますが、アシスタント1の回答にはより顕著な問題点があります。\\n\\nアシスタント1の回答は、\"時間計画を行い\"、それを\"確実に実行する\"という点の繰り返しであり、実際に時間管理能力を向上させるための具体的な方法やツール、テクニックを提供していません。また、同じアドバイスが多くの点で繰り返されており、無用な冗長性があります。これはユーザーにとって役に立つ情報とは言えず、質問に対する適切な解答とは見なせません。\\n\\n一方で、アシスタント2の回答も同じセンテンスの繰り返しという形で提示されているものの、\"時間計画を実行して、目標を達成する\"ことを重視している点が異なります。それにも関わらず、いずれのAIも時間管理において具体的にどのような行動を取るべきか、どのようなツールやテクニックが有用かという内容は提供していないため、全体的に有用性が低いと評価せざるを得ません。\\n\\nしかしながら、アシスタント1よりも少し具体性を持たせたアシスタント2の方が、時間管理に対する一般的なアプローチとしてわずかに優れていると判断します。どちらのアシスタントも非常に改善の余地があることは明らかですが、一応の優劣をつけるならば、アシスタント1の回答の反復的な内容よりは、アシスタント2の方がマシであると言えます。したがって、以下の判断とします。\\n\\n[[2]]    1\n",
      "両方のAIアシスタントの回答には問題があります。両方ともテキストの繰り返しによるエラーが発生していて、有用で正確な情報を提供することができていません。\\n\\nアシスタント1は、「食事」についてのセクションで無限に「バランスを保持し」というフレーズを繰り返しています。これは技術的なエラーであることが明確で、必要な情報提供が不足しています。\\n\\nアシスタント2も同様に、「ストレスを抑えるために」というフレーズを何度も繰り返して終了してしまい、何の具体的な方法も提供していません。このため、アシスタント2の回答も全く参考にならないものとなっています。\\n\\nどちらのアシスタントも必要な情報を適切に提供することができておらず、ユーザーにとって役立つ答えにはなっていないため、どちらの回答も不十分です。ただし、アシスタント1は少なくとも「運動」、「睡眠」、「心理的なリラックス」といった具体的なカテゴリーに触れている点で、アシスタント2よりはやや有益な情報を提供しています。\\n\\n最終評定：[[1]]                                                                                                                                                                            1\n",
      "評価:\\n\\nアシスタント1とアシスタント2の応答はどちらも同様の問題を抱えています。具体的には、どちらの応答も反復的であり、シェイクスピアの文体や独り言の形式を模倣するというユーザーの元の質問の意図を効果的に満たしていません。\\n\\nアシスタント1の応答は非常に反復的で、同じフレーズが複数回繰り返されており、それ以上の情報や革新性が見られません。また、実際のシェイクスピアによる言語の美しさや独特な文体が欠けており、単に「愛の意味」や「愛の感情」という言葉を繰り返しています。\\n\\nアシスタント2も同じセンテンスの繰り返しで応答していますが、始めのほうの文句で「愛は心の奥深い領域で生まれ、心の外には無い」という表現は、シェイクスピアのスタイルを少し模倣しており、少なくともなんらかの創造的な試みが見られます。ただし、その後の内容は再び同じ言葉の無限の繰り返しとなっています。\\n\\nどちらのアシスタントもユーザーの要求に全く応じていませんが、アシスタント2の回答に少しでも創造性が見られたため、若干良いものと判断します。しかし、両者とも十分な品質の回答とは言えないため、高い評価はできません。\\n\\n最終判断: [[2]]                                                                                                           1\n",
      "両方のアシスタントの回答を検討した結果、アシスタント1の回答は繰り返しのフレーズが無限に続き、意味を成していません。このため、この回答はユーザーに対して何の価値も提供していません。\\n\\nアシスタント2の回答にも問題があります。初めの導入部分は良さそうですが、その後の内容が意味不明になっており、単に同じフレーズの繰り返しで埋められています。この回答もまた、ユーザーにとって有意義な内容を提供しているとは言えません。\\n\\nしかしながら、アシスタント2の回答の初めに少し潜在的な価値が見られるため、アシスタント1の完全な意味不明な繰り返しに比べれば、わずかにましと言えるでしょう。両方の回答が問題を抱えてはいますが、アシスタント2の方が若干優れた情報の提供を試みていると評価します。\\n\\n結論：[[2]]                                                                                                                                                                                                                                                                             1\n",
      "アシスタント1の回答は、初めに意味を成していましたが、繰り返しの部分が多く、具体的な詳細が欠けています。具体的な未来の技術についての言及がなく、みすぼらしい印象を与えます。一方、アシスタント2の回答も誤りがあり、特に回答が繰り返されている点が目立ちます。しかしながら、アシスタント2は時間旅行を可能にする技術や、科学、文化、社会の進歩を伝える技術について言及しており、少なくとも何らかの具体的な技術の例を提供しています。\\n\\nどちらの回答も完璧からはかけ離れていますが、アシスタント2の回答が具体性の面でわずかに優れているため、アシスタント2を選択します。\\n\\n結果：[[2]]                                                                                                                                                                                                                                                                                                                                           1\n",
      "                                                                                                                                                                                                                                                                                                                                                                                                                                                                                                                                                                                                                                             ..\n",
      "アシスタント1とアシスタント2の回答を比較すると、どちらの回答もユーザーの質問に対して完全には答えていませんが、アシスタント1の回答がユーザーの質問により適切に応答しています。ユーザーの質問はビートルズが結成されなかった場合の仮想的な影響についてでしたが、アシスタント1はビートルズがいなかった場合の音楽界への影響について述べています。\\n\\n一方、アシスタント2の回答はビートルズの成果について述べていますが、これはユーザーの質問に沿った回答ではありません。さらに、アシスタント2の回答は途中で重複しており、一部は意味が不明瞭で、ビートルズが結成された場合の実際の歴史を誤って説明しています。\\n\\nしたがって、アシスタント1の方がユーザーの質問に対して適切な回答をしていますが、アシスタント1の回答でも誤った文があり、繰り返される記述が見受けられました。全体としては、どちらの回答も非常に不完全で、必要な情報が欠けていますが、アシスタント1がより適切な回答をしています。\\n\\n結論: [[1]]                                                                                                                                                                            1\n",
      "アシスタント1の回答は、質問の基本的な意味を理解しているものの、何度も同じ文を繰り返しており、新たな洞察や有益な情報を提供していません。また、アメリカに関連する記述も誤りが含まれています。アラン・チューリングはイギリスの暗号解読者であり、特にアメリカの軍事機関との直接的な関連はありません。\\n\\nアシスタント2の回答は完全な誤りで、意味不明な繰り返しのみで構成されています。アラン・チューリングは実際にエニグマを解読しており、アシスタント2の主張は事実と反しています。\\n\\n比較すると、どちらの回答も正確性に欠けますが、アシスタント1の方が少なくとも質問のコンテキストに基づいて答えようという試みが見られます。したがって、よりマシな回答を提供しているのはアシスタント1です。\\n\\n判断: [[1]]                                                                                                                                                                                                                                                                              1\n",
      "[評価の説明]\\nアシスタント1の回答は、スエズ運河が建設されなかった可能性についての影響を考慮しているが、その内容には問題がある。スエズ運河は交通と貿易のルートとしての役割が主であり、直接的に都市の水供給に関わる設備ではないため、その点において不正確です。\\n\\nアシスタント2の回答は、完全に誤っています。スエズ運河はフランスではなくエジプトにあり、フランスの水供給とは無関係です。さらに、回答は同じフレーズの繰り返しによって、内容が乱れ、意味をなしていません。\\n\\n[最終的な判断]\\n両方のアシスタントの回答には誤りがありますが、アシスタント1の回答が若干関連しており、完全な繰り返しや誤った地理的情報を含んでいないため、より優れていると判断します。\\n\\n[[1]]                                                                                                                                                                                                                                                                                           1\n",
      "アシスタント1の回答は、質問に対して関連性があり、いくつかの具体的な側面（文化、政治、経済、文化と芸術、科学）を元に、マヤ文明が崩壊していなかった場合の様々な発展についての考察を展開しました。それぞれの側面について、簡潔ながらそれがどのように発展していたかを説明しています。説明は比較的具体的で、ユーザーが知りたいであろう情報を提供しています。\\n\\n一方で、アシスタント2の回答には、技術的なエラーがあり、回答の内容が反復的でありながらどのような情報も含まれていません。このため、アシスタント2の回答は質問に対して何の価値も提供していません。\\n\\nこの比較に基づいて、アシスタント1の回答が明らかに優れています。アシスタント1は質問に対する有用で関連性のある情報を提供し、ユーザーの興味に応える要素が含まれているため、評価は以下の通りです:\\n\\n[[1]]                                                                                                                                                                                                                                                 1\n",
      "両方のAIアシスタントが質問に答える際に、回答の品質が問題ありました。しかし、アシスタント1とアシスタント2のオリジナル性、詳細レベル、正確性に違いが見られます。\\n\\nアシスタント1の回答は繰り返しが多すぎて、非常に冗長でした。このような繰り返しは、役に立つ情報を提供するどころか、むしろ読者の理解を妨げてしまう可能性があります。特定の詳細や具体的な感想が一切ないため、実際のコンサートのレビューとしては全く機能していません。\\n\\nアシスタント2の回答は、最初の部分ではオーケストラの演奏に関していくつかの評価をしていますが、後半も同様に繰り返しの問題を抱えています。この繰り返しは情報の価値を低下させ、読みにくくなっていますが、少なくともアシスタント1に比べて多少の詳細が与えられています。\\n\\n結果として、どちらのアシスタントも完璧な回答とはほど遠いですが、アシスタント2が少なくともある程度は具体的な感想を述べているため、優れていると評価できます。\\n\\n最終評価: [[2]]                                                                                                                                                                                 1\n",
      "Name: rationale, Length: 160, dtype: int64\n"
     ]
    }
   ],
   "source": [
    "print(df_res_judge['rationale'].value_counts())"
   ]
  },
  {
   "cell_type": "code",
   "execution_count": null,
   "id": "66dca41f-1280-44db-a269-4954f9aee7b6",
   "metadata": {},
   "outputs": [],
   "source": []
  },
  {
   "cell_type": "code",
   "execution_count": 25,
   "id": "fb378bb1-663c-4ebd-b569-6ed9da0e725a",
   "metadata": {},
   "outputs": [
    {
     "data": {
      "text/plain": [
       "{'lm_output': '時間管理能力を向上させるには、いくつかの方法があります。以下は一般的な方法ですが、個人的な要因や経済的な状況によっては、一部が適用できず、一部が適用できる場合もあります。\\n\\n1. 時間計画を行います。時間計画には、日曜日や祝日を除き、週末までの日曜日や祝日を含めた日曜日や祝日の時間を分けて、仕事や家庭事務を予定します。\\n\\n2. 時間計画を実行します。時間計画を実行するためには、時間計画を確認し、時間計画を実行するために必要な時間を確保します。\\n\\n3. 時間計画を確実に実行します。時間計画を確実に実行するためには、時間計画を確実に実行するために必要な時間を確保します。\\n\\n4. 時間計画を確実に実行します。時間計画を確実に実行するためには、時間計画を確実に実行するために必要な時間を確保します。\\n\\n5. 時間計画を確実に実行します。時間計画を確実に実行するためには、時間計画を確実に実行するために必要な時間を確保します。\\n\\n6. 時間計画を確実に実行します。時間計画を確実に実行するためには、時間計画を確実に実行するために必要な時間を確保します。\\n\\n7. 時間計画を確実に実行します。時間計画を確実に実行するためには、時間計画を確実に実行するために必要な時間を確保します。\\n\\n8. 時間計画を確実に実行します。時間計画を確実に実行するためには、時間計画を確実に実行するために必要な時間を確保します。\\n\\n9. 時間計画を確実に実行します。時間計画を確実に実行するためには、時間計画を確実に実行するために必要な時間を確保します。\\n\\n10. 時間計画を確実に実行します。時間計画を確実に実行するためには、時間計画を確実に実行するために必要な時間を確保します。\\n\\n11. 時間計画を確実に実行します。時間計画を確実に実行するためには、時間計画を確実に実行するために必要な時間を確保します。\\n\\n12. 時間計画を確実に実行します。時間計画を確実に実行するためには、時間計画を確実に実行するために必要な時間を確保します。\\n\\n13. 時間計画を確実に実行します。時間計画を確実に実行するためには、時間計画を確実に実行するために必要な時間を確保します。\\n\\n14. 時間計画を確実に実行します。時間計画を確実に実行するためには、時間計画を確実に実行するために必要な時間を確保します。\\n\\n15. 時間計画を確実に',\n",
       " 'task_inputs': {'messages': [{'role': 'user',\n",
       "    'content': '時間管理能力を向上させるにはどうしたらいいですか？'}],\n",
       "  'category': 'generic'},\n",
       " 'references': [],\n",
       " 'output_length': 998}"
      ]
     },
     "execution_count": 25,
     "metadata": {},
     "output_type": "execute_result"
    }
   ],
   "source": [
    "df_res_judge['model1_item'][0]"
   ]
  },
  {
   "cell_type": "code",
   "execution_count": 26,
   "id": "d55a6006-cc7d-4bed-aa01-302eca950527",
   "metadata": {},
   "outputs": [
    {
     "data": {
      "text/plain": [
       "{'lm_output': '時間管理能力を向上させるには、いくつかの方法があります。以下は一般的な方法ですが、個人的な要因や経済的な状況によっては、一部が適用できず、一部が適用できる場合もあります。\\n\\n1. 時間計画を行います。時間計画には、日曜日や祝日を除き、週末までの日曜日や祝日を含めた日曜日や祝日の時間を分けて、仕事や家庭事務を予定します。\\n\\n2. 時間計画を実行します。時間計画を実行するためには、時間計画を確認し、時間計画を実行するために必要な時間を確保します。\\n\\n3. 時間計画を確実に実行します。時間計画を確実に実行するためには、時間計画を確実に実行するために必要な時間を確保します。\\n\\n4. 時間計画を確実に実行します。時間計画を確実に実行するためには、時間計画を確実に実行するために必要な時間を確保します。\\n\\n5. 時間計画を確実に実行します。時間計画を確実に実行するためには、時間計画を確実に実行するために必要な時間を確保します。\\n\\n6. 時間計画を確実に実行します。時間計画を確実に実行するためには、時間計画を確実に実行するために必要な時間を確保します。\\n\\n7. 時間計画を確実に実行します。時間計画を確実に実行するためには、時間計画を確実に実行するために必要な時間を確保します。\\n\\n8. 時間計画を確実に実行します。時間計画を確実に実行するためには、時間計画を確実に実行するために必要な時間を確保します。\\n\\n9. 時間計画を確実に実行します。時間計画を確実に実行するためには、時間計画を確実に実行するために必要な時間を確保します。\\n\\n10. 時間計画を確実に実行します。時間計画を確実に実行するためには、時間計画を確実に実行するために必要な時間を確保します。\\n\\n11. 時間計画を確実に実行します。時間計画を確実に実行するためには、時間計画を確実に実行するために必要な時間を確保します。\\n\\n12. 時間計画を確実に実行します。時間計画を確実に実行するためには、時間計画を確実に実行するために必要な時間を確保します。\\n\\n13. 時間計画を確実に実行します。時間計画を確実に実行するためには、時間計画を確実に実行するために必要な時間を確保します。\\n\\n14. 時間計画を確実に実行します。時間計画を確実に実行するためには、時間計画を確実に実行するために必要な時間を確保します。\\n\\n15. 時間計画を確実に',\n",
       " 'task_inputs': {'messages': [{'role': 'user',\n",
       "    'content': '時間管理能力を向上させるにはどうしたらいいですか？'}],\n",
       "  'category': 'generic'},\n",
       " 'references': [],\n",
       " 'output_length': 998}"
      ]
     },
     "execution_count": 26,
     "metadata": {},
     "output_type": "execute_result"
    }
   ],
   "source": [
    "df_res_judge['model2_item'][80]"
   ]
  },
  {
   "cell_type": "code",
   "execution_count": 27,
   "id": "bfa310b6-6d2c-48a4-b3d4-0fba8d8a67a8",
   "metadata": {},
   "outputs": [
    {
     "data": {
      "text/plain": [
       "{'lm_output': '時間管理能力を向上させるために、次のことをお勧めします。\\n\\n1.時間計画を行う。\\n\\n2.時間計画を実行して、目標を達成します。\\n\\n3.時間計画を維持して、目標を達成します。\\n\\n4.時間計画を維持して、目標を達成します。\\n\\n5.時間計画を維持して、目標を達成します。\\n\\n6.時間計画を維持して、目標を達成します。\\n\\n7.時間計画を維持して、目標を達成します。\\n\\n8.時間計画を維持して、目標を達成します。\\n\\n9.時間計画を維持して、目標を達成します。\\n\\n10.時間計画を維持して、目標を達成します。\\n\\n11.時間計画を維持して、目標を達成します。\\n\\n12.時間計画を維持して、目標を達成します。\\n\\n13.時間計画を維持して、目標を達成します。\\n\\n14.時間計画を維持して、目標を達成します。\\n\\n15.時間計画を維持して、目標を達成します。\\n\\n16.時間計画を維持して、目標を達成します。\\n\\n17.時間計画を維持して、目標を達成します。\\n\\n18.時間計画を維持して、目標を達成します。\\n\\n19.時間計画を維持して、目標を達成します。\\n\\n20.時間計画を維持して、目標を達成します。\\n\\n21.時間計画を維持して、目標を達成します。\\n\\n22.時間計画を維持して、目標を達成します。\\n\\n23.時間計画を維持して、目標を達成します。\\n\\n24.時間計画を維持して、目標を達成します。\\n\\n25.時間計画を維持して、目標を達成します。\\n\\n26.時間計画を維持して、目標を達成します。\\n\\n27.時間計画を維持して、目標を達成します。\\n\\n28.時間計画を維持して、目標を達成します。\\n\\n29.時間計画を維持して、目標を達成します。\\n\\n30.時間計画を維持して、目標を達成します。\\n\\n31.時間計画を維持して、目標を達成します。\\n\\n32.時間計画を維持して、目標を達成します。\\n\\n33.時間計画を維持して、目標を達成します。\\n\\n34.時間計画を維持して、目標を達成します。\\n\\n35.時間計画を維持して、目標を達成します。\\n\\n36.時間計画を維持して、目標を達成します。\\n\\n37.時間計画を維持して、目標を達成します。\\n\\n38.時間計画を維持して、目標を達成します。\\n\\n39.時間計画を維持して、目標を達成します。\\n\\n40',\n",
       " 'task_inputs': {'messages': [{'role': 'user',\n",
       "    'content': '時間管理能力を向上させるにはどうしたらいいですか？'}],\n",
       "  'category': 'generic'},\n",
       " 'references': [],\n",
       " 'output_length': 948}"
      ]
     },
     "execution_count": 27,
     "metadata": {},
     "output_type": "execute_result"
    }
   ],
   "source": [
    "df_res_judge['model1_item'][80]"
   ]
  },
  {
   "cell_type": "code",
   "execution_count": 28,
   "id": "0b37c526-0047-4f2e-ad52-30e018ea16f1",
   "metadata": {},
   "outputs": [
    {
     "data": {
      "text/plain": [
       "{'lm_output': '時間管理能力を向上させるために、次のことをお勧めします。\\n\\n1.時間計画を行う。\\n\\n2.時間計画を実行して、目標を達成します。\\n\\n3.時間計画を維持して、目標を達成します。\\n\\n4.時間計画を維持して、目標を達成します。\\n\\n5.時間計画を維持して、目標を達成します。\\n\\n6.時間計画を維持して、目標を達成します。\\n\\n7.時間計画を維持して、目標を達成します。\\n\\n8.時間計画を維持して、目標を達成します。\\n\\n9.時間計画を維持して、目標を達成します。\\n\\n10.時間計画を維持して、目標を達成します。\\n\\n11.時間計画を維持して、目標を達成します。\\n\\n12.時間計画を維持して、目標を達成します。\\n\\n13.時間計画を維持して、目標を達成します。\\n\\n14.時間計画を維持して、目標を達成します。\\n\\n15.時間計画を維持して、目標を達成します。\\n\\n16.時間計画を維持して、目標を達成します。\\n\\n17.時間計画を維持して、目標を達成します。\\n\\n18.時間計画を維持して、目標を達成します。\\n\\n19.時間計画を維持して、目標を達成します。\\n\\n20.時間計画を維持して、目標を達成します。\\n\\n21.時間計画を維持して、目標を達成します。\\n\\n22.時間計画を維持して、目標を達成します。\\n\\n23.時間計画を維持して、目標を達成します。\\n\\n24.時間計画を維持して、目標を達成します。\\n\\n25.時間計画を維持して、目標を達成します。\\n\\n26.時間計画を維持して、目標を達成します。\\n\\n27.時間計画を維持して、目標を達成します。\\n\\n28.時間計画を維持して、目標を達成します。\\n\\n29.時間計画を維持して、目標を達成します。\\n\\n30.時間計画を維持して、目標を達成します。\\n\\n31.時間計画を維持して、目標を達成します。\\n\\n32.時間計画を維持して、目標を達成します。\\n\\n33.時間計画を維持して、目標を達成します。\\n\\n34.時間計画を維持して、目標を達成します。\\n\\n35.時間計画を維持して、目標を達成します。\\n\\n36.時間計画を維持して、目標を達成します。\\n\\n37.時間計画を維持して、目標を達成します。\\n\\n38.時間計画を維持して、目標を達成します。\\n\\n39.時間計画を維持して、目標を達成します。\\n\\n40',\n",
       " 'task_inputs': {'messages': [{'role': 'user',\n",
       "    'content': '時間管理能力を向上させるにはどうしたらいいですか？'}],\n",
       "  'category': 'generic'},\n",
       " 'references': [],\n",
       " 'output_length': 948}"
      ]
     },
     "execution_count": 28,
     "metadata": {},
     "output_type": "execute_result"
    }
   ],
   "source": [
    "df_res_judge['model2_item'][0]"
   ]
  },
  {
   "cell_type": "code",
   "execution_count": 29,
   "id": "494c0ea3-aedd-4082-ade2-5a7eea868d82",
   "metadata": {},
   "outputs": [],
   "source": [
    "# >> model1, model2を入れ替えて2回検証している"
   ]
  },
  {
   "cell_type": "code",
   "execution_count": null,
   "id": "801605fd-1d10-4df7-8cd5-4d6001c26e81",
   "metadata": {},
   "outputs": [],
   "source": []
  },
  {
   "cell_type": "code",
   "execution_count": null,
   "id": "c65e0398-c6d5-4835-a3b8-381453a476f1",
   "metadata": {},
   "outputs": [],
   "source": []
  },
  {
   "cell_type": "code",
   "execution_count": 54,
   "id": "2980f95e-3d88-49b4-a386-ba62055a4540",
   "metadata": {},
   "outputs": [
    {
     "data": {
      "text/html": [
       "<div>\n",
       "<style scoped>\n",
       "    .dataframe tbody tr th:only-of-type {\n",
       "        vertical-align: middle;\n",
       "    }\n",
       "\n",
       "    .dataframe tbody tr th {\n",
       "        vertical-align: top;\n",
       "    }\n",
       "\n",
       "    .dataframe thead th {\n",
       "        text-align: right;\n",
       "    }\n",
       "</style>\n",
       "<table border=\"1\" class=\"dataframe\">\n",
       "  <thead>\n",
       "    <tr style=\"text-align: right;\">\n",
       "      <th></th>\n",
       "      <th>model1</th>\n",
       "      <th>model1_item</th>\n",
       "      <th>model2</th>\n",
       "      <th>model2_item</th>\n",
       "      <th>winner</th>\n",
       "      <th>rationale</th>\n",
       "    </tr>\n",
       "  </thead>\n",
       "  <tbody>\n",
       "    <tr>\n",
       "      <th>0</th>\n",
       "      <td>h2o_danube3</td>\n",
       "      <td>{'lm_output': '時間管理能力を向上させるには、いくつかの方法があります。以下は...</td>\n",
       "      <td>h2o_danube3_ja</td>\n",
       "      <td>{'lm_output': '時間管理能力を向上させるために、次のことをお勧めします。\n",
       "\n",
       "1...</td>\n",
       "      <td>model2</td>\n",
       "      <td>アシスタント1とアシスタント2の回答の評価において、どちらも推奨する手法に問題がありますが、...</td>\n",
       "    </tr>\n",
       "    <tr>\n",
       "      <th>1</th>\n",
       "      <td>h2o_danube3</td>\n",
       "      <td>{'lm_output': 'ストレスを上手に付き合うには、多くの方法があります。以下は、一...</td>\n",
       "      <td>h2o_danube3_ja</td>\n",
       "      <td>{'lm_output': 'ストレスを抑えるために、いくつかの方法があります。1つの方法は...</td>\n",
       "      <td>model1</td>\n",
       "      <td>両方のAIアシスタントの回答には問題があります。両方ともテキストの繰り返しによるエラーが発生...</td>\n",
       "    </tr>\n",
       "    <tr>\n",
       "      <th>2</th>\n",
       "      <td>h2o_danube3</td>\n",
       "      <td>{'lm_output': 'PythonとJavaScriptは両方が高価値のプログラミン...</td>\n",
       "      <td>h2o_danube3_ja</td>\n",
       "      <td>{'lm_output': 'PythonとJavaScriptは両方とも、Webアプリケー...</td>\n",
       "      <td>model1</td>\n",
       "      <td>両方のAIアシスタントの回答は品質に問題があり、ユーザーの質問に適切に回答していませんが、ア...</td>\n",
       "    </tr>\n",
       "    <tr>\n",
       "      <th>3</th>\n",
       "      <td>h2o_danube3</td>\n",
       "      <td>{'lm_output': '宅勤務で生産性を上げるには、多くの方法がありますが、以下の点を...</td>\n",
       "      <td>h2o_danube3_ja</td>\n",
       "      <td>{'lm_output': '宅勤務で生産性を上げるためのいくつかのヒントがあります。\n",
       "\n",
       "1...</td>\n",
       "      <td>model2</td>\n",
       "      <td>分析すると、両方のアシスタントの回答は、品質において非常に問題があります。アシスタント1とア...</td>\n",
       "    </tr>\n",
       "    <tr>\n",
       "      <th>4</th>\n",
       "      <td>h2o_danube3</td>\n",
       "      <td>{'lm_output': '量子コンピュータとは、現在のコンピュータとは異なる原理を使って...</td>\n",
       "      <td>h2o_danube3_ja</td>\n",
       "      <td>{'lm_output': '量子コンピュータは、量子力学の基本的な原則を使用してコンピュー...</td>\n",
       "      <td>model1</td>\n",
       "      <td>比較の結果、どちらのアシスタントも回答品質基準を十分に満たしていないが、アシスタント1の回答...</td>\n",
       "    </tr>\n",
       "  </tbody>\n",
       "</table>\n",
       "</div>"
      ],
      "text/plain": [
       "        model1                                        model1_item  \\\n",
       "0  h2o_danube3  {'lm_output': '時間管理能力を向上させるには、いくつかの方法があります。以下は...   \n",
       "1  h2o_danube3  {'lm_output': 'ストレスを上手に付き合うには、多くの方法があります。以下は、一...   \n",
       "2  h2o_danube3  {'lm_output': 'PythonとJavaScriptは両方が高価値のプログラミン...   \n",
       "3  h2o_danube3  {'lm_output': '宅勤務で生産性を上げるには、多くの方法がありますが、以下の点を...   \n",
       "4  h2o_danube3  {'lm_output': '量子コンピュータとは、現在のコンピュータとは異なる原理を使って...   \n",
       "\n",
       "           model2                                        model2_item  winner  \\\n",
       "0  h2o_danube3_ja  {'lm_output': '時間管理能力を向上させるために、次のことをお勧めします。\n",
       "\n",
       "1...  model2   \n",
       "1  h2o_danube3_ja  {'lm_output': 'ストレスを抑えるために、いくつかの方法があります。1つの方法は...  model1   \n",
       "2  h2o_danube3_ja  {'lm_output': 'PythonとJavaScriptは両方とも、Webアプリケー...  model1   \n",
       "3  h2o_danube3_ja  {'lm_output': '宅勤務で生産性を上げるためのいくつかのヒントがあります。\n",
       "\n",
       "1...  model2   \n",
       "4  h2o_danube3_ja  {'lm_output': '量子コンピュータは、量子力学の基本的な原則を使用してコンピュー...  model1   \n",
       "\n",
       "                                           rationale  \n",
       "0  アシスタント1とアシスタント2の回答の評価において、どちらも推奨する手法に問題がありますが、...  \n",
       "1  両方のAIアシスタントの回答には問題があります。両方ともテキストの繰り返しによるエラーが発生...  \n",
       "2  両方のAIアシスタントの回答は品質に問題があり、ユーザーの質問に適切に回答していませんが、ア...  \n",
       "3  分析すると、両方のアシスタントの回答は、品質において非常に問題があります。アシスタント1とア...  \n",
       "4  比較の結果、どちらのアシスタントも回答品質基準を十分に満たしていないが、アシスタント1の回答...  "
      ]
     },
     "execution_count": 54,
     "metadata": {},
     "output_type": "execute_result"
    }
   ],
   "source": [
    "df_res_judge.head()"
   ]
  },
  {
   "cell_type": "code",
   "execution_count": 44,
   "id": "57539e9d-96ae-412f-831c-8f4266a2ea7b",
   "metadata": {},
   "outputs": [
    {
     "data": {
      "text/plain": [
       "(160, 160, 160)"
      ]
     },
     "execution_count": 44,
     "metadata": {},
     "output_type": "execute_result"
    }
   ],
   "source": [
    "question = [df_res_judge['model2_item'][i]['task_inputs']['messages'][0]['content'] for i in range(df_res_judge.shape[0])]\n",
    "output_model1 = [df_res_judge['model1_item'][i]['lm_output'] for i in range(df_res_judge.shape[0])]\n",
    "output_model2 = [df_res_judge['model2_item'][i]['lm_output'] for i in range(df_res_judge.shape[0])]\n",
    "len(question), len(output_model1), len(output_model2)"
   ]
  },
  {
   "cell_type": "code",
   "execution_count": 62,
   "id": "f7e1ea57-9a85-4c78-9434-0907cba049e9",
   "metadata": {},
   "outputs": [
    {
     "data": {
      "text/plain": [
       "(160, 8)"
      ]
     },
     "execution_count": 62,
     "metadata": {},
     "output_type": "execute_result"
    }
   ],
   "source": [
    "df_res_judge2 = pd.DataFrame({'question':question,\n",
    "                              'question_category':category*2,\n",
    "                              'model1':df_res_judge['model1'],\n",
    "                             'output_model1':output_model1,\n",
    "                              'model2':df_res_judge['model2'],\n",
    "                             'output_model2':output_model2,\n",
    "                             'winner':df_res_judge['winner'],\n",
    "                             'rationale':df_res_judge['rationale']})\n",
    "df_res_judge2.shape"
   ]
  },
  {
   "cell_type": "code",
   "execution_count": 63,
   "id": "821033aa-3447-49fc-b7f6-c97ccef171d6",
   "metadata": {
    "scrolled": true
   },
   "outputs": [
    {
     "data": {
      "text/html": [
       "<div>\n",
       "<style scoped>\n",
       "    .dataframe tbody tr th:only-of-type {\n",
       "        vertical-align: middle;\n",
       "    }\n",
       "\n",
       "    .dataframe tbody tr th {\n",
       "        vertical-align: top;\n",
       "    }\n",
       "\n",
       "    .dataframe thead th {\n",
       "        text-align: right;\n",
       "    }\n",
       "</style>\n",
       "<table border=\"1\" class=\"dataframe\">\n",
       "  <thead>\n",
       "    <tr style=\"text-align: right;\">\n",
       "      <th></th>\n",
       "      <th>question</th>\n",
       "      <th>question_category</th>\n",
       "      <th>model1</th>\n",
       "      <th>output_model1</th>\n",
       "      <th>model2</th>\n",
       "      <th>output_model2</th>\n",
       "      <th>winner</th>\n",
       "      <th>rationale</th>\n",
       "    </tr>\n",
       "  </thead>\n",
       "  <tbody>\n",
       "    <tr>\n",
       "      <th>0</th>\n",
       "      <td>時間管理能力を向上させるにはどうしたらいいですか？</td>\n",
       "      <td>generic</td>\n",
       "      <td>h2o_danube3</td>\n",
       "      <td>時間管理能力を向上させるには、いくつかの方法があります。以下は一般的な方法ですが、個人的な要...</td>\n",
       "      <td>h2o_danube3_ja</td>\n",
       "      <td>時間管理能力を向上させるために、次のことをお勧めします。\\n\\n1.時間計画を行う。\\n\\n...</td>\n",
       "      <td>model2</td>\n",
       "      <td>アシスタント1とアシスタント2の回答の評価において、どちらも推奨する手法に問題がありますが、...</td>\n",
       "    </tr>\n",
       "    <tr>\n",
       "      <th>1</th>\n",
       "      <td>ストレスと上手に付き合うには、どのような方法がありますか？</td>\n",
       "      <td>generic</td>\n",
       "      <td>h2o_danube3</td>\n",
       "      <td>ストレスを上手に付き合うには、多くの方法があります。以下は、一般的な方法と例えることができま...</td>\n",
       "      <td>h2o_danube3_ja</td>\n",
       "      <td>ストレスを抑えるために、いくつかの方法があります。1つの方法は、ストレスを抑えるために、スト...</td>\n",
       "      <td>model1</td>\n",
       "      <td>両方のAIアシスタントの回答には問題があります。両方ともテキストの繰り返しによるエラーが発生...</td>\n",
       "    </tr>\n",
       "    <tr>\n",
       "      <th>2</th>\n",
       "      <td>プログラミング言語「Python」と「JavaScript」の主な違いは何ですか？</td>\n",
       "      <td>generic</td>\n",
       "      <td>h2o_danube3</td>\n",
       "      <td>PythonとJavaScriptは両方が高価値のプログラミング言語であり、しかし、それらの...</td>\n",
       "      <td>h2o_danube3_ja</td>\n",
       "      <td>PythonとJavaScriptは両方とも、Webアプリケーションを開発するために使用され...</td>\n",
       "      <td>model1</td>\n",
       "      <td>両方のAIアシスタントの回答は品質に問題があり、ユーザーの質問に適切に回答していませんが、ア...</td>\n",
       "    </tr>\n",
       "    <tr>\n",
       "      <th>3</th>\n",
       "      <td>在宅勤務で生産性を上げるにはどうしたらいいでしょうか？</td>\n",
       "      <td>generic</td>\n",
       "      <td>h2o_danube3</td>\n",
       "      <td>宅勤務で生産性を上げるには、多くの方法がありますが、以下の点を考慮することが大事です。\\n\\...</td>\n",
       "      <td>h2o_danube3_ja</td>\n",
       "      <td>宅勤務で生産性を上げるためのいくつかのヒントがあります。\\n\\n1.定期的に休憩して、精神的...</td>\n",
       "      <td>model2</td>\n",
       "      <td>分析すると、両方のアシスタントの回答は、品質において非常に問題があります。アシスタント1とア...</td>\n",
       "    </tr>\n",
       "    <tr>\n",
       "      <th>4</th>\n",
       "      <td>量子コンピュータについて基本的なことを教えてください。</td>\n",
       "      <td>generic</td>\n",
       "      <td>h2o_danube3</td>\n",
       "      <td>量子コンピュータとは、現在のコンピュータとは異なる原理を使って計算を行うコンピュータです。こ...</td>\n",
       "      <td>h2o_danube3_ja</td>\n",
       "      <td>量子コンピュータは、量子力学の基本的な原則を使用してコンピューティングを行うコンピュータです...</td>\n",
       "      <td>model1</td>\n",
       "      <td>比較の結果、どちらのアシスタントも回答品質基準を十分に満たしていないが、アシスタント1の回答...</td>\n",
       "    </tr>\n",
       "    <tr>\n",
       "      <th>...</th>\n",
       "      <td>...</td>\n",
       "      <td>...</td>\n",
       "      <td>...</td>\n",
       "      <td>...</td>\n",
       "      <td>...</td>\n",
       "      <td>...</td>\n",
       "      <td>...</td>\n",
       "      <td>...</td>\n",
       "    </tr>\n",
       "    <tr>\n",
       "      <th>155</th>\n",
       "      <td>ジャズの歴史と文化的意義を紹介するYouTube動画を作る際の脚本を書いてください。</td>\n",
       "      <td>writing</td>\n",
       "      <td>h2o_danube3_ja</td>\n",
       "      <td>確かに、ここにあなたが考えるかもしれないいくつかのアイデアがあります：\\n\\n1.ジャズの歴...</td>\n",
       "      <td>h2o_danube3</td>\n",
       "      <td>「ジャズの歴史と文化的意義」のYouTube動画を作る際に、以下のような脚本を書いてください...</td>\n",
       "      <td>model2</td>\n",
       "      <td>アシスタント1の回答は非常に冗長で、一つのポイントを繰り返すだけで実際には有益な情報が提供さ...</td>\n",
       "    </tr>\n",
       "    <tr>\n",
       "      <th>156</th>\n",
       "      <td>最近行ったハワイ旅行について、文化的な体験や必見のアトラクションを紹介する魅力的な旅行ブログ...</td>\n",
       "      <td>writing</td>\n",
       "      <td>h2o_danube3_ja</td>\n",
       "      <td>確かに、私は素晴らしい旅行記事を書くことができます。私はあなたがハワイに行くのを楽しむかもし...</td>\n",
       "      <td>h2o_danube3</td>\n",
       "      <td>ハワイの旅行に行く前に、一番必要とされる情報を紹介します。ハワイは、暖かい気候、美しい海滨、...</td>\n",
       "      <td>draw</td>\n",
       "      <td>評価の結果、どちらのアシスタントもユーザーの要求に完全に応えることはできていません。アシスタ...</td>\n",
       "    </tr>\n",
       "    <tr>\n",
       "      <th>157</th>\n",
       "      <td>最近公開されたSF映画について、そのあらすじ、登場人物、特殊効果について、魅力的なレビューを...</td>\n",
       "      <td>writing</td>\n",
       "      <td>h2o_danube3_ja</td>\n",
       "      <td>確かに、ここにいくつかの例があります：\\n\\n「スターウォーズ：エピソード VII：ファイト...</td>\n",
       "      <td>h2o_danube3</td>\n",
       "      <td>最近公開されたSF映画の一つは、「クローバー・オブ・ザ・スターズ」（Cloverfield）...</td>\n",
       "      <td>model2</td>\n",
       "      <td>両方のアシスタントの回答は質問に適切に答えていませんが、その理由の詳細は以下の通りです。\\n...</td>\n",
       "    </tr>\n",
       "    <tr>\n",
       "      <th>158</th>\n",
       "      <td>楽曲ストリーミングサービスが音楽業界に与える影響について議論するポッドキャストのエピソードを...</td>\n",
       "      <td>writing</td>\n",
       "      <td>h2o_danube3_ja</td>\n",
       "      <td>確かに、ここにあなたがそれを使用するためのいくつかのアイデアがあります：\\n\\n1.ストリー...</td>\n",
       "      <td>h2o_danube3</td>\n",
       "      <td>「音楽の未来を語る：楽曲ストリーミングサービスの影響」\\n\\nこのポッドキャストのエピソード...</td>\n",
       "      <td>model2</td>\n",
       "      <td>アシスタント1とアシスタント2の回答を比較すると、アシスタント2の方が圧倒的に優れた内容を提...</td>\n",
       "    </tr>\n",
       "    <tr>\n",
       "      <th>159</th>\n",
       "      <td>交響曲のコンサートに参加した際の、オーケストラの演奏と全体的な参加の感想について、レビューを...</td>\n",
       "      <td>writing</td>\n",
       "      <td>h2o_danube3_ja</td>\n",
       "      <td>これは、オーケストラの演奏と全体的な参加の感想を書くことができるレビューの例です。\\n\\nオ...</td>\n",
       "      <td>h2o_danube3</td>\n",
       "      <td>私は、交響曲のコンサートに参加した際のオーケストラの演奏と全体的な参加の感想を書いておきます...</td>\n",
       "      <td>model2</td>\n",
       "      <td>両方のAIアシスタントが質問に答える際に、回答の品質が問題ありました。しかし、アシスタント1...</td>\n",
       "    </tr>\n",
       "  </tbody>\n",
       "</table>\n",
       "<p>160 rows × 8 columns</p>\n",
       "</div>"
      ],
      "text/plain": [
       "                                              question question_category  \\\n",
       "0                            時間管理能力を向上させるにはどうしたらいいですか？           generic   \n",
       "1                        ストレスと上手に付き合うには、どのような方法がありますか？           generic   \n",
       "2            プログラミング言語「Python」と「JavaScript」の主な違いは何ですか？           generic   \n",
       "3                          在宅勤務で生産性を上げるにはどうしたらいいでしょうか？           generic   \n",
       "4                          量子コンピュータについて基本的なことを教えてください。           generic   \n",
       "..                                                 ...               ...   \n",
       "155         ジャズの歴史と文化的意義を紹介するYouTube動画を作る際の脚本を書いてください。           writing   \n",
       "156  最近行ったハワイ旅行について、文化的な体験や必見のアトラクションを紹介する魅力的な旅行ブログ...           writing   \n",
       "157  最近公開されたSF映画について、そのあらすじ、登場人物、特殊効果について、魅力的なレビューを...           writing   \n",
       "158  楽曲ストリーミングサービスが音楽業界に与える影響について議論するポッドキャストのエピソードを...           writing   \n",
       "159  交響曲のコンサートに参加した際の、オーケストラの演奏と全体的な参加の感想について、レビューを...           writing   \n",
       "\n",
       "             model1                                      output_model1  \\\n",
       "0       h2o_danube3  時間管理能力を向上させるには、いくつかの方法があります。以下は一般的な方法ですが、個人的な要...   \n",
       "1       h2o_danube3  ストレスを上手に付き合うには、多くの方法があります。以下は、一般的な方法と例えることができま...   \n",
       "2       h2o_danube3  PythonとJavaScriptは両方が高価値のプログラミング言語であり、しかし、それらの...   \n",
       "3       h2o_danube3  宅勤務で生産性を上げるには、多くの方法がありますが、以下の点を考慮することが大事です。\\n\\...   \n",
       "4       h2o_danube3  量子コンピュータとは、現在のコンピュータとは異なる原理を使って計算を行うコンピュータです。こ...   \n",
       "..              ...                                                ...   \n",
       "155  h2o_danube3_ja  確かに、ここにあなたが考えるかもしれないいくつかのアイデアがあります：\\n\\n1.ジャズの歴...   \n",
       "156  h2o_danube3_ja  確かに、私は素晴らしい旅行記事を書くことができます。私はあなたがハワイに行くのを楽しむかもし...   \n",
       "157  h2o_danube3_ja  確かに、ここにいくつかの例があります：\\n\\n「スターウォーズ：エピソード VII：ファイト...   \n",
       "158  h2o_danube3_ja  確かに、ここにあなたがそれを使用するためのいくつかのアイデアがあります：\\n\\n1.ストリー...   \n",
       "159  h2o_danube3_ja  これは、オーケストラの演奏と全体的な参加の感想を書くことができるレビューの例です。\\n\\nオ...   \n",
       "\n",
       "             model2                                      output_model2  \\\n",
       "0    h2o_danube3_ja  時間管理能力を向上させるために、次のことをお勧めします。\\n\\n1.時間計画を行う。\\n\\n...   \n",
       "1    h2o_danube3_ja  ストレスを抑えるために、いくつかの方法があります。1つの方法は、ストレスを抑えるために、スト...   \n",
       "2    h2o_danube3_ja  PythonとJavaScriptは両方とも、Webアプリケーションを開発するために使用され...   \n",
       "3    h2o_danube3_ja  宅勤務で生産性を上げるためのいくつかのヒントがあります。\\n\\n1.定期的に休憩して、精神的...   \n",
       "4    h2o_danube3_ja  量子コンピュータは、量子力学の基本的な原則を使用してコンピューティングを行うコンピュータです...   \n",
       "..              ...                                                ...   \n",
       "155     h2o_danube3  「ジャズの歴史と文化的意義」のYouTube動画を作る際に、以下のような脚本を書いてください...   \n",
       "156     h2o_danube3  ハワイの旅行に行く前に、一番必要とされる情報を紹介します。ハワイは、暖かい気候、美しい海滨、...   \n",
       "157     h2o_danube3  最近公開されたSF映画の一つは、「クローバー・オブ・ザ・スターズ」（Cloverfield）...   \n",
       "158     h2o_danube3  「音楽の未来を語る：楽曲ストリーミングサービスの影響」\\n\\nこのポッドキャストのエピソード...   \n",
       "159     h2o_danube3  私は、交響曲のコンサートに参加した際のオーケストラの演奏と全体的な参加の感想を書いておきます...   \n",
       "\n",
       "     winner                                          rationale  \n",
       "0    model2  アシスタント1とアシスタント2の回答の評価において、どちらも推奨する手法に問題がありますが、...  \n",
       "1    model1  両方のAIアシスタントの回答には問題があります。両方ともテキストの繰り返しによるエラーが発生...  \n",
       "2    model1  両方のAIアシスタントの回答は品質に問題があり、ユーザーの質問に適切に回答していませんが、ア...  \n",
       "3    model2  分析すると、両方のアシスタントの回答は、品質において非常に問題があります。アシスタント1とア...  \n",
       "4    model1  比較の結果、どちらのアシスタントも回答品質基準を十分に満たしていないが、アシスタント1の回答...  \n",
       "..      ...                                                ...  \n",
       "155  model2  アシスタント1の回答は非常に冗長で、一つのポイントを繰り返すだけで実際には有益な情報が提供さ...  \n",
       "156    draw  評価の結果、どちらのアシスタントもユーザーの要求に完全に応えることはできていません。アシスタ...  \n",
       "157  model2  両方のアシスタントの回答は質問に適切に答えていませんが、その理由の詳細は以下の通りです。\\n...  \n",
       "158  model2  アシスタント1とアシスタント2の回答を比較すると、アシスタント2の方が圧倒的に優れた内容を提...  \n",
       "159  model2  両方のAIアシスタントが質問に答える際に、回答の品質が問題ありました。しかし、アシスタント1...  \n",
       "\n",
       "[160 rows x 8 columns]"
      ]
     },
     "execution_count": 63,
     "metadata": {},
     "output_type": "execute_result"
    }
   ],
   "source": [
    "df_res_judge2"
   ]
  },
  {
   "cell_type": "code",
   "execution_count": 64,
   "id": "0a3c8ee9-7a02-4e9d-af08-659c6f7b33ef",
   "metadata": {},
   "outputs": [
    {
     "data": {
      "text/plain": [
       "((80, 8), (80, 8))"
      ]
     },
     "execution_count": 64,
     "metadata": {},
     "output_type": "execute_result"
    }
   ],
   "source": [
    "df_res_judge2_part1 = df_res_judge2[:80]\n",
    "df_res_judge2_part2 = df_res_judge2[80:]\n",
    "df_res_judge2_part1.shape, df_res_judge2_part2.shape"
   ]
  },
  {
   "cell_type": "code",
   "execution_count": 65,
   "id": "c26d2c1f-0308-4248-bf94-ff9c7e222f56",
   "metadata": {},
   "outputs": [],
   "source": [
    "df_res_judge2_part1.to_csv('result_vicuna-ja_LlmAsJudgePair_part1.csv', index=False)\n",
    "df_res_judge2_part2.to_csv('result_vicuna-ja_LlmAsJudgePair_part2.csv', index=False)"
   ]
  },
  {
   "cell_type": "code",
   "execution_count": null,
   "id": "14f93d67-5116-4d19-99fb-a9db0cd37123",
   "metadata": {},
   "outputs": [],
   "source": []
  }
 ],
 "metadata": {
  "kernelspec": {
   "display_name": "Python 3 (ipykernel)",
   "language": "python",
   "name": "python3"
  },
  "language_info": {
   "codemirror_mode": {
    "name": "ipython",
    "version": 3
   },
   "file_extension": ".py",
   "mimetype": "text/x-python",
   "name": "python",
   "nbconvert_exporter": "python",
   "pygments_lexer": "ipython3",
   "version": "3.10.14"
  }
 },
 "nbformat": 4,
 "nbformat_minor": 5
}
