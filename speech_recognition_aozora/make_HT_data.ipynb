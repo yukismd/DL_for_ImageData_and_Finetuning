{
 "cells": [
  {
   "cell_type": "code",
   "execution_count": null,
   "id": "4bdf8758-4774-4e26-982c-11d0271a7d06",
   "metadata": {},
   "outputs": [],
   "source": []
  },
  {
   "cell_type": "code",
   "execution_count": 62,
   "id": "a3fe357f-0ab2-4f70-8439-04a37266a1e6",
   "metadata": {},
   "outputs": [],
   "source": [
    "import pandas as pd\n",
    "import numpy as np\n",
    "import itertools"
   ]
  },
  {
   "cell_type": "code",
   "execution_count": 2,
   "id": "24f2bdc4-539d-4dcb-b6e2-f38f49e0d643",
   "metadata": {},
   "outputs": [
    {
     "name": "stdout",
     "output_type": "stream",
     "text": [
      "\u001b[34mCKVW6cIgxI_Dazai\u001b[m\u001b[m                 audio_slice.ipynb\n",
      "CKVW6cIgxI_Dazai.zip             audio_slice_on_colabo.ipynb\n",
      "\u001b[34mCKVW6cIgxI_Dazai_slice\u001b[m\u001b[m           train_Dazai_ORIGINAL.csv\n",
      "CKVW6cIgxI_Dazai_slice.zip       train_details_Dazai_ORIGINAL.csv\n"
     ]
    }
   ],
   "source": [
    "!ls tmp/data_Dazai"
   ]
  },
  {
   "cell_type": "code",
   "execution_count": null,
   "id": "16b3f9af-ad98-4bcc-8bff-8df9a54c5d9e",
   "metadata": {},
   "outputs": [],
   "source": []
  },
  {
   "cell_type": "code",
   "execution_count": 3,
   "id": "6209fccf-3ffc-4fc1-a1d2-5589506ff870",
   "metadata": {},
   "outputs": [
    {
     "name": "stdout",
     "output_type": "stream",
     "text": [
      "(74, 6)\n"
     ]
    },
    {
     "data": {
      "text/html": [
       "<div>\n",
       "<style scoped>\n",
       "    .dataframe tbody tr th:only-of-type {\n",
       "        vertical-align: middle;\n",
       "    }\n",
       "\n",
       "    .dataframe tbody tr th {\n",
       "        vertical-align: top;\n",
       "    }\n",
       "\n",
       "    .dataframe thead th {\n",
       "        text-align: right;\n",
       "    }\n",
       "</style>\n",
       "<table border=\"1\" class=\"dataframe\">\n",
       "  <thead>\n",
       "    <tr style=\"text-align: right;\">\n",
       "      <th></th>\n",
       "      <th>ID</th>\n",
       "      <th>author</th>\n",
       "      <th>title</th>\n",
       "      <th>daisy_folder</th>\n",
       "      <th>audio_path</th>\n",
       "      <th>target</th>\n",
       "    </tr>\n",
       "  </thead>\n",
       "  <tbody>\n",
       "    <tr>\n",
       "      <th>0</th>\n",
       "      <td>1Gckfr5bxxhzvoo</td>\n",
       "      <td>CKVW6cIgxI</td>\n",
       "      <td>96bUO3HpHJ</td>\n",
       "      <td>OyDBhKtUqP</td>\n",
       "      <td>train/CKVW6cIgxI/96bUO3HpHJ/OyDBhKtUqP/JbJJRPU...</td>\n",
       "      <td>これは、もう、疑いをいれない。よほどのものである。こと、怠惰に関してだけは、私は、ほんもので...</td>\n",
       "    </tr>\n",
       "    <tr>\n",
       "      <th>1</th>\n",
       "      <td>1ti0Fttao7kYi0r</td>\n",
       "      <td>CKVW6cIgxI</td>\n",
       "      <td>diO56wJe9v</td>\n",
       "      <td>Ttv6lyaoDd</td>\n",
       "      <td>train/CKVW6cIgxI/diO56wJe9v/Ttv6lyaoDd/Af6sX3m...</td>\n",
       "      <td>小説修業に就いて語れ。という出題は、私を困惑させた。就職試験を受けにいって、小学校の算術の問...</td>\n",
       "    </tr>\n",
       "  </tbody>\n",
       "</table>\n",
       "</div>"
      ],
      "text/plain": [
       "                ID      author       title daisy_folder  \\\n",
       "0  1Gckfr5bxxhzvoo  CKVW6cIgxI  96bUO3HpHJ   OyDBhKtUqP   \n",
       "1  1ti0Fttao7kYi0r  CKVW6cIgxI  diO56wJe9v   Ttv6lyaoDd   \n",
       "\n",
       "                                          audio_path  \\\n",
       "0  train/CKVW6cIgxI/96bUO3HpHJ/OyDBhKtUqP/JbJJRPU...   \n",
       "1  train/CKVW6cIgxI/diO56wJe9v/Ttv6lyaoDd/Af6sX3m...   \n",
       "\n",
       "                                              target  \n",
       "0  これは、もう、疑いをいれない。よほどのものである。こと、怠惰に関してだけは、私は、ほんもので...  \n",
       "1  小説修業に就いて語れ。という出題は、私を困惑させた。就職試験を受けにいって、小学校の算術の問...  "
      ]
     },
     "execution_count": 3,
     "metadata": {},
     "output_type": "execute_result"
    }
   ],
   "source": [
    "df = pd.read_csv('tmp/data_Dazai/train_Dazai_ORIGINAL.csv')\n",
    "print(df.shape)\n",
    "df.head(2)"
   ]
  },
  {
   "cell_type": "code",
   "execution_count": 4,
   "id": "92287f65-5da5-429d-8049-aea92a960dd5",
   "metadata": {},
   "outputs": [],
   "source": [
    "# 文字数\n",
    "df['target_length'] = [len(s) for s in df['target']]"
   ]
  },
  {
   "cell_type": "code",
   "execution_count": 15,
   "id": "d396b36e-9a8b-4f79-9722-888a29218ef4",
   "metadata": {},
   "outputs": [
    {
     "name": "stdout",
     "output_type": "stream",
     "text": [
      "14\n"
     ]
    },
    {
     "data": {
      "text/plain": [
       "0.066667      436.466667\n",
       "0.133333      562.600000\n",
       "0.200000      722.200000\n",
       "0.266667     1118.800000\n",
       "0.333333     1397.000000\n",
       "0.400000     1902.600000\n",
       "0.466667     2381.266667\n",
       "0.533333     3667.333333\n",
       "0.600000     4061.600000\n",
       "0.666667     5523.333333\n",
       "0.733333     7035.666667\n",
       "0.800000     9225.200000\n",
       "0.866667    10599.000000\n",
       "0.933333    13450.333333\n",
       "Name: target_length, dtype: float64"
      ]
     },
     "execution_count": 15,
     "metadata": {},
     "output_type": "execute_result"
    }
   ],
   "source": [
    "thresh = df['target_length'].quantile([(i+1)/15 for i in range(14)])\n",
    "print(len(thresh))\n",
    "thresh"
   ]
  },
  {
   "cell_type": "code",
   "execution_count": 30,
   "id": "dfc71509-83a0-415d-80da-32e399198a70",
   "metadata": {},
   "outputs": [
    {
     "data": {
      "text/plain": [
       "13    5\n",
       "6     5\n",
       "12    5\n",
       "4     5\n",
       "14    5\n",
       "11    5\n",
       "1     5\n",
       "10    5\n",
       "15    5\n",
       "5     5\n",
       "3     5\n",
       "7     5\n",
       "9     5\n",
       "2     5\n",
       "8     4\n",
       "dtype: int64"
      ]
     },
     "execution_count": 30,
     "metadata": {},
     "output_type": "execute_result"
    }
   ],
   "source": [
    "category = pd.Series([1 for _ in range(df.shape[0])])\n",
    "for t in thresh:\n",
    "    category += (df['target_length']>=t)*1\n",
    "category.value_counts()"
   ]
  },
  {
   "cell_type": "code",
   "execution_count": 31,
   "id": "ee20f836-6f2d-4f2d-9f86-db59c5b5573a",
   "metadata": {},
   "outputs": [],
   "source": [
    "df['target_length_category'] = category"
   ]
  },
  {
   "cell_type": "code",
   "execution_count": 49,
   "id": "133309cb-7c6d-4d00-acb5-ddc920b02ea1",
   "metadata": {
    "scrolled": true
   },
   "outputs": [],
   "source": [
    "df = df.sort_values('target_length_category')"
   ]
  },
  {
   "cell_type": "code",
   "execution_count": 50,
   "id": "333db0cf-468e-404d-893b-42584fd5ea8d",
   "metadata": {},
   "outputs": [
    {
     "data": {
      "text/plain": [
       "array([ 1,  2,  3,  4,  5,  6,  7,  8,  9, 10, 11, 12, 13, 14, 15])"
      ]
     },
     "execution_count": 50,
     "metadata": {},
     "output_type": "execute_result"
    }
   ],
   "source": [
    "df['target_length_category'].unique()"
   ]
  },
  {
   "cell_type": "code",
   "execution_count": 57,
   "id": "4d9fc98f-5f62-41d7-b823-7ce703302ea9",
   "metadata": {},
   "outputs": [],
   "source": [
    "fold = []\n",
    "for i in df['target_length_category'].unique():\n",
    "    tmp = df[df['target_length_category']==i]\n",
    "    fold.append(np.random.choice([i for i in range(tmp.shape[0])], size=tmp.shape[0], replace=False).tolist())"
   ]
  },
  {
   "cell_type": "code",
   "execution_count": 64,
   "id": "9c853641-7323-4ebb-b8e9-a391cf294ce4",
   "metadata": {},
   "outputs": [
    {
     "data": {
      "text/plain": [
       "74"
      ]
     },
     "execution_count": 64,
     "metadata": {},
     "output_type": "execute_result"
    }
   ],
   "source": [
    "fold = list(itertools.chain.from_iterable(fold))\n",
    "len(fold)"
   ]
  },
  {
   "cell_type": "code",
   "execution_count": 65,
   "id": "41bbcd54-bf88-448f-bbf4-f0bb96074649",
   "metadata": {},
   "outputs": [],
   "source": [
    "df['fold'] = fold"
   ]
  },
  {
   "cell_type": "code",
   "execution_count": 67,
   "id": "a2b6cd47-4d7e-459b-a087-7531408aad32",
   "metadata": {},
   "outputs": [
    {
     "data": {
      "text/plain": [
       "3    15\n",
       "2    15\n",
       "1    15\n",
       "0    15\n",
       "4    14\n",
       "Name: fold, dtype: int64"
      ]
     },
     "execution_count": 67,
     "metadata": {},
     "output_type": "execute_result"
    }
   ],
   "source": [
    "df['fold'].value_counts()"
   ]
  },
  {
   "cell_type": "code",
   "execution_count": 68,
   "id": "a2f2d4a5-c448-4d56-bc4d-d5540210e3a5",
   "metadata": {},
   "outputs": [
    {
     "data": {
      "text/html": [
       "<div>\n",
       "<style scoped>\n",
       "    .dataframe tbody tr th:only-of-type {\n",
       "        vertical-align: middle;\n",
       "    }\n",
       "\n",
       "    .dataframe tbody tr th {\n",
       "        vertical-align: top;\n",
       "    }\n",
       "\n",
       "    .dataframe thead th {\n",
       "        text-align: right;\n",
       "    }\n",
       "</style>\n",
       "<table border=\"1\" class=\"dataframe\">\n",
       "  <thead>\n",
       "    <tr style=\"text-align: right;\">\n",
       "      <th>target_length_category</th>\n",
       "      <th>1</th>\n",
       "      <th>2</th>\n",
       "      <th>3</th>\n",
       "      <th>4</th>\n",
       "      <th>5</th>\n",
       "      <th>6</th>\n",
       "      <th>7</th>\n",
       "      <th>8</th>\n",
       "      <th>9</th>\n",
       "      <th>10</th>\n",
       "      <th>11</th>\n",
       "      <th>12</th>\n",
       "      <th>13</th>\n",
       "      <th>14</th>\n",
       "      <th>15</th>\n",
       "    </tr>\n",
       "    <tr>\n",
       "      <th>fold</th>\n",
       "      <th></th>\n",
       "      <th></th>\n",
       "      <th></th>\n",
       "      <th></th>\n",
       "      <th></th>\n",
       "      <th></th>\n",
       "      <th></th>\n",
       "      <th></th>\n",
       "      <th></th>\n",
       "      <th></th>\n",
       "      <th></th>\n",
       "      <th></th>\n",
       "      <th></th>\n",
       "      <th></th>\n",
       "      <th></th>\n",
       "    </tr>\n",
       "  </thead>\n",
       "  <tbody>\n",
       "    <tr>\n",
       "      <th>0</th>\n",
       "      <td>1</td>\n",
       "      <td>1</td>\n",
       "      <td>1</td>\n",
       "      <td>1</td>\n",
       "      <td>1</td>\n",
       "      <td>1</td>\n",
       "      <td>1</td>\n",
       "      <td>1</td>\n",
       "      <td>1</td>\n",
       "      <td>1</td>\n",
       "      <td>1</td>\n",
       "      <td>1</td>\n",
       "      <td>1</td>\n",
       "      <td>1</td>\n",
       "      <td>1</td>\n",
       "    </tr>\n",
       "    <tr>\n",
       "      <th>1</th>\n",
       "      <td>1</td>\n",
       "      <td>1</td>\n",
       "      <td>1</td>\n",
       "      <td>1</td>\n",
       "      <td>1</td>\n",
       "      <td>1</td>\n",
       "      <td>1</td>\n",
       "      <td>1</td>\n",
       "      <td>1</td>\n",
       "      <td>1</td>\n",
       "      <td>1</td>\n",
       "      <td>1</td>\n",
       "      <td>1</td>\n",
       "      <td>1</td>\n",
       "      <td>1</td>\n",
       "    </tr>\n",
       "    <tr>\n",
       "      <th>2</th>\n",
       "      <td>1</td>\n",
       "      <td>1</td>\n",
       "      <td>1</td>\n",
       "      <td>1</td>\n",
       "      <td>1</td>\n",
       "      <td>1</td>\n",
       "      <td>1</td>\n",
       "      <td>1</td>\n",
       "      <td>1</td>\n",
       "      <td>1</td>\n",
       "      <td>1</td>\n",
       "      <td>1</td>\n",
       "      <td>1</td>\n",
       "      <td>1</td>\n",
       "      <td>1</td>\n",
       "    </tr>\n",
       "    <tr>\n",
       "      <th>3</th>\n",
       "      <td>1</td>\n",
       "      <td>1</td>\n",
       "      <td>1</td>\n",
       "      <td>1</td>\n",
       "      <td>1</td>\n",
       "      <td>1</td>\n",
       "      <td>1</td>\n",
       "      <td>1</td>\n",
       "      <td>1</td>\n",
       "      <td>1</td>\n",
       "      <td>1</td>\n",
       "      <td>1</td>\n",
       "      <td>1</td>\n",
       "      <td>1</td>\n",
       "      <td>1</td>\n",
       "    </tr>\n",
       "    <tr>\n",
       "      <th>4</th>\n",
       "      <td>1</td>\n",
       "      <td>1</td>\n",
       "      <td>1</td>\n",
       "      <td>1</td>\n",
       "      <td>1</td>\n",
       "      <td>1</td>\n",
       "      <td>1</td>\n",
       "      <td>0</td>\n",
       "      <td>1</td>\n",
       "      <td>1</td>\n",
       "      <td>1</td>\n",
       "      <td>1</td>\n",
       "      <td>1</td>\n",
       "      <td>1</td>\n",
       "      <td>1</td>\n",
       "    </tr>\n",
       "  </tbody>\n",
       "</table>\n",
       "</div>"
      ],
      "text/plain": [
       "target_length_category  1   2   3   4   5   6   7   8   9   10  11  12  13  \\\n",
       "fold                                                                         \n",
       "0                        1   1   1   1   1   1   1   1   1   1   1   1   1   \n",
       "1                        1   1   1   1   1   1   1   1   1   1   1   1   1   \n",
       "2                        1   1   1   1   1   1   1   1   1   1   1   1   1   \n",
       "3                        1   1   1   1   1   1   1   1   1   1   1   1   1   \n",
       "4                        1   1   1   1   1   1   1   0   1   1   1   1   1   \n",
       "\n",
       "target_length_category  14  15  \n",
       "fold                            \n",
       "0                        1   1  \n",
       "1                        1   1  \n",
       "2                        1   1  \n",
       "3                        1   1  \n",
       "4                        1   1  "
      ]
     },
     "execution_count": 68,
     "metadata": {},
     "output_type": "execute_result"
    }
   ],
   "source": [
    "pd.crosstab(df['fold'], df['target_length_category'])"
   ]
  },
  {
   "cell_type": "code",
   "execution_count": 70,
   "id": "0a555cb0-5ad8-44ed-8721-d2bbc7aa0e6a",
   "metadata": {},
   "outputs": [
    {
     "data": {
      "text/plain": [
       "Index(['ID', 'author', 'title', 'daisy_folder', 'audio_path', 'target',\n",
       "       'target_length', 'target_length_category', 'fold'],\n",
       "      dtype='object')"
      ]
     },
     "execution_count": 70,
     "metadata": {},
     "output_type": "execute_result"
    }
   ],
   "source": [
    "df.columns"
   ]
  },
  {
   "cell_type": "code",
   "execution_count": 75,
   "id": "d43b75ca-5b6b-4976-ae9c-10d9ff635e7d",
   "metadata": {},
   "outputs": [
    {
     "data": {
      "text/plain": [
       "(74, 3)"
      ]
     },
     "execution_count": 75,
     "metadata": {},
     "output_type": "execute_result"
    }
   ],
   "source": [
    "df_info = df[['ID', 'title', 'fold']]\n",
    "df_info.shape"
   ]
  },
  {
   "cell_type": "code",
   "execution_count": null,
   "id": "a044e552-c9dc-4d5f-8a44-1af2a4366adc",
   "metadata": {},
   "outputs": [],
   "source": []
  },
  {
   "cell_type": "code",
   "execution_count": 71,
   "id": "d34c8850-8915-4ca9-bad4-aa4e5755e535",
   "metadata": {},
   "outputs": [
    {
     "name": "stdout",
     "output_type": "stream",
     "text": [
      "(22100, 7)\n"
     ]
    },
    {
     "data": {
      "text/html": [
       "<div>\n",
       "<style scoped>\n",
       "    .dataframe tbody tr th:only-of-type {\n",
       "        vertical-align: middle;\n",
       "    }\n",
       "\n",
       "    .dataframe tbody tr th {\n",
       "        vertical-align: top;\n",
       "    }\n",
       "\n",
       "    .dataframe thead th {\n",
       "        text-align: right;\n",
       "    }\n",
       "</style>\n",
       "<table border=\"1\" class=\"dataframe\">\n",
       "  <thead>\n",
       "    <tr style=\"text-align: right;\">\n",
       "      <th></th>\n",
       "      <th>DETAIL_ID</th>\n",
       "      <th>ID</th>\n",
       "      <th>slice_id</th>\n",
       "      <th>duration</th>\n",
       "      <th>start_time</th>\n",
       "      <th>end_time</th>\n",
       "      <th>target_slice</th>\n",
       "    </tr>\n",
       "  </thead>\n",
       "  <tbody>\n",
       "    <tr>\n",
       "      <th>0</th>\n",
       "      <td>1Gckfr5bxxhzvoo_1</td>\n",
       "      <td>1Gckfr5bxxhzvoo</td>\n",
       "      <td>1</td>\n",
       "      <td>3160.816</td>\n",
       "      <td>0.000</td>\n",
       "      <td>3160.816</td>\n",
       "      <td>これは、もう、疑いをいれない。</td>\n",
       "    </tr>\n",
       "    <tr>\n",
       "      <th>1</th>\n",
       "      <td>1Gckfr5bxxhzvoo_2</td>\n",
       "      <td>1Gckfr5bxxhzvoo</td>\n",
       "      <td>2</td>\n",
       "      <td>2847.347</td>\n",
       "      <td>3160.816</td>\n",
       "      <td>6008.163</td>\n",
       "      <td>よほどのものである。</td>\n",
       "    </tr>\n",
       "    <tr>\n",
       "      <th>2</th>\n",
       "      <td>1Gckfr5bxxhzvoo_3</td>\n",
       "      <td>1Gckfr5bxxhzvoo</td>\n",
       "      <td>3</td>\n",
       "      <td>2560.000</td>\n",
       "      <td>6008.163</td>\n",
       "      <td>8568.163</td>\n",
       "      <td>こと、怠惰に関してだけは、</td>\n",
       "    </tr>\n",
       "    <tr>\n",
       "      <th>3</th>\n",
       "      <td>1Gckfr5bxxhzvoo_4</td>\n",
       "      <td>1Gckfr5bxxhzvoo</td>\n",
       "      <td>4</td>\n",
       "      <td>3030.204</td>\n",
       "      <td>8568.163</td>\n",
       "      <td>11598.367</td>\n",
       "      <td>私は、ほんものである。</td>\n",
       "    </tr>\n",
       "    <tr>\n",
       "      <th>4</th>\n",
       "      <td>1Gckfr5bxxhzvoo_5</td>\n",
       "      <td>1Gckfr5bxxhzvoo</td>\n",
       "      <td>5</td>\n",
       "      <td>4048.980</td>\n",
       "      <td>11598.367</td>\n",
       "      <td>15647.347</td>\n",
       "      <td>まさか、それを自慢しているわけではない。</td>\n",
       "    </tr>\n",
       "  </tbody>\n",
       "</table>\n",
       "</div>"
      ],
      "text/plain": [
       "           DETAIL_ID               ID  slice_id  duration  start_time  \\\n",
       "0  1Gckfr5bxxhzvoo_1  1Gckfr5bxxhzvoo         1  3160.816       0.000   \n",
       "1  1Gckfr5bxxhzvoo_2  1Gckfr5bxxhzvoo         2  2847.347    3160.816   \n",
       "2  1Gckfr5bxxhzvoo_3  1Gckfr5bxxhzvoo         3  2560.000    6008.163   \n",
       "3  1Gckfr5bxxhzvoo_4  1Gckfr5bxxhzvoo         4  3030.204    8568.163   \n",
       "4  1Gckfr5bxxhzvoo_5  1Gckfr5bxxhzvoo         5  4048.980   11598.367   \n",
       "\n",
       "    end_time          target_slice  \n",
       "0   3160.816       これは、もう、疑いをいれない。  \n",
       "1   6008.163            よほどのものである。  \n",
       "2   8568.163         こと、怠惰に関してだけは、  \n",
       "3  11598.367           私は、ほんものである。  \n",
       "4  15647.347  まさか、それを自慢しているわけではない。  "
      ]
     },
     "execution_count": 71,
     "metadata": {},
     "output_type": "execute_result"
    }
   ],
   "source": [
    "df_detail = pd.read_csv('tmp/data_Dazai/train_details_Dazai_ORIGINAL.csv')\n",
    "print(df_detail.shape)\n",
    "df_detail.head()"
   ]
  },
  {
   "cell_type": "code",
   "execution_count": 92,
   "id": "01735119-1082-4c76-94c0-f553736a82ff",
   "metadata": {},
   "outputs": [
    {
     "data": {
      "text/plain": [
       "(22100, 9)"
      ]
     },
     "execution_count": 92,
     "metadata": {},
     "output_type": "execute_result"
    }
   ],
   "source": [
    "df_all = pd.merge(df_detail, df_info, on='ID', how='left')\n",
    "df_all.shape"
   ]
  },
  {
   "cell_type": "code",
   "execution_count": 93,
   "id": "1dbfc666-9c46-41bd-802a-fbf6b1802741",
   "metadata": {},
   "outputs": [
    {
     "data": {
      "text/html": [
       "<div>\n",
       "<style scoped>\n",
       "    .dataframe tbody tr th:only-of-type {\n",
       "        vertical-align: middle;\n",
       "    }\n",
       "\n",
       "    .dataframe tbody tr th {\n",
       "        vertical-align: top;\n",
       "    }\n",
       "\n",
       "    .dataframe thead th {\n",
       "        text-align: right;\n",
       "    }\n",
       "</style>\n",
       "<table border=\"1\" class=\"dataframe\">\n",
       "  <thead>\n",
       "    <tr style=\"text-align: right;\">\n",
       "      <th></th>\n",
       "      <th>DETAIL_ID</th>\n",
       "      <th>ID</th>\n",
       "      <th>slice_id</th>\n",
       "      <th>duration</th>\n",
       "      <th>start_time</th>\n",
       "      <th>end_time</th>\n",
       "      <th>target_slice</th>\n",
       "      <th>title</th>\n",
       "      <th>fold</th>\n",
       "    </tr>\n",
       "  </thead>\n",
       "  <tbody>\n",
       "    <tr>\n",
       "      <th>0</th>\n",
       "      <td>1Gckfr5bxxhzvoo_1</td>\n",
       "      <td>1Gckfr5bxxhzvoo</td>\n",
       "      <td>1</td>\n",
       "      <td>3160.816</td>\n",
       "      <td>0.000</td>\n",
       "      <td>3160.816</td>\n",
       "      <td>これは、もう、疑いをいれない。</td>\n",
       "      <td>96bUO3HpHJ</td>\n",
       "      <td>3</td>\n",
       "    </tr>\n",
       "    <tr>\n",
       "      <th>1</th>\n",
       "      <td>1Gckfr5bxxhzvoo_2</td>\n",
       "      <td>1Gckfr5bxxhzvoo</td>\n",
       "      <td>2</td>\n",
       "      <td>2847.347</td>\n",
       "      <td>3160.816</td>\n",
       "      <td>6008.163</td>\n",
       "      <td>よほどのものである。</td>\n",
       "      <td>96bUO3HpHJ</td>\n",
       "      <td>3</td>\n",
       "    </tr>\n",
       "    <tr>\n",
       "      <th>2</th>\n",
       "      <td>1Gckfr5bxxhzvoo_3</td>\n",
       "      <td>1Gckfr5bxxhzvoo</td>\n",
       "      <td>3</td>\n",
       "      <td>2560.000</td>\n",
       "      <td>6008.163</td>\n",
       "      <td>8568.163</td>\n",
       "      <td>こと、怠惰に関してだけは、</td>\n",
       "      <td>96bUO3HpHJ</td>\n",
       "      <td>3</td>\n",
       "    </tr>\n",
       "    <tr>\n",
       "      <th>3</th>\n",
       "      <td>1Gckfr5bxxhzvoo_4</td>\n",
       "      <td>1Gckfr5bxxhzvoo</td>\n",
       "      <td>4</td>\n",
       "      <td>3030.204</td>\n",
       "      <td>8568.163</td>\n",
       "      <td>11598.367</td>\n",
       "      <td>私は、ほんものである。</td>\n",
       "      <td>96bUO3HpHJ</td>\n",
       "      <td>3</td>\n",
       "    </tr>\n",
       "    <tr>\n",
       "      <th>4</th>\n",
       "      <td>1Gckfr5bxxhzvoo_5</td>\n",
       "      <td>1Gckfr5bxxhzvoo</td>\n",
       "      <td>5</td>\n",
       "      <td>4048.980</td>\n",
       "      <td>11598.367</td>\n",
       "      <td>15647.347</td>\n",
       "      <td>まさか、それを自慢しているわけではない。</td>\n",
       "      <td>96bUO3HpHJ</td>\n",
       "      <td>3</td>\n",
       "    </tr>\n",
       "  </tbody>\n",
       "</table>\n",
       "</div>"
      ],
      "text/plain": [
       "           DETAIL_ID               ID  slice_id  duration  start_time  \\\n",
       "0  1Gckfr5bxxhzvoo_1  1Gckfr5bxxhzvoo         1  3160.816       0.000   \n",
       "1  1Gckfr5bxxhzvoo_2  1Gckfr5bxxhzvoo         2  2847.347    3160.816   \n",
       "2  1Gckfr5bxxhzvoo_3  1Gckfr5bxxhzvoo         3  2560.000    6008.163   \n",
       "3  1Gckfr5bxxhzvoo_4  1Gckfr5bxxhzvoo         4  3030.204    8568.163   \n",
       "4  1Gckfr5bxxhzvoo_5  1Gckfr5bxxhzvoo         5  4048.980   11598.367   \n",
       "\n",
       "    end_time          target_slice       title  fold  \n",
       "0   3160.816       これは、もう、疑いをいれない。  96bUO3HpHJ     3  \n",
       "1   6008.163            よほどのものである。  96bUO3HpHJ     3  \n",
       "2   8568.163         こと、怠惰に関してだけは、  96bUO3HpHJ     3  \n",
       "3  11598.367           私は、ほんものである。  96bUO3HpHJ     3  \n",
       "4  15647.347  まさか、それを自慢しているわけではない。  96bUO3HpHJ     3  "
      ]
     },
     "execution_count": 93,
     "metadata": {},
     "output_type": "execute_result"
    }
   ],
   "source": [
    "df_all.head()"
   ]
  },
  {
   "cell_type": "code",
   "execution_count": 94,
   "id": "b2cf7422-e1f5-4c3d-9550-d7e5e5965192",
   "metadata": {},
   "outputs": [
    {
     "data": {
      "text/plain": [
       "3    5013\n",
       "2    4716\n",
       "0    4533\n",
       "4    3930\n",
       "1    3908\n",
       "Name: fold, dtype: int64"
      ]
     },
     "execution_count": 94,
     "metadata": {},
     "output_type": "execute_result"
    }
   ],
   "source": [
    "df_all['fold'].value_counts()"
   ]
  },
  {
   "cell_type": "code",
   "execution_count": 95,
   "id": "dafb1b51-30fc-40c0-b645-fbfcc78020ec",
   "metadata": {
    "scrolled": true
   },
   "outputs": [],
   "source": [
    "df_all['audio'] = [i+'.mp3' for i in df_all['DETAIL_ID']]"
   ]
  },
  {
   "cell_type": "code",
   "execution_count": 96,
   "id": "b76f998b-303b-4a96-9253-b88b503d4358",
   "metadata": {},
   "outputs": [
    {
     "data": {
      "text/plain": [
       "Index(['DETAIL_ID', 'ID', 'slice_id', 'duration', 'start_time', 'end_time',\n",
       "       'target_slice', 'title', 'fold', 'audio'],\n",
       "      dtype='object')"
      ]
     },
     "execution_count": 96,
     "metadata": {},
     "output_type": "execute_result"
    }
   ],
   "source": [
    "df_all.columns"
   ]
  },
  {
   "cell_type": "code",
   "execution_count": 97,
   "id": "77ccbbf4-26be-48df-88d4-1b94c1d9a1d0",
   "metadata": {},
   "outputs": [],
   "source": [
    "df_all = df_all[['audio', 'ID', 'duration', 'target_slice', 'fold']]"
   ]
  },
  {
   "cell_type": "code",
   "execution_count": 98,
   "id": "e1018dad-18b1-4ca1-9d29-07203bf9da1c",
   "metadata": {},
   "outputs": [
    {
     "data": {
      "text/plain": [
       "(22100, 5)"
      ]
     },
     "execution_count": 98,
     "metadata": {},
     "output_type": "execute_result"
    }
   ],
   "source": [
    "df_all = df_all.rename(columns={'target_slice':'target'})\n",
    "df_all.shape"
   ]
  },
  {
   "cell_type": "code",
   "execution_count": 100,
   "id": "d8a1dbd5-05ff-4ff4-a2a3-104b48a2b6c5",
   "metadata": {},
   "outputs": [
    {
     "data": {
      "text/html": [
       "<div>\n",
       "<style scoped>\n",
       "    .dataframe tbody tr th:only-of-type {\n",
       "        vertical-align: middle;\n",
       "    }\n",
       "\n",
       "    .dataframe tbody tr th {\n",
       "        vertical-align: top;\n",
       "    }\n",
       "\n",
       "    .dataframe thead th {\n",
       "        text-align: right;\n",
       "    }\n",
       "</style>\n",
       "<table border=\"1\" class=\"dataframe\">\n",
       "  <thead>\n",
       "    <tr style=\"text-align: right;\">\n",
       "      <th></th>\n",
       "      <th>audio</th>\n",
       "      <th>ID</th>\n",
       "      <th>duration</th>\n",
       "      <th>target</th>\n",
       "      <th>fold</th>\n",
       "    </tr>\n",
       "  </thead>\n",
       "  <tbody>\n",
       "    <tr>\n",
       "      <th>0</th>\n",
       "      <td>1Gckfr5bxxhzvoo_1.mp3</td>\n",
       "      <td>1Gckfr5bxxhzvoo</td>\n",
       "      <td>3160.816</td>\n",
       "      <td>これは、もう、疑いをいれない。</td>\n",
       "      <td>3</td>\n",
       "    </tr>\n",
       "    <tr>\n",
       "      <th>1</th>\n",
       "      <td>1Gckfr5bxxhzvoo_2.mp3</td>\n",
       "      <td>1Gckfr5bxxhzvoo</td>\n",
       "      <td>2847.347</td>\n",
       "      <td>よほどのものである。</td>\n",
       "      <td>3</td>\n",
       "    </tr>\n",
       "    <tr>\n",
       "      <th>2</th>\n",
       "      <td>1Gckfr5bxxhzvoo_3.mp3</td>\n",
       "      <td>1Gckfr5bxxhzvoo</td>\n",
       "      <td>2560.000</td>\n",
       "      <td>こと、怠惰に関してだけは、</td>\n",
       "      <td>3</td>\n",
       "    </tr>\n",
       "    <tr>\n",
       "      <th>3</th>\n",
       "      <td>1Gckfr5bxxhzvoo_4.mp3</td>\n",
       "      <td>1Gckfr5bxxhzvoo</td>\n",
       "      <td>3030.204</td>\n",
       "      <td>私は、ほんものである。</td>\n",
       "      <td>3</td>\n",
       "    </tr>\n",
       "    <tr>\n",
       "      <th>4</th>\n",
       "      <td>1Gckfr5bxxhzvoo_5.mp3</td>\n",
       "      <td>1Gckfr5bxxhzvoo</td>\n",
       "      <td>4048.980</td>\n",
       "      <td>まさか、それを自慢しているわけではない。</td>\n",
       "      <td>3</td>\n",
       "    </tr>\n",
       "  </tbody>\n",
       "</table>\n",
       "</div>"
      ],
      "text/plain": [
       "                   audio               ID  duration                target  \\\n",
       "0  1Gckfr5bxxhzvoo_1.mp3  1Gckfr5bxxhzvoo  3160.816       これは、もう、疑いをいれない。   \n",
       "1  1Gckfr5bxxhzvoo_2.mp3  1Gckfr5bxxhzvoo  2847.347            よほどのものである。   \n",
       "2  1Gckfr5bxxhzvoo_3.mp3  1Gckfr5bxxhzvoo  2560.000         こと、怠惰に関してだけは、   \n",
       "3  1Gckfr5bxxhzvoo_4.mp3  1Gckfr5bxxhzvoo  3030.204           私は、ほんものである。   \n",
       "4  1Gckfr5bxxhzvoo_5.mp3  1Gckfr5bxxhzvoo  4048.980  まさか、それを自慢しているわけではない。   \n",
       "\n",
       "   fold  \n",
       "0     3  \n",
       "1     3  \n",
       "2     3  \n",
       "3     3  \n",
       "4     3  "
      ]
     },
     "execution_count": 100,
     "metadata": {},
     "output_type": "execute_result"
    }
   ],
   "source": [
    "df_all.head()"
   ]
  },
  {
   "cell_type": "code",
   "execution_count": 101,
   "id": "9e3bbab0-028e-4d24-bdb8-c8545658b612",
   "metadata": {},
   "outputs": [
    {
     "data": {
      "text/plain": [
       "((18170, 5), (3930, 5))"
      ]
     },
     "execution_count": 101,
     "metadata": {},
     "output_type": "execute_result"
    }
   ],
   "source": [
    "df_test = df_all[df_all['fold']==4]\n",
    "df_train = df_all[df_all['fold']!=4]\n",
    "df_train.shape, df_test.shape"
   ]
  },
  {
   "cell_type": "code",
   "execution_count": 102,
   "id": "8c2bd866-3f07-404a-b7cc-731a940251b7",
   "metadata": {},
   "outputs": [
    {
     "data": {
      "text/plain": [
       "22100"
      ]
     },
     "execution_count": 102,
     "metadata": {},
     "output_type": "execute_result"
    }
   ],
   "source": [
    "df_train.shape[0] + df_test.shape[0]"
   ]
  },
  {
   "cell_type": "code",
   "execution_count": 103,
   "id": "a4bcc675-9a9a-4f66-ae5c-0da3e9011386",
   "metadata": {},
   "outputs": [],
   "source": [
    "df_train.to_csv('audio_Dazai/train.csv', index=False)\n",
    "df_test.to_csv('audio_Dazai/test.csv', index=False)"
   ]
  },
  {
   "cell_type": "code",
   "execution_count": null,
   "id": "15d8222e-f3c4-4319-8332-75d48ac29494",
   "metadata": {},
   "outputs": [],
   "source": []
  }
 ],
 "metadata": {
  "kernelspec": {
   "display_name": "Python 3 (ipykernel)",
   "language": "python",
   "name": "python3"
  },
  "language_info": {
   "codemirror_mode": {
    "name": "ipython",
    "version": 3
   },
   "file_extension": ".py",
   "mimetype": "text/x-python",
   "name": "python",
   "nbconvert_exporter": "python",
   "pygments_lexer": "ipython3",
   "version": "3.10.14"
  }
 },
 "nbformat": 4,
 "nbformat_minor": 5
}
