{
 "cells": [
  {
   "cell_type": "code",
   "execution_count": null,
   "id": "c80457f5-5618-4ae6-8334-c72529b3aaae",
   "metadata": {},
   "outputs": [],
   "source": []
  },
  {
   "cell_type": "code",
   "execution_count": 1,
   "id": "a2a1c43f-b762-4e1e-87a8-e9d29b309987",
   "metadata": {},
   "outputs": [],
   "source": [
    "import pandas as pd\n",
    "import matplotlib.pyplot as plt"
   ]
  },
  {
   "cell_type": "code",
   "execution_count": 3,
   "id": "17ffd025-dfbf-4781-a675-f125b6e440c6",
   "metadata": {},
   "outputs": [
    {
     "name": "stdout",
     "output_type": "stream",
     "text": [
      "\u001b[34mCKVW6cIgxI_Dazai\u001b[m\u001b[m                 audio_slice.ipynb\n",
      "CKVW6cIgxI_Dazai.zip             audio_slice_on_colabo.ipynb\n",
      "\u001b[34mCKVW6cIgxI_Dazai_slice\u001b[m\u001b[m           train_Dazai_ORIGINAL.csv\n",
      "CKVW6cIgxI_Dazai_slice.zip       train_details_Dazai_ORIGINAL.csv\n"
     ]
    }
   ],
   "source": [
    "!ls tmp/data_Dazai"
   ]
  },
  {
   "cell_type": "code",
   "execution_count": null,
   "id": "e0ee9b22-6b26-45a8-8bcf-ee6c9da63646",
   "metadata": {},
   "outputs": [],
   "source": []
  },
  {
   "cell_type": "markdown",
   "id": "f33b59f7-a890-457b-9db7-72f41c48f687",
   "metadata": {},
   "source": [
    "## 元データ"
   ]
  },
  {
   "cell_type": "code",
   "execution_count": 6,
   "id": "54d06a62-7bf4-4c09-8e90-9a137af7c8ee",
   "metadata": {},
   "outputs": [
    {
     "name": "stdout",
     "output_type": "stream",
     "text": [
      "(74, 6)\n"
     ]
    },
    {
     "data": {
      "text/html": [
       "<div>\n",
       "<style scoped>\n",
       "    .dataframe tbody tr th:only-of-type {\n",
       "        vertical-align: middle;\n",
       "    }\n",
       "\n",
       "    .dataframe tbody tr th {\n",
       "        vertical-align: top;\n",
       "    }\n",
       "\n",
       "    .dataframe thead th {\n",
       "        text-align: right;\n",
       "    }\n",
       "</style>\n",
       "<table border=\"1\" class=\"dataframe\">\n",
       "  <thead>\n",
       "    <tr style=\"text-align: right;\">\n",
       "      <th></th>\n",
       "      <th>ID</th>\n",
       "      <th>author</th>\n",
       "      <th>title</th>\n",
       "      <th>daisy_folder</th>\n",
       "      <th>audio_path</th>\n",
       "      <th>target</th>\n",
       "    </tr>\n",
       "  </thead>\n",
       "  <tbody>\n",
       "    <tr>\n",
       "      <th>0</th>\n",
       "      <td>1Gckfr5bxxhzvoo</td>\n",
       "      <td>CKVW6cIgxI</td>\n",
       "      <td>96bUO3HpHJ</td>\n",
       "      <td>OyDBhKtUqP</td>\n",
       "      <td>train/CKVW6cIgxI/96bUO3HpHJ/OyDBhKtUqP/JbJJRPU...</td>\n",
       "      <td>これは、もう、疑いをいれない。よほどのものである。こと、怠惰に関してだけは、私は、ほんもので...</td>\n",
       "    </tr>\n",
       "    <tr>\n",
       "      <th>1</th>\n",
       "      <td>1ti0Fttao7kYi0r</td>\n",
       "      <td>CKVW6cIgxI</td>\n",
       "      <td>diO56wJe9v</td>\n",
       "      <td>Ttv6lyaoDd</td>\n",
       "      <td>train/CKVW6cIgxI/diO56wJe9v/Ttv6lyaoDd/Af6sX3m...</td>\n",
       "      <td>小説修業に就いて語れ。という出題は、私を困惑させた。就職試験を受けにいって、小学校の算術の問...</td>\n",
       "    </tr>\n",
       "  </tbody>\n",
       "</table>\n",
       "</div>"
      ],
      "text/plain": [
       "                ID      author       title daisy_folder  \\\n",
       "0  1Gckfr5bxxhzvoo  CKVW6cIgxI  96bUO3HpHJ   OyDBhKtUqP   \n",
       "1  1ti0Fttao7kYi0r  CKVW6cIgxI  diO56wJe9v   Ttv6lyaoDd   \n",
       "\n",
       "                                          audio_path  \\\n",
       "0  train/CKVW6cIgxI/96bUO3HpHJ/OyDBhKtUqP/JbJJRPU...   \n",
       "1  train/CKVW6cIgxI/diO56wJe9v/Ttv6lyaoDd/Af6sX3m...   \n",
       "\n",
       "                                              target  \n",
       "0  これは、もう、疑いをいれない。よほどのものである。こと、怠惰に関してだけは、私は、ほんもので...  \n",
       "1  小説修業に就いて語れ。という出題は、私を困惑させた。就職試験を受けにいって、小学校の算術の問...  "
      ]
     },
     "execution_count": 6,
     "metadata": {},
     "output_type": "execute_result"
    }
   ],
   "source": [
    "df = pd.read_csv('tmp/data_Dazai/train_Dazai_ORIGINAL.csv')\n",
    "print(df.shape)\n",
    "df.head(2)"
   ]
  },
  {
   "cell_type": "code",
   "execution_count": 13,
   "id": "6b544313-add8-4be7-87f5-513a5706a22e",
   "metadata": {},
   "outputs": [
    {
     "name": "stdout",
     "output_type": "stream",
     "text": [
      "      75\n"
     ]
    }
   ],
   "source": [
    "# 音声データ\n",
    "!ls -l tmp/data_Dazai/CKVW6cIgxI_Dazai | wc -l"
   ]
  },
  {
   "cell_type": "code",
   "execution_count": 19,
   "id": "87cb36e5-57ec-49a7-ae7d-28b0045d8416",
   "metadata": {},
   "outputs": [
    {
     "data": {
      "text/plain": [
       "(74, 1, 74)"
      ]
     },
     "execution_count": 19,
     "metadata": {},
     "output_type": "execute_result"
    }
   ],
   "source": [
    "df['ID'].nunique(), df['author'].nunique(), df['title'].nunique(), "
   ]
  },
  {
   "cell_type": "code",
   "execution_count": 26,
   "id": "1216ae8f-5705-465a-8030-b16034be6609",
   "metadata": {},
   "outputs": [],
   "source": [
    "# 文字数\n",
    "df['target_length'] = [len(s) for s in df['target']]"
   ]
  },
  {
   "cell_type": "code",
   "execution_count": 27,
   "id": "f9a92492-0e80-4aac-bcd1-b398521396a8",
   "metadata": {},
   "outputs": [
    {
     "data": {
      "text/plain": [
       "count       74.000000\n",
       "mean      4966.189189\n",
       "std       5190.235824\n",
       "min         50.000000\n",
       "25%       1037.750000\n",
       "50%       2740.500000\n",
       "75%       7443.000000\n",
       "max      20017.000000\n",
       "Name: target_length, dtype: float64"
      ]
     },
     "execution_count": 27,
     "metadata": {},
     "output_type": "execute_result"
    }
   ],
   "source": [
    "df['target_length'].describe()"
   ]
  },
  {
   "cell_type": "code",
   "execution_count": 32,
   "id": "cb120730-9e45-4824-84b3-e175b6b42285",
   "metadata": {},
   "outputs": [
    {
     "data": {
      "image/png": "[encoded data removed]",
      "text/plain": [
       "<Figure size 640x480 with 1 Axes>"
      ]
     },
     "metadata": {},
     "output_type": "display_data"
    }
   ],
   "source": [
    "df['target_length'].hist(bins=30)\n",
    "plt.title('Character length of 74 stories')\n",
    "plt.show()"
   ]
  },
  {
   "cell_type": "code",
   "execution_count": null,
   "id": "f8aeb8af-4f41-4960-aea7-3a7f2283be28",
   "metadata": {},
   "outputs": [],
   "source": []
  },
  {
   "cell_type": "markdown",
   "id": "9d7cbed4-b82e-4f20-8ceb-4db45714de3d",
   "metadata": {},
   "source": [
    "## 分割データ"
   ]
  },
  {
   "cell_type": "code",
   "execution_count": 50,
   "id": "b580e881-9e21-4e4f-8f43-da18f261fd0a",
   "metadata": {},
   "outputs": [
    {
     "name": "stdout",
     "output_type": "stream",
     "text": [
      "(22100, 7)\n"
     ]
    },
    {
     "data": {
      "text/html": [
       "<div>\n",
       "<style scoped>\n",
       "    .dataframe tbody tr th:only-of-type {\n",
       "        vertical-align: middle;\n",
       "    }\n",
       "\n",
       "    .dataframe tbody tr th {\n",
       "        vertical-align: top;\n",
       "    }\n",
       "\n",
       "    .dataframe thead th {\n",
       "        text-align: right;\n",
       "    }\n",
       "</style>\n",
       "<table border=\"1\" class=\"dataframe\">\n",
       "  <thead>\n",
       "    <tr style=\"text-align: right;\">\n",
       "      <th></th>\n",
       "      <th>DETAIL_ID</th>\n",
       "      <th>ID</th>\n",
       "      <th>slice_id</th>\n",
       "      <th>duration</th>\n",
       "      <th>start_time</th>\n",
       "      <th>end_time</th>\n",
       "      <th>target_slice</th>\n",
       "    </tr>\n",
       "  </thead>\n",
       "  <tbody>\n",
       "    <tr>\n",
       "      <th>0</th>\n",
       "      <td>1Gckfr5bxxhzvoo_1</td>\n",
       "      <td>1Gckfr5bxxhzvoo</td>\n",
       "      <td>1</td>\n",
       "      <td>3160.816</td>\n",
       "      <td>0.000</td>\n",
       "      <td>3160.816</td>\n",
       "      <td>これは、もう、疑いをいれない。</td>\n",
       "    </tr>\n",
       "    <tr>\n",
       "      <th>1</th>\n",
       "      <td>1Gckfr5bxxhzvoo_2</td>\n",
       "      <td>1Gckfr5bxxhzvoo</td>\n",
       "      <td>2</td>\n",
       "      <td>2847.347</td>\n",
       "      <td>3160.816</td>\n",
       "      <td>6008.163</td>\n",
       "      <td>よほどのものである。</td>\n",
       "    </tr>\n",
       "    <tr>\n",
       "      <th>2</th>\n",
       "      <td>1Gckfr5bxxhzvoo_3</td>\n",
       "      <td>1Gckfr5bxxhzvoo</td>\n",
       "      <td>3</td>\n",
       "      <td>2560.000</td>\n",
       "      <td>6008.163</td>\n",
       "      <td>8568.163</td>\n",
       "      <td>こと、怠惰に関してだけは、</td>\n",
       "    </tr>\n",
       "    <tr>\n",
       "      <th>3</th>\n",
       "      <td>1Gckfr5bxxhzvoo_4</td>\n",
       "      <td>1Gckfr5bxxhzvoo</td>\n",
       "      <td>4</td>\n",
       "      <td>3030.204</td>\n",
       "      <td>8568.163</td>\n",
       "      <td>11598.367</td>\n",
       "      <td>私は、ほんものである。</td>\n",
       "    </tr>\n",
       "    <tr>\n",
       "      <th>4</th>\n",
       "      <td>1Gckfr5bxxhzvoo_5</td>\n",
       "      <td>1Gckfr5bxxhzvoo</td>\n",
       "      <td>5</td>\n",
       "      <td>4048.980</td>\n",
       "      <td>11598.367</td>\n",
       "      <td>15647.347</td>\n",
       "      <td>まさか、それを自慢しているわけではない。</td>\n",
       "    </tr>\n",
       "  </tbody>\n",
       "</table>\n",
       "</div>"
      ],
      "text/plain": [
       "           DETAIL_ID               ID  slice_id  duration  start_time  \\\n",
       "0  1Gckfr5bxxhzvoo_1  1Gckfr5bxxhzvoo         1  3160.816       0.000   \n",
       "1  1Gckfr5bxxhzvoo_2  1Gckfr5bxxhzvoo         2  2847.347    3160.816   \n",
       "2  1Gckfr5bxxhzvoo_3  1Gckfr5bxxhzvoo         3  2560.000    6008.163   \n",
       "3  1Gckfr5bxxhzvoo_4  1Gckfr5bxxhzvoo         4  3030.204    8568.163   \n",
       "4  1Gckfr5bxxhzvoo_5  1Gckfr5bxxhzvoo         5  4048.980   11598.367   \n",
       "\n",
       "    end_time          target_slice  \n",
       "0   3160.816       これは、もう、疑いをいれない。  \n",
       "1   6008.163            よほどのものである。  \n",
       "2   8568.163         こと、怠惰に関してだけは、  \n",
       "3  11598.367           私は、ほんものである。  \n",
       "4  15647.347  まさか、それを自慢しているわけではない。  "
      ]
     },
     "execution_count": 50,
     "metadata": {},
     "output_type": "execute_result"
    }
   ],
   "source": [
    "df_detail = pd.read_csv('tmp/data_Dazai/train_details_Dazai_ORIGINAL.csv')\n",
    "print(df_detail.shape)\n",
    "df_detail.head()"
   ]
  },
  {
   "cell_type": "code",
   "execution_count": 51,
   "id": "d450519d-1cf5-447c-a26f-ef2b2e2c626e",
   "metadata": {},
   "outputs": [
    {
     "name": "stdout",
     "output_type": "stream",
     "text": [
      "   22101\n"
     ]
    }
   ],
   "source": [
    "# 音声データ\n",
    "!ls -l tmp/data_Dazai/CKVW6cIgxI_Dazai_slice | wc -l"
   ]
  },
  {
   "cell_type": "code",
   "execution_count": 55,
   "id": "75e665aa-7cee-48e7-9e11-4aa5a1a7e633",
   "metadata": {},
   "outputs": [
    {
     "data": {
      "text/plain": [
       "74"
      ]
     },
     "execution_count": 55,
     "metadata": {},
     "output_type": "execute_result"
    }
   ],
   "source": [
    "df_detail['ID'].nunique()"
   ]
  },
  {
   "cell_type": "code",
   "execution_count": 52,
   "id": "4f825b8b-cd94-49a2-a979-d46f27b44723",
   "metadata": {},
   "outputs": [
    {
     "data": {
      "text/plain": [
       "count    22100.000000\n",
       "mean         3.521687\n",
       "std          1.855969\n",
       "min          0.417959\n",
       "25%          2.298776\n",
       "50%          3.186939\n",
       "75%          4.336327\n",
       "max         30.484898\n",
       "Name: duration, dtype: float64"
      ]
     },
     "execution_count": 52,
     "metadata": {},
     "output_type": "execute_result"
    }
   ],
   "source": [
    "# 分割音声データの分布\n",
    "# 元データ単位はmsec\n",
    "(df_detail['duration']/1000).describe()"
   ]
  },
  {
   "cell_type": "code",
   "execution_count": 53,
   "id": "0c75328a-e86a-496c-a442-d080db0daa85",
   "metadata": {},
   "outputs": [
    {
     "data": {
      "image/png": "[encoded data removed]",
      "text/plain": [
       "<Figure size 640x480 with 1 Axes>"
      ]
     },
     "metadata": {},
     "output_type": "display_data"
    }
   ],
   "source": [
    "(df_detail['duration']/1000).hist(bins=50)\n",
    "plt.title('Duration of 22,100 audios')\n",
    "plt.xlabel('sec')\n",
    "plt.show()"
   ]
  },
  {
   "cell_type": "code",
   "execution_count": 77,
   "id": "540909ff-7ef2-4d60-a7b2-325a105375c6",
   "metadata": {
    "scrolled": true
   },
   "outputs": [
    {
     "data": {
      "text/plain": [
       "74"
      ]
     },
     "execution_count": 77,
     "metadata": {},
     "output_type": "execute_result"
    }
   ],
   "source": [
    "original_duration = []\n",
    "for i in df_detail['ID'].unique():\n",
    "    tmp = df_detail[df_detail['ID']==i]\n",
    "    tmp_last = tmp[tmp['slice_id']==tmp['slice_id'].max()]\n",
    "    original_duration.append(tmp_last['end_time'].values[0])\n",
    "len(original_duration)"
   ]
  },
  {
   "cell_type": "code",
   "execution_count": 86,
   "id": "11762a31-1b67-4b66-8b67-3dbb46a81320",
   "metadata": {},
   "outputs": [
    {
     "data": {
      "text/plain": [
       "count    74.000000\n",
       "mean     17.529116\n",
       "std      18.670327\n",
       "min       0.251646\n",
       "25%       3.491048\n",
       "50%       9.786122\n",
       "75%      27.118912\n",
       "max      74.608326\n",
       "dtype: float64"
      ]
     },
     "execution_count": 86,
     "metadata": {},
     "output_type": "execute_result"
    }
   ],
   "source": [
    "# 74作品の音声データの長さ\n",
    "# 分単位\n",
    "(pd.Series(original_duration)/(1000*60)).describe()"
   ]
  },
  {
   "cell_type": "code",
   "execution_count": 91,
   "id": "d221dbb2-1497-4321-acae-18c298dd8477",
   "metadata": {},
   "outputs": [
    {
     "data": {
      "text/plain": [
       "0.80    30.720348\n",
       "0.90    43.748876\n",
       "0.95    57.000664\n",
       "dtype: float64"
      ]
     },
     "execution_count": 91,
     "metadata": {},
     "output_type": "execute_result"
    }
   ],
   "source": [
    "(pd.Series(original_duration)/(1000*60)).quantile([0.8, 0.9, 0.95])"
   ]
  },
  {
   "cell_type": "code",
   "execution_count": 95,
   "id": "3e781311-a6c9-4e62-8a02-712b99ab857c",
   "metadata": {},
   "outputs": [
    {
     "data": {
      "text/plain": [
       "4"
      ]
     },
     "execution_count": 95,
     "metadata": {},
     "output_type": "execute_result"
    }
   ],
   "source": [
    "sum( (pd.Series(original_duration)/(1000*60))>=57 )"
   ]
  },
  {
   "cell_type": "code",
   "execution_count": 87,
   "id": "1ce82c5d-6822-4287-88ad-d7f4a8730c6c",
   "metadata": {},
   "outputs": [
    {
     "data": {
      "image/png": "[encoded data removed]",
      "text/plain": [
       "<Figure size 640x480 with 1 Axes>"
      ]
     },
     "metadata": {},
     "output_type": "display_data"
    }
   ],
   "source": [
    "(pd.Series(original_duration)/(1000*60)).hist(bins=30)\n",
    "plt.title('Audio duration of 74 stories')\n",
    "plt.xlabel('min')\n",
    "plt.show()"
   ]
  },
  {
   "cell_type": "code",
   "execution_count": null,
   "id": "9f65fb2b-9e57-4e2d-91f1-ef29f72d8fb8",
   "metadata": {},
   "outputs": [],
   "source": []
  }
 ],
 "metadata": {
  "kernelspec": {
   "display_name": "Python 3 (ipykernel)",
   "language": "python",
   "name": "python3"
  },
  "language_info": {
   "codemirror_mode": {
    "name": "ipython",
    "version": 3
   },
   "file_extension": ".py",
   "mimetype": "text/x-python",
   "name": "python",
   "nbconvert_exporter": "python",
   "pygments_lexer": "ipython3",
   "version": "3.10.14"
  }
 },
 "nbformat": 4,
 "nbformat_minor": 5
}
