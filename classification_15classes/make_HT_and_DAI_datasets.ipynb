{
 "cells": [
  {
   "cell_type": "code",
   "execution_count": null,
   "id": "a7a408aa",
   "metadata": {},
   "outputs": [],
   "source": []
  },
  {
   "cell_type": "code",
   "execution_count": 30,
   "id": "34ed448c",
   "metadata": {},
   "outputs": [],
   "source": [
    "import os\n",
    "import shutil\n",
    "\n",
    "import pandas as pd\n",
    "from sklearn.model_selection import train_test_split"
   ]
  },
  {
   "cell_type": "code",
   "execution_count": 4,
   "id": "f3b2a049",
   "metadata": {},
   "outputs": [
    {
     "name": "stdout",
     "output_type": "stream",
     "text": [
      "\u001b[34madditional\u001b[m\u001b[m            additional_image.zip\r\n",
      "additional_data.csv   data_explanation.xlsx\r\n"
     ]
    }
   ],
   "source": [
    "!ls tmp"
   ]
  },
  {
   "cell_type": "code",
   "execution_count": 11,
   "id": "09e33df9",
   "metadata": {},
   "outputs": [
    {
     "data": {
      "text/html": [
       "<div>\n",
       "<style scoped>\n",
       "    .dataframe tbody tr th:only-of-type {\n",
       "        vertical-align: middle;\n",
       "    }\n",
       "\n",
       "    .dataframe tbody tr th {\n",
       "        vertical-align: top;\n",
       "    }\n",
       "\n",
       "    .dataframe thead th {\n",
       "        text-align: right;\n",
       "    }\n",
       "</style>\n",
       "<table border=\"1\" class=\"dataframe\">\n",
       "  <thead>\n",
       "    <tr style=\"text-align: right;\">\n",
       "      <th></th>\n",
       "      <th>filename</th>\n",
       "      <th>filename_trim</th>\n",
       "      <th>class</th>\n",
       "    </tr>\n",
       "  </thead>\n",
       "  <tbody>\n",
       "    <tr>\n",
       "      <th>0</th>\n",
       "      <td>172e1676.jpg</td>\n",
       "      <td>172e1676_trim.jpg</td>\n",
       "      <td>USB_Micro_B_W</td>\n",
       "    </tr>\n",
       "    <tr>\n",
       "      <th>1</th>\n",
       "      <td>2ed927e9.jpg</td>\n",
       "      <td>2ed927e9_trim.jpg</td>\n",
       "      <td>USB_Mini</td>\n",
       "    </tr>\n",
       "    <tr>\n",
       "      <th>2</th>\n",
       "      <td>d62e1c29.jpg</td>\n",
       "      <td>d62e1c29_trim.jpg</td>\n",
       "      <td>HDMI</td>\n",
       "    </tr>\n",
       "    <tr>\n",
       "      <th>3</th>\n",
       "      <td>e0ccc43c.jpg</td>\n",
       "      <td>e0ccc43c_trim.jpg</td>\n",
       "      <td>VGA</td>\n",
       "    </tr>\n",
       "    <tr>\n",
       "      <th>4</th>\n",
       "      <td>d6a40317.jpg</td>\n",
       "      <td>d6a40317_trim.jpg</td>\n",
       "      <td>Lightning_T</td>\n",
       "    </tr>\n",
       "    <tr>\n",
       "      <th>...</th>\n",
       "      <td>...</td>\n",
       "      <td>...</td>\n",
       "      <td>...</td>\n",
       "    </tr>\n",
       "    <tr>\n",
       "      <th>1643</th>\n",
       "      <td>1a42d526.jpg</td>\n",
       "      <td>1a42d526_trim.jpg</td>\n",
       "      <td>Lightning</td>\n",
       "    </tr>\n",
       "    <tr>\n",
       "      <th>1644</th>\n",
       "      <td>6b3c238e.jpg</td>\n",
       "      <td>6b3c238e_trim.jpg</td>\n",
       "      <td>USB_Type_C</td>\n",
       "    </tr>\n",
       "    <tr>\n",
       "      <th>1645</th>\n",
       "      <td>587a4905.jpg</td>\n",
       "      <td>587a4905_trim.jpg</td>\n",
       "      <td>USB_Mini</td>\n",
       "    </tr>\n",
       "    <tr>\n",
       "      <th>1646</th>\n",
       "      <td>ae600959.jpg</td>\n",
       "      <td>ae600959_trim.jpg</td>\n",
       "      <td>USB_Type_C</td>\n",
       "    </tr>\n",
       "    <tr>\n",
       "      <th>1647</th>\n",
       "      <td>6a175db8.jpg</td>\n",
       "      <td>6a175db8_trim.jpg</td>\n",
       "      <td>Mini_DisplayPort</td>\n",
       "    </tr>\n",
       "  </tbody>\n",
       "</table>\n",
       "<p>1648 rows × 3 columns</p>\n",
       "</div>"
      ],
      "text/plain": [
       "          filename      filename_trim             class\n",
       "0     172e1676.jpg  172e1676_trim.jpg     USB_Micro_B_W\n",
       "1     2ed927e9.jpg  2ed927e9_trim.jpg          USB_Mini\n",
       "2     d62e1c29.jpg  d62e1c29_trim.jpg              HDMI\n",
       "3     e0ccc43c.jpg  e0ccc43c_trim.jpg               VGA\n",
       "4     d6a40317.jpg  d6a40317_trim.jpg       Lightning_T\n",
       "...            ...                ...               ...\n",
       "1643  1a42d526.jpg  1a42d526_trim.jpg         Lightning\n",
       "1644  6b3c238e.jpg  6b3c238e_trim.jpg        USB_Type_C\n",
       "1645  587a4905.jpg  587a4905_trim.jpg          USB_Mini\n",
       "1646  ae600959.jpg  ae600959_trim.jpg        USB_Type_C\n",
       "1647  6a175db8.jpg  6a175db8_trim.jpg  Mini_DisplayPort\n",
       "\n",
       "[1648 rows x 3 columns]"
      ]
     },
     "execution_count": 11,
     "metadata": {},
     "output_type": "execute_result"
    }
   ],
   "source": [
    "d = pd.read_csv('tmp/additional_data.csv')\n",
    "d"
   ]
  },
  {
   "cell_type": "code",
   "execution_count": 12,
   "id": "b0d64730",
   "metadata": {},
   "outputs": [
    {
     "data": {
      "text/html": [
       "<div>\n",
       "<style scoped>\n",
       "    .dataframe tbody tr th:only-of-type {\n",
       "        vertical-align: middle;\n",
       "    }\n",
       "\n",
       "    .dataframe tbody tr th {\n",
       "        vertical-align: top;\n",
       "    }\n",
       "\n",
       "    .dataframe thead th {\n",
       "        text-align: right;\n",
       "    }\n",
       "</style>\n",
       "<table border=\"1\" class=\"dataframe\">\n",
       "  <thead>\n",
       "    <tr style=\"text-align: right;\">\n",
       "      <th></th>\n",
       "      <th>image</th>\n",
       "      <th>label</th>\n",
       "    </tr>\n",
       "  </thead>\n",
       "  <tbody>\n",
       "    <tr>\n",
       "      <th>0</th>\n",
       "      <td>172e1676_trim.jpg</td>\n",
       "      <td>USB_Micro_B_W</td>\n",
       "    </tr>\n",
       "    <tr>\n",
       "      <th>1</th>\n",
       "      <td>2ed927e9_trim.jpg</td>\n",
       "      <td>USB_Mini</td>\n",
       "    </tr>\n",
       "    <tr>\n",
       "      <th>2</th>\n",
       "      <td>d62e1c29_trim.jpg</td>\n",
       "      <td>HDMI</td>\n",
       "    </tr>\n",
       "    <tr>\n",
       "      <th>3</th>\n",
       "      <td>e0ccc43c_trim.jpg</td>\n",
       "      <td>VGA</td>\n",
       "    </tr>\n",
       "    <tr>\n",
       "      <th>4</th>\n",
       "      <td>d6a40317_trim.jpg</td>\n",
       "      <td>Lightning_T</td>\n",
       "    </tr>\n",
       "    <tr>\n",
       "      <th>...</th>\n",
       "      <td>...</td>\n",
       "      <td>...</td>\n",
       "    </tr>\n",
       "    <tr>\n",
       "      <th>1643</th>\n",
       "      <td>1a42d526_trim.jpg</td>\n",
       "      <td>Lightning</td>\n",
       "    </tr>\n",
       "    <tr>\n",
       "      <th>1644</th>\n",
       "      <td>6b3c238e_trim.jpg</td>\n",
       "      <td>USB_Type_C</td>\n",
       "    </tr>\n",
       "    <tr>\n",
       "      <th>1645</th>\n",
       "      <td>587a4905_trim.jpg</td>\n",
       "      <td>USB_Mini</td>\n",
       "    </tr>\n",
       "    <tr>\n",
       "      <th>1646</th>\n",
       "      <td>ae600959_trim.jpg</td>\n",
       "      <td>USB_Type_C</td>\n",
       "    </tr>\n",
       "    <tr>\n",
       "      <th>1647</th>\n",
       "      <td>6a175db8_trim.jpg</td>\n",
       "      <td>Mini_DisplayPort</td>\n",
       "    </tr>\n",
       "  </tbody>\n",
       "</table>\n",
       "<p>1648 rows × 2 columns</p>\n",
       "</div>"
      ],
      "text/plain": [
       "                  image             label\n",
       "0     172e1676_trim.jpg     USB_Micro_B_W\n",
       "1     2ed927e9_trim.jpg          USB_Mini\n",
       "2     d62e1c29_trim.jpg              HDMI\n",
       "3     e0ccc43c_trim.jpg               VGA\n",
       "4     d6a40317_trim.jpg       Lightning_T\n",
       "...                 ...               ...\n",
       "1643  1a42d526_trim.jpg         Lightning\n",
       "1644  6b3c238e_trim.jpg        USB_Type_C\n",
       "1645  587a4905_trim.jpg          USB_Mini\n",
       "1646  ae600959_trim.jpg        USB_Type_C\n",
       "1647  6a175db8_trim.jpg  Mini_DisplayPort\n",
       "\n",
       "[1648 rows x 2 columns]"
      ]
     },
     "execution_count": 12,
     "metadata": {},
     "output_type": "execute_result"
    }
   ],
   "source": [
    "d = d.drop(columns=['filename'])\n",
    "d .columns = ['image', 'label']\n",
    "d"
   ]
  },
  {
   "cell_type": "code",
   "execution_count": 17,
   "id": "1e195da8",
   "metadata": {},
   "outputs": [
    {
     "data": {
      "text/plain": [
       "((1400, 2), (248, 2))"
      ]
     },
     "execution_count": 17,
     "metadata": {},
     "output_type": "execute_result"
    }
   ],
   "source": [
    "d_train, d_test = train_test_split(d, test_size=0.15, random_state=123, stratify=d['label'])\n",
    "d_train.shape, d_test.shape"
   ]
  },
  {
   "cell_type": "code",
   "execution_count": 26,
   "id": "d07b1172",
   "metadata": {},
   "outputs": [
    {
     "data": {
      "text/html": [
       "<div>\n",
       "<style scoped>\n",
       "    .dataframe tbody tr th:only-of-type {\n",
       "        vertical-align: middle;\n",
       "    }\n",
       "\n",
       "    .dataframe tbody tr th {\n",
       "        vertical-align: top;\n",
       "    }\n",
       "\n",
       "    .dataframe thead th {\n",
       "        text-align: right;\n",
       "    }\n",
       "</style>\n",
       "<table border=\"1\" class=\"dataframe\">\n",
       "  <thead>\n",
       "    <tr style=\"text-align: right;\">\n",
       "      <th></th>\n",
       "      <th>All</th>\n",
       "      <th>Train</th>\n",
       "      <th>Test</th>\n",
       "    </tr>\n",
       "  </thead>\n",
       "  <tbody>\n",
       "    <tr>\n",
       "      <th>DisplayPort</th>\n",
       "      <td>90</td>\n",
       "      <td>76</td>\n",
       "      <td>14</td>\n",
       "    </tr>\n",
       "    <tr>\n",
       "      <th>Dock</th>\n",
       "      <td>14</td>\n",
       "      <td>12</td>\n",
       "      <td>2</td>\n",
       "    </tr>\n",
       "    <tr>\n",
       "      <th>HDMI</th>\n",
       "      <td>108</td>\n",
       "      <td>92</td>\n",
       "      <td>16</td>\n",
       "    </tr>\n",
       "    <tr>\n",
       "      <th>Lightning</th>\n",
       "      <td>297</td>\n",
       "      <td>252</td>\n",
       "      <td>45</td>\n",
       "    </tr>\n",
       "    <tr>\n",
       "      <th>Lightning_T</th>\n",
       "      <td>91</td>\n",
       "      <td>77</td>\n",
       "      <td>14</td>\n",
       "    </tr>\n",
       "    <tr>\n",
       "      <th>Mini_DisplayPort</th>\n",
       "      <td>88</td>\n",
       "      <td>75</td>\n",
       "      <td>13</td>\n",
       "    </tr>\n",
       "    <tr>\n",
       "      <th>RJ_45</th>\n",
       "      <td>8</td>\n",
       "      <td>7</td>\n",
       "      <td>1</td>\n",
       "    </tr>\n",
       "    <tr>\n",
       "      <th>USB_Micro_B</th>\n",
       "      <td>327</td>\n",
       "      <td>278</td>\n",
       "      <td>49</td>\n",
       "    </tr>\n",
       "    <tr>\n",
       "      <th>USB_Micro_B_3.1</th>\n",
       "      <td>6</td>\n",
       "      <td>5</td>\n",
       "      <td>1</td>\n",
       "    </tr>\n",
       "    <tr>\n",
       "      <th>USB_Micro_B_W</th>\n",
       "      <td>52</td>\n",
       "      <td>44</td>\n",
       "      <td>8</td>\n",
       "    </tr>\n",
       "    <tr>\n",
       "      <th>USB_Mini</th>\n",
       "      <td>74</td>\n",
       "      <td>63</td>\n",
       "      <td>11</td>\n",
       "    </tr>\n",
       "    <tr>\n",
       "      <th>USB_Type_A</th>\n",
       "      <td>138</td>\n",
       "      <td>117</td>\n",
       "      <td>21</td>\n",
       "    </tr>\n",
       "    <tr>\n",
       "      <th>USB_Type_B</th>\n",
       "      <td>9</td>\n",
       "      <td>8</td>\n",
       "      <td>1</td>\n",
       "    </tr>\n",
       "    <tr>\n",
       "      <th>USB_Type_C</th>\n",
       "      <td>257</td>\n",
       "      <td>218</td>\n",
       "      <td>39</td>\n",
       "    </tr>\n",
       "    <tr>\n",
       "      <th>VGA</th>\n",
       "      <td>89</td>\n",
       "      <td>76</td>\n",
       "      <td>13</td>\n",
       "    </tr>\n",
       "  </tbody>\n",
       "</table>\n",
       "</div>"
      ],
      "text/plain": [
       "                  All  Train  Test\n",
       "DisplayPort        90     76    14\n",
       "Dock               14     12     2\n",
       "HDMI              108     92    16\n",
       "Lightning         297    252    45\n",
       "Lightning_T        91     77    14\n",
       "Mini_DisplayPort   88     75    13\n",
       "RJ_45               8      7     1\n",
       "USB_Micro_B       327    278    49\n",
       "USB_Micro_B_3.1     6      5     1\n",
       "USB_Micro_B_W      52     44     8\n",
       "USB_Mini           74     63    11\n",
       "USB_Type_A        138    117    21\n",
       "USB_Type_B          9      8     1\n",
       "USB_Type_C        257    218    39\n",
       "VGA                89     76    13"
      ]
     },
     "execution_count": 26,
     "metadata": {},
     "output_type": "execute_result"
    }
   ],
   "source": [
    "pd.DataFrame({'All':d['label'].value_counts(), 'Train':d_train['label'].value_counts(), 'Test':d_test['label'].value_counts()})"
   ]
  },
  {
   "cell_type": "code",
   "execution_count": null,
   "id": "4b7de6b9",
   "metadata": {},
   "outputs": [],
   "source": []
  },
  {
   "cell_type": "markdown",
   "id": "8001076f",
   "metadata": {},
   "source": [
    "### Driverless AI dataset"
   ]
  },
  {
   "cell_type": "code",
   "execution_count": 28,
   "id": "98dce93d",
   "metadata": {},
   "outputs": [],
   "source": [
    "d_train.to_csv('tmp/DAI/cable_classify_15classes_DAI_Train/train.csv', index=False)\n",
    "d_test.to_csv('tmp/DAI/cable_classify_15classes_DAI_Test/test.csv', index=False)"
   ]
  },
  {
   "cell_type": "code",
   "execution_count": 36,
   "id": "c585e493",
   "metadata": {},
   "outputs": [],
   "source": [
    "# Train image copy\n",
    "for im in d_train['image']:\n",
    "    from_dir = os.path.join('tmp', 'additional', im)\n",
    "    #print(from_dir)\n",
    "    to_dir = os.path.join('tmp', 'DAI', 'cable_classify_15classes_DAI_Train', 'images', im)\n",
    "    #print(to_dir)\n",
    "    shutil.copy(from_dir, to_dir)"
   ]
  },
  {
   "cell_type": "code",
   "execution_count": 37,
   "id": "79fbbc2e",
   "metadata": {},
   "outputs": [
    {
     "name": "stdout",
     "output_type": "stream",
     "text": [
      "    1401\r\n"
     ]
    }
   ],
   "source": [
    "!ls -l tmp/DAI/cable_classify_15classes_DAI_Train/images | wc -l"
   ]
  },
  {
   "cell_type": "code",
   "execution_count": 39,
   "id": "0df562cf",
   "metadata": {},
   "outputs": [],
   "source": [
    "# Test image copy\n",
    "for im in d_test['image']:\n",
    "    from_dir = os.path.join('tmp', 'additional', im)\n",
    "    #print(from_dir)\n",
    "    to_dir = os.path.join('tmp', 'DAI', 'cable_classify_15classes_DAI_Test', 'images', im)\n",
    "    #print(to_dir)\n",
    "    shutil.copy(from_dir, to_dir)"
   ]
  },
  {
   "cell_type": "code",
   "execution_count": 40,
   "id": "065934f4",
   "metadata": {},
   "outputs": [
    {
     "name": "stdout",
     "output_type": "stream",
     "text": [
      "     249\r\n"
     ]
    }
   ],
   "source": [
    "!ls -l tmp/DAI/cable_classify_15classes_DAI_Test/images | wc -l"
   ]
  },
  {
   "cell_type": "code",
   "execution_count": null,
   "id": "a3912877",
   "metadata": {},
   "outputs": [],
   "source": []
  },
  {
   "cell_type": "markdown",
   "id": "cbca234f",
   "metadata": {},
   "source": [
    "### Hydrogen Torch dataset"
   ]
  },
  {
   "cell_type": "code",
   "execution_count": 43,
   "id": "1fd1d7ce",
   "metadata": {},
   "outputs": [],
   "source": [
    "d_train.to_csv('tmp/HT/cable_classify_15classes_HT/train.csv', index=False)\n",
    "d_test.to_csv('tmp/HT/cable_classify_15classes_HT/test.csv', index=False)"
   ]
  },
  {
   "cell_type": "code",
   "execution_count": 44,
   "id": "0c176ad9",
   "metadata": {},
   "outputs": [],
   "source": [
    "# Train image copy\n",
    "for im in d_train['image']:\n",
    "    from_dir = os.path.join('tmp', 'additional', im)\n",
    "    #print(from_dir)\n",
    "    to_dir = os.path.join('tmp', 'HT', 'cable_classify_15classes_HT', 'images', im)\n",
    "    #print(to_dir)\n",
    "    shutil.copy(from_dir, to_dir)"
   ]
  },
  {
   "cell_type": "code",
   "execution_count": 45,
   "id": "040a23df",
   "metadata": {},
   "outputs": [],
   "source": [
    "# Test image copy\n",
    "for im in d_test['image']:\n",
    "    from_dir = os.path.join('tmp', 'additional', im)\n",
    "    #print(from_dir)\n",
    "    to_dir = os.path.join('tmp', 'HT', 'cable_classify_15classes_HT', 'images', im)\n",
    "    #print(to_dir)\n",
    "    shutil.copy(from_dir, to_dir)"
   ]
  },
  {
   "cell_type": "code",
   "execution_count": 46,
   "id": "231ac3ee",
   "metadata": {},
   "outputs": [
    {
     "name": "stdout",
     "output_type": "stream",
     "text": [
      "    1649\r\n"
     ]
    }
   ],
   "source": [
    "!ls -l tmp/HT/cable_classify_15classes_HT/images | wc -l"
   ]
  },
  {
   "cell_type": "code",
   "execution_count": null,
   "id": "335825bf",
   "metadata": {},
   "outputs": [],
   "source": []
  }
 ],
 "metadata": {
  "kernelspec": {
   "display_name": "Python 3 (ipykernel)",
   "language": "python",
   "name": "python3"
  },
  "language_info": {
   "codemirror_mode": {
    "name": "ipython",
    "version": 3
   },
   "file_extension": ".py",
   "mimetype": "text/x-python",
   "name": "python",
   "nbconvert_exporter": "python",
   "pygments_lexer": "ipython3",
   "version": "3.8.13"
  }
 },
 "nbformat": 4,
 "nbformat_minor": 5
}
