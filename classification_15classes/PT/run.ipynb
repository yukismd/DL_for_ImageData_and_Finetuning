{
  "cells": [
    {
      "cell_type": "code",
      "execution_count": null,
      "id": "e74d86b0",
      "metadata": {
        "id": "e74d86b0"
      },
      "outputs": [],
      "source": []
    },
    {
      "cell_type": "code",
      "source": [],
      "metadata": {
        "id": "p0S5LyNY8hmE"
      },
      "id": "p0S5LyNY8hmE",
      "execution_count": null,
      "outputs": []
    },
    {
      "cell_type": "code",
      "execution_count": null,
      "id": "27b586a7",
      "metadata": {
        "id": "27b586a7"
      },
      "outputs": [],
      "source": [
        "import os\n",
        "import time\n",
        "\n",
        "from tqdm.notebook import tqdm\n",
        "import pandas as pd\n",
        "import numpy as np\n",
        "import matplotlib.pyplot as plt\n",
        "import cv2\n",
        "import albumentations as A\n",
        "import torch\n",
        "import torch.optim as optim\n",
        "#from torch.optim.lr_scheduler import CosineAnnealingLR\n",
        "import torch.optim.lr_scheduler as lr_scheduler\n",
        "import timm\n",
        "from sklearn.metrics import accuracy_score"
      ]
    },
    {
      "cell_type": "code",
      "execution_count": null,
      "id": "0c486fdb",
      "metadata": {
        "id": "0c486fdb",
        "outputId": "d642d936-d9ee-4a0b-ff72-3b059f5f2281"
      },
      "outputs": [
        {
          "data": {
            "text/plain": [
              "device(type='cpu')"
            ]
          },
          "execution_count": 3,
          "metadata": {},
          "output_type": "execute_result"
        }
      ],
      "source": [
        "device = torch.device('cuda:0' if torch.cuda.is_available() else 'cpu')\n",
        "device"
      ]
    },
    {
      "cell_type": "code",
      "execution_count": null,
      "id": "a746ff77",
      "metadata": {
        "id": "a746ff77"
      },
      "outputs": [],
      "source": [
        "\n",
        "n_classes = 15   # ターゲットのクラス数\n",
        "\n",
        "img_size = 224    # リサイズのサイズ\n",
        "\n",
        "init_learning_rate = 0.0001    # 学習率（初期）\n",
        "n_epochs = 2\n",
        "batch_size = 64"
      ]
    },
    {
      "cell_type": "code",
      "execution_count": null,
      "id": "dedd9795",
      "metadata": {
        "id": "dedd9795",
        "outputId": "fc30c4f8-f55c-4fe8-9efd-7f2514734f57"
      },
      "outputs": [
        {
          "name": "stdout",
          "output_type": "stream",
          "text": [
            "\u001b[34mimages\u001b[m\u001b[m    test.csv  train.csv\r\n"
          ]
        }
      ],
      "source": [
        "!ls tmp/cable_classify_15classes_PT"
      ]
    },
    {
      "cell_type": "code",
      "execution_count": null,
      "id": "09d1060c",
      "metadata": {
        "id": "09d1060c",
        "outputId": "e16b991f-aa6b-4154-98b0-4a4c13cb1290"
      },
      "outputs": [
        {
          "name": "stdout",
          "output_type": "stream",
          "text": [
            "(1400, 4)\n"
          ]
        },
        {
          "data": {
            "text/html": [
              "<div>\n",
              "<style scoped>\n",
              "    .dataframe tbody tr th:only-of-type {\n",
              "        vertical-align: middle;\n",
              "    }\n",
              "\n",
              "    .dataframe tbody tr th {\n",
              "        vertical-align: top;\n",
              "    }\n",
              "\n",
              "    .dataframe thead th {\n",
              "        text-align: right;\n",
              "    }\n",
              "</style>\n",
              "<table border=\"1\" class=\"dataframe\">\n",
              "  <thead>\n",
              "    <tr style=\"text-align: right;\">\n",
              "      <th></th>\n",
              "      <th>image</th>\n",
              "      <th>label_original</th>\n",
              "      <th>label</th>\n",
              "      <th>fold</th>\n",
              "    </tr>\n",
              "  </thead>\n",
              "  <tbody>\n",
              "    <tr>\n",
              "      <th>0</th>\n",
              "      <td>b8dc2c14_trim.jpg</td>\n",
              "      <td>HDMI</td>\n",
              "      <td>4</td>\n",
              "      <td>6</td>\n",
              "    </tr>\n",
              "    <tr>\n",
              "      <th>1</th>\n",
              "      <td>0f785409_trim.jpg</td>\n",
              "      <td>USB_Type_C</td>\n",
              "      <td>2</td>\n",
              "      <td>5</td>\n",
              "    </tr>\n",
              "    <tr>\n",
              "      <th>2</th>\n",
              "      <td>cf3ff1a0_trim.jpg</td>\n",
              "      <td>USB_Mini</td>\n",
              "      <td>9</td>\n",
              "      <td>6</td>\n",
              "    </tr>\n",
              "    <tr>\n",
              "      <th>3</th>\n",
              "      <td>2f111928_trim.jpg</td>\n",
              "      <td>Dock</td>\n",
              "      <td>11</td>\n",
              "      <td>2</td>\n",
              "    </tr>\n",
              "    <tr>\n",
              "      <th>4</th>\n",
              "      <td>a4c6af0c_trim.jpg</td>\n",
              "      <td>USB_Micro_B</td>\n",
              "      <td>0</td>\n",
              "      <td>4</td>\n",
              "    </tr>\n",
              "  </tbody>\n",
              "</table>\n",
              "</div>"
            ],
            "text/plain": [
              "               image label_original  label  fold\n",
              "0  b8dc2c14_trim.jpg           HDMI      4     6\n",
              "1  0f785409_trim.jpg     USB_Type_C      2     5\n",
              "2  cf3ff1a0_trim.jpg       USB_Mini      9     6\n",
              "3  2f111928_trim.jpg           Dock     11     2\n",
              "4  a4c6af0c_trim.jpg    USB_Micro_B      0     4"
            ]
          },
          "execution_count": 6,
          "metadata": {},
          "output_type": "execute_result"
        }
      ],
      "source": [
        "df_train = pd.read_csv('tmp/cable_classify_15classes_PT/train.csv')\n",
        "print(df_train.shape)\n",
        "df_train.head()"
      ]
    },
    {
      "cell_type": "code",
      "execution_count": null,
      "id": "b8c11ced",
      "metadata": {
        "id": "b8c11ced",
        "outputId": "cd2244c8-d1eb-479c-8692-4ee4ef9773e8"
      },
      "outputs": [
        {
          "data": {
            "text/plain": [
              "15"
            ]
          },
          "execution_count": 7,
          "metadata": {},
          "output_type": "execute_result"
        }
      ],
      "source": [
        "df_train['label'].nunique()"
      ]
    },
    {
      "cell_type": "code",
      "execution_count": null,
      "id": "83cd1cc3",
      "metadata": {
        "id": "83cd1cc3",
        "outputId": "33920ba3-4276-4853-fda2-563bb2e065f8"
      },
      "outputs": [
        {
          "data": {
            "text/plain": [
              "3    220\n",
              "6    215\n",
              "1    206\n",
              "5    201\n",
              "0    199\n",
              "4    184\n",
              "2    175\n",
              "Name: fold, dtype: int64"
            ]
          },
          "execution_count": 8,
          "metadata": {},
          "output_type": "execute_result"
        }
      ],
      "source": [
        "df_train['fold'].value_counts()"
      ]
    },
    {
      "cell_type": "code",
      "execution_count": null,
      "id": "ab9d0fcf",
      "metadata": {
        "id": "ab9d0fcf"
      },
      "outputs": [],
      "source": [
        "image_dir = 'tmp/cable_classify_15classes_PT/images'"
      ]
    },
    {
      "cell_type": "code",
      "execution_count": null,
      "id": "f84bc076",
      "metadata": {
        "id": "f84bc076"
      },
      "outputs": [],
      "source": []
    },
    {
      "cell_type": "code",
      "execution_count": null,
      "id": "05f4176c",
      "metadata": {
        "id": "05f4176c",
        "outputId": "c4f69369-f437-4eaf-ac1b-65c81aa6e35c"
      },
      "outputs": [
        {
          "data": {
            "text/plain": [
              "Compose([\n",
              "  Resize(always_apply=False, p=1, height=224, width=224, interpolation=1),\n",
              "  HorizontalFlip(always_apply=False, p=0.5),\n",
              "], p=1.0, bbox_params=None, keypoint_params=None, additional_targets={})"
            ]
          },
          "execution_count": 66,
          "metadata": {},
          "output_type": "execute_result"
        }
      ],
      "source": [
        "# データ拡張\n",
        "transform_soft_train = A.Compose([\n",
        "    A.Resize(height=img_size, width=img_size, p=1),    # リサイズ（圧縮）\n",
        "    A.HorizontalFlip(p=0.5),    # 左右反転\n",
        "])\n",
        "\n",
        "transform_soft_valid = A.Compose([\n",
        "    A.Resize(height=img_size, width=img_size, p=1),    # リサイズ（圧縮）\n",
        "])\n",
        "\n",
        "transform_soft_train"
      ]
    },
    {
      "cell_type": "code",
      "execution_count": null,
      "id": "7bd42b54",
      "metadata": {
        "id": "7bd42b54"
      },
      "outputs": [],
      "source": [
        "class CustomDataset(torch.utils.data.Dataset):\n",
        "\n",
        "    def __init__(self, df, img_dir, transforms, mode='train'):\n",
        "\n",
        "        self.df = df.reset_index(drop=True)\n",
        "        self.img_dir = img_dir\n",
        "        self.transforms = transforms\n",
        "        self.mode = mode\n",
        "\n",
        "    def __len__(self):\n",
        "        return self.df.shape[0]\n",
        "\n",
        "    def __getitem__(self, index):\n",
        "        img_file_name = self.df.loc[index, 'image']\n",
        "        img_file_path = os.path.join(self.img_dir, img_file_name)\n",
        "        target = self.df.loc[index, 'label']\n",
        "\n",
        "        image = cv2.imread(img_file_path)\n",
        "        image = cv2.cvtColor(image, cv2.COLOR_RGB2BGR)\n",
        "\n",
        "        image_transformed = self.transforms(image=image)['image']\n",
        "\n",
        "        image_transformed = image_transformed.astype(np.float32)\n",
        "        image_transformed = image_transformed.transpose(2, 0, 1)\n",
        "        image_transformed /= 255.\n",
        "\n",
        "        if self.mode == 'inference':\n",
        "            return torch.tensor(image_transformed).float()\n",
        "        else:   # Train/Valid/Testなど正解ラベルが必要な時\n",
        "            return torch.tensor(image_transformed).float(), torch.tensor(target).long()\n",
        "\n",
        "        #return torch.tensor(image_transformed).float(), torch.tensor(target).long()"
      ]
    },
    {
      "cell_type": "code",
      "execution_count": null,
      "id": "799a4918",
      "metadata": {
        "id": "799a4918",
        "outputId": "ce8b4355-9354-49d0-d5d8-97493717b9e8"
      },
      "outputs": [
        {
          "name": "stdout",
          "output_type": "stream",
          "text": [
            "<__main__.CustomDataset object at 0x7f9a193abe50>\n",
            "<class 'torch.Tensor'> <class 'torch.Tensor'>\n",
            "torch.Size([3, 224, 224]) tensor(9)\n"
          ]
        },
        {
          "data": {
            "image/png": "[encoded data removed]",
            "text/plain": [
              "<Figure size 640x480 with 1 Axes>"
            ]
          },
          "metadata": {},
          "output_type": "display_data"
        }
      ],
      "source": [
        "# Dataset test\n",
        "tmp_dataset = CustomDataset(df=df_train, img_dir=image_dir, transforms=transform_soft_train, mode='train')\n",
        "print(tmp_dataset)\n",
        "\n",
        "tmp_img, tmp_label = tmp_dataset[2]\n",
        "print(type(tmp_img), type(tmp_label))\n",
        "print(tmp_img.shape, tmp_label)\n",
        "\n",
        "plt.imshow(tmp_img.permute(1, 2, 0))\n",
        "plt.show()"
      ]
    },
    {
      "cell_type": "code",
      "execution_count": null,
      "id": "d1f94acc",
      "metadata": {
        "id": "d1f94acc",
        "outputId": "4fd2353b-01ce-4d60-83d1-4f9a53080684"
      },
      "outputs": [
        {
          "name": "stdout",
          "output_type": "stream",
          "text": [
            "22\n"
          ]
        },
        {
          "data": {
            "text/plain": [
              "<torch.utils.data.dataloader.DataLoader at 0x7f99d94989a0>"
            ]
          },
          "execution_count": 69,
          "metadata": {},
          "output_type": "execute_result"
        }
      ],
      "source": [
        "tmp_loader = torch.utils.data.DataLoader(tmp_dataset, batch_size=batch_size, shuffle=True, num_workers=8)\n",
        "print(len(tmp_loader))     #  データ数 / batch_size  ->  バッチループ数\n",
        "tmp_loader"
      ]
    },
    {
      "cell_type": "code",
      "execution_count": null,
      "id": "6e501085",
      "metadata": {
        "id": "6e501085",
        "outputId": "8b71c3d6-445e-46a5-db32-1574d2b611b5"
      },
      "outputs": [
        {
          "data": {
            "text/plain": [
              "21.875"
            ]
          },
          "execution_count": 70,
          "metadata": {},
          "output_type": "execute_result"
        }
      ],
      "source": [
        "df_train.shape[0] / batch_size"
      ]
    },
    {
      "cell_type": "code",
      "execution_count": null,
      "id": "fc4119a3",
      "metadata": {
        "id": "fc4119a3"
      },
      "outputs": [],
      "source": []
    },
    {
      "cell_type": "code",
      "execution_count": null,
      "id": "5ce359c8",
      "metadata": {
        "id": "5ce359c8"
      },
      "outputs": [],
      "source": [
        "#timm.list_models(pretrained=True)"
      ]
    },
    {
      "cell_type": "code",
      "execution_count": null,
      "id": "d9a5335c",
      "metadata": {
        "id": "d9a5335c"
      },
      "outputs": [],
      "source": [
        "m = timm.create_model('resnet18', pretrained=True, num_classes=n_classes)"
      ]
    },
    {
      "cell_type": "code",
      "execution_count": null,
      "id": "f328c511",
      "metadata": {
        "id": "f328c511",
        "outputId": "3afba05f-df7d-4ac4-955d-35f15e8f1054"
      },
      "outputs": [
        {
          "data": {
            "text/plain": [
              "torch.Size([8, 15])"
            ]
          },
          "execution_count": 73,
          "metadata": {},
          "output_type": "execute_result"
        }
      ],
      "source": [
        "# Model check\n",
        "m(torch.rand(8, 3, 328, 328)).shape"
      ]
    },
    {
      "cell_type": "code",
      "execution_count": null,
      "id": "157e64e2",
      "metadata": {
        "id": "157e64e2",
        "outputId": "c258be4c-2f98-4b92-c1ea-a0e9f58b510b"
      },
      "outputs": [
        {
          "data": {
            "text/plain": [
              "tensor([ 0.0098,  0.0606,  0.1176,  0.0781,  0.0996, -0.3433, -0.1689, -0.0481,\n",
              "        -0.0147,  0.0966, -0.0721, -0.0066, -0.0028, -0.2145, -0.0960],\n",
              "       grad_fn=<SelectBackward0>)"
            ]
          },
          "execution_count": 74,
          "metadata": {},
          "output_type": "execute_result"
        }
      ],
      "source": [
        "# Model check\n",
        "m(torch.rand(8, 3, 328, 328))[0]"
      ]
    },
    {
      "cell_type": "code",
      "execution_count": null,
      "id": "4d8efa48",
      "metadata": {
        "id": "4d8efa48",
        "outputId": "4fb84464-f67b-4805-f4cd-0961dd414f17"
      },
      "outputs": [
        {
          "data": {
            "text/plain": [
              "tensor([0.0663, 0.0752, 0.0729, 0.0742, 0.0696, 0.0501, 0.0604, 0.0678, 0.0626,\n",
              "        0.0741, 0.0685, 0.0728, 0.0704, 0.0550, 0.0602],\n",
              "       grad_fn=<SelectBackward0>)"
            ]
          },
          "execution_count": 75,
          "metadata": {},
          "output_type": "execute_result"
        }
      ],
      "source": [
        "# Model check\n",
        "m(torch.rand(8, 3, 328, 328)).softmax(1)[0]"
      ]
    },
    {
      "cell_type": "code",
      "execution_count": null,
      "id": "723a5a5b",
      "metadata": {
        "id": "723a5a5b",
        "outputId": "6770ccf4-c322-413f-8c56-7b15c3c8fa40"
      },
      "outputs": [
        {
          "data": {
            "text/plain": [
              "<generator object Module.parameters at 0x7f9930184200>"
            ]
          },
          "execution_count": 76,
          "metadata": {},
          "output_type": "execute_result"
        }
      ],
      "source": [
        "m.parameters()"
      ]
    },
    {
      "cell_type": "code",
      "execution_count": null,
      "id": "ba620685",
      "metadata": {
        "id": "ba620685"
      },
      "outputs": [],
      "source": []
    },
    {
      "cell_type": "code",
      "execution_count": null,
      "id": "3b32664a",
      "metadata": {
        "id": "3b32664a",
        "outputId": "18928257-db2b-41ff-ac32-7dce9983ce2b"
      },
      "outputs": [
        {
          "data": {
            "text/plain": [
              "CrossEntropyLoss()"
            ]
          },
          "execution_count": 77,
          "metadata": {},
          "output_type": "execute_result"
        }
      ],
      "source": [
        "criterion = torch.nn.CrossEntropyLoss()\n",
        "criterion"
      ]
    },
    {
      "cell_type": "code",
      "execution_count": null,
      "id": "053a5a24",
      "metadata": {
        "id": "053a5a24"
      },
      "outputs": [],
      "source": [
        "#optimizer = optim.Adam(m.parameters(), lr=init_learning_rate)\n",
        "#optimizer"
      ]
    },
    {
      "cell_type": "code",
      "execution_count": null,
      "id": "aaa43496",
      "metadata": {
        "id": "aaa43496"
      },
      "outputs": [],
      "source": [
        "#scheduler = lr_scheduler.CosineAnnealingLR(optimizer, T_max=n_epochs-1, eta_min=1e-8)\n",
        "#scheduler"
      ]
    },
    {
      "cell_type": "code",
      "execution_count": null,
      "id": "b8cbd3e4",
      "metadata": {
        "id": "b8cbd3e4"
      },
      "outputs": [],
      "source": []
    },
    {
      "cell_type": "code",
      "execution_count": null,
      "id": "9faedb78",
      "metadata": {
        "id": "9faedb78"
      },
      "outputs": [],
      "source": [
        "def train_func(model, train_loader, optimizer):\n",
        "    losses = []\n",
        "    bar = tqdm(train_loader)\n",
        "    model.train()\n",
        "\n",
        "    for i, (images, targets) in enumerate(bar):    # バッチループ\n",
        "    #for i, (images, targets) in enumerate(train_loader):    # バッチループ\n",
        "        images = images.to(device)\n",
        "        targets = targets.to(device)\n",
        "        outputs = model(images)\n",
        "        loss = criterion(outputs, targets)\n",
        "        #print(loss)\n",
        "\n",
        "        optimizer.zero_grad()\n",
        "        loss.backward()\n",
        "        optimizer.step()\n",
        "\n",
        "        losses.append(loss.item())\n",
        "        smooth_loss = np.mean(losses[-5:])   # 過去5バッチループのLoss平均\n",
        "\n",
        "        bar.set_description(f'loss: {loss.item():.5f}, smth: {smooth_loss:.5f}')\n",
        "\n",
        "    loss_train= np.mean(losses)\n",
        "    return loss_train\n",
        "\n",
        "def valid_func(model, valid_loader):\n",
        "    losses = []\n",
        "    OUTPUTS, TARGETS = [], []\n",
        "    bar = tqdm(valid_loader)\n",
        "    model.eval()\n",
        "\n",
        "    with torch.no_grad():\n",
        "        for i, (images, targets) in enumerate(bar):    # バッチループ\n",
        "            images = images.to(device)\n",
        "            targets = targets.to(device)\n",
        "            outputs = model(images)\n",
        "            loss = criterion(outputs, targets)\n",
        "\n",
        "            losses.append(loss.item())\n",
        "            smooth_loss = np.mean(losses[-5:])\n",
        "\n",
        "            bar.set_description(f'loss: {loss.item():.5f}, smth: {smooth_loss:.5f}')\n",
        "\n",
        "            OUTPUTS.append(outputs.cpu())\n",
        "            TARGETS.append(targets.cpu())\n",
        "\n",
        "        loss_valid = np.mean(losses)\n",
        "        #print('loss: {}'.format(loss_valid))\n",
        "        PREDS = torch.cat(OUTPUTS).softmax(1).numpy().argmax(1)   # 確率変換して最大値のクラスを取得\n",
        "        # OUTPUTS -> \"バッチループ * バッチ数 * 15クラス\"の予測結果（Logit値（確率変換前））\n",
        "        # バッチループ * バッチ数 = Validデータ数\n",
        "        # PREDS -> \"Validデータ数\"分の予測結果\n",
        "        TARGETS = torch.cat(TARGETS).squeeze().numpy()     # \"Validデータ数\"分の正解データ\n",
        "        acc = accuracy_score(TARGETS, PREDS)\n",
        "\n",
        "    return loss_valid, acc"
      ]
    },
    {
      "cell_type": "code",
      "execution_count": null,
      "id": "4f91199e",
      "metadata": {
        "id": "4f91199e"
      },
      "outputs": [],
      "source": [
        "def run(fold):\n",
        "    print('Running fold #{}'.format(fold))\n",
        "\n",
        "    train_ = df_train[df_train['fold']!=fold]\n",
        "    valid_ = df_train[df_train['fold']==fold]\n",
        "    print(df_train.shape, train_.shape, valid_.shape)\n",
        "\n",
        "    dataset_train = CustomDataset(df=train_, img_dir=image_dir, transforms=transform_soft_train , mode='train')\n",
        "    dataset_valid = CustomDataset(df=valid_, img_dir=image_dir, transforms=transform_soft_valid, mode='train')\n",
        "\n",
        "    train_loader = torch.utils.data.DataLoader(dataset_train, batch_size=batch_size, shuffle=True)#, num_workers=2)\n",
        "    valid_loader = torch.utils.data.DataLoader(dataset_valid, batch_size=batch_size, shuffle=False)#, num_workers=2)\n",
        "\n",
        "    print('train samples:', len(dataset_train), 'valid samples:', len(dataset_valid))\n",
        "    print('train batch roops:', len(train_loader), 'valid batch roops:', len(valid_loader))\n",
        "\n",
        "    model = m.to(device)\n",
        "    #print(model)\n",
        "    optimizer = optim.Adam(model.parameters(), lr=init_learning_rate)\n",
        "    #print(optimizer)\n",
        "    scheduler = lr_scheduler.CosineAnnealingLR(optimizer, T_max=n_epochs-1, eta_min=1e-8)\n",
        "    #print(scheduler)\n",
        "\n",
        "    log = {}\n",
        "    log_file = f'{exp_name}_fold{fold}_log.txt'\n",
        "    model_file = os.path.join('tmp', f'{exp_name}_fold{fold}_best.pth')\n",
        "    best_acc = 0.0\n",
        "\n",
        "    for epoch in range(n_epochs):\n",
        "        print('>> Epoch: {}/{}'.format(epoch+1, n_epochs))\n",
        "\n",
        "        loss_train = train_func(model, train_loader, optimizer)\n",
        "        print('Training:: Loss: {}'.format(loss_train))\n",
        "        loss_valid, acc = valid_func(model, valid_loader)\n",
        "        print('Validation:: Loss: {}, Accuracy: {}'.format(loss_valid, acc))\n",
        "\n",
        "        log['loss_train'] = log.get('loss_train', []) + [loss_train]\n",
        "        log['loss_valid'] = log.get('loss_valid', []) + [loss_valid]\n",
        "        log['lr'] = log.get('lr', []) + [optimizer.param_groups[0][\"lr\"]]\n",
        "        log['acc'] = log.get('acc', []) + [acc]\n",
        "\n",
        "        content = time.ctime() + ' ' + f'Fold {fold}, Epoch {epoch}, lr: {optimizer.param_groups[0][\"lr\"]:.7f}, loss_train: {loss_train:.5f}, loss_valid: {loss_valid:.5f}, acc: {acc:.4f}.'\n",
        "        print(content)\n",
        "        with open(log_file, 'a') as fp:\n",
        "            fp.write(content + '\\n')\n",
        "\n",
        "        if acc > best_acc:\n",
        "            print(f'best_acc ({best_acc:.6f} --> {acc:.6f}). Saving model ...')\n",
        "            acc_max = acc\n",
        "            torch.save(model.state_dict(), model_file)\n",
        "\n",
        "        scheduler.step(epoch+1)\n",
        "\n",
        "    torch.save(model.state_dict(), model_file.replace('_best', '_final'))\n",
        "    return log"
      ]
    },
    {
      "cell_type": "code",
      "execution_count": null,
      "id": "e5c2ac4e",
      "metadata": {
        "scrolled": false,
        "id": "e5c2ac4e",
        "outputId": "899f57e0-a9f8-4a17-f069-84e1b1374010",
        "colab": {
          "referenced_widgets": [
            "a1392374df1a4b7591bc1f3a0b95c474",
            "2ae7278136644a5b9c43af14e19cd8f8",
            "ce5e18e63fb54666937f120747b5ce8f",
            "e6e7000544664b2d88e46bdf4c8e21df"
          ]
        }
      },
      "outputs": [
        {
          "name": "stdout",
          "output_type": "stream",
          "text": [
            "Running fold #0\n",
            "(1400, 4) (1201, 4) (199, 4)\n",
            "train samples: 1201 valid samples: 199\n",
            "train batch roops: 19 valid batch roops: 4\n",
            ">> Epoch: 1/2\n"
          ]
        },
        {
          "data": {
            "application/vnd.jupyter.widget-view+json": {
              "model_id": "a1392374df1a4b7591bc1f3a0b95c474",
              "version_major": 2,
              "version_minor": 0
            },
            "text/plain": [
              "  0%|          | 0/19 [00:00<?, ?it/s]"
            ]
          },
          "metadata": {},
          "output_type": "display_data"
        },
        {
          "name": "stdout",
          "output_type": "stream",
          "text": [
            "Training:: Loss: 2.569223792929398\n"
          ]
        },
        {
          "data": {
            "application/vnd.jupyter.widget-view+json": {
              "model_id": "2ae7278136644a5b9c43af14e19cd8f8",
              "version_major": 2,
              "version_minor": 0
            },
            "text/plain": [
              "  0%|          | 0/4 [00:00<?, ?it/s]"
            ]
          },
          "metadata": {},
          "output_type": "display_data"
        },
        {
          "name": "stdout",
          "output_type": "stream",
          "text": [
            "Validation:: Loss: 2.476438045501709, Accuracy: 0.2814070351758794\n",
            "Mon Apr  1 10:32:40 2024 Fold 0, Epoch 0, lr: 0.0001000, loss_train: 2.56922, loss_valid: 2.47644, acc: 0.2814.\n",
            "best_acc (0.000000 --> 0.281407). Saving model ...\n",
            ">> Epoch: 2/2\n"
          ]
        },
        {
          "name": "stderr",
          "output_type": "stream",
          "text": [
            "/opt/anaconda3/envs/PyTorch/lib/python3.8/site-packages/torch/optim/lr_scheduler.py:149: UserWarning: The epoch parameter in `scheduler.step()` was not necessary and is being deprecated where possible. Please use `scheduler.step()` to step the scheduler. During the deprecation, if epoch is different from None, the closed form is used instead of the new chainable form, where available. Please open an issue if you are unable to replicate your use case: https://github.com/pytorch/pytorch/issues/new/choose.\n",
            "  warnings.warn(EPOCH_DEPRECATION_WARNING, UserWarning)\n"
          ]
        },
        {
          "data": {
            "application/vnd.jupyter.widget-view+json": {
              "model_id": "ce5e18e63fb54666937f120747b5ce8f",
              "version_major": 2,
              "version_minor": 0
            },
            "text/plain": [
              "  0%|          | 0/19 [00:00<?, ?it/s]"
            ]
          },
          "metadata": {},
          "output_type": "display_data"
        },
        {
          "name": "stdout",
          "output_type": "stream",
          "text": [
            "Training:: Loss: 2.437946495256926\n"
          ]
        },
        {
          "data": {
            "application/vnd.jupyter.widget-view+json": {
              "model_id": "e6e7000544664b2d88e46bdf4c8e21df",
              "version_major": 2,
              "version_minor": 0
            },
            "text/plain": [
              "  0%|          | 0/4 [00:00<?, ?it/s]"
            ]
          },
          "metadata": {},
          "output_type": "display_data"
        },
        {
          "name": "stdout",
          "output_type": "stream",
          "text": [
            "Validation:: Loss: 2.4328307509422302, Accuracy: 0.3165829145728643\n",
            "Mon Apr  1 10:35:31 2024 Fold 0, Epoch 1, lr: 0.0000000, loss_train: 2.43795, loss_valid: 2.43283, acc: 0.3166.\n",
            "best_acc (0.000000 --> 0.316583). Saving model ...\n"
          ]
        },
        {
          "name": "stderr",
          "output_type": "stream",
          "text": [
            "/opt/anaconda3/envs/PyTorch/lib/python3.8/site-packages/torch/optim/lr_scheduler.py:149: UserWarning: The epoch parameter in `scheduler.step()` was not necessary and is being deprecated where possible. Please use `scheduler.step()` to step the scheduler. During the deprecation, if epoch is different from None, the closed form is used instead of the new chainable form, where available. Please open an issue if you are unable to replicate your use case: https://github.com/pytorch/pytorch/issues/new/choose.\n",
            "  warnings.warn(EPOCH_DEPRECATION_WARNING, UserWarning)\n"
          ]
        },
        {
          "data": {
            "text/plain": [
              "{'loss_train': [2.569223792929398, 2.437946495256926],\n",
              " 'loss_valid': [2.476438045501709, 2.4328307509422302],\n",
              " 'lr': [0.0001, 1e-08],\n",
              " 'acc': [0.2814070351758794, 0.3165829145728643]}"
            ]
          },
          "execution_count": 81,
          "metadata": {},
          "output_type": "execute_result"
        }
      ],
      "source": [
        "fold = 0\n",
        "exp_name = 'TestExperiment'\n",
        "\n",
        "tmp_log = run(fold=fold)\n",
        "tmp_log"
      ]
    },
    {
      "cell_type": "code",
      "execution_count": null,
      "id": "c29880e4",
      "metadata": {
        "id": "c29880e4"
      },
      "outputs": [],
      "source": []
    },
    {
      "cell_type": "markdown",
      "id": "6364d2a7",
      "metadata": {
        "id": "6364d2a7"
      },
      "source": [
        "### テストデータによる確認"
      ]
    },
    {
      "cell_type": "code",
      "execution_count": null,
      "id": "2be90f96",
      "metadata": {
        "id": "2be90f96",
        "outputId": "32eabbd0-8df2-4779-8b97-9409a2a4692d"
      },
      "outputs": [
        {
          "name": "stdout",
          "output_type": "stream",
          "text": [
            "(248, 3)\n"
          ]
        },
        {
          "data": {
            "text/html": [
              "<div>\n",
              "<style scoped>\n",
              "    .dataframe tbody tr th:only-of-type {\n",
              "        vertical-align: middle;\n",
              "    }\n",
              "\n",
              "    .dataframe tbody tr th {\n",
              "        vertical-align: top;\n",
              "    }\n",
              "\n",
              "    .dataframe thead th {\n",
              "        text-align: right;\n",
              "    }\n",
              "</style>\n",
              "<table border=\"1\" class=\"dataframe\">\n",
              "  <thead>\n",
              "    <tr style=\"text-align: right;\">\n",
              "      <th></th>\n",
              "      <th>image</th>\n",
              "      <th>label_original</th>\n",
              "      <th>label</th>\n",
              "    </tr>\n",
              "  </thead>\n",
              "  <tbody>\n",
              "    <tr>\n",
              "      <th>0</th>\n",
              "      <td>21900f41_trim.jpg</td>\n",
              "      <td>Lightning</td>\n",
              "      <td>1</td>\n",
              "    </tr>\n",
              "    <tr>\n",
              "      <th>1</th>\n",
              "      <td>1c49f22f_trim.jpg</td>\n",
              "      <td>USB_Type_C</td>\n",
              "      <td>2</td>\n",
              "    </tr>\n",
              "    <tr>\n",
              "      <th>2</th>\n",
              "      <td>09895de0_trim.jpg</td>\n",
              "      <td>USB_Micro_B</td>\n",
              "      <td>0</td>\n",
              "    </tr>\n",
              "    <tr>\n",
              "      <th>3</th>\n",
              "      <td>a89d6642_trim.jpg</td>\n",
              "      <td>HDMI</td>\n",
              "      <td>4</td>\n",
              "    </tr>\n",
              "    <tr>\n",
              "      <th>4</th>\n",
              "      <td>b1ac3a14_trim.jpg</td>\n",
              "      <td>USB_Mini</td>\n",
              "      <td>9</td>\n",
              "    </tr>\n",
              "  </tbody>\n",
              "</table>\n",
              "</div>"
            ],
            "text/plain": [
              "               image label_original  label\n",
              "0  21900f41_trim.jpg      Lightning      1\n",
              "1  1c49f22f_trim.jpg     USB_Type_C      2\n",
              "2  09895de0_trim.jpg    USB_Micro_B      0\n",
              "3  a89d6642_trim.jpg           HDMI      4\n",
              "4  b1ac3a14_trim.jpg       USB_Mini      9"
            ]
          },
          "execution_count": 103,
          "metadata": {},
          "output_type": "execute_result"
        }
      ],
      "source": [
        "df_test = pd.read_csv('tmp/cable_classify_15classes_PT/test.csv')\n",
        "print(df_test.shape)\n",
        "df_test.head()"
      ]
    },
    {
      "cell_type": "code",
      "execution_count": null,
      "id": "f22373e9",
      "metadata": {
        "id": "f22373e9",
        "outputId": "db3561df-558b-4b23-fd2b-f375fdf42c21"
      },
      "outputs": [
        {
          "data": {
            "text/plain": [
              "<__main__.CustomDataset at 0x7f99ca0876a0>"
            ]
          },
          "execution_count": 104,
          "metadata": {},
          "output_type": "execute_result"
        }
      ],
      "source": [
        "dataset_test = CustomDataset(df=df_test, img_dir=image_dir, transforms=transform_soft_valid, mode='train')\n",
        "dataset_test"
      ]
    },
    {
      "cell_type": "code",
      "execution_count": null,
      "id": "16f9bf04",
      "metadata": {
        "id": "16f9bf04",
        "outputId": "a0bdb148-587d-4cfc-8446-578d726f1db2"
      },
      "outputs": [
        {
          "data": {
            "text/plain": [
              "<torch.utils.data.dataloader.DataLoader at 0x7f99ca093f40>"
            ]
          },
          "execution_count": 106,
          "metadata": {},
          "output_type": "execute_result"
        }
      ],
      "source": [
        "test_loader = torch.utils.data.DataLoader(dataset_test, batch_size=batch_size, shuffle=False)\n",
        "test_loader"
      ]
    },
    {
      "cell_type": "code",
      "execution_count": null,
      "id": "f4af3002",
      "metadata": {
        "id": "f4af3002"
      },
      "outputs": [],
      "source": [
        "def test_func(model, test_loader):\n",
        "    OUTPUTS, TARGETS = [], []\n",
        "    bar = tqdm(test_loader)\n",
        "    model.eval()\n",
        "\n",
        "    with torch.no_grad():\n",
        "        for i, (images, targets) in enumerate(bar):    # バッチループ\n",
        "            images = images.to(device)\n",
        "            targets = targets.to(device)\n",
        "            outputs = model(images)\n",
        "\n",
        "            OUTPUTS.append(outputs.cpu())\n",
        "            TARGETS.append(targets.cpu())\n",
        "\n",
        "        PREDS = torch.cat(OUTPUTS).softmax(1).numpy().argmax(1)   # 確率変換して最大値のクラスを取得\n",
        "        TARGETS = torch.cat(TARGETS).squeeze().numpy()\n",
        "        acc = accuracy_score(TARGETS, PREDS)\n",
        "\n",
        "    return TARGETS, PREDS, acc"
      ]
    },
    {
      "cell_type": "code",
      "execution_count": null,
      "id": "47fef589",
      "metadata": {
        "id": "47fef589",
        "outputId": "88d64744-3dc7-4333-9f1c-becf515bace0"
      },
      "outputs": [
        {
          "name": "stdout",
          "output_type": "stream",
          "text": [
            "TestExperiment_fold0_best.pth  \u001b[34mcable_classify_15classes_PT\u001b[m\u001b[m\r\n",
            "TestExperiment_fold0_final.pth\r\n"
          ]
        }
      ],
      "source": [
        "!ls tmp"
      ]
    },
    {
      "cell_type": "code",
      "execution_count": null,
      "id": "38697072",
      "metadata": {
        "id": "38697072",
        "outputId": "95ce6830-7020-45cc-f2e5-74ba9cbaf723"
      },
      "outputs": [
        {
          "data": {
            "text/plain": [
              "<All keys matched successfully>"
            ]
          },
          "execution_count": 140,
          "metadata": {},
          "output_type": "execute_result"
        }
      ],
      "source": [
        "best_model = timm.create_model('resnet18', pretrained=False, num_classes=n_classes)\n",
        "best_model.load_state_dict(torch.load('tmp/TestExperiment_fold0_best.pth'))"
      ]
    },
    {
      "cell_type": "code",
      "execution_count": null,
      "id": "3b487d41",
      "metadata": {
        "id": "3b487d41",
        "outputId": "65ceddb1-41e5-46ca-c4ca-5d8b66731354",
        "colab": {
          "referenced_widgets": [
            "316640f9024c40c9a8b595415e864e76"
          ]
        }
      },
      "outputs": [
        {
          "data": {
            "application/vnd.jupyter.widget-view+json": {
              "model_id": "316640f9024c40c9a8b595415e864e76",
              "version_major": 2,
              "version_minor": 0
            },
            "text/plain": [
              "  0%|          | 0/4 [00:00<?, ?it/s]"
            ]
          },
          "metadata": {},
          "output_type": "display_data"
        },
        {
          "data": {
            "text/plain": [
              "0.22983870967741934"
            ]
          },
          "execution_count": 141,
          "metadata": {},
          "output_type": "execute_result"
        }
      ],
      "source": [
        "test_tgt, test_pred, test_acc = test_func(model=best_model, test_loader=test_loader)\n",
        "test_acc"
      ]
    },
    {
      "cell_type": "code",
      "execution_count": null,
      "id": "d5ac14b8",
      "metadata": {
        "id": "d5ac14b8"
      },
      "outputs": [],
      "source": []
    }
  ],
  "metadata": {
    "kernelspec": {
      "display_name": "Python 3 (ipykernel)",
      "language": "python",
      "name": "python3"
    },
    "language_info": {
      "codemirror_mode": {
        "name": "ipython",
        "version": 3
      },
      "file_extension": ".py",
      "mimetype": "text/x-python",
      "name": "python",
      "nbconvert_exporter": "python",
      "pygments_lexer": "ipython3",
      "version": "3.8.13"
    },
    "colab": {
      "provenance": []
    }
  },
  "nbformat": 4,
  "nbformat_minor": 5
}