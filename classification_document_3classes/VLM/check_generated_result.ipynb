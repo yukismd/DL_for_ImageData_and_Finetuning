{
 "cells": [
  {
   "cell_type": "code",
   "execution_count": null,
   "id": "3a91abc0-14a7-41ee-8c0b-206c7a34670e",
   "metadata": {},
   "outputs": [],
   "source": []
  },
  {
   "cell_type": "code",
   "execution_count": 48,
   "id": "f0ea6dbc-b53b-46fd-b692-dde22de7f684",
   "metadata": {},
   "outputs": [],
   "source": [
    "import pandas as pd\n",
    "import numpy as np\n",
    "from sklearn.metrics import confusion_matrix, ConfusionMatrixDisplay\n",
    "import matplotlib.pyplot as plt"
   ]
  },
  {
   "cell_type": "code",
   "execution_count": 3,
   "id": "74cf9acb-3803-497f-a8b1-68345907070a",
   "metadata": {},
   "outputs": [
    {
     "name": "stdout",
     "output_type": "stream",
     "text": [
      "VLM_result.csv\n"
     ]
    }
   ],
   "source": [
    "!ls prediction"
   ]
  },
  {
   "cell_type": "code",
   "execution_count": 11,
   "id": "c857d768-e114-49a3-8c13-f39366d0adb4",
   "metadata": {},
   "outputs": [
    {
     "name": "stdout",
     "output_type": "stream",
     "text": [
      "(30, 3)\n"
     ]
    },
    {
     "data": {
      "text/html": [
       "<div>\n",
       "<style scoped>\n",
       "    .dataframe tbody tr th:only-of-type {\n",
       "        vertical-align: middle;\n",
       "    }\n",
       "\n",
       "    .dataframe tbody tr th {\n",
       "        vertical-align: top;\n",
       "    }\n",
       "\n",
       "    .dataframe thead th {\n",
       "        text-align: right;\n",
       "    }\n",
       "</style>\n",
       "<table border=\"1\" class=\"dataframe\">\n",
       "  <thead>\n",
       "    <tr style=\"text-align: right;\">\n",
       "      <th></th>\n",
       "      <th>image</th>\n",
       "      <th>class</th>\n",
       "      <th>&lt;image&gt;\\nExtract the type of the image, categorizing it as 'email', 'resume' or 'scientific_publication'. Type:</th>\n",
       "    </tr>\n",
       "  </thead>\n",
       "  <tbody>\n",
       "    <tr>\n",
       "      <th>25</th>\n",
       "      <td>images/doc_000045.png</td>\n",
       "      <td>scientific_publication</td>\n",
       "      <td>scientific_publication</td>\n",
       "    </tr>\n",
       "    <tr>\n",
       "      <th>26</th>\n",
       "      <td>images/doc_000551.png</td>\n",
       "      <td>resume</td>\n",
       "      <td>scientific_publication</td>\n",
       "    </tr>\n",
       "    <tr>\n",
       "      <th>27</th>\n",
       "      <td>images/doc_000297.png</td>\n",
       "      <td>email</td>\n",
       "      <td>email</td>\n",
       "    </tr>\n",
       "    <tr>\n",
       "      <th>28</th>\n",
       "      <td>images/doc_000402.png</td>\n",
       "      <td>resume</td>\n",
       "      <td>scientific_publication</td>\n",
       "    </tr>\n",
       "    <tr>\n",
       "      <th>29</th>\n",
       "      <td>images/doc_000745.png</td>\n",
       "      <td>email</td>\n",
       "      <td>email</td>\n",
       "    </tr>\n",
       "  </tbody>\n",
       "</table>\n",
       "</div>"
      ],
      "text/plain": [
       "                    image                   class  \\\n",
       "25  images/doc_000045.png  scientific_publication   \n",
       "26  images/doc_000551.png                  resume   \n",
       "27  images/doc_000297.png                   email   \n",
       "28  images/doc_000402.png                  resume   \n",
       "29  images/doc_000745.png                   email   \n",
       "\n",
       "   <image>\\nExtract the type of the image, categorizing it as 'email', 'resume' or 'scientific_publication'. Type:  \n",
       "25                             scientific_publication                                                               \n",
       "26                             scientific_publication                                                               \n",
       "27                                              email                                                               \n",
       "28                             scientific_publication                                                               \n",
       "29                                              email                                                               "
      ]
     },
     "execution_count": 11,
     "metadata": {},
     "output_type": "execute_result"
    }
   ],
   "source": [
    "df = pd.read_csv('prediction/VLM_result.csv')\n",
    "print(df.shape)\n",
    "df.tail()"
   ]
  },
  {
   "cell_type": "code",
   "execution_count": 36,
   "id": "f507241a-5b64-46d5-b9d7-eccbcf3fcefc",
   "metadata": {},
   "outputs": [
    {
     "data": {
      "text/plain": [
       "['scientific_publication',\n",
       " 'email',\n",
       " 'scientific_publication',\n",
       " 'email',\n",
       " 'email',\n",
       " 'email',\n",
       " 'email',\n",
       " 'scientific_publication',\n",
       " 'resume',\n",
       " 'scientific_publication',\n",
       " 'email',\n",
       " \"This image is a PDF document related to research conducted by the University of Texas at Southwest Medical Center and the University of Tennessee, Memphis. It is categorized under 'Publications' and 'Publications' of the journal Lonely Planet and 'Publication' of the University of Tennessee.\",\n",
       " 'email',\n",
       " 'email',\n",
       " \"'email'\",\n",
       " 'email',\n",
       " 'scientific_publication',\n",
       " 'scientific_publication',\n",
       " 'The image is a type of image, specifically a typed document or print page, and it does not belong to any of the provided categories (email, resume, scientific publication).',\n",
       " 'scientific_publication',\n",
       " 'scientific_publication',\n",
       " 'scientific_publication',\n",
       " 'email',\n",
       " 'scientific_publication',\n",
       " 'email',\n",
       " 'scientific_publication',\n",
       " 'scientific_publication',\n",
       " 'email',\n",
       " 'scientific_publication',\n",
       " 'email']"
      ]
     },
     "execution_count": 36,
     "metadata": {},
     "output_type": "execute_result"
    }
   ],
   "source": [
    "list(df.iloc[:,2])"
   ]
  },
  {
   "cell_type": "code",
   "execution_count": 14,
   "id": "9574754e-23d6-429c-b0ab-e2b5406e300e",
   "metadata": {},
   "outputs": [
    {
     "data": {
      "text/plain": [
       "\"This image is a PDF document related to research conducted by the University of Texas at Southwest Medical Center and the University of Tennessee, Memphis. It is categorized under 'Publications' and 'Publications' of the journal Lonely Planet and 'Publication' of the University of Tennessee.\""
      ]
     },
     "execution_count": 14,
     "metadata": {},
     "output_type": "execute_result"
    }
   ],
   "source": [
    "df.iloc[11,2]"
   ]
  },
  {
   "cell_type": "code",
   "execution_count": 46,
   "id": "4923d46b-5e80-4c0a-bc4f-5b883a40ab21",
   "metadata": {},
   "outputs": [
    {
     "data": {
      "text/plain": [
       "\"'email'\""
      ]
     },
     "execution_count": 46,
     "metadata": {},
     "output_type": "execute_result"
    }
   ],
   "source": [
    "df.iloc[14,2]"
   ]
  },
  {
   "cell_type": "code",
   "execution_count": 15,
   "id": "f5effe17-de11-43a1-830e-ee381c0487d8",
   "metadata": {},
   "outputs": [
    {
     "data": {
      "text/plain": [
       "'The image is a type of image, specifically a typed document or print page, and it does not belong to any of the provided categories (email, resume, scientific publication).'"
      ]
     },
     "execution_count": 15,
     "metadata": {},
     "output_type": "execute_result"
    }
   ],
   "source": [
    "df.iloc[18,2]"
   ]
  },
  {
   "cell_type": "code",
   "execution_count": 28,
   "id": "4a67e68b-7f37-42de-9f85-c07b9470a635",
   "metadata": {},
   "outputs": [],
   "source": [
    "df_res = pd.DataFrame()\n",
    "df_res['actual'] = df['class']\n",
    "df_res['generated'] = df.iloc[:,2]\n",
    "df_res['generated'][11] = np.nan\n",
    "df_res['generated'][14] = 'email'\n",
    "df_res['generated'][18] = np.nan"
   ]
  },
  {
   "cell_type": "code",
   "execution_count": 29,
   "id": "09207309-5914-4303-94f1-91837faf41d9",
   "metadata": {},
   "outputs": [
    {
     "data": {
      "text/plain": [
       "scientific_publication    10\n",
       "email                     10\n",
       "resume                    10\n",
       "Name: actual, dtype: int64"
      ]
     },
     "execution_count": 29,
     "metadata": {},
     "output_type": "execute_result"
    }
   ],
   "source": [
    "df_res['actual'].value_counts()"
   ]
  },
  {
   "cell_type": "code",
   "execution_count": 30,
   "id": "c77747a2-ed95-45c4-ba50-d331380d5009",
   "metadata": {},
   "outputs": [
    {
     "data": {
      "text/plain": [
       "email                     14\n",
       "scientific_publication    13\n",
       "resume                     1\n",
       "Name: generated, dtype: int64"
      ]
     },
     "execution_count": 30,
     "metadata": {},
     "output_type": "execute_result"
    }
   ],
   "source": [
    "df_res['generated'].value_counts()"
   ]
  },
  {
   "cell_type": "code",
   "execution_count": 38,
   "id": "f6b7ff06-fdf5-4907-9ca6-a2c06dac43c0",
   "metadata": {},
   "outputs": [
    {
     "data": {
      "text/plain": [
       "['email', 'resume', 'scientific_publication']"
      ]
     },
     "execution_count": 38,
     "metadata": {},
     "output_type": "execute_result"
    }
   ],
   "source": [
    "labels = sorted(set(df_res['actual']))\n",
    "labels"
   ]
  },
  {
   "cell_type": "code",
   "execution_count": 44,
   "id": "3bca9a29-06e9-41fc-94df-d1ad5da5114f",
   "metadata": {},
   "outputs": [
    {
     "data": {
      "text/plain": [
       "array([[10,  0,  0],\n",
       "       [ 4,  1,  4],\n",
       "       [ 0,  0,  9]])"
      ]
     },
     "execution_count": 44,
     "metadata": {},
     "output_type": "execute_result"
    }
   ],
   "source": [
    "labels = sorted(set(df_res['actual']))\n",
    "cm = confusion_matrix(df_res['actual'].to_list(), df_res['generated'].to_list(), labels=labels)\n",
    "cm"
   ]
  },
  {
   "cell_type": "code",
   "execution_count": 49,
   "id": "4934166d-cadc-497b-960f-b7512065fb6d",
   "metadata": {},
   "outputs": [
    {
     "data": {
      "image/png": "[encoded data removed]",
      "text/plain": [
       "<Figure size 640x480 with 2 Axes>"
      ]
     },
     "metadata": {},
     "output_type": "display_data"
    }
   ],
   "source": [
    "disp = ConfusionMatrixDisplay(confusion_matrix=cm, display_labels=labels)\n",
    "disp.plot(cmap=plt.cm.Blues)  # 色設定（オプション）\n",
    "plt.title(\"Confusion Matrix\")\n",
    "plt.show()"
   ]
  },
  {
   "cell_type": "code",
   "execution_count": null,
   "id": "b020dee7-dd5b-4381-a5dc-9efaa3c97c0d",
   "metadata": {},
   "outputs": [],
   "source": []
  }
 ],
 "metadata": {
  "kernelspec": {
   "display_name": "Python 3 (ipykernel)",
   "language": "python",
   "name": "python3"
  },
  "language_info": {
   "codemirror_mode": {
    "name": "ipython",
    "version": 3
   },
   "file_extension": ".py",
   "mimetype": "text/x-python",
   "name": "python",
   "nbconvert_exporter": "python",
   "pygments_lexer": "ipython3",
   "version": "3.10.14"
  }
 },
 "nbformat": 4,
 "nbformat_minor": 5
}
