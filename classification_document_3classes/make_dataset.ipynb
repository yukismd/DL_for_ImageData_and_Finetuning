{
 "cells": [
  {
   "cell_type": "code",
   "execution_count": null,
   "id": "0d9ddf58-3ba6-40fd-986d-053b82434a63",
   "metadata": {},
   "outputs": [],
   "source": []
  },
  {
   "cell_type": "code",
   "execution_count": 1,
   "id": "5cde2830-bf40-4a03-80a8-3e3926dd5bd2",
   "metadata": {},
   "outputs": [],
   "source": [
    "import os\n",
    "import shutil\n",
    "\n",
    "import pandas as pd\n",
    "from sklearn.model_selection import train_test_split"
   ]
  },
  {
   "cell_type": "code",
   "execution_count": 2,
   "id": "7ffc8045-af95-421a-bd21-a8f5355bd9d3",
   "metadata": {},
   "outputs": [
    {
     "name": "stdout",
     "output_type": "stream",
     "text": [
      "\u001b[34mdata\u001b[m\u001b[m      train.csv train.pq\n"
     ]
    }
   ],
   "source": [
    "!ls tmp/document_classification"
   ]
  },
  {
   "cell_type": "code",
   "execution_count": 3,
   "id": "c20106a8-7841-4a65-8ecd-a1102dfdc43a",
   "metadata": {},
   "outputs": [
    {
     "data": {
      "text/html": [
       "<div>\n",
       "<style scoped>\n",
       "    .dataframe tbody tr th:only-of-type {\n",
       "        vertical-align: middle;\n",
       "    }\n",
       "\n",
       "    .dataframe tbody tr th {\n",
       "        vertical-align: top;\n",
       "    }\n",
       "\n",
       "    .dataframe thead th {\n",
       "        text-align: right;\n",
       "    }\n",
       "</style>\n",
       "<table border=\"1\" class=\"dataframe\">\n",
       "  <thead>\n",
       "    <tr style=\"text-align: right;\">\n",
       "      <th></th>\n",
       "      <th>image</th>\n",
       "      <th>class</th>\n",
       "    </tr>\n",
       "  </thead>\n",
       "  <tbody>\n",
       "    <tr>\n",
       "      <th>0</th>\n",
       "      <td>email/doc_000042.png</td>\n",
       "      <td>email</td>\n",
       "    </tr>\n",
       "    <tr>\n",
       "      <th>1</th>\n",
       "      <td>email/doc_000046.png</td>\n",
       "      <td>email</td>\n",
       "    </tr>\n",
       "    <tr>\n",
       "      <th>2</th>\n",
       "      <td>email/doc_000076.png</td>\n",
       "      <td>email</td>\n",
       "    </tr>\n",
       "    <tr>\n",
       "      <th>3</th>\n",
       "      <td>email/doc_000079.png</td>\n",
       "      <td>email</td>\n",
       "    </tr>\n",
       "    <tr>\n",
       "      <th>4</th>\n",
       "      <td>email/doc_000111.png</td>\n",
       "      <td>email</td>\n",
       "    </tr>\n",
       "    <tr>\n",
       "      <th>...</th>\n",
       "      <td>...</td>\n",
       "      <td>...</td>\n",
       "    </tr>\n",
       "    <tr>\n",
       "      <th>160</th>\n",
       "      <td>scientific_publication/doc_000845.png</td>\n",
       "      <td>scientific_publication</td>\n",
       "    </tr>\n",
       "    <tr>\n",
       "      <th>161</th>\n",
       "      <td>scientific_publication/doc_000864.png</td>\n",
       "      <td>scientific_publication</td>\n",
       "    </tr>\n",
       "    <tr>\n",
       "      <th>162</th>\n",
       "      <td>scientific_publication/doc_000891.png</td>\n",
       "      <td>scientific_publication</td>\n",
       "    </tr>\n",
       "    <tr>\n",
       "      <th>163</th>\n",
       "      <td>scientific_publication/doc_000942.png</td>\n",
       "      <td>scientific_publication</td>\n",
       "    </tr>\n",
       "    <tr>\n",
       "      <th>164</th>\n",
       "      <td>scientific_publication/doc_000950.png</td>\n",
       "      <td>scientific_publication</td>\n",
       "    </tr>\n",
       "  </tbody>\n",
       "</table>\n",
       "<p>165 rows × 2 columns</p>\n",
       "</div>"
      ],
      "text/plain": [
       "                                     image                   class\n",
       "0                     email/doc_000042.png                   email\n",
       "1                     email/doc_000046.png                   email\n",
       "2                     email/doc_000076.png                   email\n",
       "3                     email/doc_000079.png                   email\n",
       "4                     email/doc_000111.png                   email\n",
       "..                                     ...                     ...\n",
       "160  scientific_publication/doc_000845.png  scientific_publication\n",
       "161  scientific_publication/doc_000864.png  scientific_publication\n",
       "162  scientific_publication/doc_000891.png  scientific_publication\n",
       "163  scientific_publication/doc_000942.png  scientific_publication\n",
       "164  scientific_publication/doc_000950.png  scientific_publication\n",
       "\n",
       "[165 rows x 2 columns]"
      ]
     },
     "execution_count": 3,
     "metadata": {},
     "output_type": "execute_result"
    }
   ],
   "source": [
    "df = pd.read_csv('tmp/document_classification/train.csv')\n",
    "df"
   ]
  },
  {
   "cell_type": "code",
   "execution_count": 4,
   "id": "0eed52b9-0f30-43ea-b944-147a57bf34ff",
   "metadata": {},
   "outputs": [
    {
     "data": {
      "text/plain": [
       "email                     55\n",
       "resume                    55\n",
       "scientific_publication    55\n",
       "Name: class, dtype: int64"
      ]
     },
     "execution_count": 4,
     "metadata": {},
     "output_type": "execute_result"
    }
   ],
   "source": [
    "df['class'].value_counts()"
   ]
  },
  {
   "cell_type": "code",
   "execution_count": 5,
   "id": "b51695c8-00b8-4bc1-90cb-b0a81d7813c4",
   "metadata": {},
   "outputs": [
    {
     "data": {
      "text/plain": [
       "((135, 2), (30, 2))"
      ]
     },
     "execution_count": 5,
     "metadata": {},
     "output_type": "execute_result"
    }
   ],
   "source": [
    "df_train, df_test = train_test_split(df, test_size=30, stratify=df['class'], random_state=123)\n",
    "df_train.shape, df_test.shape"
   ]
  },
  {
   "cell_type": "code",
   "execution_count": 6,
   "id": "2f4a91ee-41de-4f7f-943e-efc8de6dcebd",
   "metadata": {},
   "outputs": [
    {
     "data": {
      "text/plain": [
       "resume                    45\n",
       "scientific_publication    45\n",
       "email                     45\n",
       "Name: class, dtype: int64"
      ]
     },
     "execution_count": 6,
     "metadata": {},
     "output_type": "execute_result"
    }
   ],
   "source": [
    "df_train['class'].value_counts()"
   ]
  },
  {
   "cell_type": "code",
   "execution_count": 7,
   "id": "05eabe8e-3a7d-46ff-9865-4cef04174287",
   "metadata": {},
   "outputs": [
    {
     "data": {
      "text/plain": [
       "scientific_publication    10\n",
       "email                     10\n",
       "resume                    10\n",
       "Name: class, dtype: int64"
      ]
     },
     "execution_count": 7,
     "metadata": {},
     "output_type": "execute_result"
    }
   ],
   "source": [
    "df_test['class'].value_counts()"
   ]
  },
  {
   "cell_type": "code",
   "execution_count": null,
   "id": "aee7792e-be06-46fc-a053-9d756cca018f",
   "metadata": {},
   "outputs": [],
   "source": []
  },
  {
   "cell_type": "code",
   "execution_count": 8,
   "id": "e3e9a652-fe4c-419f-a047-22f59054a7f0",
   "metadata": {},
   "outputs": [
    {
     "name": "stdout",
     "output_type": "stream",
     "text": [
      "\u001b[34memail\u001b[m\u001b[m                  \u001b[34mresume\u001b[m\u001b[m                 \u001b[34mscientific_publication\u001b[m\u001b[m\n"
     ]
    }
   ],
   "source": [
    "!ls tmp/document_classification/data"
   ]
  },
  {
   "cell_type": "code",
   "execution_count": 9,
   "id": "69aaab4b-a421-4ecc-8367-9237cf1bf3f2",
   "metadata": {},
   "outputs": [
    {
     "name": "stdout",
     "output_type": "stream",
     "text": [
      "doc_000042.png doc_000196.png doc_000363.png doc_000550.png doc_000694.png\n",
      "doc_000046.png doc_000238.png doc_000448.png doc_000558.png doc_000745.png\n",
      "doc_000076.png doc_000255.png doc_000464.png doc_000577.png doc_000750.png\n",
      "doc_000079.png doc_000260.png doc_000465.png doc_000586.png doc_000784.png\n",
      "doc_000111.png doc_000275.png doc_000471.png doc_000591.png doc_000787.png\n",
      "doc_000115.png doc_000278.png doc_000483.png doc_000596.png doc_000796.png\n",
      "doc_000133.png doc_000279.png doc_000485.png doc_000612.png doc_000825.png\n",
      "doc_000142.png doc_000282.png doc_000507.png doc_000637.png doc_000840.png\n",
      "doc_000148.png doc_000297.png doc_000511.png doc_000650.png doc_000862.png\n",
      "doc_000165.png doc_000333.png doc_000528.png doc_000655.png doc_000872.png\n",
      "doc_000195.png doc_000347.png doc_000532.png doc_000675.png doc_000873.png\n"
     ]
    }
   ],
   "source": [
    "!ls tmp/document_classification/data/email"
   ]
  },
  {
   "cell_type": "code",
   "execution_count": 10,
   "id": "9bf44338-60a9-4909-966d-ab2a44231b93",
   "metadata": {},
   "outputs": [
    {
     "name": "stdout",
     "output_type": "stream",
     "text": [
      "doc_000051.png doc_000175.png doc_000361.png doc_000468.png doc_000639.png\n",
      "doc_000070.png doc_000191.png doc_000369.png doc_000473.png doc_000674.png\n",
      "doc_000072.png doc_000223.png doc_000375.png doc_000476.png doc_000727.png\n",
      "doc_000080.png doc_000248.png doc_000377.png doc_000499.png doc_000734.png\n",
      "doc_000088.png doc_000264.png doc_000402.png doc_000501.png doc_000752.png\n",
      "doc_000091.png doc_000281.png doc_000411.png doc_000543.png doc_000760.png\n",
      "doc_000097.png doc_000286.png doc_000441.png doc_000551.png doc_000763.png\n",
      "doc_000101.png doc_000294.png doc_000443.png doc_000575.png doc_000802.png\n",
      "doc_000109.png doc_000301.png doc_000447.png doc_000609.png doc_000809.png\n",
      "doc_000169.png doc_000344.png doc_000450.png doc_000629.png doc_000824.png\n",
      "doc_000173.png doc_000353.png doc_000460.png doc_000636.png doc_000847.png\n"
     ]
    }
   ],
   "source": [
    "!ls tmp/document_classification/data/resume"
   ]
  },
  {
   "cell_type": "code",
   "execution_count": 11,
   "id": "bee8191c-a584-43f3-a0e2-8446c4dc1575",
   "metadata": {},
   "outputs": [],
   "source": [
    "def find_duplicate_files(dir1, dir2):\n",
    "    # ディレクトリ1のファイル名リストを取得\n",
    "    files_dir1 = set(os.listdir(dir1))\n",
    "    # ディレクトリ2のファイル名リストを取得\n",
    "    files_dir2 = set(os.listdir(dir2))\n",
    "    # 共通するファイル名を取得\n",
    "    duplicates = files_dir1.intersection(files_dir2)\n",
    "    return duplicates"
   ]
  },
  {
   "cell_type": "code",
   "execution_count": 12,
   "id": "49531a93-6455-4885-b451-0d042f9c765c",
   "metadata": {},
   "outputs": [
    {
     "data": {
      "text/plain": [
       "(set(), set(), set())"
      ]
     },
     "execution_count": 12,
     "metadata": {},
     "output_type": "execute_result"
    }
   ],
   "source": [
    "# ディレクトリパスの指定\n",
    "directory1 = 'tmp/document_classification/data/email'\n",
    "directory2 = 'tmp/document_classification/data/resume'\n",
    "# 重複ファイルを検索\n",
    "duplicates1 = find_duplicate_files(directory1, directory2)\n",
    "\n",
    "# ディレクトリパスの指定\n",
    "directory1 = 'tmp/document_classification/data/email'\n",
    "directory2 = 'tmp/document_classification/data/scientific_publication'\n",
    "# 重複ファイルを検索\n",
    "duplicates2 = find_duplicate_files(directory1, directory2)\n",
    "\n",
    "# ディレクトリパスの指定\n",
    "directory1 = 'tmp/document_classification/data/scientific_publication'\n",
    "directory2 = 'tmp/document_classification/data/resume'\n",
    "# 重複ファイルを検索\n",
    "duplicates3 = find_duplicate_files(directory1, directory2)\n",
    "\n",
    "duplicates1, duplicates2, duplicates3"
   ]
  },
  {
   "cell_type": "code",
   "execution_count": null,
   "id": "8bca3006-bfe5-468b-8eff-46160e636a94",
   "metadata": {},
   "outputs": [],
   "source": []
  },
  {
   "cell_type": "code",
   "execution_count": 13,
   "id": "31c6bf88-605d-4409-86d4-e6a1f1fdd3b1",
   "metadata": {},
   "outputs": [
    {
     "data": {
      "text/plain": [
       "((135, 2), (30, 2))"
      ]
     },
     "execution_count": 13,
     "metadata": {},
     "output_type": "execute_result"
    }
   ],
   "source": [
    "df_train2 = df_train.copy()\n",
    "df_test2 = df_test.copy()\n",
    "\n",
    "df_train2['image'] = ['images/' + s.split('/', 1)[-1] for s in df_train['image']]\n",
    "df_test2['image'] = ['images/' + s.split('/', 1)[-1] for s in df_test['image']]\n",
    "df_train2.shape, df_test2.shape"
   ]
  },
  {
   "cell_type": "code",
   "execution_count": 14,
   "id": "224bd7df-0d2c-47ac-aab6-2f2ff9f2b4a8",
   "metadata": {},
   "outputs": [
    {
     "data": {
      "text/html": [
       "<div>\n",
       "<style scoped>\n",
       "    .dataframe tbody tr th:only-of-type {\n",
       "        vertical-align: middle;\n",
       "    }\n",
       "\n",
       "    .dataframe tbody tr th {\n",
       "        vertical-align: top;\n",
       "    }\n",
       "\n",
       "    .dataframe thead th {\n",
       "        text-align: right;\n",
       "    }\n",
       "</style>\n",
       "<table border=\"1\" class=\"dataframe\">\n",
       "  <thead>\n",
       "    <tr style=\"text-align: right;\">\n",
       "      <th></th>\n",
       "      <th>image</th>\n",
       "      <th>class</th>\n",
       "    </tr>\n",
       "  </thead>\n",
       "  <tbody>\n",
       "    <tr>\n",
       "      <th>60</th>\n",
       "      <td>images/doc_000091.png</td>\n",
       "      <td>resume</td>\n",
       "    </tr>\n",
       "    <tr>\n",
       "      <th>57</th>\n",
       "      <td>images/doc_000072.png</td>\n",
       "      <td>resume</td>\n",
       "    </tr>\n",
       "    <tr>\n",
       "      <th>116</th>\n",
       "      <td>images/doc_000128.png</td>\n",
       "      <td>scientific_publication</td>\n",
       "    </tr>\n",
       "    <tr>\n",
       "      <th>92</th>\n",
       "      <td>images/doc_000501.png</td>\n",
       "      <td>resume</td>\n",
       "    </tr>\n",
       "    <tr>\n",
       "      <th>144</th>\n",
       "      <td>images/doc_000534.png</td>\n",
       "      <td>scientific_publication</td>\n",
       "    </tr>\n",
       "  </tbody>\n",
       "</table>\n",
       "</div>"
      ],
      "text/plain": [
       "                     image                   class\n",
       "60   images/doc_000091.png                  resume\n",
       "57   images/doc_000072.png                  resume\n",
       "116  images/doc_000128.png  scientific_publication\n",
       "92   images/doc_000501.png                  resume\n",
       "144  images/doc_000534.png  scientific_publication"
      ]
     },
     "execution_count": 14,
     "metadata": {},
     "output_type": "execute_result"
    }
   ],
   "source": [
    "df_train2.head()"
   ]
  },
  {
   "cell_type": "code",
   "execution_count": 15,
   "id": "27f09792-8836-408e-9897-0acff9970fed",
   "metadata": {},
   "outputs": [
    {
     "data": {
      "text/html": [
       "<div>\n",
       "<style scoped>\n",
       "    .dataframe tbody tr th:only-of-type {\n",
       "        vertical-align: middle;\n",
       "    }\n",
       "\n",
       "    .dataframe tbody tr th {\n",
       "        vertical-align: top;\n",
       "    }\n",
       "\n",
       "    .dataframe thead th {\n",
       "        text-align: right;\n",
       "    }\n",
       "</style>\n",
       "<table border=\"1\" class=\"dataframe\">\n",
       "  <thead>\n",
       "    <tr style=\"text-align: right;\">\n",
       "      <th></th>\n",
       "      <th>image</th>\n",
       "      <th>class</th>\n",
       "    </tr>\n",
       "  </thead>\n",
       "  <tbody>\n",
       "    <tr>\n",
       "      <th>159</th>\n",
       "      <td>images/doc_000832.png</td>\n",
       "      <td>scientific_publication</td>\n",
       "    </tr>\n",
       "    <tr>\n",
       "      <th>2</th>\n",
       "      <td>images/doc_000076.png</td>\n",
       "      <td>email</td>\n",
       "    </tr>\n",
       "    <tr>\n",
       "      <th>145</th>\n",
       "      <td>images/doc_000584.png</td>\n",
       "      <td>scientific_publication</td>\n",
       "    </tr>\n",
       "    <tr>\n",
       "      <th>62</th>\n",
       "      <td>images/doc_000101.png</td>\n",
       "      <td>resume</td>\n",
       "    </tr>\n",
       "    <tr>\n",
       "      <th>17</th>\n",
       "      <td>images/doc_000279.png</td>\n",
       "      <td>email</td>\n",
       "    </tr>\n",
       "  </tbody>\n",
       "</table>\n",
       "</div>"
      ],
      "text/plain": [
       "                     image                   class\n",
       "159  images/doc_000832.png  scientific_publication\n",
       "2    images/doc_000076.png                   email\n",
       "145  images/doc_000584.png  scientific_publication\n",
       "62   images/doc_000101.png                  resume\n",
       "17   images/doc_000279.png                   email"
      ]
     },
     "execution_count": 15,
     "metadata": {},
     "output_type": "execute_result"
    }
   ],
   "source": [
    "df_test2.head()"
   ]
  },
  {
   "cell_type": "code",
   "execution_count": null,
   "id": "9919c9b5-c718-48ee-898e-5adff911361a",
   "metadata": {},
   "outputs": [],
   "source": []
  },
  {
   "cell_type": "markdown",
   "id": "af38e4d1-1383-4a42-a174-9c35ed071f32",
   "metadata": {},
   "source": [
    "## Hydrogen Torch dataset"
   ]
  },
  {
   "cell_type": "code",
   "execution_count": 16,
   "id": "b4bd36da-3a31-42a3-99d1-207801ea284b",
   "metadata": {},
   "outputs": [],
   "source": [
    "src_dir = 'tmp/document_classification/data/'\n",
    "dst_dir = 'tmp/HT_document_classification/images/'"
   ]
  },
  {
   "cell_type": "code",
   "execution_count": 17,
   "id": "91784589-6218-486b-9f3d-5f82607b6b67",
   "metadata": {
    "scrolled": true
   },
   "outputs": [],
   "source": [
    "for d in df['image']:\n",
    "    #print(src_dir + d)\n",
    "    # ファイルをコピー\n",
    "    shutil.copy(src_dir + d, dst_dir)"
   ]
  },
  {
   "cell_type": "code",
   "execution_count": 18,
   "id": "9c5305de-be81-4457-ae9c-5497c0521cf3",
   "metadata": {},
   "outputs": [
    {
     "name": "stdout",
     "output_type": "stream",
     "text": [
      "     166    1487   11892\n"
     ]
    }
   ],
   "source": [
    "!ls -l tmp/HT_document_classification/images/ | wc"
   ]
  },
  {
   "cell_type": "code",
   "execution_count": 19,
   "id": "73b8dd56-0452-4543-a056-a1357f9a1bcf",
   "metadata": {},
   "outputs": [],
   "source": [
    "df_train2.to_csv('tmp/HT_document_classification/train.csv', index=False)\n",
    "df_test2.to_csv('tmp/HT_document_classification/test.csv', index=False)"
   ]
  },
  {
   "cell_type": "code",
   "execution_count": null,
   "id": "33943171-ab94-468a-8b3b-1119ecb0258a",
   "metadata": {},
   "outputs": [],
   "source": []
  },
  {
   "cell_type": "markdown",
   "id": "4297b0f1-2c4b-4f4f-8923-033594be03c9",
   "metadata": {},
   "source": [
    "## Driverless AI"
   ]
  },
  {
   "cell_type": "code",
   "execution_count": 20,
   "id": "5ce98076-1295-4d3f-81c8-8bfa0a825386",
   "metadata": {},
   "outputs": [],
   "source": [
    "src_dir = 'tmp/document_classification/data/'\n",
    "dst_dir_train = 'tmp/DAI_document_classification_TRAIN/images/'\n",
    "dst_dir_test = 'tmp/DAI_document_classification_TEST/images/'"
   ]
  },
  {
   "cell_type": "code",
   "execution_count": 21,
   "id": "09bcc13b-c825-487d-a02e-080193ee9e31",
   "metadata": {
    "scrolled": true
   },
   "outputs": [],
   "source": [
    "for d in df_train['image']:\n",
    "    #print(src_dir + d)\n",
    "    # ファイルをコピー\n",
    "    shutil.copy(src_dir + d, dst_dir_train)\n",
    "\n",
    "for d in df_test['image']:\n",
    "    #print(src_dir + d)\n",
    "    # ファイルをコピー\n",
    "    shutil.copy(src_dir + d, dst_dir_test)"
   ]
  },
  {
   "cell_type": "code",
   "execution_count": 22,
   "id": "31e042c8-1259-4697-8ada-9545185f385e",
   "metadata": {},
   "outputs": [
    {
     "name": "stdout",
     "output_type": "stream",
     "text": [
      "     136    1217    9732\n"
     ]
    }
   ],
   "source": [
    "!ls -l tmp/DAI_document_classification_TRAIN/images/ | wc"
   ]
  },
  {
   "cell_type": "code",
   "execution_count": 23,
   "id": "24a29903-2c76-48b5-b4d2-9ec4e5a689ac",
   "metadata": {},
   "outputs": [
    {
     "name": "stdout",
     "output_type": "stream",
     "text": [
      "      31     272    2171\n"
     ]
    }
   ],
   "source": [
    "!ls -l tmp/DAI_document_classification_TEST/images/ | wc"
   ]
  },
  {
   "cell_type": "code",
   "execution_count": 24,
   "id": "dd7786b1-d1e5-4f30-ba4c-3c50a4d8c33e",
   "metadata": {},
   "outputs": [],
   "source": [
    "df_train2.to_csv('tmp/DAI_document_classification_TRAIN/data.csv', index=False)\n",
    "df_test2.to_csv('tmp/DAI_document_classification_TEST/data.csv', index=False)"
   ]
  },
  {
   "cell_type": "code",
   "execution_count": null,
   "id": "e4830c39-ad4c-4570-99a2-c89ae5cf7fd7",
   "metadata": {},
   "outputs": [],
   "source": []
  }
 ],
 "metadata": {
  "kernelspec": {
   "display_name": "Python 3 (ipykernel)",
   "language": "python",
   "name": "python3"
  },
  "language_info": {
   "codemirror_mode": {
    "name": "ipython",
    "version": 3
   },
   "file_extension": ".py",
   "mimetype": "text/x-python",
   "name": "python",
   "nbconvert_exporter": "python",
   "pygments_lexer": "ipython3",
   "version": "3.10.14"
  }
 },
 "nbformat": 4,
 "nbformat_minor": 5
}
