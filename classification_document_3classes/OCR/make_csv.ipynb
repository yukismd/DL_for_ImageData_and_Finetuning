{
 "cells": [
  {
   "cell_type": "code",
   "execution_count": null,
   "id": "1181fb9b-a76e-4ab4-9ed0-0ef6f967ec06",
   "metadata": {},
   "outputs": [],
   "source": []
  },
  {
   "cell_type": "code",
   "execution_count": 2,
   "id": "e2d36e87-9659-4861-b444-ed004aea320a",
   "metadata": {},
   "outputs": [],
   "source": [
    "import pandas as pd\n",
    "import pickle"
   ]
  },
  {
   "cell_type": "code",
   "execution_count": 8,
   "id": "831770b7-9f4e-43aa-862a-2fb5f2f78046",
   "metadata": {},
   "outputs": [
    {
     "name": "stdout",
     "output_type": "stream",
     "text": [
      "data.csv \u001b[34mimages\u001b[m\u001b[m\n"
     ]
    }
   ],
   "source": [
    "!ls ../tmp/DAI_document_classification_TRAIN"
   ]
  },
  {
   "cell_type": "code",
   "execution_count": 9,
   "id": "d8126aba-cc2d-4c30-a1a1-104449295e7b",
   "metadata": {},
   "outputs": [
    {
     "data": {
      "text/plain": [
       "(135, 2)"
      ]
     },
     "execution_count": 9,
     "metadata": {},
     "output_type": "execute_result"
    }
   ],
   "source": [
    "df_train = pd.read_csv('../tmp/DAI_document_classification_TRAIN/data.csv')\n",
    "df_train.shape"
   ]
  },
  {
   "cell_type": "code",
   "execution_count": 11,
   "id": "c8941006-7cda-4218-8546-48be6e276a3f",
   "metadata": {},
   "outputs": [
    {
     "data": {
      "text/html": [
       "<div>\n",
       "<style scoped>\n",
       "    .dataframe tbody tr th:only-of-type {\n",
       "        vertical-align: middle;\n",
       "    }\n",
       "\n",
       "    .dataframe tbody tr th {\n",
       "        vertical-align: top;\n",
       "    }\n",
       "\n",
       "    .dataframe thead th {\n",
       "        text-align: right;\n",
       "    }\n",
       "</style>\n",
       "<table border=\"1\" class=\"dataframe\">\n",
       "  <thead>\n",
       "    <tr style=\"text-align: right;\">\n",
       "      <th></th>\n",
       "      <th>image</th>\n",
       "      <th>class</th>\n",
       "    </tr>\n",
       "  </thead>\n",
       "  <tbody>\n",
       "    <tr>\n",
       "      <th>0</th>\n",
       "      <td>images/doc_000091.png</td>\n",
       "      <td>resume</td>\n",
       "    </tr>\n",
       "    <tr>\n",
       "      <th>1</th>\n",
       "      <td>images/doc_000072.png</td>\n",
       "      <td>resume</td>\n",
       "    </tr>\n",
       "    <tr>\n",
       "      <th>2</th>\n",
       "      <td>images/doc_000128.png</td>\n",
       "      <td>scientific_publication</td>\n",
       "    </tr>\n",
       "    <tr>\n",
       "      <th>3</th>\n",
       "      <td>images/doc_000501.png</td>\n",
       "      <td>resume</td>\n",
       "    </tr>\n",
       "    <tr>\n",
       "      <th>4</th>\n",
       "      <td>images/doc_000534.png</td>\n",
       "      <td>scientific_publication</td>\n",
       "    </tr>\n",
       "  </tbody>\n",
       "</table>\n",
       "</div>"
      ],
      "text/plain": [
       "                   image                   class\n",
       "0  images/doc_000091.png                  resume\n",
       "1  images/doc_000072.png                  resume\n",
       "2  images/doc_000128.png  scientific_publication\n",
       "3  images/doc_000501.png                  resume\n",
       "4  images/doc_000534.png  scientific_publication"
      ]
     },
     "execution_count": 11,
     "metadata": {},
     "output_type": "execute_result"
    }
   ],
   "source": [
    "df_train.head()"
   ]
  },
  {
   "cell_type": "code",
   "execution_count": 10,
   "id": "4f22b441-3466-4afd-8e64-02f08994391a",
   "metadata": {},
   "outputs": [
    {
     "data": {
      "text/plain": [
       "(30, 2)"
      ]
     },
     "execution_count": 10,
     "metadata": {},
     "output_type": "execute_result"
    }
   ],
   "source": [
    "df_test = pd.read_csv('../tmp/DAI_document_classification_TEST/data.csv')\n",
    "df_test.shape"
   ]
  },
  {
   "cell_type": "code",
   "execution_count": null,
   "id": "9992525a-d542-43c4-a65c-637abb95e7b7",
   "metadata": {},
   "outputs": [],
   "source": []
  },
  {
   "cell_type": "code",
   "execution_count": 5,
   "id": "b2355e1f-9149-483a-99b1-fc4099f97908",
   "metadata": {},
   "outputs": [
    {
     "name": "stdout",
     "output_type": "stream",
     "text": [
      "ocr_res_test.pkl  ocr_res_train.pkl\n"
     ]
    }
   ],
   "source": [
    "!ls outputs"
   ]
  },
  {
   "cell_type": "code",
   "execution_count": 13,
   "id": "15a12b81-baa8-4c1d-81e5-079cd79d3746",
   "metadata": {},
   "outputs": [],
   "source": [
    "with open('outputs/ocr_res_train.pkl', mode='rb') as f:\n",
    "    res_train = pickle.load(f)\n",
    "\n",
    "with open('outputs/ocr_res_test.pkl', mode='rb') as f:\n",
    "    res_test = pickle.load(f)"
   ]
  },
  {
   "cell_type": "code",
   "execution_count": 16,
   "id": "86359831-f8c4-4896-8f18-92d9bee666e5",
   "metadata": {},
   "outputs": [
    {
     "data": {
      "text/plain": [
       "(135, 30)"
      ]
     },
     "execution_count": 16,
     "metadata": {},
     "output_type": "execute_result"
    }
   ],
   "source": [
    "len(res_train), len(res_test)"
   ]
  },
  {
   "cell_type": "code",
   "execution_count": 25,
   "id": "3581191b-4972-4521-b56d-800079619324",
   "metadata": {},
   "outputs": [
    {
     "data": {
      "text/plain": [
       "dict_keys(['doc_000832.png', 'doc_000076.png', 'doc_000584.png', 'doc_000101.png', 'doc_000279.png', 'doc_000248.png', 'doc_000802.png', 'doc_000089.png', 'doc_000097.png', 'doc_000509.png', 'doc_000550.png', 'doc_000349.png', 'doc_000596.png', 'doc_000070.png', 'doc_000485.png', 'doc_000655.png', 'doc_000513.png', 'doc_000674.png', 'doc_000175.png', 'doc_000864.png', 'doc_000281.png', 'doc_000016.png', 'doc_000558.png', 'doc_000130.png', 'doc_000363.png', 'doc_000045.png', 'doc_000551.png', 'doc_000297.png', 'doc_000402.png', 'doc_000745.png'])"
      ]
     },
     "execution_count": 25,
     "metadata": {},
     "output_type": "execute_result"
    }
   ],
   "source": [
    "res_test.keys()"
   ]
  },
  {
   "cell_type": "code",
   "execution_count": 36,
   "id": "9be0893c-4e3f-4748-9707-1fa02d3af271",
   "metadata": {},
   "outputs": [
    {
     "data": {
      "text/plain": [
       "['ALCH',\n",
       " 'Vol. 271, No. 40, 1ssue of October 4 p. 25041-25048, 199',\n",
       " 'can Ssciety for Biochemistry and Molecular Biology, Inc',\n",
       " 'Printed in U.S.A.',\n",
       " 'ATP-facilitated Chromatin Assembly with a Nucleoplasmin-like',\n",
       " 'Protein from Drosophila melanogaster*',\n",
       " '(Received for publication, June 7, 1996, and in revised from, July 11, 1996)',\n",
       " 'Takashi ItoJessica K.TylerMichael Bulger, Ryuji Kobayashis, and James T. Kadonaga',\n",
       " 'From the Department of Biology and Center for Molecular GeneticsUniversity of California, San Diego, L Jolla',\n",
       " 'California 92093-0347 and Cold Spring Harbor Laboratory,Cold Spring Harbor, New York 11724']"
      ]
     },
     "execution_count": 36,
     "metadata": {},
     "output_type": "execute_result"
    }
   ],
   "source": [
    "res_test['doc_000832.png'][:10]"
   ]
  },
  {
   "cell_type": "code",
   "execution_count": 37,
   "id": "542c9a38-aca6-4a6c-b7d6-2184ad583c01",
   "metadata": {},
   "outputs": [
    {
     "data": {
      "text/plain": [
       "'ALCH\\nVol. 271, No. 40, 1ssue of October 4 p. 25041-25048, 199\\ncan Ssciety for Biochemistry and Molecular Biology, Inc\\nPrinted in U.S.A.\\nATP-facilitated Chromatin Assembly with a Nucleoplasmin-like\\nProtein from Drosophila melanogaster*\\n(Received for publication, June 7, 1996, and in revised from, July 11, 1996)\\nTakashi ItoJessica K.TylerMichael Bulger, Ryuji Kobayashis, and James T. Kadonaga\\nFrom the Department of Biology and Center for Molecular GeneticsUniversity of California, San Diego, L Jolla\\nCalifornia 92093-0347 and Cold Spring Harbor Laboratory,Cold Spring Harbor, New York 11724'"
      ]
     },
     "execution_count": 37,
     "metadata": {},
     "output_type": "execute_result"
    }
   ],
   "source": [
    "'\\n'.join(res_test['doc_000832.png'][:10])"
   ]
  },
  {
   "cell_type": "code",
   "execution_count": 38,
   "id": "1fd5ddc4-9ff9-43f2-b448-98da3109e893",
   "metadata": {},
   "outputs": [
    {
     "name": "stdout",
     "output_type": "stream",
     "text": [
      "ALCH\n",
      "Vol. 271, No. 40, 1ssue of October 4 p. 25041-25048, 199\n",
      "can Ssciety for Biochemistry and Molecular Biology, Inc\n",
      "Printed in U.S.A.\n",
      "ATP-facilitated Chromatin Assembly with a Nucleoplasmin-like\n",
      "Protein from Drosophila melanogaster*\n",
      "(Received for publication, June 7, 1996, and in revised from, July 11, 1996)\n",
      "Takashi ItoJessica K.TylerMichael Bulger, Ryuji Kobayashis, and James T. Kadonaga\n",
      "From the Department of Biology and Center for Molecular GeneticsUniversity of California, San Diego, L Jolla\n",
      "California 92093-0347 and Cold Spring Harbor Laboratory,Cold Spring Harbor, New York 11724\n"
     ]
    }
   ],
   "source": [
    "print('\\n'.join(res_test['doc_000832.png'][:10]))"
   ]
  },
  {
   "cell_type": "code",
   "execution_count": 35,
   "id": "772f1073-e262-428e-96f7-3319943a97e8",
   "metadata": {},
   "outputs": [
    {
     "data": {
      "text/plain": [
       "(135, 30)"
      ]
     },
     "execution_count": 35,
     "metadata": {},
     "output_type": "execute_result"
    }
   ],
   "source": [
    "res_train_str = ['\\n'.join(res_train[k]) for k in res_train.keys()]\n",
    "res_test_str = ['\\n'.join(res_test[k]) for k in res_test.keys()]\n",
    "\n",
    "len(res_train_str), len(res_test_str)"
   ]
  },
  {
   "cell_type": "code",
   "execution_count": 44,
   "id": "b921b9df-8bad-4b83-9bf6-948e6f627419",
   "metadata": {},
   "outputs": [
    {
     "data": {
      "text/plain": [
       "((135, 2), (30, 2))"
      ]
     },
     "execution_count": 44,
     "metadata": {},
     "output_type": "execute_result"
    }
   ],
   "source": [
    "df_res_train = pd.DataFrame({'img_file':res_train.keys(), 'ocr_text':res_train_str})\n",
    "df_res_test = pd.DataFrame({'img_file':res_test.keys(), 'ocr_text':res_test_str})\n",
    "\n",
    "df_res_train.shape, df_res_test.shape"
   ]
  },
  {
   "cell_type": "code",
   "execution_count": 45,
   "id": "03650e6c-5a0a-458f-872d-d67ec52a75c2",
   "metadata": {},
   "outputs": [
    {
     "data": {
      "text/html": [
       "<div>\n",
       "<style scoped>\n",
       "    .dataframe tbody tr th:only-of-type {\n",
       "        vertical-align: middle;\n",
       "    }\n",
       "\n",
       "    .dataframe tbody tr th {\n",
       "        vertical-align: top;\n",
       "    }\n",
       "\n",
       "    .dataframe thead th {\n",
       "        text-align: right;\n",
       "    }\n",
       "</style>\n",
       "<table border=\"1\" class=\"dataframe\">\n",
       "  <thead>\n",
       "    <tr style=\"text-align: right;\">\n",
       "      <th></th>\n",
       "      <th>img_file</th>\n",
       "      <th>ocr_text</th>\n",
       "    </tr>\n",
       "  </thead>\n",
       "  <tbody>\n",
       "    <tr>\n",
       "      <th>0</th>\n",
       "      <td>doc_000091.png</td>\n",
       "      <td>PETER A.DANELO\\nShareholder, Seattle Office\\nP...</td>\n",
       "    </tr>\n",
       "    <tr>\n",
       "      <th>1</th>\n",
       "      <td>doc_000072.png</td>\n",
       "      <td>CLARKE\\n1\\nName: Paul Brian Sydenham CLARKE\\nP...</td>\n",
       "    </tr>\n",
       "    <tr>\n",
       "      <th>2</th>\n",
       "      <td>doc_000128.png</td>\n",
       "      <td>Pror, Xot. Aad, Sei. I8\\nd, 71 Nn. 4, pp, 414 ...</td>\n",
       "    </tr>\n",
       "    <tr>\n",
       "      <th>3</th>\n",
       "      <td>doc_000501.png</td>\n",
       "      <td>GRANT NUMBER:\\nBIOGRAPHICAL SKETCH\\nGive the f...</td>\n",
       "    </tr>\n",
       "    <tr>\n",
       "      <th>4</th>\n",
       "      <td>doc_000534.png</td>\n",
       "      <td>DEFENDANT'S\\nWORLDHEALTH ORGANIZATION\\nDJI-255...</td>\n",
       "    </tr>\n",
       "  </tbody>\n",
       "</table>\n",
       "</div>"
      ],
      "text/plain": [
       "         img_file                                           ocr_text\n",
       "0  doc_000091.png  PETER A.DANELO\\nShareholder, Seattle Office\\nP...\n",
       "1  doc_000072.png  CLARKE\\n1\\nName: Paul Brian Sydenham CLARKE\\nP...\n",
       "2  doc_000128.png  Pror, Xot. Aad, Sei. I8\\nd, 71 Nn. 4, pp, 414 ...\n",
       "3  doc_000501.png  GRANT NUMBER:\\nBIOGRAPHICAL SKETCH\\nGive the f...\n",
       "4  doc_000534.png  DEFENDANT'S\\nWORLDHEALTH ORGANIZATION\\nDJI-255..."
      ]
     },
     "execution_count": 45,
     "metadata": {},
     "output_type": "execute_result"
    }
   ],
   "source": [
    "df_res_train.head()"
   ]
  },
  {
   "cell_type": "code",
   "execution_count": 49,
   "id": "d1977fe2-1d8d-4c8b-888f-15faa82cc41a",
   "metadata": {},
   "outputs": [
    {
     "data": {
      "text/plain": [
       "((135, 4), (30, 4))"
      ]
     },
     "execution_count": 49,
     "metadata": {},
     "output_type": "execute_result"
    }
   ],
   "source": [
    "df_train_ocr = pd.concat([df_train, df_res_train], axis=1)\n",
    "df_test_ocr = pd.concat([df_test, df_res_test], axis=1)\n",
    "\n",
    "df_train_ocr.shape, df_test_ocr.shape"
   ]
  },
  {
   "cell_type": "code",
   "execution_count": 51,
   "id": "b86c7527-66f7-4ddc-a0de-799bf4994932",
   "metadata": {},
   "outputs": [
    {
     "data": {
      "text/html": [
       "<div>\n",
       "<style scoped>\n",
       "    .dataframe tbody tr th:only-of-type {\n",
       "        vertical-align: middle;\n",
       "    }\n",
       "\n",
       "    .dataframe tbody tr th {\n",
       "        vertical-align: top;\n",
       "    }\n",
       "\n",
       "    .dataframe thead th {\n",
       "        text-align: right;\n",
       "    }\n",
       "</style>\n",
       "<table border=\"1\" class=\"dataframe\">\n",
       "  <thead>\n",
       "    <tr style=\"text-align: right;\">\n",
       "      <th></th>\n",
       "      <th>image</th>\n",
       "      <th>class</th>\n",
       "      <th>img_file</th>\n",
       "      <th>ocr_text</th>\n",
       "    </tr>\n",
       "  </thead>\n",
       "  <tbody>\n",
       "    <tr>\n",
       "      <th>0</th>\n",
       "      <td>images/doc_000091.png</td>\n",
       "      <td>resume</td>\n",
       "      <td>doc_000091.png</td>\n",
       "      <td>PETER A.DANELO\\nShareholder, Seattle Office\\nP...</td>\n",
       "    </tr>\n",
       "    <tr>\n",
       "      <th>1</th>\n",
       "      <td>images/doc_000072.png</td>\n",
       "      <td>resume</td>\n",
       "      <td>doc_000072.png</td>\n",
       "      <td>CLARKE\\n1\\nName: Paul Brian Sydenham CLARKE\\nP...</td>\n",
       "    </tr>\n",
       "    <tr>\n",
       "      <th>2</th>\n",
       "      <td>images/doc_000128.png</td>\n",
       "      <td>scientific_publication</td>\n",
       "      <td>doc_000128.png</td>\n",
       "      <td>Pror, Xot. Aad, Sei. I8\\nd, 71 Nn. 4, pp, 414 ...</td>\n",
       "    </tr>\n",
       "    <tr>\n",
       "      <th>3</th>\n",
       "      <td>images/doc_000501.png</td>\n",
       "      <td>resume</td>\n",
       "      <td>doc_000501.png</td>\n",
       "      <td>GRANT NUMBER:\\nBIOGRAPHICAL SKETCH\\nGive the f...</td>\n",
       "    </tr>\n",
       "    <tr>\n",
       "      <th>4</th>\n",
       "      <td>images/doc_000534.png</td>\n",
       "      <td>scientific_publication</td>\n",
       "      <td>doc_000534.png</td>\n",
       "      <td>DEFENDANT'S\\nWORLDHEALTH ORGANIZATION\\nDJI-255...</td>\n",
       "    </tr>\n",
       "  </tbody>\n",
       "</table>\n",
       "</div>"
      ],
      "text/plain": [
       "                   image                   class        img_file  \\\n",
       "0  images/doc_000091.png                  resume  doc_000091.png   \n",
       "1  images/doc_000072.png                  resume  doc_000072.png   \n",
       "2  images/doc_000128.png  scientific_publication  doc_000128.png   \n",
       "3  images/doc_000501.png                  resume  doc_000501.png   \n",
       "4  images/doc_000534.png  scientific_publication  doc_000534.png   \n",
       "\n",
       "                                            ocr_text  \n",
       "0  PETER A.DANELO\\nShareholder, Seattle Office\\nP...  \n",
       "1  CLARKE\\n1\\nName: Paul Brian Sydenham CLARKE\\nP...  \n",
       "2  Pror, Xot. Aad, Sei. I8\\nd, 71 Nn. 4, pp, 414 ...  \n",
       "3  GRANT NUMBER:\\nBIOGRAPHICAL SKETCH\\nGive the f...  \n",
       "4  DEFENDANT'S\\nWORLDHEALTH ORGANIZATION\\nDJI-255...  "
      ]
     },
     "execution_count": 51,
     "metadata": {},
     "output_type": "execute_result"
    }
   ],
   "source": [
    "df_train_ocr.head()"
   ]
  },
  {
   "cell_type": "code",
   "execution_count": 56,
   "id": "5d5b14ff-c05f-4222-8c39-60a6041df0c4",
   "metadata": {},
   "outputs": [],
   "source": [
    "#df_train_ocr"
   ]
  },
  {
   "cell_type": "code",
   "execution_count": 53,
   "id": "8d80eb0e-53e7-4570-a313-96bb1391a666",
   "metadata": {},
   "outputs": [],
   "source": [
    "#df_test_ocr"
   ]
  },
  {
   "cell_type": "code",
   "execution_count": 57,
   "id": "a95a6e46-ed19-4d39-b5f0-c53b7d3591ad",
   "metadata": {},
   "outputs": [],
   "source": [
    "df_train_ocr.to_csv('DAI_document_classification_TRAIN_ocr.csv', index=False)\n",
    "df_test_ocr.to_csv('DAI_document_classification_TEST_ocr.csv', index=False)"
   ]
  },
  {
   "cell_type": "code",
   "execution_count": null,
   "id": "267649d1-c0c3-4b61-92d5-93e688511277",
   "metadata": {},
   "outputs": [],
   "source": []
  }
 ],
 "metadata": {
  "kernelspec": {
   "display_name": "Python 3 (ipykernel)",
   "language": "python",
   "name": "python3"
  },
  "language_info": {
   "codemirror_mode": {
    "name": "ipython",
    "version": 3
   },
   "file_extension": ".py",
   "mimetype": "text/x-python",
   "name": "python",
   "nbconvert_exporter": "python",
   "pygments_lexer": "ipython3",
   "version": "3.10.14"
  }
 },
 "nbformat": 4,
 "nbformat_minor": 5
}
