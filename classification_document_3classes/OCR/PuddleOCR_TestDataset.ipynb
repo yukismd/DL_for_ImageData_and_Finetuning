{
 "cells": [
  {
   "cell_type": "code",
   "execution_count": null,
   "id": "a6da85f4-a785-4fec-888c-0198494920d6",
   "metadata": {},
   "outputs": [],
   "source": []
  },
  {
   "cell_type": "code",
   "execution_count": 17,
   "id": "4e7c2efe-354a-43ca-b6be-9c442d810425",
   "metadata": {},
   "outputs": [],
   "source": [
    "import pandas as pd\n",
    "#from PIL import Image\n",
    "from paddleocr import PaddleOCR\n",
    "\n",
    "import pickle"
   ]
  },
  {
   "cell_type": "code",
   "execution_count": 2,
   "id": "314fc18a-19fb-40a1-95b3-992bfd2ff609",
   "metadata": {},
   "outputs": [
    {
     "name": "stdout",
     "output_type": "stream",
     "text": [
      "data.csv \u001b[34mimages\u001b[m\u001b[m\n"
     ]
    }
   ],
   "source": [
    "!ls ../tmp/DAI_document_classification_TEST"
   ]
  },
  {
   "cell_type": "code",
   "execution_count": 3,
   "id": "432111c6-3330-4ebd-a0d3-c005064950dd",
   "metadata": {},
   "outputs": [
    {
     "name": "stdout",
     "output_type": "stream",
     "text": [
      "(30, 2)\n"
     ]
    },
    {
     "data": {
      "text/html": [
       "<div>\n",
       "<style scoped>\n",
       "    .dataframe tbody tr th:only-of-type {\n",
       "        vertical-align: middle;\n",
       "    }\n",
       "\n",
       "    .dataframe tbody tr th {\n",
       "        vertical-align: top;\n",
       "    }\n",
       "\n",
       "    .dataframe thead th {\n",
       "        text-align: right;\n",
       "    }\n",
       "</style>\n",
       "<table border=\"1\" class=\"dataframe\">\n",
       "  <thead>\n",
       "    <tr style=\"text-align: right;\">\n",
       "      <th></th>\n",
       "      <th>image</th>\n",
       "      <th>class</th>\n",
       "    </tr>\n",
       "  </thead>\n",
       "  <tbody>\n",
       "    <tr>\n",
       "      <th>0</th>\n",
       "      <td>images/doc_000832.png</td>\n",
       "      <td>scientific_publication</td>\n",
       "    </tr>\n",
       "    <tr>\n",
       "      <th>1</th>\n",
       "      <td>images/doc_000076.png</td>\n",
       "      <td>email</td>\n",
       "    </tr>\n",
       "    <tr>\n",
       "      <th>2</th>\n",
       "      <td>images/doc_000584.png</td>\n",
       "      <td>scientific_publication</td>\n",
       "    </tr>\n",
       "    <tr>\n",
       "      <th>3</th>\n",
       "      <td>images/doc_000101.png</td>\n",
       "      <td>resume</td>\n",
       "    </tr>\n",
       "    <tr>\n",
       "      <th>4</th>\n",
       "      <td>images/doc_000279.png</td>\n",
       "      <td>email</td>\n",
       "    </tr>\n",
       "  </tbody>\n",
       "</table>\n",
       "</div>"
      ],
      "text/plain": [
       "                   image                   class\n",
       "0  images/doc_000832.png  scientific_publication\n",
       "1  images/doc_000076.png                   email\n",
       "2  images/doc_000584.png  scientific_publication\n",
       "3  images/doc_000101.png                  resume\n",
       "4  images/doc_000279.png                   email"
      ]
     },
     "execution_count": 3,
     "metadata": {},
     "output_type": "execute_result"
    }
   ],
   "source": [
    "df = pd.read_csv('../tmp/DAI_document_classification_TEST/data.csv')\n",
    "print(df.shape)\n",
    "df.head()"
   ]
  },
  {
   "cell_type": "code",
   "execution_count": 4,
   "id": "f077597d-07ec-44b5-a156-0048bff214aa",
   "metadata": {},
   "outputs": [],
   "source": [
    "img_dir = '../tmp/DAI_document_classification_TEST/'"
   ]
  },
  {
   "cell_type": "code",
   "execution_count": 13,
   "id": "d96e25ee-699f-4497-bccb-c886169a7622",
   "metadata": {},
   "outputs": [
    {
     "name": "stdout",
     "output_type": "stream",
     "text": [
      "[2024/11/30 09:51:34] ppocr DEBUG: Namespace(alpha=1.0, alphacolor=(255, 255, 255), benchmark=False, beta=1.0, binarize=False, cls_batch_num=6, cls_image_shape='3, 48, 192', cls_model_dir='/Users/YShimada-MBP16/.paddleocr/whl/cls/ch_ppocr_mobile_v2.0_cls_infer', cls_thresh=0.9, cpu_threads=10, crop_res_save_dir='./output', det=True, det_algorithm='DB', det_box_type='quad', det_db_box_thresh=0.6, det_db_score_mode='fast', det_db_thresh=0.3, det_db_unclip_ratio=1.5, det_east_cover_thresh=0.1, det_east_nms_thresh=0.2, det_east_score_thresh=0.8, det_limit_side_len=960, det_limit_type='max', det_model_dir='/Users/YShimada-MBP16/.paddleocr/whl/det/en/en_PP-OCRv3_det_infer', det_pse_box_thresh=0.85, det_pse_min_area=16, det_pse_scale=1, det_pse_thresh=0, det_sast_nms_thresh=0.2, det_sast_score_thresh=0.5, draw_img_save_dir='./inference_results', drop_score=0.5, e2e_algorithm='PGNet', e2e_char_dict_path='./ppocr/utils/ic15_dict.txt', e2e_limit_side_len=768, e2e_limit_type='max', e2e_model_dir=None, e2e_pgnet_mode='fast', e2e_pgnet_score_thresh=0.5, e2e_pgnet_valid_set='totaltext', enable_mkldnn=False, fourier_degree=5, gpu_id=0, gpu_mem=500, help='==SUPPRESS==', image_dir=None, image_orientation=False, invert=False, ir_optim=True, kie_algorithm='LayoutXLM', label_list=['0', '180'], lang='en', layout=True, layout_dict_path=None, layout_model_dir=None, layout_nms_threshold=0.5, layout_score_threshold=0.5, max_batch_size=10, max_text_length=25, merge_no_span_structure=True, min_subgraph_size=15, mode='structure', ocr=True, ocr_order_method=None, ocr_version='PP-OCRv4', output='./output', page_num=0, precision='fp32', process_id=0, re_model_dir=None, rec=True, rec_algorithm='SVTR_LCNet', rec_batch_num=6, rec_char_dict_path='/opt/anaconda3/envs/OCR/lib/python3.8/site-packages/paddleocr/ppocr/utils/en_dict.txt', rec_image_inverse=True, rec_image_shape='3, 48, 320', rec_model_dir='/Users/YShimada-MBP16/.paddleocr/whl/rec/en/en_PP-OCRv4_rec_infer', recovery=False, save_crop_res=False, save_log_path='./log_output/', scales=[8, 16, 32], ser_dict_path='../train_data/XFUND/class_list_xfun.txt', ser_model_dir=None, show_log=True, sr_batch_num=1, sr_image_shape='3, 32, 128', sr_model_dir=None, structure_version='PP-StructureV2', table=True, table_algorithm='TableAttn', table_char_dict_path=None, table_max_len=488, table_model_dir=None, total_process_num=1, type='ocr', use_angle_cls=True, use_dilation=False, use_gpu=False, use_mp=False, use_npu=False, use_onnx=False, use_pdf2docx_api=False, use_pdserving=False, use_space_char=True, use_tensorrt=False, use_visual_backbone=True, use_xpu=False, vis_font_path='./doc/fonts/simfang.ttf', warmup=False)\n"
     ]
    }
   ],
   "source": [
    "ocr = PaddleOCR(use_angle_cls=True, lang='en')"
   ]
  },
  {
   "cell_type": "code",
   "execution_count": 15,
   "id": "c0f0fc54-7807-4be3-9403-dfec238108ba",
   "metadata": {
    "scrolled": true
   },
   "outputs": [
    {
     "name": "stdout",
     "output_type": "stream",
     "text": [
      "START >>  ../tmp/DAI_document_classification_TEST/images/doc_000832.png\n",
      "[2024/11/30 09:53:25] ppocr DEBUG: dt_boxes num : 120, elapsed : 0.5305202007293701\n",
      "[2024/11/30 09:53:26] ppocr DEBUG: cls num  : 120, elapsed : 0.8512904644012451\n",
      "[2024/11/30 09:53:59] ppocr DEBUG: rec_res num  : 120, elapsed : 32.341805934906006\n",
      "START >>  ../tmp/DAI_document_classification_TEST/images/doc_000076.png\n",
      "[2024/11/30 09:53:59] ppocr DEBUG: dt_boxes num : 25, elapsed : 0.4917948246002197\n",
      "[2024/11/30 09:53:59] ppocr DEBUG: cls num  : 25, elapsed : 0.22636985778808594\n",
      "[2024/11/30 09:54:06] ppocr DEBUG: rec_res num  : 25, elapsed : 6.197116136550903\n",
      "START >>  ../tmp/DAI_document_classification_TEST/images/doc_000584.png\n",
      "[2024/11/30 09:54:06] ppocr DEBUG: dt_boxes num : 95, elapsed : 0.5091309547424316\n",
      "[2024/11/30 09:54:07] ppocr DEBUG: cls num  : 95, elapsed : 0.7592716217041016\n",
      "[2024/11/30 09:54:24] ppocr DEBUG: rec_res num  : 95, elapsed : 17.08347797393799\n",
      "START >>  ../tmp/DAI_document_classification_TEST/images/doc_000101.png\n",
      "[2024/11/30 09:54:24] ppocr DEBUG: dt_boxes num : 76, elapsed : 0.5049920082092285\n",
      "[2024/11/30 09:54:25] ppocr DEBUG: cls num  : 76, elapsed : 0.6514172554016113\n",
      "[2024/11/30 09:54:45] ppocr DEBUG: rec_res num  : 76, elapsed : 19.90231990814209\n",
      "START >>  ../tmp/DAI_document_classification_TEST/images/doc_000279.png\n",
      "[2024/11/30 09:54:45] ppocr DEBUG: dt_boxes num : 10, elapsed : 0.45888686180114746\n",
      "[2024/11/30 09:54:46] ppocr DEBUG: cls num  : 10, elapsed : 0.08779120445251465\n",
      "[2024/11/30 09:54:48] ppocr DEBUG: rec_res num  : 10, elapsed : 2.6672918796539307\n",
      "START >>  ../tmp/DAI_document_classification_TEST/images/doc_000248.png\n",
      "[2024/11/30 09:54:49] ppocr DEBUG: dt_boxes num : 92, elapsed : 0.5022792816162109\n",
      "[2024/11/30 09:54:49] ppocr DEBUG: cls num  : 92, elapsed : 0.7164928913116455\n",
      "[2024/11/30 09:55:12] ppocr DEBUG: rec_res num  : 92, elapsed : 22.96092391014099\n",
      "START >>  ../tmp/DAI_document_classification_TEST/images/doc_000802.png\n",
      "[2024/11/30 09:55:13] ppocr DEBUG: dt_boxes num : 64, elapsed : 0.45896124839782715\n",
      "[2024/11/30 09:55:13] ppocr DEBUG: cls num  : 64, elapsed : 0.4634737968444824\n",
      "[2024/11/30 09:55:29] ppocr DEBUG: rec_res num  : 64, elapsed : 15.594473123550415\n",
      "START >>  ../tmp/DAI_document_classification_TEST/images/doc_000089.png\n",
      "[2024/11/30 09:55:30] ppocr DEBUG: dt_boxes num : 76, elapsed : 0.5999248027801514\n",
      "[2024/11/30 09:55:30] ppocr DEBUG: cls num  : 76, elapsed : 0.5245156288146973\n",
      "[2024/11/30 09:55:50] ppocr DEBUG: rec_res num  : 76, elapsed : 19.959106922149658\n",
      "START >>  ../tmp/DAI_document_classification_TEST/images/doc_000097.png\n",
      "[2024/11/30 09:55:51] ppocr DEBUG: dt_boxes num : 4, elapsed : 0.45554375648498535\n",
      "[2024/11/30 09:55:51] ppocr DEBUG: cls num  : 4, elapsed : 0.04162001609802246\n",
      "[2024/11/30 09:55:51] ppocr DEBUG: rec_res num  : 4, elapsed : 0.45126819610595703\n",
      "START >>  ../tmp/DAI_document_classification_TEST/images/doc_000509.png\n",
      "[2024/11/30 09:55:52] ppocr DEBUG: dt_boxes num : 87, elapsed : 0.5056321620941162\n",
      "[2024/11/30 09:55:52] ppocr DEBUG: cls num  : 87, elapsed : 0.6922717094421387\n",
      "[2024/11/30 09:56:15] ppocr DEBUG: rec_res num  : 87, elapsed : 22.518587112426758\n",
      "START >>  ../tmp/DAI_document_classification_TEST/images/doc_000550.png\n",
      "[2024/11/30 09:56:15] ppocr DEBUG: dt_boxes num : 11, elapsed : 0.4734058380126953\n",
      "[2024/11/30 09:56:15] ppocr DEBUG: cls num  : 11, elapsed : 0.09990167617797852\n",
      "[2024/11/30 09:56:18] ppocr DEBUG: rec_res num  : 11, elapsed : 2.385178804397583\n",
      "START >>  ../tmp/DAI_document_classification_TEST/images/doc_000349.png\n",
      "[2024/11/30 09:56:18] ppocr DEBUG: dt_boxes num : 77, elapsed : 0.49527907371520996\n",
      "[2024/11/30 09:56:19] ppocr DEBUG: cls num  : 77, elapsed : 0.5710909366607666\n",
      "[2024/11/30 09:56:36] ppocr DEBUG: rec_res num  : 77, elapsed : 16.94742703437805\n",
      "START >>  ../tmp/DAI_document_classification_TEST/images/doc_000596.png\n",
      "[2024/11/30 09:56:36] ppocr DEBUG: dt_boxes num : 11, elapsed : 0.46126794815063477\n",
      "[2024/11/30 09:56:36] ppocr DEBUG: cls num  : 11, elapsed : 0.08283185958862305\n",
      "[2024/11/30 09:56:38] ppocr DEBUG: rec_res num  : 11, elapsed : 1.343130111694336\n",
      "START >>  ../tmp/DAI_document_classification_TEST/images/doc_000070.png\n",
      "[2024/11/30 09:56:38] ppocr DEBUG: dt_boxes num : 69, elapsed : 0.5140540599822998\n",
      "[2024/11/30 09:56:39] ppocr DEBUG: cls num  : 69, elapsed : 0.5631909370422363\n",
      "[2024/11/30 09:56:52] ppocr DEBUG: rec_res num  : 69, elapsed : 13.595919847488403\n",
      "START >>  ../tmp/DAI_document_classification_TEST/images/doc_000485.png\n",
      "[2024/11/30 09:56:53] ppocr DEBUG: dt_boxes num : 10, elapsed : 0.4653780460357666\n",
      "[2024/11/30 09:56:53] ppocr DEBUG: cls num  : 10, elapsed : 0.09213924407958984\n",
      "[2024/11/30 09:56:54] ppocr DEBUG: rec_res num  : 10, elapsed : 1.0009939670562744\n",
      "START >>  ../tmp/DAI_document_classification_TEST/images/doc_000655.png\n",
      "[2024/11/30 09:56:54] ppocr DEBUG: dt_boxes num : 14, elapsed : 0.45989990234375\n",
      "[2024/11/30 09:56:55] ppocr DEBUG: cls num  : 14, elapsed : 0.10716915130615234\n",
      "[2024/11/30 09:56:56] ppocr DEBUG: rec_res num  : 14, elapsed : 1.3994128704071045\n",
      "START >>  ../tmp/DAI_document_classification_TEST/images/doc_000513.png\n",
      "[2024/11/30 09:56:56] ppocr DEBUG: dt_boxes num : 91, elapsed : 0.4968881607055664\n",
      "[2024/11/30 09:56:57] ppocr DEBUG: cls num  : 91, elapsed : 0.6552984714508057\n",
      "[2024/11/30 09:57:20] ppocr DEBUG: rec_res num  : 91, elapsed : 22.480821132659912\n",
      "START >>  ../tmp/DAI_document_classification_TEST/images/doc_000674.png\n",
      "[2024/11/30 09:57:20] ppocr DEBUG: dt_boxes num : 97, elapsed : 0.4979541301727295\n",
      "[2024/11/30 09:57:21] ppocr DEBUG: cls num  : 97, elapsed : 0.727003812789917\n",
      "[2024/11/30 09:57:42] ppocr DEBUG: rec_res num  : 97, elapsed : 21.12787413597107\n",
      "START >>  ../tmp/DAI_document_classification_TEST/images/doc_000175.png\n",
      "[2024/11/30 09:57:42] ppocr DEBUG: dt_boxes num : 48, elapsed : 0.46139097213745117\n",
      "[2024/11/30 09:57:43] ppocr DEBUG: cls num  : 48, elapsed : 0.3699159622192383\n",
      "[2024/11/30 09:57:54] ppocr DEBUG: rec_res num  : 48, elapsed : 11.329052925109863\n",
      "START >>  ../tmp/DAI_document_classification_TEST/images/doc_000864.png\n",
      "[2024/11/30 09:57:55] ppocr DEBUG: dt_boxes num : 72, elapsed : 0.48555588722229004\n",
      "[2024/11/30 09:57:55] ppocr DEBUG: cls num  : 72, elapsed : 0.5573117733001709\n",
      "[2024/11/30 09:58:16] ppocr DEBUG: rec_res num  : 72, elapsed : 20.616506814956665\n",
      "START >>  ../tmp/DAI_document_classification_TEST/images/doc_000281.png\n",
      "[2024/11/30 09:58:16] ppocr DEBUG: dt_boxes num : 79, elapsed : 0.4665961265563965\n",
      "[2024/11/30 09:58:17] ppocr DEBUG: cls num  : 79, elapsed : 0.5461232662200928\n",
      "[2024/11/30 09:58:37] ppocr DEBUG: rec_res num  : 79, elapsed : 19.789496898651123\n",
      "START >>  ../tmp/DAI_document_classification_TEST/images/doc_000016.png\n",
      "[2024/11/30 09:58:37] ppocr DEBUG: dt_boxes num : 140, elapsed : 0.5209159851074219\n",
      "[2024/11/30 09:58:38] ppocr DEBUG: cls num  : 140, elapsed : 1.029742956161499\n",
      "[2024/11/30 09:59:03] ppocr DEBUG: rec_res num  : 140, elapsed : 24.6145761013031\n",
      "START >>  ../tmp/DAI_document_classification_TEST/images/doc_000558.png\n",
      "[2024/11/30 09:59:03] ppocr DEBUG: dt_boxes num : 15, elapsed : 0.4557046890258789\n",
      "[2024/11/30 09:59:03] ppocr DEBUG: cls num  : 15, elapsed : 0.12062478065490723\n",
      "[2024/11/30 09:59:06] ppocr DEBUG: rec_res num  : 15, elapsed : 2.371034860610962\n",
      "START >>  ../tmp/DAI_document_classification_TEST/images/doc_000130.png\n",
      "[2024/11/30 09:59:06] ppocr DEBUG: dt_boxes num : 94, elapsed : 0.4944431781768799\n",
      "[2024/11/30 09:59:07] ppocr DEBUG: cls num  : 94, elapsed : 0.6678922176361084\n",
      "[2024/11/30 09:59:27] ppocr DEBUG: rec_res num  : 94, elapsed : 19.63401699066162\n",
      "START >>  ../tmp/DAI_document_classification_TEST/images/doc_000363.png\n",
      "[2024/11/30 09:59:27] ppocr DEBUG: dt_boxes num : 13, elapsed : 0.4460182189941406\n",
      "[2024/11/30 09:59:27] ppocr DEBUG: cls num  : 13, elapsed : 0.10757589340209961\n",
      "[2024/11/30 09:59:29] ppocr DEBUG: rec_res num  : 13, elapsed : 1.547940969467163\n",
      "START >>  ../tmp/DAI_document_classification_TEST/images/doc_000045.png\n",
      "[2024/11/30 09:59:29] ppocr DEBUG: dt_boxes num : 110, elapsed : 0.5128791332244873\n",
      "[2024/11/30 09:59:30] ppocr DEBUG: cls num  : 110, elapsed : 0.8377208709716797\n",
      "[2024/11/30 09:59:56] ppocr DEBUG: rec_res num  : 110, elapsed : 26.18990993499756\n",
      "START >>  ../tmp/DAI_document_classification_TEST/images/doc_000551.png\n",
      "[2024/11/30 09:59:57] ppocr DEBUG: dt_boxes num : 78, elapsed : 0.48900508880615234\n",
      "[2024/11/30 09:59:57] ppocr DEBUG: cls num  : 78, elapsed : 0.6081759929656982\n",
      "[2024/11/30 10:00:15] ppocr DEBUG: rec_res num  : 78, elapsed : 18.02805495262146\n",
      "START >>  ../tmp/DAI_document_classification_TEST/images/doc_000297.png\n",
      "[2024/11/30 10:00:16] ppocr DEBUG: dt_boxes num : 40, elapsed : 0.47785520553588867\n",
      "[2024/11/30 10:00:16] ppocr DEBUG: cls num  : 40, elapsed : 0.3159005641937256\n",
      "[2024/11/30 10:00:25] ppocr DEBUG: rec_res num  : 40, elapsed : 8.846670866012573\n",
      "START >>  ../tmp/DAI_document_classification_TEST/images/doc_000402.png\n",
      "[2024/11/30 10:00:26] ppocr DEBUG: dt_boxes num : 72, elapsed : 0.45291590690612793\n",
      "[2024/11/30 10:00:26] ppocr DEBUG: cls num  : 72, elapsed : 0.5244762897491455\n",
      "[2024/11/30 10:00:46] ppocr DEBUG: rec_res num  : 72, elapsed : 20.206414937973022\n",
      "START >>  ../tmp/DAI_document_classification_TEST/images/doc_000745.png\n",
      "[2024/11/30 10:00:47] ppocr DEBUG: dt_boxes num : 17, elapsed : 0.43341493606567383\n",
      "[2024/11/30 10:00:47] ppocr DEBUG: cls num  : 17, elapsed : 0.11979103088378906\n",
      "[2024/11/30 10:00:51] ppocr DEBUG: rec_res num  : 17, elapsed : 3.745591878890991\n",
      "CPU times: user 7min 17s, sys: 7.87 s, total: 7min 25s\n",
      "Wall time: 7min 25s\n"
     ]
    },
    {
     "data": {
      "text/plain": [
       "30"
      ]
     },
     "execution_count": 15,
     "metadata": {},
     "output_type": "execute_result"
    }
   ],
   "source": [
    "%%time\n",
    "\n",
    "all_scripts = {}\n",
    "for img in df['image']:\n",
    "    img_name = img.split('/')[1]\n",
    "    img_path = img_dir + img\n",
    "    print('START >> ', img_path)\n",
    "    \n",
    "    result = ocr.ocr(img_path, cls=True)   # Detection + Classification + Recognition\n",
    "    \n",
    "    script = []\n",
    "    \n",
    "    for idx in range(len(result)):\n",
    "        res = result[idx]\n",
    "        for line in res:\n",
    "            #print(line[1][0])\n",
    "            script.append(line[1][0])   # 認識文字のみ取得\n",
    "            \n",
    "    all_scripts[img_name] = script\n",
    "\n",
    "len(all_scripts)"
   ]
  },
  {
   "cell_type": "code",
   "execution_count": 18,
   "id": "22592dcf-f45c-4978-86e3-e72cbcac8f53",
   "metadata": {
    "scrolled": true
   },
   "outputs": [],
   "source": [
    "#all_scripts"
   ]
  },
  {
   "cell_type": "code",
   "execution_count": 19,
   "id": "f0464696-e873-4ee0-a267-9a8323f56d8f",
   "metadata": {},
   "outputs": [],
   "source": [
    "path = 'outputs/ocr_res_test.pkl'\n",
    "with open(path, mode='wb') as f:\n",
    "    pickle.dump(all_scripts,f)"
   ]
  },
  {
   "cell_type": "code",
   "execution_count": 23,
   "id": "3256313e-42e4-4c43-a560-3203e864a3a4",
   "metadata": {},
   "outputs": [
    {
     "data": {
      "text/plain": [
       "\"\\nwith open(path, mode='rb') as f:\\n    tmp = pickle.load(f)\\n\""
      ]
     },
     "execution_count": 23,
     "metadata": {},
     "output_type": "execute_result"
    }
   ],
   "source": [
    "'''\n",
    "with open(path, mode='rb') as f:\n",
    "    tmp = pickle.load(f)\n",
    "'''"
   ]
  },
  {
   "cell_type": "code",
   "execution_count": null,
   "id": "c771f10a-f8b8-4260-a770-44e7a3609470",
   "metadata": {},
   "outputs": [],
   "source": []
  }
 ],
 "metadata": {
  "kernelspec": {
   "display_name": "Python 3 (ipykernel)",
   "language": "python",
   "name": "python3"
  },
  "language_info": {
   "codemirror_mode": {
    "name": "ipython",
    "version": 3
   },
   "file_extension": ".py",
   "mimetype": "text/x-python",
   "name": "python",
   "nbconvert_exporter": "python",
   "pygments_lexer": "ipython3",
   "version": "3.10.14"
  }
 },
 "nbformat": 4,
 "nbformat_minor": 5
}
