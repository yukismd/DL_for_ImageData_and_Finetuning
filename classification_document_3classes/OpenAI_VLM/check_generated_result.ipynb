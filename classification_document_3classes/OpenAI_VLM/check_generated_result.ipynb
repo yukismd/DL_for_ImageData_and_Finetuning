{
 "cells": [
  {
   "cell_type": "code",
   "execution_count": null,
   "id": "3a91abc0-14a7-41ee-8c0b-206c7a34670e",
   "metadata": {},
   "outputs": [],
   "source": []
  },
  {
   "cell_type": "code",
   "execution_count": 1,
   "id": "f0ea6dbc-b53b-46fd-b692-dde22de7f684",
   "metadata": {},
   "outputs": [],
   "source": [
    "import pandas as pd\n",
    "import numpy as np\n",
    "from sklearn.metrics import confusion_matrix, ConfusionMatrixDisplay\n",
    "import matplotlib.pyplot as plt"
   ]
  },
  {
   "cell_type": "code",
   "execution_count": 2,
   "id": "74cf9acb-3803-497f-a8b1-68345907070a",
   "metadata": {},
   "outputs": [
    {
     "name": "stdout",
     "output_type": "stream",
     "text": [
      "gpt-4o-mini_result.csv\n"
     ]
    }
   ],
   "source": [
    "!ls prediction"
   ]
  },
  {
   "cell_type": "code",
   "execution_count": 3,
   "id": "c857d768-e114-49a3-8c13-f39366d0adb4",
   "metadata": {},
   "outputs": [
    {
     "name": "stdout",
     "output_type": "stream",
     "text": [
      "(30, 2)\n"
     ]
    },
    {
     "data": {
      "text/html": [
       "<div>\n",
       "<style scoped>\n",
       "    .dataframe tbody tr th:only-of-type {\n",
       "        vertical-align: middle;\n",
       "    }\n",
       "\n",
       "    .dataframe tbody tr th {\n",
       "        vertical-align: top;\n",
       "    }\n",
       "\n",
       "    .dataframe thead th {\n",
       "        text-align: right;\n",
       "    }\n",
       "</style>\n",
       "<table border=\"1\" class=\"dataframe\">\n",
       "  <thead>\n",
       "    <tr style=\"text-align: right;\">\n",
       "      <th></th>\n",
       "      <th>image_id</th>\n",
       "      <th>Extract the type of the image, categorizing it as 'email', 'resume' or 'scientific_publication'. Type:</th>\n",
       "    </tr>\n",
       "  </thead>\n",
       "  <tbody>\n",
       "    <tr>\n",
       "      <th>25</th>\n",
       "      <td>doc_000097.png</td>\n",
       "      <td>The type of the image is categorized as 'scien...</td>\n",
       "    </tr>\n",
       "    <tr>\n",
       "      <th>26</th>\n",
       "      <td>doc_000281.png</td>\n",
       "      <td>The type of the image is categorized as 'resume'.</td>\n",
       "    </tr>\n",
       "    <tr>\n",
       "      <th>27</th>\n",
       "      <td>doc_000509.png</td>\n",
       "      <td>The type of the image is: **scientific_publica...</td>\n",
       "    </tr>\n",
       "    <tr>\n",
       "      <th>28</th>\n",
       "      <td>doc_000596.png</td>\n",
       "      <td>The type of the image is 'email'.</td>\n",
       "    </tr>\n",
       "    <tr>\n",
       "      <th>29</th>\n",
       "      <td>doc_000864.png</td>\n",
       "      <td>The type of the image is 'scientific_publicati...</td>\n",
       "    </tr>\n",
       "  </tbody>\n",
       "</table>\n",
       "</div>"
      ],
      "text/plain": [
       "          image_id  \\\n",
       "25  doc_000097.png   \n",
       "26  doc_000281.png   \n",
       "27  doc_000509.png   \n",
       "28  doc_000596.png   \n",
       "29  doc_000864.png   \n",
       "\n",
       "   Extract the type of the image, categorizing it as 'email', 'resume' or 'scientific_publication'. Type:  \n",
       "25  The type of the image is categorized as 'scien...                                                      \n",
       "26  The type of the image is categorized as 'resume'.                                                      \n",
       "27  The type of the image is: **scientific_publica...                                                      \n",
       "28                  The type of the image is 'email'.                                                      \n",
       "29  The type of the image is 'scientific_publicati...                                                      "
      ]
     },
     "execution_count": 3,
     "metadata": {},
     "output_type": "execute_result"
    }
   ],
   "source": [
    "df = pd.read_csv('prediction/gpt-4o-mini_result.csv')\n",
    "print(df.shape)\n",
    "df.tail()"
   ]
  },
  {
   "cell_type": "code",
   "execution_count": 5,
   "id": "3952eeb9-2b71-4634-be59-32437ccb2e24",
   "metadata": {},
   "outputs": [
    {
     "data": {
      "text/plain": [
       "The type of the image is 'email'.                                    4\n",
       "The type of the image is categorized as 'resume'.                    3\n",
       "Type: email                                                          3\n",
       "The type of the image is: **scientific_publication**.                3\n",
       "The type of the image is categorized as 'scientific_publication'.    3\n",
       "Type: scientific_publication                                         2\n",
       "type: email                                                          1\n",
       "The type of the image can be categorized as 'resume'.                1\n",
       "The type of the image is classified as 'resume'.                     1\n",
       "scientific_publication                                               1\n",
       "The type of the image is 'resume'.                                   1\n",
       "The type of the image is categorized as **email**.                   1\n",
       "The image type is categorized as a **resume**.                       1\n",
       "The type of the image is categorized as a 'resume'.                  1\n",
       "The image type is: scientific_publication.                           1\n",
       "The type of the image is categorized as 'email'.                     1\n",
       "The image type is categorized as 'scientific_publication'.           1\n",
       "The type of the image is 'scientific_publication'.                   1\n",
       "Name: Extract the type of the image, categorizing it as 'email', 'resume' or 'scientific_publication'. Type:, dtype: int64"
      ]
     },
     "execution_count": 5,
     "metadata": {},
     "output_type": "execute_result"
    }
   ],
   "source": [
    "df[\"Extract the type of the image, categorizing it as 'email', 'resume' or 'scientific_publication'. Type:\"].value_counts()"
   ]
  },
  {
   "cell_type": "code",
   "execution_count": 9,
   "id": "9e509057-aca3-4cd1-9739-19786b731683",
   "metadata": {},
   "outputs": [
    {
     "data": {
      "text/plain": [
       "['scientific_publication',\n",
       " 'scientific_publication',\n",
       " 'email',\n",
       " 'scientific_publication',\n",
       " 'email',\n",
       " 'scientific_publication',\n",
       " 'scientific_publication',\n",
       " 'scientific_publication',\n",
       " 'email',\n",
       " 'resume',\n",
       " 'resume',\n",
       " 'resume',\n",
       " 'email',\n",
       " 'resume',\n",
       " 'email',\n",
       " 'email',\n",
       " 'resume',\n",
       " 'resume',\n",
       " 'email',\n",
       " 'resume',\n",
       " 'scientific_publication',\n",
       " 'email',\n",
       " 'email',\n",
       " 'scientific_publication',\n",
       " 'scientific_publication',\n",
       " 'scientific_publication',\n",
       " 'resume',\n",
       " 'scientific_publication',\n",
       " 'email',\n",
       " 'scientific_publication']"
      ]
     },
     "execution_count": 9,
     "metadata": {},
     "output_type": "execute_result"
    }
   ],
   "source": [
    "search_strings = ['email', 'resume', 'scientific_publication']\n",
    "\n",
    "results = []\n",
    "\n",
    "for original_string in df[\"Extract the type of the image, categorizing it as 'email', 'resume' or 'scientific_publication'. Type:\"]:\n",
    "    # search_stringsにマッチした、その文字列を返す\n",
    "    result = next((s for s in search_strings if s in original_string), None)\n",
    "    results.append(result)\n",
    "\n",
    "results"
   ]
  },
  {
   "cell_type": "code",
   "execution_count": 10,
   "id": "99696082-3ddb-4d60-a500-eb38abb23db3",
   "metadata": {},
   "outputs": [],
   "source": [
    "df['vm_result'] = results"
   ]
  },
  {
   "cell_type": "code",
   "execution_count": 12,
   "id": "06ea992c-ceed-4aae-a5c6-d6b562a9bcd5",
   "metadata": {},
   "outputs": [
    {
     "data": {
      "text/plain": [
       "scientific_publication    12\n",
       "email                     10\n",
       "resume                     8\n",
       "Name: vm_result, dtype: int64"
      ]
     },
     "execution_count": 12,
     "metadata": {},
     "output_type": "execute_result"
    }
   ],
   "source": [
    "df['vm_result'].value_counts()"
   ]
  },
  {
   "cell_type": "code",
   "execution_count": 13,
   "id": "4be8cf74-0ef2-4584-9963-fe442f282748",
   "metadata": {},
   "outputs": [
    {
     "data": {
      "text/html": [
       "<div>\n",
       "<style scoped>\n",
       "    .dataframe tbody tr th:only-of-type {\n",
       "        vertical-align: middle;\n",
       "    }\n",
       "\n",
       "    .dataframe tbody tr th {\n",
       "        vertical-align: top;\n",
       "    }\n",
       "\n",
       "    .dataframe thead th {\n",
       "        text-align: right;\n",
       "    }\n",
       "</style>\n",
       "<table border=\"1\" class=\"dataframe\">\n",
       "  <thead>\n",
       "    <tr style=\"text-align: right;\">\n",
       "      <th></th>\n",
       "      <th>image</th>\n",
       "      <th>class</th>\n",
       "    </tr>\n",
       "  </thead>\n",
       "  <tbody>\n",
       "    <tr>\n",
       "      <th>0</th>\n",
       "      <td>images/doc_000832.png</td>\n",
       "      <td>scientific_publication</td>\n",
       "    </tr>\n",
       "    <tr>\n",
       "      <th>1</th>\n",
       "      <td>images/doc_000076.png</td>\n",
       "      <td>email</td>\n",
       "    </tr>\n",
       "    <tr>\n",
       "      <th>2</th>\n",
       "      <td>images/doc_000584.png</td>\n",
       "      <td>scientific_publication</td>\n",
       "    </tr>\n",
       "    <tr>\n",
       "      <th>3</th>\n",
       "      <td>images/doc_000101.png</td>\n",
       "      <td>resume</td>\n",
       "    </tr>\n",
       "    <tr>\n",
       "      <th>4</th>\n",
       "      <td>images/doc_000279.png</td>\n",
       "      <td>email</td>\n",
       "    </tr>\n",
       "  </tbody>\n",
       "</table>\n",
       "</div>"
      ],
      "text/plain": [
       "                   image                   class\n",
       "0  images/doc_000832.png  scientific_publication\n",
       "1  images/doc_000076.png                   email\n",
       "2  images/doc_000584.png  scientific_publication\n",
       "3  images/doc_000101.png                  resume\n",
       "4  images/doc_000279.png                   email"
      ]
     },
     "execution_count": 13,
     "metadata": {},
     "output_type": "execute_result"
    }
   ],
   "source": [
    "df_label = pd.read_csv('../tmp/DAI_document_classification_TEST/data.csv')\n",
    "df_label.head()"
   ]
  },
  {
   "cell_type": "code",
   "execution_count": 18,
   "id": "64793541-8aaa-4b2e-a233-f3b3593e5ec2",
   "metadata": {},
   "outputs": [
    {
     "data": {
      "text/html": [
       "<div>\n",
       "<style scoped>\n",
       "    .dataframe tbody tr th:only-of-type {\n",
       "        vertical-align: middle;\n",
       "    }\n",
       "\n",
       "    .dataframe tbody tr th {\n",
       "        vertical-align: top;\n",
       "    }\n",
       "\n",
       "    .dataframe thead th {\n",
       "        text-align: right;\n",
       "    }\n",
       "</style>\n",
       "<table border=\"1\" class=\"dataframe\">\n",
       "  <thead>\n",
       "    <tr style=\"text-align: right;\">\n",
       "      <th></th>\n",
       "      <th>image_id</th>\n",
       "      <th>Extract the type of the image, categorizing it as 'email', 'resume' or 'scientific_publication'. Type:</th>\n",
       "      <th>vm_result</th>\n",
       "      <th>image</th>\n",
       "      <th>class</th>\n",
       "    </tr>\n",
       "  </thead>\n",
       "  <tbody>\n",
       "    <tr>\n",
       "      <th>0</th>\n",
       "      <td>doc_000016.png</td>\n",
       "      <td>Type: scientific_publication</td>\n",
       "      <td>scientific_publication</td>\n",
       "      <td>images/doc_000016.png</td>\n",
       "      <td>scientific_publication</td>\n",
       "    </tr>\n",
       "    <tr>\n",
       "      <th>1</th>\n",
       "      <td>doc_000101.png</td>\n",
       "      <td>Type: scientific_publication</td>\n",
       "      <td>scientific_publication</td>\n",
       "      <td>images/doc_000101.png</td>\n",
       "      <td>resume</td>\n",
       "    </tr>\n",
       "    <tr>\n",
       "      <th>2</th>\n",
       "      <td>doc_000297.png</td>\n",
       "      <td>Type: email</td>\n",
       "      <td>email</td>\n",
       "      <td>images/doc_000297.png</td>\n",
       "      <td>email</td>\n",
       "    </tr>\n",
       "    <tr>\n",
       "      <th>3</th>\n",
       "      <td>doc_000513.png</td>\n",
       "      <td>The type of the image is: **scientific_publica...</td>\n",
       "      <td>scientific_publication</td>\n",
       "      <td>images/doc_000513.png</td>\n",
       "      <td>scientific_publication</td>\n",
       "    </tr>\n",
       "    <tr>\n",
       "      <th>4</th>\n",
       "      <td>doc_000655.png</td>\n",
       "      <td>The type of the image is 'email'.</td>\n",
       "      <td>email</td>\n",
       "      <td>images/doc_000655.png</td>\n",
       "      <td>email</td>\n",
       "    </tr>\n",
       "  </tbody>\n",
       "</table>\n",
       "</div>"
      ],
      "text/plain": [
       "         image_id  \\\n",
       "0  doc_000016.png   \n",
       "1  doc_000101.png   \n",
       "2  doc_000297.png   \n",
       "3  doc_000513.png   \n",
       "4  doc_000655.png   \n",
       "\n",
       "  Extract the type of the image, categorizing it as 'email', 'resume' or 'scientific_publication'. Type:  \\\n",
       "0                       Type: scientific_publication                                                       \n",
       "1                       Type: scientific_publication                                                       \n",
       "2                                        Type: email                                                       \n",
       "3  The type of the image is: **scientific_publica...                                                       \n",
       "4                  The type of the image is 'email'.                                                       \n",
       "\n",
       "                vm_result                  image                   class  \n",
       "0  scientific_publication  images/doc_000016.png  scientific_publication  \n",
       "1  scientific_publication  images/doc_000101.png                  resume  \n",
       "2                   email  images/doc_000297.png                   email  \n",
       "3  scientific_publication  images/doc_000513.png  scientific_publication  \n",
       "4                   email  images/doc_000655.png                   email  "
      ]
     },
     "execution_count": 18,
     "metadata": {},
     "output_type": "execute_result"
    }
   ],
   "source": [
    "df['image'] = 'images/'+df['image_id']\n",
    "\n",
    "df = pd.merge(df, df_label, on=['image'])\n",
    "df.head()"
   ]
  },
  {
   "cell_type": "code",
   "execution_count": 22,
   "id": "d73b6355-b0fd-449d-bc41-b780f0aba530",
   "metadata": {},
   "outputs": [],
   "source": [
    "df.to_csv('prediction/gpt-4o-mini_result_final.csv', index=False)"
   ]
  },
  {
   "cell_type": "code",
   "execution_count": 23,
   "id": "b46b33e8-947f-41f9-9dc4-83539da7d8c8",
   "metadata": {},
   "outputs": [
    {
     "data": {
      "text/plain": [
       "array([[10,  0,  0],\n",
       "       [ 0,  8,  2],\n",
       "       [ 0,  0, 10]])"
      ]
     },
     "execution_count": 23,
     "metadata": {},
     "output_type": "execute_result"
    }
   ],
   "source": [
    "labels = sorted(set(df['class']))\n",
    "cm = confusion_matrix(df['class'].to_list(), df['vm_result'].to_list(), labels=labels)\n",
    "cm"
   ]
  },
  {
   "cell_type": "code",
   "execution_count": 24,
   "id": "c64c9523-0fdf-44fe-b1a1-1b8e4d9815c0",
   "metadata": {},
   "outputs": [
    {
     "data": {
      "image/png": "[encoded data removed]",
      "text/plain": [
       "<Figure size 640x480 with 2 Axes>"
      ]
     },
     "metadata": {},
     "output_type": "display_data"
    }
   ],
   "source": [
    "disp = ConfusionMatrixDisplay(confusion_matrix=cm, display_labels=labels)\n",
    "disp.plot(cmap=plt.cm.Blues)  # 色設定（オプション）\n",
    "plt.title(\"Confusion Matrix\")\n",
    "plt.show()"
   ]
  },
  {
   "cell_type": "code",
   "execution_count": null,
   "id": "0f261c89-45fa-4dda-a06d-c3ea31bec0f8",
   "metadata": {},
   "outputs": [],
   "source": []
  },
  {
   "cell_type": "code",
   "execution_count": null,
   "id": "e2bf5e41-8f41-4c20-95f3-9b67dcdecaad",
   "metadata": {},
   "outputs": [],
   "source": []
  }
 ],
 "metadata": {
  "kernelspec": {
   "display_name": "Python [conda env:ML]",
   "language": "python",
   "name": "conda-env-ML-py"
  },
  "language_info": {
   "codemirror_mode": {
    "name": "ipython",
    "version": 3
   },
   "file_extension": ".py",
   "mimetype": "text/x-python",
   "name": "python",
   "nbconvert_exporter": "python",
   "pygments_lexer": "ipython3",
   "version": "3.10.14"
  }
 },
 "nbformat": 4,
 "nbformat_minor": 5
}
