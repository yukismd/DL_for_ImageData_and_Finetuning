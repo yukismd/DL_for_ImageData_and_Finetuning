{
 "cells": [
  {
   "cell_type": "code",
   "execution_count": null,
   "id": "526fcb4f-031c-4cba-9035-87ededdca327",
   "metadata": {},
   "outputs": [],
   "source": []
  },
  {
   "cell_type": "markdown",
   "id": "3e63a9b0-1923-4b9a-9457-99badbef3860",
   "metadata": {},
   "source": [
    "API Reference\n",
    "- https://platform.openai.com/docs/api-reference/chat\n",
    "- https://platform.openai.com/docs/guides/vision"
   ]
  },
  {
   "cell_type": "code",
   "execution_count": 1,
   "id": "8a089e78-527d-4c61-8ac3-48a79b1c94d5",
   "metadata": {},
   "outputs": [],
   "source": [
    "import os\n",
    "from dotenv import load_dotenv\n",
    "import base64\n",
    "\n",
    "import openai\n",
    "from openai import OpenAI"
   ]
  },
  {
   "cell_type": "code",
   "execution_count": 2,
   "id": "1ac9fbdd-2a94-4379-b796-b299b21e069e",
   "metadata": {},
   "outputs": [],
   "source": [
    "#os.getenv(\"LANG\")"
   ]
  },
  {
   "cell_type": "code",
   "execution_count": 3,
   "id": "4817a502-5f1a-4918-8fe3-3237133f24f0",
   "metadata": {},
   "outputs": [],
   "source": [
    "# 文字列でKeyを指定\n",
    "#openai.api_key = os.getenv(\"あなたのAPIキー\")"
   ]
  },
  {
   "cell_type": "code",
   "execution_count": 6,
   "id": "20ebb8e6-6dc5-4c49-b515-f94c6adfccc4",
   "metadata": {},
   "outputs": [
    {
     "data": {
      "text/plain": [
       "True"
      ]
     },
     "execution_count": 6,
     "metadata": {},
     "output_type": "execute_result"
    }
   ],
   "source": [
    "#load_dotenv('.env')\n",
    "#openai.api_key = os.getenv('openai-key-20241027')"
   ]
  },
  {
   "cell_type": "code",
   "execution_count": 8,
   "id": "fba20f3f-c7d7-4619-95f6-c879e1e21da7",
   "metadata": {},
   "outputs": [
    {
     "data": {
      "text/plain": [
       "<openai.OpenAI at 0x108c1caf0>"
      ]
     },
     "execution_count": 8,
     "metadata": {},
     "output_type": "execute_result"
    }
   ],
   "source": [
    "load_dotenv('.env')\n",
    "\n",
    "client = OpenAI(api_key=os.getenv('openai-key-20241027'))\n",
    "client"
   ]
  },
  {
   "cell_type": "code",
   "execution_count": null,
   "id": "a992be9c-04a7-4924-a6e6-9f566b0738ef",
   "metadata": {},
   "outputs": [],
   "source": []
  },
  {
   "cell_type": "code",
   "execution_count": 9,
   "id": "9d91ab59-1177-4141-b4d4-55fed1dc6763",
   "metadata": {},
   "outputs": [
    {
     "name": "stdout",
     "output_type": "stream",
     "text": [
      "doc_000016.png doc_000101.png doc_000297.png doc_000513.png doc_000655.png\n",
      "doc_000045.png doc_000130.png doc_000349.png doc_000550.png doc_000674.png\n",
      "doc_000070.png doc_000175.png doc_000363.png doc_000551.png doc_000745.png\n",
      "doc_000076.png doc_000248.png doc_000402.png doc_000558.png doc_000802.png\n",
      "doc_000089.png doc_000279.png doc_000485.png doc_000584.png doc_000832.png\n",
      "doc_000097.png doc_000281.png doc_000509.png doc_000596.png doc_000864.png\n"
     ]
    }
   ],
   "source": [
    "!ls ../tmp/DAI_document_classification_TEST/images"
   ]
  },
  {
   "cell_type": "code",
   "execution_count": null,
   "id": "677217e4-5add-49ab-85a6-379695d5d793",
   "metadata": {},
   "outputs": [],
   "source": []
  },
  {
   "cell_type": "code",
   "execution_count": null,
   "id": "9905e444-307a-416e-9baf-b1c56adb6fcd",
   "metadata": {},
   "outputs": [],
   "source": []
  },
  {
   "cell_type": "code",
   "execution_count": 12,
   "id": "623fe87a-6ac0-4652-8a67-fab05f134e50",
   "metadata": {},
   "outputs": [
    {
     "data": {
      "text/plain": [
       "(str, 247100)"
      ]
     },
     "execution_count": 12,
     "metadata": {},
     "output_type": "execute_result"
    }
   ],
   "source": [
    "# Function to encode the image\n",
    "def encode_image(image_path):\n",
    "    with open(image_path, \"rb\") as image_file:\n",
    "        return base64.b64encode(image_file.read()).decode(\"utf-8\")\n",
    "\n",
    "\n",
    "# Path to your image\n",
    "image_path = \"../tmp/DAI_document_classification_TEST/images/doc_000016.png\"\n",
    "\n",
    "# Getting the base64 string\n",
    "base64_image = encode_image(image_path)\n",
    "type(base64_image), len(base64_image) "
   ]
  },
  {
   "cell_type": "code",
   "execution_count": 13,
   "id": "ae85afed-868d-4699-9bf8-0f167995eb89",
   "metadata": {},
   "outputs": [
    {
     "name": "stdout",
     "output_type": "stream",
     "text": [
      "Choice(finish_reason='stop', index=0, logprobs=None, message=ChatCompletionMessage(content='The image appears to be a scientific paper titled \"The Contribution of Tobacco Constituents to Phenol Yield of Cigarettes\" authored by J. H. Bell, A. O. Saunders, and A. W. Spears from the Research Division of P. Lorillard Company, Inc. It discusses the role of certain tobacco components in the production of phenol during the combustion of cigarettes. The paper includes details on experimental methods, including the use of a pyrolysis apparatus and liquid scintillation counting to measure radioactive isotopes in the tobacco samples. Overall, it seems to focus on the analysis of tobacco constituents and their effects on phenol yield.', refusal=None, role='assistant', audio=None, function_call=None, tool_calls=None))\n"
     ]
    }
   ],
   "source": [
    "response = client.chat.completions.create(\n",
    "    model=\"gpt-4o-mini\",\n",
    "    messages=[\n",
    "        {\n",
    "            \"role\": \"user\",\n",
    "            \"content\": [\n",
    "                {\n",
    "                    \"type\": \"text\",\n",
    "                    \"text\": \"What is in this image?\",\n",
    "                },\n",
    "                {\n",
    "                    \"type\": \"image_url\",\n",
    "                    \"image_url\": {\"url\": f\"data:image/jpeg;base64,{base64_image}\"},\n",
    "                },\n",
    "            ],\n",
    "        }\n",
    "    ],\n",
    ")\n",
    "\n",
    "print(response.choices[0])"
   ]
  },
  {
   "cell_type": "code",
   "execution_count": 19,
   "id": "c421bccf-b1c1-40f9-910f-7af6f263c101",
   "metadata": {},
   "outputs": [
    {
     "data": {
      "text/plain": [
       "'The image appears to be a scientific paper titled \"The Contribution of Tobacco Constituents to Phenol Yield of Cigarettes\" authored by J. H. Bell, A. O. Saunders, and A. W. Spears from the Research Division of P. Lorillard Company, Inc. It discusses the role of certain tobacco components in the production of phenol during the combustion of cigarettes. The paper includes details on experimental methods, including the use of a pyrolysis apparatus and liquid scintillation counting to measure radioactive isotopes in the tobacco samples. Overall, it seems to focus on the analysis of tobacco constituents and their effects on phenol yield.'"
      ]
     },
     "execution_count": 19,
     "metadata": {},
     "output_type": "execute_result"
    }
   ],
   "source": [
    "response.choices[0].message.content"
   ]
  },
  {
   "cell_type": "code",
   "execution_count": 20,
   "id": "a0a8d1ad-cc8c-4800-8f80-68e92c47c03f",
   "metadata": {},
   "outputs": [
    {
     "name": "stdout",
     "output_type": "stream",
     "text": [
      "scientific_publication\n"
     ]
    }
   ],
   "source": [
    "response = client.chat.completions.create(\n",
    "    model=\"gpt-4o-mini\",\n",
    "    messages=[\n",
    "        {\n",
    "            \"role\": \"user\",\n",
    "            \"content\": [\n",
    "                {\n",
    "                    \"type\": \"text\",\n",
    "                    \"text\": \"Extract the type of the image, categorizing it as 'email', 'resume' or 'scientific_publication'. Type:\",\n",
    "                },\n",
    "                {\n",
    "                    \"type\": \"image_url\",\n",
    "                    \"image_url\": {\"url\": f\"data:image/jpeg;base64,{base64_image}\"},\n",
    "                },\n",
    "            ],\n",
    "        }\n",
    "    ],\n",
    ")\n",
    "\n",
    "print(response.choices[0].message.content)"
   ]
  },
  {
   "cell_type": "code",
   "execution_count": null,
   "id": "eb590ecb-4e57-45e3-9bde-623de5b776d4",
   "metadata": {},
   "outputs": [],
   "source": []
  }
 ],
 "metadata": {
  "kernelspec": {
   "display_name": "Python [conda env:llm] *",
   "language": "python",
   "name": "conda-env-llm-py"
  },
  "language_info": {
   "codemirror_mode": {
    "name": "ipython",
    "version": 3
   },
   "file_extension": ".py",
   "mimetype": "text/x-python",
   "name": "python",
   "nbconvert_exporter": "python",
   "pygments_lexer": "ipython3",
   "version": "3.10.16"
  }
 },
 "nbformat": 4,
 "nbformat_minor": 5
}
