{
 "cells": [
  {
   "cell_type": "code",
   "execution_count": null,
   "id": "792f1226-031c-46a4-970c-f51860dd83cc",
   "metadata": {},
   "outputs": [],
   "source": []
  },
  {
   "cell_type": "code",
   "execution_count": 19,
   "id": "f0d1396e-3a2f-4441-902d-786db5e451bf",
   "metadata": {},
   "outputs": [],
   "source": [
    "import pandas as pd\n",
    "from sklearn.metrics import confusion_matrix, ConfusionMatrixDisplay\n",
    "import matplotlib.pyplot as plt"
   ]
  },
  {
   "cell_type": "code",
   "execution_count": 2,
   "id": "e4a8aba9-78ff-460a-b6fa-ab9603528028",
   "metadata": {},
   "outputs": [
    {
     "name": "stdout",
     "output_type": "stream",
     "text": [
      "labels.csv      predictions.csv\n"
     ]
    }
   ],
   "source": [
    "!ls prediction"
   ]
  },
  {
   "cell_type": "code",
   "execution_count": 3,
   "id": "743f3874-c223-43cf-bcda-a2fc51f3176c",
   "metadata": {},
   "outputs": [
    {
     "data": {
      "text/html": [
       "<div>\n",
       "<style scoped>\n",
       "    .dataframe tbody tr th:only-of-type {\n",
       "        vertical-align: middle;\n",
       "    }\n",
       "\n",
       "    .dataframe tbody tr th {\n",
       "        vertical-align: top;\n",
       "    }\n",
       "\n",
       "    .dataframe thead th {\n",
       "        text-align: right;\n",
       "    }\n",
       "</style>\n",
       "<table border=\"1\" class=\"dataframe\">\n",
       "  <thead>\n",
       "    <tr style=\"text-align: right;\">\n",
       "      <th></th>\n",
       "      <th>prediction_email</th>\n",
       "      <th>prediction_resume</th>\n",
       "      <th>prediction_scientific publication</th>\n",
       "      <th>image_path</th>\n",
       "    </tr>\n",
       "  </thead>\n",
       "  <tbody>\n",
       "    <tr>\n",
       "      <th>0</th>\n",
       "      <td>1.039710e-06</td>\n",
       "      <td>9.795218e-05</td>\n",
       "      <td>0.999901</td>\n",
       "      <td>LG_test/doc_000584.png</td>\n",
       "    </tr>\n",
       "    <tr>\n",
       "      <th>1</th>\n",
       "      <td>2.351575e-04</td>\n",
       "      <td>1.206579e-01</td>\n",
       "      <td>0.879107</td>\n",
       "      <td>LG_test/doc_000551.png</td>\n",
       "    </tr>\n",
       "    <tr>\n",
       "      <th>2</th>\n",
       "      <td>1.843045e-07</td>\n",
       "      <td>8.074077e-07</td>\n",
       "      <td>0.999999</td>\n",
       "      <td>LG_test/doc_000089.png</td>\n",
       "    </tr>\n",
       "    <tr>\n",
       "      <th>3</th>\n",
       "      <td>2.386619e-05</td>\n",
       "      <td>1.224379e-01</td>\n",
       "      <td>0.877538</td>\n",
       "      <td>LG_test/doc_000281.png</td>\n",
       "    </tr>\n",
       "    <tr>\n",
       "      <th>4</th>\n",
       "      <td>1.126910e-06</td>\n",
       "      <td>2.974345e-05</td>\n",
       "      <td>0.999969</td>\n",
       "      <td>LG_test/doc_000509.png</td>\n",
       "    </tr>\n",
       "  </tbody>\n",
       "</table>\n",
       "</div>"
      ],
      "text/plain": [
       "   prediction_email  prediction_resume  prediction_scientific publication  \\\n",
       "0      1.039710e-06       9.795218e-05                           0.999901   \n",
       "1      2.351575e-04       1.206579e-01                           0.879107   \n",
       "2      1.843045e-07       8.074077e-07                           0.999999   \n",
       "3      2.386619e-05       1.224379e-01                           0.877538   \n",
       "4      1.126910e-06       2.974345e-05                           0.999969   \n",
       "\n",
       "               image_path  \n",
       "0  LG_test/doc_000584.png  \n",
       "1  LG_test/doc_000551.png  \n",
       "2  LG_test/doc_000089.png  \n",
       "3  LG_test/doc_000281.png  \n",
       "4  LG_test/doc_000509.png  "
      ]
     },
     "execution_count": 3,
     "metadata": {},
     "output_type": "execute_result"
    }
   ],
   "source": [
    "pd.read_csv('prediction/predictions.csv').head()"
   ]
  },
  {
   "cell_type": "code",
   "execution_count": 4,
   "id": "8ad3680c-12f7-4090-bbab-84ffbbd002ac",
   "metadata": {},
   "outputs": [
    {
     "name": "stdout",
     "output_type": "stream",
     "text": [
      "(30, 2)\n"
     ]
    },
    {
     "data": {
      "text/html": [
       "<div>\n",
       "<style scoped>\n",
       "    .dataframe tbody tr th:only-of-type {\n",
       "        vertical-align: middle;\n",
       "    }\n",
       "\n",
       "    .dataframe tbody tr th {\n",
       "        vertical-align: top;\n",
       "    }\n",
       "\n",
       "    .dataframe thead th {\n",
       "        text-align: right;\n",
       "    }\n",
       "</style>\n",
       "<table border=\"1\" class=\"dataframe\">\n",
       "  <thead>\n",
       "    <tr style=\"text-align: right;\">\n",
       "      <th></th>\n",
       "      <th>label</th>\n",
       "      <th>image_path</th>\n",
       "    </tr>\n",
       "  </thead>\n",
       "  <tbody>\n",
       "    <tr>\n",
       "      <th>0</th>\n",
       "      <td>scientific publication</td>\n",
       "      <td>LG_test/doc_000584.png</td>\n",
       "    </tr>\n",
       "    <tr>\n",
       "      <th>1</th>\n",
       "      <td>scientific publication</td>\n",
       "      <td>LG_test/doc_000551.png</td>\n",
       "    </tr>\n",
       "    <tr>\n",
       "      <th>2</th>\n",
       "      <td>scientific publication</td>\n",
       "      <td>LG_test/doc_000089.png</td>\n",
       "    </tr>\n",
       "    <tr>\n",
       "      <th>3</th>\n",
       "      <td>scientific publication</td>\n",
       "      <td>LG_test/doc_000281.png</td>\n",
       "    </tr>\n",
       "    <tr>\n",
       "      <th>4</th>\n",
       "      <td>scientific publication</td>\n",
       "      <td>LG_test/doc_000509.png</td>\n",
       "    </tr>\n",
       "  </tbody>\n",
       "</table>\n",
       "</div>"
      ],
      "text/plain": [
       "                    label              image_path\n",
       "0  scientific publication  LG_test/doc_000584.png\n",
       "1  scientific publication  LG_test/doc_000551.png\n",
       "2  scientific publication  LG_test/doc_000089.png\n",
       "3  scientific publication  LG_test/doc_000281.png\n",
       "4  scientific publication  LG_test/doc_000509.png"
      ]
     },
     "execution_count": 4,
     "metadata": {},
     "output_type": "execute_result"
    }
   ],
   "source": [
    "df_res = pd.read_csv('prediction/labels.csv')\n",
    "print(df_res.shape)\n",
    "df_res.head()"
   ]
  },
  {
   "cell_type": "code",
   "execution_count": 5,
   "id": "5edc922d-fe3b-42d6-a8e3-f8eba2915da3",
   "metadata": {},
   "outputs": [
    {
     "name": "stdout",
     "output_type": "stream",
     "text": [
      "data.csv \u001b[34mimages\u001b[m\u001b[m\n"
     ]
    }
   ],
   "source": [
    "!ls ../tmp/DAI_document_classification_TEST"
   ]
  },
  {
   "cell_type": "code",
   "execution_count": 6,
   "id": "0013b730-0b46-4b8c-a26f-3ed6e8b3956b",
   "metadata": {},
   "outputs": [
    {
     "name": "stdout",
     "output_type": "stream",
     "text": [
      "(30, 2)\n"
     ]
    },
    {
     "data": {
      "text/html": [
       "<div>\n",
       "<style scoped>\n",
       "    .dataframe tbody tr th:only-of-type {\n",
       "        vertical-align: middle;\n",
       "    }\n",
       "\n",
       "    .dataframe tbody tr th {\n",
       "        vertical-align: top;\n",
       "    }\n",
       "\n",
       "    .dataframe thead th {\n",
       "        text-align: right;\n",
       "    }\n",
       "</style>\n",
       "<table border=\"1\" class=\"dataframe\">\n",
       "  <thead>\n",
       "    <tr style=\"text-align: right;\">\n",
       "      <th></th>\n",
       "      <th>image</th>\n",
       "      <th>class</th>\n",
       "    </tr>\n",
       "  </thead>\n",
       "  <tbody>\n",
       "    <tr>\n",
       "      <th>0</th>\n",
       "      <td>images/doc_000832.png</td>\n",
       "      <td>scientific_publication</td>\n",
       "    </tr>\n",
       "    <tr>\n",
       "      <th>1</th>\n",
       "      <td>images/doc_000076.png</td>\n",
       "      <td>email</td>\n",
       "    </tr>\n",
       "    <tr>\n",
       "      <th>2</th>\n",
       "      <td>images/doc_000584.png</td>\n",
       "      <td>scientific_publication</td>\n",
       "    </tr>\n",
       "    <tr>\n",
       "      <th>3</th>\n",
       "      <td>images/doc_000101.png</td>\n",
       "      <td>resume</td>\n",
       "    </tr>\n",
       "    <tr>\n",
       "      <th>4</th>\n",
       "      <td>images/doc_000279.png</td>\n",
       "      <td>email</td>\n",
       "    </tr>\n",
       "  </tbody>\n",
       "</table>\n",
       "</div>"
      ],
      "text/plain": [
       "                   image                   class\n",
       "0  images/doc_000832.png  scientific_publication\n",
       "1  images/doc_000076.png                   email\n",
       "2  images/doc_000584.png  scientific_publication\n",
       "3  images/doc_000101.png                  resume\n",
       "4  images/doc_000279.png                   email"
      ]
     },
     "execution_count": 6,
     "metadata": {},
     "output_type": "execute_result"
    }
   ],
   "source": [
    "df_act = pd.read_csv('../tmp/DAI_document_classification_TEST/data.csv')\n",
    "print(df_act.shape)\n",
    "df_act.head()"
   ]
  },
  {
   "cell_type": "code",
   "execution_count": 7,
   "id": "276ecb0b-e217-4a62-a64e-24aa969dc0d2",
   "metadata": {},
   "outputs": [],
   "source": [
    "df_res['key'] = [s.split('/')[1] for s in df_res['image_path']]\n",
    "df_act['key'] = [s.split('/')[1] for s in df_act['image']]"
   ]
  },
  {
   "cell_type": "code",
   "execution_count": 30,
   "id": "2b37ddca-499d-4db3-abd7-e19a8454e366",
   "metadata": {},
   "outputs": [
    {
     "data": {
      "text/html": [
       "<div>\n",
       "<style scoped>\n",
       "    .dataframe tbody tr th:only-of-type {\n",
       "        vertical-align: middle;\n",
       "    }\n",
       "\n",
       "    .dataframe tbody tr th {\n",
       "        vertical-align: top;\n",
       "    }\n",
       "\n",
       "    .dataframe thead th {\n",
       "        text-align: right;\n",
       "    }\n",
       "</style>\n",
       "<table border=\"1\" class=\"dataframe\">\n",
       "  <thead>\n",
       "    <tr style=\"text-align: right;\">\n",
       "      <th></th>\n",
       "      <th>key</th>\n",
       "      <th>actual</th>\n",
       "      <th>predict</th>\n",
       "    </tr>\n",
       "  </thead>\n",
       "  <tbody>\n",
       "    <tr>\n",
       "      <th>0</th>\n",
       "      <td>doc_000832.png</td>\n",
       "      <td>scientific_publication</td>\n",
       "      <td>scientific_publication</td>\n",
       "    </tr>\n",
       "    <tr>\n",
       "      <th>1</th>\n",
       "      <td>doc_000076.png</td>\n",
       "      <td>email</td>\n",
       "      <td>email</td>\n",
       "    </tr>\n",
       "    <tr>\n",
       "      <th>2</th>\n",
       "      <td>doc_000584.png</td>\n",
       "      <td>scientific_publication</td>\n",
       "      <td>scientific_publication</td>\n",
       "    </tr>\n",
       "    <tr>\n",
       "      <th>3</th>\n",
       "      <td>doc_000101.png</td>\n",
       "      <td>resume</td>\n",
       "      <td>scientific_publication</td>\n",
       "    </tr>\n",
       "    <tr>\n",
       "      <th>4</th>\n",
       "      <td>doc_000279.png</td>\n",
       "      <td>email</td>\n",
       "      <td>email</td>\n",
       "    </tr>\n",
       "    <tr>\n",
       "      <th>5</th>\n",
       "      <td>doc_000248.png</td>\n",
       "      <td>resume</td>\n",
       "      <td>scientific_publication</td>\n",
       "    </tr>\n",
       "    <tr>\n",
       "      <th>6</th>\n",
       "      <td>doc_000802.png</td>\n",
       "      <td>resume</td>\n",
       "      <td>scientific_publication</td>\n",
       "    </tr>\n",
       "    <tr>\n",
       "      <th>7</th>\n",
       "      <td>doc_000089.png</td>\n",
       "      <td>scientific_publication</td>\n",
       "      <td>scientific_publication</td>\n",
       "    </tr>\n",
       "    <tr>\n",
       "      <th>8</th>\n",
       "      <td>doc_000097.png</td>\n",
       "      <td>resume</td>\n",
       "      <td>scientific_publication</td>\n",
       "    </tr>\n",
       "    <tr>\n",
       "      <th>9</th>\n",
       "      <td>doc_000509.png</td>\n",
       "      <td>scientific_publication</td>\n",
       "      <td>scientific_publication</td>\n",
       "    </tr>\n",
       "    <tr>\n",
       "      <th>10</th>\n",
       "      <td>doc_000550.png</td>\n",
       "      <td>email</td>\n",
       "      <td>scientific_publication</td>\n",
       "    </tr>\n",
       "    <tr>\n",
       "      <th>11</th>\n",
       "      <td>doc_000349.png</td>\n",
       "      <td>scientific_publication</td>\n",
       "      <td>scientific_publication</td>\n",
       "    </tr>\n",
       "    <tr>\n",
       "      <th>12</th>\n",
       "      <td>doc_000596.png</td>\n",
       "      <td>email</td>\n",
       "      <td>scientific_publication</td>\n",
       "    </tr>\n",
       "    <tr>\n",
       "      <th>13</th>\n",
       "      <td>doc_000070.png</td>\n",
       "      <td>resume</td>\n",
       "      <td>scientific_publication</td>\n",
       "    </tr>\n",
       "    <tr>\n",
       "      <th>14</th>\n",
       "      <td>doc_000485.png</td>\n",
       "      <td>email</td>\n",
       "      <td>scientific_publication</td>\n",
       "    </tr>\n",
       "    <tr>\n",
       "      <th>15</th>\n",
       "      <td>doc_000655.png</td>\n",
       "      <td>email</td>\n",
       "      <td>scientific_publication</td>\n",
       "    </tr>\n",
       "    <tr>\n",
       "      <th>16</th>\n",
       "      <td>doc_000513.png</td>\n",
       "      <td>scientific_publication</td>\n",
       "      <td>scientific_publication</td>\n",
       "    </tr>\n",
       "    <tr>\n",
       "      <th>17</th>\n",
       "      <td>doc_000674.png</td>\n",
       "      <td>resume</td>\n",
       "      <td>scientific_publication</td>\n",
       "    </tr>\n",
       "    <tr>\n",
       "      <th>18</th>\n",
       "      <td>doc_000175.png</td>\n",
       "      <td>resume</td>\n",
       "      <td>resume</td>\n",
       "    </tr>\n",
       "    <tr>\n",
       "      <th>19</th>\n",
       "      <td>doc_000864.png</td>\n",
       "      <td>scientific_publication</td>\n",
       "      <td>scientific_publication</td>\n",
       "    </tr>\n",
       "    <tr>\n",
       "      <th>20</th>\n",
       "      <td>doc_000281.png</td>\n",
       "      <td>resume</td>\n",
       "      <td>scientific_publication</td>\n",
       "    </tr>\n",
       "    <tr>\n",
       "      <th>21</th>\n",
       "      <td>doc_000016.png</td>\n",
       "      <td>scientific_publication</td>\n",
       "      <td>scientific_publication</td>\n",
       "    </tr>\n",
       "    <tr>\n",
       "      <th>22</th>\n",
       "      <td>doc_000558.png</td>\n",
       "      <td>email</td>\n",
       "      <td>email</td>\n",
       "    </tr>\n",
       "    <tr>\n",
       "      <th>23</th>\n",
       "      <td>doc_000130.png</td>\n",
       "      <td>scientific_publication</td>\n",
       "      <td>scientific_publication</td>\n",
       "    </tr>\n",
       "    <tr>\n",
       "      <th>24</th>\n",
       "      <td>doc_000363.png</td>\n",
       "      <td>email</td>\n",
       "      <td>scientific_publication</td>\n",
       "    </tr>\n",
       "    <tr>\n",
       "      <th>25</th>\n",
       "      <td>doc_000045.png</td>\n",
       "      <td>scientific_publication</td>\n",
       "      <td>scientific_publication</td>\n",
       "    </tr>\n",
       "    <tr>\n",
       "      <th>26</th>\n",
       "      <td>doc_000551.png</td>\n",
       "      <td>resume</td>\n",
       "      <td>scientific_publication</td>\n",
       "    </tr>\n",
       "    <tr>\n",
       "      <th>27</th>\n",
       "      <td>doc_000297.png</td>\n",
       "      <td>email</td>\n",
       "      <td>resume</td>\n",
       "    </tr>\n",
       "    <tr>\n",
       "      <th>28</th>\n",
       "      <td>doc_000402.png</td>\n",
       "      <td>resume</td>\n",
       "      <td>scientific_publication</td>\n",
       "    </tr>\n",
       "    <tr>\n",
       "      <th>29</th>\n",
       "      <td>doc_000745.png</td>\n",
       "      <td>email</td>\n",
       "      <td>email</td>\n",
       "    </tr>\n",
       "  </tbody>\n",
       "</table>\n",
       "</div>"
      ],
      "text/plain": [
       "               key                  actual                 predict\n",
       "0   doc_000832.png  scientific_publication  scientific_publication\n",
       "1   doc_000076.png                   email                   email\n",
       "2   doc_000584.png  scientific_publication  scientific_publication\n",
       "3   doc_000101.png                  resume  scientific_publication\n",
       "4   doc_000279.png                   email                   email\n",
       "5   doc_000248.png                  resume  scientific_publication\n",
       "6   doc_000802.png                  resume  scientific_publication\n",
       "7   doc_000089.png  scientific_publication  scientific_publication\n",
       "8   doc_000097.png                  resume  scientific_publication\n",
       "9   doc_000509.png  scientific_publication  scientific_publication\n",
       "10  doc_000550.png                   email  scientific_publication\n",
       "11  doc_000349.png  scientific_publication  scientific_publication\n",
       "12  doc_000596.png                   email  scientific_publication\n",
       "13  doc_000070.png                  resume  scientific_publication\n",
       "14  doc_000485.png                   email  scientific_publication\n",
       "15  doc_000655.png                   email  scientific_publication\n",
       "16  doc_000513.png  scientific_publication  scientific_publication\n",
       "17  doc_000674.png                  resume  scientific_publication\n",
       "18  doc_000175.png                  resume                  resume\n",
       "19  doc_000864.png  scientific_publication  scientific_publication\n",
       "20  doc_000281.png                  resume  scientific_publication\n",
       "21  doc_000016.png  scientific_publication  scientific_publication\n",
       "22  doc_000558.png                   email                   email\n",
       "23  doc_000130.png  scientific_publication  scientific_publication\n",
       "24  doc_000363.png                   email  scientific_publication\n",
       "25  doc_000045.png  scientific_publication  scientific_publication\n",
       "26  doc_000551.png                  resume  scientific_publication\n",
       "27  doc_000297.png                   email                  resume\n",
       "28  doc_000402.png                  resume  scientific_publication\n",
       "29  doc_000745.png                   email                   email"
      ]
     },
     "execution_count": 30,
     "metadata": {},
     "output_type": "execute_result"
    }
   ],
   "source": [
    "df = pd.merge(df_act, df_res, on='key')\n",
    "df = df[['key','class','label']]\n",
    "df = df.rename(columns={'class':'actual', 'label':'predict'})\n",
    "df = df.replace({'scientific publication':'scientific_publication'}) # Zero shotのラベル設定で、'scientific publication'としていた\n",
    "df"
   ]
  },
  {
   "cell_type": "code",
   "execution_count": 31,
   "id": "8446b6f1-5a88-454a-bc45-0a2c7ad6e353",
   "metadata": {},
   "outputs": [
    {
     "data": {
      "text/plain": [
       "scientific_publication    10\n",
       "email                     10\n",
       "resume                    10\n",
       "Name: actual, dtype: int64"
      ]
     },
     "execution_count": 31,
     "metadata": {},
     "output_type": "execute_result"
    }
   ],
   "source": [
    "df['actual'].value_counts()"
   ]
  },
  {
   "cell_type": "code",
   "execution_count": 32,
   "id": "a818a45d-4825-419a-91f8-4e374b131ea3",
   "metadata": {},
   "outputs": [
    {
     "data": {
      "text/plain": [
       "scientific_publication    24\n",
       "email                      4\n",
       "resume                     2\n",
       "Name: predict, dtype: int64"
      ]
     },
     "execution_count": 32,
     "metadata": {},
     "output_type": "execute_result"
    }
   ],
   "source": [
    "df['predict'].value_counts()"
   ]
  },
  {
   "cell_type": "code",
   "execution_count": 33,
   "id": "e768f178-265f-46a2-bbe3-379d199ccf26",
   "metadata": {},
   "outputs": [
    {
     "data": {
      "text/plain": [
       "array([[ 4,  1,  5],\n",
       "       [ 0,  1,  9],\n",
       "       [ 0,  0, 10]])"
      ]
     },
     "execution_count": 33,
     "metadata": {},
     "output_type": "execute_result"
    }
   ],
   "source": [
    "labels = sorted(set(df['actual']))\n",
    "cm = confusion_matrix(df['actual'].to_list(), df['predict'].to_list(), labels=labels)\n",
    "cm"
   ]
  },
  {
   "cell_type": "code",
   "execution_count": 34,
   "id": "dcc639a7-b380-4920-84dd-23fc55748263",
   "metadata": {},
   "outputs": [
    {
     "data": {
      "image/png": "[encoded data removed]",
      "text/plain": [
       "<Figure size 640x480 with 2 Axes>"
      ]
     },
     "metadata": {},
     "output_type": "display_data"
    }
   ],
   "source": [
    "disp = ConfusionMatrixDisplay(confusion_matrix=cm, display_labels=labels)\n",
    "disp.plot(cmap=plt.cm.Blues)  # 色設定（オプション）\n",
    "plt.title(\"Confusion Matrix\")\n",
    "plt.show()"
   ]
  },
  {
   "cell_type": "code",
   "execution_count": null,
   "id": "91862180-b1dd-495d-b003-e5b79aa63659",
   "metadata": {},
   "outputs": [],
   "source": []
  }
 ],
 "metadata": {
  "kernelspec": {
   "display_name": "Python 3 (ipykernel)",
   "language": "python",
   "name": "python3"
  },
  "language_info": {
   "codemirror_mode": {
    "name": "ipython",
    "version": 3
   },
   "file_extension": ".py",
   "mimetype": "text/x-python",
   "name": "python",
   "nbconvert_exporter": "python",
   "pygments_lexer": "ipython3",
   "version": "3.10.14"
  }
 },
 "nbformat": 4,
 "nbformat_minor": 5
}
