{
 "cells": [
  {
   "cell_type": "markdown",
   "id": "11693f15",
   "metadata": {},
   "source": [
    "Data Source: https://www.kaggle.com/datasets/lgmoneda/br-coins"
   ]
  },
  {
   "cell_type": "code",
   "execution_count": 1,
   "id": "f8355aae",
   "metadata": {},
   "outputs": [],
   "source": [
    "import os\n",
    "import shutil\n",
    "\n",
    "import pandas as pd\n",
    "from sklearn.model_selection import train_test_split"
   ]
  },
  {
   "cell_type": "code",
   "execution_count": 4,
   "id": "aa4b356c",
   "metadata": {},
   "outputs": [
    {
     "name": "stdout",
     "output_type": "stream",
     "text": [
      "coins_image_regression.csv \u001b[34mimages\u001b[m\u001b[m\r\n"
     ]
    }
   ],
   "source": [
    "!ls tmp/coins_image_regression"
   ]
  },
  {
   "cell_type": "code",
   "execution_count": 6,
   "id": "577614e1",
   "metadata": {},
   "outputs": [
    {
     "name": "stdout",
     "output_type": "stream",
     "text": [
      "    6029\r\n"
     ]
    }
   ],
   "source": [
    "!ls -l  tmp/coins_image_regression/images | wc -l"
   ]
  },
  {
   "cell_type": "code",
   "execution_count": 8,
   "id": "bfb7892b",
   "metadata": {},
   "outputs": [
    {
     "name": "stdout",
     "output_type": "stream",
     "text": [
      "(6028, 3)\n"
     ]
    },
    {
     "data": {
      "text/html": [
       "<div>\n",
       "<style scoped>\n",
       "    .dataframe tbody tr th:only-of-type {\n",
       "        vertical-align: middle;\n",
       "    }\n",
       "\n",
       "    .dataframe tbody tr th {\n",
       "        vertical-align: top;\n",
       "    }\n",
       "\n",
       "    .dataframe thead th {\n",
       "        text-align: right;\n",
       "    }\n",
       "</style>\n",
       "<table border=\"1\" class=\"dataframe\">\n",
       "  <thead>\n",
       "    <tr style=\"text-align: right;\">\n",
       "      <th></th>\n",
       "      <th>image_path</th>\n",
       "      <th>label</th>\n",
       "      <th>fold</th>\n",
       "    </tr>\n",
       "  </thead>\n",
       "  <tbody>\n",
       "    <tr>\n",
       "      <th>0</th>\n",
       "      <td>105_1479344562.jpg</td>\n",
       "      <td>105</td>\n",
       "      <td>1</td>\n",
       "    </tr>\n",
       "    <tr>\n",
       "      <th>1</th>\n",
       "      <td>105_1479344940.jpg</td>\n",
       "      <td>105</td>\n",
       "      <td>2</td>\n",
       "    </tr>\n",
       "    <tr>\n",
       "      <th>2</th>\n",
       "      <td>125_1479424716.jpg</td>\n",
       "      <td>125</td>\n",
       "      <td>1</td>\n",
       "    </tr>\n",
       "    <tr>\n",
       "      <th>3</th>\n",
       "      <td>90_1477856976.jpg</td>\n",
       "      <td>90</td>\n",
       "      <td>0</td>\n",
       "    </tr>\n",
       "    <tr>\n",
       "      <th>4</th>\n",
       "      <td>50_1477283274.jpg</td>\n",
       "      <td>50</td>\n",
       "      <td>2</td>\n",
       "    </tr>\n",
       "    <tr>\n",
       "      <th>...</th>\n",
       "      <td>...</td>\n",
       "      <td>...</td>\n",
       "      <td>...</td>\n",
       "    </tr>\n",
       "    <tr>\n",
       "      <th>6023</th>\n",
       "      <td>120_1479351402.jpg</td>\n",
       "      <td>120</td>\n",
       "      <td>3</td>\n",
       "    </tr>\n",
       "    <tr>\n",
       "      <th>6024</th>\n",
       "      <td>100_1477279920.jpg</td>\n",
       "      <td>100</td>\n",
       "      <td>4</td>\n",
       "    </tr>\n",
       "    <tr>\n",
       "      <th>6025</th>\n",
       "      <td>50_1477282626.jpg</td>\n",
       "      <td>50</td>\n",
       "      <td>0</td>\n",
       "    </tr>\n",
       "    <tr>\n",
       "      <th>6026</th>\n",
       "      <td>100_1477858716.jpg</td>\n",
       "      <td>100</td>\n",
       "      <td>4</td>\n",
       "    </tr>\n",
       "    <tr>\n",
       "      <th>6027</th>\n",
       "      <td>105_1479345384.jpg</td>\n",
       "      <td>105</td>\n",
       "      <td>2</td>\n",
       "    </tr>\n",
       "  </tbody>\n",
       "</table>\n",
       "<p>6028 rows × 3 columns</p>\n",
       "</div>"
      ],
      "text/plain": [
       "              image_path  label  fold\n",
       "0     105_1479344562.jpg    105     1\n",
       "1     105_1479344940.jpg    105     2\n",
       "2     125_1479424716.jpg    125     1\n",
       "3      90_1477856976.jpg     90     0\n",
       "4      50_1477283274.jpg     50     2\n",
       "...                  ...    ...   ...\n",
       "6023  120_1479351402.jpg    120     3\n",
       "6024  100_1477279920.jpg    100     4\n",
       "6025   50_1477282626.jpg     50     0\n",
       "6026  100_1477858716.jpg    100     4\n",
       "6027  105_1479345384.jpg    105     2\n",
       "\n",
       "[6028 rows x 3 columns]"
      ]
     },
     "execution_count": 8,
     "metadata": {},
     "output_type": "execute_result"
    }
   ],
   "source": [
    "d = pd.read_csv('tmp/coins_image_regression/coins_image_regression.csv')\n",
    "print(d.shape)\n",
    "d"
   ]
  },
  {
   "cell_type": "code",
   "execution_count": 25,
   "id": "4b2c81f0",
   "metadata": {},
   "outputs": [],
   "source": [
    "d = d.rename(columns={'image_path':'image'})"
   ]
  },
  {
   "cell_type": "code",
   "execution_count": 26,
   "id": "87015ae4",
   "metadata": {},
   "outputs": [
    {
     "data": {
      "text/plain": [
       "count    6028.000000\n",
       "mean       62.962840\n",
       "std        44.739969\n",
       "min         5.000000\n",
       "25%        25.000000\n",
       "50%        55.000000\n",
       "75%       100.000000\n",
       "max       175.000000\n",
       "Name: label, dtype: float64"
      ]
     },
     "execution_count": 26,
     "metadata": {},
     "output_type": "execute_result"
    }
   ],
   "source": [
    "d['label'].describe()"
   ]
  },
  {
   "cell_type": "code",
   "execution_count": 27,
   "id": "b9bb412e",
   "metadata": {},
   "outputs": [
    {
     "data": {
      "text/plain": [
       "<AxesSubplot: >"
      ]
     },
     "execution_count": 27,
     "metadata": {},
     "output_type": "execute_result"
    },
    {
     "data": {
      "image/png": "[encoded data removed]",
      "text/plain": [
       "<Figure size 640x480 with 1 Axes>"
      ]
     },
     "metadata": {},
     "output_type": "display_data"
    }
   ],
   "source": [
    "d['label'].hist(bins=20)"
   ]
  },
  {
   "cell_type": "code",
   "execution_count": 28,
   "id": "badafddc",
   "metadata": {},
   "outputs": [
    {
     "data": {
      "text/plain": [
       "1    1206\n",
       "2    1206\n",
       "0    1206\n",
       "3    1205\n",
       "4    1205\n",
       "Name: fold, dtype: int64"
      ]
     },
     "execution_count": 28,
     "metadata": {},
     "output_type": "execute_result"
    }
   ],
   "source": [
    "d['fold'].value_counts()"
   ]
  },
  {
   "cell_type": "code",
   "execution_count": 29,
   "id": "31557a68",
   "metadata": {},
   "outputs": [
    {
     "data": {
      "text/plain": [
       "((5428, 3), (600, 3))"
      ]
     },
     "execution_count": 29,
     "metadata": {},
     "output_type": "execute_result"
    }
   ],
   "source": [
    "d_train, d_test = train_test_split(d, test_size=600, random_state=123)#, stratify=d['label'])\n",
    "d_train.shape, d_test.shape"
   ]
  },
  {
   "cell_type": "code",
   "execution_count": 30,
   "id": "cc28015a",
   "metadata": {},
   "outputs": [
    {
     "data": {
      "text/plain": [
       "1    1094\n",
       "3    1088\n",
       "0    1086\n",
       "4    1081\n",
       "2    1079\n",
       "Name: fold, dtype: int64"
      ]
     },
     "execution_count": 30,
     "metadata": {},
     "output_type": "execute_result"
    }
   ],
   "source": [
    "d_train['fold'].value_counts()"
   ]
  },
  {
   "cell_type": "code",
   "execution_count": 31,
   "id": "15d17a0c",
   "metadata": {},
   "outputs": [
    {
     "data": {
      "text/plain": [
       "2    127\n",
       "4    124\n",
       "0    120\n",
       "3    117\n",
       "1    112\n",
       "Name: fold, dtype: int64"
      ]
     },
     "execution_count": 31,
     "metadata": {},
     "output_type": "execute_result"
    }
   ],
   "source": [
    "d_test['fold'].value_counts()"
   ]
  },
  {
   "cell_type": "markdown",
   "id": "543bf966",
   "metadata": {},
   "source": [
    "### DAI data"
   ]
  },
  {
   "cell_type": "code",
   "execution_count": 32,
   "id": "b9df36ad",
   "metadata": {},
   "outputs": [],
   "source": [
    "d_train.to_csv('tmp/DAI/coin_regression_DAI_Train/train.csv', index=False)\n",
    "d_test.to_csv('tmp/DAI/coin_regression_DAI_Test/test.csv', index=False)"
   ]
  },
  {
   "cell_type": "code",
   "execution_count": 34,
   "id": "8bffd2cb",
   "metadata": {},
   "outputs": [
    {
     "name": "stdout",
     "output_type": "stream",
     "text": [
      "coins_image_regression.csv \u001b[34mimages\u001b[m\u001b[m\r\n"
     ]
    }
   ],
   "source": [
    "!ls tmp/coins_image_regression"
   ]
  },
  {
   "cell_type": "code",
   "execution_count": 35,
   "id": "d0375a8b",
   "metadata": {},
   "outputs": [],
   "source": [
    "# Train image copy\n",
    "for im in d_train['image']:\n",
    "    from_dir = os.path.join('tmp', 'coins_image_regression', 'images', im)\n",
    "    #print(from_dir)\n",
    "    to_dir = os.path.join('tmp', 'DAI', 'coin_regression_DAI_Train', 'images', im)\n",
    "    #print(to_dir)\n",
    "    shutil.copy(from_dir, to_dir)"
   ]
  },
  {
   "cell_type": "code",
   "execution_count": 36,
   "id": "43508ff9",
   "metadata": {},
   "outputs": [
    {
     "name": "stdout",
     "output_type": "stream",
     "text": [
      "    5429\r\n"
     ]
    }
   ],
   "source": [
    "!ls -l tmp/DAI/coin_regression_DAI_Train/images | wc -l"
   ]
  },
  {
   "cell_type": "code",
   "execution_count": 37,
   "id": "f4c91049",
   "metadata": {},
   "outputs": [],
   "source": [
    "# Test image copy\n",
    "for im in d_test['image']:\n",
    "    from_dir = os.path.join('tmp', 'coins_image_regression', 'images', im)\n",
    "    #print(from_dir)\n",
    "    to_dir = os.path.join('tmp', 'DAI', 'coin_regression_DAI_Test', 'images', im)\n",
    "    #print(to_dir)\n",
    "    shutil.copy(from_dir, to_dir)"
   ]
  },
  {
   "cell_type": "code",
   "execution_count": 38,
   "id": "27999bfc",
   "metadata": {},
   "outputs": [
    {
     "name": "stdout",
     "output_type": "stream",
     "text": [
      "     601\r\n"
     ]
    }
   ],
   "source": [
    "!ls -l tmp/DAI/coin_regression_DAI_Test/images | wc -l"
   ]
  },
  {
   "cell_type": "markdown",
   "id": "a54ad17d",
   "metadata": {},
   "source": [
    "### HT and PT dataset"
   ]
  },
  {
   "cell_type": "code",
   "execution_count": 39,
   "id": "83a76d5a",
   "metadata": {},
   "outputs": [],
   "source": [
    "d_train.to_csv('tmp/HT/coin_regression_HT/train.csv', index=False)\n",
    "d_test.to_csv('tmp/HT/coin_regression_HT/test.csv', index=False)"
   ]
  },
  {
   "cell_type": "code",
   "execution_count": null,
   "id": "d6af60d7",
   "metadata": {},
   "outputs": [],
   "source": []
  }
 ],
 "metadata": {
  "kernelspec": {
   "display_name": "Python 3 (ipykernel)",
   "language": "python",
   "name": "python3"
  },
  "language_info": {
   "codemirror_mode": {
    "name": "ipython",
    "version": 3
   },
   "file_extension": ".py",
   "mimetype": "text/x-python",
   "name": "python",
   "nbconvert_exporter": "python",
   "pygments_lexer": "ipython3",
   "version": "3.8.13"
  }
 },
 "nbformat": 4,
 "nbformat_minor": 5
}
