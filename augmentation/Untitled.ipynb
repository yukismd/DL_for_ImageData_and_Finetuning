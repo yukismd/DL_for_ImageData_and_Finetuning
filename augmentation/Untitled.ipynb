{
 "cells": [
  {
   "cell_type": "code",
   "execution_count": null,
   "id": "b957e2c1",
   "metadata": {},
   "outputs": [],
   "source": []
  },
  {
   "cell_type": "code",
   "execution_count": 2,
   "id": "56d4ce8a",
   "metadata": {},
   "outputs": [],
   "source": [
    "import os\n",
    "\n",
    "import pandas as pd\n",
    "import torch\n",
    "import albumentations\n",
    "import cv2\n",
    "#from PIL import Image"
   ]
  },
  {
   "cell_type": "markdown",
   "id": "73c7d7e8",
   "metadata": {},
   "source": [
    "https://github.com/yukismd/DataScience_Tutorials/blob/main/PyTorch_learning/image_clasification.ipynb"
   ]
  },
  {
   "cell_type": "code",
   "execution_count": 13,
   "id": "02b7ef2c",
   "metadata": {},
   "outputs": [
    {
     "name": "stdout",
     "output_type": "stream",
     "text": [
      "HT_augmentation.md Untitled.ipynb     \u001b[34mdisplay_imgs\u001b[m\u001b[m       \u001b[34msample_data\u001b[m\u001b[m\r\n"
     ]
    }
   ],
   "source": [
    "!ls"
   ]
  },
  {
   "cell_type": "code",
   "execution_count": 29,
   "id": "9780d4ef",
   "metadata": {},
   "outputs": [],
   "source": [
    "image_size = 32\n",
    "\n",
    "csv_data = os.path.join('sample_data', 'data.csv')\n",
    "img_dir = os.path.join('sample_data', 'sample_imgs')"
   ]
  },
  {
   "cell_type": "code",
   "execution_count": 46,
   "id": "e40f7a60",
   "metadata": {},
   "outputs": [
    {
     "data": {
      "text/html": [
       "<div>\n",
       "<style scoped>\n",
       "    .dataframe tbody tr th:only-of-type {\n",
       "        vertical-align: middle;\n",
       "    }\n",
       "\n",
       "    .dataframe tbody tr th {\n",
       "        vertical-align: top;\n",
       "    }\n",
       "\n",
       "    .dataframe thead th {\n",
       "        text-align: right;\n",
       "    }\n",
       "</style>\n",
       "<table border=\"1\" class=\"dataframe\">\n",
       "  <thead>\n",
       "    <tr style=\"text-align: right;\">\n",
       "      <th></th>\n",
       "      <th>image</th>\n",
       "      <th>label</th>\n",
       "    </tr>\n",
       "  </thead>\n",
       "  <tbody>\n",
       "    <tr>\n",
       "      <th>0</th>\n",
       "      <td>office.jpg</td>\n",
       "      <td>office</td>\n",
       "    </tr>\n",
       "    <tr>\n",
       "      <th>1</th>\n",
       "      <td>robo.jpg</td>\n",
       "      <td>robo</td>\n",
       "    </tr>\n",
       "    <tr>\n",
       "      <th>2</th>\n",
       "      <td>traffic.jpg</td>\n",
       "      <td>traffic</td>\n",
       "    </tr>\n",
       "    <tr>\n",
       "      <th>3</th>\n",
       "      <td>zoo.jpg</td>\n",
       "      <td>zoo</td>\n",
       "    </tr>\n",
       "  </tbody>\n",
       "</table>\n",
       "</div>"
      ],
      "text/plain": [
       "         image    label\n",
       "0   office.jpg   office\n",
       "1     robo.jpg     robo\n",
       "2  traffic.jpg  traffic\n",
       "3      zoo.jpg      zoo"
      ]
     },
     "execution_count": 46,
     "metadata": {},
     "output_type": "execute_result"
    }
   ],
   "source": [
    "df = pd.read_csv(csv_data)\n",
    "df"
   ]
  },
  {
   "cell_type": "code",
   "execution_count": 53,
   "id": "eff2cc47",
   "metadata": {},
   "outputs": [],
   "source": [
    "## カスタムDatasetの作成\n",
    "class ImageDataset(torch.utils.data.Dataset):\n",
    "    def __init__(self, dataframe, image_dir, image_tansforem):\n",
    "        self.dataframe = dataframe\n",
    "        self.image_dir = image_dir\n",
    "        self.image_tansforem = image_tansforem     # データ拡張の機能\n",
    "    \n",
    "    def __len__(self):\n",
    "        return self.dataframe.shape[0]      # データの行数\n",
    "    \n",
    "    def __getitem__(self, idx):\n",
    "        '''\n",
    "        (torch.Tensor, 数値)型で1オブザベーションのインプット画像とターゲットを返す\n",
    "        '''\n",
    "        image_file = os.path.join(self.image_dir, self.dataframe.loc[idx, 'image'])    # 画像のパス。'data/hymenoptera_data_modified/images0013035.jpg'など\n",
    "        img = Image.open(image_file)\n",
    "        print(img)\n",
    "        img = self.image_tansforem(img)\n",
    "        tgt = self.dataframe.loc[idx, 'label']\n",
    "        return img, tgt"
   ]
  },
  {
   "cell_type": "code",
   "execution_count": 55,
   "id": "c98cc3bf",
   "metadata": {},
   "outputs": [],
   "source": [
    "augment1 = albumentations.Compose([\n",
    "    albumentations.Resize(image_size, image_size),\n",
    "])\n",
    "\n",
    "augment1 = albumentations.Compose([\n",
    "    albumentations.Resize(image_size, image_size),\n",
    "    albumentations.OpticalDistortion(distort_limit=0.05, shift_limit=0, p=1)\n",
    "])"
   ]
  },
  {
   "cell_type": "code",
   "execution_count": 57,
   "id": "b1a80719",
   "metadata": {},
   "outputs": [],
   "source": [
    "#dataset1 = ImageDataset(df_train, mode='train', transforms=t1)"
   ]
  },
  {
   "cell_type": "code",
   "execution_count": 58,
   "id": "4841b1e5",
   "metadata": {},
   "outputs": [],
   "source": [
    "d1 = ImageDataset(dataframe=df, \n",
    "                                                image_dir=img_dir, \n",
    "                                                image_tansforem=augment1)"
   ]
  },
  {
   "cell_type": "code",
   "execution_count": 59,
   "id": "46fa9375",
   "metadata": {},
   "outputs": [
    {
     "data": {
      "text/plain": [
       "<__main__.ImageDataset at 0x7f8278946070>"
      ]
     },
     "execution_count": 59,
     "metadata": {},
     "output_type": "execute_result"
    }
   ],
   "source": [
    "d1"
   ]
  },
  {
   "cell_type": "code",
   "execution_count": 60,
   "id": "704d4eb9",
   "metadata": {},
   "outputs": [
    {
     "name": "stdout",
     "output_type": "stream",
     "text": [
      "<PIL.JpegImagePlugin.JpegImageFile image mode=RGB size=750x500 at 0x7F82A2ACBD60>\n"
     ]
    },
    {
     "ename": "KeyError",
     "evalue": "'You have to pass data to augmentations as named arguments, for example: aug(image=image)'",
     "output_type": "error",
     "traceback": [
      "\u001b[0;31m---------------------------------------------------------------------------\u001b[0m",
      "\u001b[0;31mKeyError\u001b[0m                                  Traceback (most recent call last)",
      "Cell \u001b[0;32mIn [60], line 1\u001b[0m\n\u001b[0;32m----> 1\u001b[0m d1[\u001b[38;5;241m0\u001b[39m]\n",
      "Cell \u001b[0;32mIn [53], line 18\u001b[0m, in \u001b[0;36mImageDataset.__getitem__\u001b[0;34m(self, idx)\u001b[0m\n\u001b[1;32m     16\u001b[0m img \u001b[38;5;241m=\u001b[39m Image\u001b[38;5;241m.\u001b[39mopen(image_file)\n\u001b[1;32m     17\u001b[0m \u001b[38;5;28mprint\u001b[39m(img)\n\u001b[0;32m---> 18\u001b[0m img \u001b[38;5;241m=\u001b[39m \u001b[38;5;28;43mself\u001b[39;49m\u001b[38;5;241;43m.\u001b[39;49m\u001b[43mimage_tansforem\u001b[49m\u001b[43m(\u001b[49m\u001b[43mimg\u001b[49m\u001b[43m)\u001b[49m\n\u001b[1;32m     19\u001b[0m tgt \u001b[38;5;241m=\u001b[39m \u001b[38;5;28mself\u001b[39m\u001b[38;5;241m.\u001b[39mdataframe\u001b[38;5;241m.\u001b[39mloc[idx, \u001b[38;5;124m'\u001b[39m\u001b[38;5;124mlabel\u001b[39m\u001b[38;5;124m'\u001b[39m]\n\u001b[1;32m     20\u001b[0m \u001b[38;5;28;01mreturn\u001b[39;00m img, tgt\n",
      "File \u001b[0;32m/opt/anaconda3/envs/PyTorch/lib/python3.8/site-packages/albumentations/core/composition.py:188\u001b[0m, in \u001b[0;36mCompose.__call__\u001b[0;34m(self, force_apply, *args, **data)\u001b[0m\n\u001b[1;32m    186\u001b[0m \u001b[38;5;28;01mdef\u001b[39;00m \u001b[38;5;21m__call__\u001b[39m(\u001b[38;5;28mself\u001b[39m, \u001b[38;5;241m*\u001b[39margs, force_apply: \u001b[38;5;28mbool\u001b[39m \u001b[38;5;241m=\u001b[39m \u001b[38;5;28;01mFalse\u001b[39;00m, \u001b[38;5;241m*\u001b[39m\u001b[38;5;241m*\u001b[39mdata) \u001b[38;5;241m-\u001b[39m\u001b[38;5;241m>\u001b[39m typing\u001b[38;5;241m.\u001b[39mDict[\u001b[38;5;28mstr\u001b[39m, typing\u001b[38;5;241m.\u001b[39mAny]:\n\u001b[1;32m    187\u001b[0m     \u001b[38;5;28;01mif\u001b[39;00m args:\n\u001b[0;32m--> 188\u001b[0m         \u001b[38;5;28;01mraise\u001b[39;00m \u001b[38;5;167;01mKeyError\u001b[39;00m(\u001b[38;5;124m\"\u001b[39m\u001b[38;5;124mYou have to pass data to augmentations as named arguments, for example: aug(image=image)\u001b[39m\u001b[38;5;124m\"\u001b[39m)\n\u001b[1;32m    189\u001b[0m     \u001b[38;5;28;01mif\u001b[39;00m \u001b[38;5;28mself\u001b[39m\u001b[38;5;241m.\u001b[39mis_check_args:\n\u001b[1;32m    190\u001b[0m         \u001b[38;5;28mself\u001b[39m\u001b[38;5;241m.\u001b[39m_check_args(\u001b[38;5;241m*\u001b[39m\u001b[38;5;241m*\u001b[39mdata)\n",
      "\u001b[0;31mKeyError\u001b[0m: 'You have to pass data to augmentations as named arguments, for example: aug(image=image)'"
     ]
    }
   ],
   "source": [
    "d1[0]"
   ]
  },
  {
   "cell_type": "code",
   "execution_count": 61,
   "id": "21bc2db2",
   "metadata": {},
   "outputs": [
    {
     "data": {
      "text/plain": [
       "Compose([\n",
       "  Resize(always_apply=False, p=1, height=32, width=32, interpolation=1),\n",
       "  OpticalDistortion(always_apply=False, p=1, distort_limit=(-0.05, 0.05), shift_limit=(0, 0), interpolation=1, border_mode=4, value=None, mask_value=None),\n",
       "], p=1.0, bbox_params=None, keypoint_params=None, additional_targets={})"
      ]
     },
     "execution_count": 61,
     "metadata": {},
     "output_type": "execute_result"
    }
   ],
   "source": [
    "augment1"
   ]
  },
  {
   "cell_type": "code",
   "execution_count": null,
   "id": "aed03157",
   "metadata": {},
   "outputs": [],
   "source": []
  }
 ],
 "metadata": {
  "kernelspec": {
   "display_name": "Python 3 (ipykernel)",
   "language": "python",
   "name": "python3"
  },
  "language_info": {
   "codemirror_mode": {
    "name": "ipython",
    "version": 3
   },
   "file_extension": ".py",
   "mimetype": "text/x-python",
   "name": "python",
   "nbconvert_exporter": "python",
   "pygments_lexer": "ipython3",
   "version": "3.8.13"
  }
 },
 "nbformat": 4,
 "nbformat_minor": 5
}
