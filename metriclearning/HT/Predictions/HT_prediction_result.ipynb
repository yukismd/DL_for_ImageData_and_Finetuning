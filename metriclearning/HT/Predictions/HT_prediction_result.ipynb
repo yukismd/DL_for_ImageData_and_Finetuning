{
 "cells": [
  {
   "cell_type": "markdown",
   "id": "be9623c4",
   "metadata": {},
   "source": [
    "## Hydrogen TorchでPredictionで取得できる結果ファイルに関して"
   ]
  },
  {
   "cell_type": "markdown",
   "id": "7863ce0a",
   "metadata": {},
   "source": [
    "Hydrogen Torchで学習済みモデルを利用してPredictionを実施すると、以下のcsvとpklファイルがダウンロードできる"
   ]
  },
  {
   "cell_type": "code",
   "execution_count": 5,
   "id": "591f0de9",
   "metadata": {},
   "outputs": [
    {
     "name": "stdout",
     "output_type": "stream",
     "text": [
      "test_predictions.csv     test_raw_predictions.pkl\r\n"
     ]
    }
   ],
   "source": [
    "!ls preds_ml-market_round5_augmentations_strategy_Medium_pool_Average.fold0.predict_fold0"
   ]
  },
  {
   "cell_type": "code",
   "execution_count": 41,
   "id": "4ea908d7",
   "metadata": {},
   "outputs": [],
   "source": [
    "import pandas as pd\n",
    "import numpy as np"
   ]
  },
  {
   "cell_type": "code",
   "execution_count": 7,
   "id": "263976ae",
   "metadata": {},
   "outputs": [
    {
     "data": {
      "text/html": [
       "<div>\n",
       "<style scoped>\n",
       "    .dataframe tbody tr th:only-of-type {\n",
       "        vertical-align: middle;\n",
       "    }\n",
       "\n",
       "    .dataframe tbody tr th {\n",
       "        vertical-align: top;\n",
       "    }\n",
       "\n",
       "    .dataframe thead th {\n",
       "        text-align: right;\n",
       "    }\n",
       "</style>\n",
       "<table border=\"1\" class=\"dataframe\">\n",
       "  <thead>\n",
       "    <tr style=\"text-align: right;\">\n",
       "      <th></th>\n",
       "      <th>image_id</th>\n",
       "      <th>label</th>\n",
       "      <th>top_1_similar_image</th>\n",
       "      <th>top_1_cosine_similarity</th>\n",
       "      <th>top_2_similar_image</th>\n",
       "      <th>top_2_cosine_similarity</th>\n",
       "      <th>top_3_similar_image</th>\n",
       "      <th>top_3_cosine_similarity</th>\n",
       "    </tr>\n",
       "  </thead>\n",
       "  <tbody>\n",
       "    <tr>\n",
       "      <th>0</th>\n",
       "      <td>0806_c6s2_088893_10.jpg</td>\n",
       "      <td>806</td>\n",
       "      <td>0806_c3s2_094853_01.jpg</td>\n",
       "      <td>0.940281</td>\n",
       "      <td>0529_c2s1_148416_03.jpg</td>\n",
       "      <td>0.350552</td>\n",
       "      <td>0864_c3s2_107903_04.jpg</td>\n",
       "      <td>0.312094</td>\n",
       "    </tr>\n",
       "    <tr>\n",
       "      <th>1</th>\n",
       "      <td>1106_c2s2_147252_01.jpg</td>\n",
       "      <td>1106</td>\n",
       "      <td>1106_c2s2_147302_06.jpg</td>\n",
       "      <td>0.925393</td>\n",
       "      <td>1471_c1s6_011416_01.jpg</td>\n",
       "      <td>0.255338</td>\n",
       "      <td>1471_c1s6_011366_01.jpg</td>\n",
       "      <td>0.236654</td>\n",
       "    </tr>\n",
       "    <tr>\n",
       "      <th>2</th>\n",
       "      <td>1422_c3s3_057028_06.jpg</td>\n",
       "      <td>1422</td>\n",
       "      <td>0839_c2s2_104182_01.jpg</td>\n",
       "      <td>0.275027</td>\n",
       "      <td>0700_c6s2_048093_03.jpg</td>\n",
       "      <td>0.236710</td>\n",
       "      <td>0566_c3s2_004612_02.jpg</td>\n",
       "      <td>0.236667</td>\n",
       "    </tr>\n",
       "    <tr>\n",
       "      <th>3</th>\n",
       "      <td>0662_c3s2_040037_03.jpg</td>\n",
       "      <td>662</td>\n",
       "      <td>1415_c3s3_074669_05.jpg</td>\n",
       "      <td>0.548925</td>\n",
       "      <td>0190_c2s3_072102_02.jpg</td>\n",
       "      <td>0.448412</td>\n",
       "      <td>0392_c4s2_018467_03.jpg</td>\n",
       "      <td>0.289325</td>\n",
       "    </tr>\n",
       "    <tr>\n",
       "      <th>4</th>\n",
       "      <td>1231_c1s6_044221_02.jpg</td>\n",
       "      <td>1231</td>\n",
       "      <td>1140_c3s3_070894_01.jpg</td>\n",
       "      <td>0.535775</td>\n",
       "      <td>0379_c2s1_089071_02.jpg</td>\n",
       "      <td>0.453505</td>\n",
       "      <td>0515_c3s1_141658_03.jpg</td>\n",
       "      <td>0.449389</td>\n",
       "    </tr>\n",
       "    <tr>\n",
       "      <th>...</th>\n",
       "      <td>...</td>\n",
       "      <td>...</td>\n",
       "      <td>...</td>\n",
       "      <td>...</td>\n",
       "      <td>...</td>\n",
       "      <td>...</td>\n",
       "      <td>...</td>\n",
       "      <td>...</td>\n",
       "    </tr>\n",
       "    <tr>\n",
       "      <th>716</th>\n",
       "      <td>0871_c3s2_108253_04.jpg</td>\n",
       "      <td>871</td>\n",
       "      <td>0871_c2s2_105582_07.jpg</td>\n",
       "      <td>0.586493</td>\n",
       "      <td>0871_c2s2_105607_04.jpg</td>\n",
       "      <td>0.560050</td>\n",
       "      <td>0871_c2s2_105582_04.jpg</td>\n",
       "      <td>0.460217</td>\n",
       "    </tr>\n",
       "    <tr>\n",
       "      <th>717</th>\n",
       "      <td>1099_c2s2_145927_04.jpg</td>\n",
       "      <td>1099</td>\n",
       "      <td>1099_c2s2_145802_01.jpg</td>\n",
       "      <td>0.604163</td>\n",
       "      <td>0528_c1s3_007046_04.jpg</td>\n",
       "      <td>0.530871</td>\n",
       "      <td>0549_c1s3_009921_05.jpg</td>\n",
       "      <td>0.475304</td>\n",
       "    </tr>\n",
       "    <tr>\n",
       "      <th>718</th>\n",
       "      <td>0402_c3s1_095517_02.jpg</td>\n",
       "      <td>402</td>\n",
       "      <td>0402_c3s1_095542_01.jpg</td>\n",
       "      <td>0.924879</td>\n",
       "      <td>0402_c5s1_096223_06.jpg</td>\n",
       "      <td>0.837170</td>\n",
       "      <td>0402_c2s1_095371_01.jpg</td>\n",
       "      <td>0.783164</td>\n",
       "    </tr>\n",
       "    <tr>\n",
       "      <th>719</th>\n",
       "      <td>1072_c2s3_097677_01.jpg</td>\n",
       "      <td>1072</td>\n",
       "      <td>1072_c2s3_097777_01.jpg</td>\n",
       "      <td>0.609177</td>\n",
       "      <td>1072_c3s3_104094_06.jpg</td>\n",
       "      <td>0.508429</td>\n",
       "      <td>1072_c6s4_030577_09.jpg</td>\n",
       "      <td>0.487599</td>\n",
       "    </tr>\n",
       "    <tr>\n",
       "      <th>720</th>\n",
       "      <td>1099_c1s5_013086_03.jpg</td>\n",
       "      <td>1099</td>\n",
       "      <td>1099_c1s5_013111_02.jpg</td>\n",
       "      <td>0.686175</td>\n",
       "      <td>0528_c1s3_007046_04.jpg</td>\n",
       "      <td>0.543222</td>\n",
       "      <td>0588_c6s3_090992_01.jpg</td>\n",
       "      <td>0.477783</td>\n",
       "    </tr>\n",
       "  </tbody>\n",
       "</table>\n",
       "<p>721 rows × 8 columns</p>\n",
       "</div>"
      ],
      "text/plain": [
       "                    image_id  label      top_1_similar_image  \\\n",
       "0    0806_c6s2_088893_10.jpg    806  0806_c3s2_094853_01.jpg   \n",
       "1    1106_c2s2_147252_01.jpg   1106  1106_c2s2_147302_06.jpg   \n",
       "2    1422_c3s3_057028_06.jpg   1422  0839_c2s2_104182_01.jpg   \n",
       "3    0662_c3s2_040037_03.jpg    662  1415_c3s3_074669_05.jpg   \n",
       "4    1231_c1s6_044221_02.jpg   1231  1140_c3s3_070894_01.jpg   \n",
       "..                       ...    ...                      ...   \n",
       "716  0871_c3s2_108253_04.jpg    871  0871_c2s2_105582_07.jpg   \n",
       "717  1099_c2s2_145927_04.jpg   1099  1099_c2s2_145802_01.jpg   \n",
       "718  0402_c3s1_095517_02.jpg    402  0402_c3s1_095542_01.jpg   \n",
       "719  1072_c2s3_097677_01.jpg   1072  1072_c2s3_097777_01.jpg   \n",
       "720  1099_c1s5_013086_03.jpg   1099  1099_c1s5_013111_02.jpg   \n",
       "\n",
       "     top_1_cosine_similarity      top_2_similar_image  \\\n",
       "0                   0.940281  0529_c2s1_148416_03.jpg   \n",
       "1                   0.925393  1471_c1s6_011416_01.jpg   \n",
       "2                   0.275027  0700_c6s2_048093_03.jpg   \n",
       "3                   0.548925  0190_c2s3_072102_02.jpg   \n",
       "4                   0.535775  0379_c2s1_089071_02.jpg   \n",
       "..                       ...                      ...   \n",
       "716                 0.586493  0871_c2s2_105607_04.jpg   \n",
       "717                 0.604163  0528_c1s3_007046_04.jpg   \n",
       "718                 0.924879  0402_c5s1_096223_06.jpg   \n",
       "719                 0.609177  1072_c3s3_104094_06.jpg   \n",
       "720                 0.686175  0528_c1s3_007046_04.jpg   \n",
       "\n",
       "     top_2_cosine_similarity      top_3_similar_image  top_3_cosine_similarity  \n",
       "0                   0.350552  0864_c3s2_107903_04.jpg                 0.312094  \n",
       "1                   0.255338  1471_c1s6_011366_01.jpg                 0.236654  \n",
       "2                   0.236710  0566_c3s2_004612_02.jpg                 0.236667  \n",
       "3                   0.448412  0392_c4s2_018467_03.jpg                 0.289325  \n",
       "4                   0.453505  0515_c3s1_141658_03.jpg                 0.449389  \n",
       "..                       ...                      ...                      ...  \n",
       "716                 0.560050  0871_c2s2_105582_04.jpg                 0.460217  \n",
       "717                 0.530871  0549_c1s3_009921_05.jpg                 0.475304  \n",
       "718                 0.837170  0402_c2s1_095371_01.jpg                 0.783164  \n",
       "719                 0.508429  1072_c6s4_030577_09.jpg                 0.487599  \n",
       "720                 0.543222  0588_c6s3_090992_01.jpg                 0.477783  \n",
       "\n",
       "[721 rows x 8 columns]"
      ]
     },
     "execution_count": 7,
     "metadata": {},
     "output_type": "execute_result"
    }
   ],
   "source": [
    "df = pd.read_csv('preds_ml-market_round5_augmentations_strategy_Medium_pool_Average.fold0.predict_fold0/test_predictions.csv')\n",
    "df"
   ]
  },
  {
   "cell_type": "code",
   "execution_count": 14,
   "id": "66de5d2c",
   "metadata": {},
   "outputs": [
    {
     "data": {
      "text/plain": [
       "dict"
      ]
     },
     "execution_count": 14,
     "metadata": {},
     "output_type": "execute_result"
    }
   ],
   "source": [
    "pkl = pd.read_pickle('preds_ml-market_round5_augmentations_strategy_Medium_pool_Average.fold0.predict_fold0/test_raw_predictions.pkl')\n",
    "type(pkl)"
   ]
  },
  {
   "cell_type": "code",
   "execution_count": 16,
   "id": "c615325f",
   "metadata": {},
   "outputs": [
    {
     "data": {
      "text/plain": [
       "dict_keys(['embeddings', 'cosine_similarities', 'similar_images', 'image_id'])"
      ]
     },
     "execution_count": 16,
     "metadata": {},
     "output_type": "execute_result"
    }
   ],
   "source": [
    "pkl.keys()"
   ]
  },
  {
   "cell_type": "markdown",
   "id": "d64255e9",
   "metadata": {},
   "source": [
    "### embeddings\n",
    "(画像枚数、検索ベクトル次元)  \n",
    "検索ベクトルの次元数は、モデル作成時に指定した次元"
   ]
  },
  {
   "cell_type": "code",
   "execution_count": 19,
   "id": "17688ef9",
   "metadata": {},
   "outputs": [
    {
     "data": {
      "text/plain": [
       "(721, 256)"
      ]
     },
     "execution_count": 19,
     "metadata": {},
     "output_type": "execute_result"
    }
   ],
   "source": [
    "pkl['embeddings'].shape"
   ]
  },
  {
   "cell_type": "code",
   "execution_count": 26,
   "id": "811785ba",
   "metadata": {},
   "outputs": [
    {
     "data": {
      "text/plain": [
       "array([[ 1.6398124 ,  1.170287  ,  0.79744625,  2.998584  ,  1.1577348 ],\n",
       "       [ 0.5453316 , -0.1095092 , -0.06442223,  1.4211079 , -0.6957893 ],\n",
       "       [-1.1842227 ,  0.01390333, -0.64168704, -0.5241634 , -0.8966926 ],\n",
       "       [ 3.0031054 , -1.8206494 , -0.85749793,  0.29363796, -0.08301008],\n",
       "       [ 0.6488145 ,  0.2051069 , -0.6285773 ,  0.30053654, -1.520156  ],\n",
       "       [ 0.87946635,  0.11738975, -0.4545608 , -0.37383714, -0.41292605],\n",
       "       [-1.2107159 , -1.729303  , -2.3574762 ,  0.15786694, -0.18645708],\n",
       "       [-0.71217906,  0.54496926,  1.434429  , -0.24268219, -0.8351129 ],\n",
       "       [ 1.389871  ,  1.6104366 ,  0.6099144 , -2.0162287 ,  1.262106  ],\n",
       "       [ 1.2063247 ,  0.65634423, -0.17763661,  0.9300512 , -1.0998803 ]],\n",
       "      dtype=float32)"
      ]
     },
     "execution_count": 26,
     "metadata": {},
     "output_type": "execute_result"
    }
   ],
   "source": [
    "pkl['embeddings'][:10, :5]"
   ]
  },
  {
   "cell_type": "markdown",
   "id": "52080253",
   "metadata": {},
   "source": [
    "### cosine_similarities\n",
    "(画像枚数、類似上位50画像のコサイン類似度)  "
   ]
  },
  {
   "cell_type": "code",
   "execution_count": 21,
   "id": "2d12a200",
   "metadata": {},
   "outputs": [
    {
     "data": {
      "text/plain": [
       "(721, 50)"
      ]
     },
     "execution_count": 21,
     "metadata": {},
     "output_type": "execute_result"
    }
   ],
   "source": [
    "pkl['cosine_similarities'].shape"
   ]
  },
  {
   "cell_type": "code",
   "execution_count": 73,
   "id": "4fbcec5e",
   "metadata": {},
   "outputs": [
    {
     "name": "stdout",
     "output_type": "stream",
     "text": [
      "0806_c6s2_088893_10.jpg と類似した上位50画像とのコサイン類似度\n"
     ]
    },
    {
     "data": {
      "text/plain": [
       "array([1.        , 0.94028056, 0.35055184, 0.3120944 , 0.27041876,\n",
       "       0.2655021 , 0.23886728, 0.22951023, 0.22620165, 0.20627016,\n",
       "       0.20406446, 0.1992691 , 0.19908944, 0.19853538, 0.19126937,\n",
       "       0.19023725, 0.18864374, 0.18836144, 0.18811636, 0.18587422,\n",
       "       0.18198632, 0.17720407, 0.17444804, 0.17269425, 0.17234688,\n",
       "       0.16216266, 0.1605659 , 0.16000679, 0.15689033, 0.15656313,\n",
       "       0.1546832 , 0.15227385, 0.15149283, 0.15092051, 0.1500732 ,\n",
       "       0.14847201, 0.14669168, 0.14633855, 0.14561892, 0.14546742,\n",
       "       0.14458139, 0.14281389, 0.1407694 , 0.14021844, 0.13890241,\n",
       "       0.1377278 , 0.13457842, 0.13395295, 0.13297963, 0.13282338],\n",
       "      dtype=float32)"
      ]
     },
     "execution_count": 73,
     "metadata": {},
     "output_type": "execute_result"
    }
   ],
   "source": [
    "print('{} と類似した上位50画像とのコサイン類似度'.format(df.loc[0, 'image_id']))\n",
    "pkl['cosine_similarities'][0,:]"
   ]
  },
  {
   "cell_type": "code",
   "execution_count": 30,
   "id": "49cb0ed6",
   "metadata": {},
   "outputs": [],
   "source": [
    "def cos_sim(v1, v2):\n",
    "    return np.dot(v1, v2) / (np.linalg.norm(v1) * np.linalg.norm(v2))"
   ]
  },
  {
   "cell_type": "code",
   "execution_count": 74,
   "id": "0a5a35cc",
   "metadata": {},
   "outputs": [
    {
     "data": {
      "text/html": [
       "<div>\n",
       "<style scoped>\n",
       "    .dataframe tbody tr th:only-of-type {\n",
       "        vertical-align: middle;\n",
       "    }\n",
       "\n",
       "    .dataframe tbody tr th {\n",
       "        vertical-align: top;\n",
       "    }\n",
       "\n",
       "    .dataframe thead th {\n",
       "        text-align: right;\n",
       "    }\n",
       "</style>\n",
       "<table border=\"1\" class=\"dataframe\">\n",
       "  <thead>\n",
       "    <tr style=\"text-align: right;\">\n",
       "      <th></th>\n",
       "      <th>image_id</th>\n",
       "      <th>label</th>\n",
       "      <th>top_1_similar_image</th>\n",
       "      <th>top_1_cosine_similarity</th>\n",
       "      <th>top_2_similar_image</th>\n",
       "      <th>top_2_cosine_similarity</th>\n",
       "      <th>top_3_similar_image</th>\n",
       "      <th>top_3_cosine_similarity</th>\n",
       "    </tr>\n",
       "  </thead>\n",
       "  <tbody>\n",
       "    <tr>\n",
       "      <th>312</th>\n",
       "      <td>0806_c3s2_094853_01.jpg</td>\n",
       "      <td>806</td>\n",
       "      <td>0806_c6s2_088893_10.jpg</td>\n",
       "      <td>0.940281</td>\n",
       "      <td>0529_c2s1_148416_03.jpg</td>\n",
       "      <td>0.392337</td>\n",
       "      <td>0864_c3s2_107903_04.jpg</td>\n",
       "      <td>0.354492</td>\n",
       "    </tr>\n",
       "  </tbody>\n",
       "</table>\n",
       "</div>"
      ],
      "text/plain": [
       "                    image_id  label      top_1_similar_image  \\\n",
       "312  0806_c3s2_094853_01.jpg    806  0806_c6s2_088893_10.jpg   \n",
       "\n",
       "     top_1_cosine_similarity      top_2_similar_image  \\\n",
       "312                 0.940281  0529_c2s1_148416_03.jpg   \n",
       "\n",
       "     top_2_cosine_similarity      top_3_similar_image  top_3_cosine_similarity  \n",
       "312                 0.392337  0864_c3s2_107903_04.jpg                 0.354492  "
      ]
     },
     "execution_count": 74,
     "metadata": {},
     "output_type": "execute_result"
    }
   ],
   "source": [
    "df[df['image_id']=='0806_c3s2_094853_01.jpg']   # 1番類似している画像"
   ]
  },
  {
   "cell_type": "code",
   "execution_count": 75,
   "id": "13f6a532",
   "metadata": {},
   "outputs": [
    {
     "name": "stdout",
     "output_type": "stream",
     "text": [
      "312\n"
     ]
    },
    {
     "data": {
      "text/plain": [
       "array([1.        , 0.94028056, 0.3923371 , 0.35449207, 0.31615618,\n",
       "       0.27990934, 0.24694756, 0.22971949, 0.21657586, 0.20553778,\n",
       "       0.20251378, 0.188428  , 0.18755712, 0.18750112, 0.18710615,\n",
       "       0.18382469, 0.18038675, 0.18022421, 0.17522779, 0.17436096,\n",
       "       0.17284915, 0.17275351, 0.17200261, 0.17104515, 0.16906054,\n",
       "       0.16747378, 0.16647834, 0.16558881, 0.16522035, 0.1636498 ,\n",
       "       0.16336213, 0.15889491, 0.15783687, 0.1570262 , 0.15626314,\n",
       "       0.15264973, 0.14894149, 0.14770815, 0.14652765, 0.14524058,\n",
       "       0.14481041, 0.14373538, 0.14320585, 0.14292237, 0.1406737 ,\n",
       "       0.13792059, 0.13691899, 0.13691899, 0.13557279, 0.13555592],\n",
       "      dtype=float32)"
      ]
     },
     "execution_count": 75,
     "metadata": {},
     "output_type": "execute_result"
    }
   ],
   "source": [
    "idx = df[df['image_id']=='0806_c3s2_094853_01.jpg'].index[0]\n",
    "print(idx)\n",
    "pkl['cosine_similarities'][idx,:]"
   ]
  },
  {
   "cell_type": "code",
   "execution_count": 76,
   "id": "68461ba5",
   "metadata": {},
   "outputs": [
    {
     "data": {
      "text/plain": [
       "0.94028056"
      ]
     },
     "execution_count": 76,
     "metadata": {},
     "output_type": "execute_result"
    }
   ],
   "source": [
    "cos_sim(pkl['embeddings'][0,:], pkl['embeddings'][idx,:])"
   ]
  },
  {
   "cell_type": "code",
   "execution_count": 77,
   "id": "636ce8d8",
   "metadata": {},
   "outputs": [
    {
     "data": {
      "text/plain": [
       "0.94028056"
      ]
     },
     "execution_count": 77,
     "metadata": {},
     "output_type": "execute_result"
    }
   ],
   "source": [
    "pkl['cosine_similarities'][0,1]"
   ]
  },
  {
   "cell_type": "code",
   "execution_count": 78,
   "id": "52ce0683",
   "metadata": {},
   "outputs": [],
   "source": [
    "# 一致"
   ]
  },
  {
   "cell_type": "markdown",
   "id": "69823be3",
   "metadata": {},
   "source": [
    "### similar_images\n",
    "(画像枚数、類似上位50画像のindex)  "
   ]
  },
  {
   "cell_type": "code",
   "execution_count": 81,
   "id": "df40ef78",
   "metadata": {},
   "outputs": [
    {
     "data": {
      "text/plain": [
       "(721, 50)"
      ]
     },
     "execution_count": 81,
     "metadata": {},
     "output_type": "execute_result"
    }
   ],
   "source": [
    "pkl['similar_images'].shape"
   ]
  },
  {
   "cell_type": "code",
   "execution_count": 82,
   "id": "8915aef2",
   "metadata": {},
   "outputs": [
    {
     "data": {
      "text/plain": [
       "array([[  0, 312,  86, ..., 561, 619, 621],\n",
       "       [  1, 450, 206, ..., 452,  82, 226],\n",
       "       [  2, 456, 212, ..., 190,  42,  81],\n",
       "       ...,\n",
       "       [718, 643, 639, ..., 695, 658, 510],\n",
       "       [719, 679, 701, ..., 421, 420, 224],\n",
       "       [720, 651,  53, ..., 247, 445, 426]])"
      ]
     },
     "execution_count": 82,
     "metadata": {},
     "output_type": "execute_result"
    }
   ],
   "source": [
    "pkl['similar_images']"
   ]
  },
  {
   "cell_type": "code",
   "execution_count": 83,
   "id": "2ffcce31",
   "metadata": {},
   "outputs": [
    {
     "data": {
      "text/plain": [
       "(0, 720)"
      ]
     },
     "execution_count": 83,
     "metadata": {},
     "output_type": "execute_result"
    }
   ],
   "source": [
    "pkl['similar_images'].min(), pkl['similar_images'].max()"
   ]
  },
  {
   "cell_type": "markdown",
   "id": "40861df3",
   "metadata": {},
   "source": [
    "### image_id\n",
    "画像ファイル名"
   ]
  },
  {
   "cell_type": "code",
   "execution_count": 85,
   "id": "439194b0",
   "metadata": {},
   "outputs": [
    {
     "data": {
      "text/plain": [
       "(721,)"
      ]
     },
     "execution_count": 85,
     "metadata": {},
     "output_type": "execute_result"
    }
   ],
   "source": [
    "pkl['image_id'].shape"
   ]
  },
  {
   "cell_type": "code",
   "execution_count": 87,
   "id": "b2c49b16",
   "metadata": {},
   "outputs": [
    {
     "data": {
      "text/plain": [
       "array(['0806_c6s2_088893_10.jpg', '1106_c2s2_147252_01.jpg',\n",
       "       '1422_c3s3_057028_06.jpg', '0662_c3s2_040037_03.jpg',\n",
       "       '1231_c1s6_044221_02.jpg', '0901_c6s2_105193_02.jpg',\n",
       "       '1453_c3s3_057728_02.jpg', '1313_c6s3_078267_01.jpg',\n",
       "       '0970_c4s4_062716_02.jpg', '0546_c2s1_157341_03.jpg'], dtype=object)"
      ]
     },
     "execution_count": 87,
     "metadata": {},
     "output_type": "execute_result"
    }
   ],
   "source": [
    "pkl['image_id'][:10]"
   ]
  },
  {
   "cell_type": "code",
   "execution_count": null,
   "id": "bd18c0f0",
   "metadata": {},
   "outputs": [],
   "source": []
  }
 ],
 "metadata": {
  "kernelspec": {
   "display_name": "Python 3 (ipykernel)",
   "language": "python",
   "name": "python3"
  },
  "language_info": {
   "codemirror_mode": {
    "name": "ipython",
    "version": 3
   },
   "file_extension": ".py",
   "mimetype": "text/x-python",
   "name": "python",
   "nbconvert_exporter": "python",
   "pygments_lexer": "ipython3",
   "version": "3.8.13"
  }
 },
 "nbformat": 4,
 "nbformat_minor": 5
}
