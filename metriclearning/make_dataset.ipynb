{
 "cells": [
  {
   "cell_type": "code",
   "execution_count": null,
   "id": "6e06013c",
   "metadata": {},
   "outputs": [],
   "source": []
  },
  {
   "cell_type": "code",
   "execution_count": 132,
   "id": "43f5ab15",
   "metadata": {},
   "outputs": [],
   "source": [
    "import os\n",
    "import shutil\n",
    "\n",
    "import pandas as pd\n",
    "import numpy as np\n",
    "import cv2\n",
    "import matplotlib.pyplot as plt"
   ]
  },
  {
   "cell_type": "code",
   "execution_count": 2,
   "id": "7f331753",
   "metadata": {},
   "outputs": [
    {
     "name": "stdout",
     "output_type": "stream",
     "text": [
      "\u001b[34mbounding_box_train\u001b[m\u001b[m test.csv           train.csv\r\n"
     ]
    }
   ],
   "source": [
    "!ls tmp/market_1501_metric_learning"
   ]
  },
  {
   "cell_type": "code",
   "execution_count": 3,
   "id": "8d7d3ddc",
   "metadata": {},
   "outputs": [],
   "source": [
    "im_dir = 'tmp/market_1501_metric_learning/bounding_box_train'"
   ]
  },
  {
   "cell_type": "code",
   "execution_count": 4,
   "id": "6baa8658",
   "metadata": {},
   "outputs": [
    {
     "data": {
      "text/plain": [
       "((12936, 3), (534, 3))"
      ]
     },
     "execution_count": 4,
     "metadata": {},
     "output_type": "execute_result"
    }
   ],
   "source": [
    "d_train = pd.read_csv('tmp/market_1501_metric_learning/train.csv', dtype = {'label':'object'})\n",
    "d_test = pd.read_csv('tmp/market_1501_metric_learning/test.csv', dtype = {'label':'object'})\n",
    "d_train.shape, d_test.shape"
   ]
  },
  {
   "cell_type": "code",
   "execution_count": 7,
   "id": "8753dcc8",
   "metadata": {},
   "outputs": [
    {
     "data": {
      "text/html": [
       "<div>\n",
       "<style scoped>\n",
       "    .dataframe tbody tr th:only-of-type {\n",
       "        vertical-align: middle;\n",
       "    }\n",
       "\n",
       "    .dataframe tbody tr th {\n",
       "        vertical-align: top;\n",
       "    }\n",
       "\n",
       "    .dataframe thead th {\n",
       "        text-align: right;\n",
       "    }\n",
       "</style>\n",
       "<table border=\"1\" class=\"dataframe\">\n",
       "  <thead>\n",
       "    <tr style=\"text-align: right;\">\n",
       "      <th></th>\n",
       "      <th>image_id</th>\n",
       "      <th>label</th>\n",
       "      <th>fold</th>\n",
       "    </tr>\n",
       "  </thead>\n",
       "  <tbody>\n",
       "    <tr>\n",
       "      <th>0</th>\n",
       "      <td>0517_c5s1_143520_02.jpg</td>\n",
       "      <td>0517</td>\n",
       "      <td>4</td>\n",
       "    </tr>\n",
       "    <tr>\n",
       "      <th>1</th>\n",
       "      <td>0816_c6s2_104418_01.jpg</td>\n",
       "      <td>0816</td>\n",
       "      <td>6</td>\n",
       "    </tr>\n",
       "    <tr>\n",
       "      <th>2</th>\n",
       "      <td>1278_c1s6_012016_02.jpg</td>\n",
       "      <td>1278</td>\n",
       "      <td>7</td>\n",
       "    </tr>\n",
       "    <tr>\n",
       "      <th>3</th>\n",
       "      <td>0508_c5s2_082302_02.jpg</td>\n",
       "      <td>0508</td>\n",
       "      <td>1</td>\n",
       "    </tr>\n",
       "    <tr>\n",
       "      <th>4</th>\n",
       "      <td>1198_c6s3_034292_01.jpg</td>\n",
       "      <td>1198</td>\n",
       "      <td>8</td>\n",
       "    </tr>\n",
       "    <tr>\n",
       "      <th>...</th>\n",
       "      <td>...</td>\n",
       "      <td>...</td>\n",
       "      <td>...</td>\n",
       "    </tr>\n",
       "    <tr>\n",
       "      <th>12931</th>\n",
       "      <td>1454_c5s3_058740_07.jpg</td>\n",
       "      <td>1454</td>\n",
       "      <td>3</td>\n",
       "    </tr>\n",
       "    <tr>\n",
       "      <th>12932</th>\n",
       "      <td>1479_c6s3_084617_02.jpg</td>\n",
       "      <td>1479</td>\n",
       "      <td>5</td>\n",
       "    </tr>\n",
       "    <tr>\n",
       "      <th>12933</th>\n",
       "      <td>0208_c2s1_045276_03.jpg</td>\n",
       "      <td>0208</td>\n",
       "      <td>1</td>\n",
       "    </tr>\n",
       "    <tr>\n",
       "      <th>12934</th>\n",
       "      <td>0726_c6s2_075643_01.jpg</td>\n",
       "      <td>0726</td>\n",
       "      <td>4</td>\n",
       "    </tr>\n",
       "    <tr>\n",
       "      <th>12935</th>\n",
       "      <td>1358_c5s3_053840_01.jpg</td>\n",
       "      <td>1358</td>\n",
       "      <td>3</td>\n",
       "    </tr>\n",
       "  </tbody>\n",
       "</table>\n",
       "<p>12936 rows × 3 columns</p>\n",
       "</div>"
      ],
      "text/plain": [
       "                      image_id label  fold\n",
       "0      0517_c5s1_143520_02.jpg  0517     4\n",
       "1      0816_c6s2_104418_01.jpg  0816     6\n",
       "2      1278_c1s6_012016_02.jpg  1278     7\n",
       "3      0508_c5s2_082302_02.jpg  0508     1\n",
       "4      1198_c6s3_034292_01.jpg  1198     8\n",
       "...                        ...   ...   ...\n",
       "12931  1454_c5s3_058740_07.jpg  1454     3\n",
       "12932  1479_c6s3_084617_02.jpg  1479     5\n",
       "12933  0208_c2s1_045276_03.jpg  0208     1\n",
       "12934  0726_c6s2_075643_01.jpg  0726     4\n",
       "12935  1358_c5s3_053840_01.jpg  1358     3\n",
       "\n",
       "[12936 rows x 3 columns]"
      ]
     },
     "execution_count": 7,
     "metadata": {},
     "output_type": "execute_result"
    }
   ],
   "source": [
    "d_train"
   ]
  },
  {
   "cell_type": "code",
   "execution_count": 8,
   "id": "d0929bac",
   "metadata": {},
   "outputs": [
    {
     "data": {
      "text/html": [
       "<div>\n",
       "<style scoped>\n",
       "    .dataframe tbody tr th:only-of-type {\n",
       "        vertical-align: middle;\n",
       "    }\n",
       "\n",
       "    .dataframe tbody tr th {\n",
       "        vertical-align: top;\n",
       "    }\n",
       "\n",
       "    .dataframe thead th {\n",
       "        text-align: right;\n",
       "    }\n",
       "</style>\n",
       "<table border=\"1\" class=\"dataframe\">\n",
       "  <thead>\n",
       "    <tr style=\"text-align: right;\">\n",
       "      <th></th>\n",
       "      <th>image_id</th>\n",
       "      <th>label</th>\n",
       "      <th>fold</th>\n",
       "    </tr>\n",
       "  </thead>\n",
       "  <tbody>\n",
       "    <tr>\n",
       "      <th>0</th>\n",
       "      <td>0111_c5s1_019051_04.jpg</td>\n",
       "      <td>0111</td>\n",
       "      <td>0</td>\n",
       "    </tr>\n",
       "    <tr>\n",
       "      <th>1</th>\n",
       "      <td>0340_c5s1_080648_05.jpg</td>\n",
       "      <td>0340</td>\n",
       "      <td>0</td>\n",
       "    </tr>\n",
       "    <tr>\n",
       "      <th>2</th>\n",
       "      <td>0641_c1s3_044426_01.jpg</td>\n",
       "      <td>0641</td>\n",
       "      <td>0</td>\n",
       "    </tr>\n",
       "    <tr>\n",
       "      <th>3</th>\n",
       "      <td>0279_c3s1_154833_03.jpg</td>\n",
       "      <td>0279</td>\n",
       "      <td>0</td>\n",
       "    </tr>\n",
       "    <tr>\n",
       "      <th>4</th>\n",
       "      <td>1368_c1s5_069791_04.jpg</td>\n",
       "      <td>1368</td>\n",
       "      <td>0</td>\n",
       "    </tr>\n",
       "    <tr>\n",
       "      <th>...</th>\n",
       "      <td>...</td>\n",
       "      <td>...</td>\n",
       "      <td>...</td>\n",
       "    </tr>\n",
       "    <tr>\n",
       "      <th>529</th>\n",
       "      <td>0484_c5s1_126720_01.jpg</td>\n",
       "      <td>0484</td>\n",
       "      <td>0</td>\n",
       "    </tr>\n",
       "    <tr>\n",
       "      <th>530</th>\n",
       "      <td>0832_c2s3_063427_14.jpg</td>\n",
       "      <td>0832</td>\n",
       "      <td>0</td>\n",
       "    </tr>\n",
       "    <tr>\n",
       "      <th>531</th>\n",
       "      <td>1078_c4s5_008004_01.jpg</td>\n",
       "      <td>1078</td>\n",
       "      <td>0</td>\n",
       "    </tr>\n",
       "    <tr>\n",
       "      <th>532</th>\n",
       "      <td>0427_c3s1_104367_04.jpg</td>\n",
       "      <td>0427</td>\n",
       "      <td>0</td>\n",
       "    </tr>\n",
       "    <tr>\n",
       "      <th>533</th>\n",
       "      <td>1168_c3s3_003512_03.jpg</td>\n",
       "      <td>1168</td>\n",
       "      <td>0</td>\n",
       "    </tr>\n",
       "  </tbody>\n",
       "</table>\n",
       "<p>534 rows × 3 columns</p>\n",
       "</div>"
      ],
      "text/plain": [
       "                    image_id label  fold\n",
       "0    0111_c5s1_019051_04.jpg  0111     0\n",
       "1    0340_c5s1_080648_05.jpg  0340     0\n",
       "2    0641_c1s3_044426_01.jpg  0641     0\n",
       "3    0279_c3s1_154833_03.jpg  0279     0\n",
       "4    1368_c1s5_069791_04.jpg  1368     0\n",
       "..                       ...   ...   ...\n",
       "529  0484_c5s1_126720_01.jpg  0484     0\n",
       "530  0832_c2s3_063427_14.jpg  0832     0\n",
       "531  1078_c4s5_008004_01.jpg  1078     0\n",
       "532  0427_c3s1_104367_04.jpg  0427     0\n",
       "533  1168_c3s3_003512_03.jpg  1168     0\n",
       "\n",
       "[534 rows x 3 columns]"
      ]
     },
     "execution_count": 8,
     "metadata": {},
     "output_type": "execute_result"
    }
   ],
   "source": [
    "d_test"
   ]
  },
  {
   "cell_type": "code",
   "execution_count": 10,
   "id": "5654cd38",
   "metadata": {},
   "outputs": [
    {
     "data": {
      "text/plain": [
       "(13470, 4)"
      ]
     },
     "execution_count": 10,
     "metadata": {},
     "output_type": "execute_result"
    }
   ],
   "source": [
    "d_train['source'] = 'train'\n",
    "d_test['source'] = 'test'\n",
    "\n",
    "d = pd.concat([d_train, d_test])\n",
    "d.shape"
   ]
  },
  {
   "cell_type": "code",
   "execution_count": 11,
   "id": "855dc26c",
   "metadata": {},
   "outputs": [
    {
     "data": {
      "text/html": [
       "<div>\n",
       "<style scoped>\n",
       "    .dataframe tbody tr th:only-of-type {\n",
       "        vertical-align: middle;\n",
       "    }\n",
       "\n",
       "    .dataframe tbody tr th {\n",
       "        vertical-align: top;\n",
       "    }\n",
       "\n",
       "    .dataframe thead th {\n",
       "        text-align: right;\n",
       "    }\n",
       "</style>\n",
       "<table border=\"1\" class=\"dataframe\">\n",
       "  <thead>\n",
       "    <tr style=\"text-align: right;\">\n",
       "      <th></th>\n",
       "      <th>image_id</th>\n",
       "      <th>label</th>\n",
       "      <th>fold</th>\n",
       "      <th>source</th>\n",
       "    </tr>\n",
       "  </thead>\n",
       "  <tbody>\n",
       "    <tr>\n",
       "      <th>0</th>\n",
       "      <td>0517_c5s1_143520_02.jpg</td>\n",
       "      <td>0517</td>\n",
       "      <td>4</td>\n",
       "      <td>train</td>\n",
       "    </tr>\n",
       "    <tr>\n",
       "      <th>1</th>\n",
       "      <td>0816_c6s2_104418_01.jpg</td>\n",
       "      <td>0816</td>\n",
       "      <td>6</td>\n",
       "      <td>train</td>\n",
       "    </tr>\n",
       "    <tr>\n",
       "      <th>2</th>\n",
       "      <td>1278_c1s6_012016_02.jpg</td>\n",
       "      <td>1278</td>\n",
       "      <td>7</td>\n",
       "      <td>train</td>\n",
       "    </tr>\n",
       "    <tr>\n",
       "      <th>3</th>\n",
       "      <td>0508_c5s2_082302_02.jpg</td>\n",
       "      <td>0508</td>\n",
       "      <td>1</td>\n",
       "      <td>train</td>\n",
       "    </tr>\n",
       "    <tr>\n",
       "      <th>4</th>\n",
       "      <td>1198_c6s3_034292_01.jpg</td>\n",
       "      <td>1198</td>\n",
       "      <td>8</td>\n",
       "      <td>train</td>\n",
       "    </tr>\n",
       "    <tr>\n",
       "      <th>...</th>\n",
       "      <td>...</td>\n",
       "      <td>...</td>\n",
       "      <td>...</td>\n",
       "      <td>...</td>\n",
       "    </tr>\n",
       "    <tr>\n",
       "      <th>529</th>\n",
       "      <td>0484_c5s1_126720_01.jpg</td>\n",
       "      <td>0484</td>\n",
       "      <td>0</td>\n",
       "      <td>test</td>\n",
       "    </tr>\n",
       "    <tr>\n",
       "      <th>530</th>\n",
       "      <td>0832_c2s3_063427_14.jpg</td>\n",
       "      <td>0832</td>\n",
       "      <td>0</td>\n",
       "      <td>test</td>\n",
       "    </tr>\n",
       "    <tr>\n",
       "      <th>531</th>\n",
       "      <td>1078_c4s5_008004_01.jpg</td>\n",
       "      <td>1078</td>\n",
       "      <td>0</td>\n",
       "      <td>test</td>\n",
       "    </tr>\n",
       "    <tr>\n",
       "      <th>532</th>\n",
       "      <td>0427_c3s1_104367_04.jpg</td>\n",
       "      <td>0427</td>\n",
       "      <td>0</td>\n",
       "      <td>test</td>\n",
       "    </tr>\n",
       "    <tr>\n",
       "      <th>533</th>\n",
       "      <td>1168_c3s3_003512_03.jpg</td>\n",
       "      <td>1168</td>\n",
       "      <td>0</td>\n",
       "      <td>test</td>\n",
       "    </tr>\n",
       "  </tbody>\n",
       "</table>\n",
       "<p>13470 rows × 4 columns</p>\n",
       "</div>"
      ],
      "text/plain": [
       "                    image_id label  fold source\n",
       "0    0517_c5s1_143520_02.jpg  0517     4  train\n",
       "1    0816_c6s2_104418_01.jpg  0816     6  train\n",
       "2    1278_c1s6_012016_02.jpg  1278     7  train\n",
       "3    0508_c5s2_082302_02.jpg  0508     1  train\n",
       "4    1198_c6s3_034292_01.jpg  1198     8  train\n",
       "..                       ...   ...   ...    ...\n",
       "529  0484_c5s1_126720_01.jpg  0484     0   test\n",
       "530  0832_c2s3_063427_14.jpg  0832     0   test\n",
       "531  1078_c4s5_008004_01.jpg  1078     0   test\n",
       "532  0427_c3s1_104367_04.jpg  0427     0   test\n",
       "533  1168_c3s3_003512_03.jpg  1168     0   test\n",
       "\n",
       "[13470 rows x 4 columns]"
      ]
     },
     "execution_count": 11,
     "metadata": {},
     "output_type": "execute_result"
    }
   ],
   "source": [
    "d"
   ]
  },
  {
   "cell_type": "code",
   "execution_count": 18,
   "id": "94981403",
   "metadata": {},
   "outputs": [
    {
     "data": {
      "text/html": [
       "<div>\n",
       "<style scoped>\n",
       "    .dataframe tbody tr th:only-of-type {\n",
       "        vertical-align: middle;\n",
       "    }\n",
       "\n",
       "    .dataframe tbody tr th {\n",
       "        vertical-align: top;\n",
       "    }\n",
       "\n",
       "    .dataframe thead th {\n",
       "        text-align: right;\n",
       "    }\n",
       "</style>\n",
       "<table border=\"1\" class=\"dataframe\">\n",
       "  <thead>\n",
       "    <tr style=\"text-align: right;\">\n",
       "      <th></th>\n",
       "      <th>label</th>\n",
       "      <th>n</th>\n",
       "    </tr>\n",
       "  </thead>\n",
       "  <tbody>\n",
       "    <tr>\n",
       "      <th>0</th>\n",
       "      <td>0299</td>\n",
       "      <td>81</td>\n",
       "    </tr>\n",
       "    <tr>\n",
       "      <th>1</th>\n",
       "      <td>0139</td>\n",
       "      <td>72</td>\n",
       "    </tr>\n",
       "    <tr>\n",
       "      <th>2</th>\n",
       "      <td>0105</td>\n",
       "      <td>70</td>\n",
       "    </tr>\n",
       "    <tr>\n",
       "      <th>3</th>\n",
       "      <td>0272</td>\n",
       "      <td>67</td>\n",
       "    </tr>\n",
       "    <tr>\n",
       "      <th>4</th>\n",
       "      <td>0208</td>\n",
       "      <td>63</td>\n",
       "    </tr>\n",
       "    <tr>\n",
       "      <th>...</th>\n",
       "      <td>...</td>\n",
       "      <td>...</td>\n",
       "    </tr>\n",
       "    <tr>\n",
       "      <th>746</th>\n",
       "      <td>0323</td>\n",
       "      <td>3</td>\n",
       "    </tr>\n",
       "    <tr>\n",
       "      <th>747</th>\n",
       "      <td>0169</td>\n",
       "      <td>3</td>\n",
       "    </tr>\n",
       "    <tr>\n",
       "      <th>748</th>\n",
       "      <td>0389</td>\n",
       "      <td>3</td>\n",
       "    </tr>\n",
       "    <tr>\n",
       "      <th>749</th>\n",
       "      <td>0129</td>\n",
       "      <td>2</td>\n",
       "    </tr>\n",
       "    <tr>\n",
       "      <th>750</th>\n",
       "      <td>0084</td>\n",
       "      <td>2</td>\n",
       "    </tr>\n",
       "  </tbody>\n",
       "</table>\n",
       "<p>751 rows × 2 columns</p>\n",
       "</div>"
      ],
      "text/plain": [
       "    label   n\n",
       "0    0299  81\n",
       "1    0139  72\n",
       "2    0105  70\n",
       "3    0272  67\n",
       "4    0208  63\n",
       "..    ...  ..\n",
       "746  0323   3\n",
       "747  0169   3\n",
       "748  0389   3\n",
       "749  0129   2\n",
       "750  0084   2\n",
       "\n",
       "[751 rows x 2 columns]"
      ]
     },
     "execution_count": 18,
     "metadata": {},
     "output_type": "execute_result"
    }
   ],
   "source": [
    "d_dist = pd.DataFrame(d['label'].value_counts()).reset_index()\n",
    "d_dist.columns = ['label', 'n']\n",
    "d_dist"
   ]
  },
  {
   "cell_type": "code",
   "execution_count": 24,
   "id": "1b49c4b1",
   "metadata": {},
   "outputs": [
    {
     "data": {
      "image/png": "[encoded data removed]",
      "text/plain": [
       "<Figure size 640x480 with 1 Axes>"
      ]
     },
     "metadata": {},
     "output_type": "display_data"
    }
   ],
   "source": [
    "d_dist['n'].hist(bins=40)\n",
    "plt.title('N of images per Label')\n",
    "plt.show()"
   ]
  },
  {
   "cell_type": "code",
   "execution_count": 26,
   "id": "4fdba9bd",
   "metadata": {},
   "outputs": [
    {
     "data": {
      "text/plain": [
       "count    751.000000\n",
       "mean      17.936085\n",
       "std       11.327779\n",
       "min        2.000000\n",
       "25%       10.000000\n",
       "50%       16.000000\n",
       "75%       23.000000\n",
       "max       81.000000\n",
       "Name: n, dtype: float64"
      ]
     },
     "execution_count": 26,
     "metadata": {},
     "output_type": "execute_result"
    }
   ],
   "source": [
    "d_dist['n'].describe()"
   ]
  },
  {
   "cell_type": "markdown",
   "id": "01aa2762",
   "metadata": {},
   "source": [
    "### TestにしかないLabelを作成\n",
    "d_distの分布下位からいくつか選択"
   ]
  },
  {
   "cell_type": "markdown",
   "id": "a0fa7e3e",
   "metadata": {},
   "source": [
    "ユニークなラベル数は751"
   ]
  },
  {
   "cell_type": "code",
   "execution_count": 42,
   "id": "28a28fec",
   "metadata": {},
   "outputs": [
    {
     "data": {
      "text/plain": [
       "711    0402\n",
       "714    0140\n",
       "731    0079\n",
       "747    0169\n",
       "719    0070\n",
       "701    1072\n",
       "741    0864\n",
       "713    0042\n",
       "730    0086\n",
       "709    0030\n",
       "722    0190\n",
       "748    0389\n",
       "712    0840\n",
       "742    0143\n",
       "706    0871\n",
       "702    0392\n",
       "707    1415\n",
       "728    0134\n",
       "750    0084\n",
       "725    1099\n",
       "Name: label, dtype: object"
      ]
     },
     "execution_count": 42,
     "metadata": {},
     "output_type": "execute_result"
    }
   ],
   "source": [
    "# 20件ほどTestデータにのみ存在するLabelをサンプリング\n",
    "label_only_test = d_dist.tail(50).sample(20, random_state=123)['label']\n",
    "label_only_test"
   ]
  },
  {
   "cell_type": "code",
   "execution_count": 43,
   "id": "def9bd67",
   "metadata": {},
   "outputs": [
    {
     "data": {
      "text/plain": [
       "((86, 4), (13384, 4))"
      ]
     },
     "execution_count": 43,
     "metadata": {},
     "output_type": "execute_result"
    }
   ],
   "source": [
    "d_only_test = d[d['label'].isin(label_only_test)]\n",
    "d_rest = d[~d['label'].isin(label_only_test)]\n",
    "d_only_test.shape, d_rest.shape"
   ]
  },
  {
   "cell_type": "code",
   "execution_count": 54,
   "id": "2a32aca6",
   "metadata": {},
   "outputs": [
    {
     "data": {
      "text/plain": [
       "(13384, 1270, 0.09488942020322773)"
      ]
     },
     "execution_count": 54,
     "metadata": {},
     "output_type": "execute_result"
    }
   ],
   "source": [
    "np.random.seed(seed=123)\n",
    "traintest = np.random.binomial(n=1, p=0.1, size=d_rest.shape[0])\n",
    "len(traintest), sum(traintest), sum(traintest)/len(traintest)"
   ]
  },
  {
   "cell_type": "code",
   "execution_count": 58,
   "id": "5a7d6574",
   "metadata": {},
   "outputs": [
    {
     "name": "stderr",
     "output_type": "stream",
     "text": [
      "/var/folders/50/glkvvhjx03g22fwy2r0tgylr0000gn/T/ipykernel_82203/2786986905.py:1: SettingWithCopyWarning: \n",
      "A value is trying to be set on a copy of a slice from a DataFrame.\n",
      "Try using .loc[row_indexer,col_indexer] = value instead\n",
      "\n",
      "See the caveats in the documentation: https://pandas.pydata.org/pandas-docs/stable/user_guide/indexing.html#returning-a-view-versus-a-copy\n",
      "  d_rest['split'] = traintest\n",
      "/var/folders/50/glkvvhjx03g22fwy2r0tgylr0000gn/T/ipykernel_82203/2786986905.py:2: SettingWithCopyWarning: \n",
      "A value is trying to be set on a copy of a slice from a DataFrame.\n",
      "Try using .loc[row_indexer,col_indexer] = value instead\n",
      "\n",
      "See the caveats in the documentation: https://pandas.pydata.org/pandas-docs/stable/user_guide/indexing.html#returning-a-view-versus-a-copy\n",
      "  d_only_test['split'] = 1\n"
     ]
    },
    {
     "data": {
      "text/plain": [
       "(13470, 5)"
      ]
     },
     "execution_count": 58,
     "metadata": {},
     "output_type": "execute_result"
    }
   ],
   "source": [
    "d_rest['split'] = traintest\n",
    "d_only_test['split'] = 1\n",
    "\n",
    "d2 = pd.concat([d_rest, d_only_test])\n",
    "d2.shape"
   ]
  },
  {
   "cell_type": "code",
   "execution_count": 60,
   "id": "6244cf81",
   "metadata": {},
   "outputs": [
    {
     "data": {
      "text/html": [
       "<div>\n",
       "<style scoped>\n",
       "    .dataframe tbody tr th:only-of-type {\n",
       "        vertical-align: middle;\n",
       "    }\n",
       "\n",
       "    .dataframe tbody tr th {\n",
       "        vertical-align: top;\n",
       "    }\n",
       "\n",
       "    .dataframe thead th {\n",
       "        text-align: right;\n",
       "    }\n",
       "</style>\n",
       "<table border=\"1\" class=\"dataframe\">\n",
       "  <thead>\n",
       "    <tr style=\"text-align: right;\">\n",
       "      <th></th>\n",
       "      <th>image_id</th>\n",
       "      <th>label</th>\n",
       "      <th>fold</th>\n",
       "      <th>source</th>\n",
       "      <th>split</th>\n",
       "    </tr>\n",
       "  </thead>\n",
       "  <tbody>\n",
       "    <tr>\n",
       "      <th>0</th>\n",
       "      <td>0517_c5s1_143520_02.jpg</td>\n",
       "      <td>0517</td>\n",
       "      <td>4</td>\n",
       "      <td>train</td>\n",
       "      <td>0</td>\n",
       "    </tr>\n",
       "    <tr>\n",
       "      <th>1</th>\n",
       "      <td>0816_c6s2_104418_01.jpg</td>\n",
       "      <td>0816</td>\n",
       "      <td>6</td>\n",
       "      <td>train</td>\n",
       "      <td>0</td>\n",
       "    </tr>\n",
       "    <tr>\n",
       "      <th>2</th>\n",
       "      <td>1278_c1s6_012016_02.jpg</td>\n",
       "      <td>1278</td>\n",
       "      <td>7</td>\n",
       "      <td>train</td>\n",
       "      <td>0</td>\n",
       "    </tr>\n",
       "    <tr>\n",
       "      <th>3</th>\n",
       "      <td>0508_c5s2_082302_02.jpg</td>\n",
       "      <td>0508</td>\n",
       "      <td>1</td>\n",
       "      <td>train</td>\n",
       "      <td>0</td>\n",
       "    </tr>\n",
       "    <tr>\n",
       "      <th>4</th>\n",
       "      <td>1198_c6s3_034292_01.jpg</td>\n",
       "      <td>1198</td>\n",
       "      <td>8</td>\n",
       "      <td>train</td>\n",
       "      <td>0</td>\n",
       "    </tr>\n",
       "    <tr>\n",
       "      <th>...</th>\n",
       "      <td>...</td>\n",
       "      <td>...</td>\n",
       "      <td>...</td>\n",
       "      <td>...</td>\n",
       "      <td>...</td>\n",
       "    </tr>\n",
       "    <tr>\n",
       "      <th>12397</th>\n",
       "      <td>0871_c3s2_108253_04.jpg</td>\n",
       "      <td>0871</td>\n",
       "      <td>5</td>\n",
       "      <td>train</td>\n",
       "      <td>1</td>\n",
       "    </tr>\n",
       "    <tr>\n",
       "      <th>12421</th>\n",
       "      <td>1099_c2s2_145927_04.jpg</td>\n",
       "      <td>1099</td>\n",
       "      <td>2</td>\n",
       "      <td>train</td>\n",
       "      <td>1</td>\n",
       "    </tr>\n",
       "    <tr>\n",
       "      <th>12551</th>\n",
       "      <td>0402_c3s1_095517_02.jpg</td>\n",
       "      <td>0402</td>\n",
       "      <td>7</td>\n",
       "      <td>train</td>\n",
       "      <td>1</td>\n",
       "    </tr>\n",
       "    <tr>\n",
       "      <th>12567</th>\n",
       "      <td>1072_c2s3_097677_01.jpg</td>\n",
       "      <td>1072</td>\n",
       "      <td>2</td>\n",
       "      <td>train</td>\n",
       "      <td>1</td>\n",
       "    </tr>\n",
       "    <tr>\n",
       "      <th>12610</th>\n",
       "      <td>1099_c1s5_013086_03.jpg</td>\n",
       "      <td>1099</td>\n",
       "      <td>2</td>\n",
       "      <td>train</td>\n",
       "      <td>1</td>\n",
       "    </tr>\n",
       "  </tbody>\n",
       "</table>\n",
       "<p>13470 rows × 5 columns</p>\n",
       "</div>"
      ],
      "text/plain": [
       "                      image_id label  fold source  split\n",
       "0      0517_c5s1_143520_02.jpg  0517     4  train      0\n",
       "1      0816_c6s2_104418_01.jpg  0816     6  train      0\n",
       "2      1278_c1s6_012016_02.jpg  1278     7  train      0\n",
       "3      0508_c5s2_082302_02.jpg  0508     1  train      0\n",
       "4      1198_c6s3_034292_01.jpg  1198     8  train      0\n",
       "...                        ...   ...   ...    ...    ...\n",
       "12397  0871_c3s2_108253_04.jpg  0871     5  train      1\n",
       "12421  1099_c2s2_145927_04.jpg  1099     2  train      1\n",
       "12551  0402_c3s1_095517_02.jpg  0402     7  train      1\n",
       "12567  1072_c2s3_097677_01.jpg  1072     2  train      1\n",
       "12610  1099_c1s5_013086_03.jpg  1099     2  train      1\n",
       "\n",
       "[13470 rows x 5 columns]"
      ]
     },
     "execution_count": 60,
     "metadata": {},
     "output_type": "execute_result"
    }
   ],
   "source": [
    "d2"
   ]
  },
  {
   "cell_type": "markdown",
   "id": "fa792e72",
   "metadata": {},
   "source": [
    "### Labelの割り振り状況確認"
   ]
  },
  {
   "cell_type": "code",
   "execution_count": 61,
   "id": "7fc1de2f",
   "metadata": {},
   "outputs": [
    {
     "data": {
      "text/html": [
       "<div>\n",
       "<style scoped>\n",
       "    .dataframe tbody tr th:only-of-type {\n",
       "        vertical-align: middle;\n",
       "    }\n",
       "\n",
       "    .dataframe tbody tr th {\n",
       "        vertical-align: top;\n",
       "    }\n",
       "\n",
       "    .dataframe thead th {\n",
       "        text-align: right;\n",
       "    }\n",
       "</style>\n",
       "<table border=\"1\" class=\"dataframe\">\n",
       "  <thead>\n",
       "    <tr style=\"text-align: right;\">\n",
       "      <th></th>\n",
       "      <th>image_id</th>\n",
       "      <th>label</th>\n",
       "      <th>split</th>\n",
       "    </tr>\n",
       "  </thead>\n",
       "  <tbody>\n",
       "    <tr>\n",
       "      <th>0</th>\n",
       "      <td>0517_c5s1_143520_02.jpg</td>\n",
       "      <td>0517</td>\n",
       "      <td>0</td>\n",
       "    </tr>\n",
       "    <tr>\n",
       "      <th>1</th>\n",
       "      <td>0816_c6s2_104418_01.jpg</td>\n",
       "      <td>0816</td>\n",
       "      <td>0</td>\n",
       "    </tr>\n",
       "    <tr>\n",
       "      <th>2</th>\n",
       "      <td>1278_c1s6_012016_02.jpg</td>\n",
       "      <td>1278</td>\n",
       "      <td>0</td>\n",
       "    </tr>\n",
       "    <tr>\n",
       "      <th>3</th>\n",
       "      <td>0508_c5s2_082302_02.jpg</td>\n",
       "      <td>0508</td>\n",
       "      <td>0</td>\n",
       "    </tr>\n",
       "    <tr>\n",
       "      <th>4</th>\n",
       "      <td>1198_c6s3_034292_01.jpg</td>\n",
       "      <td>1198</td>\n",
       "      <td>0</td>\n",
       "    </tr>\n",
       "    <tr>\n",
       "      <th>...</th>\n",
       "      <td>...</td>\n",
       "      <td>...</td>\n",
       "      <td>...</td>\n",
       "    </tr>\n",
       "    <tr>\n",
       "      <th>12397</th>\n",
       "      <td>0871_c3s2_108253_04.jpg</td>\n",
       "      <td>0871</td>\n",
       "      <td>1</td>\n",
       "    </tr>\n",
       "    <tr>\n",
       "      <th>12421</th>\n",
       "      <td>1099_c2s2_145927_04.jpg</td>\n",
       "      <td>1099</td>\n",
       "      <td>1</td>\n",
       "    </tr>\n",
       "    <tr>\n",
       "      <th>12551</th>\n",
       "      <td>0402_c3s1_095517_02.jpg</td>\n",
       "      <td>0402</td>\n",
       "      <td>1</td>\n",
       "    </tr>\n",
       "    <tr>\n",
       "      <th>12567</th>\n",
       "      <td>1072_c2s3_097677_01.jpg</td>\n",
       "      <td>1072</td>\n",
       "      <td>1</td>\n",
       "    </tr>\n",
       "    <tr>\n",
       "      <th>12610</th>\n",
       "      <td>1099_c1s5_013086_03.jpg</td>\n",
       "      <td>1099</td>\n",
       "      <td>1</td>\n",
       "    </tr>\n",
       "  </tbody>\n",
       "</table>\n",
       "<p>13470 rows × 3 columns</p>\n",
       "</div>"
      ],
      "text/plain": [
       "                      image_id label  split\n",
       "0      0517_c5s1_143520_02.jpg  0517      0\n",
       "1      0816_c6s2_104418_01.jpg  0816      0\n",
       "2      1278_c1s6_012016_02.jpg  1278      0\n",
       "3      0508_c5s2_082302_02.jpg  0508      0\n",
       "4      1198_c6s3_034292_01.jpg  1198      0\n",
       "...                        ...   ...    ...\n",
       "12397  0871_c3s2_108253_04.jpg  0871      1\n",
       "12421  1099_c2s2_145927_04.jpg  1099      1\n",
       "12551  0402_c3s1_095517_02.jpg  0402      1\n",
       "12567  1072_c2s3_097677_01.jpg  1072      1\n",
       "12610  1099_c1s5_013086_03.jpg  1099      1\n",
       "\n",
       "[13470 rows x 3 columns]"
      ]
     },
     "execution_count": 61,
     "metadata": {},
     "output_type": "execute_result"
    }
   ],
   "source": [
    "d2 = d2[['image_id', 'label', 'split']]\n",
    "d2"
   ]
  },
  {
   "cell_type": "code",
   "execution_count": 63,
   "id": "d112cbdf",
   "metadata": {},
   "outputs": [
    {
     "data": {
      "text/plain": [
       "((12114, 3), (1356, 3))"
      ]
     },
     "execution_count": 63,
     "metadata": {},
     "output_type": "execute_result"
    }
   ],
   "source": [
    "d2_train = d2[d2['split']==0]\n",
    "d2_test = d2[d2['split']==1]\n",
    "d2_train.shape, d2_test.shape"
   ]
  },
  {
   "cell_type": "code",
   "execution_count": 64,
   "id": "38b1ec62",
   "metadata": {},
   "outputs": [
    {
     "data": {
      "text/html": [
       "<div>\n",
       "<style scoped>\n",
       "    .dataframe tbody tr th:only-of-type {\n",
       "        vertical-align: middle;\n",
       "    }\n",
       "\n",
       "    .dataframe tbody tr th {\n",
       "        vertical-align: top;\n",
       "    }\n",
       "\n",
       "    .dataframe thead th {\n",
       "        text-align: right;\n",
       "    }\n",
       "</style>\n",
       "<table border=\"1\" class=\"dataframe\">\n",
       "  <thead>\n",
       "    <tr style=\"text-align: right;\">\n",
       "      <th></th>\n",
       "      <th>label</th>\n",
       "      <th>train_label</th>\n",
       "      <th>test_label</th>\n",
       "    </tr>\n",
       "  </thead>\n",
       "  <tbody>\n",
       "    <tr>\n",
       "      <th>0</th>\n",
       "      <td>0002</td>\n",
       "      <td>44.0</td>\n",
       "      <td>2.0</td>\n",
       "    </tr>\n",
       "    <tr>\n",
       "      <th>1</th>\n",
       "      <td>0007</td>\n",
       "      <td>6.0</td>\n",
       "      <td>1.0</td>\n",
       "    </tr>\n",
       "    <tr>\n",
       "      <th>2</th>\n",
       "      <td>0010</td>\n",
       "      <td>10.0</td>\n",
       "      <td>1.0</td>\n",
       "    </tr>\n",
       "    <tr>\n",
       "      <th>3</th>\n",
       "      <td>0011</td>\n",
       "      <td>13.0</td>\n",
       "      <td>2.0</td>\n",
       "    </tr>\n",
       "    <tr>\n",
       "      <th>4</th>\n",
       "      <td>0012</td>\n",
       "      <td>4.0</td>\n",
       "      <td>2.0</td>\n",
       "    </tr>\n",
       "    <tr>\n",
       "      <th>...</th>\n",
       "      <td>...</td>\n",
       "      <td>...</td>\n",
       "      <td>...</td>\n",
       "    </tr>\n",
       "    <tr>\n",
       "      <th>746</th>\n",
       "      <td>1489</td>\n",
       "      <td>6.0</td>\n",
       "      <td>1.0</td>\n",
       "    </tr>\n",
       "    <tr>\n",
       "      <th>747</th>\n",
       "      <td>1492</td>\n",
       "      <td>14.0</td>\n",
       "      <td>1.0</td>\n",
       "    </tr>\n",
       "    <tr>\n",
       "      <th>748</th>\n",
       "      <td>1495</td>\n",
       "      <td>32.0</td>\n",
       "      <td>1.0</td>\n",
       "    </tr>\n",
       "    <tr>\n",
       "      <th>749</th>\n",
       "      <td>1496</td>\n",
       "      <td>15.0</td>\n",
       "      <td>1.0</td>\n",
       "    </tr>\n",
       "    <tr>\n",
       "      <th>750</th>\n",
       "      <td>1500</td>\n",
       "      <td>9.0</td>\n",
       "      <td>NaN</td>\n",
       "    </tr>\n",
       "  </tbody>\n",
       "</table>\n",
       "<p>751 rows × 3 columns</p>\n",
       "</div>"
      ],
      "text/plain": [
       "    label  train_label  test_label\n",
       "0    0002         44.0         2.0\n",
       "1    0007          6.0         1.0\n",
       "2    0010         10.0         1.0\n",
       "3    0011         13.0         2.0\n",
       "4    0012          4.0         2.0\n",
       "..    ...          ...         ...\n",
       "746  1489          6.0         1.0\n",
       "747  1492         14.0         1.0\n",
       "748  1495         32.0         1.0\n",
       "749  1496         15.0         1.0\n",
       "750  1500          9.0         NaN\n",
       "\n",
       "[751 rows x 3 columns]"
      ]
     },
     "execution_count": 64,
     "metadata": {},
     "output_type": "execute_result"
    }
   ],
   "source": [
    "d_label = pd.DataFrame({'train_label':d2_train['label'].value_counts(), 'test_label':d2_test['label'].value_counts()})\n",
    "d_label = d_label.reset_index()\n",
    "d_label = d_label.rename({'index':'label'}, axis='columns')\n",
    "d_label"
   ]
  },
  {
   "cell_type": "code",
   "execution_count": 67,
   "id": "73c72af5",
   "metadata": {},
   "outputs": [
    {
     "data": {
      "text/html": [
       "<div>\n",
       "<style scoped>\n",
       "    .dataframe tbody tr th:only-of-type {\n",
       "        vertical-align: middle;\n",
       "    }\n",
       "\n",
       "    .dataframe tbody tr th {\n",
       "        vertical-align: top;\n",
       "    }\n",
       "\n",
       "    .dataframe thead th {\n",
       "        text-align: right;\n",
       "    }\n",
       "</style>\n",
       "<table border=\"1\" class=\"dataframe\">\n",
       "  <thead>\n",
       "    <tr style=\"text-align: right;\">\n",
       "      <th></th>\n",
       "      <th>train_label</th>\n",
       "      <th>test_label</th>\n",
       "    </tr>\n",
       "  </thead>\n",
       "  <tbody>\n",
       "    <tr>\n",
       "      <th>count</th>\n",
       "      <td>731.000000</td>\n",
       "      <td>588.000000</td>\n",
       "    </tr>\n",
       "    <tr>\n",
       "      <th>mean</th>\n",
       "      <td>16.571819</td>\n",
       "      <td>2.306122</td>\n",
       "    </tr>\n",
       "    <tr>\n",
       "      <th>std</th>\n",
       "      <td>10.308195</td>\n",
       "      <td>1.485247</td>\n",
       "    </tr>\n",
       "    <tr>\n",
       "      <th>min</th>\n",
       "      <td>2.000000</td>\n",
       "      <td>1.000000</td>\n",
       "    </tr>\n",
       "    <tr>\n",
       "      <th>25%</th>\n",
       "      <td>9.000000</td>\n",
       "      <td>1.000000</td>\n",
       "    </tr>\n",
       "    <tr>\n",
       "      <th>50%</th>\n",
       "      <td>15.000000</td>\n",
       "      <td>2.000000</td>\n",
       "    </tr>\n",
       "    <tr>\n",
       "      <th>75%</th>\n",
       "      <td>22.000000</td>\n",
       "      <td>3.000000</td>\n",
       "    </tr>\n",
       "    <tr>\n",
       "      <th>max</th>\n",
       "      <td>74.000000</td>\n",
       "      <td>9.000000</td>\n",
       "    </tr>\n",
       "  </tbody>\n",
       "</table>\n",
       "</div>"
      ],
      "text/plain": [
       "       train_label  test_label\n",
       "count   731.000000  588.000000\n",
       "mean     16.571819    2.306122\n",
       "std      10.308195    1.485247\n",
       "min       2.000000    1.000000\n",
       "25%       9.000000    1.000000\n",
       "50%      15.000000    2.000000\n",
       "75%      22.000000    3.000000\n",
       "max      74.000000    9.000000"
      ]
     },
     "execution_count": 67,
     "metadata": {},
     "output_type": "execute_result"
    }
   ],
   "source": [
    "d_label.describe()"
   ]
  },
  {
   "cell_type": "markdown",
   "id": "9fc168d8",
   "metadata": {},
   "source": [
    " - 全データにおけるLabel：751\n",
    " - TrainにもTestにもあるLabel：568\n",
    " - TestにのみにあるLabel：20 (751-731)\n",
    " - TrainにのみあるLabel：163 (751-588)"
   ]
  },
  {
   "cell_type": "code",
   "execution_count": 81,
   "id": "a370b984",
   "metadata": {},
   "outputs": [
    {
     "data": {
      "text/plain": [
       "(568, 3)"
      ]
     },
     "execution_count": 81,
     "metadata": {},
     "output_type": "execute_result"
    }
   ],
   "source": [
    "# Trainにも、TestにもあるLabel\n",
    "d_label[d_label['train_label'].notna() & d_label['test_label'].notna()].shape"
   ]
  },
  {
   "cell_type": "code",
   "execution_count": 77,
   "id": "08387af5",
   "metadata": {},
   "outputs": [
    {
     "data": {
      "text/plain": [
       "(163, 3)"
      ]
     },
     "execution_count": 77,
     "metadata": {},
     "output_type": "execute_result"
    }
   ],
   "source": [
    "# Trainにのみあるラベル\n",
    "d_label[d_label['test_label'].isna()].shape"
   ]
  },
  {
   "cell_type": "code",
   "execution_count": 75,
   "id": "f6ca114c",
   "metadata": {},
   "outputs": [
    {
     "data": {
      "text/plain": [
       "(20, 3)"
      ]
     },
     "execution_count": 75,
     "metadata": {},
     "output_type": "execute_result"
    }
   ],
   "source": [
    "# TestにのみにあるLabel\n",
    "d_label[d_label['train_label'].isna()].shape"
   ]
  },
  {
   "cell_type": "code",
   "execution_count": 82,
   "id": "3f0ebb9d",
   "metadata": {},
   "outputs": [
    {
     "data": {
      "text/plain": [
       "751"
      ]
     },
     "execution_count": 82,
     "metadata": {},
     "output_type": "execute_result"
    }
   ],
   "source": [
    "568 + 163 + 20"
   ]
  },
  {
   "cell_type": "markdown",
   "id": "d15b5fb2",
   "metadata": {},
   "source": [
    "### Smallデータの作成"
   ]
  },
  {
   "cell_type": "code",
   "execution_count": 85,
   "id": "36c18f4f",
   "metadata": {},
   "outputs": [],
   "source": [
    "d_label['sum_label'] = d_label['train_label'] + d_label['test_label']"
   ]
  },
  {
   "cell_type": "code",
   "execution_count": 92,
   "id": "7d575b66",
   "metadata": {},
   "outputs": [
    {
     "data": {
      "text/html": [
       "<div>\n",
       "<style scoped>\n",
       "    .dataframe tbody tr th:only-of-type {\n",
       "        vertical-align: middle;\n",
       "    }\n",
       "\n",
       "    .dataframe tbody tr th {\n",
       "        vertical-align: top;\n",
       "    }\n",
       "\n",
       "    .dataframe thead th {\n",
       "        text-align: right;\n",
       "    }\n",
       "</style>\n",
       "<table border=\"1\" class=\"dataframe\">\n",
       "  <thead>\n",
       "    <tr style=\"text-align: right;\">\n",
       "      <th></th>\n",
       "      <th>label</th>\n",
       "      <th>train_label</th>\n",
       "      <th>test_label</th>\n",
       "      <th>sum_label</th>\n",
       "    </tr>\n",
       "  </thead>\n",
       "  <tbody>\n",
       "    <tr>\n",
       "      <th>147</th>\n",
       "      <td>0299</td>\n",
       "      <td>74.0</td>\n",
       "      <td>7.0</td>\n",
       "      <td>81.0</td>\n",
       "    </tr>\n",
       "    <tr>\n",
       "      <th>67</th>\n",
       "      <td>0139</td>\n",
       "      <td>66.0</td>\n",
       "      <td>6.0</td>\n",
       "      <td>72.0</td>\n",
       "    </tr>\n",
       "    <tr>\n",
       "      <th>46</th>\n",
       "      <td>0105</td>\n",
       "      <td>61.0</td>\n",
       "      <td>9.0</td>\n",
       "      <td>70.0</td>\n",
       "    </tr>\n",
       "    <tr>\n",
       "      <th>136</th>\n",
       "      <td>0272</td>\n",
       "      <td>59.0</td>\n",
       "      <td>8.0</td>\n",
       "      <td>67.0</td>\n",
       "    </tr>\n",
       "    <tr>\n",
       "      <th>104</th>\n",
       "      <td>0208</td>\n",
       "      <td>58.0</td>\n",
       "      <td>5.0</td>\n",
       "      <td>63.0</td>\n",
       "    </tr>\n",
       "    <tr>\n",
       "      <th>...</th>\n",
       "      <td>...</td>\n",
       "      <td>...</td>\n",
       "      <td>...</td>\n",
       "      <td>...</td>\n",
       "    </tr>\n",
       "    <tr>\n",
       "      <th>376</th>\n",
       "      <td>0707</td>\n",
       "      <td>26.0</td>\n",
       "      <td>3.0</td>\n",
       "      <td>29.0</td>\n",
       "    </tr>\n",
       "    <tr>\n",
       "      <th>668</th>\n",
       "      <td>1321</td>\n",
       "      <td>25.0</td>\n",
       "      <td>4.0</td>\n",
       "      <td>29.0</td>\n",
       "    </tr>\n",
       "    <tr>\n",
       "      <th>201</th>\n",
       "      <td>0390</td>\n",
       "      <td>27.0</td>\n",
       "      <td>2.0</td>\n",
       "      <td>29.0</td>\n",
       "    </tr>\n",
       "    <tr>\n",
       "      <th>57</th>\n",
       "      <td>0121</td>\n",
       "      <td>23.0</td>\n",
       "      <td>6.0</td>\n",
       "      <td>29.0</td>\n",
       "    </tr>\n",
       "    <tr>\n",
       "      <th>179</th>\n",
       "      <td>0354</td>\n",
       "      <td>27.0</td>\n",
       "      <td>2.0</td>\n",
       "      <td>29.0</td>\n",
       "    </tr>\n",
       "  </tbody>\n",
       "</table>\n",
       "<p>100 rows × 4 columns</p>\n",
       "</div>"
      ],
      "text/plain": [
       "    label  train_label  test_label  sum_label\n",
       "147  0299         74.0         7.0       81.0\n",
       "67   0139         66.0         6.0       72.0\n",
       "46   0105         61.0         9.0       70.0\n",
       "136  0272         59.0         8.0       67.0\n",
       "104  0208         58.0         5.0       63.0\n",
       "..    ...          ...         ...        ...\n",
       "376  0707         26.0         3.0       29.0\n",
       "668  1321         25.0         4.0       29.0\n",
       "201  0390         27.0         2.0       29.0\n",
       "57   0121         23.0         6.0       29.0\n",
       "179  0354         27.0         2.0       29.0\n",
       "\n",
       "[100 rows x 4 columns]"
      ]
     },
     "execution_count": 92,
     "metadata": {},
     "output_type": "execute_result"
    }
   ],
   "source": [
    "d_label.sort_values('sum_label', ascending=False)[:100]"
   ]
  },
  {
   "cell_type": "code",
   "execution_count": 97,
   "id": "a8407c57",
   "metadata": {},
   "outputs": [
    {
     "data": {
      "text/plain": [
       "6487.0"
      ]
     },
     "execution_count": 97,
     "metadata": {},
     "output_type": "execute_result"
    }
   ],
   "source": [
    "# Labelあたり枚数の多い上位N Labelを削除した場合の、削除画像数\n",
    "N = 200\n",
    "sum(d_label.sort_values('sum_label', ascending=False)[:N]['sum_label'])"
   ]
  },
  {
   "cell_type": "code",
   "execution_count": 100,
   "id": "9408af11",
   "metadata": {},
   "outputs": [
    {
     "data": {
      "text/plain": [
       "147    0299\n",
       "67     0139\n",
       "46     0105\n",
       "136    0272\n",
       "104    0208\n",
       "       ... \n",
       "648    1275\n",
       "529    1001\n",
       "566    1086\n",
       "617    1201\n",
       "292    0564\n",
       "Name: label, Length: 200, dtype: object"
      ]
     },
     "execution_count": 100,
     "metadata": {},
     "output_type": "execute_result"
    }
   ],
   "source": [
    "delite_labels = d_label.sort_values('sum_label', ascending=False)[:N]['label']\n",
    "delite_labels"
   ]
  },
  {
   "cell_type": "code",
   "execution_count": 104,
   "id": "092d7dfb",
   "metadata": {},
   "outputs": [
    {
     "data": {
      "text/plain": [
       "(6983, 3)"
      ]
     },
     "execution_count": 104,
     "metadata": {},
     "output_type": "execute_result"
    }
   ],
   "source": [
    "d2_small = d2[~d2['label'].isin(delite_labels)]\n",
    "d2_small.shape"
   ]
  },
  {
   "cell_type": "code",
   "execution_count": 107,
   "id": "c123df15",
   "metadata": {},
   "outputs": [
    {
     "data": {
      "text/html": [
       "<div>\n",
       "<style scoped>\n",
       "    .dataframe tbody tr th:only-of-type {\n",
       "        vertical-align: middle;\n",
       "    }\n",
       "\n",
       "    .dataframe tbody tr th {\n",
       "        vertical-align: top;\n",
       "    }\n",
       "\n",
       "    .dataframe thead th {\n",
       "        text-align: right;\n",
       "    }\n",
       "</style>\n",
       "<table border=\"1\" class=\"dataframe\">\n",
       "  <thead>\n",
       "    <tr style=\"text-align: right;\">\n",
       "      <th></th>\n",
       "      <th>label</th>\n",
       "      <th>train_label</th>\n",
       "      <th>test_label</th>\n",
       "    </tr>\n",
       "  </thead>\n",
       "  <tbody>\n",
       "    <tr>\n",
       "      <th>0</th>\n",
       "      <td>0007</td>\n",
       "      <td>6.0</td>\n",
       "      <td>1.0</td>\n",
       "    </tr>\n",
       "    <tr>\n",
       "      <th>1</th>\n",
       "      <td>0010</td>\n",
       "      <td>10.0</td>\n",
       "      <td>1.0</td>\n",
       "    </tr>\n",
       "    <tr>\n",
       "      <th>2</th>\n",
       "      <td>0011</td>\n",
       "      <td>13.0</td>\n",
       "      <td>2.0</td>\n",
       "    </tr>\n",
       "    <tr>\n",
       "      <th>3</th>\n",
       "      <td>0012</td>\n",
       "      <td>4.0</td>\n",
       "      <td>2.0</td>\n",
       "    </tr>\n",
       "    <tr>\n",
       "      <th>4</th>\n",
       "      <td>0020</td>\n",
       "      <td>6.0</td>\n",
       "      <td>NaN</td>\n",
       "    </tr>\n",
       "    <tr>\n",
       "      <th>...</th>\n",
       "      <td>...</td>\n",
       "      <td>...</td>\n",
       "      <td>...</td>\n",
       "    </tr>\n",
       "    <tr>\n",
       "      <th>546</th>\n",
       "      <td>1487</td>\n",
       "      <td>15.0</td>\n",
       "      <td>NaN</td>\n",
       "    </tr>\n",
       "    <tr>\n",
       "      <th>547</th>\n",
       "      <td>1489</td>\n",
       "      <td>6.0</td>\n",
       "      <td>1.0</td>\n",
       "    </tr>\n",
       "    <tr>\n",
       "      <th>548</th>\n",
       "      <td>1492</td>\n",
       "      <td>14.0</td>\n",
       "      <td>1.0</td>\n",
       "    </tr>\n",
       "    <tr>\n",
       "      <th>549</th>\n",
       "      <td>1496</td>\n",
       "      <td>15.0</td>\n",
       "      <td>1.0</td>\n",
       "    </tr>\n",
       "    <tr>\n",
       "      <th>550</th>\n",
       "      <td>1500</td>\n",
       "      <td>9.0</td>\n",
       "      <td>NaN</td>\n",
       "    </tr>\n",
       "  </tbody>\n",
       "</table>\n",
       "<p>551 rows × 3 columns</p>\n",
       "</div>"
      ],
      "text/plain": [
       "    label  train_label  test_label\n",
       "0    0007          6.0         1.0\n",
       "1    0010         10.0         1.0\n",
       "2    0011         13.0         2.0\n",
       "3    0012          4.0         2.0\n",
       "4    0020          6.0         NaN\n",
       "..    ...          ...         ...\n",
       "546  1487         15.0         NaN\n",
       "547  1489          6.0         1.0\n",
       "548  1492         14.0         1.0\n",
       "549  1496         15.0         1.0\n",
       "550  1500          9.0         NaN\n",
       "\n",
       "[551 rows x 3 columns]"
      ]
     },
     "execution_count": 107,
     "metadata": {},
     "output_type": "execute_result"
    }
   ],
   "source": [
    "d2_small_train = d2_small[d2_small['split']==0]\n",
    "d2_small_test = d2_small[d2_small['split']==1]\n",
    "d2_small_train.shape, d2_small_test.shape\n",
    "\n",
    "d_small_label = pd.DataFrame({'train_label':d2_small_train['label'].value_counts(), 'test_label':d2_small_test['label'].value_counts()})\n",
    "d_small_label = d_small_label.reset_index()\n",
    "d_small_label = d_small_label.rename({'index':'label'}, axis='columns')\n",
    "d_small_label"
   ]
  },
  {
   "cell_type": "code",
   "execution_count": 109,
   "id": "012c4654",
   "metadata": {},
   "outputs": [
    {
     "data": {
      "text/html": [
       "<div>\n",
       "<style scoped>\n",
       "    .dataframe tbody tr th:only-of-type {\n",
       "        vertical-align: middle;\n",
       "    }\n",
       "\n",
       "    .dataframe tbody tr th {\n",
       "        vertical-align: top;\n",
       "    }\n",
       "\n",
       "    .dataframe thead th {\n",
       "        text-align: right;\n",
       "    }\n",
       "</style>\n",
       "<table border=\"1\" class=\"dataframe\">\n",
       "  <thead>\n",
       "    <tr style=\"text-align: right;\">\n",
       "      <th></th>\n",
       "      <th>train_label</th>\n",
       "      <th>test_label</th>\n",
       "    </tr>\n",
       "  </thead>\n",
       "  <tbody>\n",
       "    <tr>\n",
       "      <th>count</th>\n",
       "      <td>531.000000</td>\n",
       "      <td>388.000000</td>\n",
       "    </tr>\n",
       "    <tr>\n",
       "      <th>mean</th>\n",
       "      <td>11.792844</td>\n",
       "      <td>1.858247</td>\n",
       "    </tr>\n",
       "    <tr>\n",
       "      <th>std</th>\n",
       "      <td>5.321585</td>\n",
       "      <td>1.062885</td>\n",
       "    </tr>\n",
       "    <tr>\n",
       "      <th>min</th>\n",
       "      <td>2.000000</td>\n",
       "      <td>1.000000</td>\n",
       "    </tr>\n",
       "    <tr>\n",
       "      <th>25%</th>\n",
       "      <td>8.000000</td>\n",
       "      <td>1.000000</td>\n",
       "    </tr>\n",
       "    <tr>\n",
       "      <th>50%</th>\n",
       "      <td>11.000000</td>\n",
       "      <td>2.000000</td>\n",
       "    </tr>\n",
       "    <tr>\n",
       "      <th>75%</th>\n",
       "      <td>15.500000</td>\n",
       "      <td>2.000000</td>\n",
       "    </tr>\n",
       "    <tr>\n",
       "      <th>max</th>\n",
       "      <td>39.000000</td>\n",
       "      <td>5.000000</td>\n",
       "    </tr>\n",
       "  </tbody>\n",
       "</table>\n",
       "</div>"
      ],
      "text/plain": [
       "       train_label  test_label\n",
       "count   531.000000  388.000000\n",
       "mean     11.792844    1.858247\n",
       "std       5.321585    1.062885\n",
       "min       2.000000    1.000000\n",
       "25%       8.000000    1.000000\n",
       "50%      11.000000    2.000000\n",
       "75%      15.500000    2.000000\n",
       "max      39.000000    5.000000"
      ]
     },
     "execution_count": 109,
     "metadata": {},
     "output_type": "execute_result"
    }
   ],
   "source": [
    "d_small_label.describe()"
   ]
  },
  {
   "cell_type": "code",
   "execution_count": 110,
   "id": "1c413ea0",
   "metadata": {},
   "outputs": [
    {
     "data": {
      "text/plain": [
       "(368, 3)"
      ]
     },
     "execution_count": 110,
     "metadata": {},
     "output_type": "execute_result"
    }
   ],
   "source": [
    "# Trainにも、TestにもあるLabel\n",
    "d_small_label[d_small_label['train_label'].notna() & d_small_label['test_label'].notna()].shape"
   ]
  },
  {
   "cell_type": "code",
   "execution_count": 111,
   "id": "a0e24298",
   "metadata": {},
   "outputs": [
    {
     "data": {
      "text/plain": [
       "(163, 3)"
      ]
     },
     "execution_count": 111,
     "metadata": {},
     "output_type": "execute_result"
    }
   ],
   "source": [
    "# Trainにのみあるラベル\n",
    "d_small_label[d_small_label['test_label'].isna()].shape"
   ]
  },
  {
   "cell_type": "code",
   "execution_count": 112,
   "id": "23c75fff",
   "metadata": {},
   "outputs": [
    {
     "data": {
      "text/plain": [
       "(20, 3)"
      ]
     },
     "execution_count": 112,
     "metadata": {},
     "output_type": "execute_result"
    }
   ],
   "source": [
    "# TestにのみにあるLabel\n",
    "d_small_label[d_small_label['train_label'].isna()].shape"
   ]
  },
  {
   "cell_type": "code",
   "execution_count": 113,
   "id": "596b35fe",
   "metadata": {},
   "outputs": [
    {
     "data": {
      "text/plain": [
       "551"
      ]
     },
     "execution_count": 113,
     "metadata": {},
     "output_type": "execute_result"
    }
   ],
   "source": [
    "368 + 163 +20"
   ]
  },
  {
   "cell_type": "markdown",
   "id": "23148925",
   "metadata": {},
   "source": [
    "### Trainにfoldカラムを作成"
   ]
  },
  {
   "cell_type": "code",
   "execution_count": 117,
   "id": "f84c59c0",
   "metadata": {},
   "outputs": [
    {
     "data": {
      "text/plain": [
       "((13470, 3), (12114, 3), (1356, 3))"
      ]
     },
     "execution_count": 117,
     "metadata": {},
     "output_type": "execute_result"
    }
   ],
   "source": [
    "d2_train = d2[d2['split']==0]\n",
    "d2_test = d2[d2['split']==1]\n",
    "d2.shape, d2_train.shape, d2_test.shape"
   ]
  },
  {
   "cell_type": "code",
   "execution_count": 118,
   "id": "0cb64cb7",
   "metadata": {},
   "outputs": [
    {
     "data": {
      "text/plain": [
       "((6983, 3), (6262, 3), (721, 3))"
      ]
     },
     "execution_count": 118,
     "metadata": {},
     "output_type": "execute_result"
    }
   ],
   "source": [
    "d2_small_train = d2_small[d2_small['split']==0]\n",
    "d2_small_test = d2_small[d2_small['split']==1]\n",
    "d2_small.shape, d2_small_train.shape, d2_small_test.shape"
   ]
  },
  {
   "cell_type": "code",
   "execution_count": 119,
   "id": "b1d18d0b",
   "metadata": {},
   "outputs": [
    {
     "data": {
      "text/html": [
       "<div>\n",
       "<style scoped>\n",
       "    .dataframe tbody tr th:only-of-type {\n",
       "        vertical-align: middle;\n",
       "    }\n",
       "\n",
       "    .dataframe tbody tr th {\n",
       "        vertical-align: top;\n",
       "    }\n",
       "\n",
       "    .dataframe thead th {\n",
       "        text-align: right;\n",
       "    }\n",
       "</style>\n",
       "<table border=\"1\" class=\"dataframe\">\n",
       "  <thead>\n",
       "    <tr style=\"text-align: right;\">\n",
       "      <th></th>\n",
       "      <th>image_id</th>\n",
       "      <th>label</th>\n",
       "      <th>split</th>\n",
       "    </tr>\n",
       "  </thead>\n",
       "  <tbody>\n",
       "    <tr>\n",
       "      <th>0</th>\n",
       "      <td>0517_c5s1_143520_02.jpg</td>\n",
       "      <td>0517</td>\n",
       "      <td>0</td>\n",
       "    </tr>\n",
       "    <tr>\n",
       "      <th>1</th>\n",
       "      <td>0816_c6s2_104418_01.jpg</td>\n",
       "      <td>0816</td>\n",
       "      <td>0</td>\n",
       "    </tr>\n",
       "    <tr>\n",
       "      <th>2</th>\n",
       "      <td>1278_c1s6_012016_02.jpg</td>\n",
       "      <td>1278</td>\n",
       "      <td>0</td>\n",
       "    </tr>\n",
       "    <tr>\n",
       "      <th>3</th>\n",
       "      <td>0508_c5s2_082302_02.jpg</td>\n",
       "      <td>0508</td>\n",
       "      <td>0</td>\n",
       "    </tr>\n",
       "    <tr>\n",
       "      <th>4</th>\n",
       "      <td>1198_c6s3_034292_01.jpg</td>\n",
       "      <td>1198</td>\n",
       "      <td>0</td>\n",
       "    </tr>\n",
       "    <tr>\n",
       "      <th>...</th>\n",
       "      <td>...</td>\n",
       "      <td>...</td>\n",
       "      <td>...</td>\n",
       "    </tr>\n",
       "    <tr>\n",
       "      <th>529</th>\n",
       "      <td>0484_c5s1_126720_01.jpg</td>\n",
       "      <td>0484</td>\n",
       "      <td>0</td>\n",
       "    </tr>\n",
       "    <tr>\n",
       "      <th>530</th>\n",
       "      <td>0832_c2s3_063427_14.jpg</td>\n",
       "      <td>0832</td>\n",
       "      <td>0</td>\n",
       "    </tr>\n",
       "    <tr>\n",
       "      <th>531</th>\n",
       "      <td>1078_c4s5_008004_01.jpg</td>\n",
       "      <td>1078</td>\n",
       "      <td>0</td>\n",
       "    </tr>\n",
       "    <tr>\n",
       "      <th>532</th>\n",
       "      <td>0427_c3s1_104367_04.jpg</td>\n",
       "      <td>0427</td>\n",
       "      <td>0</td>\n",
       "    </tr>\n",
       "    <tr>\n",
       "      <th>533</th>\n",
       "      <td>1168_c3s3_003512_03.jpg</td>\n",
       "      <td>1168</td>\n",
       "      <td>0</td>\n",
       "    </tr>\n",
       "  </tbody>\n",
       "</table>\n",
       "<p>12114 rows × 3 columns</p>\n",
       "</div>"
      ],
      "text/plain": [
       "                    image_id label  split\n",
       "0    0517_c5s1_143520_02.jpg  0517      0\n",
       "1    0816_c6s2_104418_01.jpg  0816      0\n",
       "2    1278_c1s6_012016_02.jpg  1278      0\n",
       "3    0508_c5s2_082302_02.jpg  0508      0\n",
       "4    1198_c6s3_034292_01.jpg  1198      0\n",
       "..                       ...   ...    ...\n",
       "529  0484_c5s1_126720_01.jpg  0484      0\n",
       "530  0832_c2s3_063427_14.jpg  0832      0\n",
       "531  1078_c4s5_008004_01.jpg  1078      0\n",
       "532  0427_c3s1_104367_04.jpg  0427      0\n",
       "533  1168_c3s3_003512_03.jpg  1168      0\n",
       "\n",
       "[12114 rows x 3 columns]"
      ]
     },
     "execution_count": 119,
     "metadata": {},
     "output_type": "execute_result"
    }
   ],
   "source": [
    "d2_train"
   ]
  },
  {
   "cell_type": "code",
   "execution_count": 123,
   "id": "beeeac1e",
   "metadata": {},
   "outputs": [
    {
     "name": "stderr",
     "output_type": "stream",
     "text": [
      "/var/folders/50/glkvvhjx03g22fwy2r0tgylr0000gn/T/ipykernel_82203/2401678487.py:2: SettingWithCopyWarning: \n",
      "A value is trying to be set on a copy of a slice from a DataFrame.\n",
      "Try using .loc[row_indexer,col_indexer] = value instead\n",
      "\n",
      "See the caveats in the documentation: https://pandas.pydata.org/pandas-docs/stable/user_guide/indexing.html#returning-a-view-versus-a-copy\n",
      "  d2_train['fold'] = np.random.choice([0,1,2,3,4], d2_train.shape[0])\n"
     ]
    },
    {
     "data": {
      "text/plain": [
       "3    2490\n",
       "2    2439\n",
       "0    2419\n",
       "4    2418\n",
       "1    2348\n",
       "Name: fold, dtype: int64"
      ]
     },
     "execution_count": 123,
     "metadata": {},
     "output_type": "execute_result"
    }
   ],
   "source": [
    "np.random.seed(seed=123)\n",
    "d2_train['fold'] = np.random.choice([0,1,2,3,4], d2_train.shape[0])\n",
    "d2_train['fold'].value_counts()"
   ]
  },
  {
   "cell_type": "code",
   "execution_count": 124,
   "id": "c9334473",
   "metadata": {},
   "outputs": [
    {
     "name": "stderr",
     "output_type": "stream",
     "text": [
      "/var/folders/50/glkvvhjx03g22fwy2r0tgylr0000gn/T/ipykernel_82203/2179337221.py:2: SettingWithCopyWarning: \n",
      "A value is trying to be set on a copy of a slice from a DataFrame.\n",
      "Try using .loc[row_indexer,col_indexer] = value instead\n",
      "\n",
      "See the caveats in the documentation: https://pandas.pydata.org/pandas-docs/stable/user_guide/indexing.html#returning-a-view-versus-a-copy\n",
      "  d2_small_train['fold'] = np.random.choice([0,1,2,3,4], d2_small_train.shape[0])\n"
     ]
    },
    {
     "data": {
      "text/plain": [
       "3    1299\n",
       "2    1264\n",
       "0    1254\n",
       "1    1230\n",
       "4    1215\n",
       "Name: fold, dtype: int64"
      ]
     },
     "execution_count": 124,
     "metadata": {},
     "output_type": "execute_result"
    }
   ],
   "source": [
    "np.random.seed(seed=123)\n",
    "d2_small_train['fold'] = np.random.choice([0,1,2,3,4], d2_small_train.shape[0])\n",
    "d2_small_train['fold'].value_counts()"
   ]
  },
  {
   "cell_type": "code",
   "execution_count": 127,
   "id": "9abb501a",
   "metadata": {},
   "outputs": [
    {
     "data": {
      "text/plain": [
       "((12114, 3), (1356, 2), (6262, 3), (721, 2))"
      ]
     },
     "execution_count": 127,
     "metadata": {},
     "output_type": "execute_result"
    }
   ],
   "source": [
    "d2_train = d2_train.drop('split', axis=1)\n",
    "d2_test = d2_test.drop('split', axis=1)\n",
    "\n",
    "d2_small_train = d2_small_train.drop('split', axis=1)\n",
    "d2_small_test = d2_small_test.drop('split', axis=1)\n",
    "\n",
    "d2_train.shape, d2_test.shape, d2_small_train.shape, d2_small_test.shape, "
   ]
  },
  {
   "cell_type": "markdown",
   "id": "83ed04a4",
   "metadata": {},
   "source": [
    "### 保存"
   ]
  },
  {
   "cell_type": "code",
   "execution_count": 129,
   "id": "38887e28",
   "metadata": {},
   "outputs": [
    {
     "name": "stdout",
     "output_type": "stream",
     "text": [
      "\u001b[34mmarket_1501_metric_learning\u001b[m\u001b[m     \u001b[34mmarket_metriclearning_HT\u001b[m\u001b[m\r\n",
      "market_1501_metric_learning.zip \u001b[34mmarket_metriclearning_small_HT\u001b[m\u001b[m\r\n"
     ]
    }
   ],
   "source": [
    "!ls tmp"
   ]
  },
  {
   "cell_type": "code",
   "execution_count": 130,
   "id": "f06c5650",
   "metadata": {},
   "outputs": [],
   "source": [
    "d2_train.to_csv('tmp/market_metriclearning_HT/train.csv', index=False)\n",
    "d2_test.to_csv('tmp/market_metriclearning_HT/test.csv', index=False)"
   ]
  },
  {
   "cell_type": "code",
   "execution_count": 131,
   "id": "25ef7385",
   "metadata": {},
   "outputs": [],
   "source": [
    "d2_small_train.to_csv('tmp/market_metriclearning_small_HT/train.csv', index=False)\n",
    "d2_small_test.to_csv('tmp/market_metriclearning_small_HT/test.csv', index=False)"
   ]
  },
  {
   "cell_type": "code",
   "execution_count": 138,
   "id": "a25c5e96",
   "metadata": {},
   "outputs": [
    {
     "name": "stdout",
     "output_type": "stream",
     "text": [
      "\u001b[34mbounding_box_train\u001b[m\u001b[m test.csv           train.csv\r\n"
     ]
    }
   ],
   "source": [
    "!ls tmp/market_1501_metric_learning"
   ]
  },
  {
   "cell_type": "code",
   "execution_count": 140,
   "id": "a296cd37",
   "metadata": {},
   "outputs": [
    {
     "name": "stdout",
     "output_type": "stream",
     "text": [
      "   12936\r\n"
     ]
    }
   ],
   "source": [
    "!ls tmp/market_1501_metric_learning/bounding_box_train | wc -l"
   ]
  },
  {
   "cell_type": "code",
   "execution_count": 139,
   "id": "a23a5460",
   "metadata": {},
   "outputs": [
    {
     "name": "stdout",
     "output_type": "stream",
     "text": [
      "\u001b[34mimages\u001b[m\u001b[m    test.csv  train.csv\r\n"
     ]
    }
   ],
   "source": [
    "!ls tmp/market_metriclearning_small_HT"
   ]
  },
  {
   "cell_type": "code",
   "execution_count": 142,
   "id": "38f49c75",
   "metadata": {},
   "outputs": [],
   "source": [
    "# smallデータ用のイメージ選択\n",
    "for im in d2_small_train['image_id']:\n",
    "    from_dir = os.path.join('tmp', 'market_1501_metric_learning', 'bounding_box_train', im)\n",
    "    #print(from_dir)\n",
    "    to_dir = os.path.join('tmp', 'market_metriclearning_small_HT', 'images', im)\n",
    "    #print(to_dir)\n",
    "    shutil.copy(from_dir, to_dir)\n",
    "\n",
    "for im in d2_small_test['image_id']:\n",
    "    from_dir = os.path.join('tmp', 'market_1501_metric_learning', 'bounding_box_train', im)\n",
    "    #print(from_dir)\n",
    "    to_dir = os.path.join('tmp', 'market_metriclearning_small_HT', 'images', im)\n",
    "    #print(to_dir)\n",
    "    shutil.copy(from_dir, to_dir)"
   ]
  },
  {
   "cell_type": "code",
   "execution_count": 143,
   "id": "f0e815ff",
   "metadata": {},
   "outputs": [
    {
     "name": "stdout",
     "output_type": "stream",
     "text": [
      "    6836\r\n"
     ]
    }
   ],
   "source": [
    "!ls tmp/market_metriclearning_small_HT/images | wc -l"
   ]
  },
  {
   "cell_type": "code",
   "execution_count": 144,
   "id": "20c8b25b",
   "metadata": {},
   "outputs": [
    {
     "data": {
      "text/plain": [
       "6983"
      ]
     },
     "execution_count": 144,
     "metadata": {},
     "output_type": "execute_result"
    }
   ],
   "source": [
    "d2_small_train.shape[0] + d2_small_test.shape[0]"
   ]
  },
  {
   "cell_type": "code",
   "execution_count": null,
   "id": "f9f482e4",
   "metadata": {},
   "outputs": [],
   "source": []
  }
 ],
 "metadata": {
  "kernelspec": {
   "display_name": "Python 3 (ipykernel)",
   "language": "python",
   "name": "python3"
  },
  "language_info": {
   "codemirror_mode": {
    "name": "ipython",
    "version": 3
   },
   "file_extension": ".py",
   "mimetype": "text/x-python",
   "name": "python",
   "nbconvert_exporter": "python",
   "pygments_lexer": "ipython3",
   "version": "3.8.13"
  }
 },
 "nbformat": 4,
 "nbformat_minor": 5
}
