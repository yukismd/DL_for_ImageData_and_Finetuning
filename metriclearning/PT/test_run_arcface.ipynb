{
 "cells": [
  {
   "cell_type": "markdown",
   "id": "10dc5521",
   "metadata": {},
   "source": [
    "# Metric Learning with ArcFace loss function\n",
    "test run on cpu"
   ]
  },
  {
   "cell_type": "markdown",
   "id": "f6bcc5f9",
   "metadata": {},
   "source": [
    "参考：\n",
    "- PyTorch Metric Learning: https://kevinmusgrave.github.io/pytorch-metric-learning/losses/#arcfaceloss\n",
    "- Arcfaceお試し(pytorch metric learning): https://note.com/pollenallergy/n/ne627d7d45876"
   ]
  },
  {
   "cell_type": "code",
   "execution_count": 120,
   "id": "4260c21f",
   "metadata": {},
   "outputs": [],
   "source": [
    "import os\n",
    "import time\n",
    "\n",
    "from tqdm.notebook import tqdm\n",
    "import pandas as pd\n",
    "import numpy as np\n",
    "import matplotlib.pyplot as plt\n",
    "import cv2\n",
    "import albumentations as A\n",
    "import torch\n",
    "import torch.optim as optim\n",
    "import torch.optim.lr_scheduler as lr_scheduler\n",
    "import timm\n",
    "from pytorch_metric_learning import losses\n",
    "\n",
    "import umap\n",
    "import seaborn as sns"
   ]
  },
  {
   "cell_type": "code",
   "execution_count": 4,
   "id": "be43a8ce",
   "metadata": {},
   "outputs": [
    {
     "data": {
      "text/plain": [
       "device(type='cpu')"
      ]
     },
     "execution_count": 4,
     "metadata": {},
     "output_type": "execute_result"
    }
   ],
   "source": [
    "device = torch.device('cuda:0' if torch.cuda.is_available() else 'cpu')\n",
    "device"
   ]
  },
  {
   "cell_type": "markdown",
   "id": "5f8403ed",
   "metadata": {},
   "source": [
    "## Data"
   ]
  },
  {
   "cell_type": "code",
   "execution_count": 5,
   "id": "b26cd076",
   "metadata": {},
   "outputs": [
    {
     "name": "stdout",
     "output_type": "stream",
     "text": [
      "\u001b[34mimages\u001b[m\u001b[m    test.csv  train.csv\r\n"
     ]
    }
   ],
   "source": [
    "!ls ../tmp/market_metriclearning_HT"
   ]
  },
  {
   "cell_type": "code",
   "execution_count": 6,
   "id": "d48899f2",
   "metadata": {},
   "outputs": [
    {
     "name": "stdout",
     "output_type": "stream",
     "text": [
      "   12937\r\n"
     ]
    }
   ],
   "source": [
    "!ls -l ../tmp/market_metriclearning_HT/images | wc -l"
   ]
  },
  {
   "cell_type": "code",
   "execution_count": 7,
   "id": "bd7bc60f",
   "metadata": {},
   "outputs": [],
   "source": [
    "image_dir = '../tmp/market_metriclearning_HT/images'"
   ]
  },
  {
   "cell_type": "code",
   "execution_count": 83,
   "id": "781d6b6e",
   "metadata": {},
   "outputs": [
    {
     "name": "stdout",
     "output_type": "stream",
     "text": [
      "(12114, 3)\n"
     ]
    },
    {
     "data": {
      "text/html": [
       "<div>\n",
       "<style scoped>\n",
       "    .dataframe tbody tr th:only-of-type {\n",
       "        vertical-align: middle;\n",
       "    }\n",
       "\n",
       "    .dataframe tbody tr th {\n",
       "        vertical-align: top;\n",
       "    }\n",
       "\n",
       "    .dataframe thead th {\n",
       "        text-align: right;\n",
       "    }\n",
       "</style>\n",
       "<table border=\"1\" class=\"dataframe\">\n",
       "  <thead>\n",
       "    <tr style=\"text-align: right;\">\n",
       "      <th></th>\n",
       "      <th>image_id</th>\n",
       "      <th>label</th>\n",
       "      <th>fold</th>\n",
       "    </tr>\n",
       "  </thead>\n",
       "  <tbody>\n",
       "    <tr>\n",
       "      <th>0</th>\n",
       "      <td>0517_c5s1_143520_02.jpg</td>\n",
       "      <td>517</td>\n",
       "      <td>2</td>\n",
       "    </tr>\n",
       "    <tr>\n",
       "      <th>1</th>\n",
       "      <td>0816_c6s2_104418_01.jpg</td>\n",
       "      <td>816</td>\n",
       "      <td>4</td>\n",
       "    </tr>\n",
       "    <tr>\n",
       "      <th>2</th>\n",
       "      <td>1278_c1s6_012016_02.jpg</td>\n",
       "      <td>1278</td>\n",
       "      <td>2</td>\n",
       "    </tr>\n",
       "    <tr>\n",
       "      <th>3</th>\n",
       "      <td>0508_c5s2_082302_02.jpg</td>\n",
       "      <td>508</td>\n",
       "      <td>1</td>\n",
       "    </tr>\n",
       "    <tr>\n",
       "      <th>4</th>\n",
       "      <td>1198_c6s3_034292_01.jpg</td>\n",
       "      <td>1198</td>\n",
       "      <td>3</td>\n",
       "    </tr>\n",
       "  </tbody>\n",
       "</table>\n",
       "</div>"
      ],
      "text/plain": [
       "                  image_id  label  fold\n",
       "0  0517_c5s1_143520_02.jpg    517     2\n",
       "1  0816_c6s2_104418_01.jpg    816     4\n",
       "2  1278_c1s6_012016_02.jpg   1278     2\n",
       "3  0508_c5s2_082302_02.jpg    508     1\n",
       "4  1198_c6s3_034292_01.jpg   1198     3"
      ]
     },
     "execution_count": 83,
     "metadata": {},
     "output_type": "execute_result"
    }
   ],
   "source": [
    "df_train = pd.read_csv('../tmp/market_metriclearning_HT/train.csv')\n",
    "print(df_train.shape)\n",
    "df_train.head()"
   ]
  },
  {
   "cell_type": "code",
   "execution_count": 84,
   "id": "877e861d",
   "metadata": {},
   "outputs": [
    {
     "data": {
      "text/plain": [
       "(577, 3)"
      ]
     },
     "execution_count": 84,
     "metadata": {},
     "output_type": "execute_result"
    }
   ],
   "source": [
    "# test run用少量データ\n",
    "test_idx = 0\n",
    "test_classes = 10\n",
    "df_train = df_train[df_train['label'].isin(df_train['label'].value_counts()[test_idx:(test_idx+test_classes)].index)]\n",
    "\n",
    "df_train.shape"
   ]
  },
  {
   "cell_type": "code",
   "execution_count": 85,
   "id": "0711238a",
   "metadata": {},
   "outputs": [
    {
     "data": {
      "text/plain": [
       "label\n",
       "299    74\n",
       "139    66\n",
       "105    61\n",
       "197    59\n",
       "272    59\n",
       "208    58\n",
       "22     53\n",
       "132    49\n",
       "148    49\n",
       "261    49\n",
       "Name: count, dtype: int64"
      ]
     },
     "execution_count": 85,
     "metadata": {},
     "output_type": "execute_result"
    }
   ],
   "source": [
    "df_train['label'].value_counts()"
   ]
  },
  {
   "cell_type": "code",
   "execution_count": 138,
   "id": "ab498d35",
   "metadata": {},
   "outputs": [
    {
     "data": {
      "text/plain": [
       "(10, 22, 299)"
      ]
     },
     "execution_count": 138,
     "metadata": {},
     "output_type": "execute_result"
    }
   ],
   "source": [
    "df_train['label'].nunique(), df_train['label'].min(), df_train['label'].max()"
   ]
  },
  {
   "cell_type": "code",
   "execution_count": 88,
   "id": "5b615317",
   "metadata": {
    "scrolled": true
   },
   "outputs": [],
   "source": [
    "# pytorch学習用ラベルの作成\n",
    "labels = df_train['label'].unique()\n",
    "labels.sort()\n",
    "id_label = {v:i for i,v in enumerate(labels)}\n",
    "df_train['label_id'] = df_train['label'].map(id_label)   # label_idをtargetに利用"
   ]
  },
  {
   "cell_type": "code",
   "execution_count": 89,
   "id": "a30e1515",
   "metadata": {},
   "outputs": [
    {
     "data": {
      "text/html": [
       "<div>\n",
       "<style scoped>\n",
       "    .dataframe tbody tr th:only-of-type {\n",
       "        vertical-align: middle;\n",
       "    }\n",
       "\n",
       "    .dataframe tbody tr th {\n",
       "        vertical-align: top;\n",
       "    }\n",
       "\n",
       "    .dataframe thead th {\n",
       "        text-align: right;\n",
       "    }\n",
       "</style>\n",
       "<table border=\"1\" class=\"dataframe\">\n",
       "  <thead>\n",
       "    <tr style=\"text-align: right;\">\n",
       "      <th></th>\n",
       "      <th>image_id</th>\n",
       "      <th>label</th>\n",
       "      <th>fold</th>\n",
       "      <th>label_id</th>\n",
       "    </tr>\n",
       "  </thead>\n",
       "  <tbody>\n",
       "    <tr>\n",
       "      <th>5</th>\n",
       "      <td>0022_c4s1_004376_03.jpg</td>\n",
       "      <td>22</td>\n",
       "      <td>2</td>\n",
       "      <td>0</td>\n",
       "    </tr>\n",
       "    <tr>\n",
       "      <th>10</th>\n",
       "      <td>0132_c6s1_022726_01.jpg</td>\n",
       "      <td>132</td>\n",
       "      <td>1</td>\n",
       "      <td>2</td>\n",
       "    </tr>\n",
       "    <tr>\n",
       "      <th>17</th>\n",
       "      <td>0197_c2s1_038751_03.jpg</td>\n",
       "      <td>197</td>\n",
       "      <td>0</td>\n",
       "      <td>5</td>\n",
       "    </tr>\n",
       "    <tr>\n",
       "      <th>20</th>\n",
       "      <td>0272_c6s1_057426_01.jpg</td>\n",
       "      <td>272</td>\n",
       "      <td>1</td>\n",
       "      <td>8</td>\n",
       "    </tr>\n",
       "    <tr>\n",
       "      <th>26</th>\n",
       "      <td>0272_c5s1_066298_01.jpg</td>\n",
       "      <td>272</td>\n",
       "      <td>0</td>\n",
       "      <td>8</td>\n",
       "    </tr>\n",
       "    <tr>\n",
       "      <th>...</th>\n",
       "      <td>...</td>\n",
       "      <td>...</td>\n",
       "      <td>...</td>\n",
       "      <td>...</td>\n",
       "    </tr>\n",
       "    <tr>\n",
       "      <th>12064</th>\n",
       "      <td>0299_c5s1_067148_02.jpg</td>\n",
       "      <td>299</td>\n",
       "      <td>3</td>\n",
       "      <td>9</td>\n",
       "    </tr>\n",
       "    <tr>\n",
       "      <th>12070</th>\n",
       "      <td>0197_c5s1_045301_05.jpg</td>\n",
       "      <td>197</td>\n",
       "      <td>4</td>\n",
       "      <td>5</td>\n",
       "    </tr>\n",
       "    <tr>\n",
       "      <th>12080</th>\n",
       "      <td>0299_c5s1_092623_01.jpg</td>\n",
       "      <td>299</td>\n",
       "      <td>1</td>\n",
       "      <td>9</td>\n",
       "    </tr>\n",
       "    <tr>\n",
       "      <th>12085</th>\n",
       "      <td>0197_c5s1_045151_05.jpg</td>\n",
       "      <td>197</td>\n",
       "      <td>2</td>\n",
       "      <td>5</td>\n",
       "    </tr>\n",
       "    <tr>\n",
       "      <th>12107</th>\n",
       "      <td>0197_c5s1_045051_03.jpg</td>\n",
       "      <td>197</td>\n",
       "      <td>1</td>\n",
       "      <td>5</td>\n",
       "    </tr>\n",
       "  </tbody>\n",
       "</table>\n",
       "<p>577 rows × 4 columns</p>\n",
       "</div>"
      ],
      "text/plain": [
       "                      image_id  label  fold  label_id\n",
       "5      0022_c4s1_004376_03.jpg     22     2         0\n",
       "10     0132_c6s1_022726_01.jpg    132     1         2\n",
       "17     0197_c2s1_038751_03.jpg    197     0         5\n",
       "20     0272_c6s1_057426_01.jpg    272     1         8\n",
       "26     0272_c5s1_066298_01.jpg    272     0         8\n",
       "...                        ...    ...   ...       ...\n",
       "12064  0299_c5s1_067148_02.jpg    299     3         9\n",
       "12070  0197_c5s1_045301_05.jpg    197     4         5\n",
       "12080  0299_c5s1_092623_01.jpg    299     1         9\n",
       "12085  0197_c5s1_045151_05.jpg    197     2         5\n",
       "12107  0197_c5s1_045051_03.jpg    197     1         5\n",
       "\n",
       "[577 rows x 4 columns]"
      ]
     },
     "execution_count": 89,
     "metadata": {},
     "output_type": "execute_result"
    }
   ],
   "source": [
    "df_train"
   ]
  },
  {
   "cell_type": "code",
   "execution_count": 90,
   "id": "796ca1fc",
   "metadata": {},
   "outputs": [
    {
     "data": {
      "text/plain": [
       "(0, 9)"
      ]
     },
     "execution_count": 90,
     "metadata": {},
     "output_type": "execute_result"
    }
   ],
   "source": [
    "df_train['label_id'].min(), df_train['label_id'].max()"
   ]
  },
  {
   "cell_type": "code",
   "execution_count": 92,
   "id": "ecc39799",
   "metadata": {},
   "outputs": [
    {
     "name": "stdout",
     "output_type": "stream",
     "text": [
      "(1356, 2)\n"
     ]
    },
    {
     "data": {
      "text/html": [
       "<div>\n",
       "<style scoped>\n",
       "    .dataframe tbody tr th:only-of-type {\n",
       "        vertical-align: middle;\n",
       "    }\n",
       "\n",
       "    .dataframe tbody tr th {\n",
       "        vertical-align: top;\n",
       "    }\n",
       "\n",
       "    .dataframe thead th {\n",
       "        text-align: right;\n",
       "    }\n",
       "</style>\n",
       "<table border=\"1\" class=\"dataframe\">\n",
       "  <thead>\n",
       "    <tr style=\"text-align: right;\">\n",
       "      <th></th>\n",
       "      <th>image_id</th>\n",
       "      <th>label</th>\n",
       "    </tr>\n",
       "  </thead>\n",
       "  <tbody>\n",
       "    <tr>\n",
       "      <th>0</th>\n",
       "      <td>0655_c5s2_037230_03.jpg</td>\n",
       "      <td>655</td>\n",
       "    </tr>\n",
       "    <tr>\n",
       "      <th>1</th>\n",
       "      <td>0806_c6s2_088893_10.jpg</td>\n",
       "      <td>806</td>\n",
       "    </tr>\n",
       "    <tr>\n",
       "      <th>2</th>\n",
       "      <td>1106_c2s2_147252_01.jpg</td>\n",
       "      <td>1106</td>\n",
       "    </tr>\n",
       "    <tr>\n",
       "      <th>3</th>\n",
       "      <td>1422_c3s3_057028_06.jpg</td>\n",
       "      <td>1422</td>\n",
       "    </tr>\n",
       "    <tr>\n",
       "      <th>4</th>\n",
       "      <td>0309_c3s1_074117_01.jpg</td>\n",
       "      <td>309</td>\n",
       "    </tr>\n",
       "  </tbody>\n",
       "</table>\n",
       "</div>"
      ],
      "text/plain": [
       "                  image_id  label\n",
       "0  0655_c5s2_037230_03.jpg    655\n",
       "1  0806_c6s2_088893_10.jpg    806\n",
       "2  1106_c2s2_147252_01.jpg   1106\n",
       "3  1422_c3s3_057028_06.jpg   1422\n",
       "4  0309_c3s1_074117_01.jpg    309"
      ]
     },
     "execution_count": 92,
     "metadata": {},
     "output_type": "execute_result"
    }
   ],
   "source": [
    "df_test = pd.read_csv('../tmp/market_metriclearning_HT/test.csv')\n",
    "print(df_test.shape)\n",
    "df_test.head()"
   ]
  },
  {
   "cell_type": "markdown",
   "id": "c3b4d0dd",
   "metadata": {},
   "source": [
    "## Metric Learningの実施"
   ]
  },
  {
   "cell_type": "code",
   "execution_count": 140,
   "id": "c73a141f",
   "metadata": {},
   "outputs": [
    {
     "name": "stdout",
     "output_type": "stream",
     "text": [
      "class_size: 10\n"
     ]
    }
   ],
   "source": [
    "img_size = 128\n",
    "batch_size = 64\n",
    "init_learning_rate = 0.0001    # 学習率（初期）\n",
    "\n",
    "dataframe_image_col = 'image_id'\n",
    "dataframe_label_col = 'label_id'\n",
    "\n",
    "embedding_dim = 256    # 距離学習のEmbedding次元数\n",
    "class_size = df_train[dataframe_label_col].nunique()    # 学習データのラベルのクラス数\n",
    "print(f'class_size: {class_size}')"
   ]
  },
  {
   "cell_type": "markdown",
   "id": "a21834ba",
   "metadata": {},
   "source": [
    "### Augmentation, Dataset"
   ]
  },
  {
   "cell_type": "code",
   "execution_count": 94,
   "id": "e94fbf68",
   "metadata": {},
   "outputs": [],
   "source": [
    "transform_scoring = A.Compose([\n",
    "    A.Resize(height=img_size, width=img_size, p=1),\n",
    "])"
   ]
  },
  {
   "cell_type": "code",
   "execution_count": 95,
   "id": "aa00ffe7",
   "metadata": {},
   "outputs": [],
   "source": [
    "class CustomDataset(torch.utils.data.Dataset):\n",
    "\n",
    "    def __init__(self, df, img_dir, transforms, mode='train'):\n",
    "        self.df = df.reset_index(drop=True)\n",
    "        self.img_dir = img_dir\n",
    "        self.transforms = transforms\n",
    "        self.mode = mode\n",
    "\n",
    "    def __len__(self):\n",
    "        return self.df.shape[0]\n",
    "\n",
    "    def __getitem__(self, index):\n",
    "        img_file_name = self.df.loc[index, dataframe_image_col]\n",
    "        img_file_path = os.path.join(self.img_dir, img_file_name)\n",
    "        target = self.df.loc[index, dataframe_label_col]\n",
    "    \n",
    "        image = cv2.imread(img_file_path)\n",
    "        image = cv2.cvtColor(image, cv2.COLOR_RGB2BGR)\n",
    "\n",
    "        image_transformed = self.transforms(image=image)['image']\n",
    "\n",
    "        image_transformed = image_transformed.astype(np.float32)\n",
    "        image_transformed = image_transformed.transpose(2, 0, 1)\n",
    "        image_transformed /= 255.\n",
    "\n",
    "        if self.mode == 'inference':\n",
    "            return torch.tensor(image_transformed).float()\n",
    "        else:   # Train/Valid/Testなど正解ラベルが必要な時\n",
    "            return torch.tensor(image_transformed).float(), torch.tensor(target).long()"
   ]
  },
  {
   "cell_type": "code",
   "execution_count": 96,
   "id": "69e78d41",
   "metadata": {},
   "outputs": [
    {
     "name": "stdout",
     "output_type": "stream",
     "text": [
      "<__main__.CustomDataset object at 0x7f7baae3fd90> 577\n",
      "<class 'torch.Tensor'> <class 'torch.Tensor'>\n",
      "torch.Size([3, 128, 128]) tensor(6)\n"
     ]
    },
    {
     "data": {
      "image/png": "[encoded data removed]",
      "text/plain": [
       "<Figure size 300x300 with 1 Axes>"
      ]
     },
     "metadata": {},
     "output_type": "display_data"
    }
   ],
   "source": [
    "# Dataset test\n",
    "tmp_dataset = CustomDataset(df=df_train, img_dir=image_dir, transforms=transform_scoring, mode='train')\n",
    "print(tmp_dataset, len(tmp_dataset))\n",
    "\n",
    "tmp_img, tmp_label = tmp_dataset[10]    # 表示画像indexを指定\n",
    "print(type(tmp_img), type(tmp_label))\n",
    "print(tmp_img.shape, tmp_label)\n",
    "\n",
    "plt.figure(figsize=[3,3])\n",
    "plt.imshow(tmp_img.permute(1, 2, 0))\n",
    "plt.show()"
   ]
  },
  {
   "cell_type": "markdown",
   "id": "64c3d4b4",
   "metadata": {},
   "source": [
    "### Model"
   ]
  },
  {
   "cell_type": "code",
   "execution_count": 97,
   "id": "d19e05cb",
   "metadata": {},
   "outputs": [
    {
     "data": {
      "text/plain": [
       "{'url': 'https://github.com/huggingface/pytorch-image-models/releases/download/v0.1-rsb-weights/resnet18_a1_0-d63eafa0.pth',\n",
       " 'hf_hub_id': 'timm/resnet18.a1_in1k',\n",
       " 'architecture': 'resnet18',\n",
       " 'tag': 'a1_in1k',\n",
       " 'custom_load': False,\n",
       " 'input_size': (3, 224, 224),\n",
       " 'test_input_size': (3, 288, 288),\n",
       " 'fixed_input_size': False,\n",
       " 'interpolation': 'bicubic',\n",
       " 'crop_pct': 0.95,\n",
       " 'test_crop_pct': 1.0,\n",
       " 'crop_mode': 'center',\n",
       " 'mean': (0.485, 0.456, 0.406),\n",
       " 'std': (0.229, 0.224, 0.225),\n",
       " 'num_classes': 1000,\n",
       " 'pool_size': (7, 7),\n",
       " 'first_conv': 'conv1',\n",
       " 'classifier': 'fc',\n",
       " 'origin_url': 'https://github.com/huggingface/pytorch-image-models',\n",
       " 'paper_ids': 'arXiv:2110.00476'}"
      ]
     },
     "execution_count": 97,
     "metadata": {},
     "output_type": "execute_result"
    }
   ],
   "source": [
    "# モデルアウトプットのクラス数を、距離学習のEmbedding次元数に設定\n",
    "backborn = timm.create_model('resnet18', pretrained=True, num_classes=embedding_dim)\n",
    "backborn.default_cfg"
   ]
  },
  {
   "cell_type": "code",
   "execution_count": 98,
   "id": "6a56d901",
   "metadata": {},
   "outputs": [
    {
     "data": {
      "text/plain": [
       "Linear(in_features=512, out_features=256, bias=True)"
      ]
     },
     "execution_count": 98,
     "metadata": {},
     "output_type": "execute_result"
    }
   ],
   "source": [
    "backborn.fc"
   ]
  },
  {
   "cell_type": "code",
   "execution_count": 99,
   "id": "2ea15f00",
   "metadata": {},
   "outputs": [
    {
     "data": {
      "text/plain": [
       "torch.Size([8, 256])"
      ]
     },
     "execution_count": 99,
     "metadata": {},
     "output_type": "execute_result"
    }
   ],
   "source": [
    "# output test\n",
    "# Embedding次元数が出力\n",
    "backborn(torch.rand(8, 3, 328, 328)).shape"
   ]
  },
  {
   "cell_type": "markdown",
   "id": "ccaf3993",
   "metadata": {},
   "source": [
    "### 学習\n",
    "mAPといった指標でよく精度評価が実施されたりするが実装が不明なため実施なし"
   ]
  },
  {
   "cell_type": "code",
   "execution_count": 100,
   "id": "d752d31d",
   "metadata": {},
   "outputs": [],
   "source": [
    "def train_func(model, train_loader, criterion, optimizer):\n",
    "    losses = []\n",
    "    bar = tqdm(train_loader)\n",
    "    model.train()\n",
    "\n",
    "    for i, (images, targets) in enumerate(bar):    # バッチループ\n",
    "        images = images.to(device)\n",
    "        targets = targets.to(device)\n",
    "        outputs = model(images)\n",
    "        #criterion = criterion.to(device)\n",
    "        loss = criterion(outputs, targets)\n",
    "        #print(loss)\n",
    "\n",
    "        optimizer.zero_grad()\n",
    "        loss.backward()\n",
    "        optimizer.step()\n",
    "\n",
    "        losses.append(loss.item())\n",
    "        smooth_loss = np.mean(losses[-5:])   # 過去5バッチループのLoss平均\n",
    "\n",
    "        bar.set_description(f'loss: {loss.item():.5f}, smth: {smooth_loss:.5f}')\n",
    "\n",
    "    loss_train= np.mean(losses)\n",
    "    return loss_train\n",
    "\n",
    "def valid_func(model, valid_loader, criterion): \n",
    "    losses = []\n",
    "    OUTPUTS, TARGETS = [], []\n",
    "    bar = tqdm(valid_loader)\n",
    "    model.eval()\n",
    "\n",
    "    with torch.no_grad():\n",
    "        for i, (images, targets) in enumerate(bar):    # バッチループ\n",
    "            images = images.to(device)\n",
    "            targets = targets.to(device)\n",
    "            outputs = model(images)\n",
    "            criterion = criterion.to(device)\n",
    "            loss = criterion(outputs, targets)\n",
    "\n",
    "            losses.append(loss.item())\n",
    "            smooth_loss = np.mean(losses[-5:])\n",
    "\n",
    "            bar.set_description(f'loss: {loss.item():.5f}, smth: {smooth_loss:.5f}')\n",
    "\n",
    "            OUTPUTS.append(outputs.cpu())\n",
    "            TARGETS.append(targets.cpu())\n",
    "\n",
    "        loss_valid = np.mean(losses)\n",
    "        \n",
    "        ''' to do:  mAPの実装\n",
    "        PREDS = f(OUTPUTS)\n",
    "        map = mAP(TARGETS, PREDS))\n",
    "        '''\n",
    "\n",
    "    return loss_valid\n",
    "    #return loss_valid, map"
   ]
  },
  {
   "cell_type": "code",
   "execution_count": 101,
   "id": "7dc7621d",
   "metadata": {},
   "outputs": [],
   "source": [
    "#metric = losses.ArcFaceLoss(num_classes=class_size, embedding_size=embedding_dim, scale=10, margin=0.5)\n",
    "#metric"
   ]
  },
  {
   "cell_type": "code",
   "execution_count": 102,
   "id": "8619e961",
   "metadata": {},
   "outputs": [],
   "source": [
    "def run(fold):\n",
    "    print('Running fold #{}'.format(fold))\n",
    "\n",
    "    train_ = df_train[df_train['fold']!=fold]\n",
    "    #train_ = df_train\n",
    "    valid_ = df_train[df_train['fold']==fold]\n",
    "    print(df_train.shape, train_.shape, valid_.shape)\n",
    "\n",
    "    dataset_train = CustomDataset(df=train_, img_dir=image_dir, transforms=transform_scoring , mode='train')\n",
    "    dataset_valid = CustomDataset(df=valid_, img_dir=image_dir, transforms=transform_scoring, mode='train')\n",
    "\n",
    "    train_loader = torch.utils.data.DataLoader(dataset_train, batch_size=batch_size, shuffle=True)#, num_workers=2)\n",
    "    valid_loader = torch.utils.data.DataLoader(dataset_valid, batch_size=batch_size, shuffle=False)#, num_workers=2)\n",
    "\n",
    "    print(f'Batch size: {batch_size}')\n",
    "    print('train samples:', len(dataset_train), 'valid samples:', len(dataset_valid))\n",
    "    print('train batch roops:', len(train_loader), 'valid batch roops:', len(valid_loader))\n",
    "\n",
    "    model = m.to(device)\n",
    "    #print(model)\n",
    "    metric = losses.ArcFaceLoss(num_classes=class_size, embedding_size=embedding_dim, scale=10, margin=0.5)\n",
    "    #print(metric)\n",
    "    optimizer = optim.Adam([{'params': model.parameters()}, {'params': metric.parameters()}], lr=init_learning_rate)\n",
    "    #print(optimizer)\n",
    "    scheduler = lr_scheduler.CosineAnnealingLR(optimizer, T_max=n_epochs-1, eta_min=1e-8)\n",
    "    #print(scheduler)\n",
    "\n",
    "    log = {}\n",
    "    log_file = f'{exp_name}_fold{fold}_log.txt'\n",
    "    model_file = os.path.join('tmp', f'{exp_name}_fold{fold}_best.pth')\n",
    "    best_map = 0.0\n",
    "\n",
    "    for epoch in range(n_epochs):\n",
    "        print('>> Epoch: {}/{}'.format(epoch+1, n_epochs))\n",
    "\n",
    "        loss_train = train_func(model, train_loader, metric, optimizer)\n",
    "        print('Training:: Loss: {}'.format(loss_train))\n",
    "        \n",
    "        ''' to do\n",
    "        loss_valid, map = valid_func(model, valid_loader, metric)\n",
    "        print('Validation:: Loss: {}, mAP: {}'.format(loss_valid, map))\n",
    "        '''\n",
    "        loss_valid = valid_func(model, valid_loader, metric)\n",
    "        print('Validation:: Loss: {}'.format(loss_valid))\n",
    "\n",
    "        log['loss_train'] = log.get('loss_train', []) + [loss_train]\n",
    "        log['loss_valid'] = log.get('loss_valid', []) + [loss_valid]\n",
    "        log['lr'] = log.get('lr', []) + [optimizer.param_groups[0][\"lr\"]]\n",
    "        ''' to do\n",
    "        log['mAP'] = log.get('acc', []) + [map]\n",
    "        '''\n",
    "\n",
    "        content = time.ctime() + ' ' + f'Fold {fold}, Epoch {epoch}, lr: {optimizer.param_groups[0][\"lr\"]:.7f}, loss_train: {loss_train:.5f}, loss_valid: {loss_valid:.5f}.'\n",
    "        ''' to do\n",
    "        content = time.ctime() + ' ' + f'Fold {fold}, Epoch {epoch}, lr: {optimizer.param_groups[0][\"lr\"]:.7f}, loss_train: {loss_train:.5f}, loss_valid: {loss_valid:.5f}, acc: {acc:.4f}.'\n",
    "        '''\n",
    "        print(content)\n",
    "        with open(log_file, 'a') as fp:\n",
    "            fp.write(content + '\\n')\n",
    "\n",
    "        ''' to do\n",
    "        if acc > best_map:\n",
    "            print(f'best_map ({best_map:.6f} --> {map:.6f}). Saving model ...')\n",
    "            map_max = map\n",
    "            torch.save(model.state_dict(), model_file)\n",
    "        '''\n",
    "\n",
    "        scheduler.step(epoch+1)\n",
    "\n",
    "    torch.save(model.state_dict(), model_file.replace('_best', '_final'))\n",
    "    return log"
   ]
  },
  {
   "cell_type": "code",
   "execution_count": 104,
   "id": "0ed8a4bc",
   "metadata": {},
   "outputs": [
    {
     "name": "stdout",
     "output_type": "stream",
     "text": [
      "Running fold #0\n",
      "(577, 4) (478, 4) (99, 4)\n",
      "Batch size: 64\n",
      "train samples: 478 valid samples: 99\n",
      "train batch roops: 8 valid batch roops: 2\n",
      ">> Epoch: 1/5\n"
     ]
    },
    {
     "data": {
      "application/vnd.jupyter.widget-view+json": {
       "model_id": "52fbdd605eed4f94991774065137432a",
       "version_major": 2,
       "version_minor": 0
      },
      "text/plain": [
       "  0%|          | 0/8 [00:00<?, ?it/s]"
      ]
     },
     "metadata": {},
     "output_type": "display_data"
    },
    {
     "name": "stdout",
     "output_type": "stream",
     "text": [
      "Training:: Loss: 2.3553719222545624\n"
     ]
    },
    {
     "data": {
      "application/vnd.jupyter.widget-view+json": {
       "model_id": "c5f7357005d84015844080b28adfb898",
       "version_major": 2,
       "version_minor": 0
      },
      "text/plain": [
       "  0%|          | 0/2 [00:00<?, ?it/s]"
      ]
     },
     "metadata": {},
     "output_type": "display_data"
    },
    {
     "name": "stdout",
     "output_type": "stream",
     "text": [
      "Validation:: Loss: 2.2378714084625244\n",
      "Sun Apr 21 09:47:55 2024 Fold 0, Epoch 0, lr: 0.0001000, loss_train: 2.35537, loss_valid: 2.23787.\n",
      ">> Epoch: 2/5\n"
     ]
    },
    {
     "name": "stderr",
     "output_type": "stream",
     "text": [
      "/opt/anaconda3/envs/PyTorch/lib/python3.8/site-packages/torch/optim/lr_scheduler.py:156: UserWarning: The epoch parameter in `scheduler.step()` was not necessary and is being deprecated where possible. Please use `scheduler.step()` to step the scheduler. During the deprecation, if epoch is different from None, the closed form is used instead of the new chainable form, where available. Please open an issue if you are unable to replicate your use case: https://github.com/pytorch/pytorch/issues/new/choose.\n",
      "  warnings.warn(EPOCH_DEPRECATION_WARNING, UserWarning)\n"
     ]
    },
    {
     "data": {
      "application/vnd.jupyter.widget-view+json": {
       "model_id": "005ae66cb612451b973721aea70ad463",
       "version_major": 2,
       "version_minor": 0
      },
      "text/plain": [
       "  0%|          | 0/8 [00:00<?, ?it/s]"
      ]
     },
     "metadata": {},
     "output_type": "display_data"
    },
    {
     "name": "stdout",
     "output_type": "stream",
     "text": [
      "Training:: Loss: 1.9141699224710464\n"
     ]
    },
    {
     "data": {
      "application/vnd.jupyter.widget-view+json": {
       "model_id": "4d69ba8e538843058fd8c2c42f250e23",
       "version_major": 2,
       "version_minor": 0
      },
      "text/plain": [
       "  0%|          | 0/2 [00:00<?, ?it/s]"
      ]
     },
     "metadata": {},
     "output_type": "display_data"
    },
    {
     "name": "stdout",
     "output_type": "stream",
     "text": [
      "Validation:: Loss: 2.053238570690155\n",
      "Sun Apr 21 09:48:20 2024 Fold 0, Epoch 1, lr: 0.0000854, loss_train: 1.91417, loss_valid: 2.05324.\n",
      ">> Epoch: 3/5\n"
     ]
    },
    {
     "data": {
      "application/vnd.jupyter.widget-view+json": {
       "model_id": "c01677d6e77b4f84a11c518e4fb7459d",
       "version_major": 2,
       "version_minor": 0
      },
      "text/plain": [
       "  0%|          | 0/8 [00:00<?, ?it/s]"
      ]
     },
     "metadata": {},
     "output_type": "display_data"
    },
    {
     "name": "stdout",
     "output_type": "stream",
     "text": [
      "Training:: Loss: 1.6597112119197845\n"
     ]
    },
    {
     "data": {
      "application/vnd.jupyter.widget-view+json": {
       "model_id": "72bb964b998d46a29e69742ef889d9f2",
       "version_major": 2,
       "version_minor": 0
      },
      "text/plain": [
       "  0%|          | 0/2 [00:00<?, ?it/s]"
      ]
     },
     "metadata": {},
     "output_type": "display_data"
    },
    {
     "name": "stdout",
     "output_type": "stream",
     "text": [
      "Validation:: Loss: 1.8801220655441284\n",
      "Sun Apr 21 09:48:45 2024 Fold 0, Epoch 2, lr: 0.0000500, loss_train: 1.65971, loss_valid: 1.88012.\n",
      ">> Epoch: 4/5\n"
     ]
    },
    {
     "data": {
      "application/vnd.jupyter.widget-view+json": {
       "model_id": "e66f3a9c927e4985a35877a10dfbce73",
       "version_major": 2,
       "version_minor": 0
      },
      "text/plain": [
       "  0%|          | 0/8 [00:00<?, ?it/s]"
      ]
     },
     "metadata": {},
     "output_type": "display_data"
    },
    {
     "name": "stdout",
     "output_type": "stream",
     "text": [
      "Training:: Loss: 1.5193759053945541\n"
     ]
    },
    {
     "data": {
      "application/vnd.jupyter.widget-view+json": {
       "model_id": "ee5325e67a4b41ed810766397b9bd80c",
       "version_major": 2,
       "version_minor": 0
      },
      "text/plain": [
       "  0%|          | 0/2 [00:00<?, ?it/s]"
      ]
     },
     "metadata": {},
     "output_type": "display_data"
    },
    {
     "name": "stdout",
     "output_type": "stream",
     "text": [
      "Validation:: Loss: 1.8366379141807556\n",
      "Sun Apr 21 09:49:11 2024 Fold 0, Epoch 3, lr: 0.0000147, loss_train: 1.51938, loss_valid: 1.83664.\n",
      ">> Epoch: 5/5\n"
     ]
    },
    {
     "data": {
      "application/vnd.jupyter.widget-view+json": {
       "model_id": "3792421eb2fc41d2b7881c00d6a021c4",
       "version_major": 2,
       "version_minor": 0
      },
      "text/plain": [
       "  0%|          | 0/8 [00:00<?, ?it/s]"
      ]
     },
     "metadata": {},
     "output_type": "display_data"
    },
    {
     "name": "stdout",
     "output_type": "stream",
     "text": [
      "Training:: Loss: 1.4703827649354935\n"
     ]
    },
    {
     "data": {
      "application/vnd.jupyter.widget-view+json": {
       "model_id": "dbc7126e56ac424f8d6a547ed2d8ae3d",
       "version_major": 2,
       "version_minor": 0
      },
      "text/plain": [
       "  0%|          | 0/2 [00:00<?, ?it/s]"
      ]
     },
     "metadata": {},
     "output_type": "display_data"
    },
    {
     "name": "stdout",
     "output_type": "stream",
     "text": [
      "Validation:: Loss: 1.790976881980896\n",
      "Sun Apr 21 09:49:36 2024 Fold 0, Epoch 4, lr: 0.0000000, loss_train: 1.47038, loss_valid: 1.79098.\n"
     ]
    },
    {
     "data": {
      "text/plain": [
       "{'loss_train': [2.3553719222545624,\n",
       "  1.9141699224710464,\n",
       "  1.6597112119197845,\n",
       "  1.5193759053945541,\n",
       "  1.4703827649354935],\n",
       " 'loss_valid': [2.2378714084625244,\n",
       "  2.053238570690155,\n",
       "  1.8801220655441284,\n",
       "  1.8366379141807556,\n",
       "  1.790976881980896],\n",
       " 'lr': [0.0001,\n",
       "  8.535680352542144e-05,\n",
       "  5.0005000000000007e-05,\n",
       "  1.465319647457856e-05,\n",
       "  1e-08]}"
      ]
     },
     "execution_count": 104,
     "metadata": {},
     "output_type": "execute_result"
    }
   ],
   "source": [
    "# Test run\n",
    "n_epochs = 5\n",
    "\n",
    "m = backborn\n",
    "\n",
    "fold = 0\n",
    "exp_name = 'TestExperiment'\n",
    "\n",
    "tmp_log = run(fold=fold)\n",
    "tmp_log"
   ]
  },
  {
   "cell_type": "code",
   "execution_count": null,
   "id": "fe791439",
   "metadata": {},
   "outputs": [],
   "source": []
  },
  {
   "cell_type": "markdown",
   "id": "672e95d7",
   "metadata": {},
   "source": [
    "## 推論（Embeddingの出力）"
   ]
  },
  {
   "cell_type": "code",
   "execution_count": 141,
   "id": "ea534cc7",
   "metadata": {},
   "outputs": [
    {
     "name": "stdout",
     "output_type": "stream",
     "text": [
      "(577, 4)\n"
     ]
    }
   ],
   "source": [
    "# 学習データに対する推論を実施\n",
    "print(df_train.shape)\n",
    "dataset_test = CustomDataset(df=df_train, img_dir=image_dir, transforms=transform_scoring, mode='train')\n",
    "test_loader = torch.utils.data.DataLoader(dataset_test, batch_size=batch_size, shuffle=False)"
   ]
  },
  {
   "cell_type": "code",
   "execution_count": 106,
   "id": "2737977d",
   "metadata": {},
   "outputs": [
    {
     "data": {
      "application/vnd.jupyter.widget-view+json": {
       "model_id": "3f8d44deec9b41dc821c9ee2874fd19e",
       "version_major": 2,
       "version_minor": 0
      },
      "text/plain": [
       "  0%|          | 0/10 [00:00<?, ?it/s]"
      ]
     },
     "metadata": {},
     "output_type": "display_data"
    }
   ],
   "source": [
    "OUTPUTS, TARGETS = [], []\n",
    "bar = tqdm(test_loader)\n",
    "m = m.to(device)\n",
    "m.eval()\n",
    "\n",
    "with torch.no_grad():\n",
    "        for i, (images, targets) in enumerate(bar):    # バッチループ\n",
    "            images = images.to(device)\n",
    "            targets = targets.to(device)\n",
    "            outputs = m(images)\n",
    "            \n",
    "            OUTPUTS.append(outputs.cpu().numpy())\n",
    "            TARGETS.append(targets.cpu().numpy())\n",
    "\n",
    "OUTPUTS = np.concatenate(OUTPUTS)\n",
    "TARGETS = np.concatenate(TARGETS)"
   ]
  },
  {
   "cell_type": "code",
   "execution_count": 107,
   "id": "a86d4d38",
   "metadata": {},
   "outputs": [
    {
     "data": {
      "text/plain": [
       "((577, 256), (577,))"
      ]
     },
     "execution_count": 107,
     "metadata": {},
     "output_type": "execute_result"
    }
   ],
   "source": [
    "OUTPUTS.shape, TARGETS.shape"
   ]
  },
  {
   "cell_type": "code",
   "execution_count": 108,
   "id": "55e67394",
   "metadata": {},
   "outputs": [
    {
     "data": {
      "text/plain": [
       "array([-0.30972913,  0.24894972,  0.11193155,  0.13857576, -0.48957723,\n",
       "       -0.11820778,  0.39553946, -0.11926966, -0.21365085, -0.00060529,\n",
       "        0.35128397, -0.357658  ,  0.04310461,  0.16532364, -0.04231553,\n",
       "       -0.39988047,  0.01640154,  0.22465196, -0.07234795,  0.254635  ,\n",
       "       -0.2510941 , -0.04035462, -0.09429121,  0.0840448 ,  0.2328607 ,\n",
       "       -0.06234705,  0.13906801,  0.08587312,  0.17869294,  0.06025479,\n",
       "       -0.03848144, -0.06839095, -0.21597445, -0.002413  ,  0.09445474,\n",
       "       -0.5605424 ,  0.30935955, -0.35569263,  0.38423344, -0.16529468,\n",
       "        0.08120942, -0.09865782,  0.5166185 , -0.1139985 ,  0.1371681 ,\n",
       "        0.02819632,  0.12038049,  0.12073813,  0.03437841,  0.40479207],\n",
       "      dtype=float32)"
      ]
     },
     "execution_count": 108,
     "metadata": {},
     "output_type": "execute_result"
    }
   ],
   "source": [
    "OUTPUTS[0][:50]"
   ]
  },
  {
   "cell_type": "code",
   "execution_count": 109,
   "id": "ef38a1b9",
   "metadata": {},
   "outputs": [
    {
     "data": {
      "text/plain": [
       "(0, 9, 10)"
      ]
     },
     "execution_count": 109,
     "metadata": {},
     "output_type": "execute_result"
    }
   ],
   "source": [
    "TARGETS.min(), TARGETS.max(), pd.Series(TARGETS).nunique()"
   ]
  },
  {
   "cell_type": "code",
   "execution_count": null,
   "id": "6672f9b1",
   "metadata": {},
   "outputs": [],
   "source": []
  },
  {
   "cell_type": "markdown",
   "id": "30a47626",
   "metadata": {},
   "source": [
    "## 可視化（UMAP）"
   ]
  },
  {
   "cell_type": "code",
   "execution_count": 137,
   "id": "323c3435",
   "metadata": {},
   "outputs": [
    {
     "name": "stderr",
     "output_type": "stream",
     "text": [
      "/opt/anaconda3/envs/PyTorch/lib/python3.8/site-packages/umap/umap_.py:1945: UserWarning: n_jobs value 1 overridden to 1 by setting random_state. Use no seed for parallelism.\n",
      "  warn(f\"n_jobs value {self.n_jobs} overridden to 1 by setting random_state. Use no seed for parallelism.\")\n",
      "/var/folders/50/glkvvhjx03g22fwy2r0tgylr0000gn/T/ipykernel_88928/87445950.py:6: UserWarning: No data for colormapping provided via 'c'. Parameters 'cmap' will be ignored\n",
      "  plt.scatter(embedding[:, 0], embedding[:, 1],\n"
     ]
    },
    {
     "data": {
      "image/png": "[encoded data removed]",
      "text/plain": [
       "<Figure size 900x600 with 1 Axes>"
      ]
     },
     "metadata": {},
     "output_type": "display_data"
    }
   ],
   "source": [
    "mapper = umap.UMAP(random_state=0)\n",
    "embedding = mapper.fit_transform(OUTPUTS)\n",
    "\n",
    "import matplotlib.pyplot as plt \n",
    "plt.figure(figsize=(9, 6))\n",
    "plt.scatter(embedding[:, 0], embedding[:, 1],\n",
    "            c=[sns.color_palette()[x] for x in TARGETS], \n",
    "            #c=TARGETS,\n",
    "            cmap='Spectral',\n",
    "            s=15, \n",
    "            alpha=0.8)\n",
    "plt.axis('off')\n",
    "#plt.colorbar()\n",
    "plt.show()"
   ]
  },
  {
   "cell_type": "code",
   "execution_count": null,
   "id": "4cbd50e1",
   "metadata": {},
   "outputs": [],
   "source": []
  },
  {
   "cell_type": "markdown",
   "id": "96648353",
   "metadata": {},
   "source": [
    "## todo: 類似画像の取得\n",
    "ある画像を指定し、類似したtop kを表示"
   ]
  },
  {
   "cell_type": "code",
   "execution_count": null,
   "id": "adb4d923",
   "metadata": {},
   "outputs": [],
   "source": []
  }
 ],
 "metadata": {
  "kernelspec": {
   "display_name": "Python 3 (ipykernel)",
   "language": "python",
   "name": "python3"
  },
  "language_info": {
   "codemirror_mode": {
    "name": "ipython",
    "version": 3
   },
   "file_extension": ".py",
   "mimetype": "text/x-python",
   "name": "python",
   "nbconvert_exporter": "python",
   "pygments_lexer": "ipython3",
   "version": "3.8.13"
  }
 },
 "nbformat": 4,
 "nbformat_minor": 5
}
