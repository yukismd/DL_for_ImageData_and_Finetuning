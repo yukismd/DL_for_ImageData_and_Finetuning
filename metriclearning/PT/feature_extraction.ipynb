{
 "cells": [
  {
   "cell_type": "markdown",
   "id": "18f607f7",
   "metadata": {},
   "source": [
    "# Metric Learning Baseline\n",
    "事前学習モデルの最終層の出力(Global Pooling)を類似度検索のベクトルに利用"
   ]
  },
  {
   "cell_type": "code",
   "execution_count": 1,
   "id": "d5f19e22",
   "metadata": {},
   "outputs": [],
   "source": [
    "import os\n",
    "\n",
    "from tqdm.notebook import tqdm\n",
    "import numpy as np\n",
    "import pandas as pd\n",
    "import matplotlib.pyplot as plt\n",
    "import torch\n",
    "import timm\n",
    "import albumentations as A\n",
    "import cv2"
   ]
  },
  {
   "cell_type": "code",
   "execution_count": null,
   "id": "a0667eb6",
   "metadata": {},
   "outputs": [],
   "source": []
  },
  {
   "cell_type": "code",
   "execution_count": 2,
   "id": "7eae41ac",
   "metadata": {},
   "outputs": [],
   "source": [
    "img_size = 128\n",
    "batch_size = 64\n",
    "\n",
    "dataframe_image_col = 'image_id'\n",
    "dataframe_label_col = 'label'"
   ]
  },
  {
   "cell_type": "code",
   "execution_count": 3,
   "id": "877f899e",
   "metadata": {},
   "outputs": [
    {
     "data": {
      "text/plain": [
       "device(type='cpu')"
      ]
     },
     "execution_count": 3,
     "metadata": {},
     "output_type": "execute_result"
    }
   ],
   "source": [
    "device = torch.device('cuda:0' if torch.cuda.is_available() else 'cpu')\n",
    "device"
   ]
  },
  {
   "cell_type": "markdown",
   "id": "1cf87727",
   "metadata": {},
   "source": [
    "### データ"
   ]
  },
  {
   "cell_type": "code",
   "execution_count": 4,
   "id": "d815a0ca",
   "metadata": {},
   "outputs": [
    {
     "name": "stdout",
     "output_type": "stream",
     "text": [
      "\u001b[34mimages\u001b[m\u001b[m    test.csv  train.csv\r\n"
     ]
    }
   ],
   "source": [
    "!ls ../tmp/market_metriclearning_HT"
   ]
  },
  {
   "cell_type": "code",
   "execution_count": 5,
   "id": "e300d7b7",
   "metadata": {},
   "outputs": [
    {
     "name": "stdout",
     "output_type": "stream",
     "text": [
      "   12937\r\n"
     ]
    }
   ],
   "source": [
    "!ls -l ../tmp/market_metriclearning_HT/images | wc -l"
   ]
  },
  {
   "cell_type": "code",
   "execution_count": 6,
   "id": "b4aefa7d",
   "metadata": {},
   "outputs": [],
   "source": [
    "image_dir = '../tmp/market_metriclearning_HT/images'"
   ]
  },
  {
   "cell_type": "code",
   "execution_count": 7,
   "id": "02d90cbd",
   "metadata": {},
   "outputs": [
    {
     "name": "stdout",
     "output_type": "stream",
     "text": [
      "(12114, 3)\n"
     ]
    },
    {
     "data": {
      "text/html": [
       "<div>\n",
       "<style scoped>\n",
       "    .dataframe tbody tr th:only-of-type {\n",
       "        vertical-align: middle;\n",
       "    }\n",
       "\n",
       "    .dataframe tbody tr th {\n",
       "        vertical-align: top;\n",
       "    }\n",
       "\n",
       "    .dataframe thead th {\n",
       "        text-align: right;\n",
       "    }\n",
       "</style>\n",
       "<table border=\"1\" class=\"dataframe\">\n",
       "  <thead>\n",
       "    <tr style=\"text-align: right;\">\n",
       "      <th></th>\n",
       "      <th>image_id</th>\n",
       "      <th>label</th>\n",
       "      <th>fold</th>\n",
       "    </tr>\n",
       "  </thead>\n",
       "  <tbody>\n",
       "    <tr>\n",
       "      <th>0</th>\n",
       "      <td>0517_c5s1_143520_02.jpg</td>\n",
       "      <td>517</td>\n",
       "      <td>2</td>\n",
       "    </tr>\n",
       "    <tr>\n",
       "      <th>1</th>\n",
       "      <td>0816_c6s2_104418_01.jpg</td>\n",
       "      <td>816</td>\n",
       "      <td>4</td>\n",
       "    </tr>\n",
       "    <tr>\n",
       "      <th>2</th>\n",
       "      <td>1278_c1s6_012016_02.jpg</td>\n",
       "      <td>1278</td>\n",
       "      <td>2</td>\n",
       "    </tr>\n",
       "    <tr>\n",
       "      <th>3</th>\n",
       "      <td>0508_c5s2_082302_02.jpg</td>\n",
       "      <td>508</td>\n",
       "      <td>1</td>\n",
       "    </tr>\n",
       "    <tr>\n",
       "      <th>4</th>\n",
       "      <td>1198_c6s3_034292_01.jpg</td>\n",
       "      <td>1198</td>\n",
       "      <td>3</td>\n",
       "    </tr>\n",
       "  </tbody>\n",
       "</table>\n",
       "</div>"
      ],
      "text/plain": [
       "                  image_id  label  fold\n",
       "0  0517_c5s1_143520_02.jpg    517     2\n",
       "1  0816_c6s2_104418_01.jpg    816     4\n",
       "2  1278_c1s6_012016_02.jpg   1278     2\n",
       "3  0508_c5s2_082302_02.jpg    508     1\n",
       "4  1198_c6s3_034292_01.jpg   1198     3"
      ]
     },
     "execution_count": 7,
     "metadata": {},
     "output_type": "execute_result"
    }
   ],
   "source": [
    "df_train = pd.read_csv('../tmp/market_metriclearning_HT/train.csv')\n",
    "print(df_train.shape)\n",
    "df_train.head()"
   ]
  },
  {
   "cell_type": "code",
   "execution_count": 8,
   "id": "0774ad18",
   "metadata": {},
   "outputs": [
    {
     "data": {
      "text/plain": [
       "label\n",
       "433     7\n",
       "1295    7\n",
       "236     7\n",
       "1471    7\n",
       "522     7\n",
       "398     7\n",
       "579     7\n",
       "1427    7\n",
       "1464    7\n",
       "1325    7\n",
       "1346    7\n",
       "371     7\n",
       "245     7\n",
       "397     7\n",
       "1363    7\n",
       "958     7\n",
       "752     7\n",
       "1316    7\n",
       "604     7\n",
       "940     7\n",
       "Name: count, dtype: int64"
      ]
     },
     "execution_count": 8,
     "metadata": {},
     "output_type": "execute_result"
    }
   ],
   "source": [
    "df_train['label'].value_counts()[600:620]"
   ]
  },
  {
   "cell_type": "code",
   "execution_count": 9,
   "id": "e8b5cb76",
   "metadata": {},
   "outputs": [
    {
     "data": {
      "text/html": [
       "<div>\n",
       "<style scoped>\n",
       "    .dataframe tbody tr th:only-of-type {\n",
       "        vertical-align: middle;\n",
       "    }\n",
       "\n",
       "    .dataframe tbody tr th {\n",
       "        vertical-align: top;\n",
       "    }\n",
       "\n",
       "    .dataframe thead th {\n",
       "        text-align: right;\n",
       "    }\n",
       "</style>\n",
       "<table border=\"1\" class=\"dataframe\">\n",
       "  <thead>\n",
       "    <tr style=\"text-align: right;\">\n",
       "      <th></th>\n",
       "      <th>image_id</th>\n",
       "      <th>label</th>\n",
       "      <th>fold</th>\n",
       "    </tr>\n",
       "  </thead>\n",
       "  <tbody>\n",
       "    <tr>\n",
       "      <th>21</th>\n",
       "      <td>1325_c3s3_036228_03.jpg</td>\n",
       "      <td>1325</td>\n",
       "      <td>3</td>\n",
       "    </tr>\n",
       "    <tr>\n",
       "      <th>42</th>\n",
       "      <td>1295_c1s5_057466_01.jpg</td>\n",
       "      <td>1295</td>\n",
       "      <td>3</td>\n",
       "    </tr>\n",
       "    <tr>\n",
       "      <th>118</th>\n",
       "      <td>0940_c3s2_118119_02.jpg</td>\n",
       "      <td>940</td>\n",
       "      <td>4</td>\n",
       "    </tr>\n",
       "    <tr>\n",
       "      <th>120</th>\n",
       "      <td>0604_c2s2_013662_01.jpg</td>\n",
       "      <td>604</td>\n",
       "      <td>4</td>\n",
       "    </tr>\n",
       "    <tr>\n",
       "      <th>168</th>\n",
       "      <td>0604_c6s2_011093_03.jpg</td>\n",
       "      <td>604</td>\n",
       "      <td>3</td>\n",
       "    </tr>\n",
       "    <tr>\n",
       "      <th>...</th>\n",
       "      <td>...</td>\n",
       "      <td>...</td>\n",
       "      <td>...</td>\n",
       "    </tr>\n",
       "    <tr>\n",
       "      <th>11047</th>\n",
       "      <td>1363_c2s3_058277_01.jpg</td>\n",
       "      <td>1363</td>\n",
       "      <td>1</td>\n",
       "    </tr>\n",
       "    <tr>\n",
       "      <th>11082</th>\n",
       "      <td>1316_c4s5_057510_01.jpg</td>\n",
       "      <td>1316</td>\n",
       "      <td>3</td>\n",
       "    </tr>\n",
       "    <tr>\n",
       "      <th>11374</th>\n",
       "      <td>0371_c1s2_015416_01.jpg</td>\n",
       "      <td>371</td>\n",
       "      <td>0</td>\n",
       "    </tr>\n",
       "    <tr>\n",
       "      <th>11400</th>\n",
       "      <td>0397_c1s2_021866_02.jpg</td>\n",
       "      <td>397</td>\n",
       "      <td>0</td>\n",
       "    </tr>\n",
       "    <tr>\n",
       "      <th>11559</th>\n",
       "      <td>1427_c2s3_089077_01.jpg</td>\n",
       "      <td>1427</td>\n",
       "      <td>0</td>\n",
       "    </tr>\n",
       "  </tbody>\n",
       "</table>\n",
       "<p>140 rows × 3 columns</p>\n",
       "</div>"
      ],
      "text/plain": [
       "                      image_id  label  fold\n",
       "21     1325_c3s3_036228_03.jpg   1325     3\n",
       "42     1295_c1s5_057466_01.jpg   1295     3\n",
       "118    0940_c3s2_118119_02.jpg    940     4\n",
       "120    0604_c2s2_013662_01.jpg    604     4\n",
       "168    0604_c6s2_011093_03.jpg    604     3\n",
       "...                        ...    ...   ...\n",
       "11047  1363_c2s3_058277_01.jpg   1363     1\n",
       "11082  1316_c4s5_057510_01.jpg   1316     3\n",
       "11374  0371_c1s2_015416_01.jpg    371     0\n",
       "11400  0397_c1s2_021866_02.jpg    397     0\n",
       "11559  1427_c2s3_089077_01.jpg   1427     0\n",
       "\n",
       "[140 rows x 3 columns]"
      ]
     },
     "execution_count": 9,
     "metadata": {},
     "output_type": "execute_result"
    }
   ],
   "source": [
    "# 上記20ラベルのデータに絞る\n",
    "df_sample = df_train[df_train['label'].isin(df_train['label'].value_counts()[600:620].index)]\n",
    "df_sample"
   ]
  },
  {
   "cell_type": "code",
   "execution_count": 10,
   "id": "8db82dbe",
   "metadata": {},
   "outputs": [
    {
     "data": {
      "text/plain": [
       "\"\\ndf_test = pd.read_csv('../tmp/market_metriclearning_HT/test.csv')\\nprint(df_test.shape)\\ndf_test.head()\\n\""
      ]
     },
     "execution_count": 10,
     "metadata": {},
     "output_type": "execute_result"
    }
   ],
   "source": [
    "'''\n",
    "df_test = pd.read_csv('../tmp/market_metriclearning_HT/test.csv')\n",
    "print(df_test.shape)\n",
    "df_test.head()\n",
    "'''"
   ]
  },
  {
   "cell_type": "markdown",
   "id": "f8d2c61a",
   "metadata": {},
   "source": [
    "## Augmentation, Dataset"
   ]
  },
  {
   "cell_type": "code",
   "execution_count": 11,
   "id": "dd222386",
   "metadata": {},
   "outputs": [],
   "source": [
    "transform_scoring = A.Compose([\n",
    "    A.Resize(height=img_size, width=img_size, p=1),\n",
    "    A.Normalize(mean=[0.485, 0.456, 0.406], std=[0.229, 0.224, 0.225])\n",
    "])"
   ]
  },
  {
   "cell_type": "code",
   "execution_count": 12,
   "id": "f7a9ad37",
   "metadata": {},
   "outputs": [],
   "source": [
    "class CustomDataset(torch.utils.data.Dataset):\n",
    "\n",
    "    def __init__(self, df, img_dir, transforms, mode='train'):\n",
    "        self.df = df.reset_index(drop=True)\n",
    "        self.img_dir = img_dir\n",
    "        self.transforms = transforms\n",
    "        self.mode = mode\n",
    "\n",
    "    def __len__(self):\n",
    "        return self.df.shape[0]\n",
    "\n",
    "    def __getitem__(self, index):\n",
    "        img_file_name = self.df.loc[index, dataframe_image_col]\n",
    "        img_file_path = os.path.join(self.img_dir, img_file_name)\n",
    "        target = self.df.loc[index, dataframe_label_col]\n",
    "    \n",
    "        image = cv2.imread(img_file_path)\n",
    "        image = cv2.cvtColor(image, cv2.COLOR_RGB2BGR)\n",
    "\n",
    "        image_transformed = self.transforms(image=image)['image']\n",
    "\n",
    "        image_transformed = image_transformed.astype(np.float32)\n",
    "        image_transformed = image_transformed.transpose(2, 0, 1)\n",
    "        #image_transformed /= 255.   # transform内で正規化するので実施なし\n",
    "\n",
    "        if self.mode == 'inference':\n",
    "            return torch.tensor(image_transformed).float()\n",
    "        else:   # Train/Valid/Testなど正解ラベルが必要な時\n",
    "            return torch.tensor(image_transformed).float(), torch.tensor(target).long()\n"
   ]
  },
  {
   "cell_type": "code",
   "execution_count": 13,
   "id": "4a29faf6",
   "metadata": {},
   "outputs": [
    {
     "name": "stderr",
     "output_type": "stream",
     "text": [
      "Clipping input data to the valid range for imshow with RGB data ([0..1] for floats or [0..255] for integers).\n"
     ]
    },
    {
     "name": "stdout",
     "output_type": "stream",
     "text": [
      "<__main__.CustomDataset object at 0x7ff30388ecd0> 140\n",
      "<class 'torch.Tensor'> <class 'torch.Tensor'>\n",
      "torch.Size([3, 128, 128]) tensor(1325)\n"
     ]
    },
    {
     "data": {
      "image/png": "[encoded data removed]",
      "text/plain": [
       "<Figure size 640x480 with 1 Axes>"
      ]
     },
     "metadata": {},
     "output_type": "display_data"
    }
   ],
   "source": [
    "# Dataset test\n",
    "tmp_dataset = CustomDataset(df=df_sample, img_dir=image_dir, transforms=transform_scoring, mode='train')\n",
    "print(tmp_dataset, len(tmp_dataset))\n",
    "\n",
    "tmp_img, tmp_label = tmp_dataset[0]    # 表示画像indexを指定\n",
    "print(type(tmp_img), type(tmp_label))\n",
    "print(tmp_img.shape, tmp_label)\n",
    "\n",
    "plt.imshow(tmp_img.permute(1, 2, 0))\n",
    "plt.show()"
   ]
  },
  {
   "cell_type": "markdown",
   "id": "02389a4f",
   "metadata": {},
   "source": [
    "## Model"
   ]
  },
  {
   "cell_type": "code",
   "execution_count": 57,
   "id": "44518fe4",
   "metadata": {},
   "outputs": [
    {
     "data": {
      "text/plain": [
       "{'url': 'https://github.com/rwightman/pytorch-image-models/releases/download/v0.1-rsb-weights/resnet50_a1_0-14fe96d1.pth',\n",
       " 'hf_hub_id': 'timm/resnet50.a1_in1k',\n",
       " 'architecture': 'resnet50',\n",
       " 'tag': 'a1_in1k',\n",
       " 'custom_load': False,\n",
       " 'input_size': (3, 224, 224),\n",
       " 'test_input_size': (3, 288, 288),\n",
       " 'fixed_input_size': False,\n",
       " 'interpolation': 'bicubic',\n",
       " 'crop_pct': 0.95,\n",
       " 'test_crop_pct': 1.0,\n",
       " 'crop_mode': 'center',\n",
       " 'mean': (0.485, 0.456, 0.406),\n",
       " 'std': (0.229, 0.224, 0.225),\n",
       " 'num_classes': 1000,\n",
       " 'pool_size': (7, 7),\n",
       " 'first_conv': 'conv1',\n",
       " 'classifier': 'fc',\n",
       " 'origin_url': 'https://github.com/huggingface/pytorch-image-models',\n",
       " 'paper_ids': 'arXiv:2110.00476'}"
      ]
     },
     "execution_count": 57,
     "metadata": {},
     "output_type": "execute_result"
    }
   ],
   "source": [
    "# デフォルトで読み込み\n",
    "backborn = timm.create_model('resnet50', pretrained=True)\n",
    "backborn.default_cfg"
   ]
  },
  {
   "cell_type": "code",
   "execution_count": 58,
   "id": "d386944f",
   "metadata": {},
   "outputs": [
    {
     "data": {
      "text/plain": [
       "torch.Size([8, 1000])"
      ]
     },
     "execution_count": 58,
     "metadata": {},
     "output_type": "execute_result"
    }
   ],
   "source": [
    "backborn(torch.rand(8, 3, 328, 328)).shape"
   ]
  },
  {
   "cell_type": "code",
   "execution_count": null,
   "id": "3fc53534",
   "metadata": {},
   "outputs": [],
   "source": []
  },
  {
   "cell_type": "code",
   "execution_count": 59,
   "id": "8bdd0aae",
   "metadata": {},
   "outputs": [
    {
     "data": {
      "text/plain": [
       "{'url': 'https://github.com/rwightman/pytorch-image-models/releases/download/v0.1-rsb-weights/resnet50_a1_0-14fe96d1.pth',\n",
       " 'hf_hub_id': 'timm/resnet50.a1_in1k',\n",
       " 'architecture': 'resnet50',\n",
       " 'tag': 'a1_in1k',\n",
       " 'custom_load': False,\n",
       " 'input_size': (3, 224, 224),\n",
       " 'test_input_size': (3, 288, 288),\n",
       " 'fixed_input_size': False,\n",
       " 'interpolation': 'bicubic',\n",
       " 'crop_pct': 0.95,\n",
       " 'test_crop_pct': 1.0,\n",
       " 'crop_mode': 'center',\n",
       " 'mean': (0.485, 0.456, 0.406),\n",
       " 'std': (0.229, 0.224, 0.225),\n",
       " 'pool_size': (7, 7),\n",
       " 'first_conv': 'conv1',\n",
       " 'origin_url': 'https://github.com/huggingface/pytorch-image-models',\n",
       " 'paper_ids': 'arXiv:2110.00476'}"
      ]
     },
     "execution_count": 59,
     "metadata": {},
     "output_type": "execute_result"
    }
   ],
   "source": [
    "# 各畳み込み層の出力を取得する場合\n",
    "backborn = timm.create_model('resnet50', pretrained=True, features_only=True)\n",
    "backborn.default_cfg"
   ]
  },
  {
   "cell_type": "code",
   "execution_count": 60,
   "id": "fcabe40d",
   "metadata": {},
   "outputs": [
    {
     "name": "stdout",
     "output_type": "stream",
     "text": [
      "5\n",
      "torch.Size([8, 64, 164, 164])\n",
      "torch.Size([8, 256, 82, 82])\n",
      "torch.Size([8, 512, 41, 41])\n",
      "torch.Size([8, 1024, 21, 21])\n",
      "torch.Size([8, 2048, 11, 11])\n"
     ]
    }
   ],
   "source": [
    "sample_in = torch.rand(8, 3, 328, 328)\n",
    "\n",
    "sample_out = backborn(sample_in)\n",
    "print(len(sample_out))\n",
    "print(sample_out[0].shape)\n",
    "print(sample_out[1].shape)\n",
    "print(sample_out[2].shape)\n",
    "print(sample_out[3].shape)\n",
    "print(sample_out[4].shape)    # 最後の畳み込み層の出力"
   ]
  },
  {
   "cell_type": "code",
   "execution_count": null,
   "id": "d8348b75",
   "metadata": {},
   "outputs": [],
   "source": []
  },
  {
   "cell_type": "markdown",
   "id": "b3bfd1a2",
   "metadata": {},
   "source": [
    "### 事前学習済みモデルのGlobal Poolingの出力を利用"
   ]
  },
  {
   "cell_type": "code",
   "execution_count": 61,
   "id": "6ed8c944",
   "metadata": {},
   "outputs": [
    {
     "data": {
      "text/plain": [
       "{'url': 'https://github.com/rwightman/pytorch-image-models/releases/download/v0.1-rsb-weights/resnet50_a1_0-14fe96d1.pth',\n",
       " 'hf_hub_id': 'timm/resnet50.a1_in1k',\n",
       " 'architecture': 'resnet50',\n",
       " 'tag': 'a1_in1k',\n",
       " 'custom_load': False,\n",
       " 'input_size': (3, 224, 224),\n",
       " 'test_input_size': (3, 288, 288),\n",
       " 'fixed_input_size': False,\n",
       " 'interpolation': 'bicubic',\n",
       " 'crop_pct': 0.95,\n",
       " 'test_crop_pct': 1.0,\n",
       " 'crop_mode': 'center',\n",
       " 'mean': (0.485, 0.456, 0.406),\n",
       " 'std': (0.229, 0.224, 0.225),\n",
       " 'num_classes': 1000,\n",
       " 'pool_size': (7, 7),\n",
       " 'first_conv': 'conv1',\n",
       " 'classifier': 'fc',\n",
       " 'origin_url': 'https://github.com/huggingface/pytorch-image-models',\n",
       " 'paper_ids': 'arXiv:2110.00476'}"
      ]
     },
     "execution_count": 61,
     "metadata": {},
     "output_type": "execute_result"
    }
   ],
   "source": [
    "# Head部分なしでのモデル取得（Global Poolingの出力）\n",
    "backborn = timm.create_model('resnet50', pretrained=True, num_classes=0)\n",
    "backborn.default_cfg"
   ]
  },
  {
   "cell_type": "code",
   "execution_count": 62,
   "id": "3119477a",
   "metadata": {},
   "outputs": [
    {
     "data": {
      "text/plain": [
       "torch.Size([8, 2048])"
      ]
     },
     "execution_count": 62,
     "metadata": {},
     "output_type": "execute_result"
    }
   ],
   "source": [
    "backborn(torch.rand(8, 3, 328, 328)).shape\n",
    "# 2028元のベクトルが出力（Resnet18だと512次元）"
   ]
  },
  {
   "cell_type": "markdown",
   "id": "54062f8a",
   "metadata": {},
   "source": [
    "## 推論"
   ]
  },
  {
   "cell_type": "code",
   "execution_count": 18,
   "id": "431fdb4d",
   "metadata": {},
   "outputs": [
    {
     "name": "stdout",
     "output_type": "stream",
     "text": [
      "<__main__.CustomDataset object at 0x7fea2a725700>\n",
      "<torch.utils.data.dataloader.DataLoader object at 0x7fe9f86b0a90>\n"
     ]
    }
   ],
   "source": [
    "dataset_train = CustomDataset(df=df_sample, img_dir=image_dir, transforms=transform_scoring, mode='train')\n",
    "print(dataset_train)\n",
    "loader_train = torch.utils.data.DataLoader(dataset_train, batch_size=batch_size, shuffle=False)\n",
    "print(loader_train)"
   ]
  },
  {
   "cell_type": "code",
   "execution_count": 19,
   "id": "bff14c17",
   "metadata": {},
   "outputs": [
    {
     "data": {
      "application/vnd.jupyter.widget-view+json": {
       "model_id": "19919c145fe14e80ae8b748aa9542cfe",
       "version_major": 2,
       "version_minor": 0
      },
      "text/plain": [
       "  0%|          | 0/3 [00:00<?, ?it/s]"
      ]
     },
     "metadata": {},
     "output_type": "display_data"
    }
   ],
   "source": [
    "OUTPUTS, TARGETS = [], []\n",
    "bar = tqdm(loader_train)\n",
    "backborn = backborn.to(device)\n",
    "backborn.eval()\n",
    "\n",
    "with torch.no_grad():\n",
    "        for i, (images, targets) in enumerate(bar):    # バッチループ\n",
    "            images = images.to(device)\n",
    "            targets = targets.to(device)\n",
    "            outputs = backborn(images)\n",
    "            \n",
    "            OUTPUTS.append(outputs.cpu().numpy())\n",
    "            TARGETS.append(targets.cpu().numpy())\n",
    "\n",
    "OUTPUTS = np.concatenate(OUTPUTS)\n",
    "TARGETS = np.concatenate(TARGETS)"
   ]
  },
  {
   "cell_type": "code",
   "execution_count": 20,
   "id": "26a460d1",
   "metadata": {},
   "outputs": [
    {
     "data": {
      "text/plain": [
       "((140, 2048), (140,))"
      ]
     },
     "execution_count": 20,
     "metadata": {},
     "output_type": "execute_result"
    }
   ],
   "source": [
    "OUTPUTS.shape, TARGETS.shape"
   ]
  },
  {
   "cell_type": "code",
   "execution_count": 21,
   "id": "23e7490c",
   "metadata": {},
   "outputs": [],
   "source": [
    "df_sample_res = df_sample.copy()\n",
    "df_sample_res['img_vec'] = [v for v in OUTPUTS]\n",
    "#df_sample_res['target'] =  = [t for t in TARGETS]    # TARGETSはdf_sample['label']と同じ"
   ]
  },
  {
   "cell_type": "code",
   "execution_count": 22,
   "id": "629baa25",
   "metadata": {},
   "outputs": [
    {
     "data": {
      "text/html": [
       "<div>\n",
       "<style scoped>\n",
       "    .dataframe tbody tr th:only-of-type {\n",
       "        vertical-align: middle;\n",
       "    }\n",
       "\n",
       "    .dataframe tbody tr th {\n",
       "        vertical-align: top;\n",
       "    }\n",
       "\n",
       "    .dataframe thead th {\n",
       "        text-align: right;\n",
       "    }\n",
       "</style>\n",
       "<table border=\"1\" class=\"dataframe\">\n",
       "  <thead>\n",
       "    <tr style=\"text-align: right;\">\n",
       "      <th></th>\n",
       "      <th>image_id</th>\n",
       "      <th>label</th>\n",
       "      <th>fold</th>\n",
       "      <th>img_vec</th>\n",
       "    </tr>\n",
       "  </thead>\n",
       "  <tbody>\n",
       "    <tr>\n",
       "      <th>21</th>\n",
       "      <td>1325_c3s3_036228_03.jpg</td>\n",
       "      <td>1325</td>\n",
       "      <td>3</td>\n",
       "      <td>[0.00769224, 0.0, 0.0, 0.00753034, 0.37705994,...</td>\n",
       "    </tr>\n",
       "    <tr>\n",
       "      <th>42</th>\n",
       "      <td>1295_c1s5_057466_01.jpg</td>\n",
       "      <td>1295</td>\n",
       "      <td>3</td>\n",
       "      <td>[1.06333755e-05, 0.017068844, 0.19213721, 0.0,...</td>\n",
       "    </tr>\n",
       "    <tr>\n",
       "      <th>118</th>\n",
       "      <td>0940_c3s2_118119_02.jpg</td>\n",
       "      <td>940</td>\n",
       "      <td>4</td>\n",
       "      <td>[0.0, 0.14982554, 0.040754497, 0.012328578, 0....</td>\n",
       "    </tr>\n",
       "    <tr>\n",
       "      <th>120</th>\n",
       "      <td>0604_c2s2_013662_01.jpg</td>\n",
       "      <td>604</td>\n",
       "      <td>4</td>\n",
       "      <td>[0.0, 0.0, 0.0003642738, 0.0, 1.1227812, 0.0, ...</td>\n",
       "    </tr>\n",
       "    <tr>\n",
       "      <th>168</th>\n",
       "      <td>0604_c6s2_011093_03.jpg</td>\n",
       "      <td>604</td>\n",
       "      <td>3</td>\n",
       "      <td>[0.0, 0.008828372, 0.0, 0.0, 0.5864254, 0.0863...</td>\n",
       "    </tr>\n",
       "    <tr>\n",
       "      <th>...</th>\n",
       "      <td>...</td>\n",
       "      <td>...</td>\n",
       "      <td>...</td>\n",
       "      <td>...</td>\n",
       "    </tr>\n",
       "    <tr>\n",
       "      <th>11047</th>\n",
       "      <td>1363_c2s3_058277_01.jpg</td>\n",
       "      <td>1363</td>\n",
       "      <td>1</td>\n",
       "      <td>[0.0, 0.0, 0.0, 0.0150524005, 0.64806867, 0.0,...</td>\n",
       "    </tr>\n",
       "    <tr>\n",
       "      <th>11082</th>\n",
       "      <td>1316_c4s5_057510_01.jpg</td>\n",
       "      <td>1316</td>\n",
       "      <td>3</td>\n",
       "      <td>[0.0, 0.2788849, 0.0, 0.0, 0.13455302, 0.01168...</td>\n",
       "    </tr>\n",
       "    <tr>\n",
       "      <th>11374</th>\n",
       "      <td>0371_c1s2_015416_01.jpg</td>\n",
       "      <td>371</td>\n",
       "      <td>0</td>\n",
       "      <td>[0.0, 0.07788111, 0.0, 0.54350704, 0.47287163,...</td>\n",
       "    </tr>\n",
       "    <tr>\n",
       "      <th>11400</th>\n",
       "      <td>0397_c1s2_021866_02.jpg</td>\n",
       "      <td>397</td>\n",
       "      <td>0</td>\n",
       "      <td>[0.0, 0.0, 0.0, 0.024373747, 1.2411304, 0.0330...</td>\n",
       "    </tr>\n",
       "    <tr>\n",
       "      <th>11559</th>\n",
       "      <td>1427_c2s3_089077_01.jpg</td>\n",
       "      <td>1427</td>\n",
       "      <td>0</td>\n",
       "      <td>[0.0, 0.05893749, 0.11120069, 0.6357876, 0.548...</td>\n",
       "    </tr>\n",
       "  </tbody>\n",
       "</table>\n",
       "<p>140 rows × 4 columns</p>\n",
       "</div>"
      ],
      "text/plain": [
       "                      image_id  label  fold  \\\n",
       "21     1325_c3s3_036228_03.jpg   1325     3   \n",
       "42     1295_c1s5_057466_01.jpg   1295     3   \n",
       "118    0940_c3s2_118119_02.jpg    940     4   \n",
       "120    0604_c2s2_013662_01.jpg    604     4   \n",
       "168    0604_c6s2_011093_03.jpg    604     3   \n",
       "...                        ...    ...   ...   \n",
       "11047  1363_c2s3_058277_01.jpg   1363     1   \n",
       "11082  1316_c4s5_057510_01.jpg   1316     3   \n",
       "11374  0371_c1s2_015416_01.jpg    371     0   \n",
       "11400  0397_c1s2_021866_02.jpg    397     0   \n",
       "11559  1427_c2s3_089077_01.jpg   1427     0   \n",
       "\n",
       "                                                 img_vec  \n",
       "21     [0.00769224, 0.0, 0.0, 0.00753034, 0.37705994,...  \n",
       "42     [1.06333755e-05, 0.017068844, 0.19213721, 0.0,...  \n",
       "118    [0.0, 0.14982554, 0.040754497, 0.012328578, 0....  \n",
       "120    [0.0, 0.0, 0.0003642738, 0.0, 1.1227812, 0.0, ...  \n",
       "168    [0.0, 0.008828372, 0.0, 0.0, 0.5864254, 0.0863...  \n",
       "...                                                  ...  \n",
       "11047  [0.0, 0.0, 0.0, 0.0150524005, 0.64806867, 0.0,...  \n",
       "11082  [0.0, 0.2788849, 0.0, 0.0, 0.13455302, 0.01168...  \n",
       "11374  [0.0, 0.07788111, 0.0, 0.54350704, 0.47287163,...  \n",
       "11400  [0.0, 0.0, 0.0, 0.024373747, 1.2411304, 0.0330...  \n",
       "11559  [0.0, 0.05893749, 0.11120069, 0.6357876, 0.548...  \n",
       "\n",
       "[140 rows x 4 columns]"
      ]
     },
     "execution_count": 22,
     "metadata": {},
     "output_type": "execute_result"
    }
   ],
   "source": [
    "df_sample_res"
   ]
  },
  {
   "cell_type": "code",
   "execution_count": 23,
   "id": "61d0ae1e",
   "metadata": {},
   "outputs": [
    {
     "data": {
      "text/html": [
       "<div>\n",
       "<style scoped>\n",
       "    .dataframe tbody tr th:only-of-type {\n",
       "        vertical-align: middle;\n",
       "    }\n",
       "\n",
       "    .dataframe tbody tr th {\n",
       "        vertical-align: top;\n",
       "    }\n",
       "\n",
       "    .dataframe thead th {\n",
       "        text-align: right;\n",
       "    }\n",
       "</style>\n",
       "<table border=\"1\" class=\"dataframe\">\n",
       "  <thead>\n",
       "    <tr style=\"text-align: right;\">\n",
       "      <th></th>\n",
       "      <th>image_id</th>\n",
       "      <th>label</th>\n",
       "      <th>fold</th>\n",
       "      <th>img_vec</th>\n",
       "    </tr>\n",
       "  </thead>\n",
       "  <tbody>\n",
       "    <tr>\n",
       "      <th>0</th>\n",
       "      <td>0236_c3s1_049026_03.jpg</td>\n",
       "      <td>236</td>\n",
       "      <td>1</td>\n",
       "      <td>[0.0, 0.0, 0.0, 0.0, 0.09524873, 0.0021669231,...</td>\n",
       "    </tr>\n",
       "    <tr>\n",
       "      <th>1</th>\n",
       "      <td>0236_c6s1_049551_01.jpg</td>\n",
       "      <td>236</td>\n",
       "      <td>3</td>\n",
       "      <td>[0.0, 0.0, 0.0, 0.0, 1.453228, 0.0, 0.47155687...</td>\n",
       "    </tr>\n",
       "    <tr>\n",
       "      <th>2</th>\n",
       "      <td>0236_c3s1_048926_01.jpg</td>\n",
       "      <td>236</td>\n",
       "      <td>0</td>\n",
       "      <td>[0.0, 0.0, 0.06292614, 0.003400892, 0.2905464,...</td>\n",
       "    </tr>\n",
       "    <tr>\n",
       "      <th>3</th>\n",
       "      <td>0236_c2s1_048826_01.jpg</td>\n",
       "      <td>236</td>\n",
       "      <td>2</td>\n",
       "      <td>[0.0, 0.0, 0.18484941, 0.0, 0.7985055, 0.0, 0....</td>\n",
       "    </tr>\n",
       "    <tr>\n",
       "      <th>4</th>\n",
       "      <td>0236_c6s1_049576_02.jpg</td>\n",
       "      <td>236</td>\n",
       "      <td>4</td>\n",
       "      <td>[0.0, 0.0, 0.0, 0.0, 1.2596354, 0.0, 0.0653634...</td>\n",
       "    </tr>\n",
       "    <tr>\n",
       "      <th>...</th>\n",
       "      <td>...</td>\n",
       "      <td>...</td>\n",
       "      <td>...</td>\n",
       "      <td>...</td>\n",
       "    </tr>\n",
       "    <tr>\n",
       "      <th>135</th>\n",
       "      <td>1471_c2s3_053882_02.jpg</td>\n",
       "      <td>1471</td>\n",
       "      <td>4</td>\n",
       "      <td>[0.0, 0.0, 0.0, 0.009950232, 1.3554841, 0.0, 0...</td>\n",
       "    </tr>\n",
       "    <tr>\n",
       "      <th>136</th>\n",
       "      <td>1471_c3s3_060228_03.jpg</td>\n",
       "      <td>1471</td>\n",
       "      <td>3</td>\n",
       "      <td>[0.0, 0.0, 0.0, 0.0, 0.87798095, 0.0, 0.367295...</td>\n",
       "    </tr>\n",
       "    <tr>\n",
       "      <th>137</th>\n",
       "      <td>1471_c6s3_083942_03.jpg</td>\n",
       "      <td>1471</td>\n",
       "      <td>2</td>\n",
       "      <td>[0.0, 0.0008057151, 0.0, 0.0, 1.2398798, 0.0, ...</td>\n",
       "    </tr>\n",
       "    <tr>\n",
       "      <th>138</th>\n",
       "      <td>1471_c6s3_083992_01.jpg</td>\n",
       "      <td>1471</td>\n",
       "      <td>3</td>\n",
       "      <td>[0.0, 0.0, 0.0, 0.0, 1.4635046, 0.0, 0.4344229...</td>\n",
       "    </tr>\n",
       "    <tr>\n",
       "      <th>139</th>\n",
       "      <td>1471_c3s3_060178_02.jpg</td>\n",
       "      <td>1471</td>\n",
       "      <td>3</td>\n",
       "      <td>[0.0, 0.0, 0.0, 0.050431363, 0.7655068, 0.0870...</td>\n",
       "    </tr>\n",
       "  </tbody>\n",
       "</table>\n",
       "<p>140 rows × 4 columns</p>\n",
       "</div>"
      ],
      "text/plain": [
       "                    image_id  label  fold  \\\n",
       "0    0236_c3s1_049026_03.jpg    236     1   \n",
       "1    0236_c6s1_049551_01.jpg    236     3   \n",
       "2    0236_c3s1_048926_01.jpg    236     0   \n",
       "3    0236_c2s1_048826_01.jpg    236     2   \n",
       "4    0236_c6s1_049576_02.jpg    236     4   \n",
       "..                       ...    ...   ...   \n",
       "135  1471_c2s3_053882_02.jpg   1471     4   \n",
       "136  1471_c3s3_060228_03.jpg   1471     3   \n",
       "137  1471_c6s3_083942_03.jpg   1471     2   \n",
       "138  1471_c6s3_083992_01.jpg   1471     3   \n",
       "139  1471_c3s3_060178_02.jpg   1471     3   \n",
       "\n",
       "                                               img_vec  \n",
       "0    [0.0, 0.0, 0.0, 0.0, 0.09524873, 0.0021669231,...  \n",
       "1    [0.0, 0.0, 0.0, 0.0, 1.453228, 0.0, 0.47155687...  \n",
       "2    [0.0, 0.0, 0.06292614, 0.003400892, 0.2905464,...  \n",
       "3    [0.0, 0.0, 0.18484941, 0.0, 0.7985055, 0.0, 0....  \n",
       "4    [0.0, 0.0, 0.0, 0.0, 1.2596354, 0.0, 0.0653634...  \n",
       "..                                                 ...  \n",
       "135  [0.0, 0.0, 0.0, 0.009950232, 1.3554841, 0.0, 0...  \n",
       "136  [0.0, 0.0, 0.0, 0.0, 0.87798095, 0.0, 0.367295...  \n",
       "137  [0.0, 0.0008057151, 0.0, 0.0, 1.2398798, 0.0, ...  \n",
       "138  [0.0, 0.0, 0.0, 0.0, 1.4635046, 0.0, 0.4344229...  \n",
       "139  [0.0, 0.0, 0.0, 0.050431363, 0.7655068, 0.0870...  \n",
       "\n",
       "[140 rows x 4 columns]"
      ]
     },
     "execution_count": 23,
     "metadata": {},
     "output_type": "execute_result"
    }
   ],
   "source": [
    "df_sample_res = df_sample_res.sort_values('label')\n",
    "df_sample_res = df_sample_res.reset_index(drop=True)\n",
    "df_sample_res"
   ]
  },
  {
   "cell_type": "code",
   "execution_count": 24,
   "id": "77121be9",
   "metadata": {},
   "outputs": [
    {
     "data": {
      "text/plain": [
       "numpy.ndarray"
      ]
     },
     "execution_count": 24,
     "metadata": {},
     "output_type": "execute_result"
    }
   ],
   "source": [
    "type(df_sample_res.loc[0, 'img_vec'])"
   ]
  },
  {
   "cell_type": "code",
   "execution_count": 25,
   "id": "e4105f5d",
   "metadata": {},
   "outputs": [
    {
     "data": {
      "text/plain": [
       "label\n",
       "236     7\n",
       "245     7\n",
       "1464    7\n",
       "1427    7\n",
       "1363    7\n",
       "1346    7\n",
       "1325    7\n",
       "1316    7\n",
       "1295    7\n",
       "958     7\n",
       "940     7\n",
       "752     7\n",
       "604     7\n",
       "579     7\n",
       "522     7\n",
       "433     7\n",
       "398     7\n",
       "397     7\n",
       "371     7\n",
       "1471    7\n",
       "Name: count, dtype: int64"
      ]
     },
     "execution_count": 25,
     "metadata": {},
     "output_type": "execute_result"
    }
   ],
   "source": [
    "df_sample_res['label'].value_counts()"
   ]
  },
  {
   "cell_type": "code",
   "execution_count": null,
   "id": "c1b3f8ab",
   "metadata": {},
   "outputs": [],
   "source": []
  },
  {
   "cell_type": "markdown",
   "id": "458a26d8",
   "metadata": {},
   "source": [
    "## 可視化（UMAP）"
   ]
  },
  {
   "cell_type": "markdown",
   "id": "9ac0428d",
   "metadata": {},
   "source": [
    "UMAP\n",
    "- https://github.com/lmcinnes/umap\n",
    "- https://umap-learn.readthedocs.io/en/latest/index.html"
   ]
  },
  {
   "cell_type": "code",
   "execution_count": null,
   "id": "2e33cca6",
   "metadata": {},
   "outputs": [],
   "source": []
  },
  {
   "cell_type": "markdown",
   "id": "7b87a85e",
   "metadata": {},
   "source": [
    "## 画像間類似度"
   ]
  },
  {
   "cell_type": "markdown",
   "id": "ec72b053",
   "metadata": {},
   "source": [
    "https://kevinmusgrave.github.io/pytorch-metric-learning/distances/#cosinesimilarity\n",
    "使える？"
   ]
  },
  {
   "cell_type": "code",
   "execution_count": null,
   "id": "244c788d",
   "metadata": {},
   "outputs": [],
   "source": []
  },
  {
   "cell_type": "code",
   "execution_count": 26,
   "id": "4d8c5312",
   "metadata": {},
   "outputs": [],
   "source": [
    "# 各ベクトルの平均と標準偏差を計算\n",
    "\n",
    "f = lambda x: np.mean(x)\n",
    "df_sample_res['img_vec_mean'] = df_sample_res['img_vec'].apply(f)\n",
    "\n",
    "f = lambda x: np.std(x)\n",
    "df_sample_res['img_vec_std'] = df_sample_res['img_vec'].apply(f)"
   ]
  },
  {
   "cell_type": "code",
   "execution_count": 27,
   "id": "56383bb1",
   "metadata": {},
   "outputs": [
    {
     "data": {
      "text/html": [
       "<div>\n",
       "<style scoped>\n",
       "    .dataframe tbody tr th:only-of-type {\n",
       "        vertical-align: middle;\n",
       "    }\n",
       "\n",
       "    .dataframe tbody tr th {\n",
       "        vertical-align: top;\n",
       "    }\n",
       "\n",
       "    .dataframe thead th {\n",
       "        text-align: right;\n",
       "    }\n",
       "</style>\n",
       "<table border=\"1\" class=\"dataframe\">\n",
       "  <thead>\n",
       "    <tr style=\"text-align: right;\">\n",
       "      <th></th>\n",
       "      <th>image_id</th>\n",
       "      <th>label</th>\n",
       "      <th>fold</th>\n",
       "      <th>img_vec</th>\n",
       "      <th>img_vec_mean</th>\n",
       "      <th>img_vec_std</th>\n",
       "    </tr>\n",
       "  </thead>\n",
       "  <tbody>\n",
       "    <tr>\n",
       "      <th>0</th>\n",
       "      <td>0236_c3s1_049026_03.jpg</td>\n",
       "      <td>236</td>\n",
       "      <td>1</td>\n",
       "      <td>[0.0, 0.0, 0.0, 0.0, 0.09524873, 0.0021669231,...</td>\n",
       "      <td>0.100739</td>\n",
       "      <td>0.297026</td>\n",
       "    </tr>\n",
       "    <tr>\n",
       "      <th>1</th>\n",
       "      <td>0236_c6s1_049551_01.jpg</td>\n",
       "      <td>236</td>\n",
       "      <td>3</td>\n",
       "      <td>[0.0, 0.0, 0.0, 0.0, 1.453228, 0.0, 0.47155687...</td>\n",
       "      <td>0.088154</td>\n",
       "      <td>0.255020</td>\n",
       "    </tr>\n",
       "    <tr>\n",
       "      <th>2</th>\n",
       "      <td>0236_c3s1_048926_01.jpg</td>\n",
       "      <td>236</td>\n",
       "      <td>0</td>\n",
       "      <td>[0.0, 0.0, 0.06292614, 0.003400892, 0.2905464,...</td>\n",
       "      <td>0.099192</td>\n",
       "      <td>0.269711</td>\n",
       "    </tr>\n",
       "    <tr>\n",
       "      <th>3</th>\n",
       "      <td>0236_c2s1_048826_01.jpg</td>\n",
       "      <td>236</td>\n",
       "      <td>2</td>\n",
       "      <td>[0.0, 0.0, 0.18484941, 0.0, 0.7985055, 0.0, 0....</td>\n",
       "      <td>0.083081</td>\n",
       "      <td>0.251942</td>\n",
       "    </tr>\n",
       "    <tr>\n",
       "      <th>4</th>\n",
       "      <td>0236_c6s1_049576_02.jpg</td>\n",
       "      <td>236</td>\n",
       "      <td>4</td>\n",
       "      <td>[0.0, 0.0, 0.0, 0.0, 1.2596354, 0.0, 0.0653634...</td>\n",
       "      <td>0.064458</td>\n",
       "      <td>0.217734</td>\n",
       "    </tr>\n",
       "    <tr>\n",
       "      <th>...</th>\n",
       "      <td>...</td>\n",
       "      <td>...</td>\n",
       "      <td>...</td>\n",
       "      <td>...</td>\n",
       "      <td>...</td>\n",
       "      <td>...</td>\n",
       "    </tr>\n",
       "    <tr>\n",
       "      <th>135</th>\n",
       "      <td>1471_c2s3_053882_02.jpg</td>\n",
       "      <td>1471</td>\n",
       "      <td>4</td>\n",
       "      <td>[0.0, 0.0, 0.0, 0.009950232, 1.3554841, 0.0, 0...</td>\n",
       "      <td>0.104793</td>\n",
       "      <td>0.296443</td>\n",
       "    </tr>\n",
       "    <tr>\n",
       "      <th>136</th>\n",
       "      <td>1471_c3s3_060228_03.jpg</td>\n",
       "      <td>1471</td>\n",
       "      <td>3</td>\n",
       "      <td>[0.0, 0.0, 0.0, 0.0, 0.87798095, 0.0, 0.367295...</td>\n",
       "      <td>0.091104</td>\n",
       "      <td>0.275628</td>\n",
       "    </tr>\n",
       "    <tr>\n",
       "      <th>137</th>\n",
       "      <td>1471_c6s3_083942_03.jpg</td>\n",
       "      <td>1471</td>\n",
       "      <td>2</td>\n",
       "      <td>[0.0, 0.0008057151, 0.0, 0.0, 1.2398798, 0.0, ...</td>\n",
       "      <td>0.082721</td>\n",
       "      <td>0.247744</td>\n",
       "    </tr>\n",
       "    <tr>\n",
       "      <th>138</th>\n",
       "      <td>1471_c6s3_083992_01.jpg</td>\n",
       "      <td>1471</td>\n",
       "      <td>3</td>\n",
       "      <td>[0.0, 0.0, 0.0, 0.0, 1.4635046, 0.0, 0.4344229...</td>\n",
       "      <td>0.088058</td>\n",
       "      <td>0.256290</td>\n",
       "    </tr>\n",
       "    <tr>\n",
       "      <th>139</th>\n",
       "      <td>1471_c3s3_060178_02.jpg</td>\n",
       "      <td>1471</td>\n",
       "      <td>3</td>\n",
       "      <td>[0.0, 0.0, 0.0, 0.050431363, 0.7655068, 0.0870...</td>\n",
       "      <td>0.096338</td>\n",
       "      <td>0.259790</td>\n",
       "    </tr>\n",
       "  </tbody>\n",
       "</table>\n",
       "<p>140 rows × 6 columns</p>\n",
       "</div>"
      ],
      "text/plain": [
       "                    image_id  label  fold  \\\n",
       "0    0236_c3s1_049026_03.jpg    236     1   \n",
       "1    0236_c6s1_049551_01.jpg    236     3   \n",
       "2    0236_c3s1_048926_01.jpg    236     0   \n",
       "3    0236_c2s1_048826_01.jpg    236     2   \n",
       "4    0236_c6s1_049576_02.jpg    236     4   \n",
       "..                       ...    ...   ...   \n",
       "135  1471_c2s3_053882_02.jpg   1471     4   \n",
       "136  1471_c3s3_060228_03.jpg   1471     3   \n",
       "137  1471_c6s3_083942_03.jpg   1471     2   \n",
       "138  1471_c6s3_083992_01.jpg   1471     3   \n",
       "139  1471_c3s3_060178_02.jpg   1471     3   \n",
       "\n",
       "                                               img_vec  img_vec_mean  \\\n",
       "0    [0.0, 0.0, 0.0, 0.0, 0.09524873, 0.0021669231,...      0.100739   \n",
       "1    [0.0, 0.0, 0.0, 0.0, 1.453228, 0.0, 0.47155687...      0.088154   \n",
       "2    [0.0, 0.0, 0.06292614, 0.003400892, 0.2905464,...      0.099192   \n",
       "3    [0.0, 0.0, 0.18484941, 0.0, 0.7985055, 0.0, 0....      0.083081   \n",
       "4    [0.0, 0.0, 0.0, 0.0, 1.2596354, 0.0, 0.0653634...      0.064458   \n",
       "..                                                 ...           ...   \n",
       "135  [0.0, 0.0, 0.0, 0.009950232, 1.3554841, 0.0, 0...      0.104793   \n",
       "136  [0.0, 0.0, 0.0, 0.0, 0.87798095, 0.0, 0.367295...      0.091104   \n",
       "137  [0.0, 0.0008057151, 0.0, 0.0, 1.2398798, 0.0, ...      0.082721   \n",
       "138  [0.0, 0.0, 0.0, 0.0, 1.4635046, 0.0, 0.4344229...      0.088058   \n",
       "139  [0.0, 0.0, 0.0, 0.050431363, 0.7655068, 0.0870...      0.096338   \n",
       "\n",
       "     img_vec_std  \n",
       "0       0.297026  \n",
       "1       0.255020  \n",
       "2       0.269711  \n",
       "3       0.251942  \n",
       "4       0.217734  \n",
       "..           ...  \n",
       "135     0.296443  \n",
       "136     0.275628  \n",
       "137     0.247744  \n",
       "138     0.256290  \n",
       "139     0.259790  \n",
       "\n",
       "[140 rows x 6 columns]"
      ]
     },
     "execution_count": 27,
     "metadata": {},
     "output_type": "execute_result"
    }
   ],
   "source": [
    "df_sample_res"
   ]
  },
  {
   "cell_type": "code",
   "execution_count": 28,
   "id": "9182029b",
   "metadata": {},
   "outputs": [
    {
     "data": {
      "text/html": [
       "<div>\n",
       "<style scoped>\n",
       "    .dataframe tbody tr th:only-of-type {\n",
       "        vertical-align: middle;\n",
       "    }\n",
       "\n",
       "    .dataframe tbody tr th {\n",
       "        vertical-align: top;\n",
       "    }\n",
       "\n",
       "    .dataframe thead th {\n",
       "        text-align: right;\n",
       "    }\n",
       "</style>\n",
       "<table border=\"1\" class=\"dataframe\">\n",
       "  <thead>\n",
       "    <tr style=\"text-align: right;\">\n",
       "      <th></th>\n",
       "      <th>img_vec_mean</th>\n",
       "      <th>img_vec_std</th>\n",
       "    </tr>\n",
       "  </thead>\n",
       "  <tbody>\n",
       "    <tr>\n",
       "      <th>count</th>\n",
       "      <td>140.000000</td>\n",
       "      <td>140.000000</td>\n",
       "    </tr>\n",
       "    <tr>\n",
       "      <th>mean</th>\n",
       "      <td>0.093154</td>\n",
       "      <td>0.273641</td>\n",
       "    </tr>\n",
       "    <tr>\n",
       "      <th>std</th>\n",
       "      <td>0.013434</td>\n",
       "      <td>0.025703</td>\n",
       "    </tr>\n",
       "    <tr>\n",
       "      <th>min</th>\n",
       "      <td>0.055651</td>\n",
       "      <td>0.211463</td>\n",
       "    </tr>\n",
       "    <tr>\n",
       "      <th>25%</th>\n",
       "      <td>0.083442</td>\n",
       "      <td>0.255408</td>\n",
       "    </tr>\n",
       "    <tr>\n",
       "      <th>50%</th>\n",
       "      <td>0.093029</td>\n",
       "      <td>0.273552</td>\n",
       "    </tr>\n",
       "    <tr>\n",
       "      <th>75%</th>\n",
       "      <td>0.102536</td>\n",
       "      <td>0.292944</td>\n",
       "    </tr>\n",
       "    <tr>\n",
       "      <th>max</th>\n",
       "      <td>0.124447</td>\n",
       "      <td>0.337054</td>\n",
       "    </tr>\n",
       "  </tbody>\n",
       "</table>\n",
       "</div>"
      ],
      "text/plain": [
       "       img_vec_mean  img_vec_std\n",
       "count    140.000000   140.000000\n",
       "mean       0.093154     0.273641\n",
       "std        0.013434     0.025703\n",
       "min        0.055651     0.211463\n",
       "25%        0.083442     0.255408\n",
       "50%        0.093029     0.273552\n",
       "75%        0.102536     0.292944\n",
       "max        0.124447     0.337054"
      ]
     },
     "execution_count": 28,
     "metadata": {},
     "output_type": "execute_result"
    }
   ],
   "source": [
    "df_sample_res[['img_vec_mean', 'img_vec_std']].describe()"
   ]
  },
  {
   "cell_type": "code",
   "execution_count": 29,
   "id": "40c64fa5",
   "metadata": {},
   "outputs": [
    {
     "data": {
      "image/png": "[encoded data removed]",
      "text/plain": [
       "<Figure size 500x300 with 1 Axes>"
      ]
     },
     "metadata": {},
     "output_type": "display_data"
    }
   ],
   "source": [
    "plt.figure(figsize=[5,3])\n",
    "df_sample_res['img_vec_mean'].hist(bins=30)\n",
    "plt.title('Distribution of vector mean')\n",
    "plt.show()"
   ]
  },
  {
   "cell_type": "code",
   "execution_count": 30,
   "id": "895a7897",
   "metadata": {},
   "outputs": [
    {
     "data": {
      "image/png": "[encoded data removed]",
      "text/plain": [
       "<Figure size 500x300 with 1 Axes>"
      ]
     },
     "metadata": {},
     "output_type": "display_data"
    }
   ],
   "source": [
    "plt.figure(figsize=[5,3])\n",
    "df_sample_res['img_vec_std'].hist(bins=30)\n",
    "plt.title('Distribution of vector sd')\n",
    "plt.show()"
   ]
  },
  {
   "cell_type": "code",
   "execution_count": 31,
   "id": "b1112faa",
   "metadata": {},
   "outputs": [],
   "source": [
    "def cos_sim(v1, v2):\n",
    "    return np.dot(v1, v2) / (np.linalg.norm(v1) * np.linalg.norm(v2))"
   ]
  },
  {
   "cell_type": "code",
   "execution_count": 32,
   "id": "35d1e450",
   "metadata": {},
   "outputs": [
    {
     "data": {
      "text/plain": [
       "0.6919368"
      ]
     },
     "execution_count": 32,
     "metadata": {},
     "output_type": "execute_result"
    }
   ],
   "source": [
    "# 同じラベル間の類似度\n",
    "cos_sim(df_sample_res.loc[0,'img_vec'], df_sample_res.loc[1,'img_vec'])"
   ]
  },
  {
   "cell_type": "code",
   "execution_count": 33,
   "id": "5a1e7065",
   "metadata": {},
   "outputs": [
    {
     "data": {
      "text/plain": [
       "1.0"
      ]
     },
     "execution_count": 33,
     "metadata": {},
     "output_type": "execute_result"
    }
   ],
   "source": [
    "# 同じベクトル間の類似度\n",
    "cos_sim(df_sample_res.loc[0,'img_vec'], df_sample_res.loc[0,'img_vec'])"
   ]
  },
  {
   "cell_type": "code",
   "execution_count": 34,
   "id": "0115425c",
   "metadata": {},
   "outputs": [
    {
     "data": {
      "text/plain": [
       "0.742809"
      ]
     },
     "execution_count": 34,
     "metadata": {},
     "output_type": "execute_result"
    }
   ],
   "source": [
    "# 異なったラベル間の類似度\n",
    "cos_sim(df_sample_res.loc[0,'img_vec'], df_sample_res.loc[40,'img_vec'])"
   ]
  },
  {
   "cell_type": "code",
   "execution_count": 35,
   "id": "c0badfe8",
   "metadata": {},
   "outputs": [
    {
     "data": {
      "text/html": [
       "<div>\n",
       "<style scoped>\n",
       "    .dataframe tbody tr th:only-of-type {\n",
       "        vertical-align: middle;\n",
       "    }\n",
       "\n",
       "    .dataframe tbody tr th {\n",
       "        vertical-align: top;\n",
       "    }\n",
       "\n",
       "    .dataframe thead th {\n",
       "        text-align: right;\n",
       "    }\n",
       "</style>\n",
       "<table border=\"1\" class=\"dataframe\">\n",
       "  <thead>\n",
       "    <tr style=\"text-align: right;\">\n",
       "      <th></th>\n",
       "      <th>image_id</th>\n",
       "      <th>label</th>\n",
       "      <th>fold</th>\n",
       "      <th>img_vec</th>\n",
       "      <th>img_vec_mean</th>\n",
       "      <th>img_vec_std</th>\n",
       "    </tr>\n",
       "  </thead>\n",
       "  <tbody>\n",
       "    <tr>\n",
       "      <th>0</th>\n",
       "      <td>0236_c3s1_049026_03.jpg</td>\n",
       "      <td>236</td>\n",
       "      <td>1</td>\n",
       "      <td>[0.0, 0.0, 0.0, 0.0, 0.09524873, 0.0021669231,...</td>\n",
       "      <td>0.100739</td>\n",
       "      <td>0.297026</td>\n",
       "    </tr>\n",
       "    <tr>\n",
       "      <th>1</th>\n",
       "      <td>0236_c6s1_049551_01.jpg</td>\n",
       "      <td>236</td>\n",
       "      <td>3</td>\n",
       "      <td>[0.0, 0.0, 0.0, 0.0, 1.453228, 0.0, 0.47155687...</td>\n",
       "      <td>0.088154</td>\n",
       "      <td>0.255020</td>\n",
       "    </tr>\n",
       "    <tr>\n",
       "      <th>2</th>\n",
       "      <td>0236_c3s1_048926_01.jpg</td>\n",
       "      <td>236</td>\n",
       "      <td>0</td>\n",
       "      <td>[0.0, 0.0, 0.06292614, 0.003400892, 0.2905464,...</td>\n",
       "      <td>0.099192</td>\n",
       "      <td>0.269711</td>\n",
       "    </tr>\n",
       "    <tr>\n",
       "      <th>3</th>\n",
       "      <td>0236_c2s1_048826_01.jpg</td>\n",
       "      <td>236</td>\n",
       "      <td>2</td>\n",
       "      <td>[0.0, 0.0, 0.18484941, 0.0, 0.7985055, 0.0, 0....</td>\n",
       "      <td>0.083081</td>\n",
       "      <td>0.251942</td>\n",
       "    </tr>\n",
       "    <tr>\n",
       "      <th>4</th>\n",
       "      <td>0236_c6s1_049576_02.jpg</td>\n",
       "      <td>236</td>\n",
       "      <td>4</td>\n",
       "      <td>[0.0, 0.0, 0.0, 0.0, 1.2596354, 0.0, 0.0653634...</td>\n",
       "      <td>0.064458</td>\n",
       "      <td>0.217734</td>\n",
       "    </tr>\n",
       "  </tbody>\n",
       "</table>\n",
       "</div>"
      ],
      "text/plain": [
       "                  image_id  label  fold  \\\n",
       "0  0236_c3s1_049026_03.jpg    236     1   \n",
       "1  0236_c6s1_049551_01.jpg    236     3   \n",
       "2  0236_c3s1_048926_01.jpg    236     0   \n",
       "3  0236_c2s1_048826_01.jpg    236     2   \n",
       "4  0236_c6s1_049576_02.jpg    236     4   \n",
       "\n",
       "                                             img_vec  img_vec_mean  \\\n",
       "0  [0.0, 0.0, 0.0, 0.0, 0.09524873, 0.0021669231,...      0.100739   \n",
       "1  [0.0, 0.0, 0.0, 0.0, 1.453228, 0.0, 0.47155687...      0.088154   \n",
       "2  [0.0, 0.0, 0.06292614, 0.003400892, 0.2905464,...      0.099192   \n",
       "3  [0.0, 0.0, 0.18484941, 0.0, 0.7985055, 0.0, 0....      0.083081   \n",
       "4  [0.0, 0.0, 0.0, 0.0, 1.2596354, 0.0, 0.0653634...      0.064458   \n",
       "\n",
       "   img_vec_std  \n",
       "0     0.297026  \n",
       "1     0.255020  \n",
       "2     0.269711  \n",
       "3     0.251942  \n",
       "4     0.217734  "
      ]
     },
     "execution_count": 35,
     "metadata": {},
     "output_type": "execute_result"
    }
   ],
   "source": [
    "df_sample_res.head()"
   ]
  },
  {
   "cell_type": "code",
   "execution_count": 43,
   "id": "8dc1b4ab",
   "metadata": {},
   "outputs": [],
   "source": [
    "# あるベクトルと各々の類似度\n",
    "idx = 25   # 画像Index番号\n",
    "base_vac = df_sample_res.loc[idx,'img_vec']\n",
    "\n",
    "f = lambda x: cos_sim(base_vac, x)\n",
    "similarity = df_sample_res['img_vec'].apply(f)"
   ]
  },
  {
   "cell_type": "code",
   "execution_count": 44,
   "id": "2bf5454a",
   "metadata": {},
   "outputs": [
    {
     "data": {
      "text/plain": [
       "0      0.508710\n",
       "1      0.609589\n",
       "2      0.387135\n",
       "3      0.572665\n",
       "4      0.466249\n",
       "         ...   \n",
       "135    0.701154\n",
       "136    0.668241\n",
       "137    0.603473\n",
       "138    0.679842\n",
       "139    0.604891\n",
       "Name: img_vec, Length: 140, dtype: float32"
      ]
     },
     "execution_count": 44,
     "metadata": {},
     "output_type": "execute_result"
    }
   ],
   "source": [
    "similarity"
   ]
  },
  {
   "cell_type": "code",
   "execution_count": 45,
   "id": "0bb9a94c",
   "metadata": {},
   "outputs": [
    {
     "data": {
      "image/png": "[encoded data removed]",
      "text/plain": [
       "<Figure size 600x300 with 1 Axes>"
      ]
     },
     "metadata": {},
     "output_type": "display_data"
    }
   ],
   "source": [
    "plt.figure(figsize=[6,3])\n",
    "plt.plot(similarity)\n",
    "plt.title(f'Cosign similarity with data index {idx}')\n",
    "v_lines = [6.5+i*7 for i in range(df_sample_res['label'].nunique())]\n",
    "for l in v_lines:\n",
    "    plt.vlines(l, 0, 1, color='g', linestyles='dotted')\n",
    "\n",
    "# 縦線間が同じラベル"
   ]
  },
  {
   "cell_type": "code",
   "execution_count": null,
   "id": "53e6d3f2",
   "metadata": {},
   "outputs": [],
   "source": []
  }
 ],
 "metadata": {
  "kernelspec": {
   "display_name": "Python 3 (ipykernel)",
   "language": "python",
   "name": "python3"
  },
  "language_info": {
   "codemirror_mode": {
    "name": "ipython",
    "version": 3
   },
   "file_extension": ".py",
   "mimetype": "text/x-python",
   "name": "python",
   "nbconvert_exporter": "python",
   "pygments_lexer": "ipython3",
   "version": "3.8.13"
  }
 },
 "nbformat": 4,
 "nbformat_minor": 5
}
