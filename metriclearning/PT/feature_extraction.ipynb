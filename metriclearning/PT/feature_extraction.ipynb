{
 "cells": [
  {
   "cell_type": "code",
   "execution_count": null,
   "id": "cb333701",
   "metadata": {},
   "outputs": [],
   "source": []
  },
  {
   "cell_type": "markdown",
   "id": "026d79cc",
   "metadata": {},
   "source": [
    "事前学習モデルの最終層の出力を類似度検索のベクトルに利用"
   ]
  },
  {
   "cell_type": "code",
   "execution_count": 1,
   "id": "d5f19e22",
   "metadata": {},
   "outputs": [],
   "source": [
    "import os\n",
    "\n",
    "from tqdm.notebook import tqdm\n",
    "import numpy as np\n",
    "import pandas as pd\n",
    "import matplotlib.pyplot as plt\n",
    "import torch\n",
    "import timm\n",
    "import albumentations as A\n",
    "import cv2"
   ]
  },
  {
   "cell_type": "code",
   "execution_count": null,
   "id": "a0667eb6",
   "metadata": {},
   "outputs": [],
   "source": []
  },
  {
   "cell_type": "code",
   "execution_count": 2,
   "id": "7eae41ac",
   "metadata": {},
   "outputs": [],
   "source": [
    "img_size = 128\n",
    "batch_size = 64\n",
    "\n",
    "dataframe_image_col = 'image_id'\n",
    "dataframe_label_col = 'label'"
   ]
  },
  {
   "cell_type": "code",
   "execution_count": 3,
   "id": "877f899e",
   "metadata": {},
   "outputs": [
    {
     "data": {
      "text/plain": [
       "device(type='cpu')"
      ]
     },
     "execution_count": 3,
     "metadata": {},
     "output_type": "execute_result"
    }
   ],
   "source": [
    "device = torch.device('cuda:0' if torch.cuda.is_available() else 'cpu')\n",
    "device"
   ]
  },
  {
   "cell_type": "markdown",
   "id": "1cf87727",
   "metadata": {},
   "source": [
    "### データ"
   ]
  },
  {
   "cell_type": "code",
   "execution_count": 4,
   "id": "d815a0ca",
   "metadata": {},
   "outputs": [
    {
     "name": "stdout",
     "output_type": "stream",
     "text": [
      "\u001b[34mimages\u001b[m\u001b[m    test.csv  train.csv\r\n"
     ]
    }
   ],
   "source": [
    "!ls ../tmp/market_metriclearning_HT"
   ]
  },
  {
   "cell_type": "code",
   "execution_count": 5,
   "id": "e300d7b7",
   "metadata": {},
   "outputs": [
    {
     "name": "stdout",
     "output_type": "stream",
     "text": [
      "   12937\r\n"
     ]
    }
   ],
   "source": [
    "!ls -l ../tmp/market_metriclearning_HT/images | wc -l"
   ]
  },
  {
   "cell_type": "code",
   "execution_count": 6,
   "id": "b4aefa7d",
   "metadata": {},
   "outputs": [],
   "source": [
    "image_dir = '../tmp/market_metriclearning_HT/images'"
   ]
  },
  {
   "cell_type": "code",
   "execution_count": 7,
   "id": "02d90cbd",
   "metadata": {},
   "outputs": [
    {
     "name": "stdout",
     "output_type": "stream",
     "text": [
      "(12114, 3)\n"
     ]
    },
    {
     "data": {
      "text/html": [
       "<div>\n",
       "<style scoped>\n",
       "    .dataframe tbody tr th:only-of-type {\n",
       "        vertical-align: middle;\n",
       "    }\n",
       "\n",
       "    .dataframe tbody tr th {\n",
       "        vertical-align: top;\n",
       "    }\n",
       "\n",
       "    .dataframe thead th {\n",
       "        text-align: right;\n",
       "    }\n",
       "</style>\n",
       "<table border=\"1\" class=\"dataframe\">\n",
       "  <thead>\n",
       "    <tr style=\"text-align: right;\">\n",
       "      <th></th>\n",
       "      <th>image_id</th>\n",
       "      <th>label</th>\n",
       "      <th>fold</th>\n",
       "    </tr>\n",
       "  </thead>\n",
       "  <tbody>\n",
       "    <tr>\n",
       "      <th>0</th>\n",
       "      <td>0517_c5s1_143520_02.jpg</td>\n",
       "      <td>517</td>\n",
       "      <td>2</td>\n",
       "    </tr>\n",
       "    <tr>\n",
       "      <th>1</th>\n",
       "      <td>0816_c6s2_104418_01.jpg</td>\n",
       "      <td>816</td>\n",
       "      <td>4</td>\n",
       "    </tr>\n",
       "    <tr>\n",
       "      <th>2</th>\n",
       "      <td>1278_c1s6_012016_02.jpg</td>\n",
       "      <td>1278</td>\n",
       "      <td>2</td>\n",
       "    </tr>\n",
       "    <tr>\n",
       "      <th>3</th>\n",
       "      <td>0508_c5s2_082302_02.jpg</td>\n",
       "      <td>508</td>\n",
       "      <td>1</td>\n",
       "    </tr>\n",
       "    <tr>\n",
       "      <th>4</th>\n",
       "      <td>1198_c6s3_034292_01.jpg</td>\n",
       "      <td>1198</td>\n",
       "      <td>3</td>\n",
       "    </tr>\n",
       "  </tbody>\n",
       "</table>\n",
       "</div>"
      ],
      "text/plain": [
       "                  image_id  label  fold\n",
       "0  0517_c5s1_143520_02.jpg    517     2\n",
       "1  0816_c6s2_104418_01.jpg    816     4\n",
       "2  1278_c1s6_012016_02.jpg   1278     2\n",
       "3  0508_c5s2_082302_02.jpg    508     1\n",
       "4  1198_c6s3_034292_01.jpg   1198     3"
      ]
     },
     "execution_count": 7,
     "metadata": {},
     "output_type": "execute_result"
    }
   ],
   "source": [
    "df_train = pd.read_csv('../tmp/market_metriclearning_HT/train.csv')\n",
    "print(df_train.shape)\n",
    "df_train.head()"
   ]
  },
  {
   "cell_type": "code",
   "execution_count": 8,
   "id": "0774ad18",
   "metadata": {},
   "outputs": [
    {
     "data": {
      "text/plain": [
       "label\n",
       "433     7\n",
       "1295    7\n",
       "236     7\n",
       "1471    7\n",
       "522     7\n",
       "398     7\n",
       "579     7\n",
       "1427    7\n",
       "1464    7\n",
       "1325    7\n",
       "1346    7\n",
       "371     7\n",
       "245     7\n",
       "397     7\n",
       "1363    7\n",
       "958     7\n",
       "752     7\n",
       "1316    7\n",
       "604     7\n",
       "940     7\n",
       "Name: count, dtype: int64"
      ]
     },
     "execution_count": 8,
     "metadata": {},
     "output_type": "execute_result"
    }
   ],
   "source": [
    "df_train['label'].value_counts()[600:620]"
   ]
  },
  {
   "cell_type": "code",
   "execution_count": 9,
   "id": "e8b5cb76",
   "metadata": {},
   "outputs": [
    {
     "data": {
      "text/html": [
       "<div>\n",
       "<style scoped>\n",
       "    .dataframe tbody tr th:only-of-type {\n",
       "        vertical-align: middle;\n",
       "    }\n",
       "\n",
       "    .dataframe tbody tr th {\n",
       "        vertical-align: top;\n",
       "    }\n",
       "\n",
       "    .dataframe thead th {\n",
       "        text-align: right;\n",
       "    }\n",
       "</style>\n",
       "<table border=\"1\" class=\"dataframe\">\n",
       "  <thead>\n",
       "    <tr style=\"text-align: right;\">\n",
       "      <th></th>\n",
       "      <th>image_id</th>\n",
       "      <th>label</th>\n",
       "      <th>fold</th>\n",
       "    </tr>\n",
       "  </thead>\n",
       "  <tbody>\n",
       "    <tr>\n",
       "      <th>21</th>\n",
       "      <td>1325_c3s3_036228_03.jpg</td>\n",
       "      <td>1325</td>\n",
       "      <td>3</td>\n",
       "    </tr>\n",
       "    <tr>\n",
       "      <th>42</th>\n",
       "      <td>1295_c1s5_057466_01.jpg</td>\n",
       "      <td>1295</td>\n",
       "      <td>3</td>\n",
       "    </tr>\n",
       "    <tr>\n",
       "      <th>118</th>\n",
       "      <td>0940_c3s2_118119_02.jpg</td>\n",
       "      <td>940</td>\n",
       "      <td>4</td>\n",
       "    </tr>\n",
       "    <tr>\n",
       "      <th>120</th>\n",
       "      <td>0604_c2s2_013662_01.jpg</td>\n",
       "      <td>604</td>\n",
       "      <td>4</td>\n",
       "    </tr>\n",
       "    <tr>\n",
       "      <th>168</th>\n",
       "      <td>0604_c6s2_011093_03.jpg</td>\n",
       "      <td>604</td>\n",
       "      <td>3</td>\n",
       "    </tr>\n",
       "    <tr>\n",
       "      <th>...</th>\n",
       "      <td>...</td>\n",
       "      <td>...</td>\n",
       "      <td>...</td>\n",
       "    </tr>\n",
       "    <tr>\n",
       "      <th>11047</th>\n",
       "      <td>1363_c2s3_058277_01.jpg</td>\n",
       "      <td>1363</td>\n",
       "      <td>1</td>\n",
       "    </tr>\n",
       "    <tr>\n",
       "      <th>11082</th>\n",
       "      <td>1316_c4s5_057510_01.jpg</td>\n",
       "      <td>1316</td>\n",
       "      <td>3</td>\n",
       "    </tr>\n",
       "    <tr>\n",
       "      <th>11374</th>\n",
       "      <td>0371_c1s2_015416_01.jpg</td>\n",
       "      <td>371</td>\n",
       "      <td>0</td>\n",
       "    </tr>\n",
       "    <tr>\n",
       "      <th>11400</th>\n",
       "      <td>0397_c1s2_021866_02.jpg</td>\n",
       "      <td>397</td>\n",
       "      <td>0</td>\n",
       "    </tr>\n",
       "    <tr>\n",
       "      <th>11559</th>\n",
       "      <td>1427_c2s3_089077_01.jpg</td>\n",
       "      <td>1427</td>\n",
       "      <td>0</td>\n",
       "    </tr>\n",
       "  </tbody>\n",
       "</table>\n",
       "<p>140 rows × 3 columns</p>\n",
       "</div>"
      ],
      "text/plain": [
       "                      image_id  label  fold\n",
       "21     1325_c3s3_036228_03.jpg   1325     3\n",
       "42     1295_c1s5_057466_01.jpg   1295     3\n",
       "118    0940_c3s2_118119_02.jpg    940     4\n",
       "120    0604_c2s2_013662_01.jpg    604     4\n",
       "168    0604_c6s2_011093_03.jpg    604     3\n",
       "...                        ...    ...   ...\n",
       "11047  1363_c2s3_058277_01.jpg   1363     1\n",
       "11082  1316_c4s5_057510_01.jpg   1316     3\n",
       "11374  0371_c1s2_015416_01.jpg    371     0\n",
       "11400  0397_c1s2_021866_02.jpg    397     0\n",
       "11559  1427_c2s3_089077_01.jpg   1427     0\n",
       "\n",
       "[140 rows x 3 columns]"
      ]
     },
     "execution_count": 9,
     "metadata": {},
     "output_type": "execute_result"
    }
   ],
   "source": [
    "# 上記20ラベルのデータに絞る\n",
    "df_sample = df_train[df_train['label'].isin(df_train['label'].value_counts()[600:620].index)]\n",
    "df_sample"
   ]
  },
  {
   "cell_type": "code",
   "execution_count": 10,
   "id": "8db82dbe",
   "metadata": {},
   "outputs": [
    {
     "data": {
      "text/plain": [
       "\"\\ndf_test = pd.read_csv('../tmp/market_metriclearning_HT/test.csv')\\nprint(df_test.shape)\\ndf_test.head()\\n\""
      ]
     },
     "execution_count": 10,
     "metadata": {},
     "output_type": "execute_result"
    }
   ],
   "source": [
    "'''\n",
    "df_test = pd.read_csv('../tmp/market_metriclearning_HT/test.csv')\n",
    "print(df_test.shape)\n",
    "df_test.head()\n",
    "'''"
   ]
  },
  {
   "cell_type": "markdown",
   "id": "f8d2c61a",
   "metadata": {},
   "source": [
    "## Augmentation, Dataset"
   ]
  },
  {
   "cell_type": "code",
   "execution_count": 11,
   "id": "dd222386",
   "metadata": {},
   "outputs": [],
   "source": [
    "transform_scoring = A.Compose([\n",
    "    A.Resize(height=img_size, width=img_size, p=1),\n",
    "    A.Normalize(mean=[0.485, 0.456, 0.406], std=[0.229, 0.224, 0.225])\n",
    "])"
   ]
  },
  {
   "cell_type": "code",
   "execution_count": 14,
   "id": "f7a9ad37",
   "metadata": {},
   "outputs": [],
   "source": [
    "class CustomDataset(torch.utils.data.Dataset):\n",
    "\n",
    "    def __init__(self, df, img_dir, transforms, mode='train'):\n",
    "        self.df = df.reset_index(drop=True)\n",
    "        self.img_dir = img_dir\n",
    "        self.transforms = transforms\n",
    "        self.mode = mode\n",
    "\n",
    "    def __len__(self):\n",
    "        return self.df.shape[0]\n",
    "\n",
    "    def __getitem__(self, index):\n",
    "        img_file_name = self.df.loc[index, dataframe_image_col]\n",
    "        img_file_path = os.path.join(self.img_dir, img_file_name)\n",
    "        target = self.df.loc[index, dataframe_label_col]\n",
    "    \n",
    "        image = cv2.imread(img_file_path)\n",
    "        image = cv2.cvtColor(image, cv2.COLOR_RGB2BGR)\n",
    "\n",
    "        image_transformed = self.transforms(image=image)['image']\n",
    "\n",
    "        image_transformed = image_transformed.astype(np.float32)\n",
    "        image_transformed = image_transformed.transpose(2, 0, 1)\n",
    "        #image_transformed /= 255.   # transform内で正規化するので実施なし\n",
    "\n",
    "        if self.mode == 'inference':\n",
    "            return torch.tensor(image_transformed).float()\n",
    "        else:   # Train/Valid/Testなど正解ラベルが必要な時\n",
    "            return torch.tensor(image_transformed).float(), torch.tensor(target).long()\n"
   ]
  },
  {
   "cell_type": "code",
   "execution_count": 15,
   "id": "4a29faf6",
   "metadata": {},
   "outputs": [
    {
     "name": "stderr",
     "output_type": "stream",
     "text": [
      "Clipping input data to the valid range for imshow with RGB data ([0..1] for floats or [0..255] for integers).\n"
     ]
    },
    {
     "name": "stdout",
     "output_type": "stream",
     "text": [
      "<__main__.CustomDataset object at 0x7f9ff839b5b0> 140\n",
      "<class 'torch.Tensor'> <class 'torch.Tensor'>\n",
      "torch.Size([3, 128, 128]) tensor(1325)\n"
     ]
    },
    {
     "data": {
      "image/png": "[encoded data removed]",
      "text/plain": [
       "<Figure size 640x480 with 1 Axes>"
      ]
     },
     "metadata": {},
     "output_type": "display_data"
    }
   ],
   "source": [
    "# Dataset test\n",
    "tmp_dataset = CustomDataset(df=df_sample, img_dir=image_dir, transforms=transform_scoring, mode='train')\n",
    "print(tmp_dataset, len(tmp_dataset))\n",
    "\n",
    "tmp_img, tmp_label = tmp_dataset[0]    # 表示画像indexを指定\n",
    "print(type(tmp_img), type(tmp_label))\n",
    "print(tmp_img.shape, tmp_label)\n",
    "\n",
    "plt.imshow(tmp_img.permute(1, 2, 0))\n",
    "plt.show()"
   ]
  },
  {
   "cell_type": "markdown",
   "id": "02389a4f",
   "metadata": {},
   "source": [
    "## Model"
   ]
  },
  {
   "cell_type": "code",
   "execution_count": 16,
   "id": "8bdd0aae",
   "metadata": {},
   "outputs": [
    {
     "data": {
      "text/plain": [
       "{'url': 'https://github.com/huggingface/pytorch-image-models/releases/download/v0.1-rsb-weights/resnet18_a1_0-d63eafa0.pth',\n",
       " 'hf_hub_id': 'timm/resnet18.a1_in1k',\n",
       " 'architecture': 'resnet18',\n",
       " 'tag': 'a1_in1k',\n",
       " 'custom_load': False,\n",
       " 'input_size': (3, 224, 224),\n",
       " 'test_input_size': (3, 288, 288),\n",
       " 'fixed_input_size': False,\n",
       " 'interpolation': 'bicubic',\n",
       " 'crop_pct': 0.95,\n",
       " 'test_crop_pct': 1.0,\n",
       " 'crop_mode': 'center',\n",
       " 'mean': (0.485, 0.456, 0.406),\n",
       " 'std': (0.229, 0.224, 0.225),\n",
       " 'pool_size': (7, 7),\n",
       " 'first_conv': 'conv1',\n",
       " 'origin_url': 'https://github.com/huggingface/pytorch-image-models',\n",
       " 'paper_ids': 'arXiv:2110.00476'}"
      ]
     },
     "execution_count": 16,
     "metadata": {},
     "output_type": "execute_result"
    }
   ],
   "source": [
    "# 各畳み込み層の出力を取得する場合\n",
    "backborn = timm.create_model('resnet18', pretrained=True, features_only=True)\n",
    "backborn.default_cfg"
   ]
  },
  {
   "cell_type": "code",
   "execution_count": 17,
   "id": "fcabe40d",
   "metadata": {},
   "outputs": [
    {
     "name": "stdout",
     "output_type": "stream",
     "text": [
      "5\n",
      "torch.Size([8, 64, 164, 164])\n",
      "torch.Size([8, 64, 82, 82])\n",
      "torch.Size([8, 128, 41, 41])\n",
      "torch.Size([8, 256, 21, 21])\n",
      "torch.Size([8, 512, 11, 11])\n"
     ]
    }
   ],
   "source": [
    "sample_in = torch.rand(8, 3, 328, 328)\n",
    "\n",
    "sample_out = backborn(sample_in)\n",
    "print(len(sample_out))\n",
    "print(sample_out[0].shape)\n",
    "print(sample_out[1].shape)\n",
    "print(sample_out[2].shape)\n",
    "print(sample_out[3].shape)\n",
    "print(sample_out[4].shape)    # 最後の畳み込み層の出力"
   ]
  },
  {
   "cell_type": "markdown",
   "id": "b3bfd1a2",
   "metadata": {},
   "source": [
    "### 事前学習済みモデルのGlobal Poolingの出力を利用"
   ]
  },
  {
   "cell_type": "code",
   "execution_count": 18,
   "id": "6ed8c944",
   "metadata": {},
   "outputs": [
    {
     "data": {
      "text/plain": [
       "{'url': 'https://github.com/huggingface/pytorch-image-models/releases/download/v0.1-rsb-weights/resnet18_a1_0-d63eafa0.pth',\n",
       " 'hf_hub_id': 'timm/resnet18.a1_in1k',\n",
       " 'architecture': 'resnet18',\n",
       " 'tag': 'a1_in1k',\n",
       " 'custom_load': False,\n",
       " 'input_size': (3, 224, 224),\n",
       " 'test_input_size': (3, 288, 288),\n",
       " 'fixed_input_size': False,\n",
       " 'interpolation': 'bicubic',\n",
       " 'crop_pct': 0.95,\n",
       " 'test_crop_pct': 1.0,\n",
       " 'crop_mode': 'center',\n",
       " 'mean': (0.485, 0.456, 0.406),\n",
       " 'std': (0.229, 0.224, 0.225),\n",
       " 'num_classes': 1000,\n",
       " 'pool_size': (7, 7),\n",
       " 'first_conv': 'conv1',\n",
       " 'classifier': 'fc',\n",
       " 'origin_url': 'https://github.com/huggingface/pytorch-image-models',\n",
       " 'paper_ids': 'arXiv:2110.00476'}"
      ]
     },
     "execution_count": 18,
     "metadata": {},
     "output_type": "execute_result"
    }
   ],
   "source": [
    "# Head部分なしでのモデル取得（Global Poolingの出力）\n",
    "backborn = timm.create_model('resnet18', pretrained=True, num_classes=0)\n",
    "backborn.default_cfg"
   ]
  },
  {
   "cell_type": "code",
   "execution_count": 19,
   "id": "3119477a",
   "metadata": {},
   "outputs": [
    {
     "data": {
      "text/plain": [
       "torch.Size([8, 512])"
      ]
     },
     "execution_count": 19,
     "metadata": {},
     "output_type": "execute_result"
    }
   ],
   "source": [
    "backborn(torch.rand(8, 3, 328, 328)).shape\n",
    "# 512元のベクトルが出力"
   ]
  },
  {
   "cell_type": "markdown",
   "id": "54062f8a",
   "metadata": {},
   "source": [
    "## 推論"
   ]
  },
  {
   "cell_type": "code",
   "execution_count": 20,
   "id": "431fdb4d",
   "metadata": {},
   "outputs": [
    {
     "name": "stdout",
     "output_type": "stream",
     "text": [
      "<__main__.CustomDataset object at 0x7fa0295713d0>\n",
      "<torch.utils.data.dataloader.DataLoader object at 0x7fa0295711c0>\n"
     ]
    }
   ],
   "source": [
    "dataset_train = CustomDataset(df=df_sample, img_dir=image_dir, transforms=transform_scoring, mode='train')\n",
    "print(dataset_train)\n",
    "loader_train = torch.utils.data.DataLoader(dataset_train, batch_size=batch_size, shuffle=False)\n",
    "print(loader_train)"
   ]
  },
  {
   "cell_type": "code",
   "execution_count": 39,
   "id": "bff14c17",
   "metadata": {},
   "outputs": [
    {
     "data": {
      "application/vnd.jupyter.widget-view+json": {
       "model_id": "7eef8ff43bf3471295ccd11474cc61c4",
       "version_major": 2,
       "version_minor": 0
      },
      "text/plain": [
       "  0%|          | 0/3 [00:00<?, ?it/s]"
      ]
     },
     "metadata": {},
     "output_type": "display_data"
    }
   ],
   "source": [
    "OUTPUTS, TARGETS = [], []\n",
    "bar = tqdm(loader_train)\n",
    "backborn = backborn.to(device)\n",
    "backborn.eval()\n",
    "\n",
    "with torch.no_grad():\n",
    "        for i, (images, targets) in enumerate(bar):    # バッチループ\n",
    "            images = images.to(device)\n",
    "            targets = targets.to(device)\n",
    "            outputs = backborn(images)\n",
    "            \n",
    "            OUTPUTS.append(outputs.cpu().numpy())\n",
    "            TARGETS.append(targets.cpu().numpy())\n",
    "\n",
    "OUTPUTS = np.concatenate(OUTPUTS)\n",
    "TARGETS = np.concatenate(TARGETS)"
   ]
  },
  {
   "cell_type": "code",
   "execution_count": 42,
   "id": "26a460d1",
   "metadata": {},
   "outputs": [
    {
     "data": {
      "text/plain": [
       "((140, 512), (140,))"
      ]
     },
     "execution_count": 42,
     "metadata": {},
     "output_type": "execute_result"
    }
   ],
   "source": [
    "OUTPUTS.shape, TARGETS.shape"
   ]
  },
  {
   "cell_type": "code",
   "execution_count": 63,
   "id": "23e7490c",
   "metadata": {},
   "outputs": [],
   "source": [
    "df_sample_res = df_sample.copy()\n",
    "df_sample_res['img_vec'] = [v for v in OUTPUTS]\n",
    "#df_sample_res['target'] =  = [t for t in TARGETS]    # TARGETSはdf_sample['label']と同じ"
   ]
  },
  {
   "cell_type": "code",
   "execution_count": 64,
   "id": "629baa25",
   "metadata": {},
   "outputs": [
    {
     "data": {
      "text/html": [
       "<div>\n",
       "<style scoped>\n",
       "    .dataframe tbody tr th:only-of-type {\n",
       "        vertical-align: middle;\n",
       "    }\n",
       "\n",
       "    .dataframe tbody tr th {\n",
       "        vertical-align: top;\n",
       "    }\n",
       "\n",
       "    .dataframe thead th {\n",
       "        text-align: right;\n",
       "    }\n",
       "</style>\n",
       "<table border=\"1\" class=\"dataframe\">\n",
       "  <thead>\n",
       "    <tr style=\"text-align: right;\">\n",
       "      <th></th>\n",
       "      <th>image_id</th>\n",
       "      <th>label</th>\n",
       "      <th>fold</th>\n",
       "      <th>img_vec</th>\n",
       "    </tr>\n",
       "  </thead>\n",
       "  <tbody>\n",
       "    <tr>\n",
       "      <th>21</th>\n",
       "      <td>1325_c3s3_036228_03.jpg</td>\n",
       "      <td>1325</td>\n",
       "      <td>3</td>\n",
       "      <td>[1.8207173, 0.0, 0.038598962, 0.017476015, 0.8...</td>\n",
       "    </tr>\n",
       "    <tr>\n",
       "      <th>42</th>\n",
       "      <td>1295_c1s5_057466_01.jpg</td>\n",
       "      <td>1295</td>\n",
       "      <td>3</td>\n",
       "      <td>[0.79867977, 0.0033981912, 0.13700107, 1.40525...</td>\n",
       "    </tr>\n",
       "    <tr>\n",
       "      <th>118</th>\n",
       "      <td>0940_c3s2_118119_02.jpg</td>\n",
       "      <td>940</td>\n",
       "      <td>4</td>\n",
       "      <td>[1.8995523, 0.0, 0.018851357, 0.4430401, 0.508...</td>\n",
       "    </tr>\n",
       "    <tr>\n",
       "      <th>120</th>\n",
       "      <td>0604_c2s2_013662_01.jpg</td>\n",
       "      <td>604</td>\n",
       "      <td>4</td>\n",
       "      <td>[0.6564485, 0.0, 0.0, 0.12538955, 0.10047927, ...</td>\n",
       "    </tr>\n",
       "    <tr>\n",
       "      <th>168</th>\n",
       "      <td>0604_c6s2_011093_03.jpg</td>\n",
       "      <td>604</td>\n",
       "      <td>3</td>\n",
       "      <td>[1.296747, 0.0, 0.008942027, 0.0, 1.4963297, 0...</td>\n",
       "    </tr>\n",
       "    <tr>\n",
       "      <th>...</th>\n",
       "      <td>...</td>\n",
       "      <td>...</td>\n",
       "      <td>...</td>\n",
       "      <td>...</td>\n",
       "    </tr>\n",
       "    <tr>\n",
       "      <th>11047</th>\n",
       "      <td>1363_c2s3_058277_01.jpg</td>\n",
       "      <td>1363</td>\n",
       "      <td>1</td>\n",
       "      <td>[1.2273506, 0.0, 0.0, 0.12705329, 0.0, 0.14035...</td>\n",
       "    </tr>\n",
       "    <tr>\n",
       "      <th>11082</th>\n",
       "      <td>1316_c4s5_057510_01.jpg</td>\n",
       "      <td>1316</td>\n",
       "      <td>3</td>\n",
       "      <td>[1.9704623, 0.0, 0.0, 0.5004439, 0.22579253, 0...</td>\n",
       "    </tr>\n",
       "    <tr>\n",
       "      <th>11374</th>\n",
       "      <td>0371_c1s2_015416_01.jpg</td>\n",
       "      <td>371</td>\n",
       "      <td>0</td>\n",
       "      <td>[0.40943718, 0.0, 0.058346596, 0.5219126, 0.24...</td>\n",
       "    </tr>\n",
       "    <tr>\n",
       "      <th>11400</th>\n",
       "      <td>0397_c1s2_021866_02.jpg</td>\n",
       "      <td>397</td>\n",
       "      <td>0</td>\n",
       "      <td>[0.98992527, 0.022250295, 0.0648869, 0.3967518...</td>\n",
       "    </tr>\n",
       "    <tr>\n",
       "      <th>11559</th>\n",
       "      <td>1427_c2s3_089077_01.jpg</td>\n",
       "      <td>1427</td>\n",
       "      <td>0</td>\n",
       "      <td>[1.047744, 0.0, 0.0, 0.24729598, 0.32621714, 0...</td>\n",
       "    </tr>\n",
       "  </tbody>\n",
       "</table>\n",
       "<p>140 rows × 4 columns</p>\n",
       "</div>"
      ],
      "text/plain": [
       "                      image_id  label  fold  \\\n",
       "21     1325_c3s3_036228_03.jpg   1325     3   \n",
       "42     1295_c1s5_057466_01.jpg   1295     3   \n",
       "118    0940_c3s2_118119_02.jpg    940     4   \n",
       "120    0604_c2s2_013662_01.jpg    604     4   \n",
       "168    0604_c6s2_011093_03.jpg    604     3   \n",
       "...                        ...    ...   ...   \n",
       "11047  1363_c2s3_058277_01.jpg   1363     1   \n",
       "11082  1316_c4s5_057510_01.jpg   1316     3   \n",
       "11374  0371_c1s2_015416_01.jpg    371     0   \n",
       "11400  0397_c1s2_021866_02.jpg    397     0   \n",
       "11559  1427_c2s3_089077_01.jpg   1427     0   \n",
       "\n",
       "                                                 img_vec  \n",
       "21     [1.8207173, 0.0, 0.038598962, 0.017476015, 0.8...  \n",
       "42     [0.79867977, 0.0033981912, 0.13700107, 1.40525...  \n",
       "118    [1.8995523, 0.0, 0.018851357, 0.4430401, 0.508...  \n",
       "120    [0.6564485, 0.0, 0.0, 0.12538955, 0.10047927, ...  \n",
       "168    [1.296747, 0.0, 0.008942027, 0.0, 1.4963297, 0...  \n",
       "...                                                  ...  \n",
       "11047  [1.2273506, 0.0, 0.0, 0.12705329, 0.0, 0.14035...  \n",
       "11082  [1.9704623, 0.0, 0.0, 0.5004439, 0.22579253, 0...  \n",
       "11374  [0.40943718, 0.0, 0.058346596, 0.5219126, 0.24...  \n",
       "11400  [0.98992527, 0.022250295, 0.0648869, 0.3967518...  \n",
       "11559  [1.047744, 0.0, 0.0, 0.24729598, 0.32621714, 0...  \n",
       "\n",
       "[140 rows x 4 columns]"
      ]
     },
     "execution_count": 64,
     "metadata": {},
     "output_type": "execute_result"
    }
   ],
   "source": [
    "df_sample_res"
   ]
  },
  {
   "cell_type": "code",
   "execution_count": 65,
   "id": "61d0ae1e",
   "metadata": {},
   "outputs": [
    {
     "data": {
      "text/html": [
       "<div>\n",
       "<style scoped>\n",
       "    .dataframe tbody tr th:only-of-type {\n",
       "        vertical-align: middle;\n",
       "    }\n",
       "\n",
       "    .dataframe tbody tr th {\n",
       "        vertical-align: top;\n",
       "    }\n",
       "\n",
       "    .dataframe thead th {\n",
       "        text-align: right;\n",
       "    }\n",
       "</style>\n",
       "<table border=\"1\" class=\"dataframe\">\n",
       "  <thead>\n",
       "    <tr style=\"text-align: right;\">\n",
       "      <th></th>\n",
       "      <th>image_id</th>\n",
       "      <th>label</th>\n",
       "      <th>fold</th>\n",
       "      <th>img_vec</th>\n",
       "    </tr>\n",
       "  </thead>\n",
       "  <tbody>\n",
       "    <tr>\n",
       "      <th>0</th>\n",
       "      <td>0236_c3s1_049026_03.jpg</td>\n",
       "      <td>236</td>\n",
       "      <td>1</td>\n",
       "      <td>[0.8067361, 0.0, 0.026871651, 0.006253171, 0.2...</td>\n",
       "    </tr>\n",
       "    <tr>\n",
       "      <th>1</th>\n",
       "      <td>0236_c6s1_049551_01.jpg</td>\n",
       "      <td>236</td>\n",
       "      <td>3</td>\n",
       "      <td>[1.6495523, 0.0, 0.0, 0.052613728, 1.0676907, ...</td>\n",
       "    </tr>\n",
       "    <tr>\n",
       "      <th>2</th>\n",
       "      <td>0236_c3s1_048926_01.jpg</td>\n",
       "      <td>236</td>\n",
       "      <td>0</td>\n",
       "      <td>[0.9383191, 0.1786175, 0.032267198, 0.04041158...</td>\n",
       "    </tr>\n",
       "    <tr>\n",
       "      <th>3</th>\n",
       "      <td>0236_c2s1_048826_01.jpg</td>\n",
       "      <td>236</td>\n",
       "      <td>2</td>\n",
       "      <td>[0.762837, 0.007669583, 0.041190103, 0.0, 0.36...</td>\n",
       "    </tr>\n",
       "    <tr>\n",
       "      <th>4</th>\n",
       "      <td>0236_c6s1_049576_02.jpg</td>\n",
       "      <td>236</td>\n",
       "      <td>4</td>\n",
       "      <td>[0.7228075, 0.0, 0.03703361, 0.0, 0.06692165, ...</td>\n",
       "    </tr>\n",
       "    <tr>\n",
       "      <th>...</th>\n",
       "      <td>...</td>\n",
       "      <td>...</td>\n",
       "      <td>...</td>\n",
       "      <td>...</td>\n",
       "    </tr>\n",
       "    <tr>\n",
       "      <th>135</th>\n",
       "      <td>1471_c2s3_053882_02.jpg</td>\n",
       "      <td>1471</td>\n",
       "      <td>4</td>\n",
       "      <td>[2.2337928, 0.0, 0.020380959, 0.47041562, 0.86...</td>\n",
       "    </tr>\n",
       "    <tr>\n",
       "      <th>136</th>\n",
       "      <td>1471_c3s3_060228_03.jpg</td>\n",
       "      <td>1471</td>\n",
       "      <td>3</td>\n",
       "      <td>[0.75157654, 0.0, 0.06805473, 0.13406348, 0.16...</td>\n",
       "    </tr>\n",
       "    <tr>\n",
       "      <th>137</th>\n",
       "      <td>1471_c6s3_083942_03.jpg</td>\n",
       "      <td>1471</td>\n",
       "      <td>2</td>\n",
       "      <td>[1.8573858, 0.0, 0.0, 0.022559041, 0.12286422,...</td>\n",
       "    </tr>\n",
       "    <tr>\n",
       "      <th>138</th>\n",
       "      <td>1471_c6s3_083992_01.jpg</td>\n",
       "      <td>1471</td>\n",
       "      <td>3</td>\n",
       "      <td>[1.6548146, 0.0, 0.05993382, 0.34052575, 0.706...</td>\n",
       "    </tr>\n",
       "    <tr>\n",
       "      <th>139</th>\n",
       "      <td>1471_c3s3_060178_02.jpg</td>\n",
       "      <td>1471</td>\n",
       "      <td>3</td>\n",
       "      <td>[1.6549412, 0.016481303, 0.0115208905, 0.0, 0....</td>\n",
       "    </tr>\n",
       "  </tbody>\n",
       "</table>\n",
       "<p>140 rows × 4 columns</p>\n",
       "</div>"
      ],
      "text/plain": [
       "                    image_id  label  fold  \\\n",
       "0    0236_c3s1_049026_03.jpg    236     1   \n",
       "1    0236_c6s1_049551_01.jpg    236     3   \n",
       "2    0236_c3s1_048926_01.jpg    236     0   \n",
       "3    0236_c2s1_048826_01.jpg    236     2   \n",
       "4    0236_c6s1_049576_02.jpg    236     4   \n",
       "..                       ...    ...   ...   \n",
       "135  1471_c2s3_053882_02.jpg   1471     4   \n",
       "136  1471_c3s3_060228_03.jpg   1471     3   \n",
       "137  1471_c6s3_083942_03.jpg   1471     2   \n",
       "138  1471_c6s3_083992_01.jpg   1471     3   \n",
       "139  1471_c3s3_060178_02.jpg   1471     3   \n",
       "\n",
       "                                               img_vec  \n",
       "0    [0.8067361, 0.0, 0.026871651, 0.006253171, 0.2...  \n",
       "1    [1.6495523, 0.0, 0.0, 0.052613728, 1.0676907, ...  \n",
       "2    [0.9383191, 0.1786175, 0.032267198, 0.04041158...  \n",
       "3    [0.762837, 0.007669583, 0.041190103, 0.0, 0.36...  \n",
       "4    [0.7228075, 0.0, 0.03703361, 0.0, 0.06692165, ...  \n",
       "..                                                 ...  \n",
       "135  [2.2337928, 0.0, 0.020380959, 0.47041562, 0.86...  \n",
       "136  [0.75157654, 0.0, 0.06805473, 0.13406348, 0.16...  \n",
       "137  [1.8573858, 0.0, 0.0, 0.022559041, 0.12286422,...  \n",
       "138  [1.6548146, 0.0, 0.05993382, 0.34052575, 0.706...  \n",
       "139  [1.6549412, 0.016481303, 0.0115208905, 0.0, 0....  \n",
       "\n",
       "[140 rows x 4 columns]"
      ]
     },
     "execution_count": 65,
     "metadata": {},
     "output_type": "execute_result"
    }
   ],
   "source": [
    "df_sample_res = df_sample_res.sort_values('label')\n",
    "df_sample_res = df_sample_res.reset_index(drop=True)\n",
    "df_sample_res"
   ]
  },
  {
   "cell_type": "code",
   "execution_count": 66,
   "id": "77121be9",
   "metadata": {},
   "outputs": [
    {
     "data": {
      "text/plain": [
       "numpy.ndarray"
      ]
     },
     "execution_count": 66,
     "metadata": {},
     "output_type": "execute_result"
    }
   ],
   "source": [
    "type(df_sample_res.loc[0, 'img_vec'])"
   ]
  },
  {
   "cell_type": "code",
   "execution_count": 68,
   "id": "e4105f5d",
   "metadata": {},
   "outputs": [
    {
     "data": {
      "text/plain": [
       "label\n",
       "236     7\n",
       "245     7\n",
       "1464    7\n",
       "1427    7\n",
       "1363    7\n",
       "1346    7\n",
       "1325    7\n",
       "1316    7\n",
       "1295    7\n",
       "958     7\n",
       "940     7\n",
       "752     7\n",
       "604     7\n",
       "579     7\n",
       "522     7\n",
       "433     7\n",
       "398     7\n",
       "397     7\n",
       "371     7\n",
       "1471    7\n",
       "Name: count, dtype: int64"
      ]
     },
     "execution_count": 68,
     "metadata": {},
     "output_type": "execute_result"
    }
   ],
   "source": [
    "df_sample_res['label'].value_counts()"
   ]
  },
  {
   "cell_type": "markdown",
   "id": "7b87a85e",
   "metadata": {},
   "source": [
    "## 画像間類似度"
   ]
  },
  {
   "cell_type": "code",
   "execution_count": 77,
   "id": "4d8c5312",
   "metadata": {},
   "outputs": [],
   "source": [
    "# 各ベクトルの平均と標準偏差を計算\n",
    "\n",
    "f = lambda x: np.mean(x)\n",
    "df_sample_res['img_vec_mean'] = df_sample_res['img_vec'].apply(f)\n",
    "\n",
    "f = lambda x: np.std(x)\n",
    "df_sample_res['img_vec_std'] = df_sample_res['img_vec'].apply(f)"
   ]
  },
  {
   "cell_type": "code",
   "execution_count": 78,
   "id": "56383bb1",
   "metadata": {},
   "outputs": [
    {
     "data": {
      "text/html": [
       "<div>\n",
       "<style scoped>\n",
       "    .dataframe tbody tr th:only-of-type {\n",
       "        vertical-align: middle;\n",
       "    }\n",
       "\n",
       "    .dataframe tbody tr th {\n",
       "        vertical-align: top;\n",
       "    }\n",
       "\n",
       "    .dataframe thead th {\n",
       "        text-align: right;\n",
       "    }\n",
       "</style>\n",
       "<table border=\"1\" class=\"dataframe\">\n",
       "  <thead>\n",
       "    <tr style=\"text-align: right;\">\n",
       "      <th></th>\n",
       "      <th>image_id</th>\n",
       "      <th>label</th>\n",
       "      <th>fold</th>\n",
       "      <th>img_vec</th>\n",
       "      <th>img_vec_mean</th>\n",
       "      <th>img_vec_std</th>\n",
       "    </tr>\n",
       "  </thead>\n",
       "  <tbody>\n",
       "    <tr>\n",
       "      <th>0</th>\n",
       "      <td>0236_c3s1_049026_03.jpg</td>\n",
       "      <td>236</td>\n",
       "      <td>1</td>\n",
       "      <td>[0.8067361, 0.0, 0.026871651, 0.006253171, 0.2...</td>\n",
       "      <td>0.371834</td>\n",
       "      <td>0.496147</td>\n",
       "    </tr>\n",
       "    <tr>\n",
       "      <th>1</th>\n",
       "      <td>0236_c6s1_049551_01.jpg</td>\n",
       "      <td>236</td>\n",
       "      <td>3</td>\n",
       "      <td>[1.6495523, 0.0, 0.0, 0.052613728, 1.0676907, ...</td>\n",
       "      <td>0.326783</td>\n",
       "      <td>0.461197</td>\n",
       "    </tr>\n",
       "    <tr>\n",
       "      <th>2</th>\n",
       "      <td>0236_c3s1_048926_01.jpg</td>\n",
       "      <td>236</td>\n",
       "      <td>0</td>\n",
       "      <td>[0.9383191, 0.1786175, 0.032267198, 0.04041158...</td>\n",
       "      <td>0.449133</td>\n",
       "      <td>0.538712</td>\n",
       "    </tr>\n",
       "    <tr>\n",
       "      <th>3</th>\n",
       "      <td>0236_c2s1_048826_01.jpg</td>\n",
       "      <td>236</td>\n",
       "      <td>2</td>\n",
       "      <td>[0.762837, 0.007669583, 0.041190103, 0.0, 0.36...</td>\n",
       "      <td>0.294229</td>\n",
       "      <td>0.448629</td>\n",
       "    </tr>\n",
       "    <tr>\n",
       "      <th>4</th>\n",
       "      <td>0236_c6s1_049576_02.jpg</td>\n",
       "      <td>236</td>\n",
       "      <td>4</td>\n",
       "      <td>[0.7228075, 0.0, 0.03703361, 0.0, 0.06692165, ...</td>\n",
       "      <td>0.268997</td>\n",
       "      <td>0.423866</td>\n",
       "    </tr>\n",
       "    <tr>\n",
       "      <th>...</th>\n",
       "      <td>...</td>\n",
       "      <td>...</td>\n",
       "      <td>...</td>\n",
       "      <td>...</td>\n",
       "      <td>...</td>\n",
       "      <td>...</td>\n",
       "    </tr>\n",
       "    <tr>\n",
       "      <th>135</th>\n",
       "      <td>1471_c2s3_053882_02.jpg</td>\n",
       "      <td>1471</td>\n",
       "      <td>4</td>\n",
       "      <td>[2.2337928, 0.0, 0.020380959, 0.47041562, 0.86...</td>\n",
       "      <td>0.498789</td>\n",
       "      <td>0.546173</td>\n",
       "    </tr>\n",
       "    <tr>\n",
       "      <th>136</th>\n",
       "      <td>1471_c3s3_060228_03.jpg</td>\n",
       "      <td>1471</td>\n",
       "      <td>3</td>\n",
       "      <td>[0.75157654, 0.0, 0.06805473, 0.13406348, 0.16...</td>\n",
       "      <td>0.388312</td>\n",
       "      <td>0.524887</td>\n",
       "    </tr>\n",
       "    <tr>\n",
       "      <th>137</th>\n",
       "      <td>1471_c6s3_083942_03.jpg</td>\n",
       "      <td>1471</td>\n",
       "      <td>2</td>\n",
       "      <td>[1.8573858, 0.0, 0.0, 0.022559041, 0.12286422,...</td>\n",
       "      <td>0.326518</td>\n",
       "      <td>0.506919</td>\n",
       "    </tr>\n",
       "    <tr>\n",
       "      <th>138</th>\n",
       "      <td>1471_c6s3_083992_01.jpg</td>\n",
       "      <td>1471</td>\n",
       "      <td>3</td>\n",
       "      <td>[1.6548146, 0.0, 0.05993382, 0.34052575, 0.706...</td>\n",
       "      <td>0.370835</td>\n",
       "      <td>0.515676</td>\n",
       "    </tr>\n",
       "    <tr>\n",
       "      <th>139</th>\n",
       "      <td>1471_c3s3_060178_02.jpg</td>\n",
       "      <td>1471</td>\n",
       "      <td>3</td>\n",
       "      <td>[1.6549412, 0.016481303, 0.0115208905, 0.0, 0....</td>\n",
       "      <td>0.320767</td>\n",
       "      <td>0.454516</td>\n",
       "    </tr>\n",
       "  </tbody>\n",
       "</table>\n",
       "<p>140 rows × 6 columns</p>\n",
       "</div>"
      ],
      "text/plain": [
       "                    image_id  label  fold  \\\n",
       "0    0236_c3s1_049026_03.jpg    236     1   \n",
       "1    0236_c6s1_049551_01.jpg    236     3   \n",
       "2    0236_c3s1_048926_01.jpg    236     0   \n",
       "3    0236_c2s1_048826_01.jpg    236     2   \n",
       "4    0236_c6s1_049576_02.jpg    236     4   \n",
       "..                       ...    ...   ...   \n",
       "135  1471_c2s3_053882_02.jpg   1471     4   \n",
       "136  1471_c3s3_060228_03.jpg   1471     3   \n",
       "137  1471_c6s3_083942_03.jpg   1471     2   \n",
       "138  1471_c6s3_083992_01.jpg   1471     3   \n",
       "139  1471_c3s3_060178_02.jpg   1471     3   \n",
       "\n",
       "                                               img_vec  img_vec_mean  \\\n",
       "0    [0.8067361, 0.0, 0.026871651, 0.006253171, 0.2...      0.371834   \n",
       "1    [1.6495523, 0.0, 0.0, 0.052613728, 1.0676907, ...      0.326783   \n",
       "2    [0.9383191, 0.1786175, 0.032267198, 0.04041158...      0.449133   \n",
       "3    [0.762837, 0.007669583, 0.041190103, 0.0, 0.36...      0.294229   \n",
       "4    [0.7228075, 0.0, 0.03703361, 0.0, 0.06692165, ...      0.268997   \n",
       "..                                                 ...           ...   \n",
       "135  [2.2337928, 0.0, 0.020380959, 0.47041562, 0.86...      0.498789   \n",
       "136  [0.75157654, 0.0, 0.06805473, 0.13406348, 0.16...      0.388312   \n",
       "137  [1.8573858, 0.0, 0.0, 0.022559041, 0.12286422,...      0.326518   \n",
       "138  [1.6548146, 0.0, 0.05993382, 0.34052575, 0.706...      0.370835   \n",
       "139  [1.6549412, 0.016481303, 0.0115208905, 0.0, 0....      0.320767   \n",
       "\n",
       "     img_vec_std  \n",
       "0       0.496147  \n",
       "1       0.461197  \n",
       "2       0.538712  \n",
       "3       0.448629  \n",
       "4       0.423866  \n",
       "..           ...  \n",
       "135     0.546173  \n",
       "136     0.524887  \n",
       "137     0.506919  \n",
       "138     0.515676  \n",
       "139     0.454516  \n",
       "\n",
       "[140 rows x 6 columns]"
      ]
     },
     "execution_count": 78,
     "metadata": {},
     "output_type": "execute_result"
    }
   ],
   "source": [
    "df_sample_res"
   ]
  },
  {
   "cell_type": "code",
   "execution_count": 80,
   "id": "9182029b",
   "metadata": {},
   "outputs": [
    {
     "data": {
      "text/html": [
       "<div>\n",
       "<style scoped>\n",
       "    .dataframe tbody tr th:only-of-type {\n",
       "        vertical-align: middle;\n",
       "    }\n",
       "\n",
       "    .dataframe tbody tr th {\n",
       "        vertical-align: top;\n",
       "    }\n",
       "\n",
       "    .dataframe thead th {\n",
       "        text-align: right;\n",
       "    }\n",
       "</style>\n",
       "<table border=\"1\" class=\"dataframe\">\n",
       "  <thead>\n",
       "    <tr style=\"text-align: right;\">\n",
       "      <th></th>\n",
       "      <th>img_vec_mean</th>\n",
       "      <th>img_vec_std</th>\n",
       "    </tr>\n",
       "  </thead>\n",
       "  <tbody>\n",
       "    <tr>\n",
       "      <th>count</th>\n",
       "      <td>140.000000</td>\n",
       "      <td>140.000000</td>\n",
       "    </tr>\n",
       "    <tr>\n",
       "      <th>mean</th>\n",
       "      <td>0.373005</td>\n",
       "      <td>0.492370</td>\n",
       "    </tr>\n",
       "    <tr>\n",
       "      <th>std</th>\n",
       "      <td>0.055005</td>\n",
       "      <td>0.036712</td>\n",
       "    </tr>\n",
       "    <tr>\n",
       "      <th>min</th>\n",
       "      <td>0.237386</td>\n",
       "      <td>0.389866</td>\n",
       "    </tr>\n",
       "    <tr>\n",
       "      <th>25%</th>\n",
       "      <td>0.336924</td>\n",
       "      <td>0.467298</td>\n",
       "    </tr>\n",
       "    <tr>\n",
       "      <th>50%</th>\n",
       "      <td>0.370729</td>\n",
       "      <td>0.491725</td>\n",
       "    </tr>\n",
       "    <tr>\n",
       "      <th>75%</th>\n",
       "      <td>0.403053</td>\n",
       "      <td>0.514961</td>\n",
       "    </tr>\n",
       "    <tr>\n",
       "      <th>max</th>\n",
       "      <td>0.526388</td>\n",
       "      <td>0.589617</td>\n",
       "    </tr>\n",
       "  </tbody>\n",
       "</table>\n",
       "</div>"
      ],
      "text/plain": [
       "       img_vec_mean  img_vec_std\n",
       "count    140.000000   140.000000\n",
       "mean       0.373005     0.492370\n",
       "std        0.055005     0.036712\n",
       "min        0.237386     0.389866\n",
       "25%        0.336924     0.467298\n",
       "50%        0.370729     0.491725\n",
       "75%        0.403053     0.514961\n",
       "max        0.526388     0.589617"
      ]
     },
     "execution_count": 80,
     "metadata": {},
     "output_type": "execute_result"
    }
   ],
   "source": [
    "df_sample_res[['img_vec_mean', 'img_vec_std']].describe()"
   ]
  },
  {
   "cell_type": "code",
   "execution_count": 92,
   "id": "40c64fa5",
   "metadata": {},
   "outputs": [
    {
     "data": {
      "image/png": "[encoded data removed]",
      "text/plain": [
       "<Figure size 500x300 with 1 Axes>"
      ]
     },
     "metadata": {},
     "output_type": "display_data"
    }
   ],
   "source": [
    "plt.figure(figsize=[5,3])\n",
    "df_sample_res['img_vec_mean'].hist(bins=30)\n",
    "plt.title('Distribution of vector mean')\n",
    "plt.show()"
   ]
  },
  {
   "cell_type": "code",
   "execution_count": 93,
   "id": "895a7897",
   "metadata": {},
   "outputs": [
    {
     "data": {
      "image/png": "[encoded data removed]",
      "text/plain": [
       "<Figure size 500x300 with 1 Axes>"
      ]
     },
     "metadata": {},
     "output_type": "display_data"
    }
   ],
   "source": [
    "plt.figure(figsize=[5,3])\n",
    "df_sample_res['img_vec_std'].hist(bins=30)\n",
    "plt.title('Distribution of vector sd')\n",
    "plt.show()"
   ]
  },
  {
   "cell_type": "code",
   "execution_count": 94,
   "id": "b1112faa",
   "metadata": {},
   "outputs": [],
   "source": [
    "def cos_sim(v1, v2):\n",
    "    return np.dot(v1, v2) / (np.linalg.norm(v1) * np.linalg.norm(v2))"
   ]
  },
  {
   "cell_type": "code",
   "execution_count": 99,
   "id": "35d1e450",
   "metadata": {},
   "outputs": [
    {
     "data": {
      "text/plain": [
       "0.6890725"
      ]
     },
     "execution_count": 99,
     "metadata": {},
     "output_type": "execute_result"
    }
   ],
   "source": [
    "# 同じラベル間の類似度\n",
    "cos_sim(df_sample_res.loc[0,'img_vec'], df_sample_res.loc[1,'img_vec'])"
   ]
  },
  {
   "cell_type": "code",
   "execution_count": 103,
   "id": "5a1e7065",
   "metadata": {},
   "outputs": [
    {
     "data": {
      "text/plain": [
       "1.0"
      ]
     },
     "execution_count": 103,
     "metadata": {},
     "output_type": "execute_result"
    }
   ],
   "source": [
    "# 同じベクトル間の類似度\n",
    "cos_sim(df_sample_res.loc[0,'img_vec'], df_sample_res.loc[0,'img_vec'])"
   ]
  },
  {
   "cell_type": "code",
   "execution_count": 102,
   "id": "0115425c",
   "metadata": {},
   "outputs": [
    {
     "data": {
      "text/plain": [
       "0.64544976"
      ]
     },
     "execution_count": 102,
     "metadata": {},
     "output_type": "execute_result"
    }
   ],
   "source": [
    "# 異なったラベル間の類似度\n",
    "cos_sim(df_sample_res.loc[0,'img_vec'], df_sample_res.loc[40,'img_vec'])"
   ]
  },
  {
   "cell_type": "code",
   "execution_count": 104,
   "id": "c0badfe8",
   "metadata": {},
   "outputs": [
    {
     "data": {
      "text/html": [
       "<div>\n",
       "<style scoped>\n",
       "    .dataframe tbody tr th:only-of-type {\n",
       "        vertical-align: middle;\n",
       "    }\n",
       "\n",
       "    .dataframe tbody tr th {\n",
       "        vertical-align: top;\n",
       "    }\n",
       "\n",
       "    .dataframe thead th {\n",
       "        text-align: right;\n",
       "    }\n",
       "</style>\n",
       "<table border=\"1\" class=\"dataframe\">\n",
       "  <thead>\n",
       "    <tr style=\"text-align: right;\">\n",
       "      <th></th>\n",
       "      <th>image_id</th>\n",
       "      <th>label</th>\n",
       "      <th>fold</th>\n",
       "      <th>img_vec</th>\n",
       "      <th>img_vec_mean</th>\n",
       "      <th>img_vec_std</th>\n",
       "    </tr>\n",
       "  </thead>\n",
       "  <tbody>\n",
       "    <tr>\n",
       "      <th>0</th>\n",
       "      <td>0236_c3s1_049026_03.jpg</td>\n",
       "      <td>236</td>\n",
       "      <td>1</td>\n",
       "      <td>[0.8067361, 0.0, 0.026871651, 0.006253171, 0.2...</td>\n",
       "      <td>0.371834</td>\n",
       "      <td>0.496147</td>\n",
       "    </tr>\n",
       "    <tr>\n",
       "      <th>1</th>\n",
       "      <td>0236_c6s1_049551_01.jpg</td>\n",
       "      <td>236</td>\n",
       "      <td>3</td>\n",
       "      <td>[1.6495523, 0.0, 0.0, 0.052613728, 1.0676907, ...</td>\n",
       "      <td>0.326783</td>\n",
       "      <td>0.461197</td>\n",
       "    </tr>\n",
       "    <tr>\n",
       "      <th>2</th>\n",
       "      <td>0236_c3s1_048926_01.jpg</td>\n",
       "      <td>236</td>\n",
       "      <td>0</td>\n",
       "      <td>[0.9383191, 0.1786175, 0.032267198, 0.04041158...</td>\n",
       "      <td>0.449133</td>\n",
       "      <td>0.538712</td>\n",
       "    </tr>\n",
       "    <tr>\n",
       "      <th>3</th>\n",
       "      <td>0236_c2s1_048826_01.jpg</td>\n",
       "      <td>236</td>\n",
       "      <td>2</td>\n",
       "      <td>[0.762837, 0.007669583, 0.041190103, 0.0, 0.36...</td>\n",
       "      <td>0.294229</td>\n",
       "      <td>0.448629</td>\n",
       "    </tr>\n",
       "    <tr>\n",
       "      <th>4</th>\n",
       "      <td>0236_c6s1_049576_02.jpg</td>\n",
       "      <td>236</td>\n",
       "      <td>4</td>\n",
       "      <td>[0.7228075, 0.0, 0.03703361, 0.0, 0.06692165, ...</td>\n",
       "      <td>0.268997</td>\n",
       "      <td>0.423866</td>\n",
       "    </tr>\n",
       "  </tbody>\n",
       "</table>\n",
       "</div>"
      ],
      "text/plain": [
       "                  image_id  label  fold  \\\n",
       "0  0236_c3s1_049026_03.jpg    236     1   \n",
       "1  0236_c6s1_049551_01.jpg    236     3   \n",
       "2  0236_c3s1_048926_01.jpg    236     0   \n",
       "3  0236_c2s1_048826_01.jpg    236     2   \n",
       "4  0236_c6s1_049576_02.jpg    236     4   \n",
       "\n",
       "                                             img_vec  img_vec_mean  \\\n",
       "0  [0.8067361, 0.0, 0.026871651, 0.006253171, 0.2...      0.371834   \n",
       "1  [1.6495523, 0.0, 0.0, 0.052613728, 1.0676907, ...      0.326783   \n",
       "2  [0.9383191, 0.1786175, 0.032267198, 0.04041158...      0.449133   \n",
       "3  [0.762837, 0.007669583, 0.041190103, 0.0, 0.36...      0.294229   \n",
       "4  [0.7228075, 0.0, 0.03703361, 0.0, 0.06692165, ...      0.268997   \n",
       "\n",
       "   img_vec_std  \n",
       "0     0.496147  \n",
       "1     0.461197  \n",
       "2     0.538712  \n",
       "3     0.448629  \n",
       "4     0.423866  "
      ]
     },
     "execution_count": 104,
     "metadata": {},
     "output_type": "execute_result"
    }
   ],
   "source": [
    "df_sample_res.head()"
   ]
  },
  {
   "cell_type": "code",
   "execution_count": 128,
   "id": "8dc1b4ab",
   "metadata": {},
   "outputs": [],
   "source": [
    "# あるベクトルと各々の類似度\n",
    "idx = 10\n",
    "base_vac = df_sample_res.loc[idx,'img_vec']\n",
    "\n",
    "f = lambda x: cos_sim(base_vac, x)\n",
    "similarity = df_sample_res['img_vec'].apply(f)"
   ]
  },
  {
   "cell_type": "code",
   "execution_count": 129,
   "id": "2bf5454a",
   "metadata": {},
   "outputs": [
    {
     "data": {
      "text/plain": [
       "0      0.693230\n",
       "1      0.624437\n",
       "2      0.622240\n",
       "3      0.708603\n",
       "4      0.636942\n",
       "         ...   \n",
       "135    0.748197\n",
       "136    0.749703\n",
       "137    0.612705\n",
       "138    0.711297\n",
       "139    0.700057\n",
       "Name: img_vec, Length: 140, dtype: float32"
      ]
     },
     "execution_count": 129,
     "metadata": {},
     "output_type": "execute_result"
    }
   ],
   "source": [
    "similarity"
   ]
  },
  {
   "cell_type": "code",
   "execution_count": 130,
   "id": "0bb9a94c",
   "metadata": {},
   "outputs": [
    {
     "data": {
      "image/png": "[encoded data removed]",
      "text/plain": [
       "<Figure size 600x300 with 1 Axes>"
      ]
     },
     "metadata": {},
     "output_type": "display_data"
    }
   ],
   "source": [
    "plt.figure(figsize=[6,3])\n",
    "plt.plot(similarity)\n",
    "plt.title(f'Cosign similarity with data index {idx}')\n",
    "v_lines = [6.5+i*7 for i in range(df_sample_res['label'].nunique())]\n",
    "for l in v_lines:\n",
    "    plt.vlines(l, 0, 1, color='g', linestyles='dotted')\n",
    "\n",
    "# 縦線間が同じラベル"
   ]
  },
  {
   "cell_type": "code",
   "execution_count": null,
   "id": "53e6d3f2",
   "metadata": {},
   "outputs": [],
   "source": []
  }
 ],
 "metadata": {
  "kernelspec": {
   "display_name": "Python 3 (ipykernel)",
   "language": "python",
   "name": "python3"
  },
  "language_info": {
   "codemirror_mode": {
    "name": "ipython",
    "version": 3
   },
   "file_extension": ".py",
   "mimetype": "text/x-python",
   "name": "python",
   "nbconvert_exporter": "python",
   "pygments_lexer": "ipython3",
   "version": "3.8.13"
  }
 },
 "nbformat": 4,
 "nbformat_minor": 5
}
