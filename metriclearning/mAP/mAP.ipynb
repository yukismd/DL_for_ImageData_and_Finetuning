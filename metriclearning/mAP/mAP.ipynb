{
 "cells": [
  {
   "cell_type": "markdown",
   "id": "82560202",
   "metadata": {},
   "source": [
    "https://www.kaggle.com/code/sudeepshouche/map-calculation-use"
   ]
  },
  {
   "cell_type": "code",
   "execution_count": 3,
   "id": "a8e5f94f",
   "metadata": {},
   "outputs": [],
   "source": [
    "import numpy as np\n",
    "import pandas as pd"
   ]
  },
  {
   "cell_type": "code",
   "execution_count": 2,
   "id": "680ecb17",
   "metadata": {},
   "outputs": [],
   "source": [
    "def MeanAveragePrecision(predictions, retrieval_solution, max_predictions=100):\n",
    "    \"\"\"Computes mean average precision for retrieval prediction.\n",
    "    Args:\n",
    "        predictions: Dict mapping test image ID to a list of strings corresponding to index image IDs.\n",
    "        retrieval_solution: Dict mapping test image ID to list of ground-truth image IDs.\n",
    "        max_predictions: Maximum number of predictions per query to take into account. For the Google Landmark Retrieval challenge, this should be set to 100.\n",
    "    Returns:\n",
    "        mean_ap: Mean average precision score (float).\n",
    "    Raises:\n",
    "        ValueError: If a test image in `predictions` is not included in `retrieval_solutions`.\n",
    "    \"\"\"\n",
    "    # Compute number of test images.\n",
    "    num_test_images = len(retrieval_solution.keys())\n",
    "\n",
    "    # Loop over predictions for each query and compute mAP.\n",
    "    mean_ap = 0.0\n",
    "    for key, prediction in predictions.items():\n",
    "        if key not in retrieval_solution:\n",
    "            raise ValueError('Test image %s is not part of retrieval_solution' % key)\n",
    "\n",
    "        # Loop over predicted images, keeping track of those which were already\n",
    "        # used (duplicates are skipped).\n",
    "        ap = 0.0\n",
    "        already_predicted = set()\n",
    "        num_expected_retrieved = min(len(retrieval_solution[key]), max_predictions)\n",
    "        num_correct = 0\n",
    "        for i in range(min(len(prediction), max_predictions)):\n",
    "            if prediction[i] not in already_predicted:\n",
    "                if prediction[i] in retrieval_solution[key]:\n",
    "                    num_correct += 1\n",
    "                    ap += num_correct / (i + 1)\n",
    "                already_predicted.add(prediction[i])\n",
    "\n",
    "            ap /= num_expected_retrieved\n",
    "            mean_ap += ap\n",
    "\n",
    "        mean_ap /= num_test_images\n",
    "    return mean_ap"
   ]
  },
  {
   "cell_type": "code",
   "execution_count": null,
   "id": "a66cbaef",
   "metadata": {},
   "outputs": [],
   "source": []
  },
  {
   "cell_type": "code",
   "execution_count": 46,
   "id": "f6994d21",
   "metadata": {},
   "outputs": [
    {
     "data": {
      "text/plain": [
       "0.3723958333333333"
      ]
     },
     "execution_count": 46,
     "metadata": {},
     "output_type": "execute_result"
    }
   ],
   "source": [
    "# Get labels (landmark ids) from train file as dict\n",
    "labels = pd.read_csv('train.csv', index_col='id')['landmark_id'].to_dict()\n",
    "\n",
    "# Check for this image id\n",
    "# クエリ画像\n",
    "image_id = '0000059611c7d079'\n",
    "\n",
    "# Dict mapping test image ID to a list of predicted strings corresponding to index image IDs.\n",
    "# モデル予測の上位４画像。クエリ画像と同じカテゴリだと予測された画像\n",
    "predictions = {image_id:['111e3a18bf0e529d', '3f5f7f38ea4dca61', '6cebd3221270bcc3', 'fb09f1e98c6d2f70']}\n",
    "\n",
    "# Dict mapping test image ID to list of ground-truth image IDs.\n",
    "# image_idと同じカテゴリの画像（Train Data内）。要するに正解画像\n",
    "retrieval_solution = {image_id: [k for k,v in labels.items() if v == labels[image_id]]}\n",
    "\n",
    "map_score = MeanAveragePrecision(predictions, retrieval_solution, max_predictions=10)\n",
    "map_score"
   ]
  },
  {
   "cell_type": "code",
   "execution_count": 32,
   "id": "006122a5",
   "metadata": {},
   "outputs": [
    {
     "data": {
      "text/plain": [
       "{'0000059611c7d079': ['111e3a18bf0e529d',\n",
       "  '3f5f7f38ea4dca61',\n",
       "  '6cebd3221270bcc3',\n",
       "  'fb09f1e98c6d2f70']}"
      ]
     },
     "execution_count": 32,
     "metadata": {},
     "output_type": "execute_result"
    }
   ],
   "source": [
    "predictions"
   ]
  },
  {
   "cell_type": "code",
   "execution_count": 33,
   "id": "fa7baf78",
   "metadata": {},
   "outputs": [
    {
     "data": {
      "text/plain": [
       "{'0000059611c7d079': ['0000059611c7d079',\n",
       "  '2b3260b32c3c269a',\n",
       "  '3f5f7f38ea4dca61',\n",
       "  '6cebd3221270bcc3']}"
      ]
     },
     "execution_count": 33,
     "metadata": {},
     "output_type": "execute_result"
    }
   ],
   "source": [
    "retrieval_solution"
   ]
  },
  {
   "cell_type": "code",
   "execution_count": 39,
   "id": "fae66dc8",
   "metadata": {},
   "outputs": [
    {
     "data": {
      "text/plain": [
       "{'111e3a18bf0e529d', 'fb09f1e98c6d2f70'}"
      ]
     },
     "execution_count": 39,
     "metadata": {},
     "output_type": "execute_result"
    }
   ],
   "source": [
    "# 予測にあって正解にない画像\n",
    "set(predictions['0000059611c7d079']) -set(retrieval_solution['0000059611c7d079'])"
   ]
  },
  {
   "cell_type": "code",
   "execution_count": 41,
   "id": "58e37665",
   "metadata": {},
   "outputs": [
    {
     "data": {
      "text/plain": [
       "{'0000059611c7d079', '2b3260b32c3c269a'}"
      ]
     },
     "execution_count": 41,
     "metadata": {},
     "output_type": "execute_result"
    }
   ],
   "source": [
    "# 正解にあって予測にない画像\n",
    "set(retrieval_solution['0000059611c7d079']) -set(predictions['0000059611c7d079'])"
   ]
  },
  {
   "cell_type": "code",
   "execution_count": null,
   "id": "c001ef2b",
   "metadata": {},
   "outputs": [],
   "source": []
  },
  {
   "cell_type": "code",
   "execution_count": 112,
   "id": "6daae56a",
   "metadata": {},
   "outputs": [
    {
     "data": {
      "text/plain": [
       "0.9972565157750343"
      ]
     },
     "execution_count": 112,
     "metadata": {},
     "output_type": "execute_result"
    }
   ],
   "source": [
    "q = 'im-1'\n",
    "pred = {q:['im-11', 'im-12', 'im-13', 'im-14', 'im-15']}\n",
    "true = {q:['im-11', 'im-12', 'im-20']}\n",
    "MeanAveragePrecision(pred, true, max_predictions=10)"
   ]
  },
  {
   "cell_type": "code",
   "execution_count": 108,
   "id": "b973ccc6",
   "metadata": {},
   "outputs": [
    {
     "data": {
      "text/plain": [
       "0.7133333333333333"
      ]
     },
     "execution_count": 108,
     "metadata": {},
     "output_type": "execute_result"
    }
   ],
   "source": [
    "(1/1 + 2/2 + 2/3 + 2/4 + 2/5) / 5"
   ]
  },
  {
   "cell_type": "code",
   "execution_count": 101,
   "id": "665c53db",
   "metadata": {},
   "outputs": [
    {
     "data": {
      "text/plain": [
       "0.8888888888888888"
      ]
     },
     "execution_count": 101,
     "metadata": {},
     "output_type": "execute_result"
    }
   ],
   "source": [
    "(1/1 + 2/2 + 2/3) / 3"
   ]
  },
  {
   "cell_type": "code",
   "execution_count": 109,
   "id": "5cf3f89c",
   "metadata": {},
   "outputs": [
    {
     "data": {
      "text/plain": [
       "0.6666666666666666"
      ]
     },
     "execution_count": 109,
     "metadata": {},
     "output_type": "execute_result"
    }
   ],
   "source": [
    "(1/1 + 2/2) / 3"
   ]
  },
  {
   "cell_type": "code",
   "execution_count": null,
   "id": "848729a3",
   "metadata": {},
   "outputs": [],
   "source": []
  },
  {
   "cell_type": "code",
   "execution_count": 87,
   "id": "58daeb70",
   "metadata": {},
   "outputs": [
    {
     "data": {
      "text/plain": [
       "0.6650390625"
      ]
     },
     "execution_count": 87,
     "metadata": {},
     "output_type": "execute_result"
    }
   ],
   "source": [
    "q = 'im-1'\n",
    "pred = {q:['im-11', 'im-12', 'im-13', 'im-14', 'im-15']}\n",
    "true = {q:['im-11', 'im-12', 'im-20', 'im-30']}\n",
    "MeanAveragePrecision(pred, true, max_predictions=10)"
   ]
  },
  {
   "cell_type": "code",
   "execution_count": null,
   "id": "a426f260",
   "metadata": {},
   "outputs": [],
   "source": []
  },
  {
   "cell_type": "code",
   "execution_count": 104,
   "id": "a0e0113b",
   "metadata": {},
   "outputs": [
    {
     "data": {
      "text/plain": [
       "1.1917695473251029"
      ]
     },
     "execution_count": 104,
     "metadata": {},
     "output_type": "execute_result"
    }
   ],
   "source": [
    "q = 'im-1'\n",
    "pred = {q:['im-12', 'im-11', 'im-13', 'im-14', 'im-15']}\n",
    "true = {q:['im-11', 'im-12', 'im-20']}\n",
    "MeanAveragePrecision(pred, true, max_predictions=10)"
   ]
  },
  {
   "cell_type": "code",
   "execution_count": null,
   "id": "f5f3a1b9",
   "metadata": {},
   "outputs": [],
   "source": []
  },
  {
   "cell_type": "code",
   "execution_count": 105,
   "id": "e9a8661d",
   "metadata": {},
   "outputs": [
    {
     "data": {
      "text/plain": [
       "1.4732510288065843"
      ]
     },
     "execution_count": 105,
     "metadata": {},
     "output_type": "execute_result"
    }
   ],
   "source": [
    "q = 'im-1'\n",
    "pred = {q:['im-11', 'im-12', 'im-20', 'im-14', 'im-15']}\n",
    "true = {q:['im-11', 'im-12', 'im-20']}\n",
    "MeanAveragePrecision(pred, true, max_predictions=10)"
   ]
  },
  {
   "cell_type": "code",
   "execution_count": null,
   "id": "f73ca320",
   "metadata": {},
   "outputs": [],
   "source": []
  },
  {
   "cell_type": "code",
   "execution_count": 106,
   "id": "d2b291f0",
   "metadata": {},
   "outputs": [
    {
     "data": {
      "text/plain": [
       "1.1917695473251029"
      ]
     },
     "execution_count": 106,
     "metadata": {},
     "output_type": "execute_result"
    }
   ],
   "source": [
    "q = 'im-1'\n",
    "pred = {q:['im-11', 'im-12', 'im-13', 'im-14', 'im-20']}\n",
    "true = {q:['im-11', 'im-12', 'im-20']}\n",
    "MeanAveragePrecision(pred, true, max_predictions=10)"
   ]
  },
  {
   "cell_type": "code",
   "execution_count": null,
   "id": "6d79b86d",
   "metadata": {},
   "outputs": [],
   "source": []
  },
  {
   "cell_type": "code",
   "execution_count": 89,
   "id": "c742ba0a",
   "metadata": {},
   "outputs": [
    {
     "data": {
      "text/plain": [
       "0.6312757201646091"
      ]
     },
     "execution_count": 89,
     "metadata": {},
     "output_type": "execute_result"
    }
   ],
   "source": [
    "q = 'im-1'\n",
    "pred = {q:['im-12', 'im-13', 'im-14', 'im-15', 'im-11']}\n",
    "true = {q:['im-11', 'im-12', 'im-20']}\n",
    "MeanAveragePrecision(pred, true, max_predictions=10)"
   ]
  },
  {
   "cell_type": "code",
   "execution_count": 90,
   "id": "72bfa40b",
   "metadata": {},
   "outputs": [
    {
     "data": {
      "text/plain": [
       "0.6312757201646091"
      ]
     },
     "execution_count": 90,
     "metadata": {},
     "output_type": "execute_result"
    }
   ],
   "source": [
    "q = 'im-1'\n",
    "pred = {q:['im-12', 'im-13', 'im-14', 'im-15', 'im-11']}\n",
    "true = {q:['im-20', 'im-11', 'im-12']}\n",
    "MeanAveragePrecision(pred, true, max_predictions=10)"
   ]
  },
  {
   "cell_type": "code",
   "execution_count": null,
   "id": "e44f4bcf",
   "metadata": {},
   "outputs": [],
   "source": []
  }
 ],
 "metadata": {
  "kernelspec": {
   "display_name": "Python 3 (ipykernel)",
   "language": "python",
   "name": "python3"
  },
  "language_info": {
   "codemirror_mode": {
    "name": "ipython",
    "version": 3
   },
   "file_extension": ".py",
   "mimetype": "text/x-python",
   "name": "python",
   "nbconvert_exporter": "python",
   "pygments_lexer": "ipython3",
   "version": "3.8.13"
  }
 },
 "nbformat": 4,
 "nbformat_minor": 5
}
