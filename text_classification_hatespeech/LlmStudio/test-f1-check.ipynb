{
 "cells": [
  {
   "cell_type": "code",
   "execution_count": null,
   "id": "8f9a12c8",
   "metadata": {},
   "outputs": [],
   "source": []
  },
  {
   "cell_type": "code",
   "execution_count": 8,
   "id": "0ddbecfb",
   "metadata": {},
   "outputs": [],
   "source": [
    "import pandas as pd\n",
    "from sklearn.metrics import accuracy_score, f1_score\n",
    "\n",
    "import os"
   ]
  },
  {
   "cell_type": "code",
   "execution_count": 3,
   "id": "5a48f8df",
   "metadata": {},
   "outputs": [
    {
     "name": "stdout",
     "output_type": "stream",
     "text": [
      "\u001b[34mpreds_HS-Rinna\u001b[m\u001b[m                         \u001b[34mpreds_HS-Rinna_Lr5e-4\u001b[m\u001b[m\r\n",
      "\u001b[34mpreds_HS-Rinna.1\u001b[m\u001b[m                       \u001b[34mpreds_HS-Rinna_Lr5e-4.1\u001b[m\u001b[m\r\n",
      "\u001b[34mpreds_HS-Rinna_Batch32\u001b[m\u001b[m                 \u001b[34mpreds_HS-Rinna_Lr5e-4_Batch32\u001b[m\u001b[m\r\n",
      "\u001b[34mpreds_HS-Rinna_Batch32.1\u001b[m\u001b[m               \u001b[34mpreds_HS-Rinna_Lr5e-4_Batch32.1\u001b[m\u001b[m\r\n",
      "\u001b[34mpreds_HS-Rinna_Batch32_Epoch2\u001b[m\u001b[m          \u001b[34mpreds_HS-Rinna_Lr5e-4_Batch32_Epoch2\u001b[m\u001b[m\r\n",
      "\u001b[34mpreds_HS-Rinna_Batch32_Epoch2.1\u001b[m\u001b[m        \u001b[34mpreds_HS-Rinna_Lr5e-4_Batch32_Epoch2.1\u001b[m\u001b[m\r\n",
      "\u001b[34mpreds_HS-Rinna_Epoch2\u001b[m\u001b[m                  \u001b[34mpreds_HS-Rinna_Lr5e-4_Epoch2\u001b[m\u001b[m\r\n",
      "\u001b[34mpreds_HS-Rinna_Epoch2.1\u001b[m\u001b[m                \u001b[34mpreds_HS-Rinna_Lr5e-4_Epoch2.1\u001b[m\u001b[m\r\n"
     ]
    }
   ],
   "source": [
    "!ls tmp/rinnna"
   ]
  },
  {
   "cell_type": "code",
   "execution_count": 14,
   "id": "c1fcdf22",
   "metadata": {},
   "outputs": [
    {
     "name": "stdout",
     "output_type": "stream",
     "text": [
      "validation_predictions.csv     validation_raw_predictions.pkl\r\n"
     ]
    }
   ],
   "source": [
    "!ls tmp/rinna/preds_HS-Rinna"
   ]
  },
  {
   "cell_type": "code",
   "execution_count": 15,
   "id": "abd57f04",
   "metadata": {},
   "outputs": [],
   "source": [
    "res_dir = ['preds_HS-Rinna',\n",
    "'preds_HS-Rinna_Lr5e-4',\n",
    "'preds_HS-Rinna_Batch32',\n",
    "'preds_HS-Rinna_Lr5e-4_Batch32',\n",
    "'preds_HS-Rinna_Epoch2',\n",
    "'preds_HS-Rinna_Lr5e-4_Epoch2',\n",
    "'preds_HS-Rinna_Batch32_Epoch2',\n",
    "'preds_HS-Rinna_Lr5e-4_Batch32_Epoch2']"
   ]
  },
  {
   "cell_type": "code",
   "execution_count": 16,
   "id": "cd1c092a",
   "metadata": {},
   "outputs": [
    {
     "data": {
      "text/plain": [
       "['tmp/rinna/preds_HS-Rinna/validation_predictions.csv',\n",
       " 'tmp/rinna/preds_HS-Rinna_Lr5e-4/validation_predictions.csv',\n",
       " 'tmp/rinna/preds_HS-Rinna_Batch32/validation_predictions.csv',\n",
       " 'tmp/rinna/preds_HS-Rinna_Lr5e-4_Batch32/validation_predictions.csv',\n",
       " 'tmp/rinna/preds_HS-Rinna_Epoch2/validation_predictions.csv',\n",
       " 'tmp/rinna/preds_HS-Rinna_Lr5e-4_Epoch2/validation_predictions.csv',\n",
       " 'tmp/rinna/preds_HS-Rinna_Batch32_Epoch2/validation_predictions.csv',\n",
       " 'tmp/rinna/preds_HS-Rinna_Lr5e-4_Batch32_Epoch2/validation_predictions.csv']"
      ]
     },
     "execution_count": 16,
     "metadata": {},
     "output_type": "execute_result"
    }
   ],
   "source": [
    "f_names = [os.path.join('tmp', 'rinna', f, 'validation_predictions.csv') for f in res_dir]\n",
    "f_names"
   ]
  },
  {
   "cell_type": "code",
   "execution_count": 20,
   "id": "e9b5bc2f",
   "metadata": {
    "scrolled": false
   },
   "outputs": [
    {
     "name": "stdout",
     "output_type": "stream",
     "text": [
      "tmp/rinna/preds_HS-Rinna/validation_predictions.csv\n",
      "(600, 5)\n"
     ]
    },
    {
     "data": {
      "text/html": [
       "<div>\n",
       "<style scoped>\n",
       "    .dataframe tbody tr th:only-of-type {\n",
       "        vertical-align: middle;\n",
       "    }\n",
       "\n",
       "    .dataframe tbody tr th {\n",
       "        vertical-align: top;\n",
       "    }\n",
       "\n",
       "    .dataframe thead th {\n",
       "        text-align: right;\n",
       "    }\n",
       "</style>\n",
       "<table border=\"1\" class=\"dataframe\">\n",
       "  <thead>\n",
       "    <tr style=\"text-align: right;\">\n",
       "      <th>pred_label</th>\n",
       "      <th>0</th>\n",
       "      <th>1</th>\n",
       "    </tr>\n",
       "    <tr>\n",
       "      <th>label</th>\n",
       "      <th></th>\n",
       "      <th></th>\n",
       "    </tr>\n",
       "  </thead>\n",
       "  <tbody>\n",
       "    <tr>\n",
       "      <th>0</th>\n",
       "      <td>551</td>\n",
       "      <td>14</td>\n",
       "    </tr>\n",
       "    <tr>\n",
       "      <th>1</th>\n",
       "      <td>8</td>\n",
       "      <td>27</td>\n",
       "    </tr>\n",
       "  </tbody>\n",
       "</table>\n",
       "</div>"
      ],
      "text/plain": [
       "pred_label    0   1\n",
       "label              \n",
       "0           551  14\n",
       "1             8  27"
      ]
     },
     "metadata": {},
     "output_type": "display_data"
    },
    {
     "name": "stdout",
     "output_type": "stream",
     "text": [
      "Accuracy: 0.9633333333333334,  F1: 0.7105263157894737\n",
      "----------------------------\n",
      "\n",
      "tmp/rinna/preds_HS-Rinna_Lr5e-4/validation_predictions.csv\n",
      "(600, 5)\n"
     ]
    },
    {
     "data": {
      "text/html": [
       "<div>\n",
       "<style scoped>\n",
       "    .dataframe tbody tr th:only-of-type {\n",
       "        vertical-align: middle;\n",
       "    }\n",
       "\n",
       "    .dataframe tbody tr th {\n",
       "        vertical-align: top;\n",
       "    }\n",
       "\n",
       "    .dataframe thead th {\n",
       "        text-align: right;\n",
       "    }\n",
       "</style>\n",
       "<table border=\"1\" class=\"dataframe\">\n",
       "  <thead>\n",
       "    <tr style=\"text-align: right;\">\n",
       "      <th>pred_label</th>\n",
       "      <th>0</th>\n",
       "      <th>1</th>\n",
       "    </tr>\n",
       "    <tr>\n",
       "      <th>label</th>\n",
       "      <th></th>\n",
       "      <th></th>\n",
       "    </tr>\n",
       "  </thead>\n",
       "  <tbody>\n",
       "    <tr>\n",
       "      <th>0</th>\n",
       "      <td>559</td>\n",
       "      <td>6</td>\n",
       "    </tr>\n",
       "    <tr>\n",
       "      <th>1</th>\n",
       "      <td>11</td>\n",
       "      <td>24</td>\n",
       "    </tr>\n",
       "  </tbody>\n",
       "</table>\n",
       "</div>"
      ],
      "text/plain": [
       "pred_label    0   1\n",
       "label              \n",
       "0           559   6\n",
       "1            11  24"
      ]
     },
     "metadata": {},
     "output_type": "display_data"
    },
    {
     "name": "stdout",
     "output_type": "stream",
     "text": [
      "Accuracy: 0.9716666666666667,  F1: 0.7384615384615385\n",
      "----------------------------\n",
      "\n",
      "tmp/rinna/preds_HS-Rinna_Batch32/validation_predictions.csv\n",
      "(600, 5)\n"
     ]
    },
    {
     "data": {
      "text/html": [
       "<div>\n",
       "<style scoped>\n",
       "    .dataframe tbody tr th:only-of-type {\n",
       "        vertical-align: middle;\n",
       "    }\n",
       "\n",
       "    .dataframe tbody tr th {\n",
       "        vertical-align: top;\n",
       "    }\n",
       "\n",
       "    .dataframe thead th {\n",
       "        text-align: right;\n",
       "    }\n",
       "</style>\n",
       "<table border=\"1\" class=\"dataframe\">\n",
       "  <thead>\n",
       "    <tr style=\"text-align: right;\">\n",
       "      <th>pred_label</th>\n",
       "      <th>0</th>\n",
       "      <th>1</th>\n",
       "    </tr>\n",
       "    <tr>\n",
       "      <th>label</th>\n",
       "      <th></th>\n",
       "      <th></th>\n",
       "    </tr>\n",
       "  </thead>\n",
       "  <tbody>\n",
       "    <tr>\n",
       "      <th>0</th>\n",
       "      <td>551</td>\n",
       "      <td>14</td>\n",
       "    </tr>\n",
       "    <tr>\n",
       "      <th>1</th>\n",
       "      <td>10</td>\n",
       "      <td>25</td>\n",
       "    </tr>\n",
       "  </tbody>\n",
       "</table>\n",
       "</div>"
      ],
      "text/plain": [
       "pred_label    0   1\n",
       "label              \n",
       "0           551  14\n",
       "1            10  25"
      ]
     },
     "metadata": {},
     "output_type": "display_data"
    },
    {
     "name": "stdout",
     "output_type": "stream",
     "text": [
      "Accuracy: 0.96,  F1: 0.6756756756756757\n",
      "----------------------------\n",
      "\n",
      "tmp/rinna/preds_HS-Rinna_Lr5e-4_Batch32/validation_predictions.csv\n",
      "(600, 5)\n"
     ]
    },
    {
     "data": {
      "text/html": [
       "<div>\n",
       "<style scoped>\n",
       "    .dataframe tbody tr th:only-of-type {\n",
       "        vertical-align: middle;\n",
       "    }\n",
       "\n",
       "    .dataframe tbody tr th {\n",
       "        vertical-align: top;\n",
       "    }\n",
       "\n",
       "    .dataframe thead th {\n",
       "        text-align: right;\n",
       "    }\n",
       "</style>\n",
       "<table border=\"1\" class=\"dataframe\">\n",
       "  <thead>\n",
       "    <tr style=\"text-align: right;\">\n",
       "      <th>pred_label</th>\n",
       "      <th>0</th>\n",
       "      <th>1</th>\n",
       "    </tr>\n",
       "    <tr>\n",
       "      <th>label</th>\n",
       "      <th></th>\n",
       "      <th></th>\n",
       "    </tr>\n",
       "  </thead>\n",
       "  <tbody>\n",
       "    <tr>\n",
       "      <th>0</th>\n",
       "      <td>560</td>\n",
       "      <td>5</td>\n",
       "    </tr>\n",
       "    <tr>\n",
       "      <th>1</th>\n",
       "      <td>11</td>\n",
       "      <td>24</td>\n",
       "    </tr>\n",
       "  </tbody>\n",
       "</table>\n",
       "</div>"
      ],
      "text/plain": [
       "pred_label    0   1\n",
       "label              \n",
       "0           560   5\n",
       "1            11  24"
      ]
     },
     "metadata": {},
     "output_type": "display_data"
    },
    {
     "name": "stdout",
     "output_type": "stream",
     "text": [
      "Accuracy: 0.9733333333333334,  F1: 0.75\n",
      "----------------------------\n",
      "\n",
      "tmp/rinna/preds_HS-Rinna_Epoch2/validation_predictions.csv\n",
      "(600, 5)\n"
     ]
    },
    {
     "data": {
      "text/html": [
       "<div>\n",
       "<style scoped>\n",
       "    .dataframe tbody tr th:only-of-type {\n",
       "        vertical-align: middle;\n",
       "    }\n",
       "\n",
       "    .dataframe tbody tr th {\n",
       "        vertical-align: top;\n",
       "    }\n",
       "\n",
       "    .dataframe thead th {\n",
       "        text-align: right;\n",
       "    }\n",
       "</style>\n",
       "<table border=\"1\" class=\"dataframe\">\n",
       "  <thead>\n",
       "    <tr style=\"text-align: right;\">\n",
       "      <th>pred_label</th>\n",
       "      <th>0</th>\n",
       "      <th>1</th>\n",
       "    </tr>\n",
       "    <tr>\n",
       "      <th>label</th>\n",
       "      <th></th>\n",
       "      <th></th>\n",
       "    </tr>\n",
       "  </thead>\n",
       "  <tbody>\n",
       "    <tr>\n",
       "      <th>0</th>\n",
       "      <td>560</td>\n",
       "      <td>5</td>\n",
       "    </tr>\n",
       "    <tr>\n",
       "      <th>1</th>\n",
       "      <td>10</td>\n",
       "      <td>25</td>\n",
       "    </tr>\n",
       "  </tbody>\n",
       "</table>\n",
       "</div>"
      ],
      "text/plain": [
       "pred_label    0   1\n",
       "label              \n",
       "0           560   5\n",
       "1            10  25"
      ]
     },
     "metadata": {},
     "output_type": "display_data"
    },
    {
     "name": "stdout",
     "output_type": "stream",
     "text": [
      "Accuracy: 0.975,  F1: 0.7692307692307692\n",
      "----------------------------\n",
      "\n",
      "tmp/rinna/preds_HS-Rinna_Lr5e-4_Epoch2/validation_predictions.csv\n",
      "(600, 5)\n"
     ]
    },
    {
     "data": {
      "text/html": [
       "<div>\n",
       "<style scoped>\n",
       "    .dataframe tbody tr th:only-of-type {\n",
       "        vertical-align: middle;\n",
       "    }\n",
       "\n",
       "    .dataframe tbody tr th {\n",
       "        vertical-align: top;\n",
       "    }\n",
       "\n",
       "    .dataframe thead th {\n",
       "        text-align: right;\n",
       "    }\n",
       "</style>\n",
       "<table border=\"1\" class=\"dataframe\">\n",
       "  <thead>\n",
       "    <tr style=\"text-align: right;\">\n",
       "      <th>pred_label</th>\n",
       "      <th>0</th>\n",
       "      <th>1</th>\n",
       "    </tr>\n",
       "    <tr>\n",
       "      <th>label</th>\n",
       "      <th></th>\n",
       "      <th></th>\n",
       "    </tr>\n",
       "  </thead>\n",
       "  <tbody>\n",
       "    <tr>\n",
       "      <th>0</th>\n",
       "      <td>561</td>\n",
       "      <td>4</td>\n",
       "    </tr>\n",
       "    <tr>\n",
       "      <th>1</th>\n",
       "      <td>13</td>\n",
       "      <td>22</td>\n",
       "    </tr>\n",
       "  </tbody>\n",
       "</table>\n",
       "</div>"
      ],
      "text/plain": [
       "pred_label    0   1\n",
       "label              \n",
       "0           561   4\n",
       "1            13  22"
      ]
     },
     "metadata": {},
     "output_type": "display_data"
    },
    {
     "name": "stdout",
     "output_type": "stream",
     "text": [
      "Accuracy: 0.9716666666666667,  F1: 0.721311475409836\n",
      "----------------------------\n",
      "\n",
      "tmp/rinna/preds_HS-Rinna_Batch32_Epoch2/validation_predictions.csv\n",
      "(600, 5)\n"
     ]
    },
    {
     "data": {
      "text/html": [
       "<div>\n",
       "<style scoped>\n",
       "    .dataframe tbody tr th:only-of-type {\n",
       "        vertical-align: middle;\n",
       "    }\n",
       "\n",
       "    .dataframe tbody tr th {\n",
       "        vertical-align: top;\n",
       "    }\n",
       "\n",
       "    .dataframe thead th {\n",
       "        text-align: right;\n",
       "    }\n",
       "</style>\n",
       "<table border=\"1\" class=\"dataframe\">\n",
       "  <thead>\n",
       "    <tr style=\"text-align: right;\">\n",
       "      <th>pred_label</th>\n",
       "      <th>0</th>\n",
       "      <th>1</th>\n",
       "    </tr>\n",
       "    <tr>\n",
       "      <th>label</th>\n",
       "      <th></th>\n",
       "      <th></th>\n",
       "    </tr>\n",
       "  </thead>\n",
       "  <tbody>\n",
       "    <tr>\n",
       "      <th>0</th>\n",
       "      <td>557</td>\n",
       "      <td>8</td>\n",
       "    </tr>\n",
       "    <tr>\n",
       "      <th>1</th>\n",
       "      <td>9</td>\n",
       "      <td>26</td>\n",
       "    </tr>\n",
       "  </tbody>\n",
       "</table>\n",
       "</div>"
      ],
      "text/plain": [
       "pred_label    0   1\n",
       "label              \n",
       "0           557   8\n",
       "1             9  26"
      ]
     },
     "metadata": {},
     "output_type": "display_data"
    },
    {
     "name": "stdout",
     "output_type": "stream",
     "text": [
      "Accuracy: 0.9716666666666667,  F1: 0.7536231884057971\n",
      "----------------------------\n",
      "\n",
      "tmp/rinna/preds_HS-Rinna_Lr5e-4_Batch32_Epoch2/validation_predictions.csv\n",
      "(600, 5)\n"
     ]
    },
    {
     "data": {
      "text/html": [
       "<div>\n",
       "<style scoped>\n",
       "    .dataframe tbody tr th:only-of-type {\n",
       "        vertical-align: middle;\n",
       "    }\n",
       "\n",
       "    .dataframe tbody tr th {\n",
       "        vertical-align: top;\n",
       "    }\n",
       "\n",
       "    .dataframe thead th {\n",
       "        text-align: right;\n",
       "    }\n",
       "</style>\n",
       "<table border=\"1\" class=\"dataframe\">\n",
       "  <thead>\n",
       "    <tr style=\"text-align: right;\">\n",
       "      <th>pred_label</th>\n",
       "      <th>0</th>\n",
       "      <th>1</th>\n",
       "    </tr>\n",
       "    <tr>\n",
       "      <th>label</th>\n",
       "      <th></th>\n",
       "      <th></th>\n",
       "    </tr>\n",
       "  </thead>\n",
       "  <tbody>\n",
       "    <tr>\n",
       "      <th>0</th>\n",
       "      <td>560</td>\n",
       "      <td>5</td>\n",
       "    </tr>\n",
       "    <tr>\n",
       "      <th>1</th>\n",
       "      <td>12</td>\n",
       "      <td>23</td>\n",
       "    </tr>\n",
       "  </tbody>\n",
       "</table>\n",
       "</div>"
      ],
      "text/plain": [
       "pred_label    0   1\n",
       "label              \n",
       "0           560   5\n",
       "1            12  23"
      ]
     },
     "metadata": {},
     "output_type": "display_data"
    },
    {
     "name": "stdout",
     "output_type": "stream",
     "text": [
      "Accuracy: 0.9716666666666667,  F1: 0.73015873015873\n",
      "----------------------------\n",
      "\n"
     ]
    }
   ],
   "source": [
    "for f in f_names:\n",
    "    print(f)\n",
    "    df = pd.read_csv(f)\n",
    "    print(df.shape)\n",
    "    display(pd.crosstab(df['label'], df['pred_label']))\n",
    "    print('Accuracy: {},  F1: {}'.format(accuracy_score(df['label'], df['pred_label']), f1_score(df['label'], df['pred_label'])))\n",
    "    print('----------------------------\\n')"
   ]
  },
  {
   "cell_type": "code",
   "execution_count": null,
   "id": "148601c1",
   "metadata": {},
   "outputs": [],
   "source": []
  }
 ],
 "metadata": {
  "kernelspec": {
   "display_name": "Python 3 (ipykernel)",
   "language": "python",
   "name": "python3"
  },
  "language_info": {
   "codemirror_mode": {
    "name": "ipython",
    "version": 3
   },
   "file_extension": ".py",
   "mimetype": "text/x-python",
   "name": "python",
   "nbconvert_exporter": "python",
   "pygments_lexer": "ipython3",
   "version": "3.8.13"
  }
 },
 "nbformat": 4,
 "nbformat_minor": 5
}
