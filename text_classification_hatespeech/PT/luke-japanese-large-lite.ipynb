{
  "nbformat": 4,
  "nbformat_minor": 0,
  "metadata": {
    "colab": {
      "provenance": [],
      "gpuType": "T4",
      "authorship_tag": "ABX9TyMEPEUuLNrX481t0ENWgPql",
      "include_colab_link": true
    },
    "kernelspec": {
      "name": "python3",
      "display_name": "Python 3"
    },
    "language_info": {
      "name": "python"
    },
    "widgets": {
      "application/vnd.jupyter.widget-state+json": {
        "453a97cdcb9e46a89019a406ba879ddf": {
          "model_module": "@jupyter-widgets/controls",
          "model_name": "HBoxModel",
          "model_module_version": "1.5.0",
          "state": {
            "_dom_classes": [],
            "_model_module": "@jupyter-widgets/controls",
            "_model_module_version": "1.5.0",
            "_model_name": "HBoxModel",
            "_view_count": null,
            "_view_module": "@jupyter-widgets/controls",
            "_view_module_version": "1.5.0",
            "_view_name": "HBoxView",
            "box_style": "",
            "children": [
              "IPY_MODEL_e0eb9271018e4e5a9a3c1ca9be36136a",
              "IPY_MODEL_7fc9ac48ca1146d18b604b5340dbb33f",
              "IPY_MODEL_ac5c7c6803dc4ec5a5043bea0516cb7e"
            ],
            "layout": "IPY_MODEL_fe668c9a7f3b44e7ae321b5d83d50563"
          }
        },
        "e0eb9271018e4e5a9a3c1ca9be36136a": {
          "model_module": "@jupyter-widgets/controls",
          "model_name": "HTMLModel",
          "model_module_version": "1.5.0",
          "state": {
            "_dom_classes": [],
            "_model_module": "@jupyter-widgets/controls",
            "_model_module_version": "1.5.0",
            "_model_name": "HTMLModel",
            "_view_count": null,
            "_view_module": "@jupyter-widgets/controls",
            "_view_module_version": "1.5.0",
            "_view_name": "HTMLView",
            "description": "",
            "description_tooltip": null,
            "layout": "IPY_MODEL_fd92f8dbfda848129f63943d2652eff1",
            "placeholder": "​",
            "style": "IPY_MODEL_83aa0ae6c02b41ff9673e097143eba15",
            "value": "tokenizer_config.json: 100%"
          }
        },
        "7fc9ac48ca1146d18b604b5340dbb33f": {
          "model_module": "@jupyter-widgets/controls",
          "model_name": "FloatProgressModel",
          "model_module_version": "1.5.0",
          "state": {
            "_dom_classes": [],
            "_model_module": "@jupyter-widgets/controls",
            "_model_module_version": "1.5.0",
            "_model_name": "FloatProgressModel",
            "_view_count": null,
            "_view_module": "@jupyter-widgets/controls",
            "_view_module_version": "1.5.0",
            "_view_name": "ProgressView",
            "bar_style": "success",
            "description": "",
            "description_tooltip": null,
            "layout": "IPY_MODEL_de853fb7a82b4f18b752678911984e17",
            "max": 1246,
            "min": 0,
            "orientation": "horizontal",
            "style": "IPY_MODEL_fb9fa38c0154463a979a772dd1a5ce8c",
            "value": 1246
          }
        },
        "ac5c7c6803dc4ec5a5043bea0516cb7e": {
          "model_module": "@jupyter-widgets/controls",
          "model_name": "HTMLModel",
          "model_module_version": "1.5.0",
          "state": {
            "_dom_classes": [],
            "_model_module": "@jupyter-widgets/controls",
            "_model_module_version": "1.5.0",
            "_model_name": "HTMLModel",
            "_view_count": null,
            "_view_module": "@jupyter-widgets/controls",
            "_view_module_version": "1.5.0",
            "_view_name": "HTMLView",
            "description": "",
            "description_tooltip": null,
            "layout": "IPY_MODEL_a979f131c0d1442bb970b327c17bef27",
            "placeholder": "​",
            "style": "IPY_MODEL_6ccf7e1f5dd84d4abfe45500ba011a88",
            "value": " 1.25k/1.25k [00:00&lt;00:00, 56.7kB/s]"
          }
        },
        "fe668c9a7f3b44e7ae321b5d83d50563": {
          "model_module": "@jupyter-widgets/base",
          "model_name": "LayoutModel",
          "model_module_version": "1.2.0",
          "state": {
            "_model_module": "@jupyter-widgets/base",
            "_model_module_version": "1.2.0",
            "_model_name": "LayoutModel",
            "_view_count": null,
            "_view_module": "@jupyter-widgets/base",
            "_view_module_version": "1.2.0",
            "_view_name": "LayoutView",
            "align_content": null,
            "align_items": null,
            "align_self": null,
            "border": null,
            "bottom": null,
            "display": null,
            "flex": null,
            "flex_flow": null,
            "grid_area": null,
            "grid_auto_columns": null,
            "grid_auto_flow": null,
            "grid_auto_rows": null,
            "grid_column": null,
            "grid_gap": null,
            "grid_row": null,
            "grid_template_areas": null,
            "grid_template_columns": null,
            "grid_template_rows": null,
            "height": null,
            "justify_content": null,
            "justify_items": null,
            "left": null,
            "margin": null,
            "max_height": null,
            "max_width": null,
            "min_height": null,
            "min_width": null,
            "object_fit": null,
            "object_position": null,
            "order": null,
            "overflow": null,
            "overflow_x": null,
            "overflow_y": null,
            "padding": null,
            "right": null,
            "top": null,
            "visibility": null,
            "width": null
          }
        },
        "fd92f8dbfda848129f63943d2652eff1": {
          "model_module": "@jupyter-widgets/base",
          "model_name": "LayoutModel",
          "model_module_version": "1.2.0",
          "state": {
            "_model_module": "@jupyter-widgets/base",
            "_model_module_version": "1.2.0",
            "_model_name": "LayoutModel",
            "_view_count": null,
            "_view_module": "@jupyter-widgets/base",
            "_view_module_version": "1.2.0",
            "_view_name": "LayoutView",
            "align_content": null,
            "align_items": null,
            "align_self": null,
            "border": null,
            "bottom": null,
            "display": null,
            "flex": null,
            "flex_flow": null,
            "grid_area": null,
            "grid_auto_columns": null,
            "grid_auto_flow": null,
            "grid_auto_rows": null,
            "grid_column": null,
            "grid_gap": null,
            "grid_row": null,
            "grid_template_areas": null,
            "grid_template_columns": null,
            "grid_template_rows": null,
            "height": null,
            "justify_content": null,
            "justify_items": null,
            "left": null,
            "margin": null,
            "max_height": null,
            "max_width": null,
            "min_height": null,
            "min_width": null,
            "object_fit": null,
            "object_position": null,
            "order": null,
            "overflow": null,
            "overflow_x": null,
            "overflow_y": null,
            "padding": null,
            "right": null,
            "top": null,
            "visibility": null,
            "width": null
          }
        },
        "83aa0ae6c02b41ff9673e097143eba15": {
          "model_module": "@jupyter-widgets/controls",
          "model_name": "DescriptionStyleModel",
          "model_module_version": "1.5.0",
          "state": {
            "_model_module": "@jupyter-widgets/controls",
            "_model_module_version": "1.5.0",
            "_model_name": "DescriptionStyleModel",
            "_view_count": null,
            "_view_module": "@jupyter-widgets/base",
            "_view_module_version": "1.2.0",
            "_view_name": "StyleView",
            "description_width": ""
          }
        },
        "de853fb7a82b4f18b752678911984e17": {
          "model_module": "@jupyter-widgets/base",
          "model_name": "LayoutModel",
          "model_module_version": "1.2.0",
          "state": {
            "_model_module": "@jupyter-widgets/base",
            "_model_module_version": "1.2.0",
            "_model_name": "LayoutModel",
            "_view_count": null,
            "_view_module": "@jupyter-widgets/base",
            "_view_module_version": "1.2.0",
            "_view_name": "LayoutView",
            "align_content": null,
            "align_items": null,
            "align_self": null,
            "border": null,
            "bottom": null,
            "display": null,
            "flex": null,
            "flex_flow": null,
            "grid_area": null,
            "grid_auto_columns": null,
            "grid_auto_flow": null,
            "grid_auto_rows": null,
            "grid_column": null,
            "grid_gap": null,
            "grid_row": null,
            "grid_template_areas": null,
            "grid_template_columns": null,
            "grid_template_rows": null,
            "height": null,
            "justify_content": null,
            "justify_items": null,
            "left": null,
            "margin": null,
            "max_height": null,
            "max_width": null,
            "min_height": null,
            "min_width": null,
            "object_fit": null,
            "object_position": null,
            "order": null,
            "overflow": null,
            "overflow_x": null,
            "overflow_y": null,
            "padding": null,
            "right": null,
            "top": null,
            "visibility": null,
            "width": null
          }
        },
        "fb9fa38c0154463a979a772dd1a5ce8c": {
          "model_module": "@jupyter-widgets/controls",
          "model_name": "ProgressStyleModel",
          "model_module_version": "1.5.0",
          "state": {
            "_model_module": "@jupyter-widgets/controls",
            "_model_module_version": "1.5.0",
            "_model_name": "ProgressStyleModel",
            "_view_count": null,
            "_view_module": "@jupyter-widgets/base",
            "_view_module_version": "1.2.0",
            "_view_name": "StyleView",
            "bar_color": null,
            "description_width": ""
          }
        },
        "a979f131c0d1442bb970b327c17bef27": {
          "model_module": "@jupyter-widgets/base",
          "model_name": "LayoutModel",
          "model_module_version": "1.2.0",
          "state": {
            "_model_module": "@jupyter-widgets/base",
            "_model_module_version": "1.2.0",
            "_model_name": "LayoutModel",
            "_view_count": null,
            "_view_module": "@jupyter-widgets/base",
            "_view_module_version": "1.2.0",
            "_view_name": "LayoutView",
            "align_content": null,
            "align_items": null,
            "align_self": null,
            "border": null,
            "bottom": null,
            "display": null,
            "flex": null,
            "flex_flow": null,
            "grid_area": null,
            "grid_auto_columns": null,
            "grid_auto_flow": null,
            "grid_auto_rows": null,
            "grid_column": null,
            "grid_gap": null,
            "grid_row": null,
            "grid_template_areas": null,
            "grid_template_columns": null,
            "grid_template_rows": null,
            "height": null,
            "justify_content": null,
            "justify_items": null,
            "left": null,
            "margin": null,
            "max_height": null,
            "max_width": null,
            "min_height": null,
            "min_width": null,
            "object_fit": null,
            "object_position": null,
            "order": null,
            "overflow": null,
            "overflow_x": null,
            "overflow_y": null,
            "padding": null,
            "right": null,
            "top": null,
            "visibility": null,
            "width": null
          }
        },
        "6ccf7e1f5dd84d4abfe45500ba011a88": {
          "model_module": "@jupyter-widgets/controls",
          "model_name": "DescriptionStyleModel",
          "model_module_version": "1.5.0",
          "state": {
            "_model_module": "@jupyter-widgets/controls",
            "_model_module_version": "1.5.0",
            "_model_name": "DescriptionStyleModel",
            "_view_count": null,
            "_view_module": "@jupyter-widgets/base",
            "_view_module_version": "1.2.0",
            "_view_name": "StyleView",
            "description_width": ""
          }
        },
        "ab40e1693422471ba0d5fb93fb6e62cc": {
          "model_module": "@jupyter-widgets/controls",
          "model_name": "HBoxModel",
          "model_module_version": "1.5.0",
          "state": {
            "_dom_classes": [],
            "_model_module": "@jupyter-widgets/controls",
            "_model_module_version": "1.5.0",
            "_model_name": "HBoxModel",
            "_view_count": null,
            "_view_module": "@jupyter-widgets/controls",
            "_view_module_version": "1.5.0",
            "_view_name": "HBoxView",
            "box_style": "",
            "children": [
              "IPY_MODEL_827b649091c4403cbfa420ece4a5a230",
              "IPY_MODEL_f29b7db81e514b9997d658ab29d7a0a3",
              "IPY_MODEL_4cbbcc3e2aa74cf49c69335102edb012"
            ],
            "layout": "IPY_MODEL_6c9fb9341f2942fb928b48bdee3e260d"
          }
        },
        "827b649091c4403cbfa420ece4a5a230": {
          "model_module": "@jupyter-widgets/controls",
          "model_name": "HTMLModel",
          "model_module_version": "1.5.0",
          "state": {
            "_dom_classes": [],
            "_model_module": "@jupyter-widgets/controls",
            "_model_module_version": "1.5.0",
            "_model_name": "HTMLModel",
            "_view_count": null,
            "_view_module": "@jupyter-widgets/controls",
            "_view_module_version": "1.5.0",
            "_view_name": "HTMLView",
            "description": "",
            "description_tooltip": null,
            "layout": "IPY_MODEL_343f8f414bb24fbeae287f295fbb4033",
            "placeholder": "​",
            "style": "IPY_MODEL_89de99abe0434ff9bd16a4152bdf6ff5",
            "value": "sentencepiece.bpe.model: 100%"
          }
        },
        "f29b7db81e514b9997d658ab29d7a0a3": {
          "model_module": "@jupyter-widgets/controls",
          "model_name": "FloatProgressModel",
          "model_module_version": "1.5.0",
          "state": {
            "_dom_classes": [],
            "_model_module": "@jupyter-widgets/controls",
            "_model_module_version": "1.5.0",
            "_model_name": "FloatProgressModel",
            "_view_count": null,
            "_view_module": "@jupyter-widgets/controls",
            "_view_module_version": "1.5.0",
            "_view_name": "ProgressView",
            "bar_style": "success",
            "description": "",
            "description_tooltip": null,
            "layout": "IPY_MODEL_52c5606a745a4a079110f1d92919131e",
            "max": 841889,
            "min": 0,
            "orientation": "horizontal",
            "style": "IPY_MODEL_650d320d076b4354808f3779848657a3",
            "value": 841889
          }
        },
        "4cbbcc3e2aa74cf49c69335102edb012": {
          "model_module": "@jupyter-widgets/controls",
          "model_name": "HTMLModel",
          "model_module_version": "1.5.0",
          "state": {
            "_dom_classes": [],
            "_model_module": "@jupyter-widgets/controls",
            "_model_module_version": "1.5.0",
            "_model_name": "HTMLModel",
            "_view_count": null,
            "_view_module": "@jupyter-widgets/controls",
            "_view_module_version": "1.5.0",
            "_view_name": "HTMLView",
            "description": "",
            "description_tooltip": null,
            "layout": "IPY_MODEL_990d920c07a54a16947864d14ac69eba",
            "placeholder": "​",
            "style": "IPY_MODEL_be5d4629f442415f93e71f096fb41b1d",
            "value": " 842k/842k [00:00&lt;00:00, 2.68MB/s]"
          }
        },
        "6c9fb9341f2942fb928b48bdee3e260d": {
          "model_module": "@jupyter-widgets/base",
          "model_name": "LayoutModel",
          "model_module_version": "1.2.0",
          "state": {
            "_model_module": "@jupyter-widgets/base",
            "_model_module_version": "1.2.0",
            "_model_name": "LayoutModel",
            "_view_count": null,
            "_view_module": "@jupyter-widgets/base",
            "_view_module_version": "1.2.0",
            "_view_name": "LayoutView",
            "align_content": null,
            "align_items": null,
            "align_self": null,
            "border": null,
            "bottom": null,
            "display": null,
            "flex": null,
            "flex_flow": null,
            "grid_area": null,
            "grid_auto_columns": null,
            "grid_auto_flow": null,
            "grid_auto_rows": null,
            "grid_column": null,
            "grid_gap": null,
            "grid_row": null,
            "grid_template_areas": null,
            "grid_template_columns": null,
            "grid_template_rows": null,
            "height": null,
            "justify_content": null,
            "justify_items": null,
            "left": null,
            "margin": null,
            "max_height": null,
            "max_width": null,
            "min_height": null,
            "min_width": null,
            "object_fit": null,
            "object_position": null,
            "order": null,
            "overflow": null,
            "overflow_x": null,
            "overflow_y": null,
            "padding": null,
            "right": null,
            "top": null,
            "visibility": null,
            "width": null
          }
        },
        "343f8f414bb24fbeae287f295fbb4033": {
          "model_module": "@jupyter-widgets/base",
          "model_name": "LayoutModel",
          "model_module_version": "1.2.0",
          "state": {
            "_model_module": "@jupyter-widgets/base",
            "_model_module_version": "1.2.0",
            "_model_name": "LayoutModel",
            "_view_count": null,
            "_view_module": "@jupyter-widgets/base",
            "_view_module_version": "1.2.0",
            "_view_name": "LayoutView",
            "align_content": null,
            "align_items": null,
            "align_self": null,
            "border": null,
            "bottom": null,
            "display": null,
            "flex": null,
            "flex_flow": null,
            "grid_area": null,
            "grid_auto_columns": null,
            "grid_auto_flow": null,
            "grid_auto_rows": null,
            "grid_column": null,
            "grid_gap": null,
            "grid_row": null,
            "grid_template_areas": null,
            "grid_template_columns": null,
            "grid_template_rows": null,
            "height": null,
            "justify_content": null,
            "justify_items": null,
            "left": null,
            "margin": null,
            "max_height": null,
            "max_width": null,
            "min_height": null,
            "min_width": null,
            "object_fit": null,
            "object_position": null,
            "order": null,
            "overflow": null,
            "overflow_x": null,
            "overflow_y": null,
            "padding": null,
            "right": null,
            "top": null,
            "visibility": null,
            "width": null
          }
        },
        "89de99abe0434ff9bd16a4152bdf6ff5": {
          "model_module": "@jupyter-widgets/controls",
          "model_name": "DescriptionStyleModel",
          "model_module_version": "1.5.0",
          "state": {
            "_model_module": "@jupyter-widgets/controls",
            "_model_module_version": "1.5.0",
            "_model_name": "DescriptionStyleModel",
            "_view_count": null,
            "_view_module": "@jupyter-widgets/base",
            "_view_module_version": "1.2.0",
            "_view_name": "StyleView",
            "description_width": ""
          }
        },
        "52c5606a745a4a079110f1d92919131e": {
          "model_module": "@jupyter-widgets/base",
          "model_name": "LayoutModel",
          "model_module_version": "1.2.0",
          "state": {
            "_model_module": "@jupyter-widgets/base",
            "_model_module_version": "1.2.0",
            "_model_name": "LayoutModel",
            "_view_count": null,
            "_view_module": "@jupyter-widgets/base",
            "_view_module_version": "1.2.0",
            "_view_name": "LayoutView",
            "align_content": null,
            "align_items": null,
            "align_self": null,
            "border": null,
            "bottom": null,
            "display": null,
            "flex": null,
            "flex_flow": null,
            "grid_area": null,
            "grid_auto_columns": null,
            "grid_auto_flow": null,
            "grid_auto_rows": null,
            "grid_column": null,
            "grid_gap": null,
            "grid_row": null,
            "grid_template_areas": null,
            "grid_template_columns": null,
            "grid_template_rows": null,
            "height": null,
            "justify_content": null,
            "justify_items": null,
            "left": null,
            "margin": null,
            "max_height": null,
            "max_width": null,
            "min_height": null,
            "min_width": null,
            "object_fit": null,
            "object_position": null,
            "order": null,
            "overflow": null,
            "overflow_x": null,
            "overflow_y": null,
            "padding": null,
            "right": null,
            "top": null,
            "visibility": null,
            "width": null
          }
        },
        "650d320d076b4354808f3779848657a3": {
          "model_module": "@jupyter-widgets/controls",
          "model_name": "ProgressStyleModel",
          "model_module_version": "1.5.0",
          "state": {
            "_model_module": "@jupyter-widgets/controls",
            "_model_module_version": "1.5.0",
            "_model_name": "ProgressStyleModel",
            "_view_count": null,
            "_view_module": "@jupyter-widgets/base",
            "_view_module_version": "1.2.0",
            "_view_name": "StyleView",
            "bar_color": null,
            "description_width": ""
          }
        },
        "990d920c07a54a16947864d14ac69eba": {
          "model_module": "@jupyter-widgets/base",
          "model_name": "LayoutModel",
          "model_module_version": "1.2.0",
          "state": {
            "_model_module": "@jupyter-widgets/base",
            "_model_module_version": "1.2.0",
            "_model_name": "LayoutModel",
            "_view_count": null,
            "_view_module": "@jupyter-widgets/base",
            "_view_module_version": "1.2.0",
            "_view_name": "LayoutView",
            "align_content": null,
            "align_items": null,
            "align_self": null,
            "border": null,
            "bottom": null,
            "display": null,
            "flex": null,
            "flex_flow": null,
            "grid_area": null,
            "grid_auto_columns": null,
            "grid_auto_flow": null,
            "grid_auto_rows": null,
            "grid_column": null,
            "grid_gap": null,
            "grid_row": null,
            "grid_template_areas": null,
            "grid_template_columns": null,
            "grid_template_rows": null,
            "height": null,
            "justify_content": null,
            "justify_items": null,
            "left": null,
            "margin": null,
            "max_height": null,
            "max_width": null,
            "min_height": null,
            "min_width": null,
            "object_fit": null,
            "object_position": null,
            "order": null,
            "overflow": null,
            "overflow_x": null,
            "overflow_y": null,
            "padding": null,
            "right": null,
            "top": null,
            "visibility": null,
            "width": null
          }
        },
        "be5d4629f442415f93e71f096fb41b1d": {
          "model_module": "@jupyter-widgets/controls",
          "model_name": "DescriptionStyleModel",
          "model_module_version": "1.5.0",
          "state": {
            "_model_module": "@jupyter-widgets/controls",
            "_model_module_version": "1.5.0",
            "_model_name": "DescriptionStyleModel",
            "_view_count": null,
            "_view_module": "@jupyter-widgets/base",
            "_view_module_version": "1.2.0",
            "_view_name": "StyleView",
            "description_width": ""
          }
        },
        "8a0e60f6e1a543bf94e3f80abd99ba40": {
          "model_module": "@jupyter-widgets/controls",
          "model_name": "HBoxModel",
          "model_module_version": "1.5.0",
          "state": {
            "_dom_classes": [],
            "_model_module": "@jupyter-widgets/controls",
            "_model_module_version": "1.5.0",
            "_model_name": "HBoxModel",
            "_view_count": null,
            "_view_module": "@jupyter-widgets/controls",
            "_view_module_version": "1.5.0",
            "_view_name": "HBoxView",
            "box_style": "",
            "children": [
              "IPY_MODEL_bc25e2bf9b844eae8f86f1b081adc6fe",
              "IPY_MODEL_34148d27f10147399cab89c41d5ec7ed",
              "IPY_MODEL_8b0ac86a25f54c8ca03d94f219b93859"
            ],
            "layout": "IPY_MODEL_aeb64953326044e3b7d086b648d2b6e0"
          }
        },
        "bc25e2bf9b844eae8f86f1b081adc6fe": {
          "model_module": "@jupyter-widgets/controls",
          "model_name": "HTMLModel",
          "model_module_version": "1.5.0",
          "state": {
            "_dom_classes": [],
            "_model_module": "@jupyter-widgets/controls",
            "_model_module_version": "1.5.0",
            "_model_name": "HTMLModel",
            "_view_count": null,
            "_view_module": "@jupyter-widgets/controls",
            "_view_module_version": "1.5.0",
            "_view_name": "HTMLView",
            "description": "",
            "description_tooltip": null,
            "layout": "IPY_MODEL_ff68ea2c237c492e92e6ac7a03243250",
            "placeholder": "​",
            "style": "IPY_MODEL_c68a6e3e60dd4ad886873d20cee9f43a",
            "value": "entity_vocab.json: 100%"
          }
        },
        "34148d27f10147399cab89c41d5ec7ed": {
          "model_module": "@jupyter-widgets/controls",
          "model_name": "FloatProgressModel",
          "model_module_version": "1.5.0",
          "state": {
            "_dom_classes": [],
            "_model_module": "@jupyter-widgets/controls",
            "_model_module_version": "1.5.0",
            "_model_name": "FloatProgressModel",
            "_view_count": null,
            "_view_module": "@jupyter-widgets/controls",
            "_view_module_version": "1.5.0",
            "_view_name": "ProgressView",
            "bar_style": "success",
            "description": "",
            "description_tooltip": null,
            "layout": "IPY_MODEL_3dc2628c2d9c4dc78a3743fdac115319",
            "max": 51,
            "min": 0,
            "orientation": "horizontal",
            "style": "IPY_MODEL_f5c08410f2a2454c9f4c7a7e2d609420",
            "value": 51
          }
        },
        "8b0ac86a25f54c8ca03d94f219b93859": {
          "model_module": "@jupyter-widgets/controls",
          "model_name": "HTMLModel",
          "model_module_version": "1.5.0",
          "state": {
            "_dom_classes": [],
            "_model_module": "@jupyter-widgets/controls",
            "_model_module_version": "1.5.0",
            "_model_name": "HTMLModel",
            "_view_count": null,
            "_view_module": "@jupyter-widgets/controls",
            "_view_module_version": "1.5.0",
            "_view_name": "HTMLView",
            "description": "",
            "description_tooltip": null,
            "layout": "IPY_MODEL_f06150737eef4838881b236f1fbb3548",
            "placeholder": "​",
            "style": "IPY_MODEL_3ecbf23c4e894304a6dfb7bcb3220984",
            "value": " 51.0/51.0 [00:00&lt;00:00, 3.83kB/s]"
          }
        },
        "aeb64953326044e3b7d086b648d2b6e0": {
          "model_module": "@jupyter-widgets/base",
          "model_name": "LayoutModel",
          "model_module_version": "1.2.0",
          "state": {
            "_model_module": "@jupyter-widgets/base",
            "_model_module_version": "1.2.0",
            "_model_name": "LayoutModel",
            "_view_count": null,
            "_view_module": "@jupyter-widgets/base",
            "_view_module_version": "1.2.0",
            "_view_name": "LayoutView",
            "align_content": null,
            "align_items": null,
            "align_self": null,
            "border": null,
            "bottom": null,
            "display": null,
            "flex": null,
            "flex_flow": null,
            "grid_area": null,
            "grid_auto_columns": null,
            "grid_auto_flow": null,
            "grid_auto_rows": null,
            "grid_column": null,
            "grid_gap": null,
            "grid_row": null,
            "grid_template_areas": null,
            "grid_template_columns": null,
            "grid_template_rows": null,
            "height": null,
            "justify_content": null,
            "justify_items": null,
            "left": null,
            "margin": null,
            "max_height": null,
            "max_width": null,
            "min_height": null,
            "min_width": null,
            "object_fit": null,
            "object_position": null,
            "order": null,
            "overflow": null,
            "overflow_x": null,
            "overflow_y": null,
            "padding": null,
            "right": null,
            "top": null,
            "visibility": null,
            "width": null
          }
        },
        "ff68ea2c237c492e92e6ac7a03243250": {
          "model_module": "@jupyter-widgets/base",
          "model_name": "LayoutModel",
          "model_module_version": "1.2.0",
          "state": {
            "_model_module": "@jupyter-widgets/base",
            "_model_module_version": "1.2.0",
            "_model_name": "LayoutModel",
            "_view_count": null,
            "_view_module": "@jupyter-widgets/base",
            "_view_module_version": "1.2.0",
            "_view_name": "LayoutView",
            "align_content": null,
            "align_items": null,
            "align_self": null,
            "border": null,
            "bottom": null,
            "display": null,
            "flex": null,
            "flex_flow": null,
            "grid_area": null,
            "grid_auto_columns": null,
            "grid_auto_flow": null,
            "grid_auto_rows": null,
            "grid_column": null,
            "grid_gap": null,
            "grid_row": null,
            "grid_template_areas": null,
            "grid_template_columns": null,
            "grid_template_rows": null,
            "height": null,
            "justify_content": null,
            "justify_items": null,
            "left": null,
            "margin": null,
            "max_height": null,
            "max_width": null,
            "min_height": null,
            "min_width": null,
            "object_fit": null,
            "object_position": null,
            "order": null,
            "overflow": null,
            "overflow_x": null,
            "overflow_y": null,
            "padding": null,
            "right": null,
            "top": null,
            "visibility": null,
            "width": null
          }
        },
        "c68a6e3e60dd4ad886873d20cee9f43a": {
          "model_module": "@jupyter-widgets/controls",
          "model_name": "DescriptionStyleModel",
          "model_module_version": "1.5.0",
          "state": {
            "_model_module": "@jupyter-widgets/controls",
            "_model_module_version": "1.5.0",
            "_model_name": "DescriptionStyleModel",
            "_view_count": null,
            "_view_module": "@jupyter-widgets/base",
            "_view_module_version": "1.2.0",
            "_view_name": "StyleView",
            "description_width": ""
          }
        },
        "3dc2628c2d9c4dc78a3743fdac115319": {
          "model_module": "@jupyter-widgets/base",
          "model_name": "LayoutModel",
          "model_module_version": "1.2.0",
          "state": {
            "_model_module": "@jupyter-widgets/base",
            "_model_module_version": "1.2.0",
            "_model_name": "LayoutModel",
            "_view_count": null,
            "_view_module": "@jupyter-widgets/base",
            "_view_module_version": "1.2.0",
            "_view_name": "LayoutView",
            "align_content": null,
            "align_items": null,
            "align_self": null,
            "border": null,
            "bottom": null,
            "display": null,
            "flex": null,
            "flex_flow": null,
            "grid_area": null,
            "grid_auto_columns": null,
            "grid_auto_flow": null,
            "grid_auto_rows": null,
            "grid_column": null,
            "grid_gap": null,
            "grid_row": null,
            "grid_template_areas": null,
            "grid_template_columns": null,
            "grid_template_rows": null,
            "height": null,
            "justify_content": null,
            "justify_items": null,
            "left": null,
            "margin": null,
            "max_height": null,
            "max_width": null,
            "min_height": null,
            "min_width": null,
            "object_fit": null,
            "object_position": null,
            "order": null,
            "overflow": null,
            "overflow_x": null,
            "overflow_y": null,
            "padding": null,
            "right": null,
            "top": null,
            "visibility": null,
            "width": null
          }
        },
        "f5c08410f2a2454c9f4c7a7e2d609420": {
          "model_module": "@jupyter-widgets/controls",
          "model_name": "ProgressStyleModel",
          "model_module_version": "1.5.0",
          "state": {
            "_model_module": "@jupyter-widgets/controls",
            "_model_module_version": "1.5.0",
            "_model_name": "ProgressStyleModel",
            "_view_count": null,
            "_view_module": "@jupyter-widgets/base",
            "_view_module_version": "1.2.0",
            "_view_name": "StyleView",
            "bar_color": null,
            "description_width": ""
          }
        },
        "f06150737eef4838881b236f1fbb3548": {
          "model_module": "@jupyter-widgets/base",
          "model_name": "LayoutModel",
          "model_module_version": "1.2.0",
          "state": {
            "_model_module": "@jupyter-widgets/base",
            "_model_module_version": "1.2.0",
            "_model_name": "LayoutModel",
            "_view_count": null,
            "_view_module": "@jupyter-widgets/base",
            "_view_module_version": "1.2.0",
            "_view_name": "LayoutView",
            "align_content": null,
            "align_items": null,
            "align_self": null,
            "border": null,
            "bottom": null,
            "display": null,
            "flex": null,
            "flex_flow": null,
            "grid_area": null,
            "grid_auto_columns": null,
            "grid_auto_flow": null,
            "grid_auto_rows": null,
            "grid_column": null,
            "grid_gap": null,
            "grid_row": null,
            "grid_template_areas": null,
            "grid_template_columns": null,
            "grid_template_rows": null,
            "height": null,
            "justify_content": null,
            "justify_items": null,
            "left": null,
            "margin": null,
            "max_height": null,
            "max_width": null,
            "min_height": null,
            "min_width": null,
            "object_fit": null,
            "object_position": null,
            "order": null,
            "overflow": null,
            "overflow_x": null,
            "overflow_y": null,
            "padding": null,
            "right": null,
            "top": null,
            "visibility": null,
            "width": null
          }
        },
        "3ecbf23c4e894304a6dfb7bcb3220984": {
          "model_module": "@jupyter-widgets/controls",
          "model_name": "DescriptionStyleModel",
          "model_module_version": "1.5.0",
          "state": {
            "_model_module": "@jupyter-widgets/controls",
            "_model_module_version": "1.5.0",
            "_model_name": "DescriptionStyleModel",
            "_view_count": null,
            "_view_module": "@jupyter-widgets/base",
            "_view_module_version": "1.2.0",
            "_view_name": "StyleView",
            "description_width": ""
          }
        },
        "4da5b4e0d1f94345bdecd7f3c823d451": {
          "model_module": "@jupyter-widgets/controls",
          "model_name": "HBoxModel",
          "model_module_version": "1.5.0",
          "state": {
            "_dom_classes": [],
            "_model_module": "@jupyter-widgets/controls",
            "_model_module_version": "1.5.0",
            "_model_name": "HBoxModel",
            "_view_count": null,
            "_view_module": "@jupyter-widgets/controls",
            "_view_module_version": "1.5.0",
            "_view_name": "HBoxView",
            "box_style": "",
            "children": [
              "IPY_MODEL_c1e1efde651f4969be869f0743027684",
              "IPY_MODEL_85895b25463248629024f77222674328",
              "IPY_MODEL_63fc9e62cf03402f9cde738f4f68491c"
            ],
            "layout": "IPY_MODEL_7982df30bf014a96a6f7251dd8481cc9"
          }
        },
        "c1e1efde651f4969be869f0743027684": {
          "model_module": "@jupyter-widgets/controls",
          "model_name": "HTMLModel",
          "model_module_version": "1.5.0",
          "state": {
            "_dom_classes": [],
            "_model_module": "@jupyter-widgets/controls",
            "_model_module_version": "1.5.0",
            "_model_name": "HTMLModel",
            "_view_count": null,
            "_view_module": "@jupyter-widgets/controls",
            "_view_module_version": "1.5.0",
            "_view_name": "HTMLView",
            "description": "",
            "description_tooltip": null,
            "layout": "IPY_MODEL_67f613ad879947799025a905b9d660d4",
            "placeholder": "​",
            "style": "IPY_MODEL_3d9e56f9d1f54196baa60f9ef17f858d",
            "value": "added_tokens.json: 100%"
          }
        },
        "85895b25463248629024f77222674328": {
          "model_module": "@jupyter-widgets/controls",
          "model_name": "FloatProgressModel",
          "model_module_version": "1.5.0",
          "state": {
            "_dom_classes": [],
            "_model_module": "@jupyter-widgets/controls",
            "_model_module_version": "1.5.0",
            "_model_name": "FloatProgressModel",
            "_view_count": null,
            "_view_module": "@jupyter-widgets/controls",
            "_view_module_version": "1.5.0",
            "_view_name": "ProgressView",
            "bar_style": "success",
            "description": "",
            "description_tooltip": null,
            "layout": "IPY_MODEL_f085b70ee880435cb4d46e665c0a81bf",
            "max": 33,
            "min": 0,
            "orientation": "horizontal",
            "style": "IPY_MODEL_75d293d7e7de44a6b29a8fe66a9fa2f1",
            "value": 33
          }
        },
        "63fc9e62cf03402f9cde738f4f68491c": {
          "model_module": "@jupyter-widgets/controls",
          "model_name": "HTMLModel",
          "model_module_version": "1.5.0",
          "state": {
            "_dom_classes": [],
            "_model_module": "@jupyter-widgets/controls",
            "_model_module_version": "1.5.0",
            "_model_name": "HTMLModel",
            "_view_count": null,
            "_view_module": "@jupyter-widgets/controls",
            "_view_module_version": "1.5.0",
            "_view_name": "HTMLView",
            "description": "",
            "description_tooltip": null,
            "layout": "IPY_MODEL_1b0c6e5c39824bf290808017458b6b6e",
            "placeholder": "​",
            "style": "IPY_MODEL_294382c2ba0142aa9d8d25bc67b413ec",
            "value": " 33.0/33.0 [00:00&lt;00:00, 2.78kB/s]"
          }
        },
        "7982df30bf014a96a6f7251dd8481cc9": {
          "model_module": "@jupyter-widgets/base",
          "model_name": "LayoutModel",
          "model_module_version": "1.2.0",
          "state": {
            "_model_module": "@jupyter-widgets/base",
            "_model_module_version": "1.2.0",
            "_model_name": "LayoutModel",
            "_view_count": null,
            "_view_module": "@jupyter-widgets/base",
            "_view_module_version": "1.2.0",
            "_view_name": "LayoutView",
            "align_content": null,
            "align_items": null,
            "align_self": null,
            "border": null,
            "bottom": null,
            "display": null,
            "flex": null,
            "flex_flow": null,
            "grid_area": null,
            "grid_auto_columns": null,
            "grid_auto_flow": null,
            "grid_auto_rows": null,
            "grid_column": null,
            "grid_gap": null,
            "grid_row": null,
            "grid_template_areas": null,
            "grid_template_columns": null,
            "grid_template_rows": null,
            "height": null,
            "justify_content": null,
            "justify_items": null,
            "left": null,
            "margin": null,
            "max_height": null,
            "max_width": null,
            "min_height": null,
            "min_width": null,
            "object_fit": null,
            "object_position": null,
            "order": null,
            "overflow": null,
            "overflow_x": null,
            "overflow_y": null,
            "padding": null,
            "right": null,
            "top": null,
            "visibility": null,
            "width": null
          }
        },
        "67f613ad879947799025a905b9d660d4": {
          "model_module": "@jupyter-widgets/base",
          "model_name": "LayoutModel",
          "model_module_version": "1.2.0",
          "state": {
            "_model_module": "@jupyter-widgets/base",
            "_model_module_version": "1.2.0",
            "_model_name": "LayoutModel",
            "_view_count": null,
            "_view_module": "@jupyter-widgets/base",
            "_view_module_version": "1.2.0",
            "_view_name": "LayoutView",
            "align_content": null,
            "align_items": null,
            "align_self": null,
            "border": null,
            "bottom": null,
            "display": null,
            "flex": null,
            "flex_flow": null,
            "grid_area": null,
            "grid_auto_columns": null,
            "grid_auto_flow": null,
            "grid_auto_rows": null,
            "grid_column": null,
            "grid_gap": null,
            "grid_row": null,
            "grid_template_areas": null,
            "grid_template_columns": null,
            "grid_template_rows": null,
            "height": null,
            "justify_content": null,
            "justify_items": null,
            "left": null,
            "margin": null,
            "max_height": null,
            "max_width": null,
            "min_height": null,
            "min_width": null,
            "object_fit": null,
            "object_position": null,
            "order": null,
            "overflow": null,
            "overflow_x": null,
            "overflow_y": null,
            "padding": null,
            "right": null,
            "top": null,
            "visibility": null,
            "width": null
          }
        },
        "3d9e56f9d1f54196baa60f9ef17f858d": {
          "model_module": "@jupyter-widgets/controls",
          "model_name": "DescriptionStyleModel",
          "model_module_version": "1.5.0",
          "state": {
            "_model_module": "@jupyter-widgets/controls",
            "_model_module_version": "1.5.0",
            "_model_name": "DescriptionStyleModel",
            "_view_count": null,
            "_view_module": "@jupyter-widgets/base",
            "_view_module_version": "1.2.0",
            "_view_name": "StyleView",
            "description_width": ""
          }
        },
        "f085b70ee880435cb4d46e665c0a81bf": {
          "model_module": "@jupyter-widgets/base",
          "model_name": "LayoutModel",
          "model_module_version": "1.2.0",
          "state": {
            "_model_module": "@jupyter-widgets/base",
            "_model_module_version": "1.2.0",
            "_model_name": "LayoutModel",
            "_view_count": null,
            "_view_module": "@jupyter-widgets/base",
            "_view_module_version": "1.2.0",
            "_view_name": "LayoutView",
            "align_content": null,
            "align_items": null,
            "align_self": null,
            "border": null,
            "bottom": null,
            "display": null,
            "flex": null,
            "flex_flow": null,
            "grid_area": null,
            "grid_auto_columns": null,
            "grid_auto_flow": null,
            "grid_auto_rows": null,
            "grid_column": null,
            "grid_gap": null,
            "grid_row": null,
            "grid_template_areas": null,
            "grid_template_columns": null,
            "grid_template_rows": null,
            "height": null,
            "justify_content": null,
            "justify_items": null,
            "left": null,
            "margin": null,
            "max_height": null,
            "max_width": null,
            "min_height": null,
            "min_width": null,
            "object_fit": null,
            "object_position": null,
            "order": null,
            "overflow": null,
            "overflow_x": null,
            "overflow_y": null,
            "padding": null,
            "right": null,
            "top": null,
            "visibility": null,
            "width": null
          }
        },
        "75d293d7e7de44a6b29a8fe66a9fa2f1": {
          "model_module": "@jupyter-widgets/controls",
          "model_name": "ProgressStyleModel",
          "model_module_version": "1.5.0",
          "state": {
            "_model_module": "@jupyter-widgets/controls",
            "_model_module_version": "1.5.0",
            "_model_name": "ProgressStyleModel",
            "_view_count": null,
            "_view_module": "@jupyter-widgets/base",
            "_view_module_version": "1.2.0",
            "_view_name": "StyleView",
            "bar_color": null,
            "description_width": ""
          }
        },
        "1b0c6e5c39824bf290808017458b6b6e": {
          "model_module": "@jupyter-widgets/base",
          "model_name": "LayoutModel",
          "model_module_version": "1.2.0",
          "state": {
            "_model_module": "@jupyter-widgets/base",
            "_model_module_version": "1.2.0",
            "_model_name": "LayoutModel",
            "_view_count": null,
            "_view_module": "@jupyter-widgets/base",
            "_view_module_version": "1.2.0",
            "_view_name": "LayoutView",
            "align_content": null,
            "align_items": null,
            "align_self": null,
            "border": null,
            "bottom": null,
            "display": null,
            "flex": null,
            "flex_flow": null,
            "grid_area": null,
            "grid_auto_columns": null,
            "grid_auto_flow": null,
            "grid_auto_rows": null,
            "grid_column": null,
            "grid_gap": null,
            "grid_row": null,
            "grid_template_areas": null,
            "grid_template_columns": null,
            "grid_template_rows": null,
            "height": null,
            "justify_content": null,
            "justify_items": null,
            "left": null,
            "margin": null,
            "max_height": null,
            "max_width": null,
            "min_height": null,
            "min_width": null,
            "object_fit": null,
            "object_position": null,
            "order": null,
            "overflow": null,
            "overflow_x": null,
            "overflow_y": null,
            "padding": null,
            "right": null,
            "top": null,
            "visibility": null,
            "width": null
          }
        },
        "294382c2ba0142aa9d8d25bc67b413ec": {
          "model_module": "@jupyter-widgets/controls",
          "model_name": "DescriptionStyleModel",
          "model_module_version": "1.5.0",
          "state": {
            "_model_module": "@jupyter-widgets/controls",
            "_model_module_version": "1.5.0",
            "_model_name": "DescriptionStyleModel",
            "_view_count": null,
            "_view_module": "@jupyter-widgets/base",
            "_view_module_version": "1.2.0",
            "_view_name": "StyleView",
            "description_width": ""
          }
        },
        "51014eea286e4f4eacadbc238a2964d7": {
          "model_module": "@jupyter-widgets/controls",
          "model_name": "HBoxModel",
          "model_module_version": "1.5.0",
          "state": {
            "_dom_classes": [],
            "_model_module": "@jupyter-widgets/controls",
            "_model_module_version": "1.5.0",
            "_model_name": "HBoxModel",
            "_view_count": null,
            "_view_module": "@jupyter-widgets/controls",
            "_view_module_version": "1.5.0",
            "_view_name": "HBoxView",
            "box_style": "",
            "children": [
              "IPY_MODEL_d9be34d6869f4fb48813adcf9fde0bf5",
              "IPY_MODEL_a1df4fab7f9043eca5dae275f645a707",
              "IPY_MODEL_07f0f47197ee45df82a28f5c88cfb876"
            ],
            "layout": "IPY_MODEL_78f41ef317d44626b0ba780b2e5efea6"
          }
        },
        "d9be34d6869f4fb48813adcf9fde0bf5": {
          "model_module": "@jupyter-widgets/controls",
          "model_name": "HTMLModel",
          "model_module_version": "1.5.0",
          "state": {
            "_dom_classes": [],
            "_model_module": "@jupyter-widgets/controls",
            "_model_module_version": "1.5.0",
            "_model_name": "HTMLModel",
            "_view_count": null,
            "_view_module": "@jupyter-widgets/controls",
            "_view_module_version": "1.5.0",
            "_view_name": "HTMLView",
            "description": "",
            "description_tooltip": null,
            "layout": "IPY_MODEL_5371a17de9734fa78f68125d7ff59afb",
            "placeholder": "​",
            "style": "IPY_MODEL_60ca179a598f4c6cb21a049a954e3ace",
            "value": "special_tokens_map.json: 100%"
          }
        },
        "a1df4fab7f9043eca5dae275f645a707": {
          "model_module": "@jupyter-widgets/controls",
          "model_name": "FloatProgressModel",
          "model_module_version": "1.5.0",
          "state": {
            "_dom_classes": [],
            "_model_module": "@jupyter-widgets/controls",
            "_model_module_version": "1.5.0",
            "_model_name": "FloatProgressModel",
            "_view_count": null,
            "_view_module": "@jupyter-widgets/controls",
            "_view_module_version": "1.5.0",
            "_view_name": "ProgressView",
            "bar_style": "success",
            "description": "",
            "description_tooltip": null,
            "layout": "IPY_MODEL_ec77fd1074f74b249f85b9b84ca2361c",
            "max": 468,
            "min": 0,
            "orientation": "horizontal",
            "style": "IPY_MODEL_c79f384364c74c6d826b4f9571b46bb3",
            "value": 468
          }
        },
        "07f0f47197ee45df82a28f5c88cfb876": {
          "model_module": "@jupyter-widgets/controls",
          "model_name": "HTMLModel",
          "model_module_version": "1.5.0",
          "state": {
            "_dom_classes": [],
            "_model_module": "@jupyter-widgets/controls",
            "_model_module_version": "1.5.0",
            "_model_name": "HTMLModel",
            "_view_count": null,
            "_view_module": "@jupyter-widgets/controls",
            "_view_module_version": "1.5.0",
            "_view_name": "HTMLView",
            "description": "",
            "description_tooltip": null,
            "layout": "IPY_MODEL_c418e62e49ef4cd182eb358011784363",
            "placeholder": "​",
            "style": "IPY_MODEL_b2a0b231afa141faa332e33cdd94ae83",
            "value": " 468/468 [00:00&lt;00:00, 36.3kB/s]"
          }
        },
        "78f41ef317d44626b0ba780b2e5efea6": {
          "model_module": "@jupyter-widgets/base",
          "model_name": "LayoutModel",
          "model_module_version": "1.2.0",
          "state": {
            "_model_module": "@jupyter-widgets/base",
            "_model_module_version": "1.2.0",
            "_model_name": "LayoutModel",
            "_view_count": null,
            "_view_module": "@jupyter-widgets/base",
            "_view_module_version": "1.2.0",
            "_view_name": "LayoutView",
            "align_content": null,
            "align_items": null,
            "align_self": null,
            "border": null,
            "bottom": null,
            "display": null,
            "flex": null,
            "flex_flow": null,
            "grid_area": null,
            "grid_auto_columns": null,
            "grid_auto_flow": null,
            "grid_auto_rows": null,
            "grid_column": null,
            "grid_gap": null,
            "grid_row": null,
            "grid_template_areas": null,
            "grid_template_columns": null,
            "grid_template_rows": null,
            "height": null,
            "justify_content": null,
            "justify_items": null,
            "left": null,
            "margin": null,
            "max_height": null,
            "max_width": null,
            "min_height": null,
            "min_width": null,
            "object_fit": null,
            "object_position": null,
            "order": null,
            "overflow": null,
            "overflow_x": null,
            "overflow_y": null,
            "padding": null,
            "right": null,
            "top": null,
            "visibility": null,
            "width": null
          }
        },
        "5371a17de9734fa78f68125d7ff59afb": {
          "model_module": "@jupyter-widgets/base",
          "model_name": "LayoutModel",
          "model_module_version": "1.2.0",
          "state": {
            "_model_module": "@jupyter-widgets/base",
            "_model_module_version": "1.2.0",
            "_model_name": "LayoutModel",
            "_view_count": null,
            "_view_module": "@jupyter-widgets/base",
            "_view_module_version": "1.2.0",
            "_view_name": "LayoutView",
            "align_content": null,
            "align_items": null,
            "align_self": null,
            "border": null,
            "bottom": null,
            "display": null,
            "flex": null,
            "flex_flow": null,
            "grid_area": null,
            "grid_auto_columns": null,
            "grid_auto_flow": null,
            "grid_auto_rows": null,
            "grid_column": null,
            "grid_gap": null,
            "grid_row": null,
            "grid_template_areas": null,
            "grid_template_columns": null,
            "grid_template_rows": null,
            "height": null,
            "justify_content": null,
            "justify_items": null,
            "left": null,
            "margin": null,
            "max_height": null,
            "max_width": null,
            "min_height": null,
            "min_width": null,
            "object_fit": null,
            "object_position": null,
            "order": null,
            "overflow": null,
            "overflow_x": null,
            "overflow_y": null,
            "padding": null,
            "right": null,
            "top": null,
            "visibility": null,
            "width": null
          }
        },
        "60ca179a598f4c6cb21a049a954e3ace": {
          "model_module": "@jupyter-widgets/controls",
          "model_name": "DescriptionStyleModel",
          "model_module_version": "1.5.0",
          "state": {
            "_model_module": "@jupyter-widgets/controls",
            "_model_module_version": "1.5.0",
            "_model_name": "DescriptionStyleModel",
            "_view_count": null,
            "_view_module": "@jupyter-widgets/base",
            "_view_module_version": "1.2.0",
            "_view_name": "StyleView",
            "description_width": ""
          }
        },
        "ec77fd1074f74b249f85b9b84ca2361c": {
          "model_module": "@jupyter-widgets/base",
          "model_name": "LayoutModel",
          "model_module_version": "1.2.0",
          "state": {
            "_model_module": "@jupyter-widgets/base",
            "_model_module_version": "1.2.0",
            "_model_name": "LayoutModel",
            "_view_count": null,
            "_view_module": "@jupyter-widgets/base",
            "_view_module_version": "1.2.0",
            "_view_name": "LayoutView",
            "align_content": null,
            "align_items": null,
            "align_self": null,
            "border": null,
            "bottom": null,
            "display": null,
            "flex": null,
            "flex_flow": null,
            "grid_area": null,
            "grid_auto_columns": null,
            "grid_auto_flow": null,
            "grid_auto_rows": null,
            "grid_column": null,
            "grid_gap": null,
            "grid_row": null,
            "grid_template_areas": null,
            "grid_template_columns": null,
            "grid_template_rows": null,
            "height": null,
            "justify_content": null,
            "justify_items": null,
            "left": null,
            "margin": null,
            "max_height": null,
            "max_width": null,
            "min_height": null,
            "min_width": null,
            "object_fit": null,
            "object_position": null,
            "order": null,
            "overflow": null,
            "overflow_x": null,
            "overflow_y": null,
            "padding": null,
            "right": null,
            "top": null,
            "visibility": null,
            "width": null
          }
        },
        "c79f384364c74c6d826b4f9571b46bb3": {
          "model_module": "@jupyter-widgets/controls",
          "model_name": "ProgressStyleModel",
          "model_module_version": "1.5.0",
          "state": {
            "_model_module": "@jupyter-widgets/controls",
            "_model_module_version": "1.5.0",
            "_model_name": "ProgressStyleModel",
            "_view_count": null,
            "_view_module": "@jupyter-widgets/base",
            "_view_module_version": "1.2.0",
            "_view_name": "StyleView",
            "bar_color": null,
            "description_width": ""
          }
        },
        "c418e62e49ef4cd182eb358011784363": {
          "model_module": "@jupyter-widgets/base",
          "model_name": "LayoutModel",
          "model_module_version": "1.2.0",
          "state": {
            "_model_module": "@jupyter-widgets/base",
            "_model_module_version": "1.2.0",
            "_model_name": "LayoutModel",
            "_view_count": null,
            "_view_module": "@jupyter-widgets/base",
            "_view_module_version": "1.2.0",
            "_view_name": "LayoutView",
            "align_content": null,
            "align_items": null,
            "align_self": null,
            "border": null,
            "bottom": null,
            "display": null,
            "flex": null,
            "flex_flow": null,
            "grid_area": null,
            "grid_auto_columns": null,
            "grid_auto_flow": null,
            "grid_auto_rows": null,
            "grid_column": null,
            "grid_gap": null,
            "grid_row": null,
            "grid_template_areas": null,
            "grid_template_columns": null,
            "grid_template_rows": null,
            "height": null,
            "justify_content": null,
            "justify_items": null,
            "left": null,
            "margin": null,
            "max_height": null,
            "max_width": null,
            "min_height": null,
            "min_width": null,
            "object_fit": null,
            "object_position": null,
            "order": null,
            "overflow": null,
            "overflow_x": null,
            "overflow_y": null,
            "padding": null,
            "right": null,
            "top": null,
            "visibility": null,
            "width": null
          }
        },
        "b2a0b231afa141faa332e33cdd94ae83": {
          "model_module": "@jupyter-widgets/controls",
          "model_name": "DescriptionStyleModel",
          "model_module_version": "1.5.0",
          "state": {
            "_model_module": "@jupyter-widgets/controls",
            "_model_module_version": "1.5.0",
            "_model_name": "DescriptionStyleModel",
            "_view_count": null,
            "_view_module": "@jupyter-widgets/base",
            "_view_module_version": "1.2.0",
            "_view_name": "StyleView",
            "description_width": ""
          }
        },
        "5b222ee41d1d40b096700c08f2d0a7bd": {
          "model_module": "@jupyter-widgets/controls",
          "model_name": "HBoxModel",
          "model_module_version": "1.5.0",
          "state": {
            "_dom_classes": [],
            "_model_module": "@jupyter-widgets/controls",
            "_model_module_version": "1.5.0",
            "_model_name": "HBoxModel",
            "_view_count": null,
            "_view_module": "@jupyter-widgets/controls",
            "_view_module_version": "1.5.0",
            "_view_name": "HBoxView",
            "box_style": "",
            "children": [
              "IPY_MODEL_5dc851394f1a49e6b1027536a09dd19d",
              "IPY_MODEL_bc1af5d72e254cacb7ba614b2301effd",
              "IPY_MODEL_ea142b1734cb4710a05617895e8357fb"
            ],
            "layout": "IPY_MODEL_c30e530908394235a358d1abb841cade"
          }
        },
        "5dc851394f1a49e6b1027536a09dd19d": {
          "model_module": "@jupyter-widgets/controls",
          "model_name": "HTMLModel",
          "model_module_version": "1.5.0",
          "state": {
            "_dom_classes": [],
            "_model_module": "@jupyter-widgets/controls",
            "_model_module_version": "1.5.0",
            "_model_name": "HTMLModel",
            "_view_count": null,
            "_view_module": "@jupyter-widgets/controls",
            "_view_module_version": "1.5.0",
            "_view_name": "HTMLView",
            "description": "",
            "description_tooltip": null,
            "layout": "IPY_MODEL_26c080f9b33443ec9500924b9f187017",
            "placeholder": "​",
            "style": "IPY_MODEL_c9a11bf8a4f74984bde3d65cbf192a78",
            "value": "tokenizer.json: 100%"
          }
        },
        "bc1af5d72e254cacb7ba614b2301effd": {
          "model_module": "@jupyter-widgets/controls",
          "model_name": "FloatProgressModel",
          "model_module_version": "1.5.0",
          "state": {
            "_dom_classes": [],
            "_model_module": "@jupyter-widgets/controls",
            "_model_module_version": "1.5.0",
            "_model_name": "FloatProgressModel",
            "_view_count": null,
            "_view_module": "@jupyter-widgets/controls",
            "_view_module_version": "1.5.0",
            "_view_name": "ProgressView",
            "bar_style": "success",
            "description": "",
            "description_tooltip": null,
            "layout": "IPY_MODEL_53f8aec4f9a14304b5e495f5ebf917e7",
            "max": 1569271,
            "min": 0,
            "orientation": "horizontal",
            "style": "IPY_MODEL_4cd6aa13cc1344d4b18c38b6a44813ad",
            "value": 1569271
          }
        },
        "ea142b1734cb4710a05617895e8357fb": {
          "model_module": "@jupyter-widgets/controls",
          "model_name": "HTMLModel",
          "model_module_version": "1.5.0",
          "state": {
            "_dom_classes": [],
            "_model_module": "@jupyter-widgets/controls",
            "_model_module_version": "1.5.0",
            "_model_name": "HTMLModel",
            "_view_count": null,
            "_view_module": "@jupyter-widgets/controls",
            "_view_module_version": "1.5.0",
            "_view_name": "HTMLView",
            "description": "",
            "description_tooltip": null,
            "layout": "IPY_MODEL_9064ea86d97e4831b09d4e8b3539dd40",
            "placeholder": "​",
            "style": "IPY_MODEL_ee2f8301190a478cb95eea9fe6648b60",
            "value": " 1.57M/1.57M [00:00&lt;00:00, 7.92MB/s]"
          }
        },
        "c30e530908394235a358d1abb841cade": {
          "model_module": "@jupyter-widgets/base",
          "model_name": "LayoutModel",
          "model_module_version": "1.2.0",
          "state": {
            "_model_module": "@jupyter-widgets/base",
            "_model_module_version": "1.2.0",
            "_model_name": "LayoutModel",
            "_view_count": null,
            "_view_module": "@jupyter-widgets/base",
            "_view_module_version": "1.2.0",
            "_view_name": "LayoutView",
            "align_content": null,
            "align_items": null,
            "align_self": null,
            "border": null,
            "bottom": null,
            "display": null,
            "flex": null,
            "flex_flow": null,
            "grid_area": null,
            "grid_auto_columns": null,
            "grid_auto_flow": null,
            "grid_auto_rows": null,
            "grid_column": null,
            "grid_gap": null,
            "grid_row": null,
            "grid_template_areas": null,
            "grid_template_columns": null,
            "grid_template_rows": null,
            "height": null,
            "justify_content": null,
            "justify_items": null,
            "left": null,
            "margin": null,
            "max_height": null,
            "max_width": null,
            "min_height": null,
            "min_width": null,
            "object_fit": null,
            "object_position": null,
            "order": null,
            "overflow": null,
            "overflow_x": null,
            "overflow_y": null,
            "padding": null,
            "right": null,
            "top": null,
            "visibility": null,
            "width": null
          }
        },
        "26c080f9b33443ec9500924b9f187017": {
          "model_module": "@jupyter-widgets/base",
          "model_name": "LayoutModel",
          "model_module_version": "1.2.0",
          "state": {
            "_model_module": "@jupyter-widgets/base",
            "_model_module_version": "1.2.0",
            "_model_name": "LayoutModel",
            "_view_count": null,
            "_view_module": "@jupyter-widgets/base",
            "_view_module_version": "1.2.0",
            "_view_name": "LayoutView",
            "align_content": null,
            "align_items": null,
            "align_self": null,
            "border": null,
            "bottom": null,
            "display": null,
            "flex": null,
            "flex_flow": null,
            "grid_area": null,
            "grid_auto_columns": null,
            "grid_auto_flow": null,
            "grid_auto_rows": null,
            "grid_column": null,
            "grid_gap": null,
            "grid_row": null,
            "grid_template_areas": null,
            "grid_template_columns": null,
            "grid_template_rows": null,
            "height": null,
            "justify_content": null,
            "justify_items": null,
            "left": null,
            "margin": null,
            "max_height": null,
            "max_width": null,
            "min_height": null,
            "min_width": null,
            "object_fit": null,
            "object_position": null,
            "order": null,
            "overflow": null,
            "overflow_x": null,
            "overflow_y": null,
            "padding": null,
            "right": null,
            "top": null,
            "visibility": null,
            "width": null
          }
        },
        "c9a11bf8a4f74984bde3d65cbf192a78": {
          "model_module": "@jupyter-widgets/controls",
          "model_name": "DescriptionStyleModel",
          "model_module_version": "1.5.0",
          "state": {
            "_model_module": "@jupyter-widgets/controls",
            "_model_module_version": "1.5.0",
            "_model_name": "DescriptionStyleModel",
            "_view_count": null,
            "_view_module": "@jupyter-widgets/base",
            "_view_module_version": "1.2.0",
            "_view_name": "StyleView",
            "description_width": ""
          }
        },
        "53f8aec4f9a14304b5e495f5ebf917e7": {
          "model_module": "@jupyter-widgets/base",
          "model_name": "LayoutModel",
          "model_module_version": "1.2.0",
          "state": {
            "_model_module": "@jupyter-widgets/base",
            "_model_module_version": "1.2.0",
            "_model_name": "LayoutModel",
            "_view_count": null,
            "_view_module": "@jupyter-widgets/base",
            "_view_module_version": "1.2.0",
            "_view_name": "LayoutView",
            "align_content": null,
            "align_items": null,
            "align_self": null,
            "border": null,
            "bottom": null,
            "display": null,
            "flex": null,
            "flex_flow": null,
            "grid_area": null,
            "grid_auto_columns": null,
            "grid_auto_flow": null,
            "grid_auto_rows": null,
            "grid_column": null,
            "grid_gap": null,
            "grid_row": null,
            "grid_template_areas": null,
            "grid_template_columns": null,
            "grid_template_rows": null,
            "height": null,
            "justify_content": null,
            "justify_items": null,
            "left": null,
            "margin": null,
            "max_height": null,
            "max_width": null,
            "min_height": null,
            "min_width": null,
            "object_fit": null,
            "object_position": null,
            "order": null,
            "overflow": null,
            "overflow_x": null,
            "overflow_y": null,
            "padding": null,
            "right": null,
            "top": null,
            "visibility": null,
            "width": null
          }
        },
        "4cd6aa13cc1344d4b18c38b6a44813ad": {
          "model_module": "@jupyter-widgets/controls",
          "model_name": "ProgressStyleModel",
          "model_module_version": "1.5.0",
          "state": {
            "_model_module": "@jupyter-widgets/controls",
            "_model_module_version": "1.5.0",
            "_model_name": "ProgressStyleModel",
            "_view_count": null,
            "_view_module": "@jupyter-widgets/base",
            "_view_module_version": "1.2.0",
            "_view_name": "StyleView",
            "bar_color": null,
            "description_width": ""
          }
        },
        "9064ea86d97e4831b09d4e8b3539dd40": {
          "model_module": "@jupyter-widgets/base",
          "model_name": "LayoutModel",
          "model_module_version": "1.2.0",
          "state": {
            "_model_module": "@jupyter-widgets/base",
            "_model_module_version": "1.2.0",
            "_model_name": "LayoutModel",
            "_view_count": null,
            "_view_module": "@jupyter-widgets/base",
            "_view_module_version": "1.2.0",
            "_view_name": "LayoutView",
            "align_content": null,
            "align_items": null,
            "align_self": null,
            "border": null,
            "bottom": null,
            "display": null,
            "flex": null,
            "flex_flow": null,
            "grid_area": null,
            "grid_auto_columns": null,
            "grid_auto_flow": null,
            "grid_auto_rows": null,
            "grid_column": null,
            "grid_gap": null,
            "grid_row": null,
            "grid_template_areas": null,
            "grid_template_columns": null,
            "grid_template_rows": null,
            "height": null,
            "justify_content": null,
            "justify_items": null,
            "left": null,
            "margin": null,
            "max_height": null,
            "max_width": null,
            "min_height": null,
            "min_width": null,
            "object_fit": null,
            "object_position": null,
            "order": null,
            "overflow": null,
            "overflow_x": null,
            "overflow_y": null,
            "padding": null,
            "right": null,
            "top": null,
            "visibility": null,
            "width": null
          }
        },
        "ee2f8301190a478cb95eea9fe6648b60": {
          "model_module": "@jupyter-widgets/controls",
          "model_name": "DescriptionStyleModel",
          "model_module_version": "1.5.0",
          "state": {
            "_model_module": "@jupyter-widgets/controls",
            "_model_module_version": "1.5.0",
            "_model_name": "DescriptionStyleModel",
            "_view_count": null,
            "_view_module": "@jupyter-widgets/base",
            "_view_module_version": "1.2.0",
            "_view_name": "StyleView",
            "description_width": ""
          }
        },
        "6472925a091849e2afb2edad47c471ed": {
          "model_module": "@jupyter-widgets/controls",
          "model_name": "HBoxModel",
          "model_module_version": "1.5.0",
          "state": {
            "_dom_classes": [],
            "_model_module": "@jupyter-widgets/controls",
            "_model_module_version": "1.5.0",
            "_model_name": "HBoxModel",
            "_view_count": null,
            "_view_module": "@jupyter-widgets/controls",
            "_view_module_version": "1.5.0",
            "_view_name": "HBoxView",
            "box_style": "",
            "children": [
              "IPY_MODEL_6920ec9b3de04961bf5ac03835accf3d",
              "IPY_MODEL_f447970f42e94bdbaab51c198313a467",
              "IPY_MODEL_fe7170a4372d42eda08bbcee0aed400d"
            ],
            "layout": "IPY_MODEL_2865cc838b094ebbbaeef26701a7c4b1"
          }
        },
        "6920ec9b3de04961bf5ac03835accf3d": {
          "model_module": "@jupyter-widgets/controls",
          "model_name": "HTMLModel",
          "model_module_version": "1.5.0",
          "state": {
            "_dom_classes": [],
            "_model_module": "@jupyter-widgets/controls",
            "_model_module_version": "1.5.0",
            "_model_name": "HTMLModel",
            "_view_count": null,
            "_view_module": "@jupyter-widgets/controls",
            "_view_module_version": "1.5.0",
            "_view_name": "HTMLView",
            "description": "",
            "description_tooltip": null,
            "layout": "IPY_MODEL_301cce8c31234746a28f9e9a4b96c7d2",
            "placeholder": "​",
            "style": "IPY_MODEL_5cc1ec984a3d4c6789cca38f8566b219",
            "value": "Map: 100%"
          }
        },
        "f447970f42e94bdbaab51c198313a467": {
          "model_module": "@jupyter-widgets/controls",
          "model_name": "FloatProgressModel",
          "model_module_version": "1.5.0",
          "state": {
            "_dom_classes": [],
            "_model_module": "@jupyter-widgets/controls",
            "_model_module_version": "1.5.0",
            "_model_name": "FloatProgressModel",
            "_view_count": null,
            "_view_module": "@jupyter-widgets/controls",
            "_view_module_version": "1.5.0",
            "_view_name": "ProgressView",
            "bar_style": "success",
            "description": "",
            "description_tooltip": null,
            "layout": "IPY_MODEL_11d45001a74b444c8bc505cac0348a60",
            "max": 3759,
            "min": 0,
            "orientation": "horizontal",
            "style": "IPY_MODEL_302b15b9681d40ee9b6e528eaec6913c",
            "value": 3759
          }
        },
        "fe7170a4372d42eda08bbcee0aed400d": {
          "model_module": "@jupyter-widgets/controls",
          "model_name": "HTMLModel",
          "model_module_version": "1.5.0",
          "state": {
            "_dom_classes": [],
            "_model_module": "@jupyter-widgets/controls",
            "_model_module_version": "1.5.0",
            "_model_name": "HTMLModel",
            "_view_count": null,
            "_view_module": "@jupyter-widgets/controls",
            "_view_module_version": "1.5.0",
            "_view_name": "HTMLView",
            "description": "",
            "description_tooltip": null,
            "layout": "IPY_MODEL_087a85f3bfbd4a798e62d26c4c64edb5",
            "placeholder": "​",
            "style": "IPY_MODEL_5ae10279ce6d4a789b9932d776756286",
            "value": " 3759/3759 [00:01&lt;00:00, 3086.85 examples/s]"
          }
        },
        "2865cc838b094ebbbaeef26701a7c4b1": {
          "model_module": "@jupyter-widgets/base",
          "model_name": "LayoutModel",
          "model_module_version": "1.2.0",
          "state": {
            "_model_module": "@jupyter-widgets/base",
            "_model_module_version": "1.2.0",
            "_model_name": "LayoutModel",
            "_view_count": null,
            "_view_module": "@jupyter-widgets/base",
            "_view_module_version": "1.2.0",
            "_view_name": "LayoutView",
            "align_content": null,
            "align_items": null,
            "align_self": null,
            "border": null,
            "bottom": null,
            "display": null,
            "flex": null,
            "flex_flow": null,
            "grid_area": null,
            "grid_auto_columns": null,
            "grid_auto_flow": null,
            "grid_auto_rows": null,
            "grid_column": null,
            "grid_gap": null,
            "grid_row": null,
            "grid_template_areas": null,
            "grid_template_columns": null,
            "grid_template_rows": null,
            "height": null,
            "justify_content": null,
            "justify_items": null,
            "left": null,
            "margin": null,
            "max_height": null,
            "max_width": null,
            "min_height": null,
            "min_width": null,
            "object_fit": null,
            "object_position": null,
            "order": null,
            "overflow": null,
            "overflow_x": null,
            "overflow_y": null,
            "padding": null,
            "right": null,
            "top": null,
            "visibility": null,
            "width": null
          }
        },
        "301cce8c31234746a28f9e9a4b96c7d2": {
          "model_module": "@jupyter-widgets/base",
          "model_name": "LayoutModel",
          "model_module_version": "1.2.0",
          "state": {
            "_model_module": "@jupyter-widgets/base",
            "_model_module_version": "1.2.0",
            "_model_name": "LayoutModel",
            "_view_count": null,
            "_view_module": "@jupyter-widgets/base",
            "_view_module_version": "1.2.0",
            "_view_name": "LayoutView",
            "align_content": null,
            "align_items": null,
            "align_self": null,
            "border": null,
            "bottom": null,
            "display": null,
            "flex": null,
            "flex_flow": null,
            "grid_area": null,
            "grid_auto_columns": null,
            "grid_auto_flow": null,
            "grid_auto_rows": null,
            "grid_column": null,
            "grid_gap": null,
            "grid_row": null,
            "grid_template_areas": null,
            "grid_template_columns": null,
            "grid_template_rows": null,
            "height": null,
            "justify_content": null,
            "justify_items": null,
            "left": null,
            "margin": null,
            "max_height": null,
            "max_width": null,
            "min_height": null,
            "min_width": null,
            "object_fit": null,
            "object_position": null,
            "order": null,
            "overflow": null,
            "overflow_x": null,
            "overflow_y": null,
            "padding": null,
            "right": null,
            "top": null,
            "visibility": null,
            "width": null
          }
        },
        "5cc1ec984a3d4c6789cca38f8566b219": {
          "model_module": "@jupyter-widgets/controls",
          "model_name": "DescriptionStyleModel",
          "model_module_version": "1.5.0",
          "state": {
            "_model_module": "@jupyter-widgets/controls",
            "_model_module_version": "1.5.0",
            "_model_name": "DescriptionStyleModel",
            "_view_count": null,
            "_view_module": "@jupyter-widgets/base",
            "_view_module_version": "1.2.0",
            "_view_name": "StyleView",
            "description_width": ""
          }
        },
        "11d45001a74b444c8bc505cac0348a60": {
          "model_module": "@jupyter-widgets/base",
          "model_name": "LayoutModel",
          "model_module_version": "1.2.0",
          "state": {
            "_model_module": "@jupyter-widgets/base",
            "_model_module_version": "1.2.0",
            "_model_name": "LayoutModel",
            "_view_count": null,
            "_view_module": "@jupyter-widgets/base",
            "_view_module_version": "1.2.0",
            "_view_name": "LayoutView",
            "align_content": null,
            "align_items": null,
            "align_self": null,
            "border": null,
            "bottom": null,
            "display": null,
            "flex": null,
            "flex_flow": null,
            "grid_area": null,
            "grid_auto_columns": null,
            "grid_auto_flow": null,
            "grid_auto_rows": null,
            "grid_column": null,
            "grid_gap": null,
            "grid_row": null,
            "grid_template_areas": null,
            "grid_template_columns": null,
            "grid_template_rows": null,
            "height": null,
            "justify_content": null,
            "justify_items": null,
            "left": null,
            "margin": null,
            "max_height": null,
            "max_width": null,
            "min_height": null,
            "min_width": null,
            "object_fit": null,
            "object_position": null,
            "order": null,
            "overflow": null,
            "overflow_x": null,
            "overflow_y": null,
            "padding": null,
            "right": null,
            "top": null,
            "visibility": null,
            "width": null
          }
        },
        "302b15b9681d40ee9b6e528eaec6913c": {
          "model_module": "@jupyter-widgets/controls",
          "model_name": "ProgressStyleModel",
          "model_module_version": "1.5.0",
          "state": {
            "_model_module": "@jupyter-widgets/controls",
            "_model_module_version": "1.5.0",
            "_model_name": "ProgressStyleModel",
            "_view_count": null,
            "_view_module": "@jupyter-widgets/base",
            "_view_module_version": "1.2.0",
            "_view_name": "StyleView",
            "bar_color": null,
            "description_width": ""
          }
        },
        "087a85f3bfbd4a798e62d26c4c64edb5": {
          "model_module": "@jupyter-widgets/base",
          "model_name": "LayoutModel",
          "model_module_version": "1.2.0",
          "state": {
            "_model_module": "@jupyter-widgets/base",
            "_model_module_version": "1.2.0",
            "_model_name": "LayoutModel",
            "_view_count": null,
            "_view_module": "@jupyter-widgets/base",
            "_view_module_version": "1.2.0",
            "_view_name": "LayoutView",
            "align_content": null,
            "align_items": null,
            "align_self": null,
            "border": null,
            "bottom": null,
            "display": null,
            "flex": null,
            "flex_flow": null,
            "grid_area": null,
            "grid_auto_columns": null,
            "grid_auto_flow": null,
            "grid_auto_rows": null,
            "grid_column": null,
            "grid_gap": null,
            "grid_row": null,
            "grid_template_areas": null,
            "grid_template_columns": null,
            "grid_template_rows": null,
            "height": null,
            "justify_content": null,
            "justify_items": null,
            "left": null,
            "margin": null,
            "max_height": null,
            "max_width": null,
            "min_height": null,
            "min_width": null,
            "object_fit": null,
            "object_position": null,
            "order": null,
            "overflow": null,
            "overflow_x": null,
            "overflow_y": null,
            "padding": null,
            "right": null,
            "top": null,
            "visibility": null,
            "width": null
          }
        },
        "5ae10279ce6d4a789b9932d776756286": {
          "model_module": "@jupyter-widgets/controls",
          "model_name": "DescriptionStyleModel",
          "model_module_version": "1.5.0",
          "state": {
            "_model_module": "@jupyter-widgets/controls",
            "_model_module_version": "1.5.0",
            "_model_name": "DescriptionStyleModel",
            "_view_count": null,
            "_view_module": "@jupyter-widgets/base",
            "_view_module_version": "1.2.0",
            "_view_name": "StyleView",
            "description_width": ""
          }
        },
        "7e1ddf18c4714c1d8a824de6b802a79a": {
          "model_module": "@jupyter-widgets/controls",
          "model_name": "HBoxModel",
          "model_module_version": "1.5.0",
          "state": {
            "_dom_classes": [],
            "_model_module": "@jupyter-widgets/controls",
            "_model_module_version": "1.5.0",
            "_model_name": "HBoxModel",
            "_view_count": null,
            "_view_module": "@jupyter-widgets/controls",
            "_view_module_version": "1.5.0",
            "_view_name": "HBoxView",
            "box_style": "",
            "children": [
              "IPY_MODEL_24d651383db34e598e2bd32ceb6f2f41",
              "IPY_MODEL_5cec7fe36e2b4e169b51752f0b52d90c",
              "IPY_MODEL_804ea957371e42a59860db2167cbdbf5"
            ],
            "layout": "IPY_MODEL_736010a0b9c94c938bdf0f3bad6c11fb"
          }
        },
        "24d651383db34e598e2bd32ceb6f2f41": {
          "model_module": "@jupyter-widgets/controls",
          "model_name": "HTMLModel",
          "model_module_version": "1.5.0",
          "state": {
            "_dom_classes": [],
            "_model_module": "@jupyter-widgets/controls",
            "_model_module_version": "1.5.0",
            "_model_name": "HTMLModel",
            "_view_count": null,
            "_view_module": "@jupyter-widgets/controls",
            "_view_module_version": "1.5.0",
            "_view_name": "HTMLView",
            "description": "",
            "description_tooltip": null,
            "layout": "IPY_MODEL_79ce1b0332324c52a4256b70a5e1e210",
            "placeholder": "​",
            "style": "IPY_MODEL_27851f9bacd8495196684ef3791d3982",
            "value": "Map: 100%"
          }
        },
        "5cec7fe36e2b4e169b51752f0b52d90c": {
          "model_module": "@jupyter-widgets/controls",
          "model_name": "FloatProgressModel",
          "model_module_version": "1.5.0",
          "state": {
            "_dom_classes": [],
            "_model_module": "@jupyter-widgets/controls",
            "_model_module_version": "1.5.0",
            "_model_name": "FloatProgressModel",
            "_view_count": null,
            "_view_module": "@jupyter-widgets/controls",
            "_view_module_version": "1.5.0",
            "_view_name": "ProgressView",
            "bar_style": "success",
            "description": "",
            "description_tooltip": null,
            "layout": "IPY_MODEL_0596035a0b30466f9a09486a5623997f",
            "max": 897,
            "min": 0,
            "orientation": "horizontal",
            "style": "IPY_MODEL_ddc8b5cfb91247e5bc5637cb58be3a59",
            "value": 897
          }
        },
        "804ea957371e42a59860db2167cbdbf5": {
          "model_module": "@jupyter-widgets/controls",
          "model_name": "HTMLModel",
          "model_module_version": "1.5.0",
          "state": {
            "_dom_classes": [],
            "_model_module": "@jupyter-widgets/controls",
            "_model_module_version": "1.5.0",
            "_model_name": "HTMLModel",
            "_view_count": null,
            "_view_module": "@jupyter-widgets/controls",
            "_view_module_version": "1.5.0",
            "_view_name": "HTMLView",
            "description": "",
            "description_tooltip": null,
            "layout": "IPY_MODEL_8c6b55970cc24359958636b17badac5d",
            "placeholder": "​",
            "style": "IPY_MODEL_d775e5272a5642a29a4994396067d63d",
            "value": " 897/897 [00:00&lt;00:00, 1962.88 examples/s]"
          }
        },
        "736010a0b9c94c938bdf0f3bad6c11fb": {
          "model_module": "@jupyter-widgets/base",
          "model_name": "LayoutModel",
          "model_module_version": "1.2.0",
          "state": {
            "_model_module": "@jupyter-widgets/base",
            "_model_module_version": "1.2.0",
            "_model_name": "LayoutModel",
            "_view_count": null,
            "_view_module": "@jupyter-widgets/base",
            "_view_module_version": "1.2.0",
            "_view_name": "LayoutView",
            "align_content": null,
            "align_items": null,
            "align_self": null,
            "border": null,
            "bottom": null,
            "display": null,
            "flex": null,
            "flex_flow": null,
            "grid_area": null,
            "grid_auto_columns": null,
            "grid_auto_flow": null,
            "grid_auto_rows": null,
            "grid_column": null,
            "grid_gap": null,
            "grid_row": null,
            "grid_template_areas": null,
            "grid_template_columns": null,
            "grid_template_rows": null,
            "height": null,
            "justify_content": null,
            "justify_items": null,
            "left": null,
            "margin": null,
            "max_height": null,
            "max_width": null,
            "min_height": null,
            "min_width": null,
            "object_fit": null,
            "object_position": null,
            "order": null,
            "overflow": null,
            "overflow_x": null,
            "overflow_y": null,
            "padding": null,
            "right": null,
            "top": null,
            "visibility": null,
            "width": null
          }
        },
        "79ce1b0332324c52a4256b70a5e1e210": {
          "model_module": "@jupyter-widgets/base",
          "model_name": "LayoutModel",
          "model_module_version": "1.2.0",
          "state": {
            "_model_module": "@jupyter-widgets/base",
            "_model_module_version": "1.2.0",
            "_model_name": "LayoutModel",
            "_view_count": null,
            "_view_module": "@jupyter-widgets/base",
            "_view_module_version": "1.2.0",
            "_view_name": "LayoutView",
            "align_content": null,
            "align_items": null,
            "align_self": null,
            "border": null,
            "bottom": null,
            "display": null,
            "flex": null,
            "flex_flow": null,
            "grid_area": null,
            "grid_auto_columns": null,
            "grid_auto_flow": null,
            "grid_auto_rows": null,
            "grid_column": null,
            "grid_gap": null,
            "grid_row": null,
            "grid_template_areas": null,
            "grid_template_columns": null,
            "grid_template_rows": null,
            "height": null,
            "justify_content": null,
            "justify_items": null,
            "left": null,
            "margin": null,
            "max_height": null,
            "max_width": null,
            "min_height": null,
            "min_width": null,
            "object_fit": null,
            "object_position": null,
            "order": null,
            "overflow": null,
            "overflow_x": null,
            "overflow_y": null,
            "padding": null,
            "right": null,
            "top": null,
            "visibility": null,
            "width": null
          }
        },
        "27851f9bacd8495196684ef3791d3982": {
          "model_module": "@jupyter-widgets/controls",
          "model_name": "DescriptionStyleModel",
          "model_module_version": "1.5.0",
          "state": {
            "_model_module": "@jupyter-widgets/controls",
            "_model_module_version": "1.5.0",
            "_model_name": "DescriptionStyleModel",
            "_view_count": null,
            "_view_module": "@jupyter-widgets/base",
            "_view_module_version": "1.2.0",
            "_view_name": "StyleView",
            "description_width": ""
          }
        },
        "0596035a0b30466f9a09486a5623997f": {
          "model_module": "@jupyter-widgets/base",
          "model_name": "LayoutModel",
          "model_module_version": "1.2.0",
          "state": {
            "_model_module": "@jupyter-widgets/base",
            "_model_module_version": "1.2.0",
            "_model_name": "LayoutModel",
            "_view_count": null,
            "_view_module": "@jupyter-widgets/base",
            "_view_module_version": "1.2.0",
            "_view_name": "LayoutView",
            "align_content": null,
            "align_items": null,
            "align_self": null,
            "border": null,
            "bottom": null,
            "display": null,
            "flex": null,
            "flex_flow": null,
            "grid_area": null,
            "grid_auto_columns": null,
            "grid_auto_flow": null,
            "grid_auto_rows": null,
            "grid_column": null,
            "grid_gap": null,
            "grid_row": null,
            "grid_template_areas": null,
            "grid_template_columns": null,
            "grid_template_rows": null,
            "height": null,
            "justify_content": null,
            "justify_items": null,
            "left": null,
            "margin": null,
            "max_height": null,
            "max_width": null,
            "min_height": null,
            "min_width": null,
            "object_fit": null,
            "object_position": null,
            "order": null,
            "overflow": null,
            "overflow_x": null,
            "overflow_y": null,
            "padding": null,
            "right": null,
            "top": null,
            "visibility": null,
            "width": null
          }
        },
        "ddc8b5cfb91247e5bc5637cb58be3a59": {
          "model_module": "@jupyter-widgets/controls",
          "model_name": "ProgressStyleModel",
          "model_module_version": "1.5.0",
          "state": {
            "_model_module": "@jupyter-widgets/controls",
            "_model_module_version": "1.5.0",
            "_model_name": "ProgressStyleModel",
            "_view_count": null,
            "_view_module": "@jupyter-widgets/base",
            "_view_module_version": "1.2.0",
            "_view_name": "StyleView",
            "bar_color": null,
            "description_width": ""
          }
        },
        "8c6b55970cc24359958636b17badac5d": {
          "model_module": "@jupyter-widgets/base",
          "model_name": "LayoutModel",
          "model_module_version": "1.2.0",
          "state": {
            "_model_module": "@jupyter-widgets/base",
            "_model_module_version": "1.2.0",
            "_model_name": "LayoutModel",
            "_view_count": null,
            "_view_module": "@jupyter-widgets/base",
            "_view_module_version": "1.2.0",
            "_view_name": "LayoutView",
            "align_content": null,
            "align_items": null,
            "align_self": null,
            "border": null,
            "bottom": null,
            "display": null,
            "flex": null,
            "flex_flow": null,
            "grid_area": null,
            "grid_auto_columns": null,
            "grid_auto_flow": null,
            "grid_auto_rows": null,
            "grid_column": null,
            "grid_gap": null,
            "grid_row": null,
            "grid_template_areas": null,
            "grid_template_columns": null,
            "grid_template_rows": null,
            "height": null,
            "justify_content": null,
            "justify_items": null,
            "left": null,
            "margin": null,
            "max_height": null,
            "max_width": null,
            "min_height": null,
            "min_width": null,
            "object_fit": null,
            "object_position": null,
            "order": null,
            "overflow": null,
            "overflow_x": null,
            "overflow_y": null,
            "padding": null,
            "right": null,
            "top": null,
            "visibility": null,
            "width": null
          }
        },
        "d775e5272a5642a29a4994396067d63d": {
          "model_module": "@jupyter-widgets/controls",
          "model_name": "DescriptionStyleModel",
          "model_module_version": "1.5.0",
          "state": {
            "_model_module": "@jupyter-widgets/controls",
            "_model_module_version": "1.5.0",
            "_model_name": "DescriptionStyleModel",
            "_view_count": null,
            "_view_module": "@jupyter-widgets/base",
            "_view_module_version": "1.2.0",
            "_view_name": "StyleView",
            "description_width": ""
          }
        },
        "fd822e1d9a3747bc935d90173b492aa6": {
          "model_module": "@jupyter-widgets/controls",
          "model_name": "HBoxModel",
          "model_module_version": "1.5.0",
          "state": {
            "_dom_classes": [],
            "_model_module": "@jupyter-widgets/controls",
            "_model_module_version": "1.5.0",
            "_model_name": "HBoxModel",
            "_view_count": null,
            "_view_module": "@jupyter-widgets/controls",
            "_view_module_version": "1.5.0",
            "_view_name": "HBoxView",
            "box_style": "",
            "children": [
              "IPY_MODEL_cc2d9b8342c44994b28c3b584d5234cf",
              "IPY_MODEL_27735e4983a247b8980b3153b4e2a8d6",
              "IPY_MODEL_e0474c968ed6481db4098ae2d6c966ac"
            ],
            "layout": "IPY_MODEL_2b7eaf6b251248bf80e0ba2f44a5a5fd"
          }
        },
        "cc2d9b8342c44994b28c3b584d5234cf": {
          "model_module": "@jupyter-widgets/controls",
          "model_name": "HTMLModel",
          "model_module_version": "1.5.0",
          "state": {
            "_dom_classes": [],
            "_model_module": "@jupyter-widgets/controls",
            "_model_module_version": "1.5.0",
            "_model_name": "HTMLModel",
            "_view_count": null,
            "_view_module": "@jupyter-widgets/controls",
            "_view_module_version": "1.5.0",
            "_view_name": "HTMLView",
            "description": "",
            "description_tooltip": null,
            "layout": "IPY_MODEL_44b986ead81244908c1ea64ca59cdd8f",
            "placeholder": "​",
            "style": "IPY_MODEL_6e6b7f3c0c31449ca858aaecaf346f9a",
            "value": "Map: 100%"
          }
        },
        "27735e4983a247b8980b3153b4e2a8d6": {
          "model_module": "@jupyter-widgets/controls",
          "model_name": "FloatProgressModel",
          "model_module_version": "1.5.0",
          "state": {
            "_dom_classes": [],
            "_model_module": "@jupyter-widgets/controls",
            "_model_module_version": "1.5.0",
            "_model_name": "FloatProgressModel",
            "_view_count": null,
            "_view_module": "@jupyter-widgets/controls",
            "_view_module_version": "1.5.0",
            "_view_name": "ProgressView",
            "bar_style": "success",
            "description": "",
            "description_tooltip": null,
            "layout": "IPY_MODEL_3de5eb75dc154ac2a48964c4a2a7d4ee",
            "max": 600,
            "min": 0,
            "orientation": "horizontal",
            "style": "IPY_MODEL_07c68ee382a546d38bcab56a7c8bba81",
            "value": 600
          }
        },
        "e0474c968ed6481db4098ae2d6c966ac": {
          "model_module": "@jupyter-widgets/controls",
          "model_name": "HTMLModel",
          "model_module_version": "1.5.0",
          "state": {
            "_dom_classes": [],
            "_model_module": "@jupyter-widgets/controls",
            "_model_module_version": "1.5.0",
            "_model_name": "HTMLModel",
            "_view_count": null,
            "_view_module": "@jupyter-widgets/controls",
            "_view_module_version": "1.5.0",
            "_view_name": "HTMLView",
            "description": "",
            "description_tooltip": null,
            "layout": "IPY_MODEL_69e7ca69d2554874804fc34a7c8dd81d",
            "placeholder": "​",
            "style": "IPY_MODEL_09fec44d766f4060a908b2a6ee499cc1",
            "value": " 600/600 [00:00&lt;00:00, 3231.90 examples/s]"
          }
        },
        "2b7eaf6b251248bf80e0ba2f44a5a5fd": {
          "model_module": "@jupyter-widgets/base",
          "model_name": "LayoutModel",
          "model_module_version": "1.2.0",
          "state": {
            "_model_module": "@jupyter-widgets/base",
            "_model_module_version": "1.2.0",
            "_model_name": "LayoutModel",
            "_view_count": null,
            "_view_module": "@jupyter-widgets/base",
            "_view_module_version": "1.2.0",
            "_view_name": "LayoutView",
            "align_content": null,
            "align_items": null,
            "align_self": null,
            "border": null,
            "bottom": null,
            "display": null,
            "flex": null,
            "flex_flow": null,
            "grid_area": null,
            "grid_auto_columns": null,
            "grid_auto_flow": null,
            "grid_auto_rows": null,
            "grid_column": null,
            "grid_gap": null,
            "grid_row": null,
            "grid_template_areas": null,
            "grid_template_columns": null,
            "grid_template_rows": null,
            "height": null,
            "justify_content": null,
            "justify_items": null,
            "left": null,
            "margin": null,
            "max_height": null,
            "max_width": null,
            "min_height": null,
            "min_width": null,
            "object_fit": null,
            "object_position": null,
            "order": null,
            "overflow": null,
            "overflow_x": null,
            "overflow_y": null,
            "padding": null,
            "right": null,
            "top": null,
            "visibility": null,
            "width": null
          }
        },
        "44b986ead81244908c1ea64ca59cdd8f": {
          "model_module": "@jupyter-widgets/base",
          "model_name": "LayoutModel",
          "model_module_version": "1.2.0",
          "state": {
            "_model_module": "@jupyter-widgets/base",
            "_model_module_version": "1.2.0",
            "_model_name": "LayoutModel",
            "_view_count": null,
            "_view_module": "@jupyter-widgets/base",
            "_view_module_version": "1.2.0",
            "_view_name": "LayoutView",
            "align_content": null,
            "align_items": null,
            "align_self": null,
            "border": null,
            "bottom": null,
            "display": null,
            "flex": null,
            "flex_flow": null,
            "grid_area": null,
            "grid_auto_columns": null,
            "grid_auto_flow": null,
            "grid_auto_rows": null,
            "grid_column": null,
            "grid_gap": null,
            "grid_row": null,
            "grid_template_areas": null,
            "grid_template_columns": null,
            "grid_template_rows": null,
            "height": null,
            "justify_content": null,
            "justify_items": null,
            "left": null,
            "margin": null,
            "max_height": null,
            "max_width": null,
            "min_height": null,
            "min_width": null,
            "object_fit": null,
            "object_position": null,
            "order": null,
            "overflow": null,
            "overflow_x": null,
            "overflow_y": null,
            "padding": null,
            "right": null,
            "top": null,
            "visibility": null,
            "width": null
          }
        },
        "6e6b7f3c0c31449ca858aaecaf346f9a": {
          "model_module": "@jupyter-widgets/controls",
          "model_name": "DescriptionStyleModel",
          "model_module_version": "1.5.0",
          "state": {
            "_model_module": "@jupyter-widgets/controls",
            "_model_module_version": "1.5.0",
            "_model_name": "DescriptionStyleModel",
            "_view_count": null,
            "_view_module": "@jupyter-widgets/base",
            "_view_module_version": "1.2.0",
            "_view_name": "StyleView",
            "description_width": ""
          }
        },
        "3de5eb75dc154ac2a48964c4a2a7d4ee": {
          "model_module": "@jupyter-widgets/base",
          "model_name": "LayoutModel",
          "model_module_version": "1.2.0",
          "state": {
            "_model_module": "@jupyter-widgets/base",
            "_model_module_version": "1.2.0",
            "_model_name": "LayoutModel",
            "_view_count": null,
            "_view_module": "@jupyter-widgets/base",
            "_view_module_version": "1.2.0",
            "_view_name": "LayoutView",
            "align_content": null,
            "align_items": null,
            "align_self": null,
            "border": null,
            "bottom": null,
            "display": null,
            "flex": null,
            "flex_flow": null,
            "grid_area": null,
            "grid_auto_columns": null,
            "grid_auto_flow": null,
            "grid_auto_rows": null,
            "grid_column": null,
            "grid_gap": null,
            "grid_row": null,
            "grid_template_areas": null,
            "grid_template_columns": null,
            "grid_template_rows": null,
            "height": null,
            "justify_content": null,
            "justify_items": null,
            "left": null,
            "margin": null,
            "max_height": null,
            "max_width": null,
            "min_height": null,
            "min_width": null,
            "object_fit": null,
            "object_position": null,
            "order": null,
            "overflow": null,
            "overflow_x": null,
            "overflow_y": null,
            "padding": null,
            "right": null,
            "top": null,
            "visibility": null,
            "width": null
          }
        },
        "07c68ee382a546d38bcab56a7c8bba81": {
          "model_module": "@jupyter-widgets/controls",
          "model_name": "ProgressStyleModel",
          "model_module_version": "1.5.0",
          "state": {
            "_model_module": "@jupyter-widgets/controls",
            "_model_module_version": "1.5.0",
            "_model_name": "ProgressStyleModel",
            "_view_count": null,
            "_view_module": "@jupyter-widgets/base",
            "_view_module_version": "1.2.0",
            "_view_name": "StyleView",
            "bar_color": null,
            "description_width": ""
          }
        },
        "69e7ca69d2554874804fc34a7c8dd81d": {
          "model_module": "@jupyter-widgets/base",
          "model_name": "LayoutModel",
          "model_module_version": "1.2.0",
          "state": {
            "_model_module": "@jupyter-widgets/base",
            "_model_module_version": "1.2.0",
            "_model_name": "LayoutModel",
            "_view_count": null,
            "_view_module": "@jupyter-widgets/base",
            "_view_module_version": "1.2.0",
            "_view_name": "LayoutView",
            "align_content": null,
            "align_items": null,
            "align_self": null,
            "border": null,
            "bottom": null,
            "display": null,
            "flex": null,
            "flex_flow": null,
            "grid_area": null,
            "grid_auto_columns": null,
            "grid_auto_flow": null,
            "grid_auto_rows": null,
            "grid_column": null,
            "grid_gap": null,
            "grid_row": null,
            "grid_template_areas": null,
            "grid_template_columns": null,
            "grid_template_rows": null,
            "height": null,
            "justify_content": null,
            "justify_items": null,
            "left": null,
            "margin": null,
            "max_height": null,
            "max_width": null,
            "min_height": null,
            "min_width": null,
            "object_fit": null,
            "object_position": null,
            "order": null,
            "overflow": null,
            "overflow_x": null,
            "overflow_y": null,
            "padding": null,
            "right": null,
            "top": null,
            "visibility": null,
            "width": null
          }
        },
        "09fec44d766f4060a908b2a6ee499cc1": {
          "model_module": "@jupyter-widgets/controls",
          "model_name": "DescriptionStyleModel",
          "model_module_version": "1.5.0",
          "state": {
            "_model_module": "@jupyter-widgets/controls",
            "_model_module_version": "1.5.0",
            "_model_name": "DescriptionStyleModel",
            "_view_count": null,
            "_view_module": "@jupyter-widgets/base",
            "_view_module_version": "1.2.0",
            "_view_name": "StyleView",
            "description_width": ""
          }
        },
        "daaaa5fa159a46c88b345fe8d64661ba": {
          "model_module": "@jupyter-widgets/controls",
          "model_name": "HBoxModel",
          "model_module_version": "1.5.0",
          "state": {
            "_dom_classes": [],
            "_model_module": "@jupyter-widgets/controls",
            "_model_module_version": "1.5.0",
            "_model_name": "HBoxModel",
            "_view_count": null,
            "_view_module": "@jupyter-widgets/controls",
            "_view_module_version": "1.5.0",
            "_view_name": "HBoxView",
            "box_style": "",
            "children": [
              "IPY_MODEL_6effc68d1aac450dafcbfb924aa6babb",
              "IPY_MODEL_9b19e79222c14eb9bbe3450c7a229a88",
              "IPY_MODEL_2ba8213005e94013a09b4d8c52d15f1f"
            ],
            "layout": "IPY_MODEL_6f5baeb054a647b587afb9932a9c7fb7"
          }
        },
        "6effc68d1aac450dafcbfb924aa6babb": {
          "model_module": "@jupyter-widgets/controls",
          "model_name": "HTMLModel",
          "model_module_version": "1.5.0",
          "state": {
            "_dom_classes": [],
            "_model_module": "@jupyter-widgets/controls",
            "_model_module_version": "1.5.0",
            "_model_name": "HTMLModel",
            "_view_count": null,
            "_view_module": "@jupyter-widgets/controls",
            "_view_module_version": "1.5.0",
            "_view_name": "HTMLView",
            "description": "",
            "description_tooltip": null,
            "layout": "IPY_MODEL_ec9d0b40982142f1a0064a5ec3765dcf",
            "placeholder": "​",
            "style": "IPY_MODEL_bb46e2003c324084b8d52439b498da5a",
            "value": "Downloading builder script: 100%"
          }
        },
        "9b19e79222c14eb9bbe3450c7a229a88": {
          "model_module": "@jupyter-widgets/controls",
          "model_name": "FloatProgressModel",
          "model_module_version": "1.5.0",
          "state": {
            "_dom_classes": [],
            "_model_module": "@jupyter-widgets/controls",
            "_model_module_version": "1.5.0",
            "_model_name": "FloatProgressModel",
            "_view_count": null,
            "_view_module": "@jupyter-widgets/controls",
            "_view_module_version": "1.5.0",
            "_view_name": "ProgressView",
            "bar_style": "success",
            "description": "",
            "description_tooltip": null,
            "layout": "IPY_MODEL_8731688ea91b4a19afcc265d4d5c8ef5",
            "max": 6771,
            "min": 0,
            "orientation": "horizontal",
            "style": "IPY_MODEL_18b729ac3f2349e2a31fef3ff669f953",
            "value": 6771
          }
        },
        "2ba8213005e94013a09b4d8c52d15f1f": {
          "model_module": "@jupyter-widgets/controls",
          "model_name": "HTMLModel",
          "model_module_version": "1.5.0",
          "state": {
            "_dom_classes": [],
            "_model_module": "@jupyter-widgets/controls",
            "_model_module_version": "1.5.0",
            "_model_name": "HTMLModel",
            "_view_count": null,
            "_view_module": "@jupyter-widgets/controls",
            "_view_module_version": "1.5.0",
            "_view_name": "HTMLView",
            "description": "",
            "description_tooltip": null,
            "layout": "IPY_MODEL_03d015e5e56444b88b0edac0d4c9a7dd",
            "placeholder": "​",
            "style": "IPY_MODEL_0dac20c065484326a3fe111c70926e9e",
            "value": " 6.77k/6.77k [00:00&lt;00:00, 271kB/s]"
          }
        },
        "6f5baeb054a647b587afb9932a9c7fb7": {
          "model_module": "@jupyter-widgets/base",
          "model_name": "LayoutModel",
          "model_module_version": "1.2.0",
          "state": {
            "_model_module": "@jupyter-widgets/base",
            "_model_module_version": "1.2.0",
            "_model_name": "LayoutModel",
            "_view_count": null,
            "_view_module": "@jupyter-widgets/base",
            "_view_module_version": "1.2.0",
            "_view_name": "LayoutView",
            "align_content": null,
            "align_items": null,
            "align_self": null,
            "border": null,
            "bottom": null,
            "display": null,
            "flex": null,
            "flex_flow": null,
            "grid_area": null,
            "grid_auto_columns": null,
            "grid_auto_flow": null,
            "grid_auto_rows": null,
            "grid_column": null,
            "grid_gap": null,
            "grid_row": null,
            "grid_template_areas": null,
            "grid_template_columns": null,
            "grid_template_rows": null,
            "height": null,
            "justify_content": null,
            "justify_items": null,
            "left": null,
            "margin": null,
            "max_height": null,
            "max_width": null,
            "min_height": null,
            "min_width": null,
            "object_fit": null,
            "object_position": null,
            "order": null,
            "overflow": null,
            "overflow_x": null,
            "overflow_y": null,
            "padding": null,
            "right": null,
            "top": null,
            "visibility": null,
            "width": null
          }
        },
        "ec9d0b40982142f1a0064a5ec3765dcf": {
          "model_module": "@jupyter-widgets/base",
          "model_name": "LayoutModel",
          "model_module_version": "1.2.0",
          "state": {
            "_model_module": "@jupyter-widgets/base",
            "_model_module_version": "1.2.0",
            "_model_name": "LayoutModel",
            "_view_count": null,
            "_view_module": "@jupyter-widgets/base",
            "_view_module_version": "1.2.0",
            "_view_name": "LayoutView",
            "align_content": null,
            "align_items": null,
            "align_self": null,
            "border": null,
            "bottom": null,
            "display": null,
            "flex": null,
            "flex_flow": null,
            "grid_area": null,
            "grid_auto_columns": null,
            "grid_auto_flow": null,
            "grid_auto_rows": null,
            "grid_column": null,
            "grid_gap": null,
            "grid_row": null,
            "grid_template_areas": null,
            "grid_template_columns": null,
            "grid_template_rows": null,
            "height": null,
            "justify_content": null,
            "justify_items": null,
            "left": null,
            "margin": null,
            "max_height": null,
            "max_width": null,
            "min_height": null,
            "min_width": null,
            "object_fit": null,
            "object_position": null,
            "order": null,
            "overflow": null,
            "overflow_x": null,
            "overflow_y": null,
            "padding": null,
            "right": null,
            "top": null,
            "visibility": null,
            "width": null
          }
        },
        "bb46e2003c324084b8d52439b498da5a": {
          "model_module": "@jupyter-widgets/controls",
          "model_name": "DescriptionStyleModel",
          "model_module_version": "1.5.0",
          "state": {
            "_model_module": "@jupyter-widgets/controls",
            "_model_module_version": "1.5.0",
            "_model_name": "DescriptionStyleModel",
            "_view_count": null,
            "_view_module": "@jupyter-widgets/base",
            "_view_module_version": "1.2.0",
            "_view_name": "StyleView",
            "description_width": ""
          }
        },
        "8731688ea91b4a19afcc265d4d5c8ef5": {
          "model_module": "@jupyter-widgets/base",
          "model_name": "LayoutModel",
          "model_module_version": "1.2.0",
          "state": {
            "_model_module": "@jupyter-widgets/base",
            "_model_module_version": "1.2.0",
            "_model_name": "LayoutModel",
            "_view_count": null,
            "_view_module": "@jupyter-widgets/base",
            "_view_module_version": "1.2.0",
            "_view_name": "LayoutView",
            "align_content": null,
            "align_items": null,
            "align_self": null,
            "border": null,
            "bottom": null,
            "display": null,
            "flex": null,
            "flex_flow": null,
            "grid_area": null,
            "grid_auto_columns": null,
            "grid_auto_flow": null,
            "grid_auto_rows": null,
            "grid_column": null,
            "grid_gap": null,
            "grid_row": null,
            "grid_template_areas": null,
            "grid_template_columns": null,
            "grid_template_rows": null,
            "height": null,
            "justify_content": null,
            "justify_items": null,
            "left": null,
            "margin": null,
            "max_height": null,
            "max_width": null,
            "min_height": null,
            "min_width": null,
            "object_fit": null,
            "object_position": null,
            "order": null,
            "overflow": null,
            "overflow_x": null,
            "overflow_y": null,
            "padding": null,
            "right": null,
            "top": null,
            "visibility": null,
            "width": null
          }
        },
        "18b729ac3f2349e2a31fef3ff669f953": {
          "model_module": "@jupyter-widgets/controls",
          "model_name": "ProgressStyleModel",
          "model_module_version": "1.5.0",
          "state": {
            "_model_module": "@jupyter-widgets/controls",
            "_model_module_version": "1.5.0",
            "_model_name": "ProgressStyleModel",
            "_view_count": null,
            "_view_module": "@jupyter-widgets/base",
            "_view_module_version": "1.2.0",
            "_view_name": "StyleView",
            "bar_color": null,
            "description_width": ""
          }
        },
        "03d015e5e56444b88b0edac0d4c9a7dd": {
          "model_module": "@jupyter-widgets/base",
          "model_name": "LayoutModel",
          "model_module_version": "1.2.0",
          "state": {
            "_model_module": "@jupyter-widgets/base",
            "_model_module_version": "1.2.0",
            "_model_name": "LayoutModel",
            "_view_count": null,
            "_view_module": "@jupyter-widgets/base",
            "_view_module_version": "1.2.0",
            "_view_name": "LayoutView",
            "align_content": null,
            "align_items": null,
            "align_self": null,
            "border": null,
            "bottom": null,
            "display": null,
            "flex": null,
            "flex_flow": null,
            "grid_area": null,
            "grid_auto_columns": null,
            "grid_auto_flow": null,
            "grid_auto_rows": null,
            "grid_column": null,
            "grid_gap": null,
            "grid_row": null,
            "grid_template_areas": null,
            "grid_template_columns": null,
            "grid_template_rows": null,
            "height": null,
            "justify_content": null,
            "justify_items": null,
            "left": null,
            "margin": null,
            "max_height": null,
            "max_width": null,
            "min_height": null,
            "min_width": null,
            "object_fit": null,
            "object_position": null,
            "order": null,
            "overflow": null,
            "overflow_x": null,
            "overflow_y": null,
            "padding": null,
            "right": null,
            "top": null,
            "visibility": null,
            "width": null
          }
        },
        "0dac20c065484326a3fe111c70926e9e": {
          "model_module": "@jupyter-widgets/controls",
          "model_name": "DescriptionStyleModel",
          "model_module_version": "1.5.0",
          "state": {
            "_model_module": "@jupyter-widgets/controls",
            "_model_module_version": "1.5.0",
            "_model_name": "DescriptionStyleModel",
            "_view_count": null,
            "_view_module": "@jupyter-widgets/base",
            "_view_module_version": "1.2.0",
            "_view_name": "StyleView",
            "description_width": ""
          }
        }
      }
    },
    "accelerator": "GPU"
  },
  "cells": [
    {
      "cell_type": "markdown",
      "metadata": {
        "id": "view-in-github",
        "colab_type": "text"
      },
      "source": [
        "<a href=\"https://colab.research.google.com/github/yukismd/DL_for_ImageData_and_Finetuning/blob/main/text_classification_hatespeech/PT/luke-japanese-large-lite.ipynb\" target=\"_parent\"><img src=\"https://colab.research.google.com/assets/colab-badge.svg\" alt=\"Open In Colab\"/></a>"
      ]
    },
    {
      "cell_type": "code",
      "execution_count": null,
      "metadata": {
        "id": "h92x1-NiAJFP"
      },
      "outputs": [],
      "source": []
    },
    {
      "cell_type": "code",
      "source": [
        "MODEL = 'studio-ousia/luke-japanese-large-lite'"
      ],
      "metadata": {
        "id": "0D-AAE5oeKTX"
      },
      "execution_count": 1,
      "outputs": []
    },
    {
      "cell_type": "code",
      "source": [
        "!pwd"
      ],
      "metadata": {
        "id": "Qpdjt0apNiFE",
        "outputId": "6c323e74-8d6e-4a98-9976-c0f194a75f54",
        "colab": {
          "base_uri": "https://localhost:8080/"
        }
      },
      "execution_count": 2,
      "outputs": [
        {
          "output_type": "stream",
          "name": "stdout",
          "text": [
            "/content\n"
          ]
        }
      ]
    },
    {
      "cell_type": "code",
      "source": [
        "from google.colab import drive\n",
        "drive.mount('/content/drive')"
      ],
      "metadata": {
        "id": "QGA9V0g2NXQ_",
        "outputId": "38d11044-f8e3-4ac8-c36a-db7fd59c12fb",
        "colab": {
          "base_uri": "https://localhost:8080/"
        }
      },
      "execution_count": 3,
      "outputs": [
        {
          "output_type": "stream",
          "name": "stdout",
          "text": [
            "Mounted at /content/drive\n"
          ]
        }
      ]
    },
    {
      "cell_type": "code",
      "source": [
        "!ls"
      ],
      "metadata": {
        "colab": {
          "base_uri": "https://localhost:8080/"
        },
        "id": "_XTHIRVaALQZ",
        "outputId": "2b1f8a01-bd9a-4793-e62c-26bca1f23f89"
      },
      "execution_count": 4,
      "outputs": [
        {
          "output_type": "stream",
          "name": "stdout",
          "text": [
            "drive  sample_data\n"
          ]
        }
      ]
    },
    {
      "cell_type": "code",
      "source": [
        "!ls drive/MyDrive/experiment_results"
      ],
      "metadata": {
        "id": "NlwANH7iMcvM",
        "outputId": "745683e1-8f04-4a8b-d63d-93aa6cd90301",
        "colab": {
          "base_uri": "https://localhost:8080/"
        }
      },
      "execution_count": 5,
      "outputs": [
        {
          "output_type": "stream",
          "name": "stdout",
          "text": [
            "hs_txt_classification\n"
          ]
        }
      ]
    },
    {
      "cell_type": "code",
      "source": [
        "SAVE_DIR = 'drive/MyDrive/experiment_results/hs_txt_classification'"
      ],
      "metadata": {
        "id": "NELuL4I3Tsxc"
      },
      "execution_count": 6,
      "outputs": []
    },
    {
      "cell_type": "code",
      "source": [
        "!pip install datasets evaluate"
      ],
      "metadata": {
        "colab": {
          "base_uri": "https://localhost:8080/"
        },
        "id": "SDx9fZrpANwO",
        "outputId": "ef703309-4a8f-42f4-8a9a-df718ef66761"
      },
      "execution_count": 7,
      "outputs": [
        {
          "output_type": "stream",
          "name": "stdout",
          "text": [
            "Collecting datasets\n",
            "  Downloading datasets-2.19.1-py3-none-any.whl (542 kB)\n",
            "\u001b[?25l     \u001b[90m━━━━━━━━━━━━━━━━━━━━━━━━━━━━━━━━━━━━━━━━\u001b[0m \u001b[32m0.0/542.0 kB\u001b[0m \u001b[31m?\u001b[0m eta \u001b[36m-:--:--\u001b[0m\r\u001b[2K     \u001b[91m━━━━━━━━━━━━━━━━\u001b[0m\u001b[91m╸\u001b[0m\u001b[90m━━━━━━━━━━━━━━━━━━━━━━━\u001b[0m \u001b[32m225.3/542.0 kB\u001b[0m \u001b[31m6.6 MB/s\u001b[0m eta \u001b[36m0:00:01\u001b[0m\r\u001b[2K     \u001b[91m━━━━━━━━━━━━━━━━━━━━━━━━━━━━━━━━━━━━━━━\u001b[0m\u001b[90m╺\u001b[0m \u001b[32m532.5/542.0 kB\u001b[0m \u001b[31m7.8 MB/s\u001b[0m eta \u001b[36m0:00:01\u001b[0m\r\u001b[2K     \u001b[90m━━━━━━━━━━━━━━━━━━━━━━━━━━━━━━━━━━━━━━━━\u001b[0m \u001b[32m542.0/542.0 kB\u001b[0m \u001b[31m7.0 MB/s\u001b[0m eta \u001b[36m0:00:00\u001b[0m\n",
            "\u001b[?25hCollecting evaluate\n",
            "  Downloading evaluate-0.4.2-py3-none-any.whl (84 kB)\n",
            "\u001b[2K     \u001b[90m━━━━━━━━━━━━━━━━━━━━━━━━━━━━━━━━━━━━━━━━\u001b[0m \u001b[32m84.1/84.1 kB\u001b[0m \u001b[31m8.9 MB/s\u001b[0m eta \u001b[36m0:00:00\u001b[0m\n",
            "\u001b[?25hRequirement already satisfied: filelock in /usr/local/lib/python3.10/dist-packages (from datasets) (3.14.0)\n",
            "Requirement already satisfied: numpy>=1.17 in /usr/local/lib/python3.10/dist-packages (from datasets) (1.25.2)\n",
            "Requirement already satisfied: pyarrow>=12.0.0 in /usr/local/lib/python3.10/dist-packages (from datasets) (14.0.2)\n",
            "Requirement already satisfied: pyarrow-hotfix in /usr/local/lib/python3.10/dist-packages (from datasets) (0.6)\n",
            "Collecting dill<0.3.9,>=0.3.0 (from datasets)\n",
            "  Downloading dill-0.3.8-py3-none-any.whl (116 kB)\n",
            "\u001b[2K     \u001b[90m━━━━━━━━━━━━━━━━━━━━━━━━━━━━━━━━━━━━━━━━\u001b[0m \u001b[32m116.3/116.3 kB\u001b[0m \u001b[31m9.0 MB/s\u001b[0m eta \u001b[36m0:00:00\u001b[0m\n",
            "\u001b[?25hRequirement already satisfied: pandas in /usr/local/lib/python3.10/dist-packages (from datasets) (2.0.3)\n",
            "Requirement already satisfied: requests>=2.19.0 in /usr/local/lib/python3.10/dist-packages (from datasets) (2.31.0)\n",
            "Requirement already satisfied: tqdm>=4.62.1 in /usr/local/lib/python3.10/dist-packages (from datasets) (4.66.4)\n",
            "Collecting xxhash (from datasets)\n",
            "  Downloading xxhash-3.4.1-cp310-cp310-manylinux_2_17_x86_64.manylinux2014_x86_64.whl (194 kB)\n",
            "\u001b[2K     \u001b[90m━━━━━━━━━━━━━━━━━━━━━━━━━━━━━━━━━━━━━━━━\u001b[0m \u001b[32m194.1/194.1 kB\u001b[0m \u001b[31m11.6 MB/s\u001b[0m eta \u001b[36m0:00:00\u001b[0m\n",
            "\u001b[?25hCollecting multiprocess (from datasets)\n",
            "  Downloading multiprocess-0.70.16-py310-none-any.whl (134 kB)\n",
            "\u001b[2K     \u001b[90m━━━━━━━━━━━━━━━━━━━━━━━━━━━━━━━━━━━━━━━━\u001b[0m \u001b[32m134.8/134.8 kB\u001b[0m \u001b[31m9.0 MB/s\u001b[0m eta \u001b[36m0:00:00\u001b[0m\n",
            "\u001b[?25hRequirement already satisfied: fsspec[http]<=2024.3.1,>=2023.1.0 in /usr/local/lib/python3.10/dist-packages (from datasets) (2023.6.0)\n",
            "Requirement already satisfied: aiohttp in /usr/local/lib/python3.10/dist-packages (from datasets) (3.9.5)\n",
            "Requirement already satisfied: huggingface-hub>=0.21.2 in /usr/local/lib/python3.10/dist-packages (from datasets) (0.23.1)\n",
            "Requirement already satisfied: packaging in /usr/local/lib/python3.10/dist-packages (from datasets) (24.0)\n",
            "Requirement already satisfied: pyyaml>=5.1 in /usr/local/lib/python3.10/dist-packages (from datasets) (6.0.1)\n",
            "Requirement already satisfied: aiosignal>=1.1.2 in /usr/local/lib/python3.10/dist-packages (from aiohttp->datasets) (1.3.1)\n",
            "Requirement already satisfied: attrs>=17.3.0 in /usr/local/lib/python3.10/dist-packages (from aiohttp->datasets) (23.2.0)\n",
            "Requirement already satisfied: frozenlist>=1.1.1 in /usr/local/lib/python3.10/dist-packages (from aiohttp->datasets) (1.4.1)\n",
            "Requirement already satisfied: multidict<7.0,>=4.5 in /usr/local/lib/python3.10/dist-packages (from aiohttp->datasets) (6.0.5)\n",
            "Requirement already satisfied: yarl<2.0,>=1.0 in /usr/local/lib/python3.10/dist-packages (from aiohttp->datasets) (1.9.4)\n",
            "Requirement already satisfied: async-timeout<5.0,>=4.0 in /usr/local/lib/python3.10/dist-packages (from aiohttp->datasets) (4.0.3)\n",
            "Requirement already satisfied: typing-extensions>=3.7.4.3 in /usr/local/lib/python3.10/dist-packages (from huggingface-hub>=0.21.2->datasets) (4.11.0)\n",
            "Requirement already satisfied: charset-normalizer<4,>=2 in /usr/local/lib/python3.10/dist-packages (from requests>=2.19.0->datasets) (3.3.2)\n",
            "Requirement already satisfied: idna<4,>=2.5 in /usr/local/lib/python3.10/dist-packages (from requests>=2.19.0->datasets) (3.7)\n",
            "Requirement already satisfied: urllib3<3,>=1.21.1 in /usr/local/lib/python3.10/dist-packages (from requests>=2.19.0->datasets) (2.0.7)\n",
            "Requirement already satisfied: certifi>=2017.4.17 in /usr/local/lib/python3.10/dist-packages (from requests>=2.19.0->datasets) (2024.2.2)\n",
            "Requirement already satisfied: python-dateutil>=2.8.2 in /usr/local/lib/python3.10/dist-packages (from pandas->datasets) (2.8.2)\n",
            "Requirement already satisfied: pytz>=2020.1 in /usr/local/lib/python3.10/dist-packages (from pandas->datasets) (2023.4)\n",
            "Requirement already satisfied: tzdata>=2022.1 in /usr/local/lib/python3.10/dist-packages (from pandas->datasets) (2024.1)\n",
            "Requirement already satisfied: six>=1.5 in /usr/local/lib/python3.10/dist-packages (from python-dateutil>=2.8.2->pandas->datasets) (1.16.0)\n",
            "Installing collected packages: xxhash, dill, multiprocess, datasets, evaluate\n",
            "Successfully installed datasets-2.19.1 dill-0.3.8 evaluate-0.4.2 multiprocess-0.70.16 xxhash-3.4.1\n"
          ]
        }
      ]
    },
    {
      "cell_type": "code",
      "source": [
        "!pip install accelerate -U"
      ],
      "metadata": {
        "colab": {
          "base_uri": "https://localhost:8080/"
        },
        "id": "Cn9rn3b1E7c3",
        "outputId": "f6e89e23-bbb7-4f58-fb34-13c67ce305f7"
      },
      "execution_count": 8,
      "outputs": [
        {
          "output_type": "stream",
          "name": "stdout",
          "text": [
            "Collecting accelerate\n",
            "  Downloading accelerate-0.30.1-py3-none-any.whl (302 kB)\n",
            "\u001b[?25l     \u001b[90m━━━━━━━━━━━━━━━━━━━━━━━━━━━━━━━━━━━━━━━━\u001b[0m \u001b[32m0.0/302.6 kB\u001b[0m \u001b[31m?\u001b[0m eta \u001b[36m-:--:--\u001b[0m\r\u001b[2K     \u001b[91m━━━━━━━━━━━━━━━━━━━━━━━━━━━━━\u001b[0m\u001b[91m╸\u001b[0m\u001b[90m━━━━━━━━━━\u001b[0m \u001b[32m225.3/302.6 kB\u001b[0m \u001b[31m6.6 MB/s\u001b[0m eta \u001b[36m0:00:01\u001b[0m\r\u001b[2K     \u001b[90m━━━━━━━━━━━━━━━━━━━━━━━━━━━━━━━━━━━━━━━━\u001b[0m \u001b[32m302.6/302.6 kB\u001b[0m \u001b[31m6.3 MB/s\u001b[0m eta \u001b[36m0:00:00\u001b[0m\n",
            "\u001b[?25hRequirement already satisfied: numpy>=1.17 in /usr/local/lib/python3.10/dist-packages (from accelerate) (1.25.2)\n",
            "Requirement already satisfied: packaging>=20.0 in /usr/local/lib/python3.10/dist-packages (from accelerate) (24.0)\n",
            "Requirement already satisfied: psutil in /usr/local/lib/python3.10/dist-packages (from accelerate) (5.9.5)\n",
            "Requirement already satisfied: pyyaml in /usr/local/lib/python3.10/dist-packages (from accelerate) (6.0.1)\n",
            "Requirement already satisfied: torch>=1.10.0 in /usr/local/lib/python3.10/dist-packages (from accelerate) (2.3.0+cu121)\n",
            "Requirement already satisfied: huggingface-hub in /usr/local/lib/python3.10/dist-packages (from accelerate) (0.23.1)\n",
            "Requirement already satisfied: safetensors>=0.3.1 in /usr/local/lib/python3.10/dist-packages (from accelerate) (0.4.3)\n",
            "Requirement already satisfied: filelock in /usr/local/lib/python3.10/dist-packages (from torch>=1.10.0->accelerate) (3.14.0)\n",
            "Requirement already satisfied: typing-extensions>=4.8.0 in /usr/local/lib/python3.10/dist-packages (from torch>=1.10.0->accelerate) (4.11.0)\n",
            "Requirement already satisfied: sympy in /usr/local/lib/python3.10/dist-packages (from torch>=1.10.0->accelerate) (1.12)\n",
            "Requirement already satisfied: networkx in /usr/local/lib/python3.10/dist-packages (from torch>=1.10.0->accelerate) (3.3)\n",
            "Requirement already satisfied: jinja2 in /usr/local/lib/python3.10/dist-packages (from torch>=1.10.0->accelerate) (3.1.4)\n",
            "Requirement already satisfied: fsspec in /usr/local/lib/python3.10/dist-packages (from torch>=1.10.0->accelerate) (2023.6.0)\n",
            "Collecting nvidia-cuda-nvrtc-cu12==12.1.105 (from torch>=1.10.0->accelerate)\n",
            "  Using cached nvidia_cuda_nvrtc_cu12-12.1.105-py3-none-manylinux1_x86_64.whl (23.7 MB)\n",
            "Collecting nvidia-cuda-runtime-cu12==12.1.105 (from torch>=1.10.0->accelerate)\n",
            "  Using cached nvidia_cuda_runtime_cu12-12.1.105-py3-none-manylinux1_x86_64.whl (823 kB)\n",
            "Collecting nvidia-cuda-cupti-cu12==12.1.105 (from torch>=1.10.0->accelerate)\n",
            "  Using cached nvidia_cuda_cupti_cu12-12.1.105-py3-none-manylinux1_x86_64.whl (14.1 MB)\n",
            "Collecting nvidia-cudnn-cu12==8.9.2.26 (from torch>=1.10.0->accelerate)\n",
            "  Using cached nvidia_cudnn_cu12-8.9.2.26-py3-none-manylinux1_x86_64.whl (731.7 MB)\n",
            "Collecting nvidia-cublas-cu12==12.1.3.1 (from torch>=1.10.0->accelerate)\n",
            "  Using cached nvidia_cublas_cu12-12.1.3.1-py3-none-manylinux1_x86_64.whl (410.6 MB)\n",
            "Collecting nvidia-cufft-cu12==11.0.2.54 (from torch>=1.10.0->accelerate)\n",
            "  Using cached nvidia_cufft_cu12-11.0.2.54-py3-none-manylinux1_x86_64.whl (121.6 MB)\n",
            "Collecting nvidia-curand-cu12==10.3.2.106 (from torch>=1.10.0->accelerate)\n",
            "  Using cached nvidia_curand_cu12-10.3.2.106-py3-none-manylinux1_x86_64.whl (56.5 MB)\n",
            "Collecting nvidia-cusolver-cu12==11.4.5.107 (from torch>=1.10.0->accelerate)\n",
            "  Using cached nvidia_cusolver_cu12-11.4.5.107-py3-none-manylinux1_x86_64.whl (124.2 MB)\n",
            "Collecting nvidia-cusparse-cu12==12.1.0.106 (from torch>=1.10.0->accelerate)\n",
            "  Using cached nvidia_cusparse_cu12-12.1.0.106-py3-none-manylinux1_x86_64.whl (196.0 MB)\n",
            "Collecting nvidia-nccl-cu12==2.20.5 (from torch>=1.10.0->accelerate)\n",
            "  Using cached nvidia_nccl_cu12-2.20.5-py3-none-manylinux2014_x86_64.whl (176.2 MB)\n",
            "Collecting nvidia-nvtx-cu12==12.1.105 (from torch>=1.10.0->accelerate)\n",
            "  Using cached nvidia_nvtx_cu12-12.1.105-py3-none-manylinux1_x86_64.whl (99 kB)\n",
            "Requirement already satisfied: triton==2.3.0 in /usr/local/lib/python3.10/dist-packages (from torch>=1.10.0->accelerate) (2.3.0)\n",
            "Collecting nvidia-nvjitlink-cu12 (from nvidia-cusolver-cu12==11.4.5.107->torch>=1.10.0->accelerate)\n",
            "  Downloading nvidia_nvjitlink_cu12-12.5.40-py3-none-manylinux2014_x86_64.whl (21.3 MB)\n",
            "\u001b[2K     \u001b[90m━━━━━━━━━━━━━━━━━━━━━━━━━━━━━━━━━━━━━━━━\u001b[0m \u001b[32m21.3/21.3 MB\u001b[0m \u001b[31m58.4 MB/s\u001b[0m eta \u001b[36m0:00:00\u001b[0m\n",
            "\u001b[?25hRequirement already satisfied: requests in /usr/local/lib/python3.10/dist-packages (from huggingface-hub->accelerate) (2.31.0)\n",
            "Requirement already satisfied: tqdm>=4.42.1 in /usr/local/lib/python3.10/dist-packages (from huggingface-hub->accelerate) (4.66.4)\n",
            "Requirement already satisfied: MarkupSafe>=2.0 in /usr/local/lib/python3.10/dist-packages (from jinja2->torch>=1.10.0->accelerate) (2.1.5)\n",
            "Requirement already satisfied: charset-normalizer<4,>=2 in /usr/local/lib/python3.10/dist-packages (from requests->huggingface-hub->accelerate) (3.3.2)\n",
            "Requirement already satisfied: idna<4,>=2.5 in /usr/local/lib/python3.10/dist-packages (from requests->huggingface-hub->accelerate) (3.7)\n",
            "Requirement already satisfied: urllib3<3,>=1.21.1 in /usr/local/lib/python3.10/dist-packages (from requests->huggingface-hub->accelerate) (2.0.7)\n",
            "Requirement already satisfied: certifi>=2017.4.17 in /usr/local/lib/python3.10/dist-packages (from requests->huggingface-hub->accelerate) (2024.2.2)\n",
            "Requirement already satisfied: mpmath>=0.19 in /usr/local/lib/python3.10/dist-packages (from sympy->torch>=1.10.0->accelerate) (1.3.0)\n",
            "Installing collected packages: nvidia-nvtx-cu12, nvidia-nvjitlink-cu12, nvidia-nccl-cu12, nvidia-curand-cu12, nvidia-cufft-cu12, nvidia-cuda-runtime-cu12, nvidia-cuda-nvrtc-cu12, nvidia-cuda-cupti-cu12, nvidia-cublas-cu12, nvidia-cusparse-cu12, nvidia-cudnn-cu12, nvidia-cusolver-cu12, accelerate\n",
            "Successfully installed accelerate-0.30.1 nvidia-cublas-cu12-12.1.3.1 nvidia-cuda-cupti-cu12-12.1.105 nvidia-cuda-nvrtc-cu12-12.1.105 nvidia-cuda-runtime-cu12-12.1.105 nvidia-cudnn-cu12-8.9.2.26 nvidia-cufft-cu12-11.0.2.54 nvidia-curand-cu12-10.3.2.106 nvidia-cusolver-cu12-11.4.5.107 nvidia-cusparse-cu12-12.1.0.106 nvidia-nccl-cu12-2.20.5 nvidia-nvjitlink-cu12-12.5.40 nvidia-nvtx-cu12-12.1.105\n"
          ]
        }
      ]
    },
    {
      "cell_type": "code",
      "source": [
        "#!pip install fugashi unidic_lite"
      ],
      "metadata": {
        "id": "6YQ5qRYSQJ0Z"
      },
      "execution_count": null,
      "outputs": []
    },
    {
      "cell_type": "code",
      "source": [
        "import datasets\n",
        "print(datasets.__version__)\n",
        "import transformers\n",
        "print(transformers.__version__)\n",
        "from transformers import AutoTokenizer\n",
        "import evaluate\n",
        "print(evaluate.__version__)\n",
        "\n",
        "import torch\n",
        "from transformers import AutoModelForSequenceClassification, TrainingArguments, Trainer\n",
        "\n",
        "import numpy as np\n",
        "import pandas as pd\n",
        "\n",
        "import matplotlib.pyplot as plt\n",
        "\n",
        "import os\n",
        "import json"
      ],
      "metadata": {
        "id": "qXYbxMWsAPbp",
        "outputId": "80635221-f045-47b6-e97a-5b3db8c27bb9",
        "colab": {
          "base_uri": "https://localhost:8080/"
        }
      },
      "execution_count": 9,
      "outputs": [
        {
          "output_type": "stream",
          "name": "stdout",
          "text": [
            "2.19.1\n",
            "4.41.1\n",
            "0.4.2\n"
          ]
        }
      ]
    },
    {
      "cell_type": "code",
      "source": [],
      "metadata": {
        "id": "ouSo-P7fAUuY"
      },
      "execution_count": null,
      "outputs": []
    },
    {
      "cell_type": "markdown",
      "source": [
        "## 学習データ, テストデータ"
      ],
      "metadata": {
        "id": "q5Ywtc1HPPef"
      }
    },
    {
      "cell_type": "code",
      "source": [
        "df = pd.read_csv('https://sample-data-open.s3.ap-northeast-1.amazonaws.com/text_classification_hatespeech/hatespeech_train.csv')\n",
        "print(df.shape)"
      ],
      "metadata": {
        "id": "QYzVEAI0JPCw",
        "outputId": "a14a7ad2-8d3b-4d01-ee8e-dce1fa37973b",
        "colab": {
          "base_uri": "https://localhost:8080/"
        }
      },
      "execution_count": 10,
      "outputs": [
        {
          "output_type": "stream",
          "name": "stdout",
          "text": [
            "(4656, 5)\n"
          ]
        }
      ]
    },
    {
      "cell_type": "code",
      "source": [
        "df_train = df[df['hold'] != 0]    # 学習データ\n",
        "df_valid = df[df['hold'] == 0]    # 検証データ\n",
        "df_train.shape, df_valid.shape"
      ],
      "metadata": {
        "id": "7CMAZBSSJmx9",
        "outputId": "76848a86-aed7-4c95-8083-c8de8323fb9e",
        "colab": {
          "base_uri": "https://localhost:8080/"
        }
      },
      "execution_count": 11,
      "outputs": [
        {
          "output_type": "execute_result",
          "data": {
            "text/plain": [
              "((3759, 5), (897, 5))"
            ]
          },
          "metadata": {},
          "execution_count": 11
        }
      ]
    },
    {
      "cell_type": "code",
      "source": [
        "ds_train = datasets.Dataset.from_pandas(df_train[['text','label']], preserve_index=False)\n",
        "ds_valid = datasets.Dataset.from_pandas(df_valid[['text','label']], preserve_index=False)"
      ],
      "metadata": {
        "id": "wvDmcRTlJf6M"
      },
      "execution_count": 12,
      "outputs": []
    },
    {
      "cell_type": "code",
      "source": [],
      "metadata": {
        "id": "PqCWPchqcT2w"
      },
      "execution_count": null,
      "outputs": []
    },
    {
      "cell_type": "code",
      "source": [
        "df_test = pd.read_csv('https://sample-data-open.s3.ap-northeast-1.amazonaws.com/text_classification_hatespeech/hatespeech_test.csv')\n",
        "print(df_test.shape)"
      ],
      "metadata": {
        "id": "BAcU3OmUb509",
        "outputId": "7faba33b-b440-4a5b-fbd6-368869007654",
        "colab": {
          "base_uri": "https://localhost:8080/"
        }
      },
      "execution_count": 13,
      "outputs": [
        {
          "output_type": "stream",
          "name": "stdout",
          "text": [
            "(600, 4)\n"
          ]
        }
      ]
    },
    {
      "cell_type": "code",
      "source": [
        "ds_test = datasets.Dataset.from_pandas(df_test[['text','label']], preserve_index=False)"
      ],
      "metadata": {
        "id": "FlhyQDxcb_cD"
      },
      "execution_count": 14,
      "outputs": []
    },
    {
      "cell_type": "code",
      "source": [],
      "metadata": {
        "id": "uez-200RPrGf"
      },
      "execution_count": null,
      "outputs": []
    },
    {
      "cell_type": "markdown",
      "source": [
        "## トークナイザー"
      ],
      "metadata": {
        "id": "0HzcvkpSPusi"
      }
    },
    {
      "cell_type": "code",
      "source": [
        "tokenizer = AutoTokenizer.from_pretrained(MODEL)\n",
        "tokenizer"
      ],
      "metadata": {
        "colab": {
          "base_uri": "https://localhost:8080/",
          "height": 504,
          "referenced_widgets": [
            "453a97cdcb9e46a89019a406ba879ddf",
            "e0eb9271018e4e5a9a3c1ca9be36136a",
            "7fc9ac48ca1146d18b604b5340dbb33f",
            "ac5c7c6803dc4ec5a5043bea0516cb7e",
            "fe668c9a7f3b44e7ae321b5d83d50563",
            "fd92f8dbfda848129f63943d2652eff1",
            "83aa0ae6c02b41ff9673e097143eba15",
            "de853fb7a82b4f18b752678911984e17",
            "fb9fa38c0154463a979a772dd1a5ce8c",
            "a979f131c0d1442bb970b327c17bef27",
            "6ccf7e1f5dd84d4abfe45500ba011a88",
            "ab40e1693422471ba0d5fb93fb6e62cc",
            "827b649091c4403cbfa420ece4a5a230",
            "f29b7db81e514b9997d658ab29d7a0a3",
            "4cbbcc3e2aa74cf49c69335102edb012",
            "6c9fb9341f2942fb928b48bdee3e260d",
            "343f8f414bb24fbeae287f295fbb4033",
            "89de99abe0434ff9bd16a4152bdf6ff5",
            "52c5606a745a4a079110f1d92919131e",
            "650d320d076b4354808f3779848657a3",
            "990d920c07a54a16947864d14ac69eba",
            "be5d4629f442415f93e71f096fb41b1d",
            "8a0e60f6e1a543bf94e3f80abd99ba40",
            "bc25e2bf9b844eae8f86f1b081adc6fe",
            "34148d27f10147399cab89c41d5ec7ed",
            "8b0ac86a25f54c8ca03d94f219b93859",
            "aeb64953326044e3b7d086b648d2b6e0",
            "ff68ea2c237c492e92e6ac7a03243250",
            "c68a6e3e60dd4ad886873d20cee9f43a",
            "3dc2628c2d9c4dc78a3743fdac115319",
            "f5c08410f2a2454c9f4c7a7e2d609420",
            "f06150737eef4838881b236f1fbb3548",
            "3ecbf23c4e894304a6dfb7bcb3220984",
            "4da5b4e0d1f94345bdecd7f3c823d451",
            "c1e1efde651f4969be869f0743027684",
            "85895b25463248629024f77222674328",
            "63fc9e62cf03402f9cde738f4f68491c",
            "7982df30bf014a96a6f7251dd8481cc9",
            "67f613ad879947799025a905b9d660d4",
            "3d9e56f9d1f54196baa60f9ef17f858d",
            "f085b70ee880435cb4d46e665c0a81bf",
            "75d293d7e7de44a6b29a8fe66a9fa2f1",
            "1b0c6e5c39824bf290808017458b6b6e",
            "294382c2ba0142aa9d8d25bc67b413ec",
            "51014eea286e4f4eacadbc238a2964d7",
            "d9be34d6869f4fb48813adcf9fde0bf5",
            "a1df4fab7f9043eca5dae275f645a707",
            "07f0f47197ee45df82a28f5c88cfb876",
            "78f41ef317d44626b0ba780b2e5efea6",
            "5371a17de9734fa78f68125d7ff59afb",
            "60ca179a598f4c6cb21a049a954e3ace",
            "ec77fd1074f74b249f85b9b84ca2361c",
            "c79f384364c74c6d826b4f9571b46bb3",
            "c418e62e49ef4cd182eb358011784363",
            "b2a0b231afa141faa332e33cdd94ae83",
            "5b222ee41d1d40b096700c08f2d0a7bd",
            "5dc851394f1a49e6b1027536a09dd19d",
            "bc1af5d72e254cacb7ba614b2301effd",
            "ea142b1734cb4710a05617895e8357fb",
            "c30e530908394235a358d1abb841cade",
            "26c080f9b33443ec9500924b9f187017",
            "c9a11bf8a4f74984bde3d65cbf192a78",
            "53f8aec4f9a14304b5e495f5ebf917e7",
            "4cd6aa13cc1344d4b18c38b6a44813ad",
            "9064ea86d97e4831b09d4e8b3539dd40",
            "ee2f8301190a478cb95eea9fe6648b60"
          ]
        },
        "id": "64jHrk2qPrJo",
        "outputId": "aa4b58fe-d42a-4114-eb59-d16333e74c9b"
      },
      "execution_count": 15,
      "outputs": [
        {
          "output_type": "stream",
          "name": "stderr",
          "text": [
            "/usr/local/lib/python3.10/dist-packages/huggingface_hub/utils/_token.py:89: UserWarning: \n",
            "The secret `HF_TOKEN` does not exist in your Colab secrets.\n",
            "To authenticate with the Hugging Face Hub, create a token in your settings tab (https://huggingface.co/settings/tokens), set it as secret in your Google Colab and restart your session.\n",
            "You will be able to reuse this secret in all of your notebooks.\n",
            "Please note that authentication is recommended but still optional to access public models or datasets.\n",
            "  warnings.warn(\n"
          ]
        },
        {
          "output_type": "display_data",
          "data": {
            "text/plain": [
              "tokenizer_config.json:   0%|          | 0.00/1.25k [00:00<?, ?B/s]"
            ],
            "application/vnd.jupyter.widget-view+json": {
              "version_major": 2,
              "version_minor": 0,
              "model_id": "453a97cdcb9e46a89019a406ba879ddf"
            }
          },
          "metadata": {}
        },
        {
          "output_type": "display_data",
          "data": {
            "text/plain": [
              "sentencepiece.bpe.model:   0%|          | 0.00/842k [00:00<?, ?B/s]"
            ],
            "application/vnd.jupyter.widget-view+json": {
              "version_major": 2,
              "version_minor": 0,
              "model_id": "ab40e1693422471ba0d5fb93fb6e62cc"
            }
          },
          "metadata": {}
        },
        {
          "output_type": "display_data",
          "data": {
            "text/plain": [
              "entity_vocab.json:   0%|          | 0.00/51.0 [00:00<?, ?B/s]"
            ],
            "application/vnd.jupyter.widget-view+json": {
              "version_major": 2,
              "version_minor": 0,
              "model_id": "8a0e60f6e1a543bf94e3f80abd99ba40"
            }
          },
          "metadata": {}
        },
        {
          "output_type": "display_data",
          "data": {
            "text/plain": [
              "added_tokens.json:   0%|          | 0.00/33.0 [00:00<?, ?B/s]"
            ],
            "application/vnd.jupyter.widget-view+json": {
              "version_major": 2,
              "version_minor": 0,
              "model_id": "4da5b4e0d1f94345bdecd7f3c823d451"
            }
          },
          "metadata": {}
        },
        {
          "output_type": "display_data",
          "data": {
            "text/plain": [
              "special_tokens_map.json:   0%|          | 0.00/468 [00:00<?, ?B/s]"
            ],
            "application/vnd.jupyter.widget-view+json": {
              "version_major": 2,
              "version_minor": 0,
              "model_id": "51014eea286e4f4eacadbc238a2964d7"
            }
          },
          "metadata": {}
        },
        {
          "output_type": "display_data",
          "data": {
            "text/plain": [
              "tokenizer.json:   0%|          | 0.00/1.57M [00:00<?, ?B/s]"
            ],
            "application/vnd.jupyter.widget-view+json": {
              "version_major": 2,
              "version_minor": 0,
              "model_id": "5b222ee41d1d40b096700c08f2d0a7bd"
            }
          },
          "metadata": {}
        },
        {
          "output_type": "execute_result",
          "data": {
            "text/plain": [
              "MLukeTokenizer(name_or_path='studio-ousia/luke-japanese-large-lite', vocab_size=32770, model_max_length=512, is_fast=False, padding_side='right', truncation_side='right', special_tokens={'bos_token': '<s>', 'eos_token': '</s>', 'unk_token': '<unk>', 'sep_token': '</s>', 'pad_token': '<pad>', 'cls_token': '<s>', 'mask_token': '<mask>', 'additional_special_tokens': ['<ent>', '<ent2>', '<ent>', '<ent2>', '<ent>', '<ent2>']}, clean_up_tokenization_spaces=True),  added_tokens_decoder={\n",
              "\t0: AddedToken(\"<s>\", rstrip=False, lstrip=False, single_word=False, normalized=False, special=True),\n",
              "\t1: AddedToken(\"<pad>\", rstrip=False, lstrip=False, single_word=False, normalized=False, special=True),\n",
              "\t2: AddedToken(\"</s>\", rstrip=False, lstrip=False, single_word=False, normalized=False, special=True),\n",
              "\t3: AddedToken(\"<unk>\", rstrip=False, lstrip=False, single_word=False, normalized=False, special=True),\n",
              "\t32769: AddedToken(\"<mask>\", rstrip=False, lstrip=True, single_word=False, normalized=True, special=True),\n",
              "\t32770: AddedToken(\"<ent>\", rstrip=False, lstrip=False, single_word=False, normalized=True, special=True),\n",
              "\t32771: AddedToken(\"<ent2>\", rstrip=False, lstrip=False, single_word=False, normalized=True, special=True),\n",
              "}"
            ]
          },
          "metadata": {},
          "execution_count": 15
        }
      ]
    },
    {
      "cell_type": "code",
      "source": [
        "def tokenize_function(examples):\n",
        "    return tokenizer(examples[\"text\"],\n",
        "                     truncation=True,\n",
        "                     max_length=128)    # 学習データの文長が短いので128に設定"
      ],
      "metadata": {
        "id": "wfIC7GdVGqhT"
      },
      "execution_count": 16,
      "outputs": []
    },
    {
      "cell_type": "code",
      "source": [
        "ds_tkn_train = ds_train.map(tokenize_function, batched=True)\n",
        "ds_tkn_valid = ds_valid.map(tokenize_function, batched=True)\n",
        "ds_tkn_train, ds_tkn_valid"
      ],
      "metadata": {
        "colab": {
          "base_uri": "https://localhost:8080/",
          "height": 220,
          "referenced_widgets": [
            "6472925a091849e2afb2edad47c471ed",
            "6920ec9b3de04961bf5ac03835accf3d",
            "f447970f42e94bdbaab51c198313a467",
            "fe7170a4372d42eda08bbcee0aed400d",
            "2865cc838b094ebbbaeef26701a7c4b1",
            "301cce8c31234746a28f9e9a4b96c7d2",
            "5cc1ec984a3d4c6789cca38f8566b219",
            "11d45001a74b444c8bc505cac0348a60",
            "302b15b9681d40ee9b6e528eaec6913c",
            "087a85f3bfbd4a798e62d26c4c64edb5",
            "5ae10279ce6d4a789b9932d776756286",
            "7e1ddf18c4714c1d8a824de6b802a79a",
            "24d651383db34e598e2bd32ceb6f2f41",
            "5cec7fe36e2b4e169b51752f0b52d90c",
            "804ea957371e42a59860db2167cbdbf5",
            "736010a0b9c94c938bdf0f3bad6c11fb",
            "79ce1b0332324c52a4256b70a5e1e210",
            "27851f9bacd8495196684ef3791d3982",
            "0596035a0b30466f9a09486a5623997f",
            "ddc8b5cfb91247e5bc5637cb58be3a59",
            "8c6b55970cc24359958636b17badac5d",
            "d775e5272a5642a29a4994396067d63d"
          ]
        },
        "id": "PUUlHgFTQirC",
        "outputId": "d94033c7-9ce8-4f02-85df-3dcfcf103ffc"
      },
      "execution_count": 17,
      "outputs": [
        {
          "output_type": "display_data",
          "data": {
            "text/plain": [
              "Map:   0%|          | 0/3759 [00:00<?, ? examples/s]"
            ],
            "application/vnd.jupyter.widget-view+json": {
              "version_major": 2,
              "version_minor": 0,
              "model_id": "6472925a091849e2afb2edad47c471ed"
            }
          },
          "metadata": {}
        },
        {
          "output_type": "display_data",
          "data": {
            "text/plain": [
              "Map:   0%|          | 0/897 [00:00<?, ? examples/s]"
            ],
            "application/vnd.jupyter.widget-view+json": {
              "version_major": 2,
              "version_minor": 0,
              "model_id": "7e1ddf18c4714c1d8a824de6b802a79a"
            }
          },
          "metadata": {}
        },
        {
          "output_type": "execute_result",
          "data": {
            "text/plain": [
              "(Dataset({\n",
              "     features: ['text', 'label', 'input_ids', 'attention_mask'],\n",
              "     num_rows: 3759\n",
              " }),\n",
              " Dataset({\n",
              "     features: ['text', 'label', 'input_ids', 'attention_mask'],\n",
              "     num_rows: 897\n",
              " }))"
            ]
          },
          "metadata": {},
          "execution_count": 17
        }
      ]
    },
    {
      "cell_type": "code",
      "source": [
        "# textカラムの削除\n",
        "ds_tkn_train = ds_tkn_train.remove_columns(['text'])\n",
        "ds_tkn_valid = ds_tkn_valid.remove_columns(['text'])\n",
        "\n",
        "# labelカラムをlabelsへリネーム\n",
        "ds_tkn_train = ds_tkn_train.rename_column('label', 'labels')\n",
        "ds_tkn_valid = ds_tkn_valid.rename_column('label', 'labels')"
      ],
      "metadata": {
        "id": "PzVlG861ST18"
      },
      "execution_count": 18,
      "outputs": []
    },
    {
      "cell_type": "code",
      "source": [],
      "metadata": {
        "id": "J-WEP48FcbHV"
      },
      "execution_count": 18,
      "outputs": []
    },
    {
      "cell_type": "code",
      "source": [
        "ds_tkn_test = ds_test.map(tokenize_function, batched=True)\n",
        "ds_tkn_test"
      ],
      "metadata": {
        "id": "Y5y07_xUcbKd",
        "outputId": "f7b57247-bf7e-4238-b225-05592ee398eb",
        "colab": {
          "base_uri": "https://localhost:8080/",
          "height": 118,
          "referenced_widgets": [
            "fd822e1d9a3747bc935d90173b492aa6",
            "cc2d9b8342c44994b28c3b584d5234cf",
            "27735e4983a247b8980b3153b4e2a8d6",
            "e0474c968ed6481db4098ae2d6c966ac",
            "2b7eaf6b251248bf80e0ba2f44a5a5fd",
            "44b986ead81244908c1ea64ca59cdd8f",
            "6e6b7f3c0c31449ca858aaecaf346f9a",
            "3de5eb75dc154ac2a48964c4a2a7d4ee",
            "07c68ee382a546d38bcab56a7c8bba81",
            "69e7ca69d2554874804fc34a7c8dd81d",
            "09fec44d766f4060a908b2a6ee499cc1"
          ]
        }
      },
      "execution_count": 19,
      "outputs": [
        {
          "output_type": "display_data",
          "data": {
            "text/plain": [
              "Map:   0%|          | 0/600 [00:00<?, ? examples/s]"
            ],
            "application/vnd.jupyter.widget-view+json": {
              "version_major": 2,
              "version_minor": 0,
              "model_id": "fd822e1d9a3747bc935d90173b492aa6"
            }
          },
          "metadata": {}
        },
        {
          "output_type": "execute_result",
          "data": {
            "text/plain": [
              "Dataset({\n",
              "    features: ['text', 'label', 'input_ids', 'attention_mask'],\n",
              "    num_rows: 600\n",
              "})"
            ]
          },
          "metadata": {},
          "execution_count": 19
        }
      ]
    },
    {
      "cell_type": "code",
      "source": [
        "# textカラムの削除\n",
        "ds_tkn_test = ds_tkn_test.remove_columns(['text'])\n",
        "\n",
        "# labelカラムをlabelsへリネーム\n",
        "ds_tkn_test = ds_tkn_test.rename_column('label', 'labels')"
      ],
      "metadata": {
        "id": "19BjQ0tIcbQc"
      },
      "execution_count": 20,
      "outputs": []
    },
    {
      "cell_type": "code",
      "source": [],
      "metadata": {
        "id": "3qSELoQpckuL"
      },
      "execution_count": null,
      "outputs": []
    },
    {
      "cell_type": "markdown",
      "source": [
        "## 学習"
      ],
      "metadata": {
        "id": "W2vc6pKJPgoj"
      }
    },
    {
      "cell_type": "code",
      "source": [
        "metric = evaluate.load(\"f1\")\n",
        "\n",
        "# 精度評価関数\n",
        "def compute_metrics(eval_pred):\n",
        "    logits, labels = eval_pred\n",
        "    predictions = np.argmax(logits, axis=-1)\n",
        "    return metric.compute(predictions=predictions, references=labels)"
      ],
      "metadata": {
        "id": "apH2EAYKfHiB",
        "colab": {
          "base_uri": "https://localhost:8080/",
          "height": 49,
          "referenced_widgets": [
            "daaaa5fa159a46c88b345fe8d64661ba",
            "6effc68d1aac450dafcbfb924aa6babb",
            "9b19e79222c14eb9bbe3450c7a229a88",
            "2ba8213005e94013a09b4d8c52d15f1f",
            "6f5baeb054a647b587afb9932a9c7fb7",
            "ec9d0b40982142f1a0064a5ec3765dcf",
            "bb46e2003c324084b8d52439b498da5a",
            "8731688ea91b4a19afcc265d4d5c8ef5",
            "18b729ac3f2349e2a31fef3ff669f953",
            "03d015e5e56444b88b0edac0d4c9a7dd",
            "0dac20c065484326a3fe111c70926e9e"
          ]
        },
        "outputId": "34fde23e-1ea2-4b29-f05e-b4dfdab95de6"
      },
      "execution_count": 21,
      "outputs": [
        {
          "output_type": "display_data",
          "data": {
            "text/plain": [
              "Downloading builder script:   0%|          | 0.00/6.77k [00:00<?, ?B/s]"
            ],
            "application/vnd.jupyter.widget-view+json": {
              "version_major": 2,
              "version_minor": 0,
              "model_id": "daaaa5fa159a46c88b345fe8d64661ba"
            }
          },
          "metadata": {}
        }
      ]
    },
    {
      "cell_type": "code",
      "source": [
        "def do_training():\n",
        "  print('N_EPOCH: ', N_EPOCH)\n",
        "  print('BATCH_SIZE: ', BATCH_SIZE)\n",
        "  print('LR', LR)\n",
        "\n",
        "  model = AutoModelForSequenceClassification.from_pretrained(MODEL,\n",
        "                                                           num_labels=2)\n",
        "\n",
        "  trainer_args = TrainingArguments(\n",
        "    seed=np.random.randint(0, 9999),\n",
        "    output_dir=SAVE_DIR,\n",
        "    overwrite_output_dir=True,\n",
        "    do_train=True,\n",
        "    do_eval=True,\n",
        "    evaluation_strategy=\"epoch\",\n",
        "    logging_strategy=\"epoch\",\n",
        "    #save_strategy=\"epoch\",\n",
        "    save_steps=1e6, # saveのステップを大きくしてここではモデルの保存を行わないようにする\n",
        "    log_level=\"critical\",\n",
        "    num_train_epochs=N_EPOCH,\n",
        "    learning_rate=LR,\n",
        "    per_device_train_batch_size=BATCH_SIZE,\n",
        "    per_device_eval_batch_size=12,\n",
        "    save_total_limit=1,\n",
        "    fp16=True,\n",
        "    remove_unused_columns=False,\n",
        "    report_to=\"none\"\n",
        "    )\n",
        "\n",
        "  trainer = Trainer(\n",
        "    model=model,\n",
        "    args=trainer_args,\n",
        "    tokenizer=tokenizer,\n",
        "    train_dataset=ds_tkn_train,\n",
        "    eval_dataset=ds_tkn_valid,\n",
        "    compute_metrics=compute_metrics,\n",
        "    )\n",
        "\n",
        "  #return trainer\n",
        "\n",
        "  print('----------  Start Training  ----------')\n",
        "  trainer.train()\n",
        "\n",
        "  print('----------  Res on Valid  ----------')\n",
        "  res_json = trainer.evaluate()\n",
        "  print(res_json)\n",
        "\n",
        "  print('----------  Res on Test  ----------')\n",
        "  test_preds = trainer.predict(ds_tkn_test)\n",
        "  test_metric = test_preds.metrics\n",
        "  print(test_metric)\n",
        "\n",
        "  return res_json, test_metric\n"
      ],
      "metadata": {
        "id": "2rdsRn5UecT-"
      },
      "execution_count": 22,
      "outputs": []
    },
    {
      "cell_type": "code",
      "source": [],
      "metadata": {
        "id": "JXRYdEd96Szy"
      },
      "execution_count": null,
      "outputs": []
    },
    {
      "cell_type": "code",
      "source": [
        "N_EPOCH = 3\n",
        "BATCH_SIZE = 16\n",
        "LR = 0.000003  # 3e-6\n",
        "\n",
        "experiment_name = '{}_Epoch{}_Batch{}_Lr{}'.format(MODEL.split('/')[1], N_EPOCH, BATCH_SIZE, LR)\n",
        "print('Experiment Name: ', experiment_name)\n",
        "\n",
        "res_val, res_test = do_training()"
      ],
      "metadata": {
        "colab": {
          "base_uri": "https://localhost:8080/"
        },
        "id": "PQ0ug2dTS2L-",
        "outputId": "07de1052-d2c4-4ed3-87a6-c9d1ed28043d"
      },
      "execution_count": 24,
      "outputs": [
        {
          "output_type": "stream",
          "name": "stdout",
          "text": [
            "Experiment Name:  luke-japanese-large-lite_Epoch3_Batch16_Lr3e-06\n",
            "N_EPOCH:  3\n",
            "BATCH_SIZE:  16\n",
            "LR 3e-06\n"
          ]
        },
        {
          "output_type": "stream",
          "name": "stderr",
          "text": [
            "/usr/local/lib/python3.10/dist-packages/transformers/training_args.py:1474: FutureWarning: `evaluation_strategy` is deprecated and will be removed in version 4.46 of 🤗 Transformers. Use `eval_strategy` instead\n",
            "  warnings.warn(\n"
          ]
        },
        {
          "output_type": "stream",
          "name": "stdout",
          "text": [
            "----------  Start Training  ----------\n",
            "{'loss': 0.1889, 'grad_norm': 0.17683807015419006, 'learning_rate': 2.0170212765957445e-06, 'epoch': 1.0}\n",
            "{'eval_loss': 0.16933223605155945, 'eval_f1': 0.5070422535211268, 'eval_runtime': 3.0481, 'eval_samples_per_second': 294.286, 'eval_steps_per_second': 24.606, 'epoch': 1.0}\n",
            "{'loss': 0.112, 'grad_norm': 28.99391746520996, 'learning_rate': 1.0170212765957446e-06, 'epoch': 2.0}\n",
            "{'eval_loss': 0.1251472532749176, 'eval_f1': 0.6153846153846154, 'eval_runtime': 2.677, 'eval_samples_per_second': 335.079, 'eval_steps_per_second': 28.017, 'epoch': 2.0}\n",
            "{'loss': 0.0814, 'grad_norm': 1.056697130203247, 'learning_rate': 2.127659574468085e-08, 'epoch': 3.0}\n",
            "{'eval_loss': 0.14322562515735626, 'eval_f1': 0.6481481481481481, 'eval_runtime': 2.6997, 'eval_samples_per_second': 332.256, 'eval_steps_per_second': 27.781, 'epoch': 3.0}\n",
            "{'train_runtime': 219.8478, 'train_samples_per_second': 51.295, 'train_steps_per_second': 3.207, 'train_loss': 0.12746067452937998, 'epoch': 3.0}\n",
            "----------  Res on Valid  ----------\n",
            "{'eval_loss': 0.14322562515735626, 'eval_f1': 0.6481481481481481, 'eval_runtime': 2.857, 'eval_samples_per_second': 313.971, 'eval_steps_per_second': 26.252, 'epoch': 3.0}\n",
            "{'eval_loss': 0.14322562515735626, 'eval_f1': 0.6481481481481481, 'eval_runtime': 2.857, 'eval_samples_per_second': 313.971, 'eval_steps_per_second': 26.252, 'epoch': 3.0}\n",
            "----------  Res on Test  ----------\n",
            "{'test_loss': 0.18114089965820312, 'test_f1': 0.6315789473684211, 'test_runtime': 2.1396, 'test_samples_per_second': 280.422, 'test_steps_per_second': 23.369}\n"
          ]
        }
      ]
    },
    {
      "cell_type": "code",
      "source": [
        "# Save Valid Result\n",
        "save_file = os.path.join(SAVE_DIR, 'VALID__' + experiment_name + '.json')\n",
        "print(save_file)\n",
        "with open(save_file, 'w') as f:\n",
        "    json.dump(res_val, f, indent=2)\n",
        "\n",
        "# Save Test Result\n",
        "save_file = os.path.join(SAVE_DIR, 'TEST__' + experiment_name + '.json')\n",
        "print(save_file)\n",
        "with open(save_file, 'w') as f:\n",
        "    json.dump(res_test, f, indent=2)"
      ],
      "metadata": {
        "colab": {
          "base_uri": "https://localhost:8080/"
        },
        "id": "h52DaGCYGfx_",
        "outputId": "3f672e32-0a69-4962-fd41-3fa4551c3f2b"
      },
      "execution_count": 25,
      "outputs": [
        {
          "output_type": "stream",
          "name": "stdout",
          "text": [
            "drive/MyDrive/experiment_results/hs_txt_classification/VALID__luke-japanese-large-lite_Epoch3_Batch16_Lr3e-06.json\n",
            "drive/MyDrive/experiment_results/hs_txt_classification/TEST__luke-japanese-large-lite_Epoch3_Batch16_Lr3e-06.json\n"
          ]
        }
      ]
    },
    {
      "cell_type": "code",
      "source": [
        "!ls drive/MyDrive/experiment_results/hs_txt_classification"
      ],
      "metadata": {
        "id": "dMq6IEQ1g3vw",
        "outputId": "28c7dea4-0ae8-4c95-d8bf-d978192d44a0",
        "colab": {
          "base_uri": "https://localhost:8080/"
        }
      },
      "execution_count": 26,
      "outputs": [
        {
          "output_type": "stream",
          "name": "stdout",
          "text": [
            "bert-large-japanese-v2\tOLD2\n",
            "checkpoint-940\t\tTEST__luke-japanese-large-lite_Epoch3_Batch16_Lr3e-06.json\n",
            "japanese-roberta-base\tVALID__luke-japanese-large-lite_Epoch3_Batch16_Lr3e-06.json\n",
            "OLD\n"
          ]
        }
      ]
    },
    {
      "cell_type": "code",
      "source": [
        "N_EPOCH = 3\n",
        "BATCH_SIZE = 16\n",
        "LR = 0.00001  # 1e-5\n",
        "\n",
        "experiment_name = '{}_Epoch{}_Batch{}_Lr{}'.format(MODEL.split('/')[1], N_EPOCH, BATCH_SIZE, LR)\n",
        "print('Experiment Name: ', experiment_name)\n",
        "\n",
        "res_val, res_test = do_training()\n",
        "\n",
        "# Save Valid Result\n",
        "save_file = os.path.join(SAVE_DIR, 'VALID__' + experiment_name + '.json')\n",
        "print('Val Res Save File: ', save_file)\n",
        "with open(save_file, 'w') as f:\n",
        "    json.dump(res_val, f, indent=2)\n",
        "\n",
        "# Save Test Result\n",
        "save_file = os.path.join(SAVE_DIR, 'TEST__' + experiment_name + '.json')\n",
        "print('Test Res Save File: ', save_file)\n",
        "with open(save_file, 'w') as f:\n",
        "    json.dump(res_test, f, indent=2)"
      ],
      "metadata": {
        "id": "Ia40cW9Kg4BN",
        "colab": {
          "base_uri": "https://localhost:8080/"
        },
        "outputId": "55ad8ab3-f359-48f0-e9d6-6101e93e82e8"
      },
      "execution_count": 27,
      "outputs": [
        {
          "output_type": "stream",
          "name": "stdout",
          "text": [
            "Experiment Name:  luke-japanese-large-lite_Epoch3_Batch16_Lr1e-05\n",
            "N_EPOCH:  3\n",
            "BATCH_SIZE:  16\n",
            "LR 1e-05\n"
          ]
        },
        {
          "output_type": "stream",
          "name": "stderr",
          "text": [
            "/usr/local/lib/python3.10/dist-packages/transformers/training_args.py:1474: FutureWarning: `evaluation_strategy` is deprecated and will be removed in version 4.46 of 🤗 Transformers. Use `eval_strategy` instead\n",
            "  warnings.warn(\n"
          ]
        },
        {
          "output_type": "stream",
          "name": "stdout",
          "text": [
            "----------  Start Training  ----------\n",
            "{'loss': 0.1551, 'grad_norm': 11.07096004486084, 'learning_rate': 6.7092198581560284e-06, 'epoch': 1.0}\n",
            "{'eval_loss': 0.10561616718769073, 'eval_f1': 0.6929133858267715, 'eval_runtime': 2.6015, 'eval_samples_per_second': 344.796, 'eval_steps_per_second': 28.829, 'epoch': 1.0}\n",
            "{'loss': 0.0686, 'grad_norm': 3.9782965183258057, 'learning_rate': 3.375886524822695e-06, 'epoch': 2.0}\n",
            "{'eval_loss': 0.09286918491125107, 'eval_f1': 0.7708333333333333, 'eval_runtime': 2.6274, 'eval_samples_per_second': 341.398, 'eval_steps_per_second': 28.545, 'epoch': 2.0}\n",
            "{'loss': 0.021, 'grad_norm': 16.927980422973633, 'learning_rate': 4.2553191489361707e-08, 'epoch': 3.0}\n",
            "{'eval_loss': 0.1098262295126915, 'eval_f1': 0.7878787878787878, 'eval_runtime': 3.0102, 'eval_samples_per_second': 297.984, 'eval_steps_per_second': 24.915, 'epoch': 3.0}\n",
            "{'train_runtime': 222.3429, 'train_samples_per_second': 50.719, 'train_steps_per_second': 3.171, 'train_loss': 0.08156960331801827, 'epoch': 3.0}\n",
            "----------  Res on Valid  ----------\n",
            "{'eval_loss': 0.1098262295126915, 'eval_f1': 0.7878787878787878, 'eval_runtime': 3.0458, 'eval_samples_per_second': 294.505, 'eval_steps_per_second': 24.624, 'epoch': 3.0}\n",
            "{'eval_loss': 0.1098262295126915, 'eval_f1': 0.7878787878787878, 'eval_runtime': 3.0458, 'eval_samples_per_second': 294.505, 'eval_steps_per_second': 24.624, 'epoch': 3.0}\n",
            "----------  Res on Test  ----------\n",
            "{'test_loss': 0.15475259721279144, 'test_f1': 0.7123287671232877, 'test_runtime': 1.7827, 'test_samples_per_second': 336.564, 'test_steps_per_second': 28.047}\n",
            "Val Res Save File:  drive/MyDrive/experiment_results/hs_txt_classification/VALID__luke-japanese-large-lite_Epoch3_Batch16_Lr1e-05.json\n",
            "Test Res Save File:  drive/MyDrive/experiment_results/hs_txt_classification/TEST__luke-japanese-large-lite_Epoch3_Batch16_Lr1e-05.json\n"
          ]
        }
      ]
    },
    {
      "cell_type": "code",
      "source": [
        "N_EPOCH = 3\n",
        "BATCH_SIZE = 16\n",
        "LR = 0.00003  # 3e-5\n",
        "\n",
        "experiment_name = '{}_Epoch{}_Batch{}_Lr{}'.format(MODEL.split('/')[1], N_EPOCH, BATCH_SIZE, LR)\n",
        "print('Experiment Name: ', experiment_name)\n",
        "\n",
        "res_val, res_test = do_training()\n",
        "\n",
        "# Save Valid Result\n",
        "save_file = os.path.join(SAVE_DIR, 'VALID__' + experiment_name + '.json')\n",
        "print('Val Res Save File: ', save_file)\n",
        "with open(save_file, 'w') as f:\n",
        "    json.dump(res_val, f, indent=2)\n",
        "\n",
        "# Save Test Result\n",
        "save_file = os.path.join(SAVE_DIR, 'TEST__' + experiment_name + '.json')\n",
        "print('Test Res Save File: ', save_file)\n",
        "with open(save_file, 'w') as f:\n",
        "    json.dump(res_test, f, indent=2)"
      ],
      "metadata": {
        "colab": {
          "base_uri": "https://localhost:8080/"
        },
        "id": "4OKuZDdSICQu",
        "outputId": "e062ed2f-af86-46df-d4a9-c4692c33c22d"
      },
      "execution_count": 28,
      "outputs": [
        {
          "output_type": "stream",
          "name": "stdout",
          "text": [
            "Experiment Name:  luke-japanese-large-lite_Epoch3_Batch16_Lr3e-05\n",
            "N_EPOCH:  3\n",
            "BATCH_SIZE:  16\n",
            "LR 3e-05\n"
          ]
        },
        {
          "output_type": "stream",
          "name": "stderr",
          "text": [
            "/usr/local/lib/python3.10/dist-packages/transformers/training_args.py:1474: FutureWarning: `evaluation_strategy` is deprecated and will be removed in version 4.46 of 🤗 Transformers. Use `eval_strategy` instead\n",
            "  warnings.warn(\n"
          ]
        },
        {
          "output_type": "stream",
          "name": "stdout",
          "text": [
            "----------  Start Training  ----------\n",
            "{'loss': 0.1661, 'grad_norm': 4.264297008514404, 'learning_rate': 2.0085106382978722e-05, 'epoch': 1.0}\n",
            "{'eval_loss': 0.1701354831457138, 'eval_f1': 0.5681818181818182, 'eval_runtime': 2.7922, 'eval_samples_per_second': 321.258, 'eval_steps_per_second': 26.861, 'epoch': 1.0}\n",
            "{'loss': 0.0888, 'grad_norm': 0.07821416109800339, 'learning_rate': 1.0127659574468085e-05, 'epoch': 2.0}\n",
            "{'eval_loss': 0.16505032777786255, 'eval_f1': 0.6588235294117648, 'eval_runtime': 2.7142, 'eval_samples_per_second': 330.49, 'eval_steps_per_second': 27.633, 'epoch': 2.0}\n",
            "{'loss': 0.03, 'grad_norm': 0.024444399401545525, 'learning_rate': 1.7021276595744683e-07, 'epoch': 3.0}\n",
            "{'eval_loss': 0.17352549731731415, 'eval_f1': 0.6530612244897959, 'eval_runtime': 2.7023, 'eval_samples_per_second': 331.937, 'eval_steps_per_second': 27.754, 'epoch': 3.0}\n",
            "{'train_runtime': 221.6066, 'train_samples_per_second': 50.887, 'train_steps_per_second': 3.181, 'train_loss': 0.09498051853044659, 'epoch': 3.0}\n",
            "----------  Res on Valid  ----------\n",
            "{'eval_loss': 0.17352549731731415, 'eval_f1': 0.6530612244897959, 'eval_runtime': 2.9647, 'eval_samples_per_second': 302.563, 'eval_steps_per_second': 25.298, 'epoch': 3.0}\n",
            "{'eval_loss': 0.17352549731731415, 'eval_f1': 0.6530612244897959, 'eval_runtime': 2.9647, 'eval_samples_per_second': 302.563, 'eval_steps_per_second': 25.298, 'epoch': 3.0}\n",
            "----------  Res on Test  ----------\n",
            "{'test_loss': 0.18410952389240265, 'test_f1': 0.647887323943662, 'test_runtime': 2.1177, 'test_samples_per_second': 283.32, 'test_steps_per_second': 23.61}\n",
            "Val Res Save File:  drive/MyDrive/experiment_results/hs_txt_classification/VALID__luke-japanese-large-lite_Epoch3_Batch16_Lr3e-05.json\n",
            "Test Res Save File:  drive/MyDrive/experiment_results/hs_txt_classification/TEST__luke-japanese-large-lite_Epoch3_Batch16_Lr3e-05.json\n"
          ]
        }
      ]
    },
    {
      "cell_type": "code",
      "source": [
        "N_EPOCH = 3\n",
        "BATCH_SIZE = 16\n",
        "LR = 0.00005  # 5e-5\n",
        "\n",
        "experiment_name = '{}_Epoch{}_Batch{}_Lr{}'.format(MODEL.split('/')[1], N_EPOCH, BATCH_SIZE, LR)\n",
        "print('Experiment Name: ', experiment_name)\n",
        "\n",
        "res_val, res_test = do_training()\n",
        "\n",
        "# Save Valid Result\n",
        "save_file = os.path.join(SAVE_DIR, 'VALID__' + experiment_name + '.json')\n",
        "print('Val Res Save File: ', save_file)\n",
        "with open(save_file, 'w') as f:\n",
        "    json.dump(res_val, f, indent=2)\n",
        "\n",
        "# Save Test Result\n",
        "save_file = os.path.join(SAVE_DIR, 'TEST__' + experiment_name + '.json')\n",
        "print('Test Res Save File: ', save_file)\n",
        "with open(save_file, 'w') as f:\n",
        "    json.dump(res_test, f, indent=2)"
      ],
      "metadata": {
        "colab": {
          "base_uri": "https://localhost:8080/"
        },
        "id": "C4yTbAROJlUh",
        "outputId": "704b69d6-3e34-40b1-83cb-3ea72a813ac3"
      },
      "execution_count": 29,
      "outputs": [
        {
          "output_type": "stream",
          "name": "stdout",
          "text": [
            "Experiment Name:  luke-japanese-large-lite_Epoch3_Batch16_Lr5e-05\n",
            "N_EPOCH:  3\n",
            "BATCH_SIZE:  16\n",
            "LR 5e-05\n"
          ]
        },
        {
          "output_type": "stream",
          "name": "stderr",
          "text": [
            "/usr/local/lib/python3.10/dist-packages/transformers/training_args.py:1474: FutureWarning: `evaluation_strategy` is deprecated and will be removed in version 4.46 of 🤗 Transformers. Use `eval_strategy` instead\n",
            "  warnings.warn(\n"
          ]
        },
        {
          "output_type": "stream",
          "name": "stdout",
          "text": [
            "----------  Start Training  ----------\n",
            "{'loss': 0.243, 'grad_norm': 1.0816830396652222, 'learning_rate': 3.347517730496454e-05, 'epoch': 1.0}\n",
            "{'eval_loss': 0.21686427295207977, 'eval_f1': 0.0, 'eval_runtime': 2.6807, 'eval_samples_per_second': 334.619, 'eval_steps_per_second': 27.978, 'epoch': 1.0}\n",
            "{'loss': 0.2306, 'grad_norm': 0.7036086320877075, 'learning_rate': 1.6808510638297873e-05, 'epoch': 2.0}\n",
            "{'eval_loss': 0.22009693086147308, 'eval_f1': 0.0, 'eval_runtime': 2.6566, 'eval_samples_per_second': 337.645, 'eval_steps_per_second': 28.231, 'epoch': 2.0}\n",
            "{'loss': 0.2289, 'grad_norm': 0.9041065573692322, 'learning_rate': 1.4184397163120568e-07, 'epoch': 3.0}\n",
            "{'eval_loss': 0.21727757155895233, 'eval_f1': 0.0, 'eval_runtime': 3.175, 'eval_samples_per_second': 282.516, 'eval_steps_per_second': 23.622, 'epoch': 3.0}\n",
            "{'train_runtime': 217.7079, 'train_samples_per_second': 51.799, 'train_steps_per_second': 3.238, 'train_loss': 0.23419096926425365, 'epoch': 3.0}\n",
            "----------  Res on Valid  ----------\n",
            "{'eval_loss': 0.21727757155895233, 'eval_f1': 0.0, 'eval_runtime': 2.7893, 'eval_samples_per_second': 321.583, 'eval_steps_per_second': 26.888, 'epoch': 3.0}\n",
            "{'eval_loss': 0.21727757155895233, 'eval_f1': 0.0, 'eval_runtime': 2.7893, 'eval_samples_per_second': 321.583, 'eval_steps_per_second': 26.888, 'epoch': 3.0}\n",
            "----------  Res on Test  ----------\n",
            "{'test_loss': 0.2254018634557724, 'test_f1': 0.0, 'test_runtime': 1.773, 'test_samples_per_second': 338.4, 'test_steps_per_second': 28.2}\n",
            "Val Res Save File:  drive/MyDrive/experiment_results/hs_txt_classification/VALID__luke-japanese-large-lite_Epoch3_Batch16_Lr5e-05.json\n",
            "Test Res Save File:  drive/MyDrive/experiment_results/hs_txt_classification/TEST__luke-japanese-large-lite_Epoch3_Batch16_Lr5e-05.json\n"
          ]
        }
      ]
    },
    {
      "cell_type": "markdown",
      "source": [
        "#### Batch Size -> 32"
      ],
      "metadata": {
        "id": "MTpFv0XeM4Iu"
      }
    },
    {
      "cell_type": "code",
      "source": [
        "N_EPOCH = 3\n",
        "BATCH_SIZE = 32\n",
        "LR = 0.000003  # 3e-6\n",
        "\n",
        "experiment_name = '{}_Epoch{}_Batch{}_Lr{}'.format(MODEL.split('/')[1], N_EPOCH, BATCH_SIZE, LR)\n",
        "print('Experiment Name: ', experiment_name)\n",
        "\n",
        "res_val, res_test = do_training()\n",
        "\n",
        "# Save Valid Result\n",
        "save_file = os.path.join(SAVE_DIR, 'VALID__' + experiment_name + '.json')\n",
        "print(save_file)\n",
        "with open(save_file, 'w') as f:\n",
        "    json.dump(res_val, f, indent=2)\n",
        "\n",
        "# Save Test Result\n",
        "save_file = os.path.join(SAVE_DIR, 'TEST__' + experiment_name + '.json')\n",
        "print(save_file)\n",
        "with open(save_file, 'w') as f:\n",
        "    json.dump(res_test, f, indent=2)"
      ],
      "metadata": {
        "colab": {
          "base_uri": "https://localhost:8080/"
        },
        "id": "traGJnkBKyLT",
        "outputId": "33fed62b-e58f-4def-ef7c-217a95250711"
      },
      "execution_count": 30,
      "outputs": [
        {
          "output_type": "stream",
          "name": "stdout",
          "text": [
            "Experiment Name:  luke-japanese-large-lite_Epoch3_Batch32_Lr3e-06\n",
            "N_EPOCH:  3\n",
            "BATCH_SIZE:  32\n",
            "LR 3e-06\n"
          ]
        },
        {
          "output_type": "stream",
          "name": "stderr",
          "text": [
            "/usr/local/lib/python3.10/dist-packages/transformers/training_args.py:1474: FutureWarning: `evaluation_strategy` is deprecated and will be removed in version 4.46 of 🤗 Transformers. Use `eval_strategy` instead\n",
            "  warnings.warn(\n"
          ]
        },
        {
          "output_type": "stream",
          "name": "stdout",
          "text": [
            "----------  Start Training  ----------\n",
            "{'loss': 0.2001, 'grad_norm': 1.6359843015670776, 'learning_rate': 2.016949152542373e-06, 'epoch': 1.0}\n",
            "{'eval_loss': 0.1057385578751564, 'eval_f1': 0.5217391304347826, 'eval_runtime': 2.693, 'eval_samples_per_second': 333.089, 'eval_steps_per_second': 27.85, 'epoch': 1.0}\n",
            "{'loss': 0.0972, 'grad_norm': 13.028168678283691, 'learning_rate': 1.0254237288135593e-06, 'epoch': 2.0}\n",
            "{'eval_loss': 0.08661895990371704, 'eval_f1': 0.686868686868687, 'eval_runtime': 2.8381, 'eval_samples_per_second': 316.061, 'eval_steps_per_second': 26.426, 'epoch': 2.0}\n",
            "{'loss': 0.0679, 'grad_norm': 0.8082497119903564, 'learning_rate': 2.5423728813559323e-08, 'epoch': 3.0}\n",
            "{'eval_loss': 0.08999272435903549, 'eval_f1': 0.6382978723404256, 'eval_runtime': 2.985, 'eval_samples_per_second': 300.5, 'eval_steps_per_second': 25.125, 'epoch': 3.0}\n",
            "{'train_runtime': 151.2217, 'train_samples_per_second': 74.573, 'train_steps_per_second': 2.341, 'train_loss': 0.1217337759201136, 'epoch': 3.0}\n",
            "----------  Res on Valid  ----------\n",
            "{'eval_loss': 0.08999272435903549, 'eval_f1': 0.6382978723404256, 'eval_runtime': 3.0196, 'eval_samples_per_second': 297.064, 'eval_steps_per_second': 24.838, 'epoch': 3.0}\n",
            "{'eval_loss': 0.08999272435903549, 'eval_f1': 0.6382978723404256, 'eval_runtime': 3.0196, 'eval_samples_per_second': 297.064, 'eval_steps_per_second': 24.838, 'epoch': 3.0}\n",
            "----------  Res on Test  ----------\n",
            "{'test_loss': 0.12734867632389069, 'test_f1': 0.591549295774648, 'test_runtime': 1.7788, 'test_samples_per_second': 337.303, 'test_steps_per_second': 28.109}\n",
            "drive/MyDrive/experiment_results/hs_txt_classification/VALID__luke-japanese-large-lite_Epoch3_Batch32_Lr3e-06.json\n",
            "drive/MyDrive/experiment_results/hs_txt_classification/TEST__luke-japanese-large-lite_Epoch3_Batch32_Lr3e-06.json\n"
          ]
        }
      ]
    },
    {
      "cell_type": "code",
      "source": [
        "N_EPOCH = 3\n",
        "BATCH_SIZE = 32\n",
        "LR = 0.00001  # 1e-5\n",
        "\n",
        "experiment_name = '{}_Epoch{}_Batch{}_Lr{}'.format(MODEL.split('/')[1], N_EPOCH, BATCH_SIZE, LR)\n",
        "print('Experiment Name: ', experiment_name)\n",
        "\n",
        "res_val, res_test = do_training()\n",
        "\n",
        "# Save Valid Result\n",
        "save_file = os.path.join(SAVE_DIR, 'VALID__' + experiment_name + '.json')\n",
        "print('Val Res Save File: ', save_file)\n",
        "with open(save_file, 'w') as f:\n",
        "    json.dump(res_val, f, indent=2)\n",
        "\n",
        "# Save Test Result\n",
        "save_file = os.path.join(SAVE_DIR, 'TEST__' + experiment_name + '.json')\n",
        "print('Test Res Save File: ', save_file)\n",
        "with open(save_file, 'w') as f:\n",
        "    json.dump(res_test, f, indent=2)"
      ],
      "metadata": {
        "colab": {
          "base_uri": "https://localhost:8080/"
        },
        "id": "QjRsntbtMgf0",
        "outputId": "9fbd9978-5d32-413c-dc5e-121a93098ed6"
      },
      "execution_count": 31,
      "outputs": [
        {
          "output_type": "stream",
          "name": "stdout",
          "text": [
            "Experiment Name:  luke-japanese-large-lite_Epoch3_Batch32_Lr1e-05\n",
            "N_EPOCH:  3\n",
            "BATCH_SIZE:  32\n",
            "LR 1e-05\n"
          ]
        },
        {
          "output_type": "stream",
          "name": "stderr",
          "text": [
            "/usr/local/lib/python3.10/dist-packages/transformers/training_args.py:1474: FutureWarning: `evaluation_strategy` is deprecated and will be removed in version 4.46 of 🤗 Transformers. Use `eval_strategy` instead\n",
            "  warnings.warn(\n"
          ]
        },
        {
          "output_type": "stream",
          "name": "stdout",
          "text": [
            "----------  Start Training  ----------\n",
            "{'loss': 0.1518, 'grad_norm': 0.5459785461425781, 'learning_rate': 6.72316384180791e-06, 'epoch': 1.0}\n",
            "{'eval_loss': 0.09750784933567047, 'eval_f1': 0.6373626373626374, 'eval_runtime': 3.1519, 'eval_samples_per_second': 284.587, 'eval_steps_per_second': 23.795, 'epoch': 1.0}\n",
            "{'loss': 0.08, 'grad_norm': 0.08581718802452087, 'learning_rate': 3.3898305084745763e-06, 'epoch': 2.0}\n",
            "{'eval_loss': 0.0890704095363617, 'eval_f1': 0.6862745098039216, 'eval_runtime': 2.6921, 'eval_samples_per_second': 333.197, 'eval_steps_per_second': 27.859, 'epoch': 2.0}\n",
            "{'loss': 0.0307, 'grad_norm': 0.07916422933340073, 'learning_rate': 5.649717514124294e-08, 'epoch': 3.0}\n",
            "{'eval_loss': 0.11827506124973297, 'eval_f1': 0.7, 'eval_runtime': 3.0324, 'eval_samples_per_second': 295.807, 'eval_steps_per_second': 24.733, 'epoch': 3.0}\n",
            "{'train_runtime': 149.6018, 'train_samples_per_second': 75.38, 'train_steps_per_second': 2.366, 'train_loss': 0.08748723760163044, 'epoch': 3.0}\n",
            "----------  Res on Valid  ----------\n",
            "{'eval_loss': 0.11827506124973297, 'eval_f1': 0.7, 'eval_runtime': 2.6741, 'eval_samples_per_second': 335.442, 'eval_steps_per_second': 28.047, 'epoch': 3.0}\n",
            "{'eval_loss': 0.11827506124973297, 'eval_f1': 0.7, 'eval_runtime': 2.6741, 'eval_samples_per_second': 335.442, 'eval_steps_per_second': 28.047, 'epoch': 3.0}\n",
            "----------  Res on Test  ----------\n",
            "{'test_loss': 0.16275262832641602, 'test_f1': 0.6, 'test_runtime': 1.7969, 'test_samples_per_second': 333.901, 'test_steps_per_second': 27.825}\n",
            "Val Res Save File:  drive/MyDrive/experiment_results/hs_txt_classification/VALID__luke-japanese-large-lite_Epoch3_Batch32_Lr1e-05.json\n",
            "Test Res Save File:  drive/MyDrive/experiment_results/hs_txt_classification/TEST__luke-japanese-large-lite_Epoch3_Batch32_Lr1e-05.json\n"
          ]
        }
      ]
    },
    {
      "cell_type": "code",
      "source": [
        "N_EPOCH = 3\n",
        "BATCH_SIZE = 32\n",
        "LR = 0.00003  # 3e-5\n",
        "\n",
        "experiment_name = '{}_Epoch{}_Batch{}_Lr{}'.format(MODEL.split('/')[1], N_EPOCH, BATCH_SIZE, LR)\n",
        "print('Experiment Name: ', experiment_name)\n",
        "\n",
        "res_val, res_test = do_training()\n",
        "\n",
        "# Save Valid Result\n",
        "save_file = os.path.join(SAVE_DIR, 'VALID__' + experiment_name + '.json')\n",
        "print('Val Res Save File: ', save_file)\n",
        "with open(save_file, 'w') as f:\n",
        "    json.dump(res_val, f, indent=2)\n",
        "\n",
        "# Save Test Result\n",
        "save_file = os.path.join(SAVE_DIR, 'TEST__' + experiment_name + '.json')\n",
        "print('Test Res Save File: ', save_file)\n",
        "with open(save_file, 'w') as f:\n",
        "    json.dump(res_test, f, indent=2)"
      ],
      "metadata": {
        "colab": {
          "base_uri": "https://localhost:8080/"
        },
        "id": "_SK60hp2NNyA",
        "outputId": "43d3a12e-ac43-4868-b66e-9d258f19417d"
      },
      "execution_count": 32,
      "outputs": [
        {
          "output_type": "stream",
          "name": "stdout",
          "text": [
            "Experiment Name:  luke-japanese-large-lite_Epoch3_Batch32_Lr3e-05\n",
            "N_EPOCH:  3\n",
            "BATCH_SIZE:  32\n",
            "LR 3e-05\n"
          ]
        },
        {
          "output_type": "stream",
          "name": "stderr",
          "text": [
            "/usr/local/lib/python3.10/dist-packages/transformers/training_args.py:1474: FutureWarning: `evaluation_strategy` is deprecated and will be removed in version 4.46 of 🤗 Transformers. Use `eval_strategy` instead\n",
            "  warnings.warn(\n"
          ]
        },
        {
          "output_type": "stream",
          "name": "stdout",
          "text": [
            "----------  Start Training  ----------\n",
            "{'loss': 0.17, 'grad_norm': 7.0553812980651855, 'learning_rate': 1.9999999999999998e-05, 'epoch': 1.0}\n",
            "{'eval_loss': 0.0906379371881485, 'eval_f1': 0.6391752577319586, 'eval_runtime': 2.8414, 'eval_samples_per_second': 315.689, 'eval_steps_per_second': 26.395, 'epoch': 1.0}\n",
            "{'loss': 0.0864, 'grad_norm': 0.24864795804023743, 'learning_rate': 1.0084745762711864e-05, 'epoch': 2.0}\n",
            "{'eval_loss': 0.09336385875940323, 'eval_f1': 0.7142857142857142, 'eval_runtime': 2.7006, 'eval_samples_per_second': 332.149, 'eval_steps_per_second': 27.772, 'epoch': 2.0}\n",
            "{'loss': 0.0302, 'grad_norm': 0.7057201862335205, 'learning_rate': 1.694915254237288e-07, 'epoch': 3.0}\n",
            "{'eval_loss': 0.13734616339206696, 'eval_f1': 0.7102803738317756, 'eval_runtime': 2.6826, 'eval_samples_per_second': 334.379, 'eval_steps_per_second': 27.958, 'epoch': 3.0}\n",
            "{'train_runtime': 148.1671, 'train_samples_per_second': 76.11, 'train_steps_per_second': 2.389, 'train_loss': 0.09554789699403579, 'epoch': 3.0}\n",
            "----------  Res on Valid  ----------\n",
            "{'eval_loss': 0.13734616339206696, 'eval_f1': 0.7102803738317756, 'eval_runtime': 2.6742, 'eval_samples_per_second': 335.423, 'eval_steps_per_second': 28.045, 'epoch': 3.0}\n",
            "{'eval_loss': 0.13734616339206696, 'eval_f1': 0.7102803738317756, 'eval_runtime': 2.6742, 'eval_samples_per_second': 335.423, 'eval_steps_per_second': 28.045, 'epoch': 3.0}\n",
            "----------  Res on Test  ----------\n",
            "{'test_loss': 0.1433408558368683, 'test_f1': 0.7428571428571429, 'test_runtime': 1.8154, 'test_samples_per_second': 330.498, 'test_steps_per_second': 27.541}\n",
            "Val Res Save File:  drive/MyDrive/experiment_results/hs_txt_classification/VALID__luke-japanese-large-lite_Epoch3_Batch32_Lr3e-05.json\n",
            "Test Res Save File:  drive/MyDrive/experiment_results/hs_txt_classification/TEST__luke-japanese-large-lite_Epoch3_Batch32_Lr3e-05.json\n"
          ]
        }
      ]
    },
    {
      "cell_type": "code",
      "source": [
        "N_EPOCH = 3\n",
        "BATCH_SIZE = 32\n",
        "LR = 0.00005  # 5e-5\n",
        "\n",
        "experiment_name = '{}_Epoch{}_Batch{}_Lr{}'.format(MODEL.split('/')[1], N_EPOCH, BATCH_SIZE, LR)\n",
        "print('Experiment Name: ', experiment_name)\n",
        "\n",
        "res_val, res_test = do_training()\n",
        "\n",
        "# Save Valid Result\n",
        "save_file = os.path.join(SAVE_DIR, 'VALID__' + experiment_name + '.json')\n",
        "print('Val Res Save File: ', save_file)\n",
        "with open(save_file, 'w') as f:\n",
        "    json.dump(res_val, f, indent=2)\n",
        "\n",
        "# Save Test Result\n",
        "save_file = os.path.join(SAVE_DIR, 'TEST__' + experiment_name + '.json')\n",
        "print('Test Res Save File: ', save_file)\n",
        "with open(save_file, 'w') as f:\n",
        "    json.dump(res_test, f, indent=2)"
      ],
      "metadata": {
        "colab": {
          "base_uri": "https://localhost:8080/"
        },
        "id": "CRsiu7SNNZ3x",
        "outputId": "5fafba25-48b7-4a12-91cc-4d327822fb1e"
      },
      "execution_count": 33,
      "outputs": [
        {
          "output_type": "stream",
          "name": "stdout",
          "text": [
            "Experiment Name:  luke-japanese-large-lite_Epoch3_Batch32_Lr5e-05\n",
            "N_EPOCH:  3\n",
            "BATCH_SIZE:  32\n",
            "LR 5e-05\n"
          ]
        },
        {
          "output_type": "stream",
          "name": "stderr",
          "text": [
            "/usr/local/lib/python3.10/dist-packages/transformers/training_args.py:1474: FutureWarning: `evaluation_strategy` is deprecated and will be removed in version 4.46 of 🤗 Transformers. Use `eval_strategy` instead\n",
            "  warnings.warn(\n"
          ]
        },
        {
          "output_type": "stream",
          "name": "stdout",
          "text": [
            "----------  Start Training  ----------\n",
            "{'loss': 0.2346, 'grad_norm': 0.8112380504608154, 'learning_rate': 3.361581920903955e-05, 'epoch': 1.0}\n",
            "{'eval_loss': 0.21515560150146484, 'eval_f1': 0.0, 'eval_runtime': 2.666, 'eval_samples_per_second': 336.453, 'eval_steps_per_second': 28.132, 'epoch': 1.0}\n",
            "{'loss': 0.2278, 'grad_norm': 0.8923736810684204, 'learning_rate': 1.694915254237288e-05, 'epoch': 2.0}\n",
            "{'eval_loss': 0.22266942262649536, 'eval_f1': 0.0, 'eval_runtime': 3.0718, 'eval_samples_per_second': 292.008, 'eval_steps_per_second': 24.415, 'epoch': 2.0}\n",
            "{'loss': 0.2254, 'grad_norm': 0.7918222546577454, 'learning_rate': 2.8248587570621473e-07, 'epoch': 3.0}\n",
            "{'eval_loss': 0.21811603009700775, 'eval_f1': 0.0, 'eval_runtime': 2.6718, 'eval_samples_per_second': 335.731, 'eval_steps_per_second': 28.071, 'epoch': 3.0}\n",
            "{'train_runtime': 149.5741, 'train_samples_per_second': 75.394, 'train_steps_per_second': 2.367, 'train_loss': 0.2292671796292235, 'epoch': 3.0}\n",
            "----------  Res on Valid  ----------\n",
            "{'eval_loss': 0.21811603009700775, 'eval_f1': 0.0, 'eval_runtime': 2.7674, 'eval_samples_per_second': 324.134, 'eval_steps_per_second': 27.102, 'epoch': 3.0}\n",
            "{'eval_loss': 0.21811603009700775, 'eval_f1': 0.0, 'eval_runtime': 2.7674, 'eval_samples_per_second': 324.134, 'eval_steps_per_second': 27.102, 'epoch': 3.0}\n",
            "----------  Res on Test  ----------\n",
            "{'test_loss': 0.22637939453125, 'test_f1': 0.0, 'test_runtime': 2.0661, 'test_samples_per_second': 290.399, 'test_steps_per_second': 24.2}\n",
            "Val Res Save File:  drive/MyDrive/experiment_results/hs_txt_classification/VALID__luke-japanese-large-lite_Epoch3_Batch32_Lr5e-05.json\n",
            "Test Res Save File:  drive/MyDrive/experiment_results/hs_txt_classification/TEST__luke-japanese-large-lite_Epoch3_Batch32_Lr5e-05.json\n"
          ]
        }
      ]
    },
    {
      "cell_type": "code",
      "source": [],
      "metadata": {
        "id": "qPWO2v8SP34q"
      },
      "execution_count": null,
      "outputs": []
    },
    {
      "cell_type": "markdown",
      "source": [
        "#### Top4の繰り返し"
      ],
      "metadata": {
        "id": "5FNabicsRAj4"
      }
    },
    {
      "cell_type": "code",
      "source": [
        "N_EPOCH = 3\n",
        "BATCH_SIZE = 16\n",
        "LR = 0.00001  # 1e-5\n",
        "\n",
        "experiment_name = '{}_Epoch{}_Batch{}_Lr{}'.format(MODEL.split('/')[1], N_EPOCH, BATCH_SIZE, LR)\n",
        "print('Experiment Name: ', experiment_name)\n",
        "\n",
        "res_val, res_test = do_training()\n",
        "\n",
        "# Save Valid Result\n",
        "save_file = os.path.join(SAVE_DIR, 'VALID__' + experiment_name + '.json')\n",
        "print('Val Res Save File: ', save_file)\n",
        "with open(save_file, 'w') as f:\n",
        "    json.dump(res_val, f, indent=2)\n",
        "\n",
        "# Save Test Result\n",
        "save_file = os.path.join(SAVE_DIR, 'TEST__' + experiment_name + '.json')\n",
        "print('Test Res Save File: ', save_file)\n",
        "with open(save_file, 'w') as f:\n",
        "    json.dump(res_test, f, indent=2)"
      ],
      "metadata": {
        "id": "ujlNoDt3N9xC",
        "outputId": "cf979689-6e35-4858-fd26-0421735fec52",
        "colab": {
          "base_uri": "https://localhost:8080/"
        }
      },
      "execution_count": 34,
      "outputs": [
        {
          "output_type": "stream",
          "name": "stdout",
          "text": [
            "Experiment Name:  luke-japanese-large-lite_Epoch3_Batch16_Lr1e-05\n",
            "N_EPOCH:  3\n",
            "BATCH_SIZE:  16\n",
            "LR 1e-05\n"
          ]
        },
        {
          "output_type": "stream",
          "name": "stderr",
          "text": [
            "/usr/local/lib/python3.10/dist-packages/transformers/training_args.py:1474: FutureWarning: `evaluation_strategy` is deprecated and will be removed in version 4.46 of 🤗 Transformers. Use `eval_strategy` instead\n",
            "  warnings.warn(\n"
          ]
        },
        {
          "output_type": "stream",
          "name": "stdout",
          "text": [
            "----------  Start Training  ----------\n",
            "{'loss': 0.1658, 'grad_norm': inf, 'learning_rate': 6.723404255319149e-06, 'epoch': 1.0}\n",
            "{'eval_loss': 0.12499923259019852, 'eval_f1': 0.6615384615384615, 'eval_runtime': 2.7822, 'eval_samples_per_second': 322.402, 'eval_steps_per_second': 26.957, 'epoch': 1.0}\n",
            "{'loss': 0.0761, 'grad_norm': 0.3134479820728302, 'learning_rate': 3.4042553191489363e-06, 'epoch': 2.0}\n",
            "{'eval_loss': 0.15495380759239197, 'eval_f1': 0.6942148760330579, 'eval_runtime': 2.6779, 'eval_samples_per_second': 334.969, 'eval_steps_per_second': 28.007, 'epoch': 2.0}\n",
            "{'loss': 0.0323, 'grad_norm': 0.049598656594753265, 'learning_rate': 7.092198581560284e-08, 'epoch': 3.0}\n",
            "{'eval_loss': 0.12020200490951538, 'eval_f1': 0.7474747474747474, 'eval_runtime': 2.8298, 'eval_samples_per_second': 316.984, 'eval_steps_per_second': 26.504, 'epoch': 3.0}\n",
            "{'train_runtime': 238.3521, 'train_samples_per_second': 47.312, 'train_steps_per_second': 2.958, 'train_loss': 0.09141190576215162, 'epoch': 3.0}\n",
            "----------  Res on Valid  ----------\n",
            "{'eval_loss': 0.12020200490951538, 'eval_f1': 0.7474747474747474, 'eval_runtime': 3.2276, 'eval_samples_per_second': 277.913, 'eval_steps_per_second': 23.237, 'epoch': 3.0}\n",
            "{'eval_loss': 0.12020200490951538, 'eval_f1': 0.7474747474747474, 'eval_runtime': 3.2276, 'eval_samples_per_second': 277.913, 'eval_steps_per_second': 23.237, 'epoch': 3.0}\n",
            "----------  Res on Test  ----------\n",
            "{'test_loss': 0.1535637229681015, 'test_f1': 0.6567164179104478, 'test_runtime': 1.7831, 'test_samples_per_second': 336.497, 'test_steps_per_second': 28.041}\n",
            "Val Res Save File:  drive/MyDrive/experiment_results/hs_txt_classification/VALID__luke-japanese-large-lite_Epoch3_Batch16_Lr1e-05.json\n",
            "Test Res Save File:  drive/MyDrive/experiment_results/hs_txt_classification/TEST__luke-japanese-large-lite_Epoch3_Batch16_Lr1e-05.json\n"
          ]
        }
      ]
    },
    {
      "cell_type": "code",
      "source": [
        "N_EPOCH = 3\n",
        "BATCH_SIZE = 16\n",
        "LR = 0.00003  # 3e-5\n",
        "\n",
        "experiment_name = '{}_Epoch{}_Batch{}_Lr{}'.format(MODEL.split('/')[1], N_EPOCH, BATCH_SIZE, LR)\n",
        "print('Experiment Name: ', experiment_name)\n",
        "\n",
        "res_val, res_test = do_training()\n",
        "\n",
        "# Save Valid Result\n",
        "save_file = os.path.join(SAVE_DIR, 'VALID__' + experiment_name + '.json')\n",
        "print('Val Res Save File: ', save_file)\n",
        "with open(save_file, 'w') as f:\n",
        "    json.dump(res_val, f, indent=2)\n",
        "\n",
        "# Save Test Result\n",
        "save_file = os.path.join(SAVE_DIR, 'TEST__' + experiment_name + '.json')\n",
        "print('Test Res Save File: ', save_file)\n",
        "with open(save_file, 'w') as f:\n",
        "    json.dump(res_test, f, indent=2)"
      ],
      "metadata": {
        "id": "sXEurcWFj---",
        "outputId": "7a0c2185-4689-4eee-c6fa-8bef74f9f4a4",
        "colab": {
          "base_uri": "https://localhost:8080/"
        }
      },
      "execution_count": 35,
      "outputs": [
        {
          "output_type": "stream",
          "name": "stdout",
          "text": [
            "Experiment Name:  luke-japanese-large-lite_Epoch3_Batch16_Lr3e-05\n",
            "N_EPOCH:  3\n",
            "BATCH_SIZE:  16\n",
            "LR 3e-05\n"
          ]
        },
        {
          "output_type": "stream",
          "name": "stderr",
          "text": [
            "/usr/local/lib/python3.10/dist-packages/transformers/training_args.py:1474: FutureWarning: `evaluation_strategy` is deprecated and will be removed in version 4.46 of 🤗 Transformers. Use `eval_strategy` instead\n",
            "  warnings.warn(\n"
          ]
        },
        {
          "output_type": "stream",
          "name": "stdout",
          "text": [
            "----------  Start Training  ----------\n",
            "{'loss': 0.1721, 'grad_norm': 8.103814125061035, 'learning_rate': 2.0127659574468084e-05, 'epoch': 1.0}\n",
            "{'eval_loss': 0.1390731781721115, 'eval_f1': 0.5070422535211268, 'eval_runtime': 2.6956, 'eval_samples_per_second': 332.759, 'eval_steps_per_second': 27.823, 'epoch': 1.0}\n",
            "{'loss': 0.0885, 'grad_norm': 0.07130773365497589, 'learning_rate': 1.0127659574468085e-05, 'epoch': 2.0}\n",
            "{'eval_loss': 0.15759478509426117, 'eval_f1': 0.6538461538461539, 'eval_runtime': 3.1994, 'eval_samples_per_second': 280.367, 'eval_steps_per_second': 23.442, 'epoch': 2.0}\n",
            "{'loss': 0.03, 'grad_norm': 26.90654754638672, 'learning_rate': 1.276595744680851e-07, 'epoch': 3.0}\n",
            "{'eval_loss': 0.15439938008785248, 'eval_f1': 0.7234042553191491, 'eval_runtime': 2.7002, 'eval_samples_per_second': 332.202, 'eval_steps_per_second': 27.776, 'epoch': 3.0}\n",
            "{'train_runtime': 220.4409, 'train_samples_per_second': 51.157, 'train_steps_per_second': 3.198, 'train_loss': 0.09685954235969706, 'epoch': 3.0}\n",
            "----------  Res on Valid  ----------\n",
            "{'eval_loss': 0.15439938008785248, 'eval_f1': 0.7234042553191491, 'eval_runtime': 2.6998, 'eval_samples_per_second': 332.251, 'eval_steps_per_second': 27.78, 'epoch': 3.0}\n",
            "{'eval_loss': 0.15439938008785248, 'eval_f1': 0.7234042553191491, 'eval_runtime': 2.6998, 'eval_samples_per_second': 332.251, 'eval_steps_per_second': 27.78, 'epoch': 3.0}\n",
            "----------  Res on Test  ----------\n",
            "{'test_loss': 0.18229390680789948, 'test_f1': 0.6567164179104478, 'test_runtime': 1.8518, 'test_samples_per_second': 324.001, 'test_steps_per_second': 27.0}\n",
            "Val Res Save File:  drive/MyDrive/experiment_results/hs_txt_classification/VALID__luke-japanese-large-lite_Epoch3_Batch16_Lr3e-05.json\n",
            "Test Res Save File:  drive/MyDrive/experiment_results/hs_txt_classification/TEST__luke-japanese-large-lite_Epoch3_Batch16_Lr3e-05.json\n"
          ]
        }
      ]
    },
    {
      "cell_type": "code",
      "source": [
        "N_EPOCH = 3\n",
        "BATCH_SIZE = 32\n",
        "LR = 0.00001  # 1e-5\n",
        "\n",
        "experiment_name = '{}_Epoch{}_Batch{}_Lr{}'.format(MODEL.split('/')[1], N_EPOCH, BATCH_SIZE, LR)\n",
        "print('Experiment Name: ', experiment_name)\n",
        "\n",
        "res_val, res_test = do_training()\n",
        "\n",
        "# Save Valid Result\n",
        "save_file = os.path.join(SAVE_DIR, 'VALID__' + experiment_name + '.json')\n",
        "print('Val Res Save File: ', save_file)\n",
        "with open(save_file, 'w') as f:\n",
        "    json.dump(res_val, f, indent=2)\n",
        "\n",
        "# Save Test Result\n",
        "save_file = os.path.join(SAVE_DIR, 'TEST__' + experiment_name + '.json')\n",
        "print('Test Res Save File: ', save_file)\n",
        "with open(save_file, 'w') as f:\n",
        "    json.dump(res_test, f, indent=2)"
      ],
      "metadata": {
        "id": "9pPRkWq-j_JY",
        "outputId": "12d1442f-0d1d-4c7f-e5a8-711bb57232e2",
        "colab": {
          "base_uri": "https://localhost:8080/"
        }
      },
      "execution_count": 36,
      "outputs": [
        {
          "output_type": "stream",
          "name": "stdout",
          "text": [
            "Experiment Name:  luke-japanese-large-lite_Epoch3_Batch32_Lr1e-05\n",
            "N_EPOCH:  3\n",
            "BATCH_SIZE:  32\n",
            "LR 1e-05\n"
          ]
        },
        {
          "output_type": "stream",
          "name": "stderr",
          "text": [
            "/usr/local/lib/python3.10/dist-packages/transformers/training_args.py:1474: FutureWarning: `evaluation_strategy` is deprecated and will be removed in version 4.46 of 🤗 Transformers. Use `eval_strategy` instead\n",
            "  warnings.warn(\n"
          ]
        },
        {
          "output_type": "stream",
          "name": "stdout",
          "text": [
            "----------  Start Training  ----------\n",
            "{'loss': 0.1433, 'grad_norm': 8.86000919342041, 'learning_rate': 6.72316384180791e-06, 'epoch': 1.0}\n",
            "{'eval_loss': 0.10509336739778519, 'eval_f1': 0.6559999999999999, 'eval_runtime': 2.6984, 'eval_samples_per_second': 332.42, 'eval_steps_per_second': 27.794, 'epoch': 1.0}\n",
            "{'loss': 0.0658, 'grad_norm': 0.5345315337181091, 'learning_rate': 3.3898305084745763e-06, 'epoch': 2.0}\n",
            "{'eval_loss': 0.10906297713518143, 'eval_f1': 0.6896551724137931, 'eval_runtime': 2.9428, 'eval_samples_per_second': 304.817, 'eval_steps_per_second': 25.486, 'epoch': 2.0}\n",
            "{'loss': 0.0267, 'grad_norm': 0.6995502710342407, 'learning_rate': 5.649717514124294e-08, 'epoch': 3.0}\n",
            "{'eval_loss': 0.10842354595661163, 'eval_f1': 0.712871287128713, 'eval_runtime': 2.6779, 'eval_samples_per_second': 334.958, 'eval_steps_per_second': 28.007, 'epoch': 3.0}\n",
            "{'train_runtime': 148.6691, 'train_samples_per_second': 75.853, 'train_steps_per_second': 2.381, 'train_loss': 0.07861521890607931, 'epoch': 3.0}\n",
            "----------  Res on Valid  ----------\n",
            "{'eval_loss': 0.10842354595661163, 'eval_f1': 0.712871287128713, 'eval_runtime': 3.0421, 'eval_samples_per_second': 294.858, 'eval_steps_per_second': 24.654, 'epoch': 3.0}\n",
            "{'eval_loss': 0.10842354595661163, 'eval_f1': 0.712871287128713, 'eval_runtime': 3.0421, 'eval_samples_per_second': 294.858, 'eval_steps_per_second': 24.654, 'epoch': 3.0}\n",
            "----------  Res on Test  ----------\n",
            "{'test_loss': 0.1514335721731186, 'test_f1': 0.6388888888888888, 'test_runtime': 2.1644, 'test_samples_per_second': 277.219, 'test_steps_per_second': 23.102}\n",
            "Val Res Save File:  drive/MyDrive/experiment_results/hs_txt_classification/VALID__luke-japanese-large-lite_Epoch3_Batch32_Lr1e-05.json\n",
            "Test Res Save File:  drive/MyDrive/experiment_results/hs_txt_classification/TEST__luke-japanese-large-lite_Epoch3_Batch32_Lr1e-05.json\n"
          ]
        }
      ]
    },
    {
      "cell_type": "code",
      "source": [
        "N_EPOCH = 3\n",
        "BATCH_SIZE = 32\n",
        "LR = 0.00003  # 3e-5\n",
        "\n",
        "experiment_name = '{}_Epoch{}_Batch{}_Lr{}'.format(MODEL.split('/')[1], N_EPOCH, BATCH_SIZE, LR)\n",
        "print('Experiment Name: ', experiment_name)\n",
        "\n",
        "res_val, res_test = do_training()\n",
        "\n",
        "# Save Valid Result\n",
        "save_file = os.path.join(SAVE_DIR, 'VALID__' + experiment_name + '.json')\n",
        "print('Val Res Save File: ', save_file)\n",
        "with open(save_file, 'w') as f:\n",
        "    json.dump(res_val, f, indent=2)\n",
        "\n",
        "# Save Test Result\n",
        "save_file = os.path.join(SAVE_DIR, 'TEST__' + experiment_name + '.json')\n",
        "print('Test Res Save File: ', save_file)\n",
        "with open(save_file, 'w') as f:\n",
        "    json.dump(res_test, f, indent=2)"
      ],
      "metadata": {
        "id": "yHZ-85BQj_RM",
        "outputId": "4ca97caa-0eea-497c-edd0-270dcf75968c",
        "colab": {
          "base_uri": "https://localhost:8080/"
        }
      },
      "execution_count": 37,
      "outputs": [
        {
          "output_type": "stream",
          "name": "stdout",
          "text": [
            "Experiment Name:  luke-japanese-large-lite_Epoch3_Batch32_Lr3e-05\n",
            "N_EPOCH:  3\n",
            "BATCH_SIZE:  32\n",
            "LR 3e-05\n"
          ]
        },
        {
          "output_type": "stream",
          "name": "stderr",
          "text": [
            "/usr/local/lib/python3.10/dist-packages/transformers/training_args.py:1474: FutureWarning: `evaluation_strategy` is deprecated and will be removed in version 4.46 of 🤗 Transformers. Use `eval_strategy` instead\n",
            "  warnings.warn(\n"
          ]
        },
        {
          "output_type": "stream",
          "name": "stdout",
          "text": [
            "----------  Start Training  ----------\n",
            "{'loss': 0.1417, 'grad_norm': 15.400201797485352, 'learning_rate': 2.0084745762711865e-05, 'epoch': 1.0}\n",
            "{'eval_loss': 0.09387703239917755, 'eval_f1': 0.6904761904761905, 'eval_runtime': 2.8902, 'eval_samples_per_second': 310.362, 'eval_steps_per_second': 25.95, 'epoch': 1.0}\n",
            "{'loss': 0.0586, 'grad_norm': 2.167490005493164, 'learning_rate': 1.016949152542373e-05, 'epoch': 2.0}\n",
            "{'eval_loss': 0.11248192936182022, 'eval_f1': 0.6956521739130435, 'eval_runtime': 2.6829, 'eval_samples_per_second': 334.338, 'eval_steps_per_second': 27.955, 'epoch': 2.0}\n",
            "{'loss': 0.0181, 'grad_norm': 0.014353667385876179, 'learning_rate': 1.694915254237288e-07, 'epoch': 3.0}\n",
            "{'eval_loss': 0.12999524176120758, 'eval_f1': 0.7115384615384615, 'eval_runtime': 3.183, 'eval_samples_per_second': 281.808, 'eval_steps_per_second': 23.563, 'epoch': 3.0}\n",
            "{'train_runtime': 153.3327, 'train_samples_per_second': 73.546, 'train_steps_per_second': 2.309, 'train_loss': 0.07280329526480982, 'epoch': 3.0}\n",
            "----------  Res on Valid  ----------\n",
            "{'eval_loss': 0.12999524176120758, 'eval_f1': 0.7115384615384615, 'eval_runtime': 2.6802, 'eval_samples_per_second': 334.679, 'eval_steps_per_second': 27.983, 'epoch': 3.0}\n",
            "{'eval_loss': 0.12999524176120758, 'eval_f1': 0.7115384615384615, 'eval_runtime': 2.6802, 'eval_samples_per_second': 334.679, 'eval_steps_per_second': 27.983, 'epoch': 3.0}\n",
            "----------  Res on Test  ----------\n",
            "{'test_loss': 0.15312746167182922, 'test_f1': 0.7123287671232877, 'test_runtime': 1.7813, 'test_samples_per_second': 336.837, 'test_steps_per_second': 28.07}\n",
            "Val Res Save File:  drive/MyDrive/experiment_results/hs_txt_classification/VALID__luke-japanese-large-lite_Epoch3_Batch32_Lr3e-05.json\n",
            "Test Res Save File:  drive/MyDrive/experiment_results/hs_txt_classification/TEST__luke-japanese-large-lite_Epoch3_Batch32_Lr3e-05.json\n"
          ]
        }
      ]
    }
  ]
}