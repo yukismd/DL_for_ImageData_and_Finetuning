{
 "cells": [
  {
   "cell_type": "code",
   "execution_count": null,
   "id": "a4b3f30f",
   "metadata": {},
   "outputs": [],
   "source": []
  },
  {
   "cell_type": "markdown",
   "id": "71bbc766",
   "metadata": {},
   "source": [
    "Text Classification - Sentiment Analysis Model\n",
    "- https://huggingface.co/lxyuan/distilbert-base-multilingual-cased-sentiments-student\n",
    "- https://huggingface.co/jarvisx17/japanese-sentiment-analysis"
   ]
  },
  {
   "cell_type": "markdown",
   "id": "1c76a8ab",
   "metadata": {},
   "source": [
    "Zero-Shot Classification\n",
    "- https://huggingface.co/MoritzLaurer/mDeBERTa-v3-base-xnli-multilingual-nli-2mil7"
   ]
  },
  {
   "cell_type": "code",
   "execution_count": null,
   "id": "8e8feddf",
   "metadata": {},
   "outputs": [],
   "source": []
  },
  {
   "cell_type": "code",
   "execution_count": 76,
   "id": "a920b2ef",
   "metadata": {},
   "outputs": [],
   "source": [
    "import pandas as pd\n",
    "from tqdm import tqdm\n",
    "\n",
    "from transformers import pipeline"
   ]
  },
  {
   "cell_type": "code",
   "execution_count": null,
   "id": "c02f2b6e",
   "metadata": {},
   "outputs": [],
   "source": []
  },
  {
   "cell_type": "code",
   "execution_count": null,
   "id": "d53de9ec",
   "metadata": {},
   "outputs": [],
   "source": [
    "!ls ../tmp"
   ]
  },
  {
   "cell_type": "code",
   "execution_count": 3,
   "id": "020cac4f",
   "metadata": {},
   "outputs": [
    {
     "data": {
      "text/plain": [
       "((4656, 5), (600, 4))"
      ]
     },
     "execution_count": 3,
     "metadata": {},
     "output_type": "execute_result"
    }
   ],
   "source": [
    "df_train = pd.read_csv('../tmp/hatespeech_train.csv')\n",
    "df_test = pd.read_csv('../tmp/hatespeech_test.csv')\n",
    "df_train.shape, df_test.shape"
   ]
  },
  {
   "cell_type": "code",
   "execution_count": 4,
   "id": "69f2e707",
   "metadata": {},
   "outputs": [
    {
     "data": {
      "text/html": [
       "<div>\n",
       "<style scoped>\n",
       "    .dataframe tbody tr th:only-of-type {\n",
       "        vertical-align: middle;\n",
       "    }\n",
       "\n",
       "    .dataframe tbody tr th {\n",
       "        vertical-align: top;\n",
       "    }\n",
       "\n",
       "    .dataframe thead th {\n",
       "        text-align: right;\n",
       "    }\n",
       "</style>\n",
       "<table border=\"1\" class=\"dataframe\">\n",
       "  <thead>\n",
       "    <tr style=\"text-align: right;\">\n",
       "      <th></th>\n",
       "      <th>id</th>\n",
       "      <th>source</th>\n",
       "      <th>text</th>\n",
       "      <th>label</th>\n",
       "      <th>hold</th>\n",
       "    </tr>\n",
       "  </thead>\n",
       "  <tbody>\n",
       "    <tr>\n",
       "      <th>0</th>\n",
       "      <td>b1b0d5e6c</td>\n",
       "      <td>newsplus</td>\n",
       "      <td>手引きしたのは高い確率で大院君だよなぁ</td>\n",
       "      <td>0</td>\n",
       "      <td>2</td>\n",
       "    </tr>\n",
       "    <tr>\n",
       "      <th>1</th>\n",
       "      <td>a5e29c5f1</td>\n",
       "      <td>livejupiter</td>\n",
       "      <td>いや別にワイが困るわけじゃないからええけど対応大変やなぁと思ってな</td>\n",
       "      <td>0</td>\n",
       "      <td>1</td>\n",
       "    </tr>\n",
       "    <tr>\n",
       "      <th>2</th>\n",
       "      <td>bd72cb57e</td>\n",
       "      <td>newsplus</td>\n",
       "      <td>そこで家族会すら総スカンを食らった極左を出すあたり頭が逝ってるな\\n結局動かぬ証拠だから動か...</td>\n",
       "      <td>0</td>\n",
       "      <td>4</td>\n",
       "    </tr>\n",
       "    <tr>\n",
       "      <th>3</th>\n",
       "      <td>66387bae8</td>\n",
       "      <td>news4vip</td>\n",
       "      <td>もともとB'zが好きだったんだが松本のソロアルバムでtake5カバーしててな\\nそれで原曲聴...</td>\n",
       "      <td>0</td>\n",
       "      <td>1</td>\n",
       "    </tr>\n",
       "    <tr>\n",
       "      <th>4</th>\n",
       "      <td>b80dc3a94</td>\n",
       "      <td>livejupiter</td>\n",
       "      <td>スタンドって本体の内面現すんだよな\\n\\nいろいろ想像するとおもろいわ\\n何でDIOは時止め...</td>\n",
       "      <td>0</td>\n",
       "      <td>2</td>\n",
       "    </tr>\n",
       "  </tbody>\n",
       "</table>\n",
       "</div>"
      ],
      "text/plain": [
       "          id       source                                               text  \\\n",
       "0  b1b0d5e6c     newsplus                                手引きしたのは高い確率で大院君だよなぁ   \n",
       "1  a5e29c5f1  livejupiter                  いや別にワイが困るわけじゃないからええけど対応大変やなぁと思ってな   \n",
       "2  bd72cb57e     newsplus  そこで家族会すら総スカンを食らった極左を出すあたり頭が逝ってるな\\n結局動かぬ証拠だから動か...   \n",
       "3  66387bae8     news4vip  もともとB'zが好きだったんだが松本のソロアルバムでtake5カバーしててな\\nそれで原曲聴...   \n",
       "4  b80dc3a94  livejupiter  スタンドって本体の内面現すんだよな\\n\\nいろいろ想像するとおもろいわ\\n何でDIOは時止め...   \n",
       "\n",
       "   label  hold  \n",
       "0      0     2  \n",
       "1      0     1  \n",
       "2      0     4  \n",
       "3      0     1  \n",
       "4      0     2  "
      ]
     },
     "execution_count": 4,
     "metadata": {},
     "output_type": "execute_result"
    }
   ],
   "source": [
    "df_train.head()"
   ]
  },
  {
   "cell_type": "code",
   "execution_count": 5,
   "id": "a82b3ff5",
   "metadata": {},
   "outputs": [
    {
     "data": {
      "text/html": [
       "<div>\n",
       "<style scoped>\n",
       "    .dataframe tbody tr th:only-of-type {\n",
       "        vertical-align: middle;\n",
       "    }\n",
       "\n",
       "    .dataframe tbody tr th {\n",
       "        vertical-align: top;\n",
       "    }\n",
       "\n",
       "    .dataframe thead th {\n",
       "        text-align: right;\n",
       "    }\n",
       "</style>\n",
       "<table border=\"1\" class=\"dataframe\">\n",
       "  <thead>\n",
       "    <tr style=\"text-align: right;\">\n",
       "      <th></th>\n",
       "      <th>id</th>\n",
       "      <th>source</th>\n",
       "      <th>text</th>\n",
       "      <th>label</th>\n",
       "    </tr>\n",
       "  </thead>\n",
       "  <tbody>\n",
       "    <tr>\n",
       "      <th>0</th>\n",
       "      <td>e3d3e578b</td>\n",
       "      <td>news4vip</td>\n",
       "      <td>まぁ、俺の言ってることは余りあてにしないでくれwwww\\n\\n必ずいい人は現れるよ</td>\n",
       "      <td>0</td>\n",
       "    </tr>\n",
       "    <tr>\n",
       "      <th>1</th>\n",
       "      <td>a728f26db</td>\n",
       "      <td>news4vip</td>\n",
       "      <td>すまないがそれはレンジのほうか？\\nそれともトースター？</td>\n",
       "      <td>0</td>\n",
       "    </tr>\n",
       "    <tr>\n",
       "      <th>2</th>\n",
       "      <td>c53e66dc9</td>\n",
       "      <td>livejupiter</td>\n",
       "      <td>そら大不況で独り勝ちした金持ちを殺してしかも自分もちゃんと腹切ってるからな\\n今で言うならリ...</td>\n",
       "      <td>0</td>\n",
       "    </tr>\n",
       "    <tr>\n",
       "      <th>3</th>\n",
       "      <td>fb3b600fb</td>\n",
       "      <td>newsplus</td>\n",
       "      <td>外国や外国人に税金や公的資金を使うのは違法と言ってくれたら、民進党の支持率は爆上げだろうな。</td>\n",
       "      <td>0</td>\n",
       "    </tr>\n",
       "    <tr>\n",
       "      <th>4</th>\n",
       "      <td>ef9cd1326</td>\n",
       "      <td>newsplus</td>\n",
       "      <td>中国人は、日本の年金制度にものらないとw</td>\n",
       "      <td>0</td>\n",
       "    </tr>\n",
       "  </tbody>\n",
       "</table>\n",
       "</div>"
      ],
      "text/plain": [
       "          id       source                                               text  \\\n",
       "0  e3d3e578b     news4vip          まぁ、俺の言ってることは余りあてにしないでくれwwww\\n\\n必ずいい人は現れるよ   \n",
       "1  a728f26db     news4vip                       すまないがそれはレンジのほうか？\\nそれともトースター？   \n",
       "2  c53e66dc9  livejupiter  そら大不況で独り勝ちした金持ちを殺してしかも自分もちゃんと腹切ってるからな\\n今で言うならリ...   \n",
       "3  fb3b600fb     newsplus     外国や外国人に税金や公的資金を使うのは違法と言ってくれたら、民進党の支持率は爆上げだろうな。   \n",
       "4  ef9cd1326     newsplus                               中国人は、日本の年金制度にものらないとw   \n",
       "\n",
       "   label  \n",
       "0      0  \n",
       "1      0  \n",
       "2      0  \n",
       "3      0  \n",
       "4      0  "
      ]
     },
     "execution_count": 5,
     "metadata": {},
     "output_type": "execute_result"
    }
   ],
   "source": [
    "df_test.head()"
   ]
  },
  {
   "cell_type": "code",
   "execution_count": 6,
   "id": "b51db229",
   "metadata": {},
   "outputs": [
    {
     "data": {
      "text/plain": [
       "18                      女なんてまともなやつはいないぞ\\n彼女なんて絶対に作るもんじゃない\n",
       "30                            ちなみにチンパンジーは99％な、韓国人は猿以下だってよ\n",
       "31      人に大怪我させた飼い犬や狂犬病のおそれがある野良犬は刹処分に決まってんだろ\\n犬の話を人間に...\n",
       "35      むしろ日本が勝ってるところ見つけるのが難しいからな\\n自動車とカメラぐらいや\\nこんなお先真...\n",
       "39      相変わらず韓国はキチガイだなあ\\n報道機関が「勝手な仇名」で他国の君主を呼んでる\\n例えば日...\n",
       "                              ...                        \n",
       "4526    女優みたいな清純というか普通の落ち着いた女性が全然いないのが悲しい\\nアメリカ被れの女なんか...\n",
       "4570                                      女は論理的思考が苦手な人が多い\n",
       "4572    男は皆のためを考えるが、女は女のためしか考えない。\\nこれ事実な。\\nその証拠に女の政治家と...\n",
       "4605                         何語かも解からんわ\\n死ねよウンコ在日アイヌめ\\n殺すぞ\n",
       "4608                                イスラムは多文化共生の悪影響の最もたるもの\n",
       "Name: text, Length: 271, dtype: object"
      ]
     },
     "execution_count": 6,
     "metadata": {},
     "output_type": "execute_result"
    }
   ],
   "source": [
    "df_train[df_train['label']==1]['text']"
   ]
  },
  {
   "cell_type": "code",
   "execution_count": 7,
   "id": "aa71a420",
   "metadata": {},
   "outputs": [
    {
     "data": {
      "text/plain": [
       "0                                     手引きしたのは高い確率で大院君だよなぁ\n",
       "1                       いや別にワイが困るわけじゃないからええけど対応大変やなぁと思ってな\n",
       "2       そこで家族会すら総スカンを食らった極左を出すあたり頭が逝ってるな\\n結局動かぬ証拠だから動か...\n",
       "3       もともとB'zが好きだったんだが松本のソロアルバムでtake5カバーしててな\\nそれで原曲聴...\n",
       "4       スタンドって本体の内面現すんだよな\\n\\nいろいろ想像するとおもろいわ\\n何でDIOは時止め...\n",
       "                              ...                        \n",
       "4651                                         すまん。\\nありがとう。\n",
       "4652    人集まったり伸びたらそうするで\\nあっちで１からやっても誰もおらんからな\\nここでもおらんか...\n",
       "4653    （；ﾟДﾟ）スマホだったら、おーぷんstormってのがありますね\\n今スマホにインスコして書...\n",
       "4654    実際には戦わなきゃ強姦されて略奪されて殺されるだけ\\n日本もベトナムもイラクも米軍兵に蹂躙さ...\n",
       "4655     女が近くにいるとムラムラして勉強出来ない\\n家にいるとシコってしまって勉強出来ない\\nどうすれば\n",
       "Name: text, Length: 4385, dtype: object"
      ]
     },
     "execution_count": 7,
     "metadata": {},
     "output_type": "execute_result"
    }
   ],
   "source": [
    "df_train[df_train['label']==0]['text']"
   ]
  },
  {
   "cell_type": "code",
   "execution_count": 13,
   "id": "a232beef",
   "metadata": {},
   "outputs": [],
   "source": [
    "# label=1（ヘイトスピーチ） examples\n",
    "label1_1 = df_train[df_train['label']==1]['text'][31]\n",
    "label1_2 = df_train[df_train['label']==1]['text'][39]\n",
    "label1_3 = df_train[df_train['label']==1]['text'][4526]\n",
    "\n",
    "# label=0（ヘイトスピーチでない） examples\n",
    "label0_1 = df_train[df_train['label']==0]['text'][1]\n",
    "label0_2 = df_train[df_train['label']==0]['text'][3]\n",
    "label0_3 = df_train[df_train['label']==0]['text'][4652]\n",
    "\n",
    "examples = [label1_1, label1_2, label1_3, label0_1, label0_2, label0_3]"
   ]
  },
  {
   "cell_type": "code",
   "execution_count": null,
   "id": "90ea24ce",
   "metadata": {},
   "outputs": [],
   "source": []
  },
  {
   "cell_type": "code",
   "execution_count": null,
   "id": "7a213281",
   "metadata": {},
   "outputs": [],
   "source": []
  },
  {
   "cell_type": "markdown",
   "id": "e8498c51",
   "metadata": {},
   "source": [
    "## Text Classification - Sentiment Analysis Model"
   ]
  },
  {
   "cell_type": "markdown",
   "id": "1ccb1636",
   "metadata": {},
   "source": [
    "### lxyuan/distilbert-base-multilingual-cased-sentiments-student"
   ]
  },
  {
   "cell_type": "code",
   "execution_count": 10,
   "id": "8a510f51",
   "metadata": {},
   "outputs": [
    {
     "name": "stderr",
     "output_type": "stream",
     "text": [
      "/opt/anaconda3/envs/PyTorch/lib/python3.8/site-packages/transformers/pipelines/text_classification.py:104: UserWarning: `return_all_scores` is now deprecated,  if want a similar functionality use `top_k=None` instead of `return_all_scores=True` or `top_k=1` instead of `return_all_scores=False`.\n",
      "  warnings.warn(\n"
     ]
    },
    {
     "data": {
      "text/plain": [
       "<transformers.pipelines.text_classification.TextClassificationPipeline at 0x7f97d8d4b910>"
      ]
     },
     "execution_count": 10,
     "metadata": {},
     "output_type": "execute_result"
    }
   ],
   "source": [
    "distilbert_base_multilingual_cased_sentiments_student = pipeline(\n",
    "    model=\"lxyuan/distilbert-base-multilingual-cased-sentiments-student\", \n",
    "    return_all_scores=True\n",
    ")\n",
    "distilbert_base_multilingual_cased_sentiments_student"
   ]
  },
  {
   "cell_type": "code",
   "execution_count": 11,
   "id": "0e341b7e",
   "metadata": {},
   "outputs": [
    {
     "data": {
      "text/plain": [
       "[[{'label': 'positive', 'score': 0.17284806072711945},\n",
       "  {'label': 'neutral', 'score': 0.16055375337600708},\n",
       "  {'label': 'negative', 'score': 0.6665981411933899}]]"
      ]
     },
     "execution_count": 11,
     "metadata": {},
     "output_type": "execute_result"
    }
   ],
   "source": [
    "distilbert_base_multilingual_cased_sentiments_student(label1_1)"
   ]
  },
  {
   "cell_type": "code",
   "execution_count": 24,
   "id": "ec377a0a",
   "metadata": {},
   "outputs": [
    {
     "name": "stdout",
     "output_type": "stream",
     "text": [
      "人に大怪我させた飼い犬や狂犬病のおそれがある野良犬は刹処分に決まってんだろ\n",
      "犬の話を人間にすり替えるとか、お前ブサヨかよｗ\n",
      "ちなみに朝鮮ジンは人とことなるから野生動物扱いでかまわんやろｗ\n",
      "Negative score:  0.6665981411933899\n",
      "----------------------\n",
      "相変わらず韓国はキチガイだなあ\n",
      "報道機関が「勝手な仇名」で他国の君主を呼んでる\n",
      "例えば日本の新聞がエリザベス酋長とか言ったら無礼だろ？\n",
      "韓国の大統領はもう酋長でもよさそうだけどさ\n",
      "Negative score:  0.7662402391433716\n",
      "----------------------\n",
      "女優みたいな清純というか普通の落ち着いた女性が全然いないのが悲しい\n",
      "アメリカ被れの女なんか日本にいる資格ないわ\n",
      "Negative score:  0.7828424572944641\n",
      "----------------------\n",
      "いや別にワイが困るわけじゃないからええけど対応大変やなぁと思ってな\n",
      "Negative score:  0.31211256980895996\n",
      "----------------------\n",
      "もともとB'zが好きだったんだが松本のソロアルバムでtake5カバーしててな\n",
      "それで原曲聴いたらすげーかっこよかったから好きになってジャズにも興味持ったよ\n",
      "BEATCRUSADERSはアニメでやってたBECKの影響だな\n",
      "Negative score:  0.09889666736125946\n",
      "----------------------\n",
      "人集まったり伸びたらそうするで\n",
      "あっちで１からやっても誰もおらんからな\n",
      "ここでもおらんかったらこのまま終わりで\n",
      "Negative score:  0.4421919286251068\n",
      "----------------------\n"
     ]
    }
   ],
   "source": [
    "for tx in examples:\n",
    "    print(tx)\n",
    "    negative_score = distilbert_base_multilingual_cased_sentiments_student(tx)[0][2]['score']\n",
    "    print('Negative score: ', negative_score)\n",
    "    print('----------------------')"
   ]
  },
  {
   "cell_type": "code",
   "execution_count": null,
   "id": "a8372317",
   "metadata": {},
   "outputs": [],
   "source": []
  },
  {
   "cell_type": "code",
   "execution_count": 25,
   "id": "83ce2745",
   "metadata": {},
   "outputs": [
    {
     "data": {
      "text/plain": [
       "(4656, 600)"
      ]
     },
     "execution_count": 25,
     "metadata": {},
     "output_type": "execute_result"
    }
   ],
   "source": [
    "train_sentiment1 = distilbert_base_multilingual_cased_sentiments_student(df_train['text'].to_list())\n",
    "test_sentiment1 = distilbert_base_multilingual_cased_sentiments_student(df_test['text'].to_list())\n",
    "len(train_sentiment1), len(test_sentiment1)"
   ]
  },
  {
   "cell_type": "code",
   "execution_count": 36,
   "id": "0a4e595f",
   "metadata": {},
   "outputs": [
    {
     "data": {
      "text/plain": [
       "(4656, 600)"
      ]
     },
     "execution_count": 36,
     "metadata": {},
     "output_type": "execute_result"
    }
   ],
   "source": [
    "train_sentiment1_negative = [neg[2]['score'] for neg in train_sentiment1]\n",
    "test_sentiment1_negative = [neg[2]['score'] for neg in test_sentiment1]\n",
    "len(train_sentiment1_negative), len(test_sentiment1_negative)"
   ]
  },
  {
   "cell_type": "code",
   "execution_count": null,
   "id": "ce529e52",
   "metadata": {},
   "outputs": [],
   "source": []
  },
  {
   "cell_type": "markdown",
   "id": "6ee41712",
   "metadata": {},
   "source": [
    "### jarvisx17/japanese-sentiment-analysis"
   ]
  },
  {
   "cell_type": "code",
   "execution_count": 37,
   "id": "ff524098",
   "metadata": {},
   "outputs": [
    {
     "data": {
      "text/plain": [
       "<transformers.pipelines.text_classification.TextClassificationPipeline at 0x7f97b7b78370>"
      ]
     },
     "execution_count": 37,
     "metadata": {},
     "output_type": "execute_result"
    }
   ],
   "source": [
    "japanese_sentiment_analysis = pipeline(\n",
    "    model=\"jarvisx17/japanese-sentiment-analysis\", \n",
    "    return_all_scores=True\n",
    ")\n",
    "japanese_sentiment_analysis"
   ]
  },
  {
   "cell_type": "code",
   "execution_count": 38,
   "id": "07ba3dee",
   "metadata": {},
   "outputs": [
    {
     "data": {
      "text/plain": [
       "[[{'label': 'negative', 'score': 0.9988510608673096},\n",
       "  {'label': 'positive', 'score': 0.0011488927993923426}]]"
      ]
     },
     "execution_count": 38,
     "metadata": {},
     "output_type": "execute_result"
    }
   ],
   "source": [
    "japanese_sentiment_analysis(label1_1)"
   ]
  },
  {
   "cell_type": "code",
   "execution_count": 39,
   "id": "0a91ab68",
   "metadata": {},
   "outputs": [
    {
     "data": {
      "text/plain": [
       "[[{'label': 'negative', 'score': 0.9111171364784241},\n",
       "  {'label': 'positive', 'score': 0.08888282626867294}]]"
      ]
     },
     "execution_count": 39,
     "metadata": {},
     "output_type": "execute_result"
    }
   ],
   "source": [
    "japanese_sentiment_analysis(label0_1)"
   ]
  },
  {
   "cell_type": "code",
   "execution_count": 43,
   "id": "c7e77b43",
   "metadata": {},
   "outputs": [
    {
     "name": "stdout",
     "output_type": "stream",
     "text": [
      "人に大怪我させた飼い犬や狂犬病のおそれがある野良犬は刹処分に決まってんだろ\n",
      "犬の話を人間にすり替えるとか、お前ブサヨかよｗ\n",
      "ちなみに朝鮮ジンは人とことなるから野生動物扱いでかまわんやろｗ\n",
      "Negative score:  0.9988510608673096\n",
      "----------------------\n",
      "相変わらず韓国はキチガイだなあ\n",
      "報道機関が「勝手な仇名」で他国の君主を呼んでる\n",
      "例えば日本の新聞がエリザベス酋長とか言ったら無礼だろ？\n",
      "韓国の大統領はもう酋長でもよさそうだけどさ\n",
      "Negative score:  0.9997758269309998\n",
      "----------------------\n",
      "女優みたいな清純というか普通の落ち着いた女性が全然いないのが悲しい\n",
      "アメリカ被れの女なんか日本にいる資格ないわ\n",
      "Negative score:  0.9916503429412842\n",
      "----------------------\n",
      "いや別にワイが困るわけじゃないからええけど対応大変やなぁと思ってな\n",
      "Negative score:  0.9111171364784241\n",
      "----------------------\n",
      "もともとB'zが好きだったんだが松本のソロアルバムでtake5カバーしててな\n",
      "それで原曲聴いたらすげーかっこよかったから好きになってジャズにも興味持ったよ\n",
      "BEATCRUSADERSはアニメでやってたBECKの影響だな\n",
      "Negative score:  4.526908014668152e-05\n",
      "----------------------\n",
      "人集まったり伸びたらそうするで\n",
      "あっちで１からやっても誰もおらんからな\n",
      "ここでもおらんかったらこのまま終わりで\n",
      "Negative score:  0.033542145043611526\n",
      "----------------------\n"
     ]
    }
   ],
   "source": [
    "for tx in examples:\n",
    "    print(tx)\n",
    "    negative_score = japanese_sentiment_analysis(tx)[0][0]['score']\n",
    "    print('Negative score: ', negative_score)\n",
    "    print('----------------------')"
   ]
  },
  {
   "cell_type": "code",
   "execution_count": null,
   "id": "6a5ffac1",
   "metadata": {},
   "outputs": [],
   "source": []
  },
  {
   "cell_type": "code",
   "execution_count": 46,
   "id": "bf249feb",
   "metadata": {},
   "outputs": [
    {
     "data": {
      "text/plain": [
       "(4656, 600)"
      ]
     },
     "execution_count": 46,
     "metadata": {},
     "output_type": "execute_result"
    }
   ],
   "source": [
    "train_sentiment2 = japanese_sentiment_analysis(df_train['text'].to_list())\n",
    "test_sentiment2 = japanese_sentiment_analysis(df_test['text'].to_list())\n",
    "len(train_sentiment2), len(test_sentiment2)"
   ]
  },
  {
   "cell_type": "code",
   "execution_count": 49,
   "id": "ad26db41",
   "metadata": {},
   "outputs": [],
   "source": [
    "#train_sentiment2"
   ]
  },
  {
   "cell_type": "code",
   "execution_count": 51,
   "id": "7446d399",
   "metadata": {},
   "outputs": [
    {
     "data": {
      "text/plain": [
       "(4656, 600)"
      ]
     },
     "execution_count": 51,
     "metadata": {},
     "output_type": "execute_result"
    }
   ],
   "source": [
    "train_sentiment2_negative = [neg[0]['score'] for neg in train_sentiment2]\n",
    "test_sentiment2_negative = [neg[0]['score'] for neg in test_sentiment2]\n",
    "len(train_sentiment2_negative), len(test_sentiment2_negative)"
   ]
  },
  {
   "cell_type": "code",
   "execution_count": null,
   "id": "ed1b911e",
   "metadata": {},
   "outputs": [],
   "source": []
  },
  {
   "cell_type": "markdown",
   "id": "83bda58a",
   "metadata": {},
   "source": [
    "## Zero-Shot Classification"
   ]
  },
  {
   "cell_type": "markdown",
   "id": "fd2875a8",
   "metadata": {},
   "source": [
    "### MoritzLaurer/mDeBERTa-v3-base-xnli-multilingual-nli-2mil7"
   ]
  },
  {
   "cell_type": "code",
   "execution_count": 52,
   "id": "85e1a76b",
   "metadata": {},
   "outputs": [
    {
     "data": {
      "text/plain": [
       "<transformers.pipelines.zero_shot_classification.ZeroShotClassificationPipeline at 0x7f97d9eec400>"
      ]
     },
     "execution_count": 52,
     "metadata": {},
     "output_type": "execute_result"
    }
   ],
   "source": [
    "mDeBERTa_v3_base_xnli_multilingual = pipeline(\"zero-shot-classification\", model=\"MoritzLaurer/mDeBERTa-v3-base-mnli-xnli\")\n",
    "mDeBERTa_v3_base_xnli_multilingual"
   ]
  },
  {
   "cell_type": "code",
   "execution_count": 66,
   "id": "dad145a5",
   "metadata": {},
   "outputs": [],
   "source": [
    "# 以下をヘイトスピーチを表す単語として、Zeroshot予測を実施\n",
    "candidate_labels = [\"悪意\", \"嫌悪\", \"差別\"]"
   ]
  },
  {
   "cell_type": "code",
   "execution_count": 67,
   "id": "9789732e",
   "metadata": {},
   "outputs": [
    {
     "data": {
      "text/plain": [
       "{'sequence': '人に大怪我させた飼い犬や狂犬病のおそれがある野良犬は刹処分に決まってんだろ\\n犬の話を人間にすり替えるとか、お前ブサヨかよｗ\\nちなみに朝鮮ジンは人とことなるから野生動物扱いでかまわんやろｗ',\n",
       " 'labels': ['差別', '悪意', '嫌悪'],\n",
       " 'scores': [0.9191533327102661, 0.8340898156166077, 0.267429918050766]}"
      ]
     },
     "execution_count": 67,
     "metadata": {},
     "output_type": "execute_result"
    }
   ],
   "source": [
    "mDeBERTa_v3_base_xnli_multilingual(label1_1, candidate_labels, multi_label=True)"
   ]
  },
  {
   "cell_type": "code",
   "execution_count": 68,
   "id": "5c87465e",
   "metadata": {},
   "outputs": [
    {
     "data": {
      "text/plain": [
       "{'sequence': 'いや別にワイが困るわけじゃないからええけど対応大変やなぁと思ってな',\n",
       " 'labels': ['差別', '悪意', '嫌悪'],\n",
       " 'scores': [0.342574805021286, 0.18324117362499237, 0.04959387332201004]}"
      ]
     },
     "execution_count": 68,
     "metadata": {},
     "output_type": "execute_result"
    }
   ],
   "source": [
    "mDeBERTa_v3_base_xnli_multilingual(label0_1, candidate_labels, multi_label=True)"
   ]
  },
  {
   "cell_type": "code",
   "execution_count": 69,
   "id": "ed7c48f6",
   "metadata": {},
   "outputs": [
    {
     "name": "stdout",
     "output_type": "stream",
     "text": [
      "人に大怪我させた飼い犬や狂犬病のおそれがある野良犬は刹処分に決まってんだろ\n",
      "犬の話を人間にすり替えるとか、お前ブサヨかよｗ\n",
      "ちなみに朝鮮ジンは人とことなるから野生動物扱いでかまわんやろｗ\n",
      "Label:  ['差別', '悪意', '嫌悪']\n",
      "Scores:  [0.9191533327102661, 0.8340898156166077, 0.267429918050766]\n",
      "{'差別': 0.9191533327102661, '悪意': 0.8340898156166077, '嫌悪': 0.267429918050766}\n",
      "----------------------\n",
      "相変わらず韓国はキチガイだなあ\n",
      "報道機関が「勝手な仇名」で他国の君主を呼んでる\n",
      "例えば日本の新聞がエリザベス酋長とか言ったら無礼だろ？\n",
      "韓国の大統領はもう酋長でもよさそうだけどさ\n",
      "Label:  ['悪意', '差別', '嫌悪']\n",
      "Scores:  [0.9638715386390686, 0.9487082362174988, 0.844123125076294]\n",
      "{'悪意': 0.9638715386390686, '差別': 0.9487082362174988, '嫌悪': 0.844123125076294}\n",
      "----------------------\n",
      "女優みたいな清純というか普通の落ち着いた女性が全然いないのが悲しい\n",
      "アメリカ被れの女なんか日本にいる資格ないわ\n",
      "Label:  ['嫌悪', '差別', '悪意']\n",
      "Scores:  [0.9935705661773682, 0.9782067537307739, 0.9746213555335999]\n",
      "{'嫌悪': 0.9935705661773682, '差別': 0.9782067537307739, '悪意': 0.9746213555335999}\n",
      "----------------------\n",
      "いや別にワイが困るわけじゃないからええけど対応大変やなぁと思ってな\n",
      "Label:  ['差別', '悪意', '嫌悪']\n",
      "Scores:  [0.342574805021286, 0.18324117362499237, 0.04959387332201004]\n",
      "{'差別': 0.342574805021286, '悪意': 0.18324117362499237, '嫌悪': 0.04959387332201004}\n",
      "----------------------\n",
      "もともとB'zが好きだったんだが松本のソロアルバムでtake5カバーしててな\n",
      "それで原曲聴いたらすげーかっこよかったから好きになってジャズにも興味持ったよ\n",
      "BEATCRUSADERSはアニメでやってたBECKの影響だな\n",
      "Label:  ['差別', '悪意', '嫌悪']\n",
      "Scores:  [0.19438208639621735, 0.06900715082883835, 0.0029696973506361246]\n",
      "{'差別': 0.19438208639621735, '悪意': 0.06900715082883835, '嫌悪': 0.0029696973506361246}\n",
      "----------------------\n",
      "人集まったり伸びたらそうするで\n",
      "あっちで１からやっても誰もおらんからな\n",
      "ここでもおらんかったらこのまま終わりで\n",
      "Label:  ['差別', '悪意', '嫌悪']\n",
      "Scores:  [0.7584770321846008, 0.36691781878471375, 0.07141422480344772]\n",
      "{'差別': 0.7584770321846008, '悪意': 0.36691781878471375, '嫌悪': 0.07141422480344772}\n",
      "----------------------\n"
     ]
    }
   ],
   "source": [
    "for tx in examples:\n",
    "    print(tx)\n",
    "    zs_res = mDeBERTa_v3_base_xnli_multilingual(tx, candidate_labels, multi_label=True)\n",
    "    print('Label: ', zs_res['labels'])\n",
    "    print('Scores: ', zs_res['scores'])\n",
    "    print({k:v for k,v in zip(zs_res['labels'], zs_res['scores'])})\n",
    "    print('----------------------')"
   ]
  },
  {
   "cell_type": "code",
   "execution_count": null,
   "id": "b80b5979",
   "metadata": {},
   "outputs": [],
   "source": []
  },
  {
   "cell_type": "code",
   "execution_count": null,
   "id": "ef14d244",
   "metadata": {},
   "outputs": [
    {
     "name": "stderr",
     "output_type": "stream",
     "text": [
      " 57%|█████▋    | 2641/4656 [2:07:52<29:09,  1.15it/s]     "
     ]
    }
   ],
   "source": [
    "train_zeroshot = []\n",
    "#for tx in tqdm(examples):\n",
    "for tx in tqdm(df_train['text']):\n",
    "    zs_res = mDeBERTa_v3_base_xnli_multilingual(tx, candidate_labels, multi_label=True)\n",
    "    train_zeroshot.append({k:v for k,v in zip(zs_res['labels'], zs_res['scores'])})\n",
    "len(train_zeroshot)"
   ]
  },
  {
   "cell_type": "code",
   "execution_count": null,
   "id": "691285ec",
   "metadata": {},
   "outputs": [],
   "source": [
    "test_zeroshot = []\n",
    "for tx in tqdm(df_test['text']):\n",
    "    zs_res = mDeBERTa_v3_base_xnli_multilingual(tx, candidate_labels, multi_label=True)\n",
    "    test_zeroshot.append({k:v for k,v in zip(zs_res['labels'], zs_res['scores'])})\n",
    "len(test_zeroshot)"
   ]
  },
  {
   "cell_type": "code",
   "execution_count": null,
   "id": "0b166f9a",
   "metadata": {},
   "outputs": [],
   "source": [
    "train_zeroshot"
   ]
  },
  {
   "cell_type": "code",
   "execution_count": null,
   "id": "d4551f42",
   "metadata": {},
   "outputs": [],
   "source": [
    "test_zeroshot"
   ]
  },
  {
   "cell_type": "code",
   "execution_count": null,
   "id": "7c6f7666",
   "metadata": {},
   "outputs": [],
   "source": [
    "train_malice　= [d['悪意'] for d in train_zeroshot]\n",
    "train_hate　= [d['嫌悪'] for d in train_zeroshot]\n",
    "train_discrimination　= [d['差別'] for d in train_zeroshot]\n",
    "len(train_malice), len(train_hate), len(train_discrimination)"
   ]
  },
  {
   "cell_type": "code",
   "execution_count": null,
   "id": "2f1507ee",
   "metadata": {},
   "outputs": [],
   "source": [
    "test_malice　= [d['悪意'] for d in test_zeroshot]\n",
    "test_hate　= [d['嫌悪'] for d in test_zeroshot]\n",
    "test_discrimination　= [d['差別'] for d in test_zeroshot]\n",
    "len(test_malice), len(test_hate), len(test_discrimination)"
   ]
  },
  {
   "cell_type": "code",
   "execution_count": null,
   "id": "aaf59168",
   "metadata": {},
   "outputs": [],
   "source": []
  },
  {
   "cell_type": "markdown",
   "id": "09fd2fa4",
   "metadata": {},
   "source": [
    "***"
   ]
  },
  {
   "cell_type": "code",
   "execution_count": null,
   "id": "ff4ecbb4",
   "metadata": {},
   "outputs": [],
   "source": [
    "df_train"
   ]
  },
  {
   "cell_type": "code",
   "execution_count": null,
   "id": "29da5f86",
   "metadata": {},
   "outputs": [],
   "source": [
    "df_train['negative1'] = train_sentiment1_negative\n",
    "df_train['negative2'] = train_sentiment2_negative\n",
    "df_train['malice'] = train_malice\n",
    "df_train['hate'] = train_hate\n",
    "df_train['discrimination'] = train_discrimination"
   ]
  },
  {
   "cell_type": "code",
   "execution_count": null,
   "id": "5c1eafa5",
   "metadata": {},
   "outputs": [],
   "source": [
    "df_train"
   ]
  },
  {
   "cell_type": "code",
   "execution_count": null,
   "id": "3cba8d55",
   "metadata": {},
   "outputs": [],
   "source": [
    "df_test"
   ]
  },
  {
   "cell_type": "code",
   "execution_count": null,
   "id": "1af535a3",
   "metadata": {},
   "outputs": [],
   "source": [
    "df_test['negative1'] = test_sentiment1_negative\n",
    "df_test['negative2'] = test_sentiment2_negative\n",
    "df_test['malice'] = test_malice\n",
    "df_test['hate'] = test_hate\n",
    "df_test['discrimination'] = test_discrimination"
   ]
  },
  {
   "cell_type": "code",
   "execution_count": null,
   "id": "7339b19f",
   "metadata": {},
   "outputs": [],
   "source": [
    "df_test"
   ]
  },
  {
   "cell_type": "code",
   "execution_count": null,
   "id": "fc0a45c9",
   "metadata": {},
   "outputs": [],
   "source": [
    "!ls "
   ]
  },
  {
   "cell_type": "code",
   "execution_count": null,
   "id": "ae3ae7f6",
   "metadata": {},
   "outputs": [],
   "source": [
    "df_train.to_csv('tmp/hatespeech_train_zeroshots.csv', index=False)\n",
    "df_test.to_csv('tmp/hatespeech_test_zeroshots.csv', index=False)"
   ]
  },
  {
   "cell_type": "code",
   "execution_count": null,
   "id": "47666854",
   "metadata": {},
   "outputs": [],
   "source": []
  }
 ],
 "metadata": {
  "kernelspec": {
   "display_name": "Python 3 (ipykernel)",
   "language": "python",
   "name": "python3"
  },
  "language_info": {
   "codemirror_mode": {
    "name": "ipython",
    "version": 3
   },
   "file_extension": ".py",
   "mimetype": "text/x-python",
   "name": "python",
   "nbconvert_exporter": "python",
   "pygments_lexer": "ipython3",
   "version": "3.8.13"
  }
 },
 "nbformat": 4,
 "nbformat_minor": 5
}
