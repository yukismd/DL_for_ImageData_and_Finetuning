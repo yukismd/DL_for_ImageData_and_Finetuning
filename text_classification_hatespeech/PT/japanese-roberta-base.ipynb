{
  "nbformat": 4,
  "nbformat_minor": 0,
  "metadata": {
    "colab": {
      "provenance": [],
      "gpuType": "T4",
      "authorship_tag": "ABX9TyMj80OtisJgXjljz3nNnMld",
      "include_colab_link": true
    },
    "kernelspec": {
      "name": "python3",
      "display_name": "Python 3"
    },
    "language_info": {
      "name": "python"
    },
    "widgets": {
      "application/vnd.jupyter.widget-state+json": {
        "51c4b09f4cef48cdb19196ce916ec5f1": {
          "model_module": "@jupyter-widgets/controls",
          "model_name": "HBoxModel",
          "model_module_version": "1.5.0",
          "state": {
            "_dom_classes": [],
            "_model_module": "@jupyter-widgets/controls",
            "_model_module_version": "1.5.0",
            "_model_name": "HBoxModel",
            "_view_count": null,
            "_view_module": "@jupyter-widgets/controls",
            "_view_module_version": "1.5.0",
            "_view_name": "HBoxView",
            "box_style": "",
            "children": [
              "IPY_MODEL_ead4af2a11854c7c90e8aa4a99bc8ed7",
              "IPY_MODEL_52fc152f04d449d49b839bdacf0d8950",
              "IPY_MODEL_ee435c6019ea44798b67641ff6ebd0c2"
            ],
            "layout": "IPY_MODEL_6eaf13ae48324b25bb8bc2960014c56d"
          }
        },
        "ead4af2a11854c7c90e8aa4a99bc8ed7": {
          "model_module": "@jupyter-widgets/controls",
          "model_name": "HTMLModel",
          "model_module_version": "1.5.0",
          "state": {
            "_dom_classes": [],
            "_model_module": "@jupyter-widgets/controls",
            "_model_module_version": "1.5.0",
            "_model_name": "HTMLModel",
            "_view_count": null,
            "_view_module": "@jupyter-widgets/controls",
            "_view_module_version": "1.5.0",
            "_view_name": "HTMLView",
            "description": "",
            "description_tooltip": null,
            "layout": "IPY_MODEL_d9348cf4d4964c02a9c8ace102b781a4",
            "placeholder": "​",
            "style": "IPY_MODEL_e19fbe753a0140c38bfdce6dd46a2eb2",
            "value": "tokenizer_config.json: 100%"
          }
        },
        "52fc152f04d449d49b839bdacf0d8950": {
          "model_module": "@jupyter-widgets/controls",
          "model_name": "FloatProgressModel",
          "model_module_version": "1.5.0",
          "state": {
            "_dom_classes": [],
            "_model_module": "@jupyter-widgets/controls",
            "_model_module_version": "1.5.0",
            "_model_name": "FloatProgressModel",
            "_view_count": null,
            "_view_module": "@jupyter-widgets/controls",
            "_view_module_version": "1.5.0",
            "_view_name": "ProgressView",
            "bar_style": "success",
            "description": "",
            "description_tooltip": null,
            "layout": "IPY_MODEL_4a575a7063c2425f989d4c2d8fabf878",
            "max": 259,
            "min": 0,
            "orientation": "horizontal",
            "style": "IPY_MODEL_741d2441a82d4db4af7cbec2e30b2f6c",
            "value": 259
          }
        },
        "ee435c6019ea44798b67641ff6ebd0c2": {
          "model_module": "@jupyter-widgets/controls",
          "model_name": "HTMLModel",
          "model_module_version": "1.5.0",
          "state": {
            "_dom_classes": [],
            "_model_module": "@jupyter-widgets/controls",
            "_model_module_version": "1.5.0",
            "_model_name": "HTMLModel",
            "_view_count": null,
            "_view_module": "@jupyter-widgets/controls",
            "_view_module_version": "1.5.0",
            "_view_name": "HTMLView",
            "description": "",
            "description_tooltip": null,
            "layout": "IPY_MODEL_bd894d3259344635b1e626dcb7856af5",
            "placeholder": "​",
            "style": "IPY_MODEL_55c36f889f0a4e69ada78fdd4240467b",
            "value": " 259/259 [00:00&lt;00:00, 12.1kB/s]"
          }
        },
        "6eaf13ae48324b25bb8bc2960014c56d": {
          "model_module": "@jupyter-widgets/base",
          "model_name": "LayoutModel",
          "model_module_version": "1.2.0",
          "state": {
            "_model_module": "@jupyter-widgets/base",
            "_model_module_version": "1.2.0",
            "_model_name": "LayoutModel",
            "_view_count": null,
            "_view_module": "@jupyter-widgets/base",
            "_view_module_version": "1.2.0",
            "_view_name": "LayoutView",
            "align_content": null,
            "align_items": null,
            "align_self": null,
            "border": null,
            "bottom": null,
            "display": null,
            "flex": null,
            "flex_flow": null,
            "grid_area": null,
            "grid_auto_columns": null,
            "grid_auto_flow": null,
            "grid_auto_rows": null,
            "grid_column": null,
            "grid_gap": null,
            "grid_row": null,
            "grid_template_areas": null,
            "grid_template_columns": null,
            "grid_template_rows": null,
            "height": null,
            "justify_content": null,
            "justify_items": null,
            "left": null,
            "margin": null,
            "max_height": null,
            "max_width": null,
            "min_height": null,
            "min_width": null,
            "object_fit": null,
            "object_position": null,
            "order": null,
            "overflow": null,
            "overflow_x": null,
            "overflow_y": null,
            "padding": null,
            "right": null,
            "top": null,
            "visibility": null,
            "width": null
          }
        },
        "d9348cf4d4964c02a9c8ace102b781a4": {
          "model_module": "@jupyter-widgets/base",
          "model_name": "LayoutModel",
          "model_module_version": "1.2.0",
          "state": {
            "_model_module": "@jupyter-widgets/base",
            "_model_module_version": "1.2.0",
            "_model_name": "LayoutModel",
            "_view_count": null,
            "_view_module": "@jupyter-widgets/base",
            "_view_module_version": "1.2.0",
            "_view_name": "LayoutView",
            "align_content": null,
            "align_items": null,
            "align_self": null,
            "border": null,
            "bottom": null,
            "display": null,
            "flex": null,
            "flex_flow": null,
            "grid_area": null,
            "grid_auto_columns": null,
            "grid_auto_flow": null,
            "grid_auto_rows": null,
            "grid_column": null,
            "grid_gap": null,
            "grid_row": null,
            "grid_template_areas": null,
            "grid_template_columns": null,
            "grid_template_rows": null,
            "height": null,
            "justify_content": null,
            "justify_items": null,
            "left": null,
            "margin": null,
            "max_height": null,
            "max_width": null,
            "min_height": null,
            "min_width": null,
            "object_fit": null,
            "object_position": null,
            "order": null,
            "overflow": null,
            "overflow_x": null,
            "overflow_y": null,
            "padding": null,
            "right": null,
            "top": null,
            "visibility": null,
            "width": null
          }
        },
        "e19fbe753a0140c38bfdce6dd46a2eb2": {
          "model_module": "@jupyter-widgets/controls",
          "model_name": "DescriptionStyleModel",
          "model_module_version": "1.5.0",
          "state": {
            "_model_module": "@jupyter-widgets/controls",
            "_model_module_version": "1.5.0",
            "_model_name": "DescriptionStyleModel",
            "_view_count": null,
            "_view_module": "@jupyter-widgets/base",
            "_view_module_version": "1.2.0",
            "_view_name": "StyleView",
            "description_width": ""
          }
        },
        "4a575a7063c2425f989d4c2d8fabf878": {
          "model_module": "@jupyter-widgets/base",
          "model_name": "LayoutModel",
          "model_module_version": "1.2.0",
          "state": {
            "_model_module": "@jupyter-widgets/base",
            "_model_module_version": "1.2.0",
            "_model_name": "LayoutModel",
            "_view_count": null,
            "_view_module": "@jupyter-widgets/base",
            "_view_module_version": "1.2.0",
            "_view_name": "LayoutView",
            "align_content": null,
            "align_items": null,
            "align_self": null,
            "border": null,
            "bottom": null,
            "display": null,
            "flex": null,
            "flex_flow": null,
            "grid_area": null,
            "grid_auto_columns": null,
            "grid_auto_flow": null,
            "grid_auto_rows": null,
            "grid_column": null,
            "grid_gap": null,
            "grid_row": null,
            "grid_template_areas": null,
            "grid_template_columns": null,
            "grid_template_rows": null,
            "height": null,
            "justify_content": null,
            "justify_items": null,
            "left": null,
            "margin": null,
            "max_height": null,
            "max_width": null,
            "min_height": null,
            "min_width": null,
            "object_fit": null,
            "object_position": null,
            "order": null,
            "overflow": null,
            "overflow_x": null,
            "overflow_y": null,
            "padding": null,
            "right": null,
            "top": null,
            "visibility": null,
            "width": null
          }
        },
        "741d2441a82d4db4af7cbec2e30b2f6c": {
          "model_module": "@jupyter-widgets/controls",
          "model_name": "ProgressStyleModel",
          "model_module_version": "1.5.0",
          "state": {
            "_model_module": "@jupyter-widgets/controls",
            "_model_module_version": "1.5.0",
            "_model_name": "ProgressStyleModel",
            "_view_count": null,
            "_view_module": "@jupyter-widgets/base",
            "_view_module_version": "1.2.0",
            "_view_name": "StyleView",
            "bar_color": null,
            "description_width": ""
          }
        },
        "bd894d3259344635b1e626dcb7856af5": {
          "model_module": "@jupyter-widgets/base",
          "model_name": "LayoutModel",
          "model_module_version": "1.2.0",
          "state": {
            "_model_module": "@jupyter-widgets/base",
            "_model_module_version": "1.2.0",
            "_model_name": "LayoutModel",
            "_view_count": null,
            "_view_module": "@jupyter-widgets/base",
            "_view_module_version": "1.2.0",
            "_view_name": "LayoutView",
            "align_content": null,
            "align_items": null,
            "align_self": null,
            "border": null,
            "bottom": null,
            "display": null,
            "flex": null,
            "flex_flow": null,
            "grid_area": null,
            "grid_auto_columns": null,
            "grid_auto_flow": null,
            "grid_auto_rows": null,
            "grid_column": null,
            "grid_gap": null,
            "grid_row": null,
            "grid_template_areas": null,
            "grid_template_columns": null,
            "grid_template_rows": null,
            "height": null,
            "justify_content": null,
            "justify_items": null,
            "left": null,
            "margin": null,
            "max_height": null,
            "max_width": null,
            "min_height": null,
            "min_width": null,
            "object_fit": null,
            "object_position": null,
            "order": null,
            "overflow": null,
            "overflow_x": null,
            "overflow_y": null,
            "padding": null,
            "right": null,
            "top": null,
            "visibility": null,
            "width": null
          }
        },
        "55c36f889f0a4e69ada78fdd4240467b": {
          "model_module": "@jupyter-widgets/controls",
          "model_name": "DescriptionStyleModel",
          "model_module_version": "1.5.0",
          "state": {
            "_model_module": "@jupyter-widgets/controls",
            "_model_module_version": "1.5.0",
            "_model_name": "DescriptionStyleModel",
            "_view_count": null,
            "_view_module": "@jupyter-widgets/base",
            "_view_module_version": "1.2.0",
            "_view_name": "StyleView",
            "description_width": ""
          }
        },
        "b306994a52e546dda3638a51ba51e043": {
          "model_module": "@jupyter-widgets/controls",
          "model_name": "HBoxModel",
          "model_module_version": "1.5.0",
          "state": {
            "_dom_classes": [],
            "_model_module": "@jupyter-widgets/controls",
            "_model_module_version": "1.5.0",
            "_model_name": "HBoxModel",
            "_view_count": null,
            "_view_module": "@jupyter-widgets/controls",
            "_view_module_version": "1.5.0",
            "_view_name": "HBoxView",
            "box_style": "",
            "children": [
              "IPY_MODEL_a7a4acf047484efa87b4512cdcdd5b4f",
              "IPY_MODEL_d315db97b72d4f0f98a63070038206aa",
              "IPY_MODEL_2489620de93a4fb48be8c6ebf5d073b1"
            ],
            "layout": "IPY_MODEL_aa802631ae014784a5a6c2de5b4e649a"
          }
        },
        "a7a4acf047484efa87b4512cdcdd5b4f": {
          "model_module": "@jupyter-widgets/controls",
          "model_name": "HTMLModel",
          "model_module_version": "1.5.0",
          "state": {
            "_dom_classes": [],
            "_model_module": "@jupyter-widgets/controls",
            "_model_module_version": "1.5.0",
            "_model_name": "HTMLModel",
            "_view_count": null,
            "_view_module": "@jupyter-widgets/controls",
            "_view_module_version": "1.5.0",
            "_view_name": "HTMLView",
            "description": "",
            "description_tooltip": null,
            "layout": "IPY_MODEL_596b3d5e271a4f158d19144258a79af6",
            "placeholder": "​",
            "style": "IPY_MODEL_5820a6c59cae4b3c99a7047837d2dd68",
            "value": "spiece.model: 100%"
          }
        },
        "d315db97b72d4f0f98a63070038206aa": {
          "model_module": "@jupyter-widgets/controls",
          "model_name": "FloatProgressModel",
          "model_module_version": "1.5.0",
          "state": {
            "_dom_classes": [],
            "_model_module": "@jupyter-widgets/controls",
            "_model_module_version": "1.5.0",
            "_model_name": "FloatProgressModel",
            "_view_count": null,
            "_view_module": "@jupyter-widgets/controls",
            "_view_module_version": "1.5.0",
            "_view_name": "ProgressView",
            "bar_style": "success",
            "description": "",
            "description_tooltip": null,
            "layout": "IPY_MODEL_99e6dd0055094a58a2a3a12c2a4c4623",
            "max": 805634,
            "min": 0,
            "orientation": "horizontal",
            "style": "IPY_MODEL_ff78a82f58a149899efdbd1cec5f4144",
            "value": 805634
          }
        },
        "2489620de93a4fb48be8c6ebf5d073b1": {
          "model_module": "@jupyter-widgets/controls",
          "model_name": "HTMLModel",
          "model_module_version": "1.5.0",
          "state": {
            "_dom_classes": [],
            "_model_module": "@jupyter-widgets/controls",
            "_model_module_version": "1.5.0",
            "_model_name": "HTMLModel",
            "_view_count": null,
            "_view_module": "@jupyter-widgets/controls",
            "_view_module_version": "1.5.0",
            "_view_name": "HTMLView",
            "description": "",
            "description_tooltip": null,
            "layout": "IPY_MODEL_4531f78dcb5f40d68238f2259364accb",
            "placeholder": "​",
            "style": "IPY_MODEL_e296a32293874876a2a24730b286c565",
            "value": " 806k/806k [00:00&lt;00:00, 9.49MB/s]"
          }
        },
        "aa802631ae014784a5a6c2de5b4e649a": {
          "model_module": "@jupyter-widgets/base",
          "model_name": "LayoutModel",
          "model_module_version": "1.2.0",
          "state": {
            "_model_module": "@jupyter-widgets/base",
            "_model_module_version": "1.2.0",
            "_model_name": "LayoutModel",
            "_view_count": null,
            "_view_module": "@jupyter-widgets/base",
            "_view_module_version": "1.2.0",
            "_view_name": "LayoutView",
            "align_content": null,
            "align_items": null,
            "align_self": null,
            "border": null,
            "bottom": null,
            "display": null,
            "flex": null,
            "flex_flow": null,
            "grid_area": null,
            "grid_auto_columns": null,
            "grid_auto_flow": null,
            "grid_auto_rows": null,
            "grid_column": null,
            "grid_gap": null,
            "grid_row": null,
            "grid_template_areas": null,
            "grid_template_columns": null,
            "grid_template_rows": null,
            "height": null,
            "justify_content": null,
            "justify_items": null,
            "left": null,
            "margin": null,
            "max_height": null,
            "max_width": null,
            "min_height": null,
            "min_width": null,
            "object_fit": null,
            "object_position": null,
            "order": null,
            "overflow": null,
            "overflow_x": null,
            "overflow_y": null,
            "padding": null,
            "right": null,
            "top": null,
            "visibility": null,
            "width": null
          }
        },
        "596b3d5e271a4f158d19144258a79af6": {
          "model_module": "@jupyter-widgets/base",
          "model_name": "LayoutModel",
          "model_module_version": "1.2.0",
          "state": {
            "_model_module": "@jupyter-widgets/base",
            "_model_module_version": "1.2.0",
            "_model_name": "LayoutModel",
            "_view_count": null,
            "_view_module": "@jupyter-widgets/base",
            "_view_module_version": "1.2.0",
            "_view_name": "LayoutView",
            "align_content": null,
            "align_items": null,
            "align_self": null,
            "border": null,
            "bottom": null,
            "display": null,
            "flex": null,
            "flex_flow": null,
            "grid_area": null,
            "grid_auto_columns": null,
            "grid_auto_flow": null,
            "grid_auto_rows": null,
            "grid_column": null,
            "grid_gap": null,
            "grid_row": null,
            "grid_template_areas": null,
            "grid_template_columns": null,
            "grid_template_rows": null,
            "height": null,
            "justify_content": null,
            "justify_items": null,
            "left": null,
            "margin": null,
            "max_height": null,
            "max_width": null,
            "min_height": null,
            "min_width": null,
            "object_fit": null,
            "object_position": null,
            "order": null,
            "overflow": null,
            "overflow_x": null,
            "overflow_y": null,
            "padding": null,
            "right": null,
            "top": null,
            "visibility": null,
            "width": null
          }
        },
        "5820a6c59cae4b3c99a7047837d2dd68": {
          "model_module": "@jupyter-widgets/controls",
          "model_name": "DescriptionStyleModel",
          "model_module_version": "1.5.0",
          "state": {
            "_model_module": "@jupyter-widgets/controls",
            "_model_module_version": "1.5.0",
            "_model_name": "DescriptionStyleModel",
            "_view_count": null,
            "_view_module": "@jupyter-widgets/base",
            "_view_module_version": "1.2.0",
            "_view_name": "StyleView",
            "description_width": ""
          }
        },
        "99e6dd0055094a58a2a3a12c2a4c4623": {
          "model_module": "@jupyter-widgets/base",
          "model_name": "LayoutModel",
          "model_module_version": "1.2.0",
          "state": {
            "_model_module": "@jupyter-widgets/base",
            "_model_module_version": "1.2.0",
            "_model_name": "LayoutModel",
            "_view_count": null,
            "_view_module": "@jupyter-widgets/base",
            "_view_module_version": "1.2.0",
            "_view_name": "LayoutView",
            "align_content": null,
            "align_items": null,
            "align_self": null,
            "border": null,
            "bottom": null,
            "display": null,
            "flex": null,
            "flex_flow": null,
            "grid_area": null,
            "grid_auto_columns": null,
            "grid_auto_flow": null,
            "grid_auto_rows": null,
            "grid_column": null,
            "grid_gap": null,
            "grid_row": null,
            "grid_template_areas": null,
            "grid_template_columns": null,
            "grid_template_rows": null,
            "height": null,
            "justify_content": null,
            "justify_items": null,
            "left": null,
            "margin": null,
            "max_height": null,
            "max_width": null,
            "min_height": null,
            "min_width": null,
            "object_fit": null,
            "object_position": null,
            "order": null,
            "overflow": null,
            "overflow_x": null,
            "overflow_y": null,
            "padding": null,
            "right": null,
            "top": null,
            "visibility": null,
            "width": null
          }
        },
        "ff78a82f58a149899efdbd1cec5f4144": {
          "model_module": "@jupyter-widgets/controls",
          "model_name": "ProgressStyleModel",
          "model_module_version": "1.5.0",
          "state": {
            "_model_module": "@jupyter-widgets/controls",
            "_model_module_version": "1.5.0",
            "_model_name": "ProgressStyleModel",
            "_view_count": null,
            "_view_module": "@jupyter-widgets/base",
            "_view_module_version": "1.2.0",
            "_view_name": "StyleView",
            "bar_color": null,
            "description_width": ""
          }
        },
        "4531f78dcb5f40d68238f2259364accb": {
          "model_module": "@jupyter-widgets/base",
          "model_name": "LayoutModel",
          "model_module_version": "1.2.0",
          "state": {
            "_model_module": "@jupyter-widgets/base",
            "_model_module_version": "1.2.0",
            "_model_name": "LayoutModel",
            "_view_count": null,
            "_view_module": "@jupyter-widgets/base",
            "_view_module_version": "1.2.0",
            "_view_name": "LayoutView",
            "align_content": null,
            "align_items": null,
            "align_self": null,
            "border": null,
            "bottom": null,
            "display": null,
            "flex": null,
            "flex_flow": null,
            "grid_area": null,
            "grid_auto_columns": null,
            "grid_auto_flow": null,
            "grid_auto_rows": null,
            "grid_column": null,
            "grid_gap": null,
            "grid_row": null,
            "grid_template_areas": null,
            "grid_template_columns": null,
            "grid_template_rows": null,
            "height": null,
            "justify_content": null,
            "justify_items": null,
            "left": null,
            "margin": null,
            "max_height": null,
            "max_width": null,
            "min_height": null,
            "min_width": null,
            "object_fit": null,
            "object_position": null,
            "order": null,
            "overflow": null,
            "overflow_x": null,
            "overflow_y": null,
            "padding": null,
            "right": null,
            "top": null,
            "visibility": null,
            "width": null
          }
        },
        "e296a32293874876a2a24730b286c565": {
          "model_module": "@jupyter-widgets/controls",
          "model_name": "DescriptionStyleModel",
          "model_module_version": "1.5.0",
          "state": {
            "_model_module": "@jupyter-widgets/controls",
            "_model_module_version": "1.5.0",
            "_model_name": "DescriptionStyleModel",
            "_view_count": null,
            "_view_module": "@jupyter-widgets/base",
            "_view_module_version": "1.2.0",
            "_view_name": "StyleView",
            "description_width": ""
          }
        },
        "947f5325b11148f09f085214321f0d71": {
          "model_module": "@jupyter-widgets/controls",
          "model_name": "HBoxModel",
          "model_module_version": "1.5.0",
          "state": {
            "_dom_classes": [],
            "_model_module": "@jupyter-widgets/controls",
            "_model_module_version": "1.5.0",
            "_model_name": "HBoxModel",
            "_view_count": null,
            "_view_module": "@jupyter-widgets/controls",
            "_view_module_version": "1.5.0",
            "_view_name": "HBoxView",
            "box_style": "",
            "children": [
              "IPY_MODEL_7408843df2be4f39b39944e1f744ba9f",
              "IPY_MODEL_7f1ce09faf1446358f73ebe1711e2540",
              "IPY_MODEL_c5fd31974beb4a84a149d52607350800"
            ],
            "layout": "IPY_MODEL_ee994ddb6ecd48faa844bb82baacaabf"
          }
        },
        "7408843df2be4f39b39944e1f744ba9f": {
          "model_module": "@jupyter-widgets/controls",
          "model_name": "HTMLModel",
          "model_module_version": "1.5.0",
          "state": {
            "_dom_classes": [],
            "_model_module": "@jupyter-widgets/controls",
            "_model_module_version": "1.5.0",
            "_model_name": "HTMLModel",
            "_view_count": null,
            "_view_module": "@jupyter-widgets/controls",
            "_view_module_version": "1.5.0",
            "_view_name": "HTMLView",
            "description": "",
            "description_tooltip": null,
            "layout": "IPY_MODEL_855c9bcd24e0421cac28cf760066317e",
            "placeholder": "​",
            "style": "IPY_MODEL_0ac83c173d964a66b2f08720d2384d5c",
            "value": "special_tokens_map.json: 100%"
          }
        },
        "7f1ce09faf1446358f73ebe1711e2540": {
          "model_module": "@jupyter-widgets/controls",
          "model_name": "FloatProgressModel",
          "model_module_version": "1.5.0",
          "state": {
            "_dom_classes": [],
            "_model_module": "@jupyter-widgets/controls",
            "_model_module_version": "1.5.0",
            "_model_name": "FloatProgressModel",
            "_view_count": null,
            "_view_module": "@jupyter-widgets/controls",
            "_view_module_version": "1.5.0",
            "_view_name": "ProgressView",
            "bar_style": "success",
            "description": "",
            "description_tooltip": null,
            "layout": "IPY_MODEL_fe37df5d39b34d6d9cb3c2158f8a75e0",
            "max": 153,
            "min": 0,
            "orientation": "horizontal",
            "style": "IPY_MODEL_8051b6f8884b4fcdbfbb6988fb4693f0",
            "value": 153
          }
        },
        "c5fd31974beb4a84a149d52607350800": {
          "model_module": "@jupyter-widgets/controls",
          "model_name": "HTMLModel",
          "model_module_version": "1.5.0",
          "state": {
            "_dom_classes": [],
            "_model_module": "@jupyter-widgets/controls",
            "_model_module_version": "1.5.0",
            "_model_name": "HTMLModel",
            "_view_count": null,
            "_view_module": "@jupyter-widgets/controls",
            "_view_module_version": "1.5.0",
            "_view_name": "HTMLView",
            "description": "",
            "description_tooltip": null,
            "layout": "IPY_MODEL_8868a66050a747fe904db1eeb50ae79f",
            "placeholder": "​",
            "style": "IPY_MODEL_6e3cf9aac04e4f26a11fb9dbbbba892a",
            "value": " 153/153 [00:00&lt;00:00, 2.26kB/s]"
          }
        },
        "ee994ddb6ecd48faa844bb82baacaabf": {
          "model_module": "@jupyter-widgets/base",
          "model_name": "LayoutModel",
          "model_module_version": "1.2.0",
          "state": {
            "_model_module": "@jupyter-widgets/base",
            "_model_module_version": "1.2.0",
            "_model_name": "LayoutModel",
            "_view_count": null,
            "_view_module": "@jupyter-widgets/base",
            "_view_module_version": "1.2.0",
            "_view_name": "LayoutView",
            "align_content": null,
            "align_items": null,
            "align_self": null,
            "border": null,
            "bottom": null,
            "display": null,
            "flex": null,
            "flex_flow": null,
            "grid_area": null,
            "grid_auto_columns": null,
            "grid_auto_flow": null,
            "grid_auto_rows": null,
            "grid_column": null,
            "grid_gap": null,
            "grid_row": null,
            "grid_template_areas": null,
            "grid_template_columns": null,
            "grid_template_rows": null,
            "height": null,
            "justify_content": null,
            "justify_items": null,
            "left": null,
            "margin": null,
            "max_height": null,
            "max_width": null,
            "min_height": null,
            "min_width": null,
            "object_fit": null,
            "object_position": null,
            "order": null,
            "overflow": null,
            "overflow_x": null,
            "overflow_y": null,
            "padding": null,
            "right": null,
            "top": null,
            "visibility": null,
            "width": null
          }
        },
        "855c9bcd24e0421cac28cf760066317e": {
          "model_module": "@jupyter-widgets/base",
          "model_name": "LayoutModel",
          "model_module_version": "1.2.0",
          "state": {
            "_model_module": "@jupyter-widgets/base",
            "_model_module_version": "1.2.0",
            "_model_name": "LayoutModel",
            "_view_count": null,
            "_view_module": "@jupyter-widgets/base",
            "_view_module_version": "1.2.0",
            "_view_name": "LayoutView",
            "align_content": null,
            "align_items": null,
            "align_self": null,
            "border": null,
            "bottom": null,
            "display": null,
            "flex": null,
            "flex_flow": null,
            "grid_area": null,
            "grid_auto_columns": null,
            "grid_auto_flow": null,
            "grid_auto_rows": null,
            "grid_column": null,
            "grid_gap": null,
            "grid_row": null,
            "grid_template_areas": null,
            "grid_template_columns": null,
            "grid_template_rows": null,
            "height": null,
            "justify_content": null,
            "justify_items": null,
            "left": null,
            "margin": null,
            "max_height": null,
            "max_width": null,
            "min_height": null,
            "min_width": null,
            "object_fit": null,
            "object_position": null,
            "order": null,
            "overflow": null,
            "overflow_x": null,
            "overflow_y": null,
            "padding": null,
            "right": null,
            "top": null,
            "visibility": null,
            "width": null
          }
        },
        "0ac83c173d964a66b2f08720d2384d5c": {
          "model_module": "@jupyter-widgets/controls",
          "model_name": "DescriptionStyleModel",
          "model_module_version": "1.5.0",
          "state": {
            "_model_module": "@jupyter-widgets/controls",
            "_model_module_version": "1.5.0",
            "_model_name": "DescriptionStyleModel",
            "_view_count": null,
            "_view_module": "@jupyter-widgets/base",
            "_view_module_version": "1.2.0",
            "_view_name": "StyleView",
            "description_width": ""
          }
        },
        "fe37df5d39b34d6d9cb3c2158f8a75e0": {
          "model_module": "@jupyter-widgets/base",
          "model_name": "LayoutModel",
          "model_module_version": "1.2.0",
          "state": {
            "_model_module": "@jupyter-widgets/base",
            "_model_module_version": "1.2.0",
            "_model_name": "LayoutModel",
            "_view_count": null,
            "_view_module": "@jupyter-widgets/base",
            "_view_module_version": "1.2.0",
            "_view_name": "LayoutView",
            "align_content": null,
            "align_items": null,
            "align_self": null,
            "border": null,
            "bottom": null,
            "display": null,
            "flex": null,
            "flex_flow": null,
            "grid_area": null,
            "grid_auto_columns": null,
            "grid_auto_flow": null,
            "grid_auto_rows": null,
            "grid_column": null,
            "grid_gap": null,
            "grid_row": null,
            "grid_template_areas": null,
            "grid_template_columns": null,
            "grid_template_rows": null,
            "height": null,
            "justify_content": null,
            "justify_items": null,
            "left": null,
            "margin": null,
            "max_height": null,
            "max_width": null,
            "min_height": null,
            "min_width": null,
            "object_fit": null,
            "object_position": null,
            "order": null,
            "overflow": null,
            "overflow_x": null,
            "overflow_y": null,
            "padding": null,
            "right": null,
            "top": null,
            "visibility": null,
            "width": null
          }
        },
        "8051b6f8884b4fcdbfbb6988fb4693f0": {
          "model_module": "@jupyter-widgets/controls",
          "model_name": "ProgressStyleModel",
          "model_module_version": "1.5.0",
          "state": {
            "_model_module": "@jupyter-widgets/controls",
            "_model_module_version": "1.5.0",
            "_model_name": "ProgressStyleModel",
            "_view_count": null,
            "_view_module": "@jupyter-widgets/base",
            "_view_module_version": "1.2.0",
            "_view_name": "StyleView",
            "bar_color": null,
            "description_width": ""
          }
        },
        "8868a66050a747fe904db1eeb50ae79f": {
          "model_module": "@jupyter-widgets/base",
          "model_name": "LayoutModel",
          "model_module_version": "1.2.0",
          "state": {
            "_model_module": "@jupyter-widgets/base",
            "_model_module_version": "1.2.0",
            "_model_name": "LayoutModel",
            "_view_count": null,
            "_view_module": "@jupyter-widgets/base",
            "_view_module_version": "1.2.0",
            "_view_name": "LayoutView",
            "align_content": null,
            "align_items": null,
            "align_self": null,
            "border": null,
            "bottom": null,
            "display": null,
            "flex": null,
            "flex_flow": null,
            "grid_area": null,
            "grid_auto_columns": null,
            "grid_auto_flow": null,
            "grid_auto_rows": null,
            "grid_column": null,
            "grid_gap": null,
            "grid_row": null,
            "grid_template_areas": null,
            "grid_template_columns": null,
            "grid_template_rows": null,
            "height": null,
            "justify_content": null,
            "justify_items": null,
            "left": null,
            "margin": null,
            "max_height": null,
            "max_width": null,
            "min_height": null,
            "min_width": null,
            "object_fit": null,
            "object_position": null,
            "order": null,
            "overflow": null,
            "overflow_x": null,
            "overflow_y": null,
            "padding": null,
            "right": null,
            "top": null,
            "visibility": null,
            "width": null
          }
        },
        "6e3cf9aac04e4f26a11fb9dbbbba892a": {
          "model_module": "@jupyter-widgets/controls",
          "model_name": "DescriptionStyleModel",
          "model_module_version": "1.5.0",
          "state": {
            "_model_module": "@jupyter-widgets/controls",
            "_model_module_version": "1.5.0",
            "_model_name": "DescriptionStyleModel",
            "_view_count": null,
            "_view_module": "@jupyter-widgets/base",
            "_view_module_version": "1.2.0",
            "_view_name": "StyleView",
            "description_width": ""
          }
        },
        "45644bd5d7ca42b2a1264b49e93bf5f1": {
          "model_module": "@jupyter-widgets/controls",
          "model_name": "HBoxModel",
          "model_module_version": "1.5.0",
          "state": {
            "_dom_classes": [],
            "_model_module": "@jupyter-widgets/controls",
            "_model_module_version": "1.5.0",
            "_model_name": "HBoxModel",
            "_view_count": null,
            "_view_module": "@jupyter-widgets/controls",
            "_view_module_version": "1.5.0",
            "_view_name": "HBoxView",
            "box_style": "",
            "children": [
              "IPY_MODEL_5f00646008f34504965e7a49b05a5aca",
              "IPY_MODEL_c9fd30529a594a55a3dc6f26f7d04694",
              "IPY_MODEL_fc7ab0495a1840b1b9601fc2efb1125d"
            ],
            "layout": "IPY_MODEL_520aae2fc55240ccba86405060ab48e7"
          }
        },
        "5f00646008f34504965e7a49b05a5aca": {
          "model_module": "@jupyter-widgets/controls",
          "model_name": "HTMLModel",
          "model_module_version": "1.5.0",
          "state": {
            "_dom_classes": [],
            "_model_module": "@jupyter-widgets/controls",
            "_model_module_version": "1.5.0",
            "_model_name": "HTMLModel",
            "_view_count": null,
            "_view_module": "@jupyter-widgets/controls",
            "_view_module_version": "1.5.0",
            "_view_name": "HTMLView",
            "description": "",
            "description_tooltip": null,
            "layout": "IPY_MODEL_b71a6ea9be5a49ea933119990e4a1f03",
            "placeholder": "​",
            "style": "IPY_MODEL_be2bcfe70deb42258206f1ad26c375a3",
            "value": "Map: 100%"
          }
        },
        "c9fd30529a594a55a3dc6f26f7d04694": {
          "model_module": "@jupyter-widgets/controls",
          "model_name": "FloatProgressModel",
          "model_module_version": "1.5.0",
          "state": {
            "_dom_classes": [],
            "_model_module": "@jupyter-widgets/controls",
            "_model_module_version": "1.5.0",
            "_model_name": "FloatProgressModel",
            "_view_count": null,
            "_view_module": "@jupyter-widgets/controls",
            "_view_module_version": "1.5.0",
            "_view_name": "ProgressView",
            "bar_style": "success",
            "description": "",
            "description_tooltip": null,
            "layout": "IPY_MODEL_eabe17ec6d704a0ca5123411e1447098",
            "max": 3759,
            "min": 0,
            "orientation": "horizontal",
            "style": "IPY_MODEL_fdf33a750d68436e97b38e12302a7bd4",
            "value": 3759
          }
        },
        "fc7ab0495a1840b1b9601fc2efb1125d": {
          "model_module": "@jupyter-widgets/controls",
          "model_name": "HTMLModel",
          "model_module_version": "1.5.0",
          "state": {
            "_dom_classes": [],
            "_model_module": "@jupyter-widgets/controls",
            "_model_module_version": "1.5.0",
            "_model_name": "HTMLModel",
            "_view_count": null,
            "_view_module": "@jupyter-widgets/controls",
            "_view_module_version": "1.5.0",
            "_view_name": "HTMLView",
            "description": "",
            "description_tooltip": null,
            "layout": "IPY_MODEL_bc1cbef04c7c4034842a8f2339793d65",
            "placeholder": "​",
            "style": "IPY_MODEL_16bebc85b8174b1689ad5c194c258d82",
            "value": " 3759/3759 [00:00&lt;00:00, 6668.33 examples/s]"
          }
        },
        "520aae2fc55240ccba86405060ab48e7": {
          "model_module": "@jupyter-widgets/base",
          "model_name": "LayoutModel",
          "model_module_version": "1.2.0",
          "state": {
            "_model_module": "@jupyter-widgets/base",
            "_model_module_version": "1.2.0",
            "_model_name": "LayoutModel",
            "_view_count": null,
            "_view_module": "@jupyter-widgets/base",
            "_view_module_version": "1.2.0",
            "_view_name": "LayoutView",
            "align_content": null,
            "align_items": null,
            "align_self": null,
            "border": null,
            "bottom": null,
            "display": null,
            "flex": null,
            "flex_flow": null,
            "grid_area": null,
            "grid_auto_columns": null,
            "grid_auto_flow": null,
            "grid_auto_rows": null,
            "grid_column": null,
            "grid_gap": null,
            "grid_row": null,
            "grid_template_areas": null,
            "grid_template_columns": null,
            "grid_template_rows": null,
            "height": null,
            "justify_content": null,
            "justify_items": null,
            "left": null,
            "margin": null,
            "max_height": null,
            "max_width": null,
            "min_height": null,
            "min_width": null,
            "object_fit": null,
            "object_position": null,
            "order": null,
            "overflow": null,
            "overflow_x": null,
            "overflow_y": null,
            "padding": null,
            "right": null,
            "top": null,
            "visibility": null,
            "width": null
          }
        },
        "b71a6ea9be5a49ea933119990e4a1f03": {
          "model_module": "@jupyter-widgets/base",
          "model_name": "LayoutModel",
          "model_module_version": "1.2.0",
          "state": {
            "_model_module": "@jupyter-widgets/base",
            "_model_module_version": "1.2.0",
            "_model_name": "LayoutModel",
            "_view_count": null,
            "_view_module": "@jupyter-widgets/base",
            "_view_module_version": "1.2.0",
            "_view_name": "LayoutView",
            "align_content": null,
            "align_items": null,
            "align_self": null,
            "border": null,
            "bottom": null,
            "display": null,
            "flex": null,
            "flex_flow": null,
            "grid_area": null,
            "grid_auto_columns": null,
            "grid_auto_flow": null,
            "grid_auto_rows": null,
            "grid_column": null,
            "grid_gap": null,
            "grid_row": null,
            "grid_template_areas": null,
            "grid_template_columns": null,
            "grid_template_rows": null,
            "height": null,
            "justify_content": null,
            "justify_items": null,
            "left": null,
            "margin": null,
            "max_height": null,
            "max_width": null,
            "min_height": null,
            "min_width": null,
            "object_fit": null,
            "object_position": null,
            "order": null,
            "overflow": null,
            "overflow_x": null,
            "overflow_y": null,
            "padding": null,
            "right": null,
            "top": null,
            "visibility": null,
            "width": null
          }
        },
        "be2bcfe70deb42258206f1ad26c375a3": {
          "model_module": "@jupyter-widgets/controls",
          "model_name": "DescriptionStyleModel",
          "model_module_version": "1.5.0",
          "state": {
            "_model_module": "@jupyter-widgets/controls",
            "_model_module_version": "1.5.0",
            "_model_name": "DescriptionStyleModel",
            "_view_count": null,
            "_view_module": "@jupyter-widgets/base",
            "_view_module_version": "1.2.0",
            "_view_name": "StyleView",
            "description_width": ""
          }
        },
        "eabe17ec6d704a0ca5123411e1447098": {
          "model_module": "@jupyter-widgets/base",
          "model_name": "LayoutModel",
          "model_module_version": "1.2.0",
          "state": {
            "_model_module": "@jupyter-widgets/base",
            "_model_module_version": "1.2.0",
            "_model_name": "LayoutModel",
            "_view_count": null,
            "_view_module": "@jupyter-widgets/base",
            "_view_module_version": "1.2.0",
            "_view_name": "LayoutView",
            "align_content": null,
            "align_items": null,
            "align_self": null,
            "border": null,
            "bottom": null,
            "display": null,
            "flex": null,
            "flex_flow": null,
            "grid_area": null,
            "grid_auto_columns": null,
            "grid_auto_flow": null,
            "grid_auto_rows": null,
            "grid_column": null,
            "grid_gap": null,
            "grid_row": null,
            "grid_template_areas": null,
            "grid_template_columns": null,
            "grid_template_rows": null,
            "height": null,
            "justify_content": null,
            "justify_items": null,
            "left": null,
            "margin": null,
            "max_height": null,
            "max_width": null,
            "min_height": null,
            "min_width": null,
            "object_fit": null,
            "object_position": null,
            "order": null,
            "overflow": null,
            "overflow_x": null,
            "overflow_y": null,
            "padding": null,
            "right": null,
            "top": null,
            "visibility": null,
            "width": null
          }
        },
        "fdf33a750d68436e97b38e12302a7bd4": {
          "model_module": "@jupyter-widgets/controls",
          "model_name": "ProgressStyleModel",
          "model_module_version": "1.5.0",
          "state": {
            "_model_module": "@jupyter-widgets/controls",
            "_model_module_version": "1.5.0",
            "_model_name": "ProgressStyleModel",
            "_view_count": null,
            "_view_module": "@jupyter-widgets/base",
            "_view_module_version": "1.2.0",
            "_view_name": "StyleView",
            "bar_color": null,
            "description_width": ""
          }
        },
        "bc1cbef04c7c4034842a8f2339793d65": {
          "model_module": "@jupyter-widgets/base",
          "model_name": "LayoutModel",
          "model_module_version": "1.2.0",
          "state": {
            "_model_module": "@jupyter-widgets/base",
            "_model_module_version": "1.2.0",
            "_model_name": "LayoutModel",
            "_view_count": null,
            "_view_module": "@jupyter-widgets/base",
            "_view_module_version": "1.2.0",
            "_view_name": "LayoutView",
            "align_content": null,
            "align_items": null,
            "align_self": null,
            "border": null,
            "bottom": null,
            "display": null,
            "flex": null,
            "flex_flow": null,
            "grid_area": null,
            "grid_auto_columns": null,
            "grid_auto_flow": null,
            "grid_auto_rows": null,
            "grid_column": null,
            "grid_gap": null,
            "grid_row": null,
            "grid_template_areas": null,
            "grid_template_columns": null,
            "grid_template_rows": null,
            "height": null,
            "justify_content": null,
            "justify_items": null,
            "left": null,
            "margin": null,
            "max_height": null,
            "max_width": null,
            "min_height": null,
            "min_width": null,
            "object_fit": null,
            "object_position": null,
            "order": null,
            "overflow": null,
            "overflow_x": null,
            "overflow_y": null,
            "padding": null,
            "right": null,
            "top": null,
            "visibility": null,
            "width": null
          }
        },
        "16bebc85b8174b1689ad5c194c258d82": {
          "model_module": "@jupyter-widgets/controls",
          "model_name": "DescriptionStyleModel",
          "model_module_version": "1.5.0",
          "state": {
            "_model_module": "@jupyter-widgets/controls",
            "_model_module_version": "1.5.0",
            "_model_name": "DescriptionStyleModel",
            "_view_count": null,
            "_view_module": "@jupyter-widgets/base",
            "_view_module_version": "1.2.0",
            "_view_name": "StyleView",
            "description_width": ""
          }
        },
        "4b0f33911df1462daac7098c6abb7469": {
          "model_module": "@jupyter-widgets/controls",
          "model_name": "HBoxModel",
          "model_module_version": "1.5.0",
          "state": {
            "_dom_classes": [],
            "_model_module": "@jupyter-widgets/controls",
            "_model_module_version": "1.5.0",
            "_model_name": "HBoxModel",
            "_view_count": null,
            "_view_module": "@jupyter-widgets/controls",
            "_view_module_version": "1.5.0",
            "_view_name": "HBoxView",
            "box_style": "",
            "children": [
              "IPY_MODEL_048f93cf381a4c28a8426b351f933cf5",
              "IPY_MODEL_f3dbbfca4a5e487d930804a00edab0af",
              "IPY_MODEL_6de4d15109f94e86a36ae89cc50adfc9"
            ],
            "layout": "IPY_MODEL_9dffd4f8bdff4617887c88ff4187c388"
          }
        },
        "048f93cf381a4c28a8426b351f933cf5": {
          "model_module": "@jupyter-widgets/controls",
          "model_name": "HTMLModel",
          "model_module_version": "1.5.0",
          "state": {
            "_dom_classes": [],
            "_model_module": "@jupyter-widgets/controls",
            "_model_module_version": "1.5.0",
            "_model_name": "HTMLModel",
            "_view_count": null,
            "_view_module": "@jupyter-widgets/controls",
            "_view_module_version": "1.5.0",
            "_view_name": "HTMLView",
            "description": "",
            "description_tooltip": null,
            "layout": "IPY_MODEL_39bccfe8e58744728ae3ef143919eb2e",
            "placeholder": "​",
            "style": "IPY_MODEL_b32bbeed72fb4121abe34a225a2e2ce9",
            "value": "Map: 100%"
          }
        },
        "f3dbbfca4a5e487d930804a00edab0af": {
          "model_module": "@jupyter-widgets/controls",
          "model_name": "FloatProgressModel",
          "model_module_version": "1.5.0",
          "state": {
            "_dom_classes": [],
            "_model_module": "@jupyter-widgets/controls",
            "_model_module_version": "1.5.0",
            "_model_name": "FloatProgressModel",
            "_view_count": null,
            "_view_module": "@jupyter-widgets/controls",
            "_view_module_version": "1.5.0",
            "_view_name": "ProgressView",
            "bar_style": "success",
            "description": "",
            "description_tooltip": null,
            "layout": "IPY_MODEL_d708f0aa42c6490182bf61433f137229",
            "max": 897,
            "min": 0,
            "orientation": "horizontal",
            "style": "IPY_MODEL_112c5a9dcd02486f8d7d5f01bf0b2293",
            "value": 897
          }
        },
        "6de4d15109f94e86a36ae89cc50adfc9": {
          "model_module": "@jupyter-widgets/controls",
          "model_name": "HTMLModel",
          "model_module_version": "1.5.0",
          "state": {
            "_dom_classes": [],
            "_model_module": "@jupyter-widgets/controls",
            "_model_module_version": "1.5.0",
            "_model_name": "HTMLModel",
            "_view_count": null,
            "_view_module": "@jupyter-widgets/controls",
            "_view_module_version": "1.5.0",
            "_view_name": "HTMLView",
            "description": "",
            "description_tooltip": null,
            "layout": "IPY_MODEL_e32aa8f772d0490c916b2e588f8a2642",
            "placeholder": "​",
            "style": "IPY_MODEL_efb738298c8d4d8cb29beb7f90ff68a0",
            "value": " 897/897 [00:00&lt;00:00, 6292.49 examples/s]"
          }
        },
        "9dffd4f8bdff4617887c88ff4187c388": {
          "model_module": "@jupyter-widgets/base",
          "model_name": "LayoutModel",
          "model_module_version": "1.2.0",
          "state": {
            "_model_module": "@jupyter-widgets/base",
            "_model_module_version": "1.2.0",
            "_model_name": "LayoutModel",
            "_view_count": null,
            "_view_module": "@jupyter-widgets/base",
            "_view_module_version": "1.2.0",
            "_view_name": "LayoutView",
            "align_content": null,
            "align_items": null,
            "align_self": null,
            "border": null,
            "bottom": null,
            "display": null,
            "flex": null,
            "flex_flow": null,
            "grid_area": null,
            "grid_auto_columns": null,
            "grid_auto_flow": null,
            "grid_auto_rows": null,
            "grid_column": null,
            "grid_gap": null,
            "grid_row": null,
            "grid_template_areas": null,
            "grid_template_columns": null,
            "grid_template_rows": null,
            "height": null,
            "justify_content": null,
            "justify_items": null,
            "left": null,
            "margin": null,
            "max_height": null,
            "max_width": null,
            "min_height": null,
            "min_width": null,
            "object_fit": null,
            "object_position": null,
            "order": null,
            "overflow": null,
            "overflow_x": null,
            "overflow_y": null,
            "padding": null,
            "right": null,
            "top": null,
            "visibility": null,
            "width": null
          }
        },
        "39bccfe8e58744728ae3ef143919eb2e": {
          "model_module": "@jupyter-widgets/base",
          "model_name": "LayoutModel",
          "model_module_version": "1.2.0",
          "state": {
            "_model_module": "@jupyter-widgets/base",
            "_model_module_version": "1.2.0",
            "_model_name": "LayoutModel",
            "_view_count": null,
            "_view_module": "@jupyter-widgets/base",
            "_view_module_version": "1.2.0",
            "_view_name": "LayoutView",
            "align_content": null,
            "align_items": null,
            "align_self": null,
            "border": null,
            "bottom": null,
            "display": null,
            "flex": null,
            "flex_flow": null,
            "grid_area": null,
            "grid_auto_columns": null,
            "grid_auto_flow": null,
            "grid_auto_rows": null,
            "grid_column": null,
            "grid_gap": null,
            "grid_row": null,
            "grid_template_areas": null,
            "grid_template_columns": null,
            "grid_template_rows": null,
            "height": null,
            "justify_content": null,
            "justify_items": null,
            "left": null,
            "margin": null,
            "max_height": null,
            "max_width": null,
            "min_height": null,
            "min_width": null,
            "object_fit": null,
            "object_position": null,
            "order": null,
            "overflow": null,
            "overflow_x": null,
            "overflow_y": null,
            "padding": null,
            "right": null,
            "top": null,
            "visibility": null,
            "width": null
          }
        },
        "b32bbeed72fb4121abe34a225a2e2ce9": {
          "model_module": "@jupyter-widgets/controls",
          "model_name": "DescriptionStyleModel",
          "model_module_version": "1.5.0",
          "state": {
            "_model_module": "@jupyter-widgets/controls",
            "_model_module_version": "1.5.0",
            "_model_name": "DescriptionStyleModel",
            "_view_count": null,
            "_view_module": "@jupyter-widgets/base",
            "_view_module_version": "1.2.0",
            "_view_name": "StyleView",
            "description_width": ""
          }
        },
        "d708f0aa42c6490182bf61433f137229": {
          "model_module": "@jupyter-widgets/base",
          "model_name": "LayoutModel",
          "model_module_version": "1.2.0",
          "state": {
            "_model_module": "@jupyter-widgets/base",
            "_model_module_version": "1.2.0",
            "_model_name": "LayoutModel",
            "_view_count": null,
            "_view_module": "@jupyter-widgets/base",
            "_view_module_version": "1.2.0",
            "_view_name": "LayoutView",
            "align_content": null,
            "align_items": null,
            "align_self": null,
            "border": null,
            "bottom": null,
            "display": null,
            "flex": null,
            "flex_flow": null,
            "grid_area": null,
            "grid_auto_columns": null,
            "grid_auto_flow": null,
            "grid_auto_rows": null,
            "grid_column": null,
            "grid_gap": null,
            "grid_row": null,
            "grid_template_areas": null,
            "grid_template_columns": null,
            "grid_template_rows": null,
            "height": null,
            "justify_content": null,
            "justify_items": null,
            "left": null,
            "margin": null,
            "max_height": null,
            "max_width": null,
            "min_height": null,
            "min_width": null,
            "object_fit": null,
            "object_position": null,
            "order": null,
            "overflow": null,
            "overflow_x": null,
            "overflow_y": null,
            "padding": null,
            "right": null,
            "top": null,
            "visibility": null,
            "width": null
          }
        },
        "112c5a9dcd02486f8d7d5f01bf0b2293": {
          "model_module": "@jupyter-widgets/controls",
          "model_name": "ProgressStyleModel",
          "model_module_version": "1.5.0",
          "state": {
            "_model_module": "@jupyter-widgets/controls",
            "_model_module_version": "1.5.0",
            "_model_name": "ProgressStyleModel",
            "_view_count": null,
            "_view_module": "@jupyter-widgets/base",
            "_view_module_version": "1.2.0",
            "_view_name": "StyleView",
            "bar_color": null,
            "description_width": ""
          }
        },
        "e32aa8f772d0490c916b2e588f8a2642": {
          "model_module": "@jupyter-widgets/base",
          "model_name": "LayoutModel",
          "model_module_version": "1.2.0",
          "state": {
            "_model_module": "@jupyter-widgets/base",
            "_model_module_version": "1.2.0",
            "_model_name": "LayoutModel",
            "_view_count": null,
            "_view_module": "@jupyter-widgets/base",
            "_view_module_version": "1.2.0",
            "_view_name": "LayoutView",
            "align_content": null,
            "align_items": null,
            "align_self": null,
            "border": null,
            "bottom": null,
            "display": null,
            "flex": null,
            "flex_flow": null,
            "grid_area": null,
            "grid_auto_columns": null,
            "grid_auto_flow": null,
            "grid_auto_rows": null,
            "grid_column": null,
            "grid_gap": null,
            "grid_row": null,
            "grid_template_areas": null,
            "grid_template_columns": null,
            "grid_template_rows": null,
            "height": null,
            "justify_content": null,
            "justify_items": null,
            "left": null,
            "margin": null,
            "max_height": null,
            "max_width": null,
            "min_height": null,
            "min_width": null,
            "object_fit": null,
            "object_position": null,
            "order": null,
            "overflow": null,
            "overflow_x": null,
            "overflow_y": null,
            "padding": null,
            "right": null,
            "top": null,
            "visibility": null,
            "width": null
          }
        },
        "efb738298c8d4d8cb29beb7f90ff68a0": {
          "model_module": "@jupyter-widgets/controls",
          "model_name": "DescriptionStyleModel",
          "model_module_version": "1.5.0",
          "state": {
            "_model_module": "@jupyter-widgets/controls",
            "_model_module_version": "1.5.0",
            "_model_name": "DescriptionStyleModel",
            "_view_count": null,
            "_view_module": "@jupyter-widgets/base",
            "_view_module_version": "1.2.0",
            "_view_name": "StyleView",
            "description_width": ""
          }
        },
        "a4647a6baaa14c0f88cb957a3953dad2": {
          "model_module": "@jupyter-widgets/controls",
          "model_name": "HBoxModel",
          "model_module_version": "1.5.0",
          "state": {
            "_dom_classes": [],
            "_model_module": "@jupyter-widgets/controls",
            "_model_module_version": "1.5.0",
            "_model_name": "HBoxModel",
            "_view_count": null,
            "_view_module": "@jupyter-widgets/controls",
            "_view_module_version": "1.5.0",
            "_view_name": "HBoxView",
            "box_style": "",
            "children": [
              "IPY_MODEL_5eef4bc8d2014d649da6c97141ce7d01",
              "IPY_MODEL_0df28f15b0d3477789ba9a7a822e8e0f",
              "IPY_MODEL_e8f2c356df564cc4b5a87d3b11462fce"
            ],
            "layout": "IPY_MODEL_774eef8a197146cb9d01f334af0e4611"
          }
        },
        "5eef4bc8d2014d649da6c97141ce7d01": {
          "model_module": "@jupyter-widgets/controls",
          "model_name": "HTMLModel",
          "model_module_version": "1.5.0",
          "state": {
            "_dom_classes": [],
            "_model_module": "@jupyter-widgets/controls",
            "_model_module_version": "1.5.0",
            "_model_name": "HTMLModel",
            "_view_count": null,
            "_view_module": "@jupyter-widgets/controls",
            "_view_module_version": "1.5.0",
            "_view_name": "HTMLView",
            "description": "",
            "description_tooltip": null,
            "layout": "IPY_MODEL_57624efa6c524d96819ff22fedd98b3e",
            "placeholder": "​",
            "style": "IPY_MODEL_785acab7e7e34117999cdb5a54459045",
            "value": "Map: 100%"
          }
        },
        "0df28f15b0d3477789ba9a7a822e8e0f": {
          "model_module": "@jupyter-widgets/controls",
          "model_name": "FloatProgressModel",
          "model_module_version": "1.5.0",
          "state": {
            "_dom_classes": [],
            "_model_module": "@jupyter-widgets/controls",
            "_model_module_version": "1.5.0",
            "_model_name": "FloatProgressModel",
            "_view_count": null,
            "_view_module": "@jupyter-widgets/controls",
            "_view_module_version": "1.5.0",
            "_view_name": "ProgressView",
            "bar_style": "success",
            "description": "",
            "description_tooltip": null,
            "layout": "IPY_MODEL_3db502e55fa34471a9d6068457912daf",
            "max": 600,
            "min": 0,
            "orientation": "horizontal",
            "style": "IPY_MODEL_10d690fabd794f6ab9cd5ff714b16dac",
            "value": 600
          }
        },
        "e8f2c356df564cc4b5a87d3b11462fce": {
          "model_module": "@jupyter-widgets/controls",
          "model_name": "HTMLModel",
          "model_module_version": "1.5.0",
          "state": {
            "_dom_classes": [],
            "_model_module": "@jupyter-widgets/controls",
            "_model_module_version": "1.5.0",
            "_model_name": "HTMLModel",
            "_view_count": null,
            "_view_module": "@jupyter-widgets/controls",
            "_view_module_version": "1.5.0",
            "_view_name": "HTMLView",
            "description": "",
            "description_tooltip": null,
            "layout": "IPY_MODEL_f873b550ff5141f8b534e15f61deba71",
            "placeholder": "​",
            "style": "IPY_MODEL_16d0ceb903d0479997da4737456c0857",
            "value": " 600/600 [00:00&lt;00:00, 7177.34 examples/s]"
          }
        },
        "774eef8a197146cb9d01f334af0e4611": {
          "model_module": "@jupyter-widgets/base",
          "model_name": "LayoutModel",
          "model_module_version": "1.2.0",
          "state": {
            "_model_module": "@jupyter-widgets/base",
            "_model_module_version": "1.2.0",
            "_model_name": "LayoutModel",
            "_view_count": null,
            "_view_module": "@jupyter-widgets/base",
            "_view_module_version": "1.2.0",
            "_view_name": "LayoutView",
            "align_content": null,
            "align_items": null,
            "align_self": null,
            "border": null,
            "bottom": null,
            "display": null,
            "flex": null,
            "flex_flow": null,
            "grid_area": null,
            "grid_auto_columns": null,
            "grid_auto_flow": null,
            "grid_auto_rows": null,
            "grid_column": null,
            "grid_gap": null,
            "grid_row": null,
            "grid_template_areas": null,
            "grid_template_columns": null,
            "grid_template_rows": null,
            "height": null,
            "justify_content": null,
            "justify_items": null,
            "left": null,
            "margin": null,
            "max_height": null,
            "max_width": null,
            "min_height": null,
            "min_width": null,
            "object_fit": null,
            "object_position": null,
            "order": null,
            "overflow": null,
            "overflow_x": null,
            "overflow_y": null,
            "padding": null,
            "right": null,
            "top": null,
            "visibility": null,
            "width": null
          }
        },
        "57624efa6c524d96819ff22fedd98b3e": {
          "model_module": "@jupyter-widgets/base",
          "model_name": "LayoutModel",
          "model_module_version": "1.2.0",
          "state": {
            "_model_module": "@jupyter-widgets/base",
            "_model_module_version": "1.2.0",
            "_model_name": "LayoutModel",
            "_view_count": null,
            "_view_module": "@jupyter-widgets/base",
            "_view_module_version": "1.2.0",
            "_view_name": "LayoutView",
            "align_content": null,
            "align_items": null,
            "align_self": null,
            "border": null,
            "bottom": null,
            "display": null,
            "flex": null,
            "flex_flow": null,
            "grid_area": null,
            "grid_auto_columns": null,
            "grid_auto_flow": null,
            "grid_auto_rows": null,
            "grid_column": null,
            "grid_gap": null,
            "grid_row": null,
            "grid_template_areas": null,
            "grid_template_columns": null,
            "grid_template_rows": null,
            "height": null,
            "justify_content": null,
            "justify_items": null,
            "left": null,
            "margin": null,
            "max_height": null,
            "max_width": null,
            "min_height": null,
            "min_width": null,
            "object_fit": null,
            "object_position": null,
            "order": null,
            "overflow": null,
            "overflow_x": null,
            "overflow_y": null,
            "padding": null,
            "right": null,
            "top": null,
            "visibility": null,
            "width": null
          }
        },
        "785acab7e7e34117999cdb5a54459045": {
          "model_module": "@jupyter-widgets/controls",
          "model_name": "DescriptionStyleModel",
          "model_module_version": "1.5.0",
          "state": {
            "_model_module": "@jupyter-widgets/controls",
            "_model_module_version": "1.5.0",
            "_model_name": "DescriptionStyleModel",
            "_view_count": null,
            "_view_module": "@jupyter-widgets/base",
            "_view_module_version": "1.2.0",
            "_view_name": "StyleView",
            "description_width": ""
          }
        },
        "3db502e55fa34471a9d6068457912daf": {
          "model_module": "@jupyter-widgets/base",
          "model_name": "LayoutModel",
          "model_module_version": "1.2.0",
          "state": {
            "_model_module": "@jupyter-widgets/base",
            "_model_module_version": "1.2.0",
            "_model_name": "LayoutModel",
            "_view_count": null,
            "_view_module": "@jupyter-widgets/base",
            "_view_module_version": "1.2.0",
            "_view_name": "LayoutView",
            "align_content": null,
            "align_items": null,
            "align_self": null,
            "border": null,
            "bottom": null,
            "display": null,
            "flex": null,
            "flex_flow": null,
            "grid_area": null,
            "grid_auto_columns": null,
            "grid_auto_flow": null,
            "grid_auto_rows": null,
            "grid_column": null,
            "grid_gap": null,
            "grid_row": null,
            "grid_template_areas": null,
            "grid_template_columns": null,
            "grid_template_rows": null,
            "height": null,
            "justify_content": null,
            "justify_items": null,
            "left": null,
            "margin": null,
            "max_height": null,
            "max_width": null,
            "min_height": null,
            "min_width": null,
            "object_fit": null,
            "object_position": null,
            "order": null,
            "overflow": null,
            "overflow_x": null,
            "overflow_y": null,
            "padding": null,
            "right": null,
            "top": null,
            "visibility": null,
            "width": null
          }
        },
        "10d690fabd794f6ab9cd5ff714b16dac": {
          "model_module": "@jupyter-widgets/controls",
          "model_name": "ProgressStyleModel",
          "model_module_version": "1.5.0",
          "state": {
            "_model_module": "@jupyter-widgets/controls",
            "_model_module_version": "1.5.0",
            "_model_name": "ProgressStyleModel",
            "_view_count": null,
            "_view_module": "@jupyter-widgets/base",
            "_view_module_version": "1.2.0",
            "_view_name": "StyleView",
            "bar_color": null,
            "description_width": ""
          }
        },
        "f873b550ff5141f8b534e15f61deba71": {
          "model_module": "@jupyter-widgets/base",
          "model_name": "LayoutModel",
          "model_module_version": "1.2.0",
          "state": {
            "_model_module": "@jupyter-widgets/base",
            "_model_module_version": "1.2.0",
            "_model_name": "LayoutModel",
            "_view_count": null,
            "_view_module": "@jupyter-widgets/base",
            "_view_module_version": "1.2.0",
            "_view_name": "LayoutView",
            "align_content": null,
            "align_items": null,
            "align_self": null,
            "border": null,
            "bottom": null,
            "display": null,
            "flex": null,
            "flex_flow": null,
            "grid_area": null,
            "grid_auto_columns": null,
            "grid_auto_flow": null,
            "grid_auto_rows": null,
            "grid_column": null,
            "grid_gap": null,
            "grid_row": null,
            "grid_template_areas": null,
            "grid_template_columns": null,
            "grid_template_rows": null,
            "height": null,
            "justify_content": null,
            "justify_items": null,
            "left": null,
            "margin": null,
            "max_height": null,
            "max_width": null,
            "min_height": null,
            "min_width": null,
            "object_fit": null,
            "object_position": null,
            "order": null,
            "overflow": null,
            "overflow_x": null,
            "overflow_y": null,
            "padding": null,
            "right": null,
            "top": null,
            "visibility": null,
            "width": null
          }
        },
        "16d0ceb903d0479997da4737456c0857": {
          "model_module": "@jupyter-widgets/controls",
          "model_name": "DescriptionStyleModel",
          "model_module_version": "1.5.0",
          "state": {
            "_model_module": "@jupyter-widgets/controls",
            "_model_module_version": "1.5.0",
            "_model_name": "DescriptionStyleModel",
            "_view_count": null,
            "_view_module": "@jupyter-widgets/base",
            "_view_module_version": "1.2.0",
            "_view_name": "StyleView",
            "description_width": ""
          }
        },
        "472a83bf80ca4421bd40d281659df048": {
          "model_module": "@jupyter-widgets/controls",
          "model_name": "HBoxModel",
          "model_module_version": "1.5.0",
          "state": {
            "_dom_classes": [],
            "_model_module": "@jupyter-widgets/controls",
            "_model_module_version": "1.5.0",
            "_model_name": "HBoxModel",
            "_view_count": null,
            "_view_module": "@jupyter-widgets/controls",
            "_view_module_version": "1.5.0",
            "_view_name": "HBoxView",
            "box_style": "",
            "children": [
              "IPY_MODEL_1fdaf152ddf344d0996c2191efb7942e",
              "IPY_MODEL_5f5c2cfb7af94e2aa99aa78b48bcc876",
              "IPY_MODEL_3d7579953a284c278ce089a5f6ad440e"
            ],
            "layout": "IPY_MODEL_f771b5daffa94533b6cd64810b7f2156"
          }
        },
        "1fdaf152ddf344d0996c2191efb7942e": {
          "model_module": "@jupyter-widgets/controls",
          "model_name": "HTMLModel",
          "model_module_version": "1.5.0",
          "state": {
            "_dom_classes": [],
            "_model_module": "@jupyter-widgets/controls",
            "_model_module_version": "1.5.0",
            "_model_name": "HTMLModel",
            "_view_count": null,
            "_view_module": "@jupyter-widgets/controls",
            "_view_module_version": "1.5.0",
            "_view_name": "HTMLView",
            "description": "",
            "description_tooltip": null,
            "layout": "IPY_MODEL_1787b5023e314e8a9344153f04ba9142",
            "placeholder": "​",
            "style": "IPY_MODEL_17d5dd0639a6443ca8868e91acbe6330",
            "value": "Downloading builder script: 100%"
          }
        },
        "5f5c2cfb7af94e2aa99aa78b48bcc876": {
          "model_module": "@jupyter-widgets/controls",
          "model_name": "FloatProgressModel",
          "model_module_version": "1.5.0",
          "state": {
            "_dom_classes": [],
            "_model_module": "@jupyter-widgets/controls",
            "_model_module_version": "1.5.0",
            "_model_name": "FloatProgressModel",
            "_view_count": null,
            "_view_module": "@jupyter-widgets/controls",
            "_view_module_version": "1.5.0",
            "_view_name": "ProgressView",
            "bar_style": "success",
            "description": "",
            "description_tooltip": null,
            "layout": "IPY_MODEL_9449d3562c34401c8842803d55d176ca",
            "max": 6771,
            "min": 0,
            "orientation": "horizontal",
            "style": "IPY_MODEL_11853a2a6a4f443da0c2dc4b0f122141",
            "value": 6771
          }
        },
        "3d7579953a284c278ce089a5f6ad440e": {
          "model_module": "@jupyter-widgets/controls",
          "model_name": "HTMLModel",
          "model_module_version": "1.5.0",
          "state": {
            "_dom_classes": [],
            "_model_module": "@jupyter-widgets/controls",
            "_model_module_version": "1.5.0",
            "_model_name": "HTMLModel",
            "_view_count": null,
            "_view_module": "@jupyter-widgets/controls",
            "_view_module_version": "1.5.0",
            "_view_name": "HTMLView",
            "description": "",
            "description_tooltip": null,
            "layout": "IPY_MODEL_22430931246c42c5878b0f62352b02f9",
            "placeholder": "​",
            "style": "IPY_MODEL_2c5c96abdbc9469fb65bcd9abfce2478",
            "value": " 6.77k/6.77k [00:00&lt;00:00, 400kB/s]"
          }
        },
        "f771b5daffa94533b6cd64810b7f2156": {
          "model_module": "@jupyter-widgets/base",
          "model_name": "LayoutModel",
          "model_module_version": "1.2.0",
          "state": {
            "_model_module": "@jupyter-widgets/base",
            "_model_module_version": "1.2.0",
            "_model_name": "LayoutModel",
            "_view_count": null,
            "_view_module": "@jupyter-widgets/base",
            "_view_module_version": "1.2.0",
            "_view_name": "LayoutView",
            "align_content": null,
            "align_items": null,
            "align_self": null,
            "border": null,
            "bottom": null,
            "display": null,
            "flex": null,
            "flex_flow": null,
            "grid_area": null,
            "grid_auto_columns": null,
            "grid_auto_flow": null,
            "grid_auto_rows": null,
            "grid_column": null,
            "grid_gap": null,
            "grid_row": null,
            "grid_template_areas": null,
            "grid_template_columns": null,
            "grid_template_rows": null,
            "height": null,
            "justify_content": null,
            "justify_items": null,
            "left": null,
            "margin": null,
            "max_height": null,
            "max_width": null,
            "min_height": null,
            "min_width": null,
            "object_fit": null,
            "object_position": null,
            "order": null,
            "overflow": null,
            "overflow_x": null,
            "overflow_y": null,
            "padding": null,
            "right": null,
            "top": null,
            "visibility": null,
            "width": null
          }
        },
        "1787b5023e314e8a9344153f04ba9142": {
          "model_module": "@jupyter-widgets/base",
          "model_name": "LayoutModel",
          "model_module_version": "1.2.0",
          "state": {
            "_model_module": "@jupyter-widgets/base",
            "_model_module_version": "1.2.0",
            "_model_name": "LayoutModel",
            "_view_count": null,
            "_view_module": "@jupyter-widgets/base",
            "_view_module_version": "1.2.0",
            "_view_name": "LayoutView",
            "align_content": null,
            "align_items": null,
            "align_self": null,
            "border": null,
            "bottom": null,
            "display": null,
            "flex": null,
            "flex_flow": null,
            "grid_area": null,
            "grid_auto_columns": null,
            "grid_auto_flow": null,
            "grid_auto_rows": null,
            "grid_column": null,
            "grid_gap": null,
            "grid_row": null,
            "grid_template_areas": null,
            "grid_template_columns": null,
            "grid_template_rows": null,
            "height": null,
            "justify_content": null,
            "justify_items": null,
            "left": null,
            "margin": null,
            "max_height": null,
            "max_width": null,
            "min_height": null,
            "min_width": null,
            "object_fit": null,
            "object_position": null,
            "order": null,
            "overflow": null,
            "overflow_x": null,
            "overflow_y": null,
            "padding": null,
            "right": null,
            "top": null,
            "visibility": null,
            "width": null
          }
        },
        "17d5dd0639a6443ca8868e91acbe6330": {
          "model_module": "@jupyter-widgets/controls",
          "model_name": "DescriptionStyleModel",
          "model_module_version": "1.5.0",
          "state": {
            "_model_module": "@jupyter-widgets/controls",
            "_model_module_version": "1.5.0",
            "_model_name": "DescriptionStyleModel",
            "_view_count": null,
            "_view_module": "@jupyter-widgets/base",
            "_view_module_version": "1.2.0",
            "_view_name": "StyleView",
            "description_width": ""
          }
        },
        "9449d3562c34401c8842803d55d176ca": {
          "model_module": "@jupyter-widgets/base",
          "model_name": "LayoutModel",
          "model_module_version": "1.2.0",
          "state": {
            "_model_module": "@jupyter-widgets/base",
            "_model_module_version": "1.2.0",
            "_model_name": "LayoutModel",
            "_view_count": null,
            "_view_module": "@jupyter-widgets/base",
            "_view_module_version": "1.2.0",
            "_view_name": "LayoutView",
            "align_content": null,
            "align_items": null,
            "align_self": null,
            "border": null,
            "bottom": null,
            "display": null,
            "flex": null,
            "flex_flow": null,
            "grid_area": null,
            "grid_auto_columns": null,
            "grid_auto_flow": null,
            "grid_auto_rows": null,
            "grid_column": null,
            "grid_gap": null,
            "grid_row": null,
            "grid_template_areas": null,
            "grid_template_columns": null,
            "grid_template_rows": null,
            "height": null,
            "justify_content": null,
            "justify_items": null,
            "left": null,
            "margin": null,
            "max_height": null,
            "max_width": null,
            "min_height": null,
            "min_width": null,
            "object_fit": null,
            "object_position": null,
            "order": null,
            "overflow": null,
            "overflow_x": null,
            "overflow_y": null,
            "padding": null,
            "right": null,
            "top": null,
            "visibility": null,
            "width": null
          }
        },
        "11853a2a6a4f443da0c2dc4b0f122141": {
          "model_module": "@jupyter-widgets/controls",
          "model_name": "ProgressStyleModel",
          "model_module_version": "1.5.0",
          "state": {
            "_model_module": "@jupyter-widgets/controls",
            "_model_module_version": "1.5.0",
            "_model_name": "ProgressStyleModel",
            "_view_count": null,
            "_view_module": "@jupyter-widgets/base",
            "_view_module_version": "1.2.0",
            "_view_name": "StyleView",
            "bar_color": null,
            "description_width": ""
          }
        },
        "22430931246c42c5878b0f62352b02f9": {
          "model_module": "@jupyter-widgets/base",
          "model_name": "LayoutModel",
          "model_module_version": "1.2.0",
          "state": {
            "_model_module": "@jupyter-widgets/base",
            "_model_module_version": "1.2.0",
            "_model_name": "LayoutModel",
            "_view_count": null,
            "_view_module": "@jupyter-widgets/base",
            "_view_module_version": "1.2.0",
            "_view_name": "LayoutView",
            "align_content": null,
            "align_items": null,
            "align_self": null,
            "border": null,
            "bottom": null,
            "display": null,
            "flex": null,
            "flex_flow": null,
            "grid_area": null,
            "grid_auto_columns": null,
            "grid_auto_flow": null,
            "grid_auto_rows": null,
            "grid_column": null,
            "grid_gap": null,
            "grid_row": null,
            "grid_template_areas": null,
            "grid_template_columns": null,
            "grid_template_rows": null,
            "height": null,
            "justify_content": null,
            "justify_items": null,
            "left": null,
            "margin": null,
            "max_height": null,
            "max_width": null,
            "min_height": null,
            "min_width": null,
            "object_fit": null,
            "object_position": null,
            "order": null,
            "overflow": null,
            "overflow_x": null,
            "overflow_y": null,
            "padding": null,
            "right": null,
            "top": null,
            "visibility": null,
            "width": null
          }
        },
        "2c5c96abdbc9469fb65bcd9abfce2478": {
          "model_module": "@jupyter-widgets/controls",
          "model_name": "DescriptionStyleModel",
          "model_module_version": "1.5.0",
          "state": {
            "_model_module": "@jupyter-widgets/controls",
            "_model_module_version": "1.5.0",
            "_model_name": "DescriptionStyleModel",
            "_view_count": null,
            "_view_module": "@jupyter-widgets/base",
            "_view_module_version": "1.2.0",
            "_view_name": "StyleView",
            "description_width": ""
          }
        },
        "909661e2b76c4833a50fdf04ebc7a075": {
          "model_module": "@jupyter-widgets/controls",
          "model_name": "HBoxModel",
          "model_module_version": "1.5.0",
          "state": {
            "_dom_classes": [],
            "_model_module": "@jupyter-widgets/controls",
            "_model_module_version": "1.5.0",
            "_model_name": "HBoxModel",
            "_view_count": null,
            "_view_module": "@jupyter-widgets/controls",
            "_view_module_version": "1.5.0",
            "_view_name": "HBoxView",
            "box_style": "",
            "children": [
              "IPY_MODEL_07c4dd7a5f354b05afc9870cb8e95bec",
              "IPY_MODEL_850ce760caa14170923a071d0d3d70d5",
              "IPY_MODEL_9b10f601b60a4609869102c5a482b9d3"
            ],
            "layout": "IPY_MODEL_4947e7b9c75645958f0c584e9bceedb2"
          }
        },
        "07c4dd7a5f354b05afc9870cb8e95bec": {
          "model_module": "@jupyter-widgets/controls",
          "model_name": "HTMLModel",
          "model_module_version": "1.5.0",
          "state": {
            "_dom_classes": [],
            "_model_module": "@jupyter-widgets/controls",
            "_model_module_version": "1.5.0",
            "_model_name": "HTMLModel",
            "_view_count": null,
            "_view_module": "@jupyter-widgets/controls",
            "_view_module_version": "1.5.0",
            "_view_name": "HTMLView",
            "description": "",
            "description_tooltip": null,
            "layout": "IPY_MODEL_9e8ce887f5754403b77babf094027f0a",
            "placeholder": "​",
            "style": "IPY_MODEL_f5d563063dbb4ee1b1f7bdea5b55f0e0",
            "value": "config.json: 100%"
          }
        },
        "850ce760caa14170923a071d0d3d70d5": {
          "model_module": "@jupyter-widgets/controls",
          "model_name": "FloatProgressModel",
          "model_module_version": "1.5.0",
          "state": {
            "_dom_classes": [],
            "_model_module": "@jupyter-widgets/controls",
            "_model_module_version": "1.5.0",
            "_model_name": "FloatProgressModel",
            "_view_count": null,
            "_view_module": "@jupyter-widgets/controls",
            "_view_module_version": "1.5.0",
            "_view_name": "ProgressView",
            "bar_style": "success",
            "description": "",
            "description_tooltip": null,
            "layout": "IPY_MODEL_28524c4cb5d64284bdbcbeec6ba8f693",
            "max": 663,
            "min": 0,
            "orientation": "horizontal",
            "style": "IPY_MODEL_7213b520c187450daee32edb1cba6477",
            "value": 663
          }
        },
        "9b10f601b60a4609869102c5a482b9d3": {
          "model_module": "@jupyter-widgets/controls",
          "model_name": "HTMLModel",
          "model_module_version": "1.5.0",
          "state": {
            "_dom_classes": [],
            "_model_module": "@jupyter-widgets/controls",
            "_model_module_version": "1.5.0",
            "_model_name": "HTMLModel",
            "_view_count": null,
            "_view_module": "@jupyter-widgets/controls",
            "_view_module_version": "1.5.0",
            "_view_name": "HTMLView",
            "description": "",
            "description_tooltip": null,
            "layout": "IPY_MODEL_f0d3148d87be42ee9454fbe4d986eca4",
            "placeholder": "​",
            "style": "IPY_MODEL_09a643a957b9412684c0ba6a15d68ffc",
            "value": " 663/663 [00:00&lt;00:00, 34.4kB/s]"
          }
        },
        "4947e7b9c75645958f0c584e9bceedb2": {
          "model_module": "@jupyter-widgets/base",
          "model_name": "LayoutModel",
          "model_module_version": "1.2.0",
          "state": {
            "_model_module": "@jupyter-widgets/base",
            "_model_module_version": "1.2.0",
            "_model_name": "LayoutModel",
            "_view_count": null,
            "_view_module": "@jupyter-widgets/base",
            "_view_module_version": "1.2.0",
            "_view_name": "LayoutView",
            "align_content": null,
            "align_items": null,
            "align_self": null,
            "border": null,
            "bottom": null,
            "display": null,
            "flex": null,
            "flex_flow": null,
            "grid_area": null,
            "grid_auto_columns": null,
            "grid_auto_flow": null,
            "grid_auto_rows": null,
            "grid_column": null,
            "grid_gap": null,
            "grid_row": null,
            "grid_template_areas": null,
            "grid_template_columns": null,
            "grid_template_rows": null,
            "height": null,
            "justify_content": null,
            "justify_items": null,
            "left": null,
            "margin": null,
            "max_height": null,
            "max_width": null,
            "min_height": null,
            "min_width": null,
            "object_fit": null,
            "object_position": null,
            "order": null,
            "overflow": null,
            "overflow_x": null,
            "overflow_y": null,
            "padding": null,
            "right": null,
            "top": null,
            "visibility": null,
            "width": null
          }
        },
        "9e8ce887f5754403b77babf094027f0a": {
          "model_module": "@jupyter-widgets/base",
          "model_name": "LayoutModel",
          "model_module_version": "1.2.0",
          "state": {
            "_model_module": "@jupyter-widgets/base",
            "_model_module_version": "1.2.0",
            "_model_name": "LayoutModel",
            "_view_count": null,
            "_view_module": "@jupyter-widgets/base",
            "_view_module_version": "1.2.0",
            "_view_name": "LayoutView",
            "align_content": null,
            "align_items": null,
            "align_self": null,
            "border": null,
            "bottom": null,
            "display": null,
            "flex": null,
            "flex_flow": null,
            "grid_area": null,
            "grid_auto_columns": null,
            "grid_auto_flow": null,
            "grid_auto_rows": null,
            "grid_column": null,
            "grid_gap": null,
            "grid_row": null,
            "grid_template_areas": null,
            "grid_template_columns": null,
            "grid_template_rows": null,
            "height": null,
            "justify_content": null,
            "justify_items": null,
            "left": null,
            "margin": null,
            "max_height": null,
            "max_width": null,
            "min_height": null,
            "min_width": null,
            "object_fit": null,
            "object_position": null,
            "order": null,
            "overflow": null,
            "overflow_x": null,
            "overflow_y": null,
            "padding": null,
            "right": null,
            "top": null,
            "visibility": null,
            "width": null
          }
        },
        "f5d563063dbb4ee1b1f7bdea5b55f0e0": {
          "model_module": "@jupyter-widgets/controls",
          "model_name": "DescriptionStyleModel",
          "model_module_version": "1.5.0",
          "state": {
            "_model_module": "@jupyter-widgets/controls",
            "_model_module_version": "1.5.0",
            "_model_name": "DescriptionStyleModel",
            "_view_count": null,
            "_view_module": "@jupyter-widgets/base",
            "_view_module_version": "1.2.0",
            "_view_name": "StyleView",
            "description_width": ""
          }
        },
        "28524c4cb5d64284bdbcbeec6ba8f693": {
          "model_module": "@jupyter-widgets/base",
          "model_name": "LayoutModel",
          "model_module_version": "1.2.0",
          "state": {
            "_model_module": "@jupyter-widgets/base",
            "_model_module_version": "1.2.0",
            "_model_name": "LayoutModel",
            "_view_count": null,
            "_view_module": "@jupyter-widgets/base",
            "_view_module_version": "1.2.0",
            "_view_name": "LayoutView",
            "align_content": null,
            "align_items": null,
            "align_self": null,
            "border": null,
            "bottom": null,
            "display": null,
            "flex": null,
            "flex_flow": null,
            "grid_area": null,
            "grid_auto_columns": null,
            "grid_auto_flow": null,
            "grid_auto_rows": null,
            "grid_column": null,
            "grid_gap": null,
            "grid_row": null,
            "grid_template_areas": null,
            "grid_template_columns": null,
            "grid_template_rows": null,
            "height": null,
            "justify_content": null,
            "justify_items": null,
            "left": null,
            "margin": null,
            "max_height": null,
            "max_width": null,
            "min_height": null,
            "min_width": null,
            "object_fit": null,
            "object_position": null,
            "order": null,
            "overflow": null,
            "overflow_x": null,
            "overflow_y": null,
            "padding": null,
            "right": null,
            "top": null,
            "visibility": null,
            "width": null
          }
        },
        "7213b520c187450daee32edb1cba6477": {
          "model_module": "@jupyter-widgets/controls",
          "model_name": "ProgressStyleModel",
          "model_module_version": "1.5.0",
          "state": {
            "_model_module": "@jupyter-widgets/controls",
            "_model_module_version": "1.5.0",
            "_model_name": "ProgressStyleModel",
            "_view_count": null,
            "_view_module": "@jupyter-widgets/base",
            "_view_module_version": "1.2.0",
            "_view_name": "StyleView",
            "bar_color": null,
            "description_width": ""
          }
        },
        "f0d3148d87be42ee9454fbe4d986eca4": {
          "model_module": "@jupyter-widgets/base",
          "model_name": "LayoutModel",
          "model_module_version": "1.2.0",
          "state": {
            "_model_module": "@jupyter-widgets/base",
            "_model_module_version": "1.2.0",
            "_model_name": "LayoutModel",
            "_view_count": null,
            "_view_module": "@jupyter-widgets/base",
            "_view_module_version": "1.2.0",
            "_view_name": "LayoutView",
            "align_content": null,
            "align_items": null,
            "align_self": null,
            "border": null,
            "bottom": null,
            "display": null,
            "flex": null,
            "flex_flow": null,
            "grid_area": null,
            "grid_auto_columns": null,
            "grid_auto_flow": null,
            "grid_auto_rows": null,
            "grid_column": null,
            "grid_gap": null,
            "grid_row": null,
            "grid_template_areas": null,
            "grid_template_columns": null,
            "grid_template_rows": null,
            "height": null,
            "justify_content": null,
            "justify_items": null,
            "left": null,
            "margin": null,
            "max_height": null,
            "max_width": null,
            "min_height": null,
            "min_width": null,
            "object_fit": null,
            "object_position": null,
            "order": null,
            "overflow": null,
            "overflow_x": null,
            "overflow_y": null,
            "padding": null,
            "right": null,
            "top": null,
            "visibility": null,
            "width": null
          }
        },
        "09a643a957b9412684c0ba6a15d68ffc": {
          "model_module": "@jupyter-widgets/controls",
          "model_name": "DescriptionStyleModel",
          "model_module_version": "1.5.0",
          "state": {
            "_model_module": "@jupyter-widgets/controls",
            "_model_module_version": "1.5.0",
            "_model_name": "DescriptionStyleModel",
            "_view_count": null,
            "_view_module": "@jupyter-widgets/base",
            "_view_module_version": "1.2.0",
            "_view_name": "StyleView",
            "description_width": ""
          }
        },
        "5765223e899d44c6885580c790194c12": {
          "model_module": "@jupyter-widgets/controls",
          "model_name": "HBoxModel",
          "model_module_version": "1.5.0",
          "state": {
            "_dom_classes": [],
            "_model_module": "@jupyter-widgets/controls",
            "_model_module_version": "1.5.0",
            "_model_name": "HBoxModel",
            "_view_count": null,
            "_view_module": "@jupyter-widgets/controls",
            "_view_module_version": "1.5.0",
            "_view_name": "HBoxView",
            "box_style": "",
            "children": [
              "IPY_MODEL_17f77953e1f94990950b5dd4e57fafe5",
              "IPY_MODEL_42365716a24d4ac2ad649547ccffed7b",
              "IPY_MODEL_4469b929372642eba54320aa6dc93630"
            ],
            "layout": "IPY_MODEL_7e4e09c7e8c746a2bd461a375d6c6b48"
          }
        },
        "17f77953e1f94990950b5dd4e57fafe5": {
          "model_module": "@jupyter-widgets/controls",
          "model_name": "HTMLModel",
          "model_module_version": "1.5.0",
          "state": {
            "_dom_classes": [],
            "_model_module": "@jupyter-widgets/controls",
            "_model_module_version": "1.5.0",
            "_model_name": "HTMLModel",
            "_view_count": null,
            "_view_module": "@jupyter-widgets/controls",
            "_view_module_version": "1.5.0",
            "_view_name": "HTMLView",
            "description": "",
            "description_tooltip": null,
            "layout": "IPY_MODEL_7f844d7ef1f946818e4fa35530e622ce",
            "placeholder": "​",
            "style": "IPY_MODEL_0f3dbb8bcf2046748901c004f244c8a8",
            "value": "model.safetensors: 100%"
          }
        },
        "42365716a24d4ac2ad649547ccffed7b": {
          "model_module": "@jupyter-widgets/controls",
          "model_name": "FloatProgressModel",
          "model_module_version": "1.5.0",
          "state": {
            "_dom_classes": [],
            "_model_module": "@jupyter-widgets/controls",
            "_model_module_version": "1.5.0",
            "_model_name": "FloatProgressModel",
            "_view_count": null,
            "_view_module": "@jupyter-widgets/controls",
            "_view_module_version": "1.5.0",
            "_view_name": "ProgressView",
            "bar_style": "success",
            "description": "",
            "description_tooltip": null,
            "layout": "IPY_MODEL_03a051be2c4e426aab29c51b3850b044",
            "max": 442638084,
            "min": 0,
            "orientation": "horizontal",
            "style": "IPY_MODEL_608a1ce388bc44eea25cd2f02a66aa09",
            "value": 442638084
          }
        },
        "4469b929372642eba54320aa6dc93630": {
          "model_module": "@jupyter-widgets/controls",
          "model_name": "HTMLModel",
          "model_module_version": "1.5.0",
          "state": {
            "_dom_classes": [],
            "_model_module": "@jupyter-widgets/controls",
            "_model_module_version": "1.5.0",
            "_model_name": "HTMLModel",
            "_view_count": null,
            "_view_module": "@jupyter-widgets/controls",
            "_view_module_version": "1.5.0",
            "_view_name": "HTMLView",
            "description": "",
            "description_tooltip": null,
            "layout": "IPY_MODEL_c58ededecb51489499ae39a46b65e2e8",
            "placeholder": "​",
            "style": "IPY_MODEL_9908d9980fc24704a98d6a523df2c31d",
            "value": " 443M/443M [00:03&lt;00:00, 139MB/s]"
          }
        },
        "7e4e09c7e8c746a2bd461a375d6c6b48": {
          "model_module": "@jupyter-widgets/base",
          "model_name": "LayoutModel",
          "model_module_version": "1.2.0",
          "state": {
            "_model_module": "@jupyter-widgets/base",
            "_model_module_version": "1.2.0",
            "_model_name": "LayoutModel",
            "_view_count": null,
            "_view_module": "@jupyter-widgets/base",
            "_view_module_version": "1.2.0",
            "_view_name": "LayoutView",
            "align_content": null,
            "align_items": null,
            "align_self": null,
            "border": null,
            "bottom": null,
            "display": null,
            "flex": null,
            "flex_flow": null,
            "grid_area": null,
            "grid_auto_columns": null,
            "grid_auto_flow": null,
            "grid_auto_rows": null,
            "grid_column": null,
            "grid_gap": null,
            "grid_row": null,
            "grid_template_areas": null,
            "grid_template_columns": null,
            "grid_template_rows": null,
            "height": null,
            "justify_content": null,
            "justify_items": null,
            "left": null,
            "margin": null,
            "max_height": null,
            "max_width": null,
            "min_height": null,
            "min_width": null,
            "object_fit": null,
            "object_position": null,
            "order": null,
            "overflow": null,
            "overflow_x": null,
            "overflow_y": null,
            "padding": null,
            "right": null,
            "top": null,
            "visibility": null,
            "width": null
          }
        },
        "7f844d7ef1f946818e4fa35530e622ce": {
          "model_module": "@jupyter-widgets/base",
          "model_name": "LayoutModel",
          "model_module_version": "1.2.0",
          "state": {
            "_model_module": "@jupyter-widgets/base",
            "_model_module_version": "1.2.0",
            "_model_name": "LayoutModel",
            "_view_count": null,
            "_view_module": "@jupyter-widgets/base",
            "_view_module_version": "1.2.0",
            "_view_name": "LayoutView",
            "align_content": null,
            "align_items": null,
            "align_self": null,
            "border": null,
            "bottom": null,
            "display": null,
            "flex": null,
            "flex_flow": null,
            "grid_area": null,
            "grid_auto_columns": null,
            "grid_auto_flow": null,
            "grid_auto_rows": null,
            "grid_column": null,
            "grid_gap": null,
            "grid_row": null,
            "grid_template_areas": null,
            "grid_template_columns": null,
            "grid_template_rows": null,
            "height": null,
            "justify_content": null,
            "justify_items": null,
            "left": null,
            "margin": null,
            "max_height": null,
            "max_width": null,
            "min_height": null,
            "min_width": null,
            "object_fit": null,
            "object_position": null,
            "order": null,
            "overflow": null,
            "overflow_x": null,
            "overflow_y": null,
            "padding": null,
            "right": null,
            "top": null,
            "visibility": null,
            "width": null
          }
        },
        "0f3dbb8bcf2046748901c004f244c8a8": {
          "model_module": "@jupyter-widgets/controls",
          "model_name": "DescriptionStyleModel",
          "model_module_version": "1.5.0",
          "state": {
            "_model_module": "@jupyter-widgets/controls",
            "_model_module_version": "1.5.0",
            "_model_name": "DescriptionStyleModel",
            "_view_count": null,
            "_view_module": "@jupyter-widgets/base",
            "_view_module_version": "1.2.0",
            "_view_name": "StyleView",
            "description_width": ""
          }
        },
        "03a051be2c4e426aab29c51b3850b044": {
          "model_module": "@jupyter-widgets/base",
          "model_name": "LayoutModel",
          "model_module_version": "1.2.0",
          "state": {
            "_model_module": "@jupyter-widgets/base",
            "_model_module_version": "1.2.0",
            "_model_name": "LayoutModel",
            "_view_count": null,
            "_view_module": "@jupyter-widgets/base",
            "_view_module_version": "1.2.0",
            "_view_name": "LayoutView",
            "align_content": null,
            "align_items": null,
            "align_self": null,
            "border": null,
            "bottom": null,
            "display": null,
            "flex": null,
            "flex_flow": null,
            "grid_area": null,
            "grid_auto_columns": null,
            "grid_auto_flow": null,
            "grid_auto_rows": null,
            "grid_column": null,
            "grid_gap": null,
            "grid_row": null,
            "grid_template_areas": null,
            "grid_template_columns": null,
            "grid_template_rows": null,
            "height": null,
            "justify_content": null,
            "justify_items": null,
            "left": null,
            "margin": null,
            "max_height": null,
            "max_width": null,
            "min_height": null,
            "min_width": null,
            "object_fit": null,
            "object_position": null,
            "order": null,
            "overflow": null,
            "overflow_x": null,
            "overflow_y": null,
            "padding": null,
            "right": null,
            "top": null,
            "visibility": null,
            "width": null
          }
        },
        "608a1ce388bc44eea25cd2f02a66aa09": {
          "model_module": "@jupyter-widgets/controls",
          "model_name": "ProgressStyleModel",
          "model_module_version": "1.5.0",
          "state": {
            "_model_module": "@jupyter-widgets/controls",
            "_model_module_version": "1.5.0",
            "_model_name": "ProgressStyleModel",
            "_view_count": null,
            "_view_module": "@jupyter-widgets/base",
            "_view_module_version": "1.2.0",
            "_view_name": "StyleView",
            "bar_color": null,
            "description_width": ""
          }
        },
        "c58ededecb51489499ae39a46b65e2e8": {
          "model_module": "@jupyter-widgets/base",
          "model_name": "LayoutModel",
          "model_module_version": "1.2.0",
          "state": {
            "_model_module": "@jupyter-widgets/base",
            "_model_module_version": "1.2.0",
            "_model_name": "LayoutModel",
            "_view_count": null,
            "_view_module": "@jupyter-widgets/base",
            "_view_module_version": "1.2.0",
            "_view_name": "LayoutView",
            "align_content": null,
            "align_items": null,
            "align_self": null,
            "border": null,
            "bottom": null,
            "display": null,
            "flex": null,
            "flex_flow": null,
            "grid_area": null,
            "grid_auto_columns": null,
            "grid_auto_flow": null,
            "grid_auto_rows": null,
            "grid_column": null,
            "grid_gap": null,
            "grid_row": null,
            "grid_template_areas": null,
            "grid_template_columns": null,
            "grid_template_rows": null,
            "height": null,
            "justify_content": null,
            "justify_items": null,
            "left": null,
            "margin": null,
            "max_height": null,
            "max_width": null,
            "min_height": null,
            "min_width": null,
            "object_fit": null,
            "object_position": null,
            "order": null,
            "overflow": null,
            "overflow_x": null,
            "overflow_y": null,
            "padding": null,
            "right": null,
            "top": null,
            "visibility": null,
            "width": null
          }
        },
        "9908d9980fc24704a98d6a523df2c31d": {
          "model_module": "@jupyter-widgets/controls",
          "model_name": "DescriptionStyleModel",
          "model_module_version": "1.5.0",
          "state": {
            "_model_module": "@jupyter-widgets/controls",
            "_model_module_version": "1.5.0",
            "_model_name": "DescriptionStyleModel",
            "_view_count": null,
            "_view_module": "@jupyter-widgets/base",
            "_view_module_version": "1.2.0",
            "_view_name": "StyleView",
            "description_width": ""
          }
        }
      }
    },
    "accelerator": "GPU"
  },
  "cells": [
    {
      "cell_type": "markdown",
      "metadata": {
        "id": "view-in-github",
        "colab_type": "text"
      },
      "source": [
        "<a href=\"https://colab.research.google.com/github/yukismd/DL_for_ImageData_and_Finetuning/blob/main/text_classification_hatespeech/PT/japanese-roberta-base.ipynb\" target=\"_parent\"><img src=\"https://colab.research.google.com/assets/colab-badge.svg\" alt=\"Open In Colab\"/></a>"
      ]
    },
    {
      "cell_type": "code",
      "execution_count": null,
      "metadata": {
        "id": "h92x1-NiAJFP"
      },
      "outputs": [],
      "source": []
    },
    {
      "cell_type": "code",
      "source": [
        "MODEL = 'rinna/japanese-roberta-base'"
      ],
      "metadata": {
        "id": "0D-AAE5oeKTX"
      },
      "execution_count": 1,
      "outputs": []
    },
    {
      "cell_type": "code",
      "source": [
        "!pwd"
      ],
      "metadata": {
        "id": "Qpdjt0apNiFE",
        "outputId": "972cb7fb-c524-4bcc-b6bf-8a5da7d46014",
        "colab": {
          "base_uri": "https://localhost:8080/"
        }
      },
      "execution_count": 2,
      "outputs": [
        {
          "output_type": "stream",
          "name": "stdout",
          "text": [
            "/content\n"
          ]
        }
      ]
    },
    {
      "cell_type": "code",
      "source": [
        "from google.colab import drive\n",
        "drive.mount('/content/drive')"
      ],
      "metadata": {
        "id": "QGA9V0g2NXQ_",
        "outputId": "e9a3cd19-6b63-4d05-bf8a-bce5d00a434d",
        "colab": {
          "base_uri": "https://localhost:8080/"
        }
      },
      "execution_count": 3,
      "outputs": [
        {
          "output_type": "stream",
          "name": "stdout",
          "text": [
            "Mounted at /content/drive\n"
          ]
        }
      ]
    },
    {
      "cell_type": "code",
      "source": [
        "!ls"
      ],
      "metadata": {
        "colab": {
          "base_uri": "https://localhost:8080/"
        },
        "id": "_XTHIRVaALQZ",
        "outputId": "3141755e-d6fc-4fc3-ce67-cd057630f628"
      },
      "execution_count": 4,
      "outputs": [
        {
          "output_type": "stream",
          "name": "stdout",
          "text": [
            "drive  sample_data\n"
          ]
        }
      ]
    },
    {
      "cell_type": "code",
      "source": [
        "!ls drive/MyDrive/experiment_results"
      ],
      "metadata": {
        "id": "NlwANH7iMcvM",
        "outputId": "605464f9-01b1-400e-f0f3-1d31f748d851",
        "colab": {
          "base_uri": "https://localhost:8080/"
        }
      },
      "execution_count": 5,
      "outputs": [
        {
          "output_type": "stream",
          "name": "stdout",
          "text": [
            "hs_txt_classification\n"
          ]
        }
      ]
    },
    {
      "cell_type": "code",
      "source": [
        "SAVE_DIR = 'drive/MyDrive/experiment_results/hs_txt_classification'"
      ],
      "metadata": {
        "id": "NELuL4I3Tsxc"
      },
      "execution_count": 6,
      "outputs": []
    },
    {
      "cell_type": "code",
      "source": [
        "!pip install datasets evaluate"
      ],
      "metadata": {
        "colab": {
          "base_uri": "https://localhost:8080/"
        },
        "id": "SDx9fZrpANwO",
        "outputId": "3fa41e09-d760-4a7e-cd48-73a96e82f426"
      },
      "execution_count": 7,
      "outputs": [
        {
          "output_type": "stream",
          "name": "stdout",
          "text": [
            "Collecting datasets\n",
            "  Downloading datasets-2.19.1-py3-none-any.whl (542 kB)\n",
            "\u001b[2K     \u001b[90m━━━━━━━━━━━━━━━━━━━━━━━━━━━━━━━━━━━━━━━━\u001b[0m \u001b[32m542.0/542.0 kB\u001b[0m \u001b[31m7.9 MB/s\u001b[0m eta \u001b[36m0:00:00\u001b[0m\n",
            "\u001b[?25hCollecting evaluate\n",
            "  Downloading evaluate-0.4.2-py3-none-any.whl (84 kB)\n",
            "\u001b[2K     \u001b[90m━━━━━━━━━━━━━━━━━━━━━━━━━━━━━━━━━━━━━━━━\u001b[0m \u001b[32m84.1/84.1 kB\u001b[0m \u001b[31m6.9 MB/s\u001b[0m eta \u001b[36m0:00:00\u001b[0m\n",
            "\u001b[?25hRequirement already satisfied: filelock in /usr/local/lib/python3.10/dist-packages (from datasets) (3.14.0)\n",
            "Requirement already satisfied: numpy>=1.17 in /usr/local/lib/python3.10/dist-packages (from datasets) (1.25.2)\n",
            "Requirement already satisfied: pyarrow>=12.0.0 in /usr/local/lib/python3.10/dist-packages (from datasets) (14.0.2)\n",
            "Requirement already satisfied: pyarrow-hotfix in /usr/local/lib/python3.10/dist-packages (from datasets) (0.6)\n",
            "Collecting dill<0.3.9,>=0.3.0 (from datasets)\n",
            "  Downloading dill-0.3.8-py3-none-any.whl (116 kB)\n",
            "\u001b[2K     \u001b[90m━━━━━━━━━━━━━━━━━━━━━━━━━━━━━━━━━━━━━━━━\u001b[0m \u001b[32m116.3/116.3 kB\u001b[0m \u001b[31m9.2 MB/s\u001b[0m eta \u001b[36m0:00:00\u001b[0m\n",
            "\u001b[?25hRequirement already satisfied: pandas in /usr/local/lib/python3.10/dist-packages (from datasets) (2.0.3)\n",
            "Requirement already satisfied: requests>=2.19.0 in /usr/local/lib/python3.10/dist-packages (from datasets) (2.31.0)\n",
            "Requirement already satisfied: tqdm>=4.62.1 in /usr/local/lib/python3.10/dist-packages (from datasets) (4.66.4)\n",
            "Collecting xxhash (from datasets)\n",
            "  Downloading xxhash-3.4.1-cp310-cp310-manylinux_2_17_x86_64.manylinux2014_x86_64.whl (194 kB)\n",
            "\u001b[2K     \u001b[90m━━━━━━━━━━━━━━━━━━━━━━━━━━━━━━━━━━━━━━━━\u001b[0m \u001b[32m194.1/194.1 kB\u001b[0m \u001b[31m10.5 MB/s\u001b[0m eta \u001b[36m0:00:00\u001b[0m\n",
            "\u001b[?25hCollecting multiprocess (from datasets)\n",
            "  Downloading multiprocess-0.70.16-py310-none-any.whl (134 kB)\n",
            "\u001b[2K     \u001b[90m━━━━━━━━━━━━━━━━━━━━━━━━━━━━━━━━━━━━━━━━\u001b[0m \u001b[32m134.8/134.8 kB\u001b[0m \u001b[31m19.9 MB/s\u001b[0m eta \u001b[36m0:00:00\u001b[0m\n",
            "\u001b[?25hRequirement already satisfied: fsspec[http]<=2024.3.1,>=2023.1.0 in /usr/local/lib/python3.10/dist-packages (from datasets) (2023.6.0)\n",
            "Requirement already satisfied: aiohttp in /usr/local/lib/python3.10/dist-packages (from datasets) (3.9.5)\n",
            "Requirement already satisfied: huggingface-hub>=0.21.2 in /usr/local/lib/python3.10/dist-packages (from datasets) (0.23.1)\n",
            "Requirement already satisfied: packaging in /usr/local/lib/python3.10/dist-packages (from datasets) (24.0)\n",
            "Requirement already satisfied: pyyaml>=5.1 in /usr/local/lib/python3.10/dist-packages (from datasets) (6.0.1)\n",
            "Requirement already satisfied: aiosignal>=1.1.2 in /usr/local/lib/python3.10/dist-packages (from aiohttp->datasets) (1.3.1)\n",
            "Requirement already satisfied: attrs>=17.3.0 in /usr/local/lib/python3.10/dist-packages (from aiohttp->datasets) (23.2.0)\n",
            "Requirement already satisfied: frozenlist>=1.1.1 in /usr/local/lib/python3.10/dist-packages (from aiohttp->datasets) (1.4.1)\n",
            "Requirement already satisfied: multidict<7.0,>=4.5 in /usr/local/lib/python3.10/dist-packages (from aiohttp->datasets) (6.0.5)\n",
            "Requirement already satisfied: yarl<2.0,>=1.0 in /usr/local/lib/python3.10/dist-packages (from aiohttp->datasets) (1.9.4)\n",
            "Requirement already satisfied: async-timeout<5.0,>=4.0 in /usr/local/lib/python3.10/dist-packages (from aiohttp->datasets) (4.0.3)\n",
            "Requirement already satisfied: typing-extensions>=3.7.4.3 in /usr/local/lib/python3.10/dist-packages (from huggingface-hub>=0.21.2->datasets) (4.11.0)\n",
            "Requirement already satisfied: charset-normalizer<4,>=2 in /usr/local/lib/python3.10/dist-packages (from requests>=2.19.0->datasets) (3.3.2)\n",
            "Requirement already satisfied: idna<4,>=2.5 in /usr/local/lib/python3.10/dist-packages (from requests>=2.19.0->datasets) (3.7)\n",
            "Requirement already satisfied: urllib3<3,>=1.21.1 in /usr/local/lib/python3.10/dist-packages (from requests>=2.19.0->datasets) (2.0.7)\n",
            "Requirement already satisfied: certifi>=2017.4.17 in /usr/local/lib/python3.10/dist-packages (from requests>=2.19.0->datasets) (2024.2.2)\n",
            "Requirement already satisfied: python-dateutil>=2.8.2 in /usr/local/lib/python3.10/dist-packages (from pandas->datasets) (2.8.2)\n",
            "Requirement already satisfied: pytz>=2020.1 in /usr/local/lib/python3.10/dist-packages (from pandas->datasets) (2023.4)\n",
            "Requirement already satisfied: tzdata>=2022.1 in /usr/local/lib/python3.10/dist-packages (from pandas->datasets) (2024.1)\n",
            "Requirement already satisfied: six>=1.5 in /usr/local/lib/python3.10/dist-packages (from python-dateutil>=2.8.2->pandas->datasets) (1.16.0)\n",
            "Installing collected packages: xxhash, dill, multiprocess, datasets, evaluate\n",
            "Successfully installed datasets-2.19.1 dill-0.3.8 evaluate-0.4.2 multiprocess-0.70.16 xxhash-3.4.1\n"
          ]
        }
      ]
    },
    {
      "cell_type": "code",
      "source": [
        "!pip install accelerate -U"
      ],
      "metadata": {
        "colab": {
          "base_uri": "https://localhost:8080/"
        },
        "id": "Cn9rn3b1E7c3",
        "outputId": "16622135-5791-4156-f58f-732be275269b"
      },
      "execution_count": 8,
      "outputs": [
        {
          "output_type": "stream",
          "name": "stdout",
          "text": [
            "Collecting accelerate\n",
            "  Downloading accelerate-0.30.1-py3-none-any.whl (302 kB)\n",
            "\u001b[2K     \u001b[90m━━━━━━━━━━━━━━━━━━━━━━━━━━━━━━━━━━━━━━━━\u001b[0m \u001b[32m302.6/302.6 kB\u001b[0m \u001b[31m4.4 MB/s\u001b[0m eta \u001b[36m0:00:00\u001b[0m\n",
            "\u001b[?25hRequirement already satisfied: numpy>=1.17 in /usr/local/lib/python3.10/dist-packages (from accelerate) (1.25.2)\n",
            "Requirement already satisfied: packaging>=20.0 in /usr/local/lib/python3.10/dist-packages (from accelerate) (24.0)\n",
            "Requirement already satisfied: psutil in /usr/local/lib/python3.10/dist-packages (from accelerate) (5.9.5)\n",
            "Requirement already satisfied: pyyaml in /usr/local/lib/python3.10/dist-packages (from accelerate) (6.0.1)\n",
            "Requirement already satisfied: torch>=1.10.0 in /usr/local/lib/python3.10/dist-packages (from accelerate) (2.3.0+cu121)\n",
            "Requirement already satisfied: huggingface-hub in /usr/local/lib/python3.10/dist-packages (from accelerate) (0.23.1)\n",
            "Requirement already satisfied: safetensors>=0.3.1 in /usr/local/lib/python3.10/dist-packages (from accelerate) (0.4.3)\n",
            "Requirement already satisfied: filelock in /usr/local/lib/python3.10/dist-packages (from torch>=1.10.0->accelerate) (3.14.0)\n",
            "Requirement already satisfied: typing-extensions>=4.8.0 in /usr/local/lib/python3.10/dist-packages (from torch>=1.10.0->accelerate) (4.11.0)\n",
            "Requirement already satisfied: sympy in /usr/local/lib/python3.10/dist-packages (from torch>=1.10.0->accelerate) (1.12)\n",
            "Requirement already satisfied: networkx in /usr/local/lib/python3.10/dist-packages (from torch>=1.10.0->accelerate) (3.3)\n",
            "Requirement already satisfied: jinja2 in /usr/local/lib/python3.10/dist-packages (from torch>=1.10.0->accelerate) (3.1.4)\n",
            "Requirement already satisfied: fsspec in /usr/local/lib/python3.10/dist-packages (from torch>=1.10.0->accelerate) (2023.6.0)\n",
            "Collecting nvidia-cuda-nvrtc-cu12==12.1.105 (from torch>=1.10.0->accelerate)\n",
            "  Using cached nvidia_cuda_nvrtc_cu12-12.1.105-py3-none-manylinux1_x86_64.whl (23.7 MB)\n",
            "Collecting nvidia-cuda-runtime-cu12==12.1.105 (from torch>=1.10.0->accelerate)\n",
            "  Using cached nvidia_cuda_runtime_cu12-12.1.105-py3-none-manylinux1_x86_64.whl (823 kB)\n",
            "Collecting nvidia-cuda-cupti-cu12==12.1.105 (from torch>=1.10.0->accelerate)\n",
            "  Using cached nvidia_cuda_cupti_cu12-12.1.105-py3-none-manylinux1_x86_64.whl (14.1 MB)\n",
            "Collecting nvidia-cudnn-cu12==8.9.2.26 (from torch>=1.10.0->accelerate)\n",
            "  Using cached nvidia_cudnn_cu12-8.9.2.26-py3-none-manylinux1_x86_64.whl (731.7 MB)\n",
            "Collecting nvidia-cublas-cu12==12.1.3.1 (from torch>=1.10.0->accelerate)\n",
            "  Using cached nvidia_cublas_cu12-12.1.3.1-py3-none-manylinux1_x86_64.whl (410.6 MB)\n",
            "Collecting nvidia-cufft-cu12==11.0.2.54 (from torch>=1.10.0->accelerate)\n",
            "  Using cached nvidia_cufft_cu12-11.0.2.54-py3-none-manylinux1_x86_64.whl (121.6 MB)\n",
            "Collecting nvidia-curand-cu12==10.3.2.106 (from torch>=1.10.0->accelerate)\n",
            "  Using cached nvidia_curand_cu12-10.3.2.106-py3-none-manylinux1_x86_64.whl (56.5 MB)\n",
            "Collecting nvidia-cusolver-cu12==11.4.5.107 (from torch>=1.10.0->accelerate)\n",
            "  Using cached nvidia_cusolver_cu12-11.4.5.107-py3-none-manylinux1_x86_64.whl (124.2 MB)\n",
            "Collecting nvidia-cusparse-cu12==12.1.0.106 (from torch>=1.10.0->accelerate)\n",
            "  Using cached nvidia_cusparse_cu12-12.1.0.106-py3-none-manylinux1_x86_64.whl (196.0 MB)\n",
            "Collecting nvidia-nccl-cu12==2.20.5 (from torch>=1.10.0->accelerate)\n",
            "  Using cached nvidia_nccl_cu12-2.20.5-py3-none-manylinux2014_x86_64.whl (176.2 MB)\n",
            "Collecting nvidia-nvtx-cu12==12.1.105 (from torch>=1.10.0->accelerate)\n",
            "  Using cached nvidia_nvtx_cu12-12.1.105-py3-none-manylinux1_x86_64.whl (99 kB)\n",
            "Requirement already satisfied: triton==2.3.0 in /usr/local/lib/python3.10/dist-packages (from torch>=1.10.0->accelerate) (2.3.0)\n",
            "Collecting nvidia-nvjitlink-cu12 (from nvidia-cusolver-cu12==11.4.5.107->torch>=1.10.0->accelerate)\n",
            "  Downloading nvidia_nvjitlink_cu12-12.5.40-py3-none-manylinux2014_x86_64.whl (21.3 MB)\n",
            "\u001b[2K     \u001b[90m━━━━━━━━━━━━━━━━━━━━━━━━━━━━━━━━━━━━━━━━\u001b[0m \u001b[32m21.3/21.3 MB\u001b[0m \u001b[31m42.3 MB/s\u001b[0m eta \u001b[36m0:00:00\u001b[0m\n",
            "\u001b[?25hRequirement already satisfied: requests in /usr/local/lib/python3.10/dist-packages (from huggingface-hub->accelerate) (2.31.0)\n",
            "Requirement already satisfied: tqdm>=4.42.1 in /usr/local/lib/python3.10/dist-packages (from huggingface-hub->accelerate) (4.66.4)\n",
            "Requirement already satisfied: MarkupSafe>=2.0 in /usr/local/lib/python3.10/dist-packages (from jinja2->torch>=1.10.0->accelerate) (2.1.5)\n",
            "Requirement already satisfied: charset-normalizer<4,>=2 in /usr/local/lib/python3.10/dist-packages (from requests->huggingface-hub->accelerate) (3.3.2)\n",
            "Requirement already satisfied: idna<4,>=2.5 in /usr/local/lib/python3.10/dist-packages (from requests->huggingface-hub->accelerate) (3.7)\n",
            "Requirement already satisfied: urllib3<3,>=1.21.1 in /usr/local/lib/python3.10/dist-packages (from requests->huggingface-hub->accelerate) (2.0.7)\n",
            "Requirement already satisfied: certifi>=2017.4.17 in /usr/local/lib/python3.10/dist-packages (from requests->huggingface-hub->accelerate) (2024.2.2)\n",
            "Requirement already satisfied: mpmath>=0.19 in /usr/local/lib/python3.10/dist-packages (from sympy->torch>=1.10.0->accelerate) (1.3.0)\n",
            "Installing collected packages: nvidia-nvtx-cu12, nvidia-nvjitlink-cu12, nvidia-nccl-cu12, nvidia-curand-cu12, nvidia-cufft-cu12, nvidia-cuda-runtime-cu12, nvidia-cuda-nvrtc-cu12, nvidia-cuda-cupti-cu12, nvidia-cublas-cu12, nvidia-cusparse-cu12, nvidia-cudnn-cu12, nvidia-cusolver-cu12, accelerate\n",
            "Successfully installed accelerate-0.30.1 nvidia-cublas-cu12-12.1.3.1 nvidia-cuda-cupti-cu12-12.1.105 nvidia-cuda-nvrtc-cu12-12.1.105 nvidia-cuda-runtime-cu12-12.1.105 nvidia-cudnn-cu12-8.9.2.26 nvidia-cufft-cu12-11.0.2.54 nvidia-curand-cu12-10.3.2.106 nvidia-cusolver-cu12-11.4.5.107 nvidia-cusparse-cu12-12.1.0.106 nvidia-nccl-cu12-2.20.5 nvidia-nvjitlink-cu12-12.5.40 nvidia-nvtx-cu12-12.1.105\n"
          ]
        }
      ]
    },
    {
      "cell_type": "code",
      "source": [
        "#!pip install fugashi unidic_lite"
      ],
      "metadata": {
        "id": "6YQ5qRYSQJ0Z"
      },
      "execution_count": 9,
      "outputs": []
    },
    {
      "cell_type": "code",
      "source": [
        "import datasets\n",
        "print(datasets.__version__)\n",
        "import transformers\n",
        "print(transformers.__version__)\n",
        "from transformers import AutoTokenizer\n",
        "import evaluate\n",
        "print(evaluate.__version__)\n",
        "\n",
        "import torch\n",
        "from transformers import AutoModelForSequenceClassification, TrainingArguments, Trainer\n",
        "\n",
        "import numpy as np\n",
        "import pandas as pd\n",
        "\n",
        "import matplotlib.pyplot as plt\n",
        "\n",
        "import os\n",
        "import json"
      ],
      "metadata": {
        "id": "qXYbxMWsAPbp",
        "outputId": "51821bf8-19ca-47c2-b355-bc3cc9a9e82f",
        "colab": {
          "base_uri": "https://localhost:8080/"
        }
      },
      "execution_count": 10,
      "outputs": [
        {
          "output_type": "stream",
          "name": "stdout",
          "text": [
            "2.19.1\n",
            "4.41.1\n",
            "0.4.2\n"
          ]
        }
      ]
    },
    {
      "cell_type": "code",
      "source": [],
      "metadata": {
        "id": "ouSo-P7fAUuY"
      },
      "execution_count": 10,
      "outputs": []
    },
    {
      "cell_type": "markdown",
      "source": [
        "## 学習データ, テストデータ"
      ],
      "metadata": {
        "id": "q5Ywtc1HPPef"
      }
    },
    {
      "cell_type": "code",
      "source": [
        "df = pd.read_csv('https://sample-data-open.s3.ap-northeast-1.amazonaws.com/text_classification_hatespeech/hatespeech_train.csv')\n",
        "print(df.shape)"
      ],
      "metadata": {
        "id": "QYzVEAI0JPCw",
        "outputId": "9c5568e3-1715-4fb3-8863-d76371abc962",
        "colab": {
          "base_uri": "https://localhost:8080/"
        }
      },
      "execution_count": 11,
      "outputs": [
        {
          "output_type": "stream",
          "name": "stdout",
          "text": [
            "(4656, 5)\n"
          ]
        }
      ]
    },
    {
      "cell_type": "code",
      "source": [
        "df_train = df[df['hold'] != 0]    # 学習データ\n",
        "df_valid = df[df['hold'] == 0]    # 検証データ\n",
        "df_train.shape, df_valid.shape"
      ],
      "metadata": {
        "id": "7CMAZBSSJmx9",
        "outputId": "39c99cbf-890f-4845-84c0-69cee786a8e4",
        "colab": {
          "base_uri": "https://localhost:8080/"
        }
      },
      "execution_count": 12,
      "outputs": [
        {
          "output_type": "execute_result",
          "data": {
            "text/plain": [
              "((3759, 5), (897, 5))"
            ]
          },
          "metadata": {},
          "execution_count": 12
        }
      ]
    },
    {
      "cell_type": "code",
      "source": [
        "ds_train = datasets.Dataset.from_pandas(df_train[['text','label']], preserve_index=False)\n",
        "ds_valid = datasets.Dataset.from_pandas(df_valid[['text','label']], preserve_index=False)"
      ],
      "metadata": {
        "id": "wvDmcRTlJf6M"
      },
      "execution_count": 13,
      "outputs": []
    },
    {
      "cell_type": "code",
      "source": [],
      "metadata": {
        "id": "PqCWPchqcT2w"
      },
      "execution_count": 13,
      "outputs": []
    },
    {
      "cell_type": "code",
      "source": [
        "df_test = pd.read_csv('https://sample-data-open.s3.ap-northeast-1.amazonaws.com/text_classification_hatespeech/hatespeech_test.csv')\n",
        "print(df_test.shape)"
      ],
      "metadata": {
        "id": "BAcU3OmUb509",
        "outputId": "8bf4785b-f802-44e8-ab57-b23226f24219",
        "colab": {
          "base_uri": "https://localhost:8080/"
        }
      },
      "execution_count": 14,
      "outputs": [
        {
          "output_type": "stream",
          "name": "stdout",
          "text": [
            "(600, 4)\n"
          ]
        }
      ]
    },
    {
      "cell_type": "code",
      "source": [
        "ds_test = datasets.Dataset.from_pandas(df_test[['text','label']], preserve_index=False)"
      ],
      "metadata": {
        "id": "FlhyQDxcb_cD"
      },
      "execution_count": 15,
      "outputs": []
    },
    {
      "cell_type": "code",
      "source": [],
      "metadata": {
        "id": "uez-200RPrGf"
      },
      "execution_count": 15,
      "outputs": []
    },
    {
      "cell_type": "markdown",
      "source": [
        "## トークナイザー"
      ],
      "metadata": {
        "id": "0HzcvkpSPusi"
      }
    },
    {
      "cell_type": "code",
      "source": [
        "tokenizer = AutoTokenizer.from_pretrained(MODEL)\n",
        "tokenizer"
      ],
      "metadata": {
        "colab": {
          "base_uri": "https://localhost:8080/",
          "height": 445,
          "referenced_widgets": [
            "51c4b09f4cef48cdb19196ce916ec5f1",
            "ead4af2a11854c7c90e8aa4a99bc8ed7",
            "52fc152f04d449d49b839bdacf0d8950",
            "ee435c6019ea44798b67641ff6ebd0c2",
            "6eaf13ae48324b25bb8bc2960014c56d",
            "d9348cf4d4964c02a9c8ace102b781a4",
            "e19fbe753a0140c38bfdce6dd46a2eb2",
            "4a575a7063c2425f989d4c2d8fabf878",
            "741d2441a82d4db4af7cbec2e30b2f6c",
            "bd894d3259344635b1e626dcb7856af5",
            "55c36f889f0a4e69ada78fdd4240467b",
            "b306994a52e546dda3638a51ba51e043",
            "a7a4acf047484efa87b4512cdcdd5b4f",
            "d315db97b72d4f0f98a63070038206aa",
            "2489620de93a4fb48be8c6ebf5d073b1",
            "aa802631ae014784a5a6c2de5b4e649a",
            "596b3d5e271a4f158d19144258a79af6",
            "5820a6c59cae4b3c99a7047837d2dd68",
            "99e6dd0055094a58a2a3a12c2a4c4623",
            "ff78a82f58a149899efdbd1cec5f4144",
            "4531f78dcb5f40d68238f2259364accb",
            "e296a32293874876a2a24730b286c565",
            "947f5325b11148f09f085214321f0d71",
            "7408843df2be4f39b39944e1f744ba9f",
            "7f1ce09faf1446358f73ebe1711e2540",
            "c5fd31974beb4a84a149d52607350800",
            "ee994ddb6ecd48faa844bb82baacaabf",
            "855c9bcd24e0421cac28cf760066317e",
            "0ac83c173d964a66b2f08720d2384d5c",
            "fe37df5d39b34d6d9cb3c2158f8a75e0",
            "8051b6f8884b4fcdbfbb6988fb4693f0",
            "8868a66050a747fe904db1eeb50ae79f",
            "6e3cf9aac04e4f26a11fb9dbbbba892a"
          ]
        },
        "id": "64jHrk2qPrJo",
        "outputId": "f3502955-46b0-422c-e3ff-ee1767b5d2f3"
      },
      "execution_count": 16,
      "outputs": [
        {
          "output_type": "stream",
          "name": "stderr",
          "text": [
            "/usr/local/lib/python3.10/dist-packages/huggingface_hub/utils/_token.py:89: UserWarning: \n",
            "The secret `HF_TOKEN` does not exist in your Colab secrets.\n",
            "To authenticate with the Hugging Face Hub, create a token in your settings tab (https://huggingface.co/settings/tokens), set it as secret in your Google Colab and restart your session.\n",
            "You will be able to reuse this secret in all of your notebooks.\n",
            "Please note that authentication is recommended but still optional to access public models or datasets.\n",
            "  warnings.warn(\n"
          ]
        },
        {
          "output_type": "display_data",
          "data": {
            "text/plain": [
              "tokenizer_config.json:   0%|          | 0.00/259 [00:00<?, ?B/s]"
            ],
            "application/vnd.jupyter.widget-view+json": {
              "version_major": 2,
              "version_minor": 0,
              "model_id": "51c4b09f4cef48cdb19196ce916ec5f1"
            }
          },
          "metadata": {}
        },
        {
          "output_type": "display_data",
          "data": {
            "text/plain": [
              "spiece.model:   0%|          | 0.00/806k [00:00<?, ?B/s]"
            ],
            "application/vnd.jupyter.widget-view+json": {
              "version_major": 2,
              "version_minor": 0,
              "model_id": "b306994a52e546dda3638a51ba51e043"
            }
          },
          "metadata": {}
        },
        {
          "output_type": "display_data",
          "data": {
            "text/plain": [
              "special_tokens_map.json:   0%|          | 0.00/153 [00:00<?, ?B/s]"
            ],
            "application/vnd.jupyter.widget-view+json": {
              "version_major": 2,
              "version_minor": 0,
              "model_id": "947f5325b11148f09f085214321f0d71"
            }
          },
          "metadata": {}
        },
        {
          "output_type": "stream",
          "name": "stderr",
          "text": [
            "You are using the default legacy behaviour of the <class 'transformers.models.t5.tokenization_t5.T5Tokenizer'>. This is expected, and simply means that the `legacy` (previous) behavior will be used so nothing changes for you. If you want to use the new behaviour, set `legacy=False`. This should only be set if you understand what it means, and thoroughly read the reason why this was added as explained in https://github.com/huggingface/transformers/pull/24565\n"
          ]
        },
        {
          "output_type": "execute_result",
          "data": {
            "text/plain": [
              "T5TokenizerFast(name_or_path='rinna/japanese-roberta-base', vocab_size=32000, model_max_length=1000000000000000019884624838656, is_fast=True, padding_side='right', truncation_side='right', special_tokens={'bos_token': '<s>', 'eos_token': '</s>', 'unk_token': '<unk>', 'sep_token': '[SEP]', 'pad_token': '[PAD]', 'cls_token': '[CLS]', 'mask_token': '[MASK]'}, clean_up_tokenization_spaces=True),  added_tokens_decoder={\n",
              "\t0: AddedToken(\"<unk>\", rstrip=False, lstrip=False, single_word=False, normalized=False, special=True),\n",
              "\t1: AddedToken(\"<s>\", rstrip=False, lstrip=False, single_word=False, normalized=False, special=True),\n",
              "\t2: AddedToken(\"</s>\", rstrip=False, lstrip=False, single_word=False, normalized=False, special=True),\n",
              "\t3: AddedToken(\"[PAD]\", rstrip=False, lstrip=False, single_word=False, normalized=False, special=True),\n",
              "\t4: AddedToken(\"[CLS]\", rstrip=False, lstrip=False, single_word=False, normalized=False, special=True),\n",
              "\t5: AddedToken(\"[SEP]\", rstrip=False, lstrip=False, single_word=False, normalized=False, special=True),\n",
              "\t6: AddedToken(\"[MASK]\", rstrip=False, lstrip=False, single_word=False, normalized=False, special=True),\n",
              "}"
            ]
          },
          "metadata": {},
          "execution_count": 16
        }
      ]
    },
    {
      "cell_type": "code",
      "source": [
        "def tokenize_function(examples):\n",
        "    return tokenizer(examples[\"text\"],\n",
        "                     truncation=True,\n",
        "                     max_length=128)    # 学習データの文長が短いので128に設定"
      ],
      "metadata": {
        "id": "wfIC7GdVGqhT"
      },
      "execution_count": 17,
      "outputs": []
    },
    {
      "cell_type": "code",
      "source": [
        "ds_tkn_train = ds_train.map(tokenize_function, batched=True)\n",
        "ds_tkn_valid = ds_valid.map(tokenize_function, batched=True)\n",
        "ds_tkn_train, ds_tkn_valid"
      ],
      "metadata": {
        "colab": {
          "base_uri": "https://localhost:8080/",
          "height": 220,
          "referenced_widgets": [
            "45644bd5d7ca42b2a1264b49e93bf5f1",
            "5f00646008f34504965e7a49b05a5aca",
            "c9fd30529a594a55a3dc6f26f7d04694",
            "fc7ab0495a1840b1b9601fc2efb1125d",
            "520aae2fc55240ccba86405060ab48e7",
            "b71a6ea9be5a49ea933119990e4a1f03",
            "be2bcfe70deb42258206f1ad26c375a3",
            "eabe17ec6d704a0ca5123411e1447098",
            "fdf33a750d68436e97b38e12302a7bd4",
            "bc1cbef04c7c4034842a8f2339793d65",
            "16bebc85b8174b1689ad5c194c258d82",
            "4b0f33911df1462daac7098c6abb7469",
            "048f93cf381a4c28a8426b351f933cf5",
            "f3dbbfca4a5e487d930804a00edab0af",
            "6de4d15109f94e86a36ae89cc50adfc9",
            "9dffd4f8bdff4617887c88ff4187c388",
            "39bccfe8e58744728ae3ef143919eb2e",
            "b32bbeed72fb4121abe34a225a2e2ce9",
            "d708f0aa42c6490182bf61433f137229",
            "112c5a9dcd02486f8d7d5f01bf0b2293",
            "e32aa8f772d0490c916b2e588f8a2642",
            "efb738298c8d4d8cb29beb7f90ff68a0"
          ]
        },
        "id": "PUUlHgFTQirC",
        "outputId": "9d6df644-2aea-4ef9-bb8e-0a54078a87a0"
      },
      "execution_count": 18,
      "outputs": [
        {
          "output_type": "display_data",
          "data": {
            "text/plain": [
              "Map:   0%|          | 0/3759 [00:00<?, ? examples/s]"
            ],
            "application/vnd.jupyter.widget-view+json": {
              "version_major": 2,
              "version_minor": 0,
              "model_id": "45644bd5d7ca42b2a1264b49e93bf5f1"
            }
          },
          "metadata": {}
        },
        {
          "output_type": "display_data",
          "data": {
            "text/plain": [
              "Map:   0%|          | 0/897 [00:00<?, ? examples/s]"
            ],
            "application/vnd.jupyter.widget-view+json": {
              "version_major": 2,
              "version_minor": 0,
              "model_id": "4b0f33911df1462daac7098c6abb7469"
            }
          },
          "metadata": {}
        },
        {
          "output_type": "execute_result",
          "data": {
            "text/plain": [
              "(Dataset({\n",
              "     features: ['text', 'label', 'input_ids', 'attention_mask'],\n",
              "     num_rows: 3759\n",
              " }),\n",
              " Dataset({\n",
              "     features: ['text', 'label', 'input_ids', 'attention_mask'],\n",
              "     num_rows: 897\n",
              " }))"
            ]
          },
          "metadata": {},
          "execution_count": 18
        }
      ]
    },
    {
      "cell_type": "code",
      "source": [
        "# textカラムの削除\n",
        "ds_tkn_train = ds_tkn_train.remove_columns(['text'])\n",
        "ds_tkn_valid = ds_tkn_valid.remove_columns(['text'])\n",
        "\n",
        "# labelカラムをlabelsへリネーム\n",
        "ds_tkn_train = ds_tkn_train.rename_column('label', 'labels')\n",
        "ds_tkn_valid = ds_tkn_valid.rename_column('label', 'labels')"
      ],
      "metadata": {
        "id": "PzVlG861ST18"
      },
      "execution_count": 19,
      "outputs": []
    },
    {
      "cell_type": "code",
      "source": [],
      "metadata": {
        "id": "J-WEP48FcbHV"
      },
      "execution_count": null,
      "outputs": []
    },
    {
      "cell_type": "code",
      "source": [
        "ds_tkn_test = ds_test.map(tokenize_function, batched=True)\n",
        "ds_tkn_test"
      ],
      "metadata": {
        "id": "Y5y07_xUcbKd",
        "outputId": "56b7a159-daaa-47b6-e7b9-e3265f1c2e4f",
        "colab": {
          "base_uri": "https://localhost:8080/",
          "height": 118,
          "referenced_widgets": [
            "a4647a6baaa14c0f88cb957a3953dad2",
            "5eef4bc8d2014d649da6c97141ce7d01",
            "0df28f15b0d3477789ba9a7a822e8e0f",
            "e8f2c356df564cc4b5a87d3b11462fce",
            "774eef8a197146cb9d01f334af0e4611",
            "57624efa6c524d96819ff22fedd98b3e",
            "785acab7e7e34117999cdb5a54459045",
            "3db502e55fa34471a9d6068457912daf",
            "10d690fabd794f6ab9cd5ff714b16dac",
            "f873b550ff5141f8b534e15f61deba71",
            "16d0ceb903d0479997da4737456c0857"
          ]
        }
      },
      "execution_count": 20,
      "outputs": [
        {
          "output_type": "display_data",
          "data": {
            "text/plain": [
              "Map:   0%|          | 0/600 [00:00<?, ? examples/s]"
            ],
            "application/vnd.jupyter.widget-view+json": {
              "version_major": 2,
              "version_minor": 0,
              "model_id": "a4647a6baaa14c0f88cb957a3953dad2"
            }
          },
          "metadata": {}
        },
        {
          "output_type": "execute_result",
          "data": {
            "text/plain": [
              "Dataset({\n",
              "    features: ['text', 'label', 'input_ids', 'attention_mask'],\n",
              "    num_rows: 600\n",
              "})"
            ]
          },
          "metadata": {},
          "execution_count": 20
        }
      ]
    },
    {
      "cell_type": "code",
      "source": [
        "# textカラムの削除\n",
        "ds_tkn_test = ds_tkn_test.remove_columns(['text'])\n",
        "\n",
        "# labelカラムをlabelsへリネーム\n",
        "ds_tkn_test = ds_tkn_test.rename_column('label', 'labels')"
      ],
      "metadata": {
        "id": "19BjQ0tIcbQc"
      },
      "execution_count": 21,
      "outputs": []
    },
    {
      "cell_type": "code",
      "source": [],
      "metadata": {
        "id": "3qSELoQpckuL"
      },
      "execution_count": null,
      "outputs": []
    },
    {
      "cell_type": "markdown",
      "source": [
        "## 学習"
      ],
      "metadata": {
        "id": "W2vc6pKJPgoj"
      }
    },
    {
      "cell_type": "code",
      "source": [
        "metric = evaluate.load(\"f1\")\n",
        "\n",
        "# 精度評価関数\n",
        "def compute_metrics(eval_pred):\n",
        "    logits, labels = eval_pred\n",
        "    predictions = np.argmax(logits, axis=-1)\n",
        "    return metric.compute(predictions=predictions, references=labels)"
      ],
      "metadata": {
        "id": "apH2EAYKfHiB",
        "colab": {
          "base_uri": "https://localhost:8080/",
          "height": 49,
          "referenced_widgets": [
            "472a83bf80ca4421bd40d281659df048",
            "1fdaf152ddf344d0996c2191efb7942e",
            "5f5c2cfb7af94e2aa99aa78b48bcc876",
            "3d7579953a284c278ce089a5f6ad440e",
            "f771b5daffa94533b6cd64810b7f2156",
            "1787b5023e314e8a9344153f04ba9142",
            "17d5dd0639a6443ca8868e91acbe6330",
            "9449d3562c34401c8842803d55d176ca",
            "11853a2a6a4f443da0c2dc4b0f122141",
            "22430931246c42c5878b0f62352b02f9",
            "2c5c96abdbc9469fb65bcd9abfce2478"
          ]
        },
        "outputId": "11b9a331-4325-4d1e-dcf4-14d4922e5128"
      },
      "execution_count": 22,
      "outputs": [
        {
          "output_type": "display_data",
          "data": {
            "text/plain": [
              "Downloading builder script:   0%|          | 0.00/6.77k [00:00<?, ?B/s]"
            ],
            "application/vnd.jupyter.widget-view+json": {
              "version_major": 2,
              "version_minor": 0,
              "model_id": "472a83bf80ca4421bd40d281659df048"
            }
          },
          "metadata": {}
        }
      ]
    },
    {
      "cell_type": "code",
      "source": [
        "def do_training():\n",
        "  print('N_EPOCH: ', N_EPOCH)\n",
        "  print('BATCH_SIZE: ', BATCH_SIZE)\n",
        "  print('LR', LR)\n",
        "\n",
        "  model = AutoModelForSequenceClassification.from_pretrained(MODEL,\n",
        "                                                           num_labels=2)\n",
        "\n",
        "  trainer_args = TrainingArguments(\n",
        "    seed=np.random.randint(0, 9999),\n",
        "    output_dir=SAVE_DIR,\n",
        "    overwrite_output_dir=True,\n",
        "    do_train=True,\n",
        "    do_eval=True,\n",
        "    evaluation_strategy=\"epoch\",\n",
        "    logging_strategy=\"epoch\",\n",
        "    #save_strategy=\"epoch\",\n",
        "    save_steps=1e6, # saveのステップを大きくしてここではモデルの保存を行わないようにする\n",
        "    log_level=\"critical\",\n",
        "    num_train_epochs=N_EPOCH,\n",
        "    learning_rate=LR,\n",
        "    per_device_train_batch_size=BATCH_SIZE,\n",
        "    per_device_eval_batch_size=12,\n",
        "    save_total_limit=1,\n",
        "    fp16=True,\n",
        "    remove_unused_columns=False,\n",
        "    report_to=\"none\"\n",
        "    )\n",
        "\n",
        "  trainer = Trainer(\n",
        "    model=model,\n",
        "    args=trainer_args,\n",
        "    tokenizer=tokenizer,\n",
        "    train_dataset=ds_tkn_train,\n",
        "    eval_dataset=ds_tkn_valid,\n",
        "    compute_metrics=compute_metrics,\n",
        "    )\n",
        "\n",
        "  #return trainer\n",
        "\n",
        "  print('----------  Start Training  ----------')\n",
        "  trainer.train()\n",
        "\n",
        "  print('----------  Res on Valid  ----------')\n",
        "  res_json = trainer.evaluate()\n",
        "  print(res_json)\n",
        "\n",
        "  print('----------  Res on Test  ----------')\n",
        "  test_preds = trainer.predict(ds_tkn_test)\n",
        "  test_metric = test_preds.metrics\n",
        "  print(test_metric)\n",
        "\n",
        "  return res_json, test_metric\n"
      ],
      "metadata": {
        "id": "2rdsRn5UecT-"
      },
      "execution_count": 23,
      "outputs": []
    },
    {
      "cell_type": "code",
      "source": [],
      "metadata": {
        "id": "JXRYdEd96Szy"
      },
      "execution_count": null,
      "outputs": []
    },
    {
      "cell_type": "code",
      "source": [
        "N_EPOCH = 3\n",
        "BATCH_SIZE = 16\n",
        "LR = 0.000003  # 3e-6\n",
        "\n",
        "experiment_name = '{}_Epoch{}_Batch{}_Lr{}'.format(MODEL.split('/')[1], N_EPOCH, BATCH_SIZE, LR)\n",
        "print('Experiment Name: ', experiment_name)\n",
        "\n",
        "res_val, res_test = do_training()"
      ],
      "metadata": {
        "colab": {
          "base_uri": "https://localhost:8080/",
          "height": 479,
          "referenced_widgets": [
            "909661e2b76c4833a50fdf04ebc7a075",
            "07c4dd7a5f354b05afc9870cb8e95bec",
            "850ce760caa14170923a071d0d3d70d5",
            "9b10f601b60a4609869102c5a482b9d3",
            "4947e7b9c75645958f0c584e9bceedb2",
            "9e8ce887f5754403b77babf094027f0a",
            "f5d563063dbb4ee1b1f7bdea5b55f0e0",
            "28524c4cb5d64284bdbcbeec6ba8f693",
            "7213b520c187450daee32edb1cba6477",
            "f0d3148d87be42ee9454fbe4d986eca4",
            "09a643a957b9412684c0ba6a15d68ffc",
            "5765223e899d44c6885580c790194c12",
            "17f77953e1f94990950b5dd4e57fafe5",
            "42365716a24d4ac2ad649547ccffed7b",
            "4469b929372642eba54320aa6dc93630",
            "7e4e09c7e8c746a2bd461a375d6c6b48",
            "7f844d7ef1f946818e4fa35530e622ce",
            "0f3dbb8bcf2046748901c004f244c8a8",
            "03a051be2c4e426aab29c51b3850b044",
            "608a1ce388bc44eea25cd2f02a66aa09",
            "c58ededecb51489499ae39a46b65e2e8",
            "9908d9980fc24704a98d6a523df2c31d"
          ]
        },
        "id": "PQ0ug2dTS2L-",
        "outputId": "4934a6ef-e255-4f94-8c1c-629d0e74be50"
      },
      "execution_count": 24,
      "outputs": [
        {
          "output_type": "stream",
          "name": "stdout",
          "text": [
            "Experiment Name:  japanese-roberta-base_Epoch3_Batch16_Lr3e-06\n",
            "N_EPOCH:  3\n",
            "BATCH_SIZE:  16\n",
            "LR 3e-06\n"
          ]
        },
        {
          "output_type": "display_data",
          "data": {
            "text/plain": [
              "config.json:   0%|          | 0.00/663 [00:00<?, ?B/s]"
            ],
            "application/vnd.jupyter.widget-view+json": {
              "version_major": 2,
              "version_minor": 0,
              "model_id": "909661e2b76c4833a50fdf04ebc7a075"
            }
          },
          "metadata": {}
        },
        {
          "output_type": "display_data",
          "data": {
            "text/plain": [
              "model.safetensors:   0%|          | 0.00/443M [00:00<?, ?B/s]"
            ],
            "application/vnd.jupyter.widget-view+json": {
              "version_major": 2,
              "version_minor": 0,
              "model_id": "5765223e899d44c6885580c790194c12"
            }
          },
          "metadata": {}
        },
        {
          "output_type": "stream",
          "name": "stderr",
          "text": [
            "Some weights of RobertaForSequenceClassification were not initialized from the model checkpoint at rinna/japanese-roberta-base and are newly initialized: ['classifier.dense.bias', 'classifier.dense.weight', 'classifier.out_proj.bias', 'classifier.out_proj.weight']\n",
            "You should probably TRAIN this model on a down-stream task to be able to use it for predictions and inference.\n",
            "/usr/local/lib/python3.10/dist-packages/transformers/training_args.py:1474: FutureWarning: `evaluation_strategy` is deprecated and will be removed in version 4.46 of 🤗 Transformers. Use `eval_strategy` instead\n",
            "  warnings.warn(\n"
          ]
        },
        {
          "output_type": "stream",
          "name": "stdout",
          "text": [
            "----------  Start Training  ----------\n"
          ]
        },
        {
          "output_type": "display_data",
          "data": {
            "text/plain": [
              "<IPython.core.display.HTML object>"
            ],
            "text/html": [
              "\n",
              "    <div>\n",
              "      \n",
              "      <progress value='705' max='705' style='width:300px; height:20px; vertical-align: middle;'></progress>\n",
              "      [705/705 01:22, Epoch 3/3]\n",
              "    </div>\n",
              "    <table border=\"1\" class=\"dataframe\">\n",
              "  <thead>\n",
              " <tr style=\"text-align: left;\">\n",
              "      <th>Epoch</th>\n",
              "      <th>Training Loss</th>\n",
              "      <th>Validation Loss</th>\n",
              "      <th>F1</th>\n",
              "    </tr>\n",
              "  </thead>\n",
              "  <tbody>\n",
              "    <tr>\n",
              "      <td>1</td>\n",
              "      <td>0.264100</td>\n",
              "      <td>0.215410</td>\n",
              "      <td>0.000000</td>\n",
              "    </tr>\n",
              "    <tr>\n",
              "      <td>2</td>\n",
              "      <td>0.216800</td>\n",
              "      <td>0.179682</td>\n",
              "      <td>0.000000</td>\n",
              "    </tr>\n",
              "    <tr>\n",
              "      <td>3</td>\n",
              "      <td>0.182600</td>\n",
              "      <td>0.157989</td>\n",
              "      <td>0.000000</td>\n",
              "    </tr>\n",
              "  </tbody>\n",
              "</table><p>"
            ]
          },
          "metadata": {}
        },
        {
          "output_type": "stream",
          "name": "stdout",
          "text": [
            "----------  Res on Valid  ----------\n"
          ]
        },
        {
          "output_type": "display_data",
          "data": {
            "text/plain": [
              "<IPython.core.display.HTML object>"
            ],
            "text/html": []
          },
          "metadata": {}
        },
        {
          "output_type": "stream",
          "name": "stdout",
          "text": [
            "{'eval_loss': 0.1579885482788086, 'eval_f1': 0.0, 'eval_runtime': 1.2831, 'eval_samples_per_second': 699.106, 'eval_steps_per_second': 58.454, 'epoch': 3.0}\n",
            "----------  Res on Test  ----------\n",
            "{'test_loss': 0.16525624692440033, 'test_f1': 0.0, 'test_runtime': 0.9671, 'test_samples_per_second': 620.408, 'test_steps_per_second': 51.701}\n"
          ]
        }
      ]
    },
    {
      "cell_type": "code",
      "source": [
        "# Save Valid Result\n",
        "save_file = os.path.join(SAVE_DIR, 'VALID__' + experiment_name + '.json')\n",
        "print(save_file)\n",
        "with open(save_file, 'w') as f:\n",
        "    json.dump(res_val, f, indent=2)\n",
        "\n",
        "# Save Test Result\n",
        "save_file = os.path.join(SAVE_DIR, 'TEST__' + experiment_name + '.json')\n",
        "print(save_file)\n",
        "with open(save_file, 'w') as f:\n",
        "    json.dump(res_test, f, indent=2)"
      ],
      "metadata": {
        "colab": {
          "base_uri": "https://localhost:8080/"
        },
        "id": "h52DaGCYGfx_",
        "outputId": "6e4a8e35-c792-41e8-e6e4-15eb9af6749d"
      },
      "execution_count": 25,
      "outputs": [
        {
          "output_type": "stream",
          "name": "stdout",
          "text": [
            "drive/MyDrive/experiment_results/hs_txt_classification/VALID__japanese-roberta-base_Epoch3_Batch16_Lr3e-06.json\n",
            "drive/MyDrive/experiment_results/hs_txt_classification/TEST__japanese-roberta-base_Epoch3_Batch16_Lr3e-06.json\n"
          ]
        }
      ]
    },
    {
      "cell_type": "code",
      "source": [
        "!ls drive/MyDrive/experiment_results/hs_txt_classification"
      ],
      "metadata": {
        "id": "dMq6IEQ1g3vw",
        "outputId": "009cd43b-a11b-4fa3-d603-b30218923c60",
        "colab": {
          "base_uri": "https://localhost:8080/"
        }
      },
      "execution_count": 26,
      "outputs": [
        {
          "output_type": "stream",
          "name": "stdout",
          "text": [
            "bert-large-japanese-v2\tOLD   TEST__japanese-roberta-base_Epoch3_Batch16_Lr3e-06.json\n",
            "checkpoint-940\t\tOLD2  VALID__japanese-roberta-base_Epoch3_Batch16_Lr3e-06.json\n"
          ]
        }
      ]
    },
    {
      "cell_type": "code",
      "source": [
        "N_EPOCH = 3\n",
        "BATCH_SIZE = 16\n",
        "LR = 0.00001  # 1e-5\n",
        "\n",
        "experiment_name = '{}_Epoch{}_Batch{}_Lr{}'.format(MODEL.split('/')[1], N_EPOCH, BATCH_SIZE, LR)\n",
        "print('Experiment Name: ', experiment_name)\n",
        "\n",
        "res_val, res_test = do_training()\n",
        "\n",
        "# Save Valid Result\n",
        "save_file = os.path.join(SAVE_DIR, 'VALID__' + experiment_name + '.json')\n",
        "print('Val Res Save File: ', save_file)\n",
        "with open(save_file, 'w') as f:\n",
        "    json.dump(res_val, f, indent=2)\n",
        "\n",
        "# Save Test Result\n",
        "save_file = os.path.join(SAVE_DIR, 'TEST__' + experiment_name + '.json')\n",
        "print('Test Res Save File: ', save_file)\n",
        "with open(save_file, 'w') as f:\n",
        "    json.dump(res_test, f, indent=2)"
      ],
      "metadata": {
        "id": "Ia40cW9Kg4BN",
        "colab": {
          "base_uri": "https://localhost:8080/"
        },
        "outputId": "e1743bfa-5606-4d04-ccfe-8df7197167ca"
      },
      "execution_count": 27,
      "outputs": [
        {
          "output_type": "stream",
          "name": "stdout",
          "text": [
            "Experiment Name:  japanese-roberta-base_Epoch3_Batch16_Lr1e-05\n",
            "N_EPOCH:  3\n",
            "BATCH_SIZE:  16\n",
            "LR 1e-05\n"
          ]
        },
        {
          "output_type": "stream",
          "name": "stderr",
          "text": [
            "/usr/local/lib/python3.10/dist-packages/transformers/training_args.py:1474: FutureWarning: `evaluation_strategy` is deprecated and will be removed in version 4.46 of 🤗 Transformers. Use `eval_strategy` instead\n",
            "  warnings.warn(\n"
          ]
        },
        {
          "output_type": "stream",
          "name": "stdout",
          "text": [
            "----------  Start Training  ----------\n",
            "{'loss': 0.2256, 'grad_norm': 1.4946200847625732, 'learning_rate': 6.695035460992908e-06, 'epoch': 1.0}\n",
            "{'eval_loss': 0.16313259303569794, 'eval_f1': 0.0392156862745098, 'eval_runtime': 1.6398, 'eval_samples_per_second': 547.015, 'eval_steps_per_second': 45.737, 'epoch': 1.0}\n",
            "{'loss': 0.1511, 'grad_norm': 11.028458595275879, 'learning_rate': 3.3900709219858157e-06, 'epoch': 2.0}\n",
            "{'eval_loss': 0.15963922441005707, 'eval_f1': 0.46511627906976744, 'eval_runtime': 1.6476, 'eval_samples_per_second': 544.444, 'eval_steps_per_second': 45.522, 'epoch': 2.0}\n",
            "{'loss': 0.1183, 'grad_norm': 0.9388155341148376, 'learning_rate': 5.673758865248228e-08, 'epoch': 3.0}\n",
            "{'eval_loss': 0.15834666788578033, 'eval_f1': 0.5087719298245614, 'eval_runtime': 1.2419, 'eval_samples_per_second': 722.287, 'eval_steps_per_second': 60.392, 'epoch': 3.0}\n",
            "{'train_runtime': 82.0289, 'train_samples_per_second': 137.476, 'train_steps_per_second': 8.595, 'train_loss': 0.16499328883827155, 'epoch': 3.0}\n",
            "----------  Res on Valid  ----------\n",
            "{'eval_loss': 0.15834666788578033, 'eval_f1': 0.5087719298245614, 'eval_runtime': 1.6595, 'eval_samples_per_second': 540.509, 'eval_steps_per_second': 45.193, 'epoch': 3.0}\n",
            "{'eval_loss': 0.15834666788578033, 'eval_f1': 0.5087719298245614, 'eval_runtime': 1.6595, 'eval_samples_per_second': 540.509, 'eval_steps_per_second': 45.193, 'epoch': 3.0}\n",
            "----------  Res on Test  ----------\n",
            "{'test_loss': 0.17081327736377716, 'test_f1': 0.4615384615384615, 'test_runtime': 1.1274, 'test_samples_per_second': 532.204, 'test_steps_per_second': 44.35}\n",
            "Val Res Save File:  drive/MyDrive/experiment_results/hs_txt_classification/VALID__japanese-roberta-base_Epoch3_Batch16_Lr1e-05.json\n",
            "Test Res Save File:  drive/MyDrive/experiment_results/hs_txt_classification/TEST__japanese-roberta-base_Epoch3_Batch16_Lr1e-05.json\n"
          ]
        }
      ]
    },
    {
      "cell_type": "code",
      "source": [
        "N_EPOCH = 3\n",
        "BATCH_SIZE = 16\n",
        "LR = 0.00003  # 3e-5\n",
        "\n",
        "experiment_name = '{}_Epoch{}_Batch{}_Lr{}'.format(MODEL.split('/')[1], N_EPOCH, BATCH_SIZE, LR)\n",
        "print('Experiment Name: ', experiment_name)\n",
        "\n",
        "res_val, res_test = do_training()\n",
        "\n",
        "# Save Valid Result\n",
        "save_file = os.path.join(SAVE_DIR, 'VALID__' + experiment_name + '.json')\n",
        "print('Val Res Save File: ', save_file)\n",
        "with open(save_file, 'w') as f:\n",
        "    json.dump(res_val, f, indent=2)\n",
        "\n",
        "# Save Test Result\n",
        "save_file = os.path.join(SAVE_DIR, 'TEST__' + experiment_name + '.json')\n",
        "print('Test Res Save File: ', save_file)\n",
        "with open(save_file, 'w') as f:\n",
        "    json.dump(res_test, f, indent=2)"
      ],
      "metadata": {
        "colab": {
          "base_uri": "https://localhost:8080/"
        },
        "id": "4OKuZDdSICQu",
        "outputId": "27bbb768-85c5-4599-8097-d7d4e5d27633"
      },
      "execution_count": 28,
      "outputs": [
        {
          "output_type": "stream",
          "name": "stdout",
          "text": [
            "Experiment Name:  japanese-roberta-base_Epoch3_Batch16_Lr3e-05\n",
            "N_EPOCH:  3\n",
            "BATCH_SIZE:  16\n",
            "LR 3e-05\n"
          ]
        },
        {
          "output_type": "stream",
          "name": "stderr",
          "text": [
            "/usr/local/lib/python3.10/dist-packages/transformers/training_args.py:1474: FutureWarning: `evaluation_strategy` is deprecated and will be removed in version 4.46 of 🤗 Transformers. Use `eval_strategy` instead\n",
            "  warnings.warn(\n"
          ]
        },
        {
          "output_type": "stream",
          "name": "stdout",
          "text": [
            "----------  Start Training  ----------\n",
            "{'loss': 0.2033, 'grad_norm': 0.35202983021736145, 'learning_rate': 2.0127659574468084e-05, 'epoch': 1.0}\n",
            "{'eval_loss': 0.13658279180526733, 'eval_f1': 0.0, 'eval_runtime': 1.3948, 'eval_samples_per_second': 643.112, 'eval_steps_per_second': 53.772, 'epoch': 1.0}\n",
            "{'loss': 0.1362, 'grad_norm': 2.689196825027466, 'learning_rate': 1.0170212765957446e-05, 'epoch': 2.0}\n",
            "{'eval_loss': 0.18288442492485046, 'eval_f1': 0.5068493150684932, 'eval_runtime': 1.1828, 'eval_samples_per_second': 758.39, 'eval_steps_per_second': 63.411, 'epoch': 2.0}\n",
            "{'loss': 0.0953, 'grad_norm': 0.22845345735549927, 'learning_rate': 1.7021276595744683e-07, 'epoch': 3.0}\n",
            "{'eval_loss': 0.16901721060276031, 'eval_f1': 0.5252525252525252, 'eval_runtime': 1.1776, 'eval_samples_per_second': 761.7, 'eval_steps_per_second': 63.687, 'epoch': 3.0}\n",
            "{'train_runtime': 92.4598, 'train_samples_per_second': 121.967, 'train_steps_per_second': 7.625, 'train_loss': 0.14492283002704592, 'epoch': 3.0}\n",
            "----------  Res on Valid  ----------\n",
            "{'eval_loss': 0.16901721060276031, 'eval_f1': 0.5252525252525252, 'eval_runtime': 1.2723, 'eval_samples_per_second': 705.021, 'eval_steps_per_second': 58.948, 'epoch': 3.0}\n",
            "{'eval_loss': 0.16901721060276031, 'eval_f1': 0.5252525252525252, 'eval_runtime': 1.2723, 'eval_samples_per_second': 705.021, 'eval_steps_per_second': 58.948, 'epoch': 3.0}\n",
            "----------  Res on Test  ----------\n",
            "{'test_loss': 0.1651231199502945, 'test_f1': 0.5573770491803278, 'test_runtime': 1.0818, 'test_samples_per_second': 554.606, 'test_steps_per_second': 46.217}\n",
            "Val Res Save File:  drive/MyDrive/experiment_results/hs_txt_classification/VALID__japanese-roberta-base_Epoch3_Batch16_Lr3e-05.json\n",
            "Test Res Save File:  drive/MyDrive/experiment_results/hs_txt_classification/TEST__japanese-roberta-base_Epoch3_Batch16_Lr3e-05.json\n"
          ]
        }
      ]
    },
    {
      "cell_type": "code",
      "source": [
        "N_EPOCH = 3\n",
        "BATCH_SIZE = 16\n",
        "LR = 0.00005  # 5e-5\n",
        "\n",
        "experiment_name = '{}_Epoch{}_Batch{}_Lr{}'.format(MODEL.split('/')[1], N_EPOCH, BATCH_SIZE, LR)\n",
        "print('Experiment Name: ', experiment_name)\n",
        "\n",
        "res_val, res_test = do_training()\n",
        "\n",
        "# Save Valid Result\n",
        "save_file = os.path.join(SAVE_DIR, 'VALID__' + experiment_name + '.json')\n",
        "print('Val Res Save File: ', save_file)\n",
        "with open(save_file, 'w') as f:\n",
        "    json.dump(res_val, f, indent=2)\n",
        "\n",
        "# Save Test Result\n",
        "save_file = os.path.join(SAVE_DIR, 'TEST__' + experiment_name + '.json')\n",
        "print('Test Res Save File: ', save_file)\n",
        "with open(save_file, 'w') as f:\n",
        "    json.dump(res_test, f, indent=2)"
      ],
      "metadata": {
        "colab": {
          "base_uri": "https://localhost:8080/"
        },
        "id": "C4yTbAROJlUh",
        "outputId": "161a3ff9-1ef2-4ae6-aae2-ba3e2680e6b4"
      },
      "execution_count": 29,
      "outputs": [
        {
          "output_type": "stream",
          "name": "stdout",
          "text": [
            "Experiment Name:  japanese-roberta-base_Epoch3_Batch16_Lr5e-05\n",
            "N_EPOCH:  3\n",
            "BATCH_SIZE:  16\n",
            "LR 5e-05\n"
          ]
        },
        {
          "output_type": "stream",
          "name": "stderr",
          "text": [
            "/usr/local/lib/python3.10/dist-packages/transformers/training_args.py:1474: FutureWarning: `evaluation_strategy` is deprecated and will be removed in version 4.46 of 🤗 Transformers. Use `eval_strategy` instead\n",
            "  warnings.warn(\n"
          ]
        },
        {
          "output_type": "stream",
          "name": "stdout",
          "text": [
            "----------  Start Training  ----------\n",
            "{'loss': 0.227, 'grad_norm': 0.3612994849681854, 'learning_rate': 3.3404255319148935e-05, 'epoch': 1.0}\n",
            "{'eval_loss': 0.21634924411773682, 'eval_f1': 0.0, 'eval_runtime': 1.5798, 'eval_samples_per_second': 567.777, 'eval_steps_per_second': 47.473, 'epoch': 1.0}\n",
            "{'loss': 0.2257, 'grad_norm': 0.35721802711486816, 'learning_rate': 1.673758865248227e-05, 'epoch': 2.0}\n",
            "{'eval_loss': 0.21561016142368317, 'eval_f1': 0.0, 'eval_runtime': 1.6157, 'eval_samples_per_second': 555.167, 'eval_steps_per_second': 46.419, 'epoch': 2.0}\n",
            "{'loss': 0.2239, 'grad_norm': 0.35210272669792175, 'learning_rate': 7.092198581560284e-08, 'epoch': 3.0}\n",
            "{'eval_loss': 0.21164587140083313, 'eval_f1': 0.0, 'eval_runtime': 1.6899, 'eval_samples_per_second': 530.813, 'eval_steps_per_second': 44.382, 'epoch': 3.0}\n",
            "{'train_runtime': 83.1274, 'train_samples_per_second': 135.659, 'train_steps_per_second': 8.481, 'train_loss': 0.2255082367159796, 'epoch': 3.0}\n",
            "----------  Res on Valid  ----------\n",
            "{'eval_loss': 0.21164587140083313, 'eval_f1': 0.0, 'eval_runtime': 1.7687, 'eval_samples_per_second': 507.157, 'eval_steps_per_second': 42.404, 'epoch': 3.0}\n",
            "{'eval_loss': 0.21164587140083313, 'eval_f1': 0.0, 'eval_runtime': 1.7687, 'eval_samples_per_second': 507.157, 'eval_steps_per_second': 42.404, 'epoch': 3.0}\n",
            "----------  Res on Test  ----------\n",
            "{'test_loss': 0.2189960777759552, 'test_f1': 0.0, 'test_runtime': 0.8945, 'test_samples_per_second': 670.79, 'test_steps_per_second': 55.899}\n",
            "Val Res Save File:  drive/MyDrive/experiment_results/hs_txt_classification/VALID__japanese-roberta-base_Epoch3_Batch16_Lr5e-05.json\n",
            "Test Res Save File:  drive/MyDrive/experiment_results/hs_txt_classification/TEST__japanese-roberta-base_Epoch3_Batch16_Lr5e-05.json\n"
          ]
        }
      ]
    },
    {
      "cell_type": "markdown",
      "source": [
        "#### Batch Size -> 32"
      ],
      "metadata": {
        "id": "MTpFv0XeM4Iu"
      }
    },
    {
      "cell_type": "code",
      "source": [
        "N_EPOCH = 3\n",
        "BATCH_SIZE = 32\n",
        "LR = 0.000003  # 3e-6\n",
        "\n",
        "experiment_name = '{}_Epoch{}_Batch{}_Lr{}'.format(MODEL.split('/')[1], N_EPOCH, BATCH_SIZE, LR)\n",
        "print('Experiment Name: ', experiment_name)\n",
        "\n",
        "res_val, res_test = do_training()\n",
        "\n",
        "# Save Valid Result\n",
        "save_file = os.path.join(SAVE_DIR, 'VALID__' + experiment_name + '.json')\n",
        "print(save_file)\n",
        "with open(save_file, 'w') as f:\n",
        "    json.dump(res_val, f, indent=2)\n",
        "\n",
        "# Save Test Result\n",
        "save_file = os.path.join(SAVE_DIR, 'TEST__' + experiment_name + '.json')\n",
        "print(save_file)\n",
        "with open(save_file, 'w') as f:\n",
        "    json.dump(res_test, f, indent=2)"
      ],
      "metadata": {
        "colab": {
          "base_uri": "https://localhost:8080/"
        },
        "id": "traGJnkBKyLT",
        "outputId": "67f3b166-f539-4b03-ed28-c5d40e67c667"
      },
      "execution_count": 30,
      "outputs": [
        {
          "output_type": "stream",
          "name": "stdout",
          "text": [
            "Experiment Name:  japanese-roberta-base_Epoch3_Batch32_Lr3e-06\n",
            "N_EPOCH:  3\n",
            "BATCH_SIZE:  32\n",
            "LR 3e-06\n"
          ]
        },
        {
          "output_type": "stream",
          "name": "stderr",
          "text": [
            "/usr/local/lib/python3.10/dist-packages/transformers/training_args.py:1474: FutureWarning: `evaluation_strategy` is deprecated and will be removed in version 4.46 of 🤗 Transformers. Use `eval_strategy` instead\n",
            "  warnings.warn(\n"
          ]
        },
        {
          "output_type": "stream",
          "name": "stdout",
          "text": [
            "----------  Start Training  ----------\n",
            "{'loss': 0.314, 'grad_norm': 0.7691614031791687, 'learning_rate': 2.0084745762711865e-06, 'epoch': 1.0}\n",
            "{'eval_loss': 0.2147434949874878, 'eval_f1': 0.0, 'eval_runtime': 1.2213, 'eval_samples_per_second': 734.445, 'eval_steps_per_second': 61.408, 'epoch': 1.0}\n",
            "{'loss': 0.224, 'grad_norm': 1.3698632717132568, 'learning_rate': 1.0084745762711866e-06, 'epoch': 2.0}\n",
            "{'eval_loss': 0.20950081944465637, 'eval_f1': 0.0, 'eval_runtime': 1.2133, 'eval_samples_per_second': 739.315, 'eval_steps_per_second': 61.816, 'epoch': 2.0}\n",
            "{'loss': 0.2161, 'grad_norm': 0.7969316840171814, 'learning_rate': 8.474576271186441e-09, 'epoch': 3.0}\n",
            "{'eval_loss': 0.2007775604724884, 'eval_f1': 0.0, 'eval_runtime': 1.5944, 'eval_samples_per_second': 562.582, 'eval_steps_per_second': 47.039, 'epoch': 3.0}\n",
            "{'train_runtime': 54.9446, 'train_samples_per_second': 205.243, 'train_steps_per_second': 6.443, 'train_loss': 0.2513439534074169, 'epoch': 3.0}\n",
            "----------  Res on Valid  ----------\n",
            "{'eval_loss': 0.2007775604724884, 'eval_f1': 0.0, 'eval_runtime': 1.2407, 'eval_samples_per_second': 722.974, 'eval_steps_per_second': 60.449, 'epoch': 3.0}\n",
            "{'eval_loss': 0.2007775604724884, 'eval_f1': 0.0, 'eval_runtime': 1.2407, 'eval_samples_per_second': 722.974, 'eval_steps_per_second': 60.449, 'epoch': 3.0}\n",
            "----------  Res on Test  ----------\n",
            "{'test_loss': 0.20812347531318665, 'test_f1': 0.0, 'test_runtime': 0.8635, 'test_samples_per_second': 694.843, 'test_steps_per_second': 57.904}\n",
            "drive/MyDrive/experiment_results/hs_txt_classification/VALID__japanese-roberta-base_Epoch3_Batch32_Lr3e-06.json\n",
            "drive/MyDrive/experiment_results/hs_txt_classification/TEST__japanese-roberta-base_Epoch3_Batch32_Lr3e-06.json\n"
          ]
        }
      ]
    },
    {
      "cell_type": "code",
      "source": [
        "N_EPOCH = 3\n",
        "BATCH_SIZE = 32\n",
        "LR = 0.00001  # 1e-5\n",
        "\n",
        "experiment_name = '{}_Epoch{}_Batch{}_Lr{}'.format(MODEL.split('/')[1], N_EPOCH, BATCH_SIZE, LR)\n",
        "print('Experiment Name: ', experiment_name)\n",
        "\n",
        "res_val, res_test = do_training()\n",
        "\n",
        "# Save Valid Result\n",
        "save_file = os.path.join(SAVE_DIR, 'VALID__' + experiment_name + '.json')\n",
        "print('Val Res Save File: ', save_file)\n",
        "with open(save_file, 'w') as f:\n",
        "    json.dump(res_val, f, indent=2)\n",
        "\n",
        "# Save Test Result\n",
        "save_file = os.path.join(SAVE_DIR, 'TEST__' + experiment_name + '.json')\n",
        "print('Test Res Save File: ', save_file)\n",
        "with open(save_file, 'w') as f:\n",
        "    json.dump(res_test, f, indent=2)"
      ],
      "metadata": {
        "colab": {
          "base_uri": "https://localhost:8080/"
        },
        "id": "QjRsntbtMgf0",
        "outputId": "2bfcbbea-f67c-443b-d2c7-fb1a533ac046"
      },
      "execution_count": 31,
      "outputs": [
        {
          "output_type": "stream",
          "name": "stdout",
          "text": [
            "Experiment Name:  japanese-roberta-base_Epoch3_Batch32_Lr1e-05\n",
            "N_EPOCH:  3\n",
            "BATCH_SIZE:  32\n",
            "LR 1e-05\n"
          ]
        },
        {
          "output_type": "stream",
          "name": "stderr",
          "text": [
            "/usr/local/lib/python3.10/dist-packages/transformers/training_args.py:1474: FutureWarning: `evaluation_strategy` is deprecated and will be removed in version 4.46 of 🤗 Transformers. Use `eval_strategy` instead\n",
            "  warnings.warn(\n"
          ]
        },
        {
          "output_type": "stream",
          "name": "stdout",
          "text": [
            "----------  Start Training  ----------\n",
            "{'loss': 0.2395, 'grad_norm': 0.5672323703765869, 'learning_rate': 6.666666666666667e-06, 'epoch': 1.0}\n",
            "{'eval_loss': 0.19284503161907196, 'eval_f1': 0.0, 'eval_runtime': 1.2569, 'eval_samples_per_second': 713.683, 'eval_steps_per_second': 59.673, 'epoch': 1.0}\n",
            "{'loss': 0.1661, 'grad_norm': 7.600222110748291, 'learning_rate': 3.361581920903955e-06, 'epoch': 2.0}\n",
            "{'eval_loss': 0.14978846907615662, 'eval_f1': 0.4745762711864407, 'eval_runtime': 1.641, 'eval_samples_per_second': 546.631, 'eval_steps_per_second': 45.705, 'epoch': 2.0}\n",
            "{'loss': 0.1313, 'grad_norm': 2.143850803375244, 'learning_rate': 5.649717514124294e-08, 'epoch': 3.0}\n",
            "{'eval_loss': 0.13762837648391724, 'eval_f1': 0.512396694214876, 'eval_runtime': 1.1931, 'eval_samples_per_second': 751.84, 'eval_steps_per_second': 62.863, 'epoch': 3.0}\n",
            "{'train_runtime': 54.2658, 'train_samples_per_second': 207.81, 'train_steps_per_second': 6.523, 'train_loss': 0.17896419460490598, 'epoch': 3.0}\n",
            "----------  Res on Valid  ----------\n",
            "{'eval_loss': 0.13762837648391724, 'eval_f1': 0.512396694214876, 'eval_runtime': 1.2051, 'eval_samples_per_second': 744.358, 'eval_steps_per_second': 62.237, 'epoch': 3.0}\n",
            "{'eval_loss': 0.13762837648391724, 'eval_f1': 0.512396694214876, 'eval_runtime': 1.2051, 'eval_samples_per_second': 744.358, 'eval_steps_per_second': 62.237, 'epoch': 3.0}\n",
            "----------  Res on Test  ----------\n",
            "{'test_loss': 0.15371066331863403, 'test_f1': 0.4050632911392405, 'test_runtime': 0.8019, 'test_samples_per_second': 748.233, 'test_steps_per_second': 62.353}\n",
            "Val Res Save File:  drive/MyDrive/experiment_results/hs_txt_classification/VALID__japanese-roberta-base_Epoch3_Batch32_Lr1e-05.json\n",
            "Test Res Save File:  drive/MyDrive/experiment_results/hs_txt_classification/TEST__japanese-roberta-base_Epoch3_Batch32_Lr1e-05.json\n"
          ]
        }
      ]
    },
    {
      "cell_type": "code",
      "source": [
        "N_EPOCH = 3\n",
        "BATCH_SIZE = 32\n",
        "LR = 0.00003  # 3e-5\n",
        "\n",
        "experiment_name = '{}_Epoch{}_Batch{}_Lr{}'.format(MODEL.split('/')[1], N_EPOCH, BATCH_SIZE, LR)\n",
        "print('Experiment Name: ', experiment_name)\n",
        "\n",
        "res_val, res_test = do_training()\n",
        "\n",
        "# Save Valid Result\n",
        "save_file = os.path.join(SAVE_DIR, 'VALID__' + experiment_name + '.json')\n",
        "print('Val Res Save File: ', save_file)\n",
        "with open(save_file, 'w') as f:\n",
        "    json.dump(res_val, f, indent=2)\n",
        "\n",
        "# Save Test Result\n",
        "save_file = os.path.join(SAVE_DIR, 'TEST__' + experiment_name + '.json')\n",
        "print('Test Res Save File: ', save_file)\n",
        "with open(save_file, 'w') as f:\n",
        "    json.dump(res_test, f, indent=2)"
      ],
      "metadata": {
        "colab": {
          "base_uri": "https://localhost:8080/"
        },
        "id": "_SK60hp2NNyA",
        "outputId": "d1575bc3-f3cb-4742-fb5f-1419e930a2b5"
      },
      "execution_count": 32,
      "outputs": [
        {
          "output_type": "stream",
          "name": "stdout",
          "text": [
            "Experiment Name:  japanese-roberta-base_Epoch3_Batch32_Lr3e-05\n",
            "N_EPOCH:  3\n",
            "BATCH_SIZE:  32\n",
            "LR 3e-05\n"
          ]
        },
        {
          "output_type": "stream",
          "name": "stderr",
          "text": [
            "/usr/local/lib/python3.10/dist-packages/transformers/training_args.py:1474: FutureWarning: `evaluation_strategy` is deprecated and will be removed in version 4.46 of 🤗 Transformers. Use `eval_strategy` instead\n",
            "  warnings.warn(\n"
          ]
        },
        {
          "output_type": "stream",
          "name": "stdout",
          "text": [
            "----------  Start Training  ----------\n",
            "{'loss': 0.2292, 'grad_norm': 0.44932544231414795, 'learning_rate': 1.9999999999999998e-05, 'epoch': 1.0}\n",
            "{'eval_loss': 0.20872774720191956, 'eval_f1': 0.0, 'eval_runtime': 1.2563, 'eval_samples_per_second': 714.026, 'eval_steps_per_second': 59.701, 'epoch': 1.0}\n",
            "{'loss': 0.1542, 'grad_norm': 1.0130701065063477, 'learning_rate': 1.0084745762711864e-05, 'epoch': 2.0}\n",
            "{'eval_loss': 0.13445435464382172, 'eval_f1': 0.5656565656565656, 'eval_runtime': 1.5916, 'eval_samples_per_second': 563.586, 'eval_steps_per_second': 47.123, 'epoch': 2.0}\n",
            "{'loss': 0.1102, 'grad_norm': 3.5931649208068848, 'learning_rate': 8.47457627118644e-08, 'epoch': 3.0}\n",
            "{'eval_loss': 0.14060154557228088, 'eval_f1': 0.537037037037037, 'eval_runtime': 1.2021, 'eval_samples_per_second': 746.198, 'eval_steps_per_second': 62.391, 'epoch': 3.0}\n",
            "{'train_runtime': 56.4662, 'train_samples_per_second': 199.712, 'train_steps_per_second': 6.269, 'train_loss': 0.16450774198198048, 'epoch': 3.0}\n",
            "----------  Res on Valid  ----------\n",
            "{'eval_loss': 0.14060154557228088, 'eval_f1': 0.537037037037037, 'eval_runtime': 1.2007, 'eval_samples_per_second': 747.034, 'eval_steps_per_second': 62.461, 'epoch': 3.0}\n",
            "{'eval_loss': 0.14060154557228088, 'eval_f1': 0.537037037037037, 'eval_runtime': 1.2007, 'eval_samples_per_second': 747.034, 'eval_steps_per_second': 62.461, 'epoch': 3.0}\n",
            "----------  Res on Test  ----------\n",
            "{'test_loss': 0.12580746412277222, 'test_f1': 0.608695652173913, 'test_runtime': 0.8032, 'test_samples_per_second': 747.022, 'test_steps_per_second': 62.252}\n",
            "Val Res Save File:  drive/MyDrive/experiment_results/hs_txt_classification/VALID__japanese-roberta-base_Epoch3_Batch32_Lr3e-05.json\n",
            "Test Res Save File:  drive/MyDrive/experiment_results/hs_txt_classification/TEST__japanese-roberta-base_Epoch3_Batch32_Lr3e-05.json\n"
          ]
        }
      ]
    },
    {
      "cell_type": "code",
      "source": [
        "N_EPOCH = 3\n",
        "BATCH_SIZE = 32\n",
        "LR = 0.00005  # 5e-5\n",
        "\n",
        "experiment_name = '{}_Epoch{}_Batch{}_Lr{}'.format(MODEL.split('/')[1], N_EPOCH, BATCH_SIZE, LR)\n",
        "print('Experiment Name: ', experiment_name)\n",
        "\n",
        "res_val, res_test = do_training()\n",
        "\n",
        "# Save Valid Result\n",
        "save_file = os.path.join(SAVE_DIR, 'VALID__' + experiment_name + '.json')\n",
        "print('Val Res Save File: ', save_file)\n",
        "with open(save_file, 'w') as f:\n",
        "    json.dump(res_val, f, indent=2)\n",
        "\n",
        "# Save Test Result\n",
        "save_file = os.path.join(SAVE_DIR, 'TEST__' + experiment_name + '.json')\n",
        "print('Test Res Save File: ', save_file)\n",
        "with open(save_file, 'w') as f:\n",
        "    json.dump(res_test, f, indent=2)"
      ],
      "metadata": {
        "colab": {
          "base_uri": "https://localhost:8080/"
        },
        "id": "CRsiu7SNNZ3x",
        "outputId": "3ca207f4-4762-4bf3-daad-e8a3dfae894e"
      },
      "execution_count": 33,
      "outputs": [
        {
          "output_type": "stream",
          "name": "stdout",
          "text": [
            "Experiment Name:  japanese-roberta-base_Epoch3_Batch32_Lr5e-05\n",
            "N_EPOCH:  3\n",
            "BATCH_SIZE:  32\n",
            "LR 5e-05\n"
          ]
        },
        {
          "output_type": "stream",
          "name": "stderr",
          "text": [
            "/usr/local/lib/python3.10/dist-packages/transformers/training_args.py:1474: FutureWarning: `evaluation_strategy` is deprecated and will be removed in version 4.46 of 🤗 Transformers. Use `eval_strategy` instead\n",
            "  warnings.warn(\n"
          ]
        },
        {
          "output_type": "stream",
          "name": "stdout",
          "text": [
            "----------  Start Training  ----------\n",
            "{'loss': 0.2312, 'grad_norm': 4.025142669677734, 'learning_rate': 3.3333333333333335e-05, 'epoch': 1.0}\n",
            "{'eval_loss': 0.1661057323217392, 'eval_f1': 0.4077669902912621, 'eval_runtime': 1.5954, 'eval_samples_per_second': 562.246, 'eval_steps_per_second': 47.011, 'epoch': 1.0}\n",
            "{'loss': 0.1599, 'grad_norm': 1.5786988735198975, 'learning_rate': 1.6807909604519774e-05, 'epoch': 2.0}\n",
            "{'eval_loss': 0.20373891294002533, 'eval_f1': 0.14814814814814814, 'eval_runtime': 1.2042, 'eval_samples_per_second': 744.894, 'eval_steps_per_second': 62.282, 'epoch': 2.0}\n",
            "{'loss': 0.1438, 'grad_norm': 0.8988903760910034, 'learning_rate': 2.8248587570621473e-07, 'epoch': 3.0}\n",
            "{'eval_loss': 0.14515987038612366, 'eval_f1': 0.5333333333333333, 'eval_runtime': 1.1711, 'eval_samples_per_second': 765.945, 'eval_steps_per_second': 64.042, 'epoch': 3.0}\n",
            "{'train_runtime': 54.0255, 'train_samples_per_second': 208.735, 'train_steps_per_second': 6.552, 'train_loss': 0.17831109472587284, 'epoch': 3.0}\n",
            "----------  Res on Valid  ----------\n",
            "{'eval_loss': 0.14515987038612366, 'eval_f1': 0.5333333333333333, 'eval_runtime': 1.1959, 'eval_samples_per_second': 750.084, 'eval_steps_per_second': 62.716, 'epoch': 3.0}\n",
            "{'eval_loss': 0.14515987038612366, 'eval_f1': 0.5333333333333333, 'eval_runtime': 1.1959, 'eval_samples_per_second': 750.084, 'eval_steps_per_second': 62.716, 'epoch': 3.0}\n",
            "----------  Res on Test  ----------\n",
            "{'test_loss': 0.13356554508209229, 'test_f1': 0.5853658536585366, 'test_runtime': 0.8128, 'test_samples_per_second': 738.21, 'test_steps_per_second': 61.518}\n",
            "Val Res Save File:  drive/MyDrive/experiment_results/hs_txt_classification/VALID__japanese-roberta-base_Epoch3_Batch32_Lr5e-05.json\n",
            "Test Res Save File:  drive/MyDrive/experiment_results/hs_txt_classification/TEST__japanese-roberta-base_Epoch3_Batch32_Lr5e-05.json\n"
          ]
        }
      ]
    },
    {
      "cell_type": "code",
      "source": [],
      "metadata": {
        "id": "qPWO2v8SP34q"
      },
      "execution_count": null,
      "outputs": []
    },
    {
      "cell_type": "markdown",
      "source": [
        "#### Top3のエポック数UP"
      ],
      "metadata": {
        "id": "5FNabicsRAj4"
      }
    },
    {
      "cell_type": "code",
      "source": [
        "N_EPOCH = 5\n",
        "BATCH_SIZE = 16\n",
        "LR = 0.00003  # 3e-5\n",
        "\n",
        "experiment_name = '{}_Epoch{}_Batch{}_Lr{}'.format(MODEL.split('/')[1], N_EPOCH, BATCH_SIZE, LR)\n",
        "print('Experiment Name: ', experiment_name)\n",
        "\n",
        "res_val, res_test = do_training()\n",
        "\n",
        "# Save Valid Result\n",
        "save_file = os.path.join(SAVE_DIR, 'VALID__' + experiment_name + '.json')\n",
        "print('Val Res Save File: ', save_file)\n",
        "with open(save_file, 'w') as f:\n",
        "    json.dump(res_val, f, indent=2)\n",
        "\n",
        "# Save Test Result\n",
        "save_file = os.path.join(SAVE_DIR, 'TEST__' + experiment_name + '.json')\n",
        "print('Test Res Save File: ', save_file)\n",
        "with open(save_file, 'w') as f:\n",
        "    json.dump(res_test, f, indent=2)"
      ],
      "metadata": {
        "colab": {
          "base_uri": "https://localhost:8080/"
        },
        "id": "jpPdTdexP4G_",
        "outputId": "50aa38f8-7c70-4299-8080-0d9449d6c8e0"
      },
      "execution_count": 34,
      "outputs": [
        {
          "output_type": "stream",
          "name": "stdout",
          "text": [
            "Experiment Name:  japanese-roberta-base_Epoch5_Batch16_Lr3e-05\n",
            "N_EPOCH:  5\n",
            "BATCH_SIZE:  16\n",
            "LR 3e-05\n"
          ]
        },
        {
          "output_type": "stream",
          "name": "stderr",
          "text": [
            "/usr/local/lib/python3.10/dist-packages/transformers/training_args.py:1474: FutureWarning: `evaluation_strategy` is deprecated and will be removed in version 4.46 of 🤗 Transformers. Use `eval_strategy` instead\n",
            "  warnings.warn(\n"
          ]
        },
        {
          "output_type": "stream",
          "name": "stdout",
          "text": [
            "----------  Start Training  ----------\n",
            "{'loss': 0.2305, 'grad_norm': 0.45063552260398865, 'learning_rate': 2.4e-05, 'epoch': 1.0}\n",
            "{'eval_loss': 0.21194924414157867, 'eval_f1': 0.0, 'eval_runtime': 1.8905, 'eval_samples_per_second': 474.467, 'eval_steps_per_second': 39.671, 'epoch': 1.0}\n",
            "{'loss': 0.2123, 'grad_norm': 0.9340553879737854, 'learning_rate': 1.8051063829787234e-05, 'epoch': 2.0}\n",
            "{'eval_loss': 0.2055957019329071, 'eval_f1': 0.0392156862745098, 'eval_runtime': 1.2499, 'eval_samples_per_second': 717.682, 'eval_steps_per_second': 60.007, 'epoch': 2.0}\n",
            "{'loss': 0.2021, 'grad_norm': 4.231803894042969, 'learning_rate': 1.2051063829787234e-05, 'epoch': 3.0}\n",
            "{'eval_loss': 0.19334253668785095, 'eval_f1': 0.26666666666666666, 'eval_runtime': 1.2193, 'eval_samples_per_second': 735.696, 'eval_steps_per_second': 61.513, 'epoch': 3.0}\n",
            "{'loss': 0.1523, 'grad_norm': 0.8857033848762512, 'learning_rate': 6.051063829787234e-06, 'epoch': 4.0}\n",
            "{'eval_loss': 0.16844335198402405, 'eval_f1': 0.4742268041237113, 'eval_runtime': 1.1813, 'eval_samples_per_second': 759.302, 'eval_steps_per_second': 63.487, 'epoch': 4.0}\n",
            "{'loss': 0.1106, 'grad_norm': 0.1633031964302063, 'learning_rate': 7.659574468085106e-08, 'epoch': 5.0}\n",
            "{'eval_loss': 0.1822001188993454, 'eval_f1': 0.46938775510204084, 'eval_runtime': 2.183, 'eval_samples_per_second': 410.908, 'eval_steps_per_second': 34.357, 'epoch': 5.0}\n",
            "{'train_runtime': 156.2987, 'train_samples_per_second': 120.251, 'train_steps_per_second': 7.518, 'train_loss': 0.1815776532761594, 'epoch': 5.0}\n",
            "----------  Res on Valid  ----------\n",
            "{'eval_loss': 0.1822001188993454, 'eval_f1': 0.46938775510204084, 'eval_runtime': 1.4145, 'eval_samples_per_second': 634.167, 'eval_steps_per_second': 53.024, 'epoch': 5.0}\n",
            "{'eval_loss': 0.1822001188993454, 'eval_f1': 0.46938775510204084, 'eval_runtime': 1.4145, 'eval_samples_per_second': 634.167, 'eval_steps_per_second': 53.024, 'epoch': 5.0}\n",
            "----------  Res on Test  ----------\n",
            "{'test_loss': 0.14167776703834534, 'test_f1': 0.611111111111111, 'test_runtime': 1.1141, 'test_samples_per_second': 538.555, 'test_steps_per_second': 44.88}\n",
            "Val Res Save File:  drive/MyDrive/experiment_results/hs_txt_classification/VALID__japanese-roberta-base_Epoch5_Batch16_Lr3e-05.json\n",
            "Test Res Save File:  drive/MyDrive/experiment_results/hs_txt_classification/TEST__japanese-roberta-base_Epoch5_Batch16_Lr3e-05.json\n"
          ]
        }
      ]
    },
    {
      "cell_type": "code",
      "source": [
        "N_EPOCH = 5\n",
        "BATCH_SIZE = 32\n",
        "LR = 0.00003  # 3e-5\n",
        "\n",
        "experiment_name = '{}_Epoch{}_Batch{}_Lr{}'.format(MODEL.split('/')[1], N_EPOCH, BATCH_SIZE, LR)\n",
        "print('Experiment Name: ', experiment_name)\n",
        "\n",
        "res_val, res_test = do_training()\n",
        "\n",
        "# Save Valid Result\n",
        "save_file = os.path.join(SAVE_DIR, 'VALID__' + experiment_name + '.json')\n",
        "print('Val Res Save File: ', save_file)\n",
        "with open(save_file, 'w') as f:\n",
        "    json.dump(res_val, f, indent=2)\n",
        "\n",
        "# Save Test Result\n",
        "save_file = os.path.join(SAVE_DIR, 'TEST__' + experiment_name + '.json')\n",
        "print('Test Res Save File: ', save_file)\n",
        "with open(save_file, 'w') as f:\n",
        "    json.dump(res_test, f, indent=2)"
      ],
      "metadata": {
        "colab": {
          "base_uri": "https://localhost:8080/"
        },
        "id": "QxwK75OrP-8e",
        "outputId": "8c1ba1b3-7f96-4cbd-bdae-33e3f92e08d3"
      },
      "execution_count": 35,
      "outputs": [
        {
          "output_type": "stream",
          "name": "stdout",
          "text": [
            "Experiment Name:  japanese-roberta-base_Epoch5_Batch32_Lr3e-05\n",
            "N_EPOCH:  5\n",
            "BATCH_SIZE:  32\n",
            "LR 3e-05\n"
          ]
        },
        {
          "output_type": "stream",
          "name": "stderr",
          "text": [
            "/usr/local/lib/python3.10/dist-packages/transformers/training_args.py:1474: FutureWarning: `evaluation_strategy` is deprecated and will be removed in version 4.46 of 🤗 Transformers. Use `eval_strategy` instead\n",
            "  warnings.warn(\n"
          ]
        },
        {
          "output_type": "stream",
          "name": "stdout",
          "text": [
            "----------  Start Training  ----------\n",
            "{'loss': 0.218, 'grad_norm': inf, 'learning_rate': 2.4101694915254238e-05, 'epoch': 1.0}\n",
            "{'eval_loss': 0.14442534744739532, 'eval_f1': 0.5426356589147288, 'eval_runtime': 1.2172, 'eval_samples_per_second': 736.913, 'eval_steps_per_second': 61.615, 'epoch': 1.0}\n",
            "{'loss': 0.1386, 'grad_norm': 3.1582143306732178, 'learning_rate': 1.8101694915254238e-05, 'epoch': 2.0}\n",
            "{'eval_loss': 0.18063867092132568, 'eval_f1': 0.4745762711864407, 'eval_runtime': 1.223, 'eval_samples_per_second': 733.419, 'eval_steps_per_second': 61.323, 'epoch': 2.0}\n",
            "{'loss': 0.0921, 'grad_norm': 6.81752347946167, 'learning_rate': 1.2101694915254238e-05, 'epoch': 3.0}\n",
            "{'eval_loss': 0.23018893599510193, 'eval_f1': 0.4938271604938272, 'eval_runtime': 1.6391, 'eval_samples_per_second': 547.252, 'eval_steps_per_second': 45.757, 'epoch': 3.0}\n",
            "{'loss': 0.0543, 'grad_norm': 0.08874143660068512, 'learning_rate': 6.101694915254238e-06, 'epoch': 4.0}\n",
            "{'eval_loss': 0.22045139968395233, 'eval_f1': 0.5362318840579711, 'eval_runtime': 1.1817, 'eval_samples_per_second': 759.056, 'eval_steps_per_second': 63.466, 'epoch': 4.0}\n",
            "{'loss': 0.0382, 'grad_norm': 0.1674599051475525, 'learning_rate': 1.0169491525423729e-07, 'epoch': 5.0}\n",
            "{'eval_loss': 0.19502049684524536, 'eval_f1': 0.56, 'eval_runtime': 1.2234, 'eval_samples_per_second': 733.202, 'eval_steps_per_second': 61.305, 'epoch': 5.0}\n",
            "{'train_runtime': 90.8909, 'train_samples_per_second': 206.786, 'train_steps_per_second': 6.491, 'train_loss': 0.10822565353522866, 'epoch': 5.0}\n",
            "----------  Res on Valid  ----------\n",
            "{'eval_loss': 0.19502049684524536, 'eval_f1': 0.56, 'eval_runtime': 1.2228, 'eval_samples_per_second': 733.575, 'eval_steps_per_second': 61.336, 'epoch': 5.0}\n",
            "{'eval_loss': 0.19502049684524536, 'eval_f1': 0.56, 'eval_runtime': 1.2228, 'eval_samples_per_second': 733.575, 'eval_steps_per_second': 61.336, 'epoch': 5.0}\n",
            "----------  Res on Test  ----------\n",
            "{'test_loss': 0.18537047505378723, 'test_f1': 0.6075949367088607, 'test_runtime': 0.8383, 'test_samples_per_second': 715.703, 'test_steps_per_second': 59.642}\n",
            "Val Res Save File:  drive/MyDrive/experiment_results/hs_txt_classification/VALID__japanese-roberta-base_Epoch5_Batch32_Lr3e-05.json\n",
            "Test Res Save File:  drive/MyDrive/experiment_results/hs_txt_classification/TEST__japanese-roberta-base_Epoch5_Batch32_Lr3e-05.json\n"
          ]
        }
      ]
    },
    {
      "cell_type": "code",
      "source": [
        "N_EPOCH = 5\n",
        "BATCH_SIZE = 32\n",
        "LR = 0.00005  # 5e-5\n",
        "\n",
        "experiment_name = '{}_Epoch{}_Batch{}_Lr{}'.format(MODEL.split('/')[1], N_EPOCH, BATCH_SIZE, LR)\n",
        "print('Experiment Name: ', experiment_name)\n",
        "\n",
        "res_val, res_test = do_training()\n",
        "\n",
        "# Save Valid Result\n",
        "save_file = os.path.join(SAVE_DIR, 'VALID__' + experiment_name + '.json')\n",
        "print('Val Res Save File: ', save_file)\n",
        "with open(save_file, 'w') as f:\n",
        "    json.dump(res_val, f, indent=2)\n",
        "\n",
        "# Save Test Result\n",
        "save_file = os.path.join(SAVE_DIR, 'TEST__' + experiment_name + '.json')\n",
        "print('Test Res Save File: ', save_file)\n",
        "with open(save_file, 'w') as f:\n",
        "    json.dump(res_test, f, indent=2)"
      ],
      "metadata": {
        "id": "w4F9_MCC_kId",
        "outputId": "4ec324bc-ef36-47e3-85b6-84562e028941",
        "colab": {
          "base_uri": "https://localhost:8080/"
        }
      },
      "execution_count": 36,
      "outputs": [
        {
          "output_type": "stream",
          "name": "stdout",
          "text": [
            "Experiment Name:  japanese-roberta-base_Epoch5_Batch32_Lr5e-05\n",
            "N_EPOCH:  5\n",
            "BATCH_SIZE:  32\n",
            "LR 5e-05\n"
          ]
        },
        {
          "output_type": "stream",
          "name": "stderr",
          "text": [
            "/usr/local/lib/python3.10/dist-packages/transformers/training_args.py:1474: FutureWarning: `evaluation_strategy` is deprecated and will be removed in version 4.46 of 🤗 Transformers. Use `eval_strategy` instead\n",
            "  warnings.warn(\n"
          ]
        },
        {
          "output_type": "stream",
          "name": "stdout",
          "text": [
            "----------  Start Training  ----------\n",
            "{'loss': 0.248, 'grad_norm': 0.7087531685829163, 'learning_rate': 4.0423728813559324e-05, 'epoch': 1.0}\n",
            "{'eval_loss': 0.19275133311748505, 'eval_f1': 0.13793103448275865, 'eval_runtime': 1.6648, 'eval_samples_per_second': 538.792, 'eval_steps_per_second': 45.049, 'epoch': 1.0}\n",
            "{'loss': 0.1808, 'grad_norm': 1.2007495164871216, 'learning_rate': 3.042372881355932e-05, 'epoch': 2.0}\n",
            "{'eval_loss': 0.13056538999080658, 'eval_f1': 0.36111111111111116, 'eval_runtime': 1.1852, 'eval_samples_per_second': 756.814, 'eval_steps_per_second': 63.279, 'epoch': 2.0}\n",
            "{'loss': 0.1463, 'grad_norm': 1.1545600891113281, 'learning_rate': 2.0423728813559322e-05, 'epoch': 3.0}\n",
            "{'eval_loss': 0.15448793768882751, 'eval_f1': 0.5148514851485149, 'eval_runtime': 1.2162, 'eval_samples_per_second': 737.533, 'eval_steps_per_second': 61.667, 'epoch': 3.0}\n",
            "{'loss': 0.1185, 'grad_norm': 0.4708322286605835, 'learning_rate': 1.0423728813559321e-05, 'epoch': 4.0}\n",
            "{'eval_loss': 0.13705319166183472, 'eval_f1': 0.5263157894736842, 'eval_runtime': 1.5746, 'eval_samples_per_second': 569.682, 'eval_steps_per_second': 47.632, 'epoch': 4.0}\n",
            "{'loss': 0.1012, 'grad_norm': 0.7689911127090454, 'learning_rate': 4.2372881355932204e-07, 'epoch': 5.0}\n",
            "{'eval_loss': 0.135092630982399, 'eval_f1': 0.5663716814159292, 'eval_runtime': 1.2053, 'eval_samples_per_second': 744.23, 'eval_steps_per_second': 62.227, 'epoch': 5.0}\n",
            "{'train_runtime': 90.7617, 'train_samples_per_second': 207.081, 'train_steps_per_second': 6.501, 'train_loss': 0.1589556839506505, 'epoch': 5.0}\n",
            "----------  Res on Valid  ----------\n",
            "{'eval_loss': 0.135092630982399, 'eval_f1': 0.5663716814159292, 'eval_runtime': 1.2228, 'eval_samples_per_second': 733.561, 'eval_steps_per_second': 61.334, 'epoch': 5.0}\n",
            "{'eval_loss': 0.135092630982399, 'eval_f1': 0.5663716814159292, 'eval_runtime': 1.2228, 'eval_samples_per_second': 733.561, 'eval_steps_per_second': 61.334, 'epoch': 5.0}\n",
            "----------  Res on Test  ----------\n",
            "{'test_loss': 0.12745173275470734, 'test_f1': 0.611111111111111, 'test_runtime': 0.7909, 'test_samples_per_second': 758.662, 'test_steps_per_second': 63.222}\n",
            "Val Res Save File:  drive/MyDrive/experiment_results/hs_txt_classification/VALID__japanese-roberta-base_Epoch5_Batch32_Lr5e-05.json\n",
            "Test Res Save File:  drive/MyDrive/experiment_results/hs_txt_classification/TEST__japanese-roberta-base_Epoch5_Batch32_Lr5e-05.json\n"
          ]
        }
      ]
    },
    {
      "cell_type": "code",
      "source": [],
      "metadata": {
        "id": "ujlNoDt3N9xC"
      },
      "execution_count": null,
      "outputs": []
    }
  ]
}