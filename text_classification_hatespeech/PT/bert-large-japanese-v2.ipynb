{
  "nbformat": 4,
  "nbformat_minor": 0,
  "metadata": {
    "colab": {
      "provenance": [],
      "gpuType": "T4",
      "authorship_tag": "ABX9TyMHVxgsY5pdFqh9V0AG+DcF",
      "include_colab_link": true
    },
    "kernelspec": {
      "name": "python3",
      "display_name": "Python 3"
    },
    "language_info": {
      "name": "python"
    },
    "widgets": {
      "application/vnd.jupyter.widget-state+json": {
        "08596ff078854344adb4f5c7af0969be": {
          "model_module": "@jupyter-widgets/controls",
          "model_name": "HBoxModel",
          "model_module_version": "1.5.0",
          "state": {
            "_dom_classes": [],
            "_model_module": "@jupyter-widgets/controls",
            "_model_module_version": "1.5.0",
            "_model_name": "HBoxModel",
            "_view_count": null,
            "_view_module": "@jupyter-widgets/controls",
            "_view_module_version": "1.5.0",
            "_view_name": "HBoxView",
            "box_style": "",
            "children": [
              "IPY_MODEL_bcbf9978678848229ec3af203bfbf72b",
              "IPY_MODEL_3ce3df0286f648dbbb481afb45ef8638",
              "IPY_MODEL_1cf2380229ef4ae0b7bb74f226b157ea"
            ],
            "layout": "IPY_MODEL_a3fdfaeb676748e0ac9bd463fc5ee9bd"
          }
        },
        "bcbf9978678848229ec3af203bfbf72b": {
          "model_module": "@jupyter-widgets/controls",
          "model_name": "HTMLModel",
          "model_module_version": "1.5.0",
          "state": {
            "_dom_classes": [],
            "_model_module": "@jupyter-widgets/controls",
            "_model_module_version": "1.5.0",
            "_model_name": "HTMLModel",
            "_view_count": null,
            "_view_module": "@jupyter-widgets/controls",
            "_view_module_version": "1.5.0",
            "_view_name": "HTMLView",
            "description": "",
            "description_tooltip": null,
            "layout": "IPY_MODEL_0c582d452c3441c080f10413813b1869",
            "placeholder": "​",
            "style": "IPY_MODEL_53cd817707d24c36a3926a7769fcf3d9",
            "value": "tokenizer_config.json: 100%"
          }
        },
        "3ce3df0286f648dbbb481afb45ef8638": {
          "model_module": "@jupyter-widgets/controls",
          "model_name": "FloatProgressModel",
          "model_module_version": "1.5.0",
          "state": {
            "_dom_classes": [],
            "_model_module": "@jupyter-widgets/controls",
            "_model_module_version": "1.5.0",
            "_model_name": "FloatProgressModel",
            "_view_count": null,
            "_view_module": "@jupyter-widgets/controls",
            "_view_module_version": "1.5.0",
            "_view_name": "ProgressView",
            "bar_style": "success",
            "description": "",
            "description_tooltip": null,
            "layout": "IPY_MODEL_494b8eb610ec4f7aa2649a16009e59e8",
            "max": 251,
            "min": 0,
            "orientation": "horizontal",
            "style": "IPY_MODEL_ab21eaab85d34882b544ae1ad7daca52",
            "value": 251
          }
        },
        "1cf2380229ef4ae0b7bb74f226b157ea": {
          "model_module": "@jupyter-widgets/controls",
          "model_name": "HTMLModel",
          "model_module_version": "1.5.0",
          "state": {
            "_dom_classes": [],
            "_model_module": "@jupyter-widgets/controls",
            "_model_module_version": "1.5.0",
            "_model_name": "HTMLModel",
            "_view_count": null,
            "_view_module": "@jupyter-widgets/controls",
            "_view_module_version": "1.5.0",
            "_view_name": "HTMLView",
            "description": "",
            "description_tooltip": null,
            "layout": "IPY_MODEL_7d10bed438544a18a0805fd9d07a2498",
            "placeholder": "​",
            "style": "IPY_MODEL_8a6d3d7a97964475a25c7ef3025a2586",
            "value": " 251/251 [00:00&lt;00:00, 18.2kB/s]"
          }
        },
        "a3fdfaeb676748e0ac9bd463fc5ee9bd": {
          "model_module": "@jupyter-widgets/base",
          "model_name": "LayoutModel",
          "model_module_version": "1.2.0",
          "state": {
            "_model_module": "@jupyter-widgets/base",
            "_model_module_version": "1.2.0",
            "_model_name": "LayoutModel",
            "_view_count": null,
            "_view_module": "@jupyter-widgets/base",
            "_view_module_version": "1.2.0",
            "_view_name": "LayoutView",
            "align_content": null,
            "align_items": null,
            "align_self": null,
            "border": null,
            "bottom": null,
            "display": null,
            "flex": null,
            "flex_flow": null,
            "grid_area": null,
            "grid_auto_columns": null,
            "grid_auto_flow": null,
            "grid_auto_rows": null,
            "grid_column": null,
            "grid_gap": null,
            "grid_row": null,
            "grid_template_areas": null,
            "grid_template_columns": null,
            "grid_template_rows": null,
            "height": null,
            "justify_content": null,
            "justify_items": null,
            "left": null,
            "margin": null,
            "max_height": null,
            "max_width": null,
            "min_height": null,
            "min_width": null,
            "object_fit": null,
            "object_position": null,
            "order": null,
            "overflow": null,
            "overflow_x": null,
            "overflow_y": null,
            "padding": null,
            "right": null,
            "top": null,
            "visibility": null,
            "width": null
          }
        },
        "0c582d452c3441c080f10413813b1869": {
          "model_module": "@jupyter-widgets/base",
          "model_name": "LayoutModel",
          "model_module_version": "1.2.0",
          "state": {
            "_model_module": "@jupyter-widgets/base",
            "_model_module_version": "1.2.0",
            "_model_name": "LayoutModel",
            "_view_count": null,
            "_view_module": "@jupyter-widgets/base",
            "_view_module_version": "1.2.0",
            "_view_name": "LayoutView",
            "align_content": null,
            "align_items": null,
            "align_self": null,
            "border": null,
            "bottom": null,
            "display": null,
            "flex": null,
            "flex_flow": null,
            "grid_area": null,
            "grid_auto_columns": null,
            "grid_auto_flow": null,
            "grid_auto_rows": null,
            "grid_column": null,
            "grid_gap": null,
            "grid_row": null,
            "grid_template_areas": null,
            "grid_template_columns": null,
            "grid_template_rows": null,
            "height": null,
            "justify_content": null,
            "justify_items": null,
            "left": null,
            "margin": null,
            "max_height": null,
            "max_width": null,
            "min_height": null,
            "min_width": null,
            "object_fit": null,
            "object_position": null,
            "order": null,
            "overflow": null,
            "overflow_x": null,
            "overflow_y": null,
            "padding": null,
            "right": null,
            "top": null,
            "visibility": null,
            "width": null
          }
        },
        "53cd817707d24c36a3926a7769fcf3d9": {
          "model_module": "@jupyter-widgets/controls",
          "model_name": "DescriptionStyleModel",
          "model_module_version": "1.5.0",
          "state": {
            "_model_module": "@jupyter-widgets/controls",
            "_model_module_version": "1.5.0",
            "_model_name": "DescriptionStyleModel",
            "_view_count": null,
            "_view_module": "@jupyter-widgets/base",
            "_view_module_version": "1.2.0",
            "_view_name": "StyleView",
            "description_width": ""
          }
        },
        "494b8eb610ec4f7aa2649a16009e59e8": {
          "model_module": "@jupyter-widgets/base",
          "model_name": "LayoutModel",
          "model_module_version": "1.2.0",
          "state": {
            "_model_module": "@jupyter-widgets/base",
            "_model_module_version": "1.2.0",
            "_model_name": "LayoutModel",
            "_view_count": null,
            "_view_module": "@jupyter-widgets/base",
            "_view_module_version": "1.2.0",
            "_view_name": "LayoutView",
            "align_content": null,
            "align_items": null,
            "align_self": null,
            "border": null,
            "bottom": null,
            "display": null,
            "flex": null,
            "flex_flow": null,
            "grid_area": null,
            "grid_auto_columns": null,
            "grid_auto_flow": null,
            "grid_auto_rows": null,
            "grid_column": null,
            "grid_gap": null,
            "grid_row": null,
            "grid_template_areas": null,
            "grid_template_columns": null,
            "grid_template_rows": null,
            "height": null,
            "justify_content": null,
            "justify_items": null,
            "left": null,
            "margin": null,
            "max_height": null,
            "max_width": null,
            "min_height": null,
            "min_width": null,
            "object_fit": null,
            "object_position": null,
            "order": null,
            "overflow": null,
            "overflow_x": null,
            "overflow_y": null,
            "padding": null,
            "right": null,
            "top": null,
            "visibility": null,
            "width": null
          }
        },
        "ab21eaab85d34882b544ae1ad7daca52": {
          "model_module": "@jupyter-widgets/controls",
          "model_name": "ProgressStyleModel",
          "model_module_version": "1.5.0",
          "state": {
            "_model_module": "@jupyter-widgets/controls",
            "_model_module_version": "1.5.0",
            "_model_name": "ProgressStyleModel",
            "_view_count": null,
            "_view_module": "@jupyter-widgets/base",
            "_view_module_version": "1.2.0",
            "_view_name": "StyleView",
            "bar_color": null,
            "description_width": ""
          }
        },
        "7d10bed438544a18a0805fd9d07a2498": {
          "model_module": "@jupyter-widgets/base",
          "model_name": "LayoutModel",
          "model_module_version": "1.2.0",
          "state": {
            "_model_module": "@jupyter-widgets/base",
            "_model_module_version": "1.2.0",
            "_model_name": "LayoutModel",
            "_view_count": null,
            "_view_module": "@jupyter-widgets/base",
            "_view_module_version": "1.2.0",
            "_view_name": "LayoutView",
            "align_content": null,
            "align_items": null,
            "align_self": null,
            "border": null,
            "bottom": null,
            "display": null,
            "flex": null,
            "flex_flow": null,
            "grid_area": null,
            "grid_auto_columns": null,
            "grid_auto_flow": null,
            "grid_auto_rows": null,
            "grid_column": null,
            "grid_gap": null,
            "grid_row": null,
            "grid_template_areas": null,
            "grid_template_columns": null,
            "grid_template_rows": null,
            "height": null,
            "justify_content": null,
            "justify_items": null,
            "left": null,
            "margin": null,
            "max_height": null,
            "max_width": null,
            "min_height": null,
            "min_width": null,
            "object_fit": null,
            "object_position": null,
            "order": null,
            "overflow": null,
            "overflow_x": null,
            "overflow_y": null,
            "padding": null,
            "right": null,
            "top": null,
            "visibility": null,
            "width": null
          }
        },
        "8a6d3d7a97964475a25c7ef3025a2586": {
          "model_module": "@jupyter-widgets/controls",
          "model_name": "DescriptionStyleModel",
          "model_module_version": "1.5.0",
          "state": {
            "_model_module": "@jupyter-widgets/controls",
            "_model_module_version": "1.5.0",
            "_model_name": "DescriptionStyleModel",
            "_view_count": null,
            "_view_module": "@jupyter-widgets/base",
            "_view_module_version": "1.2.0",
            "_view_name": "StyleView",
            "description_width": ""
          }
        },
        "77f4df6ed38d457fb9aa2de5a850295c": {
          "model_module": "@jupyter-widgets/controls",
          "model_name": "HBoxModel",
          "model_module_version": "1.5.0",
          "state": {
            "_dom_classes": [],
            "_model_module": "@jupyter-widgets/controls",
            "_model_module_version": "1.5.0",
            "_model_name": "HBoxModel",
            "_view_count": null,
            "_view_module": "@jupyter-widgets/controls",
            "_view_module_version": "1.5.0",
            "_view_name": "HBoxView",
            "box_style": "",
            "children": [
              "IPY_MODEL_7248357d03c3477c813fe8aef8283bb3",
              "IPY_MODEL_a6b12e0741de4ae88533502add6cd50e",
              "IPY_MODEL_2d7b0c63ae1d42fb801373b0bbe103dd"
            ],
            "layout": "IPY_MODEL_70eb41116d0147a8ae24c7dacc99dac8"
          }
        },
        "7248357d03c3477c813fe8aef8283bb3": {
          "model_module": "@jupyter-widgets/controls",
          "model_name": "HTMLModel",
          "model_module_version": "1.5.0",
          "state": {
            "_dom_classes": [],
            "_model_module": "@jupyter-widgets/controls",
            "_model_module_version": "1.5.0",
            "_model_name": "HTMLModel",
            "_view_count": null,
            "_view_module": "@jupyter-widgets/controls",
            "_view_module_version": "1.5.0",
            "_view_name": "HTMLView",
            "description": "",
            "description_tooltip": null,
            "layout": "IPY_MODEL_d454afc0e0a84a0080d0705adb1352b9",
            "placeholder": "​",
            "style": "IPY_MODEL_9312890539fd45d0a5ee151429ee68c9",
            "value": "vocab.txt: 100%"
          }
        },
        "a6b12e0741de4ae88533502add6cd50e": {
          "model_module": "@jupyter-widgets/controls",
          "model_name": "FloatProgressModel",
          "model_module_version": "1.5.0",
          "state": {
            "_dom_classes": [],
            "_model_module": "@jupyter-widgets/controls",
            "_model_module_version": "1.5.0",
            "_model_name": "FloatProgressModel",
            "_view_count": null,
            "_view_module": "@jupyter-widgets/controls",
            "_view_module_version": "1.5.0",
            "_view_name": "ProgressView",
            "bar_style": "success",
            "description": "",
            "description_tooltip": null,
            "layout": "IPY_MODEL_7ae79f31922f42dfa60308bc8334072f",
            "max": 231026,
            "min": 0,
            "orientation": "horizontal",
            "style": "IPY_MODEL_b3913e835095478b9f4bdf4e1f2be7ad",
            "value": 231026
          }
        },
        "2d7b0c63ae1d42fb801373b0bbe103dd": {
          "model_module": "@jupyter-widgets/controls",
          "model_name": "HTMLModel",
          "model_module_version": "1.5.0",
          "state": {
            "_dom_classes": [],
            "_model_module": "@jupyter-widgets/controls",
            "_model_module_version": "1.5.0",
            "_model_name": "HTMLModel",
            "_view_count": null,
            "_view_module": "@jupyter-widgets/controls",
            "_view_module_version": "1.5.0",
            "_view_name": "HTMLView",
            "description": "",
            "description_tooltip": null,
            "layout": "IPY_MODEL_aac553e76405406386b6c86768a5340a",
            "placeholder": "​",
            "style": "IPY_MODEL_9a7ee42a02ec4bb298a660992e3abf97",
            "value": " 231k/231k [00:00&lt;00:00, 1.69MB/s]"
          }
        },
        "70eb41116d0147a8ae24c7dacc99dac8": {
          "model_module": "@jupyter-widgets/base",
          "model_name": "LayoutModel",
          "model_module_version": "1.2.0",
          "state": {
            "_model_module": "@jupyter-widgets/base",
            "_model_module_version": "1.2.0",
            "_model_name": "LayoutModel",
            "_view_count": null,
            "_view_module": "@jupyter-widgets/base",
            "_view_module_version": "1.2.0",
            "_view_name": "LayoutView",
            "align_content": null,
            "align_items": null,
            "align_self": null,
            "border": null,
            "bottom": null,
            "display": null,
            "flex": null,
            "flex_flow": null,
            "grid_area": null,
            "grid_auto_columns": null,
            "grid_auto_flow": null,
            "grid_auto_rows": null,
            "grid_column": null,
            "grid_gap": null,
            "grid_row": null,
            "grid_template_areas": null,
            "grid_template_columns": null,
            "grid_template_rows": null,
            "height": null,
            "justify_content": null,
            "justify_items": null,
            "left": null,
            "margin": null,
            "max_height": null,
            "max_width": null,
            "min_height": null,
            "min_width": null,
            "object_fit": null,
            "object_position": null,
            "order": null,
            "overflow": null,
            "overflow_x": null,
            "overflow_y": null,
            "padding": null,
            "right": null,
            "top": null,
            "visibility": null,
            "width": null
          }
        },
        "d454afc0e0a84a0080d0705adb1352b9": {
          "model_module": "@jupyter-widgets/base",
          "model_name": "LayoutModel",
          "model_module_version": "1.2.0",
          "state": {
            "_model_module": "@jupyter-widgets/base",
            "_model_module_version": "1.2.0",
            "_model_name": "LayoutModel",
            "_view_count": null,
            "_view_module": "@jupyter-widgets/base",
            "_view_module_version": "1.2.0",
            "_view_name": "LayoutView",
            "align_content": null,
            "align_items": null,
            "align_self": null,
            "border": null,
            "bottom": null,
            "display": null,
            "flex": null,
            "flex_flow": null,
            "grid_area": null,
            "grid_auto_columns": null,
            "grid_auto_flow": null,
            "grid_auto_rows": null,
            "grid_column": null,
            "grid_gap": null,
            "grid_row": null,
            "grid_template_areas": null,
            "grid_template_columns": null,
            "grid_template_rows": null,
            "height": null,
            "justify_content": null,
            "justify_items": null,
            "left": null,
            "margin": null,
            "max_height": null,
            "max_width": null,
            "min_height": null,
            "min_width": null,
            "object_fit": null,
            "object_position": null,
            "order": null,
            "overflow": null,
            "overflow_x": null,
            "overflow_y": null,
            "padding": null,
            "right": null,
            "top": null,
            "visibility": null,
            "width": null
          }
        },
        "9312890539fd45d0a5ee151429ee68c9": {
          "model_module": "@jupyter-widgets/controls",
          "model_name": "DescriptionStyleModel",
          "model_module_version": "1.5.0",
          "state": {
            "_model_module": "@jupyter-widgets/controls",
            "_model_module_version": "1.5.0",
            "_model_name": "DescriptionStyleModel",
            "_view_count": null,
            "_view_module": "@jupyter-widgets/base",
            "_view_module_version": "1.2.0",
            "_view_name": "StyleView",
            "description_width": ""
          }
        },
        "7ae79f31922f42dfa60308bc8334072f": {
          "model_module": "@jupyter-widgets/base",
          "model_name": "LayoutModel",
          "model_module_version": "1.2.0",
          "state": {
            "_model_module": "@jupyter-widgets/base",
            "_model_module_version": "1.2.0",
            "_model_name": "LayoutModel",
            "_view_count": null,
            "_view_module": "@jupyter-widgets/base",
            "_view_module_version": "1.2.0",
            "_view_name": "LayoutView",
            "align_content": null,
            "align_items": null,
            "align_self": null,
            "border": null,
            "bottom": null,
            "display": null,
            "flex": null,
            "flex_flow": null,
            "grid_area": null,
            "grid_auto_columns": null,
            "grid_auto_flow": null,
            "grid_auto_rows": null,
            "grid_column": null,
            "grid_gap": null,
            "grid_row": null,
            "grid_template_areas": null,
            "grid_template_columns": null,
            "grid_template_rows": null,
            "height": null,
            "justify_content": null,
            "justify_items": null,
            "left": null,
            "margin": null,
            "max_height": null,
            "max_width": null,
            "min_height": null,
            "min_width": null,
            "object_fit": null,
            "object_position": null,
            "order": null,
            "overflow": null,
            "overflow_x": null,
            "overflow_y": null,
            "padding": null,
            "right": null,
            "top": null,
            "visibility": null,
            "width": null
          }
        },
        "b3913e835095478b9f4bdf4e1f2be7ad": {
          "model_module": "@jupyter-widgets/controls",
          "model_name": "ProgressStyleModel",
          "model_module_version": "1.5.0",
          "state": {
            "_model_module": "@jupyter-widgets/controls",
            "_model_module_version": "1.5.0",
            "_model_name": "ProgressStyleModel",
            "_view_count": null,
            "_view_module": "@jupyter-widgets/base",
            "_view_module_version": "1.2.0",
            "_view_name": "StyleView",
            "bar_color": null,
            "description_width": ""
          }
        },
        "aac553e76405406386b6c86768a5340a": {
          "model_module": "@jupyter-widgets/base",
          "model_name": "LayoutModel",
          "model_module_version": "1.2.0",
          "state": {
            "_model_module": "@jupyter-widgets/base",
            "_model_module_version": "1.2.0",
            "_model_name": "LayoutModel",
            "_view_count": null,
            "_view_module": "@jupyter-widgets/base",
            "_view_module_version": "1.2.0",
            "_view_name": "LayoutView",
            "align_content": null,
            "align_items": null,
            "align_self": null,
            "border": null,
            "bottom": null,
            "display": null,
            "flex": null,
            "flex_flow": null,
            "grid_area": null,
            "grid_auto_columns": null,
            "grid_auto_flow": null,
            "grid_auto_rows": null,
            "grid_column": null,
            "grid_gap": null,
            "grid_row": null,
            "grid_template_areas": null,
            "grid_template_columns": null,
            "grid_template_rows": null,
            "height": null,
            "justify_content": null,
            "justify_items": null,
            "left": null,
            "margin": null,
            "max_height": null,
            "max_width": null,
            "min_height": null,
            "min_width": null,
            "object_fit": null,
            "object_position": null,
            "order": null,
            "overflow": null,
            "overflow_x": null,
            "overflow_y": null,
            "padding": null,
            "right": null,
            "top": null,
            "visibility": null,
            "width": null
          }
        },
        "9a7ee42a02ec4bb298a660992e3abf97": {
          "model_module": "@jupyter-widgets/controls",
          "model_name": "DescriptionStyleModel",
          "model_module_version": "1.5.0",
          "state": {
            "_model_module": "@jupyter-widgets/controls",
            "_model_module_version": "1.5.0",
            "_model_name": "DescriptionStyleModel",
            "_view_count": null,
            "_view_module": "@jupyter-widgets/base",
            "_view_module_version": "1.2.0",
            "_view_name": "StyleView",
            "description_width": ""
          }
        },
        "dbac6b3317934c0f86e829981e1e80bb": {
          "model_module": "@jupyter-widgets/controls",
          "model_name": "HBoxModel",
          "model_module_version": "1.5.0",
          "state": {
            "_dom_classes": [],
            "_model_module": "@jupyter-widgets/controls",
            "_model_module_version": "1.5.0",
            "_model_name": "HBoxModel",
            "_view_count": null,
            "_view_module": "@jupyter-widgets/controls",
            "_view_module_version": "1.5.0",
            "_view_name": "HBoxView",
            "box_style": "",
            "children": [
              "IPY_MODEL_2a0251c2a0f84024b1e0932b22841f91",
              "IPY_MODEL_be7358394836458f8717387b0cdd94c0",
              "IPY_MODEL_b9123a2fc6e14246ad32f16e9cc49985"
            ],
            "layout": "IPY_MODEL_f32d41106dfa4017946788c0377c4ed4"
          }
        },
        "2a0251c2a0f84024b1e0932b22841f91": {
          "model_module": "@jupyter-widgets/controls",
          "model_name": "HTMLModel",
          "model_module_version": "1.5.0",
          "state": {
            "_dom_classes": [],
            "_model_module": "@jupyter-widgets/controls",
            "_model_module_version": "1.5.0",
            "_model_name": "HTMLModel",
            "_view_count": null,
            "_view_module": "@jupyter-widgets/controls",
            "_view_module_version": "1.5.0",
            "_view_name": "HTMLView",
            "description": "",
            "description_tooltip": null,
            "layout": "IPY_MODEL_8793df9a59d24d4e87c875c73a12cbf9",
            "placeholder": "​",
            "style": "IPY_MODEL_da350146f743416eae93d3e6ac19a31b",
            "value": "Map: 100%"
          }
        },
        "be7358394836458f8717387b0cdd94c0": {
          "model_module": "@jupyter-widgets/controls",
          "model_name": "FloatProgressModel",
          "model_module_version": "1.5.0",
          "state": {
            "_dom_classes": [],
            "_model_module": "@jupyter-widgets/controls",
            "_model_module_version": "1.5.0",
            "_model_name": "FloatProgressModel",
            "_view_count": null,
            "_view_module": "@jupyter-widgets/controls",
            "_view_module_version": "1.5.0",
            "_view_name": "ProgressView",
            "bar_style": "success",
            "description": "",
            "description_tooltip": null,
            "layout": "IPY_MODEL_c84270be9974448b82dc73ef15375239",
            "max": 3759,
            "min": 0,
            "orientation": "horizontal",
            "style": "IPY_MODEL_d668d99f7f3844a59b8da29e05bf294c",
            "value": 3759
          }
        },
        "b9123a2fc6e14246ad32f16e9cc49985": {
          "model_module": "@jupyter-widgets/controls",
          "model_name": "HTMLModel",
          "model_module_version": "1.5.0",
          "state": {
            "_dom_classes": [],
            "_model_module": "@jupyter-widgets/controls",
            "_model_module_version": "1.5.0",
            "_model_name": "HTMLModel",
            "_view_count": null,
            "_view_module": "@jupyter-widgets/controls",
            "_view_module_version": "1.5.0",
            "_view_name": "HTMLView",
            "description": "",
            "description_tooltip": null,
            "layout": "IPY_MODEL_4c8bcaffb4704d318859967692461fbe",
            "placeholder": "​",
            "style": "IPY_MODEL_0354f2388a854667a7167ee9a0632e58",
            "value": " 3759/3759 [00:01&lt;00:00, 1922.07 examples/s]"
          }
        },
        "f32d41106dfa4017946788c0377c4ed4": {
          "model_module": "@jupyter-widgets/base",
          "model_name": "LayoutModel",
          "model_module_version": "1.2.0",
          "state": {
            "_model_module": "@jupyter-widgets/base",
            "_model_module_version": "1.2.0",
            "_model_name": "LayoutModel",
            "_view_count": null,
            "_view_module": "@jupyter-widgets/base",
            "_view_module_version": "1.2.0",
            "_view_name": "LayoutView",
            "align_content": null,
            "align_items": null,
            "align_self": null,
            "border": null,
            "bottom": null,
            "display": null,
            "flex": null,
            "flex_flow": null,
            "grid_area": null,
            "grid_auto_columns": null,
            "grid_auto_flow": null,
            "grid_auto_rows": null,
            "grid_column": null,
            "grid_gap": null,
            "grid_row": null,
            "grid_template_areas": null,
            "grid_template_columns": null,
            "grid_template_rows": null,
            "height": null,
            "justify_content": null,
            "justify_items": null,
            "left": null,
            "margin": null,
            "max_height": null,
            "max_width": null,
            "min_height": null,
            "min_width": null,
            "object_fit": null,
            "object_position": null,
            "order": null,
            "overflow": null,
            "overflow_x": null,
            "overflow_y": null,
            "padding": null,
            "right": null,
            "top": null,
            "visibility": null,
            "width": null
          }
        },
        "8793df9a59d24d4e87c875c73a12cbf9": {
          "model_module": "@jupyter-widgets/base",
          "model_name": "LayoutModel",
          "model_module_version": "1.2.0",
          "state": {
            "_model_module": "@jupyter-widgets/base",
            "_model_module_version": "1.2.0",
            "_model_name": "LayoutModel",
            "_view_count": null,
            "_view_module": "@jupyter-widgets/base",
            "_view_module_version": "1.2.0",
            "_view_name": "LayoutView",
            "align_content": null,
            "align_items": null,
            "align_self": null,
            "border": null,
            "bottom": null,
            "display": null,
            "flex": null,
            "flex_flow": null,
            "grid_area": null,
            "grid_auto_columns": null,
            "grid_auto_flow": null,
            "grid_auto_rows": null,
            "grid_column": null,
            "grid_gap": null,
            "grid_row": null,
            "grid_template_areas": null,
            "grid_template_columns": null,
            "grid_template_rows": null,
            "height": null,
            "justify_content": null,
            "justify_items": null,
            "left": null,
            "margin": null,
            "max_height": null,
            "max_width": null,
            "min_height": null,
            "min_width": null,
            "object_fit": null,
            "object_position": null,
            "order": null,
            "overflow": null,
            "overflow_x": null,
            "overflow_y": null,
            "padding": null,
            "right": null,
            "top": null,
            "visibility": null,
            "width": null
          }
        },
        "da350146f743416eae93d3e6ac19a31b": {
          "model_module": "@jupyter-widgets/controls",
          "model_name": "DescriptionStyleModel",
          "model_module_version": "1.5.0",
          "state": {
            "_model_module": "@jupyter-widgets/controls",
            "_model_module_version": "1.5.0",
            "_model_name": "DescriptionStyleModel",
            "_view_count": null,
            "_view_module": "@jupyter-widgets/base",
            "_view_module_version": "1.2.0",
            "_view_name": "StyleView",
            "description_width": ""
          }
        },
        "c84270be9974448b82dc73ef15375239": {
          "model_module": "@jupyter-widgets/base",
          "model_name": "LayoutModel",
          "model_module_version": "1.2.0",
          "state": {
            "_model_module": "@jupyter-widgets/base",
            "_model_module_version": "1.2.0",
            "_model_name": "LayoutModel",
            "_view_count": null,
            "_view_module": "@jupyter-widgets/base",
            "_view_module_version": "1.2.0",
            "_view_name": "LayoutView",
            "align_content": null,
            "align_items": null,
            "align_self": null,
            "border": null,
            "bottom": null,
            "display": null,
            "flex": null,
            "flex_flow": null,
            "grid_area": null,
            "grid_auto_columns": null,
            "grid_auto_flow": null,
            "grid_auto_rows": null,
            "grid_column": null,
            "grid_gap": null,
            "grid_row": null,
            "grid_template_areas": null,
            "grid_template_columns": null,
            "grid_template_rows": null,
            "height": null,
            "justify_content": null,
            "justify_items": null,
            "left": null,
            "margin": null,
            "max_height": null,
            "max_width": null,
            "min_height": null,
            "min_width": null,
            "object_fit": null,
            "object_position": null,
            "order": null,
            "overflow": null,
            "overflow_x": null,
            "overflow_y": null,
            "padding": null,
            "right": null,
            "top": null,
            "visibility": null,
            "width": null
          }
        },
        "d668d99f7f3844a59b8da29e05bf294c": {
          "model_module": "@jupyter-widgets/controls",
          "model_name": "ProgressStyleModel",
          "model_module_version": "1.5.0",
          "state": {
            "_model_module": "@jupyter-widgets/controls",
            "_model_module_version": "1.5.0",
            "_model_name": "ProgressStyleModel",
            "_view_count": null,
            "_view_module": "@jupyter-widgets/base",
            "_view_module_version": "1.2.0",
            "_view_name": "StyleView",
            "bar_color": null,
            "description_width": ""
          }
        },
        "4c8bcaffb4704d318859967692461fbe": {
          "model_module": "@jupyter-widgets/base",
          "model_name": "LayoutModel",
          "model_module_version": "1.2.0",
          "state": {
            "_model_module": "@jupyter-widgets/base",
            "_model_module_version": "1.2.0",
            "_model_name": "LayoutModel",
            "_view_count": null,
            "_view_module": "@jupyter-widgets/base",
            "_view_module_version": "1.2.0",
            "_view_name": "LayoutView",
            "align_content": null,
            "align_items": null,
            "align_self": null,
            "border": null,
            "bottom": null,
            "display": null,
            "flex": null,
            "flex_flow": null,
            "grid_area": null,
            "grid_auto_columns": null,
            "grid_auto_flow": null,
            "grid_auto_rows": null,
            "grid_column": null,
            "grid_gap": null,
            "grid_row": null,
            "grid_template_areas": null,
            "grid_template_columns": null,
            "grid_template_rows": null,
            "height": null,
            "justify_content": null,
            "justify_items": null,
            "left": null,
            "margin": null,
            "max_height": null,
            "max_width": null,
            "min_height": null,
            "min_width": null,
            "object_fit": null,
            "object_position": null,
            "order": null,
            "overflow": null,
            "overflow_x": null,
            "overflow_y": null,
            "padding": null,
            "right": null,
            "top": null,
            "visibility": null,
            "width": null
          }
        },
        "0354f2388a854667a7167ee9a0632e58": {
          "model_module": "@jupyter-widgets/controls",
          "model_name": "DescriptionStyleModel",
          "model_module_version": "1.5.0",
          "state": {
            "_model_module": "@jupyter-widgets/controls",
            "_model_module_version": "1.5.0",
            "_model_name": "DescriptionStyleModel",
            "_view_count": null,
            "_view_module": "@jupyter-widgets/base",
            "_view_module_version": "1.2.0",
            "_view_name": "StyleView",
            "description_width": ""
          }
        },
        "7f7ff2d96465476e98188eec26caa608": {
          "model_module": "@jupyter-widgets/controls",
          "model_name": "HBoxModel",
          "model_module_version": "1.5.0",
          "state": {
            "_dom_classes": [],
            "_model_module": "@jupyter-widgets/controls",
            "_model_module_version": "1.5.0",
            "_model_name": "HBoxModel",
            "_view_count": null,
            "_view_module": "@jupyter-widgets/controls",
            "_view_module_version": "1.5.0",
            "_view_name": "HBoxView",
            "box_style": "",
            "children": [
              "IPY_MODEL_eec46f62fa714bdcb708c87db8861a73",
              "IPY_MODEL_285a7886383b444db397931742ba6e45",
              "IPY_MODEL_d3a40881d5ec4f68bae1ae2ad1084202"
            ],
            "layout": "IPY_MODEL_6fc99ca2c69f487d96233d2df62f64e0"
          }
        },
        "eec46f62fa714bdcb708c87db8861a73": {
          "model_module": "@jupyter-widgets/controls",
          "model_name": "HTMLModel",
          "model_module_version": "1.5.0",
          "state": {
            "_dom_classes": [],
            "_model_module": "@jupyter-widgets/controls",
            "_model_module_version": "1.5.0",
            "_model_name": "HTMLModel",
            "_view_count": null,
            "_view_module": "@jupyter-widgets/controls",
            "_view_module_version": "1.5.0",
            "_view_name": "HTMLView",
            "description": "",
            "description_tooltip": null,
            "layout": "IPY_MODEL_d81516823242442cbca7a18cd5be90bc",
            "placeholder": "​",
            "style": "IPY_MODEL_511be256c61643b2aa16e371e5bb84c9",
            "value": "Map: 100%"
          }
        },
        "285a7886383b444db397931742ba6e45": {
          "model_module": "@jupyter-widgets/controls",
          "model_name": "FloatProgressModel",
          "model_module_version": "1.5.0",
          "state": {
            "_dom_classes": [],
            "_model_module": "@jupyter-widgets/controls",
            "_model_module_version": "1.5.0",
            "_model_name": "FloatProgressModel",
            "_view_count": null,
            "_view_module": "@jupyter-widgets/controls",
            "_view_module_version": "1.5.0",
            "_view_name": "ProgressView",
            "bar_style": "success",
            "description": "",
            "description_tooltip": null,
            "layout": "IPY_MODEL_286807e414aa4f509f95c4299fb824ca",
            "max": 897,
            "min": 0,
            "orientation": "horizontal",
            "style": "IPY_MODEL_26f3556394a54242b1b439cfffd25961",
            "value": 897
          }
        },
        "d3a40881d5ec4f68bae1ae2ad1084202": {
          "model_module": "@jupyter-widgets/controls",
          "model_name": "HTMLModel",
          "model_module_version": "1.5.0",
          "state": {
            "_dom_classes": [],
            "_model_module": "@jupyter-widgets/controls",
            "_model_module_version": "1.5.0",
            "_model_name": "HTMLModel",
            "_view_count": null,
            "_view_module": "@jupyter-widgets/controls",
            "_view_module_version": "1.5.0",
            "_view_name": "HTMLView",
            "description": "",
            "description_tooltip": null,
            "layout": "IPY_MODEL_165277c66e0042a48d15f4a3a21afe79",
            "placeholder": "​",
            "style": "IPY_MODEL_e37cec1ca87844da8902b2fd4f2ee1f1",
            "value": " 897/897 [00:00&lt;00:00, 1991.58 examples/s]"
          }
        },
        "6fc99ca2c69f487d96233d2df62f64e0": {
          "model_module": "@jupyter-widgets/base",
          "model_name": "LayoutModel",
          "model_module_version": "1.2.0",
          "state": {
            "_model_module": "@jupyter-widgets/base",
            "_model_module_version": "1.2.0",
            "_model_name": "LayoutModel",
            "_view_count": null,
            "_view_module": "@jupyter-widgets/base",
            "_view_module_version": "1.2.0",
            "_view_name": "LayoutView",
            "align_content": null,
            "align_items": null,
            "align_self": null,
            "border": null,
            "bottom": null,
            "display": null,
            "flex": null,
            "flex_flow": null,
            "grid_area": null,
            "grid_auto_columns": null,
            "grid_auto_flow": null,
            "grid_auto_rows": null,
            "grid_column": null,
            "grid_gap": null,
            "grid_row": null,
            "grid_template_areas": null,
            "grid_template_columns": null,
            "grid_template_rows": null,
            "height": null,
            "justify_content": null,
            "justify_items": null,
            "left": null,
            "margin": null,
            "max_height": null,
            "max_width": null,
            "min_height": null,
            "min_width": null,
            "object_fit": null,
            "object_position": null,
            "order": null,
            "overflow": null,
            "overflow_x": null,
            "overflow_y": null,
            "padding": null,
            "right": null,
            "top": null,
            "visibility": null,
            "width": null
          }
        },
        "d81516823242442cbca7a18cd5be90bc": {
          "model_module": "@jupyter-widgets/base",
          "model_name": "LayoutModel",
          "model_module_version": "1.2.0",
          "state": {
            "_model_module": "@jupyter-widgets/base",
            "_model_module_version": "1.2.0",
            "_model_name": "LayoutModel",
            "_view_count": null,
            "_view_module": "@jupyter-widgets/base",
            "_view_module_version": "1.2.0",
            "_view_name": "LayoutView",
            "align_content": null,
            "align_items": null,
            "align_self": null,
            "border": null,
            "bottom": null,
            "display": null,
            "flex": null,
            "flex_flow": null,
            "grid_area": null,
            "grid_auto_columns": null,
            "grid_auto_flow": null,
            "grid_auto_rows": null,
            "grid_column": null,
            "grid_gap": null,
            "grid_row": null,
            "grid_template_areas": null,
            "grid_template_columns": null,
            "grid_template_rows": null,
            "height": null,
            "justify_content": null,
            "justify_items": null,
            "left": null,
            "margin": null,
            "max_height": null,
            "max_width": null,
            "min_height": null,
            "min_width": null,
            "object_fit": null,
            "object_position": null,
            "order": null,
            "overflow": null,
            "overflow_x": null,
            "overflow_y": null,
            "padding": null,
            "right": null,
            "top": null,
            "visibility": null,
            "width": null
          }
        },
        "511be256c61643b2aa16e371e5bb84c9": {
          "model_module": "@jupyter-widgets/controls",
          "model_name": "DescriptionStyleModel",
          "model_module_version": "1.5.0",
          "state": {
            "_model_module": "@jupyter-widgets/controls",
            "_model_module_version": "1.5.0",
            "_model_name": "DescriptionStyleModel",
            "_view_count": null,
            "_view_module": "@jupyter-widgets/base",
            "_view_module_version": "1.2.0",
            "_view_name": "StyleView",
            "description_width": ""
          }
        },
        "286807e414aa4f509f95c4299fb824ca": {
          "model_module": "@jupyter-widgets/base",
          "model_name": "LayoutModel",
          "model_module_version": "1.2.0",
          "state": {
            "_model_module": "@jupyter-widgets/base",
            "_model_module_version": "1.2.0",
            "_model_name": "LayoutModel",
            "_view_count": null,
            "_view_module": "@jupyter-widgets/base",
            "_view_module_version": "1.2.0",
            "_view_name": "LayoutView",
            "align_content": null,
            "align_items": null,
            "align_self": null,
            "border": null,
            "bottom": null,
            "display": null,
            "flex": null,
            "flex_flow": null,
            "grid_area": null,
            "grid_auto_columns": null,
            "grid_auto_flow": null,
            "grid_auto_rows": null,
            "grid_column": null,
            "grid_gap": null,
            "grid_row": null,
            "grid_template_areas": null,
            "grid_template_columns": null,
            "grid_template_rows": null,
            "height": null,
            "justify_content": null,
            "justify_items": null,
            "left": null,
            "margin": null,
            "max_height": null,
            "max_width": null,
            "min_height": null,
            "min_width": null,
            "object_fit": null,
            "object_position": null,
            "order": null,
            "overflow": null,
            "overflow_x": null,
            "overflow_y": null,
            "padding": null,
            "right": null,
            "top": null,
            "visibility": null,
            "width": null
          }
        },
        "26f3556394a54242b1b439cfffd25961": {
          "model_module": "@jupyter-widgets/controls",
          "model_name": "ProgressStyleModel",
          "model_module_version": "1.5.0",
          "state": {
            "_model_module": "@jupyter-widgets/controls",
            "_model_module_version": "1.5.0",
            "_model_name": "ProgressStyleModel",
            "_view_count": null,
            "_view_module": "@jupyter-widgets/base",
            "_view_module_version": "1.2.0",
            "_view_name": "StyleView",
            "bar_color": null,
            "description_width": ""
          }
        },
        "165277c66e0042a48d15f4a3a21afe79": {
          "model_module": "@jupyter-widgets/base",
          "model_name": "LayoutModel",
          "model_module_version": "1.2.0",
          "state": {
            "_model_module": "@jupyter-widgets/base",
            "_model_module_version": "1.2.0",
            "_model_name": "LayoutModel",
            "_view_count": null,
            "_view_module": "@jupyter-widgets/base",
            "_view_module_version": "1.2.0",
            "_view_name": "LayoutView",
            "align_content": null,
            "align_items": null,
            "align_self": null,
            "border": null,
            "bottom": null,
            "display": null,
            "flex": null,
            "flex_flow": null,
            "grid_area": null,
            "grid_auto_columns": null,
            "grid_auto_flow": null,
            "grid_auto_rows": null,
            "grid_column": null,
            "grid_gap": null,
            "grid_row": null,
            "grid_template_areas": null,
            "grid_template_columns": null,
            "grid_template_rows": null,
            "height": null,
            "justify_content": null,
            "justify_items": null,
            "left": null,
            "margin": null,
            "max_height": null,
            "max_width": null,
            "min_height": null,
            "min_width": null,
            "object_fit": null,
            "object_position": null,
            "order": null,
            "overflow": null,
            "overflow_x": null,
            "overflow_y": null,
            "padding": null,
            "right": null,
            "top": null,
            "visibility": null,
            "width": null
          }
        },
        "e37cec1ca87844da8902b2fd4f2ee1f1": {
          "model_module": "@jupyter-widgets/controls",
          "model_name": "DescriptionStyleModel",
          "model_module_version": "1.5.0",
          "state": {
            "_model_module": "@jupyter-widgets/controls",
            "_model_module_version": "1.5.0",
            "_model_name": "DescriptionStyleModel",
            "_view_count": null,
            "_view_module": "@jupyter-widgets/base",
            "_view_module_version": "1.2.0",
            "_view_name": "StyleView",
            "description_width": ""
          }
        },
        "76d4fe470a2242dfb37bfd7dfaae25ac": {
          "model_module": "@jupyter-widgets/controls",
          "model_name": "HBoxModel",
          "model_module_version": "1.5.0",
          "state": {
            "_dom_classes": [],
            "_model_module": "@jupyter-widgets/controls",
            "_model_module_version": "1.5.0",
            "_model_name": "HBoxModel",
            "_view_count": null,
            "_view_module": "@jupyter-widgets/controls",
            "_view_module_version": "1.5.0",
            "_view_name": "HBoxView",
            "box_style": "",
            "children": [
              "IPY_MODEL_a7fbdd3106e748e5885781b0c2a4bc2b",
              "IPY_MODEL_ab63d1a3df9d4348bb33bf745a3c9b8c",
              "IPY_MODEL_20bb869fa348496599b73563e282a768"
            ],
            "layout": "IPY_MODEL_4f94ef7ca98645fea7faa068b26cc1df"
          }
        },
        "a7fbdd3106e748e5885781b0c2a4bc2b": {
          "model_module": "@jupyter-widgets/controls",
          "model_name": "HTMLModel",
          "model_module_version": "1.5.0",
          "state": {
            "_dom_classes": [],
            "_model_module": "@jupyter-widgets/controls",
            "_model_module_version": "1.5.0",
            "_model_name": "HTMLModel",
            "_view_count": null,
            "_view_module": "@jupyter-widgets/controls",
            "_view_module_version": "1.5.0",
            "_view_name": "HTMLView",
            "description": "",
            "description_tooltip": null,
            "layout": "IPY_MODEL_a03fc7331a51474fb2405423f414ddbc",
            "placeholder": "​",
            "style": "IPY_MODEL_eadd27f37ffe4fe7bdf28d21beaa44cd",
            "value": "Map: 100%"
          }
        },
        "ab63d1a3df9d4348bb33bf745a3c9b8c": {
          "model_module": "@jupyter-widgets/controls",
          "model_name": "FloatProgressModel",
          "model_module_version": "1.5.0",
          "state": {
            "_dom_classes": [],
            "_model_module": "@jupyter-widgets/controls",
            "_model_module_version": "1.5.0",
            "_model_name": "FloatProgressModel",
            "_view_count": null,
            "_view_module": "@jupyter-widgets/controls",
            "_view_module_version": "1.5.0",
            "_view_name": "ProgressView",
            "bar_style": "success",
            "description": "",
            "description_tooltip": null,
            "layout": "IPY_MODEL_d5478efddc374c1aaabe1dc15eb57f0f",
            "max": 600,
            "min": 0,
            "orientation": "horizontal",
            "style": "IPY_MODEL_7c0e7446754c40be9613968cb8e29758",
            "value": 600
          }
        },
        "20bb869fa348496599b73563e282a768": {
          "model_module": "@jupyter-widgets/controls",
          "model_name": "HTMLModel",
          "model_module_version": "1.5.0",
          "state": {
            "_dom_classes": [],
            "_model_module": "@jupyter-widgets/controls",
            "_model_module_version": "1.5.0",
            "_model_name": "HTMLModel",
            "_view_count": null,
            "_view_module": "@jupyter-widgets/controls",
            "_view_module_version": "1.5.0",
            "_view_name": "HTMLView",
            "description": "",
            "description_tooltip": null,
            "layout": "IPY_MODEL_1cc248ec181f488abb8c306d4006141e",
            "placeholder": "​",
            "style": "IPY_MODEL_20cc9b4d9e5647748f8c7560fce6b963",
            "value": " 600/600 [00:00&lt;00:00, 1260.40 examples/s]"
          }
        },
        "4f94ef7ca98645fea7faa068b26cc1df": {
          "model_module": "@jupyter-widgets/base",
          "model_name": "LayoutModel",
          "model_module_version": "1.2.0",
          "state": {
            "_model_module": "@jupyter-widgets/base",
            "_model_module_version": "1.2.0",
            "_model_name": "LayoutModel",
            "_view_count": null,
            "_view_module": "@jupyter-widgets/base",
            "_view_module_version": "1.2.0",
            "_view_name": "LayoutView",
            "align_content": null,
            "align_items": null,
            "align_self": null,
            "border": null,
            "bottom": null,
            "display": null,
            "flex": null,
            "flex_flow": null,
            "grid_area": null,
            "grid_auto_columns": null,
            "grid_auto_flow": null,
            "grid_auto_rows": null,
            "grid_column": null,
            "grid_gap": null,
            "grid_row": null,
            "grid_template_areas": null,
            "grid_template_columns": null,
            "grid_template_rows": null,
            "height": null,
            "justify_content": null,
            "justify_items": null,
            "left": null,
            "margin": null,
            "max_height": null,
            "max_width": null,
            "min_height": null,
            "min_width": null,
            "object_fit": null,
            "object_position": null,
            "order": null,
            "overflow": null,
            "overflow_x": null,
            "overflow_y": null,
            "padding": null,
            "right": null,
            "top": null,
            "visibility": null,
            "width": null
          }
        },
        "a03fc7331a51474fb2405423f414ddbc": {
          "model_module": "@jupyter-widgets/base",
          "model_name": "LayoutModel",
          "model_module_version": "1.2.0",
          "state": {
            "_model_module": "@jupyter-widgets/base",
            "_model_module_version": "1.2.0",
            "_model_name": "LayoutModel",
            "_view_count": null,
            "_view_module": "@jupyter-widgets/base",
            "_view_module_version": "1.2.0",
            "_view_name": "LayoutView",
            "align_content": null,
            "align_items": null,
            "align_self": null,
            "border": null,
            "bottom": null,
            "display": null,
            "flex": null,
            "flex_flow": null,
            "grid_area": null,
            "grid_auto_columns": null,
            "grid_auto_flow": null,
            "grid_auto_rows": null,
            "grid_column": null,
            "grid_gap": null,
            "grid_row": null,
            "grid_template_areas": null,
            "grid_template_columns": null,
            "grid_template_rows": null,
            "height": null,
            "justify_content": null,
            "justify_items": null,
            "left": null,
            "margin": null,
            "max_height": null,
            "max_width": null,
            "min_height": null,
            "min_width": null,
            "object_fit": null,
            "object_position": null,
            "order": null,
            "overflow": null,
            "overflow_x": null,
            "overflow_y": null,
            "padding": null,
            "right": null,
            "top": null,
            "visibility": null,
            "width": null
          }
        },
        "eadd27f37ffe4fe7bdf28d21beaa44cd": {
          "model_module": "@jupyter-widgets/controls",
          "model_name": "DescriptionStyleModel",
          "model_module_version": "1.5.0",
          "state": {
            "_model_module": "@jupyter-widgets/controls",
            "_model_module_version": "1.5.0",
            "_model_name": "DescriptionStyleModel",
            "_view_count": null,
            "_view_module": "@jupyter-widgets/base",
            "_view_module_version": "1.2.0",
            "_view_name": "StyleView",
            "description_width": ""
          }
        },
        "d5478efddc374c1aaabe1dc15eb57f0f": {
          "model_module": "@jupyter-widgets/base",
          "model_name": "LayoutModel",
          "model_module_version": "1.2.0",
          "state": {
            "_model_module": "@jupyter-widgets/base",
            "_model_module_version": "1.2.0",
            "_model_name": "LayoutModel",
            "_view_count": null,
            "_view_module": "@jupyter-widgets/base",
            "_view_module_version": "1.2.0",
            "_view_name": "LayoutView",
            "align_content": null,
            "align_items": null,
            "align_self": null,
            "border": null,
            "bottom": null,
            "display": null,
            "flex": null,
            "flex_flow": null,
            "grid_area": null,
            "grid_auto_columns": null,
            "grid_auto_flow": null,
            "grid_auto_rows": null,
            "grid_column": null,
            "grid_gap": null,
            "grid_row": null,
            "grid_template_areas": null,
            "grid_template_columns": null,
            "grid_template_rows": null,
            "height": null,
            "justify_content": null,
            "justify_items": null,
            "left": null,
            "margin": null,
            "max_height": null,
            "max_width": null,
            "min_height": null,
            "min_width": null,
            "object_fit": null,
            "object_position": null,
            "order": null,
            "overflow": null,
            "overflow_x": null,
            "overflow_y": null,
            "padding": null,
            "right": null,
            "top": null,
            "visibility": null,
            "width": null
          }
        },
        "7c0e7446754c40be9613968cb8e29758": {
          "model_module": "@jupyter-widgets/controls",
          "model_name": "ProgressStyleModel",
          "model_module_version": "1.5.0",
          "state": {
            "_model_module": "@jupyter-widgets/controls",
            "_model_module_version": "1.5.0",
            "_model_name": "ProgressStyleModel",
            "_view_count": null,
            "_view_module": "@jupyter-widgets/base",
            "_view_module_version": "1.2.0",
            "_view_name": "StyleView",
            "bar_color": null,
            "description_width": ""
          }
        },
        "1cc248ec181f488abb8c306d4006141e": {
          "model_module": "@jupyter-widgets/base",
          "model_name": "LayoutModel",
          "model_module_version": "1.2.0",
          "state": {
            "_model_module": "@jupyter-widgets/base",
            "_model_module_version": "1.2.0",
            "_model_name": "LayoutModel",
            "_view_count": null,
            "_view_module": "@jupyter-widgets/base",
            "_view_module_version": "1.2.0",
            "_view_name": "LayoutView",
            "align_content": null,
            "align_items": null,
            "align_self": null,
            "border": null,
            "bottom": null,
            "display": null,
            "flex": null,
            "flex_flow": null,
            "grid_area": null,
            "grid_auto_columns": null,
            "grid_auto_flow": null,
            "grid_auto_rows": null,
            "grid_column": null,
            "grid_gap": null,
            "grid_row": null,
            "grid_template_areas": null,
            "grid_template_columns": null,
            "grid_template_rows": null,
            "height": null,
            "justify_content": null,
            "justify_items": null,
            "left": null,
            "margin": null,
            "max_height": null,
            "max_width": null,
            "min_height": null,
            "min_width": null,
            "object_fit": null,
            "object_position": null,
            "order": null,
            "overflow": null,
            "overflow_x": null,
            "overflow_y": null,
            "padding": null,
            "right": null,
            "top": null,
            "visibility": null,
            "width": null
          }
        },
        "20cc9b4d9e5647748f8c7560fce6b963": {
          "model_module": "@jupyter-widgets/controls",
          "model_name": "DescriptionStyleModel",
          "model_module_version": "1.5.0",
          "state": {
            "_model_module": "@jupyter-widgets/controls",
            "_model_module_version": "1.5.0",
            "_model_name": "DescriptionStyleModel",
            "_view_count": null,
            "_view_module": "@jupyter-widgets/base",
            "_view_module_version": "1.2.0",
            "_view_name": "StyleView",
            "description_width": ""
          }
        },
        "d891ddb860dd4b6682eb91e877f3ac82": {
          "model_module": "@jupyter-widgets/controls",
          "model_name": "HBoxModel",
          "model_module_version": "1.5.0",
          "state": {
            "_dom_classes": [],
            "_model_module": "@jupyter-widgets/controls",
            "_model_module_version": "1.5.0",
            "_model_name": "HBoxModel",
            "_view_count": null,
            "_view_module": "@jupyter-widgets/controls",
            "_view_module_version": "1.5.0",
            "_view_name": "HBoxView",
            "box_style": "",
            "children": [
              "IPY_MODEL_eb61fa2a37754c009146916b2cc367a3",
              "IPY_MODEL_6d1d8ae54c7f4e55bf3f1b2d32ee5b82",
              "IPY_MODEL_dc51618b64aa4c908226db8609bf8eab"
            ],
            "layout": "IPY_MODEL_1d69d3e1e58a433496d7ff4add4f87e2"
          }
        },
        "eb61fa2a37754c009146916b2cc367a3": {
          "model_module": "@jupyter-widgets/controls",
          "model_name": "HTMLModel",
          "model_module_version": "1.5.0",
          "state": {
            "_dom_classes": [],
            "_model_module": "@jupyter-widgets/controls",
            "_model_module_version": "1.5.0",
            "_model_name": "HTMLModel",
            "_view_count": null,
            "_view_module": "@jupyter-widgets/controls",
            "_view_module_version": "1.5.0",
            "_view_name": "HTMLView",
            "description": "",
            "description_tooltip": null,
            "layout": "IPY_MODEL_0ed3d7f49bb342c1aab05580d407a3d6",
            "placeholder": "​",
            "style": "IPY_MODEL_c90bca3289434f34b06a845806d7070d",
            "value": "Downloading builder script: 100%"
          }
        },
        "6d1d8ae54c7f4e55bf3f1b2d32ee5b82": {
          "model_module": "@jupyter-widgets/controls",
          "model_name": "FloatProgressModel",
          "model_module_version": "1.5.0",
          "state": {
            "_dom_classes": [],
            "_model_module": "@jupyter-widgets/controls",
            "_model_module_version": "1.5.0",
            "_model_name": "FloatProgressModel",
            "_view_count": null,
            "_view_module": "@jupyter-widgets/controls",
            "_view_module_version": "1.5.0",
            "_view_name": "ProgressView",
            "bar_style": "success",
            "description": "",
            "description_tooltip": null,
            "layout": "IPY_MODEL_7bda1580452641579de35bcfc66d41db",
            "max": 6771,
            "min": 0,
            "orientation": "horizontal",
            "style": "IPY_MODEL_4ae1c1244e5344f1bb9244533ce31dac",
            "value": 6771
          }
        },
        "dc51618b64aa4c908226db8609bf8eab": {
          "model_module": "@jupyter-widgets/controls",
          "model_name": "HTMLModel",
          "model_module_version": "1.5.0",
          "state": {
            "_dom_classes": [],
            "_model_module": "@jupyter-widgets/controls",
            "_model_module_version": "1.5.0",
            "_model_name": "HTMLModel",
            "_view_count": null,
            "_view_module": "@jupyter-widgets/controls",
            "_view_module_version": "1.5.0",
            "_view_name": "HTMLView",
            "description": "",
            "description_tooltip": null,
            "layout": "IPY_MODEL_53445e218bcf4fdbb606d0daad7a70fc",
            "placeholder": "​",
            "style": "IPY_MODEL_917cb5a77a0a45d69f1cdd09d8b30839",
            "value": " 6.77k/6.77k [00:00&lt;00:00, 424kB/s]"
          }
        },
        "1d69d3e1e58a433496d7ff4add4f87e2": {
          "model_module": "@jupyter-widgets/base",
          "model_name": "LayoutModel",
          "model_module_version": "1.2.0",
          "state": {
            "_model_module": "@jupyter-widgets/base",
            "_model_module_version": "1.2.0",
            "_model_name": "LayoutModel",
            "_view_count": null,
            "_view_module": "@jupyter-widgets/base",
            "_view_module_version": "1.2.0",
            "_view_name": "LayoutView",
            "align_content": null,
            "align_items": null,
            "align_self": null,
            "border": null,
            "bottom": null,
            "display": null,
            "flex": null,
            "flex_flow": null,
            "grid_area": null,
            "grid_auto_columns": null,
            "grid_auto_flow": null,
            "grid_auto_rows": null,
            "grid_column": null,
            "grid_gap": null,
            "grid_row": null,
            "grid_template_areas": null,
            "grid_template_columns": null,
            "grid_template_rows": null,
            "height": null,
            "justify_content": null,
            "justify_items": null,
            "left": null,
            "margin": null,
            "max_height": null,
            "max_width": null,
            "min_height": null,
            "min_width": null,
            "object_fit": null,
            "object_position": null,
            "order": null,
            "overflow": null,
            "overflow_x": null,
            "overflow_y": null,
            "padding": null,
            "right": null,
            "top": null,
            "visibility": null,
            "width": null
          }
        },
        "0ed3d7f49bb342c1aab05580d407a3d6": {
          "model_module": "@jupyter-widgets/base",
          "model_name": "LayoutModel",
          "model_module_version": "1.2.0",
          "state": {
            "_model_module": "@jupyter-widgets/base",
            "_model_module_version": "1.2.0",
            "_model_name": "LayoutModel",
            "_view_count": null,
            "_view_module": "@jupyter-widgets/base",
            "_view_module_version": "1.2.0",
            "_view_name": "LayoutView",
            "align_content": null,
            "align_items": null,
            "align_self": null,
            "border": null,
            "bottom": null,
            "display": null,
            "flex": null,
            "flex_flow": null,
            "grid_area": null,
            "grid_auto_columns": null,
            "grid_auto_flow": null,
            "grid_auto_rows": null,
            "grid_column": null,
            "grid_gap": null,
            "grid_row": null,
            "grid_template_areas": null,
            "grid_template_columns": null,
            "grid_template_rows": null,
            "height": null,
            "justify_content": null,
            "justify_items": null,
            "left": null,
            "margin": null,
            "max_height": null,
            "max_width": null,
            "min_height": null,
            "min_width": null,
            "object_fit": null,
            "object_position": null,
            "order": null,
            "overflow": null,
            "overflow_x": null,
            "overflow_y": null,
            "padding": null,
            "right": null,
            "top": null,
            "visibility": null,
            "width": null
          }
        },
        "c90bca3289434f34b06a845806d7070d": {
          "model_module": "@jupyter-widgets/controls",
          "model_name": "DescriptionStyleModel",
          "model_module_version": "1.5.0",
          "state": {
            "_model_module": "@jupyter-widgets/controls",
            "_model_module_version": "1.5.0",
            "_model_name": "DescriptionStyleModel",
            "_view_count": null,
            "_view_module": "@jupyter-widgets/base",
            "_view_module_version": "1.2.0",
            "_view_name": "StyleView",
            "description_width": ""
          }
        },
        "7bda1580452641579de35bcfc66d41db": {
          "model_module": "@jupyter-widgets/base",
          "model_name": "LayoutModel",
          "model_module_version": "1.2.0",
          "state": {
            "_model_module": "@jupyter-widgets/base",
            "_model_module_version": "1.2.0",
            "_model_name": "LayoutModel",
            "_view_count": null,
            "_view_module": "@jupyter-widgets/base",
            "_view_module_version": "1.2.0",
            "_view_name": "LayoutView",
            "align_content": null,
            "align_items": null,
            "align_self": null,
            "border": null,
            "bottom": null,
            "display": null,
            "flex": null,
            "flex_flow": null,
            "grid_area": null,
            "grid_auto_columns": null,
            "grid_auto_flow": null,
            "grid_auto_rows": null,
            "grid_column": null,
            "grid_gap": null,
            "grid_row": null,
            "grid_template_areas": null,
            "grid_template_columns": null,
            "grid_template_rows": null,
            "height": null,
            "justify_content": null,
            "justify_items": null,
            "left": null,
            "margin": null,
            "max_height": null,
            "max_width": null,
            "min_height": null,
            "min_width": null,
            "object_fit": null,
            "object_position": null,
            "order": null,
            "overflow": null,
            "overflow_x": null,
            "overflow_y": null,
            "padding": null,
            "right": null,
            "top": null,
            "visibility": null,
            "width": null
          }
        },
        "4ae1c1244e5344f1bb9244533ce31dac": {
          "model_module": "@jupyter-widgets/controls",
          "model_name": "ProgressStyleModel",
          "model_module_version": "1.5.0",
          "state": {
            "_model_module": "@jupyter-widgets/controls",
            "_model_module_version": "1.5.0",
            "_model_name": "ProgressStyleModel",
            "_view_count": null,
            "_view_module": "@jupyter-widgets/base",
            "_view_module_version": "1.2.0",
            "_view_name": "StyleView",
            "bar_color": null,
            "description_width": ""
          }
        },
        "53445e218bcf4fdbb606d0daad7a70fc": {
          "model_module": "@jupyter-widgets/base",
          "model_name": "LayoutModel",
          "model_module_version": "1.2.0",
          "state": {
            "_model_module": "@jupyter-widgets/base",
            "_model_module_version": "1.2.0",
            "_model_name": "LayoutModel",
            "_view_count": null,
            "_view_module": "@jupyter-widgets/base",
            "_view_module_version": "1.2.0",
            "_view_name": "LayoutView",
            "align_content": null,
            "align_items": null,
            "align_self": null,
            "border": null,
            "bottom": null,
            "display": null,
            "flex": null,
            "flex_flow": null,
            "grid_area": null,
            "grid_auto_columns": null,
            "grid_auto_flow": null,
            "grid_auto_rows": null,
            "grid_column": null,
            "grid_gap": null,
            "grid_row": null,
            "grid_template_areas": null,
            "grid_template_columns": null,
            "grid_template_rows": null,
            "height": null,
            "justify_content": null,
            "justify_items": null,
            "left": null,
            "margin": null,
            "max_height": null,
            "max_width": null,
            "min_height": null,
            "min_width": null,
            "object_fit": null,
            "object_position": null,
            "order": null,
            "overflow": null,
            "overflow_x": null,
            "overflow_y": null,
            "padding": null,
            "right": null,
            "top": null,
            "visibility": null,
            "width": null
          }
        },
        "917cb5a77a0a45d69f1cdd09d8b30839": {
          "model_module": "@jupyter-widgets/controls",
          "model_name": "DescriptionStyleModel",
          "model_module_version": "1.5.0",
          "state": {
            "_model_module": "@jupyter-widgets/controls",
            "_model_module_version": "1.5.0",
            "_model_name": "DescriptionStyleModel",
            "_view_count": null,
            "_view_module": "@jupyter-widgets/base",
            "_view_module_version": "1.2.0",
            "_view_name": "StyleView",
            "description_width": ""
          }
        }
      }
    },
    "accelerator": "GPU"
  },
  "cells": [
    {
      "cell_type": "markdown",
      "metadata": {
        "id": "view-in-github",
        "colab_type": "text"
      },
      "source": [
        "<a href=\"https://colab.research.google.com/github/yukismd/DL_for_ImageData_and_Finetuning/blob/main/text_classification_hatespeech/PT/bert-large-japanese-v2.ipynb\" target=\"_parent\"><img src=\"https://colab.research.google.com/assets/colab-badge.svg\" alt=\"Open In Colab\"/></a>"
      ]
    },
    {
      "cell_type": "code",
      "execution_count": null,
      "metadata": {
        "id": "h92x1-NiAJFP"
      },
      "outputs": [],
      "source": []
    },
    {
      "cell_type": "code",
      "source": [
        "MODEL = 'tohoku-nlp/bert-large-japanese-v2'"
      ],
      "metadata": {
        "id": "0D-AAE5oeKTX"
      },
      "execution_count": 1,
      "outputs": []
    },
    {
      "cell_type": "code",
      "source": [
        "!pwd"
      ],
      "metadata": {
        "id": "Qpdjt0apNiFE",
        "outputId": "8efbd436-55c9-4c8c-a129-9f34bb4cba0b",
        "colab": {
          "base_uri": "https://localhost:8080/"
        }
      },
      "execution_count": 2,
      "outputs": [
        {
          "output_type": "stream",
          "name": "stdout",
          "text": [
            "/content\n"
          ]
        }
      ]
    },
    {
      "cell_type": "code",
      "source": [
        "from google.colab import drive\n",
        "drive.mount('/content/drive')"
      ],
      "metadata": {
        "id": "QGA9V0g2NXQ_",
        "outputId": "713dc5b0-e564-46d9-f756-09822f00f611",
        "colab": {
          "base_uri": "https://localhost:8080/"
        }
      },
      "execution_count": 3,
      "outputs": [
        {
          "output_type": "stream",
          "name": "stdout",
          "text": [
            "Mounted at /content/drive\n"
          ]
        }
      ]
    },
    {
      "cell_type": "code",
      "source": [
        "!ls"
      ],
      "metadata": {
        "colab": {
          "base_uri": "https://localhost:8080/"
        },
        "id": "_XTHIRVaALQZ",
        "outputId": "9bc9deed-0e18-45ea-b59b-1acc2965eaec"
      },
      "execution_count": 4,
      "outputs": [
        {
          "output_type": "stream",
          "name": "stdout",
          "text": [
            "drive  sample_data\n"
          ]
        }
      ]
    },
    {
      "cell_type": "code",
      "source": [
        "!ls drive/MyDrive/experiment_results"
      ],
      "metadata": {
        "id": "NlwANH7iMcvM",
        "outputId": "2451d665-cfe4-4e66-9f6a-3e41da58d342",
        "colab": {
          "base_uri": "https://localhost:8080/"
        }
      },
      "execution_count": 5,
      "outputs": [
        {
          "output_type": "stream",
          "name": "stdout",
          "text": [
            "hs_txt_classification\n"
          ]
        }
      ]
    },
    {
      "cell_type": "code",
      "source": [
        "SAVE_DIR = 'drive/MyDrive/experiment_results/hs_txt_classification'"
      ],
      "metadata": {
        "id": "NELuL4I3Tsxc"
      },
      "execution_count": 6,
      "outputs": []
    },
    {
      "cell_type": "code",
      "source": [
        "!pip install datasets evaluate"
      ],
      "metadata": {
        "colab": {
          "base_uri": "https://localhost:8080/"
        },
        "id": "SDx9fZrpANwO",
        "outputId": "b9fbe360-472a-4bb4-ae48-0bee631560cd"
      },
      "execution_count": 7,
      "outputs": [
        {
          "output_type": "stream",
          "name": "stdout",
          "text": [
            "Collecting datasets\n",
            "  Downloading datasets-2.19.1-py3-none-any.whl (542 kB)\n",
            "\u001b[2K     \u001b[90m━━━━━━━━━━━━━━━━━━━━━━━━━━━━━━━━━━━━━━━━\u001b[0m \u001b[32m542.0/542.0 kB\u001b[0m \u001b[31m6.4 MB/s\u001b[0m eta \u001b[36m0:00:00\u001b[0m\n",
            "\u001b[?25hCollecting evaluate\n",
            "  Downloading evaluate-0.4.2-py3-none-any.whl (84 kB)\n",
            "\u001b[2K     \u001b[90m━━━━━━━━━━━━━━━━━━━━━━━━━━━━━━━━━━━━━━━━\u001b[0m \u001b[32m84.1/84.1 kB\u001b[0m \u001b[31m2.5 MB/s\u001b[0m eta \u001b[36m0:00:00\u001b[0m\n",
            "\u001b[?25hRequirement already satisfied: filelock in /usr/local/lib/python3.10/dist-packages (from datasets) (3.14.0)\n",
            "Requirement already satisfied: numpy>=1.17 in /usr/local/lib/python3.10/dist-packages (from datasets) (1.25.2)\n",
            "Requirement already satisfied: pyarrow>=12.0.0 in /usr/local/lib/python3.10/dist-packages (from datasets) (14.0.2)\n",
            "Requirement already satisfied: pyarrow-hotfix in /usr/local/lib/python3.10/dist-packages (from datasets) (0.6)\n",
            "Collecting dill<0.3.9,>=0.3.0 (from datasets)\n",
            "  Downloading dill-0.3.8-py3-none-any.whl (116 kB)\n",
            "\u001b[2K     \u001b[90m━━━━━━━━━━━━━━━━━━━━━━━━━━━━━━━━━━━━━━━━\u001b[0m \u001b[32m116.3/116.3 kB\u001b[0m \u001b[31m14.0 MB/s\u001b[0m eta \u001b[36m0:00:00\u001b[0m\n",
            "\u001b[?25hRequirement already satisfied: pandas in /usr/local/lib/python3.10/dist-packages (from datasets) (2.0.3)\n",
            "Requirement already satisfied: requests>=2.19.0 in /usr/local/lib/python3.10/dist-packages (from datasets) (2.31.0)\n",
            "Requirement already satisfied: tqdm>=4.62.1 in /usr/local/lib/python3.10/dist-packages (from datasets) (4.66.4)\n",
            "Collecting xxhash (from datasets)\n",
            "  Downloading xxhash-3.4.1-cp310-cp310-manylinux_2_17_x86_64.manylinux2014_x86_64.whl (194 kB)\n",
            "\u001b[2K     \u001b[90m━━━━━━━━━━━━━━━━━━━━━━━━━━━━━━━━━━━━━━━━\u001b[0m \u001b[32m194.1/194.1 kB\u001b[0m \u001b[31m21.0 MB/s\u001b[0m eta \u001b[36m0:00:00\u001b[0m\n",
            "\u001b[?25hCollecting multiprocess (from datasets)\n",
            "  Downloading multiprocess-0.70.16-py310-none-any.whl (134 kB)\n",
            "\u001b[2K     \u001b[90m━━━━━━━━━━━━━━━━━━━━━━━━━━━━━━━━━━━━━━━━\u001b[0m \u001b[32m134.8/134.8 kB\u001b[0m \u001b[31m16.8 MB/s\u001b[0m eta \u001b[36m0:00:00\u001b[0m\n",
            "\u001b[?25hRequirement already satisfied: fsspec[http]<=2024.3.1,>=2023.1.0 in /usr/local/lib/python3.10/dist-packages (from datasets) (2023.6.0)\n",
            "Requirement already satisfied: aiohttp in /usr/local/lib/python3.10/dist-packages (from datasets) (3.9.5)\n",
            "Requirement already satisfied: huggingface-hub>=0.21.2 in /usr/local/lib/python3.10/dist-packages (from datasets) (0.23.1)\n",
            "Requirement already satisfied: packaging in /usr/local/lib/python3.10/dist-packages (from datasets) (24.0)\n",
            "Requirement already satisfied: pyyaml>=5.1 in /usr/local/lib/python3.10/dist-packages (from datasets) (6.0.1)\n",
            "Requirement already satisfied: aiosignal>=1.1.2 in /usr/local/lib/python3.10/dist-packages (from aiohttp->datasets) (1.3.1)\n",
            "Requirement already satisfied: attrs>=17.3.0 in /usr/local/lib/python3.10/dist-packages (from aiohttp->datasets) (23.2.0)\n",
            "Requirement already satisfied: frozenlist>=1.1.1 in /usr/local/lib/python3.10/dist-packages (from aiohttp->datasets) (1.4.1)\n",
            "Requirement already satisfied: multidict<7.0,>=4.5 in /usr/local/lib/python3.10/dist-packages (from aiohttp->datasets) (6.0.5)\n",
            "Requirement already satisfied: yarl<2.0,>=1.0 in /usr/local/lib/python3.10/dist-packages (from aiohttp->datasets) (1.9.4)\n",
            "Requirement already satisfied: async-timeout<5.0,>=4.0 in /usr/local/lib/python3.10/dist-packages (from aiohttp->datasets) (4.0.3)\n",
            "Requirement already satisfied: typing-extensions>=3.7.4.3 in /usr/local/lib/python3.10/dist-packages (from huggingface-hub>=0.21.2->datasets) (4.11.0)\n",
            "Requirement already satisfied: charset-normalizer<4,>=2 in /usr/local/lib/python3.10/dist-packages (from requests>=2.19.0->datasets) (3.3.2)\n",
            "Requirement already satisfied: idna<4,>=2.5 in /usr/local/lib/python3.10/dist-packages (from requests>=2.19.0->datasets) (3.7)\n",
            "Requirement already satisfied: urllib3<3,>=1.21.1 in /usr/local/lib/python3.10/dist-packages (from requests>=2.19.0->datasets) (2.0.7)\n",
            "Requirement already satisfied: certifi>=2017.4.17 in /usr/local/lib/python3.10/dist-packages (from requests>=2.19.0->datasets) (2024.2.2)\n",
            "Requirement already satisfied: python-dateutil>=2.8.2 in /usr/local/lib/python3.10/dist-packages (from pandas->datasets) (2.8.2)\n",
            "Requirement already satisfied: pytz>=2020.1 in /usr/local/lib/python3.10/dist-packages (from pandas->datasets) (2023.4)\n",
            "Requirement already satisfied: tzdata>=2022.1 in /usr/local/lib/python3.10/dist-packages (from pandas->datasets) (2024.1)\n",
            "Requirement already satisfied: six>=1.5 in /usr/local/lib/python3.10/dist-packages (from python-dateutil>=2.8.2->pandas->datasets) (1.16.0)\n",
            "Installing collected packages: xxhash, dill, multiprocess, datasets, evaluate\n",
            "Successfully installed datasets-2.19.1 dill-0.3.8 evaluate-0.4.2 multiprocess-0.70.16 xxhash-3.4.1\n"
          ]
        }
      ]
    },
    {
      "cell_type": "code",
      "source": [
        "!pip install accelerate -U"
      ],
      "metadata": {
        "colab": {
          "base_uri": "https://localhost:8080/"
        },
        "id": "Cn9rn3b1E7c3",
        "outputId": "43b142aa-e5e4-4e7c-f274-6bfeedf7c3ae"
      },
      "execution_count": 8,
      "outputs": [
        {
          "output_type": "stream",
          "name": "stdout",
          "text": [
            "Collecting accelerate\n",
            "  Downloading accelerate-0.30.1-py3-none-any.whl (302 kB)\n",
            "\u001b[2K     \u001b[90m━━━━━━━━━━━━━━━━━━━━━━━━━━━━━━━━━━━━━━━━\u001b[0m \u001b[32m302.6/302.6 kB\u001b[0m \u001b[31m3.8 MB/s\u001b[0m eta \u001b[36m0:00:00\u001b[0m\n",
            "\u001b[?25hRequirement already satisfied: numpy>=1.17 in /usr/local/lib/python3.10/dist-packages (from accelerate) (1.25.2)\n",
            "Requirement already satisfied: packaging>=20.0 in /usr/local/lib/python3.10/dist-packages (from accelerate) (24.0)\n",
            "Requirement already satisfied: psutil in /usr/local/lib/python3.10/dist-packages (from accelerate) (5.9.5)\n",
            "Requirement already satisfied: pyyaml in /usr/local/lib/python3.10/dist-packages (from accelerate) (6.0.1)\n",
            "Requirement already satisfied: torch>=1.10.0 in /usr/local/lib/python3.10/dist-packages (from accelerate) (2.3.0+cu121)\n",
            "Requirement already satisfied: huggingface-hub in /usr/local/lib/python3.10/dist-packages (from accelerate) (0.23.1)\n",
            "Requirement already satisfied: safetensors>=0.3.1 in /usr/local/lib/python3.10/dist-packages (from accelerate) (0.4.3)\n",
            "Requirement already satisfied: filelock in /usr/local/lib/python3.10/dist-packages (from torch>=1.10.0->accelerate) (3.14.0)\n",
            "Requirement already satisfied: typing-extensions>=4.8.0 in /usr/local/lib/python3.10/dist-packages (from torch>=1.10.0->accelerate) (4.11.0)\n",
            "Requirement already satisfied: sympy in /usr/local/lib/python3.10/dist-packages (from torch>=1.10.0->accelerate) (1.12)\n",
            "Requirement already satisfied: networkx in /usr/local/lib/python3.10/dist-packages (from torch>=1.10.0->accelerate) (3.3)\n",
            "Requirement already satisfied: jinja2 in /usr/local/lib/python3.10/dist-packages (from torch>=1.10.0->accelerate) (3.1.4)\n",
            "Requirement already satisfied: fsspec in /usr/local/lib/python3.10/dist-packages (from torch>=1.10.0->accelerate) (2023.6.0)\n",
            "Collecting nvidia-cuda-nvrtc-cu12==12.1.105 (from torch>=1.10.0->accelerate)\n",
            "  Using cached nvidia_cuda_nvrtc_cu12-12.1.105-py3-none-manylinux1_x86_64.whl (23.7 MB)\n",
            "Collecting nvidia-cuda-runtime-cu12==12.1.105 (from torch>=1.10.0->accelerate)\n",
            "  Using cached nvidia_cuda_runtime_cu12-12.1.105-py3-none-manylinux1_x86_64.whl (823 kB)\n",
            "Collecting nvidia-cuda-cupti-cu12==12.1.105 (from torch>=1.10.0->accelerate)\n",
            "  Using cached nvidia_cuda_cupti_cu12-12.1.105-py3-none-manylinux1_x86_64.whl (14.1 MB)\n",
            "Collecting nvidia-cudnn-cu12==8.9.2.26 (from torch>=1.10.0->accelerate)\n",
            "  Using cached nvidia_cudnn_cu12-8.9.2.26-py3-none-manylinux1_x86_64.whl (731.7 MB)\n",
            "Collecting nvidia-cublas-cu12==12.1.3.1 (from torch>=1.10.0->accelerate)\n",
            "  Using cached nvidia_cublas_cu12-12.1.3.1-py3-none-manylinux1_x86_64.whl (410.6 MB)\n",
            "Collecting nvidia-cufft-cu12==11.0.2.54 (from torch>=1.10.0->accelerate)\n",
            "  Using cached nvidia_cufft_cu12-11.0.2.54-py3-none-manylinux1_x86_64.whl (121.6 MB)\n",
            "Collecting nvidia-curand-cu12==10.3.2.106 (from torch>=1.10.0->accelerate)\n",
            "  Using cached nvidia_curand_cu12-10.3.2.106-py3-none-manylinux1_x86_64.whl (56.5 MB)\n",
            "Collecting nvidia-cusolver-cu12==11.4.5.107 (from torch>=1.10.0->accelerate)\n",
            "  Using cached nvidia_cusolver_cu12-11.4.5.107-py3-none-manylinux1_x86_64.whl (124.2 MB)\n",
            "Collecting nvidia-cusparse-cu12==12.1.0.106 (from torch>=1.10.0->accelerate)\n",
            "  Using cached nvidia_cusparse_cu12-12.1.0.106-py3-none-manylinux1_x86_64.whl (196.0 MB)\n",
            "Collecting nvidia-nccl-cu12==2.20.5 (from torch>=1.10.0->accelerate)\n",
            "  Using cached nvidia_nccl_cu12-2.20.5-py3-none-manylinux2014_x86_64.whl (176.2 MB)\n",
            "Collecting nvidia-nvtx-cu12==12.1.105 (from torch>=1.10.0->accelerate)\n",
            "  Using cached nvidia_nvtx_cu12-12.1.105-py3-none-manylinux1_x86_64.whl (99 kB)\n",
            "Requirement already satisfied: triton==2.3.0 in /usr/local/lib/python3.10/dist-packages (from torch>=1.10.0->accelerate) (2.3.0)\n",
            "Collecting nvidia-nvjitlink-cu12 (from nvidia-cusolver-cu12==11.4.5.107->torch>=1.10.0->accelerate)\n",
            "  Downloading nvidia_nvjitlink_cu12-12.5.40-py3-none-manylinux2014_x86_64.whl (21.3 MB)\n",
            "\u001b[2K     \u001b[90m━━━━━━━━━━━━━━━━━━━━━━━━━━━━━━━━━━━━━━━━\u001b[0m \u001b[32m21.3/21.3 MB\u001b[0m \u001b[31m54.2 MB/s\u001b[0m eta \u001b[36m0:00:00\u001b[0m\n",
            "\u001b[?25hRequirement already satisfied: requests in /usr/local/lib/python3.10/dist-packages (from huggingface-hub->accelerate) (2.31.0)\n",
            "Requirement already satisfied: tqdm>=4.42.1 in /usr/local/lib/python3.10/dist-packages (from huggingface-hub->accelerate) (4.66.4)\n",
            "Requirement already satisfied: MarkupSafe>=2.0 in /usr/local/lib/python3.10/dist-packages (from jinja2->torch>=1.10.0->accelerate) (2.1.5)\n",
            "Requirement already satisfied: charset-normalizer<4,>=2 in /usr/local/lib/python3.10/dist-packages (from requests->huggingface-hub->accelerate) (3.3.2)\n",
            "Requirement already satisfied: idna<4,>=2.5 in /usr/local/lib/python3.10/dist-packages (from requests->huggingface-hub->accelerate) (3.7)\n",
            "Requirement already satisfied: urllib3<3,>=1.21.1 in /usr/local/lib/python3.10/dist-packages (from requests->huggingface-hub->accelerate) (2.0.7)\n",
            "Requirement already satisfied: certifi>=2017.4.17 in /usr/local/lib/python3.10/dist-packages (from requests->huggingface-hub->accelerate) (2024.2.2)\n",
            "Requirement already satisfied: mpmath>=0.19 in /usr/local/lib/python3.10/dist-packages (from sympy->torch>=1.10.0->accelerate) (1.3.0)\n",
            "Installing collected packages: nvidia-nvtx-cu12, nvidia-nvjitlink-cu12, nvidia-nccl-cu12, nvidia-curand-cu12, nvidia-cufft-cu12, nvidia-cuda-runtime-cu12, nvidia-cuda-nvrtc-cu12, nvidia-cuda-cupti-cu12, nvidia-cublas-cu12, nvidia-cusparse-cu12, nvidia-cudnn-cu12, nvidia-cusolver-cu12, accelerate\n",
            "Successfully installed accelerate-0.30.1 nvidia-cublas-cu12-12.1.3.1 nvidia-cuda-cupti-cu12-12.1.105 nvidia-cuda-nvrtc-cu12-12.1.105 nvidia-cuda-runtime-cu12-12.1.105 nvidia-cudnn-cu12-8.9.2.26 nvidia-cufft-cu12-11.0.2.54 nvidia-curand-cu12-10.3.2.106 nvidia-cusolver-cu12-11.4.5.107 nvidia-cusparse-cu12-12.1.0.106 nvidia-nccl-cu12-2.20.5 nvidia-nvjitlink-cu12-12.5.40 nvidia-nvtx-cu12-12.1.105\n"
          ]
        }
      ]
    },
    {
      "cell_type": "code",
      "source": [
        "!pip install fugashi unidic_lite"
      ],
      "metadata": {
        "colab": {
          "base_uri": "https://localhost:8080/"
        },
        "id": "6YQ5qRYSQJ0Z",
        "outputId": "9803af13-3078-4b42-82c7-1202a282f43b"
      },
      "execution_count": 9,
      "outputs": [
        {
          "output_type": "stream",
          "name": "stdout",
          "text": [
            "Collecting fugashi\n",
            "  Downloading fugashi-1.3.2-cp310-cp310-manylinux_2_17_x86_64.manylinux2014_x86_64.whl (600 kB)\n",
            "\u001b[2K     \u001b[90m━━━━━━━━━━━━━━━━━━━━━━━━━━━━━━━━━━━━━━━━\u001b[0m \u001b[32m600.9/600.9 kB\u001b[0m \u001b[31m7.1 MB/s\u001b[0m eta \u001b[36m0:00:00\u001b[0m\n",
            "\u001b[?25hCollecting unidic_lite\n",
            "  Downloading unidic-lite-1.0.8.tar.gz (47.4 MB)\n",
            "\u001b[2K     \u001b[90m━━━━━━━━━━━━━━━━━━━━━━━━━━━━━━━━━━━━━━━━\u001b[0m \u001b[32m47.4/47.4 MB\u001b[0m \u001b[31m9.3 MB/s\u001b[0m eta \u001b[36m0:00:00\u001b[0m\n",
            "\u001b[?25h  Preparing metadata (setup.py) ... \u001b[?25l\u001b[?25hdone\n",
            "Building wheels for collected packages: unidic_lite\n",
            "  Building wheel for unidic_lite (setup.py) ... \u001b[?25l\u001b[?25hdone\n",
            "  Created wheel for unidic_lite: filename=unidic_lite-1.0.8-py3-none-any.whl size=47658818 sha256=ed9d870ce5be54c985a300c66bef385dd73ce406a8b295dd17a70f9ad53d4a52\n",
            "  Stored in directory: /root/.cache/pip/wheels/89/e8/68/f9ac36b8cc6c8b3c96888cd57434abed96595d444f42243853\n",
            "Successfully built unidic_lite\n",
            "Installing collected packages: unidic_lite, fugashi\n",
            "Successfully installed fugashi-1.3.2 unidic_lite-1.0.8\n"
          ]
        }
      ]
    },
    {
      "cell_type": "code",
      "source": [
        "import datasets\n",
        "print(datasets.__version__)\n",
        "import transformers\n",
        "print(transformers.__version__)\n",
        "from transformers import AutoTokenizer\n",
        "import evaluate\n",
        "print(evaluate.__version__)\n",
        "\n",
        "import torch\n",
        "from transformers import AutoModelForSequenceClassification, TrainingArguments, Trainer\n",
        "\n",
        "import numpy as np\n",
        "import pandas as pd\n",
        "\n",
        "import matplotlib.pyplot as plt\n",
        "\n",
        "import os\n",
        "import json"
      ],
      "metadata": {
        "colab": {
          "base_uri": "https://localhost:8080/"
        },
        "id": "qXYbxMWsAPbp",
        "outputId": "5ce9deca-e913-46f8-cb8f-63bc5d1982b6"
      },
      "execution_count": 10,
      "outputs": [
        {
          "output_type": "stream",
          "name": "stdout",
          "text": [
            "2.19.1\n",
            "4.41.1\n",
            "0.4.2\n"
          ]
        }
      ]
    },
    {
      "cell_type": "code",
      "source": [],
      "metadata": {
        "id": "ouSo-P7fAUuY"
      },
      "execution_count": 10,
      "outputs": []
    },
    {
      "cell_type": "markdown",
      "source": [
        "## 学習データ, テストデータ"
      ],
      "metadata": {
        "id": "q5Ywtc1HPPef"
      }
    },
    {
      "cell_type": "code",
      "source": [
        "df = pd.read_csv('https://sample-data-open.s3.ap-northeast-1.amazonaws.com/text_classification_hatespeech/hatespeech_train.csv')\n",
        "print(df.shape)"
      ],
      "metadata": {
        "colab": {
          "base_uri": "https://localhost:8080/"
        },
        "id": "QYzVEAI0JPCw",
        "outputId": "fabc91b8-3794-41c5-dd84-fa04980447d8"
      },
      "execution_count": 11,
      "outputs": [
        {
          "output_type": "stream",
          "name": "stdout",
          "text": [
            "(4656, 5)\n"
          ]
        }
      ]
    },
    {
      "cell_type": "code",
      "source": [
        "df_train = df[df['hold'] != 0]    # 学習データ\n",
        "df_valid = df[df['hold'] == 0]    # 検証データ\n",
        "df_train.shape, df_valid.shape"
      ],
      "metadata": {
        "colab": {
          "base_uri": "https://localhost:8080/"
        },
        "id": "7CMAZBSSJmx9",
        "outputId": "b7e6dd2c-be99-4acb-f9bc-b931a71c131b"
      },
      "execution_count": 12,
      "outputs": [
        {
          "output_type": "execute_result",
          "data": {
            "text/plain": [
              "((3759, 5), (897, 5))"
            ]
          },
          "metadata": {},
          "execution_count": 12
        }
      ]
    },
    {
      "cell_type": "code",
      "source": [
        "ds_train = datasets.Dataset.from_pandas(df_train[['text','label']], preserve_index=False)\n",
        "ds_valid = datasets.Dataset.from_pandas(df_valid[['text','label']], preserve_index=False)"
      ],
      "metadata": {
        "id": "wvDmcRTlJf6M"
      },
      "execution_count": 13,
      "outputs": []
    },
    {
      "cell_type": "code",
      "source": [],
      "metadata": {
        "id": "PqCWPchqcT2w"
      },
      "execution_count": 13,
      "outputs": []
    },
    {
      "cell_type": "code",
      "source": [
        "df_test = pd.read_csv('https://sample-data-open.s3.ap-northeast-1.amazonaws.com/text_classification_hatespeech/hatespeech_test.csv')\n",
        "print(df_test.shape)"
      ],
      "metadata": {
        "id": "BAcU3OmUb509",
        "outputId": "6650cef3-c445-4a8a-ebf9-6e8ee4203cda",
        "colab": {
          "base_uri": "https://localhost:8080/"
        }
      },
      "execution_count": 14,
      "outputs": [
        {
          "output_type": "stream",
          "name": "stdout",
          "text": [
            "(600, 4)\n"
          ]
        }
      ]
    },
    {
      "cell_type": "code",
      "source": [
        "ds_test = datasets.Dataset.from_pandas(df_test[['text','label']], preserve_index=False)"
      ],
      "metadata": {
        "id": "FlhyQDxcb_cD"
      },
      "execution_count": 15,
      "outputs": []
    },
    {
      "cell_type": "code",
      "source": [],
      "metadata": {
        "id": "uez-200RPrGf"
      },
      "execution_count": 15,
      "outputs": []
    },
    {
      "cell_type": "markdown",
      "source": [
        "## トークナイザー"
      ],
      "metadata": {
        "id": "0HzcvkpSPusi"
      }
    },
    {
      "cell_type": "code",
      "source": [
        "tokenizer = AutoTokenizer.from_pretrained(MODEL)\n",
        "tokenizer"
      ],
      "metadata": {
        "colab": {
          "base_uri": "https://localhost:8080/",
          "height": 361,
          "referenced_widgets": [
            "08596ff078854344adb4f5c7af0969be",
            "bcbf9978678848229ec3af203bfbf72b",
            "3ce3df0286f648dbbb481afb45ef8638",
            "1cf2380229ef4ae0b7bb74f226b157ea",
            "a3fdfaeb676748e0ac9bd463fc5ee9bd",
            "0c582d452c3441c080f10413813b1869",
            "53cd817707d24c36a3926a7769fcf3d9",
            "494b8eb610ec4f7aa2649a16009e59e8",
            "ab21eaab85d34882b544ae1ad7daca52",
            "7d10bed438544a18a0805fd9d07a2498",
            "8a6d3d7a97964475a25c7ef3025a2586",
            "77f4df6ed38d457fb9aa2de5a850295c",
            "7248357d03c3477c813fe8aef8283bb3",
            "a6b12e0741de4ae88533502add6cd50e",
            "2d7b0c63ae1d42fb801373b0bbe103dd",
            "70eb41116d0147a8ae24c7dacc99dac8",
            "d454afc0e0a84a0080d0705adb1352b9",
            "9312890539fd45d0a5ee151429ee68c9",
            "7ae79f31922f42dfa60308bc8334072f",
            "b3913e835095478b9f4bdf4e1f2be7ad",
            "aac553e76405406386b6c86768a5340a",
            "9a7ee42a02ec4bb298a660992e3abf97"
          ]
        },
        "id": "64jHrk2qPrJo",
        "outputId": "a2495bf0-9841-4c88-ff25-b740e1d928c7"
      },
      "execution_count": 16,
      "outputs": [
        {
          "output_type": "stream",
          "name": "stderr",
          "text": [
            "/usr/local/lib/python3.10/dist-packages/huggingface_hub/utils/_token.py:89: UserWarning: \n",
            "The secret `HF_TOKEN` does not exist in your Colab secrets.\n",
            "To authenticate with the Hugging Face Hub, create a token in your settings tab (https://huggingface.co/settings/tokens), set it as secret in your Google Colab and restart your session.\n",
            "You will be able to reuse this secret in all of your notebooks.\n",
            "Please note that authentication is recommended but still optional to access public models or datasets.\n",
            "  warnings.warn(\n"
          ]
        },
        {
          "output_type": "display_data",
          "data": {
            "text/plain": [
              "tokenizer_config.json:   0%|          | 0.00/251 [00:00<?, ?B/s]"
            ],
            "application/vnd.jupyter.widget-view+json": {
              "version_major": 2,
              "version_minor": 0,
              "model_id": "08596ff078854344adb4f5c7af0969be"
            }
          },
          "metadata": {}
        },
        {
          "output_type": "display_data",
          "data": {
            "text/plain": [
              "vocab.txt:   0%|          | 0.00/231k [00:00<?, ?B/s]"
            ],
            "application/vnd.jupyter.widget-view+json": {
              "version_major": 2,
              "version_minor": 0,
              "model_id": "77f4df6ed38d457fb9aa2de5a850295c"
            }
          },
          "metadata": {}
        },
        {
          "output_type": "execute_result",
          "data": {
            "text/plain": [
              "BertJapaneseTokenizer(name_or_path='tohoku-nlp/bert-large-japanese-v2', vocab_size=32768, model_max_length=512, is_fast=False, padding_side='right', truncation_side='right', special_tokens={'unk_token': '[UNK]', 'sep_token': '[SEP]', 'pad_token': '[PAD]', 'cls_token': '[CLS]', 'mask_token': '[MASK]'}, clean_up_tokenization_spaces=True),  added_tokens_decoder={\n",
              "\t0: AddedToken(\"[PAD]\", rstrip=False, lstrip=False, single_word=False, normalized=False, special=True),\n",
              "\t1: AddedToken(\"[UNK]\", rstrip=False, lstrip=False, single_word=False, normalized=False, special=True),\n",
              "\t2: AddedToken(\"[CLS]\", rstrip=False, lstrip=False, single_word=False, normalized=False, special=True),\n",
              "\t3: AddedToken(\"[SEP]\", rstrip=False, lstrip=False, single_word=False, normalized=False, special=True),\n",
              "\t4: AddedToken(\"[MASK]\", rstrip=False, lstrip=False, single_word=False, normalized=False, special=True),\n",
              "}"
            ]
          },
          "metadata": {},
          "execution_count": 16
        }
      ]
    },
    {
      "cell_type": "code",
      "source": [
        "def tokenize_function(examples):\n",
        "    return tokenizer(examples[\"text\"],\n",
        "                     truncation=True,\n",
        "                     max_length=128)    # 学習データの文長が短いので128に設定"
      ],
      "metadata": {
        "id": "wfIC7GdVGqhT"
      },
      "execution_count": 17,
      "outputs": []
    },
    {
      "cell_type": "code",
      "source": [
        "ds_tkn_train = ds_train.map(tokenize_function, batched=True)\n",
        "ds_tkn_valid = ds_valid.map(tokenize_function, batched=True)\n",
        "ds_tkn_train, ds_tkn_valid"
      ],
      "metadata": {
        "colab": {
          "base_uri": "https://localhost:8080/",
          "height": 275,
          "referenced_widgets": [
            "dbac6b3317934c0f86e829981e1e80bb",
            "2a0251c2a0f84024b1e0932b22841f91",
            "be7358394836458f8717387b0cdd94c0",
            "b9123a2fc6e14246ad32f16e9cc49985",
            "f32d41106dfa4017946788c0377c4ed4",
            "8793df9a59d24d4e87c875c73a12cbf9",
            "da350146f743416eae93d3e6ac19a31b",
            "c84270be9974448b82dc73ef15375239",
            "d668d99f7f3844a59b8da29e05bf294c",
            "4c8bcaffb4704d318859967692461fbe",
            "0354f2388a854667a7167ee9a0632e58",
            "7f7ff2d96465476e98188eec26caa608",
            "eec46f62fa714bdcb708c87db8861a73",
            "285a7886383b444db397931742ba6e45",
            "d3a40881d5ec4f68bae1ae2ad1084202",
            "6fc99ca2c69f487d96233d2df62f64e0",
            "d81516823242442cbca7a18cd5be90bc",
            "511be256c61643b2aa16e371e5bb84c9",
            "286807e414aa4f509f95c4299fb824ca",
            "26f3556394a54242b1b439cfffd25961",
            "165277c66e0042a48d15f4a3a21afe79",
            "e37cec1ca87844da8902b2fd4f2ee1f1"
          ]
        },
        "id": "PUUlHgFTQirC",
        "outputId": "e53fc655-901f-43b0-ad70-af44cdc11a9c"
      },
      "execution_count": 18,
      "outputs": [
        {
          "output_type": "stream",
          "name": "stderr",
          "text": [
            "Parameter 'function'=<function tokenize_function at 0x7e295137cdc0> of the transform datasets.arrow_dataset.Dataset._map_single couldn't be hashed properly, a random hash was used instead. Make sure your transforms and parameters are serializable with pickle or dill for the dataset fingerprinting and caching to work. If you reuse this transform, the caching mechanism will consider it to be different from the previous calls and recompute everything. This warning is only showed once. Subsequent hashing failures won't be showed.\n",
            "WARNING:datasets.fingerprint:Parameter 'function'=<function tokenize_function at 0x7e295137cdc0> of the transform datasets.arrow_dataset.Dataset._map_single couldn't be hashed properly, a random hash was used instead. Make sure your transforms and parameters are serializable with pickle or dill for the dataset fingerprinting and caching to work. If you reuse this transform, the caching mechanism will consider it to be different from the previous calls and recompute everything. This warning is only showed once. Subsequent hashing failures won't be showed.\n"
          ]
        },
        {
          "output_type": "display_data",
          "data": {
            "text/plain": [
              "Map:   0%|          | 0/3759 [00:00<?, ? examples/s]"
            ],
            "application/vnd.jupyter.widget-view+json": {
              "version_major": 2,
              "version_minor": 0,
              "model_id": "dbac6b3317934c0f86e829981e1e80bb"
            }
          },
          "metadata": {}
        },
        {
          "output_type": "display_data",
          "data": {
            "text/plain": [
              "Map:   0%|          | 0/897 [00:00<?, ? examples/s]"
            ],
            "application/vnd.jupyter.widget-view+json": {
              "version_major": 2,
              "version_minor": 0,
              "model_id": "7f7ff2d96465476e98188eec26caa608"
            }
          },
          "metadata": {}
        },
        {
          "output_type": "execute_result",
          "data": {
            "text/plain": [
              "(Dataset({\n",
              "     features: ['text', 'label', 'input_ids', 'token_type_ids', 'attention_mask'],\n",
              "     num_rows: 3759\n",
              " }),\n",
              " Dataset({\n",
              "     features: ['text', 'label', 'input_ids', 'token_type_ids', 'attention_mask'],\n",
              "     num_rows: 897\n",
              " }))"
            ]
          },
          "metadata": {},
          "execution_count": 18
        }
      ]
    },
    {
      "cell_type": "code",
      "source": [
        "# textカラムの削除\n",
        "ds_tkn_train = ds_tkn_train.remove_columns(['text'])\n",
        "ds_tkn_valid = ds_tkn_valid.remove_columns(['text'])\n",
        "\n",
        "# labelカラムをlabelsへリネーム\n",
        "ds_tkn_train = ds_tkn_train.rename_column('label', 'labels')\n",
        "ds_tkn_valid = ds_tkn_valid.rename_column('label', 'labels')"
      ],
      "metadata": {
        "id": "PzVlG861ST18"
      },
      "execution_count": 19,
      "outputs": []
    },
    {
      "cell_type": "code",
      "source": [],
      "metadata": {
        "id": "J-WEP48FcbHV"
      },
      "execution_count": 19,
      "outputs": []
    },
    {
      "cell_type": "code",
      "source": [
        "ds_tkn_test = ds_test.map(tokenize_function, batched=True)\n",
        "ds_tkn_test"
      ],
      "metadata": {
        "id": "Y5y07_xUcbKd",
        "outputId": "92e296e9-b941-4e69-9a70-ec07436a1f2f",
        "colab": {
          "base_uri": "https://localhost:8080/",
          "height": 118,
          "referenced_widgets": [
            "76d4fe470a2242dfb37bfd7dfaae25ac",
            "a7fbdd3106e748e5885781b0c2a4bc2b",
            "ab63d1a3df9d4348bb33bf745a3c9b8c",
            "20bb869fa348496599b73563e282a768",
            "4f94ef7ca98645fea7faa068b26cc1df",
            "a03fc7331a51474fb2405423f414ddbc",
            "eadd27f37ffe4fe7bdf28d21beaa44cd",
            "d5478efddc374c1aaabe1dc15eb57f0f",
            "7c0e7446754c40be9613968cb8e29758",
            "1cc248ec181f488abb8c306d4006141e",
            "20cc9b4d9e5647748f8c7560fce6b963"
          ]
        }
      },
      "execution_count": 20,
      "outputs": [
        {
          "output_type": "display_data",
          "data": {
            "text/plain": [
              "Map:   0%|          | 0/600 [00:00<?, ? examples/s]"
            ],
            "application/vnd.jupyter.widget-view+json": {
              "version_major": 2,
              "version_minor": 0,
              "model_id": "76d4fe470a2242dfb37bfd7dfaae25ac"
            }
          },
          "metadata": {}
        },
        {
          "output_type": "execute_result",
          "data": {
            "text/plain": [
              "Dataset({\n",
              "    features: ['text', 'label', 'input_ids', 'token_type_ids', 'attention_mask'],\n",
              "    num_rows: 600\n",
              "})"
            ]
          },
          "metadata": {},
          "execution_count": 20
        }
      ]
    },
    {
      "cell_type": "code",
      "source": [
        "# textカラムの削除\n",
        "ds_tkn_test = ds_tkn_test.remove_columns(['text'])\n",
        "\n",
        "# labelカラムをlabelsへリネーム\n",
        "ds_tkn_test = ds_tkn_test.rename_column('label', 'labels')"
      ],
      "metadata": {
        "id": "19BjQ0tIcbQc"
      },
      "execution_count": 21,
      "outputs": []
    },
    {
      "cell_type": "code",
      "source": [],
      "metadata": {
        "id": "3qSELoQpckuL"
      },
      "execution_count": 21,
      "outputs": []
    },
    {
      "cell_type": "markdown",
      "source": [
        "## 学習"
      ],
      "metadata": {
        "id": "W2vc6pKJPgoj"
      }
    },
    {
      "cell_type": "code",
      "source": [
        "metric = evaluate.load(\"f1\")\n",
        "\n",
        "# 精度評価関数\n",
        "def compute_metrics(eval_pred):\n",
        "    logits, labels = eval_pred\n",
        "    predictions = np.argmax(logits, axis=-1)\n",
        "    return metric.compute(predictions=predictions, references=labels)"
      ],
      "metadata": {
        "id": "apH2EAYKfHiB",
        "colab": {
          "base_uri": "https://localhost:8080/",
          "height": 49,
          "referenced_widgets": [
            "d891ddb860dd4b6682eb91e877f3ac82",
            "eb61fa2a37754c009146916b2cc367a3",
            "6d1d8ae54c7f4e55bf3f1b2d32ee5b82",
            "dc51618b64aa4c908226db8609bf8eab",
            "1d69d3e1e58a433496d7ff4add4f87e2",
            "0ed3d7f49bb342c1aab05580d407a3d6",
            "c90bca3289434f34b06a845806d7070d",
            "7bda1580452641579de35bcfc66d41db",
            "4ae1c1244e5344f1bb9244533ce31dac",
            "53445e218bcf4fdbb606d0daad7a70fc",
            "917cb5a77a0a45d69f1cdd09d8b30839"
          ]
        },
        "outputId": "e11c713c-e1db-4642-ba12-529f1f5b1733"
      },
      "execution_count": 24,
      "outputs": [
        {
          "output_type": "display_data",
          "data": {
            "text/plain": [
              "Downloading builder script:   0%|          | 0.00/6.77k [00:00<?, ?B/s]"
            ],
            "application/vnd.jupyter.widget-view+json": {
              "version_major": 2,
              "version_minor": 0,
              "model_id": "d891ddb860dd4b6682eb91e877f3ac82"
            }
          },
          "metadata": {}
        }
      ]
    },
    {
      "cell_type": "code",
      "source": [
        "def do_training():\n",
        "  print('N_EPOCH: ', N_EPOCH)\n",
        "  print('BATCH_SIZE: ', BATCH_SIZE)\n",
        "  print('LR', LR)\n",
        "\n",
        "  model = AutoModelForSequenceClassification.from_pretrained(MODEL,\n",
        "                                                           num_labels=2)\n",
        "\n",
        "  trainer_args = TrainingArguments(\n",
        "    seed=123,\n",
        "    output_dir=SAVE_DIR,\n",
        "    overwrite_output_dir=True,\n",
        "    do_train=True,\n",
        "    do_eval=True,\n",
        "    evaluation_strategy=\"epoch\",\n",
        "    logging_strategy=\"epoch\",\n",
        "    #save_strategy=\"epoch\",\n",
        "    save_steps=1e6, # saveのステップを大きくしてここではモデルの保存を行わないようにする\n",
        "    log_level=\"critical\",\n",
        "    num_train_epochs=N_EPOCH,\n",
        "    learning_rate=LR,\n",
        "    per_device_train_batch_size=BATCH_SIZE,\n",
        "    per_device_eval_batch_size=12,\n",
        "    save_total_limit=1,\n",
        "    fp16=True,\n",
        "    remove_unused_columns=False,\n",
        "    report_to=\"none\"\n",
        "    )\n",
        "\n",
        "  trainer = Trainer(\n",
        "    model=model,\n",
        "    args=trainer_args,\n",
        "    tokenizer=tokenizer,\n",
        "    train_dataset=ds_tkn_train,\n",
        "    eval_dataset=ds_tkn_valid,\n",
        "    compute_metrics=compute_metrics,\n",
        "    )\n",
        "\n",
        "  #return trainer\n",
        "\n",
        "  print('----------  Start Training  ----------')\n",
        "  trainer.train()\n",
        "\n",
        "  print('----------  Res on Valid  ----------')\n",
        "  res_json = trainer.evaluate()\n",
        "  print(res_json)\n",
        "\n",
        "  print('----------  Res on Test  ----------')\n",
        "  test_preds = trainer.predict(ds_tkn_test)\n",
        "  test_metric = test_preds.metrics\n",
        "  print(test_metric)\n",
        "\n",
        "  return res_json, test_metric\n"
      ],
      "metadata": {
        "id": "2rdsRn5UecT-"
      },
      "execution_count": 26,
      "outputs": []
    },
    {
      "cell_type": "code",
      "source": [],
      "metadata": {
        "id": "Vw5dUHDQNA8f"
      },
      "execution_count": null,
      "outputs": []
    },
    {
      "cell_type": "code",
      "source": [
        "N_EPOCH = 3\n",
        "BATCH_SIZE = 16\n",
        "LR = 0.000003  # 3e-6\n",
        "\n",
        "experiment_name = '{}_Epoch{}_Batch{}_Lr{}'.format(MODEL.split('/')[1], N_EPOCH, BATCH_SIZE, LR)\n",
        "print('Experiment Name: ', experiment_name)\n",
        "\n",
        "res_val, res_test = do_training()"
      ],
      "metadata": {
        "colab": {
          "base_uri": "https://localhost:8080/",
          "height": 380
        },
        "id": "PQ0ug2dTS2L-",
        "outputId": "12c6c493-bbe3-4066-deeb-5b9f224ef89c"
      },
      "execution_count": 27,
      "outputs": [
        {
          "output_type": "stream",
          "name": "stdout",
          "text": [
            "Experiment Name:  bert-large-japanese-v2_Epoch3_Batch16_Lr3e-06\n",
            "N_EPOCH:  3\n",
            "BATCH_SIZE:  16\n",
            "LR 3e-06\n"
          ]
        },
        {
          "output_type": "stream",
          "name": "stderr",
          "text": [
            "/usr/local/lib/python3.10/dist-packages/transformers/training_args.py:1474: FutureWarning: `evaluation_strategy` is deprecated and will be removed in version 4.46 of 🤗 Transformers. Use `eval_strategy` instead\n",
            "  warnings.warn(\n"
          ]
        },
        {
          "output_type": "stream",
          "name": "stdout",
          "text": [
            "----------  Start Training  ----------\n"
          ]
        },
        {
          "output_type": "display_data",
          "data": {
            "text/plain": [
              "<IPython.core.display.HTML object>"
            ],
            "text/html": [
              "\n",
              "    <div>\n",
              "      \n",
              "      <progress value='705' max='705' style='width:300px; height:20px; vertical-align: middle;'></progress>\n",
              "      [705/705 04:14, Epoch 3/3]\n",
              "    </div>\n",
              "    <table border=\"1\" class=\"dataframe\">\n",
              "  <thead>\n",
              " <tr style=\"text-align: left;\">\n",
              "      <th>Epoch</th>\n",
              "      <th>Training Loss</th>\n",
              "      <th>Validation Loss</th>\n",
              "      <th>F1</th>\n",
              "    </tr>\n",
              "  </thead>\n",
              "  <tbody>\n",
              "    <tr>\n",
              "      <td>1</td>\n",
              "      <td>0.223300</td>\n",
              "      <td>0.133668</td>\n",
              "      <td>0.039216</td>\n",
              "    </tr>\n",
              "    <tr>\n",
              "      <td>2</td>\n",
              "      <td>0.129600</td>\n",
              "      <td>0.120316</td>\n",
              "      <td>0.581395</td>\n",
              "    </tr>\n",
              "    <tr>\n",
              "      <td>3</td>\n",
              "      <td>0.084000</td>\n",
              "      <td>0.128964</td>\n",
              "      <td>0.640000</td>\n",
              "    </tr>\n",
              "  </tbody>\n",
              "</table><p>"
            ]
          },
          "metadata": {}
        },
        {
          "output_type": "stream",
          "name": "stdout",
          "text": [
            "----------  Res on Valid  ----------\n"
          ]
        },
        {
          "output_type": "display_data",
          "data": {
            "text/plain": [
              "<IPython.core.display.HTML object>"
            ],
            "text/html": []
          },
          "metadata": {}
        },
        {
          "output_type": "stream",
          "name": "stdout",
          "text": [
            "{'eval_loss': 0.12896382808685303, 'eval_f1': 0.64, 'eval_runtime': 3.3439, 'eval_samples_per_second': 268.248, 'eval_steps_per_second': 22.429, 'epoch': 3.0}\n",
            "----------  Res on Test  ----------\n",
            "{'test_loss': 0.1441727727651596, 'test_f1': 0.591549295774648, 'test_runtime': 2.1907, 'test_samples_per_second': 273.88, 'test_steps_per_second': 22.823}\n"
          ]
        }
      ]
    },
    {
      "cell_type": "code",
      "source": [
        "# Save Valid Result\n",
        "save_file = os.path.join(SAVE_DIR, 'VALID__' + experiment_name + '.json')\n",
        "print(save_file)\n",
        "with open(save_file, 'w') as f:\n",
        "    json.dump(res_val, f, indent=2)\n",
        "\n",
        "# Save Test Result\n",
        "save_file = os.path.join(SAVE_DIR, 'TEST__' + experiment_name + '.json')\n",
        "print(save_file)\n",
        "with open(save_file, 'w') as f:\n",
        "    json.dump(res_test, f, indent=2)"
      ],
      "metadata": {
        "colab": {
          "base_uri": "https://localhost:8080/"
        },
        "id": "h52DaGCYGfx_",
        "outputId": "d9c29ecd-eef2-41ca-e5bc-b7e43db315b2"
      },
      "execution_count": 28,
      "outputs": [
        {
          "output_type": "stream",
          "name": "stdout",
          "text": [
            "drive/MyDrive/experiment_results/hs_txt_classification/VALID__bert-large-japanese-v2_Epoch3_Batch16_Lr3e-06.json\n",
            "drive/MyDrive/experiment_results/hs_txt_classification/TEST__bert-large-japanese-v2_Epoch3_Batch16_Lr3e-06.json\n"
          ]
        }
      ]
    },
    {
      "cell_type": "code",
      "source": [
        "!ls drive/MyDrive/experiment_results/hs_txt_classification"
      ],
      "metadata": {
        "id": "dMq6IEQ1g3vw",
        "outputId": "8eea6871-6f99-4125-a8ab-454243db629b",
        "colab": {
          "base_uri": "https://localhost:8080/"
        }
      },
      "execution_count": 30,
      "outputs": [
        {
          "output_type": "stream",
          "name": "stdout",
          "text": [
            "checkpoint-940\tTEST__bert-large-japanese-v2_Epoch3_Batch16_Lr3e-06.json\n",
            "OLD\t\tVALID__bert-large-japanese-v2_Epoch3_Batch16_Lr3e-06.json\n"
          ]
        }
      ]
    },
    {
      "cell_type": "code",
      "source": [
        "N_EPOCH = 3\n",
        "BATCH_SIZE = 16\n",
        "LR = 0.00001  # 1e-5\n",
        "\n",
        "experiment_name = '{}_Epoch{}_Batch{}_Lr{}'.format(MODEL.split('/')[1], N_EPOCH, BATCH_SIZE, LR)\n",
        "print('Experiment Name: ', experiment_name)\n",
        "\n",
        "res_val, res_test = do_training()\n",
        "\n",
        "# Save Valid Result\n",
        "save_file = os.path.join(SAVE_DIR, 'VALID__' + experiment_name + '.json')\n",
        "print('Val Res Save File: ', save_file)\n",
        "with open(save_file, 'w') as f:\n",
        "    json.dump(res_val, f, indent=2)\n",
        "\n",
        "# Save Test Result\n",
        "save_file = os.path.join(SAVE_DIR, 'TEST__' + experiment_name + '.json')\n",
        "print('Test Res Save File: ', save_file)\n",
        "with open(save_file, 'w') as f:\n",
        "    json.dump(res_test, f, indent=2)"
      ],
      "metadata": {
        "id": "Ia40cW9Kg4BN",
        "colab": {
          "base_uri": "https://localhost:8080/"
        },
        "outputId": "3c43cd0f-943a-4c9a-e86e-34ed0e1a6149"
      },
      "execution_count": 31,
      "outputs": [
        {
          "output_type": "stream",
          "name": "stdout",
          "text": [
            "Experiment Name:  bert-large-japanese-v2_Epoch3_Batch16_Lr1e-05\n",
            "N_EPOCH:  3\n",
            "BATCH_SIZE:  16\n",
            "LR 1e-05\n",
            "----------  Start Training  ----------\n"
          ]
        },
        {
          "output_type": "stream",
          "name": "stderr",
          "text": [
            "/usr/local/lib/python3.10/dist-packages/transformers/training_args.py:1474: FutureWarning: `evaluation_strategy` is deprecated and will be removed in version 4.46 of 🤗 Transformers. Use `eval_strategy` instead\n",
            "  warnings.warn(\n"
          ]
        },
        {
          "output_type": "stream",
          "name": "stdout",
          "text": [
            "{'loss': 0.1003, 'grad_norm': 0.34371742606163025, 'learning_rate': 6.680851063829787e-06, 'epoch': 1.0}\n",
            "{'eval_loss': 0.23666493594646454, 'eval_f1': 0.582089552238806, 'eval_runtime': 3.2997, 'eval_samples_per_second': 271.839, 'eval_steps_per_second': 22.729, 'epoch': 1.0}\n",
            "{'loss': 0.0237, 'grad_norm': 0.2034163922071457, 'learning_rate': 3.3617021276595745e-06, 'epoch': 2.0}\n",
            "{'eval_loss': 0.23756766319274902, 'eval_f1': 0.6250000000000001, 'eval_runtime': 3.1277, 'eval_samples_per_second': 286.797, 'eval_steps_per_second': 23.98, 'epoch': 2.0}\n",
            "{'loss': 0.006, 'grad_norm': 0.002590178744867444, 'learning_rate': 2.836879432624114e-08, 'epoch': 3.0}\n",
            "{'eval_loss': 0.2829039990901947, 'eval_f1': 0.6296296296296295, 'eval_runtime': 3.1998, 'eval_samples_per_second': 280.332, 'eval_steps_per_second': 23.439, 'epoch': 3.0}\n",
            "{'train_runtime': 231.9468, 'train_samples_per_second': 48.619, 'train_steps_per_second': 3.039, 'train_loss': 0.043321255927390244, 'epoch': 3.0}\n",
            "----------  Res on Valid  ----------\n",
            "{'eval_loss': 0.2829039990901947, 'eval_f1': 0.6296296296296295, 'eval_runtime': 3.3598, 'eval_samples_per_second': 266.979, 'eval_steps_per_second': 22.323, 'epoch': 3.0}\n",
            "{'eval_loss': 0.2829039990901947, 'eval_f1': 0.6296296296296295, 'eval_runtime': 3.3598, 'eval_samples_per_second': 266.979, 'eval_steps_per_second': 22.323, 'epoch': 3.0}\n",
            "----------  Res on Test  ----------\n",
            "{'test_loss': 0.3100307583808899, 'test_f1': 0.6410256410256411, 'test_runtime': 2.0739, 'test_samples_per_second': 289.31, 'test_steps_per_second': 24.109}\n",
            "Val Res Save File:  drive/MyDrive/experiment_results/hs_txt_classification/VALID__bert-large-japanese-v2_Epoch3_Batch16_Lr1e-05.json\n",
            "Test Res Save File:  drive/MyDrive/experiment_results/hs_txt_classification/TEST__bert-large-japanese-v2_Epoch3_Batch16_Lr1e-05.json\n"
          ]
        }
      ]
    },
    {
      "cell_type": "code",
      "source": [
        "N_EPOCH = 3\n",
        "BATCH_SIZE = 16\n",
        "LR = 0.00003  # 3e-5\n",
        "\n",
        "experiment_name = '{}_Epoch{}_Batch{}_Lr{}'.format(MODEL.split('/')[1], N_EPOCH, BATCH_SIZE, LR)\n",
        "print('Experiment Name: ', experiment_name)\n",
        "\n",
        "res_val, res_test = do_training()\n",
        "\n",
        "# Save Valid Result\n",
        "save_file = os.path.join(SAVE_DIR, 'VALID__' + experiment_name + '.json')\n",
        "print('Val Res Save File: ', save_file)\n",
        "with open(save_file, 'w') as f:\n",
        "    json.dump(res_val, f, indent=2)\n",
        "\n",
        "# Save Test Result\n",
        "save_file = os.path.join(SAVE_DIR, 'TEST__' + experiment_name + '.json')\n",
        "print('Test Res Save File: ', save_file)\n",
        "with open(save_file, 'w') as f:\n",
        "    json.dump(res_test, f, indent=2)"
      ],
      "metadata": {
        "colab": {
          "base_uri": "https://localhost:8080/"
        },
        "id": "4OKuZDdSICQu",
        "outputId": "5bcd1e02-fcfd-455d-a5ab-c2c602023014"
      },
      "execution_count": 32,
      "outputs": [
        {
          "output_type": "stream",
          "name": "stdout",
          "text": [
            "Experiment Name:  bert-large-japanese-v2_Epoch3_Batch16_Lr3e-05\n",
            "N_EPOCH:  3\n",
            "BATCH_SIZE:  16\n",
            "LR 3e-05\n",
            "----------  Start Training  ----------\n"
          ]
        },
        {
          "output_type": "stream",
          "name": "stderr",
          "text": [
            "/usr/local/lib/python3.10/dist-packages/transformers/training_args.py:1474: FutureWarning: `evaluation_strategy` is deprecated and will be removed in version 4.46 of 🤗 Transformers. Use `eval_strategy` instead\n",
            "  warnings.warn(\n"
          ]
        },
        {
          "output_type": "stream",
          "name": "stdout",
          "text": [
            "{'loss': 0.0745, 'grad_norm': 0.017445947974920273, 'learning_rate': 2.0127659574468084e-05, 'epoch': 1.0}\n",
            "{'eval_loss': 0.2768104076385498, 'eval_f1': 0.576271186440678, 'eval_runtime': 3.2965, 'eval_samples_per_second': 272.105, 'eval_steps_per_second': 22.751, 'epoch': 1.0}\n",
            "{'loss': 0.0415, 'grad_norm': 0.4697950482368469, 'learning_rate': 1.0127659574468085e-05, 'epoch': 2.0}\n",
            "{'eval_loss': 0.23500892519950867, 'eval_f1': 0.6355140186915889, 'eval_runtime': 3.631, 'eval_samples_per_second': 247.04, 'eval_steps_per_second': 20.656, 'epoch': 2.0}\n",
            "{'loss': 0.0079, 'grad_norm': 0.004685573745518923, 'learning_rate': 1.276595744680851e-07, 'epoch': 3.0}\n",
            "{'eval_loss': 0.2110576331615448, 'eval_f1': 0.7096774193548386, 'eval_runtime': 3.188, 'eval_samples_per_second': 281.367, 'eval_steps_per_second': 23.526, 'epoch': 3.0}\n",
            "{'train_runtime': 233.8102, 'train_samples_per_second': 48.231, 'train_steps_per_second': 3.015, 'train_loss': 0.04130297484972798, 'epoch': 3.0}\n",
            "----------  Res on Valid  ----------\n",
            "{'eval_loss': 0.2110576331615448, 'eval_f1': 0.7096774193548386, 'eval_runtime': 3.2987, 'eval_samples_per_second': 271.927, 'eval_steps_per_second': 22.736, 'epoch': 3.0}\n",
            "{'eval_loss': 0.2110576331615448, 'eval_f1': 0.7096774193548386, 'eval_runtime': 3.2987, 'eval_samples_per_second': 271.927, 'eval_steps_per_second': 22.736, 'epoch': 3.0}\n",
            "----------  Res on Test  ----------\n",
            "{'test_loss': 0.24910306930541992, 'test_f1': 0.7076923076923077, 'test_runtime': 2.1552, 'test_samples_per_second': 278.39, 'test_steps_per_second': 23.199}\n",
            "Val Res Save File:  drive/MyDrive/experiment_results/hs_txt_classification/VALID__bert-large-japanese-v2_Epoch3_Batch16_Lr3e-05.json\n",
            "Test Res Save File:  drive/MyDrive/experiment_results/hs_txt_classification/TEST__bert-large-japanese-v2_Epoch3_Batch16_Lr3e-05.json\n"
          ]
        }
      ]
    },
    {
      "cell_type": "code",
      "source": [
        "N_EPOCH = 3\n",
        "BATCH_SIZE = 16\n",
        "LR = 0.00005  # 5e-5\n",
        "\n",
        "experiment_name = '{}_Epoch{}_Batch{}_Lr{}'.format(MODEL.split('/')[1], N_EPOCH, BATCH_SIZE, LR)\n",
        "print('Experiment Name: ', experiment_name)\n",
        "\n",
        "res_val, res_test = do_training()\n",
        "\n",
        "# Save Valid Result\n",
        "save_file = os.path.join(SAVE_DIR, 'VALID__' + experiment_name + '.json')\n",
        "print('Val Res Save File: ', save_file)\n",
        "with open(save_file, 'w') as f:\n",
        "    json.dump(res_val, f, indent=2)\n",
        "\n",
        "# Save Test Result\n",
        "save_file = os.path.join(SAVE_DIR, 'TEST__' + experiment_name + '.json')\n",
        "print('Test Res Save File: ', save_file)\n",
        "with open(save_file, 'w') as f:\n",
        "    json.dump(res_test, f, indent=2)"
      ],
      "metadata": {
        "colab": {
          "base_uri": "https://localhost:8080/"
        },
        "id": "C4yTbAROJlUh",
        "outputId": "5776a99a-7f2f-401f-c994-ef2d0b730b81"
      },
      "execution_count": 33,
      "outputs": [
        {
          "output_type": "stream",
          "name": "stdout",
          "text": [
            "Experiment Name:  bert-large-japanese-v2_Epoch3_Batch16_Lr5e-05\n",
            "N_EPOCH:  3\n",
            "BATCH_SIZE:  16\n",
            "LR 5e-05\n",
            "----------  Start Training  ----------\n"
          ]
        },
        {
          "output_type": "stream",
          "name": "stderr",
          "text": [
            "/usr/local/lib/python3.10/dist-packages/transformers/training_args.py:1474: FutureWarning: `evaluation_strategy` is deprecated and will be removed in version 4.46 of 🤗 Transformers. Use `eval_strategy` instead\n",
            "  warnings.warn(\n"
          ]
        },
        {
          "output_type": "stream",
          "name": "stdout",
          "text": [
            "{'loss': 0.1142, 'grad_norm': 0.36031991243362427, 'learning_rate': 3.361702127659575e-05, 'epoch': 1.0}\n",
            "{'eval_loss': 0.17552554607391357, 'eval_f1': 0.5964912280701754, 'eval_runtime': 3.1114, 'eval_samples_per_second': 288.294, 'eval_steps_per_second': 24.105, 'epoch': 1.0}\n",
            "{'loss': 0.0554, 'grad_norm': 0.08420763164758682, 'learning_rate': 1.695035460992908e-05, 'epoch': 2.0}\n",
            "{'eval_loss': 0.2975218892097473, 'eval_f1': 0.38095238095238093, 'eval_runtime': 3.2014, 'eval_samples_per_second': 280.187, 'eval_steps_per_second': 23.427, 'epoch': 2.0}\n",
            "{'loss': 0.0193, 'grad_norm': 0.03323858603835106, 'learning_rate': 2.8368794326241136e-07, 'epoch': 3.0}\n",
            "{'eval_loss': 0.2328931838274002, 'eval_f1': 0.5957446808510639, 'eval_runtime': 3.1966, 'eval_samples_per_second': 280.611, 'eval_steps_per_second': 23.462, 'epoch': 3.0}\n",
            "{'train_runtime': 229.9066, 'train_samples_per_second': 49.05, 'train_steps_per_second': 3.066, 'train_loss': 0.0629548282488018, 'epoch': 3.0}\n",
            "----------  Res on Valid  ----------\n",
            "{'eval_loss': 0.2328931838274002, 'eval_f1': 0.5957446808510639, 'eval_runtime': 3.1386, 'eval_samples_per_second': 285.794, 'eval_steps_per_second': 23.896, 'epoch': 3.0}\n",
            "{'eval_loss': 0.2328931838274002, 'eval_f1': 0.5957446808510639, 'eval_runtime': 3.1386, 'eval_samples_per_second': 285.794, 'eval_steps_per_second': 23.896, 'epoch': 3.0}\n",
            "----------  Res on Test  ----------\n",
            "{'test_loss': 0.23300206661224365, 'test_f1': 0.6153846153846153, 'test_runtime': 2.0873, 'test_samples_per_second': 287.46, 'test_steps_per_second': 23.955}\n",
            "Val Res Save File:  drive/MyDrive/experiment_results/hs_txt_classification/VALID__bert-large-japanese-v2_Epoch3_Batch16_Lr5e-05.json\n",
            "Test Res Save File:  drive/MyDrive/experiment_results/hs_txt_classification/TEST__bert-large-japanese-v2_Epoch3_Batch16_Lr5e-05.json\n"
          ]
        }
      ]
    },
    {
      "cell_type": "markdown",
      "source": [
        "#### Batch Size -> 32"
      ],
      "metadata": {
        "id": "MTpFv0XeM4Iu"
      }
    },
    {
      "cell_type": "code",
      "source": [
        "N_EPOCH = 3\n",
        "BATCH_SIZE = 32\n",
        "LR = 0.000003  # 3e-6\n",
        "\n",
        "experiment_name = '{}_Epoch{}_Batch{}_Lr{}'.format(MODEL.split('/')[1], N_EPOCH, BATCH_SIZE, LR)\n",
        "print('Experiment Name: ', experiment_name)\n",
        "\n",
        "res_val, res_test = do_training()\n",
        "\n",
        "# Save Valid Result\n",
        "save_file = os.path.join(SAVE_DIR, 'VALID__' + experiment_name + '.json')\n",
        "print(save_file)\n",
        "with open(save_file, 'w') as f:\n",
        "    json.dump(res_val, f, indent=2)\n",
        "\n",
        "# Save Test Result\n",
        "save_file = os.path.join(SAVE_DIR, 'TEST__' + experiment_name + '.json')\n",
        "print(save_file)\n",
        "with open(save_file, 'w') as f:\n",
        "    json.dump(res_test, f, indent=2)"
      ],
      "metadata": {
        "colab": {
          "base_uri": "https://localhost:8080/"
        },
        "id": "traGJnkBKyLT",
        "outputId": "86fde2a4-3a1e-49ce-8a46-0ef927b446b9"
      },
      "execution_count": 34,
      "outputs": [
        {
          "output_type": "stream",
          "name": "stdout",
          "text": [
            "Experiment Name:  bert-large-japanese-v2_Epoch3_Batch32_Lr3e-06\n",
            "N_EPOCH:  3\n",
            "BATCH_SIZE:  32\n",
            "LR 3e-06\n",
            "----------  Start Training  ----------\n"
          ]
        },
        {
          "output_type": "stream",
          "name": "stderr",
          "text": [
            "/usr/local/lib/python3.10/dist-packages/transformers/training_args.py:1474: FutureWarning: `evaluation_strategy` is deprecated and will be removed in version 4.46 of 🤗 Transformers. Use `eval_strategy` instead\n",
            "  warnings.warn(\n"
          ]
        },
        {
          "output_type": "stream",
          "name": "stdout",
          "text": [
            "{'loss': 0.01, 'grad_norm': 0.015491065569221973, 'learning_rate': 2.0084745762711865e-06, 'epoch': 1.0}\n",
            "{'eval_loss': 0.2484094351530075, 'eval_f1': 0.6105263157894737, 'eval_runtime': 3.2249, 'eval_samples_per_second': 278.152, 'eval_steps_per_second': 23.257, 'epoch': 1.0}\n",
            "{'loss': 0.0073, 'grad_norm': 0.03000836819410324, 'learning_rate': 1.0084745762711866e-06, 'epoch': 2.0}\n",
            "{'eval_loss': 0.23810912668704987, 'eval_f1': 0.6021505376344087, 'eval_runtime': 6.3856, 'eval_samples_per_second': 140.473, 'eval_steps_per_second': 11.745, 'epoch': 2.0}\n",
            "{'loss': 0.0074, 'grad_norm': 0.02949906326830387, 'learning_rate': 8.474576271186441e-09, 'epoch': 3.0}\n",
            "{'eval_loss': 0.23507905006408691, 'eval_f1': 0.6170212765957446, 'eval_runtime': 4.3449, 'eval_samples_per_second': 206.448, 'eval_steps_per_second': 17.262, 'epoch': 3.0}\n",
            "{'train_runtime': 168.43, 'train_samples_per_second': 66.954, 'train_steps_per_second': 2.102, 'train_loss': 0.00822724275669809, 'epoch': 3.0}\n",
            "----------  Res on Valid  ----------\n",
            "{'eval_loss': 0.23507905006408691, 'eval_f1': 0.6170212765957446, 'eval_runtime': 3.5488, 'eval_samples_per_second': 252.759, 'eval_steps_per_second': 21.134, 'epoch': 3.0}\n",
            "{'eval_loss': 0.23507905006408691, 'eval_f1': 0.6170212765957446, 'eval_runtime': 3.5488, 'eval_samples_per_second': 252.759, 'eval_steps_per_second': 21.134, 'epoch': 3.0}\n",
            "----------  Res on Test  ----------\n",
            "{'test_loss': 0.23279070854187012, 'test_f1': 0.6153846153846153, 'test_runtime': 2.2921, 'test_samples_per_second': 261.771, 'test_steps_per_second': 21.814}\n",
            "drive/MyDrive/experiment_results/hs_txt_classification/VALID__bert-large-japanese-v2_Epoch3_Batch32_Lr3e-06.json\n",
            "drive/MyDrive/experiment_results/hs_txt_classification/TEST__bert-large-japanese-v2_Epoch3_Batch32_Lr3e-06.json\n"
          ]
        }
      ]
    },
    {
      "cell_type": "code",
      "source": [
        "N_EPOCH = 3\n",
        "BATCH_SIZE = 32\n",
        "LR = 0.00001  # 1e-5\n",
        "\n",
        "experiment_name = '{}_Epoch{}_Batch{}_Lr{}'.format(MODEL.split('/')[1], N_EPOCH, BATCH_SIZE, LR)\n",
        "print('Experiment Name: ', experiment_name)\n",
        "\n",
        "res_val, res_test = do_training()\n",
        "\n",
        "# Save Valid Result\n",
        "save_file = os.path.join(SAVE_DIR, 'VALID__' + experiment_name + '.json')\n",
        "print('Val Res Save File: ', save_file)\n",
        "with open(save_file, 'w') as f:\n",
        "    json.dump(res_val, f, indent=2)\n",
        "\n",
        "# Save Test Result\n",
        "save_file = os.path.join(SAVE_DIR, 'TEST__' + experiment_name + '.json')\n",
        "print('Test Res Save File: ', save_file)\n",
        "with open(save_file, 'w') as f:\n",
        "    json.dump(res_test, f, indent=2)"
      ],
      "metadata": {
        "colab": {
          "base_uri": "https://localhost:8080/"
        },
        "id": "QjRsntbtMgf0",
        "outputId": "5943d672-14e8-4757-9824-c02c3b02d39e"
      },
      "execution_count": 35,
      "outputs": [
        {
          "output_type": "stream",
          "name": "stdout",
          "text": [
            "Experiment Name:  bert-large-japanese-v2_Epoch3_Batch32_Lr1e-05\n",
            "N_EPOCH:  3\n",
            "BATCH_SIZE:  32\n",
            "LR 1e-05\n",
            "----------  Start Training  ----------\n"
          ]
        },
        {
          "output_type": "stream",
          "name": "stderr",
          "text": [
            "/usr/local/lib/python3.10/dist-packages/transformers/training_args.py:1474: FutureWarning: `evaluation_strategy` is deprecated and will be removed in version 4.46 of 🤗 Transformers. Use `eval_strategy` instead\n",
            "  warnings.warn(\n"
          ]
        },
        {
          "output_type": "stream",
          "name": "stdout",
          "text": [
            "{'loss': 0.0073, 'grad_norm': 0.004140966571867466, 'learning_rate': 6.694915254237288e-06, 'epoch': 1.0}\n",
            "{'eval_loss': 0.3246777057647705, 'eval_f1': 0.5681818181818182, 'eval_runtime': 6.6225, 'eval_samples_per_second': 135.446, 'eval_steps_per_second': 11.325, 'epoch': 1.0}\n",
            "{'loss': 0.0034, 'grad_norm': 0.010092434473335743, 'learning_rate': 3.361581920903955e-06, 'epoch': 2.0}\n",
            "{'eval_loss': 0.2906034290790558, 'eval_f1': 0.5894736842105264, 'eval_runtime': 3.2574, 'eval_samples_per_second': 275.377, 'eval_steps_per_second': 23.025, 'epoch': 2.0}\n",
            "{'loss': 0.0001, 'grad_norm': 0.008447779342532158, 'learning_rate': 2.824858757062147e-08, 'epoch': 3.0}\n",
            "{'eval_loss': 0.30161145329475403, 'eval_f1': 0.6021505376344087, 'eval_runtime': 3.1285, 'eval_samples_per_second': 286.716, 'eval_steps_per_second': 23.973, 'epoch': 3.0}\n",
            "{'train_runtime': 166.3026, 'train_samples_per_second': 67.81, 'train_steps_per_second': 2.129, 'train_loss': 0.0036151518382258334, 'epoch': 3.0}\n",
            "----------  Res on Valid  ----------\n",
            "{'eval_loss': 0.30161145329475403, 'eval_f1': 0.6021505376344087, 'eval_runtime': 3.1724, 'eval_samples_per_second': 282.755, 'eval_steps_per_second': 23.642, 'epoch': 3.0}\n",
            "{'eval_loss': 0.30161145329475403, 'eval_f1': 0.6021505376344087, 'eval_runtime': 3.1724, 'eval_samples_per_second': 282.755, 'eval_steps_per_second': 23.642, 'epoch': 3.0}\n",
            "----------  Res on Test  ----------\n",
            "{'test_loss': 0.2788069546222687, 'test_f1': 0.6865671641791045, 'test_runtime': 2.2018, 'test_samples_per_second': 272.501, 'test_steps_per_second': 22.708}\n",
            "Val Res Save File:  drive/MyDrive/experiment_results/hs_txt_classification/VALID__bert-large-japanese-v2_Epoch3_Batch32_Lr1e-05.json\n",
            "Test Res Save File:  drive/MyDrive/experiment_results/hs_txt_classification/TEST__bert-large-japanese-v2_Epoch3_Batch32_Lr1e-05.json\n"
          ]
        }
      ]
    },
    {
      "cell_type": "code",
      "source": [
        "N_EPOCH = 3\n",
        "BATCH_SIZE = 32\n",
        "LR = 0.00003  # 3e-5\n",
        "\n",
        "experiment_name = '{}_Epoch{}_Batch{}_Lr{}'.format(MODEL.split('/')[1], N_EPOCH, BATCH_SIZE, LR)\n",
        "print('Experiment Name: ', experiment_name)\n",
        "\n",
        "res_val, res_test = do_training()\n",
        "\n",
        "# Save Valid Result\n",
        "save_file = os.path.join(SAVE_DIR, 'VALID__' + experiment_name + '.json')\n",
        "print('Val Res Save File: ', save_file)\n",
        "with open(save_file, 'w') as f:\n",
        "    json.dump(res_val, f, indent=2)\n",
        "\n",
        "# Save Test Result\n",
        "save_file = os.path.join(SAVE_DIR, 'TEST__' + experiment_name + '.json')\n",
        "print('Test Res Save File: ', save_file)\n",
        "with open(save_file, 'w') as f:\n",
        "    json.dump(res_test, f, indent=2)"
      ],
      "metadata": {
        "colab": {
          "base_uri": "https://localhost:8080/"
        },
        "id": "_SK60hp2NNyA",
        "outputId": "353784b6-b83e-4605-acaa-19cac2412f7d"
      },
      "execution_count": 36,
      "outputs": [
        {
          "output_type": "stream",
          "name": "stdout",
          "text": [
            "Experiment Name:  bert-large-japanese-v2_Epoch3_Batch32_Lr3e-05\n",
            "N_EPOCH:  3\n",
            "BATCH_SIZE:  32\n",
            "LR 3e-05\n",
            "----------  Start Training  ----------\n"
          ]
        },
        {
          "output_type": "stream",
          "name": "stderr",
          "text": [
            "/usr/local/lib/python3.10/dist-packages/transformers/training_args.py:1474: FutureWarning: `evaluation_strategy` is deprecated and will be removed in version 4.46 of 🤗 Transformers. Use `eval_strategy` instead\n",
            "  warnings.warn(\n"
          ]
        },
        {
          "output_type": "stream",
          "name": "stdout",
          "text": [
            "{'loss': 0.0, 'grad_norm': 1.44014802572201e-06, 'learning_rate': 1.9999999999999998e-05, 'epoch': 1.0}\n",
            "{'eval_loss': 0.6803588271141052, 'eval_f1': 0.5714285714285714, 'eval_runtime': 3.2137, 'eval_samples_per_second': 279.117, 'eval_steps_per_second': 23.338, 'epoch': 1.0}\n",
            "{'loss': 0.0, 'grad_norm': 1.3206362154960516e-06, 'learning_rate': 9.999999999999999e-06, 'epoch': 2.0}\n",
            "{'eval_loss': 0.6976458430290222, 'eval_f1': 0.5625000000000001, 'eval_runtime': 3.3032, 'eval_samples_per_second': 271.555, 'eval_steps_per_second': 22.705, 'epoch': 2.0}\n",
            "{'loss': 0.0, 'grad_norm': 1.6417860706496867e-06, 'learning_rate': 0.0, 'epoch': 3.0}\n",
            "{'eval_loss': 0.7014363408088684, 'eval_f1': 0.5625000000000001, 'eval_runtime': 3.1311, 'eval_samples_per_second': 286.483, 'eval_steps_per_second': 23.953, 'epoch': 3.0}\n",
            "{'train_runtime': 159.1207, 'train_samples_per_second': 70.871, 'train_steps_per_second': 2.225, 'train_loss': 9.526016126875543e-07, 'epoch': 3.0}\n",
            "----------  Res on Valid  ----------\n",
            "{'eval_loss': 0.7014363408088684, 'eval_f1': 0.5625000000000001, 'eval_runtime': 3.2513, 'eval_samples_per_second': 275.89, 'eval_steps_per_second': 23.068, 'epoch': 3.0}\n",
            "{'eval_loss': 0.7014363408088684, 'eval_f1': 0.5625000000000001, 'eval_runtime': 3.2513, 'eval_samples_per_second': 275.89, 'eval_steps_per_second': 23.068, 'epoch': 3.0}\n",
            "----------  Res on Test  ----------\n",
            "{'test_loss': 0.6213264465332031, 'test_f1': 0.6285714285714286, 'test_runtime': 2.2437, 'test_samples_per_second': 267.412, 'test_steps_per_second': 22.284}\n",
            "Val Res Save File:  drive/MyDrive/experiment_results/hs_txt_classification/VALID__bert-large-japanese-v2_Epoch3_Batch32_Lr3e-05.json\n",
            "Test Res Save File:  drive/MyDrive/experiment_results/hs_txt_classification/TEST__bert-large-japanese-v2_Epoch3_Batch32_Lr3e-05.json\n"
          ]
        }
      ]
    },
    {
      "cell_type": "code",
      "source": [
        "N_EPOCH = 3\n",
        "BATCH_SIZE = 32\n",
        "LR = 0.00005  # 5e-5\n",
        "\n",
        "experiment_name = '{}_Epoch{}_Batch{}_Lr{}'.format(MODEL.split('/')[1], N_EPOCH, BATCH_SIZE, LR)\n",
        "print('Experiment Name: ', experiment_name)\n",
        "\n",
        "res_val, res_test = do_training()\n",
        "\n",
        "# Save Valid Result\n",
        "save_file = os.path.join(SAVE_DIR, 'VALID__' + experiment_name + '.json')\n",
        "print('Val Res Save File: ', save_file)\n",
        "with open(save_file, 'w') as f:\n",
        "    json.dump(res_val, f, indent=2)\n",
        "\n",
        "# Save Test Result\n",
        "save_file = os.path.join(SAVE_DIR, 'TEST__' + experiment_name + '.json')\n",
        "print('Test Res Save File: ', save_file)\n",
        "with open(save_file, 'w') as f:\n",
        "    json.dump(res_test, f, indent=2)"
      ],
      "metadata": {
        "colab": {
          "base_uri": "https://localhost:8080/"
        },
        "id": "CRsiu7SNNZ3x",
        "outputId": "e54cb038-2f09-444b-891d-12bd6279b32c"
      },
      "execution_count": 37,
      "outputs": [
        {
          "output_type": "stream",
          "name": "stdout",
          "text": [
            "Experiment Name:  bert-large-japanese-v2_Epoch3_Batch32_Lr5e-05\n",
            "N_EPOCH:  3\n",
            "BATCH_SIZE:  32\n",
            "LR 5e-05\n",
            "----------  Start Training  ----------\n"
          ]
        },
        {
          "output_type": "stream",
          "name": "stderr",
          "text": [
            "/usr/local/lib/python3.10/dist-packages/transformers/training_args.py:1474: FutureWarning: `evaluation_strategy` is deprecated and will be removed in version 4.46 of 🤗 Transformers. Use `eval_strategy` instead\n",
            "  warnings.warn(\n"
          ]
        },
        {
          "output_type": "stream",
          "name": "stdout",
          "text": [
            "{'loss': 0.0, 'grad_norm': 8.536226658861779e-08, 'learning_rate': 3.3333333333333335e-05, 'epoch': 1.0}\n",
            "{'eval_loss': 0.7169596552848816, 'eval_f1': 0.5909090909090909, 'eval_runtime': 3.2349, 'eval_samples_per_second': 277.285, 'eval_steps_per_second': 23.184, 'epoch': 1.0}\n",
            "{'loss': 0.0, 'grad_norm': 6.641817407171402e-08, 'learning_rate': 1.6666666666666667e-05, 'epoch': 2.0}\n",
            "{'eval_loss': 0.7408198118209839, 'eval_f1': 0.5777777777777778, 'eval_runtime': 3.1448, 'eval_samples_per_second': 285.231, 'eval_steps_per_second': 23.849, 'epoch': 2.0}\n",
            "{'loss': 0.0, 'grad_norm': 5.433911098862154e-08, 'learning_rate': 0.0, 'epoch': 3.0}\n",
            "{'eval_loss': 0.7615308165550232, 'eval_f1': 0.5777777777777778, 'eval_runtime': 3.1552, 'eval_samples_per_second': 284.289, 'eval_steps_per_second': 23.77, 'epoch': 3.0}\n",
            "{'train_runtime': 157.6384, 'train_samples_per_second': 71.537, 'train_steps_per_second': 2.246, 'train_loss': 7.892564191656597e-10, 'epoch': 3.0}\n",
            "----------  Res on Valid  ----------\n",
            "{'eval_loss': 0.7615308165550232, 'eval_f1': 0.5777777777777778, 'eval_runtime': 3.1408, 'eval_samples_per_second': 285.599, 'eval_steps_per_second': 23.879, 'epoch': 3.0}\n",
            "{'eval_loss': 0.7615308165550232, 'eval_f1': 0.5777777777777778, 'eval_runtime': 3.1408, 'eval_samples_per_second': 285.599, 'eval_steps_per_second': 23.879, 'epoch': 3.0}\n",
            "----------  Res on Test  ----------\n",
            "{'test_loss': 0.6504808664321899, 'test_f1': 0.603174603174603, 'test_runtime': 2.0958, 'test_samples_per_second': 286.286, 'test_steps_per_second': 23.857}\n",
            "Val Res Save File:  drive/MyDrive/experiment_results/hs_txt_classification/VALID__bert-large-japanese-v2_Epoch3_Batch32_Lr5e-05.json\n",
            "Test Res Save File:  drive/MyDrive/experiment_results/hs_txt_classification/TEST__bert-large-japanese-v2_Epoch3_Batch32_Lr5e-05.json\n"
          ]
        }
      ]
    },
    {
      "cell_type": "code",
      "source": [],
      "metadata": {
        "id": "qPWO2v8SP34q"
      },
      "execution_count": null,
      "outputs": []
    },
    {
      "cell_type": "markdown",
      "source": [
        "#### Top4の繰り返し"
      ],
      "metadata": {
        "id": "5FNabicsRAj4"
      }
    },
    {
      "cell_type": "code",
      "source": [
        "N_EPOCH = 3\n",
        "BATCH_SIZE = 16\n",
        "LR = 0.00003  # 3e-5\n",
        "\n",
        "experiment_name = '{}_Epoch{}_Batch{}_Lr{}'.format(MODEL.split('/')[1], N_EPOCH, BATCH_SIZE, LR)\n",
        "print('Experiment Name: ', experiment_name)\n",
        "\n",
        "res_val, res_test = do_training()\n",
        "\n",
        "# Save Valid Result\n",
        "save_file = os.path.join(SAVE_DIR, 'VALID__' + experiment_name + '.json')\n",
        "print('Val Res Save File: ', save_file)\n",
        "with open(save_file, 'w') as f:\n",
        "    json.dump(res_val, f, indent=2)\n",
        "\n",
        "# Save Test Result\n",
        "save_file = os.path.join(SAVE_DIR, 'TEST__' + experiment_name + '.json')\n",
        "print('Test Res Save File: ', save_file)\n",
        "with open(save_file, 'w') as f:\n",
        "    json.dump(res_test, f, indent=2)"
      ],
      "metadata": {
        "colab": {
          "base_uri": "https://localhost:8080/"
        },
        "id": "jpPdTdexP4G_",
        "outputId": "aa52005c-2157-44f8-d352-ba508ca4c1e8"
      },
      "execution_count": 38,
      "outputs": [
        {
          "output_type": "stream",
          "name": "stdout",
          "text": [
            "Experiment Name:  bert-large-japanese-v2_Epoch3_Batch16_Lr3e-05\n",
            "N_EPOCH:  3\n",
            "BATCH_SIZE:  16\n",
            "LR 3e-05\n",
            "----------  Start Training  ----------\n"
          ]
        },
        {
          "output_type": "stream",
          "name": "stderr",
          "text": [
            "/usr/local/lib/python3.10/dist-packages/transformers/training_args.py:1474: FutureWarning: `evaluation_strategy` is deprecated and will be removed in version 4.46 of 🤗 Transformers. Use `eval_strategy` instead\n",
            "  warnings.warn(\n"
          ]
        },
        {
          "output_type": "stream",
          "name": "stdout",
          "text": [
            "{'loss': 0.0, 'grad_norm': 2.710457458476867e-08, 'learning_rate': 1.9999999999999998e-05, 'epoch': 1.0}\n",
            "{'eval_loss': 0.7746438384056091, 'eval_f1': 0.5842696629213484, 'eval_runtime': 3.1097, 'eval_samples_per_second': 288.452, 'eval_steps_per_second': 24.118, 'epoch': 1.0}\n",
            "{'loss': 0.0, 'grad_norm': 2.2809782507238197e-08, 'learning_rate': 9.999999999999999e-06, 'epoch': 2.0}\n",
            "{'eval_loss': 0.794215202331543, 'eval_f1': 0.5777777777777778, 'eval_runtime': 3.1358, 'eval_samples_per_second': 286.049, 'eval_steps_per_second': 23.917, 'epoch': 2.0}\n",
            "{'loss': 0.0, 'grad_norm': 2.2604172755791296e-08, 'learning_rate': 0.0, 'epoch': 3.0}\n",
            "{'eval_loss': 0.7972242832183838, 'eval_f1': 0.5777777777777778, 'eval_runtime': 3.3997, 'eval_samples_per_second': 263.849, 'eval_steps_per_second': 22.061, 'epoch': 3.0}\n",
            "{'train_runtime': 228.5113, 'train_samples_per_second': 49.35, 'train_steps_per_second': 3.085, 'train_loss': 2.11363988565215e-11, 'epoch': 3.0}\n",
            "----------  Res on Valid  ----------\n",
            "{'eval_loss': 0.7972242832183838, 'eval_f1': 0.5777777777777778, 'eval_runtime': 3.1632, 'eval_samples_per_second': 283.576, 'eval_steps_per_second': 23.71, 'epoch': 3.0}\n",
            "{'eval_loss': 0.7972242832183838, 'eval_f1': 0.5777777777777778, 'eval_runtime': 3.1632, 'eval_samples_per_second': 283.576, 'eval_steps_per_second': 23.71, 'epoch': 3.0}\n",
            "----------  Res on Test  ----------\n",
            "{'test_loss': 0.6874194145202637, 'test_f1': 0.6129032258064516, 'test_runtime': 2.089, 'test_samples_per_second': 287.219, 'test_steps_per_second': 23.935}\n",
            "Val Res Save File:  drive/MyDrive/experiment_results/hs_txt_classification/VALID__bert-large-japanese-v2_Epoch3_Batch16_Lr3e-05.json\n",
            "Test Res Save File:  drive/MyDrive/experiment_results/hs_txt_classification/TEST__bert-large-japanese-v2_Epoch3_Batch16_Lr3e-05.json\n"
          ]
        }
      ]
    },
    {
      "cell_type": "code",
      "source": [
        "N_EPOCH = 3\n",
        "BATCH_SIZE = 16\n",
        "LR = 0.00001  # 1e-5\n",
        "\n",
        "experiment_name = '{}_Epoch{}_Batch{}_Lr{}'.format(MODEL.split('/')[1], N_EPOCH, BATCH_SIZE, LR)\n",
        "print('Experiment Name: ', experiment_name)\n",
        "\n",
        "res_val, res_test = do_training()\n",
        "\n",
        "# Save Valid Result\n",
        "save_file = os.path.join(SAVE_DIR, 'VALID__' + experiment_name + '.json')\n",
        "print('Val Res Save File: ', save_file)\n",
        "with open(save_file, 'w') as f:\n",
        "    json.dump(res_val, f, indent=2)\n",
        "\n",
        "# Save Test Result\n",
        "save_file = os.path.join(SAVE_DIR, 'TEST__' + experiment_name + '.json')\n",
        "print('Test Res Save File: ', save_file)\n",
        "with open(save_file, 'w') as f:\n",
        "    json.dump(res_test, f, indent=2)"
      ],
      "metadata": {
        "colab": {
          "base_uri": "https://localhost:8080/"
        },
        "id": "QxwK75OrP-8e",
        "outputId": "4a43839b-5185-4d09-a3ad-7a7b45143acc"
      },
      "execution_count": 39,
      "outputs": [
        {
          "output_type": "stream",
          "name": "stdout",
          "text": [
            "Experiment Name:  bert-large-japanese-v2_Epoch3_Batch16_Lr1e-05\n",
            "N_EPOCH:  3\n",
            "BATCH_SIZE:  16\n",
            "LR 1e-05\n",
            "----------  Start Training  ----------\n"
          ]
        },
        {
          "output_type": "stream",
          "name": "stderr",
          "text": [
            "/usr/local/lib/python3.10/dist-packages/transformers/training_args.py:1474: FutureWarning: `evaluation_strategy` is deprecated and will be removed in version 4.46 of 🤗 Transformers. Use `eval_strategy` instead\n",
            "  warnings.warn(\n"
          ]
        },
        {
          "output_type": "stream",
          "name": "stdout",
          "text": [
            "{'loss': 0.0, 'grad_norm': 1.734191101832039e-08, 'learning_rate': 6.666666666666667e-06, 'epoch': 1.0}\n",
            "{'eval_loss': 0.8012652397155762, 'eval_f1': 0.5777777777777778, 'eval_runtime': 4.3203, 'eval_samples_per_second': 207.624, 'eval_steps_per_second': 17.36, 'epoch': 1.0}\n",
            "{'loss': 0.0, 'grad_norm': 1.7929705720121092e-08, 'learning_rate': 3.3333333333333333e-06, 'epoch': 2.0}\n",
            "{'eval_loss': 0.8033903241157532, 'eval_f1': 0.5777777777777778, 'eval_runtime': 3.2734, 'eval_samples_per_second': 274.028, 'eval_steps_per_second': 22.912, 'epoch': 2.0}\n",
            "{'loss': 0.0, 'grad_norm': 1.8830780490475263e-08, 'learning_rate': 0.0, 'epoch': 3.0}\n",
            "{'eval_loss': 0.8045616745948792, 'eval_f1': 0.5777777777777778, 'eval_runtime': 3.133, 'eval_samples_per_second': 286.308, 'eval_steps_per_second': 23.939, 'epoch': 3.0}\n",
            "{'train_runtime': 238.6251, 'train_samples_per_second': 47.258, 'train_steps_per_second': 2.954, 'train_loss': 0.0, 'epoch': 3.0}\n",
            "----------  Res on Valid  ----------\n",
            "{'eval_loss': 0.8045616745948792, 'eval_f1': 0.5777777777777778, 'eval_runtime': 3.1339, 'eval_samples_per_second': 286.226, 'eval_steps_per_second': 23.932, 'epoch': 3.0}\n",
            "{'eval_loss': 0.8045616745948792, 'eval_f1': 0.5777777777777778, 'eval_runtime': 3.1339, 'eval_samples_per_second': 286.226, 'eval_steps_per_second': 23.932, 'epoch': 3.0}\n",
            "----------  Res on Test  ----------\n",
            "{'test_loss': 0.694034218788147, 'test_f1': 0.6129032258064516, 'test_runtime': 2.0853, 'test_samples_per_second': 287.729, 'test_steps_per_second': 23.977}\n",
            "Val Res Save File:  drive/MyDrive/experiment_results/hs_txt_classification/VALID__bert-large-japanese-v2_Epoch3_Batch16_Lr1e-05.json\n",
            "Test Res Save File:  drive/MyDrive/experiment_results/hs_txt_classification/TEST__bert-large-japanese-v2_Epoch3_Batch16_Lr1e-05.json\n"
          ]
        }
      ]
    },
    {
      "cell_type": "code",
      "source": [
        "N_EPOCH = 3\n",
        "BATCH_SIZE = 32\n",
        "LR = 0.00001  # 1e-5\n",
        "\n",
        "experiment_name = '{}_Epoch{}_Batch{}_Lr{}'.format(MODEL.split('/')[1], N_EPOCH, BATCH_SIZE, LR)\n",
        "print('Experiment Name: ', experiment_name)\n",
        "\n",
        "res_val, res_test = do_training()\n",
        "\n",
        "# Save Valid Result\n",
        "save_file = os.path.join(SAVE_DIR, 'VALID__' + experiment_name + '.json')\n",
        "print('Val Res Save File: ', save_file)\n",
        "with open(save_file, 'w') as f:\n",
        "    json.dump(res_val, f, indent=2)\n",
        "\n",
        "# Save Test Result\n",
        "save_file = os.path.join(SAVE_DIR, 'TEST__' + experiment_name + '.json')\n",
        "print('Test Res Save File: ', save_file)\n",
        "with open(save_file, 'w') as f:\n",
        "    json.dump(res_test, f, indent=2)"
      ],
      "metadata": {
        "colab": {
          "base_uri": "https://localhost:8080/"
        },
        "id": "BRmdS5B1RbkN",
        "outputId": "b6a6d017-7850-457f-80e9-c3684301d0f7"
      },
      "execution_count": 40,
      "outputs": [
        {
          "output_type": "stream",
          "name": "stdout",
          "text": [
            "Experiment Name:  bert-large-japanese-v2_Epoch3_Batch32_Lr1e-05\n",
            "N_EPOCH:  3\n",
            "BATCH_SIZE:  32\n",
            "LR 1e-05\n",
            "----------  Start Training  ----------\n"
          ]
        },
        {
          "output_type": "stream",
          "name": "stderr",
          "text": [
            "/usr/local/lib/python3.10/dist-packages/transformers/training_args.py:1474: FutureWarning: `evaluation_strategy` is deprecated and will be removed in version 4.46 of 🤗 Transformers. Use `eval_strategy` instead\n",
            "  warnings.warn(\n"
          ]
        },
        {
          "output_type": "stream",
          "name": "stdout",
          "text": [
            "{'loss': 0.0, 'grad_norm': 1.4030593575853345e-08, 'learning_rate': 6.666666666666667e-06, 'epoch': 1.0}\n",
            "{'eval_loss': 0.8058550357818604, 'eval_f1': 0.5777777777777778, 'eval_runtime': 3.1543, 'eval_samples_per_second': 284.371, 'eval_steps_per_second': 23.777, 'epoch': 1.0}\n",
            "{'loss': 0.0, 'grad_norm': 1.675910965559524e-08, 'learning_rate': 3.3333333333333333e-06, 'epoch': 2.0}\n",
            "{'eval_loss': 0.8071832656860352, 'eval_f1': 0.5777777777777778, 'eval_runtime': 3.1547, 'eval_samples_per_second': 284.339, 'eval_steps_per_second': 23.774, 'epoch': 2.0}\n",
            "{'loss': 0.0, 'grad_norm': 1.512791136804026e-08, 'learning_rate': 0.0, 'epoch': 3.0}\n",
            "{'eval_loss': 0.8075665235519409, 'eval_f1': 0.5777777777777778, 'eval_runtime': 3.323, 'eval_samples_per_second': 269.934, 'eval_steps_per_second': 22.57, 'epoch': 3.0}\n",
            "{'train_runtime': 158.9477, 'train_samples_per_second': 70.948, 'train_steps_per_second': 2.227, 'train_loss': 1.0523418922208797e-11, 'epoch': 3.0}\n",
            "----------  Res on Valid  ----------\n",
            "{'eval_loss': 0.8075665235519409, 'eval_f1': 0.5777777777777778, 'eval_runtime': 3.1279, 'eval_samples_per_second': 286.774, 'eval_steps_per_second': 23.978, 'epoch': 3.0}\n",
            "{'eval_loss': 0.8075665235519409, 'eval_f1': 0.5777777777777778, 'eval_runtime': 3.1279, 'eval_samples_per_second': 286.774, 'eval_steps_per_second': 23.978, 'epoch': 3.0}\n",
            "----------  Res on Test  ----------\n",
            "{'test_loss': 0.6967657208442688, 'test_f1': 0.6129032258064516, 'test_runtime': 2.0929, 'test_samples_per_second': 286.678, 'test_steps_per_second': 23.89}\n",
            "Val Res Save File:  drive/MyDrive/experiment_results/hs_txt_classification/VALID__bert-large-japanese-v2_Epoch3_Batch32_Lr1e-05.json\n",
            "Test Res Save File:  drive/MyDrive/experiment_results/hs_txt_classification/TEST__bert-large-japanese-v2_Epoch3_Batch32_Lr1e-05.json\n"
          ]
        }
      ]
    },
    {
      "cell_type": "code",
      "source": [
        "N_EPOCH = 3\n",
        "BATCH_SIZE = 32\n",
        "LR = 0.00003  # 3e-5\n",
        "\n",
        "experiment_name = '{}_Epoch{}_Batch{}_Lr{}'.format(MODEL.split('/')[1], N_EPOCH, BATCH_SIZE, LR)\n",
        "print('Experiment Name: ', experiment_name)\n",
        "\n",
        "res_val, res_test = do_training()\n",
        "\n",
        "# Save Valid Result\n",
        "save_file = os.path.join(SAVE_DIR, 'VALID__' + experiment_name + '.json')\n",
        "print('Val Res Save File: ', save_file)\n",
        "with open(save_file, 'w') as f:\n",
        "    json.dump(res_val, f, indent=2)\n",
        "\n",
        "# Save Test Result\n",
        "save_file = os.path.join(SAVE_DIR, 'TEST__' + experiment_name + '.json')\n",
        "print('Test Res Save File: ', save_file)\n",
        "with open(save_file, 'w') as f:\n",
        "    json.dump(res_test, f, indent=2)"
      ],
      "metadata": {
        "colab": {
          "base_uri": "https://localhost:8080/"
        },
        "id": "OUED-aj4R3OB",
        "outputId": "b522be42-f028-491c-f945-831da7fed921"
      },
      "execution_count": 41,
      "outputs": [
        {
          "output_type": "stream",
          "name": "stdout",
          "text": [
            "Experiment Name:  bert-large-japanese-v2_Epoch3_Batch32_Lr3e-05\n",
            "N_EPOCH:  3\n",
            "BATCH_SIZE:  32\n",
            "LR 3e-05\n",
            "----------  Start Training  ----------\n"
          ]
        },
        {
          "output_type": "stream",
          "name": "stderr",
          "text": [
            "/usr/local/lib/python3.10/dist-packages/transformers/training_args.py:1474: FutureWarning: `evaluation_strategy` is deprecated and will be removed in version 4.46 of 🤗 Transformers. Use `eval_strategy` instead\n",
            "  warnings.warn(\n"
          ]
        },
        {
          "output_type": "stream",
          "name": "stdout",
          "text": [
            "{'loss': 0.0, 'grad_norm': 1.1889107476292793e-08, 'learning_rate': 1.9999999999999998e-05, 'epoch': 1.0}\n",
            "{'eval_loss': 0.8124697804450989, 'eval_f1': 0.5777777777777778, 'eval_runtime': 3.2919, 'eval_samples_per_second': 272.491, 'eval_steps_per_second': 22.783, 'epoch': 1.0}\n",
            "{'loss': 0.0, 'grad_norm': 1.3651215269305794e-08, 'learning_rate': 9.999999999999999e-06, 'epoch': 2.0}\n",
            "{'eval_loss': 0.8153612613677979, 'eval_f1': 0.5777777777777778, 'eval_runtime': 3.2639, 'eval_samples_per_second': 274.822, 'eval_steps_per_second': 22.978, 'epoch': 2.0}\n",
            "{'loss': 0.0, 'grad_norm': 1.2138256622051813e-08, 'learning_rate': 0.0, 'epoch': 3.0}\n",
            "{'eval_loss': 0.8164675831794739, 'eval_f1': 0.5777777777777778, 'eval_runtime': 3.1413, 'eval_samples_per_second': 285.552, 'eval_steps_per_second': 23.876, 'epoch': 3.0}\n",
            "{'train_runtime': 157.6984, 'train_samples_per_second': 71.51, 'train_steps_per_second': 2.245, 'train_loss': 1.0523418922208797e-11, 'epoch': 3.0}\n",
            "----------  Res on Valid  ----------\n",
            "{'eval_loss': 0.8164675831794739, 'eval_f1': 0.5777777777777778, 'eval_runtime': 3.188, 'eval_samples_per_second': 281.366, 'eval_steps_per_second': 23.526, 'epoch': 3.0}\n",
            "{'eval_loss': 0.8164675831794739, 'eval_f1': 0.5777777777777778, 'eval_runtime': 3.188, 'eval_samples_per_second': 281.366, 'eval_steps_per_second': 23.526, 'epoch': 3.0}\n",
            "----------  Res on Test  ----------\n",
            "{'test_loss': 0.70416659116745, 'test_f1': 0.6129032258064516, 'test_runtime': 2.2184, 'test_samples_per_second': 270.466, 'test_steps_per_second': 22.539}\n",
            "Val Res Save File:  drive/MyDrive/experiment_results/hs_txt_classification/VALID__bert-large-japanese-v2_Epoch3_Batch32_Lr3e-05.json\n",
            "Test Res Save File:  drive/MyDrive/experiment_results/hs_txt_classification/TEST__bert-large-japanese-v2_Epoch3_Batch32_Lr3e-05.json\n"
          ]
        }
      ]
    }
  ]
}