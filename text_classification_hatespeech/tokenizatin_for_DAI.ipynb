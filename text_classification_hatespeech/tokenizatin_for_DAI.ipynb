{
 "cells": [
  {
   "cell_type": "code",
   "execution_count": null,
   "id": "7f6441ac",
   "metadata": {},
   "outputs": [],
   "source": []
  },
  {
   "cell_type": "code",
   "execution_count": 5,
   "id": "ed685134",
   "metadata": {},
   "outputs": [],
   "source": [
    "import pandas as pd\n",
    "\n",
    "from janome.tokenizer import Tokenizer\n",
    "\n",
    "from transformers import AutoTokenizer"
   ]
  },
  {
   "cell_type": "code",
   "execution_count": 6,
   "id": "9f73d144",
   "metadata": {},
   "outputs": [
    {
     "name": "stdout",
     "output_type": "stream",
     "text": [
      "\u001b[34mdata\u001b[m\u001b[m                 hatespeech.zip       hatespeech_train.csv\r\n",
      "\u001b[34mhatespeech\u001b[m\u001b[m           hatespeech_test.csv\r\n"
     ]
    }
   ],
   "source": [
    "!ls tmp"
   ]
  },
  {
   "cell_type": "code",
   "execution_count": 27,
   "id": "233c8ebf",
   "metadata": {},
   "outputs": [
    {
     "data": {
      "text/plain": [
       "((4656, 5), (600, 4))"
      ]
     },
     "execution_count": 27,
     "metadata": {},
     "output_type": "execute_result"
    }
   ],
   "source": [
    "df_train = pd.read_csv('tmp/hatespeech_train.csv')\n",
    "df_test = pd.read_csv('tmp/hatespeech_test.csv')\n",
    "df_train.shape, df_test.shape"
   ]
  },
  {
   "cell_type": "code",
   "execution_count": 28,
   "id": "c9904bf3",
   "metadata": {},
   "outputs": [
    {
     "data": {
      "text/html": [
       "<div>\n",
       "<style scoped>\n",
       "    .dataframe tbody tr th:only-of-type {\n",
       "        vertical-align: middle;\n",
       "    }\n",
       "\n",
       "    .dataframe tbody tr th {\n",
       "        vertical-align: top;\n",
       "    }\n",
       "\n",
       "    .dataframe thead th {\n",
       "        text-align: right;\n",
       "    }\n",
       "</style>\n",
       "<table border=\"1\" class=\"dataframe\">\n",
       "  <thead>\n",
       "    <tr style=\"text-align: right;\">\n",
       "      <th></th>\n",
       "      <th>id</th>\n",
       "      <th>source</th>\n",
       "      <th>text</th>\n",
       "      <th>label</th>\n",
       "      <th>hold</th>\n",
       "    </tr>\n",
       "  </thead>\n",
       "  <tbody>\n",
       "    <tr>\n",
       "      <th>0</th>\n",
       "      <td>b1b0d5e6c</td>\n",
       "      <td>newsplus</td>\n",
       "      <td>手引きしたのは高い確率で大院君だよなぁ</td>\n",
       "      <td>0</td>\n",
       "      <td>2</td>\n",
       "    </tr>\n",
       "    <tr>\n",
       "      <th>1</th>\n",
       "      <td>a5e29c5f1</td>\n",
       "      <td>livejupiter</td>\n",
       "      <td>いや別にワイが困るわけじゃないからええけど対応大変やなぁと思ってな</td>\n",
       "      <td>0</td>\n",
       "      <td>1</td>\n",
       "    </tr>\n",
       "    <tr>\n",
       "      <th>2</th>\n",
       "      <td>bd72cb57e</td>\n",
       "      <td>newsplus</td>\n",
       "      <td>そこで家族会すら総スカンを食らった極左を出すあたり頭が逝ってるな\\n結局動かぬ証拠だから動か...</td>\n",
       "      <td>0</td>\n",
       "      <td>4</td>\n",
       "    </tr>\n",
       "    <tr>\n",
       "      <th>3</th>\n",
       "      <td>66387bae8</td>\n",
       "      <td>news4vip</td>\n",
       "      <td>もともとB'zが好きだったんだが松本のソロアルバムでtake5カバーしててな\\nそれで原曲聴...</td>\n",
       "      <td>0</td>\n",
       "      <td>1</td>\n",
       "    </tr>\n",
       "    <tr>\n",
       "      <th>4</th>\n",
       "      <td>b80dc3a94</td>\n",
       "      <td>livejupiter</td>\n",
       "      <td>スタンドって本体の内面現すんだよな\\n\\nいろいろ想像するとおもろいわ\\n何でDIOは時止め...</td>\n",
       "      <td>0</td>\n",
       "      <td>2</td>\n",
       "    </tr>\n",
       "  </tbody>\n",
       "</table>\n",
       "</div>"
      ],
      "text/plain": [
       "          id       source                                               text  \\\n",
       "0  b1b0d5e6c     newsplus                                手引きしたのは高い確率で大院君だよなぁ   \n",
       "1  a5e29c5f1  livejupiter                  いや別にワイが困るわけじゃないからええけど対応大変やなぁと思ってな   \n",
       "2  bd72cb57e     newsplus  そこで家族会すら総スカンを食らった極左を出すあたり頭が逝ってるな\\n結局動かぬ証拠だから動か...   \n",
       "3  66387bae8     news4vip  もともとB'zが好きだったんだが松本のソロアルバムでtake5カバーしててな\\nそれで原曲聴...   \n",
       "4  b80dc3a94  livejupiter  スタンドって本体の内面現すんだよな\\n\\nいろいろ想像するとおもろいわ\\n何でDIOは時止め...   \n",
       "\n",
       "   label  hold  \n",
       "0      0     2  \n",
       "1      0     1  \n",
       "2      0     4  \n",
       "3      0     1  \n",
       "4      0     2  "
      ]
     },
     "execution_count": 28,
     "metadata": {},
     "output_type": "execute_result"
    }
   ],
   "source": [
    "df_train.head()"
   ]
  },
  {
   "cell_type": "code",
   "execution_count": 29,
   "id": "a4f0dc18",
   "metadata": {},
   "outputs": [
    {
     "data": {
      "text/html": [
       "<div>\n",
       "<style scoped>\n",
       "    .dataframe tbody tr th:only-of-type {\n",
       "        vertical-align: middle;\n",
       "    }\n",
       "\n",
       "    .dataframe tbody tr th {\n",
       "        vertical-align: top;\n",
       "    }\n",
       "\n",
       "    .dataframe thead th {\n",
       "        text-align: right;\n",
       "    }\n",
       "</style>\n",
       "<table border=\"1\" class=\"dataframe\">\n",
       "  <thead>\n",
       "    <tr style=\"text-align: right;\">\n",
       "      <th></th>\n",
       "      <th>id</th>\n",
       "      <th>source</th>\n",
       "      <th>text</th>\n",
       "      <th>label</th>\n",
       "    </tr>\n",
       "  </thead>\n",
       "  <tbody>\n",
       "    <tr>\n",
       "      <th>0</th>\n",
       "      <td>e3d3e578b</td>\n",
       "      <td>news4vip</td>\n",
       "      <td>まぁ、俺の言ってることは余りあてにしないでくれwwww\\n\\n必ずいい人は現れるよ</td>\n",
       "      <td>0</td>\n",
       "    </tr>\n",
       "    <tr>\n",
       "      <th>1</th>\n",
       "      <td>a728f26db</td>\n",
       "      <td>news4vip</td>\n",
       "      <td>すまないがそれはレンジのほうか？\\nそれともトースター？</td>\n",
       "      <td>0</td>\n",
       "    </tr>\n",
       "    <tr>\n",
       "      <th>2</th>\n",
       "      <td>c53e66dc9</td>\n",
       "      <td>livejupiter</td>\n",
       "      <td>そら大不況で独り勝ちした金持ちを殺してしかも自分もちゃんと腹切ってるからな\\n今で言うならリ...</td>\n",
       "      <td>0</td>\n",
       "    </tr>\n",
       "    <tr>\n",
       "      <th>3</th>\n",
       "      <td>fb3b600fb</td>\n",
       "      <td>newsplus</td>\n",
       "      <td>外国や外国人に税金や公的資金を使うのは違法と言ってくれたら、民進党の支持率は爆上げだろうな。</td>\n",
       "      <td>0</td>\n",
       "    </tr>\n",
       "    <tr>\n",
       "      <th>4</th>\n",
       "      <td>ef9cd1326</td>\n",
       "      <td>newsplus</td>\n",
       "      <td>中国人は、日本の年金制度にものらないとw</td>\n",
       "      <td>0</td>\n",
       "    </tr>\n",
       "  </tbody>\n",
       "</table>\n",
       "</div>"
      ],
      "text/plain": [
       "          id       source                                               text  \\\n",
       "0  e3d3e578b     news4vip          まぁ、俺の言ってることは余りあてにしないでくれwwww\\n\\n必ずいい人は現れるよ   \n",
       "1  a728f26db     news4vip                       すまないがそれはレンジのほうか？\\nそれともトースター？   \n",
       "2  c53e66dc9  livejupiter  そら大不況で独り勝ちした金持ちを殺してしかも自分もちゃんと腹切ってるからな\\n今で言うならリ...   \n",
       "3  fb3b600fb     newsplus     外国や外国人に税金や公的資金を使うのは違法と言ってくれたら、民進党の支持率は爆上げだろうな。   \n",
       "4  ef9cd1326     newsplus                               中国人は、日本の年金制度にものらないとw   \n",
       "\n",
       "   label  \n",
       "0      0  \n",
       "1      0  \n",
       "2      0  \n",
       "3      0  \n",
       "4      0  "
      ]
     },
     "execution_count": 29,
     "metadata": {},
     "output_type": "execute_result"
    }
   ],
   "source": [
    "df_test.head()"
   ]
  },
  {
   "cell_type": "code",
   "execution_count": null,
   "id": "255260d2",
   "metadata": {},
   "outputs": [],
   "source": []
  },
  {
   "cell_type": "markdown",
   "id": "539bc426",
   "metadata": {},
   "source": [
    "## Janome"
   ]
  },
  {
   "cell_type": "code",
   "execution_count": 30,
   "id": "ab4c3e3e",
   "metadata": {},
   "outputs": [
    {
     "data": {
      "text/plain": [
       "<janome.tokenizer.Tokenizer at 0x7fa05ba27370>"
      ]
     },
     "execution_count": 30,
     "metadata": {},
     "output_type": "execute_result"
    }
   ],
   "source": [
    "t_janome = Tokenizer(wakati=True)\n",
    "t_janome"
   ]
  },
  {
   "cell_type": "code",
   "execution_count": 31,
   "id": "6fd40b6b",
   "metadata": {},
   "outputs": [],
   "source": [
    "df_train['text_token_janome'] = df_train['text'].apply(lambda x: \" \".join([tkn for tkn in t_janome.tokenize(x)]))\n",
    "df_test['text_token_janome'] = df_test['text'].apply(lambda x: \" \".join([tkn for tkn in t_janome.tokenize(x)]))"
   ]
  },
  {
   "cell_type": "code",
   "execution_count": 32,
   "id": "45507d5f",
   "metadata": {},
   "outputs": [
    {
     "data": {
      "text/html": [
       "<div>\n",
       "<style scoped>\n",
       "    .dataframe tbody tr th:only-of-type {\n",
       "        vertical-align: middle;\n",
       "    }\n",
       "\n",
       "    .dataframe tbody tr th {\n",
       "        vertical-align: top;\n",
       "    }\n",
       "\n",
       "    .dataframe thead th {\n",
       "        text-align: right;\n",
       "    }\n",
       "</style>\n",
       "<table border=\"1\" class=\"dataframe\">\n",
       "  <thead>\n",
       "    <tr style=\"text-align: right;\">\n",
       "      <th></th>\n",
       "      <th>id</th>\n",
       "      <th>source</th>\n",
       "      <th>text</th>\n",
       "      <th>label</th>\n",
       "      <th>hold</th>\n",
       "      <th>text_token_janome</th>\n",
       "    </tr>\n",
       "  </thead>\n",
       "  <tbody>\n",
       "    <tr>\n",
       "      <th>0</th>\n",
       "      <td>b1b0d5e6c</td>\n",
       "      <td>newsplus</td>\n",
       "      <td>手引きしたのは高い確率で大院君だよなぁ</td>\n",
       "      <td>0</td>\n",
       "      <td>2</td>\n",
       "      <td>手引き し た の は 高い 確率 で 大院君 だ よ なぁ</td>\n",
       "    </tr>\n",
       "    <tr>\n",
       "      <th>1</th>\n",
       "      <td>a5e29c5f1</td>\n",
       "      <td>livejupiter</td>\n",
       "      <td>いや別にワイが困るわけじゃないからええけど対応大変やなぁと思ってな</td>\n",
       "      <td>0</td>\n",
       "      <td>1</td>\n",
       "      <td>いや 別に ワイ が 困る わけ じゃ ない から ええ けど 対応 大変 や なぁ と 思...</td>\n",
       "    </tr>\n",
       "    <tr>\n",
       "      <th>2</th>\n",
       "      <td>bd72cb57e</td>\n",
       "      <td>newsplus</td>\n",
       "      <td>そこで家族会すら総スカンを食らった極左を出すあたり頭が逝ってるな\\n結局動かぬ証拠だから動か...</td>\n",
       "      <td>0</td>\n",
       "      <td>4</td>\n",
       "      <td>そこで 家族 会 すら 総スカン を 食らっ た 極左 を 出す あたり 頭 が 逝っ てる...</td>\n",
       "    </tr>\n",
       "    <tr>\n",
       "      <th>3</th>\n",
       "      <td>66387bae8</td>\n",
       "      <td>news4vip</td>\n",
       "      <td>もともとB'zが好きだったんだが松本のソロアルバムでtake5カバーしててな\\nそれで原曲聴...</td>\n",
       "      <td>0</td>\n",
       "      <td>1</td>\n",
       "      <td>もともと B ' z が 好き だっ た ん だ が 松本 の ソロアルバム で take ...</td>\n",
       "    </tr>\n",
       "    <tr>\n",
       "      <th>4</th>\n",
       "      <td>b80dc3a94</td>\n",
       "      <td>livejupiter</td>\n",
       "      <td>スタンドって本体の内面現すんだよな\\n\\nいろいろ想像するとおもろいわ\\n何でDIOは時止め...</td>\n",
       "      <td>0</td>\n",
       "      <td>2</td>\n",
       "      <td>スタンド って 本体 の 内面 現す ん だ よ な \\n\\n いろいろ 想像 する と お...</td>\n",
       "    </tr>\n",
       "  </tbody>\n",
       "</table>\n",
       "</div>"
      ],
      "text/plain": [
       "          id       source                                               text  \\\n",
       "0  b1b0d5e6c     newsplus                                手引きしたのは高い確率で大院君だよなぁ   \n",
       "1  a5e29c5f1  livejupiter                  いや別にワイが困るわけじゃないからええけど対応大変やなぁと思ってな   \n",
       "2  bd72cb57e     newsplus  そこで家族会すら総スカンを食らった極左を出すあたり頭が逝ってるな\\n結局動かぬ証拠だから動か...   \n",
       "3  66387bae8     news4vip  もともとB'zが好きだったんだが松本のソロアルバムでtake5カバーしててな\\nそれで原曲聴...   \n",
       "4  b80dc3a94  livejupiter  スタンドって本体の内面現すんだよな\\n\\nいろいろ想像するとおもろいわ\\n何でDIOは時止め...   \n",
       "\n",
       "   label  hold                                  text_token_janome  \n",
       "0      0     2                     手引き し た の は 高い 確率 で 大院君 だ よ なぁ  \n",
       "1      0     1  いや 別に ワイ が 困る わけ じゃ ない から ええ けど 対応 大変 や なぁ と 思...  \n",
       "2      0     4  そこで 家族 会 すら 総スカン を 食らっ た 極左 を 出す あたり 頭 が 逝っ てる...  \n",
       "3      0     1  もともと B ' z が 好き だっ た ん だ が 松本 の ソロアルバム で take ...  \n",
       "4      0     2  スタンド って 本体 の 内面 現す ん だ よ な \\n\\n いろいろ 想像 する と お...  "
      ]
     },
     "execution_count": 32,
     "metadata": {},
     "output_type": "execute_result"
    }
   ],
   "source": [
    "df_train.head()"
   ]
  },
  {
   "cell_type": "code",
   "execution_count": 33,
   "id": "f7c8b09a",
   "metadata": {},
   "outputs": [
    {
     "data": {
      "text/html": [
       "<div>\n",
       "<style scoped>\n",
       "    .dataframe tbody tr th:only-of-type {\n",
       "        vertical-align: middle;\n",
       "    }\n",
       "\n",
       "    .dataframe tbody tr th {\n",
       "        vertical-align: top;\n",
       "    }\n",
       "\n",
       "    .dataframe thead th {\n",
       "        text-align: right;\n",
       "    }\n",
       "</style>\n",
       "<table border=\"1\" class=\"dataframe\">\n",
       "  <thead>\n",
       "    <tr style=\"text-align: right;\">\n",
       "      <th></th>\n",
       "      <th>id</th>\n",
       "      <th>source</th>\n",
       "      <th>text</th>\n",
       "      <th>label</th>\n",
       "      <th>text_token_janome</th>\n",
       "    </tr>\n",
       "  </thead>\n",
       "  <tbody>\n",
       "    <tr>\n",
       "      <th>0</th>\n",
       "      <td>e3d3e578b</td>\n",
       "      <td>news4vip</td>\n",
       "      <td>まぁ、俺の言ってることは余りあてにしないでくれwwww\\n\\n必ずいい人は現れるよ</td>\n",
       "      <td>0</td>\n",
       "      <td>まぁ 、 俺 の 言っ てる こと は 余り あて に し ない で くれ wwww \\n\\...</td>\n",
       "    </tr>\n",
       "    <tr>\n",
       "      <th>1</th>\n",
       "      <td>a728f26db</td>\n",
       "      <td>news4vip</td>\n",
       "      <td>すまないがそれはレンジのほうか？\\nそれともトースター？</td>\n",
       "      <td>0</td>\n",
       "      <td>すま ない が それ は レンジ の ほう か ？ \\n それとも トースター ？</td>\n",
       "    </tr>\n",
       "    <tr>\n",
       "      <th>2</th>\n",
       "      <td>c53e66dc9</td>\n",
       "      <td>livejupiter</td>\n",
       "      <td>そら大不況で独り勝ちした金持ちを殺してしかも自分もちゃんと腹切ってるからな\\n今で言うならリ...</td>\n",
       "      <td>0</td>\n",
       "      <td>そら 大 不況 で 独り 勝ち し た 金持ち を 殺し て しかも 自分 も ちゃんと 腹...</td>\n",
       "    </tr>\n",
       "    <tr>\n",
       "      <th>3</th>\n",
       "      <td>fb3b600fb</td>\n",
       "      <td>newsplus</td>\n",
       "      <td>外国や外国人に税金や公的資金を使うのは違法と言ってくれたら、民進党の支持率は爆上げだろうな。</td>\n",
       "      <td>0</td>\n",
       "      <td>外国 や 外国 人 に 税金 や 公的 資金 を 使う の は 違法 と 言っ て くれ た...</td>\n",
       "    </tr>\n",
       "    <tr>\n",
       "      <th>4</th>\n",
       "      <td>ef9cd1326</td>\n",
       "      <td>newsplus</td>\n",
       "      <td>中国人は、日本の年金制度にものらないとw</td>\n",
       "      <td>0</td>\n",
       "      <td>中国人 は 、 日本 の 年金 制度 に も のら ない と w</td>\n",
       "    </tr>\n",
       "  </tbody>\n",
       "</table>\n",
       "</div>"
      ],
      "text/plain": [
       "          id       source                                               text  \\\n",
       "0  e3d3e578b     news4vip          まぁ、俺の言ってることは余りあてにしないでくれwwww\\n\\n必ずいい人は現れるよ   \n",
       "1  a728f26db     news4vip                       すまないがそれはレンジのほうか？\\nそれともトースター？   \n",
       "2  c53e66dc9  livejupiter  そら大不況で独り勝ちした金持ちを殺してしかも自分もちゃんと腹切ってるからな\\n今で言うならリ...   \n",
       "3  fb3b600fb     newsplus     外国や外国人に税金や公的資金を使うのは違法と言ってくれたら、民進党の支持率は爆上げだろうな。   \n",
       "4  ef9cd1326     newsplus                               中国人は、日本の年金制度にものらないとw   \n",
       "\n",
       "   label                                  text_token_janome  \n",
       "0      0  まぁ 、 俺 の 言っ てる こと は 余り あて に し ない で くれ wwww \\n\\...  \n",
       "1      0          すま ない が それ は レンジ の ほう か ？ \\n それとも トースター ？  \n",
       "2      0  そら 大 不況 で 独り 勝ち し た 金持ち を 殺し て しかも 自分 も ちゃんと 腹...  \n",
       "3      0  外国 や 外国 人 に 税金 や 公的 資金 を 使う の は 違法 と 言っ て くれ た...  \n",
       "4      0                   中国人 は 、 日本 の 年金 制度 に も のら ない と w  "
      ]
     },
     "execution_count": 33,
     "metadata": {},
     "output_type": "execute_result"
    }
   ],
   "source": [
    "df_test.head()"
   ]
  },
  {
   "cell_type": "code",
   "execution_count": null,
   "id": "341c0dc1",
   "metadata": {},
   "outputs": [],
   "source": []
  },
  {
   "cell_type": "markdown",
   "id": "83db9598",
   "metadata": {},
   "source": [
    "## tohoku-nlp/bert-base-japanese-whole-word-masking\n",
    "https://huggingface.co/tohoku-nlp/bert-base-japanese-whole-word-masking"
   ]
  },
  {
   "cell_type": "code",
   "execution_count": 34,
   "id": "46220f31",
   "metadata": {},
   "outputs": [
    {
     "data": {
      "text/plain": [
       "BertJapaneseTokenizer(name_or_path='tohoku-nlp/bert-base-japanese-whole-word-masking', vocab_size=32000, model_max_length=512, is_fast=False, padding_side='right', truncation_side='right', special_tokens={'unk_token': '[UNK]', 'sep_token': '[SEP]', 'pad_token': '[PAD]', 'cls_token': '[CLS]', 'mask_token': '[MASK]'}, clean_up_tokenization_spaces=True),  added_tokens_decoder={\n",
       "\t0: AddedToken(\"[PAD]\", rstrip=False, lstrip=False, single_word=False, normalized=False, special=True),\n",
       "\t1: AddedToken(\"[UNK]\", rstrip=False, lstrip=False, single_word=False, normalized=False, special=True),\n",
       "\t2: AddedToken(\"[CLS]\", rstrip=False, lstrip=False, single_word=False, normalized=False, special=True),\n",
       "\t3: AddedToken(\"[SEP]\", rstrip=False, lstrip=False, single_word=False, normalized=False, special=True),\n",
       "\t4: AddedToken(\"[MASK]\", rstrip=False, lstrip=False, single_word=False, normalized=False, special=True),\n",
       "}"
      ]
     },
     "execution_count": 34,
     "metadata": {},
     "output_type": "execute_result"
    }
   ],
   "source": [
    "t_tohokuBertBase = AutoTokenizer.from_pretrained('tohoku-nlp/bert-base-japanese-whole-word-masking')\n",
    "t_tohokuBertBase"
   ]
  },
  {
   "cell_type": "code",
   "execution_count": 35,
   "id": "41eabbfc",
   "metadata": {},
   "outputs": [],
   "source": [
    "df_train['text_token_tohokuBertBase'] = df_train['text'].apply(lambda x: \" \".join([tkn for tkn in t_tohokuBertBase.tokenize(x)]))\n",
    "df_test['text_token_tohokuBertBase'] = df_test['text'].apply(lambda x: \" \".join([tkn for tkn in t_tohokuBertBase.tokenize(x)]))"
   ]
  },
  {
   "cell_type": "code",
   "execution_count": 36,
   "id": "c736c8f1",
   "metadata": {},
   "outputs": [
    {
     "data": {
      "text/html": [
       "<div>\n",
       "<style scoped>\n",
       "    .dataframe tbody tr th:only-of-type {\n",
       "        vertical-align: middle;\n",
       "    }\n",
       "\n",
       "    .dataframe tbody tr th {\n",
       "        vertical-align: top;\n",
       "    }\n",
       "\n",
       "    .dataframe thead th {\n",
       "        text-align: right;\n",
       "    }\n",
       "</style>\n",
       "<table border=\"1\" class=\"dataframe\">\n",
       "  <thead>\n",
       "    <tr style=\"text-align: right;\">\n",
       "      <th></th>\n",
       "      <th>id</th>\n",
       "      <th>source</th>\n",
       "      <th>text</th>\n",
       "      <th>label</th>\n",
       "      <th>hold</th>\n",
       "      <th>text_token_janome</th>\n",
       "      <th>text_token_tohokuBertBase</th>\n",
       "    </tr>\n",
       "  </thead>\n",
       "  <tbody>\n",
       "    <tr>\n",
       "      <th>0</th>\n",
       "      <td>b1b0d5e6c</td>\n",
       "      <td>newsplus</td>\n",
       "      <td>手引きしたのは高い確率で大院君だよなぁ</td>\n",
       "      <td>0</td>\n",
       "      <td>2</td>\n",
       "      <td>手引き し た の は 高い 確率 で 大院君 だ よ なぁ</td>\n",
       "      <td>手 ##引き し た の は 高い 確率 で 大 ##院 ##君 だ よ な ##ぁ</td>\n",
       "    </tr>\n",
       "    <tr>\n",
       "      <th>1</th>\n",
       "      <td>a5e29c5f1</td>\n",
       "      <td>livejupiter</td>\n",
       "      <td>いや別にワイが困るわけじゃないからええけど対応大変やなぁと思ってな</td>\n",
       "      <td>0</td>\n",
       "      <td>1</td>\n",
       "      <td>いや 別に ワイ が 困る わけ じゃ ない から ええ けど 対応 大変 や なぁ と 思...</td>\n",
       "      <td>いや 別に ワイ が 困 ##る わけ じゃ ない から え ##え けど 対応 大変 や ...</td>\n",
       "    </tr>\n",
       "    <tr>\n",
       "      <th>2</th>\n",
       "      <td>bd72cb57e</td>\n",
       "      <td>newsplus</td>\n",
       "      <td>そこで家族会すら総スカンを食らった極左を出すあたり頭が逝ってるな\\n結局動かぬ証拠だから動か...</td>\n",
       "      <td>0</td>\n",
       "      <td>4</td>\n",
       "      <td>そこで 家族 会 すら 総スカン を 食らっ た 極左 を 出す あたり 頭 が 逝っ てる...</td>\n",
       "      <td>そこで 家族 会 すら 総 ##スカ ##ン を 食 ##らっ た 極 ##左 を 出す あ...</td>\n",
       "    </tr>\n",
       "    <tr>\n",
       "      <th>3</th>\n",
       "      <td>66387bae8</td>\n",
       "      <td>news4vip</td>\n",
       "      <td>もともとB'zが好きだったんだが松本のソロアルバムでtake5カバーしててな\\nそれで原曲聴...</td>\n",
       "      <td>0</td>\n",
       "      <td>1</td>\n",
       "      <td>もともと B ' z が 好き だっ た ん だ が 松本 の ソロアルバム で take ...</td>\n",
       "      <td>もともと B ' z が 好き だっ た ん だ が 松本 の ソロアルバム で t ##a...</td>\n",
       "    </tr>\n",
       "    <tr>\n",
       "      <th>4</th>\n",
       "      <td>b80dc3a94</td>\n",
       "      <td>livejupiter</td>\n",
       "      <td>スタンドって本体の内面現すんだよな\\n\\nいろいろ想像するとおもろいわ\\n何でDIOは時止め...</td>\n",
       "      <td>0</td>\n",
       "      <td>2</td>\n",
       "      <td>スタンド って 本体 の 内面 現す ん だ よ な \\n\\n いろいろ 想像 する と お...</td>\n",
       "      <td>スタンド って 本体 の 内面 現す ん だ よ な いろいろ 想像 する と おも ##ろ...</td>\n",
       "    </tr>\n",
       "  </tbody>\n",
       "</table>\n",
       "</div>"
      ],
      "text/plain": [
       "          id       source                                               text  \\\n",
       "0  b1b0d5e6c     newsplus                                手引きしたのは高い確率で大院君だよなぁ   \n",
       "1  a5e29c5f1  livejupiter                  いや別にワイが困るわけじゃないからええけど対応大変やなぁと思ってな   \n",
       "2  bd72cb57e     newsplus  そこで家族会すら総スカンを食らった極左を出すあたり頭が逝ってるな\\n結局動かぬ証拠だから動か...   \n",
       "3  66387bae8     news4vip  もともとB'zが好きだったんだが松本のソロアルバムでtake5カバーしててな\\nそれで原曲聴...   \n",
       "4  b80dc3a94  livejupiter  スタンドって本体の内面現すんだよな\\n\\nいろいろ想像するとおもろいわ\\n何でDIOは時止め...   \n",
       "\n",
       "   label  hold                                  text_token_janome  \\\n",
       "0      0     2                     手引き し た の は 高い 確率 で 大院君 だ よ なぁ   \n",
       "1      0     1  いや 別に ワイ が 困る わけ じゃ ない から ええ けど 対応 大変 や なぁ と 思...   \n",
       "2      0     4  そこで 家族 会 すら 総スカン を 食らっ た 極左 を 出す あたり 頭 が 逝っ てる...   \n",
       "3      0     1  もともと B ' z が 好き だっ た ん だ が 松本 の ソロアルバム で take ...   \n",
       "4      0     2  スタンド って 本体 の 内面 現す ん だ よ な \\n\\n いろいろ 想像 する と お...   \n",
       "\n",
       "                           text_token_tohokuBertBase  \n",
       "0         手 ##引き し た の は 高い 確率 で 大 ##院 ##君 だ よ な ##ぁ  \n",
       "1  いや 別に ワイ が 困 ##る わけ じゃ ない から え ##え けど 対応 大変 や ...  \n",
       "2  そこで 家族 会 すら 総 ##スカ ##ン を 食 ##らっ た 極 ##左 を 出す あ...  \n",
       "3  もともと B ' z が 好き だっ た ん だ が 松本 の ソロアルバム で t ##a...  \n",
       "4  スタンド って 本体 の 内面 現す ん だ よ な いろいろ 想像 する と おも ##ろ...  "
      ]
     },
     "execution_count": 36,
     "metadata": {},
     "output_type": "execute_result"
    }
   ],
   "source": [
    "df_train.head()"
   ]
  },
  {
   "cell_type": "code",
   "execution_count": 37,
   "id": "9309aeb2",
   "metadata": {},
   "outputs": [
    {
     "data": {
      "text/html": [
       "<div>\n",
       "<style scoped>\n",
       "    .dataframe tbody tr th:only-of-type {\n",
       "        vertical-align: middle;\n",
       "    }\n",
       "\n",
       "    .dataframe tbody tr th {\n",
       "        vertical-align: top;\n",
       "    }\n",
       "\n",
       "    .dataframe thead th {\n",
       "        text-align: right;\n",
       "    }\n",
       "</style>\n",
       "<table border=\"1\" class=\"dataframe\">\n",
       "  <thead>\n",
       "    <tr style=\"text-align: right;\">\n",
       "      <th></th>\n",
       "      <th>id</th>\n",
       "      <th>source</th>\n",
       "      <th>text</th>\n",
       "      <th>label</th>\n",
       "      <th>text_token_janome</th>\n",
       "      <th>text_token_tohokuBertBase</th>\n",
       "    </tr>\n",
       "  </thead>\n",
       "  <tbody>\n",
       "    <tr>\n",
       "      <th>0</th>\n",
       "      <td>e3d3e578b</td>\n",
       "      <td>news4vip</td>\n",
       "      <td>まぁ、俺の言ってることは余りあてにしないでくれwwww\\n\\n必ずいい人は現れるよ</td>\n",
       "      <td>0</td>\n",
       "      <td>まぁ 、 俺 の 言っ てる こと は 余り あて に し ない で くれ wwww \\n\\...</td>\n",
       "      <td>ま ##ぁ 、 俺 の 言っ てる こと は 余り あて に し ない で くれ www #...</td>\n",
       "    </tr>\n",
       "    <tr>\n",
       "      <th>1</th>\n",
       "      <td>a728f26db</td>\n",
       "      <td>news4vip</td>\n",
       "      <td>すまないがそれはレンジのほうか？\\nそれともトースター？</td>\n",
       "      <td>0</td>\n",
       "      <td>すま ない が それ は レンジ の ほう か ？ \\n それとも トースター ？</td>\n",
       "      <td>す ##ま ない が それ は レンジ の ほう か ? それとも トー ##スター ?</td>\n",
       "    </tr>\n",
       "    <tr>\n",
       "      <th>2</th>\n",
       "      <td>c53e66dc9</td>\n",
       "      <td>livejupiter</td>\n",
       "      <td>そら大不況で独り勝ちした金持ちを殺してしかも自分もちゃんと腹切ってるからな\\n今で言うならリ...</td>\n",
       "      <td>0</td>\n",
       "      <td>そら 大 不況 で 独り 勝ち し た 金持ち を 殺し て しかも 自分 も ちゃんと 腹...</td>\n",
       "      <td>そら 大 不況 で 独り 勝ち し た 金持ち を 殺し て しかも 自分 も ちゃんと 腹...</td>\n",
       "    </tr>\n",
       "    <tr>\n",
       "      <th>3</th>\n",
       "      <td>fb3b600fb</td>\n",
       "      <td>newsplus</td>\n",
       "      <td>外国や外国人に税金や公的資金を使うのは違法と言ってくれたら、民進党の支持率は爆上げだろうな。</td>\n",
       "      <td>0</td>\n",
       "      <td>外国 や 外国 人 に 税金 や 公的 資金 を 使う の は 違法 と 言っ て くれ た...</td>\n",
       "      <td>外国 や 外国 人 に 税金 や 公的 資金 を 使う の は 違法 と 言っ て くれ た...</td>\n",
       "    </tr>\n",
       "    <tr>\n",
       "      <th>4</th>\n",
       "      <td>ef9cd1326</td>\n",
       "      <td>newsplus</td>\n",
       "      <td>中国人は、日本の年金制度にものらないとw</td>\n",
       "      <td>0</td>\n",
       "      <td>中国人 は 、 日本 の 年金 制度 に も のら ない と w</td>\n",
       "      <td>中国人 は 、 日本 の 年金 制度 に も の ##ら ない と w</td>\n",
       "    </tr>\n",
       "  </tbody>\n",
       "</table>\n",
       "</div>"
      ],
      "text/plain": [
       "          id       source                                               text  \\\n",
       "0  e3d3e578b     news4vip          まぁ、俺の言ってることは余りあてにしないでくれwwww\\n\\n必ずいい人は現れるよ   \n",
       "1  a728f26db     news4vip                       すまないがそれはレンジのほうか？\\nそれともトースター？   \n",
       "2  c53e66dc9  livejupiter  そら大不況で独り勝ちした金持ちを殺してしかも自分もちゃんと腹切ってるからな\\n今で言うならリ...   \n",
       "3  fb3b600fb     newsplus     外国や外国人に税金や公的資金を使うのは違法と言ってくれたら、民進党の支持率は爆上げだろうな。   \n",
       "4  ef9cd1326     newsplus                               中国人は、日本の年金制度にものらないとw   \n",
       "\n",
       "   label                                  text_token_janome  \\\n",
       "0      0  まぁ 、 俺 の 言っ てる こと は 余り あて に し ない で くれ wwww \\n\\...   \n",
       "1      0          すま ない が それ は レンジ の ほう か ？ \\n それとも トースター ？   \n",
       "2      0  そら 大 不況 で 独り 勝ち し た 金持ち を 殺し て しかも 自分 も ちゃんと 腹...   \n",
       "3      0  外国 や 外国 人 に 税金 や 公的 資金 を 使う の は 違法 と 言っ て くれ た...   \n",
       "4      0                   中国人 は 、 日本 の 年金 制度 に も のら ない と w   \n",
       "\n",
       "                           text_token_tohokuBertBase  \n",
       "0  ま ##ぁ 、 俺 の 言っ てる こと は 余り あて に し ない で くれ www #...  \n",
       "1       す ##ま ない が それ は レンジ の ほう か ? それとも トー ##スター ?  \n",
       "2  そら 大 不況 で 独り 勝ち し た 金持ち を 殺し て しかも 自分 も ちゃんと 腹...  \n",
       "3  外国 や 外国 人 に 税金 や 公的 資金 を 使う の は 違法 と 言っ て くれ た...  \n",
       "4                中国人 は 、 日本 の 年金 制度 に も の ##ら ない と w  "
      ]
     },
     "execution_count": 37,
     "metadata": {},
     "output_type": "execute_result"
    }
   ],
   "source": [
    "df_test.head()"
   ]
  },
  {
   "cell_type": "code",
   "execution_count": null,
   "id": "bd0ffe40",
   "metadata": {},
   "outputs": [],
   "source": []
  },
  {
   "cell_type": "code",
   "execution_count": null,
   "id": "d29eb7a0",
   "metadata": {},
   "outputs": [],
   "source": []
  },
  {
   "cell_type": "code",
   "execution_count": 39,
   "id": "69ae74cf",
   "metadata": {},
   "outputs": [],
   "source": [
    "df_train.to_csv('tmp/hatespeech_train_DAI.csv', index=False)\n",
    "df_test.to_csv('tmp/hatespeech_test_DAI.csv', index=False)"
   ]
  },
  {
   "cell_type": "code",
   "execution_count": null,
   "id": "af4cf83f",
   "metadata": {},
   "outputs": [],
   "source": []
  },
  {
   "cell_type": "code",
   "execution_count": null,
   "id": "cfdb8a24",
   "metadata": {},
   "outputs": [],
   "source": []
  }
 ],
 "metadata": {
  "kernelspec": {
   "display_name": "Python 3 (ipykernel)",
   "language": "python",
   "name": "python3"
  },
  "language_info": {
   "codemirror_mode": {
    "name": "ipython",
    "version": 3
   },
   "file_extension": ".py",
   "mimetype": "text/x-python",
   "name": "python",
   "nbconvert_exporter": "python",
   "pygments_lexer": "ipython3",
   "version": "3.8.13"
  }
 },
 "nbformat": 4,
 "nbformat_minor": 5
}
