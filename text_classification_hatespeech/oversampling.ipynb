{
 "cells": [
  {
   "cell_type": "code",
   "execution_count": null,
   "id": "eff3bb72",
   "metadata": {},
   "outputs": [],
   "source": []
  },
  {
   "cell_type": "code",
   "execution_count": 1,
   "id": "3dd644ab",
   "metadata": {},
   "outputs": [
    {
     "name": "stdout",
     "output_type": "stream",
     "text": [
      "\u001b[34mdata\u001b[m\u001b[m                     hatespeech_test.csv      hatespeech_train_DAI.csv\r\n",
      "\u001b[34mhatespeech\u001b[m\u001b[m               hatespeech_test_DAI.csv\r\n",
      "hatespeech.zip           hatespeech_train.csv\r\n"
     ]
    }
   ],
   "source": [
    "!ls tmp"
   ]
  },
  {
   "cell_type": "code",
   "execution_count": 2,
   "id": "e450f848",
   "metadata": {},
   "outputs": [],
   "source": [
    "import pandas as pd\n",
    "from imblearn.over_sampling import RandomOverSampler"
   ]
  },
  {
   "cell_type": "code",
   "execution_count": 3,
   "id": "ef252cf7",
   "metadata": {},
   "outputs": [
    {
     "data": {
      "text/plain": [
       "(4656, 5)"
      ]
     },
     "execution_count": 3,
     "metadata": {},
     "output_type": "execute_result"
    }
   ],
   "source": [
    "df = pd.read_csv('tmp/hatespeech_train.csv')\n",
    "df.shape"
   ]
  },
  {
   "cell_type": "code",
   "execution_count": 4,
   "id": "a6b97ee6",
   "metadata": {},
   "outputs": [
    {
     "data": {
      "text/html": [
       "<div>\n",
       "<style scoped>\n",
       "    .dataframe tbody tr th:only-of-type {\n",
       "        vertical-align: middle;\n",
       "    }\n",
       "\n",
       "    .dataframe tbody tr th {\n",
       "        vertical-align: top;\n",
       "    }\n",
       "\n",
       "    .dataframe thead th {\n",
       "        text-align: right;\n",
       "    }\n",
       "</style>\n",
       "<table border=\"1\" class=\"dataframe\">\n",
       "  <thead>\n",
       "    <tr style=\"text-align: right;\">\n",
       "      <th></th>\n",
       "      <th>id</th>\n",
       "      <th>source</th>\n",
       "      <th>text</th>\n",
       "      <th>label</th>\n",
       "      <th>hold</th>\n",
       "    </tr>\n",
       "  </thead>\n",
       "  <tbody>\n",
       "    <tr>\n",
       "      <th>0</th>\n",
       "      <td>b1b0d5e6c</td>\n",
       "      <td>newsplus</td>\n",
       "      <td>手引きしたのは高い確率で大院君だよなぁ</td>\n",
       "      <td>0</td>\n",
       "      <td>2</td>\n",
       "    </tr>\n",
       "    <tr>\n",
       "      <th>1</th>\n",
       "      <td>a5e29c5f1</td>\n",
       "      <td>livejupiter</td>\n",
       "      <td>いや別にワイが困るわけじゃないからええけど対応大変やなぁと思ってな</td>\n",
       "      <td>0</td>\n",
       "      <td>1</td>\n",
       "    </tr>\n",
       "    <tr>\n",
       "      <th>2</th>\n",
       "      <td>bd72cb57e</td>\n",
       "      <td>newsplus</td>\n",
       "      <td>そこで家族会すら総スカンを食らった極左を出すあたり頭が逝ってるな\\n結局動かぬ証拠だから動か...</td>\n",
       "      <td>0</td>\n",
       "      <td>4</td>\n",
       "    </tr>\n",
       "    <tr>\n",
       "      <th>3</th>\n",
       "      <td>66387bae8</td>\n",
       "      <td>news4vip</td>\n",
       "      <td>もともとB'zが好きだったんだが松本のソロアルバムでtake5カバーしててな\\nそれで原曲聴...</td>\n",
       "      <td>0</td>\n",
       "      <td>1</td>\n",
       "    </tr>\n",
       "    <tr>\n",
       "      <th>4</th>\n",
       "      <td>b80dc3a94</td>\n",
       "      <td>livejupiter</td>\n",
       "      <td>スタンドって本体の内面現すんだよな\\n\\nいろいろ想像するとおもろいわ\\n何でDIOは時止め...</td>\n",
       "      <td>0</td>\n",
       "      <td>2</td>\n",
       "    </tr>\n",
       "  </tbody>\n",
       "</table>\n",
       "</div>"
      ],
      "text/plain": [
       "          id       source                                               text  \\\n",
       "0  b1b0d5e6c     newsplus                                手引きしたのは高い確率で大院君だよなぁ   \n",
       "1  a5e29c5f1  livejupiter                  いや別にワイが困るわけじゃないからええけど対応大変やなぁと思ってな   \n",
       "2  bd72cb57e     newsplus  そこで家族会すら総スカンを食らった極左を出すあたり頭が逝ってるな\\n結局動かぬ証拠だから動か...   \n",
       "3  66387bae8     news4vip  もともとB'zが好きだったんだが松本のソロアルバムでtake5カバーしててな\\nそれで原曲聴...   \n",
       "4  b80dc3a94  livejupiter  スタンドって本体の内面現すんだよな\\n\\nいろいろ想像するとおもろいわ\\n何でDIOは時止め...   \n",
       "\n",
       "   label  hold  \n",
       "0      0     2  \n",
       "1      0     1  \n",
       "2      0     4  \n",
       "3      0     1  \n",
       "4      0     2  "
      ]
     },
     "execution_count": 4,
     "metadata": {},
     "output_type": "execute_result"
    }
   ],
   "source": [
    "df.head()"
   ]
  },
  {
   "cell_type": "code",
   "execution_count": 8,
   "id": "b67efd20",
   "metadata": {},
   "outputs": [
    {
     "data": {
      "text/plain": [
       "(0    4385\n",
       " 1     271\n",
       " Name: label, dtype: int64,\n",
       " 0    0.941796\n",
       " 1    0.058204\n",
       " Name: label, dtype: float64)"
      ]
     },
     "execution_count": 8,
     "metadata": {},
     "output_type": "execute_result"
    }
   ],
   "source": [
    "df['label'].value_counts(), df['label'].value_counts(normalize=True)"
   ]
  },
  {
   "cell_type": "code",
   "execution_count": 9,
   "id": "0a31a5fb",
   "metadata": {},
   "outputs": [
    {
     "data": {
      "text/plain": [
       "RandomOverSampler(random_state=0, sampling_strategy=0.2)"
      ]
     },
     "execution_count": 9,
     "metadata": {},
     "output_type": "execute_result"
    }
   ],
   "source": [
    "ros = RandomOverSampler(sampling_strategy=0.2, random_state=0)\n",
    "ros"
   ]
  },
  {
   "cell_type": "code",
   "execution_count": 14,
   "id": "807464a0",
   "metadata": {},
   "outputs": [
    {
     "data": {
      "text/plain": [
       "((5262, 5), (5262,))"
      ]
     },
     "execution_count": 14,
     "metadata": {},
     "output_type": "execute_result"
    }
   ],
   "source": [
    "X, y = ros.fit_resample(X=df, y=df['label'])\n",
    "X.shape, y.shape"
   ]
  },
  {
   "cell_type": "code",
   "execution_count": 15,
   "id": "b4d0fcac",
   "metadata": {},
   "outputs": [
    {
     "data": {
      "text/html": [
       "<div>\n",
       "<style scoped>\n",
       "    .dataframe tbody tr th:only-of-type {\n",
       "        vertical-align: middle;\n",
       "    }\n",
       "\n",
       "    .dataframe tbody tr th {\n",
       "        vertical-align: top;\n",
       "    }\n",
       "\n",
       "    .dataframe thead th {\n",
       "        text-align: right;\n",
       "    }\n",
       "</style>\n",
       "<table border=\"1\" class=\"dataframe\">\n",
       "  <thead>\n",
       "    <tr style=\"text-align: right;\">\n",
       "      <th></th>\n",
       "      <th>id</th>\n",
       "      <th>source</th>\n",
       "      <th>text</th>\n",
       "      <th>label</th>\n",
       "      <th>hold</th>\n",
       "    </tr>\n",
       "  </thead>\n",
       "  <tbody>\n",
       "    <tr>\n",
       "      <th>0</th>\n",
       "      <td>b1b0d5e6c</td>\n",
       "      <td>newsplus</td>\n",
       "      <td>手引きしたのは高い確率で大院君だよなぁ</td>\n",
       "      <td>0</td>\n",
       "      <td>2</td>\n",
       "    </tr>\n",
       "    <tr>\n",
       "      <th>1</th>\n",
       "      <td>a5e29c5f1</td>\n",
       "      <td>livejupiter</td>\n",
       "      <td>いや別にワイが困るわけじゃないからええけど対応大変やなぁと思ってな</td>\n",
       "      <td>0</td>\n",
       "      <td>1</td>\n",
       "    </tr>\n",
       "    <tr>\n",
       "      <th>2</th>\n",
       "      <td>bd72cb57e</td>\n",
       "      <td>newsplus</td>\n",
       "      <td>そこで家族会すら総スカンを食らった極左を出すあたり頭が逝ってるな\\n結局動かぬ証拠だから動か...</td>\n",
       "      <td>0</td>\n",
       "      <td>4</td>\n",
       "    </tr>\n",
       "    <tr>\n",
       "      <th>3</th>\n",
       "      <td>66387bae8</td>\n",
       "      <td>news4vip</td>\n",
       "      <td>もともとB'zが好きだったんだが松本のソロアルバムでtake5カバーしててな\\nそれで原曲聴...</td>\n",
       "      <td>0</td>\n",
       "      <td>1</td>\n",
       "    </tr>\n",
       "    <tr>\n",
       "      <th>4</th>\n",
       "      <td>b80dc3a94</td>\n",
       "      <td>livejupiter</td>\n",
       "      <td>スタンドって本体の内面現すんだよな\\n\\nいろいろ想像するとおもろいわ\\n何でDIOは時止め...</td>\n",
       "      <td>0</td>\n",
       "      <td>2</td>\n",
       "    </tr>\n",
       "    <tr>\n",
       "      <th>...</th>\n",
       "      <td>...</td>\n",
       "      <td>...</td>\n",
       "      <td>...</td>\n",
       "      <td>...</td>\n",
       "      <td>...</td>\n",
       "    </tr>\n",
       "    <tr>\n",
       "      <th>5257</th>\n",
       "      <td>7bc80d726</td>\n",
       "      <td>newsplus</td>\n",
       "      <td>朝鮮人の価値観を押し付けるなってw\\n日本のシステムが嫌なら、祖国に帰れよな。\\n\\nキムチ...</td>\n",
       "      <td>1</td>\n",
       "      <td>2</td>\n",
       "    </tr>\n",
       "    <tr>\n",
       "      <th>5258</th>\n",
       "      <td>4095bef80</td>\n",
       "      <td>newsplus</td>\n",
       "      <td>おっ、やっぱり反対になったか\\nこれは国が動けという合図だな\\n支那,朝鮮,在日を国家主導で...</td>\n",
       "      <td>1</td>\n",
       "      <td>3</td>\n",
       "    </tr>\n",
       "    <tr>\n",
       "      <th>5259</th>\n",
       "      <td>5dca03d9e</td>\n",
       "      <td>livejupiter</td>\n",
       "      <td>女なんてまともなやつはいないぞ\\n彼女なんて絶対に作るもんじゃない</td>\n",
       "      <td>1</td>\n",
       "      <td>0</td>\n",
       "    </tr>\n",
       "    <tr>\n",
       "      <th>5260</th>\n",
       "      <td>c26f275ff</td>\n",
       "      <td>news4vip</td>\n",
       "      <td>女は全員怖いわ\\r\\n俺が悪くないのに悪いことにされて浮気相手に殴られたし</td>\n",
       "      <td>1</td>\n",
       "      <td>0</td>\n",
       "    </tr>\n",
       "    <tr>\n",
       "      <th>5261</th>\n",
       "      <td>c41e8c1d4</td>\n",
       "      <td>newsplus</td>\n",
       "      <td>そうだな\\n朝鮮人は、自分以外誰も信じないとい特質がある\\n常に外に仮想の敵を作っておかない...</td>\n",
       "      <td>1</td>\n",
       "      <td>2</td>\n",
       "    </tr>\n",
       "  </tbody>\n",
       "</table>\n",
       "<p>5262 rows × 5 columns</p>\n",
       "</div>"
      ],
      "text/plain": [
       "             id       source  \\\n",
       "0     b1b0d5e6c     newsplus   \n",
       "1     a5e29c5f1  livejupiter   \n",
       "2     bd72cb57e     newsplus   \n",
       "3     66387bae8     news4vip   \n",
       "4     b80dc3a94  livejupiter   \n",
       "...         ...          ...   \n",
       "5257  7bc80d726     newsplus   \n",
       "5258  4095bef80     newsplus   \n",
       "5259  5dca03d9e  livejupiter   \n",
       "5260  c26f275ff     news4vip   \n",
       "5261  c41e8c1d4     newsplus   \n",
       "\n",
       "                                                   text  label  hold  \n",
       "0                                   手引きしたのは高い確率で大院君だよなぁ      0     2  \n",
       "1                     いや別にワイが困るわけじゃないからええけど対応大変やなぁと思ってな      0     1  \n",
       "2     そこで家族会すら総スカンを食らった極左を出すあたり頭が逝ってるな\\n結局動かぬ証拠だから動か...      0     4  \n",
       "3     もともとB'zが好きだったんだが松本のソロアルバムでtake5カバーしててな\\nそれで原曲聴...      0     1  \n",
       "4     スタンドって本体の内面現すんだよな\\n\\nいろいろ想像するとおもろいわ\\n何でDIOは時止め...      0     2  \n",
       "...                                                 ...    ...   ...  \n",
       "5257  朝鮮人の価値観を押し付けるなってw\\n日本のシステムが嫌なら、祖国に帰れよな。\\n\\nキムチ...      1     2  \n",
       "5258  おっ、やっぱり反対になったか\\nこれは国が動けという合図だな\\n支那,朝鮮,在日を国家主導で...      1     3  \n",
       "5259                  女なんてまともなやつはいないぞ\\n彼女なんて絶対に作るもんじゃない      1     0  \n",
       "5260              女は全員怖いわ\\r\\n俺が悪くないのに悪いことにされて浮気相手に殴られたし      1     0  \n",
       "5261  そうだな\\n朝鮮人は、自分以外誰も信じないとい特質がある\\n常に外に仮想の敵を作っておかない...      1     2  \n",
       "\n",
       "[5262 rows x 5 columns]"
      ]
     },
     "execution_count": 15,
     "metadata": {},
     "output_type": "execute_result"
    }
   ],
   "source": [
    "X"
   ]
  },
  {
   "cell_type": "code",
   "execution_count": 16,
   "id": "d4ad1f97",
   "metadata": {},
   "outputs": [
    {
     "data": {
      "text/plain": [
       "(0    4385\n",
       " 1     877\n",
       " Name: label, dtype: int64,\n",
       " 0    0.833333\n",
       " 1    0.166667\n",
       " Name: label, dtype: float64)"
      ]
     },
     "execution_count": 16,
     "metadata": {},
     "output_type": "execute_result"
    }
   ],
   "source": [
    "X['label'].value_counts(), X['label'].value_counts(normalize=True)"
   ]
  },
  {
   "cell_type": "code",
   "execution_count": 17,
   "id": "841840de",
   "metadata": {},
   "outputs": [
    {
     "data": {
      "text/html": [
       "<div>\n",
       "<style scoped>\n",
       "    .dataframe tbody tr th:only-of-type {\n",
       "        vertical-align: middle;\n",
       "    }\n",
       "\n",
       "    .dataframe tbody tr th {\n",
       "        vertical-align: top;\n",
       "    }\n",
       "\n",
       "    .dataframe thead th {\n",
       "        text-align: right;\n",
       "    }\n",
       "</style>\n",
       "<table border=\"1\" class=\"dataframe\">\n",
       "  <thead>\n",
       "    <tr style=\"text-align: right;\">\n",
       "      <th>label</th>\n",
       "      <th>0</th>\n",
       "      <th>1</th>\n",
       "    </tr>\n",
       "    <tr>\n",
       "      <th>hold</th>\n",
       "      <th></th>\n",
       "      <th></th>\n",
       "    </tr>\n",
       "  </thead>\n",
       "  <tbody>\n",
       "    <tr>\n",
       "      <th>0</th>\n",
       "      <td>847</td>\n",
       "      <td>160</td>\n",
       "    </tr>\n",
       "    <tr>\n",
       "      <th>1</th>\n",
       "      <td>907</td>\n",
       "      <td>204</td>\n",
       "    </tr>\n",
       "    <tr>\n",
       "      <th>2</th>\n",
       "      <td>869</td>\n",
       "      <td>160</td>\n",
       "    </tr>\n",
       "    <tr>\n",
       "      <th>3</th>\n",
       "      <td>901</td>\n",
       "      <td>157</td>\n",
       "    </tr>\n",
       "    <tr>\n",
       "      <th>4</th>\n",
       "      <td>861</td>\n",
       "      <td>196</td>\n",
       "    </tr>\n",
       "  </tbody>\n",
       "</table>\n",
       "</div>"
      ],
      "text/plain": [
       "label    0    1\n",
       "hold           \n",
       "0      847  160\n",
       "1      907  204\n",
       "2      869  160\n",
       "3      901  157\n",
       "4      861  196"
      ]
     },
     "execution_count": 17,
     "metadata": {},
     "output_type": "execute_result"
    }
   ],
   "source": [
    "pd.crosstab(X['hold'], X['label'])"
   ]
  },
  {
   "cell_type": "code",
   "execution_count": 18,
   "id": "3500ade4",
   "metadata": {},
   "outputs": [],
   "source": [
    "X.to_csv('tmp/hatespeech_train_oversample.csv', index=False)"
   ]
  },
  {
   "cell_type": "code",
   "execution_count": null,
   "id": "81f2ef3d",
   "metadata": {},
   "outputs": [],
   "source": []
  }
 ],
 "metadata": {
  "kernelspec": {
   "display_name": "Python 3 (ipykernel)",
   "language": "python",
   "name": "python3"
  },
  "language_info": {
   "codemirror_mode": {
    "name": "ipython",
    "version": 3
   },
   "file_extension": ".py",
   "mimetype": "text/x-python",
   "name": "python",
   "nbconvert_exporter": "python",
   "pygments_lexer": "ipython3",
   "version": "3.8.13"
  }
 },
 "nbformat": 4,
 "nbformat_minor": 5
}
