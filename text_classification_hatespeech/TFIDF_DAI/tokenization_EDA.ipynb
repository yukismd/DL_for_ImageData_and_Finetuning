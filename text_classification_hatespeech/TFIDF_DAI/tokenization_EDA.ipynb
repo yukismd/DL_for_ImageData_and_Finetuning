{
 "cells": [
  {
   "cell_type": "code",
   "execution_count": null,
   "id": "045b00f1",
   "metadata": {},
   "outputs": [],
   "source": []
  },
  {
   "cell_type": "code",
   "execution_count": 1,
   "id": "7064489c",
   "metadata": {},
   "outputs": [],
   "source": [
    "import numpy as np\n",
    "import pandas as pd\n",
    "\n",
    "from janome.tokenizer import Tokenizer\n",
    "\n",
    "from transformers import AutoTokenizer"
   ]
  },
  {
   "cell_type": "code",
   "execution_count": 5,
   "id": "032d3cf1",
   "metadata": {},
   "outputs": [
    {
     "name": "stdout",
     "output_type": "stream",
     "text": [
      "\u001b[34mdata\u001b[m\u001b[m                     hatespeech_test.csv      hatespeech_train_DAI.csv\r\n",
      "\u001b[34mhatespeech\u001b[m\u001b[m               hatespeech_test_DAI.csv\r\n",
      "hatespeech.zip           hatespeech_train.csv\r\n"
     ]
    }
   ],
   "source": [
    "!ls tmp"
   ]
  },
  {
   "cell_type": "code",
   "execution_count": 6,
   "id": "f0e32397",
   "metadata": {},
   "outputs": [
    {
     "data": {
      "text/plain": [
       "((4656, 5), (600, 4))"
      ]
     },
     "execution_count": 6,
     "metadata": {},
     "output_type": "execute_result"
    }
   ],
   "source": [
    "df_train = pd.read_csv('tmp/hatespeech_train.csv')\n",
    "df_test = pd.read_csv('tmp/hatespeech_test.csv')\n",
    "df_train.shape, df_test.shape"
   ]
  },
  {
   "cell_type": "code",
   "execution_count": 7,
   "id": "aff1371b",
   "metadata": {},
   "outputs": [
    {
     "data": {
      "text/html": [
       "<div>\n",
       "<style scoped>\n",
       "    .dataframe tbody tr th:only-of-type {\n",
       "        vertical-align: middle;\n",
       "    }\n",
       "\n",
       "    .dataframe tbody tr th {\n",
       "        vertical-align: top;\n",
       "    }\n",
       "\n",
       "    .dataframe thead th {\n",
       "        text-align: right;\n",
       "    }\n",
       "</style>\n",
       "<table border=\"1\" class=\"dataframe\">\n",
       "  <thead>\n",
       "    <tr style=\"text-align: right;\">\n",
       "      <th></th>\n",
       "      <th>id</th>\n",
       "      <th>source</th>\n",
       "      <th>text</th>\n",
       "      <th>label</th>\n",
       "      <th>hold</th>\n",
       "    </tr>\n",
       "  </thead>\n",
       "  <tbody>\n",
       "    <tr>\n",
       "      <th>0</th>\n",
       "      <td>b1b0d5e6c</td>\n",
       "      <td>newsplus</td>\n",
       "      <td>手引きしたのは高い確率で大院君だよなぁ</td>\n",
       "      <td>0</td>\n",
       "      <td>2</td>\n",
       "    </tr>\n",
       "    <tr>\n",
       "      <th>1</th>\n",
       "      <td>a5e29c5f1</td>\n",
       "      <td>livejupiter</td>\n",
       "      <td>いや別にワイが困るわけじゃないからええけど対応大変やなぁと思ってな</td>\n",
       "      <td>0</td>\n",
       "      <td>1</td>\n",
       "    </tr>\n",
       "    <tr>\n",
       "      <th>2</th>\n",
       "      <td>bd72cb57e</td>\n",
       "      <td>newsplus</td>\n",
       "      <td>そこで家族会すら総スカンを食らった極左を出すあたり頭が逝ってるな\\n結局動かぬ証拠だから動か...</td>\n",
       "      <td>0</td>\n",
       "      <td>4</td>\n",
       "    </tr>\n",
       "    <tr>\n",
       "      <th>3</th>\n",
       "      <td>66387bae8</td>\n",
       "      <td>news4vip</td>\n",
       "      <td>もともとB'zが好きだったんだが松本のソロアルバムでtake5カバーしててな\\nそれで原曲聴...</td>\n",
       "      <td>0</td>\n",
       "      <td>1</td>\n",
       "    </tr>\n",
       "    <tr>\n",
       "      <th>4</th>\n",
       "      <td>b80dc3a94</td>\n",
       "      <td>livejupiter</td>\n",
       "      <td>スタンドって本体の内面現すんだよな\\n\\nいろいろ想像するとおもろいわ\\n何でDIOは時止め...</td>\n",
       "      <td>0</td>\n",
       "      <td>2</td>\n",
       "    </tr>\n",
       "  </tbody>\n",
       "</table>\n",
       "</div>"
      ],
      "text/plain": [
       "          id       source                                               text  \\\n",
       "0  b1b0d5e6c     newsplus                                手引きしたのは高い確率で大院君だよなぁ   \n",
       "1  a5e29c5f1  livejupiter                  いや別にワイが困るわけじゃないからええけど対応大変やなぁと思ってな   \n",
       "2  bd72cb57e     newsplus  そこで家族会すら総スカンを食らった極左を出すあたり頭が逝ってるな\\n結局動かぬ証拠だから動か...   \n",
       "3  66387bae8     news4vip  もともとB'zが好きだったんだが松本のソロアルバムでtake5カバーしててな\\nそれで原曲聴...   \n",
       "4  b80dc3a94  livejupiter  スタンドって本体の内面現すんだよな\\n\\nいろいろ想像するとおもろいわ\\n何でDIOは時止め...   \n",
       "\n",
       "   label  hold  \n",
       "0      0     2  \n",
       "1      0     1  \n",
       "2      0     4  \n",
       "3      0     1  \n",
       "4      0     2  "
      ]
     },
     "execution_count": 7,
     "metadata": {},
     "output_type": "execute_result"
    }
   ],
   "source": [
    "df_train.head()"
   ]
  },
  {
   "cell_type": "code",
   "execution_count": 8,
   "id": "75dd764e",
   "metadata": {},
   "outputs": [
    {
     "data": {
      "text/html": [
       "<div>\n",
       "<style scoped>\n",
       "    .dataframe tbody tr th:only-of-type {\n",
       "        vertical-align: middle;\n",
       "    }\n",
       "\n",
       "    .dataframe tbody tr th {\n",
       "        vertical-align: top;\n",
       "    }\n",
       "\n",
       "    .dataframe thead th {\n",
       "        text-align: right;\n",
       "    }\n",
       "</style>\n",
       "<table border=\"1\" class=\"dataframe\">\n",
       "  <thead>\n",
       "    <tr style=\"text-align: right;\">\n",
       "      <th></th>\n",
       "      <th>id</th>\n",
       "      <th>source</th>\n",
       "      <th>text</th>\n",
       "      <th>label</th>\n",
       "    </tr>\n",
       "  </thead>\n",
       "  <tbody>\n",
       "    <tr>\n",
       "      <th>0</th>\n",
       "      <td>e3d3e578b</td>\n",
       "      <td>news4vip</td>\n",
       "      <td>まぁ、俺の言ってることは余りあてにしないでくれwwww\\n\\n必ずいい人は現れるよ</td>\n",
       "      <td>0</td>\n",
       "    </tr>\n",
       "    <tr>\n",
       "      <th>1</th>\n",
       "      <td>a728f26db</td>\n",
       "      <td>news4vip</td>\n",
       "      <td>すまないがそれはレンジのほうか？\\nそれともトースター？</td>\n",
       "      <td>0</td>\n",
       "    </tr>\n",
       "    <tr>\n",
       "      <th>2</th>\n",
       "      <td>c53e66dc9</td>\n",
       "      <td>livejupiter</td>\n",
       "      <td>そら大不況で独り勝ちした金持ちを殺してしかも自分もちゃんと腹切ってるからな\\n今で言うならリ...</td>\n",
       "      <td>0</td>\n",
       "    </tr>\n",
       "    <tr>\n",
       "      <th>3</th>\n",
       "      <td>fb3b600fb</td>\n",
       "      <td>newsplus</td>\n",
       "      <td>外国や外国人に税金や公的資金を使うのは違法と言ってくれたら、民進党の支持率は爆上げだろうな。</td>\n",
       "      <td>0</td>\n",
       "    </tr>\n",
       "    <tr>\n",
       "      <th>4</th>\n",
       "      <td>ef9cd1326</td>\n",
       "      <td>newsplus</td>\n",
       "      <td>中国人は、日本の年金制度にものらないとw</td>\n",
       "      <td>0</td>\n",
       "    </tr>\n",
       "  </tbody>\n",
       "</table>\n",
       "</div>"
      ],
      "text/plain": [
       "          id       source                                               text  \\\n",
       "0  e3d3e578b     news4vip          まぁ、俺の言ってることは余りあてにしないでくれwwww\\n\\n必ずいい人は現れるよ   \n",
       "1  a728f26db     news4vip                       すまないがそれはレンジのほうか？\\nそれともトースター？   \n",
       "2  c53e66dc9  livejupiter  そら大不況で独り勝ちした金持ちを殺してしかも自分もちゃんと腹切ってるからな\\n今で言うならリ...   \n",
       "3  fb3b600fb     newsplus     外国や外国人に税金や公的資金を使うのは違法と言ってくれたら、民進党の支持率は爆上げだろうな。   \n",
       "4  ef9cd1326     newsplus                               中国人は、日本の年金制度にものらないとw   \n",
       "\n",
       "   label  \n",
       "0      0  \n",
       "1      0  \n",
       "2      0  \n",
       "3      0  \n",
       "4      0  "
      ]
     },
     "execution_count": 8,
     "metadata": {},
     "output_type": "execute_result"
    }
   ],
   "source": [
    "df_test.head()"
   ]
  },
  {
   "cell_type": "code",
   "execution_count": null,
   "id": "a07f85ac",
   "metadata": {},
   "outputs": [],
   "source": []
  },
  {
   "cell_type": "markdown",
   "id": "8754b8f1",
   "metadata": {},
   "source": [
    "### Janome（分ち書き）"
   ]
  },
  {
   "cell_type": "code",
   "execution_count": 33,
   "id": "e616a890",
   "metadata": {},
   "outputs": [
    {
     "data": {
      "text/plain": [
       "<janome.tokenizer.Tokenizer at 0x7fef6c86a190>"
      ]
     },
     "execution_count": 33,
     "metadata": {},
     "output_type": "execute_result"
    }
   ],
   "source": [
    "t_janome = Tokenizer(wakati=True)\n",
    "t_janome"
   ]
  },
  {
   "cell_type": "code",
   "execution_count": 34,
   "id": "36210bcd",
   "metadata": {},
   "outputs": [
    {
     "data": {
      "text/plain": [
       "(4656, 600)"
      ]
     },
     "execution_count": 34,
     "metadata": {},
     "output_type": "execute_result"
    }
   ],
   "source": [
    "train_janome_token_list = [[tkn for tkn in t_janome.tokenize(df_train['text'][i])] for i in range(df_train.shape[0])]\n",
    "test_janome_token_list = [[tkn for tkn in t_janome.tokenize(df_test['text'][i])] for i in range(df_test.shape[0])]\n",
    "len(train_janome_token_list), len(test_janome_token_list)"
   ]
  },
  {
   "cell_type": "code",
   "execution_count": 35,
   "id": "ad1b3a00",
   "metadata": {},
   "outputs": [
    {
     "data": {
      "text/plain": [
       "(131587, 17175)"
      ]
     },
     "execution_count": 35,
     "metadata": {},
     "output_type": "execute_result"
    }
   ],
   "source": [
    "train_janome_token_flatten = [tkn for sublist in train_janome_token_list for tkn in sublist]\n",
    "test_janome_token_flatten = [tkn for sublist in test_janome_token_list for tkn in sublist]\n",
    "len(train_janome_token_flatten), len(test_janome_token_flatten)"
   ]
  },
  {
   "cell_type": "code",
   "execution_count": 36,
   "id": "5f86401f",
   "metadata": {},
   "outputs": [
    {
     "data": {
      "text/plain": [
       "(14261, 3985)"
      ]
     },
     "execution_count": 36,
     "metadata": {},
     "output_type": "execute_result"
    }
   ],
   "source": [
    "train_janome_token = list(set(train_janome_token_flatten))   # trainに出現するユニークなトークン\n",
    "test_janome_token = list(set(test_janome_token_flatten))    # testに出現するユニークなトークン\n",
    "len(train_janome_token), len(test_janome_token)"
   ]
  },
  {
   "cell_type": "code",
   "execution_count": 50,
   "id": "3d3abb43",
   "metadata": {},
   "outputs": [
    {
     "data": {
      "text/plain": [
       "15227"
      ]
     },
     "execution_count": 50,
     "metadata": {},
     "output_type": "execute_result"
    }
   ],
   "source": [
    "all_janome_token = list(set(train_janome_token + test_janome_token))   # 総ユニークトークン数\n",
    "len(all_janome_token)"
   ]
  },
  {
   "cell_type": "code",
   "execution_count": 39,
   "id": "acb4fdac",
   "metadata": {
    "scrolled": true
   },
   "outputs": [
    {
     "data": {
      "text/plain": [
       "(11242, 966)"
      ]
     },
     "execution_count": 39,
     "metadata": {},
     "output_type": "execute_result"
    }
   ],
   "source": [
    "only_train_janome_token = list(set(train_janome_token) - set(test_janome_token))   # trainにのみ出現するトークン\n",
    "only_test_janome_token = list(set(test_janome_token) - set(train_janome_token))   # testにのみ出現するトークン\n",
    "len(only_train_janome_token), len(only_test_janome_token)"
   ]
  },
  {
   "cell_type": "code",
   "execution_count": null,
   "id": "60a11935",
   "metadata": {},
   "outputs": [],
   "source": []
  },
  {
   "cell_type": "markdown",
   "id": "c5017d18",
   "metadata": {},
   "source": [
    "### tohoku-nlp/bert-base-japanese-whole-word-masking（WordPiece）\n",
    "https://huggingface.co/tohoku-nlp/bert-base-japanese-whole-word-masking"
   ]
  },
  {
   "cell_type": "code",
   "execution_count": 41,
   "id": "3dfe7711",
   "metadata": {},
   "outputs": [
    {
     "data": {
      "text/plain": [
       "BertJapaneseTokenizer(name_or_path='tohoku-nlp/bert-base-japanese-whole-word-masking', vocab_size=32000, model_max_length=512, is_fast=False, padding_side='right', truncation_side='right', special_tokens={'unk_token': '[UNK]', 'sep_token': '[SEP]', 'pad_token': '[PAD]', 'cls_token': '[CLS]', 'mask_token': '[MASK]'}, clean_up_tokenization_spaces=True),  added_tokens_decoder={\n",
       "\t0: AddedToken(\"[PAD]\", rstrip=False, lstrip=False, single_word=False, normalized=False, special=True),\n",
       "\t1: AddedToken(\"[UNK]\", rstrip=False, lstrip=False, single_word=False, normalized=False, special=True),\n",
       "\t2: AddedToken(\"[CLS]\", rstrip=False, lstrip=False, single_word=False, normalized=False, special=True),\n",
       "\t3: AddedToken(\"[SEP]\", rstrip=False, lstrip=False, single_word=False, normalized=False, special=True),\n",
       "\t4: AddedToken(\"[MASK]\", rstrip=False, lstrip=False, single_word=False, normalized=False, special=True),\n",
       "}"
      ]
     },
     "execution_count": 41,
     "metadata": {},
     "output_type": "execute_result"
    }
   ],
   "source": [
    "t_tohokuBertBase = AutoTokenizer.from_pretrained('tohoku-nlp/bert-base-japanese-whole-word-masking')\n",
    "t_tohokuBertBase"
   ]
  },
  {
   "cell_type": "code",
   "execution_count": 45,
   "id": "f2e3f9f9",
   "metadata": {},
   "outputs": [
    {
     "data": {
      "text/plain": [
       "(4656, 600)"
      ]
     },
     "execution_count": 45,
     "metadata": {},
     "output_type": "execute_result"
    }
   ],
   "source": [
    "train_tbertb_token_list = [[tkn for tkn in t_tohokuBertBase.tokenize(df_train['text'][i])] for i in range(df_train.shape[0])]\n",
    "test_tbertb_token_list = [[tkn for tkn in t_tohokuBertBase.tokenize(df_test['text'][i])] for i in range(df_test.shape[0])]\n",
    "len(train_tbertb_token_list), len(test_tbertb_token_list)"
   ]
  },
  {
   "cell_type": "code",
   "execution_count": 46,
   "id": "caced857",
   "metadata": {},
   "outputs": [
    {
     "data": {
      "text/plain": [
       "(141502, 18449)"
      ]
     },
     "execution_count": 46,
     "metadata": {},
     "output_type": "execute_result"
    }
   ],
   "source": [
    "train_tbertb_token_flatten = [tkn for sublist in train_tbertb_token_list for tkn in sublist]\n",
    "test_tbertb_token_flatten = [tkn for sublist in test_tbertb_token_list for tkn in sublist]\n",
    "len(train_tbertb_token_flatten), len(test_tbertb_token_flatten)"
   ]
  },
  {
   "cell_type": "code",
   "execution_count": 48,
   "id": "ccebbf8a",
   "metadata": {},
   "outputs": [
    {
     "data": {
      "text/plain": [
       "(11493, 4067)"
      ]
     },
     "execution_count": 48,
     "metadata": {},
     "output_type": "execute_result"
    }
   ],
   "source": [
    "train_tbertb_token = list(set(train_tbertb_token_flatten))   # trainに出現するユニークなトークン\n",
    "test_tbertb_token = list(set(test_tbertb_token_flatten))    # testに出現するユニークなトークン\n",
    "len(train_tbertb_token), len(test_tbertb_token)"
   ]
  },
  {
   "cell_type": "code",
   "execution_count": 51,
   "id": "e0b18a5f",
   "metadata": {},
   "outputs": [
    {
     "data": {
      "text/plain": [
       "12029"
      ]
     },
     "execution_count": 51,
     "metadata": {},
     "output_type": "execute_result"
    }
   ],
   "source": [
    "all_tbertb_token = list(set(train_tbertb_token + test_tbertb_token))   # 総ユニークトークン数\n",
    "len(all_tbertb_token)"
   ]
  },
  {
   "cell_type": "code",
   "execution_count": 49,
   "id": "e8dba701",
   "metadata": {},
   "outputs": [
    {
     "data": {
      "text/plain": [
       "(7962, 536)"
      ]
     },
     "execution_count": 49,
     "metadata": {},
     "output_type": "execute_result"
    }
   ],
   "source": [
    "only_train_tbertb_token = list(set(train_tbertb_token) - set(test_tbertb_token))   # trainにのみ出現するトークン\n",
    "only_test_tbertb_token = list(set(test_tbertb_token) - set(train_tbertb_token))   # testにのみ出現するトークン\n",
    "len(only_train_tbertb_token), len(only_test_tbertb_token)"
   ]
  },
  {
   "cell_type": "code",
   "execution_count": null,
   "id": "8621e34c",
   "metadata": {},
   "outputs": [],
   "source": []
  },
  {
   "cell_type": "code",
   "execution_count": null,
   "id": "24d8ce76",
   "metadata": {},
   "outputs": [],
   "source": []
  },
  {
   "cell_type": "code",
   "execution_count": null,
   "id": "73b56c1f",
   "metadata": {},
   "outputs": [],
   "source": []
  }
 ],
 "metadata": {
  "kernelspec": {
   "display_name": "Python 3 (ipykernel)",
   "language": "python",
   "name": "python3"
  },
  "language_info": {
   "codemirror_mode": {
    "name": "ipython",
    "version": 3
   },
   "file_extension": ".py",
   "mimetype": "text/x-python",
   "name": "python",
   "nbconvert_exporter": "python",
   "pygments_lexer": "ipython3",
   "version": "3.8.13"
  }
 },
 "nbformat": 4,
 "nbformat_minor": 5
}
