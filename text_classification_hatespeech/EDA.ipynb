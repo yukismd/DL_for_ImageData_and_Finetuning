{
 "cells": [
  {
   "cell_type": "markdown",
   "id": "41c6d816",
   "metadata": {},
   "source": [
    "# EDA"
   ]
  },
  {
   "cell_type": "markdown",
   "id": "17fcab18",
   "metadata": {},
   "source": [
    "Data Source: https://competition.nishika.com/competitions/hate/data"
   ]
  },
  {
   "cell_type": "code",
   "execution_count": 66,
   "id": "859d1efc",
   "metadata": {},
   "outputs": [],
   "source": [
    "import numpy as np\n",
    "import pandas as pd\n",
    "import matplotlib.pyplot as plt\n",
    "\n",
    "import spacy\n",
    "from collections import Counter\n",
    "from tqdm.auto import tqdm"
   ]
  },
  {
   "cell_type": "code",
   "execution_count": 3,
   "id": "415dd730",
   "metadata": {},
   "outputs": [
    {
     "name": "stdout",
     "output_type": "stream",
     "text": [
      "README.txt            sample_submission.csv train.csv\r\n",
      "data_explanation.xlsx test.csv\r\n"
     ]
    }
   ],
   "source": [
    "!ls tmp/data"
   ]
  },
  {
   "cell_type": "code",
   "execution_count": 5,
   "id": "638a1144",
   "metadata": {},
   "outputs": [
    {
     "data": {
      "text/plain": [
       "(5256, 4)"
      ]
     },
     "execution_count": 5,
     "metadata": {},
     "output_type": "execute_result"
    }
   ],
   "source": [
    "df = pd.read_csv('tmp/data/train.csv')\n",
    "df.shape"
   ]
  },
  {
   "cell_type": "code",
   "execution_count": 6,
   "id": "bd586f15",
   "metadata": {},
   "outputs": [
    {
     "data": {
      "text/html": [
       "<div>\n",
       "<style scoped>\n",
       "    .dataframe tbody tr th:only-of-type {\n",
       "        vertical-align: middle;\n",
       "    }\n",
       "\n",
       "    .dataframe tbody tr th {\n",
       "        vertical-align: top;\n",
       "    }\n",
       "\n",
       "    .dataframe thead th {\n",
       "        text-align: right;\n",
       "    }\n",
       "</style>\n",
       "<table border=\"1\" class=\"dataframe\">\n",
       "  <thead>\n",
       "    <tr style=\"text-align: right;\">\n",
       "      <th></th>\n",
       "      <th>id</th>\n",
       "      <th>source</th>\n",
       "      <th>text</th>\n",
       "      <th>label</th>\n",
       "    </tr>\n",
       "  </thead>\n",
       "  <tbody>\n",
       "    <tr>\n",
       "      <th>0</th>\n",
       "      <td>80074aa43</td>\n",
       "      <td>news4vip</td>\n",
       "      <td>まともに相手されてない人との関係なんて\\nそんな大事にするものか？</td>\n",
       "      <td>0</td>\n",
       "    </tr>\n",
       "    <tr>\n",
       "      <th>1</th>\n",
       "      <td>6378fea6b</td>\n",
       "      <td>livejupiter</td>\n",
       "      <td>最近はアヘアヘQSマンやない？ ｲｲ!(・∀・)+1-0(・Ａ・)ｲｸﾅｲ!</td>\n",
       "      <td>0</td>\n",
       "    </tr>\n",
       "    <tr>\n",
       "      <th>2</th>\n",
       "      <td>c535f5613</td>\n",
       "      <td>livejupiter</td>\n",
       "      <td>日本人として生まれても無能な低学歴って分かったら日本人の権利剥奪して追放すべきやろ\\n甘えるな</td>\n",
       "      <td>1</td>\n",
       "    </tr>\n",
       "    <tr>\n",
       "      <th>3</th>\n",
       "      <td>e76638295</td>\n",
       "      <td>livejupiter</td>\n",
       "      <td>よくよく思えば川上は配布にしたらとんでもなく有能だよな\\nガチャから引いたら圧倒的歓喜レベルやで</td>\n",
       "      <td>0</td>\n",
       "    </tr>\n",
       "    <tr>\n",
       "      <th>4</th>\n",
       "      <td>51e4036bf</td>\n",
       "      <td>newsplus</td>\n",
       "      <td>押井は原作レイプの専門家だから\\n原作マンガの真意を誤解させることに関してはプロだが\\nそれ...</td>\n",
       "      <td>0</td>\n",
       "    </tr>\n",
       "    <tr>\n",
       "      <th>...</th>\n",
       "      <td>...</td>\n",
       "      <td>...</td>\n",
       "      <td>...</td>\n",
       "      <td>...</td>\n",
       "    </tr>\n",
       "    <tr>\n",
       "      <th>5251</th>\n",
       "      <td>42b5f86b0</td>\n",
       "      <td>news4vip</td>\n",
       "      <td>車じゃなくてもよくない？\\nケーブル網を張り巡らせてリフトみたいなのを付けるとか</td>\n",
       "      <td>0</td>\n",
       "    </tr>\n",
       "    <tr>\n",
       "      <th>5252</th>\n",
       "      <td>402ce15d9</td>\n",
       "      <td>livejupiter</td>\n",
       "      <td>左やぞ？\\n出すなら下水流</td>\n",
       "      <td>0</td>\n",
       "    </tr>\n",
       "    <tr>\n",
       "      <th>5253</th>\n",
       "      <td>0739a9fcb</td>\n",
       "      <td>newsplus</td>\n",
       "      <td>日本によって、けんけんガクガクの議論を持たらされた韓国は被害者\\n\\n日本人がしっかり考えな...</td>\n",
       "      <td>0</td>\n",
       "    </tr>\n",
       "    <tr>\n",
       "      <th>5254</th>\n",
       "      <td>d496c7dc8</td>\n",
       "      <td>news4vip</td>\n",
       "      <td>ゴムボート買って、沖まで漕いで行ったら？\\n魚の血を塗っておけばサメが食べてくれるよ</td>\n",
       "      <td>0</td>\n",
       "    </tr>\n",
       "    <tr>\n",
       "      <th>5255</th>\n",
       "      <td>d1838f4f0</td>\n",
       "      <td>news4vip</td>\n",
       "      <td>男は美化してないだろ？普通にエロい部分や格好悪い所も描かれてる\\n女の方は主人公美少女しかい...</td>\n",
       "      <td>0</td>\n",
       "    </tr>\n",
       "  </tbody>\n",
       "</table>\n",
       "<p>5256 rows × 4 columns</p>\n",
       "</div>"
      ],
      "text/plain": [
       "             id       source  \\\n",
       "0     80074aa43     news4vip   \n",
       "1     6378fea6b  livejupiter   \n",
       "2     c535f5613  livejupiter   \n",
       "3     e76638295  livejupiter   \n",
       "4     51e4036bf     newsplus   \n",
       "...         ...          ...   \n",
       "5251  42b5f86b0     news4vip   \n",
       "5252  402ce15d9  livejupiter   \n",
       "5253  0739a9fcb     newsplus   \n",
       "5254  d496c7dc8     news4vip   \n",
       "5255  d1838f4f0     news4vip   \n",
       "\n",
       "                                                   text  label  \n",
       "0                     まともに相手されてない人との関係なんて\\nそんな大事にするものか？      0  \n",
       "1                最近はアヘアヘQSマンやない？ ｲｲ!(・∀・)+1-0(・Ａ・)ｲｸﾅｲ!      0  \n",
       "2       日本人として生まれても無能な低学歴って分かったら日本人の権利剥奪して追放すべきやろ\\n甘えるな      1  \n",
       "3      よくよく思えば川上は配布にしたらとんでもなく有能だよな\\nガチャから引いたら圧倒的歓喜レベルやで      0  \n",
       "4     押井は原作レイプの専門家だから\\n原作マンガの真意を誤解させることに関してはプロだが\\nそれ...      0  \n",
       "...                                                 ...    ...  \n",
       "5251           車じゃなくてもよくない？\\nケーブル網を張り巡らせてリフトみたいなのを付けるとか      0  \n",
       "5252                                      左やぞ？\\n出すなら下水流      0  \n",
       "5253  日本によって、けんけんガクガクの議論を持たらされた韓国は被害者\\n\\n日本人がしっかり考えな...      0  \n",
       "5254         ゴムボート買って、沖まで漕いで行ったら？\\n魚の血を塗っておけばサメが食べてくれるよ      0  \n",
       "5255  男は美化してないだろ？普通にエロい部分や格好悪い所も描かれてる\\n女の方は主人公美少女しかい...      0  \n",
       "\n",
       "[5256 rows x 4 columns]"
      ]
     },
     "execution_count": 6,
     "metadata": {},
     "output_type": "execute_result"
    }
   ],
   "source": [
    "df"
   ]
  },
  {
   "cell_type": "code",
   "execution_count": null,
   "id": "1d5da21f",
   "metadata": {},
   "outputs": [],
   "source": []
  },
  {
   "cell_type": "markdown",
   "id": "7f29b270",
   "metadata": {},
   "source": [
    "### labelの分布"
   ]
  },
  {
   "cell_type": "code",
   "execution_count": 7,
   "id": "2588e5ab",
   "metadata": {},
   "outputs": [
    {
     "data": {
      "text/plain": [
       "label\n",
       "0    4950\n",
       "1     306\n",
       "Name: count, dtype: int64"
      ]
     },
     "execution_count": 7,
     "metadata": {},
     "output_type": "execute_result"
    }
   ],
   "source": [
    "df['label'].value_counts()"
   ]
  },
  {
   "cell_type": "code",
   "execution_count": 8,
   "id": "b00fce48",
   "metadata": {},
   "outputs": [
    {
     "data": {
      "text/plain": [
       "label\n",
       "0    0.941781\n",
       "1    0.058219\n",
       "Name: proportion, dtype: float64"
      ]
     },
     "execution_count": 8,
     "metadata": {},
     "output_type": "execute_result"
    }
   ],
   "source": [
    "df['label'].value_counts(normalize=True)"
   ]
  },
  {
   "attachments": {},
   "cell_type": "markdown",
   "id": "06a6d776",
   "metadata": {},
   "source": [
    "0: ヘイトスピーチではない  \n",
    "1: ヘイトスピーチ"
   ]
  },
  {
   "cell_type": "code",
   "execution_count": null,
   "id": "787c3d1f",
   "metadata": {},
   "outputs": [],
   "source": []
  },
  {
   "cell_type": "markdown",
   "id": "a95c2f45",
   "metadata": {},
   "source": [
    "### 文章の例"
   ]
  },
  {
   "cell_type": "code",
   "execution_count": 31,
   "id": "9774484c",
   "metadata": {},
   "outputs": [
    {
     "name": "stdout",
     "output_type": "stream",
     "text": [
      ">>>>> ヘイトスピーチの例（label=1） <<<<<\n",
      "\n",
      "後で見返りよ要求したに決まってる\n",
      "朝鮮人とはそういう奴等\n",
      "世界一民度が低くて詐欺師と強姦魔しかいない\n",
      "----------\n",
      "日本人は狭くて労働環境最悪でブサイクの癖に整形しない陰湿劣等民族やからやで\n",
      "----------\n",
      "そっち？\n",
      "やっぱり朝鮮人が得意とする自作自演なのかw\n",
      "満員電車でキムチのつまみ食いとかwww\n",
      "----------\n",
      "外国人のまんこは排斥せなあかんやろ\n",
      "ハーフのまんこもアウト\n",
      "----------\n",
      "消去法ならどう考えてもこのババアはないだろ！\r\n",
      "どんな選択法してんだアホ都民は\n",
      "----------\n",
      "それな\n",
      "つまり、日本のテロリストは民主党支持者ってこったな\n",
      "過激派の首謀者は、在日なんだよね\n",
      "----------\n",
      "日本にアイヌと蝦夷と熊襲と琉球の混じった人間はいらない\n",
      "----------\n",
      "半島は「国交断絶」でどうにでもなるが、在日は国内に潜伏だからねぇ。\n",
      "これが一番の日本の癌なのは間違いない。\n",
      "----------\n",
      "法案の中身も読めないとは、朝鮮人哀れwww\n",
      "朝鮮学校ではまともな教育受けられないんだなw\n",
      "----------\n",
      "発狂はお前らのお得意分野だろ\n",
      "韓国さんよ\n",
      "----------\n",
      "人に大怪我させた飼い犬や狂犬病のおそれがある野良犬は刹処分に決まってんだろ\n",
      "犬の話を人間にすり替えるとか、お前ブサヨかよｗ\n",
      "ちなみに朝鮮ジンは人とことなるから野生動物扱いでかまわんやろｗ\n",
      "----------\n",
      "日本人は「同じレベルの墜ちてはいけない(戒め)」って言いすぎた結果、今のシナチョンの増長を招いたんやで\n",
      "これからはチョンが犬食い民族・糞食い民族・近親相姦民族である事を世界中にばらまかないと(アカン)\n",
      "----------\n",
      "増えたら増えたで朝鮮人の危険性が知れわたるからそれでええんやで\n",
      "あとでゆっくり排斥すれば\n",
      "----------\n",
      "政治家と老害と寄生虫ナマポ外国人抹殺せなアカンな\n",
      "----------\n",
      "頭おかしくて結構\n",
      "朝鮮人とakbは消えてくれ\n",
      "----------\n"
     ]
    }
   ],
   "source": [
    "print('>>>>> ヘイトスピーチの例（label=1） <<<<<')\n",
    "print('')\n",
    "for t in df[df['label']==1].sample(15)['text']:\n",
    "    print(t)\n",
    "    print('----------')"
   ]
  },
  {
   "cell_type": "code",
   "execution_count": 32,
   "id": "99c2ff02",
   "metadata": {},
   "outputs": [
    {
     "name": "stdout",
     "output_type": "stream",
     "text": [
      ">>>>> ヘイトスピーチでない例（label=0） <<<<<\n",
      "\n",
      "なんか軍駐留させてたら勝手に戦争はじまって米英が敵支援するから終わらなくなった\n",
      "----------\n",
      "嘘ついて仲良くなれたとしても果たしてそれは本当の関係になれるのだろうか\n",
      "----------\n",
      "はやいとこジョブチェンジするのをオススメするよ。ダーマ神殿へ行くべき\n",
      "----------\n",
      "レカスはそんな状態でもへーきでスナイプするプロやで\n",
      "これがプロと高校未満違いや(適当)\n",
      "----------\n",
      "テラス作るべきかな？その前に投手事情なんとかしないと打たれる数増えそう\n",
      "----------\n",
      "人は一生、暗やみと、悲しみと、多くの悩みと、病と、憤りの中にある\n",
      "----------\n",
      "1級は月10万貰えんのか羨ましい\n",
      "バイトするより儲かるやん\n",
      "----------\n",
      "昆虫食を食わせたい。\n",
      "ほんの軽いところからでいい。食用の着色料でコチニール色素ってあるじゃん？あれカイガラムシだからｗ\n",
      "----------\n",
      "それでも自分の編集残しておきたければ、\n",
      "編集した根拠となるソース（URL)を貼っておけばいいんじゃない感。\n",
      "----------\n",
      "無関係な地方から見れば、大阪独特の気質が革新右派に利用されてる様にしか見えんのだけどね…\n",
      "----------\n",
      "金誰が出すの？ｗ\n",
      "新幹線（）も酷かったね\n",
      "はっきり言えるのは中国は嘘吐きだし借金してるしであてにならない国ってことよ\n",
      "----------\n",
      "誰に聞いたか知らんが、Ｃ＃は開発言語としてはトップクラスに分かりやすい部類やぞ\n",
      "----------\n",
      "だから、そういうのはどんどん逮捕しろって。\n",
      "早く治安維持法を復活させろ。\n",
      "----------\n",
      "一番好きなネタは真ん中らへんで頼むかなあ\n",
      "最初からはいきたくないけど、最後やとお腹一杯になるのが心配やし\n",
      "----------\n",
      "それは、怖いわ。\n",
      "それから後ろ向いたか？\n",
      "----------\n"
     ]
    }
   ],
   "source": [
    "print('>>>>> ヘイトスピーチでない例（label=0） <<<<<')\n",
    "print('')\n",
    "for t in df[df['label']==0].sample(15)['text']:\n",
    "    print(t)\n",
    "    print('----------')"
   ]
  },
  {
   "cell_type": "code",
   "execution_count": null,
   "id": "3a74d1cb",
   "metadata": {},
   "outputs": [],
   "source": []
  },
  {
   "cell_type": "markdown",
   "id": "7cf11680",
   "metadata": {},
   "source": [
    "### （ヘイトスピーチにおける）頻出単語"
   ]
  },
  {
   "cell_type": "code",
   "execution_count": 68,
   "id": "c93f6149",
   "metadata": {},
   "outputs": [
    {
     "data": {
      "application/vnd.jupyter.widget-view+json": {
       "model_id": "54598a56e7bf493993380cff10aeb5f6",
       "version_major": 2,
       "version_minor": 0
      },
      "text/plain": [
       "  0%|          | 0/306 [00:00<?, ?it/s]"
      ]
     },
     "metadata": {},
     "output_type": "display_data"
    }
   ],
   "source": [
    "ginza_nlp = spacy.load(\"ja_ginza\")\n",
    "counter = Counter()\n",
    "\n",
    "for text in tqdm(df[df[\"label\"]==1][\"text\"]):     # ヘイトスピーチのテキストにおいて\n",
    "    # 名詞かつ文字数が2以上の単語のみカウント\n",
    "    counter.update([str(t) for t in ginza_nlp(text) if (t.pos_ == \"NOUN\") & (len(t) > 1)])"
   ]
  },
  {
   "cell_type": "code",
   "execution_count": 71,
   "id": "cc2e3234",
   "metadata": {},
   "outputs": [
    {
     "data": {
      "text/plain": [
       "[('日本人', 55),\n",
       " ('朝鮮人', 52),\n",
       " ('在日', 43),\n",
       " ('こと', 27),\n",
       " ('\\n\\n', 22),\n",
       " ('民族', 20),\n",
       " ('韓国人', 14),\n",
       " ('劣等', 12),\n",
       " ('もの', 11),\n",
       " ('価値', 9),\n",
       " ('社会', 9),\n",
       " ('差別', 9),\n",
       " ('ホモ', 9),\n",
       " ('人間', 8),\n",
       " ('土人', 8),\n",
       " ('障害者', 8),\n",
       " ('ため', 8),\n",
       " ('ども', 7),\n",
       " ('移民', 7),\n",
       " ('本当', 7),\n",
       " ('\\r\\n', 7),\n",
       " ('国家', 7),\n",
       " ('もん', 7),\n",
       " ('仕事', 6),\n",
       " ('事件', 6),\n",
       " ('クソ', 6),\n",
       " ('外国人', 6),\n",
       " ('やつ', 6),\n",
       " ('意味', 6),\n",
       " ('子供', 6)]"
      ]
     },
     "execution_count": 71,
     "metadata": {},
     "output_type": "execute_result"
    }
   ],
   "source": [
    "counter.most_common(n=30)"
   ]
  },
  {
   "cell_type": "code",
   "execution_count": null,
   "id": "5feb0cc1",
   "metadata": {},
   "outputs": [],
   "source": []
  },
  {
   "cell_type": "markdown",
   "id": "7b520d6b",
   "metadata": {},
   "source": [
    "### 文章の長さ"
   ]
  },
  {
   "cell_type": "code",
   "execution_count": 53,
   "id": "2eeda48e",
   "metadata": {},
   "outputs": [
    {
     "data": {
      "text/plain": [
       "count    5256.000000\n",
       "mean       47.627093\n",
       "std        22.732763\n",
       "min         5.000000\n",
       "5%         16.000000\n",
       "10%        22.000000\n",
       "20%        31.000000\n",
       "50%        43.000000\n",
       "80%        65.000000\n",
       "90%        79.000000\n",
       "95%        93.000000\n",
       "max       137.000000\n",
       "Name: text, dtype: float64"
      ]
     },
     "execution_count": 53,
     "metadata": {},
     "output_type": "execute_result"
    }
   ],
   "source": [
    "# 文章の文字数\n",
    "length = df[\"text\"].str.len()\n",
    "\n",
    "pd.Series(length).describe(percentiles=[0.05, 0.1, 0.2, 0.8, 0.9, 0.95])"
   ]
  },
  {
   "cell_type": "code",
   "execution_count": 54,
   "id": "beeafa61",
   "metadata": {},
   "outputs": [
    {
     "data": {
      "text/plain": [
       "[]"
      ]
     },
     "execution_count": 54,
     "metadata": {},
     "output_type": "execute_result"
    },
    {
     "data": {
      "image/png": "[encoded data removed]",
      "text/plain": [
       "<Figure size 600x300 with 1 Axes>"
      ]
     },
     "metadata": {},
     "output_type": "display_data"
    }
   ],
   "source": [
    "plt.figure(figsize=(6, 3))\n",
    "plt.hist(length, bins=30)\n",
    "plt.title('Distribution of character length')\n",
    "plt.plot()"
   ]
  },
  {
   "cell_type": "code",
   "execution_count": null,
   "id": "b4f8ab82",
   "metadata": {},
   "outputs": [],
   "source": []
  },
  {
   "cell_type": "markdown",
   "id": "cc568f72",
   "metadata": {},
   "source": [
    "### sourceカラム"
   ]
  },
  {
   "cell_type": "code",
   "execution_count": 55,
   "id": "9e9ce5e6",
   "metadata": {},
   "outputs": [
    {
     "data": {
      "text/plain": [
       "source\n",
       "newsplus       1967\n",
       "news4vip       1849\n",
       "livejupiter    1440\n",
       "Name: count, dtype: int64"
      ]
     },
     "execution_count": 55,
     "metadata": {},
     "output_type": "execute_result"
    }
   ],
   "source": [
    "df['source'].value_counts()"
   ]
  },
  {
   "cell_type": "code",
   "execution_count": 58,
   "id": "d22bf3b8",
   "metadata": {},
   "outputs": [
    {
     "data": {
      "text/html": [
       "<div>\n",
       "<style scoped>\n",
       "    .dataframe tbody tr th:only-of-type {\n",
       "        vertical-align: middle;\n",
       "    }\n",
       "\n",
       "    .dataframe tbody tr th {\n",
       "        vertical-align: top;\n",
       "    }\n",
       "\n",
       "    .dataframe thead th {\n",
       "        text-align: right;\n",
       "    }\n",
       "</style>\n",
       "<table border=\"1\" class=\"dataframe\">\n",
       "  <thead>\n",
       "    <tr style=\"text-align: right;\">\n",
       "      <th>label</th>\n",
       "      <th>0</th>\n",
       "      <th>1</th>\n",
       "      <th>All</th>\n",
       "    </tr>\n",
       "    <tr>\n",
       "      <th>source</th>\n",
       "      <th></th>\n",
       "      <th></th>\n",
       "      <th></th>\n",
       "    </tr>\n",
       "  </thead>\n",
       "  <tbody>\n",
       "    <tr>\n",
       "      <th>livejupiter</th>\n",
       "      <td>1356</td>\n",
       "      <td>84</td>\n",
       "      <td>1440</td>\n",
       "    </tr>\n",
       "    <tr>\n",
       "      <th>news4vip</th>\n",
       "      <td>1712</td>\n",
       "      <td>137</td>\n",
       "      <td>1849</td>\n",
       "    </tr>\n",
       "    <tr>\n",
       "      <th>newsplus</th>\n",
       "      <td>1882</td>\n",
       "      <td>85</td>\n",
       "      <td>1967</td>\n",
       "    </tr>\n",
       "    <tr>\n",
       "      <th>All</th>\n",
       "      <td>4950</td>\n",
       "      <td>306</td>\n",
       "      <td>5256</td>\n",
       "    </tr>\n",
       "  </tbody>\n",
       "</table>\n",
       "</div>"
      ],
      "text/plain": [
       "label           0    1   All\n",
       "source                      \n",
       "livejupiter  1356   84  1440\n",
       "news4vip     1712  137  1849\n",
       "newsplus     1882   85  1967\n",
       "All          4950  306  5256"
      ]
     },
     "execution_count": 58,
     "metadata": {},
     "output_type": "execute_result"
    }
   ],
   "source": [
    "pd.crosstab(df['source'], df['label'], margins=True)"
   ]
  },
  {
   "cell_type": "code",
   "execution_count": 60,
   "id": "53ba8b4d",
   "metadata": {},
   "outputs": [
    {
     "data": {
      "text/html": [
       "<div>\n",
       "<style scoped>\n",
       "    .dataframe tbody tr th:only-of-type {\n",
       "        vertical-align: middle;\n",
       "    }\n",
       "\n",
       "    .dataframe tbody tr th {\n",
       "        vertical-align: top;\n",
       "    }\n",
       "\n",
       "    .dataframe thead th {\n",
       "        text-align: right;\n",
       "    }\n",
       "</style>\n",
       "<table border=\"1\" class=\"dataframe\">\n",
       "  <thead>\n",
       "    <tr style=\"text-align: right;\">\n",
       "      <th>label</th>\n",
       "      <th>0</th>\n",
       "      <th>1</th>\n",
       "    </tr>\n",
       "    <tr>\n",
       "      <th>source</th>\n",
       "      <th></th>\n",
       "      <th></th>\n",
       "    </tr>\n",
       "  </thead>\n",
       "  <tbody>\n",
       "    <tr>\n",
       "      <th>livejupiter</th>\n",
       "      <td>0.941667</td>\n",
       "      <td>0.058333</td>\n",
       "    </tr>\n",
       "    <tr>\n",
       "      <th>news4vip</th>\n",
       "      <td>0.925906</td>\n",
       "      <td>0.074094</td>\n",
       "    </tr>\n",
       "    <tr>\n",
       "      <th>newsplus</th>\n",
       "      <td>0.956787</td>\n",
       "      <td>0.043213</td>\n",
       "    </tr>\n",
       "    <tr>\n",
       "      <th>All</th>\n",
       "      <td>0.941781</td>\n",
       "      <td>0.058219</td>\n",
       "    </tr>\n",
       "  </tbody>\n",
       "</table>\n",
       "</div>"
      ],
      "text/plain": [
       "label               0         1\n",
       "source                         \n",
       "livejupiter  0.941667  0.058333\n",
       "news4vip     0.925906  0.074094\n",
       "newsplus     0.956787  0.043213\n",
       "All          0.941781  0.058219"
      ]
     },
     "execution_count": 60,
     "metadata": {},
     "output_type": "execute_result"
    }
   ],
   "source": [
    "pd.crosstab(df['source'], df['label'], margins=True, normalize='index')"
   ]
  },
  {
   "cell_type": "code",
   "execution_count": null,
   "id": "abada3a3",
   "metadata": {},
   "outputs": [],
   "source": []
  }
 ],
 "metadata": {
  "kernelspec": {
   "display_name": "Python 3 (ipykernel)",
   "language": "python",
   "name": "python3"
  },
  "language_info": {
   "codemirror_mode": {
    "name": "ipython",
    "version": 3
   },
   "file_extension": ".py",
   "mimetype": "text/x-python",
   "name": "python",
   "nbconvert_exporter": "python",
   "pygments_lexer": "ipython3",
   "version": "3.8.13"
  }
 },
 "nbformat": 4,
 "nbformat_minor": 5
}
