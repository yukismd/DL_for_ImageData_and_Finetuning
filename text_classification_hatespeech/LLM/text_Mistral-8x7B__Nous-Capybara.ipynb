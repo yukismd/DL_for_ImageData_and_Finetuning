{
 "cells": [
  {
   "cell_type": "markdown",
   "id": "5da319b2",
   "metadata": {},
   "source": [
    "test_Mistral-7B-Instruct.ipynbと同様。\"NousResearch/Nous-Capybara-34B\"と\"mistralai/Mixtral-8x7B-Instruct-v0.1\"を40サンプルで検証"
   ]
  },
  {
   "cell_type": "code",
   "execution_count": 1,
   "id": "76db1080",
   "metadata": {},
   "outputs": [],
   "source": [
    "from h2ogpte import H2OGPTE\n",
    "\n",
    "import pandas as pd\n",
    "from sklearn.metrics import f1_score, accuracy_score\n",
    "\n",
    "from tqdm import tqdm"
   ]
  },
  {
   "cell_type": "code",
   "execution_count": 2,
   "id": "7133ba10",
   "metadata": {},
   "outputs": [],
   "source": [
    "f = open('tmp/h2ogpte_key_hatespeechdetect.txt', 'r')\n",
    "API_KEY = f.read()\n",
    "f.close()"
   ]
  },
  {
   "cell_type": "code",
   "execution_count": 3,
   "id": "f74230d6",
   "metadata": {},
   "outputs": [
    {
     "name": "stdout",
     "output_type": "stream",
     "text": [
      "Warning: Server version 1.5.0-dev6 doesn't match client version 1.5.0-dev2: unexpected errors may occur.\n",
      "Please install the correct version of H2OGPTE with `pip install h2ogpte==1.5.0-dev6`.\n",
      "You can enable strict version checking by passing strict_version_check=True.\n"
     ]
    },
    {
     "data": {
      "text/plain": [
       "<h2ogpte.h2ogpte.H2OGPTE at 0x13ccb7220>"
      ]
     },
     "execution_count": 3,
     "metadata": {},
     "output_type": "execute_result"
    }
   ],
   "source": [
    "client = H2OGPTE(\n",
    "    address=\"https://playground.h2ogpte.h2o.ai\",\n",
    "    api_key=API_KEY)\n",
    "client"
   ]
  },
  {
   "cell_type": "code",
   "execution_count": 4,
   "id": "4f667466",
   "metadata": {},
   "outputs": [
    {
     "data": {
      "text/plain": [
       "['mistralai/Mixtral-8x7B-Instruct-v0.1',\n",
       " 'h2oai/h2ogpt-4096-llama2-70b-chat',\n",
       " 'NousResearch/Nous-Capybara-34B',\n",
       " 'mistralai/Mistral-7B-Instruct-v0.2',\n",
       " 'h2oai/h2o-danube2-1.8b-chat',\n",
       " 'SeaLLMs/SeaLLM-7B-v2.5',\n",
       " 'mistral-small-latest',\n",
       " 'mistral-large-latest',\n",
       " 'mistral-medium',\n",
       " 'claude-3-sonnet-20240229',\n",
       " 'claude-3-opus-20240229',\n",
       " 'claude-3-haiku-20240307',\n",
       " 'gemini-1.5-pro-latest',\n",
       " 'gpt-3.5-turbo-0613',\n",
       " 'gpt-3.5-turbo-16k-0613',\n",
       " 'gpt-35-turbo-1106',\n",
       " 'gpt-4-1106-preview']"
      ]
     },
     "execution_count": 4,
     "metadata": {},
     "output_type": "execute_result"
    }
   ],
   "source": [
    "# LLM一覧\n",
    "models = client.get_llms()\n",
    "[m['base_model'] for m in models]"
   ]
  },
  {
   "cell_type": "code",
   "execution_count": 5,
   "id": "4fb679f5",
   "metadata": {},
   "outputs": [
    {
     "data": {
      "text/plain": [
       "'0dd929b8-a13d-40e4-a2ee-377987abad50'"
      ]
     },
     "execution_count": 5,
     "metadata": {},
     "output_type": "execute_result"
    }
   ],
   "source": [
    "chat_session_id = client.create_chat_session_on_default_collection()\n",
    "chat_session_id"
   ]
  },
  {
   "cell_type": "code",
   "execution_count": 7,
   "id": "0ccfcb81",
   "metadata": {},
   "outputs": [],
   "source": [
    "MODEL = \"NousResearch/Nous-Capybara-34B\"\n",
    "SYS_PROMPT = \"あなたは文章がヘイトスピーチかどうかを判定するAIです。質問には必ずYes(ヘイトスピーチ)かNo(ヘイトスピーチでない)で答えます。判定の理由は述べる必要はありません。\""
   ]
  },
  {
   "cell_type": "code",
   "execution_count": 8,
   "id": "ab787097",
   "metadata": {},
   "outputs": [
    {
     "data": {
      "text/plain": [
       "'\"稲田、今井、豊田、昭恵とあんだけ女に足引っ張られたら\\n女性活躍なんて言ってられんよなｗ\\n減らされて当然なのをわからないから女は余計にダメなんだよ。\"！'"
      ]
     },
     "execution_count": 8,
     "metadata": {},
     "output_type": "execute_result"
    }
   ],
   "source": [
    "text = '''\"稲田、今井、豊田、昭恵とあんだけ女に足引っ張られたら\n",
    "女性活躍なんて言ってられんよなｗ\n",
    "減らされて当然なのをわからないから女は余計にダメなんだよ。\"！'''\n",
    "\n",
    "#text = '''\"ま、バイト（フリーター)でもいいんじゃないの？\n",
    "#後悔しないのなら\"'''\n",
    "text"
   ]
  },
  {
   "cell_type": "code",
   "execution_count": 9,
   "id": "0ece2877",
   "metadata": {},
   "outputs": [
    {
     "name": "stdout",
     "output_type": "stream",
     "text": [
      "Yes.\n"
     ]
    }
   ],
   "source": [
    "with client.connect(chat_session_id) as session:\n",
    "    answer = session.query(\n",
    "        message = text,\n",
    "        system_prompt=SYS_PROMPT,\n",
    "        llm=MODEL,\n",
    "        llm_args={\"max_new_tokens\":256},\n",
    "        rag_config={\"rag_type\": \"llm_only\",},\n",
    "    ).content\n",
    "    print(answer)"
   ]
  },
  {
   "cell_type": "code",
   "execution_count": 10,
   "id": "cddef9f4",
   "metadata": {},
   "outputs": [
    {
     "name": "stdout",
     "output_type": "stream",
     "text": [
      "h2ogpte-1.5.0.dev2-py3-none-any.whl h2ogpte_key_hatespeechdetect.txt\r\n",
      "h2ogpte_key.txt                     hatespeech_test_40sample.csv\r\n"
     ]
    }
   ],
   "source": [
    "!ls tmp"
   ]
  },
  {
   "cell_type": "code",
   "execution_count": 14,
   "id": "33bbe91d",
   "metadata": {},
   "outputs": [
    {
     "name": "stdout",
     "output_type": "stream",
     "text": [
      "(40, 5)\n"
     ]
    },
    {
     "data": {
      "text/html": [
       "<div>\n",
       "<style scoped>\n",
       "    .dataframe tbody tr th:only-of-type {\n",
       "        vertical-align: middle;\n",
       "    }\n",
       "\n",
       "    .dataframe tbody tr th {\n",
       "        vertical-align: top;\n",
       "    }\n",
       "\n",
       "    .dataframe thead th {\n",
       "        text-align: right;\n",
       "    }\n",
       "</style>\n",
       "<table border=\"1\" class=\"dataframe\">\n",
       "  <thead>\n",
       "    <tr style=\"text-align: right;\">\n",
       "      <th></th>\n",
       "      <th>id</th>\n",
       "      <th>source</th>\n",
       "      <th>text</th>\n",
       "      <th>label</th>\n",
       "      <th>hatespeech</th>\n",
       "    </tr>\n",
       "  </thead>\n",
       "  <tbody>\n",
       "    <tr>\n",
       "      <th>0</th>\n",
       "      <td>2c37f3740</td>\n",
       "      <td>newsplus</td>\n",
       "      <td>芸スポにも人来とくれよ\\nスポーツなのに人少ないんすよ</td>\n",
       "      <td>0</td>\n",
       "      <td>False</td>\n",
       "    </tr>\n",
       "    <tr>\n",
       "      <th>1</th>\n",
       "      <td>58a409435</td>\n",
       "      <td>newsplus</td>\n",
       "      <td>12万人のデモが何故か独り歩きして世界をめぐる\\n慰安婦報道みたいな様相を呈してきた</td>\n",
       "      <td>0</td>\n",
       "      <td>False</td>\n",
       "    </tr>\n",
       "    <tr>\n",
       "      <th>2</th>\n",
       "      <td>0ab60cba6</td>\n",
       "      <td>news4vip</td>\n",
       "      <td>年配の方だと、高いホテルでディナーやサービスを楽しむっていう旅行があるんだよ</td>\n",
       "      <td>0</td>\n",
       "      <td>False</td>\n",
       "    </tr>\n",
       "    <tr>\n",
       "      <th>3</th>\n",
       "      <td>73ab69b4e</td>\n",
       "      <td>news4vip</td>\n",
       "      <td>税金バカ食いしてんのはニートじゃなくて障害者とナマポだろ\\nそんな事も分からんほどアホなのか</td>\n",
       "      <td>1</td>\n",
       "      <td>False</td>\n",
       "    </tr>\n",
       "    <tr>\n",
       "      <th>4</th>\n",
       "      <td>ed881a220</td>\n",
       "      <td>newsplus</td>\n",
       "      <td>パヨクっつーか、やべー奴のツイやインスタのイメージ\\n\\nツイでこのタグの量はだいたい面倒くさいの</td>\n",
       "      <td>0</td>\n",
       "      <td>False</td>\n",
       "    </tr>\n",
       "  </tbody>\n",
       "</table>\n",
       "</div>"
      ],
      "text/plain": [
       "          id    source                                               text  \\\n",
       "0  2c37f3740  newsplus                        芸スポにも人来とくれよ\\nスポーツなのに人少ないんすよ   \n",
       "1  58a409435  newsplus         12万人のデモが何故か独り歩きして世界をめぐる\\n慰安婦報道みたいな様相を呈してきた   \n",
       "2  0ab60cba6  news4vip             年配の方だと、高いホテルでディナーやサービスを楽しむっていう旅行があるんだよ   \n",
       "3  73ab69b4e  news4vip     税金バカ食いしてんのはニートじゃなくて障害者とナマポだろ\\nそんな事も分からんほどアホなのか   \n",
       "4  ed881a220  newsplus  パヨクっつーか、やべー奴のツイやインスタのイメージ\\n\\nツイでこのタグの量はだいたい面倒くさいの   \n",
       "\n",
       "   label  hatespeech  \n",
       "0      0       False  \n",
       "1      0       False  \n",
       "2      0       False  \n",
       "3      1       False  \n",
       "4      0       False  "
      ]
     },
     "execution_count": 14,
     "metadata": {},
     "output_type": "execute_result"
    }
   ],
   "source": [
    "df_sampe = pd.read_csv('tmp/hatespeech_test_40sample.csv')\n",
    "print(df_sampe.shape)\n",
    "df_sampe.head()"
   ]
  },
  {
   "cell_type": "code",
   "execution_count": 26,
   "id": "2c42d407",
   "metadata": {},
   "outputs": [],
   "source": [
    "df_sampe = df_sampe.rename(columns={'hatespeech':'res_Mistral-7B-Instruct-v02'})"
   ]
  },
  {
   "cell_type": "code",
   "execution_count": null,
   "id": "0f575793",
   "metadata": {},
   "outputs": [],
   "source": []
  },
  {
   "cell_type": "code",
   "execution_count": 15,
   "id": "4e0e8b7b",
   "metadata": {},
   "outputs": [],
   "source": [
    "def get_judgements(text_list):\n",
    "    answers = []\n",
    "    with client.connect(chat_session_id) as session:\n",
    "        for text in tqdm(text_list):\n",
    "            answer = session.query(\n",
    "                message = text,\n",
    "                system_prompt=SYS_PROMPT,\n",
    "                llm=MODEL,\n",
    "                rag_config={\"rag_type\": \"llm_only\",},\n",
    "            ).content\n",
    "            answers.append(answer)\n",
    "    return answers"
   ]
  },
  {
   "cell_type": "code",
   "execution_count": null,
   "id": "7c77f58e",
   "metadata": {},
   "outputs": [],
   "source": []
  },
  {
   "cell_type": "markdown",
   "id": "fa5b5894",
   "metadata": {},
   "source": [
    "## NousResearch/Nous-Capybara-34B\n",
    "https://huggingface.co/NousResearch/Nous-Capybara-34B"
   ]
  },
  {
   "cell_type": "code",
   "execution_count": 16,
   "id": "ae861131",
   "metadata": {},
   "outputs": [
    {
     "name": "stderr",
     "output_type": "stream",
     "text": [
      "100%|██████████| 40/40 [01:50<00:00,  2.76s/it]\n"
     ]
    }
   ],
   "source": [
    "MODEL = \"NousResearch/Nous-Capybara-34B\"\n",
    "SYS_PROMPT = \"あなたは文章がヘイトスピーチかどうかを判定するAIです。質問には必ずYes(ヘイトスピーチ)かNo(ヘイトスピーチでない)で答えます。判定の理由は述べる必要はありません。\"\n",
    "\n",
    "outputs = get_judgements(df_sampe['text'])"
   ]
  },
  {
   "cell_type": "code",
   "execution_count": 17,
   "id": "a7b314f3",
   "metadata": {},
   "outputs": [
    {
     "data": {
      "text/plain": [
       "40"
      ]
     },
     "execution_count": 17,
     "metadata": {},
     "output_type": "execute_result"
    }
   ],
   "source": [
    "len(outputs)"
   ]
  },
  {
   "cell_type": "code",
   "execution_count": 18,
   "id": "911250ae",
   "metadata": {},
   "outputs": [
    {
     "data": {
      "text/plain": [
       "['No.',\n",
       " 'No.',\n",
       " 'No.',\n",
       " 'Yes.',\n",
       " 'No.',\n",
       " 'No.',\n",
       " 'Yes.',\n",
       " 'Yes.',\n",
       " 'Yes.',\n",
       " 'No.',\n",
       " 'No.',\n",
       " 'Yes.',\n",
       " 'Yes.',\n",
       " 'No.',\n",
       " 'No.',\n",
       " 'Yes.',\n",
       " 'Yes.',\n",
       " 'Yes.',\n",
       " 'No.',\n",
       " 'Yes.',\n",
       " 'No.',\n",
       " 'No.',\n",
       " 'Yes.',\n",
       " 'Yes.',\n",
       " 'No.',\n",
       " 'Yes.',\n",
       " 'No.',\n",
       " 'No.',\n",
       " 'No.',\n",
       " 'No.',\n",
       " 'Yes.',\n",
       " 'No.',\n",
       " 'Yes.',\n",
       " 'Yes.',\n",
       " 'Yes.',\n",
       " 'Yes.',\n",
       " 'No.',\n",
       " 'Yes.',\n",
       " 'Yes.',\n",
       " 'Yes.']"
      ]
     },
     "execution_count": 18,
     "metadata": {},
     "output_type": "execute_result"
    }
   ],
   "source": [
    "outputs"
   ]
  },
  {
   "cell_type": "code",
   "execution_count": 21,
   "id": "70000fa3",
   "metadata": {},
   "outputs": [],
   "source": [
    "judges = []\n",
    "for i, txt in enumerate(outputs):\n",
    "    firstpart = txt[:15]    # 文字列の先頭\n",
    "    #print(i, ' : ' ,firstpart)\n",
    "    judge = 'yes' in firstpart.lower()   # 先頭にYes/yesが含まれるかどうか\n",
    "    #print('Hate Speech? ', judge)\n",
    "    judges.append(judge)"
   ]
  },
  {
   "cell_type": "code",
   "execution_count": 27,
   "id": "982bb4de",
   "metadata": {},
   "outputs": [],
   "source": [
    "df_sampe['res_Nous-Capybara-34B'] = judges"
   ]
  },
  {
   "cell_type": "code",
   "execution_count": 29,
   "id": "7eb7f5af",
   "metadata": {
    "scrolled": true
   },
   "outputs": [
    {
     "data": {
      "text/html": [
       "<div>\n",
       "<style scoped>\n",
       "    .dataframe tbody tr th:only-of-type {\n",
       "        vertical-align: middle;\n",
       "    }\n",
       "\n",
       "    .dataframe tbody tr th {\n",
       "        vertical-align: top;\n",
       "    }\n",
       "\n",
       "    .dataframe thead th {\n",
       "        text-align: right;\n",
       "    }\n",
       "</style>\n",
       "<table border=\"1\" class=\"dataframe\">\n",
       "  <thead>\n",
       "    <tr style=\"text-align: right;\">\n",
       "      <th></th>\n",
       "      <th>id</th>\n",
       "      <th>source</th>\n",
       "      <th>text</th>\n",
       "      <th>label</th>\n",
       "      <th>res_Mistral-7B-Instruct-v02</th>\n",
       "      <th>res_Nous-Capybara-34B</th>\n",
       "    </tr>\n",
       "  </thead>\n",
       "  <tbody>\n",
       "    <tr>\n",
       "      <th>0</th>\n",
       "      <td>2c37f3740</td>\n",
       "      <td>newsplus</td>\n",
       "      <td>芸スポにも人来とくれよ\\nスポーツなのに人少ないんすよ</td>\n",
       "      <td>0</td>\n",
       "      <td>False</td>\n",
       "      <td>False</td>\n",
       "    </tr>\n",
       "    <tr>\n",
       "      <th>1</th>\n",
       "      <td>58a409435</td>\n",
       "      <td>newsplus</td>\n",
       "      <td>12万人のデモが何故か独り歩きして世界をめぐる\\n慰安婦報道みたいな様相を呈してきた</td>\n",
       "      <td>0</td>\n",
       "      <td>False</td>\n",
       "      <td>False</td>\n",
       "    </tr>\n",
       "    <tr>\n",
       "      <th>2</th>\n",
       "      <td>0ab60cba6</td>\n",
       "      <td>news4vip</td>\n",
       "      <td>年配の方だと、高いホテルでディナーやサービスを楽しむっていう旅行があるんだよ</td>\n",
       "      <td>0</td>\n",
       "      <td>False</td>\n",
       "      <td>False</td>\n",
       "    </tr>\n",
       "    <tr>\n",
       "      <th>3</th>\n",
       "      <td>73ab69b4e</td>\n",
       "      <td>news4vip</td>\n",
       "      <td>税金バカ食いしてんのはニートじゃなくて障害者とナマポだろ\\nそんな事も分からんほどアホなのか</td>\n",
       "      <td>1</td>\n",
       "      <td>False</td>\n",
       "      <td>True</td>\n",
       "    </tr>\n",
       "    <tr>\n",
       "      <th>4</th>\n",
       "      <td>ed881a220</td>\n",
       "      <td>newsplus</td>\n",
       "      <td>パヨクっつーか、やべー奴のツイやインスタのイメージ\\n\\nツイでこのタグの量はだいたい面倒くさいの</td>\n",
       "      <td>0</td>\n",
       "      <td>False</td>\n",
       "      <td>False</td>\n",
       "    </tr>\n",
       "  </tbody>\n",
       "</table>\n",
       "</div>"
      ],
      "text/plain": [
       "          id    source                                               text  \\\n",
       "0  2c37f3740  newsplus                        芸スポにも人来とくれよ\\nスポーツなのに人少ないんすよ   \n",
       "1  58a409435  newsplus         12万人のデモが何故か独り歩きして世界をめぐる\\n慰安婦報道みたいな様相を呈してきた   \n",
       "2  0ab60cba6  news4vip             年配の方だと、高いホテルでディナーやサービスを楽しむっていう旅行があるんだよ   \n",
       "3  73ab69b4e  news4vip     税金バカ食いしてんのはニートじゃなくて障害者とナマポだろ\\nそんな事も分からんほどアホなのか   \n",
       "4  ed881a220  newsplus  パヨクっつーか、やべー奴のツイやインスタのイメージ\\n\\nツイでこのタグの量はだいたい面倒くさいの   \n",
       "\n",
       "   label  res_Mistral-7B-Instruct-v02  res_Nous-Capybara-34B  \n",
       "0      0                        False                  False  \n",
       "1      0                        False                  False  \n",
       "2      0                        False                  False  \n",
       "3      1                        False                   True  \n",
       "4      0                        False                  False  "
      ]
     },
     "execution_count": 29,
     "metadata": {},
     "output_type": "execute_result"
    }
   ],
   "source": [
    "df_sampe.head()"
   ]
  },
  {
   "cell_type": "code",
   "execution_count": 30,
   "id": "62cb301a",
   "metadata": {},
   "outputs": [
    {
     "data": {
      "text/plain": [
       "res_Nous-Capybara-34B\n",
       "True     21\n",
       "False    19\n",
       "Name: count, dtype: int64"
      ]
     },
     "execution_count": 30,
     "metadata": {},
     "output_type": "execute_result"
    }
   ],
   "source": [
    "df_sampe['res_Nous-Capybara-34B'].value_counts()"
   ]
  },
  {
   "cell_type": "code",
   "execution_count": 31,
   "id": "74f265a5",
   "metadata": {},
   "outputs": [
    {
     "data": {
      "text/html": [
       "<div>\n",
       "<style scoped>\n",
       "    .dataframe tbody tr th:only-of-type {\n",
       "        vertical-align: middle;\n",
       "    }\n",
       "\n",
       "    .dataframe tbody tr th {\n",
       "        vertical-align: top;\n",
       "    }\n",
       "\n",
       "    .dataframe thead th {\n",
       "        text-align: right;\n",
       "    }\n",
       "</style>\n",
       "<table border=\"1\" class=\"dataframe\">\n",
       "  <thead>\n",
       "    <tr style=\"text-align: right;\">\n",
       "      <th>res_Nous-Capybara-34B</th>\n",
       "      <th>False</th>\n",
       "      <th>True</th>\n",
       "      <th>All</th>\n",
       "    </tr>\n",
       "    <tr>\n",
       "      <th>label</th>\n",
       "      <th></th>\n",
       "      <th></th>\n",
       "      <th></th>\n",
       "    </tr>\n",
       "  </thead>\n",
       "  <tbody>\n",
       "    <tr>\n",
       "      <th>0</th>\n",
       "      <td>14</td>\n",
       "      <td>6</td>\n",
       "      <td>20</td>\n",
       "    </tr>\n",
       "    <tr>\n",
       "      <th>1</th>\n",
       "      <td>5</td>\n",
       "      <td>15</td>\n",
       "      <td>20</td>\n",
       "    </tr>\n",
       "    <tr>\n",
       "      <th>All</th>\n",
       "      <td>19</td>\n",
       "      <td>21</td>\n",
       "      <td>40</td>\n",
       "    </tr>\n",
       "  </tbody>\n",
       "</table>\n",
       "</div>"
      ],
      "text/plain": [
       "res_Nous-Capybara-34B  False  True  All\n",
       "label                                  \n",
       "0                         14     6   20\n",
       "1                          5    15   20\n",
       "All                       19    21   40"
      ]
     },
     "execution_count": 31,
     "metadata": {},
     "output_type": "execute_result"
    }
   ],
   "source": [
    "pd.crosstab(df_sampe['label'], df_sampe['res_Nous-Capybara-34B'], margins=True)"
   ]
  },
  {
   "cell_type": "code",
   "execution_count": 32,
   "id": "00c37170",
   "metadata": {},
   "outputs": [
    {
     "data": {
      "text/plain": [
       "0.7317073170731707"
      ]
     },
     "execution_count": 32,
     "metadata": {},
     "output_type": "execute_result"
    }
   ],
   "source": [
    "f1_score(y_true=df_sampe['label'], y_pred=df_sampe['res_Nous-Capybara-34B'])"
   ]
  },
  {
   "cell_type": "code",
   "execution_count": 33,
   "id": "b7f90f6b",
   "metadata": {},
   "outputs": [
    {
     "data": {
      "text/plain": [
       "0.725"
      ]
     },
     "execution_count": 33,
     "metadata": {},
     "output_type": "execute_result"
    }
   ],
   "source": [
    "accuracy_score(y_true=df_sampe['label'], y_pred=df_sampe['res_Nous-Capybara-34B'])"
   ]
  },
  {
   "cell_type": "code",
   "execution_count": null,
   "id": "d617d042",
   "metadata": {},
   "outputs": [],
   "source": []
  },
  {
   "cell_type": "markdown",
   "id": "ace87718",
   "metadata": {},
   "source": [
    "## mistralai/Mixtral-8x7B-Instruct-v0.1\n",
    "https://huggingface.co/mistralai/Mixtral-8x7B-Instruct-v0.1"
   ]
  },
  {
   "cell_type": "code",
   "execution_count": 34,
   "id": "2912014a",
   "metadata": {},
   "outputs": [
    {
     "name": "stderr",
     "output_type": "stream",
     "text": [
      "100%|██████████| 40/40 [01:58<00:00,  2.96s/it]\n"
     ]
    }
   ],
   "source": [
    "MODEL = \"mistralai/Mixtral-8x7B-Instruct-v0.1\"\n",
    "SYS_PROMPT = \"あなたは文章がヘイトスピーチかどうかを判定するAIです。質問には必ずYes(ヘイトスピーチ)かNo(ヘイトスピーチでない)で答えます。判定の理由は述べる必要はありません。\"\n",
    "\n",
    "outputs = get_judgements(df_sampe['text'])"
   ]
  },
  {
   "cell_type": "code",
   "execution_count": 35,
   "id": "00dbde8c",
   "metadata": {},
   "outputs": [
    {
     "data": {
      "text/plain": [
       "40"
      ]
     },
     "execution_count": 35,
     "metadata": {},
     "output_type": "execute_result"
    }
   ],
   "source": [
    "len(outputs)"
   ]
  },
  {
   "cell_type": "code",
   "execution_count": 36,
   "id": "6c13aa2a",
   "metadata": {},
   "outputs": [
    {
     "data": {
      "text/plain": [
       "['No(ヘイトスピーチでない)',\n",
       " 'No(ヘイトスピーチでない)',\n",
       " 'No(ヘイトスピーチでない)',\n",
       " 'Yes',\n",
       " 'Yes (ヘイトスピーチ)',\n",
       " 'Yes',\n",
       " 'Yes',\n",
       " 'No (ヘイトスピーチでない)',\n",
       " 'No (ヘイトスピーチでない)',\n",
       " 'Yes(ヘイトスピーチ)',\n",
       " 'No (ヘイトスピーチでない)',\n",
       " 'Yes',\n",
       " 'Yes',\n",
       " 'No(ヘイトスピーチでない)',\n",
       " 'Yes, this is a hate speech. The message contains a derogatory and dismissive tone towards the person being addressed.',\n",
       " 'Yes',\n",
       " 'Yes',\n",
       " 'Yes',\n",
       " 'Yes',\n",
       " 'Yes\\n\\nThe first sentence is a threat to physically harm someone, and the second sentence is derogatory and dehumanizing towards the person referred to as \"ファビョ太君\". Both sentences are examples of hate speech.',\n",
       " 'Yes',\n",
       " 'Yes',\n",
       " 'Yes (ヘイトスピーチ)',\n",
       " 'Yes',\n",
       " 'Yes',\n",
       " 'No.\\n\\n<details>\\n<summary>判定理由</summary>\\n\\nこの文章は、在日（在日韓国人）に対する偏見や差別を示唆するものではありません。単に在日韓国人についての質問であるため、ヘイトスピーチではありません。\\n</details>',\n",
       " 'No(ヘイトスピーチでない)',\n",
       " 'No (ヘイトスピーチでない)',\n",
       " 'Yes (ヘイトスピーチ)',\n",
       " 'No(ヘイトスピーチでない)',\n",
       " 'Yes\\n\\n<h3>判定理由</h3>\\n<p>これらの文章は、男性を一般化して差別的に扱っているため、ヘイトスピーチであると判定しました。</p>\\n<p>特に、「女性が真に自立した社会を築くためには、男共を皆殺しにしなければいけない」という文脈は、男性を無条件に殺すことを主張しているため、非常に過激で差別的です。</p>\\n<p>ヘイトスピーチは、人種、国籍、性別、性的指向、信条、障がい、年齢、その他の身元や特徴を基に差別や侮辱を伴う言葉や行為を指します。</p>\\n<p>ヘイトスピーチは、危険な傾向や行動を引き起こす可能性があるため、避けることを強く推奨します。</p>',\n",
       " 'Yes (ヘイトスピーチ)',\n",
       " 'Yes',\n",
       " 'Yes',\n",
       " 'Yes',\n",
       " 'No(ヘイトスピーチでない)',\n",
       " 'No (ヘイトスピーチでない)',\n",
       " 'Yes',\n",
       " 'Yes',\n",
       " 'No(ヘイトスピーチでない)。\\n\\n<あなたの文章は、韓国の高校生の人口について述べています。その中で、高校生の人口が少ないということを指摘しています。これは、ヘイトスピーチではありません。>']"
      ]
     },
     "execution_count": 36,
     "metadata": {},
     "output_type": "execute_result"
    }
   ],
   "source": [
    "outputs"
   ]
  },
  {
   "cell_type": "code",
   "execution_count": 37,
   "id": "0a76c6d9",
   "metadata": {},
   "outputs": [],
   "source": [
    "judges = []\n",
    "for i, txt in enumerate(outputs):\n",
    "    firstpart = txt[:15]    # 文字列の先頭\n",
    "    #print(i, ' : ' ,firstpart)\n",
    "    judge = 'yes' in firstpart.lower()   # 先頭にYes/yesが含まれるかどうか\n",
    "    #print('Hate Speech? ', judge)\n",
    "    judges.append(judge)"
   ]
  },
  {
   "cell_type": "code",
   "execution_count": 38,
   "id": "0b8dc0ca",
   "metadata": {},
   "outputs": [
    {
     "data": {
      "text/html": [
       "<div>\n",
       "<style scoped>\n",
       "    .dataframe tbody tr th:only-of-type {\n",
       "        vertical-align: middle;\n",
       "    }\n",
       "\n",
       "    .dataframe tbody tr th {\n",
       "        vertical-align: top;\n",
       "    }\n",
       "\n",
       "    .dataframe thead th {\n",
       "        text-align: right;\n",
       "    }\n",
       "</style>\n",
       "<table border=\"1\" class=\"dataframe\">\n",
       "  <thead>\n",
       "    <tr style=\"text-align: right;\">\n",
       "      <th></th>\n",
       "      <th>id</th>\n",
       "      <th>source</th>\n",
       "      <th>text</th>\n",
       "      <th>label</th>\n",
       "      <th>res_Mistral-7B-Instruct-v02</th>\n",
       "      <th>res_Nous-Capybara-34B</th>\n",
       "      <th>res_Mixtral-8x7B-Instruct-v01</th>\n",
       "    </tr>\n",
       "  </thead>\n",
       "  <tbody>\n",
       "    <tr>\n",
       "      <th>0</th>\n",
       "      <td>2c37f3740</td>\n",
       "      <td>newsplus</td>\n",
       "      <td>芸スポにも人来とくれよ\\nスポーツなのに人少ないんすよ</td>\n",
       "      <td>0</td>\n",
       "      <td>False</td>\n",
       "      <td>False</td>\n",
       "      <td>False</td>\n",
       "    </tr>\n",
       "    <tr>\n",
       "      <th>1</th>\n",
       "      <td>58a409435</td>\n",
       "      <td>newsplus</td>\n",
       "      <td>12万人のデモが何故か独り歩きして世界をめぐる\\n慰安婦報道みたいな様相を呈してきた</td>\n",
       "      <td>0</td>\n",
       "      <td>False</td>\n",
       "      <td>False</td>\n",
       "      <td>False</td>\n",
       "    </tr>\n",
       "    <tr>\n",
       "      <th>2</th>\n",
       "      <td>0ab60cba6</td>\n",
       "      <td>news4vip</td>\n",
       "      <td>年配の方だと、高いホテルでディナーやサービスを楽しむっていう旅行があるんだよ</td>\n",
       "      <td>0</td>\n",
       "      <td>False</td>\n",
       "      <td>False</td>\n",
       "      <td>False</td>\n",
       "    </tr>\n",
       "    <tr>\n",
       "      <th>3</th>\n",
       "      <td>73ab69b4e</td>\n",
       "      <td>news4vip</td>\n",
       "      <td>税金バカ食いしてんのはニートじゃなくて障害者とナマポだろ\\nそんな事も分からんほどアホなのか</td>\n",
       "      <td>1</td>\n",
       "      <td>False</td>\n",
       "      <td>True</td>\n",
       "      <td>True</td>\n",
       "    </tr>\n",
       "    <tr>\n",
       "      <th>4</th>\n",
       "      <td>ed881a220</td>\n",
       "      <td>newsplus</td>\n",
       "      <td>パヨクっつーか、やべー奴のツイやインスタのイメージ\\n\\nツイでこのタグの量はだいたい面倒くさいの</td>\n",
       "      <td>0</td>\n",
       "      <td>False</td>\n",
       "      <td>False</td>\n",
       "      <td>True</td>\n",
       "    </tr>\n",
       "  </tbody>\n",
       "</table>\n",
       "</div>"
      ],
      "text/plain": [
       "          id    source                                               text  \\\n",
       "0  2c37f3740  newsplus                        芸スポにも人来とくれよ\\nスポーツなのに人少ないんすよ   \n",
       "1  58a409435  newsplus         12万人のデモが何故か独り歩きして世界をめぐる\\n慰安婦報道みたいな様相を呈してきた   \n",
       "2  0ab60cba6  news4vip             年配の方だと、高いホテルでディナーやサービスを楽しむっていう旅行があるんだよ   \n",
       "3  73ab69b4e  news4vip     税金バカ食いしてんのはニートじゃなくて障害者とナマポだろ\\nそんな事も分からんほどアホなのか   \n",
       "4  ed881a220  newsplus  パヨクっつーか、やべー奴のツイやインスタのイメージ\\n\\nツイでこのタグの量はだいたい面倒くさいの   \n",
       "\n",
       "   label  res_Mistral-7B-Instruct-v02  res_Nous-Capybara-34B  \\\n",
       "0      0                        False                  False   \n",
       "1      0                        False                  False   \n",
       "2      0                        False                  False   \n",
       "3      1                        False                   True   \n",
       "4      0                        False                  False   \n",
       "\n",
       "   res_Mixtral-8x7B-Instruct-v01  \n",
       "0                          False  \n",
       "1                          False  \n",
       "2                          False  \n",
       "3                           True  \n",
       "4                           True  "
      ]
     },
     "execution_count": 38,
     "metadata": {},
     "output_type": "execute_result"
    }
   ],
   "source": [
    "df_sampe['res_Mixtral-8x7B-Instruct-v01'] = judges\n",
    "df_sampe.head()"
   ]
  },
  {
   "cell_type": "code",
   "execution_count": 39,
   "id": "286fed6f",
   "metadata": {},
   "outputs": [
    {
     "data": {
      "text/plain": [
       "res_Mixtral-8x7B-Instruct-v01\n",
       "True     26\n",
       "False    14\n",
       "Name: count, dtype: int64"
      ]
     },
     "execution_count": 39,
     "metadata": {},
     "output_type": "execute_result"
    }
   ],
   "source": [
    "df_sampe['res_Mixtral-8x7B-Instruct-v01'].value_counts()"
   ]
  },
  {
   "cell_type": "code",
   "execution_count": 40,
   "id": "e612d5f3",
   "metadata": {},
   "outputs": [
    {
     "data": {
      "text/html": [
       "<div>\n",
       "<style scoped>\n",
       "    .dataframe tbody tr th:only-of-type {\n",
       "        vertical-align: middle;\n",
       "    }\n",
       "\n",
       "    .dataframe tbody tr th {\n",
       "        vertical-align: top;\n",
       "    }\n",
       "\n",
       "    .dataframe thead th {\n",
       "        text-align: right;\n",
       "    }\n",
       "</style>\n",
       "<table border=\"1\" class=\"dataframe\">\n",
       "  <thead>\n",
       "    <tr style=\"text-align: right;\">\n",
       "      <th>res_Mixtral-8x7B-Instruct-v01</th>\n",
       "      <th>False</th>\n",
       "      <th>True</th>\n",
       "      <th>All</th>\n",
       "    </tr>\n",
       "    <tr>\n",
       "      <th>label</th>\n",
       "      <th></th>\n",
       "      <th></th>\n",
       "      <th></th>\n",
       "    </tr>\n",
       "  </thead>\n",
       "  <tbody>\n",
       "    <tr>\n",
       "      <th>0</th>\n",
       "      <td>13</td>\n",
       "      <td>7</td>\n",
       "      <td>20</td>\n",
       "    </tr>\n",
       "    <tr>\n",
       "      <th>1</th>\n",
       "      <td>1</td>\n",
       "      <td>19</td>\n",
       "      <td>20</td>\n",
       "    </tr>\n",
       "    <tr>\n",
       "      <th>All</th>\n",
       "      <td>14</td>\n",
       "      <td>26</td>\n",
       "      <td>40</td>\n",
       "    </tr>\n",
       "  </tbody>\n",
       "</table>\n",
       "</div>"
      ],
      "text/plain": [
       "res_Mixtral-8x7B-Instruct-v01  False  True  All\n",
       "label                                          \n",
       "0                                 13     7   20\n",
       "1                                  1    19   20\n",
       "All                               14    26   40"
      ]
     },
     "execution_count": 40,
     "metadata": {},
     "output_type": "execute_result"
    }
   ],
   "source": [
    "pd.crosstab(df_sampe['label'], df_sampe['res_Mixtral-8x7B-Instruct-v01'], margins=True)"
   ]
  },
  {
   "cell_type": "code",
   "execution_count": 41,
   "id": "394e0e98",
   "metadata": {},
   "outputs": [
    {
     "data": {
      "text/plain": [
       "0.8260869565217391"
      ]
     },
     "execution_count": 41,
     "metadata": {},
     "output_type": "execute_result"
    }
   ],
   "source": [
    "f1_score(y_true=df_sampe['label'], y_pred=df_sampe['res_Mixtral-8x7B-Instruct-v01'])"
   ]
  },
  {
   "cell_type": "code",
   "execution_count": 42,
   "id": "4cd202e5",
   "metadata": {},
   "outputs": [
    {
     "data": {
      "text/plain": [
       "0.8"
      ]
     },
     "execution_count": 42,
     "metadata": {},
     "output_type": "execute_result"
    }
   ],
   "source": [
    "accuracy_score(y_true=df_sampe['label'], y_pred=df_sampe['res_Mixtral-8x7B-Instruct-v01'])"
   ]
  },
  {
   "cell_type": "code",
   "execution_count": null,
   "id": "26282f39",
   "metadata": {},
   "outputs": [],
   "source": []
  },
  {
   "cell_type": "code",
   "execution_count": 43,
   "id": "467894c9",
   "metadata": {},
   "outputs": [],
   "source": [
    "df_sampe.to_csv('hatespeech_test_40sample_RES.csv', index=False)"
   ]
  },
  {
   "cell_type": "code",
   "execution_count": null,
   "id": "7b3435fe",
   "metadata": {},
   "outputs": [],
   "source": []
  }
 ],
 "metadata": {
  "kernelspec": {
   "display_name": "Python 3 (ipykernel)",
   "language": "python",
   "name": "python3"
  },
  "language_info": {
   "codemirror_mode": {
    "name": "ipython",
    "version": 3
   },
   "file_extension": ".py",
   "mimetype": "text/x-python",
   "name": "python",
   "nbconvert_exporter": "python",
   "pygments_lexer": "ipython3",
   "version": "3.10.12"
  }
 },
 "nbformat": 4,
 "nbformat_minor": 5
}
