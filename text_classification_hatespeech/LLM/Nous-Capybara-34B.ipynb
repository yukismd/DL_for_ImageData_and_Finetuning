{
 "cells": [
  {
   "cell_type": "markdown",
   "id": "1e7afc5b",
   "metadata": {},
   "source": [
    "\"NousResearch/Nous-Capybara-34B\"によるhatespeech_test.csv（600件）のスコアリング"
   ]
  },
  {
   "cell_type": "code",
   "execution_count": 1,
   "id": "c72f26b0",
   "metadata": {},
   "outputs": [],
   "source": [
    "from h2ogpte import H2OGPTE\n",
    "\n",
    "import pandas as pd\n",
    "from sklearn.metrics import f1_score, accuracy_score\n",
    "\n",
    "from tqdm import tqdm"
   ]
  },
  {
   "cell_type": "code",
   "execution_count": 2,
   "id": "4e614e37",
   "metadata": {},
   "outputs": [],
   "source": [
    "f = open('tmp/h2ogpte_key_hatespeechdetect.txt', 'r')\n",
    "API_KEY = f.read()\n",
    "f.close()"
   ]
  },
  {
   "cell_type": "code",
   "execution_count": 3,
   "id": "182b598c",
   "metadata": {},
   "outputs": [
    {
     "name": "stdout",
     "output_type": "stream",
     "text": [
      "Warning: Server version 1.5.0-dev6 doesn't match client version 1.5.0-dev2: unexpected errors may occur.\n",
      "Please install the correct version of H2OGPTE with `pip install h2ogpte==1.5.0-dev6`.\n",
      "You can enable strict version checking by passing strict_version_check=True.\n"
     ]
    },
    {
     "data": {
      "text/plain": [
       "<h2ogpte.h2ogpte.H2OGPTE at 0x13c3e3040>"
      ]
     },
     "execution_count": 3,
     "metadata": {},
     "output_type": "execute_result"
    }
   ],
   "source": [
    "client = H2OGPTE(\n",
    "    address=\"https://playground.h2ogpte.h2o.ai\",\n",
    "    api_key=API_KEY)\n",
    "client"
   ]
  },
  {
   "cell_type": "code",
   "execution_count": 4,
   "id": "57adabf3",
   "metadata": {},
   "outputs": [],
   "source": [
    "chat_session_id = client.create_chat_session_on_default_collection()"
   ]
  },
  {
   "cell_type": "code",
   "execution_count": 5,
   "id": "20420b40",
   "metadata": {},
   "outputs": [
    {
     "name": "stdout",
     "output_type": "stream",
     "text": [
      "\u001b[34mdata\u001b[m\u001b[m                     hatespeech_test.csv      hatespeech_train_DAI.csv\r\n",
      "\u001b[34mhatespeech\u001b[m\u001b[m               hatespeech_test_DAI.csv\r\n",
      "hatespeech.zip           hatespeech_train.csv\r\n"
     ]
    }
   ],
   "source": [
    "!ls ../tmp"
   ]
  },
  {
   "cell_type": "code",
   "execution_count": 6,
   "id": "8885c6f1",
   "metadata": {},
   "outputs": [
    {
     "name": "stdout",
     "output_type": "stream",
     "text": [
      "(600, 4)\n"
     ]
    },
    {
     "data": {
      "text/html": [
       "<div>\n",
       "<style scoped>\n",
       "    .dataframe tbody tr th:only-of-type {\n",
       "        vertical-align: middle;\n",
       "    }\n",
       "\n",
       "    .dataframe tbody tr th {\n",
       "        vertical-align: top;\n",
       "    }\n",
       "\n",
       "    .dataframe thead th {\n",
       "        text-align: right;\n",
       "    }\n",
       "</style>\n",
       "<table border=\"1\" class=\"dataframe\">\n",
       "  <thead>\n",
       "    <tr style=\"text-align: right;\">\n",
       "      <th></th>\n",
       "      <th>id</th>\n",
       "      <th>source</th>\n",
       "      <th>text</th>\n",
       "      <th>label</th>\n",
       "    </tr>\n",
       "  </thead>\n",
       "  <tbody>\n",
       "    <tr>\n",
       "      <th>0</th>\n",
       "      <td>e3d3e578b</td>\n",
       "      <td>news4vip</td>\n",
       "      <td>まぁ、俺の言ってることは余りあてにしないでくれwwww\\n\\n必ずいい人は現れるよ</td>\n",
       "      <td>0</td>\n",
       "    </tr>\n",
       "    <tr>\n",
       "      <th>1</th>\n",
       "      <td>a728f26db</td>\n",
       "      <td>news4vip</td>\n",
       "      <td>すまないがそれはレンジのほうか？\\nそれともトースター？</td>\n",
       "      <td>0</td>\n",
       "    </tr>\n",
       "    <tr>\n",
       "      <th>2</th>\n",
       "      <td>c53e66dc9</td>\n",
       "      <td>livejupiter</td>\n",
       "      <td>そら大不況で独り勝ちした金持ちを殺してしかも自分もちゃんと腹切ってるからな\\n今で言うならリ...</td>\n",
       "      <td>0</td>\n",
       "    </tr>\n",
       "    <tr>\n",
       "      <th>3</th>\n",
       "      <td>fb3b600fb</td>\n",
       "      <td>newsplus</td>\n",
       "      <td>外国や外国人に税金や公的資金を使うのは違法と言ってくれたら、民進党の支持率は爆上げだろうな。</td>\n",
       "      <td>0</td>\n",
       "    </tr>\n",
       "    <tr>\n",
       "      <th>4</th>\n",
       "      <td>ef9cd1326</td>\n",
       "      <td>newsplus</td>\n",
       "      <td>中国人は、日本の年金制度にものらないとw</td>\n",
       "      <td>0</td>\n",
       "    </tr>\n",
       "  </tbody>\n",
       "</table>\n",
       "</div>"
      ],
      "text/plain": [
       "          id       source                                               text  \\\n",
       "0  e3d3e578b     news4vip          まぁ、俺の言ってることは余りあてにしないでくれwwww\\n\\n必ずいい人は現れるよ   \n",
       "1  a728f26db     news4vip                       すまないがそれはレンジのほうか？\\nそれともトースター？   \n",
       "2  c53e66dc9  livejupiter  そら大不況で独り勝ちした金持ちを殺してしかも自分もちゃんと腹切ってるからな\\n今で言うならリ...   \n",
       "3  fb3b600fb     newsplus     外国や外国人に税金や公的資金を使うのは違法と言ってくれたら、民進党の支持率は爆上げだろうな。   \n",
       "4  ef9cd1326     newsplus                               中国人は、日本の年金制度にものらないとw   \n",
       "\n",
       "   label  \n",
       "0      0  \n",
       "1      0  \n",
       "2      0  \n",
       "3      0  \n",
       "4      0  "
      ]
     },
     "execution_count": 6,
     "metadata": {},
     "output_type": "execute_result"
    }
   ],
   "source": [
    "df = pd.read_csv('../tmp/hatespeech_test.csv')\n",
    "print(df.shape)\n",
    "df.head()"
   ]
  },
  {
   "cell_type": "code",
   "execution_count": null,
   "id": "e3fb00d1",
   "metadata": {},
   "outputs": [],
   "source": []
  },
  {
   "cell_type": "code",
   "execution_count": 7,
   "id": "e87883e6",
   "metadata": {},
   "outputs": [],
   "source": [
    "def get_judgements(text_list):\n",
    "    answers = []\n",
    "    with client.connect(chat_session_id) as session:\n",
    "        for text in tqdm(text_list):\n",
    "            answer = session.query(\n",
    "                message = text,\n",
    "                system_prompt=SYS_PROMPT,\n",
    "                llm=MODEL,\n",
    "                rag_config={\"rag_type\": \"llm_only\",},\n",
    "            ).content\n",
    "            answers.append(answer)\n",
    "    return answers"
   ]
  },
  {
   "cell_type": "code",
   "execution_count": 8,
   "id": "f24b487a",
   "metadata": {},
   "outputs": [
    {
     "name": "stderr",
     "output_type": "stream",
     "text": [
      "100%|██████████| 600/600 [26:33<00:00,  2.66s/it]\n"
     ]
    }
   ],
   "source": [
    "MODEL = \"NousResearch/Nous-Capybara-34B\"\n",
    "SYS_PROMPT = \"あなたは文章がヘイトスピーチかどうかを判定するAIです。質問には必ずYes(ヘイトスピーチ)かNo(ヘイトスピーチでない)で答えます。判定の理由は述べる必要はありません。\"\n",
    "\n",
    "outputs = get_judgements(df['text'])"
   ]
  },
  {
   "cell_type": "code",
   "execution_count": 9,
   "id": "3a8a5682",
   "metadata": {},
   "outputs": [
    {
     "data": {
      "text/plain": [
       "600"
      ]
     },
     "execution_count": 9,
     "metadata": {},
     "output_type": "execute_result"
    }
   ],
   "source": [
    "len(outputs)"
   ]
  },
  {
   "cell_type": "code",
   "execution_count": 10,
   "id": "a102f55f",
   "metadata": {},
   "outputs": [
    {
     "data": {
      "text/plain": [
       "['No.',\n",
       " 'No.',\n",
       " 'No.',\n",
       " 'No.',\n",
       " 'No.',\n",
       " 'Yes.',\n",
       " 'No.',\n",
       " 'No.',\n",
       " 'No.',\n",
       " 'No.',\n",
       " 'Yes.',\n",
       " 'Yes.',\n",
       " 'No.',\n",
       " 'No.',\n",
       " 'No.',\n",
       " 'No.',\n",
       " 'No.',\n",
       " 'No.',\n",
       " 'No.',\n",
       " 'No.']"
      ]
     },
     "execution_count": 10,
     "metadata": {},
     "output_type": "execute_result"
    }
   ],
   "source": [
    "outputs[:20]"
   ]
  },
  {
   "cell_type": "code",
   "execution_count": 11,
   "id": "40ccdf30",
   "metadata": {},
   "outputs": [],
   "source": [
    "judges = []\n",
    "for i, txt in enumerate(outputs):\n",
    "    firstpart = txt[:15]    # 文字列の先頭\n",
    "    #print(i, ' : ' ,firstpart)\n",
    "    judge = 'yes' in firstpart.lower()   # 先頭にYes/yesが含まれるかどうか\n",
    "    #print('Hate Speech? ', judge)\n",
    "    judges.append(judge)"
   ]
  },
  {
   "cell_type": "code",
   "execution_count": 12,
   "id": "92728efd",
   "metadata": {},
   "outputs": [
    {
     "data": {
      "text/html": [
       "<div>\n",
       "<style scoped>\n",
       "    .dataframe tbody tr th:only-of-type {\n",
       "        vertical-align: middle;\n",
       "    }\n",
       "\n",
       "    .dataframe tbody tr th {\n",
       "        vertical-align: top;\n",
       "    }\n",
       "\n",
       "    .dataframe thead th {\n",
       "        text-align: right;\n",
       "    }\n",
       "</style>\n",
       "<table border=\"1\" class=\"dataframe\">\n",
       "  <thead>\n",
       "    <tr style=\"text-align: right;\">\n",
       "      <th></th>\n",
       "      <th>id</th>\n",
       "      <th>source</th>\n",
       "      <th>text</th>\n",
       "      <th>label</th>\n",
       "      <th>res</th>\n",
       "    </tr>\n",
       "  </thead>\n",
       "  <tbody>\n",
       "    <tr>\n",
       "      <th>0</th>\n",
       "      <td>e3d3e578b</td>\n",
       "      <td>news4vip</td>\n",
       "      <td>まぁ、俺の言ってることは余りあてにしないでくれwwww\\n\\n必ずいい人は現れるよ</td>\n",
       "      <td>0</td>\n",
       "      <td>False</td>\n",
       "    </tr>\n",
       "    <tr>\n",
       "      <th>1</th>\n",
       "      <td>a728f26db</td>\n",
       "      <td>news4vip</td>\n",
       "      <td>すまないがそれはレンジのほうか？\\nそれともトースター？</td>\n",
       "      <td>0</td>\n",
       "      <td>False</td>\n",
       "    </tr>\n",
       "    <tr>\n",
       "      <th>2</th>\n",
       "      <td>c53e66dc9</td>\n",
       "      <td>livejupiter</td>\n",
       "      <td>そら大不況で独り勝ちした金持ちを殺してしかも自分もちゃんと腹切ってるからな\\n今で言うならリ...</td>\n",
       "      <td>0</td>\n",
       "      <td>False</td>\n",
       "    </tr>\n",
       "    <tr>\n",
       "      <th>3</th>\n",
       "      <td>fb3b600fb</td>\n",
       "      <td>newsplus</td>\n",
       "      <td>外国や外国人に税金や公的資金を使うのは違法と言ってくれたら、民進党の支持率は爆上げだろうな。</td>\n",
       "      <td>0</td>\n",
       "      <td>False</td>\n",
       "    </tr>\n",
       "    <tr>\n",
       "      <th>4</th>\n",
       "      <td>ef9cd1326</td>\n",
       "      <td>newsplus</td>\n",
       "      <td>中国人は、日本の年金制度にものらないとw</td>\n",
       "      <td>0</td>\n",
       "      <td>False</td>\n",
       "    </tr>\n",
       "  </tbody>\n",
       "</table>\n",
       "</div>"
      ],
      "text/plain": [
       "          id       source                                               text  \\\n",
       "0  e3d3e578b     news4vip          まぁ、俺の言ってることは余りあてにしないでくれwwww\\n\\n必ずいい人は現れるよ   \n",
       "1  a728f26db     news4vip                       すまないがそれはレンジのほうか？\\nそれともトースター？   \n",
       "2  c53e66dc9  livejupiter  そら大不況で独り勝ちした金持ちを殺してしかも自分もちゃんと腹切ってるからな\\n今で言うならリ...   \n",
       "3  fb3b600fb     newsplus     外国や外国人に税金や公的資金を使うのは違法と言ってくれたら、民進党の支持率は爆上げだろうな。   \n",
       "4  ef9cd1326     newsplus                               中国人は、日本の年金制度にものらないとw   \n",
       "\n",
       "   label    res  \n",
       "0      0  False  \n",
       "1      0  False  \n",
       "2      0  False  \n",
       "3      0  False  \n",
       "4      0  False  "
      ]
     },
     "execution_count": 12,
     "metadata": {},
     "output_type": "execute_result"
    }
   ],
   "source": [
    "df['res'] = judges\n",
    "df.head()"
   ]
  },
  {
   "cell_type": "code",
   "execution_count": 13,
   "id": "992fca86",
   "metadata": {},
   "outputs": [
    {
     "data": {
      "text/plain": [
       "res\n",
       "False    476\n",
       "True     124\n",
       "Name: count, dtype: int64"
      ]
     },
     "execution_count": 13,
     "metadata": {},
     "output_type": "execute_result"
    }
   ],
   "source": [
    "df['res'].value_counts()"
   ]
  },
  {
   "cell_type": "code",
   "execution_count": 14,
   "id": "b683a159",
   "metadata": {},
   "outputs": [
    {
     "data": {
      "text/html": [
       "<div>\n",
       "<style scoped>\n",
       "    .dataframe tbody tr th:only-of-type {\n",
       "        vertical-align: middle;\n",
       "    }\n",
       "\n",
       "    .dataframe tbody tr th {\n",
       "        vertical-align: top;\n",
       "    }\n",
       "\n",
       "    .dataframe thead th {\n",
       "        text-align: right;\n",
       "    }\n",
       "</style>\n",
       "<table border=\"1\" class=\"dataframe\">\n",
       "  <thead>\n",
       "    <tr style=\"text-align: right;\">\n",
       "      <th>res</th>\n",
       "      <th>False</th>\n",
       "      <th>True</th>\n",
       "      <th>All</th>\n",
       "    </tr>\n",
       "    <tr>\n",
       "      <th>label</th>\n",
       "      <th></th>\n",
       "      <th></th>\n",
       "      <th></th>\n",
       "    </tr>\n",
       "  </thead>\n",
       "  <tbody>\n",
       "    <tr>\n",
       "      <th>0</th>\n",
       "      <td>470</td>\n",
       "      <td>95</td>\n",
       "      <td>565</td>\n",
       "    </tr>\n",
       "    <tr>\n",
       "      <th>1</th>\n",
       "      <td>6</td>\n",
       "      <td>29</td>\n",
       "      <td>35</td>\n",
       "    </tr>\n",
       "    <tr>\n",
       "      <th>All</th>\n",
       "      <td>476</td>\n",
       "      <td>124</td>\n",
       "      <td>600</td>\n",
       "    </tr>\n",
       "  </tbody>\n",
       "</table>\n",
       "</div>"
      ],
      "text/plain": [
       "res    False  True  All\n",
       "label                  \n",
       "0        470    95  565\n",
       "1          6    29   35\n",
       "All      476   124  600"
      ]
     },
     "execution_count": 14,
     "metadata": {},
     "output_type": "execute_result"
    }
   ],
   "source": [
    "pd.crosstab(df['label'], df['res'], margins=True)"
   ]
  },
  {
   "cell_type": "code",
   "execution_count": 15,
   "id": "16111fd0",
   "metadata": {},
   "outputs": [
    {
     "data": {
      "text/plain": [
       "0.36477987421383645"
      ]
     },
     "execution_count": 15,
     "metadata": {},
     "output_type": "execute_result"
    }
   ],
   "source": [
    "f1_score(y_true=df['label'], y_pred=df['res'])"
   ]
  },
  {
   "cell_type": "code",
   "execution_count": 16,
   "id": "a1402da4",
   "metadata": {},
   "outputs": [
    {
     "data": {
      "text/plain": [
       "0.8316666666666667"
      ]
     },
     "execution_count": 16,
     "metadata": {},
     "output_type": "execute_result"
    }
   ],
   "source": [
    "accuracy_score(y_true=df['label'], y_pred=df['res'])"
   ]
  },
  {
   "cell_type": "code",
   "execution_count": null,
   "id": "92de6cca",
   "metadata": {},
   "outputs": [],
   "source": []
  },
  {
   "cell_type": "code",
   "execution_count": 17,
   "id": "6f502642",
   "metadata": {},
   "outputs": [],
   "source": [
    "df.to_csv('tmp/hatespeech_test__Nous-Capybara-34B.csv', index=False)"
   ]
  },
  {
   "cell_type": "code",
   "execution_count": null,
   "id": "df2e22a3",
   "metadata": {},
   "outputs": [],
   "source": []
  }
 ],
 "metadata": {
  "kernelspec": {
   "display_name": "Python 3 (ipykernel)",
   "language": "python",
   "name": "python3"
  },
  "language_info": {
   "codemirror_mode": {
    "name": "ipython",
    "version": 3
   },
   "file_extension": ".py",
   "mimetype": "text/x-python",
   "name": "python",
   "nbconvert_exporter": "python",
   "pygments_lexer": "ipython3",
   "version": "3.10.12"
  }
 },
 "nbformat": 4,
 "nbformat_minor": 5
}
