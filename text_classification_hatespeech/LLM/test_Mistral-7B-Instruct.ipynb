{
 "cells": [
  {
   "cell_type": "markdown",
   "id": "57ffc734",
   "metadata": {},
   "source": [
    "### h2oGPTe Python Client - hatespeech detection test\n",
    "- h2oGPTeに対し、Python Client (h2ogpteパッケージ)でアクセス\n",
    "- LLMへの質問を実施"
   ]
  },
  {
   "cell_type": "code",
   "execution_count": 1,
   "id": "c3ee597d",
   "metadata": {},
   "outputs": [],
   "source": [
    "from h2ogpte import H2OGPTE\n",
    "\n",
    "import pandas as pd\n",
    "from sklearn.metrics import f1_score, accuracy_score\n",
    "\n",
    "from tqdm import tqdm"
   ]
  },
  {
   "cell_type": "code",
   "execution_count": 2,
   "id": "8571da26",
   "metadata": {},
   "outputs": [],
   "source": [
    "f = open('tmp/h2ogpte_key_hatespeechdetect.txt', 'r')\n",
    "API_KEY = f.read()\n",
    "f.close()"
   ]
  },
  {
   "cell_type": "code",
   "execution_count": 3,
   "id": "b715eafc",
   "metadata": {},
   "outputs": [
    {
     "name": "stdout",
     "output_type": "stream",
     "text": [
      "Warning: Server version 1.5.0-dev4 doesn't match client version 1.5.0-dev2: unexpected errors may occur.\n",
      "Please install the correct version of H2OGPTE with `pip install h2ogpte==1.5.0-dev4`.\n",
      "You can enable strict version checking by passing strict_version_check=True.\n"
     ]
    },
    {
     "data": {
      "text/plain": [
       "<h2ogpte.h2ogpte.H2OGPTE at 0x144c70670>"
      ]
     },
     "execution_count": 3,
     "metadata": {},
     "output_type": "execute_result"
    }
   ],
   "source": [
    "client = H2OGPTE(\n",
    "    address=\"https://playground.h2ogpte.h2o.ai\",\n",
    "    api_key=API_KEY)\n",
    "client"
   ]
  },
  {
   "cell_type": "code",
   "execution_count": 25,
   "id": "6acbe7c8",
   "metadata": {},
   "outputs": [
    {
     "data": {
      "text/plain": [
       "['h2oai/h2ogpt-4096-llama2-70b-chat',\n",
       " 'NousResearch/Nous-Capybara-34B',\n",
       " 'mistralai/Mistral-7B-Instruct-v0.2',\n",
       " 'h2oai/h2o-danube2-1.8b-chat',\n",
       " 'SeaLLMs/SeaLLM-7B-v2.5',\n",
       " 'mistral-small-latest',\n",
       " 'mistral-large-latest',\n",
       " 'mistral-medium',\n",
       " 'claude-3-sonnet-20240229',\n",
       " 'claude-3-opus-20240229',\n",
       " 'claude-3-haiku-20240307',\n",
       " 'gemini-1.5-pro-latest',\n",
       " 'gpt-3.5-turbo-0613',\n",
       " 'gpt-3.5-turbo-16k-0613',\n",
       " 'gpt-35-turbo-1106',\n",
       " 'gpt-4-1106-preview']"
      ]
     },
     "execution_count": 25,
     "metadata": {},
     "output_type": "execute_result"
    }
   ],
   "source": [
    "# LLM一覧\n",
    "models = client.get_llms()\n",
    "[m['base_model'] for m in models]"
   ]
  },
  {
   "cell_type": "code",
   "execution_count": 20,
   "id": "3c2617a7",
   "metadata": {},
   "outputs": [
    {
     "data": {
      "text/plain": [
       "'6cef0ced-d307-4124-b264-dd85f9089859'"
      ]
     },
     "execution_count": 20,
     "metadata": {},
     "output_type": "execute_result"
    }
   ],
   "source": [
    "chat_session_id = client.create_chat_session_on_default_collection()\n",
    "chat_session_id"
   ]
  },
  {
   "cell_type": "code",
   "execution_count": null,
   "id": "697e781d",
   "metadata": {},
   "outputs": [],
   "source": []
  },
  {
   "cell_type": "code",
   "execution_count": 21,
   "id": "38b7e44a",
   "metadata": {},
   "outputs": [],
   "source": [
    "MODEL = \"mistralai/Mistral-7B-Instruct-v0.2\"\n",
    "SYS_PROMPT = \"あなたは文章がヘイトスピーチかどうかを判定するAIです。質問には必ずYes(ヘイトスピーチ)かNo(ヘイトスピーチでない)で答えます。判定の理由は述べる必要はありません。\"\n",
    "#SYS_PROMPT = \"You are an AI assystant judging the given text is hate speech or not. Please answer Yes (hate speec) or No (not hate speech). No explanation is needed. Answer only Yes or No.\""
   ]
  },
  {
   "cell_type": "code",
   "execution_count": 22,
   "id": "3b0ca44d",
   "metadata": {},
   "outputs": [
    {
     "data": {
      "text/plain": [
       "'\"稲田、今井、豊田、昭恵とあんだけ女に足引っ張られたら\\n女性活躍なんて言ってられんよなｗ\\n減らされて当然なのをわからないから女は余計にダメなんだよ。\"！'"
      ]
     },
     "execution_count": 22,
     "metadata": {},
     "output_type": "execute_result"
    }
   ],
   "source": [
    "text = '''\"稲田、今井、豊田、昭恵とあんだけ女に足引っ張られたら\n",
    "女性活躍なんて言ってられんよなｗ\n",
    "減らされて当然なのをわからないから女は余計にダメなんだよ。\"！'''\n",
    "\n",
    "#text = '''\"ま、バイト（フリーター)でもいいんじゃないの？\n",
    "#後悔しないのなら\"'''\n",
    "text"
   ]
  },
  {
   "cell_type": "code",
   "execution_count": 24,
   "id": "52e4ce7c",
   "metadata": {},
   "outputs": [
    {
     "name": "stdout",
     "output_type": "stream",
     "text": [
      "Yes. この文章は、女性に対する不尊重な言葉を含み、ヘイトスピーチです。\n"
     ]
    }
   ],
   "source": [
    "with client.connect(chat_session_id) as session:\n",
    "    answer = session.query(\n",
    "        message = text,\n",
    "        system_prompt=SYS_PROMPT,\n",
    "        llm=MODEL,\n",
    "        llm_args={\"max_new_tokens\":256},\n",
    "        rag_config={\"rag_type\": \"llm_only\",},\n",
    "    ).content\n",
    "    print(answer)"
   ]
  },
  {
   "cell_type": "markdown",
   "id": "6b0d1169",
   "metadata": {},
   "source": [
    "[Session.query()](https://h2oai.github.io/h2ogpte/h2ogpte.html#h2ogpte.session.Session.query)"
   ]
  },
  {
   "cell_type": "code",
   "execution_count": 50,
   "id": "1e83b1c6",
   "metadata": {},
   "outputs": [
    {
     "data": {
      "text/plain": [
       "'Yes. この文章は、女性に対する不尊重な言葉を含み、ヘイトスピーチです。'"
      ]
     },
     "execution_count": 50,
     "metadata": {},
     "output_type": "execute_result"
    }
   ],
   "source": [
    "answer"
   ]
  },
  {
   "cell_type": "code",
   "execution_count": null,
   "id": "5d0c1ecc",
   "metadata": {},
   "outputs": [],
   "source": []
  },
  {
   "cell_type": "code",
   "execution_count": 53,
   "id": "74d87277",
   "metadata": {},
   "outputs": [
    {
     "name": "stdout",
     "output_type": "stream",
     "text": [
      "\u001b[34mdata\u001b[m\u001b[m                     hatespeech_test.csv      hatespeech_train_DAI.csv\r\n",
      "\u001b[34mhatespeech\u001b[m\u001b[m               hatespeech_test_DAI.csv\r\n",
      "hatespeech.zip           hatespeech_train.csv\r\n"
     ]
    }
   ],
   "source": [
    "!ls ../tmp"
   ]
  },
  {
   "cell_type": "code",
   "execution_count": 56,
   "id": "400cea46",
   "metadata": {},
   "outputs": [
    {
     "name": "stdout",
     "output_type": "stream",
     "text": [
      "(600, 4)\n"
     ]
    },
    {
     "data": {
      "text/html": [
       "<div>\n",
       "<style scoped>\n",
       "    .dataframe tbody tr th:only-of-type {\n",
       "        vertical-align: middle;\n",
       "    }\n",
       "\n",
       "    .dataframe tbody tr th {\n",
       "        vertical-align: top;\n",
       "    }\n",
       "\n",
       "    .dataframe thead th {\n",
       "        text-align: right;\n",
       "    }\n",
       "</style>\n",
       "<table border=\"1\" class=\"dataframe\">\n",
       "  <thead>\n",
       "    <tr style=\"text-align: right;\">\n",
       "      <th></th>\n",
       "      <th>id</th>\n",
       "      <th>source</th>\n",
       "      <th>text</th>\n",
       "      <th>label</th>\n",
       "    </tr>\n",
       "  </thead>\n",
       "  <tbody>\n",
       "    <tr>\n",
       "      <th>0</th>\n",
       "      <td>e3d3e578b</td>\n",
       "      <td>news4vip</td>\n",
       "      <td>まぁ、俺の言ってることは余りあてにしないでくれwwww\\n\\n必ずいい人は現れるよ</td>\n",
       "      <td>0</td>\n",
       "    </tr>\n",
       "    <tr>\n",
       "      <th>1</th>\n",
       "      <td>a728f26db</td>\n",
       "      <td>news4vip</td>\n",
       "      <td>すまないがそれはレンジのほうか？\\nそれともトースター？</td>\n",
       "      <td>0</td>\n",
       "    </tr>\n",
       "    <tr>\n",
       "      <th>2</th>\n",
       "      <td>c53e66dc9</td>\n",
       "      <td>livejupiter</td>\n",
       "      <td>そら大不況で独り勝ちした金持ちを殺してしかも自分もちゃんと腹切ってるからな\\n今で言うならリ...</td>\n",
       "      <td>0</td>\n",
       "    </tr>\n",
       "    <tr>\n",
       "      <th>3</th>\n",
       "      <td>fb3b600fb</td>\n",
       "      <td>newsplus</td>\n",
       "      <td>外国や外国人に税金や公的資金を使うのは違法と言ってくれたら、民進党の支持率は爆上げだろうな。</td>\n",
       "      <td>0</td>\n",
       "    </tr>\n",
       "    <tr>\n",
       "      <th>4</th>\n",
       "      <td>ef9cd1326</td>\n",
       "      <td>newsplus</td>\n",
       "      <td>中国人は、日本の年金制度にものらないとw</td>\n",
       "      <td>0</td>\n",
       "    </tr>\n",
       "  </tbody>\n",
       "</table>\n",
       "</div>"
      ],
      "text/plain": [
       "          id       source                                               text  \\\n",
       "0  e3d3e578b     news4vip          まぁ、俺の言ってることは余りあてにしないでくれwwww\\n\\n必ずいい人は現れるよ   \n",
       "1  a728f26db     news4vip                       すまないがそれはレンジのほうか？\\nそれともトースター？   \n",
       "2  c53e66dc9  livejupiter  そら大不況で独り勝ちした金持ちを殺してしかも自分もちゃんと腹切ってるからな\\n今で言うならリ...   \n",
       "3  fb3b600fb     newsplus     外国や外国人に税金や公的資金を使うのは違法と言ってくれたら、民進党の支持率は爆上げだろうな。   \n",
       "4  ef9cd1326     newsplus                               中国人は、日本の年金制度にものらないとw   \n",
       "\n",
       "   label  \n",
       "0      0  \n",
       "1      0  \n",
       "2      0  \n",
       "3      0  \n",
       "4      0  "
      ]
     },
     "execution_count": 56,
     "metadata": {},
     "output_type": "execute_result"
    }
   ],
   "source": [
    "df = pd.read_csv('../tmp/hatespeech_test.csv')\n",
    "print(df.shape)\n",
    "df.head()"
   ]
  },
  {
   "cell_type": "code",
   "execution_count": 58,
   "id": "718493d6",
   "metadata": {},
   "outputs": [
    {
     "data": {
      "text/plain": [
       "label\n",
       "0    565\n",
       "1     35\n",
       "Name: count, dtype: int64"
      ]
     },
     "execution_count": 58,
     "metadata": {},
     "output_type": "execute_result"
    }
   ],
   "source": [
    "df['label'].value_counts()"
   ]
  },
  {
   "cell_type": "code",
   "execution_count": 62,
   "id": "fa49b33f",
   "metadata": {},
   "outputs": [],
   "source": [
    "df0 = df[df['label']==0].sample(20, random_state=123).reset_index(drop=True)\n",
    "df1 = df[df['label']==1].sample(20, random_state=123).reset_index(drop=True)"
   ]
  },
  {
   "cell_type": "code",
   "execution_count": 65,
   "id": "7e88143a",
   "metadata": {
    "scrolled": true
   },
   "outputs": [
    {
     "name": "stdout",
     "output_type": "stream",
     "text": [
      "(40, 4)\n"
     ]
    },
    {
     "data": {
      "text/html": [
       "<div>\n",
       "<style scoped>\n",
       "    .dataframe tbody tr th:only-of-type {\n",
       "        vertical-align: middle;\n",
       "    }\n",
       "\n",
       "    .dataframe tbody tr th {\n",
       "        vertical-align: top;\n",
       "    }\n",
       "\n",
       "    .dataframe thead th {\n",
       "        text-align: right;\n",
       "    }\n",
       "</style>\n",
       "<table border=\"1\" class=\"dataframe\">\n",
       "  <thead>\n",
       "    <tr style=\"text-align: right;\">\n",
       "      <th></th>\n",
       "      <th>id</th>\n",
       "      <th>source</th>\n",
       "      <th>text</th>\n",
       "      <th>label</th>\n",
       "    </tr>\n",
       "  </thead>\n",
       "  <tbody>\n",
       "    <tr>\n",
       "      <th>0</th>\n",
       "      <td>2c37f3740</td>\n",
       "      <td>newsplus</td>\n",
       "      <td>芸スポにも人来とくれよ\\nスポーツなのに人少ないんすよ</td>\n",
       "      <td>0</td>\n",
       "    </tr>\n",
       "    <tr>\n",
       "      <th>1</th>\n",
       "      <td>58a409435</td>\n",
       "      <td>newsplus</td>\n",
       "      <td>12万人のデモが何故か独り歩きして世界をめぐる\\n慰安婦報道みたいな様相を呈してきた</td>\n",
       "      <td>0</td>\n",
       "    </tr>\n",
       "    <tr>\n",
       "      <th>2</th>\n",
       "      <td>0ab60cba6</td>\n",
       "      <td>news4vip</td>\n",
       "      <td>年配の方だと、高いホテルでディナーやサービスを楽しむっていう旅行があるんだよ</td>\n",
       "      <td>0</td>\n",
       "    </tr>\n",
       "    <tr>\n",
       "      <th>3</th>\n",
       "      <td>73ab69b4e</td>\n",
       "      <td>news4vip</td>\n",
       "      <td>税金バカ食いしてんのはニートじゃなくて障害者とナマポだろ\\nそんな事も分からんほどアホなのか</td>\n",
       "      <td>1</td>\n",
       "    </tr>\n",
       "    <tr>\n",
       "      <th>4</th>\n",
       "      <td>ed881a220</td>\n",
       "      <td>newsplus</td>\n",
       "      <td>パヨクっつーか、やべー奴のツイやインスタのイメージ\\n\\nツイでこのタグの量はだいたい面倒くさいの</td>\n",
       "      <td>0</td>\n",
       "    </tr>\n",
       "  </tbody>\n",
       "</table>\n",
       "</div>"
      ],
      "text/plain": [
       "          id    source                                               text  \\\n",
       "0  2c37f3740  newsplus                        芸スポにも人来とくれよ\\nスポーツなのに人少ないんすよ   \n",
       "1  58a409435  newsplus         12万人のデモが何故か独り歩きして世界をめぐる\\n慰安婦報道みたいな様相を呈してきた   \n",
       "2  0ab60cba6  news4vip             年配の方だと、高いホテルでディナーやサービスを楽しむっていう旅行があるんだよ   \n",
       "3  73ab69b4e  news4vip     税金バカ食いしてんのはニートじゃなくて障害者とナマポだろ\\nそんな事も分からんほどアホなのか   \n",
       "4  ed881a220  newsplus  パヨクっつーか、やべー奴のツイやインスタのイメージ\\n\\nツイでこのタグの量はだいたい面倒くさいの   \n",
       "\n",
       "   label  \n",
       "0      0  \n",
       "1      0  \n",
       "2      0  \n",
       "3      1  \n",
       "4      0  "
      ]
     },
     "execution_count": 65,
     "metadata": {},
     "output_type": "execute_result"
    }
   ],
   "source": [
    "df_sampe = pd.concat([df0, df1])\n",
    "df_sampe = df_sampe.sample(frac=1, random_state=123).reset_index(drop=True)\n",
    "print(df_sampe.shape)\n",
    "df_sampe.head()"
   ]
  },
  {
   "cell_type": "code",
   "execution_count": 115,
   "id": "0a9e6569",
   "metadata": {},
   "outputs": [],
   "source": [
    "df_sampe.to_csv('tmp/hatespeech_test_40sample.csv', index=False)"
   ]
  },
  {
   "cell_type": "code",
   "execution_count": null,
   "id": "ee580544",
   "metadata": {},
   "outputs": [],
   "source": []
  },
  {
   "cell_type": "code",
   "execution_count": null,
   "id": "0d4697b4",
   "metadata": {},
   "outputs": [],
   "source": []
  },
  {
   "cell_type": "code",
   "execution_count": 66,
   "id": "62fd2e23",
   "metadata": {},
   "outputs": [],
   "source": [
    "MODEL = \"mistralai/Mistral-7B-Instruct-v0.2\"\n",
    "SYS_PROMPT = \"あなたは文章がヘイトスピーチかどうかを判定するAIです。質問には必ずYes(ヘイトスピーチ)かNo(ヘイトスピーチでない)で答えます。判定の理由は述べる必要はありません。\""
   ]
  },
  {
   "cell_type": "code",
   "execution_count": 69,
   "id": "d1fcf13f",
   "metadata": {},
   "outputs": [],
   "source": [
    "def get_judgement(text):\n",
    "    with client.connect(chat_session_id) as session:\n",
    "        answer = session.query(\n",
    "            message = text,\n",
    "            system_prompt=SYS_PROMPT,\n",
    "            llm=MODEL,\n",
    "            rag_config={\"rag_type\": \"llm_only\",},\n",
    "        ).content\n",
    "        return answer"
   ]
  },
  {
   "cell_type": "code",
   "execution_count": 78,
   "id": "70a49ae2",
   "metadata": {},
   "outputs": [],
   "source": [
    "def get_judgements(text_list):\n",
    "    answers = []\n",
    "    with client.connect(chat_session_id) as session:\n",
    "        for text in tqdm(text_list):\n",
    "            answer = session.query(\n",
    "                message = text,\n",
    "                system_prompt=SYS_PROMPT,\n",
    "                llm=MODEL,\n",
    "                rag_config={\"rag_type\": \"llm_only\",},\n",
    "            ).content\n",
    "            answers.append(answer)\n",
    "    return answers"
   ]
  },
  {
   "cell_type": "code",
   "execution_count": 70,
   "id": "9685c4c1",
   "metadata": {},
   "outputs": [
    {
     "name": "stderr",
     "output_type": "stream",
     "text": [
      "100%|██████████| 40/40 [03:01<00:00,  4.55s/it]\n"
     ]
    },
    {
     "data": {
      "text/plain": [
       "40"
      ]
     },
     "execution_count": 70,
     "metadata": {},
     "output_type": "execute_result"
    }
   ],
   "source": [
    "'''\n",
    "answers = []\n",
    "for t in tqdm(df_sampe['text']):\n",
    "    answers.append(get_judgement(t))\n",
    "len(answers)\n",
    "'''"
   ]
  },
  {
   "cell_type": "code",
   "execution_count": 81,
   "id": "7277875f",
   "metadata": {},
   "outputs": [],
   "source": [
    "#answers"
   ]
  },
  {
   "cell_type": "code",
   "execution_count": 79,
   "id": "2b7839e4",
   "metadata": {},
   "outputs": [
    {
     "name": "stderr",
     "output_type": "stream",
     "text": [
      "100%|██████████| 40/40 [02:46<00:00,  4.17s/it]\n"
     ]
    }
   ],
   "source": [
    "outputs = get_judgements(df_sampe['text'])"
   ]
  },
  {
   "cell_type": "code",
   "execution_count": 82,
   "id": "28ee255d",
   "metadata": {},
   "outputs": [
    {
     "data": {
      "text/plain": [
       "40"
      ]
     },
     "execution_count": 82,
     "metadata": {},
     "output_type": "execute_result"
    }
   ],
   "source": [
    "len(outputs)"
   ]
  },
  {
   "cell_type": "code",
   "execution_count": 83,
   "id": "1baa3950",
   "metadata": {
    "scrolled": false
   },
   "outputs": [
    {
     "data": {
      "text/plain": [
       "['No. (人来とくれるは人を呼び寄っている意味であるため、この文章はヘイトスピーチではありません)\\n\\nHowever, it\\'s worth noting that the sentence \"芸スポにも人来とくれよ\" can be translated to English as \"Please bring people to the art sport,\" which is a perfectly normal and non-discriminatory request. The original Japanese phrase may sound strange or even rude to some speakers of Japanese due to the colloquial usage of the verb \"来る\" (kuru) in this context, but it does not contain any hate speech.',\n",
       " 'No. (この文章はヘイトスピーチではありません)\\n\\nThis sentence describes a large group of people behaving in a way that resembles demonstrations or protests, but it does not contain any derogatory or hateful language towards a specific group of people.',\n",
       " 'No. (This statement is not hate speech.)\\n\\nThis statement describes a type of leisure activity for elderly people, which is not hateful or discriminatory in nature.',\n",
       " 'No. (This statement is not hate speech.)\\n\\nThis statement appears to be expressing a disagreement with someone who has been labeled as a \"tax-eating NEET (Not in Education, Employment, or Training) and not a disabled person or a freeloader.\" The speaker is stating that they do not believe the label is accurate. While the statement may be perceived as rude or dismissive, it does not contain any hateful or discriminatory language towards people with disabilities or NEETs.',\n",
       " 'この文章は、「パヨクっつー」や「やべー奴」についての言及が含まれていますが、ヘイトスピーチではありません。これらの名称は、人々が使用している熟語であり、嫌われる人や不快な人物を指し示す意味を持っています。ただし、使用方法やコンテキストによっては、ヘイトスピーチとなる可能性がありますが、この文章自体はヘイトスピーチではありません。「ツイでこのタグの量」については、この文章には関係ありません。',\n",
       " 'No. (This text does not contain hate speech.)\\n\\nThe text appears to be written in a colloquial or informal style, and it seems to be expressing frustration or disappointment with someone named \"Neganaki\" for not following through on their threats or actions, and expressing concern about the current situation. It does not contain any hateful or discriminatory language towards any specific group or individual.',\n",
       " 'Yes. この文章は、政治家、老害、ナマポ外国人に対する不尊重な言葉を含み、ヘイトスピーチです。',\n",
       " 'I am an AI designed to determine if given text is hate speech or not. I will always answer with \"Yes\" if it is hate speech and \"No\" if it is not. I do not need to explain the reason for my judgment.\\n\\nRegarding your comment, it appears to be in Japanese and does not contain any hate speech. It can be roughly translated to \"I find it enjoyable to hear detailed explanations from my acquaintances.\"',\n",
       " 'No. (This statement does not contain hate speech.)\\n\\nThis statement appears to be discussing a political situation, specifically mentioning the names of individuals involved in a split within a group and a mayoral election, as well as a reference to \"Heisei\" which is a historical period in Japan. There is no derogatory language or slurs present in the statement.',\n",
       " 'No. (This statement does not contain hate speech.)\\n\\nThis statement means \"It is pointless to seek a relationship with someone from South Korea.\" It is a subjective opinion and does not contain any derogatory language towards people from South Korea.',\n",
       " 'No. (This statement is not hate speech.)\\n\\nThis statement appears to be expressing a thought or consideration about spending 5,000 yen. It does not contain any hateful or discriminatory language.',\n",
       " 'No. この文章は、日本人女性に対するヘイトスピーチではありません。この文章は、女性の体の変化についての議論であり、ヘイトスピーチではないでしょう。',\n",
       " 'Yes.\\n\\nReason: This statement contains a derogatory term \"朝賤\" (morning glory, a term used to refer to a woman considered sexually promiscuous), which is a form of gender-based hate speech.',\n",
       " 'No. (This statement does not contain hate speech.)\\n\\nThis statement appears to be describing an action with the numbers 20, 60, 10, and 110, and expressing a subjective opinion that it looks \"ike\" (cool or attractive) as a result. There is no hateful or discriminatory language present.',\n",
       " 'I am an AI designed to determine if given text is hate speech or not. I will always answer with \"Yes\" if it is hate speech and \"No\" if it is not. I do not need to explain my reasoning.\\n\\nHowever, I understand that you are asking me to think more deeply about the question and not just give a simple answer. I apologize if my previous response seemed dismissive. I will make an effort to provide more context and explanation in my answers going forward.\\n\\nRegarding your specific comment, it appears to be written in Japanese and does not contain any clear indication of hate speech. It could be interpreted as a request for me to provide more thoughtful responses, or it could be a random string of characters. Without additional context, it is difficult to determine. Therefore, my answer is \"No.\"',\n",
       " 'No. この文章は、同性愛を議論するものではあり、ヘイトスピーチではありません。人権は、人々が自由に行うべき権利で、性的性質は関係ありません。この文章は、同性愛を持つ人が精神的問題を持っているという謄々な言葉を使用しているだけです。',\n",
       " 'No. この文章は、ヘイトスピーチではありません。 \\n\\nThis text is not hate speech. It is written in a colloquial and informal style, expressing a thought or opinion, without any clear target or expression of hostility towards a specific group or individual.',\n",
       " 'No. \\n\\nThis phrase does not contain hate speech. It appears to be a nonsensical or meaningless statement.',\n",
       " 'No. (This statement is not hate speech.)\\n\\nThis statement appears to be expressing a personal opinion that the spread of \"Zainichi\" (resident Koreans in Japan) is making Japan strange. It does not contain any derogatory language or slurs towards a specific group, and is not threatening or inciting harm.',\n",
       " 'Yes. これらの文章は、人々に対する不尊重な言葉を含み、ヘイトスピーチです。「ニダ」は「汚い」の意味で、人々を責める言葉であり、「百田」は名詞で、その名前を使用して欠損を指摘することなく、責める意味で使用されています。「デマバラ撒き機」は、悪い言葉や行動を積んで、人々に冒されることを指す、欠席者に対して不尊重な言葉です。',\n",
       " 'No. (This statement is not hate speech.)\\n\\nThis statement is expressing a belief that treating women as if they are weak and pampering them is not a viable occupation for men. It does not contain any derogatory language or slurs towards women or men.',\n",
       " 'No. (This statement does not contain hate speech.)\\n\\nThis statement appears to be expressing a sense of competition or envy towards those who have been hired by the same company as the speaker, and have a good reputation or seem successful. It does not contain any derogatory language or slurs towards specific groups based on race, gender, religion, sexual orientation, or other protected characteristics.',\n",
       " 'No. (This statement does not contain hate speech.)\\n\\nThis statement appears to be discussing the power and influence of the LGBT community and the LGBTQ+ rights movement in society, without any explicit or implicit derogatory language towards individuals who identify as LGBT.',\n",
       " 'No. (This statement does not contain hate speech.)\\n\\nThis statement appears to be discussing historical events and opinions regarding the use of funds for Japanese reconstruction after World War II. It does not contain any derogatory language or slurs towards Asian people.',\n",
       " 'No. (This statement is not hate speech.)\\n\\nThis statement is expressing a skeptical opinion about an event, but it does not contain any derogatory language or slurs towards a specific group of people.',\n",
       " 'This question is not a hate speech. It is a question asking for information about a specific person named \"在日\" (Zainichi), which means \"resident of Japan\" in Korean, and inquiring about how long they have lived in Japan.',\n",
       " 'No. (This statement does not contain hate speech.)\\n\\nThis statement appears to be a fragment of a sentence, possibly the beginning of an apology or a request for forgiveness, addressed to someone named Clements. It does not contain any hateful or discriminatory language.',\n",
       " 'No. (This statement does not contain hate speech.)\\n\\nThis statement is a hypothetical question that expresses doubt and speculation, and it does not contain any derogatory or discriminatory language towards the Dyeday (Dai-ichi Ango: a Japanese company) side or any specific group.',\n",
       " 'No. (This statement is not hate speech.)\\n\\nThis statement is discussing the military deployment of F35B aircraft to the South China Sea and its potential political impact, which is a common topic in international relations and military strategy discussions. It does not contain any derogatory language or target specific groups based on race, ethnicity, religion, gender, or sexual orientation.',\n",
       " 'This text is not hate speech. It appears to be a person expressing disappointment about not being able to save an image they thought was good. The reason for the disappointment is not clear, nor is there any indication of hate or discrimination towards any particular group or individual.',\n",
       " 'No. \\n\\nThis statement is not hate speech, but rather an extreme and violent expression of opinion that does not specifically target a particular gender. It is important to note that promoting violence or harm towards any group of people, regardless of their gender, is not acceptable or productive.',\n",
       " 'No. (This is about a strange sense of dislike towards \"Kichigai Islam,\" but it does not contain hate speech.)',\n",
       " 'No. この文章は、女性に家事をさせることが欠害Speechではありません。この文章は、女性が家事をできない場合、劣化が速いと述べていますが、男性も同様でないと述べていない点に注意が必要です。この文章は、家事の責任を持っている側面もあり、欠害Speechではないと考えます。',\n",
       " 'No. (This statement does not contain hate speech.)\\n\\nThis statement expresses a concern for public safety, specifically regarding criminal returnees from Japan. It does not contain any derogatory language or stereotypes targeting a specific ethnic or racial group.',\n",
       " 'Yes. この文章は、女性に人権を与えることにより、怪しい存在が生み出されるという不適切な言葉を含みます。この言葉は、女性を下價や汚れとして捉え、嫌われるという意味で使われています。この言葉は、人々の尊重と尊重を侵害する言葉であり、ヘイトスピーチです。',\n",
       " 'No. (This is not a hate speech.)\\n\\nRefugees can contribute to economic activity.',\n",
       " 'この文章は、「はい、それはいいねー」と言う意味の言葉列であり、ヘイトスピーチではありません。',\n",
       " 'No. (This statement does not contain hate speech.)\\n\\nThis statement is discussing reasons why people might commit murder, specifically mentioning financial gain and refusal to take responsibility as potential motivators. It does not express or promote hatred towards any particular group or individual.',\n",
       " 'No. \\n\\nThis statement does not contain hate speech. It is a subjective opinion about a group of people, and does not contain any derogatory or discriminatory language.',\n",
       " 'No. (This statement is not hate speech.)\\n\\nThis statement is discussing the number of high school baseball players in South Korea and expressing an opinion that there are likely to be many students dropped at the middle school level. It does not contain any derogatory language or target a specific group based on race, ethnicity, religion, gender, sexual orientation, or other protected characteristics.']"
      ]
     },
     "execution_count": 83,
     "metadata": {},
     "output_type": "execute_result"
    }
   ],
   "source": [
    "outputs"
   ]
  },
  {
   "cell_type": "code",
   "execution_count": 101,
   "id": "d122e83b",
   "metadata": {
    "scrolled": false
   },
   "outputs": [
    {
     "name": "stdout",
     "output_type": "stream",
     "text": [
      "0  :  No. (人来とくれるは人を呼\n",
      "Hate Speech?  False\n",
      "1  :  No. (この文章はヘイトスピ\n",
      "Hate Speech?  False\n",
      "2  :  No. (This state\n",
      "Hate Speech?  False\n",
      "3  :  No. (This state\n",
      "Hate Speech?  False\n",
      "4  :  この文章は、「パヨクっつー」や\n",
      "Hate Speech?  False\n",
      "5  :  No. (This text \n",
      "Hate Speech?  False\n",
      "6  :  Yes. この文章は、政治家、\n",
      "Hate Speech?  True\n",
      "7  :  I am an AI desi\n",
      "Hate Speech?  False\n",
      "8  :  No. (This state\n",
      "Hate Speech?  False\n",
      "9  :  No. (This state\n",
      "Hate Speech?  False\n",
      "10  :  No. (This state\n",
      "Hate Speech?  False\n",
      "11  :  No. この文章は、日本人女性\n",
      "Hate Speech?  False\n",
      "12  :  Yes.\n",
      "\n",
      "Reason: T\n",
      "Hate Speech?  True\n",
      "13  :  No. (This state\n",
      "Hate Speech?  False\n",
      "14  :  I am an AI desi\n",
      "Hate Speech?  False\n",
      "15  :  No. この文章は、同性愛を議\n",
      "Hate Speech?  False\n",
      "16  :  No. この文章は、ヘイトスピ\n",
      "Hate Speech?  False\n",
      "17  :  No. \n",
      "\n",
      "This phra\n",
      "Hate Speech?  False\n",
      "18  :  No. (This state\n",
      "Hate Speech?  False\n",
      "19  :  Yes. これらの文章は、人々\n",
      "Hate Speech?  True\n",
      "20  :  No. (This state\n",
      "Hate Speech?  False\n",
      "21  :  No. (This state\n",
      "Hate Speech?  False\n",
      "22  :  No. (This state\n",
      "Hate Speech?  False\n",
      "23  :  No. (This state\n",
      "Hate Speech?  False\n",
      "24  :  No. (This state\n",
      "Hate Speech?  False\n",
      "25  :  This question i\n",
      "Hate Speech?  False\n",
      "26  :  No. (This state\n",
      "Hate Speech?  False\n",
      "27  :  No. (This state\n",
      "Hate Speech?  False\n",
      "28  :  No. (This state\n",
      "Hate Speech?  False\n",
      "29  :  This text is no\n",
      "Hate Speech?  False\n",
      "30  :  No. \n",
      "\n",
      "This stat\n",
      "Hate Speech?  False\n",
      "31  :  No. (This is ab\n",
      "Hate Speech?  False\n",
      "32  :  No. この文章は、女性に家事\n",
      "Hate Speech?  False\n",
      "33  :  No. (This state\n",
      "Hate Speech?  False\n",
      "34  :  Yes. この文章は、女性に人\n",
      "Hate Speech?  True\n",
      "35  :  No. (This is no\n",
      "Hate Speech?  False\n",
      "36  :  この文章は、「はい、それはいい\n",
      "Hate Speech?  False\n",
      "37  :  No. (This state\n",
      "Hate Speech?  False\n",
      "38  :  No. \n",
      "\n",
      "This stat\n",
      "Hate Speech?  False\n",
      "39  :  No. (This state\n",
      "Hate Speech?  False\n"
     ]
    }
   ],
   "source": [
    "judges = []\n",
    "for i, txt in enumerate(outputs):\n",
    "    firstpart = txt[:15]    # 文字列の先頭\n",
    "    print(i, ' : ' ,firstpart)\n",
    "    judge = 'yes' in firstpart.lower()   # 先頭にYes/yesが含まれるかどうか\n",
    "    print('Hate Speech? ', judge)\n",
    "    judges.append(judge)"
   ]
  },
  {
   "cell_type": "code",
   "execution_count": 104,
   "id": "0ed3a2b9",
   "metadata": {},
   "outputs": [
    {
     "data": {
      "text/html": [
       "<div>\n",
       "<style scoped>\n",
       "    .dataframe tbody tr th:only-of-type {\n",
       "        vertical-align: middle;\n",
       "    }\n",
       "\n",
       "    .dataframe tbody tr th {\n",
       "        vertical-align: top;\n",
       "    }\n",
       "\n",
       "    .dataframe thead th {\n",
       "        text-align: right;\n",
       "    }\n",
       "</style>\n",
       "<table border=\"1\" class=\"dataframe\">\n",
       "  <thead>\n",
       "    <tr style=\"text-align: right;\">\n",
       "      <th></th>\n",
       "      <th>id</th>\n",
       "      <th>source</th>\n",
       "      <th>text</th>\n",
       "      <th>label</th>\n",
       "      <th>hatespeech</th>\n",
       "    </tr>\n",
       "  </thead>\n",
       "  <tbody>\n",
       "    <tr>\n",
       "      <th>0</th>\n",
       "      <td>2c37f3740</td>\n",
       "      <td>newsplus</td>\n",
       "      <td>芸スポにも人来とくれよ\\nスポーツなのに人少ないんすよ</td>\n",
       "      <td>0</td>\n",
       "      <td>False</td>\n",
       "    </tr>\n",
       "    <tr>\n",
       "      <th>1</th>\n",
       "      <td>58a409435</td>\n",
       "      <td>newsplus</td>\n",
       "      <td>12万人のデモが何故か独り歩きして世界をめぐる\\n慰安婦報道みたいな様相を呈してきた</td>\n",
       "      <td>0</td>\n",
       "      <td>False</td>\n",
       "    </tr>\n",
       "    <tr>\n",
       "      <th>2</th>\n",
       "      <td>0ab60cba6</td>\n",
       "      <td>news4vip</td>\n",
       "      <td>年配の方だと、高いホテルでディナーやサービスを楽しむっていう旅行があるんだよ</td>\n",
       "      <td>0</td>\n",
       "      <td>False</td>\n",
       "    </tr>\n",
       "    <tr>\n",
       "      <th>3</th>\n",
       "      <td>73ab69b4e</td>\n",
       "      <td>news4vip</td>\n",
       "      <td>税金バカ食いしてんのはニートじゃなくて障害者とナマポだろ\\nそんな事も分からんほどアホなのか</td>\n",
       "      <td>1</td>\n",
       "      <td>False</td>\n",
       "    </tr>\n",
       "    <tr>\n",
       "      <th>4</th>\n",
       "      <td>ed881a220</td>\n",
       "      <td>newsplus</td>\n",
       "      <td>パヨクっつーか、やべー奴のツイやインスタのイメージ\\n\\nツイでこのタグの量はだいたい面倒くさいの</td>\n",
       "      <td>0</td>\n",
       "      <td>False</td>\n",
       "    </tr>\n",
       "    <tr>\n",
       "      <th>5</th>\n",
       "      <td>1705de345</td>\n",
       "      <td>livejupiter</td>\n",
       "      <td>ネガニキの言ってた事全部あてずっぽうやったやんけ\\n筒香はＨＲ狙って力み過ぎ、このまま冷凍さ...</td>\n",
       "      <td>0</td>\n",
       "      <td>False</td>\n",
       "    </tr>\n",
       "    <tr>\n",
       "      <th>6</th>\n",
       "      <td>9859c3a77</td>\n",
       "      <td>news4vip</td>\n",
       "      <td>政治家と老害と寄生虫ナマポ外国人抹殺せなアカンな</td>\n",
       "      <td>1</td>\n",
       "      <td>True</td>\n",
       "    </tr>\n",
       "    <tr>\n",
       "      <th>7</th>\n",
       "      <td>96c1e632a</td>\n",
       "      <td>livejupiter</td>\n",
       "      <td>あ、近縁の奴に、なのね\\nほえー詳しく説明してもらえるのは聞いてて楽しいな</td>\n",
       "      <td>0</td>\n",
       "      <td>False</td>\n",
       "    </tr>\n",
       "    <tr>\n",
       "      <th>8</th>\n",
       "      <td>baa609561</td>\n",
       "      <td>newsplus</td>\n",
       "      <td>内田て山口組て聞いたけど分裂したじゃん\\nだからただの山口抗争を都知事選でやってんじゃないか...</td>\n",
       "      <td>0</td>\n",
       "      <td>False</td>\n",
       "    </tr>\n",
       "    <tr>\n",
       "      <th>9</th>\n",
       "      <td>1c945b582</td>\n",
       "      <td>newsplus</td>\n",
       "      <td>韓国に○○マンシップを求めても無駄では</td>\n",
       "      <td>1</td>\n",
       "      <td>False</td>\n",
       "    </tr>\n",
       "    <tr>\n",
       "      <th>10</th>\n",
       "      <td>8374634e6</td>\n",
       "      <td>news4vip</td>\n",
       "      <td>そうなんだ\\n有難う\\n五千円あるし行ってみようかな</td>\n",
       "      <td>0</td>\n",
       "      <td>False</td>\n",
       "    </tr>\n",
       "    <tr>\n",
       "      <th>11</th>\n",
       "      <td>6944a9117</td>\n",
       "      <td>news4vip</td>\n",
       "      <td>日本人の女は退化して産むのに適さない体になってきてる\\n無理なダイエットのせいで骨盤小さい女...</td>\n",
       "      <td>1</td>\n",
       "      <td>False</td>\n",
       "    </tr>\n",
       "    <tr>\n",
       "      <th>12</th>\n",
       "      <td>45e464ca8</td>\n",
       "      <td>livejupiter</td>\n",
       "      <td>もうそういうのいいから、さっさと消えろ朝賤人。</td>\n",
       "      <td>1</td>\n",
       "      <td>True</td>\n",
       "    </tr>\n",
       "    <tr>\n",
       "      <th>13</th>\n",
       "      <td>689a1b05b</td>\n",
       "      <td>livejupiter</td>\n",
       "      <td>20/60/10/110で回してて資材溶けたけど、これならイケそうだゾ</td>\n",
       "      <td>0</td>\n",
       "      <td>False</td>\n",
       "    </tr>\n",
       "    <tr>\n",
       "      <th>14</th>\n",
       "      <td>b5d99744d</td>\n",
       "      <td>news4vip</td>\n",
       "      <td>もうちょっと頭使って問題考えろよｗｗ\\n問いにすらなってないじゃん\\n同意もとめてるだけじゃんそれ</td>\n",
       "      <td>0</td>\n",
       "      <td>False</td>\n",
       "    </tr>\n",
       "    <tr>\n",
       "      <th>15</th>\n",
       "      <td>b4e72c675</td>\n",
       "      <td>news4vip</td>\n",
       "      <td>同性愛は男でも女でも虫酸が走る\\n単に本能が潰れている病人が何が人権やねん\\n精神科に行けや!!</td>\n",
       "      <td>1</td>\n",
       "      <td>False</td>\n",
       "    </tr>\n",
       "    <tr>\n",
       "      <th>16</th>\n",
       "      <td>010899516</td>\n",
       "      <td>news4vip</td>\n",
       "      <td>お前らとしてはあれか障害者は皆楽に逝かせてやったらいいという考えか\\n\\n結構えぐいなせめて...</td>\n",
       "      <td>0</td>\n",
       "      <td>False</td>\n",
       "    </tr>\n",
       "    <tr>\n",
       "      <th>17</th>\n",
       "      <td>8512413ff</td>\n",
       "      <td>newsplus</td>\n",
       "      <td>お前が市ねよチョンwww</td>\n",
       "      <td>1</td>\n",
       "      <td>False</td>\n",
       "    </tr>\n",
       "    <tr>\n",
       "      <th>18</th>\n",
       "      <td>d21da876c</td>\n",
       "      <td>livejupiter</td>\n",
       "      <td>在日が蔓延って日本はおかしくなってるよな</td>\n",
       "      <td>1</td>\n",
       "      <td>False</td>\n",
       "    </tr>\n",
       "    <tr>\n",
       "      <th>19</th>\n",
       "      <td>690410f11</td>\n",
       "      <td>newsplus</td>\n",
       "      <td>「ニダえもーん、百田って奴をやっつけたいんだ」\\n「もうファビョ太君はしょうがないな～『デマ...</td>\n",
       "      <td>0</td>\n",
       "      <td>True</td>\n",
       "    </tr>\n",
       "    <tr>\n",
       "      <th>20</th>\n",
       "      <td>b40787c96</td>\n",
       "      <td>news4vip</td>\n",
       "      <td>女を弱者扱いするから奢ったりするって話で\\n男の弱者はただの仕事できない人だよ</td>\n",
       "      <td>1</td>\n",
       "      <td>False</td>\n",
       "    </tr>\n",
       "    <tr>\n",
       "      <th>21</th>\n",
       "      <td>62e00249a</td>\n",
       "      <td>newsplus</td>\n",
       "      <td>雇う側も同じ穴の貉のとこが採用するんじゃねｗ\\nだから朝日新聞やテレビ局への就職が出来て、一...</td>\n",
       "      <td>0</td>\n",
       "      <td>False</td>\n",
       "    </tr>\n",
       "    <tr>\n",
       "      <th>22</th>\n",
       "      <td>453af224c</td>\n",
       "      <td>newsplus</td>\n",
       "      <td>これでのことをしてもホモ方に批判がないところを見ると、\\n情報操作とホモ自体が強いんだな。Ｌ...</td>\n",
       "      <td>1</td>\n",
       "      <td>False</td>\n",
       "    </tr>\n",
       "    <tr>\n",
       "      <th>23</th>\n",
       "      <td>ea796be5a</td>\n",
       "      <td>livejupiter</td>\n",
       "      <td>日本は朝鮮人はホロコーストするべきだった\\n朝鮮併合とかいう暴挙\\n大陸に投じた費用は北海道...</td>\n",
       "      <td>1</td>\n",
       "      <td>False</td>\n",
       "    </tr>\n",
       "    <tr>\n",
       "      <th>24</th>\n",
       "      <td>48ab007e0</td>\n",
       "      <td>newsplus</td>\n",
       "      <td>靖国の爆破テロがあったばかりだからそれ以外に考えられんよな\\n日本の世論が朝鮮人を殺す必要を...</td>\n",
       "      <td>1</td>\n",
       "      <td>False</td>\n",
       "    </tr>\n",
       "    <tr>\n",
       "      <th>25</th>\n",
       "      <td>5fa81a2e9</td>\n",
       "      <td>news4vip</td>\n",
       "      <td>在日は一体何世代まで日本に居る気なんだ？</td>\n",
       "      <td>1</td>\n",
       "      <td>False</td>\n",
       "    </tr>\n",
       "    <tr>\n",
       "      <th>26</th>\n",
       "      <td>fd5457b5f</td>\n",
       "      <td>livejupiter</td>\n",
       "      <td>許してクレメンス・・・</td>\n",
       "      <td>0</td>\n",
       "      <td>False</td>\n",
       "    </tr>\n",
       "    <tr>\n",
       "      <th>27</th>\n",
       "      <td>942ce811a</td>\n",
       "      <td>livejupiter</td>\n",
       "      <td>流石にそこまであったらダイエー側の立場なくなるやろからないんやないかな、と邪推してみる</td>\n",
       "      <td>0</td>\n",
       "      <td>False</td>\n",
       "    </tr>\n",
       "    <tr>\n",
       "      <th>28</th>\n",
       "      <td>83b49bb65</td>\n",
       "      <td>newsplus</td>\n",
       "      <td>「いずも」「かが」にF35Bを載せて、南シナ海をウロウロさせるだけで政治的な効果がある。</td>\n",
       "      <td>0</td>\n",
       "      <td>False</td>\n",
       "    </tr>\n",
       "    <tr>\n",
       "      <th>29</th>\n",
       "      <td>725f8c3c8</td>\n",
       "      <td>newsplus</td>\n",
       "      <td>いい画像だと思ったので保存したつもりだったんだけどね\\nどうもしてなかったっぽいわ。残念\\n...</td>\n",
       "      <td>0</td>\n",
       "      <td>False</td>\n",
       "    </tr>\n",
       "    <tr>\n",
       "      <th>30</th>\n",
       "      <td>76e64a693</td>\n",
       "      <td>news4vip</td>\n",
       "      <td>男が存在するのは女性差別だ\\n女性が真に自立した社会を築くためには、男共を皆殺しにしなければ...</td>\n",
       "      <td>1</td>\n",
       "      <td>False</td>\n",
       "    </tr>\n",
       "    <tr>\n",
       "      <th>31</th>\n",
       "      <td>a04b3b286</td>\n",
       "      <td>newsplus</td>\n",
       "      <td>この頓珍漢な感覚だよ、キチガイイスラムの嫌われるところはさｗｗｗ\\n\\nまあキチガイだから気...</td>\n",
       "      <td>1</td>\n",
       "      <td>False</td>\n",
       "    </tr>\n",
       "    <tr>\n",
       "      <th>32</th>\n",
       "      <td>dd77cfa39</td>\n",
       "      <td>news4vip</td>\n",
       "      <td>女に家事をさせるのはいじめじゃない\\nボケ防止だ\\n家事ができない女は劣化が速い\\n男は家事...</td>\n",
       "      <td>1</td>\n",
       "      <td>False</td>\n",
       "    </tr>\n",
       "    <tr>\n",
       "      <th>33</th>\n",
       "      <td>5d9f32375</td>\n",
       "      <td>news4vip</td>\n",
       "      <td>何で害国人の為に外面ばかり気にしなきゃいけないの？\\n在日帰化の犯罪者とか印象全て最低最悪\\...</td>\n",
       "      <td>1</td>\n",
       "      <td>False</td>\n",
       "    </tr>\n",
       "    <tr>\n",
       "      <th>34</th>\n",
       "      <td>2023c2f03</td>\n",
       "      <td>livejupiter</td>\n",
       "      <td>女に人権与えるからイッチ見たいな化け物が生まれるんだ\\n黙って犯されろヤレる若い女以外女に存...</td>\n",
       "      <td>1</td>\n",
       "      <td>True</td>\n",
       "    </tr>\n",
       "    <tr>\n",
       "      <th>35</th>\n",
       "      <td>1c61297d3</td>\n",
       "      <td>newsplus</td>\n",
       "      <td>なーるほど、これが難民による経済の活性化ってやつかｗ</td>\n",
       "      <td>0</td>\n",
       "      <td>False</td>\n",
       "    </tr>\n",
       "    <tr>\n",
       "      <th>36</th>\n",
       "      <td>4c3653028</td>\n",
       "      <td>livejupiter</td>\n",
       "      <td>あぁ～^いいっすねー</td>\n",
       "      <td>0</td>\n",
       "      <td>False</td>\n",
       "    </tr>\n",
       "    <tr>\n",
       "      <th>37</th>\n",
       "      <td>e94317309</td>\n",
       "      <td>news4vip</td>\n",
       "      <td>財産目的や、育児拒否による殺害。\\n女の理由は自分の責任をとりたくないから人を殺す理由が沢山だね</td>\n",
       "      <td>1</td>\n",
       "      <td>False</td>\n",
       "    </tr>\n",
       "    <tr>\n",
       "      <th>38</th>\n",
       "      <td>6d7473f0a</td>\n",
       "      <td>news4vip</td>\n",
       "      <td>汚いんだよ\\n今の日本人男なんかぜんぶオカマの癖に</td>\n",
       "      <td>1</td>\n",
       "      <td>False</td>\n",
       "    </tr>\n",
       "    <tr>\n",
       "      <th>39</th>\n",
       "      <td>771ca6319</td>\n",
       "      <td>livejupiter</td>\n",
       "      <td>韓国は高校球児が2400人程度しかいないから、中学の段階で相当ふるい落とされてるはず</td>\n",
       "      <td>0</td>\n",
       "      <td>False</td>\n",
       "    </tr>\n",
       "  </tbody>\n",
       "</table>\n",
       "</div>"
      ],
      "text/plain": [
       "           id       source                                               text  \\\n",
       "0   2c37f3740     newsplus                        芸スポにも人来とくれよ\\nスポーツなのに人少ないんすよ   \n",
       "1   58a409435     newsplus         12万人のデモが何故か独り歩きして世界をめぐる\\n慰安婦報道みたいな様相を呈してきた   \n",
       "2   0ab60cba6     news4vip             年配の方だと、高いホテルでディナーやサービスを楽しむっていう旅行があるんだよ   \n",
       "3   73ab69b4e     news4vip     税金バカ食いしてんのはニートじゃなくて障害者とナマポだろ\\nそんな事も分からんほどアホなのか   \n",
       "4   ed881a220     newsplus  パヨクっつーか、やべー奴のツイやインスタのイメージ\\n\\nツイでこのタグの量はだいたい面倒くさいの   \n",
       "5   1705de345  livejupiter  ネガニキの言ってた事全部あてずっぽうやったやんけ\\n筒香はＨＲ狙って力み過ぎ、このまま冷凍さ...   \n",
       "6   9859c3a77     news4vip                           政治家と老害と寄生虫ナマポ外国人抹殺せなアカンな   \n",
       "7   96c1e632a  livejupiter              あ、近縁の奴に、なのね\\nほえー詳しく説明してもらえるのは聞いてて楽しいな   \n",
       "8   baa609561     newsplus  内田て山口組て聞いたけど分裂したじゃん\\nだからただの山口抗争を都知事選でやってんじゃないか...   \n",
       "9   1c945b582     newsplus                                韓国に○○マンシップを求めても無駄では   \n",
       "10  8374634e6     news4vip                         そうなんだ\\n有難う\\n五千円あるし行ってみようかな   \n",
       "11  6944a9117     news4vip  日本人の女は退化して産むのに適さない体になってきてる\\n無理なダイエットのせいで骨盤小さい女...   \n",
       "12  45e464ca8  livejupiter                            もうそういうのいいから、さっさと消えろ朝賤人。   \n",
       "13  689a1b05b  livejupiter                20/60/10/110で回してて資材溶けたけど、これならイケそうだゾ   \n",
       "14  b5d99744d     news4vip  もうちょっと頭使って問題考えろよｗｗ\\n問いにすらなってないじゃん\\n同意もとめてるだけじゃんそれ   \n",
       "15  b4e72c675     news4vip   同性愛は男でも女でも虫酸が走る\\n単に本能が潰れている病人が何が人権やねん\\n精神科に行けや!!   \n",
       "16  010899516     news4vip  お前らとしてはあれか障害者は皆楽に逝かせてやったらいいという考えか\\n\\n結構えぐいなせめて...   \n",
       "17  8512413ff     newsplus                                       お前が市ねよチョンwww   \n",
       "18  d21da876c  livejupiter                               在日が蔓延って日本はおかしくなってるよな   \n",
       "19  690410f11     newsplus  「ニダえもーん、百田って奴をやっつけたいんだ」\\n「もうファビョ太君はしょうがないな～『デマ...   \n",
       "20  b40787c96     news4vip            女を弱者扱いするから奢ったりするって話で\\n男の弱者はただの仕事できない人だよ   \n",
       "21  62e00249a     newsplus  雇う側も同じ穴の貉のとこが採用するんじゃねｗ\\nだから朝日新聞やテレビ局への就職が出来て、一...   \n",
       "22  453af224c     newsplus  これでのことをしてもホモ方に批判がないところを見ると、\\n情報操作とホモ自体が強いんだな。Ｌ...   \n",
       "23  ea796be5a  livejupiter  日本は朝鮮人はホロコーストするべきだった\\n朝鮮併合とかいう暴挙\\n大陸に投じた費用は北海道...   \n",
       "24  48ab007e0     newsplus  靖国の爆破テロがあったばかりだからそれ以外に考えられんよな\\n日本の世論が朝鮮人を殺す必要を...   \n",
       "25  5fa81a2e9     news4vip                               在日は一体何世代まで日本に居る気なんだ？   \n",
       "26  fd5457b5f  livejupiter                                        許してクレメンス・・・   \n",
       "27  942ce811a  livejupiter        流石にそこまであったらダイエー側の立場なくなるやろからないんやないかな、と邪推してみる   \n",
       "28  83b49bb65     newsplus       「いずも」「かが」にF35Bを載せて、南シナ海をウロウロさせるだけで政治的な効果がある。   \n",
       "29  725f8c3c8     newsplus  いい画像だと思ったので保存したつもりだったんだけどね\\nどうもしてなかったっぽいわ。残念\\n...   \n",
       "30  76e64a693     news4vip  男が存在するのは女性差別だ\\n女性が真に自立した社会を築くためには、男共を皆殺しにしなければ...   \n",
       "31  a04b3b286     newsplus  この頓珍漢な感覚だよ、キチガイイスラムの嫌われるところはさｗｗｗ\\n\\nまあキチガイだから気...   \n",
       "32  dd77cfa39     news4vip  女に家事をさせるのはいじめじゃない\\nボケ防止だ\\n家事ができない女は劣化が速い\\n男は家事...   \n",
       "33  5d9f32375     news4vip  何で害国人の為に外面ばかり気にしなきゃいけないの？\\n在日帰化の犯罪者とか印象全て最低最悪\\...   \n",
       "34  2023c2f03  livejupiter  女に人権与えるからイッチ見たいな化け物が生まれるんだ\\n黙って犯されろヤレる若い女以外女に存...   \n",
       "35  1c61297d3     newsplus                         なーるほど、これが難民による経済の活性化ってやつかｗ   \n",
       "36  4c3653028  livejupiter                                         あぁ～^いいっすねー   \n",
       "37  e94317309     news4vip   財産目的や、育児拒否による殺害。\\n女の理由は自分の責任をとりたくないから人を殺す理由が沢山だね   \n",
       "38  6d7473f0a     news4vip                          汚いんだよ\\n今の日本人男なんかぜんぶオカマの癖に   \n",
       "39  771ca6319  livejupiter         韓国は高校球児が2400人程度しかいないから、中学の段階で相当ふるい落とされてるはず   \n",
       "\n",
       "    label  hatespeech  \n",
       "0       0       False  \n",
       "1       0       False  \n",
       "2       0       False  \n",
       "3       1       False  \n",
       "4       0       False  \n",
       "5       0       False  \n",
       "6       1        True  \n",
       "7       0       False  \n",
       "8       0       False  \n",
       "9       1       False  \n",
       "10      0       False  \n",
       "11      1       False  \n",
       "12      1        True  \n",
       "13      0       False  \n",
       "14      0       False  \n",
       "15      1       False  \n",
       "16      0       False  \n",
       "17      1       False  \n",
       "18      1       False  \n",
       "19      0        True  \n",
       "20      1       False  \n",
       "21      0       False  \n",
       "22      1       False  \n",
       "23      1       False  \n",
       "24      1       False  \n",
       "25      1       False  \n",
       "26      0       False  \n",
       "27      0       False  \n",
       "28      0       False  \n",
       "29      0       False  \n",
       "30      1       False  \n",
       "31      1       False  \n",
       "32      1       False  \n",
       "33      1       False  \n",
       "34      1        True  \n",
       "35      0       False  \n",
       "36      0       False  \n",
       "37      1       False  \n",
       "38      1       False  \n",
       "39      0       False  "
      ]
     },
     "execution_count": 104,
     "metadata": {},
     "output_type": "execute_result"
    }
   ],
   "source": [
    "df_sampe['hatespeech'] = judges\n",
    "df_sampe"
   ]
  },
  {
   "cell_type": "code",
   "execution_count": 113,
   "id": "4334927b",
   "metadata": {},
   "outputs": [
    {
     "data": {
      "text/plain": [
       "hatespeech\n",
       "False    36\n",
       "True      4\n",
       "Name: count, dtype: int64"
      ]
     },
     "execution_count": 113,
     "metadata": {},
     "output_type": "execute_result"
    }
   ],
   "source": [
    "df_sampe['hatespeech'].value_counts()"
   ]
  },
  {
   "cell_type": "code",
   "execution_count": 112,
   "id": "80b20e80",
   "metadata": {},
   "outputs": [
    {
     "data": {
      "text/html": [
       "<div>\n",
       "<style scoped>\n",
       "    .dataframe tbody tr th:only-of-type {\n",
       "        vertical-align: middle;\n",
       "    }\n",
       "\n",
       "    .dataframe tbody tr th {\n",
       "        vertical-align: top;\n",
       "    }\n",
       "\n",
       "    .dataframe thead th {\n",
       "        text-align: right;\n",
       "    }\n",
       "</style>\n",
       "<table border=\"1\" class=\"dataframe\">\n",
       "  <thead>\n",
       "    <tr style=\"text-align: right;\">\n",
       "      <th>hatespeech</th>\n",
       "      <th>False</th>\n",
       "      <th>True</th>\n",
       "      <th>All</th>\n",
       "    </tr>\n",
       "    <tr>\n",
       "      <th>label</th>\n",
       "      <th></th>\n",
       "      <th></th>\n",
       "      <th></th>\n",
       "    </tr>\n",
       "  </thead>\n",
       "  <tbody>\n",
       "    <tr>\n",
       "      <th>0</th>\n",
       "      <td>19</td>\n",
       "      <td>1</td>\n",
       "      <td>20</td>\n",
       "    </tr>\n",
       "    <tr>\n",
       "      <th>1</th>\n",
       "      <td>17</td>\n",
       "      <td>3</td>\n",
       "      <td>20</td>\n",
       "    </tr>\n",
       "    <tr>\n",
       "      <th>All</th>\n",
       "      <td>36</td>\n",
       "      <td>4</td>\n",
       "      <td>40</td>\n",
       "    </tr>\n",
       "  </tbody>\n",
       "</table>\n",
       "</div>"
      ],
      "text/plain": [
       "hatespeech  False  True  All\n",
       "label                       \n",
       "0              19     1   20\n",
       "1              17     3   20\n",
       "All            36     4   40"
      ]
     },
     "execution_count": 112,
     "metadata": {},
     "output_type": "execute_result"
    }
   ],
   "source": [
    "pd.crosstab(df_sampe['label'], df_sampe['hatespeech'], margins=True)"
   ]
  },
  {
   "cell_type": "code",
   "execution_count": 108,
   "id": "73a5924a",
   "metadata": {},
   "outputs": [
    {
     "data": {
      "text/plain": [
       "0.25"
      ]
     },
     "execution_count": 108,
     "metadata": {},
     "output_type": "execute_result"
    }
   ],
   "source": [
    "f1_score(y_true=df_sampe['label'], y_pred=df_sampe['hatespeech'])"
   ]
  },
  {
   "cell_type": "code",
   "execution_count": 110,
   "id": "f61c6c4e",
   "metadata": {},
   "outputs": [
    {
     "data": {
      "text/plain": [
       "0.55"
      ]
     },
     "execution_count": 110,
     "metadata": {},
     "output_type": "execute_result"
    }
   ],
   "source": [
    "accuracy_score(y_true=df_sampe['label'], y_pred=df_sampe['hatespeech'])"
   ]
  },
  {
   "cell_type": "code",
   "execution_count": null,
   "id": "6d2d067d",
   "metadata": {},
   "outputs": [],
   "source": []
  }
 ],
 "metadata": {
  "kernelspec": {
   "display_name": "Python 3 (ipykernel)",
   "language": "python",
   "name": "python3"
  },
  "language_info": {
   "codemirror_mode": {
    "name": "ipython",
    "version": 3
   },
   "file_extension": ".py",
   "mimetype": "text/x-python",
   "name": "python",
   "nbconvert_exporter": "python",
   "pygments_lexer": "ipython3",
   "version": "3.10.12"
  }
 },
 "nbformat": 4,
 "nbformat_minor": 5
}
