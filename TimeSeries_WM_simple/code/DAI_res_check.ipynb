{
 "cells": [
  {
   "cell_type": "code",
   "execution_count": null,
   "id": "96f4a5df-e3b7-40dc-8035-726e02d6f07c",
   "metadata": {},
   "outputs": [],
   "source": []
  },
  {
   "cell_type": "code",
   "execution_count": 6,
   "id": "d3856376-91c5-422b-90cf-e7daf110c4a4",
   "metadata": {},
   "outputs": [],
   "source": [
    "import pandas as pd\n",
    "from sklearn.metrics import root_mean_squared_error"
   ]
  },
  {
   "cell_type": "code",
   "execution_count": 3,
   "id": "22b21bc7-3184-4205-b90d-37126154837a",
   "metadata": {},
   "outputs": [
    {
     "name": "stdout",
     "output_type": "stream",
     "text": [
      "\u001b[34mdefault\u001b[m\u001b[m      \u001b[34mno_covariate\u001b[m\u001b[m\n"
     ]
    }
   ],
   "source": [
    "!ls ../DAI_results"
   ]
  },
  {
   "cell_type": "code",
   "execution_count": 4,
   "id": "2f85be7f-bc07-4cde-9630-a2bfee6a2e7a",
   "metadata": {},
   "outputs": [
    {
     "name": "stdout",
     "output_type": "stream",
     "text": [
      "h2oai_experiment_wm-default-AllCovariate_custom_dataset_walmart_ts_6_fcst_grp_test_csv_predictions.csv\n",
      "h2oai_experiment_wm-default-AllCovariate_custom_dataset_walmart_ts_6_fcst_grp_train_csv_predictions.csv\n",
      "report_wm-default-AllCovariate_cf326492-f3f4-11ef-a69c-4e030d02e593.docx\n"
     ]
    }
   ],
   "source": [
    "!ls ../DAI_results/default"
   ]
  },
  {
   "cell_type": "markdown",
   "id": "1b44983f-4707-49c5-816a-d3aca76e287b",
   "metadata": {},
   "source": [
    "## default（説明変数あり）モデル"
   ]
  },
  {
   "cell_type": "code",
   "execution_count": 5,
   "id": "7a07e75f-1150-4347-9abe-d7a87682710f",
   "metadata": {},
   "outputs": [
    {
     "name": "stdout",
     "output_type": "stream",
     "text": [
      "(36, 13)\n"
     ]
    },
    {
     "data": {
      "text/html": [
       "<div>\n",
       "<style scoped>\n",
       "    .dataframe tbody tr th:only-of-type {\n",
       "        vertical-align: middle;\n",
       "    }\n",
       "\n",
       "    .dataframe tbody tr th {\n",
       "        vertical-align: top;\n",
       "    }\n",
       "\n",
       "    .dataframe thead th {\n",
       "        text-align: right;\n",
       "    }\n",
       "</style>\n",
       "<table border=\"1\" class=\"dataframe\">\n",
       "  <thead>\n",
       "    <tr style=\"text-align: right;\">\n",
       "      <th></th>\n",
       "      <th>Store</th>\n",
       "      <th>Dept</th>\n",
       "      <th>Date</th>\n",
       "      <th>Weekly_Sales</th>\n",
       "      <th>MarkDown1</th>\n",
       "      <th>MarkDown2</th>\n",
       "      <th>MarkDown3</th>\n",
       "      <th>MarkDown4</th>\n",
       "      <th>MarkDown5</th>\n",
       "      <th>IsHoliday</th>\n",
       "      <th>Weekly_Sales.predicted</th>\n",
       "      <th>Weekly_Sales.predicted.lower</th>\n",
       "      <th>Weekly_Sales.predicted.upper</th>\n",
       "    </tr>\n",
       "  </thead>\n",
       "  <tbody>\n",
       "    <tr>\n",
       "      <th>0</th>\n",
       "      <td>4</td>\n",
       "      <td>4</td>\n",
       "      <td>2012/5/4</td>\n",
       "      <td>60576.41</td>\n",
       "      <td>13737.91</td>\n",
       "      <td>-1.0</td>\n",
       "      <td>93.65</td>\n",
       "      <td>6993.97</td>\n",
       "      <td>4541.89</td>\n",
       "      <td>0</td>\n",
       "      <td>64236.560</td>\n",
       "      <td>60506.876338</td>\n",
       "      <td>68422.083109</td>\n",
       "    </tr>\n",
       "    <tr>\n",
       "      <th>1</th>\n",
       "      <td>4</td>\n",
       "      <td>4</td>\n",
       "      <td>2012/5/11</td>\n",
       "      <td>57583.94</td>\n",
       "      <td>20499.88</td>\n",
       "      <td>86.0</td>\n",
       "      <td>103.05</td>\n",
       "      <td>5005.96</td>\n",
       "      <td>3815.16</td>\n",
       "      <td>0</td>\n",
       "      <td>58848.812</td>\n",
       "      <td>55119.130244</td>\n",
       "      <td>63034.337015</td>\n",
       "    </tr>\n",
       "    <tr>\n",
       "      <th>2</th>\n",
       "      <td>4</td>\n",
       "      <td>4</td>\n",
       "      <td>2012/5/18</td>\n",
       "      <td>60832.91</td>\n",
       "      <td>6531.12</td>\n",
       "      <td>-1.0</td>\n",
       "      <td>99.91</td>\n",
       "      <td>2290.18</td>\n",
       "      <td>2521.84</td>\n",
       "      <td>0</td>\n",
       "      <td>61754.523</td>\n",
       "      <td>58024.841182</td>\n",
       "      <td>65940.047952</td>\n",
       "    </tr>\n",
       "    <tr>\n",
       "      <th>3</th>\n",
       "      <td>4</td>\n",
       "      <td>4</td>\n",
       "      <td>2012/5/25</td>\n",
       "      <td>57781.87</td>\n",
       "      <td>4330.02</td>\n",
       "      <td>436.0</td>\n",
       "      <td>862.31</td>\n",
       "      <td>3268.41</td>\n",
       "      <td>3749.53</td>\n",
       "      <td>0</td>\n",
       "      <td>58100.695</td>\n",
       "      <td>54371.013057</td>\n",
       "      <td>62286.219827</td>\n",
       "    </tr>\n",
       "    <tr>\n",
       "      <th>4</th>\n",
       "      <td>4</td>\n",
       "      <td>4</td>\n",
       "      <td>2012/6/1</td>\n",
       "      <td>62758.52</td>\n",
       "      <td>10165.22</td>\n",
       "      <td>8.6</td>\n",
       "      <td>47.93</td>\n",
       "      <td>2676.33</td>\n",
       "      <td>4896.34</td>\n",
       "      <td>0</td>\n",
       "      <td>62079.150</td>\n",
       "      <td>58349.466182</td>\n",
       "      <td>66264.672952</td>\n",
       "    </tr>\n",
       "  </tbody>\n",
       "</table>\n",
       "</div>"
      ],
      "text/plain": [
       "   Store  Dept       Date  Weekly_Sales  MarkDown1  MarkDown2  MarkDown3  \\\n",
       "0      4     4   2012/5/4      60576.41   13737.91       -1.0      93.65   \n",
       "1      4     4  2012/5/11      57583.94   20499.88       86.0     103.05   \n",
       "2      4     4  2012/5/18      60832.91    6531.12       -1.0      99.91   \n",
       "3      4     4  2012/5/25      57781.87    4330.02      436.0     862.31   \n",
       "4      4     4   2012/6/1      62758.52   10165.22        8.6      47.93   \n",
       "\n",
       "   MarkDown4  MarkDown5  IsHoliday  Weekly_Sales.predicted  \\\n",
       "0    6993.97    4541.89          0               64236.560   \n",
       "1    5005.96    3815.16          0               58848.812   \n",
       "2    2290.18    2521.84          0               61754.523   \n",
       "3    3268.41    3749.53          0               58100.695   \n",
       "4    2676.33    4896.34          0               62079.150   \n",
       "\n",
       "   Weekly_Sales.predicted.lower  Weekly_Sales.predicted.upper  \n",
       "0                  60506.876338                  68422.083109  \n",
       "1                  55119.130244                  63034.337015  \n",
       "2                  58024.841182                  65940.047952  \n",
       "3                  54371.013057                  62286.219827  \n",
       "4                  58349.466182                  66264.672952  "
      ]
     },
     "execution_count": 5,
     "metadata": {},
     "output_type": "execute_result"
    }
   ],
   "source": [
    "df_test_res_all = pd.read_csv('../DAI_results/default/h2oai_experiment_wm-default-AllCovariate_custom_dataset_walmart_ts_6_fcst_grp_test_csv_predictions.csv')\n",
    "print(df_test_res_all.shape)\n",
    "df_test_res_all.head()"
   ]
  },
  {
   "cell_type": "code",
   "execution_count": 7,
   "id": "4a912eec-fd10-4faf-b5b1-2e153e1164e7",
   "metadata": {},
   "outputs": [
    {
     "data": {
      "text/plain": [
       "1706.2886266681744"
      ]
     },
     "execution_count": 7,
     "metadata": {},
     "output_type": "execute_result"
    }
   ],
   "source": [
    "# 全体\n",
    "root_mean_squared_error(y_true=df_test_res_all['Weekly_Sales'], y_pred=df_test_res_all['Weekly_Sales.predicted'])"
   ]
  },
  {
   "cell_type": "code",
   "execution_count": 32,
   "id": "426c56f4-63d9-44d0-a5e7-5907657aefba",
   "metadata": {},
   "outputs": [
    {
     "name": "stderr",
     "output_type": "stream",
     "text": [
      "/var/folders/50/glkvvhjx03g22fwy2r0tgylr0000gn/T/ipykernel_20696/2206236473.py:1: DeprecationWarning: DataFrameGroupBy.apply operated on the grouping columns. This behavior is deprecated, and in a future version of pandas the grouping columns will be excluded from the operation. Either pass `include_groups=False` to exclude the groupings or explicitly select the grouping columns after groupby to silence this warning.\n",
      "  rmse_by_category = df_test_res_all.groupby(['Store','Dept']).apply(lambda g: root_mean_squared_error(g['Weekly_Sales'], g['Weekly_Sales.predicted']))\n"
     ]
    },
    {
     "data": {
      "text/html": [
       "<div>\n",
       "<style scoped>\n",
       "    .dataframe tbody tr th:only-of-type {\n",
       "        vertical-align: middle;\n",
       "    }\n",
       "\n",
       "    .dataframe tbody tr th {\n",
       "        vertical-align: top;\n",
       "    }\n",
       "\n",
       "    .dataframe thead th {\n",
       "        text-align: right;\n",
       "    }\n",
       "</style>\n",
       "<table border=\"1\" class=\"dataframe\">\n",
       "  <thead>\n",
       "    <tr style=\"text-align: right;\">\n",
       "      <th></th>\n",
       "      <th>Store</th>\n",
       "      <th>Dept</th>\n",
       "      <th>RMSE</th>\n",
       "    </tr>\n",
       "  </thead>\n",
       "  <tbody>\n",
       "    <tr>\n",
       "      <th>0</th>\n",
       "      <td>1</td>\n",
       "      <td>13</td>\n",
       "      <td>840.577020</td>\n",
       "    </tr>\n",
       "    <tr>\n",
       "      <th>1</th>\n",
       "      <td>4</td>\n",
       "      <td>4</td>\n",
       "      <td>1854.886765</td>\n",
       "    </tr>\n",
       "    <tr>\n",
       "      <th>2</th>\n",
       "      <td>8</td>\n",
       "      <td>13</td>\n",
       "      <td>1311.176632</td>\n",
       "    </tr>\n",
       "    <tr>\n",
       "      <th>3</th>\n",
       "      <td>13</td>\n",
       "      <td>8</td>\n",
       "      <td>1608.097846</td>\n",
       "    </tr>\n",
       "    <tr>\n",
       "      <th>4</th>\n",
       "      <td>19</td>\n",
       "      <td>8</td>\n",
       "      <td>2256.882662</td>\n",
       "    </tr>\n",
       "    <tr>\n",
       "      <th>5</th>\n",
       "      <td>31</td>\n",
       "      <td>13</td>\n",
       "      <td>1980.572755</td>\n",
       "    </tr>\n",
       "  </tbody>\n",
       "</table>\n",
       "</div>"
      ],
      "text/plain": [
       "   Store  Dept         RMSE\n",
       "0      1    13   840.577020\n",
       "1      4     4  1854.886765\n",
       "2      8    13  1311.176632\n",
       "3     13     8  1608.097846\n",
       "4     19     8  2256.882662\n",
       "5     31    13  1980.572755"
      ]
     },
     "execution_count": 32,
     "metadata": {},
     "output_type": "execute_result"
    }
   ],
   "source": [
    "# Store&Dept別\n",
    "rmse_by_category = df_test_res_all.groupby(['Store','Dept']).apply(lambda g: root_mean_squared_error(g['Weekly_Sales'], g['Weekly_Sales.predicted']))\n",
    "rmse_by_category.reset_index(name=\"RMSE\")"
   ]
  },
  {
   "cell_type": "code",
   "execution_count": 33,
   "id": "48054500-da97-4614-a370-e294cdb862af",
   "metadata": {},
   "outputs": [],
   "source": [
    "#df_subset = df_test_res_all[(df_test_res_all['Store']==4) & (df_test_res_all['Dept']==4)]\n",
    "#root_mean_squared_error(y_true=df_subset['Weekly_Sales'], y_pred=df_subset['Weekly_Sales.predicted'])"
   ]
  },
  {
   "cell_type": "markdown",
   "id": "875a8533-c7de-4103-be91-e8fd69dd06af",
   "metadata": {},
   "source": [
    "## no_covariate（説明変数なし）モデル"
   ]
  },
  {
   "cell_type": "code",
   "execution_count": 35,
   "id": "7f73fde3-ab9a-4953-8013-572920d8b052",
   "metadata": {},
   "outputs": [
    {
     "name": "stdout",
     "output_type": "stream",
     "text": [
      "group-metrics-all.csv\n",
      "h2oai_experiment_wm-default-NoCovariate_custom_dataset_walmart_ts_6_fcst_grp_test_csv_predictions.csv\n",
      "h2oai_experiment_wm-default-NoCovariate_custom_dataset_walmart_ts_6_fcst_grp_train_csv_predictions.csv\n",
      "report_wm-default-NoCovariate_ba282500-f3f4-11ef-a69c-4e030d02e593.docx\n"
     ]
    }
   ],
   "source": [
    "!ls ../DAI_results/no_covariate"
   ]
  },
  {
   "cell_type": "code",
   "execution_count": 36,
   "id": "ca83326f-899e-46f5-ba3a-8987a02efd9c",
   "metadata": {},
   "outputs": [
    {
     "name": "stdout",
     "output_type": "stream",
     "text": [
      "(36, 7)\n"
     ]
    },
    {
     "data": {
      "text/html": [
       "<div>\n",
       "<style scoped>\n",
       "    .dataframe tbody tr th:only-of-type {\n",
       "        vertical-align: middle;\n",
       "    }\n",
       "\n",
       "    .dataframe tbody tr th {\n",
       "        vertical-align: top;\n",
       "    }\n",
       "\n",
       "    .dataframe thead th {\n",
       "        text-align: right;\n",
       "    }\n",
       "</style>\n",
       "<table border=\"1\" class=\"dataframe\">\n",
       "  <thead>\n",
       "    <tr style=\"text-align: right;\">\n",
       "      <th></th>\n",
       "      <th>Store</th>\n",
       "      <th>Dept</th>\n",
       "      <th>Date</th>\n",
       "      <th>Weekly_Sales</th>\n",
       "      <th>MarkDown1</th>\n",
       "      <th>MarkDown2</th>\n",
       "      <th>MarkDown3</th>\n",
       "      <th>MarkDown4</th>\n",
       "      <th>MarkDown5</th>\n",
       "      <th>IsHoliday</th>\n",
       "      <th>Weekly_Sales.predicted</th>\n",
       "      <th>Weekly_Sales.predicted.lower</th>\n",
       "      <th>Weekly_Sales.predicted.upper</th>\n",
       "    </tr>\n",
       "  </thead>\n",
       "  <tbody>\n",
       "    <tr>\n",
       "      <th>0</th>\n",
       "      <td>4</td>\n",
       "      <td>4</td>\n",
       "      <td>2012/5/4</td>\n",
       "      <td>60576.41</td>\n",
       "      <td>13737.91</td>\n",
       "      <td>-1.0</td>\n",
       "      <td>93.65</td>\n",
       "      <td>6993.97</td>\n",
       "      <td>4541.89</td>\n",
       "      <td>0</td>\n",
       "      <td>64236.560</td>\n",
       "      <td>60506.876338</td>\n",
       "      <td>68422.083109</td>\n",
       "    </tr>\n",
       "    <tr>\n",
       "      <th>1</th>\n",
       "      <td>4</td>\n",
       "      <td>4</td>\n",
       "      <td>2012/5/11</td>\n",
       "      <td>57583.94</td>\n",
       "      <td>20499.88</td>\n",
       "      <td>86.0</td>\n",
       "      <td>103.05</td>\n",
       "      <td>5005.96</td>\n",
       "      <td>3815.16</td>\n",
       "      <td>0</td>\n",
       "      <td>58848.812</td>\n",
       "      <td>55119.130244</td>\n",
       "      <td>63034.337015</td>\n",
       "    </tr>\n",
       "    <tr>\n",
       "      <th>2</th>\n",
       "      <td>4</td>\n",
       "      <td>4</td>\n",
       "      <td>2012/5/18</td>\n",
       "      <td>60832.91</td>\n",
       "      <td>6531.12</td>\n",
       "      <td>-1.0</td>\n",
       "      <td>99.91</td>\n",
       "      <td>2290.18</td>\n",
       "      <td>2521.84</td>\n",
       "      <td>0</td>\n",
       "      <td>61754.523</td>\n",
       "      <td>58024.841182</td>\n",
       "      <td>65940.047952</td>\n",
       "    </tr>\n",
       "    <tr>\n",
       "      <th>3</th>\n",
       "      <td>4</td>\n",
       "      <td>4</td>\n",
       "      <td>2012/5/25</td>\n",
       "      <td>57781.87</td>\n",
       "      <td>4330.02</td>\n",
       "      <td>436.0</td>\n",
       "      <td>862.31</td>\n",
       "      <td>3268.41</td>\n",
       "      <td>3749.53</td>\n",
       "      <td>0</td>\n",
       "      <td>58100.695</td>\n",
       "      <td>54371.013057</td>\n",
       "      <td>62286.219827</td>\n",
       "    </tr>\n",
       "    <tr>\n",
       "      <th>4</th>\n",
       "      <td>4</td>\n",
       "      <td>4</td>\n",
       "      <td>2012/6/1</td>\n",
       "      <td>62758.52</td>\n",
       "      <td>10165.22</td>\n",
       "      <td>8.6</td>\n",
       "      <td>47.93</td>\n",
       "      <td>2676.33</td>\n",
       "      <td>4896.34</td>\n",
       "      <td>0</td>\n",
       "      <td>62079.150</td>\n",
       "      <td>58349.466182</td>\n",
       "      <td>66264.672952</td>\n",
       "    </tr>\n",
       "  </tbody>\n",
       "</table>\n",
       "</div>"
      ],
      "text/plain": [
       "   Store  Dept       Date  Weekly_Sales  MarkDown1  MarkDown2  MarkDown3  \\\n",
       "0      4     4   2012/5/4      60576.41   13737.91       -1.0      93.65   \n",
       "1      4     4  2012/5/11      57583.94   20499.88       86.0     103.05   \n",
       "2      4     4  2012/5/18      60832.91    6531.12       -1.0      99.91   \n",
       "3      4     4  2012/5/25      57781.87    4330.02      436.0     862.31   \n",
       "4      4     4   2012/6/1      62758.52   10165.22        8.6      47.93   \n",
       "\n",
       "   MarkDown4  MarkDown5  IsHoliday  Weekly_Sales.predicted  \\\n",
       "0    6993.97    4541.89          0               64236.560   \n",
       "1    5005.96    3815.16          0               58848.812   \n",
       "2    2290.18    2521.84          0               61754.523   \n",
       "3    3268.41    3749.53          0               58100.695   \n",
       "4    2676.33    4896.34          0               62079.150   \n",
       "\n",
       "   Weekly_Sales.predicted.lower  Weekly_Sales.predicted.upper  \n",
       "0                  60506.876338                  68422.083109  \n",
       "1                  55119.130244                  63034.337015  \n",
       "2                  58024.841182                  65940.047952  \n",
       "3                  54371.013057                  62286.219827  \n",
       "4                  58349.466182                  66264.672952  "
      ]
     },
     "execution_count": 36,
     "metadata": {},
     "output_type": "execute_result"
    }
   ],
   "source": [
    "df_test_res_no = pd.read_csv('../DAI_results/no_covariate/h2oai_experiment_wm-default-NoCovariate_custom_dataset_walmart_ts_6_fcst_grp_test_csv_predictions.csv')\n",
    "print(df_test_res_no.shape)\n",
    "df_test_res_no.head()"
   ]
  },
  {
   "cell_type": "code",
   "execution_count": 37,
   "id": "c404b473-3d39-4c1d-8f9d-42e5c8c5fa3c",
   "metadata": {},
   "outputs": [
    {
     "data": {
      "text/plain": [
       "1687.6772661512641"
      ]
     },
     "execution_count": 37,
     "metadata": {},
     "output_type": "execute_result"
    }
   ],
   "source": [
    "# 全体\n",
    "root_mean_squared_error(y_true=df_test_res_no['Weekly_Sales'], y_pred=df_test_res_no['Weekly_Sales.predicted'])"
   ]
  },
  {
   "cell_type": "code",
   "execution_count": 39,
   "id": "458c690c-0590-4b36-bf03-f9a69e3b5609",
   "metadata": {},
   "outputs": [
    {
     "name": "stderr",
     "output_type": "stream",
     "text": [
      "/var/folders/50/glkvvhjx03g22fwy2r0tgylr0000gn/T/ipykernel_20696/3518216475.py:2: DeprecationWarning: DataFrameGroupBy.apply operated on the grouping columns. This behavior is deprecated, and in a future version of pandas the grouping columns will be excluded from the operation. Either pass `include_groups=False` to exclude the groupings or explicitly select the grouping columns after groupby to silence this warning.\n",
      "  rmse_by_category = df_test_res_no.groupby(['Store','Dept']).apply(lambda g: root_mean_squared_error(g['Weekly_Sales'], g['Weekly_Sales.predicted']))\n"
     ]
    },
    {
     "data": {
      "text/html": [
       "<div>\n",
       "<style scoped>\n",
       "    .dataframe tbody tr th:only-of-type {\n",
       "        vertical-align: middle;\n",
       "    }\n",
       "\n",
       "    .dataframe tbody tr th {\n",
       "        vertical-align: top;\n",
       "    }\n",
       "\n",
       "    .dataframe thead th {\n",
       "        text-align: right;\n",
       "    }\n",
       "</style>\n",
       "<table border=\"1\" class=\"dataframe\">\n",
       "  <thead>\n",
       "    <tr style=\"text-align: right;\">\n",
       "      <th></th>\n",
       "      <th>Store</th>\n",
       "      <th>Dept</th>\n",
       "      <th>RMSE</th>\n",
       "    </tr>\n",
       "  </thead>\n",
       "  <tbody>\n",
       "    <tr>\n",
       "      <th>0</th>\n",
       "      <td>1</td>\n",
       "      <td>13</td>\n",
       "      <td>1028.869292</td>\n",
       "    </tr>\n",
       "    <tr>\n",
       "      <th>1</th>\n",
       "      <td>4</td>\n",
       "      <td>4</td>\n",
       "      <td>2448.057286</td>\n",
       "    </tr>\n",
       "    <tr>\n",
       "      <th>2</th>\n",
       "      <td>8</td>\n",
       "      <td>13</td>\n",
       "      <td>1146.551380</td>\n",
       "    </tr>\n",
       "    <tr>\n",
       "      <th>3</th>\n",
       "      <td>13</td>\n",
       "      <td>8</td>\n",
       "      <td>1393.910719</td>\n",
       "    </tr>\n",
       "    <tr>\n",
       "      <th>4</th>\n",
       "      <td>19</td>\n",
       "      <td>8</td>\n",
       "      <td>1810.387620</td>\n",
       "    </tr>\n",
       "    <tr>\n",
       "      <th>5</th>\n",
       "      <td>31</td>\n",
       "      <td>13</td>\n",
       "      <td>1871.603682</td>\n",
       "    </tr>\n",
       "  </tbody>\n",
       "</table>\n",
       "</div>"
      ],
      "text/plain": [
       "   Store  Dept         RMSE\n",
       "0      1    13  1028.869292\n",
       "1      4     4  2448.057286\n",
       "2      8    13  1146.551380\n",
       "3     13     8  1393.910719\n",
       "4     19     8  1810.387620\n",
       "5     31    13  1871.603682"
      ]
     },
     "execution_count": 39,
     "metadata": {},
     "output_type": "execute_result"
    }
   ],
   "source": [
    "# Store&Dept別\n",
    "rmse_by_category = df_test_res_no.groupby(['Store','Dept']).apply(lambda g: root_mean_squared_error(g['Weekly_Sales'], g['Weekly_Sales.predicted']))\n",
    "rmse_by_category_no = rmse_by_category.reset_index(name=\"RMSE\")\n",
    "rmse_by_category_no"
   ]
  },
  {
   "cell_type": "code",
   "execution_count": 40,
   "id": "11b807b0-149f-40e4-b107-0540029a6340",
   "metadata": {},
   "outputs": [
    {
     "data": {
      "text/plain": [
       "1616.5633296408703"
      ]
     },
     "execution_count": 40,
     "metadata": {},
     "output_type": "execute_result"
    }
   ],
   "source": [
    "rmse_by_category_no['RMSE'].mean()"
   ]
  },
  {
   "cell_type": "code",
   "execution_count": null,
   "id": "42bf1966-3e9b-4a65-a27e-9ac6f8897675",
   "metadata": {},
   "outputs": [],
   "source": []
  }
 ],
 "metadata": {
  "kernelspec": {
   "display_name": "Python 3 (ipykernel)",
   "language": "python",
   "name": "python3"
  },
  "language_info": {
   "codemirror_mode": {
    "name": "ipython",
    "version": 3
   },
   "file_extension": ".py",
   "mimetype": "text/x-python",
   "name": "python",
   "nbconvert_exporter": "python",
   "pygments_lexer": "ipython3",
   "version": "3.10.14"
  }
 },
 "nbformat": 4,
 "nbformat_minor": 5
}
