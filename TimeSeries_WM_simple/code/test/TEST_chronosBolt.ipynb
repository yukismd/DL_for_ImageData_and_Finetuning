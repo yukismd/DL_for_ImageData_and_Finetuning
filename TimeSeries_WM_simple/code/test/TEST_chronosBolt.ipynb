{
 "cells": [
  {
   "cell_type": "code",
   "execution_count": null,
   "id": "85dee745-8d63-4e90-a4f8-6454efec2386",
   "metadata": {},
   "outputs": [],
   "source": []
  },
  {
   "cell_type": "code",
   "execution_count": 1,
   "id": "0e840ce6-269d-49bb-b6b5-b929766ab682",
   "metadata": {},
   "outputs": [],
   "source": [
    "from autogluon.timeseries import TimeSeriesDataFrame, TimeSeriesPredictor"
   ]
  },
  {
   "cell_type": "code",
   "execution_count": 2,
   "id": "3354d603-9272-47a4-af1d-6cdc7099d6b1",
   "metadata": {},
   "outputs": [
    {
     "data": {
      "text/html": [
       "<div>\n",
       "<style scoped>\n",
       "    .dataframe tbody tr th:only-of-type {\n",
       "        vertical-align: middle;\n",
       "    }\n",
       "\n",
       "    .dataframe tbody tr th {\n",
       "        vertical-align: top;\n",
       "    }\n",
       "\n",
       "    .dataframe thead th {\n",
       "        text-align: right;\n",
       "    }\n",
       "</style>\n",
       "<table border=\"1\" class=\"dataframe\">\n",
       "  <thead>\n",
       "    <tr style=\"text-align: right;\">\n",
       "      <th></th>\n",
       "      <th></th>\n",
       "      <th>target</th>\n",
       "    </tr>\n",
       "    <tr>\n",
       "      <th>item_id</th>\n",
       "      <th>timestamp</th>\n",
       "      <th></th>\n",
       "    </tr>\n",
       "  </thead>\n",
       "  <tbody>\n",
       "    <tr>\n",
       "      <th rowspan=\"5\" valign=\"top\">T000000</th>\n",
       "      <th>2013-03-10 00:00:00</th>\n",
       "      <td>5207.959961</td>\n",
       "    </tr>\n",
       "    <tr>\n",
       "      <th>2013-03-10 00:30:00</th>\n",
       "      <td>5002.275879</td>\n",
       "    </tr>\n",
       "    <tr>\n",
       "      <th>2013-03-10 01:00:00</th>\n",
       "      <td>4747.569824</td>\n",
       "    </tr>\n",
       "    <tr>\n",
       "      <th>2013-03-10 01:30:00</th>\n",
       "      <td>4544.880859</td>\n",
       "    </tr>\n",
       "    <tr>\n",
       "      <th>2013-03-10 02:00:00</th>\n",
       "      <td>4425.952148</td>\n",
       "    </tr>\n",
       "    <tr>\n",
       "      <th>...</th>\n",
       "      <th>...</th>\n",
       "      <td>...</td>\n",
       "    </tr>\n",
       "    <tr>\n",
       "      <th rowspan=\"5\" valign=\"top\">T000004</th>\n",
       "      <th>2015-02-27 21:30:00</th>\n",
       "      <td>368.948792</td>\n",
       "    </tr>\n",
       "    <tr>\n",
       "      <th>2015-02-27 22:00:00</th>\n",
       "      <td>346.332764</td>\n",
       "    </tr>\n",
       "    <tr>\n",
       "      <th>2015-02-27 22:30:00</th>\n",
       "      <td>327.962677</td>\n",
       "    </tr>\n",
       "    <tr>\n",
       "      <th>2015-02-27 23:00:00</th>\n",
       "      <td>307.481934</td>\n",
       "    </tr>\n",
       "    <tr>\n",
       "      <th>2015-02-27 23:30:00</th>\n",
       "      <td>291.532776</td>\n",
       "    </tr>\n",
       "  </tbody>\n",
       "</table>\n",
       "<p>172800 rows × 1 columns</p>\n",
       "</div>"
      ],
      "text/plain": [
       "                                  target\n",
       "item_id timestamp                       \n",
       "T000000 2013-03-10 00:00:00  5207.959961\n",
       "        2013-03-10 00:30:00  5002.275879\n",
       "        2013-03-10 01:00:00  4747.569824\n",
       "        2013-03-10 01:30:00  4544.880859\n",
       "        2013-03-10 02:00:00  4425.952148\n",
       "...                                  ...\n",
       "T000004 2015-02-27 21:30:00   368.948792\n",
       "        2015-02-27 22:00:00   346.332764\n",
       "        2015-02-27 22:30:00   327.962677\n",
       "        2015-02-27 23:00:00   307.481934\n",
       "        2015-02-27 23:30:00   291.532776\n",
       "\n",
       "[172800 rows x 1 columns]"
      ]
     },
     "execution_count": 2,
     "metadata": {},
     "output_type": "execute_result"
    }
   ],
   "source": [
    "train_data = TimeSeriesDataFrame.from_path( \n",
    "     \"https://autogluon.s3.amazonaws.com/datasets/timeseries/australian_electricity_subset/train.csv\", \n",
    "     id_column=\"item_id\", \n",
    "     timestamp_column=\"timestamp\", \n",
    ")\n",
    "train_data"
   ]
  },
  {
   "cell_type": "code",
   "execution_count": 9,
   "id": "2a5e927a-bf06-4588-8ebd-d246137ee9f0",
   "metadata": {},
   "outputs": [
    {
     "data": {
      "text/html": [
       "<div>\n",
       "<style scoped>\n",
       "    .dataframe tbody tr th:only-of-type {\n",
       "        vertical-align: middle;\n",
       "    }\n",
       "\n",
       "    .dataframe tbody tr th {\n",
       "        vertical-align: top;\n",
       "    }\n",
       "\n",
       "    .dataframe thead th {\n",
       "        text-align: right;\n",
       "    }\n",
       "</style>\n",
       "<table border=\"1\" class=\"dataframe\">\n",
       "  <thead>\n",
       "    <tr style=\"text-align: right;\">\n",
       "      <th></th>\n",
       "      <th>item_id</th>\n",
       "      <th>timestamp</th>\n",
       "      <th>target</th>\n",
       "    </tr>\n",
       "  </thead>\n",
       "  <tbody>\n",
       "    <tr>\n",
       "      <th>0</th>\n",
       "      <td>T000000</td>\n",
       "      <td>2013-03-10 00:00:00</td>\n",
       "      <td>5207.959961</td>\n",
       "    </tr>\n",
       "    <tr>\n",
       "      <th>1</th>\n",
       "      <td>T000000</td>\n",
       "      <td>2013-03-10 00:30:00</td>\n",
       "      <td>5002.275879</td>\n",
       "    </tr>\n",
       "    <tr>\n",
       "      <th>2</th>\n",
       "      <td>T000000</td>\n",
       "      <td>2013-03-10 01:00:00</td>\n",
       "      <td>4747.569824</td>\n",
       "    </tr>\n",
       "    <tr>\n",
       "      <th>3</th>\n",
       "      <td>T000000</td>\n",
       "      <td>2013-03-10 01:30:00</td>\n",
       "      <td>4544.880859</td>\n",
       "    </tr>\n",
       "    <tr>\n",
       "      <th>4</th>\n",
       "      <td>T000000</td>\n",
       "      <td>2013-03-10 02:00:00</td>\n",
       "      <td>4425.952148</td>\n",
       "    </tr>\n",
       "    <tr>\n",
       "      <th>...</th>\n",
       "      <td>...</td>\n",
       "      <td>...</td>\n",
       "      <td>...</td>\n",
       "    </tr>\n",
       "    <tr>\n",
       "      <th>172795</th>\n",
       "      <td>T000004</td>\n",
       "      <td>2015-02-27 21:30:00</td>\n",
       "      <td>368.948792</td>\n",
       "    </tr>\n",
       "    <tr>\n",
       "      <th>172796</th>\n",
       "      <td>T000004</td>\n",
       "      <td>2015-02-27 22:00:00</td>\n",
       "      <td>346.332764</td>\n",
       "    </tr>\n",
       "    <tr>\n",
       "      <th>172797</th>\n",
       "      <td>T000004</td>\n",
       "      <td>2015-02-27 22:30:00</td>\n",
       "      <td>327.962677</td>\n",
       "    </tr>\n",
       "    <tr>\n",
       "      <th>172798</th>\n",
       "      <td>T000004</td>\n",
       "      <td>2015-02-27 23:00:00</td>\n",
       "      <td>307.481934</td>\n",
       "    </tr>\n",
       "    <tr>\n",
       "      <th>172799</th>\n",
       "      <td>T000004</td>\n",
       "      <td>2015-02-27 23:30:00</td>\n",
       "      <td>291.532776</td>\n",
       "    </tr>\n",
       "  </tbody>\n",
       "</table>\n",
       "<p>172800 rows × 3 columns</p>\n",
       "</div>"
      ],
      "text/plain": [
       "        item_id           timestamp       target\n",
       "0       T000000 2013-03-10 00:00:00  5207.959961\n",
       "1       T000000 2013-03-10 00:30:00  5002.275879\n",
       "2       T000000 2013-03-10 01:00:00  4747.569824\n",
       "3       T000000 2013-03-10 01:30:00  4544.880859\n",
       "4       T000000 2013-03-10 02:00:00  4425.952148\n",
       "...         ...                 ...          ...\n",
       "172795  T000004 2015-02-27 21:30:00   368.948792\n",
       "172796  T000004 2015-02-27 22:00:00   346.332764\n",
       "172797  T000004 2015-02-27 22:30:00   327.962677\n",
       "172798  T000004 2015-02-27 23:00:00   307.481934\n",
       "172799  T000004 2015-02-27 23:30:00   291.532776\n",
       "\n",
       "[172800 rows x 3 columns]"
      ]
     },
     "execution_count": 9,
     "metadata": {},
     "output_type": "execute_result"
    }
   ],
   "source": [
    "train_data.to_data_frame().reset_index()"
   ]
  },
  {
   "cell_type": "code",
   "execution_count": 10,
   "id": "c491386f-0f89-4c67-8078-39b0fd031641",
   "metadata": {},
   "outputs": [
    {
     "name": "stdout",
     "output_type": "stream",
     "text": [
      "<class 'pandas.core.frame.DataFrame'>\n",
      "RangeIndex: 172800 entries, 0 to 172799\n",
      "Data columns (total 3 columns):\n",
      " #   Column     Non-Null Count   Dtype         \n",
      "---  ------     --------------   -----         \n",
      " 0   item_id    172800 non-null  object        \n",
      " 1   timestamp  172800 non-null  datetime64[ns]\n",
      " 2   target     172800 non-null  float64       \n",
      "dtypes: datetime64[ns](1), float64(1), object(1)\n",
      "memory usage: 4.0+ MB\n"
     ]
    }
   ],
   "source": [
    "train_data.to_data_frame().reset_index().info()"
   ]
  },
  {
   "cell_type": "code",
   "execution_count": 18,
   "id": "bf814eac-e83f-49df-bd64-65630330eab5",
   "metadata": {},
   "outputs": [
    {
     "data": {
      "text/plain": [
       "(36096, Timestamp('2013-03-10 00:00:00'), Timestamp('2015-03-31 23:30:00'))"
      ]
     },
     "execution_count": 18,
     "metadata": {},
     "output_type": "execute_result"
    }
   ],
   "source": [
    "timestamp = train_data.to_data_frame().reset_index()['timestamp']\n",
    "timestamp.nunique(), timestamp.min(), timestamp.max()"
   ]
  },
  {
   "cell_type": "code",
   "execution_count": 28,
   "id": "bbfc7c86-5851-450d-b014-1da0c9a473c0",
   "metadata": {},
   "outputs": [
    {
     "data": {
      "text/plain": [
       "item_id\n",
       "T000000    34560\n",
       "T000001    34560\n",
       "T000002    34560\n",
       "T000003    34560\n",
       "T000004    34560\n",
       "Name: count, dtype: int64"
      ]
     },
     "execution_count": 28,
     "metadata": {},
     "output_type": "execute_result"
    }
   ],
   "source": [
    "item_id = train_data.to_data_frame().reset_index()['item_id']\n",
    "item_id.value_counts()"
   ]
  },
  {
   "cell_type": "code",
   "execution_count": null,
   "id": "cacb056d-2cdc-49ab-9d92-b67cf396f764",
   "metadata": {},
   "outputs": [],
   "source": []
  },
  {
   "cell_type": "code",
   "execution_count": 3,
   "id": "d472badd-50ea-48b0-b8b3-970bf58457ad",
   "metadata": {},
   "outputs": [
    {
     "name": "stderr",
     "output_type": "stream",
     "text": [
      "Beginning AutoGluon training...\n",
      "AutoGluon will save models to '/Users/YShimada-MBP16/Documents/Code_Github/DL_for_ImageData_and_Finetuning/TimeSeries_WM_simple/code/AutogluonModels/ag-20250226_025742'\n",
      "=================== System Info ===================\n",
      "AutoGluon Version:  1.2\n",
      "Python Version:     3.10.14\n",
      "Operating System:   Darwin\n",
      "Platform Machine:   x86_64\n",
      "Platform Version:   Darwin Kernel Version 24.3.0: Thu Jan  2 20:22:00 PST 2025; root:xnu-11215.81.4~3/RELEASE_X86_64\n",
      "CPU Count:          16\n",
      "GPU Count:          0\n",
      "Memory Avail:       12.88 GB / 32.00 GB (40.3%)\n",
      "Disk Space Avail:   1436.92 GB / 1863.39 GB (77.1%)\n",
      "===================================================\n",
      "Setting presets to: bolt_base\n",
      "\n",
      "Fitting with arguments:\n",
      "{'enable_ensemble': True,\n",
      " 'eval_metric': WQL,\n",
      " 'hyperparameters': {'Chronos': {'model_path': 'bolt_base'}},\n",
      " 'known_covariates_names': [],\n",
      " 'num_val_windows': 1,\n",
      " 'prediction_length': 48,\n",
      " 'quantile_levels': [0.1, 0.2, 0.3, 0.4, 0.5, 0.6, 0.7, 0.8, 0.9],\n",
      " 'random_seed': 123,\n",
      " 'refit_every_n_windows': 1,\n",
      " 'refit_full': False,\n",
      " 'skip_model_selection': True,\n",
      " 'target': 'target',\n",
      " 'verbosity': 2}\n",
      "\n",
      "Inferred time series frequency: '30min'\n",
      "Provided train_data has 172800 rows, 5 time series. Median time series length is 34560 (min=34560, max=34560). \n",
      "\n",
      "Provided data contains following columns:\n",
      "\ttarget: 'target'\n",
      "\n",
      "AutoGluon will gauge predictive performance using evaluation metric: 'WQL'\n",
      "\tThis metric's sign has been flipped to adhere to being higher_is_better. The metric score can be multiplied by -1 to get the metric value.\n",
      "===================================================\n",
      "\n",
      "Starting training. Start time is 2025-02-26 11:57:44\n",
      "Models that will be trained: ['Chronos[bolt_base]']\n",
      "Training timeseries model Chronos[bolt_base]. \n",
      "\t3.86    s     = Training runtime\n",
      "Training complete. Models trained: ['Chronos[bolt_base]']\n",
      "Total runtime: 3.87 s\n",
      "Best model: Chronos[bolt_base]\n"
     ]
    },
    {
     "data": {
      "text/plain": [
       "<autogluon.timeseries.predictor.TimeSeriesPredictor at 0x1412a5150>"
      ]
     },
     "execution_count": 3,
     "metadata": {},
     "output_type": "execute_result"
    }
   ],
   "source": [
    "predictor = TimeSeriesPredictor(prediction_length=48).fit(train_data, presets=\"bolt_base\")\n",
    "predictor"
   ]
  },
  {
   "cell_type": "code",
   "execution_count": 11,
   "id": "e889c4d4-91c7-47f2-97c6-a2d79a79ecac",
   "metadata": {},
   "outputs": [
    {
     "name": "stderr",
     "output_type": "stream",
     "text": [
      "Model not specified in predict, will default to the model with the best validation score: Chronos[bolt_base]\n"
     ]
    },
    {
     "data": {
      "application/vnd.jupyter.widget-view+json": {
       "model_id": "b29c484b8dbf4ebcb0970007bb816805",
       "version_major": 2,
       "version_minor": 0
      },
      "text/plain": [
       "config.json:   0%|          | 0.00/1.12k [00:00<?, ?B/s]"
      ]
     },
     "metadata": {},
     "output_type": "display_data"
    },
    {
     "data": {
      "application/vnd.jupyter.widget-view+json": {
       "model_id": "e31ec8e53b864c3a919c130a3f5a42a8",
       "version_major": 2,
       "version_minor": 0
      },
      "text/plain": [
       "model.safetensors:   0%|          | 0.00/821M [00:00<?, ?B/s]"
      ]
     },
     "metadata": {},
     "output_type": "display_data"
    },
    {
     "data": {
      "text/html": [
       "<div>\n",
       "<style scoped>\n",
       "    .dataframe tbody tr th:only-of-type {\n",
       "        vertical-align: middle;\n",
       "    }\n",
       "\n",
       "    .dataframe tbody tr th {\n",
       "        vertical-align: top;\n",
       "    }\n",
       "\n",
       "    .dataframe thead th {\n",
       "        text-align: right;\n",
       "    }\n",
       "</style>\n",
       "<table border=\"1\" class=\"dataframe\">\n",
       "  <thead>\n",
       "    <tr style=\"text-align: right;\">\n",
       "      <th></th>\n",
       "      <th></th>\n",
       "      <th>mean</th>\n",
       "      <th>0.1</th>\n",
       "      <th>0.2</th>\n",
       "      <th>0.3</th>\n",
       "      <th>0.4</th>\n",
       "      <th>0.5</th>\n",
       "      <th>0.6</th>\n",
       "      <th>0.7</th>\n",
       "      <th>0.8</th>\n",
       "      <th>0.9</th>\n",
       "    </tr>\n",
       "    <tr>\n",
       "      <th>item_id</th>\n",
       "      <th>timestamp</th>\n",
       "      <th></th>\n",
       "      <th></th>\n",
       "      <th></th>\n",
       "      <th></th>\n",
       "      <th></th>\n",
       "      <th></th>\n",
       "      <th></th>\n",
       "      <th></th>\n",
       "      <th></th>\n",
       "      <th></th>\n",
       "    </tr>\n",
       "  </thead>\n",
       "  <tbody>\n",
       "    <tr>\n",
       "      <th rowspan=\"5\" valign=\"top\">T000000</th>\n",
       "      <th>2015-02-28 00:00:00</th>\n",
       "      <td>5353.018555</td>\n",
       "      <td>5166.324707</td>\n",
       "      <td>5234.095215</td>\n",
       "      <td>5279.525391</td>\n",
       "      <td>5316.592285</td>\n",
       "      <td>5353.018555</td>\n",
       "      <td>5386.550293</td>\n",
       "      <td>5421.673828</td>\n",
       "      <td>5463.125977</td>\n",
       "      <td>5538.159668</td>\n",
       "    </tr>\n",
       "    <tr>\n",
       "      <th>2015-02-28 00:30:00</th>\n",
       "      <td>5125.433594</td>\n",
       "      <td>4942.870605</td>\n",
       "      <td>5007.982910</td>\n",
       "      <td>5053.404297</td>\n",
       "      <td>5088.641113</td>\n",
       "      <td>5125.433594</td>\n",
       "      <td>5161.971191</td>\n",
       "      <td>5197.649414</td>\n",
       "      <td>5243.510742</td>\n",
       "      <td>5310.451660</td>\n",
       "    </tr>\n",
       "    <tr>\n",
       "      <th>2015-02-28 01:00:00</th>\n",
       "      <td>4861.613281</td>\n",
       "      <td>4696.759766</td>\n",
       "      <td>4753.370117</td>\n",
       "      <td>4793.965332</td>\n",
       "      <td>4827.861328</td>\n",
       "      <td>4861.613281</td>\n",
       "      <td>4894.874512</td>\n",
       "      <td>4929.119141</td>\n",
       "      <td>4973.809570</td>\n",
       "      <td>5043.156250</td>\n",
       "    </tr>\n",
       "    <tr>\n",
       "      <th>2015-02-28 01:30:00</th>\n",
       "      <td>4663.333984</td>\n",
       "      <td>4515.384766</td>\n",
       "      <td>4564.424805</td>\n",
       "      <td>4602.530762</td>\n",
       "      <td>4631.382324</td>\n",
       "      <td>4663.333984</td>\n",
       "      <td>4693.496094</td>\n",
       "      <td>4724.651367</td>\n",
       "      <td>4764.496582</td>\n",
       "      <td>4830.905762</td>\n",
       "    </tr>\n",
       "    <tr>\n",
       "      <th>2015-02-28 02:00:00</th>\n",
       "      <td>4525.338379</td>\n",
       "      <td>4383.908203</td>\n",
       "      <td>4428.694336</td>\n",
       "      <td>4465.790527</td>\n",
       "      <td>4496.222656</td>\n",
       "      <td>4525.338379</td>\n",
       "      <td>4553.847656</td>\n",
       "      <td>4584.305664</td>\n",
       "      <td>4620.258789</td>\n",
       "      <td>4685.882812</td>\n",
       "    </tr>\n",
       "    <tr>\n",
       "      <th>...</th>\n",
       "      <th>...</th>\n",
       "      <td>...</td>\n",
       "      <td>...</td>\n",
       "      <td>...</td>\n",
       "      <td>...</td>\n",
       "      <td>...</td>\n",
       "      <td>...</td>\n",
       "      <td>...</td>\n",
       "      <td>...</td>\n",
       "      <td>...</td>\n",
       "      <td>...</td>\n",
       "    </tr>\n",
       "    <tr>\n",
       "      <th rowspan=\"5\" valign=\"top\">T000004</th>\n",
       "      <th>2015-02-28 21:30:00</th>\n",
       "      <td>355.918884</td>\n",
       "      <td>323.028198</td>\n",
       "      <td>335.212830</td>\n",
       "      <td>343.315674</td>\n",
       "      <td>350.024231</td>\n",
       "      <td>355.918884</td>\n",
       "      <td>361.456940</td>\n",
       "      <td>367.881165</td>\n",
       "      <td>375.626587</td>\n",
       "      <td>389.085602</td>\n",
       "    </tr>\n",
       "    <tr>\n",
       "      <th>2015-02-28 22:00:00</th>\n",
       "      <td>332.455566</td>\n",
       "      <td>301.766754</td>\n",
       "      <td>313.118439</td>\n",
       "      <td>320.532562</td>\n",
       "      <td>326.792328</td>\n",
       "      <td>332.455566</td>\n",
       "      <td>338.088928</td>\n",
       "      <td>344.221283</td>\n",
       "      <td>351.996765</td>\n",
       "      <td>365.290680</td>\n",
       "    </tr>\n",
       "    <tr>\n",
       "      <th>2015-02-28 22:30:00</th>\n",
       "      <td>311.128113</td>\n",
       "      <td>282.550415</td>\n",
       "      <td>292.758728</td>\n",
       "      <td>299.803345</td>\n",
       "      <td>305.608704</td>\n",
       "      <td>311.128113</td>\n",
       "      <td>316.755371</td>\n",
       "      <td>322.802063</td>\n",
       "      <td>330.706726</td>\n",
       "      <td>343.697083</td>\n",
       "    </tr>\n",
       "    <tr>\n",
       "      <th>2015-02-28 23:00:00</th>\n",
       "      <td>293.524597</td>\n",
       "      <td>266.613251</td>\n",
       "      <td>276.239685</td>\n",
       "      <td>282.733063</td>\n",
       "      <td>288.386780</td>\n",
       "      <td>293.524597</td>\n",
       "      <td>298.901428</td>\n",
       "      <td>304.892334</td>\n",
       "      <td>312.444214</td>\n",
       "      <td>326.051666</td>\n",
       "    </tr>\n",
       "    <tr>\n",
       "      <th>2015-02-28 23:30:00</th>\n",
       "      <td>280.317871</td>\n",
       "      <td>255.334824</td>\n",
       "      <td>263.751526</td>\n",
       "      <td>269.833252</td>\n",
       "      <td>275.223480</td>\n",
       "      <td>280.317871</td>\n",
       "      <td>285.370789</td>\n",
       "      <td>291.183685</td>\n",
       "      <td>299.199310</td>\n",
       "      <td>312.911957</td>\n",
       "    </tr>\n",
       "  </tbody>\n",
       "</table>\n",
       "<p>240 rows × 10 columns</p>\n",
       "</div>"
      ],
      "text/plain": [
       "                                    mean          0.1          0.2  \\\n",
       "item_id timestamp                                                    \n",
       "T000000 2015-02-28 00:00:00  5353.018555  5166.324707  5234.095215   \n",
       "        2015-02-28 00:30:00  5125.433594  4942.870605  5007.982910   \n",
       "        2015-02-28 01:00:00  4861.613281  4696.759766  4753.370117   \n",
       "        2015-02-28 01:30:00  4663.333984  4515.384766  4564.424805   \n",
       "        2015-02-28 02:00:00  4525.338379  4383.908203  4428.694336   \n",
       "...                                  ...          ...          ...   \n",
       "T000004 2015-02-28 21:30:00   355.918884   323.028198   335.212830   \n",
       "        2015-02-28 22:00:00   332.455566   301.766754   313.118439   \n",
       "        2015-02-28 22:30:00   311.128113   282.550415   292.758728   \n",
       "        2015-02-28 23:00:00   293.524597   266.613251   276.239685   \n",
       "        2015-02-28 23:30:00   280.317871   255.334824   263.751526   \n",
       "\n",
       "                                     0.3          0.4          0.5  \\\n",
       "item_id timestamp                                                    \n",
       "T000000 2015-02-28 00:00:00  5279.525391  5316.592285  5353.018555   \n",
       "        2015-02-28 00:30:00  5053.404297  5088.641113  5125.433594   \n",
       "        2015-02-28 01:00:00  4793.965332  4827.861328  4861.613281   \n",
       "        2015-02-28 01:30:00  4602.530762  4631.382324  4663.333984   \n",
       "        2015-02-28 02:00:00  4465.790527  4496.222656  4525.338379   \n",
       "...                                  ...          ...          ...   \n",
       "T000004 2015-02-28 21:30:00   343.315674   350.024231   355.918884   \n",
       "        2015-02-28 22:00:00   320.532562   326.792328   332.455566   \n",
       "        2015-02-28 22:30:00   299.803345   305.608704   311.128113   \n",
       "        2015-02-28 23:00:00   282.733063   288.386780   293.524597   \n",
       "        2015-02-28 23:30:00   269.833252   275.223480   280.317871   \n",
       "\n",
       "                                     0.6          0.7          0.8  \\\n",
       "item_id timestamp                                                    \n",
       "T000000 2015-02-28 00:00:00  5386.550293  5421.673828  5463.125977   \n",
       "        2015-02-28 00:30:00  5161.971191  5197.649414  5243.510742   \n",
       "        2015-02-28 01:00:00  4894.874512  4929.119141  4973.809570   \n",
       "        2015-02-28 01:30:00  4693.496094  4724.651367  4764.496582   \n",
       "        2015-02-28 02:00:00  4553.847656  4584.305664  4620.258789   \n",
       "...                                  ...          ...          ...   \n",
       "T000004 2015-02-28 21:30:00   361.456940   367.881165   375.626587   \n",
       "        2015-02-28 22:00:00   338.088928   344.221283   351.996765   \n",
       "        2015-02-28 22:30:00   316.755371   322.802063   330.706726   \n",
       "        2015-02-28 23:00:00   298.901428   304.892334   312.444214   \n",
       "        2015-02-28 23:30:00   285.370789   291.183685   299.199310   \n",
       "\n",
       "                                     0.9  \n",
       "item_id timestamp                         \n",
       "T000000 2015-02-28 00:00:00  5538.159668  \n",
       "        2015-02-28 00:30:00  5310.451660  \n",
       "        2015-02-28 01:00:00  5043.156250  \n",
       "        2015-02-28 01:30:00  4830.905762  \n",
       "        2015-02-28 02:00:00  4685.882812  \n",
       "...                                  ...  \n",
       "T000004 2015-02-28 21:30:00   389.085602  \n",
       "        2015-02-28 22:00:00   365.290680  \n",
       "        2015-02-28 22:30:00   343.697083  \n",
       "        2015-02-28 23:00:00   326.051666  \n",
       "        2015-02-28 23:30:00   312.911957  \n",
       "\n",
       "[240 rows x 10 columns]"
      ]
     },
     "execution_count": 11,
     "metadata": {},
     "output_type": "execute_result"
    }
   ],
   "source": [
    "predictions = predictor.predict(train_data)\n",
    "predictions"
   ]
  },
  {
   "cell_type": "code",
   "execution_count": 19,
   "id": "0a0cd7aa-043a-4845-9f4c-1e754aeeccf9",
   "metadata": {},
   "outputs": [
    {
     "name": "stdout",
     "output_type": "stream",
     "text": [
      "<class 'pandas.core.frame.DataFrame'>\n",
      "RangeIndex: 240 entries, 0 to 239\n",
      "Data columns (total 12 columns):\n",
      " #   Column     Non-Null Count  Dtype         \n",
      "---  ------     --------------  -----         \n",
      " 0   item_id    240 non-null    object        \n",
      " 1   timestamp  240 non-null    datetime64[ns]\n",
      " 2   mean       240 non-null    float32       \n",
      " 3   0.1        240 non-null    float32       \n",
      " 4   0.2        240 non-null    float32       \n",
      " 5   0.3        240 non-null    float32       \n",
      " 6   0.4        240 non-null    float32       \n",
      " 7   0.5        240 non-null    float32       \n",
      " 8   0.6        240 non-null    float32       \n",
      " 9   0.7        240 non-null    float32       \n",
      " 10  0.8        240 non-null    float32       \n",
      " 11  0.9        240 non-null    float32       \n",
      "dtypes: datetime64[ns](1), float32(10), object(1)\n",
      "memory usage: 13.2+ KB\n"
     ]
    }
   ],
   "source": [
    "predictions.to_data_frame().reset_index().info()"
   ]
  },
  {
   "cell_type": "code",
   "execution_count": 29,
   "id": "ebbbbb1a-45ec-446b-9fec-0de08f421096",
   "metadata": {},
   "outputs": [
    {
     "data": {
      "text/plain": [
       "item_id\n",
       "T000000    48\n",
       "T000001    48\n",
       "T000002    48\n",
       "T000003    48\n",
       "T000004    48\n",
       "Name: count, dtype: int64"
      ]
     },
     "execution_count": 29,
     "metadata": {},
     "output_type": "execute_result"
    }
   ],
   "source": [
    "predictions.to_data_frame().reset_index()['item_id'].value_counts()"
   ]
  },
  {
   "cell_type": "code",
   "execution_count": 21,
   "id": "f93dc94a-ccf6-4fb0-bb41-9c9bcb275a6b",
   "metadata": {},
   "outputs": [
    {
     "data": {
      "text/plain": [
       "(36096, Timestamp('2013-03-10 00:00:00'), Timestamp('2015-03-31 23:30:00'))"
      ]
     },
     "execution_count": 21,
     "metadata": {},
     "output_type": "execute_result"
    }
   ],
   "source": [
    "timestamp.nunique(), timestamp.min(), timestamp.max()"
   ]
  },
  {
   "cell_type": "code",
   "execution_count": 20,
   "id": "6fa65ee2-73bf-495d-bbd5-fca8f1699208",
   "metadata": {},
   "outputs": [
    {
     "data": {
      "text/plain": [
       "(144, Timestamp('2015-02-28 00:00:00'), Timestamp('2015-04-01 23:30:00'))"
      ]
     },
     "execution_count": 20,
     "metadata": {},
     "output_type": "execute_result"
    }
   ],
   "source": [
    "timestamp_pred = predictions.to_data_frame().reset_index()['timestamp']\n",
    "timestamp_pred.nunique(), timestamp_pred.min(), timestamp_pred.max()"
   ]
  },
  {
   "cell_type": "code",
   "execution_count": 22,
   "id": "e97a6ea9-0bd0-4620-91ac-fbe425ee6cf0",
   "metadata": {},
   "outputs": [
    {
     "data": {
      "text/plain": [
       "3.0"
      ]
     },
     "execution_count": 22,
     "metadata": {},
     "output_type": "execute_result"
    }
   ],
   "source": [
    "144/48"
   ]
  },
  {
   "cell_type": "code",
   "execution_count": 24,
   "id": "b6d99718-6bf5-4599-980a-a87c2e62bca0",
   "metadata": {},
   "outputs": [
    {
     "data": {
      "image/png": "[encoded data removed]",
      "text/plain": [
       "<Figure size 2000x350 with 1 Axes>"
      ]
     },
     "execution_count": 24,
     "metadata": {},
     "output_type": "execute_result"
    }
   ],
   "source": [
    "test_data = TimeSeriesDataFrame.from_path( \n",
    "     \"https://autogluon.s3.amazonaws.com/datasets/timeseries/australian_electricity_subset/test.csv\", \n",
    "     id_column=\"item_id\", \n",
    "     timestamp_column=\"timestamp\", )\n",
    "\n",
    "predictor.plot(test_data,predictions,max_history_length=200,item_ids=[\"T000002\"])"
   ]
  },
  {
   "cell_type": "code",
   "execution_count": 26,
   "id": "13c849a1-40e4-4344-92b1-1173387d4ebd",
   "metadata": {},
   "outputs": [
    {
     "data": {
      "text/plain": [
       "(36144, Timestamp('2013-03-10 00:00:00'), Timestamp('2015-04-01 23:30:00'))"
      ]
     },
     "execution_count": 26,
     "metadata": {},
     "output_type": "execute_result"
    }
   ],
   "source": [
    "test_data\n",
    "timestamp_test = test_data.to_data_frame().reset_index()['timestamp']\n",
    "timestamp_test.nunique(), timestamp_test.min(), timestamp_test.max()"
   ]
  },
  {
   "cell_type": "code",
   "execution_count": null,
   "id": "58939108-02dd-4225-b0bb-254a25923283",
   "metadata": {},
   "outputs": [],
   "source": []
  }
 ],
 "metadata": {
  "kernelspec": {
   "display_name": "Python 3 (ipykernel)",
   "language": "python",
   "name": "python3"
  },
  "language_info": {
   "codemirror_mode": {
    "name": "ipython",
    "version": 3
   },
   "file_extension": ".py",
   "mimetype": "text/x-python",
   "name": "python",
   "nbconvert_exporter": "python",
   "pygments_lexer": "ipython3",
   "version": "3.10.14"
  }
 },
 "nbformat": 4,
 "nbformat_minor": 5
}
