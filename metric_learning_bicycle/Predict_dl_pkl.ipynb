{
 "cells": [
  {
   "cell_type": "markdown",
   "id": "39eb9d3e-7418-4eac-be61-26daf8204867",
   "metadata": {},
   "source": [
    "## Hydrogen Torch - Metric Learning Prediction Download File\n",
    "Hydrogen Torchで距離学習モデルを作成。任意のデータに対して予測（Predict）を実施し、結果ファイルをダウンロード"
   ]
  },
  {
   "cell_type": "code",
   "execution_count": 44,
   "id": "68292d43-492d-461d-a231-45d5c18ea188",
   "metadata": {},
   "outputs": [],
   "source": [
    "import pandas as pd\n",
    "import numpy as np"
   ]
  },
  {
   "cell_type": "code",
   "execution_count": 4,
   "id": "5859e94c-ed0f-4526-841c-6cfec728d25c",
   "metadata": {},
   "outputs": [
    {
     "name": "stdout",
     "output_type": "stream",
     "text": [
      "test_predictions.csv     test_raw_predictions.pkl\n"
     ]
    }
   ],
   "source": [
    "!ls prediction/preds_ml-baseline.fold0.predict.1_fold0"
   ]
  },
  {
   "cell_type": "markdown",
   "id": "c11d4554-817b-40e5-8370-b18c021c621b",
   "metadata": {},
   "source": [
    "### csvファイル"
   ]
  },
  {
   "cell_type": "code",
   "execution_count": 13,
   "id": "b60d3e93-3fab-4553-ae81-b79fbb366fd2",
   "metadata": {},
   "outputs": [
    {
     "data": {
      "text/plain": [
       "(1663, 9)"
      ]
     },
     "execution_count": 13,
     "metadata": {},
     "output_type": "execute_result"
    }
   ],
   "source": [
    "df = pd.read_csv('prediction/preds_ml-baseline.fold0.predict.1_fold0/test_predictions.csv')\n",
    "df.shape"
   ]
  },
  {
   "cell_type": "code",
   "execution_count": 14,
   "id": "35a42729-6d52-4fee-93b2-8c9eeb62c8b1",
   "metadata": {},
   "outputs": [
    {
     "data": {
      "text/html": [
       "<div>\n",
       "<style scoped>\n",
       "    .dataframe tbody tr th:only-of-type {\n",
       "        vertical-align: middle;\n",
       "    }\n",
       "\n",
       "    .dataframe tbody tr th {\n",
       "        vertical-align: top;\n",
       "    }\n",
       "\n",
       "    .dataframe thead th {\n",
       "        text-align: right;\n",
       "    }\n",
       "</style>\n",
       "<table border=\"1\" class=\"dataframe\">\n",
       "  <thead>\n",
       "    <tr style=\"text-align: right;\">\n",
       "      <th></th>\n",
       "      <th>image</th>\n",
       "      <th>label</th>\n",
       "      <th>fold</th>\n",
       "      <th>top_1_similar_image</th>\n",
       "      <th>top_1_cosine_similarity</th>\n",
       "      <th>top_2_similar_image</th>\n",
       "      <th>top_2_cosine_similarity</th>\n",
       "      <th>top_3_similar_image</th>\n",
       "      <th>top_3_cosine_similarity</th>\n",
       "    </tr>\n",
       "  </thead>\n",
       "  <tbody>\n",
       "    <tr>\n",
       "      <th>0</th>\n",
       "      <td>151414046745_8.JPG</td>\n",
       "      <td>151414046745</td>\n",
       "      <td>4</td>\n",
       "      <td>151414046745_0.JPG</td>\n",
       "      <td>0.788647</td>\n",
       "      <td>151414046745_2.JPG</td>\n",
       "      <td>0.725330</td>\n",
       "      <td>151414046745_4.JPG</td>\n",
       "      <td>0.689846</td>\n",
       "    </tr>\n",
       "    <tr>\n",
       "      <th>1</th>\n",
       "      <td>251747828037_1.JPG</td>\n",
       "      <td>251747828037</td>\n",
       "      <td>4</td>\n",
       "      <td>251747828037_0.JPG</td>\n",
       "      <td>0.998313</td>\n",
       "      <td>111733238663_1.JPG</td>\n",
       "      <td>0.610985</td>\n",
       "      <td>111733238663_0.JPG</td>\n",
       "      <td>0.610985</td>\n",
       "    </tr>\n",
       "    <tr>\n",
       "      <th>2</th>\n",
       "      <td>400957457012_3.JPG</td>\n",
       "      <td>400957457012</td>\n",
       "      <td>4</td>\n",
       "      <td>400957457012_2.JPG</td>\n",
       "      <td>0.842128</td>\n",
       "      <td>400957457012_11.JPG</td>\n",
       "      <td>0.812825</td>\n",
       "      <td>400957457012_9.JPG</td>\n",
       "      <td>0.772822</td>\n",
       "    </tr>\n",
       "    <tr>\n",
       "      <th>3</th>\n",
       "      <td>111733215174_2.JPG</td>\n",
       "      <td>111733215174</td>\n",
       "      <td>4</td>\n",
       "      <td>111733215174_3.JPG</td>\n",
       "      <td>0.882937</td>\n",
       "      <td>111733215174_4.JPG</td>\n",
       "      <td>0.877927</td>\n",
       "      <td>111733215174_8.JPG</td>\n",
       "      <td>0.744403</td>\n",
       "    </tr>\n",
       "    <tr>\n",
       "      <th>4</th>\n",
       "      <td>131567176523_4.JPG</td>\n",
       "      <td>131567176523</td>\n",
       "      <td>4</td>\n",
       "      <td>131567176523_3.JPG</td>\n",
       "      <td>0.779511</td>\n",
       "      <td>131567176523_2.JPG</td>\n",
       "      <td>0.678530</td>\n",
       "      <td>400965651388_1.JPG</td>\n",
       "      <td>0.668002</td>\n",
       "    </tr>\n",
       "  </tbody>\n",
       "</table>\n",
       "</div>"
      ],
      "text/plain": [
       "                image         label  fold top_1_similar_image  \\\n",
       "0  151414046745_8.JPG  151414046745     4  151414046745_0.JPG   \n",
       "1  251747828037_1.JPG  251747828037     4  251747828037_0.JPG   \n",
       "2  400957457012_3.JPG  400957457012     4  400957457012_2.JPG   \n",
       "3  111733215174_2.JPG  111733215174     4  111733215174_3.JPG   \n",
       "4  131567176523_4.JPG  131567176523     4  131567176523_3.JPG   \n",
       "\n",
       "   top_1_cosine_similarity  top_2_similar_image  top_2_cosine_similarity  \\\n",
       "0                 0.788647   151414046745_2.JPG                 0.725330   \n",
       "1                 0.998313   111733238663_1.JPG                 0.610985   \n",
       "2                 0.842128  400957457012_11.JPG                 0.812825   \n",
       "3                 0.882937   111733215174_4.JPG                 0.877927   \n",
       "4                 0.779511   131567176523_2.JPG                 0.678530   \n",
       "\n",
       "  top_3_similar_image  top_3_cosine_similarity  \n",
       "0  151414046745_4.JPG                 0.689846  \n",
       "1  111733238663_0.JPG                 0.610985  \n",
       "2  400957457012_9.JPG                 0.772822  \n",
       "3  111733215174_8.JPG                 0.744403  \n",
       "4  400965651388_1.JPG                 0.668002  "
      ]
     },
     "execution_count": 14,
     "metadata": {},
     "output_type": "execute_result"
    }
   ],
   "source": [
    "df.head()"
   ]
  },
  {
   "attachments": {},
   "cell_type": "markdown",
   "id": "d03b11da-4211-4f10-9a28-bfd7c652e613",
   "metadata": {},
   "source": [
    "各画像（1663枚）と類似上位3位画像の画像ファイル名と類似度（コサイン類似度）"
   ]
  },
  {
   "cell_type": "markdown",
   "id": "e320d90c-dcf4-4454-baab-6996e72a725d",
   "metadata": {},
   "source": [
    "### pklファイル"
   ]
  },
  {
   "cell_type": "code",
   "execution_count": 8,
   "id": "2da2f7de-f39a-43a3-a642-ce3683f5de89",
   "metadata": {},
   "outputs": [
    {
     "data": {
      "text/plain": [
       "dict"
      ]
     },
     "execution_count": 8,
     "metadata": {},
     "output_type": "execute_result"
    }
   ],
   "source": [
    "pk = pd.read_pickle('prediction/preds_ml-baseline.fold0.predict.1_fold0/test_raw_predictions.pkl')\n",
    "type(pk)"
   ]
  },
  {
   "cell_type": "code",
   "execution_count": 9,
   "id": "9e420696-32b5-413c-8ff0-07ffa367ba21",
   "metadata": {},
   "outputs": [
    {
     "data": {
      "text/plain": [
       "{'embeddings': array([[ 1.07497168e+00, -1.21398404e-01, -5.81534863e-01, ...,\n",
       "         -2.33517125e-01, -2.40838990e-01,  3.78616512e-01],\n",
       "        [ 2.27141142e-01,  1.77186489e+00,  8.70964348e-01, ...,\n",
       "         -4.30517375e-01, -7.96101809e-01,  5.22936583e-01],\n",
       "        [-6.00740016e-01,  1.05046737e+00,  1.08377767e+00, ...,\n",
       "         -1.01552240e-03,  3.60473394e-02, -1.11484683e+00],\n",
       "        ...,\n",
       "        [-2.72388667e-01,  3.10453385e-01,  1.24150634e+00, ...,\n",
       "          1.23785269e+00,  9.01244104e-01, -7.89174020e-01],\n",
       "        [ 1.45416343e+00, -1.59152299e-02,  1.25278875e-01, ...,\n",
       "         -4.17469770e-01, -6.05662644e-01,  4.07367289e-01],\n",
       "        [ 2.33735129e-01,  8.54482472e-01,  1.24066162e+00, ...,\n",
       "          1.37019730e+00, -2.31863737e-01,  3.44229788e-02]], dtype=float32),\n",
       " 'cosine_similarities': array([[1.0000001 , 0.7886466 , 0.72532964, ..., 0.38408548, 0.3743736 ,\n",
       "         0.37117776],\n",
       "        [1.        , 0.998313  , 0.61098546, ..., 0.36415392, 0.35697114,\n",
       "         0.35575777],\n",
       "        [1.0000001 , 0.84212756, 0.81282496, ..., 0.3970403 , 0.39536828,\n",
       "         0.3940097 ],\n",
       "        ...,\n",
       "        [1.        , 0.79817027, 0.727471  , ..., 0.36507964, 0.36483923,\n",
       "         0.36055237],\n",
       "        [1.        , 0.55908346, 0.52554286, ..., 0.3036908 , 0.30037585,\n",
       "         0.29942298],\n",
       "        [1.        , 0.8928913 , 0.8346261 , ..., 0.39530826, 0.39498797,\n",
       "         0.39349234]], dtype=float32),\n",
       " 'similar_images': array([[   0,  631,  216, ...,  294,  223, 1102],\n",
       "        [   1,  224,  924, ...,  218,  332,  194],\n",
       "        [   2,  437, 1135, ...,  303,  380,  327],\n",
       "        ...,\n",
       "        [1660, 1384,  870, ...,  854, 1079,   62],\n",
       "        [1661, 1343, 1581, ...,  780,  271, 1262],\n",
       "        [1662,  742, 1373, ...,  296, 1608,   96]]),\n",
       " 'image': array(['151414046745_8.JPG', '251747828037_1.JPG', '400957457012_3.JPG',\n",
       "        ..., '121715580427_3.JPG', '331602923356_7.JPG',\n",
       "        '301702155234_8.JPG'], dtype=object)}"
      ]
     },
     "execution_count": 9,
     "metadata": {},
     "output_type": "execute_result"
    }
   ],
   "source": [
    "pk"
   ]
  },
  {
   "cell_type": "code",
   "execution_count": 10,
   "id": "8065ae27-f9a5-41d1-a442-81634b779fe0",
   "metadata": {},
   "outputs": [
    {
     "data": {
      "text/plain": [
       "dict_keys(['embeddings', 'cosine_similarities', 'similar_images', 'image'])"
      ]
     },
     "execution_count": 10,
     "metadata": {},
     "output_type": "execute_result"
    }
   ],
   "source": [
    "pk.keys()"
   ]
  },
  {
   "cell_type": "code",
   "execution_count": null,
   "id": "b8e4e43d-d79e-4b98-932a-43f0ef7b7b70",
   "metadata": {},
   "outputs": [],
   "source": []
  },
  {
   "cell_type": "markdown",
   "id": "e3c10cda-4160-4c45-b4b8-8a837939684a",
   "metadata": {},
   "source": [
    "画像ファイル名"
   ]
  },
  {
   "cell_type": "code",
   "execution_count": 20,
   "id": "25ad7ed1-8ab4-47de-929d-6ee3c7a2b43f",
   "metadata": {},
   "outputs": [
    {
     "data": {
      "text/plain": [
       "(1663,)"
      ]
     },
     "execution_count": 20,
     "metadata": {},
     "output_type": "execute_result"
    }
   ],
   "source": [
    "pk['image'].shape"
   ]
  },
  {
   "cell_type": "code",
   "execution_count": 21,
   "id": "238029ff-faea-4558-bcf8-473413418e7e",
   "metadata": {},
   "outputs": [
    {
     "data": {
      "text/plain": [
       "array(['151414046745_8.JPG', '251747828037_1.JPG', '400957457012_3.JPG',\n",
       "       '111733215174_2.JPG', '131567176523_4.JPG', '141728384307_1.JPG',\n",
       "       '270985868152_3.JPG', '391215659246_8.JPG', '221604069261_0.JPG',\n",
       "       '381346919985_2.JPG'], dtype=object)"
      ]
     },
     "execution_count": 21,
     "metadata": {},
     "output_type": "execute_result"
    }
   ],
   "source": [
    "pk['image'][:10]"
   ]
  },
  {
   "cell_type": "code",
   "execution_count": null,
   "id": "b11b0216-8d5c-4157-ac0e-f028adc166e6",
   "metadata": {},
   "outputs": [],
   "source": []
  },
  {
   "cell_type": "markdown",
   "id": "c88cad61-8727-4fd2-ba79-5ed750c99352",
   "metadata": {},
   "source": [
    "各画像の512次元のEmbedding（モデル作成時に512次元を指定）"
   ]
  },
  {
   "cell_type": "code",
   "execution_count": 12,
   "id": "3c819270-364e-4e3f-ab0a-d7f100dff9cd",
   "metadata": {},
   "outputs": [
    {
     "data": {
      "text/plain": [
       "(1663, 512)"
      ]
     },
     "execution_count": 12,
     "metadata": {},
     "output_type": "execute_result"
    }
   ],
   "source": [
    "pk['embeddings'].shape"
   ]
  },
  {
   "cell_type": "code",
   "execution_count": 23,
   "id": "d86454f7-7116-473a-b71b-294fe6f13b76",
   "metadata": {},
   "outputs": [
    {
     "data": {
      "text/plain": [
       "array([[ 1.07497168e+00, -1.21398404e-01, -5.81534863e-01, ...,\n",
       "        -2.33517125e-01, -2.40838990e-01,  3.78616512e-01],\n",
       "       [ 2.27141142e-01,  1.77186489e+00,  8.70964348e-01, ...,\n",
       "        -4.30517375e-01, -7.96101809e-01,  5.22936583e-01],\n",
       "       [-6.00740016e-01,  1.05046737e+00,  1.08377767e+00, ...,\n",
       "        -1.01552240e-03,  3.60473394e-02, -1.11484683e+00],\n",
       "       ...,\n",
       "       [ 3.71872842e-01,  6.65462196e-01, -6.79864347e-01, ...,\n",
       "         4.51503873e-01,  1.52752805e+00, -3.21243972e-01],\n",
       "       [ 3.33166659e-01,  1.92360088e-01, -9.72405970e-01, ...,\n",
       "        -6.13723338e-01,  9.40580010e-01, -4.59785789e-01],\n",
       "       [-2.38814205e-01,  1.38348818e+00, -1.66326389e-01, ...,\n",
       "         7.76580095e-01,  2.09778810e+00, -1.96519479e-01]], dtype=float32)"
      ]
     },
     "execution_count": 23,
     "metadata": {},
     "output_type": "execute_result"
    }
   ],
   "source": [
    "pk['embeddings'][:10, :]"
   ]
  },
  {
   "cell_type": "markdown",
   "id": "323e7f0d-5f2e-4224-bcf3-5edcbce8bc8b",
   "metadata": {},
   "source": [
    "**データフレームで、画像ファイル名に対応するEmbeddingを表示してみる**"
   ]
  },
  {
   "cell_type": "code",
   "execution_count": 27,
   "id": "82d72975-0d11-4a3f-b921-9ced5ffe3ef6",
   "metadata": {},
   "outputs": [
    {
     "data": {
      "text/html": [
       "<div>\n",
       "<style scoped>\n",
       "    .dataframe tbody tr th:only-of-type {\n",
       "        vertical-align: middle;\n",
       "    }\n",
       "\n",
       "    .dataframe tbody tr th {\n",
       "        vertical-align: top;\n",
       "    }\n",
       "\n",
       "    .dataframe thead th {\n",
       "        text-align: right;\n",
       "    }\n",
       "</style>\n",
       "<table border=\"1\" class=\"dataframe\">\n",
       "  <thead>\n",
       "    <tr style=\"text-align: right;\">\n",
       "      <th></th>\n",
       "      <th>image</th>\n",
       "      <th>0</th>\n",
       "      <th>1</th>\n",
       "      <th>2</th>\n",
       "      <th>3</th>\n",
       "      <th>4</th>\n",
       "      <th>5</th>\n",
       "      <th>6</th>\n",
       "      <th>7</th>\n",
       "      <th>8</th>\n",
       "      <th>...</th>\n",
       "      <th>502</th>\n",
       "      <th>503</th>\n",
       "      <th>504</th>\n",
       "      <th>505</th>\n",
       "      <th>506</th>\n",
       "      <th>507</th>\n",
       "      <th>508</th>\n",
       "      <th>509</th>\n",
       "      <th>510</th>\n",
       "      <th>511</th>\n",
       "    </tr>\n",
       "  </thead>\n",
       "  <tbody>\n",
       "    <tr>\n",
       "      <th>0</th>\n",
       "      <td>151414046745_8.JPG</td>\n",
       "      <td>1.074972</td>\n",
       "      <td>-0.121398</td>\n",
       "      <td>-0.581535</td>\n",
       "      <td>-0.082283</td>\n",
       "      <td>-0.030870</td>\n",
       "      <td>-0.725494</td>\n",
       "      <td>1.652115</td>\n",
       "      <td>0.024447</td>\n",
       "      <td>1.342337</td>\n",
       "      <td>...</td>\n",
       "      <td>-0.503952</td>\n",
       "      <td>1.132980</td>\n",
       "      <td>-0.004669</td>\n",
       "      <td>0.391195</td>\n",
       "      <td>-0.038441</td>\n",
       "      <td>0.483147</td>\n",
       "      <td>-0.190056</td>\n",
       "      <td>-0.233517</td>\n",
       "      <td>-0.240839</td>\n",
       "      <td>0.378617</td>\n",
       "    </tr>\n",
       "    <tr>\n",
       "      <th>1</th>\n",
       "      <td>251747828037_1.JPG</td>\n",
       "      <td>0.227141</td>\n",
       "      <td>1.771865</td>\n",
       "      <td>0.870964</td>\n",
       "      <td>-0.429514</td>\n",
       "      <td>-0.139533</td>\n",
       "      <td>0.466942</td>\n",
       "      <td>-0.167227</td>\n",
       "      <td>-0.305729</td>\n",
       "      <td>-0.365382</td>\n",
       "      <td>...</td>\n",
       "      <td>-0.066853</td>\n",
       "      <td>0.435738</td>\n",
       "      <td>0.250023</td>\n",
       "      <td>1.152870</td>\n",
       "      <td>-0.051964</td>\n",
       "      <td>0.084344</td>\n",
       "      <td>0.519142</td>\n",
       "      <td>-0.430517</td>\n",
       "      <td>-0.796102</td>\n",
       "      <td>0.522937</td>\n",
       "    </tr>\n",
       "    <tr>\n",
       "      <th>2</th>\n",
       "      <td>400957457012_3.JPG</td>\n",
       "      <td>-0.600740</td>\n",
       "      <td>1.050467</td>\n",
       "      <td>1.083778</td>\n",
       "      <td>0.781974</td>\n",
       "      <td>-0.630697</td>\n",
       "      <td>-0.578733</td>\n",
       "      <td>-0.280022</td>\n",
       "      <td>2.251088</td>\n",
       "      <td>-0.397303</td>\n",
       "      <td>...</td>\n",
       "      <td>-0.418795</td>\n",
       "      <td>-0.414978</td>\n",
       "      <td>-0.725062</td>\n",
       "      <td>1.214044</td>\n",
       "      <td>-0.243604</td>\n",
       "      <td>0.329307</td>\n",
       "      <td>-0.765241</td>\n",
       "      <td>-0.001016</td>\n",
       "      <td>0.036047</td>\n",
       "      <td>-1.114847</td>\n",
       "    </tr>\n",
       "    <tr>\n",
       "      <th>3</th>\n",
       "      <td>111733215174_2.JPG</td>\n",
       "      <td>-0.074577</td>\n",
       "      <td>2.241524</td>\n",
       "      <td>-0.397442</td>\n",
       "      <td>-0.711581</td>\n",
       "      <td>1.338481</td>\n",
       "      <td>1.501900</td>\n",
       "      <td>-0.554181</td>\n",
       "      <td>-0.121256</td>\n",
       "      <td>-1.152586</td>\n",
       "      <td>...</td>\n",
       "      <td>0.378851</td>\n",
       "      <td>0.481882</td>\n",
       "      <td>0.690869</td>\n",
       "      <td>0.248687</td>\n",
       "      <td>0.779890</td>\n",
       "      <td>1.877414</td>\n",
       "      <td>-0.097610</td>\n",
       "      <td>-1.207974</td>\n",
       "      <td>0.574088</td>\n",
       "      <td>1.241420</td>\n",
       "    </tr>\n",
       "    <tr>\n",
       "      <th>4</th>\n",
       "      <td>131567176523_4.JPG</td>\n",
       "      <td>-0.721359</td>\n",
       "      <td>0.900395</td>\n",
       "      <td>-0.968041</td>\n",
       "      <td>1.250843</td>\n",
       "      <td>0.085651</td>\n",
       "      <td>0.149362</td>\n",
       "      <td>0.432996</td>\n",
       "      <td>-0.271541</td>\n",
       "      <td>0.266092</td>\n",
       "      <td>...</td>\n",
       "      <td>-0.340295</td>\n",
       "      <td>-0.037362</td>\n",
       "      <td>0.293109</td>\n",
       "      <td>0.147440</td>\n",
       "      <td>0.219687</td>\n",
       "      <td>-0.362342</td>\n",
       "      <td>-0.102005</td>\n",
       "      <td>-0.447061</td>\n",
       "      <td>1.690927</td>\n",
       "      <td>0.086309</td>\n",
       "    </tr>\n",
       "    <tr>\n",
       "      <th>...</th>\n",
       "      <td>...</td>\n",
       "      <td>...</td>\n",
       "      <td>...</td>\n",
       "      <td>...</td>\n",
       "      <td>...</td>\n",
       "      <td>...</td>\n",
       "      <td>...</td>\n",
       "      <td>...</td>\n",
       "      <td>...</td>\n",
       "      <td>...</td>\n",
       "      <td>...</td>\n",
       "      <td>...</td>\n",
       "      <td>...</td>\n",
       "      <td>...</td>\n",
       "      <td>...</td>\n",
       "      <td>...</td>\n",
       "      <td>...</td>\n",
       "      <td>...</td>\n",
       "      <td>...</td>\n",
       "      <td>...</td>\n",
       "      <td>...</td>\n",
       "    </tr>\n",
       "    <tr>\n",
       "      <th>1658</th>\n",
       "      <td>231634042205_1.JPG</td>\n",
       "      <td>-0.779147</td>\n",
       "      <td>1.303374</td>\n",
       "      <td>1.779549</td>\n",
       "      <td>0.061459</td>\n",
       "      <td>0.875013</td>\n",
       "      <td>0.862360</td>\n",
       "      <td>-0.503638</td>\n",
       "      <td>-0.012851</td>\n",
       "      <td>-0.586948</td>\n",
       "      <td>...</td>\n",
       "      <td>1.129666</td>\n",
       "      <td>-0.333828</td>\n",
       "      <td>0.485395</td>\n",
       "      <td>0.139858</td>\n",
       "      <td>1.460458</td>\n",
       "      <td>0.851156</td>\n",
       "      <td>-0.239571</td>\n",
       "      <td>0.384492</td>\n",
       "      <td>-0.574597</td>\n",
       "      <td>1.044144</td>\n",
       "    </tr>\n",
       "    <tr>\n",
       "      <th>1659</th>\n",
       "      <td>261617986263_1.JPG</td>\n",
       "      <td>-0.149124</td>\n",
       "      <td>-0.301009</td>\n",
       "      <td>0.618842</td>\n",
       "      <td>-0.457302</td>\n",
       "      <td>-0.117831</td>\n",
       "      <td>-0.090237</td>\n",
       "      <td>-0.541397</td>\n",
       "      <td>-0.444439</td>\n",
       "      <td>-0.340010</td>\n",
       "      <td>...</td>\n",
       "      <td>0.243571</td>\n",
       "      <td>0.121702</td>\n",
       "      <td>-0.432326</td>\n",
       "      <td>1.018678</td>\n",
       "      <td>-0.555260</td>\n",
       "      <td>-0.703385</td>\n",
       "      <td>-0.745569</td>\n",
       "      <td>-0.049803</td>\n",
       "      <td>-0.827218</td>\n",
       "      <td>-0.816545</td>\n",
       "    </tr>\n",
       "    <tr>\n",
       "      <th>1660</th>\n",
       "      <td>121715580427_3.JPG</td>\n",
       "      <td>-0.272389</td>\n",
       "      <td>0.310453</td>\n",
       "      <td>1.241506</td>\n",
       "      <td>1.372070</td>\n",
       "      <td>-0.027258</td>\n",
       "      <td>1.711316</td>\n",
       "      <td>-0.037880</td>\n",
       "      <td>0.722389</td>\n",
       "      <td>1.280954</td>\n",
       "      <td>...</td>\n",
       "      <td>-0.006283</td>\n",
       "      <td>0.149002</td>\n",
       "      <td>-0.659014</td>\n",
       "      <td>-1.413185</td>\n",
       "      <td>-0.124710</td>\n",
       "      <td>1.361771</td>\n",
       "      <td>-0.008666</td>\n",
       "      <td>1.237853</td>\n",
       "      <td>0.901244</td>\n",
       "      <td>-0.789174</td>\n",
       "    </tr>\n",
       "    <tr>\n",
       "      <th>1661</th>\n",
       "      <td>331602923356_7.JPG</td>\n",
       "      <td>1.454163</td>\n",
       "      <td>-0.015915</td>\n",
       "      <td>0.125279</td>\n",
       "      <td>-1.960235</td>\n",
       "      <td>1.101515</td>\n",
       "      <td>-0.103076</td>\n",
       "      <td>-0.136933</td>\n",
       "      <td>-0.240850</td>\n",
       "      <td>0.821685</td>\n",
       "      <td>...</td>\n",
       "      <td>1.209847</td>\n",
       "      <td>0.093527</td>\n",
       "      <td>1.370615</td>\n",
       "      <td>1.822390</td>\n",
       "      <td>-0.001915</td>\n",
       "      <td>2.007416</td>\n",
       "      <td>0.913311</td>\n",
       "      <td>-0.417470</td>\n",
       "      <td>-0.605663</td>\n",
       "      <td>0.407367</td>\n",
       "    </tr>\n",
       "    <tr>\n",
       "      <th>1662</th>\n",
       "      <td>301702155234_8.JPG</td>\n",
       "      <td>0.233735</td>\n",
       "      <td>0.854482</td>\n",
       "      <td>1.240662</td>\n",
       "      <td>0.240128</td>\n",
       "      <td>0.252319</td>\n",
       "      <td>-0.508262</td>\n",
       "      <td>-0.622278</td>\n",
       "      <td>0.287419</td>\n",
       "      <td>-0.200333</td>\n",
       "      <td>...</td>\n",
       "      <td>-0.081030</td>\n",
       "      <td>0.080638</td>\n",
       "      <td>-0.585312</td>\n",
       "      <td>0.921660</td>\n",
       "      <td>0.371529</td>\n",
       "      <td>-0.013860</td>\n",
       "      <td>-0.006327</td>\n",
       "      <td>1.370197</td>\n",
       "      <td>-0.231864</td>\n",
       "      <td>0.034423</td>\n",
       "    </tr>\n",
       "  </tbody>\n",
       "</table>\n",
       "<p>1663 rows × 513 columns</p>\n",
       "</div>"
      ],
      "text/plain": [
       "                   image         0         1         2         3         4  \\\n",
       "0     151414046745_8.JPG  1.074972 -0.121398 -0.581535 -0.082283 -0.030870   \n",
       "1     251747828037_1.JPG  0.227141  1.771865  0.870964 -0.429514 -0.139533   \n",
       "2     400957457012_3.JPG -0.600740  1.050467  1.083778  0.781974 -0.630697   \n",
       "3     111733215174_2.JPG -0.074577  2.241524 -0.397442 -0.711581  1.338481   \n",
       "4     131567176523_4.JPG -0.721359  0.900395 -0.968041  1.250843  0.085651   \n",
       "...                  ...       ...       ...       ...       ...       ...   \n",
       "1658  231634042205_1.JPG -0.779147  1.303374  1.779549  0.061459  0.875013   \n",
       "1659  261617986263_1.JPG -0.149124 -0.301009  0.618842 -0.457302 -0.117831   \n",
       "1660  121715580427_3.JPG -0.272389  0.310453  1.241506  1.372070 -0.027258   \n",
       "1661  331602923356_7.JPG  1.454163 -0.015915  0.125279 -1.960235  1.101515   \n",
       "1662  301702155234_8.JPG  0.233735  0.854482  1.240662  0.240128  0.252319   \n",
       "\n",
       "             5         6         7         8  ...       502       503  \\\n",
       "0    -0.725494  1.652115  0.024447  1.342337  ... -0.503952  1.132980   \n",
       "1     0.466942 -0.167227 -0.305729 -0.365382  ... -0.066853  0.435738   \n",
       "2    -0.578733 -0.280022  2.251088 -0.397303  ... -0.418795 -0.414978   \n",
       "3     1.501900 -0.554181 -0.121256 -1.152586  ...  0.378851  0.481882   \n",
       "4     0.149362  0.432996 -0.271541  0.266092  ... -0.340295 -0.037362   \n",
       "...        ...       ...       ...       ...  ...       ...       ...   \n",
       "1658  0.862360 -0.503638 -0.012851 -0.586948  ...  1.129666 -0.333828   \n",
       "1659 -0.090237 -0.541397 -0.444439 -0.340010  ...  0.243571  0.121702   \n",
       "1660  1.711316 -0.037880  0.722389  1.280954  ... -0.006283  0.149002   \n",
       "1661 -0.103076 -0.136933 -0.240850  0.821685  ...  1.209847  0.093527   \n",
       "1662 -0.508262 -0.622278  0.287419 -0.200333  ... -0.081030  0.080638   \n",
       "\n",
       "           504       505       506       507       508       509       510  \\\n",
       "0    -0.004669  0.391195 -0.038441  0.483147 -0.190056 -0.233517 -0.240839   \n",
       "1     0.250023  1.152870 -0.051964  0.084344  0.519142 -0.430517 -0.796102   \n",
       "2    -0.725062  1.214044 -0.243604  0.329307 -0.765241 -0.001016  0.036047   \n",
       "3     0.690869  0.248687  0.779890  1.877414 -0.097610 -1.207974  0.574088   \n",
       "4     0.293109  0.147440  0.219687 -0.362342 -0.102005 -0.447061  1.690927   \n",
       "...        ...       ...       ...       ...       ...       ...       ...   \n",
       "1658  0.485395  0.139858  1.460458  0.851156 -0.239571  0.384492 -0.574597   \n",
       "1659 -0.432326  1.018678 -0.555260 -0.703385 -0.745569 -0.049803 -0.827218   \n",
       "1660 -0.659014 -1.413185 -0.124710  1.361771 -0.008666  1.237853  0.901244   \n",
       "1661  1.370615  1.822390 -0.001915  2.007416  0.913311 -0.417470 -0.605663   \n",
       "1662 -0.585312  0.921660  0.371529 -0.013860 -0.006327  1.370197 -0.231864   \n",
       "\n",
       "           511  \n",
       "0     0.378617  \n",
       "1     0.522937  \n",
       "2    -1.114847  \n",
       "3     1.241420  \n",
       "4     0.086309  \n",
       "...        ...  \n",
       "1658  1.044144  \n",
       "1659 -0.816545  \n",
       "1660 -0.789174  \n",
       "1661  0.407367  \n",
       "1662  0.034423  \n",
       "\n",
       "[1663 rows x 513 columns]"
      ]
     },
     "execution_count": 27,
     "metadata": {},
     "output_type": "execute_result"
    }
   ],
   "source": [
    "pd.DataFrame({'image':pk['image']}).join(pd.DataFrame(pk['embeddings']))"
   ]
  },
  {
   "cell_type": "code",
   "execution_count": null,
   "id": "d1f6cea7-8cb4-4924-8f99-8074134e6f6b",
   "metadata": {},
   "outputs": [],
   "source": []
  },
  {
   "cell_type": "markdown",
   "id": "9d44af6c-b2cf-4c2c-9d02-cf7eee5a1e2a",
   "metadata": {},
   "source": [
    "コサイン類似度\n",
    "- 上位50位まで（予測実施時に設定可能）の画像（index）とコサイン類似度"
   ]
  },
  {
   "cell_type": "code",
   "execution_count": 15,
   "id": "14e58371-cf18-49ab-bf63-27e2efffe8b7",
   "metadata": {},
   "outputs": [
    {
     "data": {
      "text/plain": [
       "(1663, 50)"
      ]
     },
     "execution_count": 15,
     "metadata": {},
     "output_type": "execute_result"
    }
   ],
   "source": [
    "pk['cosine_similarities'].shape"
   ]
  },
  {
   "cell_type": "code",
   "execution_count": 28,
   "id": "942641a5-73d1-450d-a5bb-2a9261ad08d6",
   "metadata": {},
   "outputs": [
    {
     "data": {
      "text/plain": [
       "array([[1.0000001 , 0.7886466 , 0.72532964, ..., 0.5875672 , 0.5801832 ,\n",
       "        0.5326115 ],\n",
       "       [1.        , 0.998313  , 0.61098546, ..., 0.59150964, 0.59150964,\n",
       "        0.59150964],\n",
       "       [1.0000001 , 0.84212756, 0.81282496, ..., 0.64939153, 0.64452255,\n",
       "        0.59284896],\n",
       "       ...,\n",
       "       [1.        , 0.79817027, 0.727471  , ..., 0.65001094, 0.6473901 ,\n",
       "        0.59681594],\n",
       "       [1.        , 0.55908346, 0.52554286, ..., 0.45979658, 0.4472759 ,\n",
       "        0.44593063],\n",
       "       [1.        , 0.8928913 , 0.8346261 , ..., 0.74994105, 0.7466907 ,\n",
       "        0.7286141 ]], dtype=float32)"
      ]
     },
     "execution_count": 28,
     "metadata": {},
     "output_type": "execute_result"
    }
   ],
   "source": [
    "pk['cosine_similarities'][:, :10]"
   ]
  },
  {
   "cell_type": "code",
   "execution_count": 18,
   "id": "f12b0da9-1772-4402-86e5-2d20f3ec1837",
   "metadata": {},
   "outputs": [
    {
     "data": {
      "text/plain": [
       "(1663, 50)"
      ]
     },
     "execution_count": 18,
     "metadata": {},
     "output_type": "execute_result"
    }
   ],
   "source": [
    "pk['similar_images'].shape"
   ]
  },
  {
   "cell_type": "code",
   "execution_count": 29,
   "id": "f63341f4-d88d-4dd7-bbcb-5133a2bf338f",
   "metadata": {},
   "outputs": [
    {
     "data": {
      "text/plain": [
       "array([[   0,  631,  216, ..., 1349, 1309, 1002],\n",
       "       [   1,  224,  924, ...,  295,   12,  564],\n",
       "       [   2,  437, 1135, ...,  940,   20,  920],\n",
       "       ...,\n",
       "       [1660, 1384,  870, ...,  277,  436,  414],\n",
       "       [1661, 1343, 1581, ..., 1398, 1542, 1165],\n",
       "       [1662,  742, 1373, ...,  972, 1260,  176]])"
      ]
     },
     "execution_count": 29,
     "metadata": {},
     "output_type": "execute_result"
    }
   ],
   "source": [
    "pk['similar_images'][:, :10]"
   ]
  },
  {
   "cell_type": "markdown",
   "id": "2513bd7b-1c79-4b80-88e6-c4a17259f61f",
   "metadata": {},
   "source": [
    "**pk['cosine_similarities']とpk['similar_images']の構造を確認してみる**"
   ]
  },
  {
   "cell_type": "code",
   "execution_count": 33,
   "id": "a560f23b-bfb9-41b9-9102-88eedcbb98e7",
   "metadata": {},
   "outputs": [
    {
     "data": {
      "text/plain": [
       "array([   0,  631,  216, 1546,  499,  291,  729, 1349, 1309, 1002, 1484,\n",
       "        324,  752, 1417, 1200,  266,  268, 1037, 1057, 1419, 1167,  427,\n",
       "        961, 1594,  337,   92, 1128, 1305, 1338,   66,  976, 1171, 1437,\n",
       "       1331,  511, 1220, 1281,  761,  628,  955,   79,  929,  172,  540,\n",
       "       1587,  142,  820,  294,  223, 1102])"
      ]
     },
     "execution_count": 33,
     "metadata": {},
     "output_type": "execute_result"
    }
   ],
   "source": [
    "pk['similar_images'][0]"
   ]
  },
  {
   "cell_type": "code",
   "execution_count": 39,
   "id": "068bbbe6-4463-462f-9bfe-c802285c20bd",
   "metadata": {},
   "outputs": [
    {
     "data": {
      "text/plain": [
       "array(['151414046745_0.JPG', '151414046745_2.JPG', '151414046745_4.JPG'],\n",
       "      dtype=object)"
      ]
     },
     "execution_count": 39,
     "metadata": {},
     "output_type": "execute_result"
    }
   ],
   "source": [
    "pk['image'][[631, 216, 1546]]"
   ]
  },
  {
   "cell_type": "code",
   "execution_count": 40,
   "id": "03972bd9-b892-40ca-abdd-94bad15b20cc",
   "metadata": {},
   "outputs": [
    {
     "data": {
      "text/plain": [
       "array([1.0000001 , 0.7886466 , 0.72532964, 0.6898457 , 0.6698687 ,\n",
       "       0.6583883 , 0.5936295 , 0.5875672 , 0.5801832 , 0.5326115 ,\n",
       "       0.531813  , 0.51836765, 0.51715547, 0.5165535 , 0.51010174,\n",
       "       0.50843626, 0.5003836 , 0.48759025, 0.4758062 , 0.47038227,\n",
       "       0.46205786, 0.45735425, 0.45551607, 0.45395625, 0.4480823 ,\n",
       "       0.4463228 , 0.4460118 , 0.4426446 , 0.4391476 , 0.43757942,\n",
       "       0.43694645, 0.42965487, 0.42964178, 0.429216  , 0.42863777,\n",
       "       0.42701524, 0.41947827, 0.41864818, 0.4116189 , 0.40659   ,\n",
       "       0.40293705, 0.40208736, 0.39876264, 0.3904548 , 0.38536176,\n",
       "       0.38517582, 0.38472462, 0.38408548, 0.3743736 , 0.37117776],\n",
       "      dtype=float32)"
      ]
     },
     "execution_count": 40,
     "metadata": {},
     "output_type": "execute_result"
    }
   ],
   "source": [
    "pk['cosine_similarities'][0]"
   ]
  },
  {
   "cell_type": "code",
   "execution_count": 42,
   "id": "b2f9f998-ed2b-4ab7-beed-416805608ea6",
   "metadata": {},
   "outputs": [
    {
     "data": {
      "text/plain": [
       "array([0.7886466 , 0.72532964, 0.6898457 ], dtype=float32)"
      ]
     },
     "execution_count": 42,
     "metadata": {},
     "output_type": "execute_result"
    }
   ],
   "source": [
    "pk['cosine_similarities'][0][1:4]"
   ]
  },
  {
   "cell_type": "code",
   "execution_count": 55,
   "id": "73dd1a3f-056b-426d-94f9-8bb7de71ee05",
   "metadata": {},
   "outputs": [
    {
     "data": {
      "text/html": [
       "<div>\n",
       "<style scoped>\n",
       "    .dataframe tbody tr th:only-of-type {\n",
       "        vertical-align: middle;\n",
       "    }\n",
       "\n",
       "    .dataframe tbody tr th {\n",
       "        vertical-align: top;\n",
       "    }\n",
       "\n",
       "    .dataframe thead th {\n",
       "        text-align: right;\n",
       "    }\n",
       "</style>\n",
       "<table border=\"1\" class=\"dataframe\">\n",
       "  <thead>\n",
       "    <tr style=\"text-align: right;\">\n",
       "      <th></th>\n",
       "      <th>image</th>\n",
       "      <th>label</th>\n",
       "      <th>fold</th>\n",
       "      <th>top_1_similar_image</th>\n",
       "      <th>top_1_cosine_similarity</th>\n",
       "      <th>top_2_similar_image</th>\n",
       "      <th>top_2_cosine_similarity</th>\n",
       "      <th>top_3_similar_image</th>\n",
       "      <th>top_3_cosine_similarity</th>\n",
       "    </tr>\n",
       "  </thead>\n",
       "  <tbody>\n",
       "    <tr>\n",
       "      <th>0</th>\n",
       "      <td>151414046745_8.JPG</td>\n",
       "      <td>151414046745</td>\n",
       "      <td>4</td>\n",
       "      <td>151414046745_0.JPG</td>\n",
       "      <td>0.788647</td>\n",
       "      <td>151414046745_2.JPG</td>\n",
       "      <td>0.72533</td>\n",
       "      <td>151414046745_4.JPG</td>\n",
       "      <td>0.689846</td>\n",
       "    </tr>\n",
       "  </tbody>\n",
       "</table>\n",
       "</div>"
      ],
      "text/plain": [
       "                image         label  fold top_1_similar_image  \\\n",
       "0  151414046745_8.JPG  151414046745     4  151414046745_0.JPG   \n",
       "\n",
       "   top_1_cosine_similarity top_2_similar_image  top_2_cosine_similarity  \\\n",
       "0                 0.788647  151414046745_2.JPG                  0.72533   \n",
       "\n",
       "  top_3_similar_image  top_3_cosine_similarity  \n",
       "0  151414046745_4.JPG                 0.689846  "
      ]
     },
     "execution_count": 55,
     "metadata": {},
     "output_type": "execute_result"
    }
   ],
   "source": [
    "df[:1]"
   ]
  },
  {
   "cell_type": "code",
   "execution_count": null,
   "id": "2ce3129e-fa47-47f3-9f0d-47267ed78e0d",
   "metadata": {},
   "outputs": [],
   "source": []
  },
  {
   "cell_type": "code",
   "execution_count": 45,
   "id": "1c4f4ae4-a1d6-4e4a-910b-5a59fe5c3675",
   "metadata": {},
   "outputs": [],
   "source": [
    "def cos_sim(v1, v2):\n",
    "    return np.dot(v1, v2) / (np.linalg.norm(v1) * np.linalg.norm(v2))"
   ]
  },
  {
   "cell_type": "code",
   "execution_count": 51,
   "id": "c7b173f8-4a91-4a24-94e9-475665277b89",
   "metadata": {},
   "outputs": [
    {
     "data": {
      "text/plain": [
       "((512,), (512,))"
      ]
     },
     "execution_count": 51,
     "metadata": {},
     "output_type": "execute_result"
    }
   ],
   "source": [
    "emb_im0 = pk['embeddings'][0, :]    # 151414046745_8.JPG\n",
    "emb_im631 = pk['embeddings'][631, :]   # 151414046745_0.JPG\n",
    "\n",
    "emb_im0.shape, emb_im631.shape"
   ]
  },
  {
   "cell_type": "code",
   "execution_count": 52,
   "id": "9b51431f-1a4b-4144-b8dc-73c923b92366",
   "metadata": {},
   "outputs": [
    {
     "data": {
      "text/plain": [
       "0.78864664"
      ]
     },
     "execution_count": 52,
     "metadata": {},
     "output_type": "execute_result"
    }
   ],
   "source": [
    "cos_sim(emb_im0, emb_im631)"
   ]
  },
  {
   "cell_type": "code",
   "execution_count": null,
   "id": "38710d3e-1180-4cec-8b74-78868733ea81",
   "metadata": {},
   "outputs": [],
   "source": []
  },
  {
   "cell_type": "code",
   "execution_count": null,
   "id": "b9df4194-0bbe-4494-83bd-b2163d829ded",
   "metadata": {},
   "outputs": [],
   "source": []
  }
 ],
 "metadata": {
  "kernelspec": {
   "display_name": "Python 3 (ipykernel)",
   "language": "python",
   "name": "python3"
  },
  "language_info": {
   "codemirror_mode": {
    "name": "ipython",
    "version": 3
   },
   "file_extension": ".py",
   "mimetype": "text/x-python",
   "name": "python",
   "nbconvert_exporter": "python",
   "pygments_lexer": "ipython3",
   "version": "3.10.14"
  }
 },
 "nbformat": 4,
 "nbformat_minor": 5
}
