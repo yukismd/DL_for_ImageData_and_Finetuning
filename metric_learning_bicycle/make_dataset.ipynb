{
 "cells": [
  {
   "cell_type": "code",
   "execution_count": null,
   "id": "d5c11737-ab7c-4896-88df-9a6e54099eb7",
   "metadata": {},
   "outputs": [],
   "source": []
  },
  {
   "cell_type": "code",
   "execution_count": 1,
   "id": "62b20dda-ad92-45ef-8e1a-64ecb66c037b",
   "metadata": {},
   "outputs": [],
   "source": [
    "import pandas as pd"
   ]
  },
  {
   "cell_type": "code",
   "execution_count": 2,
   "id": "737d3c34-a6a7-4aac-87b9-795a57dfe400",
   "metadata": {},
   "outputs": [
    {
     "name": "stdout",
     "output_type": "stream",
     "text": [
      "\u001b[34mimages\u001b[m\u001b[m    \u001b[31mtrain.csv\u001b[m\u001b[m\n"
     ]
    }
   ],
   "source": [
    "!ls tmp/bicycle_image_metric_learning"
   ]
  },
  {
   "cell_type": "code",
   "execution_count": 3,
   "id": "bad95277-9b99-4fe0-90ba-1741635c2596",
   "metadata": {},
   "outputs": [
    {
     "data": {
      "text/plain": [
       "(8313, 3)"
      ]
     },
     "execution_count": 3,
     "metadata": {},
     "output_type": "execute_result"
    }
   ],
   "source": [
    "df = pd.read_csv('tmp/bicycle_image_metric_learning/train.csv')\n",
    "df.shape"
   ]
  },
  {
   "cell_type": "code",
   "execution_count": 4,
   "id": "7811dad2-35be-4797-88b9-ebdbe2245343",
   "metadata": {},
   "outputs": [
    {
     "data": {
      "text/html": [
       "<div>\n",
       "<style scoped>\n",
       "    .dataframe tbody tr th:only-of-type {\n",
       "        vertical-align: middle;\n",
       "    }\n",
       "\n",
       "    .dataframe tbody tr th {\n",
       "        vertical-align: top;\n",
       "    }\n",
       "\n",
       "    .dataframe thead th {\n",
       "        text-align: right;\n",
       "    }\n",
       "</style>\n",
       "<table border=\"1\" class=\"dataframe\">\n",
       "  <thead>\n",
       "    <tr style=\"text-align: right;\">\n",
       "      <th></th>\n",
       "      <th>image</th>\n",
       "      <th>label</th>\n",
       "      <th>fold</th>\n",
       "    </tr>\n",
       "  </thead>\n",
       "  <tbody>\n",
       "    <tr>\n",
       "      <th>0</th>\n",
       "      <td>181783211141_0.JPG</td>\n",
       "      <td>181783211141</td>\n",
       "      <td>0</td>\n",
       "    </tr>\n",
       "    <tr>\n",
       "      <th>1</th>\n",
       "      <td>181596348104_1.JPG</td>\n",
       "      <td>181596348104</td>\n",
       "      <td>2</td>\n",
       "    </tr>\n",
       "    <tr>\n",
       "      <th>2</th>\n",
       "      <td>171166528893_0.JPG</td>\n",
       "      <td>171166528893</td>\n",
       "      <td>0</td>\n",
       "    </tr>\n",
       "    <tr>\n",
       "      <th>3</th>\n",
       "      <td>191638747719_10.JPG</td>\n",
       "      <td>191638747719</td>\n",
       "      <td>0</td>\n",
       "    </tr>\n",
       "    <tr>\n",
       "      <th>4</th>\n",
       "      <td>151414046745_8.JPG</td>\n",
       "      <td>151414046745</td>\n",
       "      <td>4</td>\n",
       "    </tr>\n",
       "    <tr>\n",
       "      <th>...</th>\n",
       "      <td>...</td>\n",
       "      <td>...</td>\n",
       "      <td>...</td>\n",
       "    </tr>\n",
       "    <tr>\n",
       "      <th>8308</th>\n",
       "      <td>331602923356_7.JPG</td>\n",
       "      <td>331602923356</td>\n",
       "      <td>4</td>\n",
       "    </tr>\n",
       "    <tr>\n",
       "      <th>8309</th>\n",
       "      <td>121706104732_3.JPG</td>\n",
       "      <td>121706104732</td>\n",
       "      <td>3</td>\n",
       "    </tr>\n",
       "    <tr>\n",
       "      <th>8310</th>\n",
       "      <td>191646000094_7.JPG</td>\n",
       "      <td>191646000094</td>\n",
       "      <td>2</td>\n",
       "    </tr>\n",
       "    <tr>\n",
       "      <th>8311</th>\n",
       "      <td>291514841867_0.JPG</td>\n",
       "      <td>291514841867</td>\n",
       "      <td>3</td>\n",
       "    </tr>\n",
       "    <tr>\n",
       "      <th>8312</th>\n",
       "      <td>301702155234_8.JPG</td>\n",
       "      <td>301702155234</td>\n",
       "      <td>4</td>\n",
       "    </tr>\n",
       "  </tbody>\n",
       "</table>\n",
       "<p>8313 rows × 3 columns</p>\n",
       "</div>"
      ],
      "text/plain": [
       "                    image         label  fold\n",
       "0      181783211141_0.JPG  181783211141     0\n",
       "1      181596348104_1.JPG  181596348104     2\n",
       "2      171166528893_0.JPG  171166528893     0\n",
       "3     191638747719_10.JPG  191638747719     0\n",
       "4      151414046745_8.JPG  151414046745     4\n",
       "...                   ...           ...   ...\n",
       "8308   331602923356_7.JPG  331602923356     4\n",
       "8309   121706104732_3.JPG  121706104732     3\n",
       "8310   191646000094_7.JPG  191646000094     2\n",
       "8311   291514841867_0.JPG  291514841867     3\n",
       "8312   301702155234_8.JPG  301702155234     4\n",
       "\n",
       "[8313 rows x 3 columns]"
      ]
     },
     "execution_count": 4,
     "metadata": {},
     "output_type": "execute_result"
    }
   ],
   "source": [
    "df"
   ]
  },
  {
   "cell_type": "code",
   "execution_count": 23,
   "id": "3a903abe-9ce0-4089-b38b-1eb91832d70d",
   "metadata": {},
   "outputs": [
    {
     "data": {
      "text/plain": [
       "image    object\n",
       "label     int64\n",
       "fold      int64\n",
       "dtype: object"
      ]
     },
     "execution_count": 23,
     "metadata": {},
     "output_type": "execute_result"
    }
   ],
   "source": [
    "df.dtypes"
   ]
  },
  {
   "cell_type": "code",
   "execution_count": 5,
   "id": "b92eb0d2-4e7c-4ab3-abec-22cf45a2e8d2",
   "metadata": {},
   "outputs": [
    {
     "data": {
      "text/plain": [
       "1148"
      ]
     },
     "execution_count": 5,
     "metadata": {},
     "output_type": "execute_result"
    }
   ],
   "source": [
    "df['label'].nunique()"
   ]
  },
  {
   "cell_type": "code",
   "execution_count": 9,
   "id": "a2c7d253-291c-45cd-97e7-0de0fbfc37ba",
   "metadata": {},
   "outputs": [
    {
     "data": {
      "text/plain": [
       "291524578289    12\n",
       "191646652674    12\n",
       "331614350414    12\n",
       "151733952012    12\n",
       "281761250668    12\n",
       "                ..\n",
       "121505320217     2\n",
       "201318674569     2\n",
       "281670204367     2\n",
       "271943443788     2\n",
       "351097439926     2\n",
       "Name: label, Length: 1148, dtype: int64"
      ]
     },
     "execution_count": 9,
     "metadata": {},
     "output_type": "execute_result"
    }
   ],
   "source": [
    "df['label'].value_counts()"
   ]
  },
  {
   "cell_type": "code",
   "execution_count": 10,
   "id": "27005dda-552b-4cc4-8a28-939d39deb544",
   "metadata": {},
   "outputs": [
    {
     "data": {
      "text/plain": [
       "count    1148.000000\n",
       "mean        7.241289\n",
       "std         3.548906\n",
       "min         2.000000\n",
       "25%         4.000000\n",
       "50%         7.000000\n",
       "75%        11.000000\n",
       "max        12.000000\n",
       "Name: label, dtype: float64"
      ]
     },
     "execution_count": 10,
     "metadata": {},
     "output_type": "execute_result"
    }
   ],
   "source": [
    "df['label'].value_counts().describe()"
   ]
  },
  {
   "cell_type": "code",
   "execution_count": 11,
   "id": "1206ddaa-4eff-4c36-a29e-881f9f36634e",
   "metadata": {},
   "outputs": [
    {
     "data": {
      "text/plain": [
       "2    1663\n",
       "4    1663\n",
       "3    1663\n",
       "0    1662\n",
       "1    1662\n",
       "Name: fold, dtype: int64"
      ]
     },
     "execution_count": 11,
     "metadata": {},
     "output_type": "execute_result"
    }
   ],
   "source": [
    "df['fold'].value_counts()"
   ]
  },
  {
   "cell_type": "code",
   "execution_count": 15,
   "id": "c000a73a-9d21-4d2c-90a4-f5e72585d734",
   "metadata": {},
   "outputs": [
    {
     "data": {
      "text/plain": [
       "count    229.000000\n",
       "mean       7.257642\n",
       "std        3.549029\n",
       "min        2.000000\n",
       "25%        4.000000\n",
       "50%        7.000000\n",
       "75%       11.000000\n",
       "max       12.000000\n",
       "Name: label, dtype: float64"
      ]
     },
     "execution_count": 15,
     "metadata": {},
     "output_type": "execute_result"
    }
   ],
   "source": [
    "df[df['fold']==0]['label'].value_counts().describe()"
   ]
  },
  {
   "cell_type": "code",
   "execution_count": 17,
   "id": "4876735c-c2e3-40e5-ba8c-fb3c0c8ddaea",
   "metadata": {},
   "outputs": [
    {
     "data": {
      "text/plain": [
       "count    229.000000\n",
       "mean       7.257642\n",
       "std        3.549029\n",
       "min        2.000000\n",
       "25%        4.000000\n",
       "50%        7.000000\n",
       "75%       11.000000\n",
       "max       12.000000\n",
       "Name: label, dtype: float64"
      ]
     },
     "execution_count": 17,
     "metadata": {},
     "output_type": "execute_result"
    }
   ],
   "source": [
    "df[df['fold']==1]['label'].value_counts().describe()"
   ]
  },
  {
   "cell_type": "code",
   "execution_count": 18,
   "id": "53924483-f146-4d7f-a5a2-3d43b124b248",
   "metadata": {},
   "outputs": [
    {
     "data": {
      "text/plain": [
       "count    230.000000\n",
       "mean       7.230435\n",
       "std        3.556645\n",
       "min        2.000000\n",
       "25%        4.000000\n",
       "50%        7.000000\n",
       "75%       11.000000\n",
       "max       12.000000\n",
       "Name: label, dtype: float64"
      ]
     },
     "execution_count": 18,
     "metadata": {},
     "output_type": "execute_result"
    }
   ],
   "source": [
    "df[df['fold']==4]['label'].value_counts().describe()"
   ]
  },
  {
   "cell_type": "code",
   "execution_count": null,
   "id": "72ad1e87-ee27-4962-b8a3-b62b943a5ac2",
   "metadata": {},
   "outputs": [],
   "source": []
  },
  {
   "cell_type": "code",
   "execution_count": 42,
   "id": "dbf63de8-0935-44b5-a080-aed8b6e8b34a",
   "metadata": {},
   "outputs": [
    {
     "data": {
      "text/plain": [
       "(229, 229, 230, 230, 230)"
      ]
     },
     "execution_count": 42,
     "metadata": {},
     "output_type": "execute_result"
    }
   ],
   "source": [
    "df[df['fold']==0]['label'].nunique(), df[df['fold']==1]['label'].nunique(), df[df['fold']==2]['label'].nunique(), df[df['fold']==3]['label'].nunique(), df[df['fold']==4]['label'].nunique()\n"
   ]
  },
  {
   "cell_type": "code",
   "execution_count": 43,
   "id": "c6a7b3c1-060d-4bdc-9654-fe3b72b6db4f",
   "metadata": {},
   "outputs": [
    {
     "data": {
      "text/plain": [
       "1148"
      ]
     },
     "execution_count": 43,
     "metadata": {},
     "output_type": "execute_result"
    }
   ],
   "source": [
    "229 + 229 + 230 + 230 + 230"
   ]
  },
  {
   "cell_type": "code",
   "execution_count": 44,
   "id": "e97f242e-fa4c-4901-b7dd-21f6542de755",
   "metadata": {},
   "outputs": [
    {
     "data": {
      "text/plain": [
       "1148"
      ]
     },
     "execution_count": 44,
     "metadata": {},
     "output_type": "execute_result"
    }
   ],
   "source": [
    "df['label'].nunique()"
   ]
  },
  {
   "cell_type": "markdown",
   "id": "096a38e7-0eaf-4c2a-897b-3100100e9c55",
   "metadata": {},
   "source": [
    "fold = [0,1,2,3,4]はlabelが全てユニークになっている"
   ]
  },
  {
   "cell_type": "code",
   "execution_count": null,
   "id": "1320031c-d213-4832-9deb-bc054ef4a475",
   "metadata": {},
   "outputs": [],
   "source": []
  },
  {
   "cell_type": "code",
   "execution_count": 24,
   "id": "d875cf69-5eca-4747-bb10-0391130e289e",
   "metadata": {},
   "outputs": [
    {
     "data": {
      "text/html": [
       "<div>\n",
       "<style scoped>\n",
       "    .dataframe tbody tr th:only-of-type {\n",
       "        vertical-align: middle;\n",
       "    }\n",
       "\n",
       "    .dataframe tbody tr th {\n",
       "        vertical-align: top;\n",
       "    }\n",
       "\n",
       "    .dataframe thead th {\n",
       "        text-align: right;\n",
       "    }\n",
       "</style>\n",
       "<table border=\"1\" class=\"dataframe\">\n",
       "  <thead>\n",
       "    <tr style=\"text-align: right;\">\n",
       "      <th></th>\n",
       "      <th>image</th>\n",
       "      <th>label</th>\n",
       "      <th>fold</th>\n",
       "    </tr>\n",
       "  </thead>\n",
       "  <tbody>\n",
       "    <tr>\n",
       "      <th>3118</th>\n",
       "      <td>281670204367_1.JPG</td>\n",
       "      <td>281670204367</td>\n",
       "      <td>1</td>\n",
       "    </tr>\n",
       "    <tr>\n",
       "      <th>3527</th>\n",
       "      <td>281670204367_0.JPG</td>\n",
       "      <td>281670204367</td>\n",
       "      <td>1</td>\n",
       "    </tr>\n",
       "  </tbody>\n",
       "</table>\n",
       "</div>"
      ],
      "text/plain": [
       "                   image         label  fold\n",
       "3118  281670204367_1.JPG  281670204367     1\n",
       "3527  281670204367_0.JPG  281670204367     1"
      ]
     },
     "execution_count": 24,
     "metadata": {},
     "output_type": "execute_result"
    }
   ],
   "source": [
    "df[df['label']==281670204367]"
   ]
  },
  {
   "cell_type": "code",
   "execution_count": 25,
   "id": "58f61c44-7b57-4e54-9e36-b290b1c78242",
   "metadata": {},
   "outputs": [
    {
     "data": {
      "text/html": [
       "<div>\n",
       "<style scoped>\n",
       "    .dataframe tbody tr th:only-of-type {\n",
       "        vertical-align: middle;\n",
       "    }\n",
       "\n",
       "    .dataframe tbody tr th {\n",
       "        vertical-align: top;\n",
       "    }\n",
       "\n",
       "    .dataframe thead th {\n",
       "        text-align: right;\n",
       "    }\n",
       "</style>\n",
       "<table border=\"1\" class=\"dataframe\">\n",
       "  <thead>\n",
       "    <tr style=\"text-align: right;\">\n",
       "      <th></th>\n",
       "      <th>image</th>\n",
       "      <th>label</th>\n",
       "      <th>fold</th>\n",
       "    </tr>\n",
       "  </thead>\n",
       "  <tbody>\n",
       "    <tr>\n",
       "      <th>7587</th>\n",
       "      <td>351097439926_1.JPG</td>\n",
       "      <td>351097439926</td>\n",
       "      <td>4</td>\n",
       "    </tr>\n",
       "    <tr>\n",
       "      <th>7963</th>\n",
       "      <td>351097439926_0.JPG</td>\n",
       "      <td>351097439926</td>\n",
       "      <td>4</td>\n",
       "    </tr>\n",
       "  </tbody>\n",
       "</table>\n",
       "</div>"
      ],
      "text/plain": [
       "                   image         label  fold\n",
       "7587  351097439926_1.JPG  351097439926     4\n",
       "7963  351097439926_0.JPG  351097439926     4"
      ]
     },
     "execution_count": 25,
     "metadata": {},
     "output_type": "execute_result"
    }
   ],
   "source": [
    "df[df['label']==351097439926]"
   ]
  },
  {
   "cell_type": "code",
   "execution_count": null,
   "id": "d7a20617-c69b-477c-a653-ce7c92b73789",
   "metadata": {},
   "outputs": [],
   "source": []
  },
  {
   "cell_type": "code",
   "execution_count": 31,
   "id": "8fdd1802-5528-4306-a99c-e2a32d8ae9cd",
   "metadata": {},
   "outputs": [
    {
     "data": {
      "text/plain": [
       "((6650, 3), (1663, 3))"
      ]
     },
     "execution_count": 31,
     "metadata": {},
     "output_type": "execute_result"
    }
   ],
   "source": [
    "df_train = df[df['fold']!=4]\n",
    "df_test = df[df['fold']==4]\n",
    "df_train.shape, df_test.shape"
   ]
  },
  {
   "cell_type": "code",
   "execution_count": 39,
   "id": "8962efc5-7ce8-4fb0-af5d-6f594b351885",
   "metadata": {},
   "outputs": [
    {
     "data": {
      "text/plain": [
       "(918, 230)"
      ]
     },
     "execution_count": 39,
     "metadata": {},
     "output_type": "execute_result"
    }
   ],
   "source": [
    "df_train['label'].nunique(), df_test['label'].nunique()"
   ]
  },
  {
   "cell_type": "code",
   "execution_count": 37,
   "id": "e1748556-bf02-4063-8f3e-08d3830c40f5",
   "metadata": {},
   "outputs": [
    {
     "data": {
      "text/plain": [
       "230"
      ]
     },
     "execution_count": 37,
     "metadata": {},
     "output_type": "execute_result"
    }
   ],
   "source": [
    "# test dataのみにあるID\n",
    "outsample_ids = list(set(df_test['label']) - set(df_train['label']))\n",
    "len(outsample_ids)\n",
    "# 全てユニーク"
   ]
  },
  {
   "cell_type": "code",
   "execution_count": 45,
   "id": "bae34025-987f-43f2-95b5-969cd6a3a2ed",
   "metadata": {},
   "outputs": [],
   "source": [
    "df_train.to_csv('tmp/train.csv', index=False)\n",
    "df_test.to_csv('tmp/test.csv', index=False)"
   ]
  },
  {
   "cell_type": "code",
   "execution_count": null,
   "id": "9651e2eb-42d3-441b-aeee-6f0813afc525",
   "metadata": {},
   "outputs": [],
   "source": []
  }
 ],
 "metadata": {
  "kernelspec": {
   "display_name": "Python 3 (ipykernel)",
   "language": "python",
   "name": "python3"
  },
  "language_info": {
   "codemirror_mode": {
    "name": "ipython",
    "version": 3
   },
   "file_extension": ".py",
   "mimetype": "text/x-python",
   "name": "python",
   "nbconvert_exporter": "python",
   "pygments_lexer": "ipython3",
   "version": "3.10.14"
  }
 },
 "nbformat": 4,
 "nbformat_minor": 5
}
