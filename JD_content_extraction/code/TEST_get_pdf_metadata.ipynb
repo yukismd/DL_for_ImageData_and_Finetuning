{
 "cells": [
  {
   "cell_type": "markdown",
   "id": "e1b62d86-a963-424b-b7c3-d951fab72638",
   "metadata": {},
   "source": [
    "PDFが作成された日時の取得 -> 移動などした更新日の取得はできるが、作成された日の取得は出来なさそう"
   ]
  },
  {
   "cell_type": "code",
   "execution_count": 5,
   "id": "748f2b5f-06ee-42c2-9718-2f16a8d3a831",
   "metadata": {},
   "outputs": [
    {
     "name": "stdout",
     "output_type": "stream",
     "text": [
      "AWS - Sr. Generative AI Specialist, Generative AI Innovation Center.pdf\n",
      "Digital BCG - Data Scientist.pdf\n",
      "Eli Lilly - Data Scientist, Global Report.pdf\n",
      "Money Forward - AI Soultions Engineer.pdf\n",
      "OpenAI - Principal Solutions Engineer – Japan.pdf\n",
      "Robust Intelligence - Machine Learning Engineer.pdf\n"
     ]
    }
   ],
   "source": [
    "!ls ../JDs"
   ]
  },
  {
   "cell_type": "code",
   "execution_count": 19,
   "id": "517b57ac-4432-498a-98a4-0bbf0a4c95b4",
   "metadata": {},
   "outputs": [],
   "source": [
    "import os\n",
    "import datetime"
   ]
  },
  {
   "cell_type": "code",
   "execution_count": 20,
   "id": "7119aa27-2524-4269-bf9c-fcb3d16083d6",
   "metadata": {},
   "outputs": [
    {
     "data": {
      "text/plain": [
       "os.stat_result(st_mode=33188, st_ino=165726053, st_dev=16777220, st_nlink=1, st_uid=501, st_gid=20, st_size=165479, st_atime=1741826725, st_mtime=1741824767, st_ctime=1741826723)"
      ]
     },
     "execution_count": 20,
     "metadata": {},
     "output_type": "execute_result"
    }
   ],
   "source": [
    "os.stat('../JDs/Money Forward - AI Soultions Engineer.pdf')"
   ]
  },
  {
   "cell_type": "code",
   "execution_count": 22,
   "id": "d5def1ca-5979-42eb-990c-c93787a5185c",
   "metadata": {},
   "outputs": [
    {
     "data": {
      "text/plain": [
       "datetime.datetime(2025, 3, 13, 9, 45, 23, 816516)"
      ]
     },
     "execution_count": 22,
     "metadata": {},
     "output_type": "execute_result"
    }
   ],
   "source": [
    "datetime.datetime.fromtimestamp(os.stat('../JDs/Money Forward - AI Soultions Engineer.pdf').st_ctime)"
   ]
  },
  {
   "cell_type": "code",
   "execution_count": 23,
   "id": "86b68abc-e8f3-4342-8314-045246012310",
   "metadata": {},
   "outputs": [
    {
     "data": {
      "text/plain": [
       "datetime.datetime(2025, 3, 13, 9, 40, 48, 32961)"
      ]
     },
     "execution_count": 23,
     "metadata": {},
     "output_type": "execute_result"
    }
   ],
   "source": [
    "datetime.datetime.fromtimestamp(os.stat('../JDs/Digital BCG - Data Scientist.pdf').st_ctime)"
   ]
  },
  {
   "cell_type": "code",
   "execution_count": null,
   "id": "be4a6174-e412-4651-8ac5-710299e79f75",
   "metadata": {},
   "outputs": [],
   "source": []
  },
  {
   "cell_type": "code",
   "execution_count": 12,
   "id": "9720a8af-9b6a-4960-9d91-a00ebf558427",
   "metadata": {},
   "outputs": [
    {
     "name": "stdout",
     "output_type": "stream",
     "text": [
      "kMDItemFSCreationDate = 2025-03-13 00:12:47 +0000\n"
     ]
    }
   ],
   "source": [
    "import subprocess\n",
    "\n",
    "file_path = \"../JDs/Money Forward - AI Soultions Engineer.pdf\"\n",
    "result = subprocess.run([\"mdls\", \"-name\", \"kMDItemFSCreationDate\", file_path], capture_output=True, text=True)\n",
    "\n",
    "print(result.stdout.strip())  # 作成日時が表示される"
   ]
  },
  {
   "cell_type": "code",
   "execution_count": 13,
   "id": "d8b4d38c-d72a-48c5-a9cb-424eb0723172",
   "metadata": {},
   "outputs": [
    {
     "name": "stdout",
     "output_type": "stream",
     "text": [
      "kMDItemFSCreationDate = 2025-03-06 05:31:02 +0000\n"
     ]
    }
   ],
   "source": [
    "file_path = \"../JDs/Digital BCG - Data Scientist.pdf\"\n",
    "result = subprocess.run([\"mdls\", \"-name\", \"kMDItemFSCreationDate\", file_path], capture_output=True, text=True)\n",
    "\n",
    "print(result.stdout.strip())  # 作成日時が表示される"
   ]
  },
  {
   "cell_type": "code",
   "execution_count": 15,
   "id": "3157312d-ce8b-4151-bc56-bb93b437cc0a",
   "metadata": {},
   "outputs": [
    {
     "name": "stdout",
     "output_type": "stream",
     "text": [
      "kMDItemFSCreationDate = 2025-03-06 05:23:15 +0000\n"
     ]
    }
   ],
   "source": [
    "file_path = \"../JDs/OpenAI - Principal Solutions Engineer – Japan.pdf\"\n",
    "result = subprocess.run([\"mdls\", \"-name\", \"kMDItemFSCreationDate\", file_path], capture_output=True, text=True)\n",
    "\n",
    "print(result.stdout.strip())  # 作成日時が表示される"
   ]
  },
  {
   "cell_type": "code",
   "execution_count": null,
   "id": "e845f914-0c84-4cee-af85-7643b3653448",
   "metadata": {},
   "outputs": [],
   "source": []
  }
 ],
 "metadata": {
  "kernelspec": {
   "display_name": "Python [conda env:llm] *",
   "language": "python",
   "name": "conda-env-llm-py"
  },
  "language_info": {
   "codemirror_mode": {
    "name": "ipython",
    "version": 3
   },
   "file_extension": ".py",
   "mimetype": "text/x-python",
   "name": "python",
   "nbconvert_exporter": "python",
   "pygments_lexer": "ipython3",
   "version": "3.10.16"
  }
 },
 "nbformat": 4,
 "nbformat_minor": 5
}
